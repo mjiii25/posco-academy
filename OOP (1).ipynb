{
 "cells": [
  {
   "cell_type": "markdown",
   "metadata": {
    "colab_type": "text",
    "id": "view-in-github"
   },
   "source": [
    "<a href=\"https://colab.research.google.com/github/mjiii25/posco-academy/blob/main/OOP.ipynb\" target=\"_parent\"><img src=\"https://colab.research.google.com/assets/colab-badge.svg\" alt=\"Open In Colab\"/></a>"
   ]
  },
  {
   "cell_type": "code",
   "execution_count": 1,
   "metadata": {
    "id": "RfMf0wllRFYo"
   },
   "outputs": [],
   "source": [
    "class Dog :\n",
    "    name = \"MongJa\"\n",
    "\n",
    "    def bark(self) :\n",
    "        return 'wal' 'wal'"
   ]
  },
  {
   "cell_type": "code",
   "execution_count": 2,
   "metadata": {
    "id": "QeGcNzVkVemK"
   },
   "outputs": [],
   "source": [
    "dog1 = Dog()"
   ]
  },
  {
   "cell_type": "code",
   "execution_count": 3,
   "metadata": {
    "colab": {
     "base_uri": "https://localhost:8080/",
     "height": 35
    },
    "id": "9IRPkuZ8VjuP",
    "outputId": "06069172-b9d5-4fcd-d6a2-b783dd9d005c"
   },
   "outputs": [
    {
     "data": {
      "application/vnd.google.colaboratory.intrinsic+json": {
       "type": "string"
      },
      "text/plain": [
       "'walwal'"
      ]
     },
     "execution_count": 3,
     "metadata": {},
     "output_type": "execute_result"
    }
   ],
   "source": [
    "dog1.bark()"
   ]
  },
  {
   "cell_type": "code",
   "execution_count": 5,
   "metadata": {
    "id": "rCD-dtzQVoUU"
   },
   "outputs": [],
   "source": [
    "dog1.age = 2"
   ]
  },
  {
   "cell_type": "code",
   "execution_count": 6,
   "metadata": {
    "colab": {
     "base_uri": "https://localhost:8080/"
    },
    "id": "PPJ_hkAUVu7n",
    "outputId": "2b5cca8f-80e7-4924-97ed-ffae94b0c63b"
   },
   "outputs": [
    {
     "data": {
      "text/plain": [
       "2"
      ]
     },
     "execution_count": 6,
     "metadata": {},
     "output_type": "execute_result"
    }
   ],
   "source": [
    "dog1.age"
   ]
  },
  {
   "cell_type": "code",
   "execution_count": 7,
   "metadata": {
    "id": "Tm9qBg38VyMV"
   },
   "outputs": [],
   "source": [
    "dog1 = Dog()"
   ]
  },
  {
   "cell_type": "code",
   "execution_count": 8,
   "metadata": {
    "colab": {
     "base_uri": "https://localhost:8080/",
     "height": 35
    },
    "id": "f8WaMpBSWQpI",
    "outputId": "2938aef1-4ef8-4f09-a907-ff6622a934c5"
   },
   "outputs": [
    {
     "data": {
      "application/vnd.google.colaboratory.intrinsic+json": {
       "type": "string"
      },
      "text/plain": [
       "'walwal'"
      ]
     },
     "execution_count": 8,
     "metadata": {},
     "output_type": "execute_result"
    }
   ],
   "source": [
    "dog1.bark()"
   ]
  },
  {
   "cell_type": "code",
   "execution_count": 9,
   "metadata": {
    "id": "PFGhkAtnWSen"
   },
   "outputs": [],
   "source": [
    "class Sample :\n",
    "    def __init__(self) :\n",
    "        print(\"init 함수가 호출되었네요!\")"
   ]
  },
  {
   "cell_type": "code",
   "execution_count": 10,
   "metadata": {
    "colab": {
     "base_uri": "https://localhost:8080/"
    },
    "id": "W7f0cKVMWexi",
    "outputId": "e18c2826-d8c7-43c6-cb5c-b1478bc547e6"
   },
   "outputs": [
    {
     "name": "stdout",
     "output_type": "stream",
     "text": [
      "init 함수가 호출되었네요!\n"
     ]
    }
   ],
   "source": [
    "a = Sample()"
   ]
  },
  {
   "cell_type": "code",
   "execution_count": 11,
   "metadata": {
    "id": "zgHr49MrWijo"
   },
   "outputs": [],
   "source": [
    "class Building :\n",
    "    def __init__(self, name = \"공학1동\", h = 3, elev = True) :\n",
    "        self.name = name\n",
    "        self.h = h\n",
    "        self.elev = elev\n",
    "\n",
    "    def get_info(self) :\n",
    "        print(\"건물이름=\", self.name)\n",
    "        print(\"건물층수=\", self.h)\n",
    "        print(\"엘레베이터 유무=\", self.elev)"
   ]
  },
  {
   "cell_type": "code",
   "execution_count": 12,
   "metadata": {
    "id": "CGy9TKVrW4I-"
   },
   "outputs": [],
   "source": [
    "a = Building()"
   ]
  },
  {
   "cell_type": "code",
   "execution_count": 13,
   "metadata": {
    "colab": {
     "base_uri": "https://localhost:8080/"
    },
    "id": "cnf6IL_QXDAg",
    "outputId": "1bad7475-9990-42b8-e011-caf879444166"
   },
   "outputs": [
    {
     "name": "stdout",
     "output_type": "stream",
     "text": [
      "건물이름= 공학1동\n",
      "건물층수= 3\n",
      "엘레베이터 유무= True\n"
     ]
    }
   ],
   "source": [
    "a.get_info()"
   ]
  },
  {
   "cell_type": "code",
   "execution_count": 54,
   "metadata": {
    "id": "hY_18-TVXF6p"
   },
   "outputs": [
    {
     "ename": "IndentationError",
     "evalue": "expected an indented block (2434655592.py, line 100)",
     "output_type": "error",
     "traceback": [
      "\u001b[0;36m  Input \u001b[0;32mIn [54]\u001b[0;36m\u001b[0m\n\u001b[0;31m    \u001b[0m\n\u001b[0m    ^\u001b[0m\n\u001b[0;31mIndentationError\u001b[0m\u001b[0;31m:\u001b[0m expected an indented block\n"
     ]
    }
   ],
   "source": [
    "class Set :\n",
    "\n",
    "    \n",
    "    def __init__(self, lst = []) :\n",
    "        self.lst = []\n",
    "\n",
    "        \n",
    "        \n",
    "    def add(self, elem) :\n",
    "        if elem not in self.lst :\n",
    "            self.lst.append(elem)\n",
    "\n",
    "            \n",
    "            \n",
    "    def discard(self, elem) :\n",
    "        if elem in self.lst :\n",
    "            self.lst.remove(elem)\n",
    "\n",
    "            \n",
    "            \n",
    "    def clear(self) :\n",
    "        self.lst = []\n",
    "\n",
    "        \n",
    "        \n",
    "    def __len__(self) :\n",
    "        return len(self.lst)\n",
    "\n",
    "\n",
    "    \n",
    "    \n",
    "    def __str__(self) :\n",
    "        return '{' + map(str(self.lst) + '}'\n",
    "\n",
    "        ', '.join(list(map(str, self.elist)))\n",
    "    \n",
    "    \n",
    "    def __contains__(self, elem) :\n",
    "        if elem in self.lst :\n",
    "            return True\n",
    "        else :\n",
    "            return False\n",
    "\n",
    "        \n",
    "        \n",
    "    def __le__(self, other) :\n",
    "        for x in self.lst :\n",
    "            if x not in other.lst :\n",
    "                return False\n",
    "            else :\n",
    "                return True\n",
    "            \n",
    "    \n",
    "    \n",
    "    def __ge__(self, other) :\n",
    "        for x in other.lst :\n",
    "            if x not in self.lst :\n",
    "                return False\n",
    "            else :\n",
    "                return True\n",
    "                \n",
    "                \n",
    "        \n",
    "    def __or__(self, other) :\n",
    "        new = self.lst.copy()\n",
    "        for x in other.lst :\n",
    "            if x not in new :\n",
    "                new.append(x)\n",
    "        return Set(new)\n",
    "    \n",
    "\n",
    "        \n",
    "        \n",
    "    def __and__(self, other) :\n",
    "        new = []\n",
    "        for x in other.lst :\n",
    "            if x in self.lst :\n",
    "                new.append(x)\n",
    "        return Set(new)\n",
    "    \n",
    "    \n",
    "    \n",
    "    \n",
    "    def __sub__(self, other) :\n",
    "        new = []\n",
    "        for x in self.lst :\n",
    "            if x not in other.lst :\n",
    "                new.append(x)\n",
    "        return Set(new)\n",
    "    \n",
    "    \n",
    "    \n",
    "    def __ior__(self, other) :\n",
    "        \n",
    "    \n",
    "    \n",
    "    \n",
    "    \n",
    "    \n",
    "    "
   ]
  },
  {
   "cell_type": "code",
   "execution_count": 55,
   "metadata": {
    "colab": {
     "base_uri": "https://localhost:8080/",
     "height": 354
    },
    "id": "iS33HpCjcnlu",
    "outputId": "b79c35af-42bb-4a1b-ed71-6bfe751396fd"
   },
   "outputs": [
    {
     "name": "stdout",
     "output_type": "stream",
     "text": [
      "{1, 2, 3, 4}\n",
      "{1, 2, 3, 4}\n",
      "\n",
      "{1, 2, 3}\n",
      "{2, 3, 4}\n",
      "\n",
      "3\n",
      "True\n",
      "False\n",
      "\n"
     ]
    },
    {
     "ename": "AttributeError",
     "evalue": "'set' object has no attribute 'append'",
     "output_type": "error",
     "traceback": [
      "\u001b[0;31m---------------------------------------------------------------------------\u001b[0m",
      "\u001b[0;31mAttributeError\u001b[0m                            Traceback (most recent call last)",
      "Input \u001b[0;32mIn [55]\u001b[0m, in \u001b[0;36m<cell line: 19>\u001b[0;34m()\u001b[0m\n\u001b[1;32m     16\u001b[0m \u001b[38;5;28mprint\u001b[39m(\u001b[38;5;241m1\u001b[39m \u001b[38;5;129;01min\u001b[39;00m b)\n\u001b[1;32m     17\u001b[0m \u001b[38;5;28mprint\u001b[39m()\n\u001b[0;32m---> 19\u001b[0m \u001b[38;5;28mprint\u001b[39m(\u001b[43ma\u001b[49m\u001b[43m \u001b[49m\u001b[38;5;241;43m|\u001b[39;49m\u001b[43m \u001b[49m\u001b[43mb\u001b[49m)\n\u001b[1;32m     20\u001b[0m \u001b[38;5;28mprint\u001b[39m(a \u001b[38;5;241m&\u001b[39m b)\n\u001b[1;32m     21\u001b[0m \u001b[38;5;28mprint\u001b[39m(a \u001b[38;5;241m-\u001b[39m b)\n",
      "Input \u001b[0;32mIn [51]\u001b[0m, in \u001b[0;36mSet.__or__\u001b[0;34m(self, other)\u001b[0m\n\u001b[1;32m     74\u001b[0m \u001b[38;5;28;01mfor\u001b[39;00m i \u001b[38;5;129;01min\u001b[39;00m other\u001b[38;5;241m.\u001b[39mlst:\n\u001b[1;32m     75\u001b[0m     \u001b[38;5;28;01mif\u001b[39;00m i \u001b[38;5;129;01mnot\u001b[39;00m \u001b[38;5;129;01min\u001b[39;00m result:\n\u001b[0;32m---> 76\u001b[0m         \u001b[43mresult\u001b[49m\u001b[38;5;241;43m.\u001b[39;49m\u001b[43mappend\u001b[49m(i)\n\u001b[1;32m     77\u001b[0m \u001b[38;5;28;01mreturn\u001b[39;00m Set(result)\n",
      "\u001b[0;31mAttributeError\u001b[0m: 'set' object has no attribute 'append'"
     ]
    }
   ],
   "source": [
    "a = Set([1,2,3,4])\n",
    "b = Set([1,2,3,4])\n",
    "\n",
    "print(a)\n",
    "print(b)\n",
    "print()\n",
    "\n",
    "a.discard(4)\n",
    "b.discard(1)\n",
    "print(a)\n",
    "print(b)\n",
    "print()\n",
    "\n",
    "print(len(a))\n",
    "print(1 in a)\n",
    "print(1 in b)\n",
    "print()\n",
    "\n",
    "print(a | b)\n",
    "print(a & b)\n",
    "print(a - b)\n",
    "print()\n",
    "\n",
    "print(a <= b)\n",
    "print(a <= a | b)\n",
    "print(a >= b)\n",
    "print(a >= a & b)\n",
    "print()\n",
    "\n",
    "b.clear()\n",
    "print(b)\n",
    "print()"
   ]
  },
  {
   "cell_type": "code",
   "execution_count": 50,
   "metadata": {
    "id": "oBUAjiUtcnid"
   },
   "outputs": [
    {
     "ename": "AttributeError",
     "evalue": "'set' object has no attribute 'append'",
     "output_type": "error",
     "traceback": [
      "\u001b[0;31m---------------------------------------------------------------------------\u001b[0m",
      "\u001b[0;31mAttributeError\u001b[0m                            Traceback (most recent call last)",
      "Input \u001b[0;32mIn [50]\u001b[0m, in \u001b[0;36m<cell line: 4>\u001b[0;34m()\u001b[0m\n\u001b[1;32m      2\u001b[0m b \u001b[38;5;241m=\u001b[39m Set([\u001b[38;5;241m3\u001b[39m, \u001b[38;5;241m4\u001b[39m])\n\u001b[1;32m      3\u001b[0m address_a \u001b[38;5;241m=\u001b[39m \u001b[38;5;28mid\u001b[39m(a)\n\u001b[0;32m----> 4\u001b[0m a \u001b[38;5;241m|\u001b[39m\u001b[38;5;241m=\u001b[39m b\n\u001b[1;32m      5\u001b[0m \u001b[38;5;28mprint\u001b[39m(a)\n\u001b[1;32m      6\u001b[0m \u001b[38;5;28mprint\u001b[39m(address_a \u001b[38;5;241m==\u001b[39m \u001b[38;5;28mid\u001b[39m(a))\n",
      "Input \u001b[0;32mIn [48]\u001b[0m, in \u001b[0;36mSet.__or__\u001b[0;34m(self, other)\u001b[0m\n\u001b[1;32m     66\u001b[0m \u001b[38;5;28;01mfor\u001b[39;00m x \u001b[38;5;129;01min\u001b[39;00m other\u001b[38;5;241m.\u001b[39mlst :\n\u001b[1;32m     67\u001b[0m     \u001b[38;5;28;01mif\u001b[39;00m x \u001b[38;5;129;01mnot\u001b[39;00m \u001b[38;5;129;01min\u001b[39;00m new :\n\u001b[0;32m---> 68\u001b[0m         \u001b[43mnew\u001b[49m\u001b[38;5;241;43m.\u001b[39;49m\u001b[43mappend\u001b[49m(x)\n\u001b[1;32m     69\u001b[0m \u001b[38;5;28;01mreturn\u001b[39;00m Set(new)\n",
      "\u001b[0;31mAttributeError\u001b[0m: 'set' object has no attribute 'append'"
     ]
    }
   ],
   "source": [
    "a = Set([1, 2, 3])\n",
    "b = Set([3, 4])\n",
    "address_a = id(a)\n",
    "a |= b\n",
    "print(a)\n",
    "print(address_a == id(a))\n",
    "print()\n",
    "\n",
    "a = Set([1, 2, 3])\n",
    "b = Set([3, 4])\n",
    "address_a = id(a)\n",
    "a &= b\n",
    "print(a)\n",
    "print(address_a == id(a))\n",
    "print()\n",
    "\n",
    "a = Set([1, 2, 3])\n",
    "b = Set([3, 4])\n",
    "address_a = id(a)\n",
    "a -= b\n",
    "print(a)\n",
    "print(address_a == id(a))\n",
    "print()"
   ]
  },
  {
   "cell_type": "code",
   "execution_count": null,
   "metadata": {
    "id": "ONln343Wcnf4"
   },
   "outputs": [],
   "source": []
  },
  {
   "cell_type": "code",
   "execution_count": null,
   "metadata": {
    "id": "hoEHOCBScndJ"
   },
   "outputs": [],
   "source": []
  },
  {
   "cell_type": "code",
   "execution_count": null,
   "metadata": {
    "id": "OG9bnSUacnaM"
   },
   "outputs": [],
   "source": []
  },
  {
   "cell_type": "code",
   "execution_count": null,
   "metadata": {
    "id": "waEc76N-cnXa"
   },
   "outputs": [],
   "source": []
  }
 ],
 "metadata": {
  "colab": {
   "authorship_tag": "ABX9TyOn+YpxZoyMXZjPB3Z1vXFu",
   "include_colab_link": true,
   "name": "Untitled23.ipynb",
   "provenance": []
  },
  "kernelspec": {
   "display_name": "Python 3 (ipykernel)",
   "language": "python",
   "name": "python3"
  },
  "language_info": {
   "codemirror_mode": {
    "name": "ipython",
    "version": 3
   },
   "file_extension": ".py",
   "mimetype": "text/x-python",
   "name": "python",
   "nbconvert_exporter": "python",
   "pygments_lexer": "ipython3",
   "version": "3.9.12"
  }
 },
 "nbformat": 4,
 "nbformat_minor": 1
}
