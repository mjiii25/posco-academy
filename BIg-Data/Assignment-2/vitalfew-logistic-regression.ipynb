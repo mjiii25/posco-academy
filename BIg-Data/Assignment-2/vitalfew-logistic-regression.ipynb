{
  "cells": [
    {
      "cell_type": "markdown",
      "metadata": {
        "id": "view-in-github",
        "colab_type": "text"
      },
      "source": [
        "<a href=\"https://colab.research.google.com/github/mjiii25/posco-academy/blob/main/BIg-Data/Assignment-2/vitalfew-logistic-regression.ipynb\" target=\"_parent\"><img src=\"https://colab.research.google.com/assets/colab-badge.svg\" alt=\"Open In Colab\"/></a>"
      ]
    },
    {
      "cell_type": "markdown",
      "metadata": {
        "id": "3rry6F_KezwK"
      },
      "source": [
        "# 연습"
      ]
    },
    {
      "cell_type": "markdown",
      "metadata": {
        "id": "GYr5xIDxezwW"
      },
      "source": [
        "#### 패키지 불러오기"
      ]
    },
    {
      "cell_type": "code",
      "execution_count": null,
      "metadata": {
        "id": "pxr4-L6Gezwa"
      },
      "outputs": [],
      "source": [
        "# 데이터 구성:Series, DataFrame\n",
        "import pandas as pd\n",
        "# 행렬 연산\n",
        "import numpy as np\n",
        "# 데이터 시각화\n",
        "import matplotlib.pyplot as plt\n",
        "import matplotlib\n",
        "# scaling\n",
        "from sklearn.preprocessing import StandardScaler\n",
        "# 데이터 분할:train, test\n",
        "from sklearn.model_selection import train_test_split\n",
        "# 로지스틱 회귀\n",
        "from statsmodels.api import Logit\n",
        "# 분류모델 평가 함수\n",
        "from sklearn.metrics import accuracy_score, f1_score \n",
        "from sklearn.metrics import confusion_matrix, classification_report"
      ]
    },
    {
      "cell_type": "code",
      "execution_count": null,
      "metadata": {
        "id": "wPgYBVswezwg"
      },
      "outputs": [],
      "source": [
        "# 맑은 고딕 적용\n",
        "matplotlib.rc(\"font\", family = \"Malgun Gothic\")"
      ]
    },
    {
      "cell_type": "markdown",
      "metadata": {
        "id": "NwWQmhhxezwh"
      },
      "source": [
        "#### (공통)사용자 함수 "
      ]
    },
    {
      "cell_type": "code",
      "execution_count": null,
      "metadata": {
        "id": "2IMJniUyezwi"
      },
      "outputs": [],
      "source": [
        "def fun_data_layout(v_data):\n",
        "    print(\"Data 구조:\", v_data.shape)\n",
        "    print()\n",
        "    print(\"변수 : \", v_data.columns)\n",
        "    print()\n",
        "    #print(v_data.head()) <- Text format... 식별 불편\n",
        "    # v_data.head()  <- 직접 적용 안됨"
      ]
    },
    {
      "cell_type": "markdown",
      "metadata": {
        "id": "olQ45Pi-ezwk"
      },
      "source": [
        "## 데이터 구성하기"
      ]
    },
    {
      "cell_type": "code",
      "execution_count": null,
      "metadata": {
        "scrolled": true,
        "id": "NKmKNyA3ezwl",
        "outputId": "e56ffea4-1892-48c9-fac9-85d221ea7b3e"
      },
      "outputs": [
        {
          "name": "stdout",
          "output_type": "stream",
          "text": [
            "<class 'pandas.core.frame.DataFrame'>\n",
            "RangeIndex: 720 entries, 0 to 719\n",
            "Data columns (total 21 columns):\n",
            " #   Column             Non-Null Count  Dtype  \n",
            "---  ------             --------------  -----  \n",
            " 0   PLATE_NO           720 non-null    object \n",
            " 1   ROLLING_DATE       720 non-null    object \n",
            " 2   SCALE              720 non-null    object \n",
            " 3   SPEC               720 non-null    object \n",
            " 4   STEEL_KIND         720 non-null    object \n",
            " 5   PT_THICK           720 non-null    float64\n",
            " 6   PT_WIDTH           720 non-null    int64  \n",
            " 7   PT_LENGTH          720 non-null    int64  \n",
            " 8   PT_WEIGHT          720 non-null    int64  \n",
            " 9   FUR_NO             720 non-null    object \n",
            " 10  FUR_NO_ROW         720 non-null    object \n",
            " 11  FUR_HZ_TEMP        720 non-null    int64  \n",
            " 12  FUR_HZ_TIME        720 non-null    int64  \n",
            " 13  FUR_SZ_TEMP        720 non-null    int64  \n",
            " 14  FUR_SZ_TIME        720 non-null    int64  \n",
            " 15  FUR_TIME           720 non-null    int64  \n",
            " 16  FUR_EXTEMP         720 non-null    int64  \n",
            " 17  ROLLING_TEMP_T5    720 non-null    int64  \n",
            " 18  HSB                720 non-null    object \n",
            " 19  ROLLING_DESCALING  720 non-null    int64  \n",
            " 20  WORK_GR            720 non-null    object \n",
            "dtypes: float64(1), int64(11), object(9)\n",
            "memory usage: 118.2+ KB\n"
          ]
        }
      ],
      "source": [
        "df_raw = pd.read_csv(\"SCALE불량.csv\",encoding='euc-kr')\n",
        "df_raw.info()"
      ]
    },
    {
      "cell_type": "code",
      "execution_count": null,
      "metadata": {
        "scrolled": true,
        "id": "Aejrz0FTezwq",
        "outputId": "15084ca7-c794-43fc-ebaf-03bdc0700058"
      },
      "outputs": [
        {
          "name": "stdout",
          "output_type": "stream",
          "text": [
            "Data 구조: (720, 21)\n",
            "\n",
            "변수 :  Index(['PLATE_NO', 'ROLLING_DATE', 'SCALE', 'SPEC', 'STEEL_KIND', 'PT_THICK',\n",
            "       'PT_WIDTH', 'PT_LENGTH', 'PT_WEIGHT', 'FUR_NO', 'FUR_NO_ROW',\n",
            "       'FUR_HZ_TEMP', 'FUR_HZ_TIME', 'FUR_SZ_TEMP', 'FUR_SZ_TIME', 'FUR_TIME',\n",
            "       'FUR_EXTEMP', 'ROLLING_TEMP_T5', 'HSB', 'ROLLING_DESCALING', 'WORK_GR'],\n",
            "      dtype='object')\n",
            "\n"
          ]
        }
      ],
      "source": [
        "# Data 구조 확인\n",
        "fun_data_layout(df_raw)"
      ]
    },
    {
      "cell_type": "code",
      "execution_count": null,
      "metadata": {
        "id": "K74SxSxuezwt",
        "outputId": "fb8020dc-d1da-420c-aba8-8317cf93c84a"
      },
      "outputs": [
        {
          "data": {
            "text/plain": [
              "양품    489\n",
              "불량    231\n",
              "Name: SCALE, dtype: int64"
            ]
          },
          "execution_count": 63,
          "metadata": {},
          "output_type": "execute_result"
        }
      ],
      "source": [
        "# job 범주 보기 : 기준 범주는 Mgr\n",
        "df_raw[\"SCALE\"].value_counts()"
      ]
    },
    {
      "cell_type": "code",
      "execution_count": null,
      "metadata": {
        "id": "4m5m3bRfezww",
        "outputId": "6f71e0b1-96ac-4f30-8da0-9b0ca2901e0f"
      },
      "outputs": [
        {
          "name": "stdout",
          "output_type": "stream",
          "text": [
            "<class 'pandas.core.frame.DataFrame'>\n",
            "RangeIndex: 720 entries, 0 to 719\n",
            "Data columns (total 21 columns):\n",
            " #   Column             Non-Null Count  Dtype  \n",
            "---  ------             --------------  -----  \n",
            " 0   PLATE_NO           720 non-null    object \n",
            " 1   ROLLING_DATE       720 non-null    object \n",
            " 2   SCALE              720 non-null    object \n",
            " 3   SPEC               720 non-null    object \n",
            " 4   STEEL_KIND         720 non-null    object \n",
            " 5   PT_THICK           720 non-null    float64\n",
            " 6   PT_WIDTH           720 non-null    int64  \n",
            " 7   PT_LENGTH          720 non-null    int64  \n",
            " 8   PT_WEIGHT          720 non-null    int64  \n",
            " 9   FUR_NO             720 non-null    object \n",
            " 10  FUR_NO_ROW         720 non-null    object \n",
            " 11  FUR_HZ_TEMP        720 non-null    int64  \n",
            " 12  FUR_HZ_TIME        720 non-null    int64  \n",
            " 13  FUR_SZ_TEMP        720 non-null    int64  \n",
            " 14  FUR_SZ_TIME        720 non-null    int64  \n",
            " 15  FUR_TIME           720 non-null    int64  \n",
            " 16  FUR_EXTEMP         720 non-null    int64  \n",
            " 17  ROLLING_TEMP_T5    720 non-null    int64  \n",
            " 18  HSB                720 non-null    object \n",
            " 19  ROLLING_DESCALING  720 non-null    int64  \n",
            " 20  WORK_GR            720 non-null    object \n",
            "dtypes: float64(1), int64(11), object(9)\n",
            "memory usage: 118.2+ KB\n"
          ]
        }
      ],
      "source": [
        "df_raw.describe()\n",
        "df_raw.info()"
      ]
    },
    {
      "cell_type": "markdown",
      "metadata": {
        "id": "Nr5HU58Kezwz"
      },
      "source": [
        "## 데이터 전처리"
      ]
    },
    {
      "cell_type": "markdown",
      "metadata": {
        "id": "E3t3URwEezw0"
      },
      "source": [
        "#### 결측치 처리"
      ]
    },
    {
      "cell_type": "code",
      "execution_count": null,
      "metadata": {
        "id": "UR8UTDBJezw1",
        "outputId": "98b7221e-43b9-46a0-97a4-3507543ad375"
      },
      "outputs": [
        {
          "data": {
            "text/plain": [
              "PLATE_NO             0\n",
              "ROLLING_DATE         0\n",
              "SCALE                0\n",
              "SPEC                 0\n",
              "STEEL_KIND           0\n",
              "PT_THICK             0\n",
              "PT_WIDTH             0\n",
              "PT_LENGTH            0\n",
              "PT_WEIGHT            0\n",
              "FUR_NO               0\n",
              "FUR_NO_ROW           0\n",
              "FUR_HZ_TEMP          0\n",
              "FUR_HZ_TIME          0\n",
              "FUR_SZ_TEMP          0\n",
              "FUR_SZ_TIME          0\n",
              "FUR_TIME             0\n",
              "FUR_EXTEMP           0\n",
              "ROLLING_TEMP_T5      0\n",
              "HSB                  0\n",
              "ROLLING_DESCALING    0\n",
              "WORK_GR              0\n",
              "dtype: int64"
            ]
          },
          "execution_count": 65,
          "metadata": {},
          "output_type": "execute_result"
        }
      ],
      "source": [
        "# 결측치 확인\n",
        "df_raw.isnull().sum(axis = 0)"
      ]
    },
    {
      "cell_type": "code",
      "execution_count": null,
      "metadata": {
        "id": "x-vkW06Fezw3",
        "outputId": "f4761093-fa63-496e-8768-19dc526f45a9"
      },
      "outputs": [
        {
          "name": "stderr",
          "output_type": "stream",
          "text": [
            "C:\\Users\\Public\\Documents\\ESTsoft\\CreatorTemp\\ipykernel_23512\\600601866.py:5: FutureWarning: Dropping of nuisance columns in DataFrame reductions (with 'numeric_only=None') is deprecated; in a future version this will raise TypeError.  Select only valid columns before calling the reduction.\n",
            "  df_raw.fillna(df_raw.mean(), inplace=True)\n"
          ]
        }
      ],
      "source": [
        "# fillna: 결측치 대체 함수\n",
        "# JOB 변수의 결측치는 \"Other\"로 대체, inplace: fillna 함수 적용 후 df_raw 데이터에 저장, False면 저장 안 함\n",
        "df_raw[\"SCALE\"].fillna(\"Other\", inplace = True)\n",
        "# 숫자형 변수의 결측치는 해당 변수의 평균값 입력: df_raw.mean() 각 변수별 평균 계산 후 결측치 대체\n",
        "df_raw.fillna(df_raw.mean(), inplace=True)"
      ]
    },
    {
      "cell_type": "markdown",
      "metadata": {
        "id": "SdFsFUbLezw5"
      },
      "source": [
        "#### 데이터 분할"
      ]
    },
    {
      "cell_type": "markdown",
      "metadata": {
        "id": "cII52z6mezw7"
      },
      "source": [
        "0.3으로 분할 했습니당"
      ]
    },
    {
      "cell_type": "markdown",
      "metadata": {
        "id": "wHv3NzPWezw8"
      },
      "source": [
        "## 로지스틱 회귀모델 및 회귀계수 검토"
      ]
    },
    {
      "cell_type": "code",
      "execution_count": null,
      "metadata": {
        "id": "JPDxzrm7ezw9"
      },
      "outputs": [],
      "source": [
        ""
      ]
    },
    {
      "cell_type": "code",
      "execution_count": null,
      "metadata": {
        "id": "PSopE571ezw-"
      },
      "outputs": [],
      "source": [
        "df_raw.loc[df_raw['SCALE'] == '불량', 'SCALE'] = 1\n",
        "df_raw.loc[df_raw['SCALE'] == '양품', 'SCALE'] = 0\n",
        "\n",
        "# 문자형 -> 숫자형으로 변경\n",
        "df_raw['SCALE'] = df_raw['SCALE'].astype(int)"
      ]
    },
    {
      "cell_type": "code",
      "execution_count": null,
      "metadata": {
        "id": "b2ieUvzsezxA",
        "outputId": "8396afaa-1722-417e-d978-75f1eb57b904"
      },
      "outputs": [
        {
          "data": {
            "text/plain": [
              "0    0\n",
              "1    0\n",
              "2    0\n",
              "3    0\n",
              "4    0\n",
              "Name: SCALE, dtype: int32"
            ]
          },
          "execution_count": 68,
          "metadata": {},
          "output_type": "execute_result"
        }
      ],
      "source": [
        "df_raw_x = df_raw.drop(\"SCALE\",axis = 1)\n",
        "df_raw_y = df_raw[\"SCALE\"]\n",
        "\n",
        "df_raw_y.head()"
      ]
    },
    {
      "cell_type": "code",
      "execution_count": null,
      "metadata": {
        "id": "fWNo7hB5ezxB"
      },
      "outputs": [],
      "source": [
        ""
      ]
    },
    {
      "cell_type": "code",
      "execution_count": null,
      "metadata": {
        "id": "wXX6XdvjezxC",
        "outputId": "70a1ba4e-8ea2-4e11-bdd3-8a5e7ed63e54"
      },
      "outputs": [
        {
          "name": "stdout",
          "output_type": "stream",
          "text": [
            "Optimization terminated successfully.\n",
            "         Current function value: 0.342804\n",
            "         Iterations 8\n",
            "                           Logit Regression Results                           \n",
            "==============================================================================\n",
            "Dep. Variable:                  SCALE   No. Observations:                  432\n",
            "Model:                          Logit   Df Residuals:                      419\n",
            "Method:                           MLE   Df Model:                           12\n",
            "Date:                Fri, 12 Aug 2022   Pseudo R-squ.:                  0.4512\n",
            "Time:                        22:28:25   Log-Likelihood:                -148.09\n",
            "converged:                       True   LL-Null:                       -269.86\n",
            "Covariance Type:            nonrobust   LLR p-value:                 3.028e-45\n",
            "=====================================================================================\n",
            "                        coef    std err          z      P>|z|      [0.025      0.975]\n",
            "-------------------------------------------------------------------------------------\n",
            "Intercept          -145.7000     23.539     -6.190      0.000    -191.836     -99.564\n",
            "PT_THICK              0.0450      0.026      1.699      0.089      -0.007       0.097\n",
            "PT_WIDTH             -0.0010      0.000     -2.379      0.017      -0.002      -0.000\n",
            "PT_LENGTH         -1.733e-05   2.77e-05     -0.627      0.531   -7.16e-05    3.69e-05\n",
            "PT_WEIGHT         -3.106e-06   7.16e-06     -0.434      0.664   -1.71e-05    1.09e-05\n",
            "FUR_HZ_TEMP          -0.0038      0.013     -0.289      0.772      -0.030       0.022\n",
            "FUR_HZ_TIME           0.0099      0.005      1.977      0.048    8.31e-05       0.020\n",
            "FUR_SZ_TEMP           0.1042      0.054      1.915      0.055      -0.002       0.211\n",
            "FUR_SZ_TIME           0.0094      0.010      0.923      0.356      -0.011       0.029\n",
            "FUR_TIME             -0.0086      0.005     -1.738      0.082      -0.018       0.001\n",
            "FUR_EXTEMP            0.0097      0.047      0.207      0.836      -0.082       0.102\n",
            "ROLLING_TEMP_T5       0.0267      0.005      5.340      0.000       0.017       0.036\n",
            "ROLLING_DESCALING    -0.4896      0.194     -2.528      0.011      -0.869      -0.110\n",
            "=====================================================================================\n"
          ]
        }
      ],
      "source": [
        "# from_formula 함수를 이용하여 변수 역할 지정\n",
        "# 분석 대상 이벤트=“1”\n",
        "log_model = Logit.from_formula(\"\"\"SCALE ~ PT_THICK + PT_WIDTH + PT_LENGTH + PT_WEIGHT + FUR_HZ_TEMP + FUR_HZ_TIME + FUR_SZ_TEMP + FUR_SZ_TIME + FUR_TIME + FUR_EXTEMP + ROLLING_TEMP_T5 +  ROLLING_DESCALING \"\"\", df_train)\n",
        "# 적합\n",
        "log_result = log_model.fit()\n",
        "\n",
        "# 결과 출력\n",
        "print(log_result.summary())\n"
      ]
    },
    {
      "cell_type": "markdown",
      "source": [
        "- PT_WIDTH, FUR_HZ_TIME, ROLLING_TEMP_T5, ROLLING_DESCALING이 유의확률 5% 하에서 유의한 회귀계수라고 판단된다.\n",
        "- 불량여부에 대해 각각 -0.1%, 0.99%, 2.67%, -4.896%의 영향을 미친다."
      ],
      "metadata": {
        "id": "Jdkenk_XfQJc"
      }
    },
    {
      "cell_type": "markdown",
      "metadata": {
        "id": "uBdq7O7SezxE"
      },
      "source": [
        "#### 예측"
      ]
    },
    {
      "cell_type": "code",
      "execution_count": null,
      "metadata": {
        "id": "FqDZDLeFezxF",
        "outputId": "096cc31c-2fdc-42c4-ade0-849843c098e8"
      },
      "outputs": [
        {
          "name": "stdout",
          "output_type": "stream",
          "text": [
            "Train 예측 결과 \n",
            " 217    1\n",
            "519    0\n",
            "719    0\n",
            "353    0\n",
            "676    1\n",
            "dtype: int32 \n",
            "\n",
            "Confusion Matrix: \n",
            "[[269  26]\n",
            " [ 38  99]] \n",
            "\n",
            "Test 예측 결과 \n",
            " 146    1\n",
            "131    1\n",
            "650    0\n",
            "613    1\n",
            "355    0\n",
            "dtype: int32 \n",
            "\n",
            "Confusion Matrix: \n",
            "[[163  31]\n",
            " [ 24  70]] \n",
            "\n"
          ]
        }
      ],
      "source": [
        "# train 데이터 예측\n",
        "y_pred_train = log_result.predict(df_train)\n",
        "# 0과 1의 값을 가진 class로 변환\n",
        "y_pred_train_class = (y_pred_train > 0.5).astype(int)\n",
        "print(\"Train 예측 결과 \\n\", y_pred_train_class.head(), \"\\n\")\n",
        "print(\"Confusion Matrix: \\n{}\".format(confusion_matrix(df_train[\"SCALE\"],y_pred_train_class)),\"\\n\")\n",
        "\n",
        "# test 데이터 예측\n",
        "y_pred_test = log_result.predict(df_test)\n",
        "# 0과 1의 값을 가진 class로 변환\n",
        "y_pred_test_class = (y_pred_test > 0.5).astype(int)\n",
        "print(\"Test 예측 결과 \\n\", y_pred_test_class.head(),\"\\n\")\n",
        "print(\"Confusion Matrix: \\n{}\".format(confusion_matrix(df_test[\"SCALE\"],y_pred_test_class)),\"\\n\")"
      ]
    },
    {
      "cell_type": "markdown",
      "metadata": {
        "id": "dkK5PLgIezxI"
      },
      "source": [
        "#### 평가"
      ]
    },
    {
      "cell_type": "code",
      "execution_count": null,
      "metadata": {
        "scrolled": false,
        "id": "B2Wjj1GYezxJ",
        "outputId": "5d340c0a-ab88-4a15-9e41-b4679fb629a1"
      },
      "outputs": [
        {
          "name": "stdout",
          "output_type": "stream",
          "text": [
            "Train 예측/분류 결과\n",
            "Accuracy: 0.852\n",
            "\n",
            "Confusion Matrix: \n",
            "[[269  26]\n",
            " [ 38  99]] \n",
            "\n",
            "              precision    recall  f1-score   support\n",
            "\n",
            "           0      0.876     0.912     0.894       295\n",
            "           1      0.792     0.723     0.756       137\n",
            "\n",
            "    accuracy                          0.852       432\n",
            "   macro avg      0.834     0.817     0.825       432\n",
            "weighted avg      0.850     0.852     0.850       432\n",
            "\n",
            "Test 예측/분류 결과\n",
            "Accuracy: 0.809\n",
            "\n",
            "Confusion Matrix: \n",
            "[[163  31]\n",
            " [ 24  70]] \n",
            "\n",
            "              precision    recall  f1-score   support\n",
            "\n",
            "           0      0.872     0.840     0.856       194\n",
            "           1      0.693     0.745     0.718        94\n",
            "\n",
            "    accuracy                          0.809       288\n",
            "   macro avg      0.782     0.792     0.787       288\n",
            "weighted avg      0.813     0.809     0.811       288\n",
            "\n"
          ]
        }
      ],
      "source": [
        "# 실제 train 데이터와 예측 결과 비교\n",
        "print(\"Train 예측/분류 결과\")\n",
        "print(\"Accuracy: {0:.3f}\\n\".format(accuracy_score(df_train[\"SCALE\"], y_pred_train_class)))\n",
        "print(\"Confusion Matrix: \\n{}\".format(confusion_matrix(df_train[\"SCALE\"],y_pred_train_class)),\"\\n\")\n",
        "print(classification_report(df_train[\"SCALE\"], y_pred_train_class, digits=3))\n",
        "\n",
        "# 실제 train 데이터와 예측 결과 비교\n",
        "print(\"Test 예측/분류 결과\")\n",
        "print(\"Accuracy: {0:.3f}\\n\".format(accuracy_score(df_test[\"SCALE\"], y_pred_test_class)))\n",
        "print(\"Confusion Matrix: \\n{}\".format(confusion_matrix(df_test[\"SCALE\"],y_pred_test_class)),\"\\n\")\n",
        "print(classification_report(df_test[\"SCALE\"], y_pred_test_class, digits=3))"
      ]
    },
    {
      "cell_type": "markdown",
      "metadata": {
        "id": "rlcLcuJ2ezxL"
      },
      "source": [
        "#### 목표변수 label 지정"
      ]
    },
    {
      "cell_type": "code",
      "execution_count": null,
      "metadata": {
        "id": "gnceJmEuezxM",
        "outputId": "df3db9b3-90c4-42b9-95ef-9e93749e9241"
      },
      "outputs": [
        {
          "name": "stdout",
          "output_type": "stream",
          "text": [
            "Train 예측/분류 결과\n",
            "              precision    recall  f1-score   support\n",
            "\n",
            "          불량      0.872     0.840     0.856       194\n",
            "          양품      0.693     0.745     0.718        94\n",
            "\n",
            "    accuracy                          0.809       288\n",
            "   macro avg      0.782     0.792     0.787       288\n",
            "weighted avg      0.813     0.809     0.811       288\n",
            "\n",
            "Test 예측/분류 결과\n",
            "              precision    recall  f1-score   support\n",
            "\n",
            "          불량      0.872     0.840     0.856       194\n",
            "          양품      0.693     0.745     0.718        94\n",
            "\n",
            "    accuracy                          0.809       288\n",
            "   macro avg      0.782     0.792     0.787       288\n",
            "weighted avg      0.813     0.809     0.811       288\n",
            "\n"
          ]
        }
      ],
      "source": [
        "# 목표변수의 빈도 불균형 : f1 score로 모델 평가 \n",
        "print(\"Train 예측/분류 결과\")\n",
        "# print(classification_report(df_test[\"BAD\"], y_pred_test_class, digits=3))\n",
        "print(classification_report(df_test[\"SCALE\"], y_pred_test_class, target_names=['불량', '양품'], digits=3))\n",
        "\n",
        "print(\"Test 예측/분류 결과\")\n",
        "# 목표변수의 빈도 불균형 : f1 score로 모델 평가 \n",
        "# print(classification_report(df_test[\"BAD\"], y_pred_test_class, digits=3))\n",
        "print(classification_report(df_test[\"SCALE\"], y_pred_test_class, target_names=['불량', '양품'], digits=3))"
      ]
    },
    {
      "cell_type": "markdown",
      "metadata": {
        "id": "BeM3WnDKezxO"
      },
      "source": [
        "## 결론 도출"
      ]
    },
    {
      "cell_type": "code",
      "execution_count": null,
      "metadata": {
        "scrolled": false,
        "id": "5PfrAN4HezxP",
        "outputId": "b2afd73e-1d5d-4a7b-f6b9-880e70bd2a45"
      },
      "outputs": [
        {
          "data": {
            "text/plain": [
              "<AxesSubplot:>"
            ]
          },
          "execution_count": 73,
          "metadata": {},
          "output_type": "execute_result"
        },
        {
          "name": "stderr",
          "output_type": "stream",
          "text": [
            "C:\\kangay\\lib\\site-packages\\IPython\\core\\pylabtools.py:151: UserWarning: Glyph 8722 (\\N{MINUS SIGN}) missing from current font.\n",
            "  fig.canvas.print_figure(bytes_io, **kw)\n"
          ]
        },
        {
          "data": {
            "image/png": "[encoded data removed]",
            "text/plain": [
              "<Figure size 432x288 with 1 Axes>"
            ]
          },
          "metadata": {
            "needs_background": "light"
          },
          "output_type": "display_data"
        }
      ],
      "source": [
        "# 설명변수 중요도\n",
        "df_logistic_coef = pd.DataFrame({\"Coef\": log_result.params.values[1:]}, index = log_model.exog_names[1:])\n",
        "df_logistic_coef.plot.barh(y = \"Coef\")"
      ]
    },
    {
      "cell_type": "markdown",
      "metadata": {
        "id": "qd3N3R61ezxQ"
      },
      "source": [
        "#### 표준화 회귀 계수"
      ]
    },
    {
      "cell_type": "code",
      "execution_count": null,
      "metadata": {
        "id": "2dpXEEU1ezxR",
        "outputId": "b9d74557-8b59-4dac-dd01-08917dcee89f"
      },
      "outputs": [
        {
          "data": {
            "text/html": [
              "<div>\n",
              "<style scoped>\n",
              "    .dataframe tbody tr th:only-of-type {\n",
              "        vertical-align: middle;\n",
              "    }\n",
              "\n",
              "    .dataframe tbody tr th {\n",
              "        vertical-align: top;\n",
              "    }\n",
              "\n",
              "    .dataframe thead th {\n",
              "        text-align: right;\n",
              "    }\n",
              "</style>\n",
              "<table border=\"1\" class=\"dataframe\">\n",
              "  <thead>\n",
              "    <tr style=\"text-align: right;\">\n",
              "      <th></th>\n",
              "      <th>SCALE</th>\n",
              "      <th>PT_THICK</th>\n",
              "      <th>PT_WIDTH</th>\n",
              "      <th>PT_LENGTH</th>\n",
              "      <th>PT_WEIGHT</th>\n",
              "      <th>FUR_HZ_TEMP</th>\n",
              "      <th>FUR_HZ_TIME</th>\n",
              "      <th>FUR_SZ_TEMP</th>\n",
              "      <th>FUR_SZ_TIME</th>\n",
              "      <th>FUR_TIME</th>\n",
              "      <th>...</th>\n",
              "      <th>ROLLING_TEMP_T5</th>\n",
              "      <th>ROLLING_DESCALING</th>\n",
              "      <th>PLATE_NO</th>\n",
              "      <th>ROLLING_DATE</th>\n",
              "      <th>SPEC</th>\n",
              "      <th>STEEL_KIND</th>\n",
              "      <th>FUR_NO</th>\n",
              "      <th>FUR_NO_ROW</th>\n",
              "      <th>HSB</th>\n",
              "      <th>WORK_GR</th>\n",
              "    </tr>\n",
              "  </thead>\n",
              "  <tbody>\n",
              "    <tr>\n",
              "      <th>0</th>\n",
              "      <td>-0.687308</td>\n",
              "      <td>0.155812</td>\n",
              "      <td>1.738951</td>\n",
              "      <td>-1.390441</td>\n",
              "      <td>-1.103810</td>\n",
              "      <td>-0.543782</td>\n",
              "      <td>0.767342</td>\n",
              "      <td>-0.949149</td>\n",
              "      <td>-0.626453</td>\n",
              "      <td>-0.409268</td>\n",
              "      <td>...</td>\n",
              "      <td>0.000734</td>\n",
              "      <td>-0.19693</td>\n",
              "      <td>PB562774</td>\n",
              "      <td>2021-08-01:08:00:01</td>\n",
              "      <td>AB/EH32-TM</td>\n",
              "      <td>T1</td>\n",
              "      <td>1호기</td>\n",
              "      <td>1열</td>\n",
              "      <td>적용</td>\n",
              "      <td>2조</td>\n",
              "    </tr>\n",
              "    <tr>\n",
              "      <th>1</th>\n",
              "      <td>-0.687308</td>\n",
              "      <td>0.155812</td>\n",
              "      <td>1.738951</td>\n",
              "      <td>-1.390441</td>\n",
              "      <td>-1.103810</td>\n",
              "      <td>-0.543782</td>\n",
              "      <td>0.932981</td>\n",
              "      <td>-0.835252</td>\n",
              "      <td>-0.856618</td>\n",
              "      <td>-0.387221</td>\n",
              "      <td>...</td>\n",
              "      <td>0.028567</td>\n",
              "      <td>-0.19693</td>\n",
              "      <td>PB562775</td>\n",
              "      <td>2021-08-01:08:07:11</td>\n",
              "      <td>AB/EH32-TM</td>\n",
              "      <td>T1</td>\n",
              "      <td>1호기</td>\n",
              "      <td>2열</td>\n",
              "      <td>적용</td>\n",
              "      <td>2조</td>\n",
              "    </tr>\n",
              "    <tr>\n",
              "      <th>2</th>\n",
              "      <td>-0.687308</td>\n",
              "      <td>0.209106</td>\n",
              "      <td>1.568896</td>\n",
              "      <td>-1.095771</td>\n",
              "      <td>-0.944112</td>\n",
              "      <td>-1.263141</td>\n",
              "      <td>0.767342</td>\n",
              "      <td>-1.632537</td>\n",
              "      <td>-0.779897</td>\n",
              "      <td>-0.409268</td>\n",
              "      <td>...</td>\n",
              "      <td>-0.416748</td>\n",
              "      <td>-0.19693</td>\n",
              "      <td>PB562776</td>\n",
              "      <td>2021-08-01:08:14:21</td>\n",
              "      <td>NV-E36-TM</td>\n",
              "      <td>T8</td>\n",
              "      <td>2호기</td>\n",
              "      <td>1열</td>\n",
              "      <td>적용</td>\n",
              "      <td>3조</td>\n",
              "    </tr>\n",
              "    <tr>\n",
              "      <th>3</th>\n",
              "      <td>-0.687308</td>\n",
              "      <td>0.209106</td>\n",
              "      <td>1.568896</td>\n",
              "      <td>-1.095771</td>\n",
              "      <td>-0.944112</td>\n",
              "      <td>-0.160124</td>\n",
              "      <td>1.015800</td>\n",
              "      <td>-1.290843</td>\n",
              "      <td>-0.281206</td>\n",
              "      <td>0.340311</td>\n",
              "      <td>...</td>\n",
              "      <td>-0.453858</td>\n",
              "      <td>-0.19693</td>\n",
              "      <td>PB562777</td>\n",
              "      <td>2021-08-01:08:21:31</td>\n",
              "      <td>NV-E36-TM</td>\n",
              "      <td>T8</td>\n",
              "      <td>2호기</td>\n",
              "      <td>2열</td>\n",
              "      <td>적용</td>\n",
              "      <td>3조</td>\n",
              "    </tr>\n",
              "    <tr>\n",
              "      <th>4</th>\n",
              "      <td>-0.687308</td>\n",
              "      <td>0.473482</td>\n",
              "      <td>0.562094</td>\n",
              "      <td>-1.518889</td>\n",
              "      <td>-1.174562</td>\n",
              "      <td>-0.735611</td>\n",
              "      <td>1.264257</td>\n",
              "      <td>-1.233894</td>\n",
              "      <td>-1.048422</td>\n",
              "      <td>0.296219</td>\n",
              "      <td>...</td>\n",
              "      <td>-0.565186</td>\n",
              "      <td>-0.19693</td>\n",
              "      <td>PB562778</td>\n",
              "      <td>2021-08-01:08:28:41</td>\n",
              "      <td>BV-EH36-TM</td>\n",
              "      <td>T8</td>\n",
              "      <td>3호기</td>\n",
              "      <td>1열</td>\n",
              "      <td>적용</td>\n",
              "      <td>1조</td>\n",
              "    </tr>\n",
              "  </tbody>\n",
              "</table>\n",
              "<p>5 rows × 21 columns</p>\n",
              "</div>"
            ],
            "text/plain": [
              "      SCALE  PT_THICK  PT_WIDTH  PT_LENGTH  PT_WEIGHT  FUR_HZ_TEMP  \\\n",
              "0 -0.687308  0.155812  1.738951  -1.390441  -1.103810    -0.543782   \n",
              "1 -0.687308  0.155812  1.738951  -1.390441  -1.103810    -0.543782   \n",
              "2 -0.687308  0.209106  1.568896  -1.095771  -0.944112    -1.263141   \n",
              "3 -0.687308  0.209106  1.568896  -1.095771  -0.944112    -0.160124   \n",
              "4 -0.687308  0.473482  0.562094  -1.518889  -1.174562    -0.735611   \n",
              "\n",
              "   FUR_HZ_TIME  FUR_SZ_TEMP  FUR_SZ_TIME  FUR_TIME  ...  ROLLING_TEMP_T5  \\\n",
              "0     0.767342    -0.949149    -0.626453 -0.409268  ...         0.000734   \n",
              "1     0.932981    -0.835252    -0.856618 -0.387221  ...         0.028567   \n",
              "2     0.767342    -1.632537    -0.779897 -0.409268  ...        -0.416748   \n",
              "3     1.015800    -1.290843    -0.281206  0.340311  ...        -0.453858   \n",
              "4     1.264257    -1.233894    -1.048422  0.296219  ...        -0.565186   \n",
              "\n",
              "   ROLLING_DESCALING  PLATE_NO         ROLLING_DATE        SPEC STEEL_KIND  \\\n",
              "0           -0.19693  PB562774  2021-08-01:08:00:01  AB/EH32-TM         T1   \n",
              "1           -0.19693  PB562775  2021-08-01:08:07:11  AB/EH32-TM         T1   \n",
              "2           -0.19693  PB562776  2021-08-01:08:14:21   NV-E36-TM         T8   \n",
              "3           -0.19693  PB562777  2021-08-01:08:21:31   NV-E36-TM         T8   \n",
              "4           -0.19693  PB562778  2021-08-01:08:28:41  BV-EH36-TM         T8   \n",
              "\n",
              "  FUR_NO FUR_NO_ROW HSB WORK_GR  \n",
              "0    1호기         1열  적용      2조  \n",
              "1    1호기         2열  적용      2조  \n",
              "2    2호기         1열  적용      3조  \n",
              "3    2호기         2열  적용      3조  \n",
              "4    3호기         1열  적용      1조  \n",
              "\n",
              "[5 rows x 21 columns]"
            ]
          },
          "execution_count": 74,
          "metadata": {},
          "output_type": "execute_result"
        }
      ],
      "source": [
        "# select_dtypes: 특정 변수 타입을 선택/제외하여 데이터 추출\n",
        "df_char = df_raw.select_dtypes(include = \"object\")\n",
        "df_numeric = df_raw.select_dtypes(exclude = \"object\")\n",
        "\n",
        "# Data Scaling\n",
        "scaler = StandardScaler()\n",
        "np_numeric_scaled = scaler.fit_transform(df_numeric)\n",
        "df_numeric_scaled = pd.DataFrame(np_numeric_scaled, columns = df_numeric.columns)\n",
        "\n",
        "# 문자 데이터 + 숫자 데이터\n",
        "df_scaled = pd.concat([df_numeric_scaled, df_char],axis = 1)\n",
        "df_scaled.head()"
      ]
    },
    {
      "cell_type": "code",
      "execution_count": null,
      "metadata": {
        "id": "uPBEG8AtezxS",
        "outputId": "6969400c-8490-4d7a-d7c0-8ded6b660bc8"
      },
      "outputs": [
        {
          "data": {
            "text/html": [
              "<div>\n",
              "<style scoped>\n",
              "    .dataframe tbody tr th:only-of-type {\n",
              "        vertical-align: middle;\n",
              "    }\n",
              "\n",
              "    .dataframe tbody tr th {\n",
              "        vertical-align: top;\n",
              "    }\n",
              "\n",
              "    .dataframe thead th {\n",
              "        text-align: right;\n",
              "    }\n",
              "</style>\n",
              "<table border=\"1\" class=\"dataframe\">\n",
              "  <thead>\n",
              "    <tr style=\"text-align: right;\">\n",
              "      <th></th>\n",
              "      <th>SCALE</th>\n",
              "      <th>PT_THICK</th>\n",
              "      <th>PT_WIDTH</th>\n",
              "      <th>PT_LENGTH</th>\n",
              "      <th>PT_WEIGHT</th>\n",
              "      <th>FUR_HZ_TEMP</th>\n",
              "      <th>FUR_HZ_TIME</th>\n",
              "      <th>FUR_SZ_TEMP</th>\n",
              "      <th>FUR_SZ_TIME</th>\n",
              "      <th>FUR_TIME</th>\n",
              "      <th>...</th>\n",
              "      <th>ROLLING_TEMP_T5</th>\n",
              "      <th>ROLLING_DESCALING</th>\n",
              "      <th>PLATE_NO</th>\n",
              "      <th>ROLLING_DATE</th>\n",
              "      <th>SPEC</th>\n",
              "      <th>STEEL_KIND</th>\n",
              "      <th>FUR_NO</th>\n",
              "      <th>FUR_NO_ROW</th>\n",
              "      <th>HSB</th>\n",
              "      <th>WORK_GR</th>\n",
              "    </tr>\n",
              "  </thead>\n",
              "  <tbody>\n",
              "    <tr>\n",
              "      <th>0</th>\n",
              "      <td>0</td>\n",
              "      <td>0.155812</td>\n",
              "      <td>1.738951</td>\n",
              "      <td>-1.390441</td>\n",
              "      <td>-1.103810</td>\n",
              "      <td>-0.543782</td>\n",
              "      <td>0.767342</td>\n",
              "      <td>-0.949149</td>\n",
              "      <td>-0.626453</td>\n",
              "      <td>-0.409268</td>\n",
              "      <td>...</td>\n",
              "      <td>0.000734</td>\n",
              "      <td>-0.19693</td>\n",
              "      <td>PB562774</td>\n",
              "      <td>2021-08-01:08:00:01</td>\n",
              "      <td>AB/EH32-TM</td>\n",
              "      <td>T1</td>\n",
              "      <td>1호기</td>\n",
              "      <td>1열</td>\n",
              "      <td>적용</td>\n",
              "      <td>2조</td>\n",
              "    </tr>\n",
              "    <tr>\n",
              "      <th>1</th>\n",
              "      <td>0</td>\n",
              "      <td>0.155812</td>\n",
              "      <td>1.738951</td>\n",
              "      <td>-1.390441</td>\n",
              "      <td>-1.103810</td>\n",
              "      <td>-0.543782</td>\n",
              "      <td>0.932981</td>\n",
              "      <td>-0.835252</td>\n",
              "      <td>-0.856618</td>\n",
              "      <td>-0.387221</td>\n",
              "      <td>...</td>\n",
              "      <td>0.028567</td>\n",
              "      <td>-0.19693</td>\n",
              "      <td>PB562775</td>\n",
              "      <td>2021-08-01:08:07:11</td>\n",
              "      <td>AB/EH32-TM</td>\n",
              "      <td>T1</td>\n",
              "      <td>1호기</td>\n",
              "      <td>2열</td>\n",
              "      <td>적용</td>\n",
              "      <td>2조</td>\n",
              "    </tr>\n",
              "    <tr>\n",
              "      <th>2</th>\n",
              "      <td>0</td>\n",
              "      <td>0.209106</td>\n",
              "      <td>1.568896</td>\n",
              "      <td>-1.095771</td>\n",
              "      <td>-0.944112</td>\n",
              "      <td>-1.263141</td>\n",
              "      <td>0.767342</td>\n",
              "      <td>-1.632537</td>\n",
              "      <td>-0.779897</td>\n",
              "      <td>-0.409268</td>\n",
              "      <td>...</td>\n",
              "      <td>-0.416748</td>\n",
              "      <td>-0.19693</td>\n",
              "      <td>PB562776</td>\n",
              "      <td>2021-08-01:08:14:21</td>\n",
              "      <td>NV-E36-TM</td>\n",
              "      <td>T8</td>\n",
              "      <td>2호기</td>\n",
              "      <td>1열</td>\n",
              "      <td>적용</td>\n",
              "      <td>3조</td>\n",
              "    </tr>\n",
              "    <tr>\n",
              "      <th>3</th>\n",
              "      <td>0</td>\n",
              "      <td>0.209106</td>\n",
              "      <td>1.568896</td>\n",
              "      <td>-1.095771</td>\n",
              "      <td>-0.944112</td>\n",
              "      <td>-0.160124</td>\n",
              "      <td>1.015800</td>\n",
              "      <td>-1.290843</td>\n",
              "      <td>-0.281206</td>\n",
              "      <td>0.340311</td>\n",
              "      <td>...</td>\n",
              "      <td>-0.453858</td>\n",
              "      <td>-0.19693</td>\n",
              "      <td>PB562777</td>\n",
              "      <td>2021-08-01:08:21:31</td>\n",
              "      <td>NV-E36-TM</td>\n",
              "      <td>T8</td>\n",
              "      <td>2호기</td>\n",
              "      <td>2열</td>\n",
              "      <td>적용</td>\n",
              "      <td>3조</td>\n",
              "    </tr>\n",
              "    <tr>\n",
              "      <th>4</th>\n",
              "      <td>0</td>\n",
              "      <td>0.473482</td>\n",
              "      <td>0.562094</td>\n",
              "      <td>-1.518889</td>\n",
              "      <td>-1.174562</td>\n",
              "      <td>-0.735611</td>\n",
              "      <td>1.264257</td>\n",
              "      <td>-1.233894</td>\n",
              "      <td>-1.048422</td>\n",
              "      <td>0.296219</td>\n",
              "      <td>...</td>\n",
              "      <td>-0.565186</td>\n",
              "      <td>-0.19693</td>\n",
              "      <td>PB562778</td>\n",
              "      <td>2021-08-01:08:28:41</td>\n",
              "      <td>BV-EH36-TM</td>\n",
              "      <td>T8</td>\n",
              "      <td>3호기</td>\n",
              "      <td>1열</td>\n",
              "      <td>적용</td>\n",
              "      <td>1조</td>\n",
              "    </tr>\n",
              "  </tbody>\n",
              "</table>\n",
              "<p>5 rows × 21 columns</p>\n",
              "</div>"
            ],
            "text/plain": [
              "   SCALE  PT_THICK  PT_WIDTH  PT_LENGTH  PT_WEIGHT  FUR_HZ_TEMP  FUR_HZ_TIME  \\\n",
              "0      0  0.155812  1.738951  -1.390441  -1.103810    -0.543782     0.767342   \n",
              "1      0  0.155812  1.738951  -1.390441  -1.103810    -0.543782     0.932981   \n",
              "2      0  0.209106  1.568896  -1.095771  -0.944112    -1.263141     0.767342   \n",
              "3      0  0.209106  1.568896  -1.095771  -0.944112    -0.160124     1.015800   \n",
              "4      0  0.473482  0.562094  -1.518889  -1.174562    -0.735611     1.264257   \n",
              "\n",
              "   FUR_SZ_TEMP  FUR_SZ_TIME  FUR_TIME  ...  ROLLING_TEMP_T5  \\\n",
              "0    -0.949149    -0.626453 -0.409268  ...         0.000734   \n",
              "1    -0.835252    -0.856618 -0.387221  ...         0.028567   \n",
              "2    -1.632537    -0.779897 -0.409268  ...        -0.416748   \n",
              "3    -1.290843    -0.281206  0.340311  ...        -0.453858   \n",
              "4    -1.233894    -1.048422  0.296219  ...        -0.565186   \n",
              "\n",
              "   ROLLING_DESCALING  PLATE_NO         ROLLING_DATE        SPEC STEEL_KIND  \\\n",
              "0           -0.19693  PB562774  2021-08-01:08:00:01  AB/EH32-TM         T1   \n",
              "1           -0.19693  PB562775  2021-08-01:08:07:11  AB/EH32-TM         T1   \n",
              "2           -0.19693  PB562776  2021-08-01:08:14:21   NV-E36-TM         T8   \n",
              "3           -0.19693  PB562777  2021-08-01:08:21:31   NV-E36-TM         T8   \n",
              "4           -0.19693  PB562778  2021-08-01:08:28:41  BV-EH36-TM         T8   \n",
              "\n",
              "  FUR_NO FUR_NO_ROW HSB WORK_GR  \n",
              "0    1호기         1열  적용      2조  \n",
              "1    1호기         2열  적용      2조  \n",
              "2    2호기         1열  적용      3조  \n",
              "3    2호기         2열  적용      3조  \n",
              "4    3호기         1열  적용      1조  \n",
              "\n",
              "[5 rows x 21 columns]"
            ]
          },
          "execution_count": 75,
          "metadata": {},
          "output_type": "execute_result"
        }
      ],
      "source": [
        "# BAD 데이터를 0과 1로 변환, np.where(조건, 조건을 만족하는 경우, 만족하지 않는 경우)\n",
        "df_scaled[\"SCALE\"] = np.where(df_scaled[\"SCALE\"]> 0, 1, 0)\n",
        "df_scaled.head()"
      ]
    },
    {
      "cell_type": "code",
      "execution_count": null,
      "metadata": {
        "id": "TjWIYPhZezxU",
        "outputId": "bd43c6e1-57cf-462f-88b5-b4345f60ab56"
      },
      "outputs": [
        {
          "name": "stdout",
          "output_type": "stream",
          "text": [
            "Optimization terminated successfully.\n",
            "         Current function value: 0.342804\n",
            "         Iterations 8\n",
            "                           Logit Regression Results                           \n",
            "==============================================================================\n",
            "Dep. Variable:                  SCALE   No. Observations:                  432\n",
            "Model:                          Logit   Df Residuals:                      419\n",
            "Method:                           MLE   Df Model:                           12\n",
            "Date:                Fri, 12 Aug 2022   Pseudo R-squ.:                  0.4512\n",
            "Time:                        22:28:27   Log-Likelihood:                -148.09\n",
            "converged:                       True   LL-Null:                       -269.86\n",
            "Covariance Type:            nonrobust   LLR p-value:                 3.028e-45\n",
            "=====================================================================================\n",
            "                        coef    std err          z      P>|z|      [0.025      0.975]\n",
            "-------------------------------------------------------------------------------------\n",
            "Intercept            -1.5636      0.190     -8.213      0.000      -1.937      -1.190\n",
            "PT_THICK              0.8609      0.507      1.699      0.089      -0.132       1.854\n",
            "PT_WIDTH             -0.5144      0.216     -2.379      0.017      -0.938      -0.091\n",
            "PT_LENGTH            -0.2395      0.382     -0.627      0.531      -0.989       0.510\n",
            "PT_WEIGHT            -0.0768      0.177     -0.434      0.664      -0.424       0.270\n",
            "FUR_HZ_TEMP          -0.0793      0.274     -0.289      0.772      -0.616       0.458\n",
            "FUR_HZ_TIME           0.3570      0.181      1.977      0.048       0.003       0.711\n",
            "FUR_SZ_TEMP           1.8300      0.955      1.915      0.055      -0.042       3.703\n",
            "FUR_SZ_TIME           0.2452      0.266      0.923      0.356      -0.275       0.766\n",
            "FUR_TIME             -0.3885      0.224     -1.738      0.082      -0.827       0.050\n",
            "FUR_EXTEMP            0.1730      0.836      0.207      0.836      -1.466       1.812\n",
            "ROLLING_TEMP_T5       2.8773      0.539      5.340      0.000       1.821       3.933\n",
            "ROLLING_DESCALING    -0.7943      0.314     -2.528      0.011      -1.410      -0.178\n",
            "=====================================================================================\n"
          ]
        }
      ],
      "source": [
        "# from_formula 함수를 이용하여 변수 역할 지정\n",
        "scaled_log_model = Logit.from_formula(\"\"\"SCALE ~ PT_THICK + PT_WIDTH + PT_LENGTH + PT_WEIGHT + FUR_HZ_TEMP + FUR_HZ_TIME + FUR_SZ_TEMP + FUR_SZ_TIME + FUR_TIME + FUR_EXTEMP + ROLLING_TEMP_T5 +  ROLLING_DESCALING\"\"\", df_scaled_train)\n",
        "# 적합\n",
        "scaled_log_result = scaled_log_model.fit()\n",
        "# 결과 출력\n",
        "print(scaled_log_result.summary())"
      ]
    },
    {
      "cell_type": "code",
      "execution_count": null,
      "metadata": {
        "id": "P4yX6g8MezxV",
        "outputId": "a8f5d11f-efcf-44ee-f5d7-d72f4b291418"
      },
      "outputs": [
        {
          "data": {
            "text/plain": [
              "<AxesSubplot:>"
            ]
          },
          "execution_count": 77,
          "metadata": {},
          "output_type": "execute_result"
        },
        {
          "name": "stderr",
          "output_type": "stream",
          "text": [
            "C:\\kangay\\lib\\site-packages\\IPython\\core\\pylabtools.py:151: UserWarning: Glyph 8722 (\\N{MINUS SIGN}) missing from current font.\n",
            "  fig.canvas.print_figure(bytes_io, **kw)\n"
          ]
        },
        {
          "data": {
            "image/png": "[encoded data removed]",
            "text/plain": [
              "<Figure size 432x288 with 1 Axes>"
            ]
          },
          "metadata": {
            "needs_background": "light"
          },
          "output_type": "display_data"
        }
      ],
      "source": [
        "# 설명변수 중요도\n",
        "df_log_scaled_coef = pd.DataFrame({\"Coef\": scaled_log_result.params.values[1:]}, index = scaled_log_model.exog_names[1:])\n",
        "df_log_scaled_coef.plot.barh(y = \"Coef\", legend = False)"
      ]
    },
    {
      "cell_type": "code",
      "execution_count": null,
      "metadata": {
        "id": "jJBoKhaeezxX"
      },
      "outputs": [],
      "source": [
        ""
      ]
    },
    {
      "cell_type": "code",
      "execution_count": null,
      "metadata": {
        "id": "uYU412ukezxY"
      },
      "outputs": [],
      "source": [
        ""
      ]
    },
    {
      "cell_type": "code",
      "execution_count": null,
      "metadata": {
        "id": "CI8rDr3TezxY"
      },
      "outputs": [],
      "source": [
        ""
      ]
    }
  ],
  "metadata": {
    "kernelspec": {
      "display_name": "Python 3 (ipykernel)",
      "language": "python",
      "name": "python3"
    },
    "language_info": {
      "codemirror_mode": {
        "name": "ipython",
        "version": 3
      },
      "file_extension": ".py",
      "mimetype": "text/x-python",
      "name": "python",
      "nbconvert_exporter": "python",
      "pygments_lexer": "ipython3",
      "version": "3.9.12"
    },
    "colab": {
      "name": "로지스틱회귀분석(김종두) (1).ipynb",
      "provenance": [],
      "include_colab_link": true
    }
  },
  "nbformat": 4,
  "nbformat_minor": 0
}