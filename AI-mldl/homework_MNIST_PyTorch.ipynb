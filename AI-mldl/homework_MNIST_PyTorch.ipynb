{
 "cells": [
  {
   "cell_type": "markdown",
   "id": "f5a4cd34",
   "metadata": {},
   "source": [
    "# PyTorch MNIST 99.7점 만들기 숙제"
   ]
  },
  {
   "cell_type": "code",
   "execution_count": 1,
   "id": "8b642b11",
   "metadata": {},
   "outputs": [
    {
     "name": "stdout",
     "output_type": "stream",
     "text": [
      "현재 가상환경 GPU 사용 가능상태\n"
     ]
    }
   ],
   "source": [
    "import torch\n",
    "if torch.cuda.is_available() == True:\n",
    "    device = 'cuda:0'\n",
    "    print('현재 가상환경 GPU 사용 가능상태')\n",
    "else:\n",
    "    device = 'cpu'\n",
    "    print('GPU 사용 불가능 상태')"
   ]
  },
  {
   "cell_type": "markdown",
   "id": "0ef43ccd",
   "metadata": {},
   "source": [
    "## MNIST 데이터 다운로드 & 전처리"
   ]
  },
  {
   "cell_type": "code",
   "execution_count": null,
   "id": "2111504a",
   "metadata": {},
   "outputs": [],
   "source": [
    "batch_size = 1\n",
    "maximum_epoch = 1\n",
    "learning_rate = 0.1\n",
    "\n",
    "import torchvision.transforms as transforms\n",
    "from torchvision.transforms import ToTensor, Normalize\n",
    "\n",
    "mnist_transform = transforms.Compose([ToTensor()])\n",
    "\n",
    "from torchvision import datasets\n",
    "train_data = datasets.MNIST(root = './', train = True, download = True, transform = mnist_transform)\n",
    "\n",
    "from torch.utils.data import random_split\n",
    "train_data, valid_data = random_split(train_data, [59999, 1])\n",
    "test_data = datasets.MNIST(root = './', train = False, download = True, transform = mnist_transform)\n",
    "\n",
    "from torch.utils.data import DataLoader\n",
    "train_loader = DataLoader(train_data, batch_size=batch_size, shuffle=True, pin_memory=True, drop_last=True)\n",
    "valid_loader = DataLoader(valid_data, batch_size=len(valid_data), pin_memory=True)\n",
    "test_loader = DataLoader(test_data, batch_size=len(test_data), pin_memory=True)"
   ]
  },
  {
   "cell_type": "markdown",
   "id": "d2ace62d",
   "metadata": {},
   "source": [
    "## 모델 선언"
   ]
  },
  {
   "cell_type": "code",
   "execution_count": null,
   "id": "801bbbe5",
   "metadata": {},
   "outputs": [],
   "source": [
    "import torch.nn as nn\n",
    "class CNN_model(nn.Module):\n",
    "    def __init__(self):\n",
    "        super(CNN_model, self).__init__()\n",
    "        \n",
    "        \n",
    "    def forward(self, x):\n",
    "        \n",
    "from torchsummary import summary as Summary\n",
    "Summary(CNN_model().to(device),(1, 28, 28))"
   ]
  },
  {
   "cell_type": "markdown",
   "id": "4b92839c",
   "metadata": {},
   "source": [
    "## 학습에 사용되는 함수\n",
    " - 초기화\n",
    " - 모델 구동\n",
    " - 학습 추이"
   ]
  },
  {
   "cell_type": "markdown",
   "id": "18e96680",
   "metadata": {},
   "source": [
    "#### 초기화"
   ]
  },
  {
   "cell_type": "code",
   "execution_count": null,
   "id": "3531c4fd",
   "metadata": {},
   "outputs": [],
   "source": []
  },
  {
   "cell_type": "markdown",
   "id": "201836fc",
   "metadata": {},
   "source": [
    "#### 모델 구동"
   ]
  },
  {
   "cell_type": "code",
   "execution_count": null,
   "id": "e8b7950a",
   "metadata": {},
   "outputs": [],
   "source": []
  },
  {
   "cell_type": "markdown",
   "id": "e59f3891",
   "metadata": {},
   "source": [
    "#### 학습 추이"
   ]
  },
  {
   "cell_type": "code",
   "execution_count": null,
   "id": "cb21e1be",
   "metadata": {},
   "outputs": [],
   "source": []
  },
  {
   "cell_type": "markdown",
   "id": "fd41e618",
   "metadata": {},
   "source": [
    "## 모델 학습"
   ]
  },
  {
   "cell_type": "code",
   "execution_count": null,
   "id": "36ea95f9",
   "metadata": {},
   "outputs": [],
   "source": [
    "init_model()\n",
    "init_epoch()\n",
    "init_log()\n",
    "\n",
    "while epoch_not_finished():\n",
    "    pass\n",
    "    \n",
    "print('\\n Training completed!')"
   ]
  },
  {
   "cell_type": "markdown",
   "id": "372c4b3e",
   "metadata": {},
   "source": [
    "## 모델 정확도"
   ]
  },
  {
   "cell_type": "code",
   "execution_count": null,
   "id": "c43810e5",
   "metadata": {},
   "outputs": [],
   "source": [
    "# 정확도 검증\n",
    "with torch.no_grad():\n",
    "    test_loss, test_acc, _, _ = epoch(test_loader, mode = 'test')\n",
    "    test_acc = round(test_acc, 4)\n",
    "    test_loss = round(test_loss, 4)\n",
    "    print('Test Acc.: {}'.format(test_acc))\n",
    "    print('Test Loss: {}'.format(test_loss))"
   ]
  },
  {
   "cell_type": "markdown",
   "id": "54b213d5",
   "metadata": {},
   "source": [
    "## 결과 분석"
   ]
  },
  {
   "cell_type": "code",
   "execution_count": null,
   "id": "69130ece",
   "metadata": {},
   "outputs": [],
   "source": []
  }
 ],
 "metadata": {
  "kernelspec": {
   "display_name": "mldl2",
   "language": "python",
   "name": "mldl2"
  },
  "language_info": {
   "codemirror_mode": {
    "name": "ipython",
    "version": 3
   },
   "file_extension": ".py",
   "mimetype": "text/x-python",
   "name": "python",
   "nbconvert_exporter": "python",
   "pygments_lexer": "ipython3",
   "version": "3.8.13"
  }
 },
 "nbformat": 4,
 "nbformat_minor": 5
}
