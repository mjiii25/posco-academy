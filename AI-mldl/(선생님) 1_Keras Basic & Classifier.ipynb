{
 "cells": [
  {
   "cell_type": "markdown",
   "metadata": {},
   "source": [
    "# 1. Keras tutorial\n",
    "\n",
    "- 1.1 Keras Basic(y=3x Regression) - ANN(단층 레이어)\n",
    "- 1.2 Keras MNIST - ANN(단층 레이어)\n",
    "- 1.3 Keras MNIST - DNN(다층 레이어)\n",
    "- 1.4 Keras MNIST - 나만의 모델 만들기"
   ]
  },
  {
   "cell_type": "code",
   "execution_count": 1,
   "metadata": {},
   "outputs": [],
   "source": [
    "# Import Libraries\n",
    "from tensorflow import keras\n",
    "import numpy as np\n",
    "import matplotlib.pyplot as plt\n",
    "%matplotlib inline"
   ]
  },
  {
   "cell_type": "markdown",
   "metadata": {},
   "source": [
    "## 1.1 Keras Basic Y = 3X ANN Regression\n",
    "- 이번 실습에서는 Keras를 이용하여 1차함수를 예측하는 학습 모델을 만들고, 성능을 평가한다."
   ]
  },
  {
   "cell_type": "markdown",
   "metadata": {},
   "source": [
    "### (1) 데이터셋 준비"
   ]
  },
  {
   "cell_type": "code",
   "execution_count": 2,
   "metadata": {},
   "outputs": [
    {
     "data": {
      "image/png": "[encoded data removed]",
      "text/plain": [
       "<Figure size 432x288 with 1 Axes>"
      ]
     },
     "metadata": {
      "needs_background": "light"
     },
     "output_type": "display_data"
    }
   ],
   "source": [
    "# Training Data\n",
    "x = np.arange(20) # 0, 1, 2, 3, ...., 19\n",
    "y = x * 3 # 0, 3, 6, 9, ..., 57\n",
    "plt.plot(x,y)\n",
    "\n",
    "# Testing Data \n",
    "x_test = np.arange(50,70) # 50, 51, 52, ..., 69\n",
    "y_test = x_test*3 # 150, 153, 156, ..., 207\n",
    "\n",
    "# Dimension of input and output\n",
    "n_in = 1\n",
    "n_out = 1"
   ]
  },
  {
   "cell_type": "markdown",
   "metadata": {},
   "source": [
    "### (2) Keras 모델링\n",
    "\n",
    "- keras.layers : 모델을 구성하기 위한 layer들이 구현되어 있는 모듈\n",
    "\n",
    "- keras.models : layer들을 묶어 모델을 정의하고 학습, 평가, 예측 등의 기능을 구현한 모듈"
   ]
  },
  {
   "cell_type": "code",
   "execution_count": 3,
   "metadata": {},
   "outputs": [],
   "source": [
    "from tensorflow.keras import layers, models"
   ]
  },
  {
   "cell_type": "markdown",
   "metadata": {},
   "source": [
    "Keras에서는 크게 Functional, Sequential 방식으로 모델을 구현\n",
    "\n",
    "- Sequential : 모델에 필요한 layer들을 순차적으로 더해가는 방식으로 구현\n",
    "- Function : 모델을 수식처럼 구현 "
   ]
  },
  {
   "cell_type": "markdown",
   "metadata": {},
   "source": [
    "<Sequential에 사용되는 Layer>\n",
    "\n",
    "- Dense : Fully Connected Layer (https://keras.io/layers/core/#dense)"
   ]
  },
  {
   "cell_type": "markdown",
   "metadata": {},
   "source": [
    "### Sequential Modeling"
   ]
  },
  {
   "cell_type": "code",
   "execution_count": 4,
   "metadata": {},
   "outputs": [],
   "source": [
    "def modeling_sequential(n_in, n_out):\n",
    "    # Coding Time\n",
    "    model = models.Sequential()\n",
    "    model.add(layers.Dense(units =n_out, input_shape=(n_in,)))\n",
    "    return model"
   ]
  },
  {
   "cell_type": "code",
   "execution_count": 5,
   "metadata": {},
   "outputs": [],
   "source": [
    "class modeling_sequential_class(models.Sequential):\n",
    "    def __init__(self, n_in, n_out):\n",
    "        \n",
    "        #멤버 변수로 모델에 사용할 변수 선언\n",
    "        self.n_in = n_in\n",
    "        self.n_out = n_out\n",
    "        \n",
    "        #상속받은 Sequential 클래스 초기화 후 레이어 추가\n",
    "        super().__init__()\n",
    "        self.add(layers.Dense(units =n_out, input_shape=(n_in,)))"
   ]
  },
  {
   "cell_type": "markdown",
   "metadata": {},
   "source": [
    "<Functional에 사용되는 Layer>\n",
    "\n",
    "- Input : 모델에 입력되는 데이터의 batch size를 제외한 shape을 결정\n",
    "\n",
    "- Dense : Fully Connected Layer (https://keras.io/layers/core/#dense)"
   ]
  },
  {
   "cell_type": "markdown",
   "metadata": {},
   "source": [
    "### Functional Modeling"
   ]
  },
  {
   "cell_type": "code",
   "execution_count": 6,
   "metadata": {},
   "outputs": [],
   "source": [
    "def modeling_functional(n_in, n_out):\n",
    "    # Coding Time\n",
    "    x = layers.Input(shape=(n_in,))\n",
    "    y = layers.Dense(n_out)(x)\n",
    "    model = models.Model(inputs = x, outputs = y)\n",
    "    return model"
   ]
  },
  {
   "cell_type": "code",
   "execution_count": 7,
   "metadata": {},
   "outputs": [],
   "source": [
    "class modeling_functional_class(models.Model):\n",
    "    def __init__(self, n_in, n_out):\n",
    "        \n",
    "        #멤버 변수로 모델에 사용할 변수 및 레이어 선언\n",
    "        self.n_in = n_in\n",
    "        self.n_out = n_out\n",
    "        input = layers.Input(shape=(n_in,))\n",
    "        output = layers.Dense(n_out)\n",
    "        \n",
    "        # layer 연결\n",
    "        x = input\n",
    "        y = output(x)\n",
    "\n",
    "        #상속받은 Model 클래스 초기화\n",
    "        super().__init__(x, y)"
   ]
  },
  {
   "cell_type": "markdown",
   "metadata": {
    "tags": []
   },
   "source": [
    "### (2)-2 모델 시각화\n",
    "\n",
    "model.summary()나 plot_model(model) 활용"
   ]
  },
  {
   "cell_type": "code",
   "execution_count": 8,
   "metadata": {},
   "outputs": [
    {
     "name": "stdout",
     "output_type": "stream",
     "text": [
      "Model: \"sequential\"\n",
      "_________________________________________________________________\n",
      " Layer (type)                Output Shape              Param #   \n",
      "=================================================================\n",
      " dense (Dense)               (None, 1)                 2         \n",
      "                                                                 \n",
      "=================================================================\n",
      "Total params: 2\n",
      "Trainable params: 2\n",
      "Non-trainable params: 0\n",
      "_________________________________________________________________\n"
     ]
    }
   ],
   "source": [
    "model =  modeling_sequential(n_in, n_out)\n",
    "model.summary()"
   ]
  },
  {
   "cell_type": "code",
   "execution_count": 9,
   "metadata": {},
   "outputs": [
    {
     "name": "stdout",
     "output_type": "stream",
     "text": [
      "Model: \"modeling_sequential_class\"\n",
      "_________________________________________________________________\n",
      " Layer (type)                Output Shape              Param #   \n",
      "=================================================================\n",
      " dense_1 (Dense)             (None, 1)                 2         \n",
      "                                                                 \n",
      "=================================================================\n",
      "Total params: 2\n",
      "Trainable params: 2\n",
      "Non-trainable params: 0\n",
      "_________________________________________________________________\n"
     ]
    }
   ],
   "source": [
    "model =  modeling_sequential_class(n_in, n_out)\n",
    "model.summary()"
   ]
  },
  {
   "cell_type": "code",
   "execution_count": 10,
   "metadata": {},
   "outputs": [
    {
     "name": "stdout",
     "output_type": "stream",
     "text": [
      "Model: \"model\"\n",
      "_________________________________________________________________\n",
      " Layer (type)                Output Shape              Param #   \n",
      "=================================================================\n",
      " input_1 (InputLayer)        [(None, 1)]               0         \n",
      "                                                                 \n",
      " dense_2 (Dense)             (None, 1)                 2         \n",
      "                                                                 \n",
      "=================================================================\n",
      "Total params: 2\n",
      "Trainable params: 2\n",
      "Non-trainable params: 0\n",
      "_________________________________________________________________\n"
     ]
    }
   ],
   "source": [
    "model =  modeling_functional(n_in, n_out)\n",
    "model.summary()"
   ]
  },
  {
   "cell_type": "code",
   "execution_count": 11,
   "metadata": {},
   "outputs": [
    {
     "name": "stdout",
     "output_type": "stream",
     "text": [
      "Model: \"modeling_functional_class\"\n",
      "_________________________________________________________________\n",
      " Layer (type)                Output Shape              Param #   \n",
      "=================================================================\n",
      " input_2 (InputLayer)        [(None, 1)]               0         \n",
      "                                                                 \n",
      " dense_3 (Dense)             (None, 1)                 2         \n",
      "                                                                 \n",
      "=================================================================\n",
      "Total params: 2\n",
      "Trainable params: 2\n",
      "Non-trainable params: 0\n",
      "_________________________________________________________________\n"
     ]
    }
   ],
   "source": [
    "model = modeling_functional_class(n_in, n_out)\n",
    "model.summary()"
   ]
  },
  {
   "cell_type": "code",
   "execution_count": 12,
   "metadata": {},
   "outputs": [
    {
     "data": {
      "image/png": "[encoded data removed]",
      "text/plain": [
       "<IPython.core.display.Image object>"
      ]
     },
     "execution_count": 12,
     "metadata": {},
     "output_type": "execute_result"
    }
   ],
   "source": [
    "from tensorflow.keras.utils import plot_model\n",
    "plot_model(model, show_shapes=True)"
   ]
  },
  {
   "cell_type": "markdown",
   "metadata": {},
   "source": [
    "### (3) 모델의 학습과정 설정(model.compile)\n",
    "- model.compile(loss, optimizer, metrics)\n",
    "- optimizer(str) : optimizer instance\n",
    "- loss(str) : loss function\n",
    "- metrics(str) : list of metrics to be evaluated by the model during training and testing\n",
    "(https://www.tensorflow.org/api_docs/python/tf/keras/Model)"
   ]
  },
  {
   "cell_type": "code",
   "execution_count": 13,
   "metadata": {},
   "outputs": [],
   "source": [
    "# Coding Time\n",
    "model.compile(loss='mse', optimizer='sgd')"
   ]
  },
  {
   "cell_type": "markdown",
   "metadata": {
    "tags": []
   },
   "source": [
    "### (4) 모델 학습시키기(model.fit)\n",
    "\n",
    " - x : Input data\n",
    " - y : Label of training input data\n",
    " - batch_szie(int) : Number of samples per gradient update\n",
    " - steps_per_epoch(int) : Total number of steps (batches of samples) before declaring one epoch finished and starting the next epoch\n",
    " - epochs(int) : Number of epochs to train the model\n",
    " - verbose : 0 = silent, 1 = progress bar, 2 = one line per epoch\n",
    " - callbacks : List of callback instances\n",
    " - validation_split(float) : Fraction of the training data to be used as validation data\n",
    " - validation_data : (x_val, y_val)\n",
    " - shuffle(bool) : Whether to shuffle the training data before each epoch\n",
    " - history : 학습과정이 담겨있는 데이터 송출\n",
    " (https://www.tensorflow.org/api_docs/python/tf/keras/Model)"
   ]
  },
  {
   "cell_type": "code",
   "execution_count": 14,
   "metadata": {
    "scrolled": true,
    "tags": []
   },
   "outputs": [
    {
     "name": "stdout",
     "output_type": "stream",
     "text": [
      "Epoch 1/100\n",
      "4/4 [==============================] - 1s 27ms/step - loss: 609.6656 - val_loss: 81.2787\n",
      "Epoch 2/100\n",
      "4/4 [==============================] - 0s 5ms/step - loss: 11.0009 - val_loss: 3.3968\n",
      "Epoch 3/100\n",
      "4/4 [==============================] - 0s 5ms/step - loss: 0.1860 - val_loss: 0.0788\n",
      "Epoch 4/100\n",
      "4/4 [==============================] - 0s 6ms/step - loss: 0.0435 - val_loss: 0.3775\n",
      "Epoch 5/100\n",
      "4/4 [==============================] - 0s 5ms/step - loss: 0.0840 - val_loss: 0.2047\n",
      "Epoch 6/100\n",
      "4/4 [==============================] - 0s 5ms/step - loss: 0.1217 - val_loss: 0.3890\n",
      "Epoch 7/100\n",
      "4/4 [==============================] - 0s 5ms/step - loss: 0.0434 - val_loss: 0.3660\n",
      "Epoch 8/100\n",
      "4/4 [==============================] - 0s 5ms/step - loss: 0.0808 - val_loss: 0.2990\n",
      "Epoch 9/100\n",
      "4/4 [==============================] - 0s 6ms/step - loss: 0.0881 - val_loss: 0.1361\n",
      "Epoch 10/100\n",
      "4/4 [==============================] - 0s 6ms/step - loss: 0.0406 - val_loss: 0.4604\n",
      "Epoch 11/100\n",
      "4/4 [==============================] - 0s 6ms/step - loss: 0.0406 - val_loss: 0.1262\n",
      "Epoch 12/100\n",
      "4/4 [==============================] - 0s 6ms/step - loss: 0.0399 - val_loss: 0.1564\n",
      "Epoch 13/100\n",
      "4/4 [==============================] - 0s 6ms/step - loss: 0.0388 - val_loss: 0.0524\n",
      "Epoch 14/100\n",
      "4/4 [==============================] - 0s 5ms/step - loss: 0.0395 - val_loss: 0.2280\n",
      "Epoch 15/100\n",
      "4/4 [==============================] - 0s 5ms/step - loss: 0.0731 - val_loss: 0.4521\n",
      "Epoch 16/100\n",
      "4/4 [==============================] - 0s 5ms/step - loss: 0.0313 - val_loss: 4.7103e-04\n",
      "Epoch 17/100\n",
      "4/4 [==============================] - 0s 5ms/step - loss: 0.0299 - val_loss: 0.0026\n",
      "Epoch 18/100\n",
      "4/4 [==============================] - 0s 5ms/step - loss: 0.0386 - val_loss: 0.1877\n",
      "Epoch 19/100\n",
      "4/4 [==============================] - 0s 5ms/step - loss: 0.0243 - val_loss: 0.1788\n",
      "Epoch 20/100\n",
      "4/4 [==============================] - 0s 5ms/step - loss: 0.0289 - val_loss: 0.0203\n",
      "Epoch 21/100\n",
      "4/4 [==============================] - 0s 5ms/step - loss: 0.0195 - val_loss: 0.2539\n",
      "Epoch 22/100\n",
      "4/4 [==============================] - 0s 5ms/step - loss: 0.0237 - val_loss: 0.0776\n",
      "Epoch 23/100\n",
      "4/4 [==============================] - 0s 5ms/step - loss: 0.0224 - val_loss: 1.2023\n",
      "Epoch 24/100\n",
      "4/4 [==============================] - 0s 5ms/step - loss: 0.1562 - val_loss: 0.2911\n",
      "Epoch 25/100\n",
      "4/4 [==============================] - 0s 5ms/step - loss: 0.1041 - val_loss: 0.0103\n",
      "Epoch 26/100\n",
      "4/4 [==============================] - 0s 5ms/step - loss: 0.0154 - val_loss: 0.0206\n",
      "Epoch 27/100\n",
      "4/4 [==============================] - 0s 5ms/step - loss: 0.0174 - val_loss: 0.0765\n",
      "Epoch 28/100\n",
      "4/4 [==============================] - 0s 6ms/step - loss: 0.0162 - val_loss: 0.1180\n",
      "Epoch 29/100\n",
      "4/4 [==============================] - 0s 5ms/step - loss: 0.0166 - val_loss: 0.0368\n",
      "Epoch 30/100\n",
      "4/4 [==============================] - 0s 5ms/step - loss: 0.0200 - val_loss: 0.0928\n",
      "Epoch 31/100\n",
      "4/4 [==============================] - 0s 5ms/step - loss: 0.0155 - val_loss: 0.0245\n",
      "Epoch 32/100\n",
      "4/4 [==============================] - 0s 5ms/step - loss: 0.0211 - val_loss: 0.1821\n",
      "Epoch 33/100\n",
      "4/4 [==============================] - 0s 5ms/step - loss: 0.0232 - val_loss: 0.0752\n",
      "Epoch 34/100\n",
      "4/4 [==============================] - 0s 5ms/step - loss: 0.0120 - val_loss: 0.1260\n",
      "Epoch 35/100\n",
      "4/4 [==============================] - 0s 5ms/step - loss: 0.0149 - val_loss: 0.0778\n",
      "Epoch 36/100\n",
      "4/4 [==============================] - 0s 5ms/step - loss: 0.0150 - val_loss: 0.0218\n",
      "Epoch 37/100\n",
      "4/4 [==============================] - 0s 6ms/step - loss: 0.0123 - val_loss: 0.0605\n",
      "Epoch 38/100\n",
      "4/4 [==============================] - 0s 6ms/step - loss: 0.0116 - val_loss: 0.0295\n",
      "Epoch 39/100\n",
      "4/4 [==============================] - 0s 6ms/step - loss: 0.0198 - val_loss: 0.5184\n",
      "Epoch 40/100\n",
      "4/4 [==============================] - 0s 5ms/step - loss: 0.0996 - val_loss: 0.1947\n",
      "Epoch 41/100\n",
      "4/4 [==============================] - 0s 5ms/step - loss: 0.0339 - val_loss: 0.0885\n",
      "Epoch 42/100\n",
      "4/4 [==============================] - 0s 6ms/step - loss: 0.0084 - val_loss: 0.0642\n",
      "Epoch 43/100\n",
      "4/4 [==============================] - 0s 5ms/step - loss: 0.0119 - val_loss: 0.0245\n",
      "Epoch 44/100\n",
      "4/4 [==============================] - 0s 5ms/step - loss: 0.0125 - val_loss: 0.0232\n",
      "Epoch 45/100\n",
      "4/4 [==============================] - 0s 5ms/step - loss: 0.0114 - val_loss: 0.0630\n",
      "Epoch 46/100\n",
      "4/4 [==============================] - 0s 5ms/step - loss: 0.0119 - val_loss: 8.0956e-04\n",
      "Epoch 47/100\n",
      "4/4 [==============================] - 0s 5ms/step - loss: 0.0070 - val_loss: 0.0897\n",
      "Epoch 48/100\n",
      "4/4 [==============================] - 0s 5ms/step - loss: 0.0103 - val_loss: 0.2719\n",
      "Epoch 49/100\n",
      "4/4 [==============================] - 0s 5ms/step - loss: 0.0951 - val_loss: 0.0128\n",
      "Epoch 50/100\n",
      "4/4 [==============================] - 0s 5ms/step - loss: 0.0050 - val_loss: 0.1249\n",
      "Epoch 51/100\n",
      "4/4 [==============================] - 0s 5ms/step - loss: 0.0306 - val_loss: 0.0063\n",
      "Epoch 52/100\n",
      "4/4 [==============================] - 0s 5ms/step - loss: 0.0066 - val_loss: 0.0347\n",
      "Epoch 53/100\n",
      "4/4 [==============================] - 0s 5ms/step - loss: 0.0057 - val_loss: 0.0564\n",
      "Epoch 54/100\n",
      "4/4 [==============================] - 0s 5ms/step - loss: 0.0080 - val_loss: 0.0307\n",
      "Epoch 55/100\n",
      "4/4 [==============================] - 0s 5ms/step - loss: 0.0063 - val_loss: 0.0389\n",
      "Epoch 56/100\n",
      "4/4 [==============================] - 0s 5ms/step - loss: 0.0046 - val_loss: 0.0192\n",
      "Epoch 57/100\n",
      "4/4 [==============================] - 0s 5ms/step - loss: 0.0037 - val_loss: 0.0343\n",
      "Epoch 58/100\n",
      "4/4 [==============================] - 0s 5ms/step - loss: 0.0041 - val_loss: 0.0439\n",
      "Epoch 59/100\n",
      "4/4 [==============================] - 0s 5ms/step - loss: 0.0145 - val_loss: 0.0343\n",
      "Epoch 60/100\n",
      "4/4 [==============================] - 0s 5ms/step - loss: 0.0031 - val_loss: 0.0055\n",
      "Epoch 61/100\n",
      "4/4 [==============================] - 0s 5ms/step - loss: 0.0033 - val_loss: 0.0234\n",
      "Epoch 62/100\n",
      "4/4 [==============================] - 0s 5ms/step - loss: 0.0041 - val_loss: 0.0100\n",
      "Epoch 63/100\n",
      "4/4 [==============================] - 0s 5ms/step - loss: 0.0028 - val_loss: 0.0282\n",
      "Epoch 64/100\n",
      "4/4 [==============================] - 0s 5ms/step - loss: 0.0045 - val_loss: 0.0928\n",
      "Epoch 65/100\n",
      "4/4 [==============================] - 0s 5ms/step - loss: 0.0137 - val_loss: 0.0201\n",
      "Epoch 66/100\n",
      "4/4 [==============================] - 0s 5ms/step - loss: 0.0040 - val_loss: 0.0153\n",
      "Epoch 67/100\n",
      "4/4 [==============================] - 0s 6ms/step - loss: 0.0045 - val_loss: 0.0217\n",
      "Epoch 68/100\n",
      "4/4 [==============================] - 0s 5ms/step - loss: 0.0025 - val_loss: 0.0181\n",
      "Epoch 69/100\n",
      "4/4 [==============================] - 0s 5ms/step - loss: 0.0024 - val_loss: 0.0238\n",
      "Epoch 70/100\n",
      "4/4 [==============================] - 0s 5ms/step - loss: 0.0024 - val_loss: 0.0095\n",
      "Epoch 71/100\n",
      "4/4 [==============================] - 0s 5ms/step - loss: 0.0022 - val_loss: 7.1807e-04\n",
      "Epoch 72/100\n",
      "4/4 [==============================] - 0s 5ms/step - loss: 0.0023 - val_loss: 0.0174\n",
      "Epoch 73/100\n",
      "4/4 [==============================] - 0s 5ms/step - loss: 0.0022 - val_loss: 0.0039\n",
      "Epoch 74/100\n",
      "4/4 [==============================] - 0s 8ms/step - loss: 0.0026 - val_loss: 0.0131\n",
      "Epoch 75/100\n",
      "4/4 [==============================] - 0s 6ms/step - loss: 0.0018 - val_loss: 0.0090\n",
      "Epoch 76/100\n",
      "4/4 [==============================] - 0s 5ms/step - loss: 0.0050 - val_loss: 0.0333\n",
      "Epoch 77/100\n",
      "4/4 [==============================] - 0s 5ms/step - loss: 0.0043 - val_loss: 8.2315e-04\n",
      "Epoch 78/100\n",
      "4/4 [==============================] - 0s 5ms/step - loss: 0.0027 - val_loss: 0.0044\n",
      "Epoch 79/100\n",
      "4/4 [==============================] - 0s 5ms/step - loss: 0.0057 - val_loss: 0.0072\n",
      "Epoch 80/100\n",
      "4/4 [==============================] - 0s 5ms/step - loss: 0.0014 - val_loss: 0.0109\n",
      "Epoch 81/100\n",
      "4/4 [==============================] - 0s 5ms/step - loss: 0.0020 - val_loss: 0.0043\n",
      "Epoch 82/100\n",
      "4/4 [==============================] - 0s 5ms/step - loss: 0.0013 - val_loss: 4.0333e-04\n",
      "Epoch 83/100\n",
      "4/4 [==============================] - 0s 5ms/step - loss: 0.0015 - val_loss: 0.0089\n",
      "Epoch 84/100\n",
      "4/4 [==============================] - 0s 5ms/step - loss: 0.0012 - val_loss: 0.0014\n",
      "Epoch 85/100\n",
      "4/4 [==============================] - 0s 5ms/step - loss: 0.0014 - val_loss: 0.0088\n",
      "Epoch 86/100\n",
      "4/4 [==============================] - 0s 5ms/step - loss: 0.0012 - val_loss: 0.0063\n",
      "Epoch 87/100\n",
      "4/4 [==============================] - 0s 5ms/step - loss: 0.0011 - val_loss: 0.0057\n",
      "Epoch 88/100\n",
      "4/4 [==============================] - 0s 5ms/step - loss: 0.0011 - val_loss: 0.0052\n",
      "Epoch 89/100\n",
      "4/4 [==============================] - 0s 5ms/step - loss: 0.0026 - val_loss: 0.0090\n",
      "Epoch 90/100\n",
      "4/4 [==============================] - 0s 5ms/step - loss: 0.0034 - val_loss: 0.0072\n",
      "Epoch 91/100\n",
      "4/4 [==============================] - 0s 5ms/step - loss: 0.0015 - val_loss: 0.0078\n",
      "Epoch 92/100\n",
      "4/4 [==============================] - 0s 5ms/step - loss: 0.0011 - val_loss: 0.0065\n",
      "Epoch 93/100\n",
      "4/4 [==============================] - 0s 5ms/step - loss: 0.0016 - val_loss: 0.0063\n",
      "Epoch 94/100\n",
      "4/4 [==============================] - 0s 5ms/step - loss: 0.0013 - val_loss: 0.0061\n",
      "Epoch 95/100\n",
      "4/4 [==============================] - 0s 5ms/step - loss: 8.2050e-04 - val_loss: 0.0021\n",
      "Epoch 96/100\n",
      "4/4 [==============================] - 0s 5ms/step - loss: 8.4609e-04 - val_loss: 0.0162\n",
      "Epoch 97/100\n",
      "4/4 [==============================] - 0s 5ms/step - loss: 0.0044 - val_loss: 0.0035\n",
      "Epoch 98/100\n",
      "4/4 [==============================] - 0s 5ms/step - loss: 9.4233e-04 - val_loss: 0.0072\n",
      "Epoch 99/100\n",
      "4/4 [==============================] - 0s 5ms/step - loss: 0.0011 - val_loss: 0.0049\n",
      "Epoch 100/100\n",
      "4/4 [==============================] - 0s 5ms/step - loss: 6.9984e-04 - val_loss: 0.0020\n"
     ]
    }
   ],
   "source": [
    "# Coding Time\n",
    "history = model.fit(x, y, batch_size=5, epochs=100, validation_split=0.2)"
   ]
  },
  {
   "cell_type": "markdown",
   "metadata": {
    "tags": []
   },
   "source": [
    "### (5) 모델 평가하기\n",
    "모델 객체의 evaluate 함수로 test 데이터에 대한 모델의 성능을 평가\n",
    " - x : Input data\n",
    " - y : Label of testing input data\n",
    " - batch_size(int) : Number of samples per batch of computation\n",
    " - steps(int) : Total number of steps (batches of samples) before declaring the evaluation round finished\n",
    " - verbose : 0 = silent, 1 = progress bar, 2 = one line per epoch"
   ]
  },
  {
   "cell_type": "code",
   "execution_count": 15,
   "metadata": {
    "tags": []
   },
   "outputs": [
    {
     "name": "stdout",
     "output_type": "stream",
     "text": [
      "1/1 [==============================] - 0s 9ms/step - loss: 0.0672\n",
      "loss : 0.0672\n"
     ]
    }
   ],
   "source": [
    "# Coding Time\n",
    "loss= model.evaluate(x_test, y_test, batch_size=20)\n",
    "print('loss : %.4f'%(loss))"
   ]
  },
  {
   "cell_type": "markdown",
   "metadata": {},
   "source": [
    "## (6) 모델 사용하기\n",
    "모델 객체의 predict 함수로 input 데이터에 대한 모델의 예측결과를 반환\n",
    " - x : Input data\n",
    " - batch_size(int) : Number of samples per batch\n",
    " - steps(int) : Total number of steps (batches of samples) before declaring the prediction round finished\n",
    " - verbose : 0 = silent(recommend), 1 = progress bar, 2 = one line per epoch"
   ]
  },
  {
   "cell_type": "code",
   "execution_count": 16,
   "metadata": {},
   "outputs": [
    {
     "name": "stdout",
     "output_type": "stream",
     "text": [
      "x: 100.00,  y : 300.00,  y_predict : 299.54\n",
      "x: 101.00,  y : 303.00,  y_predict : 302.53\n",
      "x: 102.00,  y : 306.00,  y_predict : 305.53\n",
      "x: 103.00,  y : 309.00,  y_predict : 308.52\n",
      "x: 104.00,  y : 312.00,  y_predict : 311.52\n",
      "x: 105.00,  y : 315.00,  y_predict : 314.51\n",
      "x: 106.00,  y : 318.00,  y_predict : 317.51\n",
      "x: 107.00,  y : 321.00,  y_predict : 320.50\n",
      "x: 108.00,  y : 324.00,  y_predict : 323.50\n",
      "x: 109.00,  y : 327.00,  y_predict : 326.49\n",
      "x: 110.00,  y : 330.00,  y_predict : 329.49\n",
      "x: 111.00,  y : 333.00,  y_predict : 332.48\n",
      "x: 112.00,  y : 336.00,  y_predict : 335.48\n",
      "x: 113.00,  y : 339.00,  y_predict : 338.47\n",
      "x: 114.00,  y : 342.00,  y_predict : 341.47\n",
      "x: 115.00,  y : 345.00,  y_predict : 344.46\n",
      "x: 116.00,  y : 348.00,  y_predict : 347.46\n",
      "x: 117.00,  y : 351.00,  y_predict : 350.45\n",
      "x: 118.00,  y : 354.00,  y_predict : 353.45\n",
      "x: 119.00,  y : 357.00,  y_predict : 356.44\n"
     ]
    }
   ],
   "source": [
    "new_x = np.arange(100,120)\n",
    "true_y = new_x*3\n",
    "\n",
    "pred_y = model.predict(new_x, batch_size=20, verbose = 0)\n",
    "pred_y = np.reshape(pred_y,(-1,))\n",
    "for y in zip(new_x, true_y, pred_y):\n",
    "    print(\"x: %.2f,  y : %.2f,  y_predict : %.2f\"%(y[0], y[1], y[2]))"
   ]
  },
  {
   "cell_type": "markdown",
   "metadata": {},
   "source": [
    "## 1.2 MNIST Classification with Linear Classifier\n",
    "이번 실습에서는 keras로 linear 모델을 생성하고, MNIST dataset을 학습하여 성능을 평가한다."
   ]
  },
  {
   "cell_type": "code",
   "execution_count": 17,
   "metadata": {},
   "outputs": [],
   "source": [
    "import tensorflow.keras.utils as utils\n",
    "from tensorflow.keras import datasets\n",
    "from tensorflow.keras.models import Sequential, Model\n",
    "from tensorflow.keras.layers import Input, Dense, Activation\n",
    "\n",
    "import numpy as np\n",
    "import matplotlib.pyplot as plt"
   ]
  },
  {
   "cell_type": "markdown",
   "metadata": {},
   "source": [
    "### (1) 데이터셋 다운로드\n",
    "### Download the MNIST dataset\n",
    "MNIST dataset은 28x28 사이즈의 이미지들로 0~9까지의 숫자 10개의 손글씨 이미지로 이루어져있다.\n",
    "\n",
    "60,000장이 training에 사용되고 10,000장이 test에 사용된다."
   ]
  },
  {
   "cell_type": "code",
   "execution_count": 18,
   "metadata": {},
   "outputs": [
    {
     "name": "stdout",
     "output_type": "stream",
     "text": [
      "(60000, 28, 28) (60000,)\n"
     ]
    }
   ],
   "source": [
    "# Coding Time\n",
    "(X_train, Y_train),(X_test, Y_test) = datasets.mnist.load_data()\n",
    "print(X_train.shape, Y_train.shape)"
   ]
  },
  {
   "cell_type": "code",
   "execution_count": 19,
   "metadata": {},
   "outputs": [
    {
     "name": "stdout",
     "output_type": "stream",
     "text": [
      "label :  5\n"
     ]
    },
    {
     "data": {
      "text/plain": [
       "<matplotlib.image.AxesImage at 0x22c54d04cd0>"
      ]
     },
     "execution_count": 19,
     "metadata": {},
     "output_type": "execute_result"
    },
    {
     "data": {
      "image/png": "[encoded data removed]",
      "text/plain": [
       "<Figure size 432x288 with 1 Axes>"
      ]
     },
     "metadata": {
      "needs_background": "light"
     },
     "output_type": "display_data"
    }
   ],
   "source": [
    "print('label : ',Y_train[0])\n",
    "plt.imshow(X_train[0], cmap='gray')"
   ]
  },
  {
   "cell_type": "code",
   "execution_count": 20,
   "metadata": {},
   "outputs": [
    {
     "name": "stdout",
     "output_type": "stream",
     "text": [
      "[[0. 0. 0. ... 0. 0. 0.]\n",
      " [1. 0. 0. ... 0. 0. 0.]\n",
      " [0. 0. 0. ... 0. 0. 0.]\n",
      " ...\n",
      " [0. 0. 0. ... 0. 0. 0.]\n",
      " [0. 0. 0. ... 0. 0. 0.]\n",
      " [0. 0. 0. ... 0. 1. 0.]]\n",
      "(60000, 784) (60000, 10)\n"
     ]
    }
   ],
   "source": [
    "# Coding Time\n",
    "# Flatten and Normalization\n",
    "X_train_flat = X_train.reshape(60000, 28*28).astype('float32')/255.0\n",
    "X_test_flat = X_test.reshape(10000, 28*28).astype('float32')/255.0\n",
    "\n",
    "# One-hot Encoding\n",
    "Y_train_onehot = utils.to_categorical(Y_train)\n",
    "Y_test_onehot = utils.to_categorical(Y_test)\n",
    "\n",
    "print(Y_train_onehot)\n",
    "print(X_train_flat.shape, Y_train_onehot.shape)"
   ]
  },
  {
   "cell_type": "markdown",
   "metadata": {},
   "source": [
    "### (2) Keras 모델링"
   ]
  },
  {
   "cell_type": "markdown",
   "metadata": {},
   "source": [
    "<사용되는 Layer>\n",
    "\n",
    "- Input : 모델에 입력되는 데이터의 batch size를 제외한 shape을 결정(https://keras.io/layers/core/#input)\n",
    "\n",
    "- Dense : Fully Connected Layer(https://keras.io/layers/core/#dense)\n",
    "\n",
    "- Activation : Activation Function을 정의, 문자열로 입력(https://keras.io/layers/core/#activation)"
   ]
  },
  {
   "cell_type": "code",
   "execution_count": 21,
   "metadata": {},
   "outputs": [],
   "source": [
    "n_in = 28*28   #784\n",
    "n_out = np.shape(Y_test_onehot)[1] # 10"
   ]
  },
  {
   "cell_type": "markdown",
   "metadata": {},
   "source": [
    "### Sequential Modeling"
   ]
  },
  {
   "cell_type": "code",
   "execution_count": 22,
   "metadata": {},
   "outputs": [],
   "source": [
    "def linear_model_seq(n_in, n_out):\n",
    "    # Coding Time\n",
    "    model = Sequential()\n",
    "    model.add(Dense(units =n_out, input_shape=(n_in,), activation='softmax'))\n",
    "    return model"
   ]
  },
  {
   "cell_type": "markdown",
   "metadata": {},
   "source": [
    "### Functional Modeling"
   ]
  },
  {
   "cell_type": "code",
   "execution_count": 23,
   "metadata": {},
   "outputs": [],
   "source": [
    "def linear_model_func(n_in, n_out):\n",
    "    # Coding Time\n",
    "    x = Input(shape=(n_in,))\n",
    "    h = Dense(n_out)(x)\n",
    "    y = Activation('softmax')(h)\n",
    "    model = Model(inputs = x, outputs = y)\n",
    "    return model"
   ]
  },
  {
   "cell_type": "code",
   "execution_count": 24,
   "metadata": {},
   "outputs": [
    {
     "name": "stdout",
     "output_type": "stream",
     "text": [
      "Model: \"model_1\"\n",
      "_________________________________________________________________\n",
      " Layer (type)                Output Shape              Param #   \n",
      "=================================================================\n",
      " input_3 (InputLayer)        [(None, 784)]             0         \n",
      "                                                                 \n",
      " dense_4 (Dense)             (None, 10)                7850      \n",
      "                                                                 \n",
      " activation (Activation)     (None, 10)                0         \n",
      "                                                                 \n",
      "=================================================================\n",
      "Total params: 7,850\n",
      "Trainable params: 7,850\n",
      "Non-trainable params: 0\n",
      "_________________________________________________________________\n"
     ]
    }
   ],
   "source": [
    "model = linear_model_func(n_in, n_out)\n",
    "model.summary()"
   ]
  },
  {
   "cell_type": "code",
   "execution_count": 25,
   "metadata": {},
   "outputs": [
    {
     "data": {
      "image/png": "[encoded data removed]",
      "text/plain": [
       "<IPython.core.display.Image object>"
      ]
     },
     "execution_count": 25,
     "metadata": {},
     "output_type": "execute_result"
    }
   ],
   "source": [
    "plot_model(model, show_shapes=True)"
   ]
  },
  {
   "cell_type": "markdown",
   "metadata": {},
   "source": [
    "## (3) 모델의 학습과정 설정\n",
    "accuracy를 측정할 수 있는 문제라면 metric에 accuracy를 설정 (https://keras.io/models/model/)"
   ]
  },
  {
   "cell_type": "code",
   "execution_count": 26,
   "metadata": {},
   "outputs": [],
   "source": [
    "# Coding Time\n",
    "model.compile(loss='categorical_crossentropy', \n",
    "              optimizer='sgd',\n",
    "              metrics=['accuracy'])"
   ]
  },
  {
   "cell_type": "markdown",
   "metadata": {},
   "source": [
    "## (4) 모델 학습시키기"
   ]
  },
  {
   "cell_type": "code",
   "execution_count": 27,
   "metadata": {
    "scrolled": true
   },
   "outputs": [
    {
     "name": "stdout",
     "output_type": "stream",
     "text": [
      "Epoch 1/20\n",
      "375/375 [==============================] - 1s 2ms/step - loss: 1.3844 - accuracy: 0.6678 - val_loss: 0.8985 - val_accuracy: 0.8201\n",
      "Epoch 2/20\n",
      "375/375 [==============================] - 1s 2ms/step - loss: 0.7961 - accuracy: 0.8259 - val_loss: 0.6595 - val_accuracy: 0.8549\n",
      "Epoch 3/20\n",
      "375/375 [==============================] - 1s 2ms/step - loss: 0.6450 - accuracy: 0.8495 - val_loss: 0.5633 - val_accuracy: 0.8695\n",
      "Epoch 4/20\n",
      "375/375 [==============================] - 1s 2ms/step - loss: 0.5720 - accuracy: 0.8612 - val_loss: 0.5105 - val_accuracy: 0.8762\n",
      "Epoch 5/20\n",
      "375/375 [==============================] - 1s 2ms/step - loss: 0.5275 - accuracy: 0.8680 - val_loss: 0.4763 - val_accuracy: 0.8792\n",
      "Epoch 6/20\n",
      "375/375 [==============================] - 1s 2ms/step - loss: 0.4971 - accuracy: 0.8733 - val_loss: 0.4518 - val_accuracy: 0.8860\n",
      "Epoch 7/20\n",
      "375/375 [==============================] - 1s 2ms/step - loss: 0.4746 - accuracy: 0.8774 - val_loss: 0.4337 - val_accuracy: 0.8904\n",
      "Epoch 8/20\n",
      "375/375 [==============================] - 1s 2ms/step - loss: 0.4572 - accuracy: 0.8806 - val_loss: 0.4195 - val_accuracy: 0.8917\n",
      "Epoch 9/20\n",
      "375/375 [==============================] - 1s 2ms/step - loss: 0.4431 - accuracy: 0.8825 - val_loss: 0.4078 - val_accuracy: 0.8949\n",
      "Epoch 10/20\n",
      "375/375 [==============================] - 1s 2ms/step - loss: 0.4315 - accuracy: 0.8852 - val_loss: 0.3982 - val_accuracy: 0.8963\n",
      "Epoch 11/20\n",
      "375/375 [==============================] - 1s 2ms/step - loss: 0.4216 - accuracy: 0.8865 - val_loss: 0.3900 - val_accuracy: 0.8978\n",
      "Epoch 12/20\n",
      "375/375 [==============================] - 1s 2ms/step - loss: 0.4133 - accuracy: 0.8890 - val_loss: 0.3831 - val_accuracy: 0.8995\n",
      "Epoch 13/20\n",
      "375/375 [==============================] - 1s 2ms/step - loss: 0.4059 - accuracy: 0.8904 - val_loss: 0.3770 - val_accuracy: 0.9009\n",
      "Epoch 14/20\n",
      "375/375 [==============================] - 1s 2ms/step - loss: 0.3994 - accuracy: 0.8924 - val_loss: 0.3717 - val_accuracy: 0.9011\n",
      "Epoch 15/20\n",
      "375/375 [==============================] - 1s 2ms/step - loss: 0.3936 - accuracy: 0.8934 - val_loss: 0.3668 - val_accuracy: 0.9022\n",
      "Epoch 16/20\n",
      "375/375 [==============================] - 1s 2ms/step - loss: 0.3884 - accuracy: 0.8951 - val_loss: 0.3626 - val_accuracy: 0.9038\n",
      "Epoch 17/20\n",
      "375/375 [==============================] - 1s 2ms/step - loss: 0.3837 - accuracy: 0.8960 - val_loss: 0.3587 - val_accuracy: 0.9038\n",
      "Epoch 18/20\n",
      "375/375 [==============================] - 1s 2ms/step - loss: 0.3794 - accuracy: 0.8965 - val_loss: 0.3552 - val_accuracy: 0.9048\n",
      "Epoch 19/20\n",
      "375/375 [==============================] - 1s 2ms/step - loss: 0.3755 - accuracy: 0.8978 - val_loss: 0.3519 - val_accuracy: 0.9053\n",
      "Epoch 20/20\n",
      "375/375 [==============================] - 1s 2ms/step - loss: 0.3719 - accuracy: 0.8986 - val_loss: 0.3488 - val_accuracy: 0.9064\n"
     ]
    }
   ],
   "source": [
    "# Coding Time\n",
    "history = model.fit(X_train_flat, Y_train_onehot, batch_size=128, epochs=20, validation_split=0.2)"
   ]
  },
  {
   "cell_type": "markdown",
   "metadata": {},
   "source": [
    "## (5) 모델 평가하기"
   ]
  },
  {
   "cell_type": "code",
   "execution_count": 28,
   "metadata": {},
   "outputs": [
    {
     "name": "stdout",
     "output_type": "stream",
     "text": [
      "79/79 [==============================] - 0s 2ms/step - loss: 0.3486 - accuracy: 0.9061\n",
      "loss : 0.3486, accruracy : 0.9061\n"
     ]
    }
   ],
   "source": [
    "# Coding Time\n",
    "loss_and_accuracy = model.evaluate(X_test_flat, Y_test_onehot, batch_size=128)\n",
    "print('loss : %.4f, accruracy : %.4f'%(loss_and_accuracy[0],loss_and_accuracy[1]))"
   ]
  },
  {
   "cell_type": "markdown",
   "metadata": {},
   "source": [
    "## (6) 모델 사용하기"
   ]
  },
  {
   "cell_type": "code",
   "execution_count": 29,
   "metadata": {},
   "outputs": [
    {
     "name": "stdout",
     "output_type": "stream",
     "text": [
      "1/1 [==============================] - 0s 23ms/step\n",
      "real_label : 6, predict_label : 6\n"
     ]
    },
    {
     "data": {
      "text/plain": [
       "<matplotlib.image.AxesImage at 0x22c751b8190>"
      ]
     },
     "execution_count": 29,
     "metadata": {},
     "output_type": "execute_result"
    },
    {
     "data": {
      "image/png": "[encoded data removed]",
      "text/plain": [
       "<Figure size 432x288 with 1 Axes>"
      ]
     },
     "metadata": {
      "needs_background": "light"
     },
     "output_type": "display_data"
    }
   ],
   "source": [
    "# Coding Time\n",
    "test_data = X_test[-1].reshape(1,28*28)\n",
    "pred_y = model.predict(test_data)\n",
    "pred_y = pred_y.argmax()\n",
    "\n",
    "print('real_label : {}, predict_label : {}'.format(Y_test[-1], pred_y))\n",
    "plt.imshow(X_test[-1], cmap='gray')"
   ]
  },
  {
   "cell_type": "markdown",
   "metadata": {},
   "source": [
    "# 1.3 MNIST Classification with DNN (To Do)\n",
    "\n",
    "모델의 설명을 보고 DNN 코드를 만들어보자"
   ]
  },
  {
   "cell_type": "markdown",
   "metadata": {},
   "source": [
    "## (2) Keras 모델링"
   ]
  },
  {
   "attachments": {
    "image.png": {
     "image/png": "[encoded data removed]"
    }
   },
   "cell_type": "markdown",
   "metadata": {},
   "source": [
    "![image.png](attachment:image.png)\n",
    "\n",
    "<맨 마지막 activation은 softmax로 하고 이외의 activation은 relu를 사용>"
   ]
  },
  {
   "cell_type": "code",
   "execution_count": 30,
   "metadata": {},
   "outputs": [
    {
     "name": "stdout",
     "output_type": "stream",
     "text": [
      "Model: \"sequential_1\"\n",
      "_________________________________________________________________\n",
      " Layer (type)                Output Shape              Param #   \n",
      "=================================================================\n",
      " dense_5 (Dense)             (None, 256)               200960    \n",
      "                                                                 \n",
      " dense_6 (Dense)             (None, 128)               32896     \n",
      "                                                                 \n",
      " dense_7 (Dense)             (None, 64)                8256      \n",
      "                                                                 \n",
      " dense_8 (Dense)             (None, 32)                2080      \n",
      "                                                                 \n",
      " dense_9 (Dense)             (None, 10)                330       \n",
      "                                                                 \n",
      "=================================================================\n",
      "Total params: 244,522\n",
      "Trainable params: 244,522\n",
      "Non-trainable params: 0\n",
      "_________________________________________________________________\n"
     ]
    }
   ],
   "source": [
    "def DNN_seq(n_in, n_out):\n",
    "    model = Sequential()\n",
    "    model.add(Dense(units = 256, input_shape=(n_in,), activation='relu'))\n",
    "    model.add(Dense(units = 128, input_shape=(256,), activation='relu'))\n",
    "    model.add(Dense(units = 64, input_shape=(128,), activation='relu'))\n",
    "    model.add(Dense(units = 32, input_shape=(64,), activation='relu'))\n",
    "    model.add(Dense(units = n_out, input_shape=(32,), activation='softmax'))\n",
    "    return model\n",
    "\n",
    "def DNN_func(n_in, n_out):\n",
    "    x = Input(shape=(n_in,))\n",
    "    x = Dense(256)(x)\n",
    "    x = Activation('relu')(x)\n",
    "    x = Dense(128)(x)\n",
    "    x = Activation('relu')(x)\n",
    "    x = Dense(64)(x)\n",
    "    x = Activation('relu')(x)\n",
    "    x = Dense(32)(x)\n",
    "    x = Activation('relu')(x)\n",
    "    x = Dense(n_out)(x)\n",
    "    y = Activation('softmax')(x)\n",
    "    model = Model(inputs = x, outputs = y)\n",
    "    return model\n",
    "\n",
    "model = DNN_seq(n_in, n_out)\n",
    "model.summary()"
   ]
  },
  {
   "cell_type": "markdown",
   "metadata": {},
   "source": [
    "## (3) 모델의 학습과정 설정\n",
    "<optimizer를 adam으로 설정>"
   ]
  },
  {
   "cell_type": "code",
   "execution_count": 31,
   "metadata": {},
   "outputs": [],
   "source": [
    "model.compile(loss='categorical_crossentropy', \n",
    "              optimizer='adam',\n",
    "              metrics=['accuracy'])"
   ]
  },
  {
   "cell_type": "markdown",
   "metadata": {},
   "source": [
    "## (4) 모델 학습시키기\n",
    "<batch size를 256, epoch을 30, train 데이터 중 30%를 validation 데이터로 사용, verbose 모드는 2>"
   ]
  },
  {
   "cell_type": "code",
   "execution_count": 32,
   "metadata": {},
   "outputs": [
    {
     "name": "stdout",
     "output_type": "stream",
     "text": [
      "Epoch 1/30\n",
      "165/165 - 1s - loss: 0.4738 - accuracy: 0.8576 - val_loss: 0.1994 - val_accuracy: 0.9416 - 936ms/epoch - 6ms/step\n",
      "Epoch 2/30\n",
      "165/165 - 1s - loss: 0.1604 - accuracy: 0.9520 - val_loss: 0.1483 - val_accuracy: 0.9558 - 548ms/epoch - 3ms/step\n",
      "Epoch 3/30\n",
      "165/165 - 0s - loss: 0.1037 - accuracy: 0.9690 - val_loss: 0.1264 - val_accuracy: 0.9633 - 497ms/epoch - 3ms/step\n",
      "Epoch 4/30\n",
      "165/165 - 1s - loss: 0.0748 - accuracy: 0.9780 - val_loss: 0.1316 - val_accuracy: 0.9609 - 506ms/epoch - 3ms/step\n",
      "Epoch 5/30\n",
      "165/165 - 0s - loss: 0.0562 - accuracy: 0.9822 - val_loss: 0.1064 - val_accuracy: 0.9705 - 496ms/epoch - 3ms/step\n",
      "Epoch 6/30\n",
      "165/165 - 1s - loss: 0.0413 - accuracy: 0.9876 - val_loss: 0.1064 - val_accuracy: 0.9701 - 509ms/epoch - 3ms/step\n",
      "Epoch 7/30\n",
      "165/165 - 0s - loss: 0.0334 - accuracy: 0.9903 - val_loss: 0.1067 - val_accuracy: 0.9701 - 491ms/epoch - 3ms/step\n",
      "Epoch 8/30\n",
      "165/165 - 1s - loss: 0.0352 - accuracy: 0.9889 - val_loss: 0.1173 - val_accuracy: 0.9688 - 503ms/epoch - 3ms/step\n",
      "Epoch 9/30\n",
      "165/165 - 0s - loss: 0.0181 - accuracy: 0.9948 - val_loss: 0.1103 - val_accuracy: 0.9732 - 494ms/epoch - 3ms/step\n",
      "Epoch 10/30\n",
      "165/165 - 1s - loss: 0.0173 - accuracy: 0.9952 - val_loss: 0.1128 - val_accuracy: 0.9732 - 500ms/epoch - 3ms/step\n",
      "Epoch 11/30\n",
      "165/165 - 1s - loss: 0.0118 - accuracy: 0.9965 - val_loss: 0.1266 - val_accuracy: 0.9712 - 515ms/epoch - 3ms/step\n",
      "Epoch 12/30\n",
      "165/165 - 1s - loss: 0.0142 - accuracy: 0.9957 - val_loss: 0.1306 - val_accuracy: 0.9705 - 517ms/epoch - 3ms/step\n",
      "Epoch 13/30\n",
      "165/165 - 0s - loss: 0.0133 - accuracy: 0.9959 - val_loss: 0.1443 - val_accuracy: 0.9664 - 490ms/epoch - 3ms/step\n",
      "Epoch 14/30\n",
      "165/165 - 0s - loss: 0.0123 - accuracy: 0.9961 - val_loss: 0.1546 - val_accuracy: 0.9677 - 498ms/epoch - 3ms/step\n",
      "Epoch 15/30\n",
      "165/165 - 1s - loss: 0.0125 - accuracy: 0.9958 - val_loss: 0.1310 - val_accuracy: 0.9723 - 504ms/epoch - 3ms/step\n",
      "Epoch 16/30\n",
      "165/165 - 0s - loss: 0.0078 - accuracy: 0.9975 - val_loss: 0.1399 - val_accuracy: 0.9714 - 491ms/epoch - 3ms/step\n",
      "Epoch 17/30\n",
      "165/165 - 1s - loss: 0.0055 - accuracy: 0.9984 - val_loss: 0.1378 - val_accuracy: 0.9739 - 526ms/epoch - 3ms/step\n",
      "Epoch 18/30\n",
      "165/165 - 0s - loss: 0.0097 - accuracy: 0.9967 - val_loss: 0.1394 - val_accuracy: 0.9729 - 490ms/epoch - 3ms/step\n",
      "Epoch 19/30\n",
      "165/165 - 1s - loss: 0.0093 - accuracy: 0.9970 - val_loss: 0.1449 - val_accuracy: 0.9724 - 530ms/epoch - 3ms/step\n",
      "Epoch 20/30\n",
      "165/165 - 0s - loss: 0.0086 - accuracy: 0.9971 - val_loss: 0.1549 - val_accuracy: 0.9693 - 491ms/epoch - 3ms/step\n",
      "Epoch 21/30\n",
      "165/165 - 1s - loss: 0.0101 - accuracy: 0.9966 - val_loss: 0.1465 - val_accuracy: 0.9714 - 518ms/epoch - 3ms/step\n",
      "Epoch 22/30\n",
      "165/165 - 0s - loss: 0.0061 - accuracy: 0.9979 - val_loss: 0.1693 - val_accuracy: 0.9685 - 474ms/epoch - 3ms/step\n",
      "Epoch 23/30\n",
      "165/165 - 1s - loss: 0.0072 - accuracy: 0.9975 - val_loss: 0.1691 - val_accuracy: 0.9699 - 503ms/epoch - 3ms/step\n",
      "Epoch 24/30\n",
      "165/165 - 0s - loss: 0.0047 - accuracy: 0.9986 - val_loss: 0.1609 - val_accuracy: 0.9718 - 481ms/epoch - 3ms/step\n",
      "Epoch 25/30\n",
      "165/165 - 0s - loss: 0.0078 - accuracy: 0.9974 - val_loss: 0.1539 - val_accuracy: 0.9724 - 492ms/epoch - 3ms/step\n",
      "Epoch 26/30\n",
      "165/165 - 0s - loss: 0.0063 - accuracy: 0.9981 - val_loss: 0.1495 - val_accuracy: 0.9741 - 484ms/epoch - 3ms/step\n",
      "Epoch 27/30\n",
      "165/165 - 0s - loss: 0.0074 - accuracy: 0.9974 - val_loss: 0.1487 - val_accuracy: 0.9733 - 497ms/epoch - 3ms/step\n",
      "Epoch 28/30\n",
      "165/165 - 0s - loss: 0.0047 - accuracy: 0.9984 - val_loss: 0.1561 - val_accuracy: 0.9745 - 499ms/epoch - 3ms/step\n",
      "Epoch 29/30\n",
      "165/165 - 1s - loss: 0.0100 - accuracy: 0.9965 - val_loss: 0.1504 - val_accuracy: 0.9709 - 518ms/epoch - 3ms/step\n",
      "Epoch 30/30\n",
      "165/165 - 1s - loss: 0.0042 - accuracy: 0.9986 - val_loss: 0.1433 - val_accuracy: 0.9751 - 510ms/epoch - 3ms/step\n"
     ]
    }
   ],
   "source": [
    "history = model.fit(X_train_flat, Y_train_onehot, batch_size=256, epochs=30, validation_split=0.3, verbose =2)"
   ]
  },
  {
   "cell_type": "markdown",
   "metadata": {},
   "source": [
    "## (5) 모델 평가하기"
   ]
  },
  {
   "cell_type": "code",
   "execution_count": 33,
   "metadata": {},
   "outputs": [
    {
     "name": "stdout",
     "output_type": "stream",
     "text": [
      "79/79 [==============================] - 0s 2ms/step - loss: 0.1143 - accuracy: 0.9796\n",
      "loss : 0.1143, accruracy : 0.9796\n"
     ]
    }
   ],
   "source": [
    "loss_and_accuracy = model.evaluate(X_test_flat, Y_test_onehot, batch_size=128)\n",
    "print('loss : %.4f, accruracy : %.4f'%(loss_and_accuracy[0],loss_and_accuracy[1]))"
   ]
  },
  {
   "cell_type": "markdown",
   "metadata": {},
   "source": [
    "## (6) 모델 사용하기"
   ]
  },
  {
   "cell_type": "code",
   "execution_count": 34,
   "metadata": {
    "tags": []
   },
   "outputs": [
    {
     "name": "stdout",
     "output_type": "stream",
     "text": [
      "real_label : 7, predict_label : 7\n"
     ]
    },
    {
     "data": {
      "image/png": "[encoded data removed]",
      "text/plain": [
       "<Figure size 432x288 with 1 Axes>"
      ]
     },
     "metadata": {
      "needs_background": "light"
     },
     "output_type": "display_data"
    },
    {
     "name": "stdout",
     "output_type": "stream",
     "text": [
      "real_label : 2, predict_label : 2\n"
     ]
    },
    {
     "data": {
      "image/png": "[encoded data removed]",
      "text/plain": [
       "<Figure size 432x288 with 1 Axes>"
      ]
     },
     "metadata": {
      "needs_background": "light"
     },
     "output_type": "display_data"
    },
    {
     "name": "stdout",
     "output_type": "stream",
     "text": [
      "real_label : 1, predict_label : 1\n"
     ]
    },
    {
     "data": {
      "image/png": "[encoded data removed]",
      "text/plain": [
       "<Figure size 432x288 with 1 Axes>"
      ]
     },
     "metadata": {
      "needs_background": "light"
     },
     "output_type": "display_data"
    },
    {
     "name": "stdout",
     "output_type": "stream",
     "text": [
      "real_label : 0, predict_label : 0\n"
     ]
    },
    {
     "data": {
      "image/png": "[encoded data removed]",
      "text/plain": [
       "<Figure size 432x288 with 1 Axes>"
      ]
     },
     "metadata": {
      "needs_background": "light"
     },
     "output_type": "display_data"
    },
    {
     "name": "stdout",
     "output_type": "stream",
     "text": [
      "real_label : 4, predict_label : 4\n"
     ]
    },
    {
     "data": {
      "image/png": "[encoded data removed]",
      "text/plain": [
       "<Figure size 432x288 with 1 Axes>"
      ]
     },
     "metadata": {
      "needs_background": "light"
     },
     "output_type": "display_data"
    }
   ],
   "source": [
    "for i in range(5):\n",
    "    test_data = X_test[i].reshape(1,28*28) \n",
    "    pred_y = model.predict(test_data, verbose=0)\n",
    "    pred_y = pred_y.argmax()\n",
    "    \n",
    "    print('real_label : {}, predict_label : {}'.format(Y_test[i], pred_y))\n",
    "    plt.imshow(X_test[i], cmap='gray')\n",
    "    plt.show()"
   ]
  },
  {
   "cell_type": "markdown",
   "metadata": {},
   "source": [
    "## (7) 모델 저장하고 불러오기\n",
    "\n",
    "저장하기 : model 객체의 내부 함수인 save() .h5 형식으로 저장할 수 있음 [1.모델의 구조, 2.학습된 파라미터, 3.complie() 설정]"
   ]
  },
  {
   "cell_type": "code",
   "execution_count": 35,
   "metadata": {},
   "outputs": [],
   "source": [
    "# Coding Time\n",
    "model.save('latest_model.h5')"
   ]
  },
  {
   "cell_type": "markdown",
   "metadata": {},
   "source": [
    "불러오기 : load_model 함수로 .h5 파일에서 모델을 불러올 수 있음"
   ]
  },
  {
   "cell_type": "code",
   "execution_count": 36,
   "metadata": {},
   "outputs": [
    {
     "name": "stdout",
     "output_type": "stream",
     "text": [
      "Epoch 1/3\n",
      "165/165 - 1s - loss: 0.0135 - accuracy: 0.9960 - val_loss: 0.1338 - val_accuracy: 0.9761 - 681ms/epoch - 4ms/step\n",
      "Epoch 2/3\n",
      "165/165 - 0s - loss: 0.0069 - accuracy: 0.9980 - val_loss: 0.1580 - val_accuracy: 0.9717 - 496ms/epoch - 3ms/step\n",
      "Epoch 3/3\n",
      "165/165 - 0s - loss: 0.0051 - accuracy: 0.9985 - val_loss: 0.1537 - val_accuracy: 0.9754 - 491ms/epoch - 3ms/step\n"
     ]
    },
    {
     "data": {
      "text/plain": [
       "<keras.callbacks.History at 0x22c53488160>"
      ]
     },
     "execution_count": 36,
     "metadata": {},
     "output_type": "execute_result"
    }
   ],
   "source": [
    "# Coding Time\n",
    "from tensorflow.keras.models import load_model\n",
    "model = load_model('latest_model.h5')\n",
    "model.fit(X_train_flat, Y_train_onehot, batch_size=256, epochs=3, validation_split=0.3, verbose=2)"
   ]
  },
  {
   "cell_type": "markdown",
   "metadata": {},
   "source": [
    "# ======================================================"
   ]
  },
  {
   "cell_type": "markdown",
   "metadata": {},
   "source": [
    "# 1.4 Keras MNIST - 모델의 성능을 직접 높혀보자\n",
    " - DNN의 구조를 바꾸어 나만의 모델을 만들어보자\n",
    " - 목표 정확도: 평가 셋에 대해 98.5% 만들기\n",
    " - 바꿀 수 있는 하이퍼 파라미터: Learning Rate, Batch size, Epochs, Optimizer, Activation Function, 모델 레이어 구조 등"
   ]
  },
  {
   "cell_type": "markdown",
   "metadata": {},
   "source": [
    "## (2) Keras 모델링"
   ]
  },
  {
   "cell_type": "code",
   "execution_count": null,
   "metadata": {
    "tags": []
   },
   "outputs": [],
   "source": []
  },
  {
   "cell_type": "markdown",
   "metadata": {},
   "source": [
    "## (3) 모델의 학습과정 설정"
   ]
  },
  {
   "cell_type": "code",
   "execution_count": null,
   "metadata": {},
   "outputs": [],
   "source": []
  },
  {
   "cell_type": "markdown",
   "metadata": {
    "tags": []
   },
   "source": [
    "## (4) 모델 학습시키기"
   ]
  },
  {
   "cell_type": "code",
   "execution_count": null,
   "metadata": {},
   "outputs": [],
   "source": []
  },
  {
   "cell_type": "markdown",
   "metadata": {},
   "source": [
    "## (5) 모델 평가하기"
   ]
  },
  {
   "cell_type": "code",
   "execution_count": null,
   "metadata": {},
   "outputs": [],
   "source": []
  }
 ],
 "metadata": {
  "kernelspec": {
   "display_name": "mldl",
   "language": "python",
   "name": "mldl"
  },
  "language_info": {
   "codemirror_mode": {
    "name": "ipython",
    "version": 3
   },
   "file_extension": ".py",
   "mimetype": "text/x-python",
   "name": "python",
   "nbconvert_exporter": "python",
   "pygments_lexer": "ipython3",
   "version": "3.8.13"
  }
 },
 "nbformat": 4,
 "nbformat_minor": 4
}
