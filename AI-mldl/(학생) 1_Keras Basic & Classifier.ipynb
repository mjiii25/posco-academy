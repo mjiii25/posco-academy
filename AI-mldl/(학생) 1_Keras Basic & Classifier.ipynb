{
 "cells": [
  {
   "cell_type": "markdown",
   "metadata": {},
   "source": [
    "# 1. Keras tutorial\n",
    "\n",
    "- 1.1 Keras Basic(y=3x Regression) - ANN(단층 레이어)\n",
    "- 1.2 Keras MNIST - ANN(단층 레이어)\n",
    "- 1.3 Keras MNIST - DNN(다층 레이어)\n",
    "- 1.4 Keras MNIST - 나만의 모델 만들기"
   ]
  },
  {
   "cell_type": "code",
   "execution_count": 1,
   "metadata": {},
   "outputs": [],
   "source": [
    "# Import Libraries\n",
    "from tensorflow import keras\n",
    "import numpy as np\n",
    "import matplotlib.pyplot as plt\n",
    "%matplotlib inline"
   ]
  },
  {
   "cell_type": "markdown",
   "metadata": {},
   "source": [
    "## 1.1 Keras Basic Y = 3X ANN Regression\n",
    "- 이번 실습에서는 Keras를 이용하여 1차함수를 예측하는 학습 모델을 만들고, 성능을 평가한다."
   ]
  },
  {
   "cell_type": "markdown",
   "metadata": {},
   "source": [
    "### (1) 데이터셋 준비"
   ]
  },
  {
   "cell_type": "code",
   "execution_count": 2,
   "metadata": {},
   "outputs": [
    {
     "data": {
      "image/png": "[encoded data removed]",
      "text/plain": [
       "<Figure size 432x288 with 1 Axes>"
      ]
     },
     "metadata": {
      "needs_background": "light"
     },
     "output_type": "display_data"
    }
   ],
   "source": [
    "# Training Data\n",
    "x = np.arange(20) # 0, 1, 2, 3, ...., 19\n",
    "y = x * 3 # 0, 3, 6, 9, ..., 57\n",
    "plt.plot(x,y)\n",
    "\n",
    "# Testing Data \n",
    "x_test = np.arange(50,70) # 50, 51, 52, ..., 69\n",
    "y_test = x_test*3 # 150, 153, 156, ..., 207\n",
    "\n",
    "# Dimension of input and output\n",
    "n_in = 1\n",
    "n_out = 1"
   ]
  },
  {
   "cell_type": "markdown",
   "metadata": {},
   "source": [
    "### (2) Keras 모델링\n",
    "\n",
    "- keras.layers : 모델을 구성하기 위한 layer들이 구현되어 있는 모듈\n",
    "\n",
    "- keras.models : layer들을 묶어 모델을 정의하고 학습, 평가, 예측 등의 기능을 구현한 모듈"
   ]
  },
  {
   "cell_type": "code",
   "execution_count": 3,
   "metadata": {},
   "outputs": [],
   "source": [
    "from tensorflow.keras import layers, models"
   ]
  },
  {
   "cell_type": "markdown",
   "metadata": {},
   "source": [
    "Keras에서는 크게 Functional, Sequential 방식으로 모델을 구현\n",
    "\n",
    "- Sequential : 모델에 필요한 layer들을 순차적으로 더해가는 방식으로 구현\n",
    "- Function : 모델을 수식처럼 구현 "
   ]
  },
  {
   "cell_type": "markdown",
   "metadata": {},
   "source": [
    "<Sequential에 사용되는 Layer>\n",
    "\n",
    "- Dense : Fully Connected Layer (https://keras.io/layers/core/#dense)"
   ]
  },
  {
   "cell_type": "markdown",
   "metadata": {},
   "source": [
    "### Sequential Modeling"
   ]
  },
  {
   "cell_type": "code",
   "execution_count": 8,
   "metadata": {},
   "outputs": [],
   "source": [
    "def modeling_sequential(n_in, n_out):\n",
    "    # Coding Time\n",
    "    model = models.Sequential()\n",
    "    model.add(layers.Dense(units = n_out, input_shape = (n_in,)))\n",
    "\n",
    "    return model"
   ]
  },
  {
   "cell_type": "code",
   "execution_count": 11,
   "metadata": {},
   "outputs": [],
   "source": [
    "class modeling_sequential_class(models.Sequential):\n",
    "    def __init__(self, n_in, n_out):\n",
    "        \n",
    "        #멤버 변수로 모델에 사용할 변수 선언\n",
    "        self.n_in = n_in\n",
    "        self.n_out = n_out\n",
    "        \n",
    "        #상속받은 Sequential 클래스 초기화 후 레이어 추가\n",
    "        super().__init__()\n",
    "        self.add(layers.Dense(units =n_out, input_shape=(n_in,)))"
   ]
  },
  {
   "cell_type": "markdown",
   "metadata": {},
   "source": [
    "<Functional에 사용되는 Layer>\n",
    "\n",
    "- Input : 모델에 입력되는 데이터의 batch size를 제외한 shape을 결정\n",
    "\n",
    "- Dense : Fully Connected Layer (https://keras.io/layers/core/#dense)"
   ]
  },
  {
   "cell_type": "markdown",
   "metadata": {},
   "source": [
    "### Functional Modeling"
   ]
  },
  {
   "cell_type": "code",
   "execution_count": 6,
   "metadata": {},
   "outputs": [],
   "source": [
    "def modeling_functional(n_in, n_out):\n",
    "    # Coding Time\n",
    "    x = layers.Input(shape = (n_in,))\n",
    "    y = layers.Dense(n_out)(x)\n",
    "    model = models.Model(inputs = x, outputs = y)\n",
    "    \n",
    "    return model"
   ]
  },
  {
   "cell_type": "code",
   "execution_count": 12,
   "metadata": {},
   "outputs": [],
   "source": [
    "class modeling_functional_class(models.Model):\n",
    "    def __init__(self, n_in, n_out):\n",
    "        \n",
    "        #멤버 변수로 모델에 사용할 변수 및 레이어 선언\n",
    "        self.n_in = n_in\n",
    "        self.n_out = n_out\n",
    "        input = layers.Input(shape=(n_in,))\n",
    "        output = layers.Dense(n_out)\n",
    "        \n",
    "        # layer 연결\n",
    "        x = input\n",
    "        y = output(x)\n",
    "\n",
    "        #상속받은 Model 클래스 초기화\n",
    "        super().__init__(x, y)"
   ]
  },
  {
   "cell_type": "markdown",
   "metadata": {
    "tags": []
   },
   "source": [
    "### (2)-2 모델 시각화\n",
    "\n",
    "model.summary()나 plot_model(model) 활용"
   ]
  },
  {
   "cell_type": "code",
   "execution_count": 9,
   "metadata": {},
   "outputs": [
    {
     "name": "stdout",
     "output_type": "stream",
     "text": [
      "Model: \"sequential\"\n",
      "_________________________________________________________________\n",
      "Layer (type)                 Output Shape              Param #   \n",
      "=================================================================\n",
      "dense (Dense)                (None, 1)                 2         \n",
      "=================================================================\n",
      "Total params: 2\n",
      "Trainable params: 2\n",
      "Non-trainable params: 0\n",
      "_________________________________________________________________\n"
     ]
    },
    {
     "name": "stderr",
     "output_type": "stream",
     "text": [
      "2022-09-02 15:05:46.306293: I tensorflow/core/platform/cpu_feature_guard.cc:142] This TensorFlow binary is optimized with oneAPI Deep Neural Network Library (oneDNN) to use the following CPU instructions in performance-critical operations:  AVX2 AVX512F FMA\n",
      "To enable them in other operations, rebuild TensorFlow with the appropriate compiler flags.\n",
      "2022-09-02 15:05:46.765355: I tensorflow/core/common_runtime/gpu/gpu_device.cc:1510] Created device /job:localhost/replica:0/task:0/device:GPU:0 with 21963 MB memory:  -> device: 0, name: NVIDIA RTX A5000, pci bus id: 0000:b3:00.0, compute capability: 8.6\n"
     ]
    }
   ],
   "source": [
    "model =  modeling_sequential(n_in, n_out)\n",
    "model.summary()"
   ]
  },
  {
   "cell_type": "code",
   "execution_count": 13,
   "metadata": {},
   "outputs": [
    {
     "name": "stdout",
     "output_type": "stream",
     "text": [
      "Model: \"modeling_sequential_class\"\n",
      "_________________________________________________________________\n",
      "Layer (type)                 Output Shape              Param #   \n",
      "=================================================================\n",
      "dense_1 (Dense)              (None, 1)                 2         \n",
      "=================================================================\n",
      "Total params: 2\n",
      "Trainable params: 2\n",
      "Non-trainable params: 0\n",
      "_________________________________________________________________\n"
     ]
    }
   ],
   "source": [
    "model =  modeling_sequential_class(n_in, n_out)\n",
    "model.summary()"
   ]
  },
  {
   "cell_type": "code",
   "execution_count": 14,
   "metadata": {},
   "outputs": [
    {
     "name": "stdout",
     "output_type": "stream",
     "text": [
      "Model: \"model\"\n",
      "_________________________________________________________________\n",
      "Layer (type)                 Output Shape              Param #   \n",
      "=================================================================\n",
      "input_1 (InputLayer)         [(None, 1)]               0         \n",
      "_________________________________________________________________\n",
      "dense_2 (Dense)              (None, 1)                 2         \n",
      "=================================================================\n",
      "Total params: 2\n",
      "Trainable params: 2\n",
      "Non-trainable params: 0\n",
      "_________________________________________________________________\n"
     ]
    }
   ],
   "source": [
    "model =  modeling_functional(n_in, n_out)\n",
    "model.summary()"
   ]
  },
  {
   "cell_type": "code",
   "execution_count": 15,
   "metadata": {},
   "outputs": [
    {
     "name": "stdout",
     "output_type": "stream",
     "text": [
      "Model: \"modeling_functional_class\"\n",
      "_________________________________________________________________\n",
      "Layer (type)                 Output Shape              Param #   \n",
      "=================================================================\n",
      "input_2 (InputLayer)         [(None, 1)]               0         \n",
      "_________________________________________________________________\n",
      "dense_3 (Dense)              (None, 1)                 2         \n",
      "=================================================================\n",
      "Total params: 2\n",
      "Trainable params: 2\n",
      "Non-trainable params: 0\n",
      "_________________________________________________________________\n"
     ]
    }
   ],
   "source": [
    "model = modeling_functional_class(n_in, n_out)\n",
    "model.summary()"
   ]
  },
  {
   "cell_type": "code",
   "execution_count": 16,
   "metadata": {},
   "outputs": [
    {
     "data": {
      "image/png": "[encoded data removed]",
      "text/plain": [
       "<IPython.core.display.Image object>"
      ]
     },
     "execution_count": 16,
     "metadata": {},
     "output_type": "execute_result"
    }
   ],
   "source": [
    "from tensorflow.keras.utils import plot_model\n",
    "plot_model(model, show_shapes=True)"
   ]
  },
  {
   "cell_type": "markdown",
   "metadata": {},
   "source": [
    "### (3) 모델의 학습과정 설정(model.compile)\n",
    "- model.compile(loss, optimizer, metrics)\n",
    "- optimizer(str) : optimizer instance\n",
    "- loss(str) : loss function\n",
    "- metrics(str) : list of metrics to be evaluated by the model during training and testing\n",
    "(https://www.tensorflow.org/api_docs/python/tf/keras/Model)"
   ]
  },
  {
   "cell_type": "code",
   "execution_count": 17,
   "metadata": {},
   "outputs": [],
   "source": [
    "# Coding Time\n",
    "model.compile(loss = 'mse', optimizer = 'sgd')"
   ]
  },
  {
   "cell_type": "markdown",
   "metadata": {
    "tags": []
   },
   "source": [
    "### (4) 모델 학습시키기(model.fit)\n",
    "\n",
    " - x : Input data\n",
    " - y : Label of training input data\n",
    " - batch_szie(int) : Number of samples per gradient update\n",
    " - steps_per_epoch(int) : Total number of steps (batches of samples) before declaring one epoch finished and starting the next epoch\n",
    " - epochs(int) : Number of epochs to train the model\n",
    " - verbose : 0 = silent, 1 = progress bar, 2 = one line per epoch\n",
    " - callbacks : List of callback instances\n",
    " - validation_split(float) : Fraction of the training data to be used as validation data\n",
    " - validation_data : (x_val, y_val)\n",
    " - shuffle(bool) : Whether to shuffle the training data before each epoch\n",
    " - history : 학습과정이 담겨있는 데이터 송출\n",
    " (https://www.tensorflow.org/api_docs/python/tf/keras/Model)"
   ]
  },
  {
   "cell_type": "code",
   "execution_count": 18,
   "metadata": {
    "scrolled": true,
    "tags": []
   },
   "outputs": [
    {
     "name": "stderr",
     "output_type": "stream",
     "text": [
      "2022-09-02 15:08:09.430983: I tensorflow/compiler/mlir/mlir_graph_optimization_pass.cc:185] None of the MLIR Optimization Passes are enabled (registered 2)\n"
     ]
    },
    {
     "name": "stdout",
     "output_type": "stream",
     "text": [
      "Epoch 1/100\n",
      "4/4 [==============================] - 1s 40ms/step - loss: 244.0174 - val_loss: 7.7903\n",
      "Epoch 2/100\n",
      "4/4 [==============================] - 0s 12ms/step - loss: 0.9645 - val_loss: 0.2291\n",
      "Epoch 3/100\n",
      "4/4 [==============================] - 0s 12ms/step - loss: 0.1249 - val_loss: 0.3833\n",
      "Epoch 4/100\n",
      "4/4 [==============================] - 0s 9ms/step - loss: 0.1383 - val_loss: 0.8360\n",
      "Epoch 5/100\n",
      "4/4 [==============================] - 0s 8ms/step - loss: 0.2535 - val_loss: 0.5586\n",
      "Epoch 6/100\n",
      "4/4 [==============================] - 0s 8ms/step - loss: 0.0544 - val_loss: 0.1558\n",
      "Epoch 7/100\n",
      "4/4 [==============================] - 0s 11ms/step - loss: 0.0442 - val_loss: 1.0224\n",
      "Epoch 8/100\n",
      "4/4 [==============================] - 0s 11ms/step - loss: 0.1714 - val_loss: 0.1420\n",
      "Epoch 9/100\n",
      "4/4 [==============================] - 0s 11ms/step - loss: 0.0369 - val_loss: 0.0078\n",
      "Epoch 10/100\n",
      "4/4 [==============================] - 0s 12ms/step - loss: 0.0371 - val_loss: 0.6480\n",
      "Epoch 11/100\n",
      "4/4 [==============================] - 0s 12ms/step - loss: 0.1497 - val_loss: 0.0838\n",
      "Epoch 12/100\n",
      "4/4 [==============================] - 0s 12ms/step - loss: 0.0455 - val_loss: 1.2771\n",
      "Epoch 13/100\n",
      "4/4 [==============================] - 0s 9ms/step - loss: 0.1409 - val_loss: 0.0084\n",
      "Epoch 14/100\n",
      "4/4 [==============================] - 0s 8ms/step - loss: 0.0406 - val_loss: 0.3581\n",
      "Epoch 15/100\n",
      "4/4 [==============================] - 0s 8ms/step - loss: 0.0383 - val_loss: 0.1460\n",
      "Epoch 16/100\n",
      "4/4 [==============================] - 0s 12ms/step - loss: 0.0382 - val_loss: 0.0597\n",
      "Epoch 17/100\n",
      "4/4 [==============================] - 0s 8ms/step - loss: 0.0265 - val_loss: 0.2039\n",
      "Epoch 18/100\n",
      "4/4 [==============================] - 0s 12ms/step - loss: 0.0298 - val_loss: 0.2629\n",
      "Epoch 19/100\n",
      "4/4 [==============================] - 0s 9ms/step - loss: 0.0677 - val_loss: 0.4115\n",
      "Epoch 20/100\n",
      "4/4 [==============================] - 0s 8ms/step - loss: 0.0389 - val_loss: 0.2593\n",
      "Epoch 21/100\n",
      "4/4 [==============================] - 0s 8ms/step - loss: 0.0646 - val_loss: 0.0725\n",
      "Epoch 22/100\n",
      "4/4 [==============================] - 0s 12ms/step - loss: 0.0416 - val_loss: 0.0961\n",
      "Epoch 23/100\n",
      "4/4 [==============================] - 0s 12ms/step - loss: 0.0622 - val_loss: 0.0837\n",
      "Epoch 24/100\n",
      "4/4 [==============================] - 0s 12ms/step - loss: 0.0202 - val_loss: 0.1990\n",
      "Epoch 25/100\n",
      "4/4 [==============================] - 0s 12ms/step - loss: 0.0341 - val_loss: 0.1023\n",
      "Epoch 26/100\n",
      "4/4 [==============================] - 0s 9ms/step - loss: 0.0309 - val_loss: 0.1541\n",
      "Epoch 27/100\n",
      "4/4 [==============================] - 0s 11ms/step - loss: 0.0371 - val_loss: 0.1148\n",
      "Epoch 28/100\n",
      "4/4 [==============================] - 0s 12ms/step - loss: 0.0240 - val_loss: 0.3192\n",
      "Epoch 29/100\n",
      "4/4 [==============================] - 0s 11ms/step - loss: 0.0511 - val_loss: 0.0914\n",
      "Epoch 30/100\n",
      "4/4 [==============================] - 0s 12ms/step - loss: 0.0216 - val_loss: 0.1415\n",
      "Epoch 31/100\n",
      "4/4 [==============================] - 0s 12ms/step - loss: 0.0159 - val_loss: 0.1108\n",
      "Epoch 32/100\n",
      "4/4 [==============================] - 0s 12ms/step - loss: 0.0140 - val_loss: 0.0216\n",
      "Epoch 33/100\n",
      "4/4 [==============================] - 0s 11ms/step - loss: 0.0202 - val_loss: 4.9414e-04\n",
      "Epoch 34/100\n",
      "4/4 [==============================] - 0s 12ms/step - loss: 0.0148 - val_loss: 0.0691\n",
      "Epoch 35/100\n",
      "4/4 [==============================] - 0s 11ms/step - loss: 0.0148 - val_loss: 0.3957\n",
      "Epoch 36/100\n",
      "4/4 [==============================] - 0s 12ms/step - loss: 0.0243 - val_loss: 0.0182\n",
      "Epoch 37/100\n",
      "4/4 [==============================] - 0s 12ms/step - loss: 0.0127 - val_loss: 0.1279\n",
      "Epoch 38/100\n",
      "4/4 [==============================] - 0s 12ms/step - loss: 0.0358 - val_loss: 0.1519\n",
      "Epoch 39/100\n",
      "4/4 [==============================] - 0s 12ms/step - loss: 0.0201 - val_loss: 0.0464\n",
      "Epoch 40/100\n",
      "4/4 [==============================] - 0s 11ms/step - loss: 0.0169 - val_loss: 0.0478\n",
      "Epoch 41/100\n",
      "4/4 [==============================] - 0s 8ms/step - loss: 0.0171 - val_loss: 0.0669\n",
      "Epoch 42/100\n",
      "4/4 [==============================] - 0s 8ms/step - loss: 0.0171 - val_loss: 0.2652\n",
      "Epoch 43/100\n",
      "4/4 [==============================] - 0s 12ms/step - loss: 0.0841 - val_loss: 0.0529\n",
      "Epoch 44/100\n",
      "4/4 [==============================] - 0s 11ms/step - loss: 0.0090 - val_loss: 0.0434\n",
      "Epoch 45/100\n",
      "4/4 [==============================] - 0s 8ms/step - loss: 0.0085 - val_loss: 0.0928\n",
      "Epoch 46/100\n",
      "4/4 [==============================] - 0s 9ms/step - loss: 0.0109 - val_loss: 0.0637\n",
      "Epoch 47/100\n",
      "4/4 [==============================] - 0s 13ms/step - loss: 0.0214 - val_loss: 0.0017\n",
      "Epoch 48/100\n",
      "4/4 [==============================] - 0s 12ms/step - loss: 0.0086 - val_loss: 0.2352\n",
      "Epoch 49/100\n",
      "4/4 [==============================] - 0s 12ms/step - loss: 0.0401 - val_loss: 0.0920\n",
      "Epoch 50/100\n",
      "4/4 [==============================] - 0s 8ms/step - loss: 0.0165 - val_loss: 0.0145\n",
      "Epoch 51/100\n",
      "4/4 [==============================] - 0s 8ms/step - loss: 0.0054 - val_loss: 0.0046\n",
      "Epoch 52/100\n",
      "4/4 [==============================] - 0s 12ms/step - loss: 0.0052 - val_loss: 0.0232\n",
      "Epoch 53/100\n",
      "4/4 [==============================] - 0s 12ms/step - loss: 0.0060 - val_loss: 0.0821\n",
      "Epoch 54/100\n",
      "4/4 [==============================] - 0s 9ms/step - loss: 0.0231 - val_loss: 0.0306\n",
      "Epoch 55/100\n",
      "4/4 [==============================] - 0s 12ms/step - loss: 0.0117 - val_loss: 0.0070\n",
      "Epoch 56/100\n",
      "4/4 [==============================] - 0s 11ms/step - loss: 0.0045 - val_loss: 0.0225\n",
      "Epoch 57/100\n",
      "4/4 [==============================] - 0s 12ms/step - loss: 0.0048 - val_loss: 0.0233\n",
      "Epoch 58/100\n",
      "4/4 [==============================] - 0s 9ms/step - loss: 0.0045 - val_loss: 0.0364\n",
      "Epoch 59/100\n",
      "4/4 [==============================] - 0s 13ms/step - loss: 0.0053 - val_loss: 4.0694e-04\n",
      "Epoch 60/100\n",
      "4/4 [==============================] - 0s 12ms/step - loss: 0.0035 - val_loss: 0.0416\n",
      "Epoch 61/100\n",
      "4/4 [==============================] - 0s 9ms/step - loss: 0.0058 - val_loss: 0.0064\n",
      "Epoch 62/100\n",
      "4/4 [==============================] - 0s 12ms/step - loss: 0.0037 - val_loss: 0.0300\n",
      "Epoch 63/100\n",
      "4/4 [==============================] - 0s 13ms/step - loss: 0.0043 - val_loss: 0.0190\n",
      "Epoch 64/100\n",
      "4/4 [==============================] - 0s 12ms/step - loss: 0.0034 - val_loss: 0.0355\n",
      "Epoch 65/100\n",
      "4/4 [==============================] - 0s 12ms/step - loss: 0.0091 - val_loss: 0.0105\n",
      "Epoch 66/100\n",
      "4/4 [==============================] - 0s 8ms/step - loss: 0.0028 - val_loss: 0.0175\n",
      "Epoch 67/100\n",
      "4/4 [==============================] - 0s 12ms/step - loss: 0.0037 - val_loss: 6.1050e-04\n",
      "Epoch 68/100\n",
      "4/4 [==============================] - 0s 12ms/step - loss: 0.0033 - val_loss: 1.8054e-04\n",
      "Epoch 69/100\n",
      "4/4 [==============================] - 0s 11ms/step - loss: 0.0030 - val_loss: 0.0058\n",
      "Epoch 70/100\n",
      "4/4 [==============================] - 0s 9ms/step - loss: 0.0028 - val_loss: 0.0327\n",
      "Epoch 71/100\n",
      "4/4 [==============================] - 0s 12ms/step - loss: 0.0119 - val_loss: 0.0059\n",
      "Epoch 72/100\n",
      "4/4 [==============================] - 0s 8ms/step - loss: 0.0026 - val_loss: 0.0014\n",
      "Epoch 73/100\n",
      "4/4 [==============================] - 0s 12ms/step - loss: 0.0021 - val_loss: 3.1465e-05\n",
      "Epoch 74/100\n",
      "4/4 [==============================] - 0s 9ms/step - loss: 0.0025 - val_loss: 0.0165\n",
      "Epoch 75/100\n",
      "4/4 [==============================] - 0s 8ms/step - loss: 0.0035 - val_loss: 0.0114\n",
      "Epoch 76/100\n",
      "4/4 [==============================] - 0s 12ms/step - loss: 0.0027 - val_loss: 0.0079\n",
      "Epoch 77/100\n",
      "4/4 [==============================] - 0s 10ms/step - loss: 0.0022 - val_loss: 0.0067\n",
      "Epoch 78/100\n",
      "4/4 [==============================] - 0s 12ms/step - loss: 0.0049 - val_loss: 0.0018\n",
      "Epoch 79/100\n",
      "4/4 [==============================] - 0s 8ms/step - loss: 0.0042 - val_loss: 0.0138\n",
      "Epoch 80/100\n",
      "4/4 [==============================] - 0s 12ms/step - loss: 0.0021 - val_loss: 0.0140\n",
      "Epoch 81/100\n",
      "4/4 [==============================] - 0s 12ms/step - loss: 0.0057 - val_loss: 0.0170\n",
      "Epoch 82/100\n",
      "4/4 [==============================] - 0s 8ms/step - loss: 0.0025 - val_loss: 2.1334e-04\n",
      "Epoch 83/100\n",
      "4/4 [==============================] - 0s 12ms/step - loss: 0.0027 - val_loss: 0.0056\n"
     ]
    },
    {
     "name": "stdout",
     "output_type": "stream",
     "text": [
      "Epoch 84/100\n",
      "4/4 [==============================] - 0s 12ms/step - loss: 0.0019 - val_loss: 0.0106\n",
      "Epoch 85/100\n",
      "4/4 [==============================] - 0s 11ms/step - loss: 0.0015 - val_loss: 0.0060\n",
      "Epoch 86/100\n",
      "4/4 [==============================] - 0s 8ms/step - loss: 0.0015 - val_loss: 0.0577\n",
      "Epoch 87/100\n",
      "4/4 [==============================] - 0s 12ms/step - loss: 0.0097 - val_loss: 0.0281\n",
      "Epoch 88/100\n",
      "4/4 [==============================] - 0s 9ms/step - loss: 0.0075 - val_loss: 0.0034\n",
      "Epoch 89/100\n",
      "4/4 [==============================] - 0s 9ms/step - loss: 9.5222e-04 - val_loss: 6.7068e-04\n",
      "Epoch 90/100\n",
      "4/4 [==============================] - 0s 12ms/step - loss: 8.9810e-04 - val_loss: 0.0085\n",
      "Epoch 91/100\n",
      "4/4 [==============================] - 0s 12ms/step - loss: 0.0022 - val_loss: 0.0145\n",
      "Epoch 92/100\n",
      "4/4 [==============================] - 0s 9ms/step - loss: 0.0043 - val_loss: 0.0066\n",
      "Epoch 93/100\n",
      "4/4 [==============================] - 0s 11ms/step - loss: 8.5874e-04 - val_loss: 0.0060\n",
      "Epoch 94/100\n",
      "4/4 [==============================] - 0s 9ms/step - loss: 0.0026 - val_loss: 0.0035\n",
      "Epoch 95/100\n",
      "4/4 [==============================] - 0s 8ms/step - loss: 7.4770e-04 - val_loss: 0.0013\n",
      "Epoch 96/100\n",
      "4/4 [==============================] - 0s 12ms/step - loss: 0.0011 - val_loss: 0.0143\n",
      "Epoch 97/100\n",
      "4/4 [==============================] - 0s 12ms/step - loss: 0.0012 - val_loss: 0.0035\n",
      "Epoch 98/100\n",
      "4/4 [==============================] - 0s 12ms/step - loss: 7.0403e-04 - val_loss: 0.0051\n",
      "Epoch 99/100\n",
      "4/4 [==============================] - 0s 11ms/step - loss: 9.5861e-04 - val_loss: 0.0050\n",
      "Epoch 100/100\n",
      "4/4 [==============================] - 0s 9ms/step - loss: 9.0044e-04 - val_loss: 0.0039\n"
     ]
    }
   ],
   "source": [
    "# Coding Time\n",
    "history = model.fit(x, y, batch_size = 5, epochs = 100, validation_split = 0.2)"
   ]
  },
  {
   "cell_type": "markdown",
   "metadata": {
    "tags": []
   },
   "source": [
    "### (5) 모델 평가하기\n",
    "모델 객체의 evaluate 함수로 test 데이터에 대한 모델의 성능을 평가\n",
    " - x : Input data\n",
    " - y : Label of testing input data\n",
    " - batch_size(int) : Number of samples per batch of computation\n",
    " - steps(int) : Total number of steps (batches of samples) before declaring the evaluation round finished\n",
    " - verbose : 0 = silent, 1 = progress bar, 2 = one line per epoch"
   ]
  },
  {
   "cell_type": "code",
   "execution_count": 19,
   "metadata": {
    "tags": []
   },
   "outputs": [
    {
     "name": "stdout",
     "output_type": "stream",
     "text": [
      "1/1 [==============================] - 0s 54ms/step - loss: 0.1031\n",
      "loss : 0.1031\n"
     ]
    }
   ],
   "source": [
    "# Coding Time\n",
    "loss = model.evaluate(x_test, y_test, batch_size = 20)\n",
    "print('loss : %.4f' % (loss))"
   ]
  },
  {
   "cell_type": "markdown",
   "metadata": {},
   "source": [
    "## (6) 모델 사용하기\n",
    "모델 객체의 predict 함수로 input 데이터에 대한 모델의 예측결과를 반환\n",
    " - x : Input data\n",
    " - batch_size(int) : Number of samples per batch\n",
    " - steps(int) : Total number of steps (batches of samples) before declaring the prediction round finished\n",
    " - verbose : 0 = silent(recommend), 1 = progress bar, 2 = one line per epoch"
   ]
  },
  {
   "cell_type": "code",
   "execution_count": 20,
   "metadata": {},
   "outputs": [
    {
     "name": "stdout",
     "output_type": "stream",
     "text": [
      "x: 100.00,  y : 300.00,  y_predict : 299.43\n",
      "x: 101.00,  y : 303.00,  y_predict : 302.43\n",
      "x: 102.00,  y : 306.00,  y_predict : 305.42\n",
      "x: 103.00,  y : 309.00,  y_predict : 308.41\n",
      "x: 104.00,  y : 312.00,  y_predict : 311.41\n",
      "x: 105.00,  y : 315.00,  y_predict : 314.40\n",
      "x: 106.00,  y : 318.00,  y_predict : 317.40\n",
      "x: 107.00,  y : 321.00,  y_predict : 320.39\n",
      "x: 108.00,  y : 324.00,  y_predict : 323.38\n",
      "x: 109.00,  y : 327.00,  y_predict : 326.38\n",
      "x: 110.00,  y : 330.00,  y_predict : 329.37\n",
      "x: 111.00,  y : 333.00,  y_predict : 332.37\n",
      "x: 112.00,  y : 336.00,  y_predict : 335.36\n",
      "x: 113.00,  y : 339.00,  y_predict : 338.35\n",
      "x: 114.00,  y : 342.00,  y_predict : 341.35\n",
      "x: 115.00,  y : 345.00,  y_predict : 344.34\n",
      "x: 116.00,  y : 348.00,  y_predict : 347.33\n",
      "x: 117.00,  y : 351.00,  y_predict : 350.33\n",
      "x: 118.00,  y : 354.00,  y_predict : 353.32\n",
      "x: 119.00,  y : 357.00,  y_predict : 356.32\n"
     ]
    }
   ],
   "source": [
    "new_x = np.arange(100,120)\n",
    "true_y = new_x*3\n",
    "\n",
    "pred_y = model.predict(new_x, batch_size=20, verbose = 0)\n",
    "pred_y = np.reshape(pred_y,(-1,))\n",
    "for y in zip(new_x, true_y, pred_y):\n",
    "    print(\"x: %.2f,  y : %.2f,  y_predict : %.2f\"%(y[0], y[1], y[2]))"
   ]
  },
  {
   "cell_type": "markdown",
   "metadata": {},
   "source": [
    "## 1.2 MNIST Classification with Linear Classifier\n",
    "이번 실습에서는 keras로 linear 모델을 생성하고, MNIST dataset을 학습하여 성능을 평가한다."
   ]
  },
  {
   "cell_type": "code",
   "execution_count": 21,
   "metadata": {},
   "outputs": [],
   "source": [
    "import tensorflow.keras.utils as utils\n",
    "from tensorflow.keras import datasets\n",
    "from tensorflow.keras.models import Sequential, Model\n",
    "from tensorflow.keras.layers import Input, Dense, Activation\n",
    "\n",
    "import numpy as np\n",
    "import matplotlib.pyplot as plt"
   ]
  },
  {
   "cell_type": "markdown",
   "metadata": {},
   "source": [
    "### (1) 데이터셋 다운로드\n",
    "### Download the MNIST dataset\n",
    "MNIST dataset은 28x28 사이즈의 이미지들로 0~9까지의 숫자 10개의 손글씨 이미지로 이루어져있다.\n",
    "\n",
    "60,000장이 training에 사용되고 10,000장이 test에 사용된다."
   ]
  },
  {
   "cell_type": "code",
   "execution_count": 22,
   "metadata": {},
   "outputs": [
    {
     "name": "stdout",
     "output_type": "stream",
     "text": [
      "Downloading data from https://storage.googleapis.com/tensorflow/tf-keras-datasets/mnist.npz\n",
      "11493376/11490434 [==============================] - 1s 0us/step\n",
      "11501568/11490434 [==============================] - 1s 0us/step\n",
      "(60000, 28, 28) (60000,)\n"
     ]
    }
   ],
   "source": [
    "# Coding Time\n",
    "(X_train, Y_train), (X_test, Y_test) = datasets.mnist.load_data()\n",
    "print(X_train.shape, Y_train.shape)"
   ]
  },
  {
   "cell_type": "code",
   "execution_count": 24,
   "metadata": {},
   "outputs": [
    {
     "name": "stdout",
     "output_type": "stream",
     "text": [
      "label :  5\n"
     ]
    },
    {
     "data": {
      "text/plain": [
       "<matplotlib.image.AxesImage at 0x7f03207aa850>"
      ]
     },
     "execution_count": 24,
     "metadata": {},
     "output_type": "execute_result"
    },
    {
     "data": {
      "image/png": "[encoded data removed]",
      "text/plain": [
       "<Figure size 432x288 with 1 Axes>"
      ]
     },
     "metadata": {
      "needs_background": "light"
     },
     "output_type": "display_data"
    }
   ],
   "source": [
    "# 첫번째 레이블과 train 불러오기\n",
    "\n",
    "print('label : ',Y_train[0])\n",
    "plt.imshow(X_train[0], cmap='gray')"
   ]
  },
  {
   "cell_type": "code",
   "execution_count": 25,
   "metadata": {},
   "outputs": [
    {
     "name": "stdout",
     "output_type": "stream",
     "text": [
      "[[0. 0. 0. ... 0. 0. 0.]\n",
      " [1. 0. 0. ... 0. 0. 0.]\n",
      " [0. 0. 0. ... 0. 0. 0.]\n",
      " ...\n",
      " [0. 0. 0. ... 0. 0. 0.]\n",
      " [0. 0. 0. ... 0. 0. 0.]\n",
      " [0. 0. 0. ... 0. 1. 0.]]\n",
      "(60000, 784) (60000, 10)\n"
     ]
    }
   ],
   "source": [
    "# Coding Time\n",
    "# Flatten and Normalization\n",
    "X_train_flat = X_train.reshape(60000, 28 * 28).astype('float32') / 255.0\n",
    "X_test_flat = X_test.reshape(10000, 28 * 28).astype('float32') / 255.0\n",
    "\n",
    "# One-hot Encoding\n",
    "Y_train_onehot = utils.to_categorical(Y_train)\n",
    "Y_test_onehot = utils.to_categorical(Y_test)\n",
    "\n",
    "\n",
    "print(Y_train_onehot)\n",
    "print(X_train_flat.shape, Y_train_onehot.shape)"
   ]
  },
  {
   "cell_type": "markdown",
   "metadata": {},
   "source": [
    "### (2) Keras 모델링"
   ]
  },
  {
   "cell_type": "markdown",
   "metadata": {},
   "source": [
    "<사용되는 Layer>\n",
    "\n",
    "- Input : 모델에 입력되는 데이터의 batch size를 제외한 shape을 결정(https://keras.io/layers/core/#input)\n",
    "\n",
    "- Dense : Fully Connected Layer(https://keras.io/layers/core/#dense)\n",
    "\n",
    "- Activation : Activation Function을 정의, 문자열로 입력(https://keras.io/layers/core/#activation)"
   ]
  },
  {
   "cell_type": "code",
   "execution_count": 26,
   "metadata": {},
   "outputs": [],
   "source": [
    "n_in = 28*28   #784\n",
    "n_out = np.shape(Y_test_onehot)[1] # 10"
   ]
  },
  {
   "cell_type": "code",
   "execution_count": 27,
   "metadata": {},
   "outputs": [
    {
     "name": "stdout",
     "output_type": "stream",
     "text": [
      "784\n",
      "10\n"
     ]
    }
   ],
   "source": [
    "print(n_in)\n",
    "print(n_out)"
   ]
  },
  {
   "cell_type": "markdown",
   "metadata": {},
   "source": [
    "### Sequential Modeling"
   ]
  },
  {
   "cell_type": "code",
   "execution_count": 28,
   "metadata": {},
   "outputs": [],
   "source": [
    "def linear_model_seq(n_in, n_out):\n",
    "    # Coding Time\n",
    "    model = Sequential()\n",
    "    model.add(Dense(units = n_out, input_shape = (n_in,), activation = 'softmax'))\n",
    "\n",
    "    return model"
   ]
  },
  {
   "cell_type": "markdown",
   "metadata": {},
   "source": [
    "### Functional Modeling"
   ]
  },
  {
   "cell_type": "code",
   "execution_count": 34,
   "metadata": {},
   "outputs": [],
   "source": [
    "def linear_model_func(n_in, n_out):\n",
    "    # Coding Time\n",
    "    x = Input(shape = (n_in,))\n",
    "    h = Dense(n_out)(x)\n",
    "    y = Activation('softmax')(h)\n",
    "    model = Model(inputs = x, outputs = y)\n",
    "\n",
    "    return model"
   ]
  },
  {
   "cell_type": "code",
   "execution_count": 35,
   "metadata": {},
   "outputs": [
    {
     "name": "stdout",
     "output_type": "stream",
     "text": [
      "Model: \"model_2\"\n",
      "_________________________________________________________________\n",
      "Layer (type)                 Output Shape              Param #   \n",
      "=================================================================\n",
      "input_5 (InputLayer)         [(None, 784)]             0         \n",
      "_________________________________________________________________\n",
      "dense_6 (Dense)              (None, 10)                7850      \n",
      "_________________________________________________________________\n",
      "activation_1 (Activation)    (None, 10)                0         \n",
      "=================================================================\n",
      "Total params: 7,850\n",
      "Trainable params: 7,850\n",
      "Non-trainable params: 0\n",
      "_________________________________________________________________\n"
     ]
    }
   ],
   "source": [
    "model = linear_model_func(n_in, n_out)\n",
    "model.summary()"
   ]
  },
  {
   "cell_type": "code",
   "execution_count": 36,
   "metadata": {},
   "outputs": [
    {
     "data": {
      "image/png": "[encoded data removed]",
      "text/plain": [
       "<IPython.core.display.Image object>"
      ]
     },
     "execution_count": 36,
     "metadata": {},
     "output_type": "execute_result"
    }
   ],
   "source": [
    "plot_model(model, show_shapes=True)"
   ]
  },
  {
   "cell_type": "markdown",
   "metadata": {},
   "source": [
    "## (3) 모델의 학습과정 설정\n",
    "accuracy를 측정할 수 있는 문제라면 metric에 accuracy를 설정 (https://keras.io/models/model/)"
   ]
  },
  {
   "cell_type": "code",
   "execution_count": 37,
   "metadata": {},
   "outputs": [],
   "source": [
    "# Coding Time (loss : categorical / optimizer : sgd / metrics : accuracy)\n",
    "model.compile(loss = 'categorical_crossentropy',\n",
    "             optimizer = 'sgd',\n",
    "             metrics = ['accuracy'])"
   ]
  },
  {
   "cell_type": "markdown",
   "metadata": {},
   "source": [
    "## (4) 모델 학습시키기"
   ]
  },
  {
   "cell_type": "code",
   "execution_count": 39,
   "metadata": {
    "scrolled": true
   },
   "outputs": [
    {
     "name": "stdout",
     "output_type": "stream",
     "text": [
      "Epoch 1/20\n",
      " 74/375 [====>.........................] - ETA: 0s - loss: 2.0797 - accuracy: 0.3285"
     ]
    },
    {
     "name": "stderr",
     "output_type": "stream",
     "text": [
      "2022-09-02 15:22:08.598910: I tensorflow/stream_executor/cuda/cuda_blas.cc:1760] TensorFloat-32 will be used for the matrix multiplication. This will only be logged once.\n"
     ]
    },
    {
     "name": "stdout",
     "output_type": "stream",
     "text": [
      "375/375 [==============================] - 1s 3ms/step - loss: 1.4036 - accuracy: 0.6667 - val_loss: 0.9039 - val_accuracy: 0.8267\n",
      "Epoch 2/20\n",
      "375/375 [==============================] - 1s 3ms/step - loss: 0.7946 - accuracy: 0.8297 - val_loss: 0.6601 - val_accuracy: 0.8575\n",
      "Epoch 3/20\n",
      "375/375 [==============================] - 1s 3ms/step - loss: 0.6428 - accuracy: 0.8513 - val_loss: 0.5635 - val_accuracy: 0.8693\n",
      "Epoch 4/20\n",
      "375/375 [==============================] - 1s 3ms/step - loss: 0.5699 - accuracy: 0.8615 - val_loss: 0.5102 - val_accuracy: 0.8765\n",
      "Epoch 5/20\n",
      "375/375 [==============================] - 1s 3ms/step - loss: 0.5258 - accuracy: 0.8690 - val_loss: 0.4754 - val_accuracy: 0.8838\n",
      "Epoch 6/20\n",
      "375/375 [==============================] - 1s 3ms/step - loss: 0.4955 - accuracy: 0.8742 - val_loss: 0.4512 - val_accuracy: 0.8873\n",
      "Epoch 7/20\n",
      "375/375 [==============================] - 1s 3ms/step - loss: 0.4731 - accuracy: 0.8786 - val_loss: 0.4330 - val_accuracy: 0.8900\n",
      "Epoch 8/20\n",
      "375/375 [==============================] - 1s 3ms/step - loss: 0.4558 - accuracy: 0.8818 - val_loss: 0.4188 - val_accuracy: 0.8942\n",
      "Epoch 9/20\n",
      "375/375 [==============================] - 1s 3ms/step - loss: 0.4419 - accuracy: 0.8843 - val_loss: 0.4073 - val_accuracy: 0.8943\n",
      "Epoch 10/20\n",
      "375/375 [==============================] - 1s 3ms/step - loss: 0.4304 - accuracy: 0.8863 - val_loss: 0.3977 - val_accuracy: 0.8960\n",
      "Epoch 11/20\n",
      "375/375 [==============================] - 1s 3ms/step - loss: 0.4207 - accuracy: 0.8882 - val_loss: 0.3897 - val_accuracy: 0.8980\n",
      "Epoch 12/20\n",
      "375/375 [==============================] - 1s 3ms/step - loss: 0.4123 - accuracy: 0.8897 - val_loss: 0.3826 - val_accuracy: 0.8994\n",
      "Epoch 13/20\n",
      "375/375 [==============================] - 1s 3ms/step - loss: 0.4050 - accuracy: 0.8910 - val_loss: 0.3766 - val_accuracy: 0.9003\n",
      "Epoch 14/20\n",
      "375/375 [==============================] - 1s 3ms/step - loss: 0.3985 - accuracy: 0.8928 - val_loss: 0.3712 - val_accuracy: 0.9019\n",
      "Epoch 15/20\n",
      "375/375 [==============================] - 1s 3ms/step - loss: 0.3929 - accuracy: 0.8938 - val_loss: 0.3664 - val_accuracy: 0.9026\n",
      "Epoch 16/20\n",
      "375/375 [==============================] - 1s 3ms/step - loss: 0.3877 - accuracy: 0.8948 - val_loss: 0.3622 - val_accuracy: 0.9030\n",
      "Epoch 17/20\n",
      "375/375 [==============================] - 1s 3ms/step - loss: 0.3830 - accuracy: 0.8959 - val_loss: 0.3583 - val_accuracy: 0.9041\n",
      "Epoch 18/20\n",
      "375/375 [==============================] - 1s 3ms/step - loss: 0.3788 - accuracy: 0.8970 - val_loss: 0.3548 - val_accuracy: 0.9047\n",
      "Epoch 19/20\n",
      "375/375 [==============================] - 1s 3ms/step - loss: 0.3749 - accuracy: 0.8977 - val_loss: 0.3517 - val_accuracy: 0.9053\n",
      "Epoch 20/20\n",
      "375/375 [==============================] - 1s 3ms/step - loss: 0.3713 - accuracy: 0.8986 - val_loss: 0.3485 - val_accuracy: 0.9059\n"
     ]
    }
   ],
   "source": [
    "# Coding Time (batch : 128 / epoch : 20 / validation_split : 0.2)\n",
    "history = model.fit(X_train_flat, \n",
    "                    Y_train_onehot,\n",
    "                   batch_size = 128,\n",
    "                   epochs = 20,\n",
    "                   validation_split = 0.2)"
   ]
  },
  {
   "cell_type": "markdown",
   "metadata": {},
   "source": [
    "## (5) 모델 평가하기"
   ]
  },
  {
   "cell_type": "code",
   "execution_count": 40,
   "metadata": {},
   "outputs": [
    {
     "name": "stdout",
     "output_type": "stream",
     "text": [
      "79/79 [==============================] - 0s 2ms/step - loss: 0.3484 - accuracy: 0.9068\n",
      "loss : 0.3484, accuracy : 0.9068\n"
     ]
    }
   ],
   "source": [
    "# Coding Time (batch size : 128)\n",
    "loss_and_accuracy = model.evaluate(X_test_flat,\n",
    "                                  Y_test_onehot,\n",
    "                                  batch_size = 128)\n",
    "\n",
    "print('loss : %.4f, accuracy : %.4f' % (loss_and_accuracy[0], loss_and_accuracy[1]))"
   ]
  },
  {
   "cell_type": "markdown",
   "metadata": {},
   "source": [
    "## (6) 모델 사용하기"
   ]
  },
  {
   "cell_type": "code",
   "execution_count": 41,
   "metadata": {},
   "outputs": [
    {
     "name": "stdout",
     "output_type": "stream",
     "text": [
      "real_label : 6, predict_label : 6\n"
     ]
    },
    {
     "data": {
      "text/plain": [
       "<matplotlib.image.AxesImage at 0x7f02b90186d0>"
      ]
     },
     "execution_count": 41,
     "metadata": {},
     "output_type": "execute_result"
    },
    {
     "data": {
      "image/png": "[encoded data removed]",
      "text/plain": [
       "<Figure size 432x288 with 1 Axes>"
      ]
     },
     "metadata": {
      "needs_background": "light"
     },
     "output_type": "display_data"
    }
   ],
   "source": [
    "# Coding Time\n",
    "test_data = X_test[-1].reshape(1, 28 * 28)\n",
    "pred_y = model.predict(test_data)\n",
    "pred_y = pred_y.argmax()\n",
    "\n",
    "print('real_label : {}, predict_label : {}'.format(Y_test[-1], pred_y))\n",
    "plt.imshow(X_test[-1], cmap='gray')"
   ]
  },
  {
   "cell_type": "markdown",
   "metadata": {},
   "source": [
    "# 1.3 MNIST Classification with DNN (To Do)\n",
    "\n",
    "모델의 설명을 보고 DNN 코드를 만들어보자"
   ]
  },
  {
   "cell_type": "markdown",
   "metadata": {},
   "source": [
    "## (2) Keras 모델링"
   ]
  },
  {
   "attachments": {
    "image.png": {
     "image/png": "[encoded data removed]"
    }
   },
   "cell_type": "markdown",
   "metadata": {},
   "source": [
    "![image.png](attachment:image.png)\n",
    "\n",
    "<맨 마지막 activation은 softmax로 하고 이외의 activation은 relu를 사용>"
   ]
  },
  {
   "cell_type": "code",
   "execution_count": 51,
   "metadata": {},
   "outputs": [
    {
     "name": "stdout",
     "output_type": "stream",
     "text": [
      "Model: \"sequential_6\"\n",
      "_________________________________________________________________\n",
      "Layer (type)                 Output Shape              Param #   \n",
      "=================================================================\n",
      "dense_50 (Dense)             (None, 256)               200960    \n",
      "_________________________________________________________________\n",
      "dense_51 (Dense)             (None, 128)               32896     \n",
      "_________________________________________________________________\n",
      "dense_52 (Dense)             (None, 64)                8256      \n",
      "_________________________________________________________________\n",
      "dense_53 (Dense)             (None, 32)                2080      \n",
      "_________________________________________________________________\n",
      "dense_54 (Dense)             (None, 10)                330       \n",
      "=================================================================\n",
      "Total params: 244,522\n",
      "Trainable params: 244,522\n",
      "Non-trainable params: 0\n",
      "_________________________________________________________________\n"
     ]
    }
   ],
   "source": [
    "def DNN_seq(n_in, n_out):\n",
    "    model = models.Sequential()\n",
    "    model.add(layers.Dense(units = 256, input_shape = (n_in,), activation = 'relu'))\n",
    "    model.add(layers.Dense(units = 128, input_shape = (256,), activation = 'relu'))\n",
    "    model.add(layers.Dense(units = 64, input_shape = (128,), activation = 'relu'))\n",
    "    model.add(layers.Dense(units = 32, input_shape = (64,), activation = 'relu'))\n",
    "    model.add(layers.Dense(units = n_out, input_shape = (32,), activation = 'softmax'))\n",
    "    return model\n",
    "\n",
    "\n",
    "\n",
    "\n",
    "def DNN_func(n_in, n_out):\n",
    "    x = Input(shape=(n_in,))\n",
    "    x = Dense(256)(x)\n",
    "    x = Activation('relu')(x)\n",
    "    x = Dense(128)(x)\n",
    "    x = Activation('relu')(x)\n",
    "    x = Dense(64)(x)\n",
    "    x = Activation('relu')(x)\n",
    "    x = Dense(32)(x)\n",
    "    x = Activation('relu')(x)\n",
    "    x = Dense(n_out)(x)\n",
    "    y = Activation('softmax')(x)\n",
    "    model = Model(inputs = x, outputs = y)\n",
    "    return model\n",
    "\n",
    "\n",
    "\n",
    "model = DNN_seq(n_in, n_out)\n",
    "model.summary()"
   ]
  },
  {
   "cell_type": "code",
   "execution_count": 52,
   "metadata": {},
   "outputs": [
    {
     "name": "stdout",
     "output_type": "stream",
     "text": [
      "WARNING:tensorflow:Functional model inputs must come from `tf.keras.Input` (thus holding past layer metadata), they cannot be the output of a previous non-Input layer. Here, a tensor specified as input to \"model_5\" was not an Input tensor, it was generated by layer dense_59.\n",
      "Note that input tensors are instantiated via `tensor = tf.keras.Input(shape)`.\n",
      "The tensor that caused the issue was: dense_59/BiasAdd:0\n"
     ]
    },
    {
     "ename": "ValueError",
     "evalue": "Graph disconnected: cannot obtain value for tensor KerasTensor(type_spec=TensorSpec(shape=(None, 784), dtype=tf.float32, name='input_11'), name='input_11', description=\"created by layer 'input_11'\") at layer \"dense_55\". The following previous layers were accessed without issue: []",
     "output_type": "error",
     "traceback": [
      "\u001b[0;31m---------------------------------------------------------------------------\u001b[0m",
      "\u001b[0;31mValueError\u001b[0m                                Traceback (most recent call last)",
      "Input \u001b[0;32mIn [52]\u001b[0m, in \u001b[0;36m<cell line: 1>\u001b[0;34m()\u001b[0m\n\u001b[0;32m----> 1\u001b[0m model \u001b[38;5;241m=\u001b[39m \u001b[43mDNN_func\u001b[49m\u001b[43m(\u001b[49m\u001b[43mn_in\u001b[49m\u001b[43m,\u001b[49m\u001b[43m \u001b[49m\u001b[43mn_out\u001b[49m\u001b[43m)\u001b[49m\n\u001b[1;32m      2\u001b[0m model\u001b[38;5;241m.\u001b[39msummary()\n",
      "Input \u001b[0;32mIn [51]\u001b[0m, in \u001b[0;36mDNN_func\u001b[0;34m(n_in, n_out)\u001b[0m\n\u001b[1;32m     36\u001b[0m x \u001b[38;5;241m=\u001b[39m Dense(n_out)(x)\n\u001b[1;32m     37\u001b[0m y \u001b[38;5;241m=\u001b[39m Activation(\u001b[38;5;124m'\u001b[39m\u001b[38;5;124msoftmax\u001b[39m\u001b[38;5;124m'\u001b[39m)(x)\n\u001b[0;32m---> 38\u001b[0m model \u001b[38;5;241m=\u001b[39m \u001b[43mModel\u001b[49m\u001b[43m(\u001b[49m\u001b[43minputs\u001b[49m\u001b[43m \u001b[49m\u001b[38;5;241;43m=\u001b[39;49m\u001b[43m \u001b[49m\u001b[43mx\u001b[49m\u001b[43m,\u001b[49m\u001b[43m \u001b[49m\u001b[43moutputs\u001b[49m\u001b[43m \u001b[49m\u001b[38;5;241;43m=\u001b[39;49m\u001b[43m \u001b[49m\u001b[43my\u001b[49m\u001b[43m)\u001b[49m\n\u001b[1;32m     39\u001b[0m \u001b[38;5;28;01mreturn\u001b[39;00m model\n",
      "File \u001b[0;32m~/anaconda3/envs/mldl/lib/python3.8/site-packages/tensorflow/python/training/tracking/base.py:530\u001b[0m, in \u001b[0;36mno_automatic_dependency_tracking.<locals>._method_wrapper\u001b[0;34m(self, *args, **kwargs)\u001b[0m\n\u001b[1;32m    528\u001b[0m \u001b[38;5;28mself\u001b[39m\u001b[38;5;241m.\u001b[39m_self_setattr_tracking \u001b[38;5;241m=\u001b[39m \u001b[38;5;28;01mFalse\u001b[39;00m  \u001b[38;5;66;03m# pylint: disable=protected-access\u001b[39;00m\n\u001b[1;32m    529\u001b[0m \u001b[38;5;28;01mtry\u001b[39;00m:\n\u001b[0;32m--> 530\u001b[0m   result \u001b[38;5;241m=\u001b[39m \u001b[43mmethod\u001b[49m\u001b[43m(\u001b[49m\u001b[38;5;28;43mself\u001b[39;49m\u001b[43m,\u001b[49m\u001b[43m \u001b[49m\u001b[38;5;241;43m*\u001b[39;49m\u001b[43margs\u001b[49m\u001b[43m,\u001b[49m\u001b[43m \u001b[49m\u001b[38;5;241;43m*\u001b[39;49m\u001b[38;5;241;43m*\u001b[39;49m\u001b[43mkwargs\u001b[49m\u001b[43m)\u001b[49m\n\u001b[1;32m    531\u001b[0m \u001b[38;5;28;01mfinally\u001b[39;00m:\n\u001b[1;32m    532\u001b[0m   \u001b[38;5;28mself\u001b[39m\u001b[38;5;241m.\u001b[39m_self_setattr_tracking \u001b[38;5;241m=\u001b[39m previous_value  \u001b[38;5;66;03m# pylint: disable=protected-access\u001b[39;00m\n",
      "File \u001b[0;32m~/anaconda3/envs/mldl/lib/python3.8/site-packages/keras/engine/functional.py:109\u001b[0m, in \u001b[0;36mFunctional.__init__\u001b[0;34m(self, inputs, outputs, name, trainable, **kwargs)\u001b[0m\n\u001b[1;32m    107\u001b[0m generic_utils\u001b[38;5;241m.\u001b[39mvalidate_kwargs(kwargs, {})\n\u001b[1;32m    108\u001b[0m \u001b[38;5;28msuper\u001b[39m(Functional, \u001b[38;5;28mself\u001b[39m)\u001b[38;5;241m.\u001b[39m\u001b[38;5;21m__init__\u001b[39m(name\u001b[38;5;241m=\u001b[39mname, trainable\u001b[38;5;241m=\u001b[39mtrainable)\n\u001b[0;32m--> 109\u001b[0m \u001b[38;5;28;43mself\u001b[39;49m\u001b[38;5;241;43m.\u001b[39;49m\u001b[43m_init_graph_network\u001b[49m\u001b[43m(\u001b[49m\u001b[43minputs\u001b[49m\u001b[43m,\u001b[49m\u001b[43m \u001b[49m\u001b[43moutputs\u001b[49m\u001b[43m)\u001b[49m\n",
      "File \u001b[0;32m~/anaconda3/envs/mldl/lib/python3.8/site-packages/tensorflow/python/training/tracking/base.py:530\u001b[0m, in \u001b[0;36mno_automatic_dependency_tracking.<locals>._method_wrapper\u001b[0;34m(self, *args, **kwargs)\u001b[0m\n\u001b[1;32m    528\u001b[0m \u001b[38;5;28mself\u001b[39m\u001b[38;5;241m.\u001b[39m_self_setattr_tracking \u001b[38;5;241m=\u001b[39m \u001b[38;5;28;01mFalse\u001b[39;00m  \u001b[38;5;66;03m# pylint: disable=protected-access\u001b[39;00m\n\u001b[1;32m    529\u001b[0m \u001b[38;5;28;01mtry\u001b[39;00m:\n\u001b[0;32m--> 530\u001b[0m   result \u001b[38;5;241m=\u001b[39m \u001b[43mmethod\u001b[49m\u001b[43m(\u001b[49m\u001b[38;5;28;43mself\u001b[39;49m\u001b[43m,\u001b[49m\u001b[43m \u001b[49m\u001b[38;5;241;43m*\u001b[39;49m\u001b[43margs\u001b[49m\u001b[43m,\u001b[49m\u001b[43m \u001b[49m\u001b[38;5;241;43m*\u001b[39;49m\u001b[38;5;241;43m*\u001b[39;49m\u001b[43mkwargs\u001b[49m\u001b[43m)\u001b[49m\n\u001b[1;32m    531\u001b[0m \u001b[38;5;28;01mfinally\u001b[39;00m:\n\u001b[1;32m    532\u001b[0m   \u001b[38;5;28mself\u001b[39m\u001b[38;5;241m.\u001b[39m_self_setattr_tracking \u001b[38;5;241m=\u001b[39m previous_value  \u001b[38;5;66;03m# pylint: disable=protected-access\u001b[39;00m\n",
      "File \u001b[0;32m~/anaconda3/envs/mldl/lib/python3.8/site-packages/keras/engine/functional.py:192\u001b[0m, in \u001b[0;36mFunctional._init_graph_network\u001b[0;34m(self, inputs, outputs)\u001b[0m\n\u001b[1;32m    189\u001b[0m   \u001b[38;5;28mself\u001b[39m\u001b[38;5;241m.\u001b[39m_input_coordinates\u001b[38;5;241m.\u001b[39mappend((layer, node_index, tensor_index))\n\u001b[1;32m    191\u001b[0m \u001b[38;5;66;03m# Keep track of the network's nodes and layers.\u001b[39;00m\n\u001b[0;32m--> 192\u001b[0m nodes, nodes_by_depth, layers, _ \u001b[38;5;241m=\u001b[39m \u001b[43m_map_graph_network\u001b[49m\u001b[43m(\u001b[49m\n\u001b[1;32m    193\u001b[0m \u001b[43m    \u001b[49m\u001b[38;5;28;43mself\u001b[39;49m\u001b[38;5;241;43m.\u001b[39;49m\u001b[43minputs\u001b[49m\u001b[43m,\u001b[49m\u001b[43m \u001b[49m\u001b[38;5;28;43mself\u001b[39;49m\u001b[38;5;241;43m.\u001b[39;49m\u001b[43moutputs\u001b[49m\u001b[43m)\u001b[49m\n\u001b[1;32m    194\u001b[0m \u001b[38;5;28mself\u001b[39m\u001b[38;5;241m.\u001b[39m_network_nodes \u001b[38;5;241m=\u001b[39m nodes\n\u001b[1;32m    195\u001b[0m \u001b[38;5;28mself\u001b[39m\u001b[38;5;241m.\u001b[39m_nodes_by_depth \u001b[38;5;241m=\u001b[39m nodes_by_depth\n",
      "File \u001b[0;32m~/anaconda3/envs/mldl/lib/python3.8/site-packages/keras/engine/functional.py:979\u001b[0m, in \u001b[0;36m_map_graph_network\u001b[0;34m(inputs, outputs)\u001b[0m\n\u001b[1;32m    977\u001b[0m \u001b[38;5;28;01mfor\u001b[39;00m x \u001b[38;5;129;01min\u001b[39;00m tf\u001b[38;5;241m.\u001b[39mnest\u001b[38;5;241m.\u001b[39mflatten(node\u001b[38;5;241m.\u001b[39mkeras_inputs):\n\u001b[1;32m    978\u001b[0m   \u001b[38;5;28;01mif\u001b[39;00m \u001b[38;5;28mid\u001b[39m(x) \u001b[38;5;129;01mnot\u001b[39;00m \u001b[38;5;129;01min\u001b[39;00m computable_tensors:\n\u001b[0;32m--> 979\u001b[0m     \u001b[38;5;28;01mraise\u001b[39;00m \u001b[38;5;167;01mValueError\u001b[39;00m(\u001b[38;5;124m'\u001b[39m\u001b[38;5;124mGraph disconnected: \u001b[39m\u001b[38;5;124m'\u001b[39m\n\u001b[1;32m    980\u001b[0m                      \u001b[38;5;124m'\u001b[39m\u001b[38;5;124mcannot obtain value for tensor \u001b[39m\u001b[38;5;124m'\u001b[39m \u001b[38;5;241m+\u001b[39m \u001b[38;5;28mstr\u001b[39m(x) \u001b[38;5;241m+\u001b[39m\n\u001b[1;32m    981\u001b[0m                      \u001b[38;5;124m'\u001b[39m\u001b[38;5;124m at layer \u001b[39m\u001b[38;5;124m\"\u001b[39m\u001b[38;5;124m'\u001b[39m \u001b[38;5;241m+\u001b[39m layer\u001b[38;5;241m.\u001b[39mname \u001b[38;5;241m+\u001b[39m \u001b[38;5;124m'\u001b[39m\u001b[38;5;124m\"\u001b[39m\u001b[38;5;124m. \u001b[39m\u001b[38;5;124m'\u001b[39m\n\u001b[1;32m    982\u001b[0m                      \u001b[38;5;124m'\u001b[39m\u001b[38;5;124mThe following previous layers \u001b[39m\u001b[38;5;124m'\u001b[39m\n\u001b[1;32m    983\u001b[0m                      \u001b[38;5;124m'\u001b[39m\u001b[38;5;124mwere accessed without issue: \u001b[39m\u001b[38;5;124m'\u001b[39m \u001b[38;5;241m+\u001b[39m\n\u001b[1;32m    984\u001b[0m                      \u001b[38;5;28mstr\u001b[39m(layers_with_complete_input))\n\u001b[1;32m    985\u001b[0m \u001b[38;5;28;01mfor\u001b[39;00m x \u001b[38;5;129;01min\u001b[39;00m tf\u001b[38;5;241m.\u001b[39mnest\u001b[38;5;241m.\u001b[39mflatten(node\u001b[38;5;241m.\u001b[39moutputs):\n\u001b[1;32m    986\u001b[0m   computable_tensors\u001b[38;5;241m.\u001b[39madd(\u001b[38;5;28mid\u001b[39m(x))\n",
      "\u001b[0;31mValueError\u001b[0m: Graph disconnected: cannot obtain value for tensor KerasTensor(type_spec=TensorSpec(shape=(None, 784), dtype=tf.float32, name='input_11'), name='input_11', description=\"created by layer 'input_11'\") at layer \"dense_55\". The following previous layers were accessed without issue: []"
     ]
    }
   ],
   "source": [
    "model = DNN_func(n_in, n_out)\n",
    "model.summary()"
   ]
  },
  {
   "cell_type": "markdown",
   "metadata": {},
   "source": [
    "## (3) 모델의 학습과정 설정\n",
    "<optimizer를 adam으로 설정>"
   ]
  },
  {
   "cell_type": "code",
   "execution_count": 53,
   "metadata": {},
   "outputs": [],
   "source": [
    "model.compile(loss = 'categorical_crossentropy',\n",
    "              optimizer = 'adam',\n",
    "             metrics = ['accuracy'])"
   ]
  },
  {
   "cell_type": "markdown",
   "metadata": {},
   "source": [
    "## (4) 모델 학습시키기\n",
    "<batch size를 256, epoch을 30, train 데이터 중 30%를 validation 데이터로 사용, verbose 모드는 2>"
   ]
  },
  {
   "cell_type": "code",
   "execution_count": 54,
   "metadata": {},
   "outputs": [
    {
     "name": "stdout",
     "output_type": "stream",
     "text": [
      "Epoch 1/30\n",
      "165/165 - 1s - loss: 0.4565 - accuracy: 0.8680 - val_loss: 0.2014 - val_accuracy: 0.9399\n",
      "Epoch 2/30\n",
      "165/165 - 1s - loss: 0.1540 - accuracy: 0.9542 - val_loss: 0.1451 - val_accuracy: 0.9571\n",
      "Epoch 3/30\n",
      "165/165 - 1s - loss: 0.1029 - accuracy: 0.9688 - val_loss: 0.1278 - val_accuracy: 0.9621\n",
      "Epoch 4/30\n",
      "165/165 - 1s - loss: 0.0791 - accuracy: 0.9758 - val_loss: 0.1083 - val_accuracy: 0.9679\n",
      "Epoch 5/30\n",
      "165/165 - 1s - loss: 0.0531 - accuracy: 0.9841 - val_loss: 0.1138 - val_accuracy: 0.9656\n",
      "Epoch 6/30\n",
      "165/165 - 1s - loss: 0.0416 - accuracy: 0.9874 - val_loss: 0.0997 - val_accuracy: 0.9716\n",
      "Epoch 7/30\n",
      "165/165 - 1s - loss: 0.0309 - accuracy: 0.9910 - val_loss: 0.1010 - val_accuracy: 0.9715\n",
      "Epoch 8/30\n",
      "165/165 - 1s - loss: 0.0264 - accuracy: 0.9916 - val_loss: 0.1071 - val_accuracy: 0.9713\n",
      "Epoch 9/30\n",
      "165/165 - 1s - loss: 0.0200 - accuracy: 0.9935 - val_loss: 0.1112 - val_accuracy: 0.9706\n",
      "Epoch 10/30\n",
      "165/165 - 1s - loss: 0.0165 - accuracy: 0.9952 - val_loss: 0.1146 - val_accuracy: 0.9721\n",
      "Epoch 11/30\n",
      "165/165 - 1s - loss: 0.0116 - accuracy: 0.9965 - val_loss: 0.1159 - val_accuracy: 0.9709\n",
      "Epoch 12/30\n",
      "165/165 - 1s - loss: 0.0144 - accuracy: 0.9957 - val_loss: 0.1171 - val_accuracy: 0.9733\n",
      "Epoch 13/30\n",
      "165/165 - 1s - loss: 0.0140 - accuracy: 0.9952 - val_loss: 0.1142 - val_accuracy: 0.9739\n",
      "Epoch 14/30\n",
      "165/165 - 1s - loss: 0.0121 - accuracy: 0.9960 - val_loss: 0.1405 - val_accuracy: 0.9696\n",
      "Epoch 15/30\n",
      "165/165 - 1s - loss: 0.0092 - accuracy: 0.9970 - val_loss: 0.1423 - val_accuracy: 0.9699\n",
      "Epoch 16/30\n",
      "165/165 - 1s - loss: 0.0108 - accuracy: 0.9967 - val_loss: 0.1379 - val_accuracy: 0.9702\n",
      "Epoch 17/30\n",
      "165/165 - 1s - loss: 0.0133 - accuracy: 0.9959 - val_loss: 0.1264 - val_accuracy: 0.9731\n",
      "Epoch 18/30\n",
      "165/165 - 1s - loss: 0.0127 - accuracy: 0.9956 - val_loss: 0.1391 - val_accuracy: 0.9727\n",
      "Epoch 19/30\n",
      "165/165 - 1s - loss: 0.0068 - accuracy: 0.9977 - val_loss: 0.1309 - val_accuracy: 0.9747\n",
      "Epoch 20/30\n",
      "165/165 - 1s - loss: 0.0014 - accuracy: 0.9997 - val_loss: 0.1286 - val_accuracy: 0.9761\n",
      "Epoch 21/30\n",
      "165/165 - 1s - loss: 0.0019 - accuracy: 0.9996 - val_loss: 0.1294 - val_accuracy: 0.9767\n",
      "Epoch 22/30\n",
      "165/165 - 1s - loss: 0.0032 - accuracy: 0.9991 - val_loss: 0.1395 - val_accuracy: 0.9743\n",
      "Epoch 23/30\n",
      "165/165 - 1s - loss: 0.0176 - accuracy: 0.9941 - val_loss: 0.1274 - val_accuracy: 0.9732\n",
      "Epoch 24/30\n",
      "165/165 - 1s - loss: 0.0116 - accuracy: 0.9964 - val_loss: 0.1603 - val_accuracy: 0.9733\n",
      "Epoch 25/30\n",
      "165/165 - 1s - loss: 0.0078 - accuracy: 0.9975 - val_loss: 0.1486 - val_accuracy: 0.9726\n",
      "Epoch 26/30\n",
      "165/165 - 1s - loss: 0.0029 - accuracy: 0.9993 - val_loss: 0.1319 - val_accuracy: 0.9768\n",
      "Epoch 27/30\n",
      "165/165 - 1s - loss: 0.0013 - accuracy: 0.9997 - val_loss: 0.1368 - val_accuracy: 0.9764\n",
      "Epoch 28/30\n",
      "165/165 - 1s - loss: 0.0012 - accuracy: 0.9997 - val_loss: 0.1650 - val_accuracy: 0.9721\n",
      "Epoch 29/30\n",
      "165/165 - 1s - loss: 0.0173 - accuracy: 0.9945 - val_loss: 0.1550 - val_accuracy: 0.9720\n",
      "Epoch 30/30\n",
      "165/165 - 1s - loss: 0.0103 - accuracy: 0.9969 - val_loss: 0.1425 - val_accuracy: 0.9733\n"
     ]
    }
   ],
   "source": [
    "history = model.fit(X_train_flat,\n",
    "                   Y_train_onehot,\n",
    "                   batch_size = 256,\n",
    "                   epochs = 30,\n",
    "                   validation_split = 0.3,\n",
    "                   verbose = 2)"
   ]
  },
  {
   "cell_type": "markdown",
   "metadata": {},
   "source": [
    "## (5) 모델 평가하기"
   ]
  },
  {
   "cell_type": "code",
   "execution_count": null,
   "metadata": {},
   "outputs": [],
   "source": []
  },
  {
   "cell_type": "markdown",
   "metadata": {},
   "source": [
    "## (6) 모델 사용하기 (5개의 샘플 확인하기)"
   ]
  },
  {
   "cell_type": "code",
   "execution_count": null,
   "metadata": {
    "tags": []
   },
   "outputs": [],
   "source": []
  },
  {
   "cell_type": "markdown",
   "metadata": {},
   "source": [
    "## (7) 모델 저장하고 불러오기\n",
    "\n",
    "저장하기 : model 객체의 내부 함수인 save() .h5 형식으로 저장할 수 있음 [1.모델의 구조, 2.학습된 파라미터, 3.complie() 설정]"
   ]
  },
  {
   "cell_type": "code",
   "execution_count": null,
   "metadata": {},
   "outputs": [],
   "source": [
    "# Coding Time\n"
   ]
  },
  {
   "cell_type": "markdown",
   "metadata": {},
   "source": [
    "불러오기 : load_model 함수로 .h5 파일에서 모델을 불러올 수 있음"
   ]
  },
  {
   "cell_type": "code",
   "execution_count": null,
   "metadata": {},
   "outputs": [],
   "source": [
    "# Coding Time\n"
   ]
  },
  {
   "cell_type": "markdown",
   "metadata": {},
   "source": [
    "# ======================================================"
   ]
  },
  {
   "cell_type": "markdown",
   "metadata": {},
   "source": [
    "# 1.4 Keras MNIST - 모델의 성능을 직접 높혀보자\n",
    " - DNN의 구조를 바꾸어 나만의 모델을 만들어보자\n",
    " - 목표 정확도: 평가 셋에 대해 98.5% 만들기\n",
    " - 바꿀 수 있는 하이퍼 파라미터: Learning Rate, Batch size, Epochs, Optimizer, Activation Function, 모델 레이어 구조 등"
   ]
  },
  {
   "cell_type": "markdown",
   "metadata": {},
   "source": [
    "## (2) Keras 모델링"
   ]
  },
  {
   "cell_type": "code",
   "execution_count": null,
   "metadata": {
    "tags": []
   },
   "outputs": [],
   "source": []
  },
  {
   "cell_type": "markdown",
   "metadata": {},
   "source": [
    "## (3) 모델의 학습과정 설정"
   ]
  },
  {
   "cell_type": "code",
   "execution_count": null,
   "metadata": {},
   "outputs": [],
   "source": []
  },
  {
   "cell_type": "markdown",
   "metadata": {
    "tags": []
   },
   "source": [
    "## (4) 모델 학습시키기"
   ]
  },
  {
   "cell_type": "code",
   "execution_count": null,
   "metadata": {},
   "outputs": [],
   "source": []
  },
  {
   "cell_type": "markdown",
   "metadata": {},
   "source": [
    "## (5) 모델 평가하기"
   ]
  },
  {
   "cell_type": "code",
   "execution_count": null,
   "metadata": {},
   "outputs": [],
   "source": []
  }
 ],
 "metadata": {
  "kernelspec": {
   "display_name": "mldl",
   "language": "python",
   "name": "mldl"
  },
  "language_info": {
   "codemirror_mode": {
    "name": "ipython",
    "version": 3
   },
   "file_extension": ".py",
   "mimetype": "text/x-python",
   "name": "python",
   "nbconvert_exporter": "python",
   "pygments_lexer": "ipython3",
   "version": "3.8.13"
  }
 },
 "nbformat": 4,
 "nbformat_minor": 4
}
