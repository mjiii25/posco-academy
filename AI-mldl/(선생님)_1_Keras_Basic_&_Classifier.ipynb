{
  "cells": [
    {
      "cell_type": "markdown",
      "metadata": {
        "id": "view-in-github",
        "colab_type": "text"
      },
      "source": [
        "<a href=\"https://colab.research.google.com/github/mjiii25/posco-academy/blob/main/AI-mldl/(%EC%84%A0%EC%83%9D%EB%8B%98)_1_Keras_Basic_%26_Classifier.ipynb\" target=\"_parent\"><img src=\"https://colab.research.google.com/assets/colab-badge.svg\" alt=\"Open In Colab\"/></a>"
      ]
    },
    {
      "cell_type": "markdown",
      "metadata": {
        "id": "NUv16V1JS-4y"
      },
      "source": [
        "# 1. Keras tutorial\n",
        "\n",
        "- 1.1 Keras Basic(y=3x Regression) - ANN(단층 레이어)\n",
        "- 1.2 Keras MNIST - ANN(단층 레이어)\n",
        "- 1.3 Keras MNIST - DNN(다층 레이어)\n",
        "- 1.4 Keras MNIST - 나만의 모델 만들기"
      ]
    },
    {
      "cell_type": "code",
      "execution_count": 1,
      "metadata": {
        "id": "Jw4IurS5S-5K"
      },
      "outputs": [],
      "source": [
        "# Import Libraries\n",
        "from tensorflow import keras\n",
        "import numpy as np\n",
        "import matplotlib.pyplot as plt\n",
        "%matplotlib inline"
      ]
    },
    {
      "cell_type": "markdown",
      "metadata": {
        "id": "TomfGos_S-5V"
      },
      "source": [
        "## 1.1 Keras Basic Y = 3X ANN Regression\n",
        "- 이번 실습에서는 Keras를 이용하여 1차함수를 예측하는 학습 모델을 만들고, 성능을 평가한다."
      ]
    },
    {
      "cell_type": "markdown",
      "metadata": {
        "id": "V4_AWkZTS-5Y"
      },
      "source": [
        "### (1) 데이터셋 준비"
      ]
    },
    {
      "cell_type": "code",
      "execution_count": 2,
      "metadata": {
        "colab": {
          "base_uri": "https://localhost:8080/",
          "height": 265
        },
        "id": "XOa2a-GdS-5a",
        "outputId": "4faa9284-14ee-4442-dfa5-9af906a7f3ea"
      },
      "outputs": [
        {
          "output_type": "display_data",
          "data": {
            "text/plain": [
              "<Figure size 432x288 with 1 Axes>"
            ],
            "image/png": "[encoded data removed]"
          },
          "metadata": {
            "needs_background": "light"
          }
        }
      ],
      "source": [
        "# Training Data\n",
        "x = np.arange(20) # 0, 1, 2, 3, ...., 19\n",
        "y = x * 3 # 0, 3, 6, 9, ..., 57\n",
        "plt.plot(x,y)\n",
        "\n",
        "# Testing Data \n",
        "x_test = np.arange(50,70) # 50, 51, 52, ..., 69\n",
        "y_test = x_test*3 # 150, 153, 156, ..., 207\n",
        "\n",
        "# Dimension of input and output\n",
        "n_in = 1\n",
        "n_out = 1"
      ]
    },
    {
      "cell_type": "markdown",
      "metadata": {
        "id": "2j5e2SOwS-5g"
      },
      "source": [
        "### (2) Keras 모델링\n",
        "\n",
        "- keras.layers : 모델을 구성하기 위한 layer들이 구현되어 있는 모듈\n",
        "\n",
        "- keras.models : layer들을 묶어 모델을 정의하고 학습, 평가, 예측 등의 기능을 구현한 모듈"
      ]
    },
    {
      "cell_type": "code",
      "execution_count": 3,
      "metadata": {
        "id": "-GYHqsJeS-5i"
      },
      "outputs": [],
      "source": [
        "from tensorflow.keras import layers, models"
      ]
    },
    {
      "cell_type": "markdown",
      "metadata": {
        "id": "SzB25rCoS-5m"
      },
      "source": [
        "Keras에서는 크게 Functional, Sequential 방식으로 모델을 구현\n",
        "\n",
        "- Sequential : 모델에 필요한 layer들을 순차적으로 더해가는 방식으로 구현\n",
        "- Function : 모델을 수식처럼 구현 "
      ]
    },
    {
      "cell_type": "markdown",
      "metadata": {
        "id": "T7wg9683S-5p"
      },
      "source": [
        "<Sequential에 사용되는 Layer>\n",
        "\n",
        "- Dense : Fully Connected Layer (https://keras.io/layers/core/#dense)"
      ]
    },
    {
      "cell_type": "markdown",
      "metadata": {
        "id": "M6gWhhGLS-5u"
      },
      "source": [
        "### Sequential Modeling"
      ]
    },
    {
      "cell_type": "code",
      "execution_count": 4,
      "metadata": {
        "id": "yPoT0wQCS-5x"
      },
      "outputs": [],
      "source": [
        "def modeling_sequential(n_in, n_out):\n",
        "    # Coding Time\n",
        "    model = models.Sequential()\n",
        "    model.add(layers.Dense(units =n_out, input_shape=(n_in,)))\n",
        "    return model"
      ]
    },
    {
      "cell_type": "code",
      "execution_count": 5,
      "metadata": {
        "id": "5GTaAiDqS-5z"
      },
      "outputs": [],
      "source": [
        "class modeling_sequential_class(models.Sequential):\n",
        "    def __init__(self, n_in, n_out):\n",
        "        \n",
        "        #멤버 변수로 모델에 사용할 변수 선언\n",
        "        self.n_in = n_in\n",
        "        self.n_out = n_out\n",
        "        \n",
        "        #상속받은 Sequential 클래스 초기화 후 레이어 추가\n",
        "        super().__init__()\n",
        "        self.add(layers.Dense(units =n_out, input_shape=(n_in,)))"
      ]
    },
    {
      "cell_type": "markdown",
      "metadata": {
        "id": "dJs9ww2fS-51"
      },
      "source": [
        "<Functional에 사용되는 Layer>\n",
        "\n",
        "- Input : 모델에 입력되는 데이터의 batch size를 제외한 shape을 결정\n",
        "\n",
        "- Dense : Fully Connected Layer (https://keras.io/layers/core/#dense)"
      ]
    },
    {
      "cell_type": "markdown",
      "metadata": {
        "id": "mzHj1ZfNS-53"
      },
      "source": [
        "### Functional Modeling"
      ]
    },
    {
      "cell_type": "code",
      "execution_count": 6,
      "metadata": {
        "id": "J8xCxOZ9S-55"
      },
      "outputs": [],
      "source": [
        "def modeling_functional(n_in, n_out):\n",
        "    # Coding Time\n",
        "    x = layers.Input(shape=(n_in,))\n",
        "    y = layers.Dense(n_out)(x)\n",
        "    model = models.Model(inputs = x, outputs = y)\n",
        "    return model"
      ]
    },
    {
      "cell_type": "code",
      "execution_count": 7,
      "metadata": {
        "id": "nMy09WeqS-58"
      },
      "outputs": [],
      "source": [
        "class modeling_functional_class(models.Model):\n",
        "    def __init__(self, n_in, n_out):\n",
        "        \n",
        "        #멤버 변수로 모델에 사용할 변수 및 레이어 선언\n",
        "        self.n_in = n_in\n",
        "        self.n_out = n_out\n",
        "        input = layers.Input(shape=(n_in,))\n",
        "        output = layers.Dense(n_out)\n",
        "        \n",
        "        # layer 연결\n",
        "        x = input\n",
        "        y = output(x)\n",
        "\n",
        "        #상속받은 Model 클래스 초기화\n",
        "        super().__init__(x, y)"
      ]
    },
    {
      "cell_type": "markdown",
      "metadata": {
        "tags": [],
        "id": "duN8e77XS-5-"
      },
      "source": [
        "### (2)-2 모델 시각화\n",
        "\n",
        "model.summary()나 plot_model(model) 활용"
      ]
    },
    {
      "cell_type": "code",
      "execution_count": 8,
      "metadata": {
        "colab": {
          "base_uri": "https://localhost:8080/"
        },
        "id": "QHp7PxOSS-6C",
        "outputId": "6d6c85aa-8587-48ee-a421-5e2f4fbb2358"
      },
      "outputs": [
        {
          "output_type": "stream",
          "name": "stdout",
          "text": [
            "Model: \"sequential\"\n",
            "_________________________________________________________________\n",
            " Layer (type)                Output Shape              Param #   \n",
            "=================================================================\n",
            " dense (Dense)               (None, 1)                 2         \n",
            "                                                                 \n",
            "=================================================================\n",
            "Total params: 2\n",
            "Trainable params: 2\n",
            "Non-trainable params: 0\n",
            "_________________________________________________________________\n"
          ]
        }
      ],
      "source": [
        "model =  modeling_sequential(n_in, n_out)\n",
        "model.summary()"
      ]
    },
    {
      "cell_type": "code",
      "execution_count": 9,
      "metadata": {
        "colab": {
          "base_uri": "https://localhost:8080/"
        },
        "id": "8WnBNOk8S-6E",
        "outputId": "243cb98a-7f8c-45a9-ed50-1259c8c0a4fe"
      },
      "outputs": [
        {
          "output_type": "stream",
          "name": "stdout",
          "text": [
            "Model: \"modeling_sequential_class\"\n",
            "_________________________________________________________________\n",
            " Layer (type)                Output Shape              Param #   \n",
            "=================================================================\n",
            " dense_1 (Dense)             (None, 1)                 2         \n",
            "                                                                 \n",
            "=================================================================\n",
            "Total params: 2\n",
            "Trainable params: 2\n",
            "Non-trainable params: 0\n",
            "_________________________________________________________________\n"
          ]
        }
      ],
      "source": [
        "model =  modeling_sequential_class(n_in, n_out)\n",
        "model.summary()"
      ]
    },
    {
      "cell_type": "code",
      "execution_count": 10,
      "metadata": {
        "colab": {
          "base_uri": "https://localhost:8080/"
        },
        "id": "fSRUAe8DS-6F",
        "outputId": "7cf94bc3-bf96-4d97-bae6-1382f992a26a"
      },
      "outputs": [
        {
          "output_type": "stream",
          "name": "stdout",
          "text": [
            "Model: \"model\"\n",
            "_________________________________________________________________\n",
            " Layer (type)                Output Shape              Param #   \n",
            "=================================================================\n",
            " input_1 (InputLayer)        [(None, 1)]               0         \n",
            "                                                                 \n",
            " dense_2 (Dense)             (None, 1)                 2         \n",
            "                                                                 \n",
            "=================================================================\n",
            "Total params: 2\n",
            "Trainable params: 2\n",
            "Non-trainable params: 0\n",
            "_________________________________________________________________\n"
          ]
        }
      ],
      "source": [
        "model =  modeling_functional(n_in, n_out)\n",
        "model.summary()"
      ]
    },
    {
      "cell_type": "code",
      "execution_count": 11,
      "metadata": {
        "colab": {
          "base_uri": "https://localhost:8080/"
        },
        "id": "Nil5hnzXS-6I",
        "outputId": "ceca02d4-627c-4290-9d77-f3a2593f9bc3"
      },
      "outputs": [
        {
          "output_type": "stream",
          "name": "stdout",
          "text": [
            "Model: \"modeling_functional_class\"\n",
            "_________________________________________________________________\n",
            " Layer (type)                Output Shape              Param #   \n",
            "=================================================================\n",
            " input_2 (InputLayer)        [(None, 1)]               0         \n",
            "                                                                 \n",
            " dense_3 (Dense)             (None, 1)                 2         \n",
            "                                                                 \n",
            "=================================================================\n",
            "Total params: 2\n",
            "Trainable params: 2\n",
            "Non-trainable params: 0\n",
            "_________________________________________________________________\n"
          ]
        }
      ],
      "source": [
        "model = modeling_functional_class(n_in, n_out)\n",
        "model.summary()"
      ]
    },
    {
      "cell_type": "code",
      "execution_count": 12,
      "metadata": {
        "colab": {
          "base_uri": "https://localhost:8080/",
          "height": 201
        },
        "id": "TRCjpfRPS-6L",
        "outputId": "7adc52da-e425-439f-c27e-e605d7bad076"
      },
      "outputs": [
        {
          "output_type": "execute_result",
          "data": {
            "image/png": "[encoded data removed]",
            "text/plain": [
              "<IPython.core.display.Image object>"
            ]
          },
          "metadata": {},
          "execution_count": 12
        }
      ],
      "source": [
        "from tensorflow.keras.utils import plot_model\n",
        "plot_model(model, show_shapes=True)"
      ]
    },
    {
      "cell_type": "markdown",
      "metadata": {
        "id": "04yJdxFHS-6N"
      },
      "source": [
        "### (3) 모델의 학습과정 설정(model.compile)\n",
        "- model.compile(loss, optimizer, metrics)\n",
        "- optimizer(str) : optimizer instance\n",
        "- loss(str) : loss function\n",
        "- metrics(str) : list of metrics to be evaluated by the model during training and testing\n",
        "(https://www.tensorflow.org/api_docs/python/tf/keras/Model)"
      ]
    },
    {
      "cell_type": "code",
      "execution_count": 13,
      "metadata": {
        "id": "HPkVVo7zS-6P"
      },
      "outputs": [],
      "source": [
        "# Coding Time\n",
        "model.compile(loss='mse', optimizer='sgd')"
      ]
    },
    {
      "cell_type": "markdown",
      "metadata": {
        "tags": [],
        "id": "MmpWsvExS-6R"
      },
      "source": [
        "### (4) 모델 학습시키기(model.fit)\n",
        "\n",
        " - x : Input data\n",
        " - y : Label of training input data\n",
        " - batch_szie(int) : Number of samples per gradient update\n",
        " - steps_per_epoch(int) : Total number of steps (batches of samples) before declaring one epoch finished and starting the next epoch\n",
        " - epochs(int) : Number of epochs to train the model\n",
        " - verbose : 0 = silent, 1 = progress bar, 2 = one line per epoch\n",
        " - callbacks : List of callback instances\n",
        " - validation_split(float) : Fraction of the training data to be used as validation data\n",
        " - validation_data : (x_val, y_val)\n",
        " - shuffle(bool) : Whether to shuffle the training data before each epoch\n",
        " - history : 학습과정이 담겨있는 데이터 송출\n",
        " (https://www.tensorflow.org/api_docs/python/tf/keras/Model)"
      ]
    },
    {
      "cell_type": "code",
      "execution_count": 14,
      "metadata": {
        "scrolled": true,
        "tags": [],
        "colab": {
          "base_uri": "https://localhost:8080/"
        },
        "id": "V6uZwyIsS-6T",
        "outputId": "61a9ac5b-06ee-493c-9aa6-567b18c6141d"
      },
      "outputs": [
        {
          "output_type": "stream",
          "name": "stdout",
          "text": [
            "Epoch 1/100\n",
            "4/4 [==============================] - 3s 84ms/step - loss: 95.2837 - val_loss: 0.2105\n",
            "Epoch 2/100\n",
            "4/4 [==============================] - 0s 8ms/step - loss: 0.0079 - val_loss: 0.0056\n",
            "Epoch 3/100\n",
            "4/4 [==============================] - 0s 8ms/step - loss: 0.0033 - val_loss: 0.0184\n",
            "Epoch 4/100\n",
            "4/4 [==============================] - 0s 8ms/step - loss: 0.0039 - val_loss: 4.8480e-05\n",
            "Epoch 5/100\n",
            "4/4 [==============================] - 0s 8ms/step - loss: 0.0015 - val_loss: 0.0013\n",
            "Epoch 6/100\n",
            "4/4 [==============================] - 0s 8ms/step - loss: 0.0018 - val_loss: 0.0179\n",
            "Epoch 7/100\n",
            "4/4 [==============================] - 0s 8ms/step - loss: 0.0031 - val_loss: 3.9612e-04\n",
            "Epoch 8/100\n",
            "4/4 [==============================] - 0s 9ms/step - loss: 0.0014 - val_loss: 0.0072\n",
            "Epoch 9/100\n",
            "4/4 [==============================] - 0s 8ms/step - loss: 0.0011 - val_loss: 0.0041\n",
            "Epoch 10/100\n",
            "4/4 [==============================] - 0s 8ms/step - loss: 0.0017 - val_loss: 0.0201\n",
            "Epoch 11/100\n",
            "4/4 [==============================] - 0s 8ms/step - loss: 0.0040 - val_loss: 3.8664e-04\n",
            "Epoch 12/100\n",
            "4/4 [==============================] - 0s 8ms/step - loss: 0.0017 - val_loss: 0.0061\n",
            "Epoch 13/100\n",
            "4/4 [==============================] - 0s 8ms/step - loss: 7.8947e-04 - val_loss: 0.0059\n",
            "Epoch 14/100\n",
            "4/4 [==============================] - 0s 7ms/step - loss: 0.0015 - val_loss: 0.0080\n",
            "Epoch 15/100\n",
            "4/4 [==============================] - 0s 8ms/step - loss: 0.0021 - val_loss: 0.0135\n",
            "Epoch 16/100\n",
            "4/4 [==============================] - 0s 9ms/step - loss: 0.0020 - val_loss: 2.1205e-04\n",
            "Epoch 17/100\n",
            "4/4 [==============================] - 0s 8ms/step - loss: 7.0859e-04 - val_loss: 0.0054\n",
            "Epoch 18/100\n",
            "4/4 [==============================] - 0s 8ms/step - loss: 9.7405e-04 - val_loss: 2.1757e-04\n",
            "Epoch 19/100\n",
            "4/4 [==============================] - 0s 8ms/step - loss: 5.8342e-04 - val_loss: 0.0044\n",
            "Epoch 20/100\n",
            "4/4 [==============================] - 0s 8ms/step - loss: 0.0017 - val_loss: 0.0014\n",
            "Epoch 21/100\n",
            "4/4 [==============================] - 0s 14ms/step - loss: 6.2601e-04 - val_loss: 3.3993e-04\n",
            "Epoch 22/100\n",
            "4/4 [==============================] - 0s 8ms/step - loss: 5.5131e-04 - val_loss: 0.0059\n",
            "Epoch 23/100\n",
            "4/4 [==============================] - 0s 8ms/step - loss: 8.7128e-04 - val_loss: 0.0030\n",
            "Epoch 24/100\n",
            "4/4 [==============================] - 0s 8ms/step - loss: 4.7034e-04 - val_loss: 0.0045\n",
            "Epoch 25/100\n",
            "4/4 [==============================] - 0s 8ms/step - loss: 7.0119e-04 - val_loss: 0.0032\n",
            "Epoch 26/100\n",
            "4/4 [==============================] - 0s 8ms/step - loss: 5.2883e-04 - val_loss: 0.0050\n",
            "Epoch 27/100\n",
            "4/4 [==============================] - 0s 8ms/step - loss: 0.0012 - val_loss: 0.0019\n",
            "Epoch 28/100\n",
            "4/4 [==============================] - 0s 8ms/step - loss: 5.1260e-04 - val_loss: 0.0021\n",
            "Epoch 29/100\n",
            "4/4 [==============================] - 0s 9ms/step - loss: 3.7864e-04 - val_loss: 0.0029\n",
            "Epoch 30/100\n",
            "4/4 [==============================] - 0s 8ms/step - loss: 5.9873e-04 - val_loss: 3.2475e-04\n",
            "Epoch 31/100\n",
            "4/4 [==============================] - 0s 9ms/step - loss: 3.9487e-04 - val_loss: 7.9935e-04\n",
            "Epoch 32/100\n",
            "4/4 [==============================] - 0s 8ms/step - loss: 3.4900e-04 - val_loss: 0.0011\n",
            "Epoch 33/100\n",
            "4/4 [==============================] - 0s 8ms/step - loss: 3.1877e-04 - val_loss: 5.2814e-05\n",
            "Epoch 34/100\n",
            "4/4 [==============================] - 0s 8ms/step - loss: 3.6384e-04 - val_loss: 0.0033\n",
            "Epoch 35/100\n",
            "4/4 [==============================] - 0s 8ms/step - loss: 4.4463e-04 - val_loss: 0.0021\n",
            "Epoch 36/100\n",
            "4/4 [==============================] - 0s 8ms/step - loss: 0.0014 - val_loss: 0.0021\n",
            "Epoch 37/100\n",
            "4/4 [==============================] - 0s 8ms/step - loss: 5.1477e-04 - val_loss: 0.0020\n",
            "Epoch 38/100\n",
            "4/4 [==============================] - 0s 8ms/step - loss: 3.5041e-04 - val_loss: 0.0019\n",
            "Epoch 39/100\n",
            "4/4 [==============================] - 0s 8ms/step - loss: 3.5214e-04 - val_loss: 0.0019\n",
            "Epoch 40/100\n",
            "4/4 [==============================] - 0s 8ms/step - loss: 2.4818e-04 - val_loss: 8.8325e-04\n",
            "Epoch 41/100\n",
            "4/4 [==============================] - 0s 8ms/step - loss: 2.0464e-04 - val_loss: 6.4213e-04\n",
            "Epoch 42/100\n",
            "4/4 [==============================] - 0s 8ms/step - loss: 4.9541e-04 - val_loss: 0.0018\n",
            "Epoch 43/100\n",
            "4/4 [==============================] - 0s 8ms/step - loss: 6.4297e-04 - val_loss: 9.1154e-04\n",
            "Epoch 44/100\n",
            "4/4 [==============================] - 0s 8ms/step - loss: 4.1115e-04 - val_loss: 0.0026\n",
            "Epoch 45/100\n",
            "4/4 [==============================] - 0s 8ms/step - loss: 7.2707e-04 - val_loss: 4.3684e-04\n",
            "Epoch 46/100\n",
            "4/4 [==============================] - 0s 8ms/step - loss: 1.7347e-04 - val_loss: 0.0020\n",
            "Epoch 47/100\n",
            "4/4 [==============================] - 0s 8ms/step - loss: 1.8588e-04 - val_loss: 0.0015\n",
            "Epoch 48/100\n",
            "4/4 [==============================] - 0s 8ms/step - loss: 3.0277e-04 - val_loss: 7.5043e-04\n",
            "Epoch 49/100\n",
            "4/4 [==============================] - 0s 8ms/step - loss: 2.9685e-04 - val_loss: 0.0011\n",
            "Epoch 50/100\n",
            "4/4 [==============================] - 0s 8ms/step - loss: 3.8680e-04 - val_loss: 0.0011\n",
            "Epoch 51/100\n",
            "4/4 [==============================] - 0s 8ms/step - loss: 2.7344e-04 - val_loss: 2.8794e-06\n",
            "Epoch 52/100\n",
            "4/4 [==============================] - 0s 8ms/step - loss: 1.4392e-04 - val_loss: 1.9526e-04\n",
            "Epoch 53/100\n",
            "4/4 [==============================] - 0s 8ms/step - loss: 2.6538e-04 - val_loss: 3.2209e-04\n",
            "Epoch 54/100\n",
            "4/4 [==============================] - 0s 9ms/step - loss: 1.7287e-04 - val_loss: 7.1418e-05\n",
            "Epoch 55/100\n",
            "4/4 [==============================] - 0s 8ms/step - loss: 1.4055e-04 - val_loss: 1.1777e-04\n",
            "Epoch 56/100\n",
            "4/4 [==============================] - 0s 10ms/step - loss: 1.1757e-04 - val_loss: 5.0616e-04\n",
            "Epoch 57/100\n",
            "4/4 [==============================] - 0s 8ms/step - loss: 1.3407e-04 - val_loss: 1.6297e-04\n",
            "Epoch 58/100\n",
            "4/4 [==============================] - 0s 11ms/step - loss: 1.6816e-04 - val_loss: 1.1764e-05\n",
            "Epoch 59/100\n",
            "4/4 [==============================] - 0s 8ms/step - loss: 1.0480e-04 - val_loss: 7.2474e-04\n",
            "Epoch 60/100\n",
            "4/4 [==============================] - 0s 8ms/step - loss: 1.5226e-04 - val_loss: 2.9543e-04\n",
            "Epoch 61/100\n",
            "4/4 [==============================] - 0s 9ms/step - loss: 8.3218e-05 - val_loss: 6.4149e-04\n",
            "Epoch 62/100\n",
            "4/4 [==============================] - 0s 8ms/step - loss: 1.4342e-04 - val_loss: 3.5964e-04\n",
            "Epoch 63/100\n",
            "4/4 [==============================] - 0s 8ms/step - loss: 8.0249e-05 - val_loss: 8.0884e-04\n",
            "Epoch 64/100\n",
            "4/4 [==============================] - 0s 7ms/step - loss: 2.2659e-04 - val_loss: 3.5693e-04\n",
            "Epoch 65/100\n",
            "4/4 [==============================] - 0s 8ms/step - loss: 7.9137e-05 - val_loss: 6.5774e-04\n",
            "Epoch 66/100\n",
            "4/4 [==============================] - 0s 8ms/step - loss: 6.7462e-05 - val_loss: 3.4141e-06\n",
            "Epoch 67/100\n",
            "4/4 [==============================] - 0s 8ms/step - loss: 6.9677e-05 - val_loss: 3.4986e-04\n",
            "Epoch 68/100\n",
            "4/4 [==============================] - 0s 8ms/step - loss: 9.2078e-05 - val_loss: 5.2684e-04\n",
            "Epoch 69/100\n",
            "4/4 [==============================] - 0s 8ms/step - loss: 7.4199e-05 - val_loss: 4.1543e-04\n",
            "Epoch 70/100\n",
            "4/4 [==============================] - 0s 8ms/step - loss: 7.2518e-05 - val_loss: 0.0020\n",
            "Epoch 71/100\n",
            "4/4 [==============================] - 0s 8ms/step - loss: 4.1977e-04 - val_loss: 4.3145e-04\n",
            "Epoch 72/100\n",
            "4/4 [==============================] - 0s 8ms/step - loss: 1.4096e-04 - val_loss: 0.0014\n",
            "Epoch 73/100\n",
            "4/4 [==============================] - 0s 8ms/step - loss: 3.2232e-04 - val_loss: 1.9729e-04\n",
            "Epoch 74/100\n",
            "4/4 [==============================] - 0s 8ms/step - loss: 5.6591e-05 - val_loss: 5.1994e-06\n",
            "Epoch 75/100\n",
            "4/4 [==============================] - 0s 9ms/step - loss: 5.6887e-05 - val_loss: 1.3216e-05\n",
            "Epoch 76/100\n",
            "4/4 [==============================] - 0s 8ms/step - loss: 6.2356e-05 - val_loss: 1.2015e-06\n",
            "Epoch 77/100\n",
            "4/4 [==============================] - 0s 8ms/step - loss: 5.4137e-05 - val_loss: 1.4502e-04\n",
            "Epoch 78/100\n",
            "4/4 [==============================] - 0s 8ms/step - loss: 3.8769e-05 - val_loss: 3.6979e-04\n",
            "Epoch 79/100\n",
            "4/4 [==============================] - 0s 10ms/step - loss: 8.3086e-05 - val_loss: 9.0982e-06\n",
            "Epoch 80/100\n",
            "4/4 [==============================] - 0s 8ms/step - loss: 6.7966e-05 - val_loss: 3.3440e-04\n",
            "Epoch 81/100\n",
            "4/4 [==============================] - 0s 8ms/step - loss: 7.6702e-05 - val_loss: 5.2692e-04\n",
            "Epoch 82/100\n",
            "4/4 [==============================] - 0s 9ms/step - loss: 1.9018e-04 - val_loss: 3.7132e-04\n",
            "Epoch 83/100\n",
            "4/4 [==============================] - 0s 8ms/step - loss: 4.6844e-05 - val_loss: 2.5016e-05\n",
            "Epoch 84/100\n",
            "4/4 [==============================] - 0s 8ms/step - loss: 3.1869e-05 - val_loss: 2.2588e-04\n",
            "Epoch 85/100\n",
            "4/4 [==============================] - 0s 10ms/step - loss: 4.3744e-05 - val_loss: 9.6068e-05\n",
            "Epoch 86/100\n",
            "4/4 [==============================] - 0s 9ms/step - loss: 2.8047e-05 - val_loss: 7.7486e-05\n",
            "Epoch 87/100\n",
            "4/4 [==============================] - 0s 8ms/step - loss: 6.0673e-05 - val_loss: 2.8059e-04\n",
            "Epoch 88/100\n",
            "4/4 [==============================] - 0s 8ms/step - loss: 5.6592e-05 - val_loss: 3.8734e-07\n",
            "Epoch 89/100\n",
            "4/4 [==============================] - 0s 8ms/step - loss: 2.8709e-05 - val_loss: 1.9718e-04\n",
            "Epoch 90/100\n",
            "4/4 [==============================] - 0s 8ms/step - loss: 3.3413e-05 - val_loss: 1.6300e-04\n",
            "Epoch 91/100\n",
            "4/4 [==============================] - 0s 8ms/step - loss: 2.5469e-05 - val_loss: 4.0513e-04\n",
            "Epoch 92/100\n",
            "4/4 [==============================] - 0s 8ms/step - loss: 1.7773e-04 - val_loss: 1.7752e-04\n",
            "Epoch 93/100\n",
            "4/4 [==============================] - 0s 8ms/step - loss: 3.8989e-05 - val_loss: 6.2959e-05\n",
            "Epoch 94/100\n",
            "4/4 [==============================] - 0s 8ms/step - loss: 1.9690e-05 - val_loss: 2.2090e-05\n",
            "Epoch 95/100\n",
            "4/4 [==============================] - 0s 14ms/step - loss: 2.6249e-05 - val_loss: 1.9013e-04\n",
            "Epoch 96/100\n",
            "4/4 [==============================] - 0s 8ms/step - loss: 2.1209e-05 - val_loss: 1.2623e-04\n",
            "Epoch 97/100\n",
            "4/4 [==============================] - 0s 8ms/step - loss: 1.9469e-05 - val_loss: 1.0249e-04\n",
            "Epoch 98/100\n",
            "4/4 [==============================] - 0s 8ms/step - loss: 1.9143e-05 - val_loss: 1.1095e-04\n",
            "Epoch 99/100\n",
            "4/4 [==============================] - 0s 9ms/step - loss: 2.6356e-05 - val_loss: 1.6956e-04\n",
            "Epoch 100/100\n",
            "4/4 [==============================] - 0s 8ms/step - loss: 2.5218e-05 - val_loss: 3.2536e-05\n"
          ]
        }
      ],
      "source": [
        "# Coding Time\n",
        "history = model.fit(x, y, batch_size=5, epochs=100, validation_split=0.2)"
      ]
    },
    {
      "cell_type": "markdown",
      "metadata": {
        "tags": [],
        "id": "aa5Po9i2S-6f"
      },
      "source": [
        "### (5) 모델 평가하기\n",
        "모델 객체의 evaluate 함수로 test 데이터에 대한 모델의 성능을 평가\n",
        " - x : Input data\n",
        " - y : Label of testing input data\n",
        " - batch_size(int) : Number of samples per batch of computation\n",
        " - steps(int) : Total number of steps (batches of samples) before declaring the evaluation round finished\n",
        " - verbose : 0 = silent, 1 = progress bar, 2 = one line per epoch"
      ]
    },
    {
      "cell_type": "code",
      "execution_count": 15,
      "metadata": {
        "tags": [],
        "colab": {
          "base_uri": "https://localhost:8080/"
        },
        "id": "6km3tRTAS-6g",
        "outputId": "82974207-064a-4337-8d1e-0529112ce98f"
      },
      "outputs": [
        {
          "output_type": "stream",
          "name": "stdout",
          "text": [
            "1/1 [==============================] - 0s 66ms/step - loss: 0.0013\n",
            "loss : 0.0013\n"
          ]
        }
      ],
      "source": [
        "# Coding Time\n",
        "loss= model.evaluate(x_test, y_test, batch_size=20)\n",
        "print('loss : %.4f'%(loss))"
      ]
    },
    {
      "cell_type": "markdown",
      "metadata": {
        "id": "aEGrS45OS-6i"
      },
      "source": [
        "## (6) 모델 사용하기\n",
        "모델 객체의 predict 함수로 input 데이터에 대한 모델의 예측결과를 반환\n",
        " - x : Input data\n",
        " - batch_size(int) : Number of samples per batch\n",
        " - steps(int) : Total number of steps (batches of samples) before declaring the prediction round finished\n",
        " - verbose : 0 = silent(recommend), 1 = progress bar, 2 = one line per epoch"
      ]
    },
    {
      "cell_type": "code",
      "execution_count": 16,
      "metadata": {
        "colab": {
          "base_uri": "https://localhost:8080/"
        },
        "id": "mFj6bmJHS-6k",
        "outputId": "7b5d46e6-02d3-4411-ef3c-312224eca456"
      },
      "outputs": [
        {
          "output_type": "stream",
          "name": "stdout",
          "text": [
            "x: 100.00,  y : 300.00,  y_predict : 299.94\n",
            "x: 101.00,  y : 303.00,  y_predict : 302.93\n",
            "x: 102.00,  y : 306.00,  y_predict : 305.93\n",
            "x: 103.00,  y : 309.00,  y_predict : 308.93\n",
            "x: 104.00,  y : 312.00,  y_predict : 311.93\n",
            "x: 105.00,  y : 315.00,  y_predict : 314.93\n",
            "x: 106.00,  y : 318.00,  y_predict : 317.93\n",
            "x: 107.00,  y : 321.00,  y_predict : 320.93\n",
            "x: 108.00,  y : 324.00,  y_predict : 323.93\n",
            "x: 109.00,  y : 327.00,  y_predict : 326.93\n",
            "x: 110.00,  y : 330.00,  y_predict : 329.93\n",
            "x: 111.00,  y : 333.00,  y_predict : 332.93\n",
            "x: 112.00,  y : 336.00,  y_predict : 335.93\n",
            "x: 113.00,  y : 339.00,  y_predict : 338.93\n",
            "x: 114.00,  y : 342.00,  y_predict : 341.93\n",
            "x: 115.00,  y : 345.00,  y_predict : 344.92\n",
            "x: 116.00,  y : 348.00,  y_predict : 347.92\n",
            "x: 117.00,  y : 351.00,  y_predict : 350.92\n",
            "x: 118.00,  y : 354.00,  y_predict : 353.92\n",
            "x: 119.00,  y : 357.00,  y_predict : 356.92\n"
          ]
        }
      ],
      "source": [
        "new_x = np.arange(100,120)\n",
        "true_y = new_x*3\n",
        "\n",
        "pred_y = model.predict(new_x, batch_size=20, verbose = 0)\n",
        "pred_y = np.reshape(pred_y,(-1,))\n",
        "for y in zip(new_x, true_y, pred_y):\n",
        "    print(\"x: %.2f,  y : %.2f,  y_predict : %.2f\"%(y[0], y[1], y[2]))"
      ]
    },
    {
      "cell_type": "markdown",
      "metadata": {
        "id": "ZuXHOJrgS-6m"
      },
      "source": [
        "## 1.2 MNIST Classification with Linear Classifier\n",
        "이번 실습에서는 keras로 linear 모델을 생성하고, MNIST dataset을 학습하여 성능을 평가한다."
      ]
    },
    {
      "cell_type": "code",
      "execution_count": 17,
      "metadata": {
        "id": "0QLcB_48S-6o"
      },
      "outputs": [],
      "source": [
        "import tensorflow.keras.utils as utils\n",
        "from tensorflow.keras import datasets\n",
        "from tensorflow.keras.models import Sequential, Model\n",
        "from tensorflow.keras.layers import Input, Dense, Activation\n",
        "\n",
        "import numpy as np\n",
        "import matplotlib.pyplot as plt"
      ]
    },
    {
      "cell_type": "markdown",
      "metadata": {
        "id": "w00jsPbpS-6p"
      },
      "source": [
        "### (1) 데이터셋 다운로드\n",
        "### Download the MNIST dataset\n",
        "MNIST dataset은 28x28 사이즈의 이미지들로 0~9까지의 숫자 10개의 손글씨 이미지로 이루어져있다.\n",
        "\n",
        "60,000장이 training에 사용되고 10,000장이 test에 사용된다."
      ]
    },
    {
      "cell_type": "code",
      "execution_count": 18,
      "metadata": {
        "colab": {
          "base_uri": "https://localhost:8080/"
        },
        "id": "rvub4mkgS-6q",
        "outputId": "9fbb95ff-2f64-42e8-ba22-fd64dff7614b"
      },
      "outputs": [
        {
          "output_type": "stream",
          "name": "stdout",
          "text": [
            "Downloading data from https://storage.googleapis.com/tensorflow/tf-keras-datasets/mnist.npz\n",
            "11493376/11490434 [==============================] - 0s 0us/step\n",
            "11501568/11490434 [==============================] - 0s 0us/step\n",
            "(60000, 28, 28) (60000,)\n"
          ]
        }
      ],
      "source": [
        "# Coding Time\n",
        "(X_train, Y_train),(X_test, Y_test) = datasets.mnist.load_data()\n",
        "print(X_train.shape, Y_train.shape)"
      ]
    },
    {
      "cell_type": "code",
      "execution_count": 19,
      "metadata": {
        "colab": {
          "base_uri": "https://localhost:8080/",
          "height": 301
        },
        "id": "LMF--n7BS-6r",
        "outputId": "64601ed8-3c35-4ceb-8877-7394ad8e8559"
      },
      "outputs": [
        {
          "output_type": "stream",
          "name": "stdout",
          "text": [
            "label :  5\n"
          ]
        },
        {
          "output_type": "execute_result",
          "data": {
            "text/plain": [
              "<matplotlib.image.AxesImage at 0x7fc350388b10>"
            ]
          },
          "metadata": {},
          "execution_count": 19
        },
        {
          "output_type": "display_data",
          "data": {
            "text/plain": [
              "<Figure size 432x288 with 1 Axes>"
            ],
            "image/png": "[encoded data removed]"
          },
          "metadata": {
            "needs_background": "light"
          }
        }
      ],
      "source": [
        "print('label : ',Y_train[0])\n",
        "plt.imshow(X_train[0], cmap='gray')"
      ]
    },
    {
      "cell_type": "code",
      "execution_count": 20,
      "metadata": {
        "colab": {
          "base_uri": "https://localhost:8080/"
        },
        "id": "a1mtt06vS-6t",
        "outputId": "2835789e-3a1f-404d-dedc-5a359ae1450a"
      },
      "outputs": [
        {
          "output_type": "stream",
          "name": "stdout",
          "text": [
            "[[0. 0. 0. ... 0. 0. 0.]\n",
            " [1. 0. 0. ... 0. 0. 0.]\n",
            " [0. 0. 0. ... 0. 0. 0.]\n",
            " ...\n",
            " [0. 0. 0. ... 0. 0. 0.]\n",
            " [0. 0. 0. ... 0. 0. 0.]\n",
            " [0. 0. 0. ... 0. 1. 0.]]\n",
            "(60000, 784) (60000, 10)\n"
          ]
        }
      ],
      "source": [
        "# Coding Time\n",
        "# Flatten and Normalization\n",
        "X_train_flat = X_train.reshape(60000, 28*28).astype('float32')/255.0\n",
        "X_test_flat = X_test.reshape(10000, 28*28).astype('float32')/255.0\n",
        "\n",
        "# One-hot Encoding\n",
        "Y_train_onehot = utils.to_categorical(Y_train)\n",
        "Y_test_onehot = utils.to_categorical(Y_test)\n",
        "\n",
        "print(Y_train_onehot)\n",
        "print(X_train_flat.shape, Y_train_onehot.shape)"
      ]
    },
    {
      "cell_type": "markdown",
      "metadata": {
        "id": "tx0iYxbJS-6u"
      },
      "source": [
        "### (2) Keras 모델링"
      ]
    },
    {
      "cell_type": "markdown",
      "metadata": {
        "id": "zwaugeyZS-6v"
      },
      "source": [
        "<사용되는 Layer>\n",
        "\n",
        "- Input : 모델에 입력되는 데이터의 batch size를 제외한 shape을 결정(https://keras.io/layers/core/#input)\n",
        "\n",
        "- Dense : Fully Connected Layer(https://keras.io/layers/core/#dense)\n",
        "\n",
        "- Activation : Activation Function을 정의, 문자열로 입력(https://keras.io/layers/core/#activation)"
      ]
    },
    {
      "cell_type": "code",
      "execution_count": 21,
      "metadata": {
        "id": "oxBynNcPS-6w"
      },
      "outputs": [],
      "source": [
        "n_in = 28*28   #784\n",
        "n_out = np.shape(Y_test_onehot)[1] # 10"
      ]
    },
    {
      "cell_type": "markdown",
      "metadata": {
        "id": "0Aor0nAwS-6w"
      },
      "source": [
        "### Sequential Modeling"
      ]
    },
    {
      "cell_type": "code",
      "execution_count": 25,
      "metadata": {
        "id": "uVf7nB3RS-6x"
      },
      "outputs": [],
      "source": [
        "def linear_model_seq(n_in, n_out):\n",
        "    # Coding Time\n",
        "    model = Sequential()\n",
        "    model.add(Dense(units =n_out, input_shape=(n_in,), activation='softmax'))\n",
        "    return model"
      ]
    },
    {
      "cell_type": "markdown",
      "metadata": {
        "id": "76eF9fWNS-6z"
      },
      "source": [
        "### Functional Modeling"
      ]
    },
    {
      "cell_type": "code",
      "execution_count": 26,
      "metadata": {
        "id": "4iR-0MydS-60"
      },
      "outputs": [],
      "source": [
        "def linear_model_func(n_in, n_out):\n",
        "    # Coding Time\n",
        "    x = Input(shape=(n_in,))\n",
        "    h = Dense(n_out)(x)\n",
        "    y = Activation('softmax')(h)\n",
        "    model = Model(inputs = x, outputs = y)\n",
        "    return model"
      ]
    },
    {
      "cell_type": "code",
      "execution_count": 27,
      "metadata": {
        "colab": {
          "base_uri": "https://localhost:8080/"
        },
        "id": "XDXEyDkoS-61",
        "outputId": "2cfed2ad-bd44-42c6-a28a-e76cd12399c7"
      },
      "outputs": [
        {
          "output_type": "stream",
          "name": "stdout",
          "text": [
            "Model: \"model_1\"\n",
            "_________________________________________________________________\n",
            " Layer (type)                Output Shape              Param #   \n",
            "=================================================================\n",
            " input_3 (InputLayer)        [(None, 784)]             0         \n",
            "                                                                 \n",
            " dense_4 (Dense)             (None, 10)                7850      \n",
            "                                                                 \n",
            " activation (Activation)     (None, 10)                0         \n",
            "                                                                 \n",
            "=================================================================\n",
            "Total params: 7,850\n",
            "Trainable params: 7,850\n",
            "Non-trainable params: 0\n",
            "_________________________________________________________________\n"
          ]
        }
      ],
      "source": [
        "model = linear_model_func(n_in, n_out)\n",
        "model.summary()"
      ]
    },
    {
      "cell_type": "code",
      "execution_count": 28,
      "metadata": {
        "colab": {
          "base_uri": "https://localhost:8080/",
          "height": 312
        },
        "id": "H2mAUXLJS-63",
        "outputId": "f5434ed0-e5de-4d52-8776-0889acb3d9a4"
      },
      "outputs": [
        {
          "output_type": "execute_result",
          "data": {
            "image/png": "[encoded data removed]",
            "text/plain": [
              "<IPython.core.display.Image object>"
            ]
          },
          "metadata": {},
          "execution_count": 28
        }
      ],
      "source": [
        "plot_model(model, show_shapes=True)"
      ]
    },
    {
      "cell_type": "markdown",
      "metadata": {
        "id": "CKpMaNDHS-65"
      },
      "source": [
        "## (3) 모델의 학습과정 설정\n",
        "accuracy를 측정할 수 있는 문제라면 metric에 accuracy를 설정 (https://keras.io/models/model/)"
      ]
    },
    {
      "cell_type": "code",
      "execution_count": 29,
      "metadata": {
        "id": "dTxLEG8aS-66"
      },
      "outputs": [],
      "source": [
        "# Coding Time\n",
        "model.compile(loss='categorical_crossentropy', \n",
        "              optimizer='sgd',\n",
        "              metrics=['accuracy'])"
      ]
    },
    {
      "cell_type": "markdown",
      "metadata": {
        "id": "xBNc0gzeS-67"
      },
      "source": [
        "## (4) 모델 학습시키기"
      ]
    },
    {
      "cell_type": "code",
      "execution_count": 30,
      "metadata": {
        "scrolled": true,
        "colab": {
          "base_uri": "https://localhost:8080/"
        },
        "id": "m6N7mdoaS-69",
        "outputId": "6e0b479f-1fea-47e7-c2c6-59cf11157c2b"
      },
      "outputs": [
        {
          "output_type": "stream",
          "name": "stdout",
          "text": [
            "Epoch 1/20\n",
            "375/375 [==============================] - 2s 3ms/step - loss: 1.3722 - accuracy: 0.6642 - val_loss: 0.8967 - val_accuracy: 0.8200\n",
            "Epoch 2/20\n",
            "375/375 [==============================] - 1s 3ms/step - loss: 0.7972 - accuracy: 0.8228 - val_loss: 0.6605 - val_accuracy: 0.8558\n",
            "Epoch 3/20\n",
            "375/375 [==============================] - 1s 3ms/step - loss: 0.6470 - accuracy: 0.8471 - val_loss: 0.5644 - val_accuracy: 0.8665\n",
            "Epoch 4/20\n",
            "375/375 [==============================] - 1s 3ms/step - loss: 0.5737 - accuracy: 0.8600 - val_loss: 0.5109 - val_accuracy: 0.8761\n",
            "Epoch 5/20\n",
            "375/375 [==============================] - 1s 3ms/step - loss: 0.5291 - accuracy: 0.8678 - val_loss: 0.4764 - val_accuracy: 0.8833\n",
            "Epoch 6/20\n",
            "375/375 [==============================] - 1s 3ms/step - loss: 0.4984 - accuracy: 0.8726 - val_loss: 0.4518 - val_accuracy: 0.8866\n",
            "Epoch 7/20\n",
            "375/375 [==============================] - 1s 3ms/step - loss: 0.4757 - accuracy: 0.8770 - val_loss: 0.4337 - val_accuracy: 0.8896\n",
            "Epoch 8/20\n",
            "375/375 [==============================] - 1s 3ms/step - loss: 0.4581 - accuracy: 0.8806 - val_loss: 0.4190 - val_accuracy: 0.8922\n",
            "Epoch 9/20\n",
            "375/375 [==============================] - 1s 3ms/step - loss: 0.4440 - accuracy: 0.8832 - val_loss: 0.4075 - val_accuracy: 0.8933\n",
            "Epoch 10/20\n",
            "375/375 [==============================] - 1s 3ms/step - loss: 0.4322 - accuracy: 0.8850 - val_loss: 0.3977 - val_accuracy: 0.8947\n",
            "Epoch 11/20\n",
            "375/375 [==============================] - 1s 3ms/step - loss: 0.4223 - accuracy: 0.8870 - val_loss: 0.3895 - val_accuracy: 0.8968\n",
            "Epoch 12/20\n",
            "375/375 [==============================] - 1s 3ms/step - loss: 0.4138 - accuracy: 0.8889 - val_loss: 0.3824 - val_accuracy: 0.8979\n",
            "Epoch 13/20\n",
            "375/375 [==============================] - 1s 3ms/step - loss: 0.4064 - accuracy: 0.8904 - val_loss: 0.3762 - val_accuracy: 0.8989\n",
            "Epoch 14/20\n",
            "375/375 [==============================] - 1s 3ms/step - loss: 0.3998 - accuracy: 0.8925 - val_loss: 0.3708 - val_accuracy: 0.9004\n",
            "Epoch 15/20\n",
            "375/375 [==============================] - 1s 3ms/step - loss: 0.3940 - accuracy: 0.8941 - val_loss: 0.3660 - val_accuracy: 0.9015\n",
            "Epoch 16/20\n",
            "375/375 [==============================] - 1s 3ms/step - loss: 0.3887 - accuracy: 0.8948 - val_loss: 0.3616 - val_accuracy: 0.9027\n",
            "Epoch 17/20\n",
            "375/375 [==============================] - 1s 3ms/step - loss: 0.3840 - accuracy: 0.8962 - val_loss: 0.3576 - val_accuracy: 0.9042\n",
            "Epoch 18/20\n",
            "375/375 [==============================] - 1s 3ms/step - loss: 0.3796 - accuracy: 0.8968 - val_loss: 0.3541 - val_accuracy: 0.9048\n",
            "Epoch 19/20\n",
            "375/375 [==============================] - 1s 3ms/step - loss: 0.3757 - accuracy: 0.8976 - val_loss: 0.3508 - val_accuracy: 0.9055\n",
            "Epoch 20/20\n",
            "375/375 [==============================] - 1s 3ms/step - loss: 0.3720 - accuracy: 0.8985 - val_loss: 0.3480 - val_accuracy: 0.9067\n"
          ]
        }
      ],
      "source": [
        "# Coding Time\n",
        "history = model.fit(X_train_flat, Y_train_onehot, batch_size=128, epochs=20, validation_split=0.2)"
      ]
    },
    {
      "cell_type": "markdown",
      "metadata": {
        "id": "ppeIasN6S-6-"
      },
      "source": [
        "## (5) 모델 평가하기"
      ]
    },
    {
      "cell_type": "code",
      "execution_count": 31,
      "metadata": {
        "colab": {
          "base_uri": "https://localhost:8080/"
        },
        "id": "iYCxjT_xS-6_",
        "outputId": "ace189d2-8f1e-47ef-a0ae-96d38a2edf58"
      },
      "outputs": [
        {
          "output_type": "stream",
          "name": "stdout",
          "text": [
            "79/79 [==============================] - 0s 2ms/step - loss: 0.3489 - accuracy: 0.9075\n",
            "loss : 0.3489, accruracy : 0.9075\n"
          ]
        }
      ],
      "source": [
        "# Coding Time\n",
        "loss_and_accuracy = model.evaluate(X_test_flat, Y_test_onehot, batch_size=128)\n",
        "print('loss : %.4f, accruracy : %.4f'%(loss_and_accuracy[0],loss_and_accuracy[1]))"
      ]
    },
    {
      "cell_type": "markdown",
      "metadata": {
        "id": "2X_TQoezS-7B"
      },
      "source": [
        "## (6) 모델 사용하기"
      ]
    },
    {
      "cell_type": "code",
      "execution_count": 32,
      "metadata": {
        "colab": {
          "base_uri": "https://localhost:8080/",
          "height": 301
        },
        "id": "vOsU2RF5S-7C",
        "outputId": "abf68fe2-0cfc-4dac-9c87-1990f455a802"
      },
      "outputs": [
        {
          "output_type": "stream",
          "name": "stdout",
          "text": [
            "real_label : 6, predict_label : 6\n"
          ]
        },
        {
          "output_type": "execute_result",
          "data": {
            "text/plain": [
              "<matplotlib.image.AxesImage at 0x7fc2c3b5b910>"
            ]
          },
          "metadata": {},
          "execution_count": 32
        },
        {
          "output_type": "display_data",
          "data": {
            "text/plain": [
              "<Figure size 432x288 with 1 Axes>"
            ],
            "image/png": "[encoded data removed]"
          },
          "metadata": {
            "needs_background": "light"
          }
        }
      ],
      "source": [
        "# Coding Time\n",
        "test_data = X_test[-1].reshape(1,28*28)\n",
        "pred_y = model.predict(test_data)\n",
        "pred_y = pred_y.argmax()\n",
        "\n",
        "print('real_label : {}, predict_label : {}'.format(Y_test[-1], pred_y))\n",
        "plt.imshow(X_test[-1], cmap='gray')"
      ]
    },
    {
      "cell_type": "markdown",
      "metadata": {
        "id": "ZTtZ9CdUS-7D"
      },
      "source": [
        "# 1.3 MNIST Classification with DNN (To Do)\n",
        "\n",
        "모델의 설명을 보고 DNN 코드를 만들어보자"
      ]
    },
    {
      "cell_type": "markdown",
      "metadata": {
        "id": "RHRQ_W8ES-7F"
      },
      "source": [
        "## (2) Keras 모델링"
      ]
    },
    {
      "cell_type": "markdown",
      "metadata": {
        "id": "oE3hxIJ5S-7G"
      },
      "source": [
        "![image.png](attachment:image.png)\n",
        "\n",
        "<맨 마지막 activation은 softmax로 하고 이외의 activation은 relu를 사용>"
      ]
    },
    {
      "cell_type": "code",
      "execution_count": 33,
      "metadata": {
        "colab": {
          "base_uri": "https://localhost:8080/"
        },
        "id": "lc1nn9GTS-7I",
        "outputId": "fbdc5bff-420e-4bfc-b06c-0ff0414cd115"
      },
      "outputs": [
        {
          "output_type": "stream",
          "name": "stdout",
          "text": [
            "Model: \"sequential_1\"\n",
            "_________________________________________________________________\n",
            " Layer (type)                Output Shape              Param #   \n",
            "=================================================================\n",
            " dense_5 (Dense)             (None, 256)               200960    \n",
            "                                                                 \n",
            " dense_6 (Dense)             (None, 128)               32896     \n",
            "                                                                 \n",
            " dense_7 (Dense)             (None, 64)                8256      \n",
            "                                                                 \n",
            " dense_8 (Dense)             (None, 32)                2080      \n",
            "                                                                 \n",
            " dense_9 (Dense)             (None, 10)                330       \n",
            "                                                                 \n",
            "=================================================================\n",
            "Total params: 244,522\n",
            "Trainable params: 244,522\n",
            "Non-trainable params: 0\n",
            "_________________________________________________________________\n"
          ]
        }
      ],
      "source": [
        "def DNN_seq(n_in, n_out):\n",
        "    model = Sequential()\n",
        "    model.add(Dense(units = 256, input_shape=(n_in,), activation='relu'))\n",
        "    model.add(Dense(units = 128, input_shape=(256,), activation='relu'))\n",
        "    model.add(Dense(units = 64, input_shape=(128,), activation='relu'))\n",
        "    model.add(Dense(units = 32, input_shape=(64,), activation='relu'))\n",
        "    model.add(Dense(units = n_out, input_shape=(32,), activation='softmax'))\n",
        "    return model\n",
        "\n",
        "def DNN_func(n_in, n_out):\n",
        "    x = Input(shape=(n_in,))\n",
        "    x = Dense(256)(x)\n",
        "    x = Activation('relu')(x)\n",
        "    x = Dense(128)(x)\n",
        "    x = Activation('relu')(x)\n",
        "    x = Dense(64)(x)\n",
        "    x = Activation('relu')(x)\n",
        "    x = Dense(32)(x)\n",
        "    x = Activation('relu')(x)\n",
        "    x = Dense(n_out)(x)\n",
        "    y = Activation('softmax')(x)\n",
        "    model = Model(inputs = x, outputs = y)\n",
        "    return model\n",
        "\n",
        "model = DNN_seq(n_in, n_out)\n",
        "model.summary()"
      ]
    },
    {
      "cell_type": "markdown",
      "metadata": {
        "id": "25bfLmmQS-7J"
      },
      "source": [
        "## (3) 모델의 학습과정 설정\n",
        "<optimizer를 adam으로 설정>"
      ]
    },
    {
      "cell_type": "code",
      "execution_count": 34,
      "metadata": {
        "id": "gqDOwXh8S-7K"
      },
      "outputs": [],
      "source": [
        "model.compile(loss='categorical_crossentropy', \n",
        "              optimizer='adam',\n",
        "              metrics=['accuracy'])"
      ]
    },
    {
      "cell_type": "markdown",
      "metadata": {
        "id": "854dFgBnS-7L"
      },
      "source": [
        "## (4) 모델 학습시키기\n",
        "<batch size를 256, epoch을 30, train 데이터 중 30%를 validation 데이터로 사용, verbose 모드는 2>"
      ]
    },
    {
      "cell_type": "code",
      "execution_count": 35,
      "metadata": {
        "colab": {
          "base_uri": "https://localhost:8080/"
        },
        "id": "cCat1xyZS-7M",
        "outputId": "921663ff-23ba-4e43-8b1b-9a2ea93be49b"
      },
      "outputs": [
        {
          "output_type": "stream",
          "name": "stdout",
          "text": [
            "Epoch 1/30\n",
            "165/165 - 2s - loss: 0.4795 - accuracy: 0.8609 - val_loss: 0.2198 - val_accuracy: 0.9325 - 2s/epoch - 9ms/step\n",
            "Epoch 2/30\n",
            "165/165 - 1s - loss: 0.1519 - accuracy: 0.9543 - val_loss: 0.1434 - val_accuracy: 0.9579 - 801ms/epoch - 5ms/step\n",
            "Epoch 3/30\n",
            "165/165 - 1s - loss: 0.1006 - accuracy: 0.9705 - val_loss: 0.1193 - val_accuracy: 0.9639 - 809ms/epoch - 5ms/step\n",
            "Epoch 4/30\n",
            "165/165 - 1s - loss: 0.0787 - accuracy: 0.9758 - val_loss: 0.1149 - val_accuracy: 0.9670 - 661ms/epoch - 4ms/step\n",
            "Epoch 5/30\n",
            "165/165 - 1s - loss: 0.0601 - accuracy: 0.9812 - val_loss: 0.1215 - val_accuracy: 0.9637 - 794ms/epoch - 5ms/step\n",
            "Epoch 6/30\n",
            "165/165 - 1s - loss: 0.0471 - accuracy: 0.9852 - val_loss: 0.1011 - val_accuracy: 0.9715 - 680ms/epoch - 4ms/step\n",
            "Epoch 7/30\n",
            "165/165 - 1s - loss: 0.0430 - accuracy: 0.9867 - val_loss: 0.1015 - val_accuracy: 0.9721 - 805ms/epoch - 5ms/step\n",
            "Epoch 8/30\n",
            "165/165 - 1s - loss: 0.0284 - accuracy: 0.9918 - val_loss: 0.0955 - val_accuracy: 0.9744 - 663ms/epoch - 4ms/step\n",
            "Epoch 9/30\n",
            "165/165 - 1s - loss: 0.0209 - accuracy: 0.9936 - val_loss: 0.1097 - val_accuracy: 0.9721 - 817ms/epoch - 5ms/step\n",
            "Epoch 10/30\n",
            "165/165 - 1s - loss: 0.0170 - accuracy: 0.9951 - val_loss: 0.1148 - val_accuracy: 0.9723 - 653ms/epoch - 4ms/step\n",
            "Epoch 11/30\n",
            "165/165 - 1s - loss: 0.0125 - accuracy: 0.9966 - val_loss: 0.1068 - val_accuracy: 0.9733 - 809ms/epoch - 5ms/step\n",
            "Epoch 12/30\n",
            "165/165 - 1s - loss: 0.0086 - accuracy: 0.9978 - val_loss: 0.1130 - val_accuracy: 0.9738 - 644ms/epoch - 4ms/step\n",
            "Epoch 13/30\n",
            "165/165 - 1s - loss: 0.0094 - accuracy: 0.9973 - val_loss: 0.1330 - val_accuracy: 0.9710 - 646ms/epoch - 4ms/step\n",
            "Epoch 14/30\n",
            "165/165 - 1s - loss: 0.0226 - accuracy: 0.9927 - val_loss: 0.1400 - val_accuracy: 0.9672 - 641ms/epoch - 4ms/step\n",
            "Epoch 15/30\n",
            "165/165 - 1s - loss: 0.0137 - accuracy: 0.9960 - val_loss: 0.1192 - val_accuracy: 0.9733 - 650ms/epoch - 4ms/step\n",
            "Epoch 16/30\n",
            "165/165 - 1s - loss: 0.0057 - accuracy: 0.9984 - val_loss: 0.1364 - val_accuracy: 0.9718 - 803ms/epoch - 5ms/step\n",
            "Epoch 17/30\n",
            "165/165 - 1s - loss: 0.0041 - accuracy: 0.9989 - val_loss: 0.1297 - val_accuracy: 0.9753 - 801ms/epoch - 5ms/step\n",
            "Epoch 18/30\n",
            "165/165 - 1s - loss: 0.0075 - accuracy: 0.9975 - val_loss: 0.1482 - val_accuracy: 0.9706 - 671ms/epoch - 4ms/step\n",
            "Epoch 19/30\n",
            "165/165 - 1s - loss: 0.0120 - accuracy: 0.9959 - val_loss: 0.1578 - val_accuracy: 0.9681 - 700ms/epoch - 4ms/step\n",
            "Epoch 20/30\n",
            "165/165 - 1s - loss: 0.0141 - accuracy: 0.9953 - val_loss: 0.1281 - val_accuracy: 0.9739 - 801ms/epoch - 5ms/step\n",
            "Epoch 21/30\n",
            "165/165 - 1s - loss: 0.0060 - accuracy: 0.9981 - val_loss: 0.1284 - val_accuracy: 0.9757 - 666ms/epoch - 4ms/step\n",
            "Epoch 22/30\n",
            "165/165 - 1s - loss: 0.0050 - accuracy: 0.9985 - val_loss: 0.1263 - val_accuracy: 0.9759 - 646ms/epoch - 4ms/step\n",
            "Epoch 23/30\n",
            "165/165 - 1s - loss: 0.0052 - accuracy: 0.9983 - val_loss: 0.1622 - val_accuracy: 0.9702 - 807ms/epoch - 5ms/step\n",
            "Epoch 24/30\n",
            "165/165 - 1s - loss: 0.0109 - accuracy: 0.9962 - val_loss: 0.1401 - val_accuracy: 0.9722 - 674ms/epoch - 4ms/step\n",
            "Epoch 25/30\n",
            "165/165 - 1s - loss: 0.0095 - accuracy: 0.9966 - val_loss: 0.1397 - val_accuracy: 0.9733 - 818ms/epoch - 5ms/step\n",
            "Epoch 26/30\n",
            "165/165 - 1s - loss: 0.0052 - accuracy: 0.9983 - val_loss: 0.1339 - val_accuracy: 0.9766 - 658ms/epoch - 4ms/step\n",
            "Epoch 27/30\n",
            "165/165 - 1s - loss: 0.0014 - accuracy: 0.9996 - val_loss: 0.1451 - val_accuracy: 0.9761 - 802ms/epoch - 5ms/step\n",
            "Epoch 28/30\n",
            "165/165 - 1s - loss: 0.0080 - accuracy: 0.9979 - val_loss: 0.1651 - val_accuracy: 0.9726 - 643ms/epoch - 4ms/step\n",
            "Epoch 29/30\n",
            "165/165 - 1s - loss: 0.0122 - accuracy: 0.9961 - val_loss: 0.1553 - val_accuracy: 0.9699 - 647ms/epoch - 4ms/step\n",
            "Epoch 30/30\n",
            "165/165 - 1s - loss: 0.0065 - accuracy: 0.9977 - val_loss: 0.1482 - val_accuracy: 0.9729 - 799ms/epoch - 5ms/step\n"
          ]
        }
      ],
      "source": [
        "history = model.fit(X_train_flat, Y_train_onehot, batch_size=256, epochs=30, validation_split=0.3, verbose =2)"
      ]
    },
    {
      "cell_type": "markdown",
      "metadata": {
        "id": "YQpDIPcpS-7N"
      },
      "source": [
        "## (5) 모델 평가하기"
      ]
    },
    {
      "cell_type": "code",
      "execution_count": 36,
      "metadata": {
        "colab": {
          "base_uri": "https://localhost:8080/"
        },
        "id": "3CkK1-WFS-7N",
        "outputId": "00a9fbc1-f5a7-4bbe-e7b7-a3bab86fe91b"
      },
      "outputs": [
        {
          "output_type": "stream",
          "name": "stdout",
          "text": [
            "79/79 [==============================] - 0s 3ms/step - loss: 0.1322 - accuracy: 0.9751\n",
            "loss : 0.1322, accruracy : 0.9751\n"
          ]
        }
      ],
      "source": [
        "loss_and_accuracy = model.evaluate(X_test_flat, Y_test_onehot, batch_size=128)\n",
        "print('loss : %.4f, accruracy : %.4f'%(loss_and_accuracy[0],loss_and_accuracy[1]))"
      ]
    },
    {
      "cell_type": "markdown",
      "metadata": {
        "id": "aWlf0RY9S-7O"
      },
      "source": [
        "## (6) 모델 사용하기"
      ]
    },
    {
      "cell_type": "code",
      "execution_count": 37,
      "metadata": {
        "tags": [],
        "colab": {
          "base_uri": "https://localhost:8080/",
          "height": 1000
        },
        "id": "TKIu7eSSS-7P",
        "outputId": "d2c1873d-d52a-40e3-ce4b-e6e991f8885c"
      },
      "outputs": [
        {
          "output_type": "stream",
          "name": "stdout",
          "text": [
            "real_label : 7, predict_label : 7\n"
          ]
        },
        {
          "output_type": "display_data",
          "data": {
            "text/plain": [
              "<Figure size 432x288 with 1 Axes>"
            ],
            "image/png": "[encoded data removed]"
          },
          "metadata": {
            "needs_background": "light"
          }
        },
        {
          "output_type": "stream",
          "name": "stdout",
          "text": [
            "real_label : 2, predict_label : 2\n"
          ]
        },
        {
          "output_type": "display_data",
          "data": {
            "text/plain": [
              "<Figure size 432x288 with 1 Axes>"
            ],
            "image/png": "[encoded data removed]"
          },
          "metadata": {
            "needs_background": "light"
          }
        },
        {
          "output_type": "stream",
          "name": "stdout",
          "text": [
            "real_label : 1, predict_label : 1\n"
          ]
        },
        {
          "output_type": "display_data",
          "data": {
            "text/plain": [
              "<Figure size 432x288 with 1 Axes>"
            ],
            "image/png": "[encoded data removed]"
          },
          "metadata": {
            "needs_background": "light"
          }
        },
        {
          "output_type": "stream",
          "name": "stdout",
          "text": [
            "real_label : 0, predict_label : 0\n"
          ]
        },
        {
          "output_type": "display_data",
          "data": {
            "text/plain": [
              "<Figure size 432x288 with 1 Axes>"
            ],
            "image/png": "[encoded data removed]"
          },
          "metadata": {
            "needs_background": "light"
          }
        },
        {
          "output_type": "stream",
          "name": "stdout",
          "text": [
            "real_label : 4, predict_label : 4\n"
          ]
        },
        {
          "output_type": "display_data",
          "data": {
            "text/plain": [
              "<Figure size 432x288 with 1 Axes>"
            ],
            "image/png": "[encoded data removed]"
          },
          "metadata": {
            "needs_background": "light"
          }
        }
      ],
      "source": [
        "for i in range(5):\n",
        "    test_data = X_test[i].reshape(1,28*28) \n",
        "    pred_y = model.predict(test_data, verbose=0)\n",
        "    pred_y = pred_y.argmax()\n",
        "    \n",
        "    print('real_label : {}, predict_label : {}'.format(Y_test[i], pred_y))\n",
        "    plt.imshow(X_test[i], cmap='gray')\n",
        "    plt.show()"
      ]
    },
    {
      "cell_type": "markdown",
      "metadata": {
        "id": "iTtKIv1nS-7Q"
      },
      "source": [
        "## (7) 모델 저장하고 불러오기\n",
        "\n",
        "저장하기 : model 객체의 내부 함수인 save() .h5 형식으로 저장할 수 있음 [1.모델의 구조, 2.학습된 파라미터, 3.complie() 설정]"
      ]
    },
    {
      "cell_type": "code",
      "execution_count": 38,
      "metadata": {
        "id": "oi60oaWPS-7R"
      },
      "outputs": [],
      "source": [
        "# Coding Time\n",
        "model.save('latest_model.h5')"
      ]
    },
    {
      "cell_type": "markdown",
      "metadata": {
        "id": "7UJKwHu0S-7R"
      },
      "source": [
        "불러오기 : load_model 함수로 .h5 파일에서 모델을 불러올 수 있음"
      ]
    },
    {
      "cell_type": "code",
      "execution_count": 39,
      "metadata": {
        "colab": {
          "base_uri": "https://localhost:8080/"
        },
        "id": "Wj_wgGE-S-7S",
        "outputId": "52a32de4-4a75-4c00-cca0-09dea825b7fb"
      },
      "outputs": [
        {
          "output_type": "stream",
          "name": "stdout",
          "text": [
            "Epoch 1/3\n",
            "165/165 - 1s - loss: 0.0057 - accuracy: 0.9982 - val_loss: 0.1368 - val_accuracy: 0.9749 - 1s/epoch - 7ms/step\n",
            "Epoch 2/3\n",
            "165/165 - 1s - loss: 0.0068 - accuracy: 0.9979 - val_loss: 0.1484 - val_accuracy: 0.9753 - 657ms/epoch - 4ms/step\n",
            "Epoch 3/3\n",
            "165/165 - 1s - loss: 0.0042 - accuracy: 0.9988 - val_loss: 0.1450 - val_accuracy: 0.9749 - 786ms/epoch - 5ms/step\n"
          ]
        },
        {
          "output_type": "execute_result",
          "data": {
            "text/plain": [
              "<keras.callbacks.History at 0x7fc2c26d50d0>"
            ]
          },
          "metadata": {},
          "execution_count": 39
        }
      ],
      "source": [
        "# Coding Time\n",
        "from tensorflow.keras.models import load_model\n",
        "model = load_model('latest_model.h5')\n",
        "model.fit(X_train_flat, Y_train_onehot, batch_size=256, epochs=3, validation_split=0.3, verbose=2)"
      ]
    },
    {
      "cell_type": "markdown",
      "metadata": {
        "id": "pTItLpqPS-7U"
      },
      "source": [
        "# ======================================================"
      ]
    },
    {
      "cell_type": "markdown",
      "metadata": {
        "id": "jfxBcjXqS-7V"
      },
      "source": [
        "# 1.4 Keras MNIST - 모델의 성능을 직접 높혀보자\n",
        " - DNN의 구조를 바꾸어 나만의 모델을 만들어보자\n",
        " - 목표 정확도: 평가 셋에 대해 98.5% 만들기\n",
        " - 바꿀 수 있는 하이퍼 파라미터: Learning Rate, Batch size, Epochs, Optimizer, Activation Function, 모델 레이어 구조 등"
      ]
    },
    {
      "cell_type": "markdown",
      "metadata": {
        "id": "vLUFiDPgS-7W"
      },
      "source": [
        "## (2) Keras 모델링"
      ]
    },
    {
      "cell_type": "code",
      "execution_count": null,
      "metadata": {
        "tags": [],
        "id": "dLb07QjXS-7X"
      },
      "outputs": [],
      "source": []
    },
    {
      "cell_type": "markdown",
      "metadata": {
        "id": "NvoJ68BrS-7Y"
      },
      "source": [
        "## (3) 모델의 학습과정 설정"
      ]
    },
    {
      "cell_type": "code",
      "execution_count": null,
      "metadata": {
        "id": "hq_Vn1JXS-7Z"
      },
      "outputs": [],
      "source": []
    },
    {
      "cell_type": "markdown",
      "metadata": {
        "tags": [],
        "id": "Acpmxj-dS-7a"
      },
      "source": [
        "## (4) 모델 학습시키기"
      ]
    },
    {
      "cell_type": "code",
      "execution_count": null,
      "metadata": {
        "id": "9AaM9l5zS-7b"
      },
      "outputs": [],
      "source": []
    },
    {
      "cell_type": "markdown",
      "metadata": {
        "id": "IU4lwIPAS-7c"
      },
      "source": [
        "## (5) 모델 평가하기"
      ]
    },
    {
      "cell_type": "code",
      "execution_count": null,
      "metadata": {
        "id": "JgGlfiqCS-7d"
      },
      "outputs": [],
      "source": []
    }
  ],
  "metadata": {
    "kernelspec": {
      "display_name": "Python 3",
      "name": "python3"
    },
    "language_info": {
      "name": "python"
    },
    "colab": {
      "provenance": [],
      "include_colab_link": true
    },
    "accelerator": "GPU",
    "gpuClass": "standard"
  },
  "nbformat": 4,
  "nbformat_minor": 0
}