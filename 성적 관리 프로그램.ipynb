{
 "cells": [
  {
   "cell_type": "markdown",
   "id": "dea90357",
   "metadata": {},
   "source": [
    "# 성적 관리 프로그램\n",
    "\n",
    "C1조 성민지\n",
    "\n",
    "---"
   ]
  },
  {
   "cell_type": "code",
   "execution_count": 10,
   "id": "1d56c803",
   "metadata": {},
   "outputs": [
    {
     "name": "stdout",
     "output_type": "stream",
     "text": [
      "Student \t Name \t Midterm \t Final \t Average \t Grade\n",
      "---------------------------------------------------------------------------\n",
      "20180002 \t Lee Jieun \t 92 \t 89 \t 90.5 \t A\n",
      "20180009 \t Lee Yeonghee \t 81 \t 84 \t 82.5 \t B\n",
      "20180001 \t Hong Gildong \t 84 \t 73 \t 78.5 \t C\n",
      "20180011 \t Ha Donghun \t 58 \t 68 \t 63.0 \t D\n",
      "20180007 \t Kim Cheolsu \t 57 \t 62 \t 59.5 \t F\n"
     ]
    }
   ],
   "source": [
    "# 1. show\n",
    "\n",
    "\n",
    "\n",
    "\n",
    "\n",
    "def show() :\n",
    "    \n",
    "    stud = open(\"students.txt\", \"r\")\n",
    "\n",
    "    nums = []\n",
    "    names = []\n",
    "    mids = []\n",
    "    fins = []\n",
    "    avgs = []\n",
    "    avgs_idxs = []\n",
    "    grades = []\n",
    "\n",
    "\n",
    "\n",
    "    def grading(avg) :\n",
    "        if avg >= 90 :\n",
    "            grade = \"A\"\n",
    "        elif avg >= 80 :\n",
    "            grade = \"B\"\n",
    "        elif avg >= 70 :\n",
    "            grade = \"C\"\n",
    "        elif avg >= 60 :\n",
    "            grade = \"D\"\n",
    "        else :\n",
    "            grade = \"F\"\n",
    "        return grade    \n",
    "\n",
    "\n",
    "\n",
    "\n",
    "    print(\"Student\", \"\\t\", \"Name\", \"\\t\", \"Midterm\", \"\\t\", \"Final\", \"\\t\", \"Average\", \"\\t\", \"Grade\")\n",
    "    print(\"---------------------------------------------------------------------------\")\n",
    "\n",
    "\n",
    "\n",
    "    for x in stud :\n",
    "        x.split(\"\\n\")\n",
    "        num, name, mid, fin = x.split(\"\\t\")\n",
    "        num = int(num)\n",
    "        mid = int(mid)\n",
    "        fin = int(fin)\n",
    "        avg = (mid + fin) / 2\n",
    "        grade = grading(avg)\n",
    "\n",
    "        nums.append(num)\n",
    "        names.append(name)\n",
    "        mids.append(mid)\n",
    "        fins.append(fin)\n",
    "        avgs.append(avg)\n",
    "        grades.append(grade)\n",
    "\n",
    "\n",
    "    for y in avgs :\n",
    "        avgs_temp = avgs.copy()\n",
    "        avgs_temp.sort(reverse = True)\n",
    "\n",
    "    for i in range(len(avgs)) :\n",
    "        avgs_idx = avgs.index(avgs_temp[i])\n",
    "        avgs_idxs.append(avgs_idx)\n",
    "\n",
    "    for j in avgs_idxs :\n",
    "        print(nums[j], \"\\t\", names[j], \"\\t\", mids[j], \"\\t\", fins[j], \"\\t\", avgs[j], \"\\t\", grades[j])\n",
    "\n",
    "\n",
    "show()\n"
   ]
  },
  {
   "cell_type": "code",
   "execution_count": 18,
   "id": "1bb9a223",
   "metadata": {},
   "outputs": [
    {
     "name": "stdout",
     "output_type": "stream",
     "text": [
      "Student ID: 20180002\n",
      "Student \t Name \t Midterm \t Final \t Average \t Grade\n",
      "---------------------------------------------------------------------------\n",
      "20180002 \t Lee Jieun \t 92 \t 89 \t 90.5 \t A\n"
     ]
    }
   ],
   "source": [
    "# 2. search\n",
    "\n",
    "\n",
    "\n",
    "\n",
    "\n",
    "\n",
    "def search() :\n",
    "    \n",
    "    val = int(input(\"Student ID: \"))\n",
    "    \n",
    "    if val not in nums :\n",
    "        print(\"NO SUCH PERSON.\")      \n",
    "    else :\n",
    "        for i in nums :\n",
    "            if val == i :\n",
    "                idx = nums.index(i)\n",
    "                print(\"Student\", \"\\t\", \"Name\", \"\\t\", \"Midterm\", \"\\t\", \"Final\", \"\\t\", \"Average\", \"\\t\", \"Grade\")\n",
    "                print(\"---------------------------------------------------------------------------\")\n",
    "                print(nums[idx], \"\\t\", names[idx], \"\\t\", mids[idx], \"\\t\", fins[idx], \"\\t\", avgs[idx], \"\\t\", grades[idx])\n",
    "\n",
    "\n",
    "search()\n",
    "\n"
   ]
  },
  {
   "cell_type": "markdown",
   "id": "d7bca06b",
   "metadata": {},
   "source": [
    "\n",
    "\n"
   ]
  },
  {
   "cell_type": "code",
   "execution_count": 21,
   "id": "fc18ac37",
   "metadata": {},
   "outputs": [
    {
     "name": "stdout",
     "output_type": "stream",
     "text": [
      "Student ID: 20180007\n",
      "Mid/Final? mid\n",
      "Input new score: 75\n",
      "Student \t Name \t Midterm \t Final \t Average \t Grade\n",
      "---------------------------------------------------------------------------\n",
      "20180007 \t Kim Cheolsu \t 57 \t 62 \t 59.5 \t F\n",
      "Score changed.\n",
      "20180007 \t Kim Cheolsu \t 75 \t 62 \t 68.5 \t D\n"
     ]
    }
   ],
   "source": [
    "# 3.changescore\n",
    "\n",
    "\n",
    "\n",
    "\n",
    "\n",
    "\n",
    "def changescore() :\n",
    "    \n",
    "    val = int(input(\"Student ID: \"))\n",
    "    \n",
    "    if val not in nums :\n",
    "        print(\"NO SUCH PERSON.\")\n",
    "    else :\n",
    "        term = input(\"Mid/Final? \")\n",
    "        \n",
    "        if term == \"mid\" or term == \"final\" :\n",
    "            val1 = int(input(\"Input new score: \"))\n",
    "            \n",
    "            if val1 >= 0 and val1 <= 100 :\n",
    "                idx = nums.index(val)\n",
    "                print(\"Student\", \"\\t\", \"Name\", \"\\t\", \"Midterm\", \"\\t\", \"Final\", \"\\t\", \"Average\", \"\\t\", \"Grade\")\n",
    "                print(\"---------------------------------------------------------------------------\")\n",
    "                print(nums[idx], \"\\t\", names[idx], \"\\t\", mids[idx], \"\\t\", fins[idx], \"\\t\", avgs[idx], \"\\t\", grades[idx])\n",
    "                print(\"Score changed.\")\n",
    "\n",
    "                \n",
    "                \n",
    "                if term == \"mid\" :\n",
    "                    mids[idx] = val1\n",
    "                    avgs[idx] = (mids[idx] + fins[idx]) / 2\n",
    "                    grades[idx] = grading(avgs[idx])\n",
    "                    print(nums[idx], \"\\t\", names[idx], \"\\t\", mids[idx], \"\\t\", fins[idx], \"\\t\", avgs[idx], \"\\t\", grades[idx])\n",
    "                    \n",
    "                    \n",
    "                elif term == \"final\" :\n",
    "                    fins[idx] = val1\n",
    "                    avgs[idx] = (mids[idx] + fins[idx]) / 2\n",
    "                    grades[idx] = grading(avgs[idx])\n",
    "                    print(nums[idx], \"\\t\", names[idx], \"\\t\", mids[idx], \"\\t\", val1, \"\\t\", avgs[idx], \"\\t\", grades[idx])\n",
    "\n",
    "        \n",
    "    \n",
    "changescore()\n"
   ]
  },
  {
   "cell_type": "code",
   "execution_count": 11,
   "id": "14231575",
   "metadata": {},
   "outputs": [
    {
     "name": "stdout",
     "output_type": "stream",
     "text": [
      "Student ID: 20180006\n",
      "Name: Lee Sangsun\n",
      "Midterm Score: 77\n",
      "Final Score: 66\n",
      "Student added.\n"
     ]
    }
   ],
   "source": [
    "# 4. add\n",
    "\n",
    "\n",
    "def add() :\n",
    "    val = int(input(\"Student ID: \"))\n",
    "    \n",
    "    if val in nums :\n",
    "        print(\"ALREADY EXISTS.\")\n",
    "    else :\n",
    "        name = input(\"Name: \")\n",
    "        mid = int(input(\"Midterm Score: \"))\n",
    "        fin = int(input(\"Final Score: \"))\n",
    "        \n",
    "        nums.append(val)\n",
    "        names.append(name)\n",
    "        mids.append(mid)\n",
    "        fins.append(fin)\n",
    "        \n",
    "        print(\"Student added.\")\n",
    "        \n",
    "add()\n",
    "\n",
    "\n",
    "\n"
   ]
  },
  {
   "cell_type": "code",
   "execution_count": 12,
   "id": "e635f3bc",
   "metadata": {},
   "outputs": [
    {
     "name": "stdout",
     "output_type": "stream",
     "text": [
      "Student \t Name \t Midterm \t Final \t Average \t Grade\n",
      "---------------------------------------------------------------------------\n",
      "20180002 \t Lee Jieun \t 92 \t 89 \t 90.5 \t A\n",
      "20180009 \t Lee Yeonghee \t 81 \t 84 \t 82.5 \t B\n",
      "20180001 \t Hong Gildong \t 84 \t 73 \t 78.5 \t C\n",
      "20180011 \t Ha Donghun \t 58 \t 68 \t 63.0 \t D\n",
      "20180007 \t Kim Cheolsu \t 57 \t 62 \t 59.5 \t F\n"
     ]
    }
   ],
   "source": [
    "show()"
   ]
  },
  {
   "cell_type": "code",
   "execution_count": null,
   "id": "fc6c54af",
   "metadata": {},
   "outputs": [],
   "source": []
  },
  {
   "cell_type": "code",
   "execution_count": null,
   "id": "96a4b99f",
   "metadata": {},
   "outputs": [],
   "source": []
  },
  {
   "cell_type": "code",
   "execution_count": null,
   "id": "a757e665",
   "metadata": {},
   "outputs": [],
   "source": []
  },
  {
   "cell_type": "code",
   "execution_count": null,
   "id": "86f62653",
   "metadata": {},
   "outputs": [],
   "source": []
  },
  {
   "cell_type": "code",
   "execution_count": null,
   "id": "ff9a55f5",
   "metadata": {},
   "outputs": [],
   "source": []
  },
  {
   "cell_type": "code",
   "execution_count": null,
   "id": "60a5b037",
   "metadata": {},
   "outputs": [],
   "source": []
  },
  {
   "cell_type": "code",
   "execution_count": null,
   "id": "de2a8c94",
   "metadata": {},
   "outputs": [],
   "source": []
  },
  {
   "cell_type": "code",
   "execution_count": null,
   "id": "84153c1d",
   "metadata": {},
   "outputs": [],
   "source": []
  },
  {
   "cell_type": "code",
   "execution_count": null,
   "id": "d2772513",
   "metadata": {},
   "outputs": [],
   "source": []
  },
  {
   "cell_type": "code",
   "execution_count": null,
   "id": "321b77ac",
   "metadata": {},
   "outputs": [],
   "source": []
  },
  {
   "cell_type": "code",
   "execution_count": null,
   "id": "87025737",
   "metadata": {},
   "outputs": [],
   "source": []
  },
  {
   "cell_type": "code",
   "execution_count": null,
   "id": "6cb79136",
   "metadata": {},
   "outputs": [],
   "source": []
  },
  {
   "cell_type": "code",
   "execution_count": null,
   "id": "896f5643",
   "metadata": {},
   "outputs": [],
   "source": []
  },
  {
   "cell_type": "code",
   "execution_count": null,
   "id": "0cf1462c",
   "metadata": {},
   "outputs": [],
   "source": []
  },
  {
   "cell_type": "code",
   "execution_count": null,
   "id": "59387f67",
   "metadata": {},
   "outputs": [],
   "source": []
  },
  {
   "cell_type": "code",
   "execution_count": null,
   "id": "6d5fe014",
   "metadata": {},
   "outputs": [],
   "source": []
  },
  {
   "cell_type": "code",
   "execution_count": null,
   "id": "56b209b6",
   "metadata": {},
   "outputs": [],
   "source": []
  },
  {
   "cell_type": "code",
   "execution_count": null,
   "id": "3d95c8b8",
   "metadata": {},
   "outputs": [],
   "source": []
  },
  {
   "cell_type": "code",
   "execution_count": null,
   "id": "1f6ec374",
   "metadata": {},
   "outputs": [],
   "source": []
  },
  {
   "cell_type": "code",
   "execution_count": null,
   "id": "1cbeda07",
   "metadata": {},
   "outputs": [],
   "source": []
  }
 ],
 "metadata": {
  "kernelspec": {
   "display_name": "Python 3 (ipykernel)",
   "language": "python",
   "name": "python3"
  },
  "language_info": {
   "codemirror_mode": {
    "name": "ipython",
    "version": 3
   },
   "file_extension": ".py",
   "mimetype": "text/x-python",
   "name": "python",
   "nbconvert_exporter": "python",
   "pygments_lexer": "ipython3",
   "version": "3.9.12"
  }
 },
 "nbformat": 4,
 "nbformat_minor": 5
}
