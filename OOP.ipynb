{
  "nbformat": 4,
  "nbformat_minor": 0,
  "metadata": {
    "colab": {
      "name": "Untitled23.ipynb",
      "provenance": [],
      "authorship_tag": "ABX9TyOn+YpxZoyMXZjPB3Z1vXFu",
      "include_colab_link": true
    },
    "kernelspec": {
      "name": "python3",
      "display_name": "Python 3"
    },
    "language_info": {
      "name": "python"
    }
  },
  "cells": [
    {
      "cell_type": "markdown",
      "metadata": {
        "id": "view-in-github",
        "colab_type": "text"
      },
      "source": [
        "<a href=\"https://colab.research.google.com/github/mjiii25/posco-academy/blob/main/OOP.ipynb\" target=\"_parent\"><img src=\"https://colab.research.google.com/assets/colab-badge.svg\" alt=\"Open In Colab\"/></a>"
      ]
    },
    {
      "cell_type": "code",
      "execution_count": 1,
      "metadata": {
        "id": "RfMf0wllRFYo"
      },
      "outputs": [],
      "source": [
        "class Dog :\n",
        "    name = \"MongJa\"\n",
        "\n",
        "    def bark(self) :\n",
        "        return 'wal' 'wal'"
      ]
    },
    {
      "cell_type": "code",
      "source": [
        "dog1 = Dog()"
      ],
      "metadata": {
        "id": "QeGcNzVkVemK"
      },
      "execution_count": 2,
      "outputs": []
    },
    {
      "cell_type": "code",
      "source": [
        "dog1.bark()"
      ],
      "metadata": {
        "colab": {
          "base_uri": "https://localhost:8080/",
          "height": 35
        },
        "id": "9IRPkuZ8VjuP",
        "outputId": "06069172-b9d5-4fcd-d6a2-b783dd9d005c"
      },
      "execution_count": 3,
      "outputs": [
        {
          "output_type": "execute_result",
          "data": {
            "text/plain": [
              "'walwal'"
            ],
            "application/vnd.google.colaboratory.intrinsic+json": {
              "type": "string"
            }
          },
          "metadata": {},
          "execution_count": 3
        }
      ]
    },
    {
      "cell_type": "code",
      "source": [
        "dog1.age = 2"
      ],
      "metadata": {
        "id": "rCD-dtzQVoUU"
      },
      "execution_count": 5,
      "outputs": []
    },
    {
      "cell_type": "code",
      "source": [
        "dog1.age"
      ],
      "metadata": {
        "colab": {
          "base_uri": "https://localhost:8080/"
        },
        "id": "PPJ_hkAUVu7n",
        "outputId": "2b5cca8f-80e7-4924-97ed-ffae94b0c63b"
      },
      "execution_count": 6,
      "outputs": [
        {
          "output_type": "execute_result",
          "data": {
            "text/plain": [
              "2"
            ]
          },
          "metadata": {},
          "execution_count": 6
        }
      ]
    },
    {
      "cell_type": "code",
      "source": [
        "dog1 = Dog()"
      ],
      "metadata": {
        "id": "Tm9qBg38VyMV"
      },
      "execution_count": 7,
      "outputs": []
    },
    {
      "cell_type": "code",
      "source": [
        "dog1.bark()"
      ],
      "metadata": {
        "colab": {
          "base_uri": "https://localhost:8080/",
          "height": 35
        },
        "id": "f8WaMpBSWQpI",
        "outputId": "2938aef1-4ef8-4f09-a907-ff6622a934c5"
      },
      "execution_count": 8,
      "outputs": [
        {
          "output_type": "execute_result",
          "data": {
            "text/plain": [
              "'walwal'"
            ],
            "application/vnd.google.colaboratory.intrinsic+json": {
              "type": "string"
            }
          },
          "metadata": {},
          "execution_count": 8
        }
      ]
    },
    {
      "cell_type": "code",
      "source": [
        "class Sample :\n",
        "    def __init__(self) :\n",
        "        print(\"init 함수가 호출되었네요!\")"
      ],
      "metadata": {
        "id": "PFGhkAtnWSen"
      },
      "execution_count": 9,
      "outputs": []
    },
    {
      "cell_type": "code",
      "source": [
        "a = Sample()"
      ],
      "metadata": {
        "colab": {
          "base_uri": "https://localhost:8080/"
        },
        "id": "W7f0cKVMWexi",
        "outputId": "e18c2826-d8c7-43c6-cb5c-b1478bc547e6"
      },
      "execution_count": 10,
      "outputs": [
        {
          "output_type": "stream",
          "name": "stdout",
          "text": [
            "init 함수가 호출되었네요!\n"
          ]
        }
      ]
    },
    {
      "cell_type": "code",
      "source": [
        "class Building :\n",
        "    def __init__(self, name = \"공학1동\", h = 3, elev = True) :\n",
        "        self.name = name\n",
        "        self.h = h\n",
        "        self.elev = elev\n",
        "\n",
        "    def get_info(self) :\n",
        "        print(\"건물이름=\", self.name)\n",
        "        print(\"건물층수=\", self.h)\n",
        "        print(\"엘레베이터 유무=\", self.elev)"
      ],
      "metadata": {
        "id": "zgHr49MrWijo"
      },
      "execution_count": 11,
      "outputs": []
    },
    {
      "cell_type": "code",
      "source": [
        "a = Building()"
      ],
      "metadata": {
        "id": "CGy9TKVrW4I-"
      },
      "execution_count": 12,
      "outputs": []
    },
    {
      "cell_type": "code",
      "source": [
        "a.get_info()"
      ],
      "metadata": {
        "colab": {
          "base_uri": "https://localhost:8080/"
        },
        "id": "cnf6IL_QXDAg",
        "outputId": "1bad7475-9990-42b8-e011-caf879444166"
      },
      "execution_count": 13,
      "outputs": [
        {
          "output_type": "stream",
          "name": "stdout",
          "text": [
            "건물이름= 공학1동\n",
            "건물층수= 3\n",
            "엘레베이터 유무= True\n"
          ]
        }
      ]
    },
    {
      "cell_type": "code",
      "source": [
        "class Set :\n",
        "\n",
        "    def __init__(self, lst = []) :\n",
        "        self.lst = set(lst)\n",
        "\n",
        "    def add(self, elem) :\n",
        "        if elem not in self.lst :\n",
        "            self.lst.append(elem)\n",
        "\n",
        "    def discard(self, elem) :\n",
        "        if elem in self.lst :\n",
        "            self.lst.remove(elem)\n",
        "\n",
        "    def clear(self) :\n",
        "        self.lst = []\n",
        "\n",
        "    def __len__(self) :\n",
        "        return len(self.lst)\n",
        "\n",
        "\n",
        "    \n",
        "    def __str__(self) :\n",
        "        return '{' + str(self.lst) + '}'\n",
        "\n",
        "    def __contains_(self, elem) :\n",
        "        if elem in self.lst :\n",
        "            return True\n",
        "        else :\n",
        "            return False\n",
        "\n",
        "    # def is_smaller(self, other) :\n",
        "\n",
        "    #     for i in self.lst :\n",
        "    #         if i in other :\n",
        "                \n",
        "    #         else :\n",
        "\n",
        "    # def is_smaller(self, other) :\n",
        "\n",
        "    #     for i in self.lst :\n",
        "    #         if i in other :\n",
        "                \n",
        "    #         else :\n",
        "\n",
        "\n",
        "    def return_union(self, other) :\n",
        "        for x in other :\n",
        "            self.lst.append(x)\n",
        "        return set(self.lst)\n",
        "\n",
        "    def return_intersection(self, other) :\n",
        "        new = []\n",
        "        for x in other :\n",
        "            if x in self.lst :\n",
        "                new.append(x)\n",
        "        return new\n",
        "\n",
        "    def return_minus(self, other) :\n",
        "        new = []\n",
        "        for x in self.lst :\n",
        "            if x not in other :\n",
        "                new.append(x)\n",
        "        return new"
      ],
      "metadata": {
        "id": "hY_18-TVXF6p"
      },
      "execution_count": 46,
      "outputs": []
    },
    {
      "cell_type": "code",
      "source": [
        "pa = Set([1,2,3,4])\n",
        "b = Set([1,2,3,4])\n",
        "\n",
        "print(a)\n",
        "print(b)\n",
        "print()\n",
        "\n",
        "# a.discard(4)\n",
        "# b.discard(1)\n",
        "print(a)\n",
        "print(b)\n",
        "print()\n",
        "\n",
        "# print(len(a))\n",
        "# print(1 in a)\n",
        "# print(1 in b)\n",
        "# print()\n",
        "\n",
        "print(a | b)\n",
        "print(a & b)\n",
        "print(a - b)\n",
        "print()\n",
        "\n",
        "print(a <= b)\n",
        "print(a <= a | b)\n",
        "print(a >= b)\n",
        "print(a >= a & b)\n",
        "print()\n",
        "\n",
        "b.clear()\n",
        "print(b)\n",
        "print()"
      ],
      "metadata": {
        "colab": {
          "base_uri": "https://localhost:8080/",
          "height": 354
        },
        "id": "iS33HpCjcnlu",
        "outputId": "b79c35af-42bb-4a1b-ed71-6bfe751396fd"
      },
      "execution_count": 48,
      "outputs": [
        {
          "output_type": "stream",
          "name": "stdout",
          "text": [
            "{{1, 2, 3, 4}}\n",
            "{{1, 2, 3, 4}}\n",
            "\n",
            "{{1, 2, 3, 4}}\n",
            "{{1, 2, 3, 4}}\n",
            "\n"
          ]
        },
        {
          "output_type": "error",
          "ename": "TypeError",
          "evalue": "ignored",
          "traceback": [
            "\u001b[0;31m---------------------------------------------------------------------------\u001b[0m",
            "\u001b[0;31mTypeError\u001b[0m                                 Traceback (most recent call last)",
            "\u001b[0;32m<ipython-input-48-5767c8535518>\u001b[0m in \u001b[0;36m<module>\u001b[0;34m()\u001b[0m\n\u001b[1;32m     17\u001b[0m \u001b[0;31m# print()\u001b[0m\u001b[0;34m\u001b[0m\u001b[0;34m\u001b[0m\u001b[0;34m\u001b[0m\u001b[0m\n\u001b[1;32m     18\u001b[0m \u001b[0;34m\u001b[0m\u001b[0m\n\u001b[0;32m---> 19\u001b[0;31m \u001b[0mprint\u001b[0m\u001b[0;34m(\u001b[0m\u001b[0ma\u001b[0m \u001b[0;34m|\u001b[0m \u001b[0mb\u001b[0m\u001b[0;34m)\u001b[0m\u001b[0;34m\u001b[0m\u001b[0;34m\u001b[0m\u001b[0m\n\u001b[0m\u001b[1;32m     20\u001b[0m \u001b[0mprint\u001b[0m\u001b[0;34m(\u001b[0m\u001b[0ma\u001b[0m \u001b[0;34m&\u001b[0m \u001b[0mb\u001b[0m\u001b[0;34m)\u001b[0m\u001b[0;34m\u001b[0m\u001b[0;34m\u001b[0m\u001b[0m\n\u001b[1;32m     21\u001b[0m \u001b[0mprint\u001b[0m\u001b[0;34m(\u001b[0m\u001b[0ma\u001b[0m \u001b[0;34m-\u001b[0m \u001b[0mb\u001b[0m\u001b[0;34m)\u001b[0m\u001b[0;34m\u001b[0m\u001b[0;34m\u001b[0m\u001b[0m\n",
            "\u001b[0;31mTypeError\u001b[0m: unsupported operand type(s) for |: 'Set' and 'Set'"
          ]
        }
      ]
    },
    {
      "cell_type": "code",
      "source": [
        "a = Set([1, 2, 3])\n",
        "b = Set([3, 4])\n",
        "address_a = id(a)\n",
        "a |= b\n",
        "print(a)\n",
        "print(address_a == id(a))\n",
        "print()\n",
        "\n",
        "a = Set([1, 2, 3])\n",
        "b = Set([3, 4])\n",
        "address_a = id(a)\n",
        "a &= b\n",
        "print(a)\n",
        "print(address_a == id(a))\n",
        "print()\n",
        "\n",
        "a = Set([1, 2, 3])\n",
        "b = Set([3, 4])\n",
        "address_a = id(a)\n",
        "a -= b\n",
        "print(a)\n",
        "print(address_a == id(a))\n",
        "print()"
      ],
      "metadata": {
        "id": "oBUAjiUtcnid"
      },
      "execution_count": null,
      "outputs": []
    },
    {
      "cell_type": "code",
      "source": [
        ""
      ],
      "metadata": {
        "id": "ONln343Wcnf4"
      },
      "execution_count": null,
      "outputs": []
    },
    {
      "cell_type": "code",
      "source": [
        ""
      ],
      "metadata": {
        "id": "hoEHOCBScndJ"
      },
      "execution_count": null,
      "outputs": []
    },
    {
      "cell_type": "code",
      "source": [
        ""
      ],
      "metadata": {
        "id": "OG9bnSUacnaM"
      },
      "execution_count": null,
      "outputs": []
    },
    {
      "cell_type": "code",
      "source": [
        ""
      ],
      "metadata": {
        "id": "waEc76N-cnXa"
      },
      "execution_count": null,
      "outputs": []
    }
  ]
}