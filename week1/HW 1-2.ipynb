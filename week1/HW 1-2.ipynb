{
 "cells": [
  {
   "cell_type": "markdown",
   "id": "2ed61a0d",
   "metadata": {},
   "source": [
    "## 파이썬 프로그래밍 기초 실습 1-2\n",
    "\n",
    "C반 1조 성민지\n"
   ]
  },
  {
   "cell_type": "markdown",
   "id": "82678cd8",
   "metadata": {},
   "source": [
    "----\n",
    "\n",
    "#### (문제 4)"
   ]
  },
  {
   "cell_type": "code",
   "execution_count": 72,
   "id": "aafccd1d",
   "metadata": {},
   "outputs": [
    {
     "name": "stdout",
     "output_type": "stream",
     "text": [
      "Enter two integers: 8 5\n",
      "8 + 5 = 13\n",
      "8 - 5 = 3\n",
      "8 * 5 = 40\n",
      "8 / 5 = 1.6\n",
      "8 % 5 = 3\n"
     ]
    }
   ],
   "source": [
    "numbers = input(\"Enter two integers: \")\n",
    "one, two = map(float, numbers.split())\n",
    "\n",
    "\n",
    "print(\"%d + %d = %d\" % (one, two, one + two))\n",
    "print(\"%d - %d = %d\" % (one, two, one - two))\n",
    "print(\"%d * %d = %d\" % (one, two, one * two))\n",
    "print(\"%d / %d = %.1f\" % (one, two, one / two))\n",
    "# print(\"%d % %d = %d\" % (one, two, a))\n",
    "print(int(one), \"%\", int(two), \"=\", int(one % two))"
   ]
  },
  {
   "cell_type": "markdown",
   "id": "2dfa217c",
   "metadata": {},
   "source": [
    "#### (문제 5)"
   ]
  },
  {
   "cell_type": "code",
   "execution_count": 74,
   "id": "343e0e21",
   "metadata": {},
   "outputs": [
    {
     "name": "stdout",
     "output_type": "stream",
     "text": [
      "Enter two integers: 70 91\n",
      "The sum of 70 and 91 is 161\n",
      "The average of numbers is 80.5\n"
     ]
    }
   ],
   "source": [
    "numbers = input(\"Enter two integers: \")\n",
    "one, two = map(int, numbers.split())\n",
    "\n",
    "hab = one +two\n",
    "avg = (one + two) / 2\n",
    "\n",
    "print(\"The sum of %d and %d is %d\" % (one, two, hab))\n",
    "print(\"The average of numbers is %.1f\" % avg)"
   ]
  },
  {
   "cell_type": "markdown",
   "id": "cbbf8372",
   "metadata": {},
   "source": [
    "#### (문제 6)"
   ]
  },
  {
   "cell_type": "code",
   "execution_count": 49,
   "id": "ab1c545f",
   "metadata": {
    "scrolled": true
   },
   "outputs": [
    {
     "name": "stdout",
     "output_type": "stream",
     "text": [
      "날짜(연/월/일)입력: 2022/07/27\n",
      "입력한 날짜의 10년 후는 2032년 7월 27일\n"
     ]
    }
   ],
   "source": [
    "date = input('날짜(연/월/일)입력: ')\n",
    "year, month, day = map(int, date.split(\"/\"))\n",
    "\n",
    "print(\"입력한 날짜의 10년 후는 %d년 %d월 %d일\" % (year + 10, month, day))"
   ]
  }
 ],
 "metadata": {
  "kernelspec": {
   "display_name": "Python 3 (ipykernel)",
   "language": "python",
   "name": "python3"
  },
  "language_info": {
   "codemirror_mode": {
    "name": "ipython",
    "version": 3
   },
   "file_extension": ".py",
   "mimetype": "text/x-python",
   "name": "python",
   "nbconvert_exporter": "python",
   "pygments_lexer": "ipython3",
   "version": "3.9.12"
  }
 },
 "nbformat": 4,
 "nbformat_minor": 5
}
