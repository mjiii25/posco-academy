{
 "cells": [
  {
   "cell_type": "markdown",
   "id": "f3d9f7bf",
   "metadata": {},
   "source": [
    "# Day2 - 220727"
   ]
  },
  {
   "cell_type": "markdown",
   "id": "89927e8e",
   "metadata": {},
   "source": [
    "### 문자열 연결 및 반복"
   ]
  },
  {
   "cell_type": "code",
   "execution_count": 1,
   "id": "31b3dec3",
   "metadata": {},
   "outputs": [
    {
     "data": {
      "text/plain": [
       "'Pythonisfun!'"
      ]
     },
     "execution_count": 1,
     "metadata": {},
     "output_type": "execute_result"
    }
   ],
   "source": [
    "'Python' + 'is' + 'fun!'"
   ]
  },
  {
   "cell_type": "code",
   "execution_count": 2,
   "id": "d8b5a2f2",
   "metadata": {},
   "outputs": [
    {
     "data": {
      "text/plain": [
       "'PythonPythonPython'"
      ]
     },
     "execution_count": 2,
     "metadata": {},
     "output_type": "execute_result"
    }
   ],
   "source": [
    "'Python' * 3"
   ]
  },
  {
   "cell_type": "markdown",
   "id": "9dc5f802",
   "metadata": {},
   "source": [
    "### 문자열 슬라이싱"
   ]
  },
  {
   "cell_type": "code",
   "execution_count": 10,
   "id": "97daa403",
   "metadata": {},
   "outputs": [
    {
     "name": "stdout",
     "output_type": "stream",
     "text": [
      "py\n",
      "py\n",
      "thon\n",
      "pytho\n",
      "python\n",
      "pto\n",
      "nhy\n"
     ]
    }
   ],
   "source": [
    "word = 'python'\n",
    "\n",
    "print(word[0:2])\n",
    "print(word[:2])\n",
    "print(word[2:])\n",
    "print(word[:-1])\n",
    "print(word[:])\n",
    "print(word[::2])     # 스텝 = 2, 앞에서부터 2칸마다 출력\n",
    "print(word[::-2])    # 스텝 = -2, 뒤에서부터 2칸마다 출력"
   ]
  },
  {
   "cell_type": "markdown",
   "id": "ffee44b1",
   "metadata": {},
   "source": [
    "### 문자열 관련 함수"
   ]
  },
  {
   "cell_type": "code",
   "execution_count": 13,
   "id": "53fdd0b7",
   "metadata": {},
   "outputs": [
    {
     "name": "stdout",
     "output_type": "stream",
     "text": [
      "True\n",
      "False\n",
      "True\n"
     ]
    }
   ],
   "source": [
    "word = 'python'\n",
    "\n",
    "print('o' in word)\n",
    "print('x' in word)\n",
    "print('on' in word)"
   ]
  },
  {
   "cell_type": "code",
   "execution_count": 15,
   "id": "d8d29f7c",
   "metadata": {},
   "outputs": [
    {
     "name": "stdout",
     "output_type": "stream",
     "text": [
      "6\n",
      "1\n",
      "2\n"
     ]
    }
   ],
   "source": [
    "word = 'python'\n",
    "\n",
    "print(len(word))\n",
    "print(word.count('t'))   # 특정 문자의 개수 세기\n",
    "print(word.index('t'))   # 특정 문자의 인덱스 출력하기"
   ]
  },
  {
   "cell_type": "code",
   "execution_count": 17,
   "id": "218cc078",
   "metadata": {},
   "outputs": [
    {
     "data": {
      "text/plain": [
       "'1,2,3,4'"
      ]
     },
     "execution_count": 17,
     "metadata": {},
     "output_type": "execute_result"
    }
   ],
   "source": [
    "a = ','\n",
    "a.join('1234')"
   ]
  },
  {
   "cell_type": "code",
   "execution_count": 24,
   "id": "ad02188d",
   "metadata": {},
   "outputs": [
    {
     "data": {
      "text/plain": [
       "'o'"
      ]
     },
     "execution_count": 24,
     "metadata": {},
     "output_type": "execute_result"
    }
   ],
   "source": [
    "## len() 함수를 인덱스로 활용할 수도 있다.\n",
    "\n",
    "word = 'Hello'\n",
    "word[len(word)-1]"
   ]
  },
  {
   "cell_type": "code",
   "execution_count": 27,
   "id": "81217a54",
   "metadata": {},
   "outputs": [
    {
     "name": "stdout",
     "output_type": "stream",
     "text": [
      "['Python', 'is', 'fun!'] <class 'list'>\n",
      "['Python', 'is', 'fun!'] <class 'list'>\n"
     ]
    }
   ],
   "source": [
    "s = 'Python is fun!'\n",
    "print(s.split(), type(s.split()))\n",
    "\n",
    "s = 'Python:is:fun!'\n",
    "print(s.split(':'), type(s.split(':')))"
   ]
  },
  {
   "cell_type": "code",
   "execution_count": 31,
   "id": "f79cb6b2",
   "metadata": {},
   "outputs": [
    {
     "name": "stdout",
     "output_type": "stream",
     "text": [
      "Pyth\n",
      "on is fun!\n",
      "Pyth\ton is fun!\n"
     ]
    }
   ],
   "source": [
    "# \\n : 줄바꿈\n",
    "s = 'Pyth\\non is fun!'\n",
    "print(s)\n",
    "\n",
    "# \\t : 탭\n",
    "s = 'Pyth\\ton is fun!'\n",
    "print(s)"
   ]
  },
  {
   "cell_type": "markdown",
   "id": "9a122904",
   "metadata": {},
   "source": [
    "### 리스트"
   ]
  },
  {
   "cell_type": "code",
   "execution_count": 32,
   "id": "1dc7cb47",
   "metadata": {},
   "outputs": [
    {
     "name": "stdout",
     "output_type": "stream",
     "text": [
      "[5, 4, 2, 4, 3, 1, 2, 1, 1, 3, 2, 1]\n",
      "[5, 4, 2, 4, 3, 1, 5, 4, 2, 4, 3, 1, 5, 4, 2, 4, 3, 1]\n"
     ]
    }
   ],
   "source": [
    "a = [5, 4, 2, 4, 3, 1]\n",
    "b = [2, 1, 1, 3, 2, 1]\n",
    "\n",
    "print(a + b)      # 리스트를 그대로 이어붙임\n",
    "print(a * 3)"
   ]
  },
  {
   "cell_type": "code",
   "execution_count": 38,
   "id": "eb66dd9f",
   "metadata": {},
   "outputs": [
    {
     "name": "stdout",
     "output_type": "stream",
     "text": [
      "바꾸기 전 : [5, 4, 2, 4, 3, 1]\n",
      "바꾼   후 : [5, 4, 2, 1, 3, 1]\n"
     ]
    }
   ],
   "source": [
    "a = [5, 4, 2, 4, 3, 1]\n",
    "print('바꾸기 전 :', a)\n",
    "\n",
    "a[3] = 1\n",
    "print('바꾼   후 :', a)"
   ]
  },
  {
   "cell_type": "code",
   "execution_count": null,
   "id": "7d55e75c",
   "metadata": {},
   "outputs": [],
   "source": [
    "a = [5, 4, 2, 4, 3, 1]\n",
    "print('바꾸기 전 : ', a)\n",
    "del a[4]\n",
    "print('바꾼   후 : ', a)"
   ]
  },
  {
   "cell_type": "code",
   "execution_count": 33,
   "id": "8012afd7",
   "metadata": {},
   "outputs": [
    {
     "name": "stdout",
     "output_type": "stream",
     "text": [
      "True\n",
      "False\n",
      "False\n",
      "True\n"
     ]
    }
   ],
   "source": [
    "fruit = ['grape', 'apple', 'peach', 'watermelon']\n",
    "\n",
    "print('watermelon' in fruit)\n",
    "print('watermelon' not in fruit)\n",
    "print('kiwi' in fruit)\n",
    "print('kiwi' not in fruit)"
   ]
  },
  {
   "cell_type": "code",
   "execution_count": 44,
   "id": "02910ec7",
   "metadata": {},
   "outputs": [
    {
     "name": "stdout",
     "output_type": "stream",
     "text": [
      "5\n",
      "4\n",
      "2\n",
      "3\n",
      "4\n",
      "1\n"
     ]
    }
   ],
   "source": [
    "a = [5, 4, 2, 4, 3, 1]    # 패킹\n",
    " \n",
    "x, y, z, q, p, r = a      # 언패킹\n",
    "\n",
    "print(x)\n",
    "print(y)\n",
    "print(z)\n",
    "print(p)\n",
    "print(q)\n",
    "print(r)"
   ]
  },
  {
   "cell_type": "code",
   "execution_count": 60,
   "id": "e0a977bd",
   "metadata": {},
   "outputs": [
    {
     "name": "stdout",
     "output_type": "stream",
     "text": [
      "날짜(연/월/일) 입력: 2022/07/27\n",
      "입력한 날짜의 10년 후는 2032년 7월 27일\n",
      "입력한 날짜의 10년 후는 2032년 7월 27일\n"
     ]
    }
   ],
   "source": [
    "# 실습 문제 4\n",
    "\n",
    "\n",
    "date = input(\"날짜(연/월/일) 입력: \")\n",
    "year, month, day = date.split(\"/\")\n",
    "\n",
    "print(\"입력한 날짜의 10년 후는 \" + str(int(year) + 10) + \"년 \" + str(int(month)) + \"월 \" + str(int(day)) + \"일\")\n",
    "print(\"입력한 날짜의 10년 후는 %d년 %d월 %d일\" % (int(year) + 10, int(month), int(day)))"
   ]
  },
  {
   "cell_type": "markdown",
   "id": "d5c356cd",
   "metadata": {},
   "source": [
    "### 조건문"
   ]
  },
  {
   "cell_type": "markdown",
   "id": "f400cf53",
   "metadata": {},
   "source": [
    "bool 자료형\n",
    "- True와 False의 두 가지 값을 나타내는 자료"
   ]
  },
  {
   "cell_type": "code",
   "execution_count": 2,
   "id": "a732e1b3",
   "metadata": {},
   "outputs": [
    {
     "name": "stdout",
     "output_type": "stream",
     "text": [
      "거짓\n",
      "100보다 크거나 같다.\n",
      "--- 프로그램 끝 ---\n"
     ]
    }
   ],
   "source": [
    "a = 220\n",
    "\n",
    "if a < 100 :\n",
    "    print(\"참\")\n",
    "    print(\"100보다 작다.\")\n",
    "else :\n",
    "    print(\"거짓\")\n",
    "    print(\"100보다 크거나 같다.\")\n",
    "\n",
    "print(\"--- 프로그램 끝 ---\")"
   ]
  },
  {
   "cell_type": "code",
   "execution_count": 4,
   "id": "3a901b9a",
   "metadata": {},
   "outputs": [
    {
     "name": "stdout",
     "output_type": "stream",
     "text": [
      "정수를 입력하세요 : -1293\n",
      "음수입니다.\n",
      "--- 프로그램 끝 ---\n"
     ]
    }
   ],
   "source": [
    "num = int(input(\"정수를 입력하세요 : \"))\n",
    "\n",
    "if num > 0 :\n",
    "    print(\"양수입니다.\")\n",
    "elif num < 0 :\n",
    "    print(\"음수입니다.\")\n",
    "else :\n",
    "    print(\"0입니다.\")\n",
    "\n",
    "print(\"--- 프로그램 끝 ---\")"
   ]
  },
  {
   "cell_type": "code",
   "execution_count": 5,
   "id": "85b92494",
   "metadata": {},
   "outputs": [
    {
     "name": "stdout",
     "output_type": "stream",
     "text": [
      "참입니다.\n",
      "--- 프로그램 끝 ---\n"
     ]
    }
   ],
   "source": [
    "if \"i\" in \"minji\" :\n",
    "    print(\"참입니다.\")\n",
    "else :\n",
    "    print(\"거짓입니다.\")\n",
    "    \n",
    "print(\"--- 프로그램 끝 ---\")    "
   ]
  },
  {
   "cell_type": "code",
   "execution_count": 16,
   "id": "56e3d2d8",
   "metadata": {},
   "outputs": [
    {
     "name": "stdout",
     "output_type": "stream",
     "text": [
      "영어 점수 입력: 50\n",
      "수학 점수 입력: 50\n",
      "불합격: 총합 점수 부족\n"
     ]
    }
   ],
   "source": [
    "# 조건문 - 실습1\n",
    "# 합격여부를 출력하는 프로그램\n",
    "# 영어 점수와 수학 점수가 합해서 110점 이상이면 합격, 각 점수가 40점 미만이면 불합격\n",
    "\n",
    "eng = int(input(\"영어 점수 입력: \"))\n",
    "math = int(input(\"수학 점수 입력: \"))\n",
    "\n",
    "if eng + math < 110 :\n",
    "    print(\"불합격: 총합 점수 부족\")\n",
    "elif math < 40 :\n",
    "    print(\"불합격: 수학 점수 부족\")\n",
    "elif eng < 40 :\n",
    "    print(\"불합격: 영어 점수 부족\")\n",
    "else :\n",
    "    print(\"합격\")"
   ]
  },
  {
   "cell_type": "code",
   "execution_count": 34,
   "id": "d1eca227",
   "metadata": {},
   "outputs": [
    {
     "name": "stdout",
     "output_type": "stream",
     "text": [
      "세 개의 수를 입력하시오: 30 22 50\n",
      "가장 큰 수는 50입니다.\n"
     ]
    }
   ],
   "source": [
    "# 조건문 - 실습2\n",
    "# 세 개의 정수 중 가장 큰 수만 출력하는 프로그램 작성하기\n",
    "# 반복문, max함수, 정렬 함수 사용 불가\n",
    "\n",
    "numbers = input(\"세 개의 수를 입력하시오: \")\n",
    "a, b, c = map(int, numbers.split())\n",
    "\n",
    "\n",
    "if a > b :\n",
    "    if a > c :\n",
    "        print(\"가장 큰 수는 %d입니다.\" % a)\n",
    "    else :\n",
    "        print(\"가장 큰 수는 %d입니다.\" % c)\n",
    "else :\n",
    "    if b > c :\n",
    "        print(\"가장 큰 수는 %d입니다.\" % b)\n",
    "    else :\n",
    "        print(\"가장 큰 수는 %d입니다.\" % c)"
   ]
  },
  {
   "cell_type": "markdown",
   "id": "99128c2a",
   "metadata": {},
   "source": [
    "### 반복문"
   ]
  },
  {
   "cell_type": "code",
   "execution_count": 40,
   "id": "7bd796fc",
   "metadata": {},
   "outputs": [
    {
     "name": "stdout",
     "output_type": "stream",
     "text": [
      "1부터 10까지의 합 : 55\n"
     ]
    }
   ],
   "source": [
    "sums = 0\n",
    "number = 1\n",
    "\n",
    "while number <= 10 :\n",
    "    sums += number\n",
    "    number += 1\n",
    "\n",
    "print(\"1부터 10까지의 합 : %d\" % sums)"
   ]
  },
  {
   "cell_type": "markdown",
   "id": "655f03cc",
   "metadata": {},
   "source": [
    "#### range() 함수"
   ]
  },
  {
   "cell_type": "code",
   "execution_count": 59,
   "id": "a2583304",
   "metadata": {},
   "outputs": [
    {
     "name": "stdout",
     "output_type": "stream",
     "text": [
      "Hello World!\n",
      "Hello World!\n",
      "Hello World!\n",
      "Hello World!\n",
      "Hello World!\n"
     ]
    }
   ],
   "source": [
    "for x in range(5) :\n",
    "    print(\"Hello World!\")"
   ]
  },
  {
   "cell_type": "code",
   "execution_count": 62,
   "id": "aad007f8",
   "metadata": {},
   "outputs": [
    {
     "data": {
      "text/plain": [
       "True"
      ]
     },
     "execution_count": 62,
     "metadata": {},
     "output_type": "execute_result"
    }
   ],
   "source": [
    "'dddd'.__contains__('dd')"
   ]
  },
  {
   "cell_type": "code",
   "execution_count": 65,
   "id": "ef836cd6",
   "metadata": {},
   "outputs": [
    {
     "name": "stdout",
     "output_type": "stream",
     "text": [
      "출력하고 싶은 단을 입력하세요: 7\n",
      "7 * 1 = 7\n",
      "7 * 2 = 14\n",
      "7 * 3 = 21\n",
      "7 * 4 = 28\n",
      "7 * 5 = 35\n",
      "7 * 6 = 42\n",
      "7 * 7 = 49\n",
      "7 * 8 = 56\n",
      "7 * 9 = 63\n"
     ]
    }
   ],
   "source": [
    "# 반복문 - 실습 1\n",
    "# 구구단 출력\n",
    "\n",
    "\n",
    "num = int(input(\"출력하고 싶은 단을 입력하세요: \"))\n",
    "\n",
    "for i in range(1,10) :\n",
    "    print(num, \"*\", i, \"=\", num * i)"
   ]
  },
  {
   "cell_type": "code",
   "execution_count": 67,
   "id": "9e0f6bef",
   "metadata": {},
   "outputs": [
    {
     "name": "stdout",
     "output_type": "stream",
     "text": [
      "출력하고 싶은 단을 입력하세요: 7\n",
      "7 * 1 = 7\n",
      "7 * 2 = 14\n",
      "7 * 3 = 21\n",
      "7 * 4 = 28\n",
      "7 * 5 = 35\n",
      "7 * 6 = 42\n",
      "7 * 7 = 49\n",
      "7 * 8 = 56\n",
      "7 * 9 = 63\n"
     ]
    }
   ],
   "source": [
    "num = int(input(\"출력하고 싶은 단을 입력하세요: \"))\n",
    "i = 1\n",
    "\n",
    "while i < 10 :\n",
    "    print(num, \"*\", i, \"=\", num * i)\n",
    "    i += 1"
   ]
  },
  {
   "cell_type": "code",
   "execution_count": 69,
   "id": "3fde6543",
   "metadata": {},
   "outputs": [
    {
     "name": "stdout",
     "output_type": "stream",
     "text": [
      "출력하고 싶은 단을 입력하세요: 7\n",
      "7 * 1 = 7\n",
      "7 * 2 = 14\n",
      "7 * 3 = 21\n",
      "7 * 4 = 28\n",
      "7 * 5 = 35\n",
      "7 * 6 = 42\n",
      "7 * 7 = 49\n",
      "7 * 8 = 56\n",
      "7 * 9 = 63\n"
     ]
    }
   ],
   "source": [
    "num = int(input(\"출력하고 싶은 단을 입력하세요: \"))\n",
    "\n",
    "for i in range(1,10) :\n",
    "    print(\"%d * %d = %d\" % (num, i, num * i))"
   ]
  },
  {
   "cell_type": "code",
   "execution_count": 10,
   "id": "a4683068",
   "metadata": {},
   "outputs": [
    {
     "name": "stdout",
     "output_type": "stream",
     "text": [
      "Input an integer: 3159\n",
      "★★★\n",
      "★\n",
      "★★★★★\n",
      "★★★★★★★★★\n"
     ]
    }
   ],
   "source": [
    "# 반복문 - 실습2\n",
    "# ★ 출력 프로그램\n",
    "\n",
    "number = input(\"Input an integer: \")\n",
    "\n",
    "for i in range(len(number)) :\n",
    "    val = int(number[i])   \n",
    "    print(\"★\" * val)"
   ]
  },
  {
   "cell_type": "code",
   "execution_count": 16,
   "id": "38452843",
   "metadata": {},
   "outputs": [
    {
     "name": "stdout",
     "output_type": "stream",
     "text": [
      "★★★\n",
      "★\n",
      "★★★★★\n",
      "★★★★★★★★★\n"
     ]
    }
   ],
   "source": [
    "x = 3159\n",
    "\n",
    "for x in number :\n",
    "    x = int(x)\n",
    "    for _ in range(x) :\n",
    "        print(\"★\", end = \"\")\n",
    "    print(\"\")"
   ]
  },
  {
   "cell_type": "code",
   "execution_count": 18,
   "id": "e6389775",
   "metadata": {},
   "outputs": [
    {
     "name": "stdout",
     "output_type": "stream",
     "text": [
      "★★★\n",
      "★\n",
      "★★★★★\n",
      "★★★★★★★★★\n"
     ]
    }
   ],
   "source": [
    "number = str(3159)\n",
    "i = 0\n",
    "\n",
    "while i < len(number) :\n",
    "    x = int(number[i])\n",
    "    print(\"★\" * x)\n",
    "    i += 1"
   ]
  },
  {
   "cell_type": "markdown",
   "id": "98c530e1",
   "metadata": {},
   "source": [
    "### break, continue"
   ]
  },
  {
   "cell_type": "code",
   "execution_count": 19,
   "id": "4deb3296",
   "metadata": {},
   "outputs": [
    {
     "name": "stdout",
     "output_type": "stream",
     "text": [
      "1\n",
      "2\n",
      "3\n",
      "4\n",
      "5\n"
     ]
    }
   ],
   "source": [
    "for i in range(1, 11) :\n",
    "    if i > 5 :\n",
    "        break\n",
    "    print(i)"
   ]
  },
  {
   "cell_type": "markdown",
   "id": "f691b1d6",
   "metadata": {},
   "source": [
    "### 리스트"
   ]
  },
  {
   "cell_type": "code",
   "execution_count": 21,
   "id": "5e2abee2",
   "metadata": {},
   "outputs": [
    {
     "name": "stdout",
     "output_type": "stream",
     "text": [
      "전 :  ['blue', 'green']\n",
      "후 :  ['blue', 'green', 'red']\n"
     ]
    }
   ],
   "source": [
    "colors = [\"blue\", \"green\"]\n",
    "print(\"전 : \", colors)\n",
    "\n",
    "colors.append(\"red\")\n",
    "print(\"후 : \", colors)"
   ]
  },
  {
   "cell_type": "code",
   "execution_count": 22,
   "id": "42d7f3e2",
   "metadata": {},
   "outputs": [
    {
     "name": "stdout",
     "output_type": "stream",
     "text": [
      "전 :  ['red', 'blue', 'green', 'red']\n",
      "후 :  ['blue', 'green', 'red']\n"
     ]
    }
   ],
   "source": [
    "colors = [\"red\", \"blue\", \"green\", \"red\"]\n",
    "print(\"전 : \", colors)\n",
    "\n",
    "colors.remove(\"red\")\n",
    "print(\"후 : \", colors)"
   ]
  },
  {
   "cell_type": "code",
   "execution_count": 25,
   "id": "6d8c6e5c",
   "metadata": {},
   "outputs": [
    {
     "name": "stdout",
     "output_type": "stream",
     "text": [
      "전 :  ['red', 'blue', 'green']\n",
      "후 :  ['blue', 'green', 'red']\n"
     ]
    }
   ],
   "source": [
    "colors = [\"red\", \"blue\", \"green\"]\n",
    "print(\"전 : \", colors)\n",
    "\n",
    "colors.sort()\n",
    "print(\"후 : \", colors)"
   ]
  },
  {
   "cell_type": "code",
   "execution_count": 23,
   "id": "adba7ec5",
   "metadata": {},
   "outputs": [
    {
     "name": "stdout",
     "output_type": "stream",
     "text": [
      "전 :  [1, 7, 9, 2, 5]\n",
      "후 :  [1, 2, 5, 7, 9]\n"
     ]
    }
   ],
   "source": [
    "a = [1, 7, 9, 2, 5]\n",
    "print(\"전 : \", a)\n",
    "\n",
    "a.sort()\n",
    "print(\"후 : \", a)"
   ]
  },
  {
   "cell_type": "code",
   "execution_count": 26,
   "id": "3dfc543f",
   "metadata": {},
   "outputs": [
    {
     "name": "stdout",
     "output_type": "stream",
     "text": [
      "전 :  [1, 7, 9, 2, 5]\n",
      "후 :  [5, 2, 9, 7, 1]\n"
     ]
    }
   ],
   "source": [
    "a = [1, 7, 9, 2, 5]\n",
    "print(\"전 : \", a)\n",
    "\n",
    "a.reverse()\n",
    "print(\"후 : \", a)"
   ]
  },
  {
   "cell_type": "code",
   "execution_count": 27,
   "id": "1567c004",
   "metadata": {},
   "outputs": [
    {
     "name": "stdout",
     "output_type": "stream",
     "text": [
      "9\n",
      "1\n",
      "24\n"
     ]
    }
   ],
   "source": [
    "a = [1, 7, 9, 2, 5]\n",
    "\n",
    "print(max(a))\n",
    "print(min(a))\n",
    "print(sum(a))"
   ]
  },
  {
   "cell_type": "code",
   "execution_count": 20,
   "id": "e177c13f",
   "metadata": {},
   "outputs": [
    {
     "name": "stdout",
     "output_type": "stream",
     "text": [
      "Enter a number: 7\n",
      "Enter a number: 2\n",
      "Enter a number: 9\n",
      "Enter a number: 3\n",
      "Enter a number: 5\n",
      "Enter a number: done\n",
      "\n",
      "\n",
      "[7.0, 2.0, 9.0, 3.0, 5.0]\n",
      "Average: 5.2\n",
      "Maximum: 9.0\n",
      "Minimum: 2.0\n"
     ]
    }
   ],
   "source": [
    "# 리스트 - 실습1\n",
    "\n",
    "lst = []\n",
    "\n",
    "while True :\n",
    "    num = input(\"Enter a number: \")\n",
    "    lst.append(num)\n",
    "    \n",
    "    if num == \"done\" :\n",
    "        break\n",
    "        \n",
    "        \n",
    "lst.remove(\"done\") \n",
    "lst = list(map(float, lst))\n",
    "\n",
    "avg = sum(lst) / len(lst)\n",
    "maxi = max(lst)\n",
    "mini = min(lst)\n",
    "\n",
    "print(\"\\n\")\n",
    "print(lst)\n",
    "print(\"Average: %.1f\" % avg)\n",
    "print(\"Maximum: %.1f\" % maxi)\n",
    "print(\"Minimum: %.1f\" % mini)"
   ]
  }
 ],
 "metadata": {
  "kernelspec": {
   "display_name": "Python 3 (ipykernel)",
   "language": "python",
   "name": "python3"
  },
  "language_info": {
   "codemirror_mode": {
    "name": "ipython",
    "version": 3
   },
   "file_extension": ".py",
   "mimetype": "text/x-python",
   "name": "python",
   "nbconvert_exporter": "python",
   "pygments_lexer": "ipython3",
   "version": "3.9.12"
  }
 },
 "nbformat": 4,
 "nbformat_minor": 5
}
