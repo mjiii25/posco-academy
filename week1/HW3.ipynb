{
  "cells": [
    {
      "cell_type": "markdown",
      "metadata": {
        "id": "view-in-github",
        "colab_type": "text"
      },
      "source": [
        "<a href=\"https://colab.research.google.com/github/mjiii25/posco-academy/blob/main/week1/HW3.ipynb\" target=\"_parent\"><img src=\"https://colab.research.google.com/assets/colab-badge.svg\" alt=\"Open In Colab\"/></a>"
      ]
    },
    {
      "cell_type": "markdown",
      "id": "71b2b376",
      "metadata": {
        "id": "71b2b376"
      },
      "source": [
        "# 파이썬 프로그래밍 기초 실습3"
      ]
    },
    {
      "cell_type": "markdown",
      "id": "7e35b3a2",
      "metadata": {
        "id": "7e35b3a2"
      },
      "source": [
        "### 1. 딕셔너리(dict)\n",
        "\n",
        "#### 문제1)"
      ]
    },
    {
      "cell_type": "code",
      "execution_count": null,
      "id": "60348764",
      "metadata": {
        "id": "60348764",
        "outputId": "db499574-3ebc-4847-8fba-540961fb52fe"
      },
      "outputs": [
        {
          "name": "stdout",
          "output_type": "stream",
          "text": [
            "1 2 10 "
          ]
        }
      ],
      "source": [
        "d = {'youn' : 1, 'park' : 2, 'kim' : 10}\n",
        "\n",
        "for x in d.values() :\n",
        "    print(x, end = \" \")"
      ]
    },
    {
      "cell_type": "markdown",
      "id": "d361d0fd",
      "metadata": {
        "id": "d361d0fd"
      },
      "source": [
        "#### 문제2)"
      ]
    },
    {
      "cell_type": "code",
      "execution_count": 22,
      "id": "81eab859",
      "metadata": {
        "colab": {
          "base_uri": "https://localhost:8080/"
        },
        "id": "81eab859",
        "outputId": "6c74610d-1e11-4af9-9b11-d015da8fe8a8"
      },
      "outputs": [
        {
          "output_type": "stream",
          "name": "stdout",
          "text": [
            "five 5\n",
            "four 4\n",
            "one 1\n",
            "three 3\n",
            "two 2\n"
          ]
        }
      ],
      "source": [
        "dic = {'one' : 1, 'two' : 2, 'three' : 3, 'four' : 4, 'five' : 5}\n",
        "\n",
        "lst = sorted(list(dic.keys()))\n",
        "\n",
        "for i in range(len(dic)) :\n",
        "    print(lst[i], dic[lst[i]])"
      ]
    },
    {
      "cell_type": "markdown",
      "id": "d630ee43",
      "metadata": {
        "id": "d630ee43"
      },
      "source": [
        "#### 문제3)"
      ]
    },
    {
      "cell_type": "code",
      "execution_count": 27,
      "id": "4694c4eb",
      "metadata": {
        "colab": {
          "base_uri": "https://localhost:8080/"
        },
        "id": "4694c4eb",
        "outputId": "883865e3-1b81-445c-d00e-9bdbe4553774"
      },
      "outputs": [
        {
          "output_type": "stream",
          "name": "stdout",
          "text": [
            "Enter a sentence: Python is fun!\n",
            "{'P': 1, 'y': 1, 't': 1, 'h': 1, 'o': 1, 'n': 2, ' ': 2, 'i': 1, 's': 1, 'f': 1, 'u': 1, '!': 1}\n"
          ]
        }
      ],
      "source": [
        "sentence = input(\"Enter a sentence: \")\n",
        "sentence_dic = {}\n",
        "\n",
        "for x in sentence :\n",
        "    if x not in sentence_dic :\n",
        "        sentence_dic[x] = 1\n",
        "    else :\n",
        "        sentence_dic[x] += 1\n",
        "\n",
        "print(sentence_dic)"
      ]
    },
    {
      "cell_type": "markdown",
      "id": "0ca4f75e",
      "metadata": {
        "id": "0ca4f75e"
      },
      "source": [
        "#### 문제4)"
      ]
    },
    {
      "cell_type": "code",
      "execution_count": null,
      "id": "d25dc59a",
      "metadata": {
        "id": "d25dc59a",
        "outputId": "52adc832-eca8-4f00-f000-b257d41aa278"
      },
      "outputs": [
        {
          "name": "stdout",
          "output_type": "stream",
          "text": [
            "Highest:  150\n",
            "Lowest:  20\n",
            "Average:  81.0\n"
          ]
        }
      ],
      "source": [
        "score = {'iu' : 100, 'heize' : 70, 'zico' : 65, 'ailee' : 150, 'rain' : 20}\n",
        "\n",
        "\n",
        "print(\"Highest: \", max(score.values()))\n",
        "print(\"Lowest: \", min(score.values()))\n",
        "print(\"Average: \", sum(score.values()) / len(score.values()))\n"
      ]
    },
    {
      "cell_type": "markdown",
      "id": "401bf70d",
      "metadata": {
        "id": "401bf70d"
      },
      "source": [
        "#### 문제5)"
      ]
    },
    {
      "cell_type": "code",
      "execution_count": 7,
      "id": "2ca4461c",
      "metadata": {
        "colab": {
          "base_uri": "https://localhost:8080/"
        },
        "id": "2ca4461c",
        "outputId": "7ad972e3-1d3b-4036-8a60-3ce5b566e933"
      },
      "outputs": [
        {
          "output_type": "stream",
          "name": "stdout",
          "text": [
            "채울 음료 이름 입력: 포도주스\n",
            "자판기 목록에 없는 음료입니다.\n",
            "채울 음료 이름 입력: 생수\n",
            "추가할 개수 입력: 3\n",
            "{'커피': 5, '콜라': 3, '생수': 5, '비타민워터': 1}\n"
          ]
        }
      ],
      "source": [
        "items = {\"커피\" : 5, \"콜라\" : 3, \"생수\" : 2, \"비타민워터\" : 1}\n",
        "\n",
        "\n",
        "for i in range(2) : \n",
        "\n",
        "    item = input(\"채울 음료 이름 입력: \")\n",
        "\n",
        "    if item not in items.keys() :\n",
        "        print(\"자판기 목록에 없는 음료입니다.\")\n",
        "    else : \n",
        "        add = int(input(\"추가할 개수 입력: \"))\n",
        "        items[item] += add\n",
        "        print(items)\n",
        "        "
      ]
    },
    {
      "cell_type": "markdown",
      "id": "fb115f74",
      "metadata": {
        "id": "fb115f74"
      },
      "source": [
        "#### 문제6)"
      ]
    },
    {
      "cell_type": "code",
      "execution_count": null,
      "id": "cb32dea8",
      "metadata": {
        "id": "cb32dea8",
        "outputId": "67e0e4ef-d07f-4570-ed29-ea54351d4e0d"
      },
      "outputs": [
        {
          "name": "stdout",
          "output_type": "stream",
          "text": [
            "수강생 이름 입력: 호랑이\n",
            "프로그래밍 수강생이 아닙니다.\n"
          ]
        }
      ],
      "source": [
        "Names = [\"포닉스\", \"넙죽이\", \"클로바\", \"독수리\"]\n",
        "name = input(\"수강생 이름 입력: \")\n",
        "\n",
        "if name in Names :\n",
        "    print(\"프로그래밍 수강생입니다.\")\n",
        "else :\n",
        "    print(\"프로그래밍 수강생이 아닙니다.\")\n",
        "    "
      ]
    }
  ],
  "metadata": {
    "kernelspec": {
      "display_name": "Python 3 (ipykernel)",
      "language": "python",
      "name": "python3"
    },
    "language_info": {
      "codemirror_mode": {
        "name": "ipython",
        "version": 3
      },
      "file_extension": ".py",
      "mimetype": "text/x-python",
      "name": "python",
      "nbconvert_exporter": "python",
      "pygments_lexer": "ipython3",
      "version": "3.9.12"
    },
    "colab": {
      "name": "HW3.ipynb",
      "provenance": [],
      "include_colab_link": true
    },
    "accelerator": "GPU",
    "gpuClass": "standard"
  },
  "nbformat": 4,
  "nbformat_minor": 5
}