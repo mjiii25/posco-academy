{
 "cells": [
  {
   "cell_type": "markdown",
   "id": "113f83a6",
   "metadata": {},
   "source": [
    "# Day4 - 220729"
   ]
  },
  {
   "cell_type": "code",
   "execution_count": 1,
   "id": "a37f5b1c",
   "metadata": {},
   "outputs": [],
   "source": [
    "import os"
   ]
  },
  {
   "cell_type": "code",
   "execution_count": 2,
   "id": "6a662665",
   "metadata": {},
   "outputs": [
    {
     "data": {
      "text/plain": [
       "True"
      ]
     },
     "execution_count": 2,
     "metadata": {},
     "output_type": "execute_result"
    }
   ],
   "source": [
    "os.path.exists(\"test.txt\")"
   ]
  },
  {
   "cell_type": "code",
   "execution_count": 3,
   "id": "8656d6e5",
   "metadata": {},
   "outputs": [
    {
     "data": {
      "text/plain": [
       "False"
      ]
     },
     "execution_count": 3,
     "metadata": {},
     "output_type": "execute_result"
    }
   ],
   "source": [
    "os.path.exists(\"test33.txt\")"
   ]
  },
  {
   "cell_type": "code",
   "execution_count": 8,
   "id": "846ce122",
   "metadata": {},
   "outputs": [
    {
     "name": "stdout",
     "output_type": "stream",
     "text": [
      "dict_items([('first', 1), ('line', 1)])\n",
      "dict_items([('second', 1), ('line', 1)])\n",
      "dict_items([('third', 1), ('line', 1)])\n"
     ]
    }
   ],
   "source": [
    "# 파일 - 실습 1\n",
    "\n",
    "fn = open(\"test.txt\", \"r\")\n",
    "\n",
    "while True :\n",
    "    lines = fn.readline()\n",
    "    words = lines.split()\n",
    "    words_dic = {}\n",
    "    \n",
    "    for i in words :\n",
    "        if i in words_dic.keys() :\n",
    "            words_dic[i] += 1\n",
    "        else :\n",
    "            words_dic[i] = 1\n",
    "    \n",
    "    if lines == \"\" :\n",
    "        break\n",
    "        \n",
    "    print(words_dic.items())\n"
   ]
  },
  {
   "cell_type": "code",
   "execution_count": 11,
   "id": "fa241ffb",
   "metadata": {},
   "outputs": [
    {
     "name": "stdout",
     "output_type": "stream",
     "text": [
      "FIRST LINE\n",
      "\n",
      "SECOND LINE\n",
      "\n",
      "THIRD LINE\n",
      "\n"
     ]
    }
   ],
   "source": [
    "# 파일 - 실습 2\n",
    "\n",
    "\n",
    "fn = open(\"test.txt\", \"r\")\n",
    "\n",
    "while True :\n",
    "    lines = fn.readline()\n",
    "    lines = lines.upper()\n",
    "    \n",
    "    print(lines)\n",
    "    \n",
    "    if lines == \"\" :\n",
    "        break\n",
    "        \n",
    "fn.close()\n",
    "        "
   ]
  },
  {
   "cell_type": "code",
   "execution_count": 1,
   "id": "73563876",
   "metadata": {},
   "outputs": [
    {
     "name": "stdout",
     "output_type": "stream",
     "text": [
      "Enter a file name: test.txt\n",
      "FIRST LINE\n",
      "\n",
      "SECOND LINE\n",
      "\n",
      "THIRD LINE\n",
      "\n"
     ]
    }
   ],
   "source": [
    "import os\n",
    "\n",
    "filename = input(\"Enter a file name: \")\n",
    "\n",
    "\n",
    "if os.path.exists(filename) :\n",
    "    fr = open(filename, \"r\")\n",
    "    \n",
    "    while True :\n",
    "        lines = fr.readline()\n",
    "        lines = lines.upper()\n",
    "        print(lines)\n",
    "        \n",
    "        if lines == \"\" :\n",
    "            break\n",
    "    \n",
    "    fr.close()\n",
    "        \n",
    "else :\n",
    "    print(\"파일 없음\")\n",
    "\n",
    "    "
   ]
  },
  {
   "cell_type": "markdown",
   "id": "3de629da",
   "metadata": {},
   "source": [
    "---\n",
    "\n",
    "## 성적 관리 프로그램\n",
    "\n",
    "### 리스트 자료 읽기"
   ]
  },
  {
   "cell_type": "code",
   "execution_count": 3,
   "id": "2cde4546",
   "metadata": {},
   "outputs": [],
   "source": [
    "stu_list = [[201803, 57, 62], [201804, 58, 68], [201801, 84, 73], [201802, 92, 89]]"
   ]
  },
  {
   "cell_type": "code",
   "execution_count": 4,
   "id": "2c85bbaa",
   "metadata": {},
   "outputs": [
    {
     "data": {
      "text/plain": [
       "[[201803, 57, 62], [201804, 58, 68], [201801, 84, 73], [201802, 92, 89]]"
      ]
     },
     "execution_count": 4,
     "metadata": {},
     "output_type": "execute_result"
    }
   ],
   "source": [
    "stu_list"
   ]
  },
  {
   "cell_type": "code",
   "execution_count": 5,
   "id": "eca40a39",
   "metadata": {},
   "outputs": [
    {
     "data": {
      "text/plain": [
       "[201804, 58, 68]"
      ]
     },
     "execution_count": 5,
     "metadata": {},
     "output_type": "execute_result"
    }
   ],
   "source": [
    "stu_list[1]"
   ]
  },
  {
   "cell_type": "code",
   "execution_count": 6,
   "id": "4cf106ba",
   "metadata": {},
   "outputs": [
    {
     "data": {
      "text/plain": [
       "68"
      ]
     },
     "execution_count": 6,
     "metadata": {},
     "output_type": "execute_result"
    }
   ],
   "source": [
    "stu_list[1][2]"
   ]
  },
  {
   "cell_type": "markdown",
   "id": "6aa4fdb6",
   "metadata": {},
   "source": [
    "### 리스트 정렬하기"
   ]
  },
  {
   "cell_type": "code",
   "execution_count": 7,
   "id": "22264254",
   "metadata": {},
   "outputs": [],
   "source": [
    "stu_list.sort()"
   ]
  },
  {
   "cell_type": "code",
   "execution_count": 8,
   "id": "12aa25b1",
   "metadata": {},
   "outputs": [
    {
     "data": {
      "text/plain": [
       "[[201801, 84, 73], [201802, 92, 89], [201803, 57, 62], [201804, 58, 68]]"
      ]
     },
     "execution_count": 8,
     "metadata": {},
     "output_type": "execute_result"
    }
   ],
   "source": [
    "stu_list"
   ]
  },
  {
   "cell_type": "code",
   "execution_count": 10,
   "id": "3ffca807",
   "metadata": {},
   "outputs": [],
   "source": [
    "stu_list.sort(reverse = True)"
   ]
  },
  {
   "cell_type": "code",
   "execution_count": 11,
   "id": "7864ebde",
   "metadata": {},
   "outputs": [
    {
     "data": {
      "text/plain": [
       "[[201804, 58, 68], [201803, 57, 62], [201802, 92, 89], [201801, 84, 73]]"
      ]
     },
     "execution_count": 11,
     "metadata": {},
     "output_type": "execute_result"
    }
   ],
   "source": [
    "stu_list"
   ]
  },
  {
   "cell_type": "code",
   "execution_count": 12,
   "id": "2b0d66b6",
   "metadata": {},
   "outputs": [],
   "source": [
    "def fun(x) :\n",
    "    return x[2]"
   ]
  },
  {
   "cell_type": "code",
   "execution_count": 13,
   "id": "37ab51c1",
   "metadata": {},
   "outputs": [
    {
     "data": {
      "text/plain": [
       "62"
      ]
     },
     "execution_count": 13,
     "metadata": {},
     "output_type": "execute_result"
    }
   ],
   "source": [
    "fun(stu_list[1])"
   ]
  },
  {
   "cell_type": "code",
   "execution_count": 14,
   "id": "5d4453bf",
   "metadata": {},
   "outputs": [
    {
     "data": {
      "text/plain": [
       "<function __main__.<lambda>(x)>"
      ]
     },
     "execution_count": 14,
     "metadata": {},
     "output_type": "execute_result"
    }
   ],
   "source": [
    "lambda x : x[2]"
   ]
  },
  {
   "cell_type": "code",
   "execution_count": 15,
   "id": "44e2de7c",
   "metadata": {},
   "outputs": [],
   "source": [
    "stu_list.sort(key = lambda x : x[1], reverse = True)"
   ]
  },
  {
   "cell_type": "code",
   "execution_count": 16,
   "id": "43311c35",
   "metadata": {},
   "outputs": [
    {
     "data": {
      "text/plain": [
       "[[201802, 92, 89], [201801, 84, 73], [201804, 58, 68], [201803, 57, 62]]"
      ]
     },
     "execution_count": 16,
     "metadata": {},
     "output_type": "execute_result"
    }
   ],
   "source": [
    "stu_list"
   ]
  },
  {
   "cell_type": "code",
   "execution_count": 17,
   "id": "1b9333bc",
   "metadata": {},
   "outputs": [
    {
     "data": {
      "text/plain": [
       "[201804, 58, 68]"
      ]
     },
     "execution_count": 17,
     "metadata": {},
     "output_type": "execute_result"
    }
   ],
   "source": [
    "fun(stu_list)"
   ]
  },
  {
   "cell_type": "markdown",
   "id": "fc189001",
   "metadata": {},
   "source": [
    "## OOP"
   ]
  },
  {
   "cell_type": "code",
   "execution_count": 21,
   "id": "8210c796",
   "metadata": {},
   "outputs": [
    {
     "name": "stdout",
     "output_type": "stream",
     "text": [
      "0\n",
      "500\n",
      "500\n",
      "200\n",
      "200\n"
     ]
    }
   ],
   "source": [
    "balance = 0\n",
    "\n",
    "def deposit(amount) :\n",
    "    global balance\n",
    "    balance += amount\n",
    "    return balance\n",
    "\n",
    "def withdraw(amount) :\n",
    "    global balance\n",
    "    balance -= amount\n",
    "    return balance\n",
    "\n",
    "\n",
    "print(balance)\n",
    "print(deposit(500))\n",
    "print(balance)\n",
    "print(withdraw(300))\n",
    "print(balance)"
   ]
  },
  {
   "cell_type": "code",
   "execution_count": 23,
   "id": "acf45fc3",
   "metadata": {},
   "outputs": [
    {
     "name": "stdout",
     "output_type": "stream",
     "text": [
      "0\n",
      "0\n",
      "1000\n",
      "2000\n"
     ]
    }
   ],
   "source": [
    "def make_account() :\n",
    "    return {'balance' : 0}\n",
    "\n",
    "def deposit(account, amount) :\n",
    "    account['balance'] += amount\n",
    "    return account['balance']\n",
    "\n",
    "def withdraw(account, amount) :\n",
    "    account['balance'] -= amount\n",
    "    return account['balance']\n",
    "\n",
    "\n",
    "a = make_account()\n",
    "b = make_account()\n",
    "\n",
    "print(a['balance'])\n",
    "print(b['balance'])\n",
    "print(deposit(a, 1000))\n",
    "print(deposit(b, 2000))"
   ]
  },
  {
   "cell_type": "code",
   "execution_count": 72,
   "id": "685e8eb7",
   "metadata": {},
   "outputs": [],
   "source": [
    "class Dog :\n",
    "    \"\"\"A simple example class\"\"\"\n",
    "    name = 'MongJa'\n",
    "    \n",
    "    def bark(self) :\n",
    "        return 'wal wal'"
   ]
  },
  {
   "cell_type": "code",
   "execution_count": 29,
   "id": "2702cd62",
   "metadata": {},
   "outputs": [
    {
     "name": "stdout",
     "output_type": "stream",
     "text": [
      "MongJa\n",
      "<function Dog.bark at 0x7f69a77e6940>\n"
     ]
    }
   ],
   "source": [
    "print(Dog.name)\n",
    "print(Dog.bark)"
   ]
  },
  {
   "cell_type": "code",
   "execution_count": 32,
   "id": "f4074f77",
   "metadata": {},
   "outputs": [
    {
     "name": "stdout",
     "output_type": "stream",
     "text": [
      "<__main__.Dog object at 0x7f69c83d7970>\n",
      "wal wal\n",
      "<class '__main__.Dog'>\n"
     ]
    }
   ],
   "source": [
    "dog1 = Dog()\n",
    "\n",
    "print(dog1)\n",
    "print(dog1.bark())\n",
    "print(type(dog1))"
   ]
  },
  {
   "cell_type": "code",
   "execution_count": 34,
   "id": "6539990f",
   "metadata": {},
   "outputs": [
    {
     "name": "stdout",
     "output_type": "stream",
     "text": [
      "<__main__.Dog object at 0x7f69c83d7970>\n"
     ]
    }
   ],
   "source": [
    "dog1.age = 100\n",
    "\n",
    "print(dog1)"
   ]
  },
  {
   "cell_type": "code",
   "execution_count": 36,
   "id": "cf697bea",
   "metadata": {},
   "outputs": [
    {
     "name": "stdout",
     "output_type": "stream",
     "text": [
      "[1, 2, 5, 9, 10]\n"
     ]
    }
   ],
   "source": [
    "l = [1, 10, 2, 9, 5]\n",
    "\n",
    "list.sort(l)\n",
    "print(l)"
   ]
  },
  {
   "cell_type": "code",
   "execution_count": 37,
   "id": "d5032b12",
   "metadata": {},
   "outputs": [],
   "source": [
    "class Sample :\n",
    "    def __init__(self) :\n",
    "        print(\"init 함수가 호출되었네요!\")"
   ]
  },
  {
   "cell_type": "code",
   "execution_count": 38,
   "id": "9fb4aed1",
   "metadata": {},
   "outputs": [
    {
     "name": "stdout",
     "output_type": "stream",
     "text": [
      "init 함수가 호출되었네요!\n",
      "init 함수가 호출되었네요!\n"
     ]
    }
   ],
   "source": [
    "a = Sample()\n",
    "b = Sample()"
   ]
  },
  {
   "cell_type": "code",
   "execution_count": 39,
   "id": "d49bfbd0",
   "metadata": {},
   "outputs": [],
   "source": [
    "class Building :\n",
    "    \n",
    "    def __init__(self, name = \"공학1동\", h = 3, elev = True) :\n",
    "        self.name = name\n",
    "        self.h = h\n",
    "        self.elev = elev\n",
    "        \n",
    "    def get_info(self) :\n",
    "        print(\"건물이름= \", self.name)\n",
    "        print(\"건물층수= \", self.h)\n",
    "        print(\"엘레베이터 유무= \", self.elev)"
   ]
  },
  {
   "cell_type": "code",
   "execution_count": 40,
   "id": "bcc6fc86",
   "metadata": {},
   "outputs": [],
   "source": [
    "a = Building()\n",
    "b = Building(\"공학2동\", 10, True)"
   ]
  },
  {
   "cell_type": "code",
   "execution_count": 41,
   "id": "26eb3c60",
   "metadata": {},
   "outputs": [
    {
     "name": "stdout",
     "output_type": "stream",
     "text": [
      "건물이름=  공학1동\n",
      "건물층수=  3\n",
      "엘레베이터 유무=  True\n",
      "\n",
      "건물이름=  공학2동\n",
      "건물층수=  10\n",
      "엘레베이터 유무=  True\n"
     ]
    }
   ],
   "source": [
    "a.get_info()\n",
    "print()\n",
    "b.get_info()"
   ]
  },
  {
   "cell_type": "code",
   "execution_count": 68,
   "id": "c0e59e8e",
   "metadata": {},
   "outputs": [],
   "source": [
    "class Human :\n",
    "    \n",
    "    def __init__(self, name, age, height, weight) :\n",
    "        self.name = name\n",
    "        self.age = age\n",
    "        self.height = height\n",
    "        self.weight = weight\n",
    "    \n",
    "    def getolder(self) :\n",
    "        print(\"======== %s 님의 나이 정보 ========\" % self.name)\n",
    "        print(\"\")\n",
    "        print(\"변경 전 %s의 나이 : %.d\" % (self.name, self.age))\n",
    "        self.age += 1\n",
    "        print(\"변경 후 %s의 나이 : %.d\" % (self.name, self.age))\n",
    "        print(\"\")\n",
    "        return self.height\n",
    "    \n",
    "    def changeheight(self,chgheight) :\n",
    "        print(\"======== %s 님의 키 정보 ========\" % self.name)\n",
    "        print(\"\")\n",
    "        print(\"변경 전 %s의 키 : %.1f\" % (self.name, self.height))\n",
    "        self.height += chgheight\n",
    "        print(\"변경 후 %s의 키 : %.1f\" % (self.name, self.height))\n",
    "        print(\"\")\n",
    "        return self.height\n",
    "    \n",
    "    def changeweight(self,chgweight) :\n",
    "        print(\"======== %s 님의 몸무게 정보 ========\" % self.name)\n",
    "        print(\"\")\n",
    "        print(\"변경 전 %s의 몸무게 : %.1f\" % (self.name, self.weight))\n",
    "        self.weight += chgweight\n",
    "        print(\"변경 후 %s의 몸무게 : %.1f\" % (self.name, self.weight))\n",
    "        print(\"\")\n",
    "        return self.height\n",
    "    \n",
    "    def get_info(self) :\n",
    "        print(\"======== %s 님의 정보 ========\" % self.name)\n",
    "        print(\"\")\n",
    "        print(\"이름 : \", self.name)\n",
    "        print(\"나이 : \", self.age)\n",
    "        print(\"키 : \", self.height)\n",
    "        print(\"몸무게 : \", self.weight)\n",
    "        print(\"\")\n",
    "        return self.height\n",
    "    "
   ]
  },
  {
   "cell_type": "code",
   "execution_count": 69,
   "id": "c7b5705c",
   "metadata": {},
   "outputs": [],
   "source": [
    "HGD = Human(\"홍길동\", 100, 180, 70)\n",
    "SMJ = Human(\"성민지\", 25, 160, 50)"
   ]
  },
  {
   "cell_type": "code",
   "execution_count": 70,
   "id": "c54e2ada",
   "metadata": {},
   "outputs": [
    {
     "name": "stdout",
     "output_type": "stream",
     "text": [
      "======== 홍길동 님의 정보 ========\n",
      "\n",
      "이름 :  홍길동\n",
      "나이 :  100\n",
      "키 :  180\n",
      "몸무게 :  70\n",
      "\n",
      "======== 성민지 님의 정보 ========\n",
      "\n",
      "이름 :  성민지\n",
      "나이 :  25\n",
      "키 :  160\n",
      "몸무게 :  50\n",
      "\n"
     ]
    }
   ],
   "source": [
    "HGD.get_info()\n",
    "SMJ.get_info()"
   ]
  },
  {
   "cell_type": "code",
   "execution_count": 71,
   "id": "2a14b50c",
   "metadata": {},
   "outputs": [
    {
     "name": "stdout",
     "output_type": "stream",
     "text": [
      "======== 홍길동 님의 키 정보 ========\n",
      "\n",
      "변경 전 홍길동의 키 : 180.0\n",
      "변경 후 홍길동의 키 : 175.0\n",
      "\n",
      "======== 성민지 님의 키 정보 ========\n",
      "\n",
      "변경 전 성민지의 키 : 160.0\n",
      "변경 후 성민지의 키 : 170.0\n",
      "\n"
     ]
    }
   ],
   "source": [
    "HGD.changeheight(-5)\n",
    "SMJ.changeheight(10)"
   ]
  },
  {
   "cell_type": "code",
   "execution_count": 75,
   "id": "95891c2f",
   "metadata": {},
   "outputs": [],
   "source": [
    "class Dog :\n",
    "    kind = 'canine'"
   ]
  },
  {
   "cell_type": "code",
   "execution_count": 77,
   "id": "bc7e90cb",
   "metadata": {},
   "outputs": [
    {
     "name": "stdout",
     "output_type": "stream",
     "text": [
      "canine\n"
     ]
    },
    {
     "data": {
      "text/plain": [
       "(140091755807152, 140091755807152)"
      ]
     },
     "execution_count": 77,
     "metadata": {},
     "output_type": "execute_result"
    }
   ],
   "source": [
    "d1 = Dog()\n",
    "d2 = Dog()\n",
    "\n",
    "d1.kind = 'puppy'       # immutable\n",
    "print(d2.kind)\n",
    "\n",
    "id(Dog.kind), id(d2.kind)    # id가 같음 <=> 같은 객체\n",
    "id(Dog.kind), id(d1.kind)    # id가 다름 <=> 다른 객체"
   ]
  },
  {
   "cell_type": "code",
   "execution_count": 82,
   "id": "d4ad9065",
   "metadata": {},
   "outputs": [],
   "source": [
    "class Dog :\n",
    "    \n",
    "    tricks = []\n",
    "    \n",
    "    def add_trick(self, trick) :\n",
    "        self.tricks.append(trick)\n",
    "    "
   ]
  },
  {
   "cell_type": "code",
   "execution_count": 83,
   "id": "7237385d",
   "metadata": {},
   "outputs": [
    {
     "name": "stdout",
     "output_type": "stream",
     "text": [
      "['roll over']\n"
     ]
    }
   ],
   "source": [
    "dog1 = Dog()\n",
    "dog2 = Dog()\n",
    "\n",
    "dog1.add_trick('roll over')\n",
    "print(dog2.tricks)                    # dog1한테 준 명령을 dog2도 수행하고 있음"
   ]
  },
  {
   "cell_type": "code",
   "execution_count": 84,
   "id": "68df968b",
   "metadata": {},
   "outputs": [],
   "source": [
    "class Dog :\n",
    "    \n",
    "    def __init__(self) :\n",
    "        self.tricks = []\n",
    "    \n",
    "    def add_trick(self, trick) :\n",
    "        self.tricks.append(trick)\n",
    "    "
   ]
  },
  {
   "cell_type": "code",
   "execution_count": 85,
   "id": "eb6e4012",
   "metadata": {},
   "outputs": [
    {
     "name": "stdout",
     "output_type": "stream",
     "text": [
      "[]\n"
     ]
    }
   ],
   "source": [
    "dog1 = Dog()\n",
    "dog2 = Dog()\n",
    "\n",
    "dog1.add_trick('roll over')\n",
    "print(dog2.tricks)                    # dog1한테 준 명령은 dog2에게 적용되지 않음!"
   ]
  },
  {
   "cell_type": "code",
   "execution_count": 117,
   "id": "794d6e21",
   "metadata": {},
   "outputs": [],
   "source": [
    "# 실습 문제 1\n",
    "\n",
    "\n",
    "class BankAccount :\n",
    "    \n",
    "    def __init__(self, balance = 0, name = \"none\") :\n",
    "        self.balance = balance\n",
    "        self.name = name\n",
    "        \n",
    "    def deposit(self, amount) :\n",
    "        print(\"*************** 입금 ***************\")\n",
    "        print(\"\")\n",
    "        self.balance += amount\n",
    "        print(\"입금할 금액 : %d\" % amount)\n",
    "        print(\"입금 후 잔액 : %d\" % self.balance)\n",
    "        print(\"\")\n",
    "        \n",
    "    def withdraw(self, amount) :\n",
    "        print(\"*************** 출금 ***************\")\n",
    "        print(\"\")\n",
    "        if self.balance < amount :\n",
    "            print(\"ERROR! : 잔액 부족\")\n",
    "        else :\n",
    "            self.balance -= amount\n",
    "            print(\"출금할 금액 : %d\" % amount)\n",
    "            print(\"출금 후 잔액 : %d\" % self.balance)\n",
    "        print(\"\")\n",
    "    \n",
    "    def get_info(self) :\n",
    "        print(\"******** %s 님의 계좌정보 ********\" % self.name)\n",
    "        print(\"\")\n",
    "        print(\"예금주 : %s\" % self.name)\n",
    "        print(\"잔액 : %d\" % self.balance)\n",
    "        print(\"\")\n",
    "        "
   ]
  },
  {
   "cell_type": "code",
   "execution_count": 125,
   "id": "dfa99a3d",
   "metadata": {},
   "outputs": [],
   "source": [
    "woori = BankAccount()"
   ]
  },
  {
   "cell_type": "code",
   "execution_count": 126,
   "id": "27b1273a",
   "metadata": {},
   "outputs": [
    {
     "name": "stdout",
     "output_type": "stream",
     "text": [
      "*************** 입금 ***************\n",
      "\n",
      "입금할 금액 : 400\n",
      "입금 후 잔액 : 400\n",
      "\n",
      "*************** 출금 ***************\n",
      "\n",
      "ERROR! : 잔액 부족\n",
      "\n"
     ]
    }
   ],
   "source": [
    "woori.deposit(400)\n",
    "woori.withdraw(600)"
   ]
  },
  {
   "cell_type": "code",
   "execution_count": 127,
   "id": "d258caf7",
   "metadata": {},
   "outputs": [
    {
     "name": "stdout",
     "output_type": "stream",
     "text": [
      "*************** 입금 ***************\n",
      "\n",
      "입금할 금액 : 1000\n",
      "입금 후 잔액 : 1400\n",
      "\n",
      "*************** 출금 ***************\n",
      "\n",
      "출금할 금액 : 900\n",
      "출금 후 잔액 : 500\n",
      "\n"
     ]
    }
   ],
   "source": [
    "woori.deposit(1000)\n",
    "woori.withdraw(900)"
   ]
  },
  {
   "cell_type": "markdown",
   "id": "5bc7fbb2",
   "metadata": {},
   "source": [
    "#### 상속 (Inheritance)"
   ]
  },
  {
   "cell_type": "code",
   "execution_count": 128,
   "id": "4cda9ff0",
   "metadata": {},
   "outputs": [],
   "source": [
    "class A :\n",
    "    a = 1\n",
    "    \n",
    "    def print_a(self) :\n",
    "        print(\"A class\")"
   ]
  },
  {
   "cell_type": "code",
   "execution_count": 129,
   "id": "d1ed469a",
   "metadata": {},
   "outputs": [],
   "source": [
    "class B :\n",
    "    b = 1\n",
    "    def print_b(self) :\n",
    "        print(\"B class\")"
   ]
  },
  {
   "cell_type": "code",
   "execution_count": 130,
   "id": "026c2690",
   "metadata": {},
   "outputs": [],
   "source": [
    "class C(A) :\n",
    "    c = 1\n",
    "    \n",
    "    def print_c(self) :\n",
    "        print(\"C class\")"
   ]
  },
  {
   "cell_type": "code",
   "execution_count": 131,
   "id": "c23a057d",
   "metadata": {},
   "outputs": [],
   "source": [
    "class D(C, B) :\n",
    "    d = 1\n",
    "    def print_d(self) :\n",
    "        print(\"D class\")"
   ]
  },
  {
   "cell_type": "code",
   "execution_count": 132,
   "id": "901eabe8",
   "metadata": {},
   "outputs": [],
   "source": [
    "c = C()\n",
    "d = D()"
   ]
  },
  {
   "cell_type": "code",
   "execution_count": 134,
   "id": "74df9209",
   "metadata": {},
   "outputs": [
    {
     "name": "stdout",
     "output_type": "stream",
     "text": [
      "A class\n",
      "A class\n"
     ]
    }
   ],
   "source": [
    "c.print_a()\n",
    "d.print_a()"
   ]
  },
  {
   "cell_type": "code",
   "execution_count": 138,
   "id": "41abcd6b",
   "metadata": {},
   "outputs": [],
   "source": [
    "class A() :\n",
    "    \n",
    "    def __init__(self) :\n",
    "        print(\"this is A class\")\n",
    "        \n",
    "class B(A) :\n",
    "    def __init__(self) :\n",
    "        super().__init__()\n",
    "        print(\"this is B class\")\n",
    "        "
   ]
  },
  {
   "cell_type": "code",
   "execution_count": 139,
   "id": "9b120638",
   "metadata": {},
   "outputs": [
    {
     "name": "stdout",
     "output_type": "stream",
     "text": [
      "this is A class\n",
      "this is B class\n"
     ]
    }
   ],
   "source": [
    "b = B()"
   ]
  },
  {
   "cell_type": "code",
   "execution_count": null,
   "id": "99acc7bb",
   "metadata": {},
   "outputs": [],
   "source": [
    "# 실습 문제 1\n",
    "\n",
    "\n",
    "class BankAccount :\n",
    "    \n",
    "    def __init__(self, balance = 0, name = \"none\") :\n",
    "        self.balance = balance\n",
    "        self.name = name\n",
    "        \n",
    "    def deposit(self, amount) :\n",
    "        print(\"*************** 입금 ***************\")\n",
    "        print(\"\")\n",
    "        self.balance += amount\n",
    "        print(\"입금할 금액 : %d\" % amount)\n",
    "        print(\"입금 후 잔액 : %d\" % self.balance)\n",
    "        print(\"\")\n",
    "        \n",
    "    def withdraw(self, amount) :\n",
    "        print(\"*************** 출금 ***************\")\n",
    "        print(\"\")\n",
    "        if self.balance < amount :\n",
    "            print(\"ERROR! : 잔액 부족\")\n",
    "        else :\n",
    "            self.balance -= amount\n",
    "            print(\"출금할 금액 : %d\" % amount)\n",
    "            print(\"출금 후 잔액 : %d\" % self.balance)\n",
    "        print(\"\")\n",
    "    \n",
    "    def get_info(self) :\n",
    "        print(\"******** %s 님의 계좌정보 ********\" % self.name)\n",
    "        print(\"\")\n",
    "        print(\"예금주 : %s\" % self.name)\n",
    "        print(\"잔액 : %d\" % self.balance)\n",
    "        print(\"\")\n",
    "        "
   ]
  },
  {
   "cell_type": "code",
   "execution_count": 159,
   "id": "a87ef588",
   "metadata": {},
   "outputs": [],
   "source": [
    "# 실습 문제 2\n",
    "\n",
    "class MinimumBalanceAccount(BankAccount) :\n",
    "    \n",
    "    def __init__(self, balance = 0, name = 'none', min_bal = 0) :\n",
    "        self.min_bal = min_bal \n",
    "        super().__init__(balance, name)\n",
    "        \n",
    "    def withdraw(self, amount) :\n",
    "        if self.balance - amount < self.min_bal :\n",
    "            print(\"최소 잔액을 유지해야 합니다\")\n",
    "        else :\n",
    "            self.balance -= amount\n",
    "            \n",
    "    def get_info(self) :\n",
    "        super().get_info()\n",
    "        print(\"최소 잔액 : \", self.min_bal)\n"
   ]
  },
  {
   "cell_type": "code",
   "execution_count": 160,
   "id": "82e7dddb",
   "metadata": {},
   "outputs": [
    {
     "name": "stdout",
     "output_type": "stream",
     "text": [
      "******** 성민지 님의 계좌정보 ********\n",
      "\n",
      "예금주 : 성민지\n",
      "잔액 : 10000\n",
      "\n",
      "최소 잔액 :  5000\n",
      "최소 잔액을 유지해야 합니다\n",
      "******** 성민지 님의 계좌정보 ********\n",
      "\n",
      "예금주 : 성민지\n",
      "잔액 : 10000\n",
      "\n",
      "최소 잔액 :  5000\n"
     ]
    }
   ],
   "source": [
    "kookmin = MinimumBalanceAccount(10000, '성민지', 5000)\n",
    "kookmin.get_info()\n",
    "kookmin.withdraw(7000)\n",
    "kookmin.get_info()"
   ]
  },
  {
   "cell_type": "code",
   "execution_count": 147,
   "id": "e5bcc289",
   "metadata": {},
   "outputs": [
    {
     "name": "stdout",
     "output_type": "stream",
     "text": [
      "say hi to B\n"
     ]
    }
   ],
   "source": [
    "class A :\n",
    "    def sayhi(self) :\n",
    "        print('say hi to A')\n",
    "class B :\n",
    "    def sayhi(self) :\n",
    "        print('say hi to B')\n",
    "\n",
    "class C(B, A) :\n",
    "    d = 100\n",
    "    \n",
    "    \n",
    "c = C()\n",
    "c.sayhi()"
   ]
  },
  {
   "cell_type": "code",
   "execution_count": 148,
   "id": "5e70e2f6",
   "metadata": {},
   "outputs": [
    {
     "data": {
      "text/plain": [
       "[__main__.C, __main__.B, __main__.A, object]"
      ]
     },
     "execution_count": 148,
     "metadata": {},
     "output_type": "execute_result"
    }
   ],
   "source": [
    "C.mro()"
   ]
  },
  {
   "cell_type": "markdown",
   "id": "cafdcdc3",
   "metadata": {},
   "source": [
    "### 연산자 오버로딩 (Operator Overloading)"
   ]
  },
  {
   "cell_type": "code",
   "execution_count": 149,
   "id": "7986cd32",
   "metadata": {},
   "outputs": [
    {
     "data": {
      "text/plain": [
       "([1, 4, 5, 'a', 'c'], [1, 4, 5, 'a', 'c'])"
      ]
     },
     "execution_count": 149,
     "metadata": {},
     "output_type": "execute_result"
    }
   ],
   "source": [
    "a = [1, 4, 5]\n",
    "b = ['a', 'c']\n",
    "\n",
    "a.__add__(b), a+b"
   ]
  },
  {
   "cell_type": "code",
   "execution_count": 153,
   "id": "54d1f2ae",
   "metadata": {},
   "outputs": [],
   "source": [
    "# 실습 문제 1\n",
    "\n",
    "\n",
    "class BankAccount :\n",
    "    \n",
    "    def __init__(self, balance = 0, name = \"none\") :\n",
    "        self.balance = balance\n",
    "        self.name = name\n",
    "        \n",
    "    def deposit(self, amount) :\n",
    "        print(\"*************** 입금 ***************\")\n",
    "        print(\"\")\n",
    "        self.balance += amount\n",
    "        print(\"입금할 금액 : %d\" % amount)\n",
    "        print(\"입금 후 잔액 : %d\" % self.balance)\n",
    "        print(\"\")\n",
    "        \n",
    "    def withdraw(self, amount) :\n",
    "        print(\"*************** 출금 ***************\")\n",
    "        print(\"\")\n",
    "        if self.balance < amount :\n",
    "            print(\"ERROR! : 잔액 부족\")\n",
    "        else :\n",
    "            self.balance -= amount\n",
    "            print(\"출금할 금액 : %d\" % amount)\n",
    "            print(\"출금 후 잔액 : %d\" % self.balance)\n",
    "        print(\"\")\n",
    "    \n",
    "    def get_info(self) :\n",
    "        print(\"******** %s 님의 계좌정보 ********\" % self.name)\n",
    "        print(\"\")\n",
    "        print(\"예금주 : %s\" % self.name)\n",
    "        print(\"잔액 : %d\" % self.balance)\n",
    "        print(\"\")\n",
    "        \n",
    "        \n",
    "    def __add__(self, amount) :\n",
    "        self.deposit(amount)\n",
    "        \n",
    "        "
   ]
  },
  {
   "cell_type": "code",
   "execution_count": 154,
   "id": "9c6da128",
   "metadata": {},
   "outputs": [
    {
     "name": "stdout",
     "output_type": "stream",
     "text": [
      "*************** 입금 ***************\n",
      "\n",
      "입금할 금액 : 100000\n",
      "입금 후 잔액 : 101000\n",
      "\n",
      "******** 안태훈 님의 계좌정보 ********\n",
      "\n",
      "예금주 : 안태훈\n",
      "잔액 : 101000\n",
      "\n"
     ]
    }
   ],
   "source": [
    "a = BankAccount(1000, '안태훈')\n",
    "\n",
    "a + 100000\n",
    "a.get_info()"
   ]
  },
  {
   "cell_type": "code",
   "execution_count": 168,
   "id": "7ea4f273",
   "metadata": {},
   "outputs": [],
   "source": [
    "class Set :\n",
    "    \n",
    "    def __init__(self, elist = []) :\n",
    "        self.elist = list()\n",
    "        \n",
    "        for e in elist :\n",
    "            if e not in self.elist :\n",
    "                self.elist.append(e)\n",
    "                \n",
    "                \n",
    "    def __str__(self) :\n",
    "        \n",
    "        return \"{\" + ','.join(list(map(str, self.elist))) + \"}\""
   ]
  },
  {
   "cell_type": "code",
   "execution_count": 187,
   "id": "98a91026",
   "metadata": {},
   "outputs": [],
   "source": [
    "# 과제 (page 1 - 4)\n",
    "\n",
    "class Set :\n",
    "    \n",
    "    \n",
    "    def __init__(self, lst = []) :\n",
    "        self.lst = set(lst)\n",
    "        \n",
    "        \n",
    "    def add(self, elem) :\n",
    "        \n",
    "        if elem not in self.lst :\n",
    "            self.lst.add(elem)\n",
    "    \n",
    "    \n",
    "    def discard(self, elem) :\n",
    "        \n",
    "        if elem in self.lst :\n",
    "            self.lst.discard(elem)\n",
    "        \n",
    "        \n",
    "    def clear(self) :\n",
    "        \n",
    "        self.lst.clear()\n",
    "        \n",
    "        \n",
    "    def __len__(self) :\n",
    "        self.lst.__len__()\n",
    "        \n",
    "    \n",
    "    def __str__(self) :\n",
    "        self.lst.__str__()\n",
    "        return self.lst\n",
    "        \n",
    "    \n",
    "    def __contains__(self, elem) :\n",
    "        if elem in self.lst :\n",
    "            print(True)\n",
    "        else :\n",
    "            print(False)\n",
    "            \n",
    "            \n",
    "    def other_subset(self, other) :\n",
    "        \n",
    "        for x in self.lst :\n",
    "            if x in other :\n",
    "                pass\n",
    "                \n",
    "            \n",
    "            \n",
    "    def other_subset2(self, other) :\n",
    "        if self >= other :\n",
    "            print(True)\n",
    "        else :\n",
    "            print(False)\n",
    "            \n",
    "            \n",
    "    def set_union(self, other) :\n",
    "        self.lst |= other\n",
    "        return self.lst\n",
    "    \n",
    "    \n",
    "    def set_inter(self, other) :\n",
    "        self.lst &= other\n",
    "        return self.lst\n",
    "    \n",
    "    \n",
    "    def set_minus(self, other) :\n",
    "        self.lst -= other\n",
    "        return self.lst\n",
    "    "
   ]
  },
  {
   "cell_type": "code",
   "execution_count": 190,
   "id": "5f5eced8",
   "metadata": {},
   "outputs": [
    {
     "name": "stdout",
     "output_type": "stream",
     "text": [
      "<__main__.Set object at 0x7f69a702ed00>\n",
      "<__main__.Set object at 0x7f69a702ed60>\n",
      "\n",
      "<__main__.Set object at 0x7f69a702ed00>\n",
      "<__main__.Set object at 0x7f69a702ed60>\n",
      "\n"
     ]
    },
    {
     "ename": "TypeError",
     "evalue": "'NoneType' object cannot be interpreted as an integer",
     "output_type": "error",
     "traceback": [
      "\u001b[0;31m---------------------------------------------------------------------------\u001b[0m",
      "\u001b[0;31mTypeError\u001b[0m                                 Traceback (most recent call last)",
      "Input \u001b[0;32mIn [190]\u001b[0m, in \u001b[0;36m<cell line: 16>\u001b[0;34m()\u001b[0m\n\u001b[1;32m     12\u001b[0m \u001b[38;5;28mprint\u001b[39m(b)\n\u001b[1;32m     13\u001b[0m \u001b[38;5;28mprint\u001b[39m()\n\u001b[0;32m---> 16\u001b[0m \u001b[38;5;28mprint\u001b[39m(\u001b[38;5;28;43mlen\u001b[39;49m\u001b[43m(\u001b[49m\u001b[43ma\u001b[49m\u001b[43m)\u001b[49m)\n\u001b[1;32m     17\u001b[0m \u001b[38;5;28mprint\u001b[39m(\u001b[38;5;241m1\u001b[39m \u001b[38;5;129;01min\u001b[39;00m a)\n\u001b[1;32m     18\u001b[0m \u001b[38;5;28mprint\u001b[39m(\u001b[38;5;241m1\u001b[39m \u001b[38;5;129;01min\u001b[39;00m b)\n",
      "\u001b[0;31mTypeError\u001b[0m: 'NoneType' object cannot be interpreted as an integer"
     ]
    }
   ],
   "source": [
    "a = Set([1, 2, 3, 4])\n",
    "b = Set([1, 2, 3, 4])\n",
    "\n",
    "\n",
    "print(a)\n",
    "print(b)\n",
    "print()\n",
    "\n",
    "a.discard(4)\n",
    "b.discard(1)\n",
    "print(a)\n",
    "print(b)\n",
    "print()\n",
    "\n",
    "\n",
    "print(len(a))\n",
    "print(1 in a)\n",
    "print(1 in b)\n",
    "print()\n",
    "\n",
    "# print(a | b)\n",
    "# print(a & b)\n",
    "# print(a - b)\n",
    "print()\n",
    "\n",
    "print(a <= b)\n",
    "print(a <= a | b)\n",
    "print(a >= b)\n",
    "print(a >= a & b)\n",
    "print()\n",
    "\n",
    "b.clear()\n",
    "print(b)\n",
    "print()\n",
    "\n"
   ]
  },
  {
   "cell_type": "code",
   "execution_count": 176,
   "id": "be94852f",
   "metadata": {},
   "outputs": [
    {
     "data": {
      "text/plain": [
       "__main__.Set"
      ]
     },
     "execution_count": 176,
     "metadata": {},
     "output_type": "execute_result"
    }
   ],
   "source": [
    "type(a)"
   ]
  },
  {
   "cell_type": "code",
   "execution_count": null,
   "id": "b7f6d992",
   "metadata": {},
   "outputs": [],
   "source": []
  },
  {
   "cell_type": "code",
   "execution_count": null,
   "id": "4103638f",
   "metadata": {},
   "outputs": [],
   "source": []
  },
  {
   "cell_type": "code",
   "execution_count": null,
   "id": "8b50a1e9",
   "metadata": {},
   "outputs": [],
   "source": []
  },
  {
   "cell_type": "code",
   "execution_count": null,
   "id": "64fbcc18",
   "metadata": {},
   "outputs": [],
   "source": []
  },
  {
   "cell_type": "code",
   "execution_count": null,
   "id": "2b822ee7",
   "metadata": {},
   "outputs": [],
   "source": []
  },
  {
   "cell_type": "code",
   "execution_count": null,
   "id": "0ed1012b",
   "metadata": {},
   "outputs": [],
   "source": []
  },
  {
   "cell_type": "code",
   "execution_count": null,
   "id": "7d048253",
   "metadata": {},
   "outputs": [],
   "source": []
  },
  {
   "cell_type": "code",
   "execution_count": null,
   "id": "ac97d608",
   "metadata": {},
   "outputs": [],
   "source": []
  },
  {
   "cell_type": "code",
   "execution_count": null,
   "id": "68ad3c5c",
   "metadata": {},
   "outputs": [],
   "source": []
  }
 ],
 "metadata": {
  "kernelspec": {
   "display_name": "Python 3 (ipykernel)",
   "language": "python",
   "name": "python3"
  },
  "language_info": {
   "codemirror_mode": {
    "name": "ipython",
    "version": 3
   },
   "file_extension": ".py",
   "mimetype": "text/x-python",
   "name": "python",
   "nbconvert_exporter": "python",
   "pygments_lexer": "ipython3",
   "version": "3.9.12"
  }
 },
 "nbformat": 4,
 "nbformat_minor": 5
}
