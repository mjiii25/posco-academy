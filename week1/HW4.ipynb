{
  "nbformat": 4,
  "nbformat_minor": 0,
  "metadata": {
    "colab": {
      "name": "HW4.ipynb",
      "provenance": [],
      "authorship_tag": "ABX9TyOIRibyLsSZWWr9LQa6yJen",
      "include_colab_link": true
    },
    "kernelspec": {
      "name": "python3",
      "display_name": "Python 3"
    },
    "language_info": {
      "name": "python"
    }
  },
  "cells": [
    {
      "cell_type": "markdown",
      "metadata": {
        "id": "view-in-github",
        "colab_type": "text"
      },
      "source": [
        "<a href=\"https://colab.research.google.com/github/mjiii25/posco-academy/blob/main/week1/HW4.ipynb\" target=\"_parent\"><img src=\"https://colab.research.google.com/assets/colab-badge.svg\" alt=\"Open In Colab\"/></a>"
      ]
    },
    {
      "cell_type": "markdown",
      "metadata": {
        "id": "71b2b376"
      },
      "source": [
        "# HW4\n",
        "\n",
        "C반 1조 성민지\n",
        "\n",
        "---\n"
      ]
    },
    {
      "cell_type": "markdown",
      "metadata": {
        "id": "7e35b3a2"
      },
      "source": [
        "\n",
        "\n",
        "### 실습 7\n",
        "\n",
        "숫자로 구성된 리스트를 전달받아 최댓값, 최솟값을 반환하고, 두 수를 리스트에서 제거하는 함수를 작성하시오. (단, 리스트에 원소는 2개 이상 존재한다고 가정)"
      ]
    },
    {
      "cell_type": "code",
      "execution_count": null,
      "metadata": {
        "id": "60348764",
        "outputId": "8f4e7380-456f-46d7-fd7c-822bd49fe129",
        "colab": {
          "base_uri": "https://localhost:8080/"
        }
      },
      "outputs": [
        {
          "output_type": "stream",
          "name": "stdout",
          "text": [
            "1\n",
            "9\n",
            "[3, 5, 2]\n"
          ]
        }
      ],
      "source": [
        "def get_min_max(l) :\n",
        "    \n",
        "    min_val = min(l)\n",
        "    max_val = max(l)\n",
        "\n",
        "    l.remove(min(l))\n",
        "    l.remove(max(l))\n",
        "    \n",
        "    return min_val, max_val\n",
        "\n",
        "\n",
        "l = [3, 5, 9, 1, 2]\n",
        "min_val, max_val = get_min_max(l)\n",
        "\n",
        "print(min_val)\n",
        "print(max_val)\n",
        "print(l)"
      ]
    },
    {
      "cell_type": "markdown",
      "metadata": {
        "id": "d361d0fd"
      },
      "source": [
        "### 실습 8\n",
        "\n",
        "두 딕셔너리를 전달받아 각 딕셔너리에 등장한 값을 모두 더한 새로운 딕셔너리를 반환하는 함수 comb_dict()를 작성하시오."
      ]
    },
    {
      "cell_type": "code",
      "execution_count": null,
      "metadata": {
        "colab": {
          "base_uri": "https://localhost:8080/"
        },
        "id": "81eab859",
        "outputId": "2859e85d-d008-454d-b595-4cc469e9d608"
      },
      "outputs": [
        {
          "output_type": "stream",
          "name": "stdout",
          "text": [
            "{'a': 3, 'c': 4, 'e': 9, 'b': 3, 'd': 7}\n"
          ]
        }
      ],
      "source": [
        "def comb_dict(d1, d2) :\n",
        "\n",
        "    comb = {}\n",
        "\n",
        "\n",
        "    for x in d2.keys() :\n",
        "        if x in d1.keys() :\n",
        "            comb[x] = d1[x] + d2[x]\n",
        "        else :\n",
        "            comb[x] = d2[x]\n",
        "    \n",
        "    for y in d1.keys() :\n",
        "        if y not in comb.keys() :\n",
        "            comb[y] = d1[y]\n",
        "\n",
        "\n",
        "\n",
        "    return comb\n",
        "\n",
        "\n",
        "\n",
        "d1 = {'a' : 1, 'b' : 3, 'd' : 7, 'e' : 8}\n",
        "d2 = {'a' : 2, 'c' : 4, 'e' : 1}\n",
        "d3 = comb_dict(d1, d2)\n",
        "print(d3)"
      ]
    },
    {
      "cell_type": "markdown",
      "metadata": {
        "id": "d630ee43"
      },
      "source": [
        "### 실습 9\n",
        "\n",
        "숫자를 2개 이상 입력 받아, 최댓값과 최솟값의 차를 반환하는 함수를 작성하시오."
      ]
    },
    {
      "cell_type": "code",
      "execution_count": null,
      "metadata": {
        "colab": {
          "base_uri": "https://localhost:8080/"
        },
        "id": "4694c4eb",
        "outputId": "c7796850-5c1d-453f-c1c4-cf869b0a56b8"
      },
      "outputs": [
        {
          "output_type": "stream",
          "name": "stdout",
          "text": [
            "4\n",
            "300\n"
          ]
        }
      ],
      "source": [
        "def diff(num1, *nums) :\n",
        "\n",
        "    for x in nums :\n",
        "        lst = [num1, *nums]\n",
        "        result = max(lst) - min(lst)\n",
        "    \n",
        "    return result\n",
        "\n",
        "\n",
        "\n",
        "print(diff(1,2,3,4,5))\n",
        "print(diff(-100, 200))"
      ]
    }
  ]
}