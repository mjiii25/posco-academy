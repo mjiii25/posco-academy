{
 "cells": [
  {
   "cell_type": "markdown",
   "id": "66a0b997",
   "metadata": {},
   "source": [
    "# HW5\n",
    "\n",
    "---\n",
    "C반 1조 성민지"
   ]
  },
  {
   "cell_type": "markdown",
   "id": "9d2b4e3c",
   "metadata": {},
   "source": [
    "### 1. 파일\n",
    "\n",
    "#### 실습1)"
   ]
  },
  {
   "cell_type": "code",
   "execution_count": 1,
   "id": "7f627f09",
   "metadata": {},
   "outputs": [
    {
     "name": "stdout",
     "output_type": "stream",
     "text": [
      "first 1\n",
      "line 3\n",
      "second 1\n",
      "third 1\n"
     ]
    }
   ],
   "source": [
    "fr = open(\"test.txt\", \"r\")\n",
    "words_lst = []\n",
    "words_dic = {}\n",
    "\n",
    "\n",
    "while True :\n",
    "    \n",
    "    lines = fr.readline()\n",
    "    words_lst = lines.split()\n",
    "    \n",
    "    for x in words_lst :\n",
    "        if x not in words_dic.keys() :\n",
    "            words_dic[x] = 1\n",
    "        else :\n",
    "            words_dic[x] += 1\n",
    "        \n",
    "\n",
    "    if lines == '' :\n",
    "        break\n",
    "    \n",
    "fr.close()\n",
    "    \n",
    "\n",
    "for x in words_dic.keys() :\n",
    "    print(x, words_dic[x])\n",
    "        \n",
    "        "
   ]
  },
  {
   "cell_type": "markdown",
   "id": "74949cc3",
   "metadata": {},
   "source": [
    "### 실습2)"
   ]
  },
  {
   "cell_type": "code",
   "execution_count": 2,
   "id": "ff5c7c12",
   "metadata": {},
   "outputs": [
    {
     "name": "stdout",
     "output_type": "stream",
     "text": [
      "FIRST LINE\n",
      "SECOND LINE\n",
      "THIRD LINE"
     ]
    }
   ],
   "source": [
    "import os\n",
    "\n",
    "\n",
    "if os.path.exists(\"test.txt\") == False :\n",
    "    print(\"파일이 존재하지 않는다\")\n",
    "    \n",
    "    \n",
    "else :\n",
    "    \n",
    "    fr = open(\"test.txt\", \"r\")\n",
    "\n",
    "    while True :\n",
    "        lines = fr.readline()\n",
    "        lines = lines.upper()\n",
    "\n",
    "        if lines == \"\" :\n",
    "            break\n",
    "\n",
    "        print(lines, end = '')\n",
    "\n",
    "    fr.close()\n",
    "    "
   ]
  },
  {
   "cell_type": "markdown",
   "id": "5e0420ae",
   "metadata": {},
   "source": [
    "### 실습4)"
   ]
  },
  {
   "cell_type": "code",
   "execution_count": 4,
   "id": "cea561ad",
   "metadata": {},
   "outputs": [],
   "source": [
    "fr = open(\"score.txt\", \"r\")\n",
    "fw = open(\"report.txt\", \"w\")\n",
    "nums = []\n",
    "mids = []\n",
    "fins = []\n",
    "scores = []\n",
    "grades = []\n",
    "\n",
    "for x in fr :\n",
    "    \n",
    "    \n",
    "    num, mid, fin = list(map(int, x.split()))\n",
    "    total_score = int(mid) * 0.4 + int(fin) * 0.6\n",
    "    nums.append(num)\n",
    "    mids.append(mid)\n",
    "    fins.append(fin)\n",
    "    scores.append(total_score)\n",
    "    \n",
    "    for y in scores :\n",
    "        if y >= 90 :\n",
    "            grade = \"A\"\n",
    "        elif y >= 80 :\n",
    "            grade = \"B\"\n",
    "        elif y >= 70 :\n",
    "            grade = \"C\"\n",
    "        elif y >= 60 :\n",
    "            grade = \"D\"\n",
    "        else :\n",
    "            grade = \"F\"\n",
    "    grades.append(grade)\n",
    "        \n",
    "\n",
    "for i in range(len(nums)) :\n",
    "    \n",
    "    result = \"%d %d %d  %.1f(%s) %s\" % (nums[i], mids[i], fins[i], scores[i], grades[i], \"\\n\")\n",
    "    fw.write(result)\n",
    "    \n",
    "\n",
    "fw.close()\n",
    "fr.close()\n",
    "    \n",
    "    \n",
    "\n"
   ]
  }
 ],
 "metadata": {
  "kernelspec": {
   "display_name": "Python 3 (ipykernel)",
   "language": "python",
   "name": "python3"
  },
  "language_info": {
   "codemirror_mode": {
    "name": "ipython",
    "version": 3
   },
   "file_extension": ".py",
   "mimetype": "text/x-python",
   "name": "python",
   "nbconvert_exporter": "python",
   "pygments_lexer": "ipython3",
   "version": "3.9.12"
  }
 },
 "nbformat": 4,
 "nbformat_minor": 5
}
