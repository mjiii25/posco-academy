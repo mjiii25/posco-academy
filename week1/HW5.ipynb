{
 "cells": [
  {
   "cell_type": "markdown",
   "id": "66a0b997",
   "metadata": {},
   "source": [
    "# HW5\n",
    "\n",
    "---\n",
    "C반 1조 성민지"
   ]
  },
  {
   "cell_type": "markdown",
   "id": "9d2b4e3c",
   "metadata": {},
   "source": [
    "### 1. 파일\n",
    "\n",
    "#### 실습1)"
   ]
  },
  {
   "cell_type": "code",
   "execution_count": 22,
   "id": "7f627f09",
   "metadata": {},
   "outputs": [
    {
     "name": "stdout",
     "output_type": "stream",
     "text": [
      "first 1\n",
      "line 3\n",
      "second 1\n",
      "third 1\n"
     ]
    }
   ],
   "source": [
    "fr = open(\"test.txt\", \"r\")\n",
    "words_lst = []\n",
    "words_dic = {}\n",
    "\n",
    "\n",
    "while True :\n",
    "    \n",
    "    lines = fr.readline()\n",
    "    words_lst = lines.split()\n",
    "    \n",
    "    for x in words_lst :\n",
    "        if x not in words_dic.keys() :\n",
    "            words_dic[x] = 1\n",
    "        else :\n",
    "            words_dic[x] += 1\n",
    "        \n",
    "\n",
    "    if lines == '' :\n",
    "        break\n",
    "    \n",
    "fr.close()\n",
    "    \n",
    "\n",
    "for x in words_dic.keys() :\n",
    "    print(x, words_dic[x])\n",
    "        \n",
    "        "
   ]
  },
  {
   "cell_type": "markdown",
   "id": "74949cc3",
   "metadata": {},
   "source": [
    "### 실습2)"
   ]
  },
  {
   "cell_type": "code",
   "execution_count": 9,
   "id": "ff5c7c12",
   "metadata": {},
   "outputs": [
    {
     "name": "stdout",
     "output_type": "stream",
     "text": [
      "FIRST LINE\n",
      "SECOND LINE\n",
      "THIRD LINE"
     ]
    }
   ],
   "source": [
    "import os\n",
    "\n",
    "\n",
    "if os.path.exists(\"test.txt\") == False :\n",
    "    print(\"파일이 존재하지 않는다\")\n",
    "    \n",
    "    \n",
    "else :\n",
    "    \n",
    "    fr = open(\"test.txt\", \"r\")\n",
    "\n",
    "    while True :\n",
    "        lines = fr.readline()\n",
    "        lines = lines.upper()\n",
    "\n",
    "        if lines == \"\" :\n",
    "            break\n",
    "\n",
    "        print(lines, end = '')\n",
    "\n",
    "    fr.close()\n",
    "    "
   ]
  },
  {
   "cell_type": "markdown",
   "id": "5e0420ae",
   "metadata": {},
   "source": [
    "### 실습4)"
   ]
  },
  {
   "cell_type": "code",
   "execution_count": 71,
   "id": "cea561ad",
   "metadata": {},
   "outputs": [
    {
     "name": "stdout",
     "output_type": "stream",
     "text": [
      "8 7 6 6 9 "
     ]
    }
   ],
   "source": [
    "fr = open(\"score.txt\", \"r\")\n",
    "words = []\n",
    "\n",
    "while True :\n",
    "    line = fr.readline()\n",
    "    words = line.split()\n",
    "    \n",
    "#     total_score = words\n",
    "    \n",
    "    \n",
    "\n",
    "    \n",
    "    \n",
    "    \n",
    "    if line == '' :\n",
    "        break\n",
    "        \n",
    "    print(words[1][0], end = \" \")\n",
    "\n"
   ]
  },
  {
   "cell_type": "code",
   "execution_count": null,
   "id": "d19430da",
   "metadata": {},
   "outputs": [],
   "source": []
  },
  {
   "cell_type": "code",
   "execution_count": null,
   "id": "24f22f96",
   "metadata": {},
   "outputs": [],
   "source": []
  },
  {
   "cell_type": "code",
   "execution_count": null,
   "id": "68bfcb7c",
   "metadata": {},
   "outputs": [],
   "source": []
  },
  {
   "cell_type": "code",
   "execution_count": null,
   "id": "90ffd66b",
   "metadata": {},
   "outputs": [],
   "source": []
  },
  {
   "cell_type": "code",
   "execution_count": null,
   "id": "5a5739ce",
   "metadata": {},
   "outputs": [],
   "source": []
  },
  {
   "cell_type": "code",
   "execution_count": null,
   "id": "ed18ccc2",
   "metadata": {},
   "outputs": [],
   "source": []
  },
  {
   "cell_type": "code",
   "execution_count": null,
   "id": "c357871a",
   "metadata": {},
   "outputs": [],
   "source": []
  },
  {
   "cell_type": "code",
   "execution_count": null,
   "id": "0a347f71",
   "metadata": {},
   "outputs": [],
   "source": []
  },
  {
   "cell_type": "code",
   "execution_count": null,
   "id": "3eb364de",
   "metadata": {},
   "outputs": [],
   "source": []
  },
  {
   "cell_type": "code",
   "execution_count": null,
   "id": "63930763",
   "metadata": {},
   "outputs": [],
   "source": []
  },
  {
   "cell_type": "code",
   "execution_count": null,
   "id": "7c86b48f",
   "metadata": {},
   "outputs": [],
   "source": []
  },
  {
   "cell_type": "code",
   "execution_count": null,
   "id": "d003713d",
   "metadata": {},
   "outputs": [],
   "source": []
  },
  {
   "cell_type": "code",
   "execution_count": null,
   "id": "cddf36c5",
   "metadata": {},
   "outputs": [],
   "source": []
  }
 ],
 "metadata": {
  "kernelspec": {
   "display_name": "Python 3 (ipykernel)",
   "language": "python",
   "name": "python3"
  },
  "language_info": {
   "codemirror_mode": {
    "name": "ipython",
    "version": 3
   },
   "file_extension": ".py",
   "mimetype": "text/x-python",
   "name": "python",
   "nbconvert_exporter": "python",
   "pygments_lexer": "ipython3",
   "version": "3.9.12"
  }
 },
 "nbformat": 4,
 "nbformat_minor": 5
}
