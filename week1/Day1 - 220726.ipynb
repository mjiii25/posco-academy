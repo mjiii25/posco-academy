{
 "cells": [
  {
   "cell_type": "markdown",
   "id": "3bc5d82e",
   "metadata": {},
   "source": [
    "# Day1 - 220726"
   ]
  },
  {
   "cell_type": "markdown",
   "id": "859d2069",
   "metadata": {},
   "source": [
    "### Hello, World 출력\n",
    "- print()를 이용해서 화면에 Hello, World을 출력합니다."
   ]
  },
  {
   "cell_type": "code",
   "execution_count": 22,
   "id": "6aa5d56f",
   "metadata": {
    "scrolled": true
   },
   "outputs": [
    {
     "name": "stdout",
     "output_type": "stream",
     "text": [
      "Hello, World!\n",
      "My name is Minji.\n"
     ]
    }
   ],
   "source": [
    "print(\"Hello, World!\")\n",
    "print(\"My name is Minji.\")"
   ]
  },
  {
   "cell_type": "code",
   "execution_count": 23,
   "id": "18ab3d6e",
   "metadata": {},
   "outputs": [
    {
     "name": "stdout",
     "output_type": "stream",
     "text": [
      "Hello, World!\n"
     ]
    }
   ],
   "source": [
    "print(\"Hello, World!\")\n",
    "# print(\"Hello, World!\") 주석은 출력되지 않는다."
   ]
  },
  {
   "cell_type": "markdown",
   "id": "3a8b105f",
   "metadata": {},
   "source": [
    "### 산술 연산자"
   ]
  },
  {
   "cell_type": "code",
   "execution_count": 18,
   "id": "8dd0023d",
   "metadata": {},
   "outputs": [
    {
     "name": "stdout",
     "output_type": "stream",
     "text": [
      "10\n",
      "4\n",
      "21\n",
      "2.3333333333333335\n",
      "1\n",
      "2\n",
      "343\n"
     ]
    }
   ],
   "source": [
    "print(7 + 3)\n",
    "print(7 - 3)\n",
    "print(7 * 3)\n",
    "\n",
    "# 나누기\n",
    "print(7 / 3)\n",
    "print(7 % 3)\n",
    "print(7 // 3)\n",
    "print(7 ** 3)"
   ]
  },
  {
   "cell_type": "markdown",
   "id": "c26955a8",
   "metadata": {},
   "source": [
    "### 변수명 설정하기"
   ]
  },
  {
   "cell_type": "code",
   "execution_count": 20,
   "id": "1d650db5",
   "metadata": {},
   "outputs": [
    {
     "name": "stdout",
     "output_type": "stream",
     "text": [
      "1025\n"
     ]
    }
   ],
   "source": [
    "minji = 1025\n",
    "print(minji)"
   ]
  },
  {
   "cell_type": "markdown",
   "id": "a3755830",
   "metadata": {},
   "source": [
    "파이썬 안의 내장 함수는 변수명으로 사용 불가, keyword.kwlist로 예약어 목록 확인 가능"
   ]
  },
  {
   "cell_type": "code",
   "execution_count": 21,
   "id": "84e27d33",
   "metadata": {},
   "outputs": [
    {
     "data": {
      "text/plain": [
       "['False',\n",
       " 'None',\n",
       " 'True',\n",
       " '__peg_parser__',\n",
       " 'and',\n",
       " 'as',\n",
       " 'assert',\n",
       " 'async',\n",
       " 'await',\n",
       " 'break',\n",
       " 'class',\n",
       " 'continue',\n",
       " 'def',\n",
       " 'del',\n",
       " 'elif',\n",
       " 'else',\n",
       " 'except',\n",
       " 'finally',\n",
       " 'for',\n",
       " 'from',\n",
       " 'global',\n",
       " 'if',\n",
       " 'import',\n",
       " 'in',\n",
       " 'is',\n",
       " 'lambda',\n",
       " 'nonlocal',\n",
       " 'not',\n",
       " 'or',\n",
       " 'pass',\n",
       " 'raise',\n",
       " 'return',\n",
       " 'try',\n",
       " 'while',\n",
       " 'with',\n",
       " 'yield']"
      ]
     },
     "execution_count": 21,
     "metadata": {},
     "output_type": "execute_result"
    }
   ],
   "source": [
    "import keyword\n",
    "keyword.kwlist"
   ]
  },
  {
   "cell_type": "code",
   "execution_count": 24,
   "id": "02432524",
   "metadata": {},
   "outputs": [
    {
     "name": "stdout",
     "output_type": "stream",
     "text": [
      "100\n"
     ]
    }
   ],
   "source": [
    "a = 100\n",
    "print(a)"
   ]
  },
  {
   "cell_type": "code",
   "execution_count": 36,
   "id": "e6a5c2e3",
   "metadata": {},
   "outputs": [
    {
     "name": "stdout",
     "output_type": "stream",
     "text": [
      "Variable   Type      Data/Info\n",
      "------------------------------\n",
      "a          int       98\n",
      "boolVar    bool      True\n",
      "floatVar   float     123.45\n",
      "intVar     int       100\n",
      "keyword    module    <module 'keyword' from '/<...>ib/python3.9/keyword.py'>\n",
      "minji      int       1025\n",
      "name       list      n=1\n",
      "strVar     str       Python\n"
     ]
    }
   ],
   "source": [
    "# 현재까지 정의된 변수 목록 확인하기\n",
    "whos"
   ]
  },
  {
   "cell_type": "markdown",
   "id": "25601d59",
   "metadata": {},
   "source": [
    "### 기본자료형 : boolean, integer, float, string"
   ]
  },
  {
   "cell_type": "code",
   "execution_count": 26,
   "id": "fe3962e7",
   "metadata": {},
   "outputs": [
    {
     "data": {
      "text/plain": [
       "(bool, int, float, str)"
      ]
     },
     "execution_count": 26,
     "metadata": {},
     "output_type": "execute_result"
    }
   ],
   "source": [
    "boolVar = True\n",
    "intVar = 100\n",
    "floatVar = 123.45\n",
    "strVar = \"Python\"\n",
    "\n",
    "type(boolVar), type(intVar), type(floatVar), type(strVar)"
   ]
  },
  {
   "cell_type": "markdown",
   "id": "47fb146e",
   "metadata": {},
   "source": [
    "### 대입연산자"
   ]
  },
  {
   "cell_type": "code",
   "execution_count": 34,
   "id": "989a0511",
   "metadata": {},
   "outputs": [
    {
     "name": "stdout",
     "output_type": "stream",
     "text": [
      "102\n"
     ]
    }
   ],
   "source": [
    "a = 100\n",
    "a += 2\n",
    "print(a)"
   ]
  },
  {
   "cell_type": "code",
   "execution_count": 35,
   "id": "1cc978c4",
   "metadata": {},
   "outputs": [
    {
     "name": "stdout",
     "output_type": "stream",
     "text": [
      "98\n"
     ]
    }
   ],
   "source": [
    "a = 100\n",
    "a-= 2\n",
    "print(a)"
   ]
  },
  {
   "cell_type": "code",
   "execution_count": 32,
   "id": "5d4c724b",
   "metadata": {},
   "outputs": [
    {
     "name": "stdout",
     "output_type": "stream",
     "text": [
      "200\n"
     ]
    }
   ],
   "source": [
    "a = 100\n",
    "a *= 2\n",
    "print(a)"
   ]
  },
  {
   "cell_type": "code",
   "execution_count": 33,
   "id": "1db0cf31",
   "metadata": {},
   "outputs": [
    {
     "name": "stdout",
     "output_type": "stream",
     "text": [
      "50.0\n"
     ]
    }
   ],
   "source": [
    "a = 100\n",
    "a /= 2\n",
    "print(a)"
   ]
  },
  {
   "cell_type": "markdown",
   "id": "32b89762",
   "metadata": {},
   "source": [
    "### print"
   ]
  },
  {
   "cell_type": "markdown",
   "id": "aefade2c",
   "metadata": {},
   "source": [
    "변수명만 출력할 경우 작은따옴표가 둘러싸인다."
   ]
  },
  {
   "cell_type": "code",
   "execution_count": 41,
   "id": "d1ce7dcb",
   "metadata": {},
   "outputs": [
    {
     "name": "stdout",
     "output_type": "stream",
     "text": [
      "Enter your name : minji\n",
      "minji <class 'str'>\n"
     ]
    }
   ],
   "source": [
    "name = input(\"Enter your name : \")\n",
    "print(name, type(name))"
   ]
  },
  {
   "cell_type": "code",
   "execution_count": 42,
   "id": "c49089bc",
   "metadata": {},
   "outputs": [
    {
     "name": "stdout",
     "output_type": "stream",
     "text": [
      "Enter your name : minji\n"
     ]
    },
    {
     "data": {
      "text/plain": [
       "str"
      ]
     },
     "execution_count": 42,
     "metadata": {},
     "output_type": "execute_result"
    }
   ],
   "source": [
    "name = input(\"Enter your name : \")\n",
    "name\n",
    "type(name)"
   ]
  },
  {
   "cell_type": "markdown",
   "id": "84f65d17",
   "metadata": {},
   "source": [
    "문자열 띄어쓰기는 ,로 한다."
   ]
  },
  {
   "cell_type": "code",
   "execution_count": 43,
   "id": "9692b636",
   "metadata": {},
   "outputs": [
    {
     "name": "stdout",
     "output_type": "stream",
     "text": [
      "MynameisMinji.\n",
      "MynameisMinji.\n",
      "My name is Minji.\n"
     ]
    }
   ],
   "source": [
    "print(\"My\" \"name\" \"is\" \"Minji.\")\n",
    "print(\"My\" + \"name\" + \"is\" + \"Minji.\")\n",
    "print(\"My\", \"name\", \"is\", \"Minji.\")"
   ]
  },
  {
   "cell_type": "code",
   "execution_count": 44,
   "id": "3dd12395",
   "metadata": {},
   "outputs": [
    {
     "name": "stdout",
     "output_type": "stream",
     "text": [
      "python python python \n"
     ]
    }
   ],
   "source": [
    "print(\"python \" * 3)"
   ]
  },
  {
   "cell_type": "code",
   "execution_count": 48,
   "id": "6ec02863",
   "metadata": {},
   "outputs": [
    {
     "name": "stdout",
     "output_type": "stream",
     "text": [
      "I eat 3 apples.\n",
      "I eat 10 apples and three grapes.\n"
     ]
    }
   ],
   "source": [
    "# 숫자형의 변수를 출력하고자 하는 경우\n",
    "\n",
    "print(\"I eat %d apples.\" % 3)\n",
    "\n",
    "number = 10\n",
    "day = \"three\"\n",
    "print(\"I eat %d apples and %s grapes.\" % (number, day))"
   ]
  },
  {
   "cell_type": "markdown",
   "id": "e2c67c5c",
   "metadata": {},
   "source": [
    "---------------------------------\n",
    "## <과제>"
   ]
  },
  {
   "cell_type": "markdown",
   "id": "14e558da",
   "metadata": {},
   "source": [
    "### 문제 1\n"
   ]
  },
  {
   "cell_type": "code",
   "execution_count": 49,
   "id": "fa81614e",
   "metadata": {},
   "outputs": [
    {
     "name": "stdout",
     "output_type": "stream",
     "text": [
      "화씨온도를 입력해주세요. : 100\n",
      "화씨온도:  100\n",
      "섭씨온도:  37.77777777777778\n"
     ]
    }
   ],
   "source": [
    "F = int(input(\"화씨온도를 입력해주세요. : \"))\n",
    "C = (F - 32) * 5 / 9\n",
    "\n",
    "print(\"화씨온도: \", F)\n",
    "print(\"섭씨온도: \", C)"
   ]
  },
  {
   "cell_type": "markdown",
   "id": "7650459c",
   "metadata": {},
   "source": [
    "### 문제 2"
   ]
  },
  {
   "cell_type": "code",
   "execution_count": 56,
   "id": "fe5081d8",
   "metadata": {},
   "outputs": [
    {
     "name": "stdout",
     "output_type": "stream",
     "text": [
      "투입한 돈: 5000\n",
      "물건값: 2700\n",
      "거스름돈:  2300\n",
      "500원짜리:  4 개\n",
      "100원짜리:  3 개\n"
     ]
    }
   ],
   "source": [
    "money = int(input(\"투입한 돈: \"))\n",
    "cost = int(input(\"물건값: \"))\n",
    "\n",
    "change_sum = money - cost\n",
    "change500 = change_sum // 500\n",
    "change_sum2 = change_sum - change500 * 500\n",
    "change100 = change_sum2 // 100\n",
    "\n",
    "print(\"거스름돈: \", change_sum)\n",
    "print(\"500원짜리: \", change500, \"개\")\n",
    "print(\"100원짜리: \", change100, \"개\")"
   ]
  },
  {
   "cell_type": "markdown",
   "id": "66788050",
   "metadata": {},
   "source": [
    "### 문제 3"
   ]
  },
  {
   "cell_type": "code",
   "execution_count": 59,
   "id": "1e77f3c2",
   "metadata": {},
   "outputs": [
    {
     "name": "stdout",
     "output_type": "stream",
     "text": [
      "반지름을 입력하시오: 5\n",
      "원 둘레:  31.42\n",
      "원 넓이:  78.54\n"
     ]
    }
   ],
   "source": [
    "r = int(input(\"반지름을 입력하시오: \"))\n",
    "\n",
    "pi = 3.141592\n",
    "length = 2 * pi * r\n",
    "width = pi * (r ** 2)\n",
    "\n",
    "print(\"원 둘레: \", round(length, 2))\n",
    "print(\"원 넓이: \", round(width, 2))"
   ]
  },
  {
   "cell_type": "code",
   "execution_count": null,
   "id": "abde7c34",
   "metadata": {},
   "outputs": [],
   "source": []
  }
 ],
 "metadata": {
  "kernelspec": {
   "display_name": "Python 3 (ipykernel)",
   "language": "python",
   "name": "python3"
  },
  "language_info": {
   "codemirror_mode": {
    "name": "ipython",
    "version": 3
   },
   "file_extension": ".py",
   "mimetype": "text/x-python",
   "name": "python",
   "nbconvert_exporter": "python",
   "pygments_lexer": "ipython3",
   "version": "3.9.12"
  }
 },
 "nbformat": 4,
 "nbformat_minor": 5
}
