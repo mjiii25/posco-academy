{
 "cells": [
  {
   "cell_type": "markdown",
   "id": "cfb35199",
   "metadata": {},
   "source": [
    "# C1_성민지_Python을 이용한 실습_220805\n",
    "\n",
    "---"
   ]
  },
  {
   "cell_type": "code",
   "execution_count": 62,
   "id": "a331afc0",
   "metadata": {},
   "outputs": [],
   "source": [
    "import pandas as pd\n",
    "import numpy as np\n",
    "import scipy\n",
    "from scipy import stats\n",
    "from scipy.stats import shapiro\n",
    "from statsmodels.stats.proportion import proportions_ztest\n",
    "from statsmodels.formula.api import ols\n",
    "from statsmodels.stats.anova import anova_lm"
   ]
  },
  {
   "cell_type": "markdown",
   "id": "934671aa",
   "metadata": {},
   "source": [
    "### Python을 이용한 정규성 검정 실습 (265쪽)"
   ]
  },
  {
   "cell_type": "code",
   "execution_count": 63,
   "id": "4e82fc9f",
   "metadata": {},
   "outputs": [
    {
     "name": "stdout",
     "output_type": "stream",
     "text": [
      "(10, 4)\n"
     ]
    },
    {
     "data": {
      "text/html": [
       "<div>\n",
       "<style scoped>\n",
       "    .dataframe tbody tr th:only-of-type {\n",
       "        vertical-align: middle;\n",
       "    }\n",
       "\n",
       "    .dataframe tbody tr th {\n",
       "        vertical-align: top;\n",
       "    }\n",
       "\n",
       "    .dataframe thead th {\n",
       "        text-align: right;\n",
       "    }\n",
       "</style>\n",
       "<table border=\"1\" class=\"dataframe\">\n",
       "  <thead>\n",
       "    <tr style=\"text-align: right;\">\n",
       "      <th></th>\n",
       "      <th>Mat_A</th>\n",
       "      <th>Mat_B</th>\n",
       "      <th>Total</th>\n",
       "      <th>Sub</th>\n",
       "    </tr>\n",
       "  </thead>\n",
       "  <tbody>\n",
       "    <tr>\n",
       "      <th>0</th>\n",
       "      <td>73.4</td>\n",
       "      <td>68.7</td>\n",
       "      <td>73.4</td>\n",
       "      <td>1</td>\n",
       "    </tr>\n",
       "    <tr>\n",
       "      <th>1</th>\n",
       "      <td>77.0</td>\n",
       "      <td>71.4</td>\n",
       "      <td>77.0</td>\n",
       "      <td>1</td>\n",
       "    </tr>\n",
       "    <tr>\n",
       "      <th>2</th>\n",
       "      <td>73.7</td>\n",
       "      <td>69.8</td>\n",
       "      <td>73.7</td>\n",
       "      <td>1</td>\n",
       "    </tr>\n",
       "    <tr>\n",
       "      <th>3</th>\n",
       "      <td>73.3</td>\n",
       "      <td>75.3</td>\n",
       "      <td>73.3</td>\n",
       "      <td>1</td>\n",
       "    </tr>\n",
       "    <tr>\n",
       "      <th>4</th>\n",
       "      <td>73.1</td>\n",
       "      <td>71.3</td>\n",
       "      <td>73.1</td>\n",
       "      <td>1</td>\n",
       "    </tr>\n",
       "    <tr>\n",
       "      <th>5</th>\n",
       "      <td>71.5</td>\n",
       "      <td>72.7</td>\n",
       "      <td>71.5</td>\n",
       "      <td>1</td>\n",
       "    </tr>\n",
       "    <tr>\n",
       "      <th>6</th>\n",
       "      <td>74.5</td>\n",
       "      <td>66.9</td>\n",
       "      <td>74.5</td>\n",
       "      <td>1</td>\n",
       "    </tr>\n",
       "    <tr>\n",
       "      <th>7</th>\n",
       "      <td>77.5</td>\n",
       "      <td>70.2</td>\n",
       "      <td>77.5</td>\n",
       "      <td>1</td>\n",
       "    </tr>\n",
       "    <tr>\n",
       "      <th>8</th>\n",
       "      <td>76.4</td>\n",
       "      <td>74.4</td>\n",
       "      <td>76.4</td>\n",
       "      <td>1</td>\n",
       "    </tr>\n",
       "    <tr>\n",
       "      <th>9</th>\n",
       "      <td>77.7</td>\n",
       "      <td>70.1</td>\n",
       "      <td>77.7</td>\n",
       "      <td>1</td>\n",
       "    </tr>\n",
       "  </tbody>\n",
       "</table>\n",
       "</div>"
      ],
      "text/plain": [
       "   Mat_A  Mat_B  Total  Sub\n",
       "0   73.4   68.7   73.4    1\n",
       "1   77.0   71.4   77.0    1\n",
       "2   73.7   69.8   73.7    1\n",
       "3   73.3   75.3   73.3    1\n",
       "4   73.1   71.3   73.1    1\n",
       "5   71.5   72.7   71.5    1\n",
       "6   74.5   66.9   74.5    1\n",
       "7   77.5   70.2   77.5    1\n",
       "8   76.4   74.4   76.4    1\n",
       "9   77.7   70.1   77.7    1"
      ]
     },
     "execution_count": 63,
     "metadata": {},
     "output_type": "execute_result"
    }
   ],
   "source": [
    "dat = pd.read_csv('/home/piai/minji/dataset/2sample_t_test.csv', encoding = 'euc-kr')\n",
    "dat = dat.dropna(axis = 0)\n",
    "\n",
    "print(dat.shape)\n",
    "dat"
   ]
  },
  {
   "cell_type": "code",
   "execution_count": 64,
   "id": "a64a67ee",
   "metadata": {},
   "outputs": [
    {
     "name": "stdout",
     "output_type": "stream",
     "text": [
      "H0 : 정규성을 만족한다.\n",
      "H1 : 정규성을 만족하지 않는다.\n",
      "\n",
      "----------- Shapiro-Wilk 정규성 검정 결과 -----------\n",
      "z : 0.9062636494636536\n",
      "p : 0.2562994360923767\n"
     ]
    }
   ],
   "source": [
    "# Mat_A에 대한 정규성 검정\n",
    "\n",
    "stat_A, pval_B = shapiro(dat['Mat_A'])\n",
    "\n",
    "print(\"H0 : 정규성을 만족한다.\")\n",
    "print(\"H1 : 정규성을 만족하지 않는다.\")\n",
    "print(\"\")\n",
    "print(\"----------- Shapiro-Wilk 정규성 검정 결과 -----------\")\n",
    "print(\"z : {}\".format(stat_A))\n",
    "print(\"p : {}\".format(pval_A))"
   ]
  },
  {
   "cell_type": "markdown",
   "id": "d0e87edd",
   "metadata": {},
   "source": [
    "검정통계량 0.906에 대한 유의확률 0.256 > 0.05이므로 귀무가설을 채택한다. 즉, Mat_A는 정규성을 만족한다."
   ]
  },
  {
   "cell_type": "code",
   "execution_count": 65,
   "id": "755ec2b0",
   "metadata": {
    "scrolled": false
   },
   "outputs": [
    {
     "name": "stdout",
     "output_type": "stream",
     "text": [
      "H0 : 정규성을 만족한다.\n",
      "H1 : 정규성을 만족하지 않는다.\n",
      "\n",
      "----------- Shapiro-Wilk 정규성 검정 결과 -----------\n",
      "z : 0.9729753732681274\n",
      "p : 0.9169777035713196\n"
     ]
    }
   ],
   "source": [
    "# Mat_B에 대한 정규성 검정\n",
    "\n",
    "stat_B, pval_B = shapiro(dat['Mat_B'])\n",
    "\n",
    "print(\"H0 : 정규성을 만족한다.\")\n",
    "print(\"H1 : 정규성을 만족하지 않는다.\")\n",
    "print(\"\")\n",
    "print(\"----------- Shapiro-Wilk 정규성 검정 결과 -----------\")\n",
    "print(\"z : {}\".format(stat_B))\n",
    "print(\"p : {}\".format(pval_B))"
   ]
  },
  {
   "cell_type": "markdown",
   "id": "5ebcea2b",
   "metadata": {},
   "source": [
    "검정통계량 0.973에 대한 유의확률 0.917 > 0.05이므로 귀무가설을 채택한다. 즉, Mat_B는 정규성을 만족한다."
   ]
  },
  {
   "cell_type": "markdown",
   "id": "e90fa031",
   "metadata": {},
   "source": [
    "### Python을 이용한 구간추정 실습 (268쪽)"
   ]
  },
  {
   "cell_type": "code",
   "execution_count": 66,
   "id": "d77a9d23",
   "metadata": {},
   "outputs": [
    {
     "name": "stdout",
     "output_type": "stream",
     "text": [
      "(20, 1)\n"
     ]
    },
    {
     "data": {
      "text/html": [
       "<div>\n",
       "<style scoped>\n",
       "    .dataframe tbody tr th:only-of-type {\n",
       "        vertical-align: middle;\n",
       "    }\n",
       "\n",
       "    .dataframe tbody tr th {\n",
       "        vertical-align: top;\n",
       "    }\n",
       "\n",
       "    .dataframe thead th {\n",
       "        text-align: right;\n",
       "    }\n",
       "</style>\n",
       "<table border=\"1\" class=\"dataframe\">\n",
       "  <thead>\n",
       "    <tr style=\"text-align: right;\">\n",
       "      <th></th>\n",
       "      <th>weight</th>\n",
       "    </tr>\n",
       "  </thead>\n",
       "  <tbody>\n",
       "    <tr>\n",
       "      <th>0</th>\n",
       "      <td>18</td>\n",
       "    </tr>\n",
       "    <tr>\n",
       "      <th>1</th>\n",
       "      <td>18</td>\n",
       "    </tr>\n",
       "    <tr>\n",
       "      <th>2</th>\n",
       "      <td>20</td>\n",
       "    </tr>\n",
       "    <tr>\n",
       "      <th>3</th>\n",
       "      <td>21</td>\n",
       "    </tr>\n",
       "    <tr>\n",
       "      <th>4</th>\n",
       "      <td>20</td>\n",
       "    </tr>\n",
       "  </tbody>\n",
       "</table>\n",
       "</div>"
      ],
      "text/plain": [
       "   weight\n",
       "0      18\n",
       "1      18\n",
       "2      20\n",
       "3      21\n",
       "4      20"
      ]
     },
     "execution_count": 66,
     "metadata": {},
     "output_type": "execute_result"
    }
   ],
   "source": [
    "dat = pd.DataFrame({\"weight\" : [18, 18, 20, 21, 20, 23, 19, 18, 17, 21,\n",
    "                               22, 20, 20, 21, 20, 19, 19, 18, 17, 19]})\n",
    "\n",
    "print(dat.shape)\n",
    "dat.head()"
   ]
  },
  {
   "cell_type": "code",
   "execution_count": 67,
   "id": "42cb4ad7",
   "metadata": {
    "scrolled": false
   },
   "outputs": [
    {
     "name": "stdout",
     "output_type": "stream",
     "text": [
      "신뢰구간 : ([17.83], [21.17])\n"
     ]
    },
    {
     "name": "stderr",
     "output_type": "stream",
     "text": [
      "/home/piai/anaconda3/lib/python3.9/site-packages/numpy/core/fromnumeric.py:3438: FutureWarning: In a future version, DataFrame.mean(axis=None) will return a scalar mean over the entire DataFrame. To retain the old behavior, use 'frame.mean(axis=0)' or just 'frame.mean()'\n",
      "  return mean(axis=axis, dtype=dtype, out=out, **kwargs)\n"
     ]
    }
   ],
   "source": [
    "sigma = 3.8\n",
    "\n",
    "lower, upper = stats.norm.interval(0.95, loc = np.mean(dat), scale = sigma / np.sqrt(dat.shape[0]))\n",
    "print(\"신뢰구간 : ({0}, {1})\".format(lower.round(2), upper.round(2)))"
   ]
  },
  {
   "cell_type": "markdown",
   "id": "ba0802c1",
   "metadata": {},
   "source": [
    "신품종 감자의 평균 무게에 대한 95% 신뢰구간은 (17.83, 21.17)이다."
   ]
  },
  {
   "cell_type": "markdown",
   "id": "df280cd0",
   "metadata": {},
   "source": [
    "### Python을 이용한 구간추정 실습 (271쪽)"
   ]
  },
  {
   "cell_type": "code",
   "execution_count": 68,
   "id": "4edf111f",
   "metadata": {},
   "outputs": [
    {
     "name": "stdout",
     "output_type": "stream",
     "text": [
      "(20, 1)\n"
     ]
    },
    {
     "data": {
      "text/html": [
       "<div>\n",
       "<style scoped>\n",
       "    .dataframe tbody tr th:only-of-type {\n",
       "        vertical-align: middle;\n",
       "    }\n",
       "\n",
       "    .dataframe tbody tr th {\n",
       "        vertical-align: top;\n",
       "    }\n",
       "\n",
       "    .dataframe thead th {\n",
       "        text-align: right;\n",
       "    }\n",
       "</style>\n",
       "<table border=\"1\" class=\"dataframe\">\n",
       "  <thead>\n",
       "    <tr style=\"text-align: right;\">\n",
       "      <th></th>\n",
       "      <th>Coil</th>\n",
       "    </tr>\n",
       "  </thead>\n",
       "  <tbody>\n",
       "    <tr>\n",
       "      <th>0</th>\n",
       "      <td>73</td>\n",
       "    </tr>\n",
       "    <tr>\n",
       "      <th>1</th>\n",
       "      <td>71</td>\n",
       "    </tr>\n",
       "    <tr>\n",
       "      <th>2</th>\n",
       "      <td>74</td>\n",
       "    </tr>\n",
       "    <tr>\n",
       "      <th>3</th>\n",
       "      <td>69</td>\n",
       "    </tr>\n",
       "    <tr>\n",
       "      <th>4</th>\n",
       "      <td>70</td>\n",
       "    </tr>\n",
       "  </tbody>\n",
       "</table>\n",
       "</div>"
      ],
      "text/plain": [
       "   Coil\n",
       "0    73\n",
       "1    71\n",
       "2    74\n",
       "3    69\n",
       "4    70"
      ]
     },
     "execution_count": 68,
     "metadata": {},
     "output_type": "execute_result"
    }
   ],
   "source": [
    "dat = pd.DataFrame({'Coil' : [73, 71, 74, 69, 70, 73, 70, 68, 75, 72,\n",
    "                             70, 72, 73, 70, 70, 72, 71, 70, 75, 72]})\n",
    "\n",
    "print(dat.shape)\n",
    "dat.head()"
   ]
  },
  {
   "cell_type": "code",
   "execution_count": 69,
   "id": "d27b45fd",
   "metadata": {},
   "outputs": [
    {
     "name": "stdout",
     "output_type": "stream",
     "text": [
      "신뢰구간 : ([70.6], [72.4])\n"
     ]
    },
    {
     "name": "stderr",
     "output_type": "stream",
     "text": [
      "/home/piai/anaconda3/lib/python3.9/site-packages/numpy/core/fromnumeric.py:3438: FutureWarning: In a future version, DataFrame.mean(axis=None) will return a scalar mean over the entire DataFrame. To retain the old behavior, use 'frame.mean(axis=0)' or just 'frame.mean()'\n",
      "  return mean(axis=axis, dtype=dtype, out=out, **kwargs)\n"
     ]
    }
   ],
   "source": [
    "lower, upper = stats.t.interval(0.95, len(dat) - 1, loc = np.mean(dat), scale = scipy.stats.sem(dat))\n",
    "print(\"신뢰구간 : ({0}, {1})\".format(lower.round(2), upper.round(2)))"
   ]
  },
  {
   "cell_type": "markdown",
   "id": "0d29895c",
   "metadata": {},
   "source": [
    "코일의 평균 인장강도에 대한 95% 신뢰구간은 (70.6, 72.4)이다."
   ]
  },
  {
   "cell_type": "markdown",
   "id": "995d8ca8",
   "metadata": {},
   "source": [
    "### Python을 이용한 가설검정 (299쪽)"
   ]
  },
  {
   "cell_type": "code",
   "execution_count": 70,
   "id": "c4ff3820",
   "metadata": {},
   "outputs": [
    {
     "name": "stdout",
     "output_type": "stream",
     "text": [
      "(8, 2)\n"
     ]
    },
    {
     "data": {
      "text/html": [
       "<div>\n",
       "<style scoped>\n",
       "    .dataframe tbody tr th:only-of-type {\n",
       "        vertical-align: middle;\n",
       "    }\n",
       "\n",
       "    .dataframe tbody tr th {\n",
       "        vertical-align: top;\n",
       "    }\n",
       "\n",
       "    .dataframe thead th {\n",
       "        text-align: right;\n",
       "    }\n",
       "</style>\n",
       "<table border=\"1\" class=\"dataframe\">\n",
       "  <thead>\n",
       "    <tr style=\"text-align: right;\">\n",
       "      <th></th>\n",
       "      <th>A</th>\n",
       "      <th>B</th>\n",
       "    </tr>\n",
       "  </thead>\n",
       "  <tbody>\n",
       "    <tr>\n",
       "      <th>0</th>\n",
       "      <td>1.883</td>\n",
       "      <td>1.435</td>\n",
       "    </tr>\n",
       "    <tr>\n",
       "      <th>1</th>\n",
       "      <td>1.715</td>\n",
       "      <td>1.572</td>\n",
       "    </tr>\n",
       "    <tr>\n",
       "      <th>2</th>\n",
       "      <td>1.799</td>\n",
       "      <td>1.486</td>\n",
       "    </tr>\n",
       "    <tr>\n",
       "      <th>3</th>\n",
       "      <td>1.768</td>\n",
       "      <td>1.511</td>\n",
       "    </tr>\n",
       "    <tr>\n",
       "      <th>4</th>\n",
       "      <td>1.711</td>\n",
       "      <td>1.457</td>\n",
       "    </tr>\n",
       "  </tbody>\n",
       "</table>\n",
       "</div>"
      ],
      "text/plain": [
       "       A      B\n",
       "0  1.883  1.435\n",
       "1  1.715  1.572\n",
       "2  1.799  1.486\n",
       "3  1.768  1.511\n",
       "4  1.711  1.457"
      ]
     },
     "execution_count": 70,
     "metadata": {},
     "output_type": "execute_result"
    }
   ],
   "source": [
    "df = pd.DataFrame({'A' : [1.883, 1.715, 1.799, 1.768, 1.711, 1.832, 1.427, 1.344],\n",
    "                  'B' : [1.435, 1.572, 1.486, 1.511, 1.457, 1.548, 1.404, 1.883]})\n",
    "\n",
    "print(df.shape)\n",
    "df.head()"
   ]
  },
  {
   "cell_type": "code",
   "execution_count": 71,
   "id": "7a6dde33",
   "metadata": {},
   "outputs": [
    {
     "name": "stdout",
     "output_type": "stream",
     "text": [
      "----------- A에 대한 정규성 검정 -----------\n",
      "statistic = 0.8425756096839905, p-value = 0.08004552870988846\n",
      "\n"
     ]
    }
   ],
   "source": [
    "# 정규성 검정\n",
    "\n",
    "statistic1, p1 = stats.shapiro(df['A'])\n",
    "print(\"----------- A에 대한 정규성 검정 -----------\")\n",
    "print(\"statistic = {}, p-value = {}\".format(statistic1, p1))\n",
    "print(\"\")"
   ]
  },
  {
   "cell_type": "markdown",
   "id": "32649457",
   "metadata": {},
   "source": [
    "검정통계량 0.843에 대한 유의확률 0.08 > 0.05이므로 유의수준 5% 하에서 귀무가설을 채택한다. 따라서, A공급자의 제품 두께 데이터는 정규성을 만족한다고 할 수 있다."
   ]
  },
  {
   "cell_type": "code",
   "execution_count": 72,
   "id": "3c9e6801",
   "metadata": {},
   "outputs": [
    {
     "name": "stdout",
     "output_type": "stream",
     "text": [
      "----------- B에 대한 정규성 검정 -----------\n",
      "statistic = 0.7734811902046204, p-value = 0.014793740585446358\n"
     ]
    }
   ],
   "source": [
    "# 정규성 검정\n",
    "\n",
    "statistic2, p2 = stats.shapiro(df['B'])\n",
    "print(\"----------- B에 대한 정규성 검정 -----------\")\n",
    "print(\"statistic = {}, p-value = {}\".format(statistic2, p2))"
   ]
  },
  {
   "cell_type": "markdown",
   "id": "d1ef5523",
   "metadata": {},
   "source": [
    "검정통계량 0.774에 대한 유의확률 0.01 < 0.05이므로 유의수준 5% 하에서 귀무가설을 기각한다. 따라서, B공급자의 제품 두께 데이터는 정규성을 만족한다고 할 수 없다."
   ]
  },
  {
   "cell_type": "code",
   "execution_count": 73,
   "id": "fbb33bb7",
   "metadata": {},
   "outputs": [
    {
     "name": "stdout",
     "output_type": "stream",
     "text": [
      "----------- A와 B에 대한 등분산성 검정 -----------\n",
      "statistic = 0.42411436523132123, p-value = 0.5148911629500761\n"
     ]
    }
   ],
   "source": [
    "# 등분산성 검정\n",
    "\n",
    "from scipy.stats import bartlett\n",
    "\n",
    "statistic, p = stats.bartlett(df['A'], df['B'])\n",
    "print(\"----------- A와 B에 대한 등분산성 검정 -----------\")\n",
    "print(\"statistic = {}, p-value = {}\".format(statistic, p))"
   ]
  },
  {
   "cell_type": "markdown",
   "id": "b2bfda22",
   "metadata": {},
   "source": [
    "검정통계량 0.424에 대한 유의확률 0.514 > 0.05이므로 유의수준 5% 하에서 귀무가설을 채택한다. 즉, 두 집단의 데이터는 등분산성을 만족한다."
   ]
  },
  {
   "cell_type": "code",
   "execution_count": 74,
   "id": "71e72322",
   "metadata": {},
   "outputs": [
    {
     "name": "stdout",
     "output_type": "stream",
     "text": [
      "----------- 2-Sample t-test -----------\n",
      "t : 1.69954\n",
      "p : 0.11132\n"
     ]
    }
   ],
   "source": [
    "# 대응표본 t-검정\n",
    "\n",
    "statistic, p = stats.ttest_ind(df['A'], df['B'])\n",
    "print(\"----------- 2-Sample t-test -----------\")\n",
    "print(\"t : {}\".format(statistic.round(5)))\n",
    "print(\"p : {}\".format(p.round(5)))"
   ]
  },
  {
   "cell_type": "markdown",
   "id": "848c80e3",
   "metadata": {},
   "source": [
    "- H0 : A공급자와 B공급자 간 모평균에 차이가 없다.\n",
    "- H1 : A공급자와 B공급자 간 모평균에 차이가 있다.\n",
    "\n",
    "\n",
    "검정통계량 1.699에 대한 유의확률 0.11 >0.05이므로 귀무가설을 채택한다. 즉, 두 공급자의 제품 간 모평균은 차이가 없다고 볼 수 있다."
   ]
  },
  {
   "cell_type": "markdown",
   "id": "0f094cc7",
   "metadata": {},
   "source": [
    "### Python을 이용한 가설검정 실습 (302쪽)"
   ]
  },
  {
   "cell_type": "code",
   "execution_count": 75,
   "id": "a1b5836f",
   "metadata": {},
   "outputs": [],
   "source": [
    "before = pd.DataFrame({'before' : [720, 589, 780, 648, 720, 589, 780, 648, 780, 648]})\n",
    "after = pd.DataFrame({'after' : [710, 580, 787, 712, 750, 600, 782, 670, 790, 780]})"
   ]
  },
  {
   "cell_type": "code",
   "execution_count": 76,
   "id": "59f4c277",
   "metadata": {},
   "outputs": [
    {
     "name": "stdout",
     "output_type": "stream",
     "text": [
      "------- Paired t-test -------\n",
      "t: [-1.904]\n",
      "p: [0.089]\n"
     ]
    }
   ],
   "source": [
    "# 대응표본 t-검정\n",
    "\n",
    "t, p = stats.ttest_rel(before, after)\n",
    "\n",
    "print(\"------- Paired t-test -------\")\n",
    "print(\"t: {}\".format(t.round(3)))\n",
    "print(\"p: {}\".format(p.round(3)))"
   ]
  },
  {
   "cell_type": "markdown",
   "id": "49fc9a39",
   "metadata": {},
   "source": [
    "- H0 : 학원 가기 전후 간 회사원들의 성적 평균에 차이가 없다.\n",
    "- H1 : 학원 가기 전후 간 회사원들의 성적 평균에 차이가 있다.\n",
    "\n",
    "검정통계량 -1.904에 대한 유의확률 0.089 > 0.05이므로 귀무가설을 채택한다. 따라서, 학원 가기 전후 간 회사원들의 성적에는 차이가 없다는 것을 확인할 수 있다."
   ]
  },
  {
   "cell_type": "markdown",
   "id": "fd7f3916",
   "metadata": {},
   "source": [
    "### Python을 이용한 가설검정 실습 (307쪽)"
   ]
  },
  {
   "cell_type": "code",
   "execution_count": 77,
   "id": "06f8d3f1",
   "metadata": {},
   "outputs": [
    {
     "name": "stdout",
     "output_type": "stream",
     "text": [
      "------- 1 Proportion test -------\n",
      "z : -2.041\n",
      "p : 0.041\n"
     ]
    }
   ],
   "source": [
    "count = 40\n",
    "n_obs = 100\n",
    "value = 0.5\n",
    "\n",
    "stat, pval = proportions_ztest(count, n_obs, value)\n",
    "print(\"------- 1 Proportion test -------\")\n",
    "print(\"z : {0:0.3f}\".format(stat))\n",
    "print(\"p : {0:0.3f}\".format(pval))"
   ]
  },
  {
   "cell_type": "markdown",
   "id": "9d012111",
   "metadata": {},
   "source": [
    "- H0 : 동전은 정상이다.\n",
    "- H1 : 동전은 정상이 아니다.\n",
    "\n",
    "검정통계량 -2.041에 대한 유의확률 0.041 < 0.05이므로 귀무가설을 기각한다. 즉, 동전은 정상이 아니다."
   ]
  },
  {
   "cell_type": "markdown",
   "id": "93f08c7b",
   "metadata": {},
   "source": [
    "### Python을 이용한 가설검정 실습 (310쪽)"
   ]
  },
  {
   "cell_type": "code",
   "execution_count": 78,
   "id": "8f686c97",
   "metadata": {},
   "outputs": [
    {
     "name": "stdout",
     "output_type": "stream",
     "text": [
      "------- 2 Proportion test -------\n",
      "z : 2.073\n",
      "p : 0.038\n"
     ]
    }
   ],
   "source": [
    "count = np.array([14, 5])\n",
    "nobs = np.array([1200, 1200])\n",
    "\n",
    "stat,pval = proportions_ztest(count, nobs)\n",
    "\n",
    "print(\"------- 2 Proportion test -------\")\n",
    "print(\"z : {0:0.3f}\".format(stat))\n",
    "print(\"p : {0:0.3f}\".format(pval))"
   ]
  },
  {
   "cell_type": "markdown",
   "id": "83f19d3d",
   "metadata": {},
   "source": [
    "- H0 : 두 공정의 불량률에 차이가 없다.\n",
    "- H1 : 두 공정의 불량률에 차이가 있다.\n",
    "\n",
    "검정통계량 2.73에 대한 유의확률 0.038 < 0.05이므로 귀무가설을 기각한다. 따라서, 두 공정의 불량률에 차이가 있다고 볼 수 있다."
   ]
  },
  {
   "cell_type": "markdown",
   "id": "143fc2e8",
   "metadata": {},
   "source": [
    "### Python을 이용한 가설검정 실습 (318쪽)"
   ]
  },
  {
   "cell_type": "code",
   "execution_count": 79,
   "id": "4132be70",
   "metadata": {},
   "outputs": [
    {
     "name": "stdout",
     "output_type": "stream",
     "text": [
      "(7, 6)\n"
     ]
    },
    {
     "data": {
      "text/html": [
       "<div>\n",
       "<style scoped>\n",
       "    .dataframe tbody tr th:only-of-type {\n",
       "        vertical-align: middle;\n",
       "    }\n",
       "\n",
       "    .dataframe tbody tr th {\n",
       "        vertical-align: top;\n",
       "    }\n",
       "\n",
       "    .dataframe thead th {\n",
       "        text-align: right;\n",
       "    }\n",
       "</style>\n",
       "<table border=\"1\" class=\"dataframe\">\n",
       "  <thead>\n",
       "    <tr style=\"text-align: right;\">\n",
       "      <th></th>\n",
       "      <th>A</th>\n",
       "      <th>B</th>\n",
       "      <th>C</th>\n",
       "      <th>D</th>\n",
       "      <th>E</th>\n",
       "      <th>F</th>\n",
       "    </tr>\n",
       "  </thead>\n",
       "  <tbody>\n",
       "    <tr>\n",
       "      <th>0</th>\n",
       "      <td>18</td>\n",
       "      <td>8</td>\n",
       "      <td>4</td>\n",
       "      <td>4</td>\n",
       "      <td>3</td>\n",
       "      <td>3</td>\n",
       "    </tr>\n",
       "    <tr>\n",
       "      <th>1</th>\n",
       "      <td>1</td>\n",
       "      <td>2</td>\n",
       "      <td>1</td>\n",
       "      <td>1</td>\n",
       "      <td>1</td>\n",
       "      <td>25</td>\n",
       "    </tr>\n",
       "    <tr>\n",
       "      <th>2</th>\n",
       "      <td>8</td>\n",
       "      <td>14</td>\n",
       "      <td>3</td>\n",
       "      <td>2</td>\n",
       "      <td>3</td>\n",
       "      <td>8</td>\n",
       "    </tr>\n",
       "    <tr>\n",
       "      <th>3</th>\n",
       "      <td>7</td>\n",
       "      <td>5</td>\n",
       "      <td>4</td>\n",
       "      <td>3</td>\n",
       "      <td>1</td>\n",
       "      <td>10</td>\n",
       "    </tr>\n",
       "    <tr>\n",
       "      <th>4</th>\n",
       "      <td>10</td>\n",
       "      <td>5</td>\n",
       "      <td>9</td>\n",
       "      <td>2</td>\n",
       "      <td>1</td>\n",
       "      <td>2</td>\n",
       "    </tr>\n",
       "    <tr>\n",
       "      <th>5</th>\n",
       "      <td>9</td>\n",
       "      <td>9</td>\n",
       "      <td>5</td>\n",
       "      <td>7</td>\n",
       "      <td>1</td>\n",
       "      <td>1</td>\n",
       "    </tr>\n",
       "    <tr>\n",
       "      <th>6</th>\n",
       "      <td>10</td>\n",
       "      <td>4</td>\n",
       "      <td>4</td>\n",
       "      <td>3</td>\n",
       "      <td>1</td>\n",
       "      <td>7</td>\n",
       "    </tr>\n",
       "  </tbody>\n",
       "</table>\n",
       "</div>"
      ],
      "text/plain": [
       "    A   B  C  D  E   F\n",
       "0  18   8  4  4  3   3\n",
       "1   1   2  1  1  1  25\n",
       "2   8  14  3  2  3   8\n",
       "3   7   5  4  3  1  10\n",
       "4  10   5  9  2  1   2\n",
       "5   9   9  5  7  1   1\n",
       "6  10   4  4  3  1   7"
      ]
     },
     "execution_count": 79,
     "metadata": {},
     "output_type": "execute_result"
    }
   ],
   "source": [
    "dat = pd.DataFrame({'A' :[18, 1, 8, 7, 10, 9, 10],\n",
    "                   'B' : [8, 2, 14, 5, 5, 9, 4],\n",
    "                   'C' : [4, 1, 3, 4, 9, 5, 4],\n",
    "                   'D' : [4, 1, 2, 3, 2, 7, 3],\n",
    "                   'E' : [3, 1, 3, 1, 1, 1 ,1],\n",
    "                   'F' : [3, 25, 8, 10, 2, 1, 7]})\n",
    "\n",
    "print(dat.shape)\n",
    "dat"
   ]
  },
  {
   "cell_type": "code",
   "execution_count": 80,
   "id": "31ccaed8",
   "metadata": {},
   "outputs": [
    {
     "name": "stdout",
     "output_type": "stream",
     "text": [
      "------- Chi-square test -------\n",
      "chisq : 98.274\n",
      "p : 0.000\n",
      "degree of freedom : 30\n",
      "expected value : \n",
      "[[11.004  8.21   5.24   3.843  1.921  9.782]\n",
      " [ 8.528  6.362  4.061  2.978  1.489  7.581]\n",
      " [10.454  7.799  4.978  3.651  1.825  9.293]\n",
      " [ 8.253  6.157  3.93   2.882  1.441  7.336]\n",
      " [ 7.978  5.952  3.799  2.786  1.393  7.092]\n",
      " [ 8.803  6.568  4.192  3.074  1.537  7.825]\n",
      " [ 7.978  5.952  3.799  2.786  1.393  7.092]]\n"
     ]
    }
   ],
   "source": [
    "chi, pval, dof, expected = stats.chi2_contingency(dat)\n",
    "\n",
    "print(\"------- Chi-square test -------\")\n",
    "print(\"chisq : {0:0.3f}\".format(chi))\n",
    "print(\"p : {0:0.3f}\".format(pval))\n",
    "print(\"degree of freedom : {}\".format(dof))\n",
    "print(\"expected value : \\n{}\".format(expected.round(3)))"
   ]
  },
  {
   "cell_type": "markdown",
   "id": "07f10562",
   "metadata": {},
   "source": [
    "- H0 : 각 제품에 따른 이미지의 차이가 없다.\n",
    "- H1 : 각 제품에 따른 이미지의 차이가 있다.\n",
    "\n",
    "검정통계량 98.274에 대한 유의확률 0.000 < 0.05이므로 귀무가설을 기각한다. 다시 말해, 제품의 의미지는 제품에 따라 차이가 있다."
   ]
  },
  {
   "cell_type": "markdown",
   "id": "80bffc0c",
   "metadata": {},
   "source": [
    "### Python을 이용한 가설검정 실습 (325쪽)"
   ]
  },
  {
   "cell_type": "code",
   "execution_count": 81,
   "id": "574d04e9",
   "metadata": {},
   "outputs": [
    {
     "name": "stdout",
     "output_type": "stream",
     "text": [
      "(24, 4)\n"
     ]
    },
    {
     "data": {
      "text/html": [
       "<div>\n",
       "<style scoped>\n",
       "    .dataframe tbody tr th:only-of-type {\n",
       "        vertical-align: middle;\n",
       "    }\n",
       "\n",
       "    .dataframe tbody tr th {\n",
       "        vertical-align: top;\n",
       "    }\n",
       "\n",
       "    .dataframe thead th {\n",
       "        text-align: right;\n",
       "    }\n",
       "</style>\n",
       "<table border=\"1\" class=\"dataframe\">\n",
       "  <thead>\n",
       "    <tr style=\"text-align: right;\">\n",
       "      <th></th>\n",
       "      <th>time</th>\n",
       "      <th>charge</th>\n",
       "      <th>gangjong</th>\n",
       "      <th>type</th>\n",
       "    </tr>\n",
       "  </thead>\n",
       "  <tbody>\n",
       "    <tr>\n",
       "      <th>0</th>\n",
       "      <td>32.2</td>\n",
       "      <td>A</td>\n",
       "      <td>a</td>\n",
       "      <td>a</td>\n",
       "    </tr>\n",
       "    <tr>\n",
       "      <th>1</th>\n",
       "      <td>30.4</td>\n",
       "      <td>B</td>\n",
       "      <td>a</td>\n",
       "      <td>a</td>\n",
       "    </tr>\n",
       "    <tr>\n",
       "      <th>2</th>\n",
       "      <td>33.6</td>\n",
       "      <td>C</td>\n",
       "      <td>a</td>\n",
       "      <td>a</td>\n",
       "    </tr>\n",
       "    <tr>\n",
       "      <th>3</th>\n",
       "      <td>36.4</td>\n",
       "      <td>D</td>\n",
       "      <td>a</td>\n",
       "      <td>a</td>\n",
       "    </tr>\n",
       "    <tr>\n",
       "      <th>4</th>\n",
       "      <td>33.9</td>\n",
       "      <td>E</td>\n",
       "      <td>a</td>\n",
       "      <td>a</td>\n",
       "    </tr>\n",
       "  </tbody>\n",
       "</table>\n",
       "</div>"
      ],
      "text/plain": [
       "   time charge gangjong type\n",
       "0  32.2      A        a    a\n",
       "1  30.4      B        a    a\n",
       "2  33.6      C        a    a\n",
       "3  36.4      D        a    a\n",
       "4  33.9      E        a    a"
      ]
     },
     "execution_count": 81,
     "metadata": {},
     "output_type": "execute_result"
    }
   ],
   "source": [
    "dat = pd.read_csv('/home/piai/minji/dataset/ANOVA.csv', encoding= 'euc-kr')\n",
    "\n",
    "print(dat.shape)\n",
    "dat.head()"
   ]
  },
  {
   "cell_type": "code",
   "execution_count": 83,
   "id": "1894f26e",
   "metadata": {
    "scrolled": true
   },
   "outputs": [
    {
     "data": {
      "text/plain": [
       "<AxesSubplot:title={'center':'time'}, xlabel='[gangjong, type]'>"
      ]
     },
     "execution_count": 83,
     "metadata": {},
     "output_type": "execute_result"
    },
    {
     "data": {
      "image/png": "[encoded data removed]",
      "text/plain": [
       "<Figure size 432x288 with 1 Axes>"
      ]
     },
     "metadata": {
      "needs_background": "light"
     },
     "output_type": "display_data"
    }
   ],
   "source": [
    "dat.boxplot(column = \"time\", by = ['gangjong', 'type'])"
   ]
  },
  {
   "cell_type": "code",
   "execution_count": 82,
   "id": "dd84e361",
   "metadata": {},
   "outputs": [
    {
     "data": {
      "text/html": [
       "<div>\n",
       "<style scoped>\n",
       "    .dataframe tbody tr th:only-of-type {\n",
       "        vertical-align: middle;\n",
       "    }\n",
       "\n",
       "    .dataframe tbody tr th {\n",
       "        vertical-align: top;\n",
       "    }\n",
       "\n",
       "    .dataframe thead th {\n",
       "        text-align: right;\n",
       "    }\n",
       "</style>\n",
       "<table border=\"1\" class=\"dataframe\">\n",
       "  <thead>\n",
       "    <tr style=\"text-align: right;\">\n",
       "      <th></th>\n",
       "      <th>df</th>\n",
       "      <th>sum_sq</th>\n",
       "      <th>mean_sq</th>\n",
       "      <th>F</th>\n",
       "      <th>PR(&gt;F)</th>\n",
       "    </tr>\n",
       "  </thead>\n",
       "  <tbody>\n",
       "    <tr>\n",
       "      <th>C(gangjong)</th>\n",
       "      <td>3.0</td>\n",
       "      <td>104.603333</td>\n",
       "      <td>34.867778</td>\n",
       "      <td>4.171868</td>\n",
       "      <td>0.019013</td>\n",
       "    </tr>\n",
       "    <tr>\n",
       "      <th>C(type)</th>\n",
       "      <td>1.0</td>\n",
       "      <td>4.098794</td>\n",
       "      <td>4.098794</td>\n",
       "      <td>0.490413</td>\n",
       "      <td>0.491810</td>\n",
       "    </tr>\n",
       "    <tr>\n",
       "      <th>C(gangjong):C(type)</th>\n",
       "      <td>3.0</td>\n",
       "      <td>17.262445</td>\n",
       "      <td>5.754148</td>\n",
       "      <td>0.688474</td>\n",
       "      <td>0.569645</td>\n",
       "    </tr>\n",
       "    <tr>\n",
       "      <th>Residual</th>\n",
       "      <td>20.0</td>\n",
       "      <td>167.156667</td>\n",
       "      <td>8.357833</td>\n",
       "      <td>NaN</td>\n",
       "      <td>NaN</td>\n",
       "    </tr>\n",
       "  </tbody>\n",
       "</table>\n",
       "</div>"
      ],
      "text/plain": [
       "                       df      sum_sq    mean_sq         F    PR(>F)\n",
       "C(gangjong)           3.0  104.603333  34.867778  4.171868  0.019013\n",
       "C(type)               1.0    4.098794   4.098794  0.490413  0.491810\n",
       "C(gangjong):C(type)   3.0   17.262445   5.754148  0.688474  0.569645\n",
       "Residual             20.0  167.156667   8.357833       NaN       NaN"
      ]
     },
     "execution_count": 82,
     "metadata": {},
     "output_type": "execute_result"
    }
   ],
   "source": [
    "model = ols('time ~ C(gangjong) * C(type)', dat).fit()\n",
    "anova_lm(model)"
   ]
  },
  {
   "cell_type": "markdown",
   "id": "a41757da",
   "metadata": {},
   "source": [
    "- 강종의 유의확률 0.01 < 0.05이므로 귀무가설을 기각한다. 따라서, 강종의 종류 간 시간의 차이가 있다.\n",
    "- type의 유의확률 0.49 > 0.05이므로 귀무가설을 채택한다. 따라서, type의 종류 간 시간의 차이가 없다.\n",
    "- 강종과 type의 유의확률 0.56 > 0.05이므로 귀무가설을 채택한다. 따라서, 강종과 type의 종류 간 시간의 차이가 없다."
   ]
  },
  {
   "cell_type": "markdown",
   "id": "8ea22b5b",
   "metadata": {},
   "source": [
    "#### Python을 이용한 가설검정 실습 (330쪽)"
   ]
  },
  {
   "cell_type": "code",
   "execution_count": 86,
   "id": "bae5147c",
   "metadata": {},
   "outputs": [
    {
     "name": "stdout",
     "output_type": "stream",
     "text": [
      "(20, 2)\n"
     ]
    },
    {
     "data": {
      "text/html": [
       "<div>\n",
       "<style scoped>\n",
       "    .dataframe tbody tr th:only-of-type {\n",
       "        vertical-align: middle;\n",
       "    }\n",
       "\n",
       "    .dataframe tbody tr th {\n",
       "        vertical-align: top;\n",
       "    }\n",
       "\n",
       "    .dataframe thead th {\n",
       "        text-align: right;\n",
       "    }\n",
       "</style>\n",
       "<table border=\"1\" class=\"dataframe\">\n",
       "  <thead>\n",
       "    <tr style=\"text-align: right;\">\n",
       "      <th></th>\n",
       "      <th>Strength</th>\n",
       "      <th>Temperature</th>\n",
       "    </tr>\n",
       "  </thead>\n",
       "  <tbody>\n",
       "    <tr>\n",
       "      <th>0</th>\n",
       "      <td>37.6</td>\n",
       "      <td>14</td>\n",
       "    </tr>\n",
       "    <tr>\n",
       "      <th>1</th>\n",
       "      <td>38.6</td>\n",
       "      <td>15</td>\n",
       "    </tr>\n",
       "    <tr>\n",
       "      <th>2</th>\n",
       "      <td>37.2</td>\n",
       "      <td>14</td>\n",
       "    </tr>\n",
       "    <tr>\n",
       "      <th>3</th>\n",
       "      <td>36.4</td>\n",
       "      <td>16</td>\n",
       "    </tr>\n",
       "    <tr>\n",
       "      <th>4</th>\n",
       "      <td>38.6</td>\n",
       "      <td>17</td>\n",
       "    </tr>\n",
       "  </tbody>\n",
       "</table>\n",
       "</div>"
      ],
      "text/plain": [
       "   Strength  Temperature\n",
       "0      37.6           14\n",
       "1      38.6           15\n",
       "2      37.2           14\n",
       "3      36.4           16\n",
       "4      38.6           17"
      ]
     },
     "execution_count": 86,
     "metadata": {},
     "output_type": "execute_result"
    }
   ],
   "source": [
    "dat = pd.DataFrame({'Strength' : [37.6,38.6,37.2,36.4,38.6,39,37.2,36.1,35.9,37.1,\n",
    "                                  36.9,37.5,36.3,38.1,39,36.9,36.8,37.6,33,33.5],\n",
    "                    'Temperature' : [14,15,14,16,17,14,17,16,15,16,\n",
    "                                     14,16,18,13,15,17,14,16,20,21]})\n",
    "\n",
    "print(dat.shape)\n",
    "dat.head()"
   ]
  },
  {
   "cell_type": "code",
   "execution_count": 87,
   "id": "5d747e9f",
   "metadata": {},
   "outputs": [
    {
     "name": "stdout",
     "output_type": "stream",
     "text": [
      "------- Correlation Analysis -------\n",
      "corr : -0.723\n",
      "p-value : 0.000\n"
     ]
    }
   ],
   "source": [
    "corr, pval = stats.pearsonr(dat['Strength'], dat['Temperature'])\n",
    "\n",
    "print(\"------- Correlation Analysis -------\")\n",
    "print(\"corr : {0:0.3f}\".format(corr))\n",
    "print(\"p-value : {0:0.3f}\".format(pval))"
   ]
  },
  {
   "cell_type": "markdown",
   "id": "c24435f9",
   "metadata": {},
   "source": [
    "- H0 : 초코칩의 강도와 재료 반죽온도 간 상관관계 = 0\n",
    "- H1 : 초코칩의 강도와 재료 반죽온도 간 상관관계 != 0\n",
    "\n",
    "유의확률 0.000 < 0.05이므로 귀무가설을 기각한다. 따라서, 초코칩의 강도와 재료 반죽온도 간 상관성이 있다. 두 변수는 약 -0.7의 양호한 음의 상관관계를 갖는 것으로 보인다."
   ]
  }
 ],
 "metadata": {
  "kernelspec": {
   "display_name": "Python 3 (ipykernel)",
   "language": "python",
   "name": "python3"
  },
  "language_info": {
   "codemirror_mode": {
    "name": "ipython",
    "version": 3
   },
   "file_extension": ".py",
   "mimetype": "text/x-python",
   "name": "python",
   "nbconvert_exporter": "python",
   "pygments_lexer": "ipython3",
   "version": "3.9.12"
  }
 },
 "nbformat": 4,
 "nbformat_minor": 5
}
