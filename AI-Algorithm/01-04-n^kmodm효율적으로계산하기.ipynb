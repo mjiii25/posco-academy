{
 "cells": [
  {
   "cell_type": "code",
   "execution_count": 8,
   "id": "92770096",
   "metadata": {},
   "outputs": [
    {
     "name": "stdout",
     "output_type": "stream",
     "text": [
      "3\n",
      "2 10 77777\n",
      "1024\n",
      "3000 0 3\n",
      "1\n",
      "10000 4 2020207\n",
      "565814\n"
     ]
    }
   ],
   "source": [
    "# 모범답안\n",
    "\n",
    "def Power(n, k, m) :\n",
    "    if k == 0 :\n",
    "        return 1\n",
    "    if k == 1 :\n",
    "        return n\n",
    "    \n",
    "    half = Power(n, k // 2, m)\n",
    "    \n",
    "    if k % 2 == 0 :\n",
    "        return (half * half) % m\n",
    "    else :\n",
    "        return (half * half * n) % m\n",
    "\n",
    "    \n",
    "for _ in range(int(input())) :\n",
    "    n, k, m = map(int, input().split())\n",
    "    print(Power(n, k, m))"
   ]
  }
 ],
 "metadata": {
  "kernelspec": {
   "display_name": "Python 3 (ipykernel)",
   "language": "python",
   "name": "python3"
  },
  "language_info": {
   "codemirror_mode": {
    "name": "ipython",
    "version": 3
   },
   "file_extension": ".py",
   "mimetype": "text/x-python",
   "name": "python",
   "nbconvert_exporter": "python",
   "pygments_lexer": "ipython3",
   "version": "3.8.13"
  }
 },
 "nbformat": 4,
 "nbformat_minor": 5
}
