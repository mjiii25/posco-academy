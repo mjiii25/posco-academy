{
 "cells": [
  {
   "cell_type": "code",
   "execution_count": 30,
   "id": "e80fa7bf",
   "metadata": {},
   "outputs": [],
   "source": [
    "t = int(input())\n",
    "\n",
    "for _ in range(t) :\n",
    "    data = list(map(int, input().split()))     # 숫자 리스트\n",
    "    query = list(map(int, input().split()))    # 찾고자 하는 숫자 리스트\n",
    "    answer = []\n",
    "    \n",
    "    for q in query :\n",
    "        left = 0\n",
    "        right = len(data) - 1\n",
    "        \n",
    "        while left <= right :\n",
    "            mid = (left + right) // 2\n",
    "            \n",
    "            if data[mid] == q :\n",
    "                break\n",
    "            elif data[mid] > q :\n",
    "                right = mid - 1\n",
    "            elif data[mid] < q :\n",
    "                left = mid + 1\n",
    "            left += 1\n",
    "            \n",
    "            \n",
    "            \n",
    "        if left > right :\n",
    "            answer.append(-1)\n",
    "        else :\n",
    "            answer.append(mid)\n",
    "            \n",
    "    print(answer)\n",
    "                 "
   ]
  }
 ],
 "metadata": {
  "kernelspec": {
   "display_name": "Python 3 (ipykernel)",
   "language": "python",
   "name": "python3"
  },
  "language_info": {
   "codemirror_mode": {
    "name": "ipython",
    "version": 3
   },
   "file_extension": ".py",
   "mimetype": "text/x-python",
   "name": "python",
   "nbconvert_exporter": "python",
   "pygments_lexer": "ipython3",
   "version": "3.8.13"
  }
 },
 "nbformat": 4,
 "nbformat_minor": 5
}
