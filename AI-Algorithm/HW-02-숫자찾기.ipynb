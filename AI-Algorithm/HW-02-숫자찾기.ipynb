{
 "cells": [
  {
   "cell_type": "markdown",
   "metadata": {
    "colab_type": "text",
    "id": "view-in-github"
   },
   "source": [
    "<a href=\"https://colab.research.google.com/github/mjiii25/posco-academy/blob/main/AI-Algorithm/HW_02_%EC%88%AB%EC%9E%90%EC%B0%BE%EA%B8%B0.ipynb\" target=\"_parent\"><img src=\"https://colab.research.google.com/assets/colab-badge.svg\" alt=\"Open In Colab\"/></a>"
   ]
  },
  {
   "cell_type": "code",
   "execution_count": 3,
   "metadata": {
    "colab": {
     "base_uri": "https://localhost:8080/"
    },
    "id": "RT6D3xzW-OZI",
    "outputId": "6e397f09-1759-472e-ea1c-0e70d31f3cf7"
   },
   "outputs": [
    {
     "name": "stdout",
     "output_type": "stream",
     "text": [
      "6\n",
      "1 3 5 7 9\n",
      "1 8 17\n",
      "1\n",
      "1 3 5 7 9\n",
      "1 3 5 7 9\n",
      "5\n",
      "2 2 2 1 2 4\n",
      "2 1\n",
      "5\n",
      "8 8 5 4 1 1 1 2 45 99 1200 1201\n",
      "3 6 9 3 6 9\n",
      "0\n",
      "1 2 3 4 5 5 4 3 2 1\n",
      "32 16 8 4 2 1\n",
      "6\n",
      "1358 5191 5497 1759 4178 4584 7174 9187 4195 5417 9147 9417 5951 4781 4587 1891 8294 7197 1479 2497 1479 3457 8145 5781\n",
      "1479 1497 1947 1749 1794 1974 4179 4197 4719 4791 4917 4971\n",
      "2\n"
     ]
    }
   ],
   "source": [
    "# HW-02-숫자찾기\n",
    "\n",
    "t = int(input())\n",
    "\n",
    "for _ in range(t) :\n",
    "    n = list(map(int, input().split()))           # 숫자 리스트\n",
    "    m = list(map(int, input().split()))           # 찾고자 하는 쿼리\n",
    "    num_dict = {}\n",
    "    cnt = 0\n",
    "\n",
    "    for i in m :\n",
    "        num_dict[i] = 0\n",
    "    \n",
    "    for j in n :\n",
    "        if j in num_dict.keys() :\n",
    "            num_dict[j] += 1\n",
    "    \n",
    "    for k in num_dict.keys() :\n",
    "        cnt += num_dict[k]\n",
    "\n",
    "\n",
    "    print(cnt)\n"
   ]
  },
  {
   "cell_type": "code",
   "execution_count": 4,
   "metadata": {},
   "outputs": [
    {
     "name": "stdout",
     "output_type": "stream",
     "text": [
      "6\n",
      "1 3 5 7 9\n",
      "1 8 17\n",
      "1\n",
      "1 3 5 7 9\n",
      "1 3 5 7 9\n",
      "5\n",
      "2 2 2 1 2 4\n",
      "2 1\n",
      "5\n",
      "8 8 5 4 1 1 1 2 45 99 1200 1201\n",
      "3 6 9 3 6 9\n",
      "0\n",
      "1 2 3 4 5 5 4 3 2 1\n",
      "32 16 8 4 2 1\n",
      "6\n",
      "1358 5191 5497 1759 4178 4584 7174 9187 4195 5417 9147 9417 5951 4781 4587 1891 8294 7197 1479 2497 1479 3457 8145 5781\n",
      "1479 1497 1947 1749 1794 1974 4179 4197 4719 4791 4917 4971\n",
      "2\n"
     ]
    }
   ],
   "source": [
    "t = int(input())\n",
    "for _ in range(t):\n",
    "    sum_list = []\n",
    "    n = list(map(int,input().split()))\n",
    "    m = list(map(int,input().split()))\n",
    "    for i in m:\n",
    "        if i in n:\n",
    "            sum_list.append(n.count(i))\n",
    "        else:\n",
    "            pass\n",
    "    print(sum(sum_list))"
   ]
  },
  {
   "cell_type": "code",
   "execution_count": null,
   "metadata": {},
   "outputs": [],
   "source": []
  }
 ],
 "metadata": {
  "colab": {
   "authorship_tag": "ABX9TyNxq/oBM10h3BWFrsC40I7B",
   "include_colab_link": true,
   "provenance": []
  },
  "kernelspec": {
   "display_name": "Python 3 (ipykernel)",
   "language": "python",
   "name": "python3"
  },
  "language_info": {
   "codemirror_mode": {
    "name": "ipython",
    "version": 3
   },
   "file_extension": ".py",
   "mimetype": "text/x-python",
   "name": "python",
   "nbconvert_exporter": "python",
   "pygments_lexer": "ipython3",
   "version": "3.8.13"
  }
 },
 "nbformat": 4,
 "nbformat_minor": 1
}
