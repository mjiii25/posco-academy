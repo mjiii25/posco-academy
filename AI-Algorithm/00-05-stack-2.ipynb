{
 "cells": [
  {
   "cell_type": "code",
   "execution_count": 26,
   "id": "ffbf0c41",
   "metadata": {},
   "outputs": [
    {
     "name": "stdout",
     "output_type": "stream",
     "text": [
      "2\n",
      "1 -1 2 7 3 -1 4 -1 5 -1\n",
      "1 3 4 5 3 4 2 1 5 -1\n",
      "5 "
     ]
    }
   ],
   "source": [
    "for _ in range(int(input())) :\n",
    "    stack = []\n",
    "    lst = list(map(int, input().split()))\n",
    "    \n",
    "    for x in lst :\n",
    "        if x > 0 :\n",
    "            stack.append(x)\n",
    "        else :\n",
    "            print(stack.pop(), end = ' ')"
   ]
  },
  {
   "cell_type": "code",
   "execution_count": 25,
   "id": "4bef4a2a",
   "metadata": {},
   "outputs": [
    {
     "name": "stdout",
     "output_type": "stream",
     "text": [
      "2\n",
      "1 -1 2 7 3 -1 4 -1 5 -1\n",
      "1 3 4 5 3 4 2 1 5 -1\n",
      "5 "
     ]
    }
   ],
   "source": [
    "# # 모범답안\n",
    "\n",
    "# for _ in range(int(input())) :\n",
    "#     stack = []\n",
    "#     qry = list(map(int, input().split()))\n",
    "    \n",
    "#     for q in qry :\n",
    "#         if q > 0 :\n",
    "#             stack.append(q)\n",
    "#         else :           \n",
    "#             print(stack.pop(), end = ' ')"
   ]
  }
 ],
 "metadata": {
  "kernelspec": {
   "display_name": "Python 3 (ipykernel)",
   "language": "python",
   "name": "python3"
  },
  "language_info": {
   "codemirror_mode": {
    "name": "ipython",
    "version": 3
   },
   "file_extension": ".py",
   "mimetype": "text/x-python",
   "name": "python",
   "nbconvert_exporter": "python",
   "pygments_lexer": "ipython3",
   "version": "3.8.13"
  }
 },
 "nbformat": 4,
 "nbformat_minor": 5
}
