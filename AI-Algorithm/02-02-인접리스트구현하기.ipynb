{
 "cells": [
  {
   "cell_type": "code",
   "execution_count": null,
   "id": "fb7613e1",
   "metadata": {},
   "outputs": [
    {
     "name": "stdout",
     "output_type": "stream",
     "text": [
      "2\n",
      "4 4\n",
      "0 1\n",
      "0 3\n",
      "1 2\n",
      "1 3\n",
      "{1, 2, 3}\n"
     ]
    }
   ],
   "source": [
    "t = int(input())\n",
    "\n",
    "\n",
    "for _ in range(t) :\n",
    "    N, M = map(int, input().split())\n",
    "    \n",
    "    list = [[] for _ in range(N)]\n",
    "#     lst = []\n",
    "\n",
    "    \n",
    "    for _ in range(M) :\n",
    "        u, v = map(int, input().split())\n",
    "        lst.append(v)\n",
    "    \n",
    "    lst = set(lst)\n",
    "    print(lst)\n",
    "    "
   ]
  },
  {
   "cell_type": "code",
   "execution_count": null,
   "id": "66637ab0",
   "metadata": {},
   "outputs": [],
   "source": []
  }
 ],
 "metadata": {
  "kernelspec": {
   "display_name": "Python 3 (ipykernel)",
   "language": "python",
   "name": "python3"
  },
  "language_info": {
   "codemirror_mode": {
    "name": "ipython",
    "version": 3
   },
   "file_extension": ".py",
   "mimetype": "text/x-python",
   "name": "python",
   "nbconvert_exporter": "python",
   "pygments_lexer": "ipython3",
   "version": "3.8.13"
  }
 },
 "nbformat": 4,
 "nbformat_minor": 5
}
