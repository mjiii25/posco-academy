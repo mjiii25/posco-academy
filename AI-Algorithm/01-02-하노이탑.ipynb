{
 "cells": [
  {
   "cell_type": "code",
   "execution_count": null,
   "id": "017c14e7",
   "metadata": {},
   "outputs": [],
   "source": [
    "n = 1 \n",
    ": A -> C\n",
    "n = 2 \n",
    ": A -> B\n",
    ": A -> C\n",
    ": B -> C\n",
    "n = 3\n",
    ": A -> C\n",
    ": A -> B\n",
    ": C -> B\n",
    ": A -> C\n",
    ": B -> A\n",
    ": B -> C\n",
    ": A -> C\n",
    "n = 4\n",
    ": A -> C\n",
    ": A -> B\n",
    ": C -> B\n",
    ": A -> C\n",
    ": "
   ]
  },
  {
   "cell_type": "code",
   "execution_count": 17,
   "id": "5e04f08e",
   "metadata": {},
   "outputs": [
    {
     "name": "stdout",
     "output_type": "stream",
     "text": [
      "2\n",
      "2\n",
      "A -> B\n",
      "A -> C\n",
      "B -> C\n",
      "3\n",
      "A -> C\n",
      "A -> B\n",
      "C -> B\n",
      "A -> C\n",
      "B -> A\n",
      "B -> C\n",
      "A -> C\n"
     ]
    }
   ],
   "source": [
    "def Hanoi(n, start, mid, end) :\n",
    "    if n == 0 :\n",
    "        return 0\n",
    "    Hanoi(n-1, start, end, mid)\n",
    "    print(start, '->', end)\n",
    "    Hanoi(n-1, mid, start, end)    # mid로 옮긴 n-1개 고리를 end로 옮김\n",
    "        \n",
    "    \n",
    "    \n",
    "t = int(input())\n",
    "for _ in range(t) :\n",
    "    n = int(input())\n",
    "    Hanoi(n, 'A', 'B', 'C')    "
   ]
  },
  {
   "cell_type": "code",
   "execution_count": 12,
   "id": "232dbddf",
   "metadata": {},
   "outputs": [
    {
     "name": "stdout",
     "output_type": "stream",
     "text": [
      "2\n",
      "5\n",
      "A -> B\n",
      "A -> C\n",
      "B -> C\n",
      "A -> C\n",
      "B -> A\n",
      "B -> C\n",
      "A -> C\n",
      "6\n",
      "A -> B\n",
      "A -> C\n",
      "B -> C\n",
      "A -> C\n",
      "B -> A\n",
      "B -> C\n",
      "A -> C\n"
     ]
    }
   ],
   "source": [
    "def Hanoi(n, start, mid, end) :\n",
    "    if n == 0 :\n",
    "        return 0\n",
    "    elif n == 1 :\n",
    "        print(start, '->', end)\n",
    "    elif n == 2 :\n",
    "        print(start, '->', mid)\n",
    "        print(start, '->', end)\n",
    "        print(mid, '->', end)\n",
    "    elif n == 3 :\n",
    "#         print(start, '->', end)\n",
    "#         print(start, '->', mid)\n",
    "#         print(end, '->', mid)\n",
    "        Hanoi(2, start, mid, end)\n",
    "        print(start, '->', end)\n",
    "        print(mid, '->', start)\n",
    "        print(mid, '->', end)\n",
    "        print(start, '->', end)\n",
    "    else :\n",
    "        Hanoi(n-1, start, mid, end)\n",
    "#         print(start, '->', end)\n",
    "#         print(start, '->', mid)\n",
    "#         print(end, '->', mid)\n",
    "#         print(start, '->', end)\n",
    "#         print(mid, '->', start)\n",
    "#         print(mid, '->', end)\n",
    "#         print(start, '->', end)\n",
    "\n",
    "    \n",
    "    \n",
    "t = int(input())\n",
    "for _ in range(t) :\n",
    "    n = int(input())\n",
    "    Hanoi(n, 'A', 'B', 'C')"
   ]
  },
  {
   "cell_type": "code",
   "execution_count": null,
   "id": "1f6cae59",
   "metadata": {},
   "outputs": [],
   "source": []
  },
  {
   "cell_type": "code",
   "execution_count": null,
   "id": "7d4333bd",
   "metadata": {},
   "outputs": [],
   "source": []
  },
  {
   "cell_type": "code",
   "execution_count": null,
   "id": "517dd45a",
   "metadata": {},
   "outputs": [],
   "source": []
  },
  {
   "cell_type": "code",
   "execution_count": null,
   "id": "ffe343d3",
   "metadata": {},
   "outputs": [],
   "source": []
  },
  {
   "cell_type": "code",
   "execution_count": null,
   "id": "7b42b351",
   "metadata": {},
   "outputs": [],
   "source": []
  },
  {
   "cell_type": "code",
   "execution_count": null,
   "id": "fb8e587f",
   "metadata": {},
   "outputs": [],
   "source": []
  },
  {
   "cell_type": "code",
   "execution_count": null,
   "id": "c10b6c22",
   "metadata": {},
   "outputs": [],
   "source": []
  }
 ],
 "metadata": {
  "kernelspec": {
   "display_name": "Python 3 (ipykernel)",
   "language": "python",
   "name": "python3"
  },
  "language_info": {
   "codemirror_mode": {
    "name": "ipython",
    "version": 3
   },
   "file_extension": ".py",
   "mimetype": "text/x-python",
   "name": "python",
   "nbconvert_exporter": "python",
   "pygments_lexer": "ipython3",
   "version": "3.8.13"
  }
 },
 "nbformat": 4,
 "nbformat_minor": 5
}
