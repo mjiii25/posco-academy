{
 "cells": [
  {
   "cell_type": "code",
   "execution_count": 24,
   "id": "00d82295",
   "metadata": {},
   "outputs": [
    {
     "name": "stdout",
     "output_type": "stream",
     "text": [
      "2\n",
      "2\n",
      "-100 -50\n",
      "50 100\n",
      "300\n",
      "4\n",
      "-1 -1\n",
      "-1 1\n",
      "1 -1\n",
      "1 1\n",
      "16\n"
     ]
    }
   ],
   "source": [
    "t = int(input())\n",
    "\n",
    "for _ in range(t) :\n",
    "    n = int(input())\n",
    "    xs = []\n",
    "    ys = []\n",
    "    cost = 0\n",
    "    \n",
    "    for _ in range(n) :\n",
    "        x, y = map(int, input().split())\n",
    "        xs.append(x)\n",
    "        ys.append(y)\n",
    "        \n",
    "    for i in range(len(xs)) :\n",
    "        for j in range(len(xs)) :\n",
    "            cost += abs(xs[i] - xs[j])\n",
    "            \n",
    "    for i in range(len(ys)) :\n",
    "        for j in range(len(ys)) :\n",
    "            cost += abs(ys[i] - ys[j])\n",
    "            \n",
    "    print(int(cost / 2))\n",
    "        "
   ]
  }
 ],
 "metadata": {
  "kernelspec": {
   "display_name": "Python 3 (ipykernel)",
   "language": "python",
   "name": "python3"
  },
  "language_info": {
   "codemirror_mode": {
    "name": "ipython",
    "version": 3
   },
   "file_extension": ".py",
   "mimetype": "text/x-python",
   "name": "python",
   "nbconvert_exporter": "python",
   "pygments_lexer": "ipython3",
   "version": "3.8.13"
  }
 },
 "nbformat": 4,
 "nbformat_minor": 5
}
