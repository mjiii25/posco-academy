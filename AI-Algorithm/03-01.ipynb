{
 "cells": [
  {
   "cell_type": "code",
   "execution_count": 9,
   "id": "f30c4257",
   "metadata": {},
   "outputs": [
    {
     "name": "stdout",
     "output_type": "stream",
     "text": [
      "1\n",
      "500\n",
      "1\n"
     ]
    }
   ],
   "source": [
    "T = int(input())\n",
    "\n",
    "for _ in range(T) :\n",
    "    tax = int(input())\n",
    "\n",
    "\n",
    "    tax50000 = tax // 50000\n",
    "    leftover = tax - 50000 * tax50000\n",
    "\n",
    "    tax10000 = leftover // 10000\n",
    "    leftover -= 10000 * tax10000\n",
    "    \n",
    "    tax5000 = leftover // 5000\n",
    "    leftover -= 5000 * tax5000\n",
    "    \n",
    "    tax1000 = leftover // 1000\n",
    "    leftover -= 1000 * tax1000\n",
    "    \n",
    "    tax500 = leftover // 500\n",
    "    leftover -= 500 * tax500\n",
    "    \n",
    "    tax100 = leftover // 100\n",
    "    leftover -= 100 * tax100\n",
    "    \n",
    "    print(tax50000 + tax10000 + tax5000 + tax1000 + tax500 + tax100)"
   ]
  },
  {
   "cell_type": "code",
   "execution_count": 8,
   "id": "2843a9c6",
   "metadata": {},
   "outputs": [
    {
     "name": "stdout",
     "output_type": "stream",
     "text": [
      "4\n",
      "200\n",
      "2\n",
      "700\n",
      "3\n",
      "7900\n",
      "8\n",
      "53200\n",
      "6\n"
     ]
    }
   ],
   "source": [
    "T = int(input())\n",
    "\n",
    "for _ in range(T) :\n",
    "    tax = int(input())                            # 납부해야 하는 세금\n",
    "    change = 0                                    # 남은 세금\n",
    "    coins = [50000, 10000, 5000, 1000, 500, 100]  # 동전 단위\n",
    "    \n",
    "    for i in coins :                              # unit = 50000\n",
    "        num_money = tax // i                      # 납부해야 할 i의 개수                  \n",
    "        tax -= i * num_money                      # 50000원으로 납부하고 남은 세금   \n",
    "        change += num_money                       # 납부해야 할 i의 개수 합치기\n",
    "        \n",
    "    print(change)"
   ]
  },
  {
   "cell_type": "code",
   "execution_count": null,
   "id": "366ff0be",
   "metadata": {},
   "outputs": [],
   "source": [
    "T = int(input())\n",
    "\n",
    "for _ in range(T) :\n",
    "    tax = int(input())\n",
    "    coins = [50000, 10000, 5000, 1000, 500, 100]\n",
    "    \n",
    "    for i in coins :\n",
    "        tax_mok = tax // i      # 세금을 i로 나눈 몫 = i의 개수\n",
    "        tax_change = tax % i    # 세금을 i로 나눈 나머지\n",
    "        tax_change"
   ]
  },
  {
   "cell_type": "code",
   "execution_count": null,
   "id": "de61546f",
   "metadata": {},
   "outputs": [],
   "source": [
    "# 모범답안\n",
    "\n",
    "t = int(input())\n",
    "\n",
    "for _ in range(t) :\n",
    "    n = int(input())\n",
    "    coins = [50000, 10000, 5000, 1000, 500, 100]\n",
    "    coinnum = 0\n",
    "    \n",
    "    for coin in coins :\n",
    "        coinnum += n // coin\n",
    "        n %= coin\n",
    "    print(coinnum)\n"
   ]
  },
  {
   "cell_type": "code",
   "execution_count": null,
   "id": "192d1c27",
   "metadata": {},
   "outputs": [],
   "source": []
  },
  {
   "cell_type": "code",
   "execution_count": null,
   "id": "66fd89bb",
   "metadata": {},
   "outputs": [],
   "source": []
  },
  {
   "cell_type": "code",
   "execution_count": null,
   "id": "12d214e4",
   "metadata": {},
   "outputs": [],
   "source": []
  },
  {
   "cell_type": "code",
   "execution_count": null,
   "id": "492ee1f2",
   "metadata": {},
   "outputs": [],
   "source": []
  },
  {
   "cell_type": "code",
   "execution_count": null,
   "id": "c2934944",
   "metadata": {},
   "outputs": [],
   "source": []
  },
  {
   "cell_type": "code",
   "execution_count": null,
   "id": "0008a065",
   "metadata": {},
   "outputs": [],
   "source": []
  },
  {
   "cell_type": "code",
   "execution_count": null,
   "id": "db0443f6",
   "metadata": {},
   "outputs": [],
   "source": []
  }
 ],
 "metadata": {
  "kernelspec": {
   "display_name": "Python 3 (ipykernel)",
   "language": "python",
   "name": "python3"
  },
  "language_info": {
   "codemirror_mode": {
    "name": "ipython",
    "version": 3
   },
   "file_extension": ".py",
   "mimetype": "text/x-python",
   "name": "python",
   "nbconvert_exporter": "python",
   "pygments_lexer": "ipython3",
   "version": "3.8.13"
  }
 },
 "nbformat": 4,
 "nbformat_minor": 5
}
