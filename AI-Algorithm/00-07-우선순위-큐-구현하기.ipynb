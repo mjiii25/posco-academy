{
 "cells": [
  {
   "cell_type": "code",
   "execution_count": 2,
   "id": "838e51a0",
   "metadata": {},
   "outputs": [],
   "source": [
    "import heapq"
   ]
  },
  {
   "cell_type": "code",
   "execution_count": 5,
   "id": "e13a23d4",
   "metadata": {},
   "outputs": [
    {
     "name": "stdout",
     "output_type": "stream",
     "text": [
      "2\n",
      "1 -1 2 7 3 -1 4 -1 5 -1\n",
      "1 2 3 4 3 4 2 1 5 -1\n",
      "1 "
     ]
    }
   ],
   "source": [
    "for _ in range(int(input())) :\n",
    "    hq = []\n",
    "    \n",
    "    lst = list(map(int, input().split()))\n",
    "    \n",
    "    for x in lst :\n",
    "        if x > 0 :\n",
    "            heapq.heappush(hq, x)\n",
    "        else :\n",
    "            print(heapq.heappop(hq), end = ' ')"
   ]
  }
 ],
 "metadata": {
  "kernelspec": {
   "display_name": "Python 3 (ipykernel)",
   "language": "python",
   "name": "python3"
  },
  "language_info": {
   "codemirror_mode": {
    "name": "ipython",
    "version": 3
   },
   "file_extension": ".py",
   "mimetype": "text/x-python",
   "name": "python",
   "nbconvert_exporter": "python",
   "pygments_lexer": "ipython3",
   "version": "3.8.13"
  }
 },
 "nbformat": 4,
 "nbformat_minor": 5
}
