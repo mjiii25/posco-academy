{
 "cells": [
  {
   "cell_type": "code",
   "execution_count": 14,
   "id": "c94d799f",
   "metadata": {},
   "outputs": [
    {
     "name": "stdout",
     "output_type": "stream",
     "text": [
      "6\n",
      "1\n",
      "3 0\n",
      "2\n",
      "6 3\n",
      "3\n",
      "15 3\n",
      "4\n",
      "33 12\n",
      "5\n",
      "78 21\n",
      "20\n",
      "759334 6352419\n"
     ]
    }
   ],
   "source": [
    "t = int(input())\n",
    "\n",
    "for _ in range(t) :\n",
    "    k = int(input())\n",
    "    \n",
    "    A = [0] * (k + 1)\n",
    "    B = [0] * (k + 1)\n",
    "    \n",
    "    for i in range(1, k + 1) :\n",
    "        if i == 1 :\n",
    "            A[i] = 2 * 1 + 1       # 3\n",
    "            B[i] = -1 * 1 + 1      # 0\n",
    "        elif i == 2 :\n",
    "            A[i] = 2 * 3 + 0\n",
    "            B[i] = -1 * 0 + 3\n",
    "        else :\n",
    "            A[i] = 2 * A[i - 1] + B[i - 1]\n",
    "            B[i] = -1 * B[i - 1] + A[i - 1]\n",
    "    \n",
    "    print(A[i] % 20220824, B[i] % 20220824)\n",
    "            "
   ]
  }
 ],
 "metadata": {
  "kernelspec": {
   "display_name": "Python 3 (ipykernel)",
   "language": "python",
   "name": "python3"
  },
  "language_info": {
   "codemirror_mode": {
    "name": "ipython",
    "version": 3
   },
   "file_extension": ".py",
   "mimetype": "text/x-python",
   "name": "python",
   "nbconvert_exporter": "python",
   "pygments_lexer": "ipython3",
   "version": "3.8.13"
  }
 },
 "nbformat": 4,
 "nbformat_minor": 5
}
