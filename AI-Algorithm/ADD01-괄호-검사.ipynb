{
 "cells": [
  {
   "cell_type": "code",
   "execution_count": 11,
   "id": "84694853",
   "metadata": {},
   "outputs": [
    {
     "name": "stdout",
     "output_type": "stream",
     "text": [
      "5\n",
      "()()\n",
      "YES\n",
      "({[}])\n",
      "NO\n",
      "({}[(){}])\n",
      "YES\n",
      "(({})\n"
     ]
    },
    {
     "ename": "IndexError",
     "evalue": "list index out of range",
     "output_type": "error",
     "traceback": [
      "\u001b[0;31m---------------------------------------------------------------------------\u001b[0m",
      "\u001b[0;31mIndexError\u001b[0m                                Traceback (most recent call last)",
      "Input \u001b[0;32mIn [11]\u001b[0m, in \u001b[0;36m<cell line: 3>\u001b[0;34m()\u001b[0m\n\u001b[1;32m      3\u001b[0m \u001b[38;5;28;01mfor\u001b[39;00m _ \u001b[38;5;129;01min\u001b[39;00m \u001b[38;5;28mrange\u001b[39m(\u001b[38;5;28mint\u001b[39m(\u001b[38;5;28minput\u001b[39m())) :\n\u001b[1;32m      4\u001b[0m     lst \u001b[38;5;241m=\u001b[39m \u001b[38;5;28mlist\u001b[39m(\u001b[38;5;28minput\u001b[39m())\n\u001b[0;32m----> 6\u001b[0m     a \u001b[38;5;241m=\u001b[39m \u001b[43mlst\u001b[49m\u001b[43m[\u001b[49m\u001b[43midx\u001b[49m\u001b[43m]\u001b[49m\n\u001b[1;32m      7\u001b[0m     b \u001b[38;5;241m=\u001b[39m lst[idx\u001b[38;5;241m+\u001b[39m\u001b[38;5;241m1\u001b[39m]\n\u001b[1;32m      9\u001b[0m     \u001b[38;5;28;01mif\u001b[39;00m (a \u001b[38;5;241m==\u001b[39m \u001b[38;5;124m'\u001b[39m\u001b[38;5;124m(\u001b[39m\u001b[38;5;124m'\u001b[39m \u001b[38;5;129;01mand\u001b[39;00m b \u001b[38;5;241m==\u001b[39m \u001b[38;5;124m'\u001b[39m\u001b[38;5;124m)\u001b[39m\u001b[38;5;124m'\u001b[39m) :\n",
      "\u001b[0;31mIndexError\u001b[0m: list index out of range"
     ]
    }
   ],
   "source": [
    "idx = 0\n",
    "\n",
    "for _ in range(int(input())) :\n",
    "    lst = list(input())            # ()()                 # ({[}])\n",
    "\n",
    "    a = lst[idx]                   # (                    # \n",
    "    b = lst[idx+1]                 # )\n",
    "    \n",
    "    if a == '(' and b == ')' :   # a = '(', b = ')'\n",
    "        print('YES')\n",
    "    elif a == '{' and b == '}' :\n",
    "        print('YES')\n",
    "    elif a == '[' and b == ']' :\n",
    "        print('YES')\n",
    "    else :\n",
    "        print('NO')\n",
    "        \n",
    "    idx += 2                       # idx = 2"
   ]
  },
  {
   "cell_type": "code",
   "execution_count": null,
   "id": "9fd3bf1b",
   "metadata": {},
   "outputs": [],
   "source": [
    "for _ in range(int(input())) :\n",
    "    stack = []\n",
    "    \n",
    "    lst = input()\n",
    "    \n",
    "    for x in lst :\n",
    "        if x == '(' or x == '{' or x == '[' :\n",
    "            stack.append(x)\n",
    "        else :\n",
    "            if \n",
    "    \n",
    "    \n",
    "    \n",
    "    \n",
    "    \n",
    "    \n",
    "    \n",
    "    "
   ]
  },
  {
   "cell_type": "code",
   "execution_count": null,
   "id": "8070f841",
   "metadata": {},
   "outputs": [
    {
     "name": "stdout",
     "output_type": "stream",
     "text": [
      "5\n",
      "()()\n",
      "(\n",
      "(\n"
     ]
    }
   ],
   "source": [
    "t = int(input())\n",
    "\n",
    "for _ in range(t) :\n",
    "    bracket = input()\n",
    "    stk = []\n",
    "    correct = True\n",
    "    \n",
    "#     for b in bracket :\n",
    "#         if (b == '(') or (b == '{') or (b == '[') :\n",
    "#             stk.append(b)\n",
    "#         elif (b == ')') or (b == '}') or (b == ']'):\n",
    "#             stk.pop()\n",
    "\n",
    "\n",
    "    for b in bracket :\n",
    "        if b == '(' :\n",
    "            stk.append(b)\n",
    "            \n",
    "        else :\n",
    "            if \n",
    "            \n",
    "            \n",
    "            \n",
    "            \n",
    "#     if stk == [] :\n",
    "#         print('YES')\n",
    "#     else :\n",
    "#         print('NO')\n",
    "            \n",
    "#     print(stk)\n",
    "            \n",
    "            \n",
    "#         elif :\n",
    "#         elif :\n",
    "        \n",
    "#     if :\n",
    "#         correct = True\n",
    "    \n",
    "#     if :\n",
    "#         print('YES')\n",
    "#     else :\n",
    "#         print('NO')\n",
    "        "
   ]
  },
  {
   "cell_type": "code",
   "execution_count": null,
   "id": "ccf13cc2",
   "metadata": {},
   "outputs": [],
   "source": []
  },
  {
   "cell_type": "code",
   "execution_count": null,
   "id": "4c09f62b",
   "metadata": {},
   "outputs": [],
   "source": []
  },
  {
   "cell_type": "code",
   "execution_count": null,
   "id": "b574874e",
   "metadata": {},
   "outputs": [],
   "source": []
  },
  {
   "cell_type": "code",
   "execution_count": null,
   "id": "867a113c",
   "metadata": {},
   "outputs": [],
   "source": []
  },
  {
   "cell_type": "code",
   "execution_count": null,
   "id": "eb59a70e",
   "metadata": {},
   "outputs": [],
   "source": []
  },
  {
   "cell_type": "code",
   "execution_count": null,
   "id": "c92b2ef7",
   "metadata": {},
   "outputs": [],
   "source": []
  },
  {
   "cell_type": "code",
   "execution_count": null,
   "id": "ffc3b594",
   "metadata": {},
   "outputs": [],
   "source": []
  },
  {
   "cell_type": "code",
   "execution_count": null,
   "id": "2468b804",
   "metadata": {},
   "outputs": [],
   "source": []
  },
  {
   "cell_type": "code",
   "execution_count": null,
   "id": "ec004bed",
   "metadata": {},
   "outputs": [],
   "source": []
  }
 ],
 "metadata": {
  "kernelspec": {
   "display_name": "Python 3 (ipykernel)",
   "language": "python",
   "name": "python3"
  },
  "language_info": {
   "codemirror_mode": {
    "name": "ipython",
    "version": 3
   },
   "file_extension": ".py",
   "mimetype": "text/x-python",
   "name": "python",
   "nbconvert_exporter": "python",
   "pygments_lexer": "ipython3",
   "version": "3.8.13"
  }
 },
 "nbformat": 4,
 "nbformat_minor": 5
}
