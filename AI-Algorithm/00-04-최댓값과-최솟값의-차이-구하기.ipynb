{
 "cells": [
  {
   "cell_type": "code",
   "execution_count": 5,
   "id": "92c187a3",
   "metadata": {},
   "outputs": [
    {
     "name": "stdout",
     "output_type": "stream",
     "text": [
      "3\n",
      "10 37 19 48 2 5\n",
      "-5 -5 -5 -5 -5 -5 -5 -5\n",
      "1 2 3 4 5 6 5 4 3 2 1 0 -1 99 100 -20\n",
      "46\n",
      "0\n",
      "120\n"
     ]
    }
   ],
   "source": [
    "t = int(input())\n",
    "answers = []\n",
    "\n",
    "for i in range(t) :\n",
    "    nums = list(map(int, input().split()))\n",
    "    nums.sort()\n",
    "    answer = nums[-1] - nums[0]\n",
    "    answers.append(answer)\n",
    "\n",
    "for answer in answers :\n",
    "    print(answer)"
   ]
  }
 ],
 "metadata": {
  "kernelspec": {
   "display_name": "Python 3 (ipykernel)",
   "language": "python",
   "name": "python3"
  },
  "language_info": {
   "codemirror_mode": {
    "name": "ipython",
    "version": 3
   },
   "file_extension": ".py",
   "mimetype": "text/x-python",
   "name": "python",
   "nbconvert_exporter": "python",
   "pygments_lexer": "ipython3",
   "version": "3.8.13"
  }
 },
 "nbformat": 4,
 "nbformat_minor": 5
}
