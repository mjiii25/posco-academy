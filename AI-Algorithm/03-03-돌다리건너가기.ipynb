{
 "cells": [
  {
   "cell_type": "code",
   "execution_count": 4,
   "id": "f35de627",
   "metadata": {},
   "outputs": [
    {
     "name": "stdout",
     "output_type": "stream",
     "text": [
      "7\n",
      "1\n",
      "1\n",
      "2\n",
      "2\n",
      "3\n",
      "4\n",
      "4\n",
      "7\n",
      "5\n",
      "13\n",
      "10\n",
      "274\n",
      "100\n",
      "782133773\n"
     ]
    }
   ],
   "source": [
    "t = int(input())\n",
    "\n",
    "for _ in range(t) :\n",
    "    N = int(input())              # 돌다리의 개수\n",
    "    T= [0] * (N + 1)\n",
    "    for i in range(1, N + 1) :\n",
    "        if i == 1 :\n",
    "            T[i] = 1\n",
    "        elif i == 2 :\n",
    "            T[i] = 2\n",
    "        elif  i == 3:\n",
    "            T[i] = 4\n",
    "        else :\n",
    "            T[i] = T[i-1] + T[i-2] + T[i-3]\n",
    "    print(T[i] % 1904101441)"
   ]
  }
 ],
 "metadata": {
  "kernelspec": {
   "display_name": "Python 3 (ipykernel)",
   "language": "python",
   "name": "python3"
  },
  "language_info": {
   "codemirror_mode": {
    "name": "ipython",
    "version": 3
   },
   "file_extension": ".py",
   "mimetype": "text/x-python",
   "name": "python",
   "nbconvert_exporter": "python",
   "pygments_lexer": "ipython3",
   "version": "3.8.13"
  }
 },
 "nbformat": 4,
 "nbformat_minor": 5
}
