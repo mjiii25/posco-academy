{
 "cells": [
  {
   "cell_type": "code",
   "execution_count": null,
   "id": "b1d529bf",
   "metadata": {},
   "outputs": [],
   "source": [
    "t = int(input())\n",
    "\n",
    "for _ in range(t) :\n",
    "    N, M = map()"
   ]
  },
  {
   "cell_type": "code",
   "execution_count": null,
   "id": "e413e621",
   "metadata": {},
   "outputs": [],
   "source": [
    "Check = [False] * N\n",
    "Stack = [0]\n",
    "\n",
    "while Stack :"
   ]
  },
  {
   "cell_type": "code",
   "execution_count": null,
   "id": "26238311",
   "metadata": {},
   "outputs": [],
   "source": [
    "# 재귀\n",
    "\n",
    "import os\n",
    "sys.setrecursionlimit(1000000)\n",
    "\n",
    "def DFS(v, List, Check) :\n",
    "    print(v, end = ' ')\n",
    "    Check[v] = True\n",
    "    for i in List[v] :\n",
    "        if Check[i] == False :\n",
    "            DFS(i, List, Check)\n",
    "            \n",
    "t = int(input())\n",
    "for _ in range(t) :\n",
    "    N, M = map(int, input().split())\n",
    "    List = [[] for _ in range(N)]\n",
    "    for i in range(M) :\n",
    "        u, v = map(int, input().split())\n",
    "        List[u].append(v)\n",
    "        List[v].append(u)\n",
    "    for i in range(N) :\n",
    "        List[i].sort()\n",
    "        \n",
    "    Check = [False] * N\n",
    "    DFS(0, List, Check)\n",
    "    print('')"
   ]
  },
  {
   "cell_type": "code",
   "execution_count": null,
   "id": "a4649679",
   "metadata": {},
   "outputs": [],
   "source": []
  },
  {
   "cell_type": "code",
   "execution_count": null,
   "id": "f46b34fd",
   "metadata": {},
   "outputs": [],
   "source": []
  },
  {
   "cell_type": "code",
   "execution_count": null,
   "id": "5c66a3e3",
   "metadata": {},
   "outputs": [],
   "source": []
  },
  {
   "cell_type": "code",
   "execution_count": null,
   "id": "7c2d7abc",
   "metadata": {},
   "outputs": [],
   "source": []
  },
  {
   "cell_type": "code",
   "execution_count": null,
   "id": "7e3fdb86",
   "metadata": {},
   "outputs": [],
   "source": []
  },
  {
   "cell_type": "code",
   "execution_count": null,
   "id": "777f7229",
   "metadata": {},
   "outputs": [],
   "source": []
  },
  {
   "cell_type": "code",
   "execution_count": null,
   "id": "654ed297",
   "metadata": {},
   "outputs": [],
   "source": []
  },
  {
   "cell_type": "code",
   "execution_count": null,
   "id": "e4858755",
   "metadata": {},
   "outputs": [],
   "source": []
  },
  {
   "cell_type": "code",
   "execution_count": null,
   "id": "41805659",
   "metadata": {},
   "outputs": [],
   "source": []
  },
  {
   "cell_type": "code",
   "execution_count": null,
   "id": "c9d3ee6a",
   "metadata": {},
   "outputs": [],
   "source": []
  },
  {
   "cell_type": "code",
   "execution_count": null,
   "id": "fee972be",
   "metadata": {},
   "outputs": [],
   "source": []
  },
  {
   "cell_type": "code",
   "execution_count": null,
   "id": "11df6468",
   "metadata": {},
   "outputs": [],
   "source": []
  },
  {
   "cell_type": "code",
   "execution_count": null,
   "id": "7990c99c",
   "metadata": {},
   "outputs": [],
   "source": []
  }
 ],
 "metadata": {
  "kernelspec": {
   "display_name": "Python 3 (ipykernel)",
   "language": "python",
   "name": "python3"
  },
  "language_info": {
   "codemirror_mode": {
    "name": "ipython",
    "version": 3
   },
   "file_extension": ".py",
   "mimetype": "text/x-python",
   "name": "python",
   "nbconvert_exporter": "python",
   "pygments_lexer": "ipython3",
   "version": "3.8.13"
  }
 },
 "nbformat": 4,
 "nbformat_minor": 5
}
