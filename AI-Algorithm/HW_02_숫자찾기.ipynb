{
  "nbformat": 4,
  "nbformat_minor": 0,
  "metadata": {
    "colab": {
      "provenance": [],
      "authorship_tag": "ABX9TyNgsAyWNreYW1u8Md1MJej4",
      "include_colab_link": true
    },
    "kernelspec": {
      "name": "python3",
      "display_name": "Python 3"
    },
    "language_info": {
      "name": "python"
    }
  },
  "cells": [
    {
      "cell_type": "markdown",
      "metadata": {
        "id": "view-in-github",
        "colab_type": "text"
      },
      "source": [
        "<a href=\"https://colab.research.google.com/github/mjiii25/posco-academy/blob/main/AI-Algorithm/HW_02_%EC%88%AB%EC%9E%90%EC%B0%BE%EA%B8%B0.ipynb\" target=\"_parent\"><img src=\"https://colab.research.google.com/assets/colab-badge.svg\" alt=\"Open In Colab\"/></a>"
      ]
    },
    {
      "cell_type": "code",
      "execution_count": 15,
      "metadata": {
        "colab": {
          "base_uri": "https://localhost:8080/"
        },
        "id": "RT6D3xzW-OZI",
        "outputId": "6e397f09-1759-472e-ea1c-0e70d31f3cf7"
      },
      "outputs": [
        {
          "output_type": "stream",
          "name": "stdout",
          "text": [
            "6\n",
            "1 3 5 7 9\n",
            "1 8 17\n",
            "1\n",
            "1 3 5 7 9\n",
            "1 3 5 7 9\n",
            "5\n",
            "2 2 2 1 2 4\n",
            "2 1\n",
            "5\n",
            "8 8 5 4 1 1 1 2 45 99 1200 1201\n",
            "3 6 9 3 6 9\n",
            "0\n",
            "1 2 3 4 5 5 4 3 2 1\n",
            "32 16 8 4 2 1\n",
            "6\n",
            "1358 5191 5497 1759 4178 4584 7174 9187 4195 5417 9147 9417 5951 4781 4587 1891 8294 7197 1479 2497 1479 3457 8145 5781\n",
            "1479 1497 1947 1749 1794 1974 4179 4197 4719 4791 4917 4971\n",
            "2\n"
          ]
        }
      ],
      "source": [
        "# HW-02-숫자찾기\n",
        "\n",
        "t = int(input())\n",
        "\n",
        "for _ in range(t) :\n",
        "    n = list(map(int, input().split()))           # 숫자 리스트\n",
        "    m = list(map(int, input().split()))           # 찾고자 하는 쿼리\n",
        "    num_dict = {}\n",
        "    cnt = 0\n",
        "\n",
        "    for i in m :\n",
        "        num_dict[i] = 0\n",
        "    \n",
        "    for j in n :\n",
        "        if j in num_dict.keys() :\n",
        "            num_dict[j] += 1\n",
        "    \n",
        "    for k in num_dict.keys() :\n",
        "        cnt += num_dict[k]\n",
        "\n",
        "\n",
        "    print(cnt)\n"
      ]
    },
    {
      "cell_type": "code",
      "source": [
        "\n",
        "\n"
      ],
      "metadata": {
        "id": "Ez9p6e3gAJ-U"
      },
      "execution_count": null,
      "outputs": []
    }
  ]
}