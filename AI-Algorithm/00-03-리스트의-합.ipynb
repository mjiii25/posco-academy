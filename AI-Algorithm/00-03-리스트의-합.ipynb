{
 "cells": [
  {
   "cell_type": "code",
   "execution_count": 12,
   "id": "2ab9442f",
   "metadata": {},
   "outputs": [
    {
     "name": "stdout",
     "output_type": "stream",
     "text": [
      "3\n",
      "1 5 9 11 12\n",
      "0 1 0 2 0 3 0 4 0 5\n",
      "100 120 -20 -30\n",
      "38\n",
      "15\n",
      "170\n"
     ]
    }
   ],
   "source": [
    "t = int(input())\n",
    "\n",
    "answer = 0\n",
    "answers = []\n",
    "\n",
    "for i in range(t) :\n",
    "    a, *b = map(int, input().split())\n",
    "    answer += a\n",
    "    \n",
    "    for i in b :\n",
    "        answer += i\n",
    "        \n",
    "    answers.append(answer)\n",
    "    answer = 0\n",
    "\n",
    "\n",
    "for answer in answers :\n",
    "    print(answer)\n",
    "    "
   ]
  }
 ],
 "metadata": {
  "kernelspec": {
   "display_name": "Python 3 (ipykernel)",
   "language": "python",
   "name": "python3"
  },
  "language_info": {
   "codemirror_mode": {
    "name": "ipython",
    "version": 3
   },
   "file_extension": ".py",
   "mimetype": "text/x-python",
   "name": "python",
   "nbconvert_exporter": "python",
   "pygments_lexer": "ipython3",
   "version": "3.8.13"
  }
 },
 "nbformat": 4,
 "nbformat_minor": 5
}
