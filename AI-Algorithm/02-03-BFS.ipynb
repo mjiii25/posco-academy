{
 "cells": [
  {
   "cell_type": "code",
   "execution_count": null,
   "id": "c5f52bd2",
   "metadata": {},
   "outputs": [],
   "source": [
    "t = int(input())\n",
    "\n",
    "for _ in range(t) :\n",
    "    N, M = map(int, input().split())\n",
    "    visited = [False] * N\n",
    "    \n",
    "    for _ in range(M) :\n",
    "        u, v = map(int, input().split())\n",
    "        \n",
    "        "
   ]
  },
  {
   "cell_type": "code",
   "execution_count": 10,
   "id": "49a4f473",
   "metadata": {},
   "outputs": [
    {
     "name": "stdout",
     "output_type": "stream",
     "text": [
      "3\n",
      "4 4\n",
      "0 1\n",
      "0 3\n",
      "1 2\n",
      "1 3\n",
      "0 1 3 2 \n",
      "5 7\n",
      "0 1\n",
      "0 2\n",
      "0 4\n",
      "1 3\n",
      "1 4\n",
      "2 4\n",
      "3 4\n",
      "0 1 2 4 3 \n",
      "6 5\n",
      "0 5\n",
      "5 4\n",
      "1 4\n",
      "1 3\n",
      "2 3\n",
      "0 5 4 \n"
     ]
    }
   ],
   "source": [
    "# 모범답안\n",
    "\n",
    "from collections import deque\n",
    "\n",
    "t = int(input())\n",
    "\n",
    "for _ in range(t) :\n",
    "    N, M = map(int, input().split())\n",
    "    lst = [[] for _ in range(N)]\n",
    "    \n",
    "    for i in range(M) :\n",
    "        u, v = map(int, input().split())\n",
    "        lst[u].append(v)\n",
    "        \n",
    "    for i in range(N) :\n",
    "        lst[i].sort()\n",
    "        \n",
    "    Check = [False] * N\n",
    "    Queue = deque([0])\n",
    "    \n",
    "    \n",
    "    while Queue :\n",
    "        v = Queue.popleft()\n",
    "        if Check[v] == True :\n",
    "            continue\n",
    "        Check[v] = True\n",
    "        print(v, end = ' ')\n",
    "        \n",
    "        for i in lst[v] :\n",
    "            if Check[i] == False :\n",
    "                Queue.append(i)\n",
    "                \n",
    "    print('')"
   ]
  },
  {
   "cell_type": "code",
   "execution_count": 5,
   "id": "58bfde3f",
   "metadata": {},
   "outputs": [
    {
     "name": "stdout",
     "output_type": "stream",
     "text": [
      "3\n",
      "4 4\n",
      "0 1 \n",
      "0 1 \n",
      "0\n"
     ]
    },
    {
     "ename": "ValueError",
     "evalue": "not enough values to unpack (expected 2, got 1)",
     "output_type": "error",
     "traceback": [
      "\u001b[0;31m---------------------------------------------------------------------------\u001b[0m",
      "\u001b[0;31mValueError\u001b[0m                                Traceback (most recent call last)",
      "Input \u001b[0;32mIn [5]\u001b[0m, in \u001b[0;36m<cell line: 5>\u001b[0;34m()\u001b[0m\n\u001b[1;32m      7\u001b[0m lst \u001b[38;5;241m=\u001b[39m [[] \u001b[38;5;241m*\u001b[39m N \u001b[38;5;28;01mfor\u001b[39;00m _ \u001b[38;5;129;01min\u001b[39;00m \u001b[38;5;28mrange\u001b[39m(N)]\n\u001b[1;32m      9\u001b[0m \u001b[38;5;28;01mfor\u001b[39;00m _ \u001b[38;5;129;01min\u001b[39;00m \u001b[38;5;28mrange\u001b[39m(M) :\n\u001b[0;32m---> 10\u001b[0m     u, v \u001b[38;5;241m=\u001b[39m \u001b[38;5;28mmap\u001b[39m(\u001b[38;5;28mint\u001b[39m, \u001b[38;5;28minput\u001b[39m()\u001b[38;5;241m.\u001b[39msplit())\n\u001b[1;32m     11\u001b[0m     lst[u]\u001b[38;5;241m.\u001b[39mappend(v)\n\u001b[1;32m     13\u001b[0m     \u001b[38;5;28;01mfor\u001b[39;00m i \u001b[38;5;129;01min\u001b[39;00m \u001b[38;5;28mrange\u001b[39m(N) :\n",
      "\u001b[0;31mValueError\u001b[0m: not enough values to unpack (expected 2, got 1)"
     ]
    }
   ],
   "source": [
    "from collections import deque\n",
    "\n",
    "t = int(input())\n",
    "\n",
    "for _ in range(t) :\n",
    "    N, M = map(int, input().split())\n",
    "    lst = [[] * N for _ in range(N)]\n",
    "    \n",
    "    for _ in range(M) :\n",
    "        u, v = map(int, input().split())\n",
    "        lst[u].append(v)\n",
    "        \n",
    "        for i in range(N) :\n",
    "            lst[i].sort()\n",
    "            \n",
    "            \n",
    "        Check = [False] * N\n",
    "        Queue = deque([0])\n",
    "        \n",
    "        while Queue :\n",
    "            v = Queue.popleft()\n",
    "            if Check[v] == True :\n",
    "                continue\n",
    "            Check[v] = True\n",
    "            print(v, end = ' ')\n",
    "            \n",
    "            for i in lst[v] :\n",
    "                if Check[i] == False :\n",
    "                    Queue.append(i)\n",
    "                    \n",
    "        print('')\n",
    "        \n",
    "   "
   ]
  },
  {
   "cell_type": "code",
   "execution_count": 4,
   "id": "285ff73f",
   "metadata": {},
   "outputs": [
    {
     "data": {
      "text/plain": [
       "deque([0])"
      ]
     },
     "execution_count": 4,
     "metadata": {},
     "output_type": "execute_result"
    }
   ],
   "source": [
    "from collections import deque\n",
    "\n",
    "deque([0])"
   ]
  },
  {
   "cell_type": "code",
   "execution_count": null,
   "id": "1b45c01f",
   "metadata": {},
   "outputs": [],
   "source": []
  },
  {
   "cell_type": "code",
   "execution_count": null,
   "id": "0fe5913c",
   "metadata": {},
   "outputs": [],
   "source": []
  },
  {
   "cell_type": "code",
   "execution_count": null,
   "id": "85526663",
   "metadata": {},
   "outputs": [],
   "source": []
  },
  {
   "cell_type": "code",
   "execution_count": null,
   "id": "361f9f8f",
   "metadata": {},
   "outputs": [],
   "source": []
  },
  {
   "cell_type": "code",
   "execution_count": null,
   "id": "a9708d08",
   "metadata": {},
   "outputs": [],
   "source": []
  },
  {
   "cell_type": "code",
   "execution_count": null,
   "id": "69f8ee55",
   "metadata": {},
   "outputs": [],
   "source": []
  },
  {
   "cell_type": "code",
   "execution_count": null,
   "id": "c0beebeb",
   "metadata": {},
   "outputs": [],
   "source": []
  },
  {
   "cell_type": "code",
   "execution_count": null,
   "id": "47ecb216",
   "metadata": {},
   "outputs": [],
   "source": []
  },
  {
   "cell_type": "code",
   "execution_count": null,
   "id": "69b012d8",
   "metadata": {},
   "outputs": [],
   "source": []
  },
  {
   "cell_type": "code",
   "execution_count": null,
   "id": "62e8ed71",
   "metadata": {},
   "outputs": [],
   "source": []
  }
 ],
 "metadata": {
  "kernelspec": {
   "display_name": "Python 3 (ipykernel)",
   "language": "python",
   "name": "python3"
  },
  "language_info": {
   "codemirror_mode": {
    "name": "ipython",
    "version": 3
   },
   "file_extension": ".py",
   "mimetype": "text/x-python",
   "name": "python",
   "nbconvert_exporter": "python",
   "pygments_lexer": "ipython3",
   "version": "3.8.13"
  }
 },
 "nbformat": 4,
 "nbformat_minor": 5
}
