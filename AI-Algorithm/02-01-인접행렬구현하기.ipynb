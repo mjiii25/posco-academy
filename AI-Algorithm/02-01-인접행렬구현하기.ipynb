{
 "cells": [
  {
   "cell_type": "code",
   "execution_count": 27,
   "id": "eb3cef55",
   "metadata": {},
   "outputs": [
    {
     "name": "stdout",
     "output_type": "stream",
     "text": [
      "2\n",
      "4 6\n",
      "0 1 3\n",
      "0 3 7\n",
      "1 2 2\n",
      "1 3 5\n",
      "2 0 3\n",
      "3 2 3\n",
      "0 3 0 7\n",
      "0 0 2 5\n",
      "3 0 0 0\n",
      "0 0 3 0\n",
      "5 10\n",
      "0 1 1\n",
      "0 2 1\n",
      "0 4 1\n",
      "1 0 1\n",
      "1 3 2\n",
      "1 4 1\n",
      "2 4 1\n",
      "2 4 1\n",
      "3 4 1\n",
      "4 1 1\n",
      "0 1 1 0 1\n",
      "1 0 0 2 1\n",
      "0 0 0 0 1\n",
      "0 0 0 0 1\n",
      "0 1 0 0 0\n"
     ]
    }
   ],
   "source": [
    "t = int(input())\n",
    "\n",
    "for _ in range(t) :\n",
    "    N, M = map(int, input().split())\n",
    "    mat = [[0]*N for _ in range(N)]\n",
    "    \n",
    "    for _ in range(M) :\n",
    "        u, v, c = map(int, input().split())        \n",
    "        mat[u][v] = c\n",
    "    \n",
    "    for i in range(N) :\n",
    "        print(*mat[i])\n",
    "        "
   ]
  }
 ],
 "metadata": {
  "kernelspec": {
   "display_name": "Python 3 (ipykernel)",
   "language": "python",
   "name": "python3"
  },
  "language_info": {
   "codemirror_mode": {
    "name": "ipython",
    "version": 3
   },
   "file_extension": ".py",
   "mimetype": "text/x-python",
   "name": "python",
   "nbconvert_exporter": "python",
   "pygments_lexer": "ipython3",
   "version": "3.8.13"
  }
 },
 "nbformat": 4,
 "nbformat_minor": 5
}
