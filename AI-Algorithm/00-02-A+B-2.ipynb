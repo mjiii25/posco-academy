{
 "cells": [
  {
   "cell_type": "code",
   "execution_count": 4,
   "id": "68a5e701",
   "metadata": {},
   "outputs": [
    {
     "name": "stdout",
     "output_type": "stream",
     "text": [
      "4\n",
      "1 1\n",
      "1000 100000\n",
      "-300 299\n",
      "961231 920913\n",
      "2\n",
      "101000\n",
      "-1\n",
      "1882144\n"
     ]
    }
   ],
   "source": [
    "t = int(input())\n",
    "\n",
    "answers = []\n",
    "\n",
    "for i in range(t) :\n",
    "    a, b = map(int, input().split())\n",
    "    answer = a + b\n",
    "    answers.append(answer)\n",
    "    \n",
    "for answer in answers :\n",
    "    print(answer)"
   ]
  },
  {
   "cell_type": "code",
   "execution_count": null,
   "id": "9a03e460",
   "metadata": {},
   "outputs": [
    {
     "name": "stdout",
     "output_type": "stream",
     "text": [
      "4\n",
      "1 1\n",
      "2\n"
     ]
    }
   ],
   "source": [
    "# 모범답안\n",
    "\n",
    "t = int(input())\n",
    "\n",
    "for _ in range(t) :\n",
    "    a, b= map(int, input().split())\n",
    "    print(a + b)"
   ]
  },
  {
   "cell_type": "code",
   "execution_count": null,
   "id": "8378236b",
   "metadata": {},
   "outputs": [],
   "source": []
  }
 ],
 "metadata": {
  "kernelspec": {
   "display_name": "Python 3 (ipykernel)",
   "language": "python",
   "name": "python3"
  },
  "language_info": {
   "codemirror_mode": {
    "name": "ipython",
    "version": 3
   },
   "file_extension": ".py",
   "mimetype": "text/x-python",
   "name": "python",
   "nbconvert_exporter": "python",
   "pygments_lexer": "ipython3",
   "version": "3.8.13"
  }
 },
 "nbformat": 4,
 "nbformat_minor": 5
}
