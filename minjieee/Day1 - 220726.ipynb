{
 "cells": [
  {
   "cell_type": "markdown",
   "id": "24a15e0a",
   "metadata": {},
   "source": [
    "## 파이썬 프로그래밍 기초 실습 1-1\n",
    "#### C반 1조 성민지\n",
    "---------------------------------"
   ]
  },
  {
   "cell_type": "markdown",
   "id": "55c0dedf",
   "metadata": {},
   "source": [
    "### (문제 1)\n"
   ]
  },
  {
   "cell_type": "code",
   "execution_count": 49,
   "id": "d75a7d5f",
   "metadata": {},
   "outputs": [
    {
     "name": "stdout",
     "output_type": "stream",
     "text": [
      "화씨온도를 입력해주세요. : 100\n",
      "화씨온도:  100\n",
      "섭씨온도:  37.77777777777778\n"
     ]
    }
   ],
   "source": [
    "F = int(input(\"화씨온도를 입력해주세요. : \"))\n",
    "C = (F - 32) * 5 / 9\n",
    "\n",
    "print(\"화씨온도: \", F)\n",
    "print(\"섭씨온도: \", C)"
   ]
  },
  {
   "cell_type": "markdown",
   "id": "357d92ea",
   "metadata": {},
   "source": [
    "### (문제 2)"
   ]
  },
  {
   "cell_type": "code",
   "execution_count": 56,
   "id": "77e5721c",
   "metadata": {},
   "outputs": [
    {
     "name": "stdout",
     "output_type": "stream",
     "text": [
      "투입한 돈: 5000\n",
      "물건값: 2700\n",
      "거스름돈:  2300\n",
      "500원짜리:  4 개\n",
      "100원짜리:  3 개\n"
     ]
    }
   ],
   "source": [
    "money = int(input(\"투입한 돈: \"))\n",
    "cost = int(input(\"물건값: \"))\n",
    "\n",
    "change_sum = money - cost\n",
    "change500 = change_sum // 500\n",
    "change_sum2 = change_sum - change500 * 500\n",
    "change100 = change_sum2 // 100\n",
    "\n",
    "print(\"거스름돈: \", change_sum)\n",
    "print(\"500원짜리: \", change500, \"개\")\n",
    "print(\"100원짜리: \", change100, \"개\")"
   ]
  },
  {
   "cell_type": "markdown",
   "id": "3276af73",
   "metadata": {},
   "source": [
    "### (문제 3)"
   ]
  },
  {
   "cell_type": "code",
   "execution_count": 59,
   "id": "8ec09784",
   "metadata": {},
   "outputs": [
    {
     "name": "stdout",
     "output_type": "stream",
     "text": [
      "반지름을 입력하시오: 5\n",
      "원 둘레:  31.42\n",
      "원 넓이:  78.54\n"
     ]
    }
   ],
   "source": [
    "r = int(input(\"반지름을 입력하시오: \"))\n",
    "\n",
    "pi = 3.141592\n",
    "length = 2 * pi * r\n",
    "width = pi * (r ** 2)\n",
    "\n",
    "print(\"원 둘레: \", round(length, 2))\n",
    "print(\"원 넓이: \", round(width, 2))"
   ]
  }
 ],
 "metadata": {
  "kernelspec": {
   "display_name": "Python 3 (ipykernel)",
   "language": "python",
   "name": "python3"
  },
  "language_info": {
   "codemirror_mode": {
    "name": "ipython",
    "version": 3
   },
   "file_extension": ".py",
   "mimetype": "text/x-python",
   "name": "python",
   "nbconvert_exporter": "python",
   "pygments_lexer": "ipython3",
   "version": "3.9.12"
  }
 },
 "nbformat": 4,
 "nbformat_minor": 5
}
