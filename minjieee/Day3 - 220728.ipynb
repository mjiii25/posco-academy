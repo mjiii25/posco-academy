{
 "cells": [
  {
   "cell_type": "markdown",
   "id": "ecc2f8a7",
   "metadata": {},
   "source": [
    "# Day03 - 22/07/25"
   ]
  },
  {
   "cell_type": "markdown",
   "id": "e2ed3c59",
   "metadata": {},
   "source": [
    "## 튜플(tuple)"
   ]
  },
  {
   "cell_type": "code",
   "execution_count": 3,
   "id": "09af476a",
   "metadata": {},
   "outputs": [
    {
     "name": "stdout",
     "output_type": "stream",
     "text": [
      "<class 'tuple'>\n",
      "<class 'tuple'>\n",
      "<class 'tuple'>\n",
      "<class 'int'>\n"
     ]
    }
   ],
   "source": [
    "t1 = ()\n",
    "t2 = tuple()\n",
    "t3 = (100,)       # ,를 추가하여 튜플임을 표시함\n",
    "t4 = (100)\n",
    "\n",
    "print(type(t1))\n",
    "print(type(t2))\n",
    "print(type(t3))\n",
    "print(type(t4))"
   ]
  },
  {
   "cell_type": "code",
   "execution_count": 5,
   "id": "e83437d2",
   "metadata": {},
   "outputs": [
    {
     "name": "stdout",
     "output_type": "stream",
     "text": [
      "1\n",
      "(1, 2, 3)\n",
      "(5, 6)\n"
     ]
    }
   ],
   "source": [
    "t = (1, 2, 3, 4, 5, 6)\n",
    "\n",
    "print(t[0])\n",
    "print(t[:3])\n",
    "print(t[4:6])"
   ]
  },
  {
   "cell_type": "markdown",
   "id": "d6d3b6fd",
   "metadata": {},
   "source": [
    "* 튜플의 인덱싱은 0이 아닌 1부터 시작함"
   ]
  },
  {
   "cell_type": "code",
   "execution_count": 7,
   "id": "cb69b9e6",
   "metadata": {},
   "outputs": [
    {
     "ename": "TypeError",
     "evalue": "'tuple' object does not support item assignment",
     "output_type": "error",
     "traceback": [
      "\u001b[0;31m---------------------------------------------------------------------------\u001b[0m",
      "\u001b[0;31mTypeError\u001b[0m                                 Traceback (most recent call last)",
      "Input \u001b[0;32mIn [7]\u001b[0m, in \u001b[0;36m<cell line: 3>\u001b[0;34m()\u001b[0m\n\u001b[1;32m      1\u001b[0m t \u001b[38;5;241m=\u001b[39m (\u001b[38;5;241m1\u001b[39m, \u001b[38;5;241m2\u001b[39m, \u001b[38;5;241m3\u001b[39m, \u001b[38;5;241m4\u001b[39m, \u001b[38;5;241m5\u001b[39m, \u001b[38;5;241m6\u001b[39m)\n\u001b[0;32m----> 3\u001b[0m t[\u001b[38;5;241m0\u001b[39m] \u001b[38;5;241m=\u001b[39m \u001b[38;5;241m7\u001b[39m\n",
      "\u001b[0;31mTypeError\u001b[0m: 'tuple' object does not support item assignment"
     ]
    }
   ],
   "source": [
    "# 튜플은 원소값을 수정할 수 없음 (리스트와 가장 큰 차이점)\n",
    "\n",
    "t = (1, 2, 3, 4, 5, 6)\n",
    "\n",
    "t[0] = 7"
   ]
  },
  {
   "cell_type": "markdown",
   "id": "7e054605",
   "metadata": {},
   "source": [
    "#### 튜플 패킹, 언패킹"
   ]
  },
  {
   "cell_type": "code",
   "execution_count": 8,
   "id": "08925551",
   "metadata": {},
   "outputs": [
    {
     "name": "stdout",
     "output_type": "stream",
     "text": [
      "(1, 2, 3)\n"
     ]
    }
   ],
   "source": [
    "# 패킹\n",
    "\n",
    "a = 1, 2, 3\n",
    "print(a)"
   ]
  },
  {
   "cell_type": "code",
   "execution_count": 9,
   "id": "4e0d24ea",
   "metadata": {},
   "outputs": [
    {
     "name": "stdout",
     "output_type": "stream",
     "text": [
      "1 2 3\n"
     ]
    }
   ],
   "source": [
    "# 언패킹\n",
    "\n",
    "one, two, three = a\n",
    "print(one, two, three)"
   ]
  },
  {
   "cell_type": "code",
   "execution_count": 10,
   "id": "bd6aee67",
   "metadata": {},
   "outputs": [
    {
     "name": "stdout",
     "output_type": "stream",
     "text": [
      "0\n",
      "1\n"
     ]
    }
   ],
   "source": [
    "# 값의 위치\n",
    "print(a.index(1))\n",
    "\n",
    "# 값과 일치하는 요소의 개수\n",
    "print(a.count(1))"
   ]
  },
  {
   "cell_type": "markdown",
   "id": "c36e08ef",
   "metadata": {},
   "source": [
    "---\n",
    "## 집합(set)\n",
    "- 순서없음\n",
    "- 중복 안 됨"
   ]
  },
  {
   "cell_type": "code",
   "execution_count": 13,
   "id": "8f9b22ad",
   "metadata": {},
   "outputs": [
    {
     "name": "stdout",
     "output_type": "stream",
     "text": [
      "{1, 2, 3} <class 'set'>\n",
      "{1, 2, 3} <class 'set'>\n"
     ]
    }
   ],
   "source": [
    "s1 = {1, 2, 3}\n",
    "s2 = set([1, 2, 3])\n",
    "\n",
    "print(s1, type(s1))\n",
    "print(s2, type(s2))"
   ]
  },
  {
   "cell_type": "code",
   "execution_count": 14,
   "id": "c633dcc4",
   "metadata": {},
   "outputs": [
    {
     "name": "stdout",
     "output_type": "stream",
     "text": [
      "{1, 2, 3, 4, 5}\n"
     ]
    }
   ],
   "source": [
    "s = {1, 2, 3, 4, 5, 3, 4}\n",
    "print(s)"
   ]
  },
  {
   "cell_type": "markdown",
   "id": "cb32b270",
   "metadata": {},
   "source": [
    "#### 집합 관련 함수"
   ]
  },
  {
   "cell_type": "code",
   "execution_count": 15,
   "id": "6ecf3563",
   "metadata": {},
   "outputs": [
    {
     "name": "stdout",
     "output_type": "stream",
     "text": [
      "전 :  {1, 2, 3, 4, 5}\n",
      "후 :  {1, 2, 3, 4, 5, 10}\n"
     ]
    }
   ],
   "source": [
    "s = {1, 2, 3, 4, 5, 3, 4}\n",
    "print(\"전 : \", s)\n",
    "\n",
    "s.add(10)\n",
    "print(\"후 : \", s)"
   ]
  },
  {
   "cell_type": "code",
   "execution_count": 16,
   "id": "4f368e5f",
   "metadata": {},
   "outputs": [
    {
     "name": "stdout",
     "output_type": "stream",
     "text": [
      "전 :  {1, 2, 3, 4, 5}\n",
      "후 :  {1, 3, 4, 5}\n"
     ]
    }
   ],
   "source": [
    "s = {1, 2, 3, 4, 5, 3, 4}\n",
    "print(\"전 : \", s)\n",
    "\n",
    "s.remove(2)\n",
    "print(\"후 : \", s)"
   ]
  },
  {
   "cell_type": "code",
   "execution_count": 17,
   "id": "b893d7c7",
   "metadata": {},
   "outputs": [
    {
     "name": "stdout",
     "output_type": "stream",
     "text": [
      "전 :  {1, 2, 3, 4, 5}\n",
      "후 :  {1, 2, 3, 4, 5, 7, 9}\n"
     ]
    }
   ],
   "source": [
    "s = {1, 2, 3, 4, 5, 3, 4}\n",
    "print(\"전 : \", s)\n",
    "\n",
    "s.update([1, 3, 5, 7, 9])\n",
    "print(\"후 : \", s)"
   ]
  },
  {
   "cell_type": "code",
   "execution_count": 18,
   "id": "e02f1926",
   "metadata": {},
   "outputs": [
    {
     "name": "stdout",
     "output_type": "stream",
     "text": [
      "전 :  {1, 2, 3, 4, 5}\n",
      "후 :  {1, 2, 3, 4, 5}\n"
     ]
    }
   ],
   "source": [
    "s = {1, 2, 3, 4, 5, 3, 4}\n",
    "print(\"전 : \", s)\n",
    "\n",
    "s.discard(7)              # 없으면 그대로 출력하라\n",
    "print(\"후 : \", s)"
   ]
  },
  {
   "cell_type": "code",
   "execution_count": 19,
   "id": "4c5e3364",
   "metadata": {},
   "outputs": [
    {
     "name": "stdout",
     "output_type": "stream",
     "text": [
      "전 :  {1, 2, 3, 4, 5}\n",
      "후 :  set()\n"
     ]
    }
   ],
   "source": [
    "s = {1, 2, 3, 4, 5, 3, 4}\n",
    "print(\"전 : \", s)\n",
    "\n",
    "s.clear()\n",
    "print(\"후 : \", s)"
   ]
  },
  {
   "cell_type": "markdown",
   "id": "3c40f885",
   "metadata": {},
   "source": [
    "#### 합집합, 교집합, 차집합"
   ]
  },
  {
   "cell_type": "code",
   "execution_count": 23,
   "id": "b5ebab53",
   "metadata": {},
   "outputs": [
    {
     "name": "stdout",
     "output_type": "stream",
     "text": [
      "합집합1 :  {1, 2, 3, 4, 5}\n",
      "합집합2 :  {1, 2, 3, 4, 5}\n",
      "\n",
      "교집합1 :  {3}\n",
      "교집합2 :  {3}\n",
      "\n",
      "차집합 :  {1, 2}\n"
     ]
    }
   ],
   "source": [
    "s1 = {1, 2, 3}\n",
    "s2 = {3, 4, 5}\n",
    "\n",
    "\n",
    "print(\"합집합1 : \", s1.union(s2))\n",
    "print(\"합집합2 : \", s1 | s2)\n",
    "\n",
    "print(\"\")\n",
    "\n",
    "print(\"교집합1 : \", s1.intersection(s2))\n",
    "print(\"교집합2 : \", s1 & s2)\n",
    "\n",
    "print(\"\")\n",
    "\n",
    "print(\"차집합 : \", s1 - s2)"
   ]
  },
  {
   "cell_type": "code",
   "execution_count": 39,
   "id": "0b2568c2",
   "metadata": {},
   "outputs": [
    {
     "name": "stdout",
     "output_type": "stream",
     "text": [
      "{75, 45, 15, 90, 60, 30}\n",
      "3와 5의 공배수: 6개\n"
     ]
    }
   ],
   "source": [
    "# 집합 - 실습\n",
    "\n",
    "\n",
    "s3 = set()\n",
    "s5 = set()\n",
    "\n",
    "for i in range(1, 101) :\n",
    "    if i % 3 == 0 :\n",
    "        s3.add(i)\n",
    "        \n",
    "for j in range(1, 101) :\n",
    "    if j % 5 == 0 :\n",
    "        s5.add(j)\n",
    "        \n",
    "s = s3 & s5\n",
    "\n",
    "print(s)\n",
    "print(\"%d와 %d의 공배수: %d개\" % (3, 5, len(s)))"
   ]
  },
  {
   "cell_type": "markdown",
   "id": "5d8eb9de",
   "metadata": {},
   "source": [
    "------\n",
    "\n",
    "## 딕셔너리(dictionary)"
   ]
  },
  {
   "cell_type": "code",
   "execution_count": 40,
   "id": "8fa8fcb5",
   "metadata": {},
   "outputs": [
    {
     "name": "stdout",
     "output_type": "stream",
     "text": [
      "10\n"
     ]
    }
   ],
   "source": [
    "d = {'Kim' : 10, 'Park': 3}\n",
    "\n",
    "print(d['Kim'])"
   ]
  },
  {
   "cell_type": "code",
   "execution_count": 41,
   "id": "b93df9a8",
   "metadata": {},
   "outputs": [
    {
     "name": "stdout",
     "output_type": "stream",
     "text": [
      "전 :  {'Kim': 10, 'Park': 3}\n",
      "후 :  {'Kim': 10, 'Park': 3, 'Lee': 7}\n"
     ]
    }
   ],
   "source": [
    "d = {'Kim' : 10, 'Park': 3}\n",
    "print(\"전 : \", d)\n",
    "\n",
    "d['Lee'] = 7\n",
    "print(\"후 : \", d)"
   ]
  },
  {
   "cell_type": "code",
   "execution_count": 46,
   "id": "22de3270",
   "metadata": {},
   "outputs": [
    {
     "name": "stdout",
     "output_type": "stream",
     "text": [
      "d.keys() :  dict_keys(['Kim', 'Park'])\n",
      "d.values() :  dict_values([10, 3])\n",
      "d.items() :  dict_items([('Kim', 10), ('Park', 3)])\n"
     ]
    }
   ],
   "source": [
    "d = {'Kim' : 10, 'Park': 3}\n",
    "\n",
    "print(\"d.keys() : \", d.keys())\n",
    "print(\"d.values() : \", d.values())\n",
    "print(\"d.items() : \", d.items())"
   ]
  },
  {
   "cell_type": "code",
   "execution_count": 49,
   "id": "9d6464e0",
   "metadata": {},
   "outputs": [
    {
     "name": "stdout",
     "output_type": "stream",
     "text": [
      "전 :  {'Kim': 10, 'Park': 3}\n",
      "후 :  {'Park': 3}\n"
     ]
    }
   ],
   "source": [
    "d = {'Kim' : 10, 'Park': 3}\n",
    "print(\"전 : \", d)\n",
    "\n",
    "del d['Kim']\n",
    "print(\"후 : \", d)"
   ]
  },
  {
   "cell_type": "code",
   "execution_count": 51,
   "id": "8899f903",
   "metadata": {},
   "outputs": [
    {
     "name": "stdout",
     "output_type": "stream",
     "text": [
      "전 :  {'Kim': 10, 'Park': 3}\n",
      "후 :  {}\n"
     ]
    }
   ],
   "source": [
    "d = {'Kim' : 10, 'Park': 3}\n",
    "print(\"전 : \", d)\n",
    "\n",
    "d.clear()\n",
    "print(\"후 : \", d)"
   ]
  },
  {
   "cell_type": "code",
   "execution_count": 58,
   "id": "2926e9fe",
   "metadata": {},
   "outputs": [
    {
     "name": "stdout",
     "output_type": "stream",
     "text": [
      "Enter a sentence: Python is fun!\n",
      "{'P': 1, 'y': 1, 't': 1, 'h': 1, 'o': 1, 'n': 2, ' ': 2, 'i': 1, 's': 1, 'f': 1, 'u': 1, '!': 1}\n"
     ]
    }
   ],
   "source": [
    "# 딕셔너리 - 실습\n",
    "\n",
    "\n",
    "\n",
    "sentence = input(\"Enter a sentence: \")\n",
    "sentence_dic = {}\n",
    "\n",
    "\n",
    "\n",
    "for i in sentence :\n",
    "    if i not in sentence_dic :\n",
    "        sentence_dic[i] = 1\n",
    "    else :\n",
    "        sentence_dic[i] += 1\n",
    "\n",
    "        \n",
    "        \n",
    "print(sentence_dic)"
   ]
  },
  {
   "cell_type": "markdown",
   "id": "ca3f1b96",
   "metadata": {},
   "source": [
    "---\n",
    "\n",
    "# 함수와 모듈\n",
    "\n",
    "- 매개변수와 반환값은 없을 수 있음\n",
    "- 반환값은 없더라도 None을 출력함"
   ]
  },
  {
   "cell_type": "code",
   "execution_count": 60,
   "id": "dc27d90d",
   "metadata": {},
   "outputs": [
    {
     "data": {
      "text/plain": [
       "8"
      ]
     },
     "execution_count": 60,
     "metadata": {},
     "output_type": "execute_result"
    }
   ],
   "source": [
    "def add3add5() :\n",
    "    return 8\n",
    "\n",
    "\n",
    "add3add5()"
   ]
  },
  {
   "cell_type": "code",
   "execution_count": 63,
   "id": "c10308f5",
   "metadata": {},
   "outputs": [
    {
     "name": "stdout",
     "output_type": "stream",
     "text": [
      "(5, 6)\n",
      "5\n"
     ]
    }
   ],
   "source": [
    "def add_and_mul(a,b) :\n",
    "    return a+b, a*b\n",
    "\n",
    "print(add_and_mul(2,3))\n",
    "\n",
    "add, _ = add_and_mul(2,3)\n",
    "print(add)"
   ]
  },
  {
   "cell_type": "code",
   "execution_count": 72,
   "id": "66674839",
   "metadata": {},
   "outputs": [
    {
     "name": "stdout",
     "output_type": "stream",
     "text": [
      "6 14\n"
     ]
    }
   ],
   "source": [
    "# 실습 1\n",
    "\n",
    "\n",
    "def my_len(x) :\n",
    "    \n",
    "    idx = x.index(x[-1]) - x.index(x[0]) + 1\n",
    "    return idx\n",
    "\n",
    "\n",
    "\n",
    "a = [5, 5, 6, 7, 8, 3]\n",
    "b = 'Life is short.'\n",
    "\n",
    "print(my_len(a), my_len(b))"
   ]
  },
  {
   "cell_type": "code",
   "execution_count": 73,
   "id": "c272b4da",
   "metadata": {},
   "outputs": [
    {
     "name": "stdout",
     "output_type": "stream",
     "text": [
      "6 14\n"
     ]
    }
   ],
   "source": [
    "def my_len(x) :\n",
    "    count = 0\n",
    "    \n",
    "    for i in x :\n",
    "        count += 1\n",
    "    return count\n",
    "\n",
    "a = [5, 5, 6, 7, 8, 3]\n",
    "b = 'Life is short.'\n",
    "\n",
    "print(my_len(a), my_len(b))"
   ]
  },
  {
   "cell_type": "code",
   "execution_count": 74,
   "id": "38b85940",
   "metadata": {},
   "outputs": [
    {
     "name": "stdout",
     "output_type": "stream",
     "text": [
      "6\n",
      "120\n"
     ]
    }
   ],
   "source": [
    "# 실습 2\n",
    "\n",
    "\n",
    "def mult(a,b) :\n",
    "    num = 1\n",
    "    \n",
    "    for i in range(a,b+1) :\n",
    "        num *= i\n",
    "    \n",
    "    return num\n",
    "\n",
    "\n",
    "print(mult(1,3))\n",
    "print(mult(2,5))"
   ]
  },
  {
   "cell_type": "code",
   "execution_count": null,
   "id": "558abad3",
   "metadata": {},
   "outputs": [],
   "source": [
    "def mult(a,b) :\n",
    "    \n",
    "    if a == b :\n",
    "        return a\n",
    "    \n",
    "    return mult(a,b-1) * b"
   ]
  },
  {
   "cell_type": "code",
   "execution_count": 79,
   "id": "fe5bdb8f",
   "metadata": {},
   "outputs": [
    {
     "name": "stdout",
     "output_type": "stream",
     "text": [
      "7 -9\n",
      "1 -1\n"
     ]
    }
   ],
   "source": [
    "# 실습 3\n",
    "\n",
    "\n",
    "def sum_pos_neg(l) :\n",
    "    pos = []\n",
    "    neg = []\n",
    "    \n",
    "    for i in l :\n",
    "        if i > 0 :\n",
    "            pos.append(i)\n",
    "        elif i < 0 :\n",
    "            neg.append(i)\n",
    "            \n",
    "    possum = sum(pos)\n",
    "    negsum = sum(neg)\n",
    "    \n",
    "    return possum, negsum\n",
    "\n",
    "\n",
    "possum, negsum = sum_pos_neg([3, 4, -6, -3])\n",
    "print(possum, negsum)\n",
    "\n",
    "mylist = [0, 0, 0, 0, 0, 0, 0, 0, 0, 1, -1]\n",
    "possum2, negsum2 = sum_pos_neg(mylist)\n",
    "print(possum2, negsum2)"
   ]
  },
  {
   "cell_type": "code",
   "execution_count": 80,
   "id": "952902ee",
   "metadata": {},
   "outputs": [
    {
     "name": "stdout",
     "output_type": "stream",
     "text": [
      "7 -9\n",
      "1 -1\n"
     ]
    }
   ],
   "source": [
    "def sum_pos_neg(l) :\n",
    "    pos = 0\n",
    "    neg = 0\n",
    "    \n",
    "    for i in l :\n",
    "        if i > 0 :\n",
    "            pos += i\n",
    "        elif i < 0 :\n",
    "            neg += i\n",
    "    \n",
    "    return pos, neg\n",
    "\n",
    "\n",
    "possum, negsum = sum_pos_neg([3, 4, -6, -3])\n",
    "print(possum, negsum)\n",
    "\n",
    "mylist = [0, 0, 0, 0, 0, 0, 0, 0, 0, 1, -1]\n",
    "possum2, negsum2 = sum_pos_neg(mylist)\n",
    "print(possum2, negsum2)"
   ]
  },
  {
   "cell_type": "code",
   "execution_count": 82,
   "id": "766a6cce",
   "metadata": {},
   "outputs": [
    {
     "name": "stdout",
     "output_type": "stream",
     "text": [
      "7 -9\n",
      "1 -1\n"
     ]
    }
   ],
   "source": [
    "def sum_pos_neg(l) :\n",
    "    if not l :\n",
    "        return 0, 0\n",
    "    \n",
    "    x = l.pop()\n",
    "    pos, neg = sum_pos_neg(l)\n",
    "    \n",
    "    if x > 0 :\n",
    "        pos += x\n",
    "    elif x < 0 :\n",
    "        neg += x\n",
    "        \n",
    "    return pos, neg\n",
    "\n",
    "\n",
    "\n",
    "possum, negsum = sum_pos_neg([3, 4, -6, -3])\n",
    "print(possum, negsum)\n",
    "\n",
    "mylist = [0, 0, 0, 0, 0, 0, 0, 0, 0, 1, -1]\n",
    "possum2, negsum2 = sum_pos_neg(mylist)\n",
    "print(possum2, negsum2)"
   ]
  },
  {
   "cell_type": "markdown",
   "id": "a8319f78",
   "metadata": {},
   "source": [
    "#### 매개변수"
   ]
  },
  {
   "cell_type": "code",
   "execution_count": 83,
   "id": "d841c34d",
   "metadata": {},
   "outputs": [
    {
     "data": {
      "text/plain": [
       "2"
      ]
     },
     "execution_count": 83,
     "metadata": {},
     "output_type": "execute_result"
    }
   ],
   "source": [
    "def count_even(*n) :\n",
    "    cnt = 0\n",
    "    \n",
    "    for v in n :\n",
    "        if v % 2 == 0 :\n",
    "            cnt += 1\n",
    "    return cnt\n",
    "\n",
    "count_even(1,2,3,4,5)"
   ]
  },
  {
   "cell_type": "code",
   "execution_count": 94,
   "id": "048b77e8",
   "metadata": {},
   "outputs": [
    {
     "name": "stdout",
     "output_type": "stream",
     "text": [
      "[1.5, 1.5] [7.5, 5.5] [4.140000000000001, 2.72]\n"
     ]
    }
   ],
   "source": [
    "# 실습 4\n",
    "\n",
    "\n",
    "\n",
    "def vector_sum(vector, *vectors) :\n",
    "    \n",
    "    cnt1 = vector[0]\n",
    "    cnt2 = vector[1]\n",
    "    \n",
    "    for i in vectors :\n",
    "        cnt1 += i[0]\n",
    "        cnt2 += i[1]\n",
    "        \n",
    "    answer = [cnt1, cnt2]\n",
    "    return answer\n",
    "\n",
    "\n",
    "v1 = [0, 1]\n",
    "v2 = [0.5, 0.5]\n",
    "v3 = [1, 0]\n",
    "v4 = [6, 4]\n",
    "v5 = [3.14, 2.72]\n",
    "\n",
    "m1 = vector_sum(v1, v2, v3)\n",
    "m2 = vector_sum(v1, v2, v3, v4)\n",
    "m3 = vector_sum(v3, v5)\n",
    "\n",
    "\n",
    "print(m1, m2, m3)"
   ]
  },
  {
   "cell_type": "code",
   "execution_count": 96,
   "id": "d198a2d3",
   "metadata": {},
   "outputs": [
    {
     "name": "stdout",
     "output_type": "stream",
     "text": [
      "[1.5, 1.5] [7.5, 5.5] [4.140000000000001, 2.72]\n"
     ]
    }
   ],
   "source": [
    "def vector_sum(vector, *vectors) :\n",
    "    result = vector.copy()\n",
    "    \n",
    "    for x, y in vectors :\n",
    "        result[0] += x\n",
    "        result[1] += y\n",
    "    \n",
    "    return result\n",
    "        \n",
    "        \n",
    "        \n",
    "v1 = [0, 1]\n",
    "v2 = [0.5, 0.5]\n",
    "v3 = [1, 0]\n",
    "v4 = [6, 4]\n",
    "v5 = [3.14, 2.72]\n",
    "\n",
    "m1 = vector_sum(v1, v2, v3)\n",
    "m2 = vector_sum(v1, v2, v3, v4)\n",
    "m3 = vector_sum(v3, v5)\n",
    "\n",
    "print(m1, m2, m3)"
   ]
  },
  {
   "cell_type": "markdown",
   "id": "93dfd23f",
   "metadata": {},
   "source": [
    "### 디폴트 매개변수"
   ]
  },
  {
   "cell_type": "code",
   "execution_count": 98,
   "id": "2fd63139",
   "metadata": {},
   "outputs": [
    {
     "name": "stdout",
     "output_type": "stream",
     "text": [
      "My name is  Gildong Hong.\n",
      "My name is  Gildong Kim.\n"
     ]
    }
   ],
   "source": [
    "def print_name(first, second = \"Kim\") :\n",
    "    print('My name is ', first, second + '.')\n",
    "    \n",
    "print_name('Gildong', 'Hong')\n",
    "print_name('Gildong')"
   ]
  },
  {
   "cell_type": "markdown",
   "id": "8c516470",
   "metadata": {},
   "source": [
    "def print_name(first, second = 'Kim') :\n",
    "\n",
    "def print_name(first = 'Kim', second) :        #### ERROR\n",
    "\n",
    "def print_name(first, second, third = 'Kim') :\n",
    "\n",
    "def print_name(first, second = 'Kim', third = 'M') :\n",
    "def print_name(first, second = 'Kim', third = 'M') :"
   ]
  },
  {
   "cell_type": "code",
   "execution_count": 99,
   "id": "8366f1fe",
   "metadata": {},
   "outputs": [
    {
     "data": {
      "text/plain": [
       "60"
      ]
     },
     "execution_count": 99,
     "metadata": {},
     "output_type": "execute_result"
    }
   ],
   "source": [
    "def calc(x, y = 0, z = 0) :\n",
    "    return x + y + z\n",
    "\n",
    "calc(y = 20, x = 10, z = 30)"
   ]
  },
  {
   "cell_type": "code",
   "execution_count": 118,
   "id": "43bfb514",
   "metadata": {},
   "outputs": [
    {
     "name": "stdout",
     "output_type": "stream",
     "text": [
      "[1, 1, 2, 2, 3, 5, 9]\n",
      "[0, 4, 6, 9]\n",
      "[0, 0]\n"
     ]
    }
   ],
   "source": [
    "# 실습 5\n",
    "\n",
    "\n",
    "\n",
    "\n",
    "def merge_list(l = [0], k = [0]) :\n",
    "\n",
    "    result = l + k\n",
    "    result.sort()\n",
    "    \n",
    "    return result\n",
    "\n",
    "\n",
    "l = [3, 5, 9, 1, 2]\n",
    "ml1 = merge_list(l, [2, 1])\n",
    "ml2 = merge_list([6, 9, 4])\n",
    "ml3 = merge_list()\n",
    "\n",
    "print(ml1)\n",
    "print(ml2)\n",
    "print(ml3)"
   ]
  },
  {
   "cell_type": "markdown",
   "id": "e6bdab19",
   "metadata": {},
   "source": [
    "### 지역변수, 전역변수"
   ]
  },
  {
   "cell_type": "code",
   "execution_count": null,
   "id": "5132198e",
   "metadata": {},
   "outputs": [],
   "source": []
  },
  {
   "cell_type": "code",
   "execution_count": 6,
   "id": "d3cac74b",
   "metadata": {},
   "outputs": [],
   "source": [
    "import import_ipynb\n",
    "import arth"
   ]
  },
  {
   "cell_type": "code",
   "execution_count": 7,
   "id": "9f2a0d99",
   "metadata": {},
   "outputs": [
    {
     "ename": "AttributeError",
     "evalue": "module 'arth' has no attribute 'add'",
     "output_type": "error",
     "traceback": [
      "\u001b[0;31m---------------------------------------------------------------------------\u001b[0m",
      "\u001b[0;31mAttributeError\u001b[0m                            Traceback (most recent call last)",
      "Input \u001b[0;32mIn [7]\u001b[0m, in \u001b[0;36m<cell line: 1>\u001b[0;34m()\u001b[0m\n\u001b[0;32m----> 1\u001b[0m \u001b[38;5;28mprint\u001b[39m(\u001b[43marth\u001b[49m\u001b[38;5;241;43m.\u001b[39;49m\u001b[43madd\u001b[49m(\u001b[38;5;241m3\u001b[39m,\u001b[38;5;241m4\u001b[39m))\n",
      "\u001b[0;31mAttributeError\u001b[0m: module 'arth' has no attribute 'add'"
     ]
    }
   ],
   "source": [
    "print(arth.add(3,4))"
   ]
  },
  {
   "cell_type": "code",
   "execution_count": 23,
   "id": "c6d15ae4",
   "metadata": {},
   "outputs": [
    {
     "data": {
      "text/plain": [
       "4"
      ]
     },
     "execution_count": 23,
     "metadata": {},
     "output_type": "execute_result"
    }
   ],
   "source": [
    "import random\n",
    "\n",
    "l = [1, 2, 3, 4, 5]\n",
    "random.randrange(0, 10)"
   ]
  },
  {
   "cell_type": "code",
   "execution_count": 12,
   "id": "7db2b1ce",
   "metadata": {},
   "outputs": [
    {
     "name": "stdout",
     "output_type": "stream",
     "text": [
      "** 로또 번호 자동 기입을 시작합니다 **\n",
      "1 번째 자동 기입 ==>  5 11 2 30 22 25\n",
      "2 번째 자동 기입 ==>  16 31 2 23 30 3\n",
      "3 번째 자동 기입 ==>  19 3 44 24 8 26\n",
      "4 번째 자동 기입 ==>  33 44 37 11 39 4\n",
      "5 번째 자동 기입 ==>  44 7 19 16 15 20\n"
     ]
    }
   ],
   "source": [
    "# 실습 6\n",
    "\n",
    "\n",
    "import random\n",
    "\n",
    "\n",
    "num_lst = []\n",
    "print(\"** 로또 번호 자동 기입을 시작합니다 **\")\n",
    "\n",
    "\n",
    "for i in range(5) :\n",
    "    \n",
    "    while len(num_lst) <= 5 :\n",
    "        num = random.randrange(1, 46)\n",
    "    \n",
    "        if num in num_lst :\n",
    "            continue\n",
    "    \n",
    "        num_lst.append(num)\n",
    "        \n",
    "        \n",
    "    print(i+1, \"번째 자동 기입 ==> \", *num_lst)\n",
    "    num_lst = []\n",
    "    "
   ]
  },
  {
   "cell_type": "code",
   "execution_count": 16,
   "id": "1aa054af",
   "metadata": {},
   "outputs": [
    {
     "name": "stdout",
     "output_type": "stream",
     "text": [
      "** 로또 번호 자동 기입을 시작합니다 **\n",
      "1번째 자동 기입 ==>  8 17 22 29 30 41\n",
      "2번째 자동 기입 ==>  1 2 12 21 22 28\n",
      "3번째 자동 기입 ==>  11 14 19 25 27 34\n",
      "4번째 자동 기입 ==>  5 7 18 22 26 45\n",
      "5번째 자동 기입 ==>  7 17 27 32 35 39\n"
     ]
    }
   ],
   "source": [
    "import random\n",
    "\n",
    "num_lst = []\n",
    "print(\"** 로또 번호 자동 기입을 시작합니다 **\")\n",
    "\n",
    "for i in range(1, 46) :\n",
    "    num_lst.append(i)\n",
    "    \n",
    "for i in range(1, 6) :\n",
    "    result = random.sample(num_lst, 6)\n",
    "    result.sort()\n",
    "    print(\"%d번째 자동 기입 ==> \" % i, *result)\n",
    "    "
   ]
  },
  {
   "cell_type": "markdown",
   "id": "ba2b133a",
   "metadata": {},
   "source": [
    "---\n",
    "## 파일"
   ]
  },
  {
   "cell_type": "markdown",
   "id": "a2d32b01",
   "metadata": {},
   "source": [
    "### 파일 쓰기"
   ]
  },
  {
   "cell_type": "markdown",
   "id": "e9a3f5b1",
   "metadata": {},
   "source": [
    "#### 최초 생성할 때"
   ]
  },
  {
   "cell_type": "code",
   "execution_count": 19,
   "id": "60261209",
   "metadata": {},
   "outputs": [],
   "source": [
    "fw = open(\"new.txt\", \"w\")"
   ]
  },
  {
   "cell_type": "code",
   "execution_count": 20,
   "id": "2a095e8f",
   "metadata": {},
   "outputs": [],
   "source": [
    "for i in range(1, 6) :\n",
    "    data = \"%d line\\n\" % i\n",
    "    fw.write(data)"
   ]
  },
  {
   "cell_type": "code",
   "execution_count": 21,
   "id": "4f790f16",
   "metadata": {},
   "outputs": [],
   "source": [
    "fw.close()"
   ]
  },
  {
   "cell_type": "markdown",
   "id": "7c9082c9",
   "metadata": {},
   "source": [
    "#### 내용을 추가할 때"
   ]
  },
  {
   "cell_type": "code",
   "execution_count": 22,
   "id": "30c8c9ee",
   "metadata": {},
   "outputs": [],
   "source": [
    "fw = open(\"new.txt\", \"a\")"
   ]
  },
  {
   "cell_type": "code",
   "execution_count": 23,
   "id": "4f30e350",
   "metadata": {},
   "outputs": [],
   "source": [
    "for i in range(11, 16) :\n",
    "    data = \"%d line\\n\" % i\n",
    "    fw.write(data)"
   ]
  },
  {
   "cell_type": "code",
   "execution_count": 24,
   "id": "732c6123",
   "metadata": {},
   "outputs": [],
   "source": [
    "fw.close()"
   ]
  },
  {
   "cell_type": "markdown",
   "id": "9cce547f",
   "metadata": {},
   "source": [
    "."
   ]
  },
  {
   "cell_type": "code",
   "execution_count": 38,
   "id": "7a75040f",
   "metadata": {},
   "outputs": [],
   "source": [
    "fr = open(\"new.txt\", \"r\")"
   ]
  },
  {
   "cell_type": "code",
   "execution_count": 28,
   "id": "31e0eb1c",
   "metadata": {},
   "outputs": [],
   "source": [
    "line = fr.readline()             # 줄바꿈까지 확인 가능"
   ]
  },
  {
   "cell_type": "code",
   "execution_count": 31,
   "id": "27f6b662",
   "metadata": {},
   "outputs": [
    {
     "data": {
      "text/plain": [
       "'3 line\\n'"
      ]
     },
     "execution_count": 31,
     "metadata": {},
     "output_type": "execute_result"
    }
   ],
   "source": [
    "line"
   ]
  },
  {
   "cell_type": "code",
   "execution_count": 32,
   "id": "9689e484",
   "metadata": {},
   "outputs": [
    {
     "data": {
      "text/plain": [
       "21"
      ]
     },
     "execution_count": 32,
     "metadata": {},
     "output_type": "execute_result"
    }
   ],
   "source": [
    "fr.tell()"
   ]
  },
  {
   "cell_type": "code",
   "execution_count": 33,
   "id": "e7582ba3",
   "metadata": {},
   "outputs": [
    {
     "data": {
      "text/plain": [
       "'3 line\\n'"
      ]
     },
     "execution_count": 33,
     "metadata": {},
     "output_type": "execute_result"
    }
   ],
   "source": [
    "line"
   ]
  },
  {
   "cell_type": "code",
   "execution_count": 34,
   "id": "a1b95fcf",
   "metadata": {},
   "outputs": [],
   "source": [
    "fr.close()"
   ]
  },
  {
   "cell_type": "code",
   "execution_count": 39,
   "id": "51e6c57f",
   "metadata": {},
   "outputs": [
    {
     "name": "stdout",
     "output_type": "stream",
     "text": [
      "1 line\n",
      "2 line\n",
      "3 line\n",
      "4 line\n",
      "5 line\n",
      "11 line\n",
      "12 line\n",
      "13 line\n",
      "14 line\n",
      "15 line\n"
     ]
    }
   ],
   "source": [
    "fr = open(\"new.txt\", \"r\")\n",
    "\n",
    "while True :\n",
    "    line = fr.readline()\n",
    "    \n",
    "    if line == '' :\n",
    "        break\n",
    "        \n",
    "    print(line, end = '')\n",
    "    \n",
    "fr.close()"
   ]
  },
  {
   "cell_type": "code",
   "execution_count": 40,
   "id": "09919b72",
   "metadata": {},
   "outputs": [
    {
     "name": "stdout",
     "output_type": "stream",
     "text": [
      "['1 line\\n', '2 line\\n', '3 line\\n', '4 line\\n', '5 line\\n', '11 line\\n', '12 line\\n', '13 line\\n', '14 line\\n', '15 line\\n']\n"
     ]
    }
   ],
   "source": [
    "fr = open(\"new.txt\", \"r\")\n",
    "lines = fr.readlines()\n",
    "print(lines)\n",
    "\n",
    "fr.close()"
   ]
  },
  {
   "cell_type": "code",
   "execution_count": null,
   "id": "e29eb8dc",
   "metadata": {},
   "outputs": [],
   "source": [
    "fr = open(\"new.txt\", \"r\")\n",
    "\n",
    "for line in fr :\n",
    "    print(line, end = \"\")\n",
    "    \n",
    "fr.close()"
   ]
  },
  {
   "cell_type": "code",
   "execution_count": 42,
   "id": "85f682b4",
   "metadata": {},
   "outputs": [
    {
     "data": {
      "text/plain": [
       "['first line python is fun\\n',\n",
       " 'second line\\n',\n",
       " 'third line\\n',\n",
       " 'have a good time']"
      ]
     },
     "execution_count": 42,
     "metadata": {},
     "output_type": "execute_result"
    }
   ],
   "source": [
    "# 파일 - 실습 1\n",
    "\n",
    "\n",
    "test = open(\"test.txt\", \"r\")\n",
    "\n",
    "\n",
    "lines = test.readlines()\n",
    "lines\n",
    "\n",
    "\n",
    "\n"
   ]
  },
  {
   "cell_type": "code",
   "execution_count": null,
   "id": "2b48d0c8",
   "metadata": {},
   "outputs": [],
   "source": []
  },
  {
   "cell_type": "code",
   "execution_count": null,
   "id": "4720879a",
   "metadata": {},
   "outputs": [],
   "source": []
  },
  {
   "cell_type": "code",
   "execution_count": null,
   "id": "18db82ca",
   "metadata": {},
   "outputs": [],
   "source": []
  },
  {
   "cell_type": "code",
   "execution_count": null,
   "id": "019b49ff",
   "metadata": {},
   "outputs": [],
   "source": []
  },
  {
   "cell_type": "code",
   "execution_count": null,
   "id": "2d870bf7",
   "metadata": {},
   "outputs": [],
   "source": []
  },
  {
   "cell_type": "code",
   "execution_count": null,
   "id": "13c0fc40",
   "metadata": {},
   "outputs": [],
   "source": []
  },
  {
   "cell_type": "code",
   "execution_count": null,
   "id": "d68142bb",
   "metadata": {},
   "outputs": [],
   "source": []
  },
  {
   "cell_type": "code",
   "execution_count": null,
   "id": "0c1de42a",
   "metadata": {},
   "outputs": [],
   "source": []
  },
  {
   "cell_type": "code",
   "execution_count": null,
   "id": "3785cef4",
   "metadata": {},
   "outputs": [],
   "source": []
  },
  {
   "cell_type": "code",
   "execution_count": null,
   "id": "85726cf4",
   "metadata": {},
   "outputs": [],
   "source": []
  },
  {
   "cell_type": "code",
   "execution_count": null,
   "id": "e86ce120",
   "metadata": {},
   "outputs": [],
   "source": []
  },
  {
   "cell_type": "code",
   "execution_count": null,
   "id": "bdcca6b7",
   "metadata": {},
   "outputs": [],
   "source": []
  }
 ],
 "metadata": {
  "kernelspec": {
   "display_name": "Python 3 (ipykernel)",
   "language": "python",
   "name": "python3"
  },
  "language_info": {
   "codemirror_mode": {
    "name": "ipython",
    "version": 3
   },
   "file_extension": ".py",
   "mimetype": "text/x-python",
   "name": "python",
   "nbconvert_exporter": "python",
   "pygments_lexer": "ipython3",
   "version": "3.9.12"
  }
 },
 "nbformat": 4,
 "nbformat_minor": 5
}
