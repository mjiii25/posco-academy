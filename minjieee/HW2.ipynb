{
 "cells": [
  {
   "cell_type": "markdown",
   "id": "81f871a0",
   "metadata": {},
   "source": [
    "# 파이썬 프로그래밍 기초 실습 2\n",
    "\n",
    "C반 1조 성민지\n",
    "\n",
    "---"
   ]
  },
  {
   "cell_type": "markdown",
   "id": "d127ed75",
   "metadata": {},
   "source": [
    "### 1. 조건문(if)\n",
    "#### 문제1) 입력 받은 정수가 짝수인지 홀수인지 판별"
   ]
  },
  {
   "cell_type": "code",
   "execution_count": 37,
   "id": "af57300d",
   "metadata": {},
   "outputs": [
    {
     "name": "stdout",
     "output_type": "stream",
     "text": [
      "Enter a number: 14\n",
      "14 is Even number\n"
     ]
    }
   ],
   "source": [
    "number = int(input(\"Enter a number: \"))\n",
    "\n",
    "if number % 2 == 0 :\n",
    "    print(\"%d is Even number\" % number)\n",
    "else :\n",
    "    print(\"%d is Odd number\" % number)"
   ]
  },
  {
   "cell_type": "markdown",
   "id": "07cb13d0",
   "metadata": {},
   "source": [
    "#### 문제2) 프로그래밍 과목의 중간고사와 기말고사 점수를 입력 받아 평균과 학점을 구하는 프로그램을 작성하시오.\n",
    "- 평균이 90이상 : A\n",
    "- 80이상~90미만 : B\n",
    "- 70이상~80미만 : C\n",
    "- 60이상~70미만 : D\n",
    "- 60미만 : F"
   ]
  },
  {
   "cell_type": "code",
   "execution_count": 38,
   "id": "f54daa54",
   "metadata": {},
   "outputs": [
    {
     "name": "stdout",
     "output_type": "stream",
     "text": [
      "Enter your midterm score: 77\n",
      "Enter your final score: 56\n",
      "Average: 66.5\n",
      "Grade: D\n"
     ]
    }
   ],
   "source": [
    "mid = float(input(\"Enter your midterm score: \"))\n",
    "fin = float(input(\"Enter your final score: \"))\n",
    "\n",
    "avg = (mid + fin) / 2\n",
    "\n",
    "if avg >= 90 :\n",
    "    grade = \"A\"\n",
    "elif avg >= 80 :\n",
    "    grade = \"B\"\n",
    "elif avg >= 70 :\n",
    "    grade = \"C\"\n",
    "elif avg >= 60 :\n",
    "    grade = \"D\"\n",
    "else :\n",
    "    grade = \"F\"\n",
    "    \n",
    "print(\"Average: %.1f\" % avg)\n",
    "print(\"Grade: %s\" % grade)"
   ]
  },
  {
   "cell_type": "markdown",
   "id": "30837150",
   "metadata": {},
   "source": [
    "#### 문제3) 학생수준평가 시험에서 영어 점수와 수학 점수가 합해서\n",
    "110점 이상이면 합격이다. 단, 각 점수가 40점 미만이면 불합격이다. 영어(eng), 수학(math)점수를 입력 받아 합격여부를 출력하는 프로그램을 작성하시오."
   ]
  },
  {
   "cell_type": "code",
   "execution_count": 53,
   "id": "dbcc2d19",
   "metadata": {},
   "outputs": [
    {
     "name": "stdout",
     "output_type": "stream",
     "text": [
      "영어 점수 : 35\n",
      "수학 점수 : 95\n",
      "불합격: 영어 점수 부족\n"
     ]
    }
   ],
   "source": [
    "eng = float(input(\"영어 점수 : \"))\n",
    "math = float(input(\"수학 점수 : \"))\n",
    "\n",
    "if eng + math < 110 :\n",
    "    print(\"불합격 : 총합 점수 부족\")\n",
    "elif eng < 40 :\n",
    "    print(\"불합격: 영어 점수 부족\")\n",
    "elif math < 40 :\n",
    "    print(\"불합격: 수학 점수 부족\")\n",
    "else :\n",
    "    print(\"합격\")"
   ]
  },
  {
   "cell_type": "markdown",
   "id": "b66378a1",
   "metadata": {},
   "source": [
    "#### 문제4) \n",
    "세 개의 정수를 입력 받아, 가장 큰 수만 출력하는 프로그램을 작성하시오. (반복문 사용하지 말 것. max 함수, 정렬함수 이용하지 않고 구현할 것)"
   ]
  },
  {
   "cell_type": "code",
   "execution_count": 48,
   "id": "0c400947",
   "metadata": {},
   "outputs": [
    {
     "name": "stdout",
     "output_type": "stream",
     "text": [
      "세 개의 수를 입력하시오: 50 22 30\n",
      "가장 큰 수는 50입니다.\n"
     ]
    }
   ],
   "source": [
    "a, b, c = map(int, input(\"세 개의 수를 입력하시오: \").split())\n",
    "\n",
    "if a > b :\n",
    "    if a > c :\n",
    "        print(\"가장 큰 수는 %d입니다.\" % a)\n",
    "    else :\n",
    "        print(\"가장 큰 수는 %d입니다.\" % c)\n",
    "else :\n",
    "    if b > c :\n",
    "        print(\"가장 큰 수는 %d입니다.\" % b)\n",
    "    else :\n",
    "        print(\"가장 큰 수는 %d입니다.\" % c)"
   ]
  },
  {
   "cell_type": "markdown",
   "id": "9c8a8a82",
   "metadata": {},
   "source": [
    "### 2. 반복문\n",
    "#### 문제1) 단어(문자열)가 주어질 때, 아래와 같이 출력되도록 작성하시오."
   ]
  },
  {
   "cell_type": "markdown",
   "id": "ad860e76",
   "metadata": {},
   "source": [
    "(1) while문 이용"
   ]
  },
  {
   "cell_type": "code",
   "execution_count": 57,
   "id": "d96693d8",
   "metadata": {},
   "outputs": [
    {
     "name": "stdout",
     "output_type": "stream",
     "text": [
      "P\n",
      "y\n",
      "t\n",
      "h\n",
      "o\n",
      "n\n"
     ]
    }
   ],
   "source": [
    "word = 'Python'\n",
    "\n",
    "i = 0\n",
    "while i < len(word) :\n",
    "    print(word[i])\n",
    "    i += 1"
   ]
  },
  {
   "cell_type": "markdown",
   "id": "02c14379",
   "metadata": {},
   "source": [
    "(2) for문 이용"
   ]
  },
  {
   "cell_type": "code",
   "execution_count": 39,
   "id": "78787e9b",
   "metadata": {},
   "outputs": [
    {
     "name": "stdout",
     "output_type": "stream",
     "text": [
      "P\n",
      "y\n",
      "t\n",
      "h\n",
      "o\n",
      "n\n"
     ]
    }
   ],
   "source": [
    "word = 'Python'\n",
    "\n",
    "for i in word :\n",
    "    print(i)"
   ]
  },
  {
   "cell_type": "markdown",
   "id": "cf4338c0",
   "metadata": {},
   "source": [
    "#### 문제2) 아래와 같이 출력되는 프로그램을 작성하시오.\n",
    "10, 9, 8, 7, 6, 5, 4, 3, 2, 1, Happy new year!!"
   ]
  },
  {
   "cell_type": "code",
   "execution_count": 66,
   "id": "f67cec20",
   "metadata": {},
   "outputs": [
    {
     "name": "stdout",
     "output_type": "stream",
     "text": [
      "10,9,8,7,6,5,4,3,2,1,Happy new year!!\n"
     ]
    }
   ],
   "source": [
    "i = 10\n",
    "\n",
    "while i >= 1 :\n",
    "    print(str(i) + \",\", end = \"\")\n",
    "    i-= 1\n",
    "    \n",
    "print(\"Happy new year!!\")"
   ]
  },
  {
   "cell_type": "markdown",
   "id": "45ce6be5",
   "metadata": {},
   "source": [
    "#### 문제3)\n",
    "양의 두 정수 a, b를 입력 받아, a부터 b까지의 정수의 합을 구하여 출력하는 프로그램을 작성하시오. (for 또는 while을 이용할 것) \n",
    "단, 조건 a <= b 을 만족하는 값만 고려한다."
   ]
  },
  {
   "cell_type": "code",
   "execution_count": 17,
   "id": "4ca71283",
   "metadata": {},
   "outputs": [
    {
     "name": "stdout",
     "output_type": "stream",
     "text": [
      "Enter two integers: 5 10\n",
      "The sum from 5 to 10 is 45\n"
     ]
    }
   ],
   "source": [
    "numbers = input(\"Enter two integers: \")\n",
    "a, b = map(int, numbers.split())\n",
    "\n",
    "c = 0\n",
    "for i in range(a, b+1) :\n",
    "    c += i\n",
    "\n",
    "    \n",
    "print(\"The sum from %d to %d is %d\" % (a, b, c))"
   ]
  },
  {
   "cell_type": "markdown",
   "id": "0c5ab5eb",
   "metadata": {},
   "source": [
    "#### 문제4)\n",
    "주어진 문자열에 문자a가 몇 개 있는지 구하는 프로그램을 작성하시오.(for문 사용할 것)"
   ]
  },
  {
   "cell_type": "code",
   "execution_count": 19,
   "id": "cb25f03c",
   "metadata": {},
   "outputs": [
    {
     "name": "stdout",
     "output_type": "stream",
     "text": [
      "3\n"
     ]
    }
   ],
   "source": [
    "word = 'banana'\n",
    "\n",
    "print(word.count('a'))"
   ]
  },
  {
   "cell_type": "code",
   "execution_count": 40,
   "id": "8e40e648",
   "metadata": {},
   "outputs": [
    {
     "name": "stdout",
     "output_type": "stream",
     "text": [
      "3\n"
     ]
    }
   ],
   "source": [
    "word = 'banana'\n",
    "\n",
    "count = 0\n",
    "\n",
    "for i in word :\n",
    "    if i == \"a\" :\n",
    "        count += 1\n",
    "\n",
    "print(count)"
   ]
  },
  {
   "cell_type": "markdown",
   "id": "31a68046",
   "metadata": {},
   "source": [
    "#### 문제5)\n",
    "for 문과 range()함수를 이용하여 다음과 같이 출력되도록 작성하시오. (각 줄마다 range()함수 사용)"
   ]
  },
  {
   "cell_type": "code",
   "execution_count": 24,
   "id": "58b54162",
   "metadata": {},
   "outputs": [
    {
     "name": "stdout",
     "output_type": "stream",
     "text": [
      "0 1 2 3 4 5 6 7 8 9 \n",
      "\n",
      "0 5 10 15 20 25 30 35 40 45 \n",
      "\n",
      "10 9 8 7 6 5 4 3 2 1 "
     ]
    }
   ],
   "source": [
    "for i in range(10) :\n",
    "    print(i, end = ' ')\n",
    "    \n",
    "print(\"\\n\")\n",
    "\n",
    "for i in range(0, 50, 5) :\n",
    "    print(i, end = ' ')\n",
    "    \n",
    "print(\"\\n\")\n",
    "\n",
    "for i in range(10) :\n",
    "    print(10-i, end = ' ')"
   ]
  },
  {
   "cell_type": "markdown",
   "id": "49f48d7b",
   "metadata": {},
   "source": [
    "#### 문제6)\n",
    "for 문을 사용하여 리스트(colors)의 모든 내용을 출력하시오. (단, range()를 이용하지 않는다.)"
   ]
  },
  {
   "cell_type": "code",
   "execution_count": 33,
   "id": "d3d26e93",
   "metadata": {},
   "outputs": [
    {
     "name": "stdout",
     "output_type": "stream",
     "text": [
      "red\n",
      "green\n",
      "blue\n"
     ]
    }
   ],
   "source": [
    "colors = ['red', 'green', 'blue']\n",
    "\n",
    "for i in colors :\n",
    "    print(i)"
   ]
  },
  {
   "cell_type": "markdown",
   "id": "b3f429c9",
   "metadata": {},
   "source": [
    "#### 문제7)\n",
    "리스트 a 전체를 반복해서 방문하되, 짝수만 출력하시오.(for 문 사용할 것, range() 이용하지 말 것)"
   ]
  },
  {
   "cell_type": "code",
   "execution_count": 35,
   "id": "e5fb0937",
   "metadata": {},
   "outputs": [
    {
     "name": "stdout",
     "output_type": "stream",
     "text": [
      "4 6 8 10 12 "
     ]
    }
   ],
   "source": [
    "a = [1, 3, 4, 5, 6, 7, 8, 9, 10, 11, 12, 13]\n",
    "\n",
    "for i in a :\n",
    "    if i % 2 == 0 :\n",
    "        print(i, end = ' ')"
   ]
  },
  {
   "cell_type": "markdown",
   "id": "c98092da",
   "metadata": {},
   "source": [
    "#### 문제8)\n",
    "구구단 출력1"
   ]
  },
  {
   "cell_type": "code",
   "execution_count": 27,
   "id": "a5650db9",
   "metadata": {},
   "outputs": [
    {
     "name": "stdout",
     "output_type": "stream",
     "text": [
      "출력하고 싶은 단을 입력하세요: 7\n",
      "7 * 1 = 7\n",
      "7 * 2 = 14\n",
      "7 * 3 = 21\n",
      "7 * 4 = 28\n",
      "7 * 5 = 35\n",
      "7 * 6 = 42\n",
      "7 * 7 = 49\n",
      "7 * 8 = 56\n",
      "7 * 9 = 63\n"
     ]
    }
   ],
   "source": [
    "dan = int(input(\"출력하고 싶은 단을 입력하세요: \"))\n",
    "\n",
    "for i in range(1, 10) :\n",
    "    print(\"%d * %d = %d\" % (dan, i, dan * i))"
   ]
  },
  {
   "cell_type": "markdown",
   "id": "b68f4ff2",
   "metadata": {},
   "source": [
    "#### 문제9)\n",
    "구구단 출력2 (중첩 반복문)"
   ]
  },
  {
   "cell_type": "code",
   "execution_count": 29,
   "id": "a4acb51a",
   "metadata": {},
   "outputs": [
    {
     "name": "stdout",
     "output_type": "stream",
     "text": [
      "== 2단 ==\n",
      "2 * 1 = 2\n",
      "2 * 2 = 4\n",
      "2 * 3 = 6\n",
      "2 * 4 = 8\n",
      "2 * 5 = 10\n",
      "2 * 6 = 12\n",
      "2 * 7 = 14\n",
      "2 * 8 = 16\n",
      "2 * 9 = 18\n",
      "== 3단 ==\n",
      "3 * 1 = 3\n",
      "3 * 2 = 6\n",
      "3 * 3 = 9\n",
      "3 * 4 = 12\n",
      "3 * 5 = 15\n",
      "3 * 6 = 18\n",
      "3 * 7 = 21\n",
      "3 * 8 = 24\n",
      "3 * 9 = 27\n",
      "== 4단 ==\n",
      "4 * 1 = 4\n",
      "4 * 2 = 8\n",
      "4 * 3 = 12\n",
      "4 * 4 = 16\n",
      "4 * 5 = 20\n",
      "4 * 6 = 24\n",
      "4 * 7 = 28\n",
      "4 * 8 = 32\n",
      "4 * 9 = 36\n",
      "== 5단 ==\n",
      "5 * 1 = 5\n",
      "5 * 2 = 10\n",
      "5 * 3 = 15\n",
      "5 * 4 = 20\n",
      "5 * 5 = 25\n",
      "5 * 6 = 30\n",
      "5 * 7 = 35\n",
      "5 * 8 = 40\n",
      "5 * 9 = 45\n",
      "== 6단 ==\n",
      "6 * 1 = 6\n",
      "6 * 2 = 12\n",
      "6 * 3 = 18\n",
      "6 * 4 = 24\n",
      "6 * 5 = 30\n",
      "6 * 6 = 36\n",
      "6 * 7 = 42\n",
      "6 * 8 = 48\n",
      "6 * 9 = 54\n",
      "== 7단 ==\n",
      "7 * 1 = 7\n",
      "7 * 2 = 14\n",
      "7 * 3 = 21\n",
      "7 * 4 = 28\n",
      "7 * 5 = 35\n",
      "7 * 6 = 42\n",
      "7 * 7 = 49\n",
      "7 * 8 = 56\n",
      "7 * 9 = 63\n",
      "== 8단 ==\n",
      "8 * 1 = 8\n",
      "8 * 2 = 16\n",
      "8 * 3 = 24\n",
      "8 * 4 = 32\n",
      "8 * 5 = 40\n",
      "8 * 6 = 48\n",
      "8 * 7 = 56\n",
      "8 * 8 = 64\n",
      "8 * 9 = 72\n",
      "== 9단 ==\n",
      "9 * 1 = 9\n",
      "9 * 2 = 18\n",
      "9 * 3 = 27\n",
      "9 * 4 = 36\n",
      "9 * 5 = 45\n",
      "9 * 6 = 54\n",
      "9 * 7 = 63\n",
      "9 * 8 = 72\n",
      "9 * 9 = 81\n"
     ]
    }
   ],
   "source": [
    "for i in range(2, 10) :\n",
    "    print(\"== %d단 ==\" % i)\n",
    "    \n",
    "    for j in range(1, 10) :\n",
    "        print(\"%d * %d = %d\" % (i, j, i * j))"
   ]
  },
  {
   "cell_type": "markdown",
   "id": "307d68f0",
   "metadata": {},
   "source": [
    "#### 문제10)\n",
    "구구단 출력2 (중첩 반복문)"
   ]
  },
  {
   "cell_type": "code",
   "execution_count": 14,
   "id": "1a247bbd",
   "metadata": {},
   "outputs": [
    {
     "name": "stdout",
     "output_type": "stream",
     "text": [
      "2 * 1 =  2 3 * 1 =  3 4 * 1 =  4 5 * 1 =  5 6 * 1 =  6 7 * 1 =  7 8 * 1 =  8 9 * 1 =  9 \n",
      "\n",
      "2 * 2 =  4 3 * 2 =  6 4 * 2 =  8 5 * 2 = 10 6 * 2 = 12 7 * 2 = 14 8 * 2 = 16 9 * 2 = 18 \n",
      "\n",
      "2 * 3 =  6 3 * 3 =  9 4 * 3 = 12 5 * 3 = 15 6 * 3 = 18 7 * 3 = 21 8 * 3 = 24 9 * 3 = 27 \n",
      "\n",
      "2 * 4 =  8 3 * 4 = 12 4 * 4 = 16 5 * 4 = 20 6 * 4 = 24 7 * 4 = 28 8 * 4 = 32 9 * 4 = 36 \n",
      "\n",
      "2 * 5 = 10 3 * 5 = 15 4 * 5 = 20 5 * 5 = 25 6 * 5 = 30 7 * 5 = 35 8 * 5 = 40 9 * 5 = 45 \n",
      "\n",
      "2 * 6 = 12 3 * 6 = 18 4 * 6 = 24 5 * 6 = 30 6 * 6 = 36 7 * 6 = 42 8 * 6 = 48 9 * 6 = 54 \n",
      "\n",
      "2 * 7 = 14 3 * 7 = 21 4 * 7 = 28 5 * 7 = 35 6 * 7 = 42 7 * 7 = 49 8 * 7 = 56 9 * 7 = 63 \n",
      "\n",
      "2 * 8 = 16 3 * 8 = 24 4 * 8 = 32 5 * 8 = 40 6 * 8 = 48 7 * 8 = 56 8 * 8 = 64 9 * 8 = 72 \n",
      "\n",
      "2 * 9 = 18 3 * 9 = 27 4 * 9 = 36 5 * 9 = 45 6 * 9 = 54 7 * 9 = 63 8 * 9 = 72 9 * 9 = 81 \n",
      "\n"
     ]
    }
   ],
   "source": [
    "for i in range(1,10) :\n",
    "    for j in range(2,10) :\n",
    "        print(\"%d * %d = %2d \" % (j, i, j*i), end = '')\n",
    "    print(\"\\n\")\n",
    "        "
   ]
  },
  {
   "cell_type": "markdown",
   "id": "41b61b29",
   "metadata": {},
   "source": [
    "#### 문제11)\n",
    "★ 출력 프로그램"
   ]
  },
  {
   "cell_type": "code",
   "execution_count": 37,
   "id": "a3738278",
   "metadata": {},
   "outputs": [
    {
     "name": "stdout",
     "output_type": "stream",
     "text": [
      "Input an integer: 3159\n",
      "★★★\n",
      "★\n",
      "★★★★★\n",
      "★★★★★★★★★\n"
     ]
    }
   ],
   "source": [
    "num = input(\"Input an integer: \")\n",
    "\n",
    "for i in range(len(num)) :\n",
    "    val = int(num[i])\n",
    "    print(\"★\" * val)"
   ]
  },
  {
   "cell_type": "markdown",
   "id": "8afe65f0",
   "metadata": {},
   "source": [
    "#### 문제12)\n",
    "“done“을 입력할 때까지 사용자로부터 숫자를 입력 받아 리스트에 저장하고, “done“을 입력하면, 리스트의 평균, 최대값과 최소값을 출력하는 프로그램을 작성하시오.\n",
    "\n",
    "(힌트) sum(), max(), min() 함수를 사용"
   ]
  },
  {
   "cell_type": "code",
   "execution_count": 45,
   "id": "07269066",
   "metadata": {},
   "outputs": [
    {
     "name": "stdout",
     "output_type": "stream",
     "text": [
      "Enter a number: 7\n",
      "Enter a number: 2\n",
      "Enter a number: 9\n",
      "Enter a number: 3\n",
      "Enter a number: 5\n",
      "Enter a number: done\n",
      "\n",
      "\n",
      "[7.0, 2.0, 9.0, 3.0, 5.0]\n",
      "Average: 5.2\n",
      "Maximum: 9.0\n",
      "Minimum: 2.0\n"
     ]
    }
   ],
   "source": [
    "lst = []\n",
    "\n",
    "while True:\n",
    "    num = input(\"Enter a number: \")\n",
    "    lst.append(num)\n",
    "    \n",
    "    if num == \"done\" :\n",
    "        break\n",
    "        \n",
    "\n",
    "lst.remove('done')\n",
    "lst = list(map(float, lst))\n",
    "\n",
    "avg = sum(lst) / len(lst)\n",
    "maxi = max(lst)\n",
    "mini = min(lst)\n",
    "\n",
    "print(\"\\n\")\n",
    "print(lst)\n",
    "print(\"Average: %.1f\" % avg)\n",
    "print(\"Maximum: %.1f\" % maxi)\n",
    "print(\"Minimum: %.1f\" % mini)   "
   ]
  },
  {
   "cell_type": "code",
   "execution_count": null,
   "id": "5970f918",
   "metadata": {},
   "outputs": [],
   "source": []
  },
  {
   "cell_type": "code",
   "execution_count": null,
   "id": "90608a2e",
   "metadata": {},
   "outputs": [],
   "source": []
  },
  {
   "cell_type": "code",
   "execution_count": null,
   "id": "996a8cf6",
   "metadata": {},
   "outputs": [],
   "source": []
  },
  {
   "cell_type": "code",
   "execution_count": null,
   "id": "554c5bf9",
   "metadata": {},
   "outputs": [],
   "source": []
  },
  {
   "cell_type": "code",
   "execution_count": null,
   "id": "b4e9f0c5",
   "metadata": {},
   "outputs": [],
   "source": []
  },
  {
   "cell_type": "code",
   "execution_count": null,
   "id": "93403eab",
   "metadata": {},
   "outputs": [],
   "source": []
  }
 ],
 "metadata": {
  "kernelspec": {
   "display_name": "Python 3 (ipykernel)",
   "language": "python",
   "name": "python3"
  },
  "language_info": {
   "codemirror_mode": {
    "name": "ipython",
    "version": 3
   },
   "file_extension": ".py",
   "mimetype": "text/x-python",
   "name": "python",
   "nbconvert_exporter": "python",
   "pygments_lexer": "ipython3",
   "version": "3.9.12"
  }
 },
 "nbformat": 4,
 "nbformat_minor": 5
}
