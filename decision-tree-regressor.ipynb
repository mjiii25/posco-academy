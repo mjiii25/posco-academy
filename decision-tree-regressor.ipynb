{
  "nbformat": 4,
  "nbformat_minor": 0,
  "metadata": {
    "colab": {
      "name": "Untitled39.ipynb",
      "provenance": [],
      "authorship_tag": "ABX9TyPRawG7wsy2AmkbtUcQzXjr",
      "include_colab_link": true
    },
    "kernelspec": {
      "name": "python3",
      "display_name": "Python 3"
    },
    "language_info": {
      "name": "python"
    }
  },
  "cells": [
    {
      "cell_type": "markdown",
      "metadata": {
        "id": "view-in-github",
        "colab_type": "text"
      },
      "source": [
        "<a href=\"https://colab.research.google.com/github/mjiii25/posco-academy/blob/main/decision-tree-regressor.ipynb\" target=\"_parent\"><img src=\"https://colab.research.google.com/assets/colab-badge.svg\" alt=\"Open In Colab\"/></a>"
      ]
    },
    {
      "cell_type": "markdown",
      "source": [
        "# **다중선형 회귀분석 (BIg Data 분석-(1) 50쪽)**"
      ],
      "metadata": {
        "id": "I_EHR9RWoTPo"
      }
    },
    {
      "cell_type": "code",
      "source": [
        "from google.colab import drive\n",
        "drive.mount('/content/mydrive')"
      ],
      "metadata": {
        "colab": {
          "base_uri": "https://localhost:8080/"
        },
        "id": "7iZrSIPHpYB7",
        "outputId": "afe588e7-72c3-46ab-d1e3-70024da3061d"
      },
      "execution_count": 1,
      "outputs": [
        {
          "output_type": "stream",
          "name": "stdout",
          "text": [
            "Mounted at /content/mydrive\n"
          ]
        }
      ]
    },
    {
      "cell_type": "code",
      "execution_count": 55,
      "metadata": {
        "id": "HSov7vRWoQU7"
      },
      "outputs": [],
      "source": [
        "import pandas as pd\n",
        "import numpy as np\n",
        "import matplotlib\n",
        "import matplotlib.pyplot as plt\n",
        "import seaborn as sns\n",
        "\n",
        "from statsmodels.formula.api import ols\n",
        "from statsmodels.api import qqplot, add_constant\n",
        "import statsmodels.formula.api as smf\n",
        "from statsmodels.stats.outliers_influence import variance_inflation_factor\n",
        "\n",
        "from sklearn.model_selection import train_test_split, GridSearchCV\n",
        "from sklearn.linear_model import LinearRegression, Ridge, Lasso, ElasticNet\n",
        "from sklearn.feature_selection import RFE\n",
        "from sklearn.tree import export_graphviz, DecisionTreeRegressor\n",
        "import graphviz\n",
        "\n",
        "from sklearn.preprocessing import StandardScaler\n",
        "from statsmodels.tools.eval_measures import rmse\n",
        "from sklearn.metrics import r2_score"
      ]
    },
    {
      "cell_type": "code",
      "source": [
        "matplotlib.rc('font', family = 'Malgun Gothic')\n",
        "matplotlib.rc('axes', unicode_minus = False)"
      ],
      "metadata": {
        "id": "_oZCgG25pGm8"
      },
      "execution_count": 46,
      "outputs": []
    },
    {
      "cell_type": "markdown",
      "source": [
        "### **데이터 구성하기**"
      ],
      "metadata": {
        "id": "9l37vGwKpTgA"
      }
    },
    {
      "cell_type": "code",
      "source": [
        "df_raw = pd.read_csv('/content/mydrive/MyDrive/체질검사.csv')\n",
        "\n",
        "print(df_raw.shape)\n",
        "df_raw.head()"
      ],
      "metadata": {
        "colab": {
          "base_uri": "https://localhost:8080/",
          "height": 224
        },
        "id": "OoBu-3EOpHE9",
        "outputId": "c2aee584-b944-4a5e-8c83-4459c71747a4"
      },
      "execution_count": 47,
      "outputs": [
        {
          "output_type": "stream",
          "name": "stdout",
          "text": [
            "(252, 14)\n"
          ]
        },
        {
          "output_type": "execute_result",
          "data": {
            "text/plain": [
              "    FAT  AGE  WEIGHT  HEIGHT  NECK  CHEST  ABDOMEN    HIP  THIGH  KNEE  ANKLE  \\\n",
              "0  35.2   46  363.15   72.25  51.2  136.2    148.1  147.7   87.3  49.1   29.6   \n",
              "1  11.8   27  168.00   71.25  38.1   93.0     79.1   94.5   57.3  36.2   24.5   \n",
              "2  22.2   69  177.75   68.50  38.7  102.0     95.0   98.3   55.0  38.3   21.8   \n",
              "3  10.6   57  147.75   65.75  35.2   99.6     86.4   90.1   53.0  35.0   21.3   \n",
              "4  47.5   51  219.00   64.00  41.2  119.8    122.1  112.8   62.5  36.9   23.6   \n",
              "\n",
              "   BICEPS  FOREARM  WRIST  \n",
              "0    45.0     29.0   21.4  \n",
              "1    29.0     30.0   18.8  \n",
              "2    30.8     25.7   18.8  \n",
              "3    31.7     27.3   16.9  \n",
              "4    34.7     29.1   18.4  "
            ],
            "text/html": [
              "\n",
              "  <div id=\"df-2e615538-0b5d-484e-9b18-5475b5271e8b\">\n",
              "    <div class=\"colab-df-container\">\n",
              "      <div>\n",
              "<style scoped>\n",
              "    .dataframe tbody tr th:only-of-type {\n",
              "        vertical-align: middle;\n",
              "    }\n",
              "\n",
              "    .dataframe tbody tr th {\n",
              "        vertical-align: top;\n",
              "    }\n",
              "\n",
              "    .dataframe thead th {\n",
              "        text-align: right;\n",
              "    }\n",
              "</style>\n",
              "<table border=\"1\" class=\"dataframe\">\n",
              "  <thead>\n",
              "    <tr style=\"text-align: right;\">\n",
              "      <th></th>\n",
              "      <th>FAT</th>\n",
              "      <th>AGE</th>\n",
              "      <th>WEIGHT</th>\n",
              "      <th>HEIGHT</th>\n",
              "      <th>NECK</th>\n",
              "      <th>CHEST</th>\n",
              "      <th>ABDOMEN</th>\n",
              "      <th>HIP</th>\n",
              "      <th>THIGH</th>\n",
              "      <th>KNEE</th>\n",
              "      <th>ANKLE</th>\n",
              "      <th>BICEPS</th>\n",
              "      <th>FOREARM</th>\n",
              "      <th>WRIST</th>\n",
              "    </tr>\n",
              "  </thead>\n",
              "  <tbody>\n",
              "    <tr>\n",
              "      <th>0</th>\n",
              "      <td>35.2</td>\n",
              "      <td>46</td>\n",
              "      <td>363.15</td>\n",
              "      <td>72.25</td>\n",
              "      <td>51.2</td>\n",
              "      <td>136.2</td>\n",
              "      <td>148.1</td>\n",
              "      <td>147.7</td>\n",
              "      <td>87.3</td>\n",
              "      <td>49.1</td>\n",
              "      <td>29.6</td>\n",
              "      <td>45.0</td>\n",
              "      <td>29.0</td>\n",
              "      <td>21.4</td>\n",
              "    </tr>\n",
              "    <tr>\n",
              "      <th>1</th>\n",
              "      <td>11.8</td>\n",
              "      <td>27</td>\n",
              "      <td>168.00</td>\n",
              "      <td>71.25</td>\n",
              "      <td>38.1</td>\n",
              "      <td>93.0</td>\n",
              "      <td>79.1</td>\n",
              "      <td>94.5</td>\n",
              "      <td>57.3</td>\n",
              "      <td>36.2</td>\n",
              "      <td>24.5</td>\n",
              "      <td>29.0</td>\n",
              "      <td>30.0</td>\n",
              "      <td>18.8</td>\n",
              "    </tr>\n",
              "    <tr>\n",
              "      <th>2</th>\n",
              "      <td>22.2</td>\n",
              "      <td>69</td>\n",
              "      <td>177.75</td>\n",
              "      <td>68.50</td>\n",
              "      <td>38.7</td>\n",
              "      <td>102.0</td>\n",
              "      <td>95.0</td>\n",
              "      <td>98.3</td>\n",
              "      <td>55.0</td>\n",
              "      <td>38.3</td>\n",
              "      <td>21.8</td>\n",
              "      <td>30.8</td>\n",
              "      <td>25.7</td>\n",
              "      <td>18.8</td>\n",
              "    </tr>\n",
              "    <tr>\n",
              "      <th>3</th>\n",
              "      <td>10.6</td>\n",
              "      <td>57</td>\n",
              "      <td>147.75</td>\n",
              "      <td>65.75</td>\n",
              "      <td>35.2</td>\n",
              "      <td>99.6</td>\n",
              "      <td>86.4</td>\n",
              "      <td>90.1</td>\n",
              "      <td>53.0</td>\n",
              "      <td>35.0</td>\n",
              "      <td>21.3</td>\n",
              "      <td>31.7</td>\n",
              "      <td>27.3</td>\n",
              "      <td>16.9</td>\n",
              "    </tr>\n",
              "    <tr>\n",
              "      <th>4</th>\n",
              "      <td>47.5</td>\n",
              "      <td>51</td>\n",
              "      <td>219.00</td>\n",
              "      <td>64.00</td>\n",
              "      <td>41.2</td>\n",
              "      <td>119.8</td>\n",
              "      <td>122.1</td>\n",
              "      <td>112.8</td>\n",
              "      <td>62.5</td>\n",
              "      <td>36.9</td>\n",
              "      <td>23.6</td>\n",
              "      <td>34.7</td>\n",
              "      <td>29.1</td>\n",
              "      <td>18.4</td>\n",
              "    </tr>\n",
              "  </tbody>\n",
              "</table>\n",
              "</div>\n",
              "      <button class=\"colab-df-convert\" onclick=\"convertToInteractive('df-2e615538-0b5d-484e-9b18-5475b5271e8b')\"\n",
              "              title=\"Convert this dataframe to an interactive table.\"\n",
              "              style=\"display:none;\">\n",
              "        \n",
              "  <svg xmlns=\"http://www.w3.org/2000/svg\" height=\"24px\"viewBox=\"0 0 24 24\"\n",
              "       width=\"24px\">\n",
              "    <path d=\"M0 0h24v24H0V0z\" fill=\"none\"/>\n",
              "    <path d=\"M18.56 5.44l.94 2.06.94-2.06 2.06-.94-2.06-.94-.94-2.06-.94 2.06-2.06.94zm-11 1L8.5 8.5l.94-2.06 2.06-.94-2.06-.94L8.5 2.5l-.94 2.06-2.06.94zm10 10l.94 2.06.94-2.06 2.06-.94-2.06-.94-.94-2.06-.94 2.06-2.06.94z\"/><path d=\"M17.41 7.96l-1.37-1.37c-.4-.4-.92-.59-1.43-.59-.52 0-1.04.2-1.43.59L10.3 9.45l-7.72 7.72c-.78.78-.78 2.05 0 2.83L4 21.41c.39.39.9.59 1.41.59.51 0 1.02-.2 1.41-.59l7.78-7.78 2.81-2.81c.8-.78.8-2.07 0-2.86zM5.41 20L4 18.59l7.72-7.72 1.47 1.35L5.41 20z\"/>\n",
              "  </svg>\n",
              "      </button>\n",
              "      \n",
              "  <style>\n",
              "    .colab-df-container {\n",
              "      display:flex;\n",
              "      flex-wrap:wrap;\n",
              "      gap: 12px;\n",
              "    }\n",
              "\n",
              "    .colab-df-convert {\n",
              "      background-color: #E8F0FE;\n",
              "      border: none;\n",
              "      border-radius: 50%;\n",
              "      cursor: pointer;\n",
              "      display: none;\n",
              "      fill: #1967D2;\n",
              "      height: 32px;\n",
              "      padding: 0 0 0 0;\n",
              "      width: 32px;\n",
              "    }\n",
              "\n",
              "    .colab-df-convert:hover {\n",
              "      background-color: #E2EBFA;\n",
              "      box-shadow: 0px 1px 2px rgba(60, 64, 67, 0.3), 0px 1px 3px 1px rgba(60, 64, 67, 0.15);\n",
              "      fill: #174EA6;\n",
              "    }\n",
              "\n",
              "    [theme=dark] .colab-df-convert {\n",
              "      background-color: #3B4455;\n",
              "      fill: #D2E3FC;\n",
              "    }\n",
              "\n",
              "    [theme=dark] .colab-df-convert:hover {\n",
              "      background-color: #434B5C;\n",
              "      box-shadow: 0px 1px 3px 1px rgba(0, 0, 0, 0.15);\n",
              "      filter: drop-shadow(0px 1px 2px rgba(0, 0, 0, 0.3));\n",
              "      fill: #FFFFFF;\n",
              "    }\n",
              "  </style>\n",
              "\n",
              "      <script>\n",
              "        const buttonEl =\n",
              "          document.querySelector('#df-2e615538-0b5d-484e-9b18-5475b5271e8b button.colab-df-convert');\n",
              "        buttonEl.style.display =\n",
              "          google.colab.kernel.accessAllowed ? 'block' : 'none';\n",
              "\n",
              "        async function convertToInteractive(key) {\n",
              "          const element = document.querySelector('#df-2e615538-0b5d-484e-9b18-5475b5271e8b');\n",
              "          const dataTable =\n",
              "            await google.colab.kernel.invokeFunction('convertToInteractive',\n",
              "                                                     [key], {});\n",
              "          if (!dataTable) return;\n",
              "\n",
              "          const docLinkHtml = 'Like what you see? Visit the ' +\n",
              "            '<a target=\"_blank\" href=https://colab.research.google.com/notebooks/data_table.ipynb>data table notebook</a>'\n",
              "            + ' to learn more about interactive tables.';\n",
              "          element.innerHTML = '';\n",
              "          dataTable['output_type'] = 'display_data';\n",
              "          await google.colab.output.renderOutput(dataTable, element);\n",
              "          const docLink = document.createElement('div');\n",
              "          docLink.innerHTML = docLinkHtml;\n",
              "          element.appendChild(docLink);\n",
              "        }\n",
              "      </script>\n",
              "    </div>\n",
              "  </div>\n",
              "  "
            ]
          },
          "metadata": {},
          "execution_count": 47
        }
      ]
    },
    {
      "cell_type": "code",
      "source": [
        "df_raw.info()"
      ],
      "metadata": {
        "colab": {
          "base_uri": "https://localhost:8080/"
        },
        "id": "_3GKb6p1pHGt",
        "outputId": "f9de18fa-d2db-4dcc-f02b-5075ce942679"
      },
      "execution_count": 48,
      "outputs": [
        {
          "output_type": "stream",
          "name": "stdout",
          "text": [
            "<class 'pandas.core.frame.DataFrame'>\n",
            "RangeIndex: 252 entries, 0 to 251\n",
            "Data columns (total 14 columns):\n",
            " #   Column   Non-Null Count  Dtype  \n",
            "---  ------   --------------  -----  \n",
            " 0   FAT      252 non-null    float64\n",
            " 1   AGE      252 non-null    int64  \n",
            " 2   WEIGHT   252 non-null    float64\n",
            " 3   HEIGHT   252 non-null    float64\n",
            " 4   NECK     252 non-null    float64\n",
            " 5   CHEST    252 non-null    float64\n",
            " 6   ABDOMEN  252 non-null    float64\n",
            " 7   HIP      252 non-null    float64\n",
            " 8   THIGH    252 non-null    float64\n",
            " 9   KNEE     252 non-null    float64\n",
            " 10  ANKLE    252 non-null    float64\n",
            " 11  BICEPS   252 non-null    float64\n",
            " 12  FOREARM  252 non-null    float64\n",
            " 13  WRIST    252 non-null    float64\n",
            "dtypes: float64(13), int64(1)\n",
            "memory usage: 27.7 KB\n"
          ]
        }
      ]
    },
    {
      "cell_type": "code",
      "source": [
        "df_raw_y = df_raw['FAT']\n",
        "df_raw_x = df_raw.drop('FAT', axis = 1, inplace = False)"
      ],
      "metadata": {
        "id": "5_TBZVZBvtjn"
      },
      "execution_count": 49,
      "outputs": []
    },
    {
      "cell_type": "code",
      "source": [
        "df_train_x, df_test_x, df_train_y, df_test_y = train_test_split(df_raw_x,\n",
        "                                                                df_raw_y,\n",
        "                                                                test_size = 0.3,\n",
        "                                                                random_state = 1234)\n",
        "\n",
        "print('Train data X size : {}'.format(df_train_x.shape))\n",
        "print('Train data Y size : {}'.format(df_train_y.shape))\n",
        "print('Test data X size : {}'.format(df_test_x.shape))\n",
        "print('Test data Y size : {}'.format(df_test_y.shape))"
      ],
      "metadata": {
        "id": "xQ6UG9L83vSI",
        "outputId": "0d2c7f9b-052c-4935-f52e-2c3e5299f9ca",
        "colab": {
          "base_uri": "https://localhost:8080/"
        }
      },
      "execution_count": 50,
      "outputs": [
        {
          "output_type": "stream",
          "name": "stdout",
          "text": [
            "Train data X size : (176, 13)\n",
            "Train data Y size : (176,)\n",
            "Test data X size : (76, 13)\n",
            "Test data Y size : (76,)\n"
          ]
        }
      ]
    },
    {
      "cell_type": "markdown",
      "source": [
        "### **모델 생성**"
      ],
      "metadata": {
        "id": "s4GPVmG94E8v"
      }
    },
    {
      "cell_type": "code",
      "source": [
        "tree_uncustomized = DecisionTreeRegressor(random_state = 1234)\n",
        "tree_uncustomized.fit(df_train_x, df_train_y)\n",
        "\n",
        "print('Score on training set : {:.3f}'.format(tree_uncustomized.score(df_train_x, df_train_y)))\n",
        "print('Score on test set : {:.3f}'.format(tree_uncustomized.score(df_test_x, df_test_y)))"
      ],
      "metadata": {
        "id": "LYr8ywuz4HEm",
        "outputId": "d2e75cb0-29ec-4dad-ff1f-79873b7d7782",
        "colab": {
          "base_uri": "https://localhost:8080/"
        }
      },
      "execution_count": 51,
      "outputs": [
        {
          "output_type": "stream",
          "name": "stdout",
          "text": [
            "Score on training set : 1.000\n",
            "Score on test set : 0.345\n"
          ]
        }
      ]
    },
    {
      "cell_type": "markdown",
      "source": [
        "#### **모델 파라미터 조정하기 : min_samples_leaf**"
      ],
      "metadata": {
        "id": "APuO_2fa4n9X"
      }
    },
    {
      "cell_type": "code",
      "source": [
        "train_score = []; test_score = []\n",
        "para_leaf = [n_leaf * 1 for n_leaf in range(1,20)]\n",
        "\n",
        "for v_min_samples_leaf in para_leaf :\n",
        "    tree = DecisionTreeRegressor(random_state = 1234,\n",
        "                                 min_samples_leaf = v_min_samples_leaf)\n",
        "    tree.fit(df_train_x, df_train_y)\n",
        "    train_score.append(tree.score(df_train_x, df_train_y))\n",
        "    test_score.append(tree.score(df_test_x, df_test_y))\n",
        "\n",
        "df_score_leaf = pd.DataFrame()\n",
        "df_score_leaf['MinSamplesLeaf'] = para_leaf\n",
        "df_score_leaf['TrainScore'] = train_score\n",
        "df_score_leaf['TestScore'] = test_score"
      ],
      "metadata": {
        "id": "SLEIBMHS4dvT"
      },
      "execution_count": 52,
      "outputs": []
    },
    {
      "cell_type": "code",
      "source": [
        "df_score_leaf.round(3)"
      ],
      "metadata": {
        "colab": {
          "base_uri": "https://localhost:8080/",
          "height": 645
        },
        "id": "eY7qwFfu4sw-",
        "outputId": "77aa00ab-a350-4ec5-bab8-6ed97bf1f09f"
      },
      "execution_count": 53,
      "outputs": [
        {
          "output_type": "execute_result",
          "data": {
            "text/plain": [
              "    MinSamplesLeaf  TrainScore  TestScore\n",
              "0                1       1.000      0.345\n",
              "1                2       0.970      0.374\n",
              "2                3       0.928      0.445\n",
              "3                4       0.902      0.447\n",
              "4                5       0.868      0.451\n",
              "5                6       0.851      0.447\n",
              "6                7       0.843      0.465\n",
              "7                8       0.830      0.536\n",
              "8                9       0.802      0.477\n",
              "9               10       0.793      0.505\n",
              "10              11       0.769      0.591\n",
              "11              12       0.761      0.525\n",
              "12              13       0.761      0.521\n",
              "13              14       0.742      0.545\n",
              "14              15       0.742      0.545\n",
              "15              16       0.738      0.600\n",
              "16              17       0.727      0.530\n",
              "17              18       0.727      0.530\n",
              "18              19       0.722      0.610"
            ],
            "text/html": [
              "\n",
              "  <div id=\"df-fa2d5284-3746-43a2-af48-94553de44e2c\">\n",
              "    <div class=\"colab-df-container\">\n",
              "      <div>\n",
              "<style scoped>\n",
              "    .dataframe tbody tr th:only-of-type {\n",
              "        vertical-align: middle;\n",
              "    }\n",
              "\n",
              "    .dataframe tbody tr th {\n",
              "        vertical-align: top;\n",
              "    }\n",
              "\n",
              "    .dataframe thead th {\n",
              "        text-align: right;\n",
              "    }\n",
              "</style>\n",
              "<table border=\"1\" class=\"dataframe\">\n",
              "  <thead>\n",
              "    <tr style=\"text-align: right;\">\n",
              "      <th></th>\n",
              "      <th>MinSamplesLeaf</th>\n",
              "      <th>TrainScore</th>\n",
              "      <th>TestScore</th>\n",
              "    </tr>\n",
              "  </thead>\n",
              "  <tbody>\n",
              "    <tr>\n",
              "      <th>0</th>\n",
              "      <td>1</td>\n",
              "      <td>1.000</td>\n",
              "      <td>0.345</td>\n",
              "    </tr>\n",
              "    <tr>\n",
              "      <th>1</th>\n",
              "      <td>2</td>\n",
              "      <td>0.970</td>\n",
              "      <td>0.374</td>\n",
              "    </tr>\n",
              "    <tr>\n",
              "      <th>2</th>\n",
              "      <td>3</td>\n",
              "      <td>0.928</td>\n",
              "      <td>0.445</td>\n",
              "    </tr>\n",
              "    <tr>\n",
              "      <th>3</th>\n",
              "      <td>4</td>\n",
              "      <td>0.902</td>\n",
              "      <td>0.447</td>\n",
              "    </tr>\n",
              "    <tr>\n",
              "      <th>4</th>\n",
              "      <td>5</td>\n",
              "      <td>0.868</td>\n",
              "      <td>0.451</td>\n",
              "    </tr>\n",
              "    <tr>\n",
              "      <th>5</th>\n",
              "      <td>6</td>\n",
              "      <td>0.851</td>\n",
              "      <td>0.447</td>\n",
              "    </tr>\n",
              "    <tr>\n",
              "      <th>6</th>\n",
              "      <td>7</td>\n",
              "      <td>0.843</td>\n",
              "      <td>0.465</td>\n",
              "    </tr>\n",
              "    <tr>\n",
              "      <th>7</th>\n",
              "      <td>8</td>\n",
              "      <td>0.830</td>\n",
              "      <td>0.536</td>\n",
              "    </tr>\n",
              "    <tr>\n",
              "      <th>8</th>\n",
              "      <td>9</td>\n",
              "      <td>0.802</td>\n",
              "      <td>0.477</td>\n",
              "    </tr>\n",
              "    <tr>\n",
              "      <th>9</th>\n",
              "      <td>10</td>\n",
              "      <td>0.793</td>\n",
              "      <td>0.505</td>\n",
              "    </tr>\n",
              "    <tr>\n",
              "      <th>10</th>\n",
              "      <td>11</td>\n",
              "      <td>0.769</td>\n",
              "      <td>0.591</td>\n",
              "    </tr>\n",
              "    <tr>\n",
              "      <th>11</th>\n",
              "      <td>12</td>\n",
              "      <td>0.761</td>\n",
              "      <td>0.525</td>\n",
              "    </tr>\n",
              "    <tr>\n",
              "      <th>12</th>\n",
              "      <td>13</td>\n",
              "      <td>0.761</td>\n",
              "      <td>0.521</td>\n",
              "    </tr>\n",
              "    <tr>\n",
              "      <th>13</th>\n",
              "      <td>14</td>\n",
              "      <td>0.742</td>\n",
              "      <td>0.545</td>\n",
              "    </tr>\n",
              "    <tr>\n",
              "      <th>14</th>\n",
              "      <td>15</td>\n",
              "      <td>0.742</td>\n",
              "      <td>0.545</td>\n",
              "    </tr>\n",
              "    <tr>\n",
              "      <th>15</th>\n",
              "      <td>16</td>\n",
              "      <td>0.738</td>\n",
              "      <td>0.600</td>\n",
              "    </tr>\n",
              "    <tr>\n",
              "      <th>16</th>\n",
              "      <td>17</td>\n",
              "      <td>0.727</td>\n",
              "      <td>0.530</td>\n",
              "    </tr>\n",
              "    <tr>\n",
              "      <th>17</th>\n",
              "      <td>18</td>\n",
              "      <td>0.727</td>\n",
              "      <td>0.530</td>\n",
              "    </tr>\n",
              "    <tr>\n",
              "      <th>18</th>\n",
              "      <td>19</td>\n",
              "      <td>0.722</td>\n",
              "      <td>0.610</td>\n",
              "    </tr>\n",
              "  </tbody>\n",
              "</table>\n",
              "</div>\n",
              "      <button class=\"colab-df-convert\" onclick=\"convertToInteractive('df-fa2d5284-3746-43a2-af48-94553de44e2c')\"\n",
              "              title=\"Convert this dataframe to an interactive table.\"\n",
              "              style=\"display:none;\">\n",
              "        \n",
              "  <svg xmlns=\"http://www.w3.org/2000/svg\" height=\"24px\"viewBox=\"0 0 24 24\"\n",
              "       width=\"24px\">\n",
              "    <path d=\"M0 0h24v24H0V0z\" fill=\"none\"/>\n",
              "    <path d=\"M18.56 5.44l.94 2.06.94-2.06 2.06-.94-2.06-.94-.94-2.06-.94 2.06-2.06.94zm-11 1L8.5 8.5l.94-2.06 2.06-.94-2.06-.94L8.5 2.5l-.94 2.06-2.06.94zm10 10l.94 2.06.94-2.06 2.06-.94-2.06-.94-.94-2.06-.94 2.06-2.06.94z\"/><path d=\"M17.41 7.96l-1.37-1.37c-.4-.4-.92-.59-1.43-.59-.52 0-1.04.2-1.43.59L10.3 9.45l-7.72 7.72c-.78.78-.78 2.05 0 2.83L4 21.41c.39.39.9.59 1.41.59.51 0 1.02-.2 1.41-.59l7.78-7.78 2.81-2.81c.8-.78.8-2.07 0-2.86zM5.41 20L4 18.59l7.72-7.72 1.47 1.35L5.41 20z\"/>\n",
              "  </svg>\n",
              "      </button>\n",
              "      \n",
              "  <style>\n",
              "    .colab-df-container {\n",
              "      display:flex;\n",
              "      flex-wrap:wrap;\n",
              "      gap: 12px;\n",
              "    }\n",
              "\n",
              "    .colab-df-convert {\n",
              "      background-color: #E8F0FE;\n",
              "      border: none;\n",
              "      border-radius: 50%;\n",
              "      cursor: pointer;\n",
              "      display: none;\n",
              "      fill: #1967D2;\n",
              "      height: 32px;\n",
              "      padding: 0 0 0 0;\n",
              "      width: 32px;\n",
              "    }\n",
              "\n",
              "    .colab-df-convert:hover {\n",
              "      background-color: #E2EBFA;\n",
              "      box-shadow: 0px 1px 2px rgba(60, 64, 67, 0.3), 0px 1px 3px 1px rgba(60, 64, 67, 0.15);\n",
              "      fill: #174EA6;\n",
              "    }\n",
              "\n",
              "    [theme=dark] .colab-df-convert {\n",
              "      background-color: #3B4455;\n",
              "      fill: #D2E3FC;\n",
              "    }\n",
              "\n",
              "    [theme=dark] .colab-df-convert:hover {\n",
              "      background-color: #434B5C;\n",
              "      box-shadow: 0px 1px 3px 1px rgba(0, 0, 0, 0.15);\n",
              "      filter: drop-shadow(0px 1px 2px rgba(0, 0, 0, 0.3));\n",
              "      fill: #FFFFFF;\n",
              "    }\n",
              "  </style>\n",
              "\n",
              "      <script>\n",
              "        const buttonEl =\n",
              "          document.querySelector('#df-fa2d5284-3746-43a2-af48-94553de44e2c button.colab-df-convert');\n",
              "        buttonEl.style.display =\n",
              "          google.colab.kernel.accessAllowed ? 'block' : 'none';\n",
              "\n",
              "        async function convertToInteractive(key) {\n",
              "          const element = document.querySelector('#df-fa2d5284-3746-43a2-af48-94553de44e2c');\n",
              "          const dataTable =\n",
              "            await google.colab.kernel.invokeFunction('convertToInteractive',\n",
              "                                                     [key], {});\n",
              "          if (!dataTable) return;\n",
              "\n",
              "          const docLinkHtml = 'Like what you see? Visit the ' +\n",
              "            '<a target=\"_blank\" href=https://colab.research.google.com/notebooks/data_table.ipynb>data table notebook</a>'\n",
              "            + ' to learn more about interactive tables.';\n",
              "          element.innerHTML = '';\n",
              "          dataTable['output_type'] = 'display_data';\n",
              "          await google.colab.output.renderOutput(dataTable, element);\n",
              "          const docLink = document.createElement('div');\n",
              "          docLink.innerHTML = docLinkHtml;\n",
              "          element.appendChild(docLink);\n",
              "        }\n",
              "      </script>\n",
              "    </div>\n",
              "  </div>\n",
              "  "
            ]
          },
          "metadata": {},
          "execution_count": 53
        }
      ]
    },
    {
      "cell_type": "code",
      "source": [
        "plt.plot(para_leaf, train_score, linestyle = '-', label = 'Train Score')\n",
        "plt.plot(para_leaf, test_score, linestyle = '-', label = 'Test Score')\n",
        "plt.ylabel('score'); plt.xlabel('MinSamplesLeaf')\n",
        "plt.legend()"
      ],
      "metadata": {
        "colab": {
          "base_uri": "https://localhost:8080/",
          "height": 297
        },
        "id": "SOeFv3FB4s1L",
        "outputId": "dceee0b0-1ca2-4f12-e055-eef53f1ceb7b"
      },
      "execution_count": 54,
      "outputs": [
        {
          "output_type": "execute_result",
          "data": {
            "text/plain": [
              "<matplotlib.legend.Legend at 0x7fccd93976d0>"
            ]
          },
          "metadata": {},
          "execution_count": 54
        },
        {
          "output_type": "display_data",
          "data": {
            "text/plain": [
              "<Figure size 432x288 with 1 Axes>"
            ],
            "image/png": "[encoded data removed]"
          },
          "metadata": {
            "needs_background": "light"
          }
        }
      ]
    },
    {
      "cell_type": "code",
      "source": [
        "# 나무구조 시각화 : min_samples_leaf = 8\n",
        "\n",
        "v_feature_name = df_train_x.columns\n",
        "\n",
        "tree_graph = DecisionTreeRegressor(random_state = 1234,\n",
        "                                   min_samples_leaf = 8)\n",
        "tree_graph.fit(df_train_x, df_train_y)\n",
        "export_graphviz(tree_graph, out_file = 'tree_leaf.dot',\n",
        "                feature_names = v_feature_name, impurity = True, filled = True)\n",
        "\n",
        "with open('tree_leaf.dot') as f :\n",
        "    dot_graph = f.read()\n",
        "    display(graphviz.Source(dot_graph))"
      ],
      "metadata": {
        "colab": {
          "base_uri": "https://localhost:8080/",
          "height": 1000
        },
        "id": "rEIg4e3O4s3n",
        "outputId": "d6b0f8b1-6514-4639-d646-7448e9c47135"
      },
      "execution_count": 57,
      "outputs": [
        {
          "output_type": "display_data",
          "data": {
            "text/plain": [
              "<graphviz.files.Source at 0x7fccd9067750>"
            ],
            "image/svg+xml": "<?xml version=\"1.0\" encoding=\"UTF-8\" standalone=\"no\"?>\n<!DOCTYPE svg PUBLIC \"-//W3C//DTD SVG 1.1//EN\"\n \"http://www.w3.org/Graphics/SVG/1.1/DTD/svg11.dtd\">\n<!-- Generated by graphviz version 2.40.1 (20161225.0304)\n -->\n<!-- Title: Tree Pages: 1 -->\n<svg width=\"1668pt\" height=\"789pt\"\n viewBox=\"0.00 0.00 1668.00 789.00\" xmlns=\"http://www.w3.org/2000/svg\" xmlns:xlink=\"http://www.w3.org/1999/xlink\">\n<g id=\"graph0\" class=\"graph\" transform=\"scale(1 1) rotate(0) translate(4 785)\">\n<title>Tree</title>\n<polygon fill=\"#ffffff\" stroke=\"transparent\" points=\"-4,4 -4,-785 1664,-785 1664,4 -4,4\"/>\n<!-- 0 -->\n<g id=\"node1\" class=\"node\">\n<title>0</title>\n<polygon fill=\"#f3c7a7\" stroke=\"#000000\" points=\"1005,-781 836,-781 836,-713 1005,-713 1005,-781\"/>\n<text text-anchor=\"middle\" x=\"920.5\" y=\"-765.8\" font-family=\"Helvetica,sans-Serif\" font-size=\"14.00\" fill=\"#000000\">ABDOMEN &lt;= 91.3</text>\n<text text-anchor=\"middle\" x=\"920.5\" y=\"-750.8\" font-family=\"Helvetica,sans-Serif\" font-size=\"14.00\" fill=\"#000000\">squared_error = 70.379</text>\n<text text-anchor=\"middle\" x=\"920.5\" y=\"-735.8\" font-family=\"Helvetica,sans-Serif\" font-size=\"14.00\" fill=\"#000000\">samples = 176</text>\n<text text-anchor=\"middle\" x=\"920.5\" y=\"-720.8\" font-family=\"Helvetica,sans-Serif\" font-size=\"14.00\" fill=\"#000000\">value = 18.676</text>\n</g>\n<!-- 1 -->\n<g id=\"node2\" class=\"node\">\n<title>1</title>\n<polygon fill=\"#f8dfcc\" stroke=\"#000000\" points=\"818,-677 649,-677 649,-609 818,-609 818,-677\"/>\n<text text-anchor=\"middle\" x=\"733.5\" y=\"-661.8\" font-family=\"Helvetica,sans-Serif\" font-size=\"14.00\" fill=\"#000000\">ABDOMEN &lt;= 85.45</text>\n<text text-anchor=\"middle\" x=\"733.5\" y=\"-646.8\" font-family=\"Helvetica,sans-Serif\" font-size=\"14.00\" fill=\"#000000\">squared_error = 31.841</text>\n<text text-anchor=\"middle\" x=\"733.5\" y=\"-631.8\" font-family=\"Helvetica,sans-Serif\" font-size=\"14.00\" fill=\"#000000\">samples = 90</text>\n<text text-anchor=\"middle\" x=\"733.5\" y=\"-616.8\" font-family=\"Helvetica,sans-Serif\" font-size=\"14.00\" fill=\"#000000\">value = 12.782</text>\n</g>\n<!-- 0&#45;&gt;1 -->\n<g id=\"edge1\" class=\"edge\">\n<title>0&#45;&gt;1</title>\n<path fill=\"none\" stroke=\"#000000\" d=\"M859.2692,-712.9465C841.5107,-703.0701 821.982,-692.2093 803.7189,-682.0522\"/>\n<polygon fill=\"#000000\" stroke=\"#000000\" points=\"805.3089,-678.9317 794.8684,-677.13 801.9066,-685.0492 805.3089,-678.9317\"/>\n<text text-anchor=\"middle\" x=\"801.7255\" y=\"-697.4712\" font-family=\"Helvetica,sans-Serif\" font-size=\"14.00\" fill=\"#000000\">True</text>\n</g>\n<!-- 18 -->\n<g id=\"node19\" class=\"node\">\n<title>18</title>\n<polygon fill=\"#eeae7f\" stroke=\"#000000\" points=\"1192,-677 1023,-677 1023,-609 1192,-609 1192,-677\"/>\n<text text-anchor=\"middle\" x=\"1107.5\" y=\"-661.8\" font-family=\"Helvetica,sans-Serif\" font-size=\"14.00\" fill=\"#000000\">ABDOMEN &lt;= 104.9</text>\n<text text-anchor=\"middle\" x=\"1107.5\" y=\"-646.8\" font-family=\"Helvetica,sans-Serif\" font-size=\"14.00\" fill=\"#000000\">squared_error = 36.311</text>\n<text text-anchor=\"middle\" x=\"1107.5\" y=\"-631.8\" font-family=\"Helvetica,sans-Serif\" font-size=\"14.00\" fill=\"#000000\">samples = 86</text>\n<text text-anchor=\"middle\" x=\"1107.5\" y=\"-616.8\" font-family=\"Helvetica,sans-Serif\" font-size=\"14.00\" fill=\"#000000\">value = 24.844</text>\n</g>\n<!-- 0&#45;&gt;18 -->\n<g id=\"edge18\" class=\"edge\">\n<title>0&#45;&gt;18</title>\n<path fill=\"none\" stroke=\"#000000\" d=\"M981.7308,-712.9465C999.4893,-703.0701 1019.018,-692.2093 1037.2811,-682.0522\"/>\n<polygon fill=\"#000000\" stroke=\"#000000\" points=\"1039.0934,-685.0492 1046.1316,-677.13 1035.6911,-678.9317 1039.0934,-685.0492\"/>\n<text text-anchor=\"middle\" x=\"1039.2745\" y=\"-697.4712\" font-family=\"Helvetica,sans-Serif\" font-size=\"14.00\" fill=\"#000000\">False</text>\n</g>\n<!-- 2 -->\n<g id=\"node3\" class=\"node\">\n<title>2</title>\n<polygon fill=\"#fbeade\" stroke=\"#000000\" points=\"538,-573 369,-573 369,-505 538,-505 538,-573\"/>\n<text text-anchor=\"middle\" x=\"453.5\" y=\"-557.8\" font-family=\"Helvetica,sans-Serif\" font-size=\"14.00\" fill=\"#000000\">AGE &lt;= 42.5</text>\n<text text-anchor=\"middle\" x=\"453.5\" y=\"-542.8\" font-family=\"Helvetica,sans-Serif\" font-size=\"14.00\" fill=\"#000000\">squared_error = 21.668</text>\n<text text-anchor=\"middle\" x=\"453.5\" y=\"-527.8\" font-family=\"Helvetica,sans-Serif\" font-size=\"14.00\" fill=\"#000000\">samples = 50</text>\n<text text-anchor=\"middle\" x=\"453.5\" y=\"-512.8\" font-family=\"Helvetica,sans-Serif\" font-size=\"14.00\" fill=\"#000000\">value = 10.014</text>\n</g>\n<!-- 1&#45;&gt;2 -->\n<g id=\"edge2\" class=\"edge\">\n<title>1&#45;&gt;2</title>\n<path fill=\"none\" stroke=\"#000000\" d=\"M648.7309,-611.5143C616.9408,-599.7066 580.6258,-586.2182 548.0074,-574.1027\"/>\n<polygon fill=\"#000000\" stroke=\"#000000\" points=\"549.0567,-570.7589 538.4638,-570.558 546.6194,-577.3209 549.0567,-570.7589\"/>\n</g>\n<!-- 11 -->\n<g id=\"node12\" class=\"node\">\n<title>11</title>\n<polygon fill=\"#f5d1b6\" stroke=\"#000000\" points=\"818,-573 649,-573 649,-505 818,-505 818,-573\"/>\n<text text-anchor=\"middle\" x=\"733.5\" y=\"-557.8\" font-family=\"Helvetica,sans-Serif\" font-size=\"14.00\" fill=\"#000000\">NECK &lt;= 36.85</text>\n<text text-anchor=\"middle\" x=\"733.5\" y=\"-542.8\" font-family=\"Helvetica,sans-Serif\" font-size=\"14.00\" fill=\"#000000\">squared_error = 23.004</text>\n<text text-anchor=\"middle\" x=\"733.5\" y=\"-527.8\" font-family=\"Helvetica,sans-Serif\" font-size=\"14.00\" fill=\"#000000\">samples = 40</text>\n<text text-anchor=\"middle\" x=\"733.5\" y=\"-512.8\" font-family=\"Helvetica,sans-Serif\" font-size=\"14.00\" fill=\"#000000\">value = 16.242</text>\n</g>\n<!-- 1&#45;&gt;11 -->\n<g id=\"edge11\" class=\"edge\">\n<title>1&#45;&gt;11</title>\n<path fill=\"none\" stroke=\"#000000\" d=\"M733.5,-608.9465C733.5,-600.776 733.5,-591.9318 733.5,-583.3697\"/>\n<polygon fill=\"#000000\" stroke=\"#000000\" points=\"737.0001,-583.13 733.5,-573.13 730.0001,-583.13 737.0001,-583.13\"/>\n</g>\n<!-- 3 -->\n<g id=\"node4\" class=\"node\">\n<title>3</title>\n<polygon fill=\"#fcf0e7\" stroke=\"#000000\" points=\"351,-469 182,-469 182,-401 351,-401 351,-469\"/>\n<text text-anchor=\"middle\" x=\"266.5\" y=\"-453.8\" font-family=\"Helvetica,sans-Serif\" font-size=\"14.00\" fill=\"#000000\">THIGH &lt;= 52.15</text>\n<text text-anchor=\"middle\" x=\"266.5\" y=\"-438.8\" font-family=\"Helvetica,sans-Serif\" font-size=\"14.00\" fill=\"#000000\">squared_error = 18.586</text>\n<text text-anchor=\"middle\" x=\"266.5\" y=\"-423.8\" font-family=\"Helvetica,sans-Serif\" font-size=\"14.00\" fill=\"#000000\">samples = 32</text>\n<text text-anchor=\"middle\" x=\"266.5\" y=\"-408.8\" font-family=\"Helvetica,sans-Serif\" font-size=\"14.00\" fill=\"#000000\">value = 8.584</text>\n</g>\n<!-- 2&#45;&gt;3 -->\n<g id=\"edge3\" class=\"edge\">\n<title>2&#45;&gt;3</title>\n<path fill=\"none\" stroke=\"#000000\" d=\"M392.2692,-504.9465C374.5107,-495.0701 354.982,-484.2093 336.7189,-474.0522\"/>\n<polygon fill=\"#000000\" stroke=\"#000000\" points=\"338.3089,-470.9317 327.8684,-469.13 334.9066,-477.0492 338.3089,-470.9317\"/>\n</g>\n<!-- 8 -->\n<g id=\"node9\" class=\"node\">\n<title>8</title>\n<polygon fill=\"#f9e0ce\" stroke=\"#000000\" points=\"538,-469 369,-469 369,-401 538,-401 538,-469\"/>\n<text text-anchor=\"middle\" x=\"453.5\" y=\"-453.8\" font-family=\"Helvetica,sans-Serif\" font-size=\"14.00\" fill=\"#000000\">BICEPS &lt;= 29.65</text>\n<text text-anchor=\"middle\" x=\"453.5\" y=\"-438.8\" font-family=\"Helvetica,sans-Serif\" font-size=\"14.00\" fill=\"#000000\">squared_error = 17.054</text>\n<text text-anchor=\"middle\" x=\"453.5\" y=\"-423.8\" font-family=\"Helvetica,sans-Serif\" font-size=\"14.00\" fill=\"#000000\">samples = 18</text>\n<text text-anchor=\"middle\" x=\"453.5\" y=\"-408.8\" font-family=\"Helvetica,sans-Serif\" font-size=\"14.00\" fill=\"#000000\">value = 12.556</text>\n</g>\n<!-- 2&#45;&gt;8 -->\n<g id=\"edge8\" class=\"edge\">\n<title>2&#45;&gt;8</title>\n<path fill=\"none\" stroke=\"#000000\" d=\"M453.5,-504.9465C453.5,-496.776 453.5,-487.9318 453.5,-479.3697\"/>\n<polygon fill=\"#000000\" stroke=\"#000000\" points=\"457.0001,-479.13 453.5,-469.13 450.0001,-479.13 457.0001,-479.13\"/>\n</g>\n<!-- 4 -->\n<g id=\"node5\" class=\"node\">\n<title>4</title>\n<polygon fill=\"#ffffff\" stroke=\"#000000\" points=\"169,-357.5 0,-357.5 0,-304.5 169,-304.5 169,-357.5\"/>\n<text text-anchor=\"middle\" x=\"84.5\" y=\"-342.3\" font-family=\"Helvetica,sans-Serif\" font-size=\"14.00\" fill=\"#000000\">squared_error = 10.761</text>\n<text text-anchor=\"middle\" x=\"84.5\" y=\"-327.3\" font-family=\"Helvetica,sans-Serif\" font-size=\"14.00\" fill=\"#000000\">samples = 8</text>\n<text text-anchor=\"middle\" x=\"84.5\" y=\"-312.3\" font-family=\"Helvetica,sans-Serif\" font-size=\"14.00\" fill=\"#000000\">value = 4.887</text>\n</g>\n<!-- 3&#45;&gt;4 -->\n<g id=\"edge4\" class=\"edge\">\n<title>3&#45;&gt;4</title>\n<path fill=\"none\" stroke=\"#000000\" d=\"M206.9064,-400.9465C185.3172,-388.6098 161.0399,-374.7371 139.8328,-362.6187\"/>\n<polygon fill=\"#000000\" stroke=\"#000000\" points=\"141.3677,-359.4647 130.9488,-357.5422 137.8947,-365.5425 141.3677,-359.4647\"/>\n</g>\n<!-- 5 -->\n<g id=\"node6\" class=\"node\">\n<title>5</title>\n<polygon fill=\"#fbebdf\" stroke=\"#000000\" points=\"348,-365 187,-365 187,-297 348,-297 348,-365\"/>\n<text text-anchor=\"middle\" x=\"267.5\" y=\"-349.8\" font-family=\"Helvetica,sans-Serif\" font-size=\"14.00\" fill=\"#000000\">WRIST &lt;= 17.65</text>\n<text text-anchor=\"middle\" x=\"267.5\" y=\"-334.8\" font-family=\"Helvetica,sans-Serif\" font-size=\"14.00\" fill=\"#000000\">squared_error = 15.12</text>\n<text text-anchor=\"middle\" x=\"267.5\" y=\"-319.8\" font-family=\"Helvetica,sans-Serif\" font-size=\"14.00\" fill=\"#000000\">samples = 24</text>\n<text text-anchor=\"middle\" x=\"267.5\" y=\"-304.8\" font-family=\"Helvetica,sans-Serif\" font-size=\"14.00\" fill=\"#000000\">value = 9.817</text>\n</g>\n<!-- 3&#45;&gt;5 -->\n<g id=\"edge5\" class=\"edge\">\n<title>3&#45;&gt;5</title>\n<path fill=\"none\" stroke=\"#000000\" d=\"M266.8274,-400.9465C266.906,-392.776 266.991,-383.9318 267.0734,-375.3697\"/>\n<polygon fill=\"#000000\" stroke=\"#000000\" points=\"270.5754,-375.1632 267.1718,-365.13 263.5757,-375.0958 270.5754,-375.1632\"/>\n</g>\n<!-- 6 -->\n<g id=\"node7\" class=\"node\">\n<title>6</title>\n<polygon fill=\"#f8ddc9\" stroke=\"#000000\" points=\"256.5,-253.5 104.5,-253.5 104.5,-200.5 256.5,-200.5 256.5,-253.5\"/>\n<text text-anchor=\"middle\" x=\"180.5\" y=\"-238.3\" font-family=\"Helvetica,sans-Serif\" font-size=\"14.00\" fill=\"#000000\">squared_error = 5.16</text>\n<text text-anchor=\"middle\" x=\"180.5\" y=\"-223.3\" font-family=\"Helvetica,sans-Serif\" font-size=\"14.00\" fill=\"#000000\">samples = 10</text>\n<text text-anchor=\"middle\" x=\"180.5\" y=\"-208.3\" font-family=\"Helvetica,sans-Serif\" font-size=\"14.00\" fill=\"#000000\">value = 13.28</text>\n</g>\n<!-- 5&#45;&gt;6 -->\n<g id=\"edge6\" class=\"edge\">\n<title>5&#45;&gt;6</title>\n<path fill=\"none\" stroke=\"#000000\" d=\"M239.0129,-296.9465C229.43,-285.491 218.739,-272.711 209.1441,-261.2412\"/>\n<polygon fill=\"#000000\" stroke=\"#000000\" points=\"211.8045,-258.9666 202.7035,-253.5422 206.4354,-263.458 211.8045,-258.9666\"/>\n</g>\n<!-- 7 -->\n<g id=\"node8\" class=\"node\">\n<title>7</title>\n<polygon fill=\"#fdf5ef\" stroke=\"#000000\" points=\"436,-253.5 275,-253.5 275,-200.5 436,-200.5 436,-253.5\"/>\n<text text-anchor=\"middle\" x=\"355.5\" y=\"-238.3\" font-family=\"Helvetica,sans-Serif\" font-size=\"14.00\" fill=\"#000000\">squared_error = 7.547</text>\n<text text-anchor=\"middle\" x=\"355.5\" y=\"-223.3\" font-family=\"Helvetica,sans-Serif\" font-size=\"14.00\" fill=\"#000000\">samples = 14</text>\n<text text-anchor=\"middle\" x=\"355.5\" y=\"-208.3\" font-family=\"Helvetica,sans-Serif\" font-size=\"14.00\" fill=\"#000000\">value = 7.343</text>\n</g>\n<!-- 5&#45;&gt;7 -->\n<g id=\"edge7\" class=\"edge\">\n<title>5&#45;&gt;7</title>\n<path fill=\"none\" stroke=\"#000000\" d=\"M296.3145,-296.9465C306.0076,-285.491 316.8214,-272.711 326.5267,-261.2412\"/>\n<polygon fill=\"#000000\" stroke=\"#000000\" points=\"329.2536,-263.4369 333.0412,-253.5422 323.9099,-258.9152 329.2536,-263.4369\"/>\n</g>\n<!-- 9 -->\n<g id=\"node10\" class=\"node\">\n<title>9</title>\n<polygon fill=\"#f7d7c0\" stroke=\"#000000\" points=\"537,-357.5 368,-357.5 368,-304.5 537,-304.5 537,-357.5\"/>\n<text text-anchor=\"middle\" x=\"452.5\" y=\"-342.3\" font-family=\"Helvetica,sans-Serif\" font-size=\"14.00\" fill=\"#000000\">squared_error = 11.793</text>\n<text text-anchor=\"middle\" x=\"452.5\" y=\"-327.3\" font-family=\"Helvetica,sans-Serif\" font-size=\"14.00\" fill=\"#000000\">samples = 9</text>\n<text text-anchor=\"middle\" x=\"452.5\" y=\"-312.3\" font-family=\"Helvetica,sans-Serif\" font-size=\"14.00\" fill=\"#000000\">value = 14.767</text>\n</g>\n<!-- 8&#45;&gt;9 -->\n<g id=\"edge9\" class=\"edge\">\n<title>8&#45;&gt;9</title>\n<path fill=\"none\" stroke=\"#000000\" d=\"M453.1726,-400.9465C453.0698,-390.2621 452.956,-378.4254 452.8517,-367.5742\"/>\n<polygon fill=\"#000000\" stroke=\"#000000\" points=\"456.3513,-367.508 452.7552,-357.5422 449.3516,-367.5754 456.3513,-367.508\"/>\n</g>\n<!-- 10 -->\n<g id=\"node11\" class=\"node\">\n<title>10</title>\n<polygon fill=\"#fae9dc\" stroke=\"#000000\" points=\"724,-357.5 555,-357.5 555,-304.5 724,-304.5 724,-357.5\"/>\n<text text-anchor=\"middle\" x=\"639.5\" y=\"-342.3\" font-family=\"Helvetica,sans-Serif\" font-size=\"14.00\" fill=\"#000000\">squared_error = 12.536</text>\n<text text-anchor=\"middle\" x=\"639.5\" y=\"-327.3\" font-family=\"Helvetica,sans-Serif\" font-size=\"14.00\" fill=\"#000000\">samples = 9</text>\n<text text-anchor=\"middle\" x=\"639.5\" y=\"-312.3\" font-family=\"Helvetica,sans-Serif\" font-size=\"14.00\" fill=\"#000000\">value = 10.344</text>\n</g>\n<!-- 8&#45;&gt;10 -->\n<g id=\"edge10\" class=\"edge\">\n<title>8&#45;&gt;10</title>\n<path fill=\"none\" stroke=\"#000000\" d=\"M514.4034,-400.9465C536.5656,-388.5547 561.4995,-374.6132 583.2412,-362.4565\"/>\n<polygon fill=\"#000000\" stroke=\"#000000\" points=\"585.0102,-365.4774 592.0304,-357.5422 581.594,-359.3676 585.0102,-365.4774\"/>\n</g>\n<!-- 12 -->\n<g id=\"node13\" class=\"node\">\n<title>12</title>\n<polygon fill=\"#f2c29f\" stroke=\"#000000\" points=\"725,-461.5 556,-461.5 556,-408.5 725,-408.5 725,-461.5\"/>\n<text text-anchor=\"middle\" x=\"640.5\" y=\"-446.3\" font-family=\"Helvetica,sans-Serif\" font-size=\"14.00\" fill=\"#000000\">squared_error = 15.087</text>\n<text text-anchor=\"middle\" x=\"640.5\" y=\"-431.3\" font-family=\"Helvetica,sans-Serif\" font-size=\"14.00\" fill=\"#000000\">samples = 13</text>\n<text text-anchor=\"middle\" x=\"640.5\" y=\"-416.3\" font-family=\"Helvetica,sans-Serif\" font-size=\"14.00\" fill=\"#000000\">value = 19.862</text>\n</g>\n<!-- 11&#45;&gt;12 -->\n<g id=\"edge12\" class=\"edge\">\n<title>11&#45;&gt;12</title>\n<path fill=\"none\" stroke=\"#000000\" d=\"M703.0483,-504.9465C692.8045,-493.491 681.3762,-480.711 671.1195,-469.2412\"/>\n<polygon fill=\"#000000\" stroke=\"#000000\" points=\"673.5097,-466.6634 664.2348,-461.5422 668.2917,-471.3295 673.5097,-466.6634\"/>\n</g>\n<!-- 13 -->\n<g id=\"node14\" class=\"node\">\n<title>13</title>\n<polygon fill=\"#f7d8c2\" stroke=\"#000000\" points=\"912,-469 743,-469 743,-401 912,-401 912,-469\"/>\n<text text-anchor=\"middle\" x=\"827.5\" y=\"-453.8\" font-family=\"Helvetica,sans-Serif\" font-size=\"14.00\" fill=\"#000000\">THIGH &lt;= 59.45</text>\n<text text-anchor=\"middle\" x=\"827.5\" y=\"-438.8\" font-family=\"Helvetica,sans-Serif\" font-size=\"14.00\" fill=\"#000000\">squared_error = 17.474</text>\n<text text-anchor=\"middle\" x=\"827.5\" y=\"-423.8\" font-family=\"Helvetica,sans-Serif\" font-size=\"14.00\" fill=\"#000000\">samples = 27</text>\n<text text-anchor=\"middle\" x=\"827.5\" y=\"-408.8\" font-family=\"Helvetica,sans-Serif\" font-size=\"14.00\" fill=\"#000000\">value = 14.5</text>\n</g>\n<!-- 11&#45;&gt;13 -->\n<g id=\"edge13\" class=\"edge\">\n<title>11&#45;&gt;13</title>\n<path fill=\"none\" stroke=\"#000000\" d=\"M764.2791,-504.9465C772.4755,-495.8782 781.422,-485.9799 789.9375,-476.5585\"/>\n<polygon fill=\"#000000\" stroke=\"#000000\" points=\"792.5429,-478.8957 796.6517,-469.13 787.3497,-474.2019 792.5429,-478.8957\"/>\n</g>\n<!-- 14 -->\n<g id=\"node15\" class=\"node\">\n<title>14</title>\n<polygon fill=\"#f5cfb4\" stroke=\"#000000\" points=\"906,-365 745,-365 745,-297 906,-297 906,-365\"/>\n<text text-anchor=\"middle\" x=\"825.5\" y=\"-349.8\" font-family=\"Helvetica,sans-Serif\" font-size=\"14.00\" fill=\"#000000\">NECK &lt;= 37.95</text>\n<text text-anchor=\"middle\" x=\"825.5\" y=\"-334.8\" font-family=\"Helvetica,sans-Serif\" font-size=\"14.00\" fill=\"#000000\">squared_error = 9.595</text>\n<text text-anchor=\"middle\" x=\"825.5\" y=\"-319.8\" font-family=\"Helvetica,sans-Serif\" font-size=\"14.00\" fill=\"#000000\">samples = 16</text>\n<text text-anchor=\"middle\" x=\"825.5\" y=\"-304.8\" font-family=\"Helvetica,sans-Serif\" font-size=\"14.00\" fill=\"#000000\">value = 16.562</text>\n</g>\n<!-- 13&#45;&gt;14 -->\n<g id=\"edge14\" class=\"edge\">\n<title>13&#45;&gt;14</title>\n<path fill=\"none\" stroke=\"#000000\" d=\"M826.8451,-400.9465C826.688,-392.776 826.5179,-383.9318 826.3533,-375.3697\"/>\n<polygon fill=\"#000000\" stroke=\"#000000\" points=\"829.8481,-375.0608 826.1563,-365.13 822.8494,-375.1955 829.8481,-375.0608\"/>\n</g>\n<!-- 17 -->\n<g id=\"node18\" class=\"node\">\n<title>17</title>\n<polygon fill=\"#f9e4d5\" stroke=\"#000000\" points=\"1093,-357.5 924,-357.5 924,-304.5 1093,-304.5 1093,-357.5\"/>\n<text text-anchor=\"middle\" x=\"1008.5\" y=\"-342.3\" font-family=\"Helvetica,sans-Serif\" font-size=\"14.00\" fill=\"#000000\">squared_error = 13.747</text>\n<text text-anchor=\"middle\" x=\"1008.5\" y=\"-327.3\" font-family=\"Helvetica,sans-Serif\" font-size=\"14.00\" fill=\"#000000\">samples = 11</text>\n<text text-anchor=\"middle\" x=\"1008.5\" y=\"-312.3\" font-family=\"Helvetica,sans-Serif\" font-size=\"14.00\" fill=\"#000000\">value = 11.5</text>\n</g>\n<!-- 13&#45;&gt;17 -->\n<g id=\"edge17\" class=\"edge\">\n<title>13&#45;&gt;17</title>\n<path fill=\"none\" stroke=\"#000000\" d=\"M886.7662,-400.9465C908.2368,-388.6098 932.3807,-374.7371 953.4713,-362.6187\"/>\n<polygon fill=\"#000000\" stroke=\"#000000\" points=\"955.3795,-365.5589 962.3064,-357.5422 951.8921,-359.4895 955.3795,-365.5589\"/>\n</g>\n<!-- 15 -->\n<g id=\"node16\" class=\"node\">\n<title>15</title>\n<polygon fill=\"#f7d6bf\" stroke=\"#000000\" points=\"729.5,-253.5 577.5,-253.5 577.5,-200.5 729.5,-200.5 729.5,-253.5\"/>\n<text text-anchor=\"middle\" x=\"653.5\" y=\"-238.3\" font-family=\"Helvetica,sans-Serif\" font-size=\"14.00\" fill=\"#000000\">squared_error = 7.62</text>\n<text text-anchor=\"middle\" x=\"653.5\" y=\"-223.3\" font-family=\"Helvetica,sans-Serif\" font-size=\"14.00\" fill=\"#000000\">samples = 8</text>\n<text text-anchor=\"middle\" x=\"653.5\" y=\"-208.3\" font-family=\"Helvetica,sans-Serif\" font-size=\"14.00\" fill=\"#000000\">value = 14.938</text>\n</g>\n<!-- 14&#45;&gt;15 -->\n<g id=\"edge15\" class=\"edge\">\n<title>14&#45;&gt;15</title>\n<path fill=\"none\" stroke=\"#000000\" d=\"M769.1808,-296.9465C748.8689,-284.6649 726.0392,-270.8609 706.0611,-258.7811\"/>\n<polygon fill=\"#000000\" stroke=\"#000000\" points=\"707.765,-255.7213 697.3967,-253.5422 704.143,-261.7115 707.765,-255.7213\"/>\n</g>\n<!-- 16 -->\n<g id=\"node17\" class=\"node\">\n<title>16</title>\n<polygon fill=\"#f4c9aa\" stroke=\"#000000\" points=\"909,-253.5 748,-253.5 748,-200.5 909,-200.5 909,-253.5\"/>\n<text text-anchor=\"middle\" x=\"828.5\" y=\"-238.3\" font-family=\"Helvetica,sans-Serif\" font-size=\"14.00\" fill=\"#000000\">squared_error = 6.289</text>\n<text text-anchor=\"middle\" x=\"828.5\" y=\"-223.3\" font-family=\"Helvetica,sans-Serif\" font-size=\"14.00\" fill=\"#000000\">samples = 8</text>\n<text text-anchor=\"middle\" x=\"828.5\" y=\"-208.3\" font-family=\"Helvetica,sans-Serif\" font-size=\"14.00\" fill=\"#000000\">value = 18.188</text>\n</g>\n<!-- 14&#45;&gt;16 -->\n<g id=\"edge16\" class=\"edge\">\n<title>14&#45;&gt;16</title>\n<path fill=\"none\" stroke=\"#000000\" d=\"M826.4823,-296.9465C826.7905,-286.2621 827.132,-274.4254 827.445,-263.5742\"/>\n<polygon fill=\"#000000\" stroke=\"#000000\" points=\"830.9445,-263.639 827.7344,-253.5422 823.9474,-263.4371 830.9445,-263.639\"/>\n</g>\n<!-- 19 -->\n<g id=\"node20\" class=\"node\">\n<title>19</title>\n<polygon fill=\"#f0b68d\" stroke=\"#000000\" points=\"1192,-573 1023,-573 1023,-505 1192,-505 1192,-573\"/>\n<text text-anchor=\"middle\" x=\"1107.5\" y=\"-557.8\" font-family=\"Helvetica,sans-Serif\" font-size=\"14.00\" fill=\"#000000\">HEIGHT &lt;= 68.375</text>\n<text text-anchor=\"middle\" x=\"1107.5\" y=\"-542.8\" font-family=\"Helvetica,sans-Serif\" font-size=\"14.00\" fill=\"#000000\">squared_error = 19.797</text>\n<text text-anchor=\"middle\" x=\"1107.5\" y=\"-527.8\" font-family=\"Helvetica,sans-Serif\" font-size=\"14.00\" fill=\"#000000\">samples = 65</text>\n<text text-anchor=\"middle\" x=\"1107.5\" y=\"-512.8\" font-family=\"Helvetica,sans-Serif\" font-size=\"14.00\" fill=\"#000000\">value = 22.762</text>\n</g>\n<!-- 18&#45;&gt;19 -->\n<g id=\"edge19\" class=\"edge\">\n<title>18&#45;&gt;19</title>\n<path fill=\"none\" stroke=\"#000000\" d=\"M1107.5,-608.9465C1107.5,-600.776 1107.5,-591.9318 1107.5,-583.3697\"/>\n<polygon fill=\"#000000\" stroke=\"#000000\" points=\"1111.0001,-583.13 1107.5,-573.13 1104.0001,-583.13 1111.0001,-583.13\"/>\n</g>\n<!-- 30 -->\n<g id=\"node31\" class=\"node\">\n<title>30</title>\n<polygon fill=\"#e99456\" stroke=\"#000000\" points=\"1473,-573 1304,-573 1304,-505 1473,-505 1473,-573\"/>\n<text text-anchor=\"middle\" x=\"1388.5\" y=\"-557.8\" font-family=\"Helvetica,sans-Serif\" font-size=\"14.00\" fill=\"#000000\">ABDOMEN &lt;= 112.3</text>\n<text text-anchor=\"middle\" x=\"1388.5\" y=\"-542.8\" font-family=\"Helvetica,sans-Serif\" font-size=\"14.00\" fill=\"#000000\">squared_error = 32.445</text>\n<text text-anchor=\"middle\" x=\"1388.5\" y=\"-527.8\" font-family=\"Helvetica,sans-Serif\" font-size=\"14.00\" fill=\"#000000\">samples = 21</text>\n<text text-anchor=\"middle\" x=\"1388.5\" y=\"-512.8\" font-family=\"Helvetica,sans-Serif\" font-size=\"14.00\" fill=\"#000000\">value = 31.29</text>\n</g>\n<!-- 18&#45;&gt;30 -->\n<g id=\"edge30\" class=\"edge\">\n<title>18&#45;&gt;30</title>\n<path fill=\"none\" stroke=\"#000000\" d=\"M1192.1903,-611.6555C1224.4008,-599.7342 1261.2843,-586.0834 1294.3205,-573.8565\"/>\n<polygon fill=\"#000000\" stroke=\"#000000\" points=\"1295.8197,-577.0337 1303.9831,-570.2803 1293.39,-570.4689 1295.8197,-577.0337\"/>\n</g>\n<!-- 20 -->\n<g id=\"node21\" class=\"node\">\n<title>20</title>\n<polygon fill=\"#eda979\" stroke=\"#000000\" points=\"1099,-461.5 930,-461.5 930,-408.5 1099,-408.5 1099,-461.5\"/>\n<text text-anchor=\"middle\" x=\"1014.5\" y=\"-446.3\" font-family=\"Helvetica,sans-Serif\" font-size=\"14.00\" fill=\"#000000\">squared_error = 17.965</text>\n<text text-anchor=\"middle\" x=\"1014.5\" y=\"-431.3\" font-family=\"Helvetica,sans-Serif\" font-size=\"14.00\" fill=\"#000000\">samples = 13</text>\n<text text-anchor=\"middle\" x=\"1014.5\" y=\"-416.3\" font-family=\"Helvetica,sans-Serif\" font-size=\"14.00\" fill=\"#000000\">value = 25.908</text>\n</g>\n<!-- 19&#45;&gt;20 -->\n<g id=\"edge20\" class=\"edge\">\n<title>19&#45;&gt;20</title>\n<path fill=\"none\" stroke=\"#000000\" d=\"M1077.0483,-504.9465C1066.8045,-493.491 1055.3762,-480.711 1045.1195,-469.2412\"/>\n<polygon fill=\"#000000\" stroke=\"#000000\" points=\"1047.5097,-466.6634 1038.2348,-461.5422 1042.2917,-471.3295 1047.5097,-466.6634\"/>\n</g>\n<!-- 21 -->\n<g id=\"node22\" class=\"node\">\n<title>21</title>\n<polygon fill=\"#f1b992\" stroke=\"#000000\" points=\"1286,-469 1117,-469 1117,-401 1286,-401 1286,-469\"/>\n<text text-anchor=\"middle\" x=\"1201.5\" y=\"-453.8\" font-family=\"Helvetica,sans-Serif\" font-size=\"14.00\" fill=\"#000000\">ANKLE &lt;= 24.65</text>\n<text text-anchor=\"middle\" x=\"1201.5\" y=\"-438.8\" font-family=\"Helvetica,sans-Serif\" font-size=\"14.00\" fill=\"#000000\">squared_error = 17.162</text>\n<text text-anchor=\"middle\" x=\"1201.5\" y=\"-423.8\" font-family=\"Helvetica,sans-Serif\" font-size=\"14.00\" fill=\"#000000\">samples = 52</text>\n<text text-anchor=\"middle\" x=\"1201.5\" y=\"-408.8\" font-family=\"Helvetica,sans-Serif\" font-size=\"14.00\" fill=\"#000000\">value = 21.975</text>\n</g>\n<!-- 19&#45;&gt;21 -->\n<g id=\"edge21\" class=\"edge\">\n<title>19&#45;&gt;21</title>\n<path fill=\"none\" stroke=\"#000000\" d=\"M1138.2791,-504.9465C1146.4755,-495.8782 1155.422,-485.9799 1163.9375,-476.5585\"/>\n<polygon fill=\"#000000\" stroke=\"#000000\" points=\"1166.5429,-478.8957 1170.6517,-469.13 1161.3497,-474.2019 1166.5429,-478.8957\"/>\n</g>\n<!-- 22 -->\n<g id=\"node23\" class=\"node\">\n<title>22</title>\n<polygon fill=\"#f0b68d\" stroke=\"#000000\" points=\"1285,-365 1116,-365 1116,-297 1285,-297 1285,-365\"/>\n<text text-anchor=\"middle\" x=\"1200.5\" y=\"-349.8\" font-family=\"Helvetica,sans-Serif\" font-size=\"14.00\" fill=\"#000000\">ABDOMEN &lt;= 100.45</text>\n<text text-anchor=\"middle\" x=\"1200.5\" y=\"-334.8\" font-family=\"Helvetica,sans-Serif\" font-size=\"14.00\" fill=\"#000000\">squared_error = 17.507</text>\n<text text-anchor=\"middle\" x=\"1200.5\" y=\"-319.8\" font-family=\"Helvetica,sans-Serif\" font-size=\"14.00\" fill=\"#000000\">samples = 41</text>\n<text text-anchor=\"middle\" x=\"1200.5\" y=\"-304.8\" font-family=\"Helvetica,sans-Serif\" font-size=\"14.00\" fill=\"#000000\">value = 22.729</text>\n</g>\n<!-- 21&#45;&gt;22 -->\n<g id=\"edge22\" class=\"edge\">\n<title>21&#45;&gt;22</title>\n<path fill=\"none\" stroke=\"#000000\" d=\"M1201.1726,-400.9465C1201.094,-392.776 1201.009,-383.9318 1200.9266,-375.3697\"/>\n<polygon fill=\"#000000\" stroke=\"#000000\" points=\"1204.4243,-375.0958 1200.8282,-365.13 1197.4246,-375.1632 1204.4243,-375.0958\"/>\n</g>\n<!-- 29 -->\n<g id=\"node30\" class=\"node\">\n<title>29</title>\n<polygon fill=\"#f3c5a4\" stroke=\"#000000\" points=\"1464,-357.5 1303,-357.5 1303,-304.5 1464,-304.5 1464,-357.5\"/>\n<text text-anchor=\"middle\" x=\"1383.5\" y=\"-342.3\" font-family=\"Helvetica,sans-Serif\" font-size=\"14.00\" fill=\"#000000\">squared_error = 5.851</text>\n<text text-anchor=\"middle\" x=\"1383.5\" y=\"-327.3\" font-family=\"Helvetica,sans-Serif\" font-size=\"14.00\" fill=\"#000000\">samples = 11</text>\n<text text-anchor=\"middle\" x=\"1383.5\" y=\"-312.3\" font-family=\"Helvetica,sans-Serif\" font-size=\"14.00\" fill=\"#000000\">value = 19.164</text>\n</g>\n<!-- 21&#45;&gt;29 -->\n<g id=\"edge29\" class=\"edge\">\n<title>21&#45;&gt;29</title>\n<path fill=\"none\" stroke=\"#000000\" d=\"M1261.0936,-400.9465C1282.6828,-388.6098 1306.9601,-374.7371 1328.1672,-362.6187\"/>\n<polygon fill=\"#000000\" stroke=\"#000000\" points=\"1330.1053,-365.5425 1337.0512,-357.5422 1326.6323,-359.4647 1330.1053,-365.5425\"/>\n</g>\n<!-- 23 -->\n<g id=\"node24\" class=\"node\">\n<title>23</title>\n<polygon fill=\"#f1ba92\" stroke=\"#000000\" points=\"1191,-261 1022,-261 1022,-193 1191,-193 1191,-261\"/>\n<text text-anchor=\"middle\" x=\"1106.5\" y=\"-245.8\" font-family=\"Helvetica,sans-Serif\" font-size=\"14.00\" fill=\"#000000\">NECK &lt;= 39.05</text>\n<text text-anchor=\"middle\" x=\"1106.5\" y=\"-230.8\" font-family=\"Helvetica,sans-Serif\" font-size=\"14.00\" fill=\"#000000\">squared_error = 14.648</text>\n<text text-anchor=\"middle\" x=\"1106.5\" y=\"-215.8\" font-family=\"Helvetica,sans-Serif\" font-size=\"14.00\" fill=\"#000000\">samples = 32</text>\n<text text-anchor=\"middle\" x=\"1106.5\" y=\"-200.8\" font-family=\"Helvetica,sans-Serif\" font-size=\"14.00\" fill=\"#000000\">value = 21.881</text>\n</g>\n<!-- 22&#45;&gt;23 -->\n<g id=\"edge23\" class=\"edge\">\n<title>22&#45;&gt;23</title>\n<path fill=\"none\" stroke=\"#000000\" d=\"M1169.7209,-296.9465C1161.5245,-287.8782 1152.578,-277.9799 1144.0625,-268.5585\"/>\n<polygon fill=\"#000000\" stroke=\"#000000\" points=\"1146.6503,-266.2019 1137.3483,-261.13 1141.4571,-270.8957 1146.6503,-266.2019\"/>\n</g>\n<!-- 28 -->\n<g id=\"node29\" class=\"node\">\n<title>28</title>\n<polygon fill=\"#edaa7a\" stroke=\"#000000\" points=\"1378,-253.5 1209,-253.5 1209,-200.5 1378,-200.5 1378,-253.5\"/>\n<text text-anchor=\"middle\" x=\"1293.5\" y=\"-238.3\" font-family=\"Helvetica,sans-Serif\" font-size=\"14.00\" fill=\"#000000\">squared_error = 16.025</text>\n<text text-anchor=\"middle\" x=\"1293.5\" y=\"-223.3\" font-family=\"Helvetica,sans-Serif\" font-size=\"14.00\" fill=\"#000000\">samples = 9</text>\n<text text-anchor=\"middle\" x=\"1293.5\" y=\"-208.3\" font-family=\"Helvetica,sans-Serif\" font-size=\"14.00\" fill=\"#000000\">value = 25.744</text>\n</g>\n<!-- 22&#45;&gt;28 -->\n<g id=\"edge28\" class=\"edge\">\n<title>22&#45;&gt;28</title>\n<path fill=\"none\" stroke=\"#000000\" d=\"M1230.9517,-296.9465C1241.1955,-285.491 1252.6238,-272.711 1262.8805,-261.2412\"/>\n<polygon fill=\"#000000\" stroke=\"#000000\" points=\"1265.7083,-263.3295 1269.7652,-253.5422 1260.4903,-258.6634 1265.7083,-263.3295\"/>\n</g>\n<!-- 24 -->\n<g id=\"node25\" class=\"node\">\n<title>24</title>\n<polygon fill=\"#f0b48a\" stroke=\"#000000\" points=\"1097,-157 928,-157 928,-89 1097,-89 1097,-157\"/>\n<text text-anchor=\"middle\" x=\"1012.5\" y=\"-141.8\" font-family=\"Helvetica,sans-Serif\" font-size=\"14.00\" fill=\"#000000\">CHEST &lt;= 100.2</text>\n<text text-anchor=\"middle\" x=\"1012.5\" y=\"-126.8\" font-family=\"Helvetica,sans-Serif\" font-size=\"14.00\" fill=\"#000000\">squared_error = 11.882</text>\n<text text-anchor=\"middle\" x=\"1012.5\" y=\"-111.8\" font-family=\"Helvetica,sans-Serif\" font-size=\"14.00\" fill=\"#000000\">samples = 17</text>\n<text text-anchor=\"middle\" x=\"1012.5\" y=\"-96.8\" font-family=\"Helvetica,sans-Serif\" font-size=\"14.00\" fill=\"#000000\">value = 23.224</text>\n</g>\n<!-- 23&#45;&gt;24 -->\n<g id=\"edge24\" class=\"edge\">\n<title>23&#45;&gt;24</title>\n<path fill=\"none\" stroke=\"#000000\" d=\"M1075.7209,-192.9465C1067.5245,-183.8782 1058.578,-173.9799 1050.0625,-164.5585\"/>\n<polygon fill=\"#000000\" stroke=\"#000000\" points=\"1052.6503,-162.2019 1043.3483,-157.13 1047.4571,-166.8957 1052.6503,-162.2019\"/>\n</g>\n<!-- 27 -->\n<g id=\"node28\" class=\"node\">\n<title>27</title>\n<polygon fill=\"#f2c09c\" stroke=\"#000000\" points=\"1284,-149.5 1115,-149.5 1115,-96.5 1284,-96.5 1284,-149.5\"/>\n<text text-anchor=\"middle\" x=\"1199.5\" y=\"-134.3\" font-family=\"Helvetica,sans-Serif\" font-size=\"14.00\" fill=\"#000000\">squared_error = 13.426</text>\n<text text-anchor=\"middle\" x=\"1199.5\" y=\"-119.3\" font-family=\"Helvetica,sans-Serif\" font-size=\"14.00\" fill=\"#000000\">samples = 15</text>\n<text text-anchor=\"middle\" x=\"1199.5\" y=\"-104.3\" font-family=\"Helvetica,sans-Serif\" font-size=\"14.00\" fill=\"#000000\">value = 20.36</text>\n</g>\n<!-- 23&#45;&gt;27 -->\n<g id=\"edge27\" class=\"edge\">\n<title>23&#45;&gt;27</title>\n<path fill=\"none\" stroke=\"#000000\" d=\"M1136.9517,-192.9465C1147.1955,-181.491 1158.6238,-168.711 1168.8805,-157.2412\"/>\n<polygon fill=\"#000000\" stroke=\"#000000\" points=\"1171.7083,-159.3295 1175.7652,-149.5422 1166.4903,-154.6634 1171.7083,-159.3295\"/>\n</g>\n<!-- 25 -->\n<g id=\"node26\" class=\"node\">\n<title>25</title>\n<polygon fill=\"#f1bd98\" stroke=\"#000000\" points=\"1001.5,-53 857.5,-53 857.5,0 1001.5,0 1001.5,-53\"/>\n<text text-anchor=\"middle\" x=\"929.5\" y=\"-37.8\" font-family=\"Helvetica,sans-Serif\" font-size=\"14.00\" fill=\"#000000\">squared_error = 6.3</text>\n<text text-anchor=\"middle\" x=\"929.5\" y=\"-22.8\" font-family=\"Helvetica,sans-Serif\" font-size=\"14.00\" fill=\"#000000\">samples = 8</text>\n<text text-anchor=\"middle\" x=\"929.5\" y=\"-7.8\" font-family=\"Helvetica,sans-Serif\" font-size=\"14.00\" fill=\"#000000\">value = 21.038</text>\n</g>\n<!-- 24&#45;&gt;25 -->\n<g id=\"edge25\" class=\"edge\">\n<title>24&#45;&gt;25</title>\n<path fill=\"none\" stroke=\"#000000\" d=\"M983.2373,-88.9777C975.4401,-79.9123 967.01,-70.111 959.1901,-61.0192\"/>\n<polygon fill=\"#000000\" stroke=\"#000000\" points=\"961.6809,-58.5477 952.5065,-53.2485 956.3738,-63.1123 961.6809,-58.5477\"/>\n</g>\n<!-- 26 -->\n<g id=\"node27\" class=\"node\">\n<title>26</title>\n<polygon fill=\"#eeac7d\" stroke=\"#000000\" points=\"1171.5,-53 1019.5,-53 1019.5,0 1171.5,0 1171.5,-53\"/>\n<text text-anchor=\"middle\" x=\"1095.5\" y=\"-37.8\" font-family=\"Helvetica,sans-Serif\" font-size=\"14.00\" fill=\"#000000\">squared_error = 8.82</text>\n<text text-anchor=\"middle\" x=\"1095.5\" y=\"-22.8\" font-family=\"Helvetica,sans-Serif\" font-size=\"14.00\" fill=\"#000000\">samples = 9</text>\n<text text-anchor=\"middle\" x=\"1095.5\" y=\"-7.8\" font-family=\"Helvetica,sans-Serif\" font-size=\"14.00\" fill=\"#000000\">value = 25.167</text>\n</g>\n<!-- 24&#45;&gt;26 -->\n<g id=\"edge26\" class=\"edge\">\n<title>24&#45;&gt;26</title>\n<path fill=\"none\" stroke=\"#000000\" d=\"M1041.7627,-88.9777C1049.5599,-79.9123 1057.99,-70.111 1065.8099,-61.0192\"/>\n<polygon fill=\"#000000\" stroke=\"#000000\" points=\"1068.6262,-63.1123 1072.4935,-53.2485 1063.3191,-58.5477 1068.6262,-63.1123\"/>\n</g>\n<!-- 31 -->\n<g id=\"node32\" class=\"node\">\n<title>31</title>\n<polygon fill=\"#eb9f68\" stroke=\"#000000\" points=\"1473,-461.5 1304,-461.5 1304,-408.5 1473,-408.5 1473,-461.5\"/>\n<text text-anchor=\"middle\" x=\"1388.5\" y=\"-446.3\" font-family=\"Helvetica,sans-Serif\" font-size=\"14.00\" fill=\"#000000\">squared_error = 13.122</text>\n<text text-anchor=\"middle\" x=\"1388.5\" y=\"-431.3\" font-family=\"Helvetica,sans-Serif\" font-size=\"14.00\" fill=\"#000000\">samples = 13</text>\n<text text-anchor=\"middle\" x=\"1388.5\" y=\"-416.3\" font-family=\"Helvetica,sans-Serif\" font-size=\"14.00\" fill=\"#000000\">value = 28.492</text>\n</g>\n<!-- 30&#45;&gt;31 -->\n<g id=\"edge31\" class=\"edge\">\n<title>30&#45;&gt;31</title>\n<path fill=\"none\" stroke=\"#000000\" d=\"M1388.5,-504.9465C1388.5,-494.2621 1388.5,-482.4254 1388.5,-471.5742\"/>\n<polygon fill=\"#000000\" stroke=\"#000000\" points=\"1392.0001,-471.5421 1388.5,-461.5422 1385.0001,-471.5422 1392.0001,-471.5421\"/>\n</g>\n<!-- 32 -->\n<g id=\"node33\" class=\"node\">\n<title>32</title>\n<polygon fill=\"#e58139\" stroke=\"#000000\" points=\"1660,-461.5 1491,-461.5 1491,-408.5 1660,-408.5 1660,-461.5\"/>\n<text text-anchor=\"middle\" x=\"1575.5\" y=\"-446.3\" font-family=\"Helvetica,sans-Serif\" font-size=\"14.00\" fill=\"#000000\">squared_error = 30.445</text>\n<text text-anchor=\"middle\" x=\"1575.5\" y=\"-431.3\" font-family=\"Helvetica,sans-Serif\" font-size=\"14.00\" fill=\"#000000\">samples = 8</text>\n<text text-anchor=\"middle\" x=\"1575.5\" y=\"-416.3\" font-family=\"Helvetica,sans-Serif\" font-size=\"14.00\" fill=\"#000000\">value = 35.838</text>\n</g>\n<!-- 30&#45;&gt;32 -->\n<g id=\"edge32\" class=\"edge\">\n<title>30&#45;&gt;32</title>\n<path fill=\"none\" stroke=\"#000000\" d=\"M1449.7308,-504.9465C1472.0121,-492.5547 1497.0802,-478.6132 1518.9387,-466.4565\"/>\n<polygon fill=\"#000000\" stroke=\"#000000\" points=\"1520.7369,-469.4614 1527.7751,-461.5422 1517.3346,-463.3438 1520.7369,-469.4614\"/>\n</g>\n</g>\n</svg>\n"
          },
          "metadata": {}
        }
      ]
    },
    {
      "cell_type": "code",
      "source": [
        "# 나무구조 시각화 : min_samples_leaf = 16\n",
        "\n",
        "v_feature_name = df_train_x.columns\n",
        "\n",
        "tree_graph = DecisionTreeRegressor(random_state = 1234,\n",
        "                                   min_samples_leaf = 16)\n",
        "tree_graph.fit(df_train_x, df_train_y)\n",
        "export_graphviz(tree_graph, out_file = 'tree_leaf.dot',\n",
        "                feature_names = v_feature_name, impurity = True, filled = True)\n",
        "\n",
        "with open('tree_leaf.dot') as f :\n",
        "    dot_graph = f.read()\n",
        "    display(graphviz.Source(dot_graph))"
      ],
      "metadata": {
        "id": "mW_7bbIy4s8Y",
        "outputId": "5897b4e8-4fdc-42a4-9e1f-38c0b4a036f0",
        "colab": {
          "base_uri": "https://localhost:8080/",
          "height": 815
        }
      },
      "execution_count": 56,
      "outputs": [
        {
          "output_type": "display_data",
          "data": {
            "text/plain": [
              "<graphviz.files.Source at 0x7fccd902a9d0>"
            ],
            "image/svg+xml": "<?xml version=\"1.0\" encoding=\"UTF-8\" standalone=\"no\"?>\n<!DOCTYPE svg PUBLIC \"-//W3C//DTD SVG 1.1//EN\"\n \"http://www.w3.org/Graphics/SVG/1.1/DTD/svg11.dtd\">\n<!-- Generated by graphviz version 2.40.1 (20161225.0304)\n -->\n<!-- Title: Tree Pages: 1 -->\n<svg width=\"1292pt\" height=\"581pt\"\n viewBox=\"0.00 0.00 1292.00 581.00\" xmlns=\"http://www.w3.org/2000/svg\" xmlns:xlink=\"http://www.w3.org/1999/xlink\">\n<g id=\"graph0\" class=\"graph\" transform=\"scale(1 1) rotate(0) translate(4 577)\">\n<title>Tree</title>\n<polygon fill=\"#ffffff\" stroke=\"transparent\" points=\"-4,4 -4,-577 1288,-577 1288,4 -4,4\"/>\n<!-- 0 -->\n<g id=\"node1\" class=\"node\">\n<title>0</title>\n<polygon fill=\"#f2c29f\" stroke=\"#000000\" points=\"910,-573 741,-573 741,-505 910,-505 910,-573\"/>\n<text text-anchor=\"middle\" x=\"825.5\" y=\"-557.8\" font-family=\"Helvetica,sans-Serif\" font-size=\"14.00\" fill=\"#000000\">ABDOMEN &lt;= 91.3</text>\n<text text-anchor=\"middle\" x=\"825.5\" y=\"-542.8\" font-family=\"Helvetica,sans-Serif\" font-size=\"14.00\" fill=\"#000000\">squared_error = 70.379</text>\n<text text-anchor=\"middle\" x=\"825.5\" y=\"-527.8\" font-family=\"Helvetica,sans-Serif\" font-size=\"14.00\" fill=\"#000000\">samples = 176</text>\n<text text-anchor=\"middle\" x=\"825.5\" y=\"-512.8\" font-family=\"Helvetica,sans-Serif\" font-size=\"14.00\" fill=\"#000000\">value = 18.676</text>\n</g>\n<!-- 1 -->\n<g id=\"node2\" class=\"node\">\n<title>1</title>\n<polygon fill=\"#f9e1cf\" stroke=\"#000000\" points=\"723,-469 554,-469 554,-401 723,-401 723,-469\"/>\n<text text-anchor=\"middle\" x=\"638.5\" y=\"-453.8\" font-family=\"Helvetica,sans-Serif\" font-size=\"14.00\" fill=\"#000000\">ABDOMEN &lt;= 85.45</text>\n<text text-anchor=\"middle\" x=\"638.5\" y=\"-438.8\" font-family=\"Helvetica,sans-Serif\" font-size=\"14.00\" fill=\"#000000\">squared_error = 31.841</text>\n<text text-anchor=\"middle\" x=\"638.5\" y=\"-423.8\" font-family=\"Helvetica,sans-Serif\" font-size=\"14.00\" fill=\"#000000\">samples = 90</text>\n<text text-anchor=\"middle\" x=\"638.5\" y=\"-408.8\" font-family=\"Helvetica,sans-Serif\" font-size=\"14.00\" fill=\"#000000\">value = 12.782</text>\n</g>\n<!-- 0&#45;&gt;1 -->\n<g id=\"edge1\" class=\"edge\">\n<title>0&#45;&gt;1</title>\n<path fill=\"none\" stroke=\"#000000\" d=\"M764.2692,-504.9465C746.5107,-495.0701 726.982,-484.2093 708.7189,-474.0522\"/>\n<polygon fill=\"#000000\" stroke=\"#000000\" points=\"710.3089,-470.9317 699.8684,-469.13 706.9066,-477.0492 710.3089,-470.9317\"/>\n<text text-anchor=\"middle\" x=\"706.7255\" y=\"-489.4712\" font-family=\"Helvetica,sans-Serif\" font-size=\"14.00\" fill=\"#000000\">True</text>\n</g>\n<!-- 10 -->\n<g id=\"node11\" class=\"node\">\n<title>10</title>\n<polygon fill=\"#eca26d\" stroke=\"#000000\" points=\"1004,-469 835,-469 835,-401 1004,-401 1004,-469\"/>\n<text text-anchor=\"middle\" x=\"919.5\" y=\"-453.8\" font-family=\"Helvetica,sans-Serif\" font-size=\"14.00\" fill=\"#000000\">ABDOMEN &lt;= 104.9</text>\n<text text-anchor=\"middle\" x=\"919.5\" y=\"-438.8\" font-family=\"Helvetica,sans-Serif\" font-size=\"14.00\" fill=\"#000000\">squared_error = 36.311</text>\n<text text-anchor=\"middle\" x=\"919.5\" y=\"-423.8\" font-family=\"Helvetica,sans-Serif\" font-size=\"14.00\" fill=\"#000000\">samples = 86</text>\n<text text-anchor=\"middle\" x=\"919.5\" y=\"-408.8\" font-family=\"Helvetica,sans-Serif\" font-size=\"14.00\" fill=\"#000000\">value = 24.844</text>\n</g>\n<!-- 0&#45;&gt;10 -->\n<g id=\"edge10\" class=\"edge\">\n<title>0&#45;&gt;10</title>\n<path fill=\"none\" stroke=\"#000000\" d=\"M856.2791,-504.9465C864.4755,-495.8782 873.422,-485.9799 881.9375,-476.5585\"/>\n<polygon fill=\"#000000\" stroke=\"#000000\" points=\"884.5429,-478.8957 888.6517,-469.13 879.3497,-474.2019 884.5429,-478.8957\"/>\n<text text-anchor=\"middle\" x=\"889.9128\" y=\"-490.3982\" font-family=\"Helvetica,sans-Serif\" font-size=\"14.00\" fill=\"#000000\">False</text>\n</g>\n<!-- 2 -->\n<g id=\"node3\" class=\"node\">\n<title>2</title>\n<polygon fill=\"#fcefe6\" stroke=\"#000000\" points=\"443,-365 274,-365 274,-297 443,-297 443,-365\"/>\n<text text-anchor=\"middle\" x=\"358.5\" y=\"-349.8\" font-family=\"Helvetica,sans-Serif\" font-size=\"14.00\" fill=\"#000000\">AGE &lt;= 42.5</text>\n<text text-anchor=\"middle\" x=\"358.5\" y=\"-334.8\" font-family=\"Helvetica,sans-Serif\" font-size=\"14.00\" fill=\"#000000\">squared_error = 21.668</text>\n<text text-anchor=\"middle\" x=\"358.5\" y=\"-319.8\" font-family=\"Helvetica,sans-Serif\" font-size=\"14.00\" fill=\"#000000\">samples = 50</text>\n<text text-anchor=\"middle\" x=\"358.5\" y=\"-304.8\" font-family=\"Helvetica,sans-Serif\" font-size=\"14.00\" fill=\"#000000\">value = 10.014</text>\n</g>\n<!-- 1&#45;&gt;2 -->\n<g id=\"edge2\" class=\"edge\">\n<title>1&#45;&gt;2</title>\n<path fill=\"none\" stroke=\"#000000\" d=\"M553.7309,-403.5143C521.9408,-391.7066 485.6258,-378.2182 453.0074,-366.1027\"/>\n<polygon fill=\"#000000\" stroke=\"#000000\" points=\"454.0567,-362.7589 443.4638,-362.558 451.6194,-369.3209 454.0567,-362.7589\"/>\n</g>\n<!-- 7 -->\n<g id=\"node8\" class=\"node\">\n<title>7</title>\n<polygon fill=\"#f5cfb3\" stroke=\"#000000\" points=\"723,-365 554,-365 554,-297 723,-297 723,-365\"/>\n<text text-anchor=\"middle\" x=\"638.5\" y=\"-349.8\" font-family=\"Helvetica,sans-Serif\" font-size=\"14.00\" fill=\"#000000\">WEIGHT &lt;= 174.125</text>\n<text text-anchor=\"middle\" x=\"638.5\" y=\"-334.8\" font-family=\"Helvetica,sans-Serif\" font-size=\"14.00\" fill=\"#000000\">squared_error = 23.004</text>\n<text text-anchor=\"middle\" x=\"638.5\" y=\"-319.8\" font-family=\"Helvetica,sans-Serif\" font-size=\"14.00\" fill=\"#000000\">samples = 40</text>\n<text text-anchor=\"middle\" x=\"638.5\" y=\"-304.8\" font-family=\"Helvetica,sans-Serif\" font-size=\"14.00\" fill=\"#000000\">value = 16.242</text>\n</g>\n<!-- 1&#45;&gt;7 -->\n<g id=\"edge7\" class=\"edge\">\n<title>1&#45;&gt;7</title>\n<path fill=\"none\" stroke=\"#000000\" d=\"M638.5,-400.9465C638.5,-392.776 638.5,-383.9318 638.5,-375.3697\"/>\n<polygon fill=\"#000000\" stroke=\"#000000\" points=\"642.0001,-375.13 638.5,-365.13 635.0001,-375.13 642.0001,-375.13\"/>\n</g>\n<!-- 3 -->\n<g id=\"node4\" class=\"node\">\n<title>3</title>\n<polygon fill=\"#fdf6f1\" stroke=\"#000000\" points=\"256,-261 87,-261 87,-193 256,-193 256,-261\"/>\n<text text-anchor=\"middle\" x=\"171.5\" y=\"-245.8\" font-family=\"Helvetica,sans-Serif\" font-size=\"14.00\" fill=\"#000000\">ABDOMEN &lt;= 79.85</text>\n<text text-anchor=\"middle\" x=\"171.5\" y=\"-230.8\" font-family=\"Helvetica,sans-Serif\" font-size=\"14.00\" fill=\"#000000\">squared_error = 18.586</text>\n<text text-anchor=\"middle\" x=\"171.5\" y=\"-215.8\" font-family=\"Helvetica,sans-Serif\" font-size=\"14.00\" fill=\"#000000\">samples = 32</text>\n<text text-anchor=\"middle\" x=\"171.5\" y=\"-200.8\" font-family=\"Helvetica,sans-Serif\" font-size=\"14.00\" fill=\"#000000\">value = 8.584</text>\n</g>\n<!-- 2&#45;&gt;3 -->\n<g id=\"edge3\" class=\"edge\">\n<title>2&#45;&gt;3</title>\n<path fill=\"none\" stroke=\"#000000\" d=\"M297.2692,-296.9465C279.5107,-287.0701 259.982,-276.2093 241.7189,-266.0522\"/>\n<polygon fill=\"#000000\" stroke=\"#000000\" points=\"243.3089,-262.9317 232.8684,-261.13 239.9066,-269.0492 243.3089,-262.9317\"/>\n</g>\n<!-- 6 -->\n<g id=\"node7\" class=\"node\">\n<title>6</title>\n<polygon fill=\"#f9e2d1\" stroke=\"#000000\" points=\"443,-253.5 274,-253.5 274,-200.5 443,-200.5 443,-253.5\"/>\n<text text-anchor=\"middle\" x=\"358.5\" y=\"-238.3\" font-family=\"Helvetica,sans-Serif\" font-size=\"14.00\" fill=\"#000000\">squared_error = 17.054</text>\n<text text-anchor=\"middle\" x=\"358.5\" y=\"-223.3\" font-family=\"Helvetica,sans-Serif\" font-size=\"14.00\" fill=\"#000000\">samples = 18</text>\n<text text-anchor=\"middle\" x=\"358.5\" y=\"-208.3\" font-family=\"Helvetica,sans-Serif\" font-size=\"14.00\" fill=\"#000000\">value = 12.556</text>\n</g>\n<!-- 2&#45;&gt;6 -->\n<g id=\"edge6\" class=\"edge\">\n<title>2&#45;&gt;6</title>\n<path fill=\"none\" stroke=\"#000000\" d=\"M358.5,-296.9465C358.5,-286.2621 358.5,-274.4254 358.5,-263.5742\"/>\n<polygon fill=\"#000000\" stroke=\"#000000\" points=\"362.0001,-263.5421 358.5,-253.5422 355.0001,-263.5422 362.0001,-263.5421\"/>\n</g>\n<!-- 4 -->\n<g id=\"node5\" class=\"node\">\n<title>4</title>\n<polygon fill=\"#ffffff\" stroke=\"#000000\" points=\"161,-149.5 0,-149.5 0,-96.5 161,-96.5 161,-149.5\"/>\n<text text-anchor=\"middle\" x=\"80.5\" y=\"-134.3\" font-family=\"Helvetica,sans-Serif\" font-size=\"14.00\" fill=\"#000000\">squared_error = 14.54</text>\n<text text-anchor=\"middle\" x=\"80.5\" y=\"-119.3\" font-family=\"Helvetica,sans-Serif\" font-size=\"14.00\" fill=\"#000000\">samples = 16</text>\n<text text-anchor=\"middle\" x=\"80.5\" y=\"-104.3\" font-family=\"Helvetica,sans-Serif\" font-size=\"14.00\" fill=\"#000000\">value = 6.9</text>\n</g>\n<!-- 3&#45;&gt;4 -->\n<g id=\"edge4\" class=\"edge\">\n<title>3&#45;&gt;4</title>\n<path fill=\"none\" stroke=\"#000000\" d=\"M141.7032,-192.9465C131.6796,-181.491 120.4972,-168.711 110.461,-157.2412\"/>\n<polygon fill=\"#000000\" stroke=\"#000000\" points=\"112.9435,-154.7632 103.7244,-149.5422 107.6754,-159.3727 112.9435,-154.7632\"/>\n</g>\n<!-- 5 -->\n<g id=\"node6\" class=\"node\">\n<title>5</title>\n<polygon fill=\"#fbeee4\" stroke=\"#000000\" points=\"348,-149.5 179,-149.5 179,-96.5 348,-96.5 348,-149.5\"/>\n<text text-anchor=\"middle\" x=\"263.5\" y=\"-134.3\" font-family=\"Helvetica,sans-Serif\" font-size=\"14.00\" fill=\"#000000\">squared_error = 16.957</text>\n<text text-anchor=\"middle\" x=\"263.5\" y=\"-119.3\" font-family=\"Helvetica,sans-Serif\" font-size=\"14.00\" fill=\"#000000\">samples = 16</text>\n<text text-anchor=\"middle\" x=\"263.5\" y=\"-104.3\" font-family=\"Helvetica,sans-Serif\" font-size=\"14.00\" fill=\"#000000\">value = 10.269</text>\n</g>\n<!-- 3&#45;&gt;5 -->\n<g id=\"edge5\" class=\"edge\">\n<title>3&#45;&gt;5</title>\n<path fill=\"none\" stroke=\"#000000\" d=\"M201.6242,-192.9465C211.758,-181.491 223.0633,-168.711 233.2097,-157.2412\"/>\n<polygon fill=\"#000000\" stroke=\"#000000\" points=\"236.0161,-159.3512 240.0204,-149.5422 230.7731,-154.7131 236.0161,-159.3512\"/>\n</g>\n<!-- 8 -->\n<g id=\"node9\" class=\"node\">\n<title>8</title>\n<polygon fill=\"#f3c5a4\" stroke=\"#000000\" points=\"630,-253.5 461,-253.5 461,-200.5 630,-200.5 630,-253.5\"/>\n<text text-anchor=\"middle\" x=\"545.5\" y=\"-238.3\" font-family=\"Helvetica,sans-Serif\" font-size=\"14.00\" fill=\"#000000\">squared_error = 15.556</text>\n<text text-anchor=\"middle\" x=\"545.5\" y=\"-223.3\" font-family=\"Helvetica,sans-Serif\" font-size=\"14.00\" fill=\"#000000\">samples = 24</text>\n<text text-anchor=\"middle\" x=\"545.5\" y=\"-208.3\" font-family=\"Helvetica,sans-Serif\" font-size=\"14.00\" fill=\"#000000\">value = 18.1</text>\n</g>\n<!-- 7&#45;&gt;8 -->\n<g id=\"edge8\" class=\"edge\">\n<title>7&#45;&gt;8</title>\n<path fill=\"none\" stroke=\"#000000\" d=\"M608.0483,-296.9465C597.8045,-285.491 586.3762,-272.711 576.1195,-261.2412\"/>\n<polygon fill=\"#000000\" stroke=\"#000000\" points=\"578.5097,-258.6634 569.2348,-253.5422 573.2917,-263.3295 578.5097,-258.6634\"/>\n</g>\n<!-- 9 -->\n<g id=\"node10\" class=\"node\">\n<title>9</title>\n<polygon fill=\"#f8ddca\" stroke=\"#000000\" points=\"817,-253.5 648,-253.5 648,-200.5 817,-200.5 817,-253.5\"/>\n<text text-anchor=\"middle\" x=\"732.5\" y=\"-238.3\" font-family=\"Helvetica,sans-Serif\" font-size=\"14.00\" fill=\"#000000\">squared_error = 21.239</text>\n<text text-anchor=\"middle\" x=\"732.5\" y=\"-223.3\" font-family=\"Helvetica,sans-Serif\" font-size=\"14.00\" fill=\"#000000\">samples = 16</text>\n<text text-anchor=\"middle\" x=\"732.5\" y=\"-208.3\" font-family=\"Helvetica,sans-Serif\" font-size=\"14.00\" fill=\"#000000\">value = 13.456</text>\n</g>\n<!-- 7&#45;&gt;9 -->\n<g id=\"edge9\" class=\"edge\">\n<title>7&#45;&gt;9</title>\n<path fill=\"none\" stroke=\"#000000\" d=\"M669.2791,-296.9465C679.6331,-285.491 691.1842,-272.711 701.5513,-261.2412\"/>\n<polygon fill=\"#000000\" stroke=\"#000000\" points=\"704.4011,-263.3078 708.51,-253.5422 699.208,-258.614 704.4011,-263.3078\"/>\n</g>\n<!-- 11 -->\n<g id=\"node12\" class=\"node\">\n<title>11</title>\n<polygon fill=\"#eead7e\" stroke=\"#000000\" points=\"1004,-365 835,-365 835,-297 1004,-297 1004,-365\"/>\n<text text-anchor=\"middle\" x=\"919.5\" y=\"-349.8\" font-family=\"Helvetica,sans-Serif\" font-size=\"14.00\" fill=\"#000000\">HEIGHT &lt;= 68.625</text>\n<text text-anchor=\"middle\" x=\"919.5\" y=\"-334.8\" font-family=\"Helvetica,sans-Serif\" font-size=\"14.00\" fill=\"#000000\">squared_error = 19.797</text>\n<text text-anchor=\"middle\" x=\"919.5\" y=\"-319.8\" font-family=\"Helvetica,sans-Serif\" font-size=\"14.00\" fill=\"#000000\">samples = 65</text>\n<text text-anchor=\"middle\" x=\"919.5\" y=\"-304.8\" font-family=\"Helvetica,sans-Serif\" font-size=\"14.00\" fill=\"#000000\">value = 22.762</text>\n</g>\n<!-- 10&#45;&gt;11 -->\n<g id=\"edge11\" class=\"edge\">\n<title>10&#45;&gt;11</title>\n<path fill=\"none\" stroke=\"#000000\" d=\"M919.5,-400.9465C919.5,-392.776 919.5,-383.9318 919.5,-375.3697\"/>\n<polygon fill=\"#000000\" stroke=\"#000000\" points=\"923.0001,-375.13 919.5,-365.13 916.0001,-375.13 923.0001,-375.13\"/>\n</g>\n<!-- 18 -->\n<g id=\"node19\" class=\"node\">\n<title>18</title>\n<polygon fill=\"#e58139\" stroke=\"#000000\" points=\"1191,-357.5 1022,-357.5 1022,-304.5 1191,-304.5 1191,-357.5\"/>\n<text text-anchor=\"middle\" x=\"1106.5\" y=\"-342.3\" font-family=\"Helvetica,sans-Serif\" font-size=\"14.00\" fill=\"#000000\">squared_error = 32.445</text>\n<text text-anchor=\"middle\" x=\"1106.5\" y=\"-327.3\" font-family=\"Helvetica,sans-Serif\" font-size=\"14.00\" fill=\"#000000\">samples = 21</text>\n<text text-anchor=\"middle\" x=\"1106.5\" y=\"-312.3\" font-family=\"Helvetica,sans-Serif\" font-size=\"14.00\" fill=\"#000000\">value = 31.29</text>\n</g>\n<!-- 10&#45;&gt;18 -->\n<g id=\"edge18\" class=\"edge\">\n<title>10&#45;&gt;18</title>\n<path fill=\"none\" stroke=\"#000000\" d=\"M980.7308,-400.9465C1003.0121,-388.5547 1028.0802,-374.6132 1049.9387,-362.4565\"/>\n<polygon fill=\"#000000\" stroke=\"#000000\" points=\"1051.7369,-365.4614 1058.7751,-357.5422 1048.3346,-359.3438 1051.7369,-365.4614\"/>\n</g>\n<!-- 12 -->\n<g id=\"node13\" class=\"node\">\n<title>12</title>\n<polygon fill=\"#eba069\" stroke=\"#000000\" points=\"1004,-253.5 835,-253.5 835,-200.5 1004,-200.5 1004,-253.5\"/>\n<text text-anchor=\"middle\" x=\"919.5\" y=\"-238.3\" font-family=\"Helvetica,sans-Serif\" font-size=\"14.00\" fill=\"#000000\">squared_error = 21.065</text>\n<text text-anchor=\"middle\" x=\"919.5\" y=\"-223.3\" font-family=\"Helvetica,sans-Serif\" font-size=\"14.00\" fill=\"#000000\">samples = 16</text>\n<text text-anchor=\"middle\" x=\"919.5\" y=\"-208.3\" font-family=\"Helvetica,sans-Serif\" font-size=\"14.00\" fill=\"#000000\">value = 25.363</text>\n</g>\n<!-- 11&#45;&gt;12 -->\n<g id=\"edge12\" class=\"edge\">\n<title>11&#45;&gt;12</title>\n<path fill=\"none\" stroke=\"#000000\" d=\"M919.5,-296.9465C919.5,-286.2621 919.5,-274.4254 919.5,-263.5742\"/>\n<polygon fill=\"#000000\" stroke=\"#000000\" points=\"923.0001,-263.5421 919.5,-253.5422 916.0001,-263.5422 923.0001,-263.5421\"/>\n</g>\n<!-- 13 -->\n<g id=\"node14\" class=\"node\">\n<title>13</title>\n<polygon fill=\"#efb185\" stroke=\"#000000\" points=\"1191,-261 1022,-261 1022,-193 1191,-193 1191,-261\"/>\n<text text-anchor=\"middle\" x=\"1106.5\" y=\"-245.8\" font-family=\"Helvetica,sans-Serif\" font-size=\"14.00\" fill=\"#000000\">ABDOMEN &lt;= 99.15</text>\n<text text-anchor=\"middle\" x=\"1106.5\" y=\"-230.8\" font-family=\"Helvetica,sans-Serif\" font-size=\"14.00\" fill=\"#000000\">squared_error = 16.453</text>\n<text text-anchor=\"middle\" x=\"1106.5\" y=\"-215.8\" font-family=\"Helvetica,sans-Serif\" font-size=\"14.00\" fill=\"#000000\">samples = 49</text>\n<text text-anchor=\"middle\" x=\"1106.5\" y=\"-200.8\" font-family=\"Helvetica,sans-Serif\" font-size=\"14.00\" fill=\"#000000\">value = 21.912</text>\n</g>\n<!-- 11&#45;&gt;13 -->\n<g id=\"edge13\" class=\"edge\">\n<title>11&#45;&gt;13</title>\n<path fill=\"none\" stroke=\"#000000\" d=\"M980.7308,-296.9465C998.4893,-287.0701 1018.018,-276.2093 1036.2811,-266.0522\"/>\n<polygon fill=\"#000000\" stroke=\"#000000\" points=\"1038.0934,-269.0492 1045.1316,-261.13 1034.6911,-262.9317 1038.0934,-269.0492\"/>\n</g>\n<!-- 14 -->\n<g id=\"node15\" class=\"node\">\n<title>14</title>\n<polygon fill=\"#f0b68c\" stroke=\"#000000\" points=\"1097,-157 928,-157 928,-89 1097,-89 1097,-157\"/>\n<text text-anchor=\"middle\" x=\"1012.5\" y=\"-141.8\" font-family=\"Helvetica,sans-Serif\" font-size=\"14.00\" fill=\"#000000\">THIGH &lt;= 60.2</text>\n<text text-anchor=\"middle\" x=\"1012.5\" y=\"-126.8\" font-family=\"Helvetica,sans-Serif\" font-size=\"14.00\" fill=\"#000000\">squared_error = 12.844</text>\n<text text-anchor=\"middle\" x=\"1012.5\" y=\"-111.8\" font-family=\"Helvetica,sans-Serif\" font-size=\"14.00\" fill=\"#000000\">samples = 32</text>\n<text text-anchor=\"middle\" x=\"1012.5\" y=\"-96.8\" font-family=\"Helvetica,sans-Serif\" font-size=\"14.00\" fill=\"#000000\">value = 21.022</text>\n</g>\n<!-- 13&#45;&gt;14 -->\n<g id=\"edge14\" class=\"edge\">\n<title>13&#45;&gt;14</title>\n<path fill=\"none\" stroke=\"#000000\" d=\"M1075.7209,-192.9465C1067.5245,-183.8782 1058.578,-173.9799 1050.0625,-164.5585\"/>\n<polygon fill=\"#000000\" stroke=\"#000000\" points=\"1052.6503,-162.2019 1043.3483,-157.13 1047.4571,-166.8957 1052.6503,-162.2019\"/>\n</g>\n<!-- 17 -->\n<g id=\"node18\" class=\"node\">\n<title>17</title>\n<polygon fill=\"#eda978\" stroke=\"#000000\" points=\"1284,-149.5 1115,-149.5 1115,-96.5 1284,-96.5 1284,-149.5\"/>\n<text text-anchor=\"middle\" x=\"1199.5\" y=\"-134.3\" font-family=\"Helvetica,sans-Serif\" font-size=\"14.00\" fill=\"#000000\">squared_error = 18.946</text>\n<text text-anchor=\"middle\" x=\"1199.5\" y=\"-119.3\" font-family=\"Helvetica,sans-Serif\" font-size=\"14.00\" fill=\"#000000\">samples = 17</text>\n<text text-anchor=\"middle\" x=\"1199.5\" y=\"-104.3\" font-family=\"Helvetica,sans-Serif\" font-size=\"14.00\" fill=\"#000000\">value = 23.588</text>\n</g>\n<!-- 13&#45;&gt;17 -->\n<g id=\"edge17\" class=\"edge\">\n<title>13&#45;&gt;17</title>\n<path fill=\"none\" stroke=\"#000000\" d=\"M1136.9517,-192.9465C1147.1955,-181.491 1158.6238,-168.711 1168.8805,-157.2412\"/>\n<polygon fill=\"#000000\" stroke=\"#000000\" points=\"1171.7083,-159.3295 1175.7652,-149.5422 1166.4903,-154.6634 1171.7083,-159.3295\"/>\n</g>\n<!-- 15 -->\n<g id=\"node16\" class=\"node\">\n<title>15</title>\n<polygon fill=\"#efb184\" stroke=\"#000000\" points=\"1001,-53 840,-53 840,0 1001,0 1001,-53\"/>\n<text text-anchor=\"middle\" x=\"920.5\" y=\"-37.8\" font-family=\"Helvetica,sans-Serif\" font-size=\"14.00\" fill=\"#000000\">squared_error = 9.742</text>\n<text text-anchor=\"middle\" x=\"920.5\" y=\"-22.8\" font-family=\"Helvetica,sans-Serif\" font-size=\"14.00\" fill=\"#000000\">samples = 16</text>\n<text text-anchor=\"middle\" x=\"920.5\" y=\"-7.8\" font-family=\"Helvetica,sans-Serif\" font-size=\"14.00\" fill=\"#000000\">value = 22.038</text>\n</g>\n<!-- 14&#45;&gt;15 -->\n<g id=\"edge15\" class=\"edge\">\n<title>14&#45;&gt;15</title>\n<path fill=\"none\" stroke=\"#000000\" d=\"M980.0642,-88.9777C971.3343,-79.8207 961.8885,-69.9129 953.1471,-60.744\"/>\n<polygon fill=\"#000000\" stroke=\"#000000\" points=\"955.4347,-58.0712 946.0011,-53.2485 950.3682,-62.9014 955.4347,-58.0712\"/>\n</g>\n<!-- 16 -->\n<g id=\"node17\" class=\"node\">\n<title>16</title>\n<polygon fill=\"#f1bb95\" stroke=\"#000000\" points=\"1188,-53 1019,-53 1019,0 1188,0 1188,-53\"/>\n<text text-anchor=\"middle\" x=\"1103.5\" y=\"-37.8\" font-family=\"Helvetica,sans-Serif\" font-size=\"14.00\" fill=\"#000000\">squared_error = 13.882</text>\n<text text-anchor=\"middle\" x=\"1103.5\" y=\"-22.8\" font-family=\"Helvetica,sans-Serif\" font-size=\"14.00\" fill=\"#000000\">samples = 16</text>\n<text text-anchor=\"middle\" x=\"1103.5\" y=\"-7.8\" font-family=\"Helvetica,sans-Serif\" font-size=\"14.00\" fill=\"#000000\">value = 20.006</text>\n</g>\n<!-- 14&#45;&gt;16 -->\n<g id=\"edge16\" class=\"edge\">\n<title>14&#45;&gt;16</title>\n<path fill=\"none\" stroke=\"#000000\" d=\"M1044.5832,-88.9777C1053.2183,-79.8207 1062.5614,-69.9129 1071.2078,-60.744\"/>\n<polygon fill=\"#000000\" stroke=\"#000000\" points=\"1073.9617,-62.9251 1078.276,-53.2485 1068.8689,-58.1226 1073.9617,-62.9251\"/>\n</g>\n</g>\n</svg>\n"
          },
          "metadata": {}
        }
      ]
    },
    {
      "cell_type": "markdown",
      "source": [
        "#### **모델 파라미터 조정하기 : min_samples_split**"
      ],
      "metadata": {
        "id": "GmC5OGmQ5xyS"
      }
    },
    {
      "cell_type": "code",
      "source": [
        "train_score = []; test_score = []\n",
        "para_split = [n_split * 2 for n_split in range(2,20)]\n",
        "\n",
        "for v_min_samples_split in para_split :\n",
        "    tree = DecisionTreeRegressor(random_state = 1234,\n",
        "                                 min_samples_leaf = 8,\n",
        "                                 min_samples_split = v_min_samples_split)\n",
        "    tree.fit(df_train_x, df_train_y)\n",
        "    train_score.append(tree.score(df_train_x, df_train_y))\n",
        "    test_score.append(tree.score(df_test_x, df_test_y))\n",
        "\n",
        "df_score_split = pd.DataFrame()\n",
        "df_score_split['MinSamplesSplit'] = para_split\n",
        "df_score_split['TrainScore'] = train_score\n",
        "df_score_split['TestScore'] = test_score"
      ],
      "metadata": {
        "id": "et5wZeXM5xyg"
      },
      "execution_count": 58,
      "outputs": []
    },
    {
      "cell_type": "code",
      "source": [
        "df_score_split.round(3)"
      ],
      "metadata": {
        "outputId": "1681e9cd-7126-49ce-bc26-2fff7defcaea",
        "colab": {
          "base_uri": "https://localhost:8080/",
          "height": 614
        },
        "id": "T3p0DLNe5xyh"
      },
      "execution_count": 59,
      "outputs": [
        {
          "output_type": "execute_result",
          "data": {
            "text/plain": [
              "    MinSamplesSplit  TrainScore  TestScore\n",
              "0                 4       0.830      0.536\n",
              "1                 6       0.830      0.536\n",
              "2                 8       0.830      0.536\n",
              "3                10       0.830      0.536\n",
              "4                12       0.830      0.536\n",
              "5                14       0.830      0.536\n",
              "6                16       0.830      0.536\n",
              "7                18       0.821      0.557\n",
              "8                20       0.813      0.581\n",
              "9                22       0.792      0.567\n",
              "10               24       0.792      0.567\n",
              "11               26       0.775      0.576\n",
              "12               28       0.762      0.540\n",
              "13               30       0.762      0.540\n",
              "14               32       0.762      0.540\n",
              "15               34       0.745      0.541\n",
              "16               36       0.745      0.541\n",
              "17               38       0.745      0.541"
            ],
            "text/html": [
              "\n",
              "  <div id=\"df-e627ff90-41bb-4144-a55c-a12129c39c08\">\n",
              "    <div class=\"colab-df-container\">\n",
              "      <div>\n",
              "<style scoped>\n",
              "    .dataframe tbody tr th:only-of-type {\n",
              "        vertical-align: middle;\n",
              "    }\n",
              "\n",
              "    .dataframe tbody tr th {\n",
              "        vertical-align: top;\n",
              "    }\n",
              "\n",
              "    .dataframe thead th {\n",
              "        text-align: right;\n",
              "    }\n",
              "</style>\n",
              "<table border=\"1\" class=\"dataframe\">\n",
              "  <thead>\n",
              "    <tr style=\"text-align: right;\">\n",
              "      <th></th>\n",
              "      <th>MinSamplesSplit</th>\n",
              "      <th>TrainScore</th>\n",
              "      <th>TestScore</th>\n",
              "    </tr>\n",
              "  </thead>\n",
              "  <tbody>\n",
              "    <tr>\n",
              "      <th>0</th>\n",
              "      <td>4</td>\n",
              "      <td>0.830</td>\n",
              "      <td>0.536</td>\n",
              "    </tr>\n",
              "    <tr>\n",
              "      <th>1</th>\n",
              "      <td>6</td>\n",
              "      <td>0.830</td>\n",
              "      <td>0.536</td>\n",
              "    </tr>\n",
              "    <tr>\n",
              "      <th>2</th>\n",
              "      <td>8</td>\n",
              "      <td>0.830</td>\n",
              "      <td>0.536</td>\n",
              "    </tr>\n",
              "    <tr>\n",
              "      <th>3</th>\n",
              "      <td>10</td>\n",
              "      <td>0.830</td>\n",
              "      <td>0.536</td>\n",
              "    </tr>\n",
              "    <tr>\n",
              "      <th>4</th>\n",
              "      <td>12</td>\n",
              "      <td>0.830</td>\n",
              "      <td>0.536</td>\n",
              "    </tr>\n",
              "    <tr>\n",
              "      <th>5</th>\n",
              "      <td>14</td>\n",
              "      <td>0.830</td>\n",
              "      <td>0.536</td>\n",
              "    </tr>\n",
              "    <tr>\n",
              "      <th>6</th>\n",
              "      <td>16</td>\n",
              "      <td>0.830</td>\n",
              "      <td>0.536</td>\n",
              "    </tr>\n",
              "    <tr>\n",
              "      <th>7</th>\n",
              "      <td>18</td>\n",
              "      <td>0.821</td>\n",
              "      <td>0.557</td>\n",
              "    </tr>\n",
              "    <tr>\n",
              "      <th>8</th>\n",
              "      <td>20</td>\n",
              "      <td>0.813</td>\n",
              "      <td>0.581</td>\n",
              "    </tr>\n",
              "    <tr>\n",
              "      <th>9</th>\n",
              "      <td>22</td>\n",
              "      <td>0.792</td>\n",
              "      <td>0.567</td>\n",
              "    </tr>\n",
              "    <tr>\n",
              "      <th>10</th>\n",
              "      <td>24</td>\n",
              "      <td>0.792</td>\n",
              "      <td>0.567</td>\n",
              "    </tr>\n",
              "    <tr>\n",
              "      <th>11</th>\n",
              "      <td>26</td>\n",
              "      <td>0.775</td>\n",
              "      <td>0.576</td>\n",
              "    </tr>\n",
              "    <tr>\n",
              "      <th>12</th>\n",
              "      <td>28</td>\n",
              "      <td>0.762</td>\n",
              "      <td>0.540</td>\n",
              "    </tr>\n",
              "    <tr>\n",
              "      <th>13</th>\n",
              "      <td>30</td>\n",
              "      <td>0.762</td>\n",
              "      <td>0.540</td>\n",
              "    </tr>\n",
              "    <tr>\n",
              "      <th>14</th>\n",
              "      <td>32</td>\n",
              "      <td>0.762</td>\n",
              "      <td>0.540</td>\n",
              "    </tr>\n",
              "    <tr>\n",
              "      <th>15</th>\n",
              "      <td>34</td>\n",
              "      <td>0.745</td>\n",
              "      <td>0.541</td>\n",
              "    </tr>\n",
              "    <tr>\n",
              "      <th>16</th>\n",
              "      <td>36</td>\n",
              "      <td>0.745</td>\n",
              "      <td>0.541</td>\n",
              "    </tr>\n",
              "    <tr>\n",
              "      <th>17</th>\n",
              "      <td>38</td>\n",
              "      <td>0.745</td>\n",
              "      <td>0.541</td>\n",
              "    </tr>\n",
              "  </tbody>\n",
              "</table>\n",
              "</div>\n",
              "      <button class=\"colab-df-convert\" onclick=\"convertToInteractive('df-e627ff90-41bb-4144-a55c-a12129c39c08')\"\n",
              "              title=\"Convert this dataframe to an interactive table.\"\n",
              "              style=\"display:none;\">\n",
              "        \n",
              "  <svg xmlns=\"http://www.w3.org/2000/svg\" height=\"24px\"viewBox=\"0 0 24 24\"\n",
              "       width=\"24px\">\n",
              "    <path d=\"M0 0h24v24H0V0z\" fill=\"none\"/>\n",
              "    <path d=\"M18.56 5.44l.94 2.06.94-2.06 2.06-.94-2.06-.94-.94-2.06-.94 2.06-2.06.94zm-11 1L8.5 8.5l.94-2.06 2.06-.94-2.06-.94L8.5 2.5l-.94 2.06-2.06.94zm10 10l.94 2.06.94-2.06 2.06-.94-2.06-.94-.94-2.06-.94 2.06-2.06.94z\"/><path d=\"M17.41 7.96l-1.37-1.37c-.4-.4-.92-.59-1.43-.59-.52 0-1.04.2-1.43.59L10.3 9.45l-7.72 7.72c-.78.78-.78 2.05 0 2.83L4 21.41c.39.39.9.59 1.41.59.51 0 1.02-.2 1.41-.59l7.78-7.78 2.81-2.81c.8-.78.8-2.07 0-2.86zM5.41 20L4 18.59l7.72-7.72 1.47 1.35L5.41 20z\"/>\n",
              "  </svg>\n",
              "      </button>\n",
              "      \n",
              "  <style>\n",
              "    .colab-df-container {\n",
              "      display:flex;\n",
              "      flex-wrap:wrap;\n",
              "      gap: 12px;\n",
              "    }\n",
              "\n",
              "    .colab-df-convert {\n",
              "      background-color: #E8F0FE;\n",
              "      border: none;\n",
              "      border-radius: 50%;\n",
              "      cursor: pointer;\n",
              "      display: none;\n",
              "      fill: #1967D2;\n",
              "      height: 32px;\n",
              "      padding: 0 0 0 0;\n",
              "      width: 32px;\n",
              "    }\n",
              "\n",
              "    .colab-df-convert:hover {\n",
              "      background-color: #E2EBFA;\n",
              "      box-shadow: 0px 1px 2px rgba(60, 64, 67, 0.3), 0px 1px 3px 1px rgba(60, 64, 67, 0.15);\n",
              "      fill: #174EA6;\n",
              "    }\n",
              "\n",
              "    [theme=dark] .colab-df-convert {\n",
              "      background-color: #3B4455;\n",
              "      fill: #D2E3FC;\n",
              "    }\n",
              "\n",
              "    [theme=dark] .colab-df-convert:hover {\n",
              "      background-color: #434B5C;\n",
              "      box-shadow: 0px 1px 3px 1px rgba(0, 0, 0, 0.15);\n",
              "      filter: drop-shadow(0px 1px 2px rgba(0, 0, 0, 0.3));\n",
              "      fill: #FFFFFF;\n",
              "    }\n",
              "  </style>\n",
              "\n",
              "      <script>\n",
              "        const buttonEl =\n",
              "          document.querySelector('#df-e627ff90-41bb-4144-a55c-a12129c39c08 button.colab-df-convert');\n",
              "        buttonEl.style.display =\n",
              "          google.colab.kernel.accessAllowed ? 'block' : 'none';\n",
              "\n",
              "        async function convertToInteractive(key) {\n",
              "          const element = document.querySelector('#df-e627ff90-41bb-4144-a55c-a12129c39c08');\n",
              "          const dataTable =\n",
              "            await google.colab.kernel.invokeFunction('convertToInteractive',\n",
              "                                                     [key], {});\n",
              "          if (!dataTable) return;\n",
              "\n",
              "          const docLinkHtml = 'Like what you see? Visit the ' +\n",
              "            '<a target=\"_blank\" href=https://colab.research.google.com/notebooks/data_table.ipynb>data table notebook</a>'\n",
              "            + ' to learn more about interactive tables.';\n",
              "          element.innerHTML = '';\n",
              "          dataTable['output_type'] = 'display_data';\n",
              "          await google.colab.output.renderOutput(dataTable, element);\n",
              "          const docLink = document.createElement('div');\n",
              "          docLink.innerHTML = docLinkHtml;\n",
              "          element.appendChild(docLink);\n",
              "        }\n",
              "      </script>\n",
              "    </div>\n",
              "  </div>\n",
              "  "
            ]
          },
          "metadata": {},
          "execution_count": 59
        }
      ]
    },
    {
      "cell_type": "code",
      "source": [
        "plt.plot(para_split, train_score, linestyle = '-', label = 'Train Score')\n",
        "plt.plot(para_split, test_score, linestyle = '-', label = 'Test Score')\n",
        "plt.ylabel('score'); plt.xlabel('MinSamplesSplit')\n",
        "plt.legend()"
      ],
      "metadata": {
        "outputId": "e87a6697-a759-4421-9d12-196900010048",
        "colab": {
          "base_uri": "https://localhost:8080/",
          "height": 297
        },
        "id": "cVrN_WIq5xyh"
      },
      "execution_count": 60,
      "outputs": [
        {
          "output_type": "execute_result",
          "data": {
            "text/plain": [
              "<matplotlib.legend.Legend at 0x7fccd8ffdd90>"
            ]
          },
          "metadata": {},
          "execution_count": 60
        },
        {
          "output_type": "display_data",
          "data": {
            "text/plain": [
              "<Figure size 432x288 with 1 Axes>"
            ],
            "image/png": "[encoded data removed]"
          },
          "metadata": {
            "needs_background": "light"
          }
        }
      ]
    },
    {
      "cell_type": "code",
      "source": [
        "# 나무구조 시각화 : min_samples_leaf = 8, min_samples_split = 20\n",
        "\n",
        "v_feature_name = df_train_x.columns\n",
        "\n",
        "tree_graph = DecisionTreeRegressor(random_state = 1234,\n",
        "                                   min_samples_leaf = 8,\n",
        "                                   min_samples_split = 20)\n",
        "tree_graph.fit(df_train_x, df_train_y)\n",
        "export_graphviz(tree_graph, out_file = 'tree_split.dot',\n",
        "                feature_names = v_feature_name, impurity = True, filled = True)\n",
        "\n",
        "with open('tree_split.dot') as f :\n",
        "    dot_graph = f.read()\n",
        "    display(graphviz.Source(dot_graph))"
      ],
      "metadata": {
        "outputId": "2f27d3e0-cfd6-406a-ce80-540906951035",
        "colab": {
          "base_uri": "https://localhost:8080/",
          "height": 953
        },
        "id": "rErDI0MF5xyh"
      },
      "execution_count": 61,
      "outputs": [
        {
          "output_type": "display_data",
          "data": {
            "text/plain": [
              "<graphviz.files.Source at 0x7fccd8fa9e50>"
            ],
            "image/svg+xml": "<?xml version=\"1.0\" encoding=\"UTF-8\" standalone=\"no\"?>\n<!DOCTYPE svg PUBLIC \"-//W3C//DTD SVG 1.1//EN\"\n \"http://www.w3.org/Graphics/SVG/1.1/DTD/svg11.dtd\">\n<!-- Generated by graphviz version 2.40.1 (20161225.0304)\n -->\n<!-- Title: Tree Pages: 1 -->\n<svg width=\"1577pt\" height=\"685pt\"\n viewBox=\"0.00 0.00 1577.00 685.00\" xmlns=\"http://www.w3.org/2000/svg\" xmlns:xlink=\"http://www.w3.org/1999/xlink\">\n<g id=\"graph0\" class=\"graph\" transform=\"scale(1 1) rotate(0) translate(4 681)\">\n<title>Tree</title>\n<polygon fill=\"#ffffff\" stroke=\"transparent\" points=\"-4,4 -4,-681 1573,-681 1573,4 -4,4\"/>\n<!-- 0 -->\n<g id=\"node1\" class=\"node\">\n<title>0</title>\n<polygon fill=\"#f3c7a7\" stroke=\"#000000\" points=\"914,-677 745,-677 745,-609 914,-609 914,-677\"/>\n<text text-anchor=\"middle\" x=\"829.5\" y=\"-661.8\" font-family=\"Helvetica,sans-Serif\" font-size=\"14.00\" fill=\"#000000\">ABDOMEN &lt;= 91.3</text>\n<text text-anchor=\"middle\" x=\"829.5\" y=\"-646.8\" font-family=\"Helvetica,sans-Serif\" font-size=\"14.00\" fill=\"#000000\">squared_error = 70.379</text>\n<text text-anchor=\"middle\" x=\"829.5\" y=\"-631.8\" font-family=\"Helvetica,sans-Serif\" font-size=\"14.00\" fill=\"#000000\">samples = 176</text>\n<text text-anchor=\"middle\" x=\"829.5\" y=\"-616.8\" font-family=\"Helvetica,sans-Serif\" font-size=\"14.00\" fill=\"#000000\">value = 18.676</text>\n</g>\n<!-- 1 -->\n<g id=\"node2\" class=\"node\">\n<title>1</title>\n<polygon fill=\"#f8dfcc\" stroke=\"#000000\" points=\"727,-573 558,-573 558,-505 727,-505 727,-573\"/>\n<text text-anchor=\"middle\" x=\"642.5\" y=\"-557.8\" font-family=\"Helvetica,sans-Serif\" font-size=\"14.00\" fill=\"#000000\">ABDOMEN &lt;= 85.45</text>\n<text text-anchor=\"middle\" x=\"642.5\" y=\"-542.8\" font-family=\"Helvetica,sans-Serif\" font-size=\"14.00\" fill=\"#000000\">squared_error = 31.841</text>\n<text text-anchor=\"middle\" x=\"642.5\" y=\"-527.8\" font-family=\"Helvetica,sans-Serif\" font-size=\"14.00\" fill=\"#000000\">samples = 90</text>\n<text text-anchor=\"middle\" x=\"642.5\" y=\"-512.8\" font-family=\"Helvetica,sans-Serif\" font-size=\"14.00\" fill=\"#000000\">value = 12.782</text>\n</g>\n<!-- 0&#45;&gt;1 -->\n<g id=\"edge1\" class=\"edge\">\n<title>0&#45;&gt;1</title>\n<path fill=\"none\" stroke=\"#000000\" d=\"M768.2692,-608.9465C750.5107,-599.0701 730.982,-588.2093 712.7189,-578.0522\"/>\n<polygon fill=\"#000000\" stroke=\"#000000\" points=\"714.3089,-574.9317 703.8684,-573.13 710.9066,-581.0492 714.3089,-574.9317\"/>\n<text text-anchor=\"middle\" x=\"710.7255\" y=\"-593.4712\" font-family=\"Helvetica,sans-Serif\" font-size=\"14.00\" fill=\"#000000\">True</text>\n</g>\n<!-- 14 -->\n<g id=\"node15\" class=\"node\">\n<title>14</title>\n<polygon fill=\"#eeae7f\" stroke=\"#000000\" points=\"1101,-573 932,-573 932,-505 1101,-505 1101,-573\"/>\n<text text-anchor=\"middle\" x=\"1016.5\" y=\"-557.8\" font-family=\"Helvetica,sans-Serif\" font-size=\"14.00\" fill=\"#000000\">ABDOMEN &lt;= 104.9</text>\n<text text-anchor=\"middle\" x=\"1016.5\" y=\"-542.8\" font-family=\"Helvetica,sans-Serif\" font-size=\"14.00\" fill=\"#000000\">squared_error = 36.311</text>\n<text text-anchor=\"middle\" x=\"1016.5\" y=\"-527.8\" font-family=\"Helvetica,sans-Serif\" font-size=\"14.00\" fill=\"#000000\">samples = 86</text>\n<text text-anchor=\"middle\" x=\"1016.5\" y=\"-512.8\" font-family=\"Helvetica,sans-Serif\" font-size=\"14.00\" fill=\"#000000\">value = 24.844</text>\n</g>\n<!-- 0&#45;&gt;14 -->\n<g id=\"edge14\" class=\"edge\">\n<title>0&#45;&gt;14</title>\n<path fill=\"none\" stroke=\"#000000\" d=\"M890.7308,-608.9465C908.4893,-599.0701 928.018,-588.2093 946.2811,-578.0522\"/>\n<polygon fill=\"#000000\" stroke=\"#000000\" points=\"948.0934,-581.0492 955.1316,-573.13 944.6911,-574.9317 948.0934,-581.0492\"/>\n<text text-anchor=\"middle\" x=\"948.2745\" y=\"-593.4712\" font-family=\"Helvetica,sans-Serif\" font-size=\"14.00\" fill=\"#000000\">False</text>\n</g>\n<!-- 2 -->\n<g id=\"node3\" class=\"node\">\n<title>2</title>\n<polygon fill=\"#fbeade\" stroke=\"#000000\" points=\"447,-469 278,-469 278,-401 447,-401 447,-469\"/>\n<text text-anchor=\"middle\" x=\"362.5\" y=\"-453.8\" font-family=\"Helvetica,sans-Serif\" font-size=\"14.00\" fill=\"#000000\">AGE &lt;= 42.5</text>\n<text text-anchor=\"middle\" x=\"362.5\" y=\"-438.8\" font-family=\"Helvetica,sans-Serif\" font-size=\"14.00\" fill=\"#000000\">squared_error = 21.668</text>\n<text text-anchor=\"middle\" x=\"362.5\" y=\"-423.8\" font-family=\"Helvetica,sans-Serif\" font-size=\"14.00\" fill=\"#000000\">samples = 50</text>\n<text text-anchor=\"middle\" x=\"362.5\" y=\"-408.8\" font-family=\"Helvetica,sans-Serif\" font-size=\"14.00\" fill=\"#000000\">value = 10.014</text>\n</g>\n<!-- 1&#45;&gt;2 -->\n<g id=\"edge2\" class=\"edge\">\n<title>1&#45;&gt;2</title>\n<path fill=\"none\" stroke=\"#000000\" d=\"M557.7309,-507.5143C525.9408,-495.7066 489.6258,-482.2182 457.0074,-470.1027\"/>\n<polygon fill=\"#000000\" stroke=\"#000000\" points=\"458.0567,-466.7589 447.4638,-466.558 455.6194,-473.3209 458.0567,-466.7589\"/>\n</g>\n<!-- 9 -->\n<g id=\"node10\" class=\"node\">\n<title>9</title>\n<polygon fill=\"#f5d1b6\" stroke=\"#000000\" points=\"727,-469 558,-469 558,-401 727,-401 727,-469\"/>\n<text text-anchor=\"middle\" x=\"642.5\" y=\"-453.8\" font-family=\"Helvetica,sans-Serif\" font-size=\"14.00\" fill=\"#000000\">NECK &lt;= 36.85</text>\n<text text-anchor=\"middle\" x=\"642.5\" y=\"-438.8\" font-family=\"Helvetica,sans-Serif\" font-size=\"14.00\" fill=\"#000000\">squared_error = 23.004</text>\n<text text-anchor=\"middle\" x=\"642.5\" y=\"-423.8\" font-family=\"Helvetica,sans-Serif\" font-size=\"14.00\" fill=\"#000000\">samples = 40</text>\n<text text-anchor=\"middle\" x=\"642.5\" y=\"-408.8\" font-family=\"Helvetica,sans-Serif\" font-size=\"14.00\" fill=\"#000000\">value = 16.242</text>\n</g>\n<!-- 1&#45;&gt;9 -->\n<g id=\"edge9\" class=\"edge\">\n<title>1&#45;&gt;9</title>\n<path fill=\"none\" stroke=\"#000000\" d=\"M642.5,-504.9465C642.5,-496.776 642.5,-487.9318 642.5,-479.3697\"/>\n<polygon fill=\"#000000\" stroke=\"#000000\" points=\"646.0001,-479.13 642.5,-469.13 639.0001,-479.13 646.0001,-479.13\"/>\n</g>\n<!-- 3 -->\n<g id=\"node4\" class=\"node\">\n<title>3</title>\n<polygon fill=\"#fcf0e7\" stroke=\"#000000\" points=\"260,-365 91,-365 91,-297 260,-297 260,-365\"/>\n<text text-anchor=\"middle\" x=\"175.5\" y=\"-349.8\" font-family=\"Helvetica,sans-Serif\" font-size=\"14.00\" fill=\"#000000\">THIGH &lt;= 52.15</text>\n<text text-anchor=\"middle\" x=\"175.5\" y=\"-334.8\" font-family=\"Helvetica,sans-Serif\" font-size=\"14.00\" fill=\"#000000\">squared_error = 18.586</text>\n<text text-anchor=\"middle\" x=\"175.5\" y=\"-319.8\" font-family=\"Helvetica,sans-Serif\" font-size=\"14.00\" fill=\"#000000\">samples = 32</text>\n<text text-anchor=\"middle\" x=\"175.5\" y=\"-304.8\" font-family=\"Helvetica,sans-Serif\" font-size=\"14.00\" fill=\"#000000\">value = 8.584</text>\n</g>\n<!-- 2&#45;&gt;3 -->\n<g id=\"edge3\" class=\"edge\">\n<title>2&#45;&gt;3</title>\n<path fill=\"none\" stroke=\"#000000\" d=\"M301.2692,-400.9465C283.5107,-391.0701 263.982,-380.2093 245.7189,-370.0522\"/>\n<polygon fill=\"#000000\" stroke=\"#000000\" points=\"247.3089,-366.9317 236.8684,-365.13 243.9066,-373.0492 247.3089,-366.9317\"/>\n</g>\n<!-- 8 -->\n<g id=\"node9\" class=\"node\">\n<title>8</title>\n<polygon fill=\"#f9e0ce\" stroke=\"#000000\" points=\"447,-357.5 278,-357.5 278,-304.5 447,-304.5 447,-357.5\"/>\n<text text-anchor=\"middle\" x=\"362.5\" y=\"-342.3\" font-family=\"Helvetica,sans-Serif\" font-size=\"14.00\" fill=\"#000000\">squared_error = 17.054</text>\n<text text-anchor=\"middle\" x=\"362.5\" y=\"-327.3\" font-family=\"Helvetica,sans-Serif\" font-size=\"14.00\" fill=\"#000000\">samples = 18</text>\n<text text-anchor=\"middle\" x=\"362.5\" y=\"-312.3\" font-family=\"Helvetica,sans-Serif\" font-size=\"14.00\" fill=\"#000000\">value = 12.556</text>\n</g>\n<!-- 2&#45;&gt;8 -->\n<g id=\"edge8\" class=\"edge\">\n<title>2&#45;&gt;8</title>\n<path fill=\"none\" stroke=\"#000000\" d=\"M362.5,-400.9465C362.5,-390.2621 362.5,-378.4254 362.5,-367.5742\"/>\n<polygon fill=\"#000000\" stroke=\"#000000\" points=\"366.0001,-367.5421 362.5,-357.5422 359.0001,-367.5422 366.0001,-367.5421\"/>\n</g>\n<!-- 4 -->\n<g id=\"node5\" class=\"node\">\n<title>4</title>\n<polygon fill=\"#ffffff\" stroke=\"#000000\" points=\"169,-253.5 0,-253.5 0,-200.5 169,-200.5 169,-253.5\"/>\n<text text-anchor=\"middle\" x=\"84.5\" y=\"-238.3\" font-family=\"Helvetica,sans-Serif\" font-size=\"14.00\" fill=\"#000000\">squared_error = 10.761</text>\n<text text-anchor=\"middle\" x=\"84.5\" y=\"-223.3\" font-family=\"Helvetica,sans-Serif\" font-size=\"14.00\" fill=\"#000000\">samples = 8</text>\n<text text-anchor=\"middle\" x=\"84.5\" y=\"-208.3\" font-family=\"Helvetica,sans-Serif\" font-size=\"14.00\" fill=\"#000000\">value = 4.887</text>\n</g>\n<!-- 3&#45;&gt;4 -->\n<g id=\"edge4\" class=\"edge\">\n<title>3&#45;&gt;4</title>\n<path fill=\"none\" stroke=\"#000000\" d=\"M145.7032,-296.9465C135.6796,-285.491 124.4972,-272.711 114.461,-261.2412\"/>\n<polygon fill=\"#000000\" stroke=\"#000000\" points=\"116.9435,-258.7632 107.7244,-253.5422 111.6754,-263.3727 116.9435,-258.7632\"/>\n</g>\n<!-- 5 -->\n<g id=\"node6\" class=\"node\">\n<title>5</title>\n<polygon fill=\"#fbebdf\" stroke=\"#000000\" points=\"348,-261 187,-261 187,-193 348,-193 348,-261\"/>\n<text text-anchor=\"middle\" x=\"267.5\" y=\"-245.8\" font-family=\"Helvetica,sans-Serif\" font-size=\"14.00\" fill=\"#000000\">WRIST &lt;= 17.65</text>\n<text text-anchor=\"middle\" x=\"267.5\" y=\"-230.8\" font-family=\"Helvetica,sans-Serif\" font-size=\"14.00\" fill=\"#000000\">squared_error = 15.12</text>\n<text text-anchor=\"middle\" x=\"267.5\" y=\"-215.8\" font-family=\"Helvetica,sans-Serif\" font-size=\"14.00\" fill=\"#000000\">samples = 24</text>\n<text text-anchor=\"middle\" x=\"267.5\" y=\"-200.8\" font-family=\"Helvetica,sans-Serif\" font-size=\"14.00\" fill=\"#000000\">value = 9.817</text>\n</g>\n<!-- 3&#45;&gt;5 -->\n<g id=\"edge5\" class=\"edge\">\n<title>3&#45;&gt;5</title>\n<path fill=\"none\" stroke=\"#000000\" d=\"M205.6242,-296.9465C213.5668,-287.968 222.2291,-278.1758 230.489,-268.8385\"/>\n<polygon fill=\"#000000\" stroke=\"#000000\" points=\"233.3038,-270.939 237.3081,-261.13 228.0608,-266.301 233.3038,-270.939\"/>\n</g>\n<!-- 6 -->\n<g id=\"node7\" class=\"node\">\n<title>6</title>\n<polygon fill=\"#f8ddc9\" stroke=\"#000000\" points=\"256.5,-149.5 104.5,-149.5 104.5,-96.5 256.5,-96.5 256.5,-149.5\"/>\n<text text-anchor=\"middle\" x=\"180.5\" y=\"-134.3\" font-family=\"Helvetica,sans-Serif\" font-size=\"14.00\" fill=\"#000000\">squared_error = 5.16</text>\n<text text-anchor=\"middle\" x=\"180.5\" y=\"-119.3\" font-family=\"Helvetica,sans-Serif\" font-size=\"14.00\" fill=\"#000000\">samples = 10</text>\n<text text-anchor=\"middle\" x=\"180.5\" y=\"-104.3\" font-family=\"Helvetica,sans-Serif\" font-size=\"14.00\" fill=\"#000000\">value = 13.28</text>\n</g>\n<!-- 5&#45;&gt;6 -->\n<g id=\"edge6\" class=\"edge\">\n<title>5&#45;&gt;6</title>\n<path fill=\"none\" stroke=\"#000000\" d=\"M239.0129,-192.9465C229.43,-181.491 218.739,-168.711 209.1441,-157.2412\"/>\n<polygon fill=\"#000000\" stroke=\"#000000\" points=\"211.8045,-154.9666 202.7035,-149.5422 206.4354,-159.458 211.8045,-154.9666\"/>\n</g>\n<!-- 7 -->\n<g id=\"node8\" class=\"node\">\n<title>7</title>\n<polygon fill=\"#fdf5ef\" stroke=\"#000000\" points=\"436,-149.5 275,-149.5 275,-96.5 436,-96.5 436,-149.5\"/>\n<text text-anchor=\"middle\" x=\"355.5\" y=\"-134.3\" font-family=\"Helvetica,sans-Serif\" font-size=\"14.00\" fill=\"#000000\">squared_error = 7.547</text>\n<text text-anchor=\"middle\" x=\"355.5\" y=\"-119.3\" font-family=\"Helvetica,sans-Serif\" font-size=\"14.00\" fill=\"#000000\">samples = 14</text>\n<text text-anchor=\"middle\" x=\"355.5\" y=\"-104.3\" font-family=\"Helvetica,sans-Serif\" font-size=\"14.00\" fill=\"#000000\">value = 7.343</text>\n</g>\n<!-- 5&#45;&gt;7 -->\n<g id=\"edge7\" class=\"edge\">\n<title>5&#45;&gt;7</title>\n<path fill=\"none\" stroke=\"#000000\" d=\"M296.3145,-192.9465C306.0076,-181.491 316.8214,-168.711 326.5267,-157.2412\"/>\n<polygon fill=\"#000000\" stroke=\"#000000\" points=\"329.2536,-159.4369 333.0412,-149.5422 323.9099,-154.9152 329.2536,-159.4369\"/>\n</g>\n<!-- 10 -->\n<g id=\"node11\" class=\"node\">\n<title>10</title>\n<polygon fill=\"#f2c29f\" stroke=\"#000000\" points=\"634,-357.5 465,-357.5 465,-304.5 634,-304.5 634,-357.5\"/>\n<text text-anchor=\"middle\" x=\"549.5\" y=\"-342.3\" font-family=\"Helvetica,sans-Serif\" font-size=\"14.00\" fill=\"#000000\">squared_error = 15.087</text>\n<text text-anchor=\"middle\" x=\"549.5\" y=\"-327.3\" font-family=\"Helvetica,sans-Serif\" font-size=\"14.00\" fill=\"#000000\">samples = 13</text>\n<text text-anchor=\"middle\" x=\"549.5\" y=\"-312.3\" font-family=\"Helvetica,sans-Serif\" font-size=\"14.00\" fill=\"#000000\">value = 19.862</text>\n</g>\n<!-- 9&#45;&gt;10 -->\n<g id=\"edge10\" class=\"edge\">\n<title>9&#45;&gt;10</title>\n<path fill=\"none\" stroke=\"#000000\" d=\"M612.0483,-400.9465C601.8045,-389.491 590.3762,-376.711 580.1195,-365.2412\"/>\n<polygon fill=\"#000000\" stroke=\"#000000\" points=\"582.5097,-362.6634 573.2348,-357.5422 577.2917,-367.3295 582.5097,-362.6634\"/>\n</g>\n<!-- 11 -->\n<g id=\"node12\" class=\"node\">\n<title>11</title>\n<polygon fill=\"#f7d8c2\" stroke=\"#000000\" points=\"821,-365 652,-365 652,-297 821,-297 821,-365\"/>\n<text text-anchor=\"middle\" x=\"736.5\" y=\"-349.8\" font-family=\"Helvetica,sans-Serif\" font-size=\"14.00\" fill=\"#000000\">THIGH &lt;= 59.45</text>\n<text text-anchor=\"middle\" x=\"736.5\" y=\"-334.8\" font-family=\"Helvetica,sans-Serif\" font-size=\"14.00\" fill=\"#000000\">squared_error = 17.474</text>\n<text text-anchor=\"middle\" x=\"736.5\" y=\"-319.8\" font-family=\"Helvetica,sans-Serif\" font-size=\"14.00\" fill=\"#000000\">samples = 27</text>\n<text text-anchor=\"middle\" x=\"736.5\" y=\"-304.8\" font-family=\"Helvetica,sans-Serif\" font-size=\"14.00\" fill=\"#000000\">value = 14.5</text>\n</g>\n<!-- 9&#45;&gt;11 -->\n<g id=\"edge11\" class=\"edge\">\n<title>9&#45;&gt;11</title>\n<path fill=\"none\" stroke=\"#000000\" d=\"M673.2791,-400.9465C681.4755,-391.8782 690.422,-381.9799 698.9375,-372.5585\"/>\n<polygon fill=\"#000000\" stroke=\"#000000\" points=\"701.5429,-374.8957 705.6517,-365.13 696.3497,-370.2019 701.5429,-374.8957\"/>\n</g>\n<!-- 12 -->\n<g id=\"node13\" class=\"node\">\n<title>12</title>\n<polygon fill=\"#f5cfb4\" stroke=\"#000000\" points=\"636,-253.5 475,-253.5 475,-200.5 636,-200.5 636,-253.5\"/>\n<text text-anchor=\"middle\" x=\"555.5\" y=\"-238.3\" font-family=\"Helvetica,sans-Serif\" font-size=\"14.00\" fill=\"#000000\">squared_error = 9.595</text>\n<text text-anchor=\"middle\" x=\"555.5\" y=\"-223.3\" font-family=\"Helvetica,sans-Serif\" font-size=\"14.00\" fill=\"#000000\">samples = 16</text>\n<text text-anchor=\"middle\" x=\"555.5\" y=\"-208.3\" font-family=\"Helvetica,sans-Serif\" font-size=\"14.00\" fill=\"#000000\">value = 16.562</text>\n</g>\n<!-- 11&#45;&gt;12 -->\n<g id=\"edge12\" class=\"edge\">\n<title>11&#45;&gt;12</title>\n<path fill=\"none\" stroke=\"#000000\" d=\"M677.2338,-296.9465C655.7632,-284.6098 631.6193,-270.7371 610.5287,-258.6187\"/>\n<polygon fill=\"#000000\" stroke=\"#000000\" points=\"612.1079,-255.4895 601.6936,-253.5422 608.6205,-261.5589 612.1079,-255.4895\"/>\n</g>\n<!-- 13 -->\n<g id=\"node14\" class=\"node\">\n<title>13</title>\n<polygon fill=\"#f9e4d5\" stroke=\"#000000\" points=\"823,-253.5 654,-253.5 654,-200.5 823,-200.5 823,-253.5\"/>\n<text text-anchor=\"middle\" x=\"738.5\" y=\"-238.3\" font-family=\"Helvetica,sans-Serif\" font-size=\"14.00\" fill=\"#000000\">squared_error = 13.747</text>\n<text text-anchor=\"middle\" x=\"738.5\" y=\"-223.3\" font-family=\"Helvetica,sans-Serif\" font-size=\"14.00\" fill=\"#000000\">samples = 11</text>\n<text text-anchor=\"middle\" x=\"738.5\" y=\"-208.3\" font-family=\"Helvetica,sans-Serif\" font-size=\"14.00\" fill=\"#000000\">value = 11.5</text>\n</g>\n<!-- 11&#45;&gt;13 -->\n<g id=\"edge13\" class=\"edge\">\n<title>11&#45;&gt;13</title>\n<path fill=\"none\" stroke=\"#000000\" d=\"M737.1549,-296.9465C737.3603,-286.2621 737.588,-274.4254 737.7966,-263.5742\"/>\n<polygon fill=\"#000000\" stroke=\"#000000\" points=\"741.2966,-263.6076 737.9896,-253.5422 734.2979,-263.473 741.2966,-263.6076\"/>\n</g>\n<!-- 15 -->\n<g id=\"node16\" class=\"node\">\n<title>15</title>\n<polygon fill=\"#f0b68d\" stroke=\"#000000\" points=\"1101,-469 932,-469 932,-401 1101,-401 1101,-469\"/>\n<text text-anchor=\"middle\" x=\"1016.5\" y=\"-453.8\" font-family=\"Helvetica,sans-Serif\" font-size=\"14.00\" fill=\"#000000\">HEIGHT &lt;= 68.375</text>\n<text text-anchor=\"middle\" x=\"1016.5\" y=\"-438.8\" font-family=\"Helvetica,sans-Serif\" font-size=\"14.00\" fill=\"#000000\">squared_error = 19.797</text>\n<text text-anchor=\"middle\" x=\"1016.5\" y=\"-423.8\" font-family=\"Helvetica,sans-Serif\" font-size=\"14.00\" fill=\"#000000\">samples = 65</text>\n<text text-anchor=\"middle\" x=\"1016.5\" y=\"-408.8\" font-family=\"Helvetica,sans-Serif\" font-size=\"14.00\" fill=\"#000000\">value = 22.762</text>\n</g>\n<!-- 14&#45;&gt;15 -->\n<g id=\"edge15\" class=\"edge\">\n<title>14&#45;&gt;15</title>\n<path fill=\"none\" stroke=\"#000000\" d=\"M1016.5,-504.9465C1016.5,-496.776 1016.5,-487.9318 1016.5,-479.3697\"/>\n<polygon fill=\"#000000\" stroke=\"#000000\" points=\"1020.0001,-479.13 1016.5,-469.13 1013.0001,-479.13 1020.0001,-479.13\"/>\n</g>\n<!-- 24 -->\n<g id=\"node25\" class=\"node\">\n<title>24</title>\n<polygon fill=\"#e99456\" stroke=\"#000000\" points=\"1382,-469 1213,-469 1213,-401 1382,-401 1382,-469\"/>\n<text text-anchor=\"middle\" x=\"1297.5\" y=\"-453.8\" font-family=\"Helvetica,sans-Serif\" font-size=\"14.00\" fill=\"#000000\">ABDOMEN &lt;= 112.3</text>\n<text text-anchor=\"middle\" x=\"1297.5\" y=\"-438.8\" font-family=\"Helvetica,sans-Serif\" font-size=\"14.00\" fill=\"#000000\">squared_error = 32.445</text>\n<text text-anchor=\"middle\" x=\"1297.5\" y=\"-423.8\" font-family=\"Helvetica,sans-Serif\" font-size=\"14.00\" fill=\"#000000\">samples = 21</text>\n<text text-anchor=\"middle\" x=\"1297.5\" y=\"-408.8\" font-family=\"Helvetica,sans-Serif\" font-size=\"14.00\" fill=\"#000000\">value = 31.29</text>\n</g>\n<!-- 14&#45;&gt;24 -->\n<g id=\"edge24\" class=\"edge\">\n<title>14&#45;&gt;24</title>\n<path fill=\"none\" stroke=\"#000000\" d=\"M1101.1903,-507.6555C1133.4008,-495.7342 1170.2843,-482.0834 1203.3205,-469.8565\"/>\n<polygon fill=\"#000000\" stroke=\"#000000\" points=\"1204.8197,-473.0337 1212.9831,-466.2803 1202.39,-466.4689 1204.8197,-473.0337\"/>\n</g>\n<!-- 16 -->\n<g id=\"node17\" class=\"node\">\n<title>16</title>\n<polygon fill=\"#eda979\" stroke=\"#000000\" points=\"1008,-357.5 839,-357.5 839,-304.5 1008,-304.5 1008,-357.5\"/>\n<text text-anchor=\"middle\" x=\"923.5\" y=\"-342.3\" font-family=\"Helvetica,sans-Serif\" font-size=\"14.00\" fill=\"#000000\">squared_error = 17.965</text>\n<text text-anchor=\"middle\" x=\"923.5\" y=\"-327.3\" font-family=\"Helvetica,sans-Serif\" font-size=\"14.00\" fill=\"#000000\">samples = 13</text>\n<text text-anchor=\"middle\" x=\"923.5\" y=\"-312.3\" font-family=\"Helvetica,sans-Serif\" font-size=\"14.00\" fill=\"#000000\">value = 25.908</text>\n</g>\n<!-- 15&#45;&gt;16 -->\n<g id=\"edge16\" class=\"edge\">\n<title>15&#45;&gt;16</title>\n<path fill=\"none\" stroke=\"#000000\" d=\"M986.0483,-400.9465C975.8045,-389.491 964.3762,-376.711 954.1195,-365.2412\"/>\n<polygon fill=\"#000000\" stroke=\"#000000\" points=\"956.5097,-362.6634 947.2348,-357.5422 951.2917,-367.3295 956.5097,-362.6634\"/>\n</g>\n<!-- 17 -->\n<g id=\"node18\" class=\"node\">\n<title>17</title>\n<polygon fill=\"#f1b992\" stroke=\"#000000\" points=\"1195,-365 1026,-365 1026,-297 1195,-297 1195,-365\"/>\n<text text-anchor=\"middle\" x=\"1110.5\" y=\"-349.8\" font-family=\"Helvetica,sans-Serif\" font-size=\"14.00\" fill=\"#000000\">ANKLE &lt;= 24.65</text>\n<text text-anchor=\"middle\" x=\"1110.5\" y=\"-334.8\" font-family=\"Helvetica,sans-Serif\" font-size=\"14.00\" fill=\"#000000\">squared_error = 17.162</text>\n<text text-anchor=\"middle\" x=\"1110.5\" y=\"-319.8\" font-family=\"Helvetica,sans-Serif\" font-size=\"14.00\" fill=\"#000000\">samples = 52</text>\n<text text-anchor=\"middle\" x=\"1110.5\" y=\"-304.8\" font-family=\"Helvetica,sans-Serif\" font-size=\"14.00\" fill=\"#000000\">value = 21.975</text>\n</g>\n<!-- 15&#45;&gt;17 -->\n<g id=\"edge17\" class=\"edge\">\n<title>15&#45;&gt;17</title>\n<path fill=\"none\" stroke=\"#000000\" d=\"M1047.2791,-400.9465C1055.4755,-391.8782 1064.422,-381.9799 1072.9375,-372.5585\"/>\n<polygon fill=\"#000000\" stroke=\"#000000\" points=\"1075.5429,-374.8957 1079.6517,-365.13 1070.3497,-370.2019 1075.5429,-374.8957\"/>\n</g>\n<!-- 18 -->\n<g id=\"node19\" class=\"node\">\n<title>18</title>\n<polygon fill=\"#f0b68d\" stroke=\"#000000\" points=\"1103,-261 934,-261 934,-193 1103,-193 1103,-261\"/>\n<text text-anchor=\"middle\" x=\"1018.5\" y=\"-245.8\" font-family=\"Helvetica,sans-Serif\" font-size=\"14.00\" fill=\"#000000\">ABDOMEN &lt;= 100.45</text>\n<text text-anchor=\"middle\" x=\"1018.5\" y=\"-230.8\" font-family=\"Helvetica,sans-Serif\" font-size=\"14.00\" fill=\"#000000\">squared_error = 17.507</text>\n<text text-anchor=\"middle\" x=\"1018.5\" y=\"-215.8\" font-family=\"Helvetica,sans-Serif\" font-size=\"14.00\" fill=\"#000000\">samples = 41</text>\n<text text-anchor=\"middle\" x=\"1018.5\" y=\"-200.8\" font-family=\"Helvetica,sans-Serif\" font-size=\"14.00\" fill=\"#000000\">value = 22.729</text>\n</g>\n<!-- 17&#45;&gt;18 -->\n<g id=\"edge18\" class=\"edge\">\n<title>17&#45;&gt;18</title>\n<path fill=\"none\" stroke=\"#000000\" d=\"M1080.3758,-296.9465C1072.4332,-287.968 1063.7709,-278.1758 1055.511,-268.8385\"/>\n<polygon fill=\"#000000\" stroke=\"#000000\" points=\"1057.9392,-266.301 1048.6919,-261.13 1052.6962,-270.939 1057.9392,-266.301\"/>\n</g>\n<!-- 23 -->\n<g id=\"node24\" class=\"node\">\n<title>23</title>\n<polygon fill=\"#f3c5a4\" stroke=\"#000000\" points=\"1282,-253.5 1121,-253.5 1121,-200.5 1282,-200.5 1282,-253.5\"/>\n<text text-anchor=\"middle\" x=\"1201.5\" y=\"-238.3\" font-family=\"Helvetica,sans-Serif\" font-size=\"14.00\" fill=\"#000000\">squared_error = 5.851</text>\n<text text-anchor=\"middle\" x=\"1201.5\" y=\"-223.3\" font-family=\"Helvetica,sans-Serif\" font-size=\"14.00\" fill=\"#000000\">samples = 11</text>\n<text text-anchor=\"middle\" x=\"1201.5\" y=\"-208.3\" font-family=\"Helvetica,sans-Serif\" font-size=\"14.00\" fill=\"#000000\">value = 19.164</text>\n</g>\n<!-- 17&#45;&gt;23 -->\n<g id=\"edge23\" class=\"edge\">\n<title>17&#45;&gt;23</title>\n<path fill=\"none\" stroke=\"#000000\" d=\"M1140.2968,-296.9465C1150.3204,-285.491 1161.5028,-272.711 1171.539,-261.2412\"/>\n<polygon fill=\"#000000\" stroke=\"#000000\" points=\"1174.3246,-263.3727 1178.2756,-253.5422 1169.0565,-258.7632 1174.3246,-263.3727\"/>\n</g>\n<!-- 19 -->\n<g id=\"node20\" class=\"node\">\n<title>19</title>\n<polygon fill=\"#f1ba92\" stroke=\"#000000\" points=\"1009,-157 840,-157 840,-89 1009,-89 1009,-157\"/>\n<text text-anchor=\"middle\" x=\"924.5\" y=\"-141.8\" font-family=\"Helvetica,sans-Serif\" font-size=\"14.00\" fill=\"#000000\">NECK &lt;= 39.05</text>\n<text text-anchor=\"middle\" x=\"924.5\" y=\"-126.8\" font-family=\"Helvetica,sans-Serif\" font-size=\"14.00\" fill=\"#000000\">squared_error = 14.648</text>\n<text text-anchor=\"middle\" x=\"924.5\" y=\"-111.8\" font-family=\"Helvetica,sans-Serif\" font-size=\"14.00\" fill=\"#000000\">samples = 32</text>\n<text text-anchor=\"middle\" x=\"924.5\" y=\"-96.8\" font-family=\"Helvetica,sans-Serif\" font-size=\"14.00\" fill=\"#000000\">value = 21.881</text>\n</g>\n<!-- 18&#45;&gt;19 -->\n<g id=\"edge19\" class=\"edge\">\n<title>18&#45;&gt;19</title>\n<path fill=\"none\" stroke=\"#000000\" d=\"M987.7209,-192.9465C979.5245,-183.8782 970.578,-173.9799 962.0625,-164.5585\"/>\n<polygon fill=\"#000000\" stroke=\"#000000\" points=\"964.6503,-162.2019 955.3483,-157.13 959.4571,-166.8957 964.6503,-162.2019\"/>\n</g>\n<!-- 22 -->\n<g id=\"node23\" class=\"node\">\n<title>22</title>\n<polygon fill=\"#edaa7a\" stroke=\"#000000\" points=\"1196,-149.5 1027,-149.5 1027,-96.5 1196,-96.5 1196,-149.5\"/>\n<text text-anchor=\"middle\" x=\"1111.5\" y=\"-134.3\" font-family=\"Helvetica,sans-Serif\" font-size=\"14.00\" fill=\"#000000\">squared_error = 16.025</text>\n<text text-anchor=\"middle\" x=\"1111.5\" y=\"-119.3\" font-family=\"Helvetica,sans-Serif\" font-size=\"14.00\" fill=\"#000000\">samples = 9</text>\n<text text-anchor=\"middle\" x=\"1111.5\" y=\"-104.3\" font-family=\"Helvetica,sans-Serif\" font-size=\"14.00\" fill=\"#000000\">value = 25.744</text>\n</g>\n<!-- 18&#45;&gt;22 -->\n<g id=\"edge22\" class=\"edge\">\n<title>18&#45;&gt;22</title>\n<path fill=\"none\" stroke=\"#000000\" d=\"M1048.9517,-192.9465C1059.1955,-181.491 1070.6238,-168.711 1080.8805,-157.2412\"/>\n<polygon fill=\"#000000\" stroke=\"#000000\" points=\"1083.7083,-159.3295 1087.7652,-149.5422 1078.4903,-154.6634 1083.7083,-159.3295\"/>\n</g>\n<!-- 20 -->\n<g id=\"node21\" class=\"node\">\n<title>20</title>\n<polygon fill=\"#f0b48a\" stroke=\"#000000\" points=\"916,-53 747,-53 747,0 916,0 916,-53\"/>\n<text text-anchor=\"middle\" x=\"831.5\" y=\"-37.8\" font-family=\"Helvetica,sans-Serif\" font-size=\"14.00\" fill=\"#000000\">squared_error = 11.882</text>\n<text text-anchor=\"middle\" x=\"831.5\" y=\"-22.8\" font-family=\"Helvetica,sans-Serif\" font-size=\"14.00\" fill=\"#000000\">samples = 17</text>\n<text text-anchor=\"middle\" x=\"831.5\" y=\"-7.8\" font-family=\"Helvetica,sans-Serif\" font-size=\"14.00\" fill=\"#000000\">value = 23.224</text>\n</g>\n<!-- 19&#45;&gt;20 -->\n<g id=\"edge20\" class=\"edge\">\n<title>19&#45;&gt;20</title>\n<path fill=\"none\" stroke=\"#000000\" d=\"M891.7117,-88.9777C882.7986,-79.7292 873.1473,-69.7147 864.2371,-60.4691\"/>\n<polygon fill=\"#000000\" stroke=\"#000000\" points=\"866.7378,-58.0202 857.2783,-53.2485 861.6975,-62.8777 866.7378,-58.0202\"/>\n</g>\n<!-- 21 -->\n<g id=\"node22\" class=\"node\">\n<title>21</title>\n<polygon fill=\"#f2c09c\" stroke=\"#000000\" points=\"1103,-53 934,-53 934,0 1103,0 1103,-53\"/>\n<text text-anchor=\"middle\" x=\"1018.5\" y=\"-37.8\" font-family=\"Helvetica,sans-Serif\" font-size=\"14.00\" fill=\"#000000\">squared_error = 13.426</text>\n<text text-anchor=\"middle\" x=\"1018.5\" y=\"-22.8\" font-family=\"Helvetica,sans-Serif\" font-size=\"14.00\" fill=\"#000000\">samples = 15</text>\n<text text-anchor=\"middle\" x=\"1018.5\" y=\"-7.8\" font-family=\"Helvetica,sans-Serif\" font-size=\"14.00\" fill=\"#000000\">value = 20.36</text>\n</g>\n<!-- 19&#45;&gt;21 -->\n<g id=\"edge21\" class=\"edge\">\n<title>19&#45;&gt;21</title>\n<path fill=\"none\" stroke=\"#000000\" d=\"M957.6409,-88.9777C966.6498,-79.7292 976.4048,-69.7147 985.4109,-60.4691\"/>\n<polygon fill=\"#000000\" stroke=\"#000000\" points=\"987.9739,-62.8539 992.4445,-53.2485 982.9596,-57.9696 987.9739,-62.8539\"/>\n</g>\n<!-- 25 -->\n<g id=\"node26\" class=\"node\">\n<title>25</title>\n<polygon fill=\"#eb9f68\" stroke=\"#000000\" points=\"1382,-357.5 1213,-357.5 1213,-304.5 1382,-304.5 1382,-357.5\"/>\n<text text-anchor=\"middle\" x=\"1297.5\" y=\"-342.3\" font-family=\"Helvetica,sans-Serif\" font-size=\"14.00\" fill=\"#000000\">squared_error = 13.122</text>\n<text text-anchor=\"middle\" x=\"1297.5\" y=\"-327.3\" font-family=\"Helvetica,sans-Serif\" font-size=\"14.00\" fill=\"#000000\">samples = 13</text>\n<text text-anchor=\"middle\" x=\"1297.5\" y=\"-312.3\" font-family=\"Helvetica,sans-Serif\" font-size=\"14.00\" fill=\"#000000\">value = 28.492</text>\n</g>\n<!-- 24&#45;&gt;25 -->\n<g id=\"edge25\" class=\"edge\">\n<title>24&#45;&gt;25</title>\n<path fill=\"none\" stroke=\"#000000\" d=\"M1297.5,-400.9465C1297.5,-390.2621 1297.5,-378.4254 1297.5,-367.5742\"/>\n<polygon fill=\"#000000\" stroke=\"#000000\" points=\"1301.0001,-367.5421 1297.5,-357.5422 1294.0001,-367.5422 1301.0001,-367.5421\"/>\n</g>\n<!-- 26 -->\n<g id=\"node27\" class=\"node\">\n<title>26</title>\n<polygon fill=\"#e58139\" stroke=\"#000000\" points=\"1569,-357.5 1400,-357.5 1400,-304.5 1569,-304.5 1569,-357.5\"/>\n<text text-anchor=\"middle\" x=\"1484.5\" y=\"-342.3\" font-family=\"Helvetica,sans-Serif\" font-size=\"14.00\" fill=\"#000000\">squared_error = 30.445</text>\n<text text-anchor=\"middle\" x=\"1484.5\" y=\"-327.3\" font-family=\"Helvetica,sans-Serif\" font-size=\"14.00\" fill=\"#000000\">samples = 8</text>\n<text text-anchor=\"middle\" x=\"1484.5\" y=\"-312.3\" font-family=\"Helvetica,sans-Serif\" font-size=\"14.00\" fill=\"#000000\">value = 35.838</text>\n</g>\n<!-- 24&#45;&gt;26 -->\n<g id=\"edge26\" class=\"edge\">\n<title>24&#45;&gt;26</title>\n<path fill=\"none\" stroke=\"#000000\" d=\"M1358.7308,-400.9465C1381.0121,-388.5547 1406.0802,-374.6132 1427.9387,-362.4565\"/>\n<polygon fill=\"#000000\" stroke=\"#000000\" points=\"1429.7369,-365.4614 1436.7751,-357.5422 1426.3346,-359.3438 1429.7369,-365.4614\"/>\n</g>\n</g>\n</svg>\n"
          },
          "metadata": {}
        }
      ]
    },
    {
      "cell_type": "code",
      "source": [
        "# 나무구조 시각화 : min_samples_leaf = 8, min_samples_split = 26\n",
        "\n",
        "v_feature_name = df_train_x.columns\n",
        "\n",
        "tree_graph = DecisionTreeRegressor(random_state = 1234,\n",
        "                                   min_samples_leaf = 8,\n",
        "                                   min_samples_split = 26)\n",
        "tree_graph.fit(df_train_x, df_train_y)\n",
        "export_graphviz(tree_graph, out_file = 'tree_split.dot',\n",
        "                feature_names = v_feature_name, impurity = True, filled = True)\n",
        "\n",
        "with open('tree_split.dot') as f :\n",
        "    dot_graph = f.read()\n",
        "    display(graphviz.Source(dot_graph))"
      ],
      "metadata": {
        "id": "xirJuEOW6Vm0",
        "outputId": "8611b8b1-7187-47e1-9450-dc19574fba37",
        "colab": {
          "base_uri": "https://localhost:8080/",
          "height": 953
        }
      },
      "execution_count": 62,
      "outputs": [
        {
          "output_type": "display_data",
          "data": {
            "text/plain": [
              "<graphviz.files.Source at 0x7fccd8faaf10>"
            ],
            "image/svg+xml": "<?xml version=\"1.0\" encoding=\"UTF-8\" standalone=\"no\"?>\n<!DOCTYPE svg PUBLIC \"-//W3C//DTD SVG 1.1//EN\"\n \"http://www.w3.org/Graphics/SVG/1.1/DTD/svg11.dtd\">\n<!-- Generated by graphviz version 2.40.1 (20161225.0304)\n -->\n<!-- Title: Tree Pages: 1 -->\n<svg width=\"1290pt\" height=\"685pt\"\n viewBox=\"0.00 0.00 1290.00 685.00\" xmlns=\"http://www.w3.org/2000/svg\" xmlns:xlink=\"http://www.w3.org/1999/xlink\">\n<g id=\"graph0\" class=\"graph\" transform=\"scale(1 1) rotate(0) translate(4 681)\">\n<title>Tree</title>\n<polygon fill=\"#ffffff\" stroke=\"transparent\" points=\"-4,4 -4,-681 1286,-681 1286,4 -4,4\"/>\n<!-- 0 -->\n<g id=\"node1\" class=\"node\">\n<title>0</title>\n<polygon fill=\"#f1bd98\" stroke=\"#000000\" points=\"914,-677 745,-677 745,-609 914,-609 914,-677\"/>\n<text text-anchor=\"middle\" x=\"829.5\" y=\"-661.8\" font-family=\"Helvetica,sans-Serif\" font-size=\"14.00\" fill=\"#000000\">ABDOMEN &lt;= 91.3</text>\n<text text-anchor=\"middle\" x=\"829.5\" y=\"-646.8\" font-family=\"Helvetica,sans-Serif\" font-size=\"14.00\" fill=\"#000000\">squared_error = 70.379</text>\n<text text-anchor=\"middle\" x=\"829.5\" y=\"-631.8\" font-family=\"Helvetica,sans-Serif\" font-size=\"14.00\" fill=\"#000000\">samples = 176</text>\n<text text-anchor=\"middle\" x=\"829.5\" y=\"-616.8\" font-family=\"Helvetica,sans-Serif\" font-size=\"14.00\" fill=\"#000000\">value = 18.676</text>\n</g>\n<!-- 1 -->\n<g id=\"node2\" class=\"node\">\n<title>1</title>\n<polygon fill=\"#f7d9c4\" stroke=\"#000000\" points=\"727,-573 558,-573 558,-505 727,-505 727,-573\"/>\n<text text-anchor=\"middle\" x=\"642.5\" y=\"-557.8\" font-family=\"Helvetica,sans-Serif\" font-size=\"14.00\" fill=\"#000000\">ABDOMEN &lt;= 85.45</text>\n<text text-anchor=\"middle\" x=\"642.5\" y=\"-542.8\" font-family=\"Helvetica,sans-Serif\" font-size=\"14.00\" fill=\"#000000\">squared_error = 31.841</text>\n<text text-anchor=\"middle\" x=\"642.5\" y=\"-527.8\" font-family=\"Helvetica,sans-Serif\" font-size=\"14.00\" fill=\"#000000\">samples = 90</text>\n<text text-anchor=\"middle\" x=\"642.5\" y=\"-512.8\" font-family=\"Helvetica,sans-Serif\" font-size=\"14.00\" fill=\"#000000\">value = 12.782</text>\n</g>\n<!-- 0&#45;&gt;1 -->\n<g id=\"edge1\" class=\"edge\">\n<title>0&#45;&gt;1</title>\n<path fill=\"none\" stroke=\"#000000\" d=\"M768.2692,-608.9465C750.5107,-599.0701 730.982,-588.2093 712.7189,-578.0522\"/>\n<polygon fill=\"#000000\" stroke=\"#000000\" points=\"714.3089,-574.9317 703.8684,-573.13 710.9066,-581.0492 714.3089,-574.9317\"/>\n<text text-anchor=\"middle\" x=\"710.7255\" y=\"-593.4712\" font-family=\"Helvetica,sans-Serif\" font-size=\"14.00\" fill=\"#000000\">True</text>\n</g>\n<!-- 12 -->\n<g id=\"node13\" class=\"node\">\n<title>12</title>\n<polygon fill=\"#eba069\" stroke=\"#000000\" points=\"1008,-573 839,-573 839,-505 1008,-505 1008,-573\"/>\n<text text-anchor=\"middle\" x=\"923.5\" y=\"-557.8\" font-family=\"Helvetica,sans-Serif\" font-size=\"14.00\" fill=\"#000000\">ABDOMEN &lt;= 104.9</text>\n<text text-anchor=\"middle\" x=\"923.5\" y=\"-542.8\" font-family=\"Helvetica,sans-Serif\" font-size=\"14.00\" fill=\"#000000\">squared_error = 36.311</text>\n<text text-anchor=\"middle\" x=\"923.5\" y=\"-527.8\" font-family=\"Helvetica,sans-Serif\" font-size=\"14.00\" fill=\"#000000\">samples = 86</text>\n<text text-anchor=\"middle\" x=\"923.5\" y=\"-512.8\" font-family=\"Helvetica,sans-Serif\" font-size=\"14.00\" fill=\"#000000\">value = 24.844</text>\n</g>\n<!-- 0&#45;&gt;12 -->\n<g id=\"edge12\" class=\"edge\">\n<title>0&#45;&gt;12</title>\n<path fill=\"none\" stroke=\"#000000\" d=\"M860.2791,-608.9465C868.4755,-599.8782 877.422,-589.9799 885.9375,-580.5585\"/>\n<polygon fill=\"#000000\" stroke=\"#000000\" points=\"888.5429,-582.8957 892.6517,-573.13 883.3497,-578.2019 888.5429,-582.8957\"/>\n<text text-anchor=\"middle\" x=\"893.9128\" y=\"-594.3982\" font-family=\"Helvetica,sans-Serif\" font-size=\"14.00\" fill=\"#000000\">False</text>\n</g>\n<!-- 2 -->\n<g id=\"node3\" class=\"node\">\n<title>2</title>\n<polygon fill=\"#fae7d9\" stroke=\"#000000\" points=\"447,-469 278,-469 278,-401 447,-401 447,-469\"/>\n<text text-anchor=\"middle\" x=\"362.5\" y=\"-453.8\" font-family=\"Helvetica,sans-Serif\" font-size=\"14.00\" fill=\"#000000\">AGE &lt;= 42.5</text>\n<text text-anchor=\"middle\" x=\"362.5\" y=\"-438.8\" font-family=\"Helvetica,sans-Serif\" font-size=\"14.00\" fill=\"#000000\">squared_error = 21.668</text>\n<text text-anchor=\"middle\" x=\"362.5\" y=\"-423.8\" font-family=\"Helvetica,sans-Serif\" font-size=\"14.00\" fill=\"#000000\">samples = 50</text>\n<text text-anchor=\"middle\" x=\"362.5\" y=\"-408.8\" font-family=\"Helvetica,sans-Serif\" font-size=\"14.00\" fill=\"#000000\">value = 10.014</text>\n</g>\n<!-- 1&#45;&gt;2 -->\n<g id=\"edge2\" class=\"edge\">\n<title>1&#45;&gt;2</title>\n<path fill=\"none\" stroke=\"#000000\" d=\"M557.7309,-507.5143C525.9408,-495.7066 489.6258,-482.2182 457.0074,-470.1027\"/>\n<polygon fill=\"#000000\" stroke=\"#000000\" points=\"458.0567,-466.7589 447.4638,-466.558 455.6194,-473.3209 458.0567,-466.7589\"/>\n</g>\n<!-- 7 -->\n<g id=\"node8\" class=\"node\">\n<title>7</title>\n<polygon fill=\"#f4c9aa\" stroke=\"#000000\" points=\"727,-469 558,-469 558,-401 727,-401 727,-469\"/>\n<text text-anchor=\"middle\" x=\"642.5\" y=\"-453.8\" font-family=\"Helvetica,sans-Serif\" font-size=\"14.00\" fill=\"#000000\">NECK &lt;= 36.85</text>\n<text text-anchor=\"middle\" x=\"642.5\" y=\"-438.8\" font-family=\"Helvetica,sans-Serif\" font-size=\"14.00\" fill=\"#000000\">squared_error = 23.004</text>\n<text text-anchor=\"middle\" x=\"642.5\" y=\"-423.8\" font-family=\"Helvetica,sans-Serif\" font-size=\"14.00\" fill=\"#000000\">samples = 40</text>\n<text text-anchor=\"middle\" x=\"642.5\" y=\"-408.8\" font-family=\"Helvetica,sans-Serif\" font-size=\"14.00\" fill=\"#000000\">value = 16.242</text>\n</g>\n<!-- 1&#45;&gt;7 -->\n<g id=\"edge7\" class=\"edge\">\n<title>1&#45;&gt;7</title>\n<path fill=\"none\" stroke=\"#000000\" d=\"M642.5,-504.9465C642.5,-496.776 642.5,-487.9318 642.5,-479.3697\"/>\n<polygon fill=\"#000000\" stroke=\"#000000\" points=\"646.0001,-479.13 642.5,-469.13 639.0001,-479.13 646.0001,-479.13\"/>\n</g>\n<!-- 3 -->\n<g id=\"node4\" class=\"node\">\n<title>3</title>\n<polygon fill=\"#fbede3\" stroke=\"#000000\" points=\"260,-365 91,-365 91,-297 260,-297 260,-365\"/>\n<text text-anchor=\"middle\" x=\"175.5\" y=\"-349.8\" font-family=\"Helvetica,sans-Serif\" font-size=\"14.00\" fill=\"#000000\">THIGH &lt;= 52.15</text>\n<text text-anchor=\"middle\" x=\"175.5\" y=\"-334.8\" font-family=\"Helvetica,sans-Serif\" font-size=\"14.00\" fill=\"#000000\">squared_error = 18.586</text>\n<text text-anchor=\"middle\" x=\"175.5\" y=\"-319.8\" font-family=\"Helvetica,sans-Serif\" font-size=\"14.00\" fill=\"#000000\">samples = 32</text>\n<text text-anchor=\"middle\" x=\"175.5\" y=\"-304.8\" font-family=\"Helvetica,sans-Serif\" font-size=\"14.00\" fill=\"#000000\">value = 8.584</text>\n</g>\n<!-- 2&#45;&gt;3 -->\n<g id=\"edge3\" class=\"edge\">\n<title>2&#45;&gt;3</title>\n<path fill=\"none\" stroke=\"#000000\" d=\"M301.2692,-400.9465C283.5107,-391.0701 263.982,-380.2093 245.7189,-370.0522\"/>\n<polygon fill=\"#000000\" stroke=\"#000000\" points=\"247.3089,-366.9317 236.8684,-365.13 243.9066,-373.0492 247.3089,-366.9317\"/>\n</g>\n<!-- 6 -->\n<g id=\"node7\" class=\"node\">\n<title>6</title>\n<polygon fill=\"#f7dac5\" stroke=\"#000000\" points=\"447,-357.5 278,-357.5 278,-304.5 447,-304.5 447,-357.5\"/>\n<text text-anchor=\"middle\" x=\"362.5\" y=\"-342.3\" font-family=\"Helvetica,sans-Serif\" font-size=\"14.00\" fill=\"#000000\">squared_error = 17.054</text>\n<text text-anchor=\"middle\" x=\"362.5\" y=\"-327.3\" font-family=\"Helvetica,sans-Serif\" font-size=\"14.00\" fill=\"#000000\">samples = 18</text>\n<text text-anchor=\"middle\" x=\"362.5\" y=\"-312.3\" font-family=\"Helvetica,sans-Serif\" font-size=\"14.00\" fill=\"#000000\">value = 12.556</text>\n</g>\n<!-- 2&#45;&gt;6 -->\n<g id=\"edge6\" class=\"edge\">\n<title>2&#45;&gt;6</title>\n<path fill=\"none\" stroke=\"#000000\" d=\"M362.5,-400.9465C362.5,-390.2621 362.5,-378.4254 362.5,-367.5742\"/>\n<polygon fill=\"#000000\" stroke=\"#000000\" points=\"366.0001,-367.5421 362.5,-357.5422 359.0001,-367.5422 366.0001,-367.5421\"/>\n</g>\n<!-- 4 -->\n<g id=\"node5\" class=\"node\">\n<title>4</title>\n<polygon fill=\"#ffffff\" stroke=\"#000000\" points=\"169,-253.5 0,-253.5 0,-200.5 169,-200.5 169,-253.5\"/>\n<text text-anchor=\"middle\" x=\"84.5\" y=\"-238.3\" font-family=\"Helvetica,sans-Serif\" font-size=\"14.00\" fill=\"#000000\">squared_error = 10.761</text>\n<text text-anchor=\"middle\" x=\"84.5\" y=\"-223.3\" font-family=\"Helvetica,sans-Serif\" font-size=\"14.00\" fill=\"#000000\">samples = 8</text>\n<text text-anchor=\"middle\" x=\"84.5\" y=\"-208.3\" font-family=\"Helvetica,sans-Serif\" font-size=\"14.00\" fill=\"#000000\">value = 4.887</text>\n</g>\n<!-- 3&#45;&gt;4 -->\n<g id=\"edge4\" class=\"edge\">\n<title>3&#45;&gt;4</title>\n<path fill=\"none\" stroke=\"#000000\" d=\"M145.7032,-296.9465C135.6796,-285.491 124.4972,-272.711 114.461,-261.2412\"/>\n<polygon fill=\"#000000\" stroke=\"#000000\" points=\"116.9435,-258.7632 107.7244,-253.5422 111.6754,-263.3727 116.9435,-258.7632\"/>\n</g>\n<!-- 5 -->\n<g id=\"node6\" class=\"node\">\n<title>5</title>\n<polygon fill=\"#fae7da\" stroke=\"#000000\" points=\"348,-253.5 187,-253.5 187,-200.5 348,-200.5 348,-253.5\"/>\n<text text-anchor=\"middle\" x=\"267.5\" y=\"-238.3\" font-family=\"Helvetica,sans-Serif\" font-size=\"14.00\" fill=\"#000000\">squared_error = 15.12</text>\n<text text-anchor=\"middle\" x=\"267.5\" y=\"-223.3\" font-family=\"Helvetica,sans-Serif\" font-size=\"14.00\" fill=\"#000000\">samples = 24</text>\n<text text-anchor=\"middle\" x=\"267.5\" y=\"-208.3\" font-family=\"Helvetica,sans-Serif\" font-size=\"14.00\" fill=\"#000000\">value = 9.817</text>\n</g>\n<!-- 3&#45;&gt;5 -->\n<g id=\"edge5\" class=\"edge\">\n<title>3&#45;&gt;5</title>\n<path fill=\"none\" stroke=\"#000000\" d=\"M205.6242,-296.9465C215.758,-285.491 227.0633,-272.711 237.2097,-261.2412\"/>\n<polygon fill=\"#000000\" stroke=\"#000000\" points=\"240.0161,-263.3512 244.0204,-253.5422 234.7731,-258.7131 240.0161,-263.3512\"/>\n</g>\n<!-- 8 -->\n<g id=\"node9\" class=\"node\">\n<title>8</title>\n<polygon fill=\"#f0b88f\" stroke=\"#000000\" points=\"634,-357.5 465,-357.5 465,-304.5 634,-304.5 634,-357.5\"/>\n<text text-anchor=\"middle\" x=\"549.5\" y=\"-342.3\" font-family=\"Helvetica,sans-Serif\" font-size=\"14.00\" fill=\"#000000\">squared_error = 15.087</text>\n<text text-anchor=\"middle\" x=\"549.5\" y=\"-327.3\" font-family=\"Helvetica,sans-Serif\" font-size=\"14.00\" fill=\"#000000\">samples = 13</text>\n<text text-anchor=\"middle\" x=\"549.5\" y=\"-312.3\" font-family=\"Helvetica,sans-Serif\" font-size=\"14.00\" fill=\"#000000\">value = 19.862</text>\n</g>\n<!-- 7&#45;&gt;8 -->\n<g id=\"edge8\" class=\"edge\">\n<title>7&#45;&gt;8</title>\n<path fill=\"none\" stroke=\"#000000\" d=\"M612.0483,-400.9465C601.8045,-389.491 590.3762,-376.711 580.1195,-365.2412\"/>\n<polygon fill=\"#000000\" stroke=\"#000000\" points=\"582.5097,-362.6634 573.2348,-357.5422 577.2917,-367.3295 582.5097,-362.6634\"/>\n</g>\n<!-- 9 -->\n<g id=\"node10\" class=\"node\">\n<title>9</title>\n<polygon fill=\"#f6d1b7\" stroke=\"#000000\" points=\"821,-365 652,-365 652,-297 821,-297 821,-365\"/>\n<text text-anchor=\"middle\" x=\"736.5\" y=\"-349.8\" font-family=\"Helvetica,sans-Serif\" font-size=\"14.00\" fill=\"#000000\">THIGH &lt;= 59.45</text>\n<text text-anchor=\"middle\" x=\"736.5\" y=\"-334.8\" font-family=\"Helvetica,sans-Serif\" font-size=\"14.00\" fill=\"#000000\">squared_error = 17.474</text>\n<text text-anchor=\"middle\" x=\"736.5\" y=\"-319.8\" font-family=\"Helvetica,sans-Serif\" font-size=\"14.00\" fill=\"#000000\">samples = 27</text>\n<text text-anchor=\"middle\" x=\"736.5\" y=\"-304.8\" font-family=\"Helvetica,sans-Serif\" font-size=\"14.00\" fill=\"#000000\">value = 14.5</text>\n</g>\n<!-- 7&#45;&gt;9 -->\n<g id=\"edge9\" class=\"edge\">\n<title>7&#45;&gt;9</title>\n<path fill=\"none\" stroke=\"#000000\" d=\"M673.2791,-400.9465C681.4755,-391.8782 690.422,-381.9799 698.9375,-372.5585\"/>\n<polygon fill=\"#000000\" stroke=\"#000000\" points=\"701.5429,-374.8957 705.6517,-365.13 696.3497,-370.2019 701.5429,-374.8957\"/>\n</g>\n<!-- 10 -->\n<g id=\"node11\" class=\"node\">\n<title>10</title>\n<polygon fill=\"#f4c7a7\" stroke=\"#000000\" points=\"681,-253.5 520,-253.5 520,-200.5 681,-200.5 681,-253.5\"/>\n<text text-anchor=\"middle\" x=\"600.5\" y=\"-238.3\" font-family=\"Helvetica,sans-Serif\" font-size=\"14.00\" fill=\"#000000\">squared_error = 9.595</text>\n<text text-anchor=\"middle\" x=\"600.5\" y=\"-223.3\" font-family=\"Helvetica,sans-Serif\" font-size=\"14.00\" fill=\"#000000\">samples = 16</text>\n<text text-anchor=\"middle\" x=\"600.5\" y=\"-208.3\" font-family=\"Helvetica,sans-Serif\" font-size=\"14.00\" fill=\"#000000\">value = 16.562</text>\n</g>\n<!-- 9&#45;&gt;10 -->\n<g id=\"edge10\" class=\"edge\">\n<title>9&#45;&gt;10</title>\n<path fill=\"none\" stroke=\"#000000\" d=\"M691.9685,-296.9465C676.4121,-285.0504 658.9879,-271.726 643.5541,-259.9237\"/>\n<polygon fill=\"#000000\" stroke=\"#000000\" points=\"645.2787,-256.8364 635.209,-253.5422 641.0265,-262.397 645.2787,-256.8364\"/>\n</g>\n<!-- 11 -->\n<g id=\"node12\" class=\"node\">\n<title>11</title>\n<polygon fill=\"#f8dfcd\" stroke=\"#000000\" points=\"868,-253.5 699,-253.5 699,-200.5 868,-200.5 868,-253.5\"/>\n<text text-anchor=\"middle\" x=\"783.5\" y=\"-238.3\" font-family=\"Helvetica,sans-Serif\" font-size=\"14.00\" fill=\"#000000\">squared_error = 13.747</text>\n<text text-anchor=\"middle\" x=\"783.5\" y=\"-223.3\" font-family=\"Helvetica,sans-Serif\" font-size=\"14.00\" fill=\"#000000\">samples = 11</text>\n<text text-anchor=\"middle\" x=\"783.5\" y=\"-208.3\" font-family=\"Helvetica,sans-Serif\" font-size=\"14.00\" fill=\"#000000\">value = 11.5</text>\n</g>\n<!-- 9&#45;&gt;11 -->\n<g id=\"edge11\" class=\"edge\">\n<title>9&#45;&gt;11</title>\n<path fill=\"none\" stroke=\"#000000\" d=\"M751.8896,-296.9465C756.8177,-286.0418 762.2882,-273.9368 767.274,-262.9043\"/>\n<polygon fill=\"#000000\" stroke=\"#000000\" points=\"770.5761,-264.0962 771.505,-253.5422 764.1973,-261.2134 770.5761,-264.0962\"/>\n</g>\n<!-- 13 -->\n<g id=\"node14\" class=\"node\">\n<title>13</title>\n<polygon fill=\"#edaa79\" stroke=\"#000000\" points=\"1008,-469 839,-469 839,-401 1008,-401 1008,-469\"/>\n<text text-anchor=\"middle\" x=\"923.5\" y=\"-453.8\" font-family=\"Helvetica,sans-Serif\" font-size=\"14.00\" fill=\"#000000\">HEIGHT &lt;= 68.375</text>\n<text text-anchor=\"middle\" x=\"923.5\" y=\"-438.8\" font-family=\"Helvetica,sans-Serif\" font-size=\"14.00\" fill=\"#000000\">squared_error = 19.797</text>\n<text text-anchor=\"middle\" x=\"923.5\" y=\"-423.8\" font-family=\"Helvetica,sans-Serif\" font-size=\"14.00\" fill=\"#000000\">samples = 65</text>\n<text text-anchor=\"middle\" x=\"923.5\" y=\"-408.8\" font-family=\"Helvetica,sans-Serif\" font-size=\"14.00\" fill=\"#000000\">value = 22.762</text>\n</g>\n<!-- 12&#45;&gt;13 -->\n<g id=\"edge13\" class=\"edge\">\n<title>12&#45;&gt;13</title>\n<path fill=\"none\" stroke=\"#000000\" d=\"M923.5,-504.9465C923.5,-496.776 923.5,-487.9318 923.5,-479.3697\"/>\n<polygon fill=\"#000000\" stroke=\"#000000\" points=\"927.0001,-479.13 923.5,-469.13 920.0001,-479.13 927.0001,-479.13\"/>\n</g>\n<!-- 22 -->\n<g id=\"node23\" class=\"node\">\n<title>22</title>\n<polygon fill=\"#e58139\" stroke=\"#000000\" points=\"1195,-461.5 1026,-461.5 1026,-408.5 1195,-408.5 1195,-461.5\"/>\n<text text-anchor=\"middle\" x=\"1110.5\" y=\"-446.3\" font-family=\"Helvetica,sans-Serif\" font-size=\"14.00\" fill=\"#000000\">squared_error = 32.445</text>\n<text text-anchor=\"middle\" x=\"1110.5\" y=\"-431.3\" font-family=\"Helvetica,sans-Serif\" font-size=\"14.00\" fill=\"#000000\">samples = 21</text>\n<text text-anchor=\"middle\" x=\"1110.5\" y=\"-416.3\" font-family=\"Helvetica,sans-Serif\" font-size=\"14.00\" fill=\"#000000\">value = 31.29</text>\n</g>\n<!-- 12&#45;&gt;22 -->\n<g id=\"edge22\" class=\"edge\">\n<title>12&#45;&gt;22</title>\n<path fill=\"none\" stroke=\"#000000\" d=\"M984.7308,-504.9465C1007.0121,-492.5547 1032.0802,-478.6132 1053.9387,-466.4565\"/>\n<polygon fill=\"#000000\" stroke=\"#000000\" points=\"1055.7369,-469.4614 1062.7751,-461.5422 1052.3346,-463.3438 1055.7369,-469.4614\"/>\n</g>\n<!-- 14 -->\n<g id=\"node15\" class=\"node\">\n<title>14</title>\n<polygon fill=\"#ea9b61\" stroke=\"#000000\" points=\"1008,-357.5 839,-357.5 839,-304.5 1008,-304.5 1008,-357.5\"/>\n<text text-anchor=\"middle\" x=\"923.5\" y=\"-342.3\" font-family=\"Helvetica,sans-Serif\" font-size=\"14.00\" fill=\"#000000\">squared_error = 17.965</text>\n<text text-anchor=\"middle\" x=\"923.5\" y=\"-327.3\" font-family=\"Helvetica,sans-Serif\" font-size=\"14.00\" fill=\"#000000\">samples = 13</text>\n<text text-anchor=\"middle\" x=\"923.5\" y=\"-312.3\" font-family=\"Helvetica,sans-Serif\" font-size=\"14.00\" fill=\"#000000\">value = 25.908</text>\n</g>\n<!-- 13&#45;&gt;14 -->\n<g id=\"edge14\" class=\"edge\">\n<title>13&#45;&gt;14</title>\n<path fill=\"none\" stroke=\"#000000\" d=\"M923.5,-400.9465C923.5,-390.2621 923.5,-378.4254 923.5,-367.5742\"/>\n<polygon fill=\"#000000\" stroke=\"#000000\" points=\"927.0001,-367.5421 923.5,-357.5422 920.0001,-367.5422 927.0001,-367.5421\"/>\n</g>\n<!-- 15 -->\n<g id=\"node16\" class=\"node\">\n<title>15</title>\n<polygon fill=\"#eead7f\" stroke=\"#000000\" points=\"1195,-365 1026,-365 1026,-297 1195,-297 1195,-365\"/>\n<text text-anchor=\"middle\" x=\"1110.5\" y=\"-349.8\" font-family=\"Helvetica,sans-Serif\" font-size=\"14.00\" fill=\"#000000\">ANKLE &lt;= 24.65</text>\n<text text-anchor=\"middle\" x=\"1110.5\" y=\"-334.8\" font-family=\"Helvetica,sans-Serif\" font-size=\"14.00\" fill=\"#000000\">squared_error = 17.162</text>\n<text text-anchor=\"middle\" x=\"1110.5\" y=\"-319.8\" font-family=\"Helvetica,sans-Serif\" font-size=\"14.00\" fill=\"#000000\">samples = 52</text>\n<text text-anchor=\"middle\" x=\"1110.5\" y=\"-304.8\" font-family=\"Helvetica,sans-Serif\" font-size=\"14.00\" fill=\"#000000\">value = 21.975</text>\n</g>\n<!-- 13&#45;&gt;15 -->\n<g id=\"edge15\" class=\"edge\">\n<title>13&#45;&gt;15</title>\n<path fill=\"none\" stroke=\"#000000\" d=\"M984.7308,-400.9465C1002.4893,-391.0701 1022.018,-380.2093 1040.2811,-370.0522\"/>\n<polygon fill=\"#000000\" stroke=\"#000000\" points=\"1042.0934,-373.0492 1049.1316,-365.13 1038.6911,-366.9317 1042.0934,-373.0492\"/>\n</g>\n<!-- 16 -->\n<g id=\"node17\" class=\"node\">\n<title>16</title>\n<polygon fill=\"#edaa79\" stroke=\"#000000\" points=\"1103,-261 934,-261 934,-193 1103,-193 1103,-261\"/>\n<text text-anchor=\"middle\" x=\"1018.5\" y=\"-245.8\" font-family=\"Helvetica,sans-Serif\" font-size=\"14.00\" fill=\"#000000\">ABDOMEN &lt;= 100.45</text>\n<text text-anchor=\"middle\" x=\"1018.5\" y=\"-230.8\" font-family=\"Helvetica,sans-Serif\" font-size=\"14.00\" fill=\"#000000\">squared_error = 17.507</text>\n<text text-anchor=\"middle\" x=\"1018.5\" y=\"-215.8\" font-family=\"Helvetica,sans-Serif\" font-size=\"14.00\" fill=\"#000000\">samples = 41</text>\n<text text-anchor=\"middle\" x=\"1018.5\" y=\"-200.8\" font-family=\"Helvetica,sans-Serif\" font-size=\"14.00\" fill=\"#000000\">value = 22.729</text>\n</g>\n<!-- 15&#45;&gt;16 -->\n<g id=\"edge16\" class=\"edge\">\n<title>15&#45;&gt;16</title>\n<path fill=\"none\" stroke=\"#000000\" d=\"M1080.3758,-296.9465C1072.4332,-287.968 1063.7709,-278.1758 1055.511,-268.8385\"/>\n<polygon fill=\"#000000\" stroke=\"#000000\" points=\"1057.9392,-266.301 1048.6919,-261.13 1052.6962,-270.939 1057.9392,-266.301\"/>\n</g>\n<!-- 21 -->\n<g id=\"node22\" class=\"node\">\n<title>21</title>\n<polygon fill=\"#f1bb94\" stroke=\"#000000\" points=\"1282,-253.5 1121,-253.5 1121,-200.5 1282,-200.5 1282,-253.5\"/>\n<text text-anchor=\"middle\" x=\"1201.5\" y=\"-238.3\" font-family=\"Helvetica,sans-Serif\" font-size=\"14.00\" fill=\"#000000\">squared_error = 5.851</text>\n<text text-anchor=\"middle\" x=\"1201.5\" y=\"-223.3\" font-family=\"Helvetica,sans-Serif\" font-size=\"14.00\" fill=\"#000000\">samples = 11</text>\n<text text-anchor=\"middle\" x=\"1201.5\" y=\"-208.3\" font-family=\"Helvetica,sans-Serif\" font-size=\"14.00\" fill=\"#000000\">value = 19.164</text>\n</g>\n<!-- 15&#45;&gt;21 -->\n<g id=\"edge21\" class=\"edge\">\n<title>15&#45;&gt;21</title>\n<path fill=\"none\" stroke=\"#000000\" d=\"M1140.2968,-296.9465C1150.3204,-285.491 1161.5028,-272.711 1171.539,-261.2412\"/>\n<polygon fill=\"#000000\" stroke=\"#000000\" points=\"1174.3246,-263.3727 1178.2756,-253.5422 1169.0565,-258.7632 1174.3246,-263.3727\"/>\n</g>\n<!-- 17 -->\n<g id=\"node18\" class=\"node\">\n<title>17</title>\n<polygon fill=\"#eeae80\" stroke=\"#000000\" points=\"1009,-157 840,-157 840,-89 1009,-89 1009,-157\"/>\n<text text-anchor=\"middle\" x=\"924.5\" y=\"-141.8\" font-family=\"Helvetica,sans-Serif\" font-size=\"14.00\" fill=\"#000000\">NECK &lt;= 39.05</text>\n<text text-anchor=\"middle\" x=\"924.5\" y=\"-126.8\" font-family=\"Helvetica,sans-Serif\" font-size=\"14.00\" fill=\"#000000\">squared_error = 14.648</text>\n<text text-anchor=\"middle\" x=\"924.5\" y=\"-111.8\" font-family=\"Helvetica,sans-Serif\" font-size=\"14.00\" fill=\"#000000\">samples = 32</text>\n<text text-anchor=\"middle\" x=\"924.5\" y=\"-96.8\" font-family=\"Helvetica,sans-Serif\" font-size=\"14.00\" fill=\"#000000\">value = 21.881</text>\n</g>\n<!-- 16&#45;&gt;17 -->\n<g id=\"edge17\" class=\"edge\">\n<title>16&#45;&gt;17</title>\n<path fill=\"none\" stroke=\"#000000\" d=\"M987.7209,-192.9465C979.5245,-183.8782 970.578,-173.9799 962.0625,-164.5585\"/>\n<polygon fill=\"#000000\" stroke=\"#000000\" points=\"964.6503,-162.2019 955.3483,-157.13 959.4571,-166.8957 964.6503,-162.2019\"/>\n</g>\n<!-- 20 -->\n<g id=\"node21\" class=\"node\">\n<title>20</title>\n<polygon fill=\"#ea9b63\" stroke=\"#000000\" points=\"1196,-149.5 1027,-149.5 1027,-96.5 1196,-96.5 1196,-149.5\"/>\n<text text-anchor=\"middle\" x=\"1111.5\" y=\"-134.3\" font-family=\"Helvetica,sans-Serif\" font-size=\"14.00\" fill=\"#000000\">squared_error = 16.025</text>\n<text text-anchor=\"middle\" x=\"1111.5\" y=\"-119.3\" font-family=\"Helvetica,sans-Serif\" font-size=\"14.00\" fill=\"#000000\">samples = 9</text>\n<text text-anchor=\"middle\" x=\"1111.5\" y=\"-104.3\" font-family=\"Helvetica,sans-Serif\" font-size=\"14.00\" fill=\"#000000\">value = 25.744</text>\n</g>\n<!-- 16&#45;&gt;20 -->\n<g id=\"edge20\" class=\"edge\">\n<title>16&#45;&gt;20</title>\n<path fill=\"none\" stroke=\"#000000\" d=\"M1048.9517,-192.9465C1059.1955,-181.491 1070.6238,-168.711 1080.8805,-157.2412\"/>\n<polygon fill=\"#000000\" stroke=\"#000000\" points=\"1083.7083,-159.3295 1087.7652,-149.5422 1078.4903,-154.6634 1083.7083,-159.3295\"/>\n</g>\n<!-- 18 -->\n<g id=\"node19\" class=\"node\">\n<title>18</title>\n<polygon fill=\"#eda775\" stroke=\"#000000\" points=\"916,-53 747,-53 747,0 916,0 916,-53\"/>\n<text text-anchor=\"middle\" x=\"831.5\" y=\"-37.8\" font-family=\"Helvetica,sans-Serif\" font-size=\"14.00\" fill=\"#000000\">squared_error = 11.882</text>\n<text text-anchor=\"middle\" x=\"831.5\" y=\"-22.8\" font-family=\"Helvetica,sans-Serif\" font-size=\"14.00\" fill=\"#000000\">samples = 17</text>\n<text text-anchor=\"middle\" x=\"831.5\" y=\"-7.8\" font-family=\"Helvetica,sans-Serif\" font-size=\"14.00\" fill=\"#000000\">value = 23.224</text>\n</g>\n<!-- 17&#45;&gt;18 -->\n<g id=\"edge18\" class=\"edge\">\n<title>17&#45;&gt;18</title>\n<path fill=\"none\" stroke=\"#000000\" d=\"M891.7117,-88.9777C882.7986,-79.7292 873.1473,-69.7147 864.2371,-60.4691\"/>\n<polygon fill=\"#000000\" stroke=\"#000000\" points=\"866.7378,-58.0202 857.2783,-53.2485 861.6975,-62.8777 866.7378,-58.0202\"/>\n</g>\n<!-- 19 -->\n<g id=\"node20\" class=\"node\">\n<title>19</title>\n<polygon fill=\"#f0b58b\" stroke=\"#000000\" points=\"1103,-53 934,-53 934,0 1103,0 1103,-53\"/>\n<text text-anchor=\"middle\" x=\"1018.5\" y=\"-37.8\" font-family=\"Helvetica,sans-Serif\" font-size=\"14.00\" fill=\"#000000\">squared_error = 13.426</text>\n<text text-anchor=\"middle\" x=\"1018.5\" y=\"-22.8\" font-family=\"Helvetica,sans-Serif\" font-size=\"14.00\" fill=\"#000000\">samples = 15</text>\n<text text-anchor=\"middle\" x=\"1018.5\" y=\"-7.8\" font-family=\"Helvetica,sans-Serif\" font-size=\"14.00\" fill=\"#000000\">value = 20.36</text>\n</g>\n<!-- 17&#45;&gt;19 -->\n<g id=\"edge19\" class=\"edge\">\n<title>17&#45;&gt;19</title>\n<path fill=\"none\" stroke=\"#000000\" d=\"M957.6409,-88.9777C966.6498,-79.7292 976.4048,-69.7147 985.4109,-60.4691\"/>\n<polygon fill=\"#000000\" stroke=\"#000000\" points=\"987.9739,-62.8539 992.4445,-53.2485 982.9596,-57.9696 987.9739,-62.8539\"/>\n</g>\n</g>\n</svg>\n"
          },
          "metadata": {}
        }
      ]
    },
    {
      "cell_type": "markdown",
      "source": [
        "#### **모델 파라미터 조정하기 : max_depth**"
      ],
      "metadata": {
        "id": "XLGSWz7E6fyv"
      }
    },
    {
      "cell_type": "code",
      "source": [
        "train_score = []; test_score = []\n",
        "para_depth = [depth for depth in range(1,11)]\n",
        "\n",
        "for v_max_depth in para_depth :\n",
        "    tree = DecisionTreeRegressor(random_state = 1234,\n",
        "                                 min_samples_leaf = 8,\n",
        "                                 min_samples_split = 20,\n",
        "                                 max_depth = v_max_depth)\n",
        "    tree.fit(df_train_x, df_train_y)\n",
        "    train_score.append(tree.score(df_train_x, df_train_y))\n",
        "    test_score.append(tree.score(df_test_x, df_test_y))\n",
        "\n",
        "df_score_depth = pd.DataFrame()\n",
        "df_score_depth['MinSamplesSplit'] = para_depth\n",
        "df_score_depth['TrainScore'] = train_score\n",
        "df_score_depth['TestScore'] = test_score"
      ],
      "metadata": {
        "id": "RAARdyru6fyx"
      },
      "execution_count": 63,
      "outputs": []
    },
    {
      "cell_type": "code",
      "source": [
        "df_score_depth.round(3)"
      ],
      "metadata": {
        "outputId": "81d6e2c8-55de-4eb5-b69d-fe22f6ef188e",
        "colab": {
          "base_uri": "https://localhost:8080/",
          "height": 363
        },
        "id": "K_IyWT0L6fyy"
      },
      "execution_count": 64,
      "outputs": [
        {
          "output_type": "execute_result",
          "data": {
            "text/plain": [
              "   MinSamplesSplit  TrainScore  TestScore\n",
              "0                1       0.517      0.333\n",
              "1                2       0.679      0.569\n",
              "2                3       0.749      0.538\n",
              "3                4       0.783      0.570\n",
              "4                5       0.808      0.581\n",
              "5                6       0.813      0.581\n",
              "6                7       0.813      0.581\n",
              "7                8       0.813      0.581\n",
              "8                9       0.813      0.581\n",
              "9               10       0.813      0.581"
            ],
            "text/html": [
              "\n",
              "  <div id=\"df-c28141a0-c66f-4bcd-9ec4-6b6e5f05e76f\">\n",
              "    <div class=\"colab-df-container\">\n",
              "      <div>\n",
              "<style scoped>\n",
              "    .dataframe tbody tr th:only-of-type {\n",
              "        vertical-align: middle;\n",
              "    }\n",
              "\n",
              "    .dataframe tbody tr th {\n",
              "        vertical-align: top;\n",
              "    }\n",
              "\n",
              "    .dataframe thead th {\n",
              "        text-align: right;\n",
              "    }\n",
              "</style>\n",
              "<table border=\"1\" class=\"dataframe\">\n",
              "  <thead>\n",
              "    <tr style=\"text-align: right;\">\n",
              "      <th></th>\n",
              "      <th>MinSamplesSplit</th>\n",
              "      <th>TrainScore</th>\n",
              "      <th>TestScore</th>\n",
              "    </tr>\n",
              "  </thead>\n",
              "  <tbody>\n",
              "    <tr>\n",
              "      <th>0</th>\n",
              "      <td>1</td>\n",
              "      <td>0.517</td>\n",
              "      <td>0.333</td>\n",
              "    </tr>\n",
              "    <tr>\n",
              "      <th>1</th>\n",
              "      <td>2</td>\n",
              "      <td>0.679</td>\n",
              "      <td>0.569</td>\n",
              "    </tr>\n",
              "    <tr>\n",
              "      <th>2</th>\n",
              "      <td>3</td>\n",
              "      <td>0.749</td>\n",
              "      <td>0.538</td>\n",
              "    </tr>\n",
              "    <tr>\n",
              "      <th>3</th>\n",
              "      <td>4</td>\n",
              "      <td>0.783</td>\n",
              "      <td>0.570</td>\n",
              "    </tr>\n",
              "    <tr>\n",
              "      <th>4</th>\n",
              "      <td>5</td>\n",
              "      <td>0.808</td>\n",
              "      <td>0.581</td>\n",
              "    </tr>\n",
              "    <tr>\n",
              "      <th>5</th>\n",
              "      <td>6</td>\n",
              "      <td>0.813</td>\n",
              "      <td>0.581</td>\n",
              "    </tr>\n",
              "    <tr>\n",
              "      <th>6</th>\n",
              "      <td>7</td>\n",
              "      <td>0.813</td>\n",
              "      <td>0.581</td>\n",
              "    </tr>\n",
              "    <tr>\n",
              "      <th>7</th>\n",
              "      <td>8</td>\n",
              "      <td>0.813</td>\n",
              "      <td>0.581</td>\n",
              "    </tr>\n",
              "    <tr>\n",
              "      <th>8</th>\n",
              "      <td>9</td>\n",
              "      <td>0.813</td>\n",
              "      <td>0.581</td>\n",
              "    </tr>\n",
              "    <tr>\n",
              "      <th>9</th>\n",
              "      <td>10</td>\n",
              "      <td>0.813</td>\n",
              "      <td>0.581</td>\n",
              "    </tr>\n",
              "  </tbody>\n",
              "</table>\n",
              "</div>\n",
              "      <button class=\"colab-df-convert\" onclick=\"convertToInteractive('df-c28141a0-c66f-4bcd-9ec4-6b6e5f05e76f')\"\n",
              "              title=\"Convert this dataframe to an interactive table.\"\n",
              "              style=\"display:none;\">\n",
              "        \n",
              "  <svg xmlns=\"http://www.w3.org/2000/svg\" height=\"24px\"viewBox=\"0 0 24 24\"\n",
              "       width=\"24px\">\n",
              "    <path d=\"M0 0h24v24H0V0z\" fill=\"none\"/>\n",
              "    <path d=\"M18.56 5.44l.94 2.06.94-2.06 2.06-.94-2.06-.94-.94-2.06-.94 2.06-2.06.94zm-11 1L8.5 8.5l.94-2.06 2.06-.94-2.06-.94L8.5 2.5l-.94 2.06-2.06.94zm10 10l.94 2.06.94-2.06 2.06-.94-2.06-.94-.94-2.06-.94 2.06-2.06.94z\"/><path d=\"M17.41 7.96l-1.37-1.37c-.4-.4-.92-.59-1.43-.59-.52 0-1.04.2-1.43.59L10.3 9.45l-7.72 7.72c-.78.78-.78 2.05 0 2.83L4 21.41c.39.39.9.59 1.41.59.51 0 1.02-.2 1.41-.59l7.78-7.78 2.81-2.81c.8-.78.8-2.07 0-2.86zM5.41 20L4 18.59l7.72-7.72 1.47 1.35L5.41 20z\"/>\n",
              "  </svg>\n",
              "      </button>\n",
              "      \n",
              "  <style>\n",
              "    .colab-df-container {\n",
              "      display:flex;\n",
              "      flex-wrap:wrap;\n",
              "      gap: 12px;\n",
              "    }\n",
              "\n",
              "    .colab-df-convert {\n",
              "      background-color: #E8F0FE;\n",
              "      border: none;\n",
              "      border-radius: 50%;\n",
              "      cursor: pointer;\n",
              "      display: none;\n",
              "      fill: #1967D2;\n",
              "      height: 32px;\n",
              "      padding: 0 0 0 0;\n",
              "      width: 32px;\n",
              "    }\n",
              "\n",
              "    .colab-df-convert:hover {\n",
              "      background-color: #E2EBFA;\n",
              "      box-shadow: 0px 1px 2px rgba(60, 64, 67, 0.3), 0px 1px 3px 1px rgba(60, 64, 67, 0.15);\n",
              "      fill: #174EA6;\n",
              "    }\n",
              "\n",
              "    [theme=dark] .colab-df-convert {\n",
              "      background-color: #3B4455;\n",
              "      fill: #D2E3FC;\n",
              "    }\n",
              "\n",
              "    [theme=dark] .colab-df-convert:hover {\n",
              "      background-color: #434B5C;\n",
              "      box-shadow: 0px 1px 3px 1px rgba(0, 0, 0, 0.15);\n",
              "      filter: drop-shadow(0px 1px 2px rgba(0, 0, 0, 0.3));\n",
              "      fill: #FFFFFF;\n",
              "    }\n",
              "  </style>\n",
              "\n",
              "      <script>\n",
              "        const buttonEl =\n",
              "          document.querySelector('#df-c28141a0-c66f-4bcd-9ec4-6b6e5f05e76f button.colab-df-convert');\n",
              "        buttonEl.style.display =\n",
              "          google.colab.kernel.accessAllowed ? 'block' : 'none';\n",
              "\n",
              "        async function convertToInteractive(key) {\n",
              "          const element = document.querySelector('#df-c28141a0-c66f-4bcd-9ec4-6b6e5f05e76f');\n",
              "          const dataTable =\n",
              "            await google.colab.kernel.invokeFunction('convertToInteractive',\n",
              "                                                     [key], {});\n",
              "          if (!dataTable) return;\n",
              "\n",
              "          const docLinkHtml = 'Like what you see? Visit the ' +\n",
              "            '<a target=\"_blank\" href=https://colab.research.google.com/notebooks/data_table.ipynb>data table notebook</a>'\n",
              "            + ' to learn more about interactive tables.';\n",
              "          element.innerHTML = '';\n",
              "          dataTable['output_type'] = 'display_data';\n",
              "          await google.colab.output.renderOutput(dataTable, element);\n",
              "          const docLink = document.createElement('div');\n",
              "          docLink.innerHTML = docLinkHtml;\n",
              "          element.appendChild(docLink);\n",
              "        }\n",
              "      </script>\n",
              "    </div>\n",
              "  </div>\n",
              "  "
            ]
          },
          "metadata": {},
          "execution_count": 64
        }
      ]
    },
    {
      "cell_type": "code",
      "source": [
        "plt.plot(para_depth, train_score, linestyle = '-', label = 'Train Score')\n",
        "plt.plot(para_depth, test_score, linestyle = '-', label = 'Test Score')\n",
        "plt.ylabel('score'); plt.xlabel('MaxDepth')\n",
        "plt.legend()"
      ],
      "metadata": {
        "outputId": "9950251c-8238-4018-e86a-1a8ad74a9c9d",
        "colab": {
          "base_uri": "https://localhost:8080/",
          "height": 297
        },
        "id": "moFAvncj6fyz"
      },
      "execution_count": 65,
      "outputs": [
        {
          "output_type": "execute_result",
          "data": {
            "text/plain": [
              "<matplotlib.legend.Legend at 0x7fccd8f3dd10>"
            ]
          },
          "metadata": {},
          "execution_count": 65
        },
        {
          "output_type": "display_data",
          "data": {
            "text/plain": [
              "<Figure size 432x288 with 1 Axes>"
            ],
            "image/png": "[encoded data removed]"
          },
          "metadata": {
            "needs_background": "light"
          }
        }
      ]
    },
    {
      "cell_type": "code",
      "source": [
        "# 나무구조 시각화 : min_samples_leaf = 8, min_samples_split = 20, max_depth = 2\n",
        "\n",
        "v_feature_name = df_train_x.columns\n",
        "\n",
        "tree_graph = DecisionTreeRegressor(random_state = 1234,\n",
        "                                   min_samples_leaf = 8,\n",
        "                                   min_samples_split = 20,\n",
        "                                   max_depth = 2)\n",
        "tree_graph.fit(df_train_x, df_train_y)\n",
        "export_graphviz(tree_graph, out_file = 'tree_depth.dot',\n",
        "                feature_names = v_feature_name, impurity = True, filled = True)\n",
        "\n",
        "with open('tree_leaf.dot') as f :\n",
        "    dot_graph = f.read()\n",
        "    display(graphviz.Source(dot_graph))"
      ],
      "metadata": {
        "outputId": "802a25f7-7962-4a32-ce06-129cc31603a2",
        "colab": {
          "base_uri": "https://localhost:8080/",
          "height": 379
        },
        "id": "VqKLvJZc6fyz"
      },
      "execution_count": 66,
      "outputs": [
        {
          "output_type": "display_data",
          "data": {
            "text/plain": [
              "<graphviz.files.Source at 0x7fccd8f74690>"
            ],
            "image/svg+xml": "<?xml version=\"1.0\" encoding=\"UTF-8\" standalone=\"no\"?>\n<!DOCTYPE svg PUBLIC \"-//W3C//DTD SVG 1.1//EN\"\n \"http://www.w3.org/Graphics/SVG/1.1/DTD/svg11.dtd\">\n<!-- Generated by graphviz version 2.40.1 (20161225.0304)\n -->\n<!-- Title: Tree Pages: 1 -->\n<svg width=\"738pt\" height=\"269pt\"\n viewBox=\"0.00 0.00 738.00 269.00\" xmlns=\"http://www.w3.org/2000/svg\" xmlns:xlink=\"http://www.w3.org/1999/xlink\">\n<g id=\"graph0\" class=\"graph\" transform=\"scale(1 1) rotate(0) translate(4 265)\">\n<title>Tree</title>\n<polygon fill=\"#ffffff\" stroke=\"transparent\" points=\"-4,4 -4,-265 734,-265 734,4 -4,4\"/>\n<!-- 0 -->\n<g id=\"node1\" class=\"node\">\n<title>0</title>\n<polygon fill=\"#f4ccae\" stroke=\"#000000\" points=\"449,-261 280,-261 280,-193 449,-193 449,-261\"/>\n<text text-anchor=\"middle\" x=\"364.5\" y=\"-245.8\" font-family=\"Helvetica,sans-Serif\" font-size=\"14.00\" fill=\"#000000\">ABDOMEN &lt;= 91.3</text>\n<text text-anchor=\"middle\" x=\"364.5\" y=\"-230.8\" font-family=\"Helvetica,sans-Serif\" font-size=\"14.00\" fill=\"#000000\">squared_error = 70.379</text>\n<text text-anchor=\"middle\" x=\"364.5\" y=\"-215.8\" font-family=\"Helvetica,sans-Serif\" font-size=\"14.00\" fill=\"#000000\">samples = 176</text>\n<text text-anchor=\"middle\" x=\"364.5\" y=\"-200.8\" font-family=\"Helvetica,sans-Serif\" font-size=\"14.00\" fill=\"#000000\">value = 18.676</text>\n</g>\n<!-- 1 -->\n<g id=\"node2\" class=\"node\">\n<title>1</title>\n<polygon fill=\"#fcefe5\" stroke=\"#000000\" points=\"356,-157 187,-157 187,-89 356,-89 356,-157\"/>\n<text text-anchor=\"middle\" x=\"271.5\" y=\"-141.8\" font-family=\"Helvetica,sans-Serif\" font-size=\"14.00\" fill=\"#000000\">ABDOMEN &lt;= 85.45</text>\n<text text-anchor=\"middle\" x=\"271.5\" y=\"-126.8\" font-family=\"Helvetica,sans-Serif\" font-size=\"14.00\" fill=\"#000000\">squared_error = 31.841</text>\n<text text-anchor=\"middle\" x=\"271.5\" y=\"-111.8\" font-family=\"Helvetica,sans-Serif\" font-size=\"14.00\" fill=\"#000000\">samples = 90</text>\n<text text-anchor=\"middle\" x=\"271.5\" y=\"-96.8\" font-family=\"Helvetica,sans-Serif\" font-size=\"14.00\" fill=\"#000000\">value = 12.782</text>\n</g>\n<!-- 0&#45;&gt;1 -->\n<g id=\"edge1\" class=\"edge\">\n<title>0&#45;&gt;1</title>\n<path fill=\"none\" stroke=\"#000000\" d=\"M334.0483,-192.9465C326.0194,-183.968 317.263,-174.1758 308.9133,-164.8385\"/>\n<polygon fill=\"#000000\" stroke=\"#000000\" points=\"311.295,-162.2512 302.0201,-157.13 306.077,-166.9174 311.295,-162.2512\"/>\n<text text-anchor=\"middle\" x=\"300.6263\" y=\"-178.3911\" font-family=\"Helvetica,sans-Serif\" font-size=\"14.00\" fill=\"#000000\">True</text>\n</g>\n<!-- 4 -->\n<g id=\"node5\" class=\"node\">\n<title>4</title>\n<polygon fill=\"#eda775\" stroke=\"#000000\" points=\"543,-157 374,-157 374,-89 543,-89 543,-157\"/>\n<text text-anchor=\"middle\" x=\"458.5\" y=\"-141.8\" font-family=\"Helvetica,sans-Serif\" font-size=\"14.00\" fill=\"#000000\">ABDOMEN &lt;= 104.9</text>\n<text text-anchor=\"middle\" x=\"458.5\" y=\"-126.8\" font-family=\"Helvetica,sans-Serif\" font-size=\"14.00\" fill=\"#000000\">squared_error = 36.311</text>\n<text text-anchor=\"middle\" x=\"458.5\" y=\"-111.8\" font-family=\"Helvetica,sans-Serif\" font-size=\"14.00\" fill=\"#000000\">samples = 86</text>\n<text text-anchor=\"middle\" x=\"458.5\" y=\"-96.8\" font-family=\"Helvetica,sans-Serif\" font-size=\"14.00\" fill=\"#000000\">value = 24.844</text>\n</g>\n<!-- 0&#45;&gt;4 -->\n<g id=\"edge4\" class=\"edge\">\n<title>0&#45;&gt;4</title>\n<path fill=\"none\" stroke=\"#000000\" d=\"M395.2791,-192.9465C403.4755,-183.8782 412.422,-173.9799 420.9375,-164.5585\"/>\n<polygon fill=\"#000000\" stroke=\"#000000\" points=\"423.5429,-166.8957 427.6517,-157.13 418.3497,-162.2019 423.5429,-166.8957\"/>\n<text text-anchor=\"middle\" x=\"428.9128\" y=\"-178.3982\" font-family=\"Helvetica,sans-Serif\" font-size=\"14.00\" fill=\"#000000\">False</text>\n</g>\n<!-- 2 -->\n<g id=\"node3\" class=\"node\">\n<title>2</title>\n<polygon fill=\"#ffffff\" stroke=\"#000000\" points=\"169,-53 0,-53 0,0 169,0 169,-53\"/>\n<text text-anchor=\"middle\" x=\"84.5\" y=\"-37.8\" font-family=\"Helvetica,sans-Serif\" font-size=\"14.00\" fill=\"#000000\">squared_error = 21.668</text>\n<text text-anchor=\"middle\" x=\"84.5\" y=\"-22.8\" font-family=\"Helvetica,sans-Serif\" font-size=\"14.00\" fill=\"#000000\">samples = 50</text>\n<text text-anchor=\"middle\" x=\"84.5\" y=\"-7.8\" font-family=\"Helvetica,sans-Serif\" font-size=\"14.00\" fill=\"#000000\">value = 10.014</text>\n</g>\n<!-- 1&#45;&gt;2 -->\n<g id=\"edge2\" class=\"edge\">\n<title>1&#45;&gt;2</title>\n<path fill=\"none\" stroke=\"#000000\" d=\"M205.5708,-88.9777C185.8722,-78.8124 164.3806,-67.7218 145.0451,-57.7439\"/>\n<polygon fill=\"#000000\" stroke=\"#000000\" points=\"146.5281,-54.5706 136.0365,-53.095 143.318,-60.7912 146.5281,-54.5706\"/>\n</g>\n<!-- 3 -->\n<g id=\"node4\" class=\"node\">\n<title>3</title>\n<polygon fill=\"#f7dac5\" stroke=\"#000000\" points=\"356,-53 187,-53 187,0 356,0 356,-53\"/>\n<text text-anchor=\"middle\" x=\"271.5\" y=\"-37.8\" font-family=\"Helvetica,sans-Serif\" font-size=\"14.00\" fill=\"#000000\">squared_error = 23.004</text>\n<text text-anchor=\"middle\" x=\"271.5\" y=\"-22.8\" font-family=\"Helvetica,sans-Serif\" font-size=\"14.00\" fill=\"#000000\">samples = 40</text>\n<text text-anchor=\"middle\" x=\"271.5\" y=\"-7.8\" font-family=\"Helvetica,sans-Serif\" font-size=\"14.00\" fill=\"#000000\">value = 16.242</text>\n</g>\n<!-- 1&#45;&gt;3 -->\n<g id=\"edge3\" class=\"edge\">\n<title>1&#45;&gt;3</title>\n<path fill=\"none\" stroke=\"#000000\" d=\"M271.5,-88.9777C271.5,-80.7364 271.5,-71.887 271.5,-63.5153\"/>\n<polygon fill=\"#000000\" stroke=\"#000000\" points=\"275.0001,-63.2484 271.5,-53.2485 268.0001,-63.2485 275.0001,-63.2484\"/>\n</g>\n<!-- 5 -->\n<g id=\"node6\" class=\"node\">\n<title>5</title>\n<polygon fill=\"#efb488\" stroke=\"#000000\" points=\"543,-53 374,-53 374,0 543,0 543,-53\"/>\n<text text-anchor=\"middle\" x=\"458.5\" y=\"-37.8\" font-family=\"Helvetica,sans-Serif\" font-size=\"14.00\" fill=\"#000000\">squared_error = 19.797</text>\n<text text-anchor=\"middle\" x=\"458.5\" y=\"-22.8\" font-family=\"Helvetica,sans-Serif\" font-size=\"14.00\" fill=\"#000000\">samples = 65</text>\n<text text-anchor=\"middle\" x=\"458.5\" y=\"-7.8\" font-family=\"Helvetica,sans-Serif\" font-size=\"14.00\" fill=\"#000000\">value = 22.762</text>\n</g>\n<!-- 4&#45;&gt;5 -->\n<g id=\"edge5\" class=\"edge\">\n<title>4&#45;&gt;5</title>\n<path fill=\"none\" stroke=\"#000000\" d=\"M458.5,-88.9777C458.5,-80.7364 458.5,-71.887 458.5,-63.5153\"/>\n<polygon fill=\"#000000\" stroke=\"#000000\" points=\"462.0001,-63.2484 458.5,-53.2485 455.0001,-63.2485 462.0001,-63.2484\"/>\n</g>\n<!-- 6 -->\n<g id=\"node7\" class=\"node\">\n<title>6</title>\n<polygon fill=\"#e58139\" stroke=\"#000000\" points=\"730,-53 561,-53 561,0 730,0 730,-53\"/>\n<text text-anchor=\"middle\" x=\"645.5\" y=\"-37.8\" font-family=\"Helvetica,sans-Serif\" font-size=\"14.00\" fill=\"#000000\">squared_error = 32.445</text>\n<text text-anchor=\"middle\" x=\"645.5\" y=\"-22.8\" font-family=\"Helvetica,sans-Serif\" font-size=\"14.00\" fill=\"#000000\">samples = 21</text>\n<text text-anchor=\"middle\" x=\"645.5\" y=\"-7.8\" font-family=\"Helvetica,sans-Serif\" font-size=\"14.00\" fill=\"#000000\">value = 31.29</text>\n</g>\n<!-- 4&#45;&gt;6 -->\n<g id=\"edge6\" class=\"edge\">\n<title>4&#45;&gt;6</title>\n<path fill=\"none\" stroke=\"#000000\" d=\"M524.4292,-88.9777C544.1278,-78.8124 565.6194,-67.7218 584.9549,-57.7439\"/>\n<polygon fill=\"#000000\" stroke=\"#000000\" points=\"586.682,-60.7912 593.9635,-53.095 583.4719,-54.5706 586.682,-60.7912\"/>\n</g>\n</g>\n</svg>\n"
          },
          "metadata": {}
        }
      ]
    },
    {
      "cell_type": "code",
      "source": [
        "# 나무구조 시각화 : min_samples_leaf = 8, min_samples_split = 20, max_depth = 4\n",
        "\n",
        "v_feature_name = df_train_x.columns\n",
        "\n",
        "tree_graph = DecisionTreeRegressor(random_state = 1234,\n",
        "                                   min_samples_leaf = 8,\n",
        "                                   min_samples_split = 20,\n",
        "                                   max_depth = 4)\n",
        "tree_graph.fit(df_train_x, df_train_y)\n",
        "export_graphviz(tree_graph, out_file = 'tree_depth.dot',\n",
        "                feature_names = v_feature_name, impurity = True, filled = True)\n",
        "\n",
        "with open('tree_leaf.dot') as f :\n",
        "    dot_graph = f.read()\n",
        "    display(graphviz.Source(dot_graph))"
      ],
      "metadata": {
        "id": "ySmDZ90L4tEl",
        "outputId": "de5d0f2f-4b5a-4d9e-d803-98aec11dbb7b",
        "colab": {
          "base_uri": "https://localhost:8080/",
          "height": 676
        }
      },
      "execution_count": 67,
      "outputs": [
        {
          "output_type": "display_data",
          "data": {
            "text/plain": [
              "<graphviz.files.Source at 0x7fccd8f1bbd0>"
            ],
            "image/svg+xml": "<?xml version=\"1.0\" encoding=\"UTF-8\" standalone=\"no\"?>\n<!DOCTYPE svg PUBLIC \"-//W3C//DTD SVG 1.1//EN\"\n \"http://www.w3.org/Graphics/SVG/1.1/DTD/svg11.dtd\">\n<!-- Generated by graphviz version 2.40.1 (20161225.0304)\n -->\n<!-- Title: Tree Pages: 1 -->\n<svg width=\"1577pt\" height=\"477pt\"\n viewBox=\"0.00 0.00 1577.00 477.00\" xmlns=\"http://www.w3.org/2000/svg\" xmlns:xlink=\"http://www.w3.org/1999/xlink\">\n<g id=\"graph0\" class=\"graph\" transform=\"scale(1 1) rotate(0) translate(4 473)\">\n<title>Tree</title>\n<polygon fill=\"#ffffff\" stroke=\"transparent\" points=\"-4,4 -4,-473 1573,-473 1573,4 -4,4\"/>\n<!-- 0 -->\n<g id=\"node1\" class=\"node\">\n<title>0</title>\n<polygon fill=\"#f3c7a7\" stroke=\"#000000\" points=\"914,-469 745,-469 745,-401 914,-401 914,-469\"/>\n<text text-anchor=\"middle\" x=\"829.5\" y=\"-453.8\" font-family=\"Helvetica,sans-Serif\" font-size=\"14.00\" fill=\"#000000\">ABDOMEN &lt;= 91.3</text>\n<text text-anchor=\"middle\" x=\"829.5\" y=\"-438.8\" font-family=\"Helvetica,sans-Serif\" font-size=\"14.00\" fill=\"#000000\">squared_error = 70.379</text>\n<text text-anchor=\"middle\" x=\"829.5\" y=\"-423.8\" font-family=\"Helvetica,sans-Serif\" font-size=\"14.00\" fill=\"#000000\">samples = 176</text>\n<text text-anchor=\"middle\" x=\"829.5\" y=\"-408.8\" font-family=\"Helvetica,sans-Serif\" font-size=\"14.00\" fill=\"#000000\">value = 18.676</text>\n</g>\n<!-- 1 -->\n<g id=\"node2\" class=\"node\">\n<title>1</title>\n<polygon fill=\"#f8dfcc\" stroke=\"#000000\" points=\"727,-365 558,-365 558,-297 727,-297 727,-365\"/>\n<text text-anchor=\"middle\" x=\"642.5\" y=\"-349.8\" font-family=\"Helvetica,sans-Serif\" font-size=\"14.00\" fill=\"#000000\">ABDOMEN &lt;= 85.45</text>\n<text text-anchor=\"middle\" x=\"642.5\" y=\"-334.8\" font-family=\"Helvetica,sans-Serif\" font-size=\"14.00\" fill=\"#000000\">squared_error = 31.841</text>\n<text text-anchor=\"middle\" x=\"642.5\" y=\"-319.8\" font-family=\"Helvetica,sans-Serif\" font-size=\"14.00\" fill=\"#000000\">samples = 90</text>\n<text text-anchor=\"middle\" x=\"642.5\" y=\"-304.8\" font-family=\"Helvetica,sans-Serif\" font-size=\"14.00\" fill=\"#000000\">value = 12.782</text>\n</g>\n<!-- 0&#45;&gt;1 -->\n<g id=\"edge1\" class=\"edge\">\n<title>0&#45;&gt;1</title>\n<path fill=\"none\" stroke=\"#000000\" d=\"M768.2692,-400.9465C750.5107,-391.0701 730.982,-380.2093 712.7189,-370.0522\"/>\n<polygon fill=\"#000000\" stroke=\"#000000\" points=\"714.3089,-366.9317 703.8684,-365.13 710.9066,-373.0492 714.3089,-366.9317\"/>\n<text text-anchor=\"middle\" x=\"710.7255\" y=\"-385.4712\" font-family=\"Helvetica,sans-Serif\" font-size=\"14.00\" fill=\"#000000\">True</text>\n</g>\n<!-- 12 -->\n<g id=\"node13\" class=\"node\">\n<title>12</title>\n<polygon fill=\"#eeae7f\" stroke=\"#000000\" points=\"1101,-365 932,-365 932,-297 1101,-297 1101,-365\"/>\n<text text-anchor=\"middle\" x=\"1016.5\" y=\"-349.8\" font-family=\"Helvetica,sans-Serif\" font-size=\"14.00\" fill=\"#000000\">ABDOMEN &lt;= 104.9</text>\n<text text-anchor=\"middle\" x=\"1016.5\" y=\"-334.8\" font-family=\"Helvetica,sans-Serif\" font-size=\"14.00\" fill=\"#000000\">squared_error = 36.311</text>\n<text text-anchor=\"middle\" x=\"1016.5\" y=\"-319.8\" font-family=\"Helvetica,sans-Serif\" font-size=\"14.00\" fill=\"#000000\">samples = 86</text>\n<text text-anchor=\"middle\" x=\"1016.5\" y=\"-304.8\" font-family=\"Helvetica,sans-Serif\" font-size=\"14.00\" fill=\"#000000\">value = 24.844</text>\n</g>\n<!-- 0&#45;&gt;12 -->\n<g id=\"edge12\" class=\"edge\">\n<title>0&#45;&gt;12</title>\n<path fill=\"none\" stroke=\"#000000\" d=\"M890.7308,-400.9465C908.4893,-391.0701 928.018,-380.2093 946.2811,-370.0522\"/>\n<polygon fill=\"#000000\" stroke=\"#000000\" points=\"948.0934,-373.0492 955.1316,-365.13 944.6911,-366.9317 948.0934,-373.0492\"/>\n<text text-anchor=\"middle\" x=\"948.2745\" y=\"-385.4712\" font-family=\"Helvetica,sans-Serif\" font-size=\"14.00\" fill=\"#000000\">False</text>\n</g>\n<!-- 2 -->\n<g id=\"node3\" class=\"node\">\n<title>2</title>\n<polygon fill=\"#fbeade\" stroke=\"#000000\" points=\"447,-261 278,-261 278,-193 447,-193 447,-261\"/>\n<text text-anchor=\"middle\" x=\"362.5\" y=\"-245.8\" font-family=\"Helvetica,sans-Serif\" font-size=\"14.00\" fill=\"#000000\">AGE &lt;= 42.5</text>\n<text text-anchor=\"middle\" x=\"362.5\" y=\"-230.8\" font-family=\"Helvetica,sans-Serif\" font-size=\"14.00\" fill=\"#000000\">squared_error = 21.668</text>\n<text text-anchor=\"middle\" x=\"362.5\" y=\"-215.8\" font-family=\"Helvetica,sans-Serif\" font-size=\"14.00\" fill=\"#000000\">samples = 50</text>\n<text text-anchor=\"middle\" x=\"362.5\" y=\"-200.8\" font-family=\"Helvetica,sans-Serif\" font-size=\"14.00\" fill=\"#000000\">value = 10.014</text>\n</g>\n<!-- 1&#45;&gt;2 -->\n<g id=\"edge2\" class=\"edge\">\n<title>1&#45;&gt;2</title>\n<path fill=\"none\" stroke=\"#000000\" d=\"M557.7309,-299.5143C525.9408,-287.7066 489.6258,-274.2182 457.0074,-262.1027\"/>\n<polygon fill=\"#000000\" stroke=\"#000000\" points=\"458.0567,-258.7589 447.4638,-258.558 455.6194,-265.3209 458.0567,-258.7589\"/>\n</g>\n<!-- 7 -->\n<g id=\"node8\" class=\"node\">\n<title>7</title>\n<polygon fill=\"#f5d1b6\" stroke=\"#000000\" points=\"727,-261 558,-261 558,-193 727,-193 727,-261\"/>\n<text text-anchor=\"middle\" x=\"642.5\" y=\"-245.8\" font-family=\"Helvetica,sans-Serif\" font-size=\"14.00\" fill=\"#000000\">NECK &lt;= 36.85</text>\n<text text-anchor=\"middle\" x=\"642.5\" y=\"-230.8\" font-family=\"Helvetica,sans-Serif\" font-size=\"14.00\" fill=\"#000000\">squared_error = 23.004</text>\n<text text-anchor=\"middle\" x=\"642.5\" y=\"-215.8\" font-family=\"Helvetica,sans-Serif\" font-size=\"14.00\" fill=\"#000000\">samples = 40</text>\n<text text-anchor=\"middle\" x=\"642.5\" y=\"-200.8\" font-family=\"Helvetica,sans-Serif\" font-size=\"14.00\" fill=\"#000000\">value = 16.242</text>\n</g>\n<!-- 1&#45;&gt;7 -->\n<g id=\"edge7\" class=\"edge\">\n<title>1&#45;&gt;7</title>\n<path fill=\"none\" stroke=\"#000000\" d=\"M642.5,-296.9465C642.5,-288.776 642.5,-279.9318 642.5,-271.3697\"/>\n<polygon fill=\"#000000\" stroke=\"#000000\" points=\"646.0001,-271.13 642.5,-261.13 639.0001,-271.13 646.0001,-271.13\"/>\n</g>\n<!-- 3 -->\n<g id=\"node4\" class=\"node\">\n<title>3</title>\n<polygon fill=\"#fcf0e7\" stroke=\"#000000\" points=\"260,-157 91,-157 91,-89 260,-89 260,-157\"/>\n<text text-anchor=\"middle\" x=\"175.5\" y=\"-141.8\" font-family=\"Helvetica,sans-Serif\" font-size=\"14.00\" fill=\"#000000\">THIGH &lt;= 52.15</text>\n<text text-anchor=\"middle\" x=\"175.5\" y=\"-126.8\" font-family=\"Helvetica,sans-Serif\" font-size=\"14.00\" fill=\"#000000\">squared_error = 18.586</text>\n<text text-anchor=\"middle\" x=\"175.5\" y=\"-111.8\" font-family=\"Helvetica,sans-Serif\" font-size=\"14.00\" fill=\"#000000\">samples = 32</text>\n<text text-anchor=\"middle\" x=\"175.5\" y=\"-96.8\" font-family=\"Helvetica,sans-Serif\" font-size=\"14.00\" fill=\"#000000\">value = 8.584</text>\n</g>\n<!-- 2&#45;&gt;3 -->\n<g id=\"edge3\" class=\"edge\">\n<title>2&#45;&gt;3</title>\n<path fill=\"none\" stroke=\"#000000\" d=\"M301.2692,-192.9465C283.5107,-183.0701 263.982,-172.2093 245.7189,-162.0522\"/>\n<polygon fill=\"#000000\" stroke=\"#000000\" points=\"247.3089,-158.9317 236.8684,-157.13 243.9066,-165.0492 247.3089,-158.9317\"/>\n</g>\n<!-- 6 -->\n<g id=\"node7\" class=\"node\">\n<title>6</title>\n<polygon fill=\"#f9e0ce\" stroke=\"#000000\" points=\"447,-149.5 278,-149.5 278,-96.5 447,-96.5 447,-149.5\"/>\n<text text-anchor=\"middle\" x=\"362.5\" y=\"-134.3\" font-family=\"Helvetica,sans-Serif\" font-size=\"14.00\" fill=\"#000000\">squared_error = 17.054</text>\n<text text-anchor=\"middle\" x=\"362.5\" y=\"-119.3\" font-family=\"Helvetica,sans-Serif\" font-size=\"14.00\" fill=\"#000000\">samples = 18</text>\n<text text-anchor=\"middle\" x=\"362.5\" y=\"-104.3\" font-family=\"Helvetica,sans-Serif\" font-size=\"14.00\" fill=\"#000000\">value = 12.556</text>\n</g>\n<!-- 2&#45;&gt;6 -->\n<g id=\"edge6\" class=\"edge\">\n<title>2&#45;&gt;6</title>\n<path fill=\"none\" stroke=\"#000000\" d=\"M362.5,-192.9465C362.5,-182.2621 362.5,-170.4254 362.5,-159.5742\"/>\n<polygon fill=\"#000000\" stroke=\"#000000\" points=\"366.0001,-159.5421 362.5,-149.5422 359.0001,-159.5422 366.0001,-159.5421\"/>\n</g>\n<!-- 4 -->\n<g id=\"node5\" class=\"node\">\n<title>4</title>\n<polygon fill=\"#ffffff\" stroke=\"#000000\" points=\"169,-53 0,-53 0,0 169,0 169,-53\"/>\n<text text-anchor=\"middle\" x=\"84.5\" y=\"-37.8\" font-family=\"Helvetica,sans-Serif\" font-size=\"14.00\" fill=\"#000000\">squared_error = 10.761</text>\n<text text-anchor=\"middle\" x=\"84.5\" y=\"-22.8\" font-family=\"Helvetica,sans-Serif\" font-size=\"14.00\" fill=\"#000000\">samples = 8</text>\n<text text-anchor=\"middle\" x=\"84.5\" y=\"-7.8\" font-family=\"Helvetica,sans-Serif\" font-size=\"14.00\" fill=\"#000000\">value = 4.887</text>\n</g>\n<!-- 3&#45;&gt;4 -->\n<g id=\"edge4\" class=\"edge\">\n<title>3&#45;&gt;4</title>\n<path fill=\"none\" stroke=\"#000000\" d=\"M143.4168,-88.9777C134.7817,-79.8207 125.4386,-69.9129 116.7922,-60.744\"/>\n<polygon fill=\"#000000\" stroke=\"#000000\" points=\"119.1311,-58.1226 109.724,-53.2485 114.0383,-62.9251 119.1311,-58.1226\"/>\n</g>\n<!-- 5 -->\n<g id=\"node6\" class=\"node\">\n<title>5</title>\n<polygon fill=\"#fbebdf\" stroke=\"#000000\" points=\"348,-53 187,-53 187,0 348,0 348,-53\"/>\n<text text-anchor=\"middle\" x=\"267.5\" y=\"-37.8\" font-family=\"Helvetica,sans-Serif\" font-size=\"14.00\" fill=\"#000000\">squared_error = 15.12</text>\n<text text-anchor=\"middle\" x=\"267.5\" y=\"-22.8\" font-family=\"Helvetica,sans-Serif\" font-size=\"14.00\" fill=\"#000000\">samples = 24</text>\n<text text-anchor=\"middle\" x=\"267.5\" y=\"-7.8\" font-family=\"Helvetica,sans-Serif\" font-size=\"14.00\" fill=\"#000000\">value = 9.817</text>\n</g>\n<!-- 3&#45;&gt;5 -->\n<g id=\"edge5\" class=\"edge\">\n<title>3&#45;&gt;5</title>\n<path fill=\"none\" stroke=\"#000000\" d=\"M207.9358,-88.9777C216.6657,-79.8207 226.1115,-69.9129 234.8529,-60.744\"/>\n<polygon fill=\"#000000\" stroke=\"#000000\" points=\"237.6318,-62.9014 241.9989,-53.2485 232.5653,-58.0712 237.6318,-62.9014\"/>\n</g>\n<!-- 8 -->\n<g id=\"node9\" class=\"node\">\n<title>8</title>\n<polygon fill=\"#f2c29f\" stroke=\"#000000\" points=\"634,-149.5 465,-149.5 465,-96.5 634,-96.5 634,-149.5\"/>\n<text text-anchor=\"middle\" x=\"549.5\" y=\"-134.3\" font-family=\"Helvetica,sans-Serif\" font-size=\"14.00\" fill=\"#000000\">squared_error = 15.087</text>\n<text text-anchor=\"middle\" x=\"549.5\" y=\"-119.3\" font-family=\"Helvetica,sans-Serif\" font-size=\"14.00\" fill=\"#000000\">samples = 13</text>\n<text text-anchor=\"middle\" x=\"549.5\" y=\"-104.3\" font-family=\"Helvetica,sans-Serif\" font-size=\"14.00\" fill=\"#000000\">value = 19.862</text>\n</g>\n<!-- 7&#45;&gt;8 -->\n<g id=\"edge8\" class=\"edge\">\n<title>7&#45;&gt;8</title>\n<path fill=\"none\" stroke=\"#000000\" d=\"M612.0483,-192.9465C601.8045,-181.491 590.3762,-168.711 580.1195,-157.2412\"/>\n<polygon fill=\"#000000\" stroke=\"#000000\" points=\"582.5097,-154.6634 573.2348,-149.5422 577.2917,-159.3295 582.5097,-154.6634\"/>\n</g>\n<!-- 9 -->\n<g id=\"node10\" class=\"node\">\n<title>9</title>\n<polygon fill=\"#f7d8c2\" stroke=\"#000000\" points=\"821,-157 652,-157 652,-89 821,-89 821,-157\"/>\n<text text-anchor=\"middle\" x=\"736.5\" y=\"-141.8\" font-family=\"Helvetica,sans-Serif\" font-size=\"14.00\" fill=\"#000000\">THIGH &lt;= 59.45</text>\n<text text-anchor=\"middle\" x=\"736.5\" y=\"-126.8\" font-family=\"Helvetica,sans-Serif\" font-size=\"14.00\" fill=\"#000000\">squared_error = 17.474</text>\n<text text-anchor=\"middle\" x=\"736.5\" y=\"-111.8\" font-family=\"Helvetica,sans-Serif\" font-size=\"14.00\" fill=\"#000000\">samples = 27</text>\n<text text-anchor=\"middle\" x=\"736.5\" y=\"-96.8\" font-family=\"Helvetica,sans-Serif\" font-size=\"14.00\" fill=\"#000000\">value = 14.5</text>\n</g>\n<!-- 7&#45;&gt;9 -->\n<g id=\"edge9\" class=\"edge\">\n<title>7&#45;&gt;9</title>\n<path fill=\"none\" stroke=\"#000000\" d=\"M673.2791,-192.9465C681.4755,-183.8782 690.422,-173.9799 698.9375,-164.5585\"/>\n<polygon fill=\"#000000\" stroke=\"#000000\" points=\"701.5429,-166.8957 705.6517,-157.13 696.3497,-162.2019 701.5429,-166.8957\"/>\n</g>\n<!-- 10 -->\n<g id=\"node11\" class=\"node\">\n<title>10</title>\n<polygon fill=\"#f5cfb4\" stroke=\"#000000\" points=\"636,-53 475,-53 475,0 636,0 636,-53\"/>\n<text text-anchor=\"middle\" x=\"555.5\" y=\"-37.8\" font-family=\"Helvetica,sans-Serif\" font-size=\"14.00\" fill=\"#000000\">squared_error = 9.595</text>\n<text text-anchor=\"middle\" x=\"555.5\" y=\"-22.8\" font-family=\"Helvetica,sans-Serif\" font-size=\"14.00\" fill=\"#000000\">samples = 16</text>\n<text text-anchor=\"middle\" x=\"555.5\" y=\"-7.8\" font-family=\"Helvetica,sans-Serif\" font-size=\"14.00\" fill=\"#000000\">value = 16.562</text>\n</g>\n<!-- 9&#45;&gt;10 -->\n<g id=\"edge10\" class=\"edge\">\n<title>9&#45;&gt;10</title>\n<path fill=\"none\" stroke=\"#000000\" d=\"M672.6862,-88.9777C653.7059,-78.8584 633.0058,-67.8222 614.3567,-57.8794\"/>\n<polygon fill=\"#000000\" stroke=\"#000000\" points=\"615.8538,-54.7112 605.3829,-53.095 612.5605,-60.8882 615.8538,-54.7112\"/>\n</g>\n<!-- 11 -->\n<g id=\"node12\" class=\"node\">\n<title>11</title>\n<polygon fill=\"#f9e4d5\" stroke=\"#000000\" points=\"823,-53 654,-53 654,0 823,0 823,-53\"/>\n<text text-anchor=\"middle\" x=\"738.5\" y=\"-37.8\" font-family=\"Helvetica,sans-Serif\" font-size=\"14.00\" fill=\"#000000\">squared_error = 13.747</text>\n<text text-anchor=\"middle\" x=\"738.5\" y=\"-22.8\" font-family=\"Helvetica,sans-Serif\" font-size=\"14.00\" fill=\"#000000\">samples = 11</text>\n<text text-anchor=\"middle\" x=\"738.5\" y=\"-7.8\" font-family=\"Helvetica,sans-Serif\" font-size=\"14.00\" fill=\"#000000\">value = 11.5</text>\n</g>\n<!-- 9&#45;&gt;11 -->\n<g id=\"edge11\" class=\"edge\">\n<title>9&#45;&gt;11</title>\n<path fill=\"none\" stroke=\"#000000\" d=\"M737.2051,-88.9777C737.3759,-80.7364 737.5593,-71.887 737.7328,-63.5153\"/>\n<polygon fill=\"#000000\" stroke=\"#000000\" points=\"741.2376,-63.3189 737.9456,-53.2485 734.2391,-63.1738 741.2376,-63.3189\"/>\n</g>\n<!-- 13 -->\n<g id=\"node14\" class=\"node\">\n<title>13</title>\n<polygon fill=\"#f0b68d\" stroke=\"#000000\" points=\"1101,-261 932,-261 932,-193 1101,-193 1101,-261\"/>\n<text text-anchor=\"middle\" x=\"1016.5\" y=\"-245.8\" font-family=\"Helvetica,sans-Serif\" font-size=\"14.00\" fill=\"#000000\">HEIGHT &lt;= 68.375</text>\n<text text-anchor=\"middle\" x=\"1016.5\" y=\"-230.8\" font-family=\"Helvetica,sans-Serif\" font-size=\"14.00\" fill=\"#000000\">squared_error = 19.797</text>\n<text text-anchor=\"middle\" x=\"1016.5\" y=\"-215.8\" font-family=\"Helvetica,sans-Serif\" font-size=\"14.00\" fill=\"#000000\">samples = 65</text>\n<text text-anchor=\"middle\" x=\"1016.5\" y=\"-200.8\" font-family=\"Helvetica,sans-Serif\" font-size=\"14.00\" fill=\"#000000\">value = 22.762</text>\n</g>\n<!-- 12&#45;&gt;13 -->\n<g id=\"edge13\" class=\"edge\">\n<title>12&#45;&gt;13</title>\n<path fill=\"none\" stroke=\"#000000\" d=\"M1016.5,-296.9465C1016.5,-288.776 1016.5,-279.9318 1016.5,-271.3697\"/>\n<polygon fill=\"#000000\" stroke=\"#000000\" points=\"1020.0001,-271.13 1016.5,-261.13 1013.0001,-271.13 1020.0001,-271.13\"/>\n</g>\n<!-- 18 -->\n<g id=\"node19\" class=\"node\">\n<title>18</title>\n<polygon fill=\"#e99456\" stroke=\"#000000\" points=\"1382,-261 1213,-261 1213,-193 1382,-193 1382,-261\"/>\n<text text-anchor=\"middle\" x=\"1297.5\" y=\"-245.8\" font-family=\"Helvetica,sans-Serif\" font-size=\"14.00\" fill=\"#000000\">ABDOMEN &lt;= 112.3</text>\n<text text-anchor=\"middle\" x=\"1297.5\" y=\"-230.8\" font-family=\"Helvetica,sans-Serif\" font-size=\"14.00\" fill=\"#000000\">squared_error = 32.445</text>\n<text text-anchor=\"middle\" x=\"1297.5\" y=\"-215.8\" font-family=\"Helvetica,sans-Serif\" font-size=\"14.00\" fill=\"#000000\">samples = 21</text>\n<text text-anchor=\"middle\" x=\"1297.5\" y=\"-200.8\" font-family=\"Helvetica,sans-Serif\" font-size=\"14.00\" fill=\"#000000\">value = 31.29</text>\n</g>\n<!-- 12&#45;&gt;18 -->\n<g id=\"edge18\" class=\"edge\">\n<title>12&#45;&gt;18</title>\n<path fill=\"none\" stroke=\"#000000\" d=\"M1101.1903,-299.6555C1133.4008,-287.7342 1170.2843,-274.0834 1203.3205,-261.8565\"/>\n<polygon fill=\"#000000\" stroke=\"#000000\" points=\"1204.8197,-265.0337 1212.9831,-258.2803 1202.39,-258.4689 1204.8197,-265.0337\"/>\n</g>\n<!-- 14 -->\n<g id=\"node15\" class=\"node\">\n<title>14</title>\n<polygon fill=\"#eda979\" stroke=\"#000000\" points=\"1008,-149.5 839,-149.5 839,-96.5 1008,-96.5 1008,-149.5\"/>\n<text text-anchor=\"middle\" x=\"923.5\" y=\"-134.3\" font-family=\"Helvetica,sans-Serif\" font-size=\"14.00\" fill=\"#000000\">squared_error = 17.965</text>\n<text text-anchor=\"middle\" x=\"923.5\" y=\"-119.3\" font-family=\"Helvetica,sans-Serif\" font-size=\"14.00\" fill=\"#000000\">samples = 13</text>\n<text text-anchor=\"middle\" x=\"923.5\" y=\"-104.3\" font-family=\"Helvetica,sans-Serif\" font-size=\"14.00\" fill=\"#000000\">value = 25.908</text>\n</g>\n<!-- 13&#45;&gt;14 -->\n<g id=\"edge14\" class=\"edge\">\n<title>13&#45;&gt;14</title>\n<path fill=\"none\" stroke=\"#000000\" d=\"M986.0483,-192.9465C975.8045,-181.491 964.3762,-168.711 954.1195,-157.2412\"/>\n<polygon fill=\"#000000\" stroke=\"#000000\" points=\"956.5097,-154.6634 947.2348,-149.5422 951.2917,-159.3295 956.5097,-154.6634\"/>\n</g>\n<!-- 15 -->\n<g id=\"node16\" class=\"node\">\n<title>15</title>\n<polygon fill=\"#f1b992\" stroke=\"#000000\" points=\"1195,-157 1026,-157 1026,-89 1195,-89 1195,-157\"/>\n<text text-anchor=\"middle\" x=\"1110.5\" y=\"-141.8\" font-family=\"Helvetica,sans-Serif\" font-size=\"14.00\" fill=\"#000000\">ANKLE &lt;= 24.65</text>\n<text text-anchor=\"middle\" x=\"1110.5\" y=\"-126.8\" font-family=\"Helvetica,sans-Serif\" font-size=\"14.00\" fill=\"#000000\">squared_error = 17.162</text>\n<text text-anchor=\"middle\" x=\"1110.5\" y=\"-111.8\" font-family=\"Helvetica,sans-Serif\" font-size=\"14.00\" fill=\"#000000\">samples = 52</text>\n<text text-anchor=\"middle\" x=\"1110.5\" y=\"-96.8\" font-family=\"Helvetica,sans-Serif\" font-size=\"14.00\" fill=\"#000000\">value = 21.975</text>\n</g>\n<!-- 13&#45;&gt;15 -->\n<g id=\"edge15\" class=\"edge\">\n<title>13&#45;&gt;15</title>\n<path fill=\"none\" stroke=\"#000000\" d=\"M1047.2791,-192.9465C1055.4755,-183.8782 1064.422,-173.9799 1072.9375,-164.5585\"/>\n<polygon fill=\"#000000\" stroke=\"#000000\" points=\"1075.5429,-166.8957 1079.6517,-157.13 1070.3497,-162.2019 1075.5429,-166.8957\"/>\n</g>\n<!-- 16 -->\n<g id=\"node17\" class=\"node\">\n<title>16</title>\n<polygon fill=\"#f0b68d\" stroke=\"#000000\" points=\"1103,-53 934,-53 934,0 1103,0 1103,-53\"/>\n<text text-anchor=\"middle\" x=\"1018.5\" y=\"-37.8\" font-family=\"Helvetica,sans-Serif\" font-size=\"14.00\" fill=\"#000000\">squared_error = 17.507</text>\n<text text-anchor=\"middle\" x=\"1018.5\" y=\"-22.8\" font-family=\"Helvetica,sans-Serif\" font-size=\"14.00\" fill=\"#000000\">samples = 41</text>\n<text text-anchor=\"middle\" x=\"1018.5\" y=\"-7.8\" font-family=\"Helvetica,sans-Serif\" font-size=\"14.00\" fill=\"#000000\">value = 22.729</text>\n</g>\n<!-- 15&#45;&gt;16 -->\n<g id=\"edge16\" class=\"edge\">\n<title>15&#45;&gt;16</title>\n<path fill=\"none\" stroke=\"#000000\" d=\"M1078.0642,-88.9777C1069.3343,-79.8207 1059.8885,-69.9129 1051.1471,-60.744\"/>\n<polygon fill=\"#000000\" stroke=\"#000000\" points=\"1053.4347,-58.0712 1044.0011,-53.2485 1048.3682,-62.9014 1053.4347,-58.0712\"/>\n</g>\n<!-- 17 -->\n<g id=\"node18\" class=\"node\">\n<title>17</title>\n<polygon fill=\"#f3c5a4\" stroke=\"#000000\" points=\"1282,-53 1121,-53 1121,0 1282,0 1282,-53\"/>\n<text text-anchor=\"middle\" x=\"1201.5\" y=\"-37.8\" font-family=\"Helvetica,sans-Serif\" font-size=\"14.00\" fill=\"#000000\">squared_error = 5.851</text>\n<text text-anchor=\"middle\" x=\"1201.5\" y=\"-22.8\" font-family=\"Helvetica,sans-Serif\" font-size=\"14.00\" fill=\"#000000\">samples = 11</text>\n<text text-anchor=\"middle\" x=\"1201.5\" y=\"-7.8\" font-family=\"Helvetica,sans-Serif\" font-size=\"14.00\" fill=\"#000000\">value = 19.164</text>\n</g>\n<!-- 15&#45;&gt;17 -->\n<g id=\"edge17\" class=\"edge\">\n<title>15&#45;&gt;17</title>\n<path fill=\"none\" stroke=\"#000000\" d=\"M1142.5832,-88.9777C1151.2183,-79.8207 1160.5614,-69.9129 1169.2078,-60.744\"/>\n<polygon fill=\"#000000\" stroke=\"#000000\" points=\"1171.9617,-62.9251 1176.276,-53.2485 1166.8689,-58.1226 1171.9617,-62.9251\"/>\n</g>\n<!-- 19 -->\n<g id=\"node20\" class=\"node\">\n<title>19</title>\n<polygon fill=\"#eb9f68\" stroke=\"#000000\" points=\"1382,-149.5 1213,-149.5 1213,-96.5 1382,-96.5 1382,-149.5\"/>\n<text text-anchor=\"middle\" x=\"1297.5\" y=\"-134.3\" font-family=\"Helvetica,sans-Serif\" font-size=\"14.00\" fill=\"#000000\">squared_error = 13.122</text>\n<text text-anchor=\"middle\" x=\"1297.5\" y=\"-119.3\" font-family=\"Helvetica,sans-Serif\" font-size=\"14.00\" fill=\"#000000\">samples = 13</text>\n<text text-anchor=\"middle\" x=\"1297.5\" y=\"-104.3\" font-family=\"Helvetica,sans-Serif\" font-size=\"14.00\" fill=\"#000000\">value = 28.492</text>\n</g>\n<!-- 18&#45;&gt;19 -->\n<g id=\"edge19\" class=\"edge\">\n<title>18&#45;&gt;19</title>\n<path fill=\"none\" stroke=\"#000000\" d=\"M1297.5,-192.9465C1297.5,-182.2621 1297.5,-170.4254 1297.5,-159.5742\"/>\n<polygon fill=\"#000000\" stroke=\"#000000\" points=\"1301.0001,-159.5421 1297.5,-149.5422 1294.0001,-159.5422 1301.0001,-159.5421\"/>\n</g>\n<!-- 20 -->\n<g id=\"node21\" class=\"node\">\n<title>20</title>\n<polygon fill=\"#e58139\" stroke=\"#000000\" points=\"1569,-149.5 1400,-149.5 1400,-96.5 1569,-96.5 1569,-149.5\"/>\n<text text-anchor=\"middle\" x=\"1484.5\" y=\"-134.3\" font-family=\"Helvetica,sans-Serif\" font-size=\"14.00\" fill=\"#000000\">squared_error = 30.445</text>\n<text text-anchor=\"middle\" x=\"1484.5\" y=\"-119.3\" font-family=\"Helvetica,sans-Serif\" font-size=\"14.00\" fill=\"#000000\">samples = 8</text>\n<text text-anchor=\"middle\" x=\"1484.5\" y=\"-104.3\" font-family=\"Helvetica,sans-Serif\" font-size=\"14.00\" fill=\"#000000\">value = 35.838</text>\n</g>\n<!-- 18&#45;&gt;20 -->\n<g id=\"edge20\" class=\"edge\">\n<title>18&#45;&gt;20</title>\n<path fill=\"none\" stroke=\"#000000\" d=\"M1358.7308,-192.9465C1381.0121,-180.5547 1406.0802,-166.6132 1427.9387,-154.4565\"/>\n<polygon fill=\"#000000\" stroke=\"#000000\" points=\"1429.7369,-157.4614 1436.7751,-149.5422 1426.3346,-151.3438 1429.7369,-157.4614\"/>\n</g>\n</g>\n</svg>\n"
          },
          "metadata": {}
        }
      ]
    },
    {
      "cell_type": "markdown",
      "source": [
        "### **최종 모델 선정**"
      ],
      "metadata": {
        "id": "o8VW1c3r7Wal"
      }
    },
    {
      "cell_type": "code",
      "source": [
        "tree_final = DecisionTreeRegressor(random_state =1234,\n",
        "                                   min_samples_leaf = 8,\n",
        "                                   min_samples_split = 20,\n",
        "                                   max_depth = 4)\n",
        "tree_final.fit(df_train_x, df_train_y)\n",
        "\n",
        "print('Score on training set : {:.3f}'.format(tree_final.score(df_train_x, df_train_y)))\n",
        "print('Score on test set : {:.3f}'.format(tree_final.score(df_test_x, df_test_y)))"
      ],
      "metadata": {
        "id": "l5XCxa3C4tHq",
        "outputId": "c3f45c5b-dd50-402b-d4fa-d83c653fe412",
        "colab": {
          "base_uri": "https://localhost:8080/"
        }
      },
      "execution_count": 68,
      "outputs": [
        {
          "output_type": "stream",
          "name": "stdout",
          "text": [
            "Score on training set : 0.783\n",
            "Score on test set : 0.570\n"
          ]
        }
      ]
    },
    {
      "cell_type": "code",
      "source": [
        "export_graphviz(tree_final, out_file = 'tree_final.dot',\n",
        "                feature_names = v_feature_name, impurity = True, filled = True)\n",
        "\n",
        "with open('tree_final.dot') as f :\n",
        "    dot_graph = f.read()\n",
        "    display(graphviz.Source(dot_graph))"
      ],
      "metadata": {
        "id": "m6oFwHw-4tKC",
        "outputId": "6f62fb91-9a5e-4baf-bba1-9eb860a45964",
        "colab": {
          "base_uri": "https://localhost:8080/",
          "height": 676
        }
      },
      "execution_count": 70,
      "outputs": [
        {
          "output_type": "display_data",
          "data": {
            "text/plain": [
              "<graphviz.files.Source at 0x7fccd8f1e3d0>"
            ],
            "image/svg+xml": "<?xml version=\"1.0\" encoding=\"UTF-8\" standalone=\"no\"?>\n<!DOCTYPE svg PUBLIC \"-//W3C//DTD SVG 1.1//EN\"\n \"http://www.w3.org/Graphics/SVG/1.1/DTD/svg11.dtd\">\n<!-- Generated by graphviz version 2.40.1 (20161225.0304)\n -->\n<!-- Title: Tree Pages: 1 -->\n<svg width=\"1577pt\" height=\"477pt\"\n viewBox=\"0.00 0.00 1577.00 477.00\" xmlns=\"http://www.w3.org/2000/svg\" xmlns:xlink=\"http://www.w3.org/1999/xlink\">\n<g id=\"graph0\" class=\"graph\" transform=\"scale(1 1) rotate(0) translate(4 473)\">\n<title>Tree</title>\n<polygon fill=\"#ffffff\" stroke=\"transparent\" points=\"-4,4 -4,-473 1573,-473 1573,4 -4,4\"/>\n<!-- 0 -->\n<g id=\"node1\" class=\"node\">\n<title>0</title>\n<polygon fill=\"#f3c7a7\" stroke=\"#000000\" points=\"914,-469 745,-469 745,-401 914,-401 914,-469\"/>\n<text text-anchor=\"middle\" x=\"829.5\" y=\"-453.8\" font-family=\"Helvetica,sans-Serif\" font-size=\"14.00\" fill=\"#000000\">ABDOMEN &lt;= 91.3</text>\n<text text-anchor=\"middle\" x=\"829.5\" y=\"-438.8\" font-family=\"Helvetica,sans-Serif\" font-size=\"14.00\" fill=\"#000000\">squared_error = 70.379</text>\n<text text-anchor=\"middle\" x=\"829.5\" y=\"-423.8\" font-family=\"Helvetica,sans-Serif\" font-size=\"14.00\" fill=\"#000000\">samples = 176</text>\n<text text-anchor=\"middle\" x=\"829.5\" y=\"-408.8\" font-family=\"Helvetica,sans-Serif\" font-size=\"14.00\" fill=\"#000000\">value = 18.676</text>\n</g>\n<!-- 1 -->\n<g id=\"node2\" class=\"node\">\n<title>1</title>\n<polygon fill=\"#f8dfcc\" stroke=\"#000000\" points=\"727,-365 558,-365 558,-297 727,-297 727,-365\"/>\n<text text-anchor=\"middle\" x=\"642.5\" y=\"-349.8\" font-family=\"Helvetica,sans-Serif\" font-size=\"14.00\" fill=\"#000000\">ABDOMEN &lt;= 85.45</text>\n<text text-anchor=\"middle\" x=\"642.5\" y=\"-334.8\" font-family=\"Helvetica,sans-Serif\" font-size=\"14.00\" fill=\"#000000\">squared_error = 31.841</text>\n<text text-anchor=\"middle\" x=\"642.5\" y=\"-319.8\" font-family=\"Helvetica,sans-Serif\" font-size=\"14.00\" fill=\"#000000\">samples = 90</text>\n<text text-anchor=\"middle\" x=\"642.5\" y=\"-304.8\" font-family=\"Helvetica,sans-Serif\" font-size=\"14.00\" fill=\"#000000\">value = 12.782</text>\n</g>\n<!-- 0&#45;&gt;1 -->\n<g id=\"edge1\" class=\"edge\">\n<title>0&#45;&gt;1</title>\n<path fill=\"none\" stroke=\"#000000\" d=\"M768.2692,-400.9465C750.5107,-391.0701 730.982,-380.2093 712.7189,-370.0522\"/>\n<polygon fill=\"#000000\" stroke=\"#000000\" points=\"714.3089,-366.9317 703.8684,-365.13 710.9066,-373.0492 714.3089,-366.9317\"/>\n<text text-anchor=\"middle\" x=\"710.7255\" y=\"-385.4712\" font-family=\"Helvetica,sans-Serif\" font-size=\"14.00\" fill=\"#000000\">True</text>\n</g>\n<!-- 12 -->\n<g id=\"node13\" class=\"node\">\n<title>12</title>\n<polygon fill=\"#eeae7f\" stroke=\"#000000\" points=\"1101,-365 932,-365 932,-297 1101,-297 1101,-365\"/>\n<text text-anchor=\"middle\" x=\"1016.5\" y=\"-349.8\" font-family=\"Helvetica,sans-Serif\" font-size=\"14.00\" fill=\"#000000\">ABDOMEN &lt;= 104.9</text>\n<text text-anchor=\"middle\" x=\"1016.5\" y=\"-334.8\" font-family=\"Helvetica,sans-Serif\" font-size=\"14.00\" fill=\"#000000\">squared_error = 36.311</text>\n<text text-anchor=\"middle\" x=\"1016.5\" y=\"-319.8\" font-family=\"Helvetica,sans-Serif\" font-size=\"14.00\" fill=\"#000000\">samples = 86</text>\n<text text-anchor=\"middle\" x=\"1016.5\" y=\"-304.8\" font-family=\"Helvetica,sans-Serif\" font-size=\"14.00\" fill=\"#000000\">value = 24.844</text>\n</g>\n<!-- 0&#45;&gt;12 -->\n<g id=\"edge12\" class=\"edge\">\n<title>0&#45;&gt;12</title>\n<path fill=\"none\" stroke=\"#000000\" d=\"M890.7308,-400.9465C908.4893,-391.0701 928.018,-380.2093 946.2811,-370.0522\"/>\n<polygon fill=\"#000000\" stroke=\"#000000\" points=\"948.0934,-373.0492 955.1316,-365.13 944.6911,-366.9317 948.0934,-373.0492\"/>\n<text text-anchor=\"middle\" x=\"948.2745\" y=\"-385.4712\" font-family=\"Helvetica,sans-Serif\" font-size=\"14.00\" fill=\"#000000\">False</text>\n</g>\n<!-- 2 -->\n<g id=\"node3\" class=\"node\">\n<title>2</title>\n<polygon fill=\"#fbeade\" stroke=\"#000000\" points=\"447,-261 278,-261 278,-193 447,-193 447,-261\"/>\n<text text-anchor=\"middle\" x=\"362.5\" y=\"-245.8\" font-family=\"Helvetica,sans-Serif\" font-size=\"14.00\" fill=\"#000000\">AGE &lt;= 42.5</text>\n<text text-anchor=\"middle\" x=\"362.5\" y=\"-230.8\" font-family=\"Helvetica,sans-Serif\" font-size=\"14.00\" fill=\"#000000\">squared_error = 21.668</text>\n<text text-anchor=\"middle\" x=\"362.5\" y=\"-215.8\" font-family=\"Helvetica,sans-Serif\" font-size=\"14.00\" fill=\"#000000\">samples = 50</text>\n<text text-anchor=\"middle\" x=\"362.5\" y=\"-200.8\" font-family=\"Helvetica,sans-Serif\" font-size=\"14.00\" fill=\"#000000\">value = 10.014</text>\n</g>\n<!-- 1&#45;&gt;2 -->\n<g id=\"edge2\" class=\"edge\">\n<title>1&#45;&gt;2</title>\n<path fill=\"none\" stroke=\"#000000\" d=\"M557.7309,-299.5143C525.9408,-287.7066 489.6258,-274.2182 457.0074,-262.1027\"/>\n<polygon fill=\"#000000\" stroke=\"#000000\" points=\"458.0567,-258.7589 447.4638,-258.558 455.6194,-265.3209 458.0567,-258.7589\"/>\n</g>\n<!-- 7 -->\n<g id=\"node8\" class=\"node\">\n<title>7</title>\n<polygon fill=\"#f5d1b6\" stroke=\"#000000\" points=\"727,-261 558,-261 558,-193 727,-193 727,-261\"/>\n<text text-anchor=\"middle\" x=\"642.5\" y=\"-245.8\" font-family=\"Helvetica,sans-Serif\" font-size=\"14.00\" fill=\"#000000\">NECK &lt;= 36.85</text>\n<text text-anchor=\"middle\" x=\"642.5\" y=\"-230.8\" font-family=\"Helvetica,sans-Serif\" font-size=\"14.00\" fill=\"#000000\">squared_error = 23.004</text>\n<text text-anchor=\"middle\" x=\"642.5\" y=\"-215.8\" font-family=\"Helvetica,sans-Serif\" font-size=\"14.00\" fill=\"#000000\">samples = 40</text>\n<text text-anchor=\"middle\" x=\"642.5\" y=\"-200.8\" font-family=\"Helvetica,sans-Serif\" font-size=\"14.00\" fill=\"#000000\">value = 16.242</text>\n</g>\n<!-- 1&#45;&gt;7 -->\n<g id=\"edge7\" class=\"edge\">\n<title>1&#45;&gt;7</title>\n<path fill=\"none\" stroke=\"#000000\" d=\"M642.5,-296.9465C642.5,-288.776 642.5,-279.9318 642.5,-271.3697\"/>\n<polygon fill=\"#000000\" stroke=\"#000000\" points=\"646.0001,-271.13 642.5,-261.13 639.0001,-271.13 646.0001,-271.13\"/>\n</g>\n<!-- 3 -->\n<g id=\"node4\" class=\"node\">\n<title>3</title>\n<polygon fill=\"#fcf0e7\" stroke=\"#000000\" points=\"260,-157 91,-157 91,-89 260,-89 260,-157\"/>\n<text text-anchor=\"middle\" x=\"175.5\" y=\"-141.8\" font-family=\"Helvetica,sans-Serif\" font-size=\"14.00\" fill=\"#000000\">THIGH &lt;= 52.15</text>\n<text text-anchor=\"middle\" x=\"175.5\" y=\"-126.8\" font-family=\"Helvetica,sans-Serif\" font-size=\"14.00\" fill=\"#000000\">squared_error = 18.586</text>\n<text text-anchor=\"middle\" x=\"175.5\" y=\"-111.8\" font-family=\"Helvetica,sans-Serif\" font-size=\"14.00\" fill=\"#000000\">samples = 32</text>\n<text text-anchor=\"middle\" x=\"175.5\" y=\"-96.8\" font-family=\"Helvetica,sans-Serif\" font-size=\"14.00\" fill=\"#000000\">value = 8.584</text>\n</g>\n<!-- 2&#45;&gt;3 -->\n<g id=\"edge3\" class=\"edge\">\n<title>2&#45;&gt;3</title>\n<path fill=\"none\" stroke=\"#000000\" d=\"M301.2692,-192.9465C283.5107,-183.0701 263.982,-172.2093 245.7189,-162.0522\"/>\n<polygon fill=\"#000000\" stroke=\"#000000\" points=\"247.3089,-158.9317 236.8684,-157.13 243.9066,-165.0492 247.3089,-158.9317\"/>\n</g>\n<!-- 6 -->\n<g id=\"node7\" class=\"node\">\n<title>6</title>\n<polygon fill=\"#f9e0ce\" stroke=\"#000000\" points=\"447,-149.5 278,-149.5 278,-96.5 447,-96.5 447,-149.5\"/>\n<text text-anchor=\"middle\" x=\"362.5\" y=\"-134.3\" font-family=\"Helvetica,sans-Serif\" font-size=\"14.00\" fill=\"#000000\">squared_error = 17.054</text>\n<text text-anchor=\"middle\" x=\"362.5\" y=\"-119.3\" font-family=\"Helvetica,sans-Serif\" font-size=\"14.00\" fill=\"#000000\">samples = 18</text>\n<text text-anchor=\"middle\" x=\"362.5\" y=\"-104.3\" font-family=\"Helvetica,sans-Serif\" font-size=\"14.00\" fill=\"#000000\">value = 12.556</text>\n</g>\n<!-- 2&#45;&gt;6 -->\n<g id=\"edge6\" class=\"edge\">\n<title>2&#45;&gt;6</title>\n<path fill=\"none\" stroke=\"#000000\" d=\"M362.5,-192.9465C362.5,-182.2621 362.5,-170.4254 362.5,-159.5742\"/>\n<polygon fill=\"#000000\" stroke=\"#000000\" points=\"366.0001,-159.5421 362.5,-149.5422 359.0001,-159.5422 366.0001,-159.5421\"/>\n</g>\n<!-- 4 -->\n<g id=\"node5\" class=\"node\">\n<title>4</title>\n<polygon fill=\"#ffffff\" stroke=\"#000000\" points=\"169,-53 0,-53 0,0 169,0 169,-53\"/>\n<text text-anchor=\"middle\" x=\"84.5\" y=\"-37.8\" font-family=\"Helvetica,sans-Serif\" font-size=\"14.00\" fill=\"#000000\">squared_error = 10.761</text>\n<text text-anchor=\"middle\" x=\"84.5\" y=\"-22.8\" font-family=\"Helvetica,sans-Serif\" font-size=\"14.00\" fill=\"#000000\">samples = 8</text>\n<text text-anchor=\"middle\" x=\"84.5\" y=\"-7.8\" font-family=\"Helvetica,sans-Serif\" font-size=\"14.00\" fill=\"#000000\">value = 4.887</text>\n</g>\n<!-- 3&#45;&gt;4 -->\n<g id=\"edge4\" class=\"edge\">\n<title>3&#45;&gt;4</title>\n<path fill=\"none\" stroke=\"#000000\" d=\"M143.4168,-88.9777C134.7817,-79.8207 125.4386,-69.9129 116.7922,-60.744\"/>\n<polygon fill=\"#000000\" stroke=\"#000000\" points=\"119.1311,-58.1226 109.724,-53.2485 114.0383,-62.9251 119.1311,-58.1226\"/>\n</g>\n<!-- 5 -->\n<g id=\"node6\" class=\"node\">\n<title>5</title>\n<polygon fill=\"#fbebdf\" stroke=\"#000000\" points=\"348,-53 187,-53 187,0 348,0 348,-53\"/>\n<text text-anchor=\"middle\" x=\"267.5\" y=\"-37.8\" font-family=\"Helvetica,sans-Serif\" font-size=\"14.00\" fill=\"#000000\">squared_error = 15.12</text>\n<text text-anchor=\"middle\" x=\"267.5\" y=\"-22.8\" font-family=\"Helvetica,sans-Serif\" font-size=\"14.00\" fill=\"#000000\">samples = 24</text>\n<text text-anchor=\"middle\" x=\"267.5\" y=\"-7.8\" font-family=\"Helvetica,sans-Serif\" font-size=\"14.00\" fill=\"#000000\">value = 9.817</text>\n</g>\n<!-- 3&#45;&gt;5 -->\n<g id=\"edge5\" class=\"edge\">\n<title>3&#45;&gt;5</title>\n<path fill=\"none\" stroke=\"#000000\" d=\"M207.9358,-88.9777C216.6657,-79.8207 226.1115,-69.9129 234.8529,-60.744\"/>\n<polygon fill=\"#000000\" stroke=\"#000000\" points=\"237.6318,-62.9014 241.9989,-53.2485 232.5653,-58.0712 237.6318,-62.9014\"/>\n</g>\n<!-- 8 -->\n<g id=\"node9\" class=\"node\">\n<title>8</title>\n<polygon fill=\"#f2c29f\" stroke=\"#000000\" points=\"634,-149.5 465,-149.5 465,-96.5 634,-96.5 634,-149.5\"/>\n<text text-anchor=\"middle\" x=\"549.5\" y=\"-134.3\" font-family=\"Helvetica,sans-Serif\" font-size=\"14.00\" fill=\"#000000\">squared_error = 15.087</text>\n<text text-anchor=\"middle\" x=\"549.5\" y=\"-119.3\" font-family=\"Helvetica,sans-Serif\" font-size=\"14.00\" fill=\"#000000\">samples = 13</text>\n<text text-anchor=\"middle\" x=\"549.5\" y=\"-104.3\" font-family=\"Helvetica,sans-Serif\" font-size=\"14.00\" fill=\"#000000\">value = 19.862</text>\n</g>\n<!-- 7&#45;&gt;8 -->\n<g id=\"edge8\" class=\"edge\">\n<title>7&#45;&gt;8</title>\n<path fill=\"none\" stroke=\"#000000\" d=\"M612.0483,-192.9465C601.8045,-181.491 590.3762,-168.711 580.1195,-157.2412\"/>\n<polygon fill=\"#000000\" stroke=\"#000000\" points=\"582.5097,-154.6634 573.2348,-149.5422 577.2917,-159.3295 582.5097,-154.6634\"/>\n</g>\n<!-- 9 -->\n<g id=\"node10\" class=\"node\">\n<title>9</title>\n<polygon fill=\"#f7d8c2\" stroke=\"#000000\" points=\"821,-157 652,-157 652,-89 821,-89 821,-157\"/>\n<text text-anchor=\"middle\" x=\"736.5\" y=\"-141.8\" font-family=\"Helvetica,sans-Serif\" font-size=\"14.00\" fill=\"#000000\">THIGH &lt;= 59.45</text>\n<text text-anchor=\"middle\" x=\"736.5\" y=\"-126.8\" font-family=\"Helvetica,sans-Serif\" font-size=\"14.00\" fill=\"#000000\">squared_error = 17.474</text>\n<text text-anchor=\"middle\" x=\"736.5\" y=\"-111.8\" font-family=\"Helvetica,sans-Serif\" font-size=\"14.00\" fill=\"#000000\">samples = 27</text>\n<text text-anchor=\"middle\" x=\"736.5\" y=\"-96.8\" font-family=\"Helvetica,sans-Serif\" font-size=\"14.00\" fill=\"#000000\">value = 14.5</text>\n</g>\n<!-- 7&#45;&gt;9 -->\n<g id=\"edge9\" class=\"edge\">\n<title>7&#45;&gt;9</title>\n<path fill=\"none\" stroke=\"#000000\" d=\"M673.2791,-192.9465C681.4755,-183.8782 690.422,-173.9799 698.9375,-164.5585\"/>\n<polygon fill=\"#000000\" stroke=\"#000000\" points=\"701.5429,-166.8957 705.6517,-157.13 696.3497,-162.2019 701.5429,-166.8957\"/>\n</g>\n<!-- 10 -->\n<g id=\"node11\" class=\"node\">\n<title>10</title>\n<polygon fill=\"#f5cfb4\" stroke=\"#000000\" points=\"636,-53 475,-53 475,0 636,0 636,-53\"/>\n<text text-anchor=\"middle\" x=\"555.5\" y=\"-37.8\" font-family=\"Helvetica,sans-Serif\" font-size=\"14.00\" fill=\"#000000\">squared_error = 9.595</text>\n<text text-anchor=\"middle\" x=\"555.5\" y=\"-22.8\" font-family=\"Helvetica,sans-Serif\" font-size=\"14.00\" fill=\"#000000\">samples = 16</text>\n<text text-anchor=\"middle\" x=\"555.5\" y=\"-7.8\" font-family=\"Helvetica,sans-Serif\" font-size=\"14.00\" fill=\"#000000\">value = 16.562</text>\n</g>\n<!-- 9&#45;&gt;10 -->\n<g id=\"edge10\" class=\"edge\">\n<title>9&#45;&gt;10</title>\n<path fill=\"none\" stroke=\"#000000\" d=\"M672.6862,-88.9777C653.7059,-78.8584 633.0058,-67.8222 614.3567,-57.8794\"/>\n<polygon fill=\"#000000\" stroke=\"#000000\" points=\"615.8538,-54.7112 605.3829,-53.095 612.5605,-60.8882 615.8538,-54.7112\"/>\n</g>\n<!-- 11 -->\n<g id=\"node12\" class=\"node\">\n<title>11</title>\n<polygon fill=\"#f9e4d5\" stroke=\"#000000\" points=\"823,-53 654,-53 654,0 823,0 823,-53\"/>\n<text text-anchor=\"middle\" x=\"738.5\" y=\"-37.8\" font-family=\"Helvetica,sans-Serif\" font-size=\"14.00\" fill=\"#000000\">squared_error = 13.747</text>\n<text text-anchor=\"middle\" x=\"738.5\" y=\"-22.8\" font-family=\"Helvetica,sans-Serif\" font-size=\"14.00\" fill=\"#000000\">samples = 11</text>\n<text text-anchor=\"middle\" x=\"738.5\" y=\"-7.8\" font-family=\"Helvetica,sans-Serif\" font-size=\"14.00\" fill=\"#000000\">value = 11.5</text>\n</g>\n<!-- 9&#45;&gt;11 -->\n<g id=\"edge11\" class=\"edge\">\n<title>9&#45;&gt;11</title>\n<path fill=\"none\" stroke=\"#000000\" d=\"M737.2051,-88.9777C737.3759,-80.7364 737.5593,-71.887 737.7328,-63.5153\"/>\n<polygon fill=\"#000000\" stroke=\"#000000\" points=\"741.2376,-63.3189 737.9456,-53.2485 734.2391,-63.1738 741.2376,-63.3189\"/>\n</g>\n<!-- 13 -->\n<g id=\"node14\" class=\"node\">\n<title>13</title>\n<polygon fill=\"#f0b68d\" stroke=\"#000000\" points=\"1101,-261 932,-261 932,-193 1101,-193 1101,-261\"/>\n<text text-anchor=\"middle\" x=\"1016.5\" y=\"-245.8\" font-family=\"Helvetica,sans-Serif\" font-size=\"14.00\" fill=\"#000000\">HEIGHT &lt;= 68.375</text>\n<text text-anchor=\"middle\" x=\"1016.5\" y=\"-230.8\" font-family=\"Helvetica,sans-Serif\" font-size=\"14.00\" fill=\"#000000\">squared_error = 19.797</text>\n<text text-anchor=\"middle\" x=\"1016.5\" y=\"-215.8\" font-family=\"Helvetica,sans-Serif\" font-size=\"14.00\" fill=\"#000000\">samples = 65</text>\n<text text-anchor=\"middle\" x=\"1016.5\" y=\"-200.8\" font-family=\"Helvetica,sans-Serif\" font-size=\"14.00\" fill=\"#000000\">value = 22.762</text>\n</g>\n<!-- 12&#45;&gt;13 -->\n<g id=\"edge13\" class=\"edge\">\n<title>12&#45;&gt;13</title>\n<path fill=\"none\" stroke=\"#000000\" d=\"M1016.5,-296.9465C1016.5,-288.776 1016.5,-279.9318 1016.5,-271.3697\"/>\n<polygon fill=\"#000000\" stroke=\"#000000\" points=\"1020.0001,-271.13 1016.5,-261.13 1013.0001,-271.13 1020.0001,-271.13\"/>\n</g>\n<!-- 18 -->\n<g id=\"node19\" class=\"node\">\n<title>18</title>\n<polygon fill=\"#e99456\" stroke=\"#000000\" points=\"1382,-261 1213,-261 1213,-193 1382,-193 1382,-261\"/>\n<text text-anchor=\"middle\" x=\"1297.5\" y=\"-245.8\" font-family=\"Helvetica,sans-Serif\" font-size=\"14.00\" fill=\"#000000\">ABDOMEN &lt;= 112.3</text>\n<text text-anchor=\"middle\" x=\"1297.5\" y=\"-230.8\" font-family=\"Helvetica,sans-Serif\" font-size=\"14.00\" fill=\"#000000\">squared_error = 32.445</text>\n<text text-anchor=\"middle\" x=\"1297.5\" y=\"-215.8\" font-family=\"Helvetica,sans-Serif\" font-size=\"14.00\" fill=\"#000000\">samples = 21</text>\n<text text-anchor=\"middle\" x=\"1297.5\" y=\"-200.8\" font-family=\"Helvetica,sans-Serif\" font-size=\"14.00\" fill=\"#000000\">value = 31.29</text>\n</g>\n<!-- 12&#45;&gt;18 -->\n<g id=\"edge18\" class=\"edge\">\n<title>12&#45;&gt;18</title>\n<path fill=\"none\" stroke=\"#000000\" d=\"M1101.1903,-299.6555C1133.4008,-287.7342 1170.2843,-274.0834 1203.3205,-261.8565\"/>\n<polygon fill=\"#000000\" stroke=\"#000000\" points=\"1204.8197,-265.0337 1212.9831,-258.2803 1202.39,-258.4689 1204.8197,-265.0337\"/>\n</g>\n<!-- 14 -->\n<g id=\"node15\" class=\"node\">\n<title>14</title>\n<polygon fill=\"#eda979\" stroke=\"#000000\" points=\"1008,-149.5 839,-149.5 839,-96.5 1008,-96.5 1008,-149.5\"/>\n<text text-anchor=\"middle\" x=\"923.5\" y=\"-134.3\" font-family=\"Helvetica,sans-Serif\" font-size=\"14.00\" fill=\"#000000\">squared_error = 17.965</text>\n<text text-anchor=\"middle\" x=\"923.5\" y=\"-119.3\" font-family=\"Helvetica,sans-Serif\" font-size=\"14.00\" fill=\"#000000\">samples = 13</text>\n<text text-anchor=\"middle\" x=\"923.5\" y=\"-104.3\" font-family=\"Helvetica,sans-Serif\" font-size=\"14.00\" fill=\"#000000\">value = 25.908</text>\n</g>\n<!-- 13&#45;&gt;14 -->\n<g id=\"edge14\" class=\"edge\">\n<title>13&#45;&gt;14</title>\n<path fill=\"none\" stroke=\"#000000\" d=\"M986.0483,-192.9465C975.8045,-181.491 964.3762,-168.711 954.1195,-157.2412\"/>\n<polygon fill=\"#000000\" stroke=\"#000000\" points=\"956.5097,-154.6634 947.2348,-149.5422 951.2917,-159.3295 956.5097,-154.6634\"/>\n</g>\n<!-- 15 -->\n<g id=\"node16\" class=\"node\">\n<title>15</title>\n<polygon fill=\"#f1b992\" stroke=\"#000000\" points=\"1195,-157 1026,-157 1026,-89 1195,-89 1195,-157\"/>\n<text text-anchor=\"middle\" x=\"1110.5\" y=\"-141.8\" font-family=\"Helvetica,sans-Serif\" font-size=\"14.00\" fill=\"#000000\">ANKLE &lt;= 24.65</text>\n<text text-anchor=\"middle\" x=\"1110.5\" y=\"-126.8\" font-family=\"Helvetica,sans-Serif\" font-size=\"14.00\" fill=\"#000000\">squared_error = 17.162</text>\n<text text-anchor=\"middle\" x=\"1110.5\" y=\"-111.8\" font-family=\"Helvetica,sans-Serif\" font-size=\"14.00\" fill=\"#000000\">samples = 52</text>\n<text text-anchor=\"middle\" x=\"1110.5\" y=\"-96.8\" font-family=\"Helvetica,sans-Serif\" font-size=\"14.00\" fill=\"#000000\">value = 21.975</text>\n</g>\n<!-- 13&#45;&gt;15 -->\n<g id=\"edge15\" class=\"edge\">\n<title>13&#45;&gt;15</title>\n<path fill=\"none\" stroke=\"#000000\" d=\"M1047.2791,-192.9465C1055.4755,-183.8782 1064.422,-173.9799 1072.9375,-164.5585\"/>\n<polygon fill=\"#000000\" stroke=\"#000000\" points=\"1075.5429,-166.8957 1079.6517,-157.13 1070.3497,-162.2019 1075.5429,-166.8957\"/>\n</g>\n<!-- 16 -->\n<g id=\"node17\" class=\"node\">\n<title>16</title>\n<polygon fill=\"#f0b68d\" stroke=\"#000000\" points=\"1103,-53 934,-53 934,0 1103,0 1103,-53\"/>\n<text text-anchor=\"middle\" x=\"1018.5\" y=\"-37.8\" font-family=\"Helvetica,sans-Serif\" font-size=\"14.00\" fill=\"#000000\">squared_error = 17.507</text>\n<text text-anchor=\"middle\" x=\"1018.5\" y=\"-22.8\" font-family=\"Helvetica,sans-Serif\" font-size=\"14.00\" fill=\"#000000\">samples = 41</text>\n<text text-anchor=\"middle\" x=\"1018.5\" y=\"-7.8\" font-family=\"Helvetica,sans-Serif\" font-size=\"14.00\" fill=\"#000000\">value = 22.729</text>\n</g>\n<!-- 15&#45;&gt;16 -->\n<g id=\"edge16\" class=\"edge\">\n<title>15&#45;&gt;16</title>\n<path fill=\"none\" stroke=\"#000000\" d=\"M1078.0642,-88.9777C1069.3343,-79.8207 1059.8885,-69.9129 1051.1471,-60.744\"/>\n<polygon fill=\"#000000\" stroke=\"#000000\" points=\"1053.4347,-58.0712 1044.0011,-53.2485 1048.3682,-62.9014 1053.4347,-58.0712\"/>\n</g>\n<!-- 17 -->\n<g id=\"node18\" class=\"node\">\n<title>17</title>\n<polygon fill=\"#f3c5a4\" stroke=\"#000000\" points=\"1282,-53 1121,-53 1121,0 1282,0 1282,-53\"/>\n<text text-anchor=\"middle\" x=\"1201.5\" y=\"-37.8\" font-family=\"Helvetica,sans-Serif\" font-size=\"14.00\" fill=\"#000000\">squared_error = 5.851</text>\n<text text-anchor=\"middle\" x=\"1201.5\" y=\"-22.8\" font-family=\"Helvetica,sans-Serif\" font-size=\"14.00\" fill=\"#000000\">samples = 11</text>\n<text text-anchor=\"middle\" x=\"1201.5\" y=\"-7.8\" font-family=\"Helvetica,sans-Serif\" font-size=\"14.00\" fill=\"#000000\">value = 19.164</text>\n</g>\n<!-- 15&#45;&gt;17 -->\n<g id=\"edge17\" class=\"edge\">\n<title>15&#45;&gt;17</title>\n<path fill=\"none\" stroke=\"#000000\" d=\"M1142.5832,-88.9777C1151.2183,-79.8207 1160.5614,-69.9129 1169.2078,-60.744\"/>\n<polygon fill=\"#000000\" stroke=\"#000000\" points=\"1171.9617,-62.9251 1176.276,-53.2485 1166.8689,-58.1226 1171.9617,-62.9251\"/>\n</g>\n<!-- 19 -->\n<g id=\"node20\" class=\"node\">\n<title>19</title>\n<polygon fill=\"#eb9f68\" stroke=\"#000000\" points=\"1382,-149.5 1213,-149.5 1213,-96.5 1382,-96.5 1382,-149.5\"/>\n<text text-anchor=\"middle\" x=\"1297.5\" y=\"-134.3\" font-family=\"Helvetica,sans-Serif\" font-size=\"14.00\" fill=\"#000000\">squared_error = 13.122</text>\n<text text-anchor=\"middle\" x=\"1297.5\" y=\"-119.3\" font-family=\"Helvetica,sans-Serif\" font-size=\"14.00\" fill=\"#000000\">samples = 13</text>\n<text text-anchor=\"middle\" x=\"1297.5\" y=\"-104.3\" font-family=\"Helvetica,sans-Serif\" font-size=\"14.00\" fill=\"#000000\">value = 28.492</text>\n</g>\n<!-- 18&#45;&gt;19 -->\n<g id=\"edge19\" class=\"edge\">\n<title>18&#45;&gt;19</title>\n<path fill=\"none\" stroke=\"#000000\" d=\"M1297.5,-192.9465C1297.5,-182.2621 1297.5,-170.4254 1297.5,-159.5742\"/>\n<polygon fill=\"#000000\" stroke=\"#000000\" points=\"1301.0001,-159.5421 1297.5,-149.5422 1294.0001,-159.5422 1301.0001,-159.5421\"/>\n</g>\n<!-- 20 -->\n<g id=\"node21\" class=\"node\">\n<title>20</title>\n<polygon fill=\"#e58139\" stroke=\"#000000\" points=\"1569,-149.5 1400,-149.5 1400,-96.5 1569,-96.5 1569,-149.5\"/>\n<text text-anchor=\"middle\" x=\"1484.5\" y=\"-134.3\" font-family=\"Helvetica,sans-Serif\" font-size=\"14.00\" fill=\"#000000\">squared_error = 30.445</text>\n<text text-anchor=\"middle\" x=\"1484.5\" y=\"-119.3\" font-family=\"Helvetica,sans-Serif\" font-size=\"14.00\" fill=\"#000000\">samples = 8</text>\n<text text-anchor=\"middle\" x=\"1484.5\" y=\"-104.3\" font-family=\"Helvetica,sans-Serif\" font-size=\"14.00\" fill=\"#000000\">value = 35.838</text>\n</g>\n<!-- 18&#45;&gt;20 -->\n<g id=\"edge20\" class=\"edge\">\n<title>18&#45;&gt;20</title>\n<path fill=\"none\" stroke=\"#000000\" d=\"M1358.7308,-192.9465C1381.0121,-180.5547 1406.0802,-166.6132 1427.9387,-154.4565\"/>\n<polygon fill=\"#000000\" stroke=\"#000000\" points=\"1429.7369,-157.4614 1436.7751,-149.5422 1426.3346,-151.3438 1429.7369,-157.4614\"/>\n</g>\n</g>\n</svg>\n"
          },
          "metadata": {}
        }
      ]
    },
    {
      "cell_type": "code",
      "source": [
        ""
      ],
      "metadata": {
        "id": "SAvczbMJ4tMl"
      },
      "execution_count": null,
      "outputs": []
    }
  ]
}