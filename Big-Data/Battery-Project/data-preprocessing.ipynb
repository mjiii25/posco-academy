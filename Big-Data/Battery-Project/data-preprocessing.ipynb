{
  "nbformat": 4,
  "nbformat_minor": 0,
  "metadata": {
    "colab": {
      "name": "Untitled44.ipynb",
      "provenance": [],
      "authorship_tag": "ABX9TyO6gDLOqU2Qw2+gcV8mnDvS",
      "include_colab_link": true
    },
    "kernelspec": {
      "name": "python3",
      "display_name": "Python 3"
    },
    "language_info": {
      "name": "python"
    }
  },
  "cells": [
    {
      "cell_type": "markdown",
      "metadata": {
        "id": "view-in-github",
        "colab_type": "text"
      },
      "source": [
        "<a href=\"https://colab.research.google.com/github/mjiii25/posco-academy/blob/main/Big-Data/Battery-Project/data-preprocessing.ipynb\" target=\"_parent\"><img src=\"https://colab.research.google.com/assets/colab-badge.svg\" alt=\"Open In Colab\"/></a>"
      ]
    },
    {
      "cell_type": "code",
      "execution_count": 1,
      "metadata": {
        "colab": {
          "base_uri": "https://localhost:8080/"
        },
        "id": "gPBccjQR078k",
        "outputId": "5c0fa846-2d76-4116-e8ff-ce92e78eaa6a"
      },
      "outputs": [
        {
          "output_type": "stream",
          "name": "stdout",
          "text": [
            "Mounted at /content/mydrive\n"
          ]
        }
      ],
      "source": [
        "from google.colab import drive\n",
        "drive.mount('/content/mydrive')"
      ]
    },
    {
      "cell_type": "code",
      "source": [
        "import pandas as pd\n",
        "import numpy as np\n",
        "\n",
        "import matplotlib\n",
        "import matplotlib.pyplot as plt\n",
        "import seaborn as sns"
      ],
      "metadata": {
        "id": "7OOQwzy21WKu"
      },
      "execution_count": 3,
      "outputs": []
    },
    {
      "cell_type": "code",
      "source": [
        "bat_process = pd.read_csv('/content/mydrive/MyDrive/posco-big-data/bat_process.csv', encoding = 'euc-kr')\n",
        "\n",
        "print(bat_process.shape)\n",
        "bat_process.head()"
      ],
      "metadata": {
        "colab": {
          "base_uri": "https://localhost:8080/",
          "height": 527
        },
        "id": "Itv2Hb7B1BQI",
        "outputId": "0815f34d-b631-4813-e50a-115595dec12c"
      },
      "execution_count": 5,
      "outputs": [
        {
          "output_type": "stream",
          "name": "stdout",
          "text": [
            "(43754, 109)\n"
          ]
        },
        {
          "output_type": "stream",
          "name": "stderr",
          "text": [
            "/usr/local/lib/python3.7/dist-packages/IPython/core/interactiveshell.py:3326: DtypeWarning: Columns (97,101,102,103) have mixed types.Specify dtype option on import or set low_memory=False.\n",
            "  exec(code_obj, self.user_global_ns, self.user_ns)\n"
          ]
        },
        {
          "output_type": "execute_result",
          "data": {
            "text/plain": [
              "    lot_id    tray_id                dt_start     cell_id judge  rta1_cell_no  \\\n",
              "0  LOT-100  TRAY-1023  12-01-2021 오전 10:01:25  CELL-10747    양품            10   \n",
              "1  LOT-100  TRAY-1023  12-01-2021 오전 10:01:25  CELL-10748    양품             7   \n",
              "2  LOT-100  TRAY-1023  12-01-2021 오전 10:01:25  CELL-10749    양품            19   \n",
              "3  LOT-100  TRAY-1023  12-01-2021 오전 10:01:25  CELL-10750    양품            24   \n",
              "4  LOT-100  TRAY-1023  12-01-2021 오전 10:01:25  CELL-10751    양품            17   \n",
              "\n",
              "  rta1_box_col rta1_box_row rta1_box_dan hta1_box_col  ... sa3_box_row  \\\n",
              "0          08열          33연          08단          03열  ...         37연   \n",
              "1          08열          33연          08단          03열  ...         37연   \n",
              "2          08열          33연          08단          03열  ...         37연   \n",
              "3          08열          33연          08단          03열  ...         37연   \n",
              "4          08열          33연          08단          03열  ...         37연   \n",
              "\n",
              "  sa3_box_dan socv3_ocv ocv2_deltaocv ocv1_deltaocv  m1_thick m1_voltage  \\\n",
              "0         04단    3759.3             5           6.8      4718      37583   \n",
              "1         04단    3758.4             5           6.8      4718      37574   \n",
              "2         04단      3759           5.1           6.9      4700      37579   \n",
              "3         04단    3759.5           5.1           6.9      4688      37583   \n",
              "4         04단    3758.2             5           6.8      4696      37570   \n",
              "\n",
              "  m1_res_ac  m1_mv  m1_voltage_an  \n",
              "0        94    565            164  \n",
              "1        94    565             73  \n",
              "2        91    585            -57  \n",
              "3        93    606             99  \n",
              "4        91    605             36  \n",
              "\n",
              "[5 rows x 109 columns]"
            ],
            "text/html": [
              "\n",
              "  <div id=\"df-66406fc0-4008-4beb-895c-f2aafd5b0975\">\n",
              "    <div class=\"colab-df-container\">\n",
              "      <div>\n",
              "<style scoped>\n",
              "    .dataframe tbody tr th:only-of-type {\n",
              "        vertical-align: middle;\n",
              "    }\n",
              "\n",
              "    .dataframe tbody tr th {\n",
              "        vertical-align: top;\n",
              "    }\n",
              "\n",
              "    .dataframe thead th {\n",
              "        text-align: right;\n",
              "    }\n",
              "</style>\n",
              "<table border=\"1\" class=\"dataframe\">\n",
              "  <thead>\n",
              "    <tr style=\"text-align: right;\">\n",
              "      <th></th>\n",
              "      <th>lot_id</th>\n",
              "      <th>tray_id</th>\n",
              "      <th>dt_start</th>\n",
              "      <th>cell_id</th>\n",
              "      <th>judge</th>\n",
              "      <th>rta1_cell_no</th>\n",
              "      <th>rta1_box_col</th>\n",
              "      <th>rta1_box_row</th>\n",
              "      <th>rta1_box_dan</th>\n",
              "      <th>hta1_box_col</th>\n",
              "      <th>...</th>\n",
              "      <th>sa3_box_row</th>\n",
              "      <th>sa3_box_dan</th>\n",
              "      <th>socv3_ocv</th>\n",
              "      <th>ocv2_deltaocv</th>\n",
              "      <th>ocv1_deltaocv</th>\n",
              "      <th>m1_thick</th>\n",
              "      <th>m1_voltage</th>\n",
              "      <th>m1_res_ac</th>\n",
              "      <th>m1_mv</th>\n",
              "      <th>m1_voltage_an</th>\n",
              "    </tr>\n",
              "  </thead>\n",
              "  <tbody>\n",
              "    <tr>\n",
              "      <th>0</th>\n",
              "      <td>LOT-100</td>\n",
              "      <td>TRAY-1023</td>\n",
              "      <td>12-01-2021 오전 10:01:25</td>\n",
              "      <td>CELL-10747</td>\n",
              "      <td>양품</td>\n",
              "      <td>10</td>\n",
              "      <td>08열</td>\n",
              "      <td>33연</td>\n",
              "      <td>08단</td>\n",
              "      <td>03열</td>\n",
              "      <td>...</td>\n",
              "      <td>37연</td>\n",
              "      <td>04단</td>\n",
              "      <td>3759.3</td>\n",
              "      <td>5</td>\n",
              "      <td>6.8</td>\n",
              "      <td>4718</td>\n",
              "      <td>37583</td>\n",
              "      <td>94</td>\n",
              "      <td>565</td>\n",
              "      <td>164</td>\n",
              "    </tr>\n",
              "    <tr>\n",
              "      <th>1</th>\n",
              "      <td>LOT-100</td>\n",
              "      <td>TRAY-1023</td>\n",
              "      <td>12-01-2021 오전 10:01:25</td>\n",
              "      <td>CELL-10748</td>\n",
              "      <td>양품</td>\n",
              "      <td>7</td>\n",
              "      <td>08열</td>\n",
              "      <td>33연</td>\n",
              "      <td>08단</td>\n",
              "      <td>03열</td>\n",
              "      <td>...</td>\n",
              "      <td>37연</td>\n",
              "      <td>04단</td>\n",
              "      <td>3758.4</td>\n",
              "      <td>5</td>\n",
              "      <td>6.8</td>\n",
              "      <td>4718</td>\n",
              "      <td>37574</td>\n",
              "      <td>94</td>\n",
              "      <td>565</td>\n",
              "      <td>73</td>\n",
              "    </tr>\n",
              "    <tr>\n",
              "      <th>2</th>\n",
              "      <td>LOT-100</td>\n",
              "      <td>TRAY-1023</td>\n",
              "      <td>12-01-2021 오전 10:01:25</td>\n",
              "      <td>CELL-10749</td>\n",
              "      <td>양품</td>\n",
              "      <td>19</td>\n",
              "      <td>08열</td>\n",
              "      <td>33연</td>\n",
              "      <td>08단</td>\n",
              "      <td>03열</td>\n",
              "      <td>...</td>\n",
              "      <td>37연</td>\n",
              "      <td>04단</td>\n",
              "      <td>3759</td>\n",
              "      <td>5.1</td>\n",
              "      <td>6.9</td>\n",
              "      <td>4700</td>\n",
              "      <td>37579</td>\n",
              "      <td>91</td>\n",
              "      <td>585</td>\n",
              "      <td>-57</td>\n",
              "    </tr>\n",
              "    <tr>\n",
              "      <th>3</th>\n",
              "      <td>LOT-100</td>\n",
              "      <td>TRAY-1023</td>\n",
              "      <td>12-01-2021 오전 10:01:25</td>\n",
              "      <td>CELL-10750</td>\n",
              "      <td>양품</td>\n",
              "      <td>24</td>\n",
              "      <td>08열</td>\n",
              "      <td>33연</td>\n",
              "      <td>08단</td>\n",
              "      <td>03열</td>\n",
              "      <td>...</td>\n",
              "      <td>37연</td>\n",
              "      <td>04단</td>\n",
              "      <td>3759.5</td>\n",
              "      <td>5.1</td>\n",
              "      <td>6.9</td>\n",
              "      <td>4688</td>\n",
              "      <td>37583</td>\n",
              "      <td>93</td>\n",
              "      <td>606</td>\n",
              "      <td>99</td>\n",
              "    </tr>\n",
              "    <tr>\n",
              "      <th>4</th>\n",
              "      <td>LOT-100</td>\n",
              "      <td>TRAY-1023</td>\n",
              "      <td>12-01-2021 오전 10:01:25</td>\n",
              "      <td>CELL-10751</td>\n",
              "      <td>양품</td>\n",
              "      <td>17</td>\n",
              "      <td>08열</td>\n",
              "      <td>33연</td>\n",
              "      <td>08단</td>\n",
              "      <td>03열</td>\n",
              "      <td>...</td>\n",
              "      <td>37연</td>\n",
              "      <td>04단</td>\n",
              "      <td>3758.2</td>\n",
              "      <td>5</td>\n",
              "      <td>6.8</td>\n",
              "      <td>4696</td>\n",
              "      <td>37570</td>\n",
              "      <td>91</td>\n",
              "      <td>605</td>\n",
              "      <td>36</td>\n",
              "    </tr>\n",
              "  </tbody>\n",
              "</table>\n",
              "<p>5 rows × 109 columns</p>\n",
              "</div>\n",
              "      <button class=\"colab-df-convert\" onclick=\"convertToInteractive('df-66406fc0-4008-4beb-895c-f2aafd5b0975')\"\n",
              "              title=\"Convert this dataframe to an interactive table.\"\n",
              "              style=\"display:none;\">\n",
              "        \n",
              "  <svg xmlns=\"http://www.w3.org/2000/svg\" height=\"24px\"viewBox=\"0 0 24 24\"\n",
              "       width=\"24px\">\n",
              "    <path d=\"M0 0h24v24H0V0z\" fill=\"none\"/>\n",
              "    <path d=\"M18.56 5.44l.94 2.06.94-2.06 2.06-.94-2.06-.94-.94-2.06-.94 2.06-2.06.94zm-11 1L8.5 8.5l.94-2.06 2.06-.94-2.06-.94L8.5 2.5l-.94 2.06-2.06.94zm10 10l.94 2.06.94-2.06 2.06-.94-2.06-.94-.94-2.06-.94 2.06-2.06.94z\"/><path d=\"M17.41 7.96l-1.37-1.37c-.4-.4-.92-.59-1.43-.59-.52 0-1.04.2-1.43.59L10.3 9.45l-7.72 7.72c-.78.78-.78 2.05 0 2.83L4 21.41c.39.39.9.59 1.41.59.51 0 1.02-.2 1.41-.59l7.78-7.78 2.81-2.81c.8-.78.8-2.07 0-2.86zM5.41 20L4 18.59l7.72-7.72 1.47 1.35L5.41 20z\"/>\n",
              "  </svg>\n",
              "      </button>\n",
              "      \n",
              "  <style>\n",
              "    .colab-df-container {\n",
              "      display:flex;\n",
              "      flex-wrap:wrap;\n",
              "      gap: 12px;\n",
              "    }\n",
              "\n",
              "    .colab-df-convert {\n",
              "      background-color: #E8F0FE;\n",
              "      border: none;\n",
              "      border-radius: 50%;\n",
              "      cursor: pointer;\n",
              "      display: none;\n",
              "      fill: #1967D2;\n",
              "      height: 32px;\n",
              "      padding: 0 0 0 0;\n",
              "      width: 32px;\n",
              "    }\n",
              "\n",
              "    .colab-df-convert:hover {\n",
              "      background-color: #E2EBFA;\n",
              "      box-shadow: 0px 1px 2px rgba(60, 64, 67, 0.3), 0px 1px 3px 1px rgba(60, 64, 67, 0.15);\n",
              "      fill: #174EA6;\n",
              "    }\n",
              "\n",
              "    [theme=dark] .colab-df-convert {\n",
              "      background-color: #3B4455;\n",
              "      fill: #D2E3FC;\n",
              "    }\n",
              "\n",
              "    [theme=dark] .colab-df-convert:hover {\n",
              "      background-color: #434B5C;\n",
              "      box-shadow: 0px 1px 3px 1px rgba(0, 0, 0, 0.15);\n",
              "      filter: drop-shadow(0px 1px 2px rgba(0, 0, 0, 0.3));\n",
              "      fill: #FFFFFF;\n",
              "    }\n",
              "  </style>\n",
              "\n",
              "      <script>\n",
              "        const buttonEl =\n",
              "          document.querySelector('#df-66406fc0-4008-4beb-895c-f2aafd5b0975 button.colab-df-convert');\n",
              "        buttonEl.style.display =\n",
              "          google.colab.kernel.accessAllowed ? 'block' : 'none';\n",
              "\n",
              "        async function convertToInteractive(key) {\n",
              "          const element = document.querySelector('#df-66406fc0-4008-4beb-895c-f2aafd5b0975');\n",
              "          const dataTable =\n",
              "            await google.colab.kernel.invokeFunction('convertToInteractive',\n",
              "                                                     [key], {});\n",
              "          if (!dataTable) return;\n",
              "\n",
              "          const docLinkHtml = 'Like what you see? Visit the ' +\n",
              "            '<a target=\"_blank\" href=https://colab.research.google.com/notebooks/data_table.ipynb>data table notebook</a>'\n",
              "            + ' to learn more about interactive tables.';\n",
              "          element.innerHTML = '';\n",
              "          dataTable['output_type'] = 'display_data';\n",
              "          await google.colab.output.renderOutput(dataTable, element);\n",
              "          const docLink = document.createElement('div');\n",
              "          docLink.innerHTML = docLinkHtml;\n",
              "          element.appendChild(docLink);\n",
              "        }\n",
              "      </script>\n",
              "    </div>\n",
              "  </div>\n",
              "  "
            ]
          },
          "metadata": {},
          "execution_count": 5
        }
      ]
    },
    {
      "cell_type": "code",
      "source": [
        "bat_tat = pd.read_csv('/content/mydrive/MyDrive/posco-big-data/bat_tat.csv', encoding = 'euc-kr')\n",
        "\n",
        "print(bat_process.shape)\n",
        "bat_process.head()"
      ],
      "metadata": {
        "colab": {
          "base_uri": "https://localhost:8080/",
          "height": 527
        },
        "id": "GdBWokaw1KSd",
        "outputId": "6b417b6b-ae48-4a81-f867-b1ab77b5d0d0"
      },
      "execution_count": 6,
      "outputs": [
        {
          "output_type": "stream",
          "name": "stdout",
          "text": [
            "(43754, 109)\n"
          ]
        },
        {
          "output_type": "stream",
          "name": "stderr",
          "text": [
            "/usr/local/lib/python3.7/dist-packages/IPython/core/interactiveshell.py:3326: DtypeWarning: Columns (20,21,22,23,24) have mixed types.Specify dtype option on import or set low_memory=False.\n",
            "  exec(code_obj, self.user_global_ns, self.user_ns)\n"
          ]
        },
        {
          "output_type": "execute_result",
          "data": {
            "text/plain": [
              "    lot_id    tray_id                dt_start     cell_id judge  rta1_cell_no  \\\n",
              "0  LOT-100  TRAY-1023  12-01-2021 오전 10:01:25  CELL-10747    양품            10   \n",
              "1  LOT-100  TRAY-1023  12-01-2021 오전 10:01:25  CELL-10748    양품             7   \n",
              "2  LOT-100  TRAY-1023  12-01-2021 오전 10:01:25  CELL-10749    양품            19   \n",
              "3  LOT-100  TRAY-1023  12-01-2021 오전 10:01:25  CELL-10750    양품            24   \n",
              "4  LOT-100  TRAY-1023  12-01-2021 오전 10:01:25  CELL-10751    양품            17   \n",
              "\n",
              "  rta1_box_col rta1_box_row rta1_box_dan hta1_box_col  ... sa3_box_row  \\\n",
              "0          08열          33연          08단          03열  ...         37연   \n",
              "1          08열          33연          08단          03열  ...         37연   \n",
              "2          08열          33연          08단          03열  ...         37연   \n",
              "3          08열          33연          08단          03열  ...         37연   \n",
              "4          08열          33연          08단          03열  ...         37연   \n",
              "\n",
              "  sa3_box_dan socv3_ocv ocv2_deltaocv ocv1_deltaocv  m1_thick m1_voltage  \\\n",
              "0         04단    3759.3             5           6.8      4718      37583   \n",
              "1         04단    3758.4             5           6.8      4718      37574   \n",
              "2         04단      3759           5.1           6.9      4700      37579   \n",
              "3         04단    3759.5           5.1           6.9      4688      37583   \n",
              "4         04단    3758.2             5           6.8      4696      37570   \n",
              "\n",
              "  m1_res_ac  m1_mv  m1_voltage_an  \n",
              "0        94    565            164  \n",
              "1        94    565             73  \n",
              "2        91    585            -57  \n",
              "3        93    606             99  \n",
              "4        91    605             36  \n",
              "\n",
              "[5 rows x 109 columns]"
            ],
            "text/html": [
              "\n",
              "  <div id=\"df-56d2d07e-4282-4b09-a443-445dccbd2a3f\">\n",
              "    <div class=\"colab-df-container\">\n",
              "      <div>\n",
              "<style scoped>\n",
              "    .dataframe tbody tr th:only-of-type {\n",
              "        vertical-align: middle;\n",
              "    }\n",
              "\n",
              "    .dataframe tbody tr th {\n",
              "        vertical-align: top;\n",
              "    }\n",
              "\n",
              "    .dataframe thead th {\n",
              "        text-align: right;\n",
              "    }\n",
              "</style>\n",
              "<table border=\"1\" class=\"dataframe\">\n",
              "  <thead>\n",
              "    <tr style=\"text-align: right;\">\n",
              "      <th></th>\n",
              "      <th>lot_id</th>\n",
              "      <th>tray_id</th>\n",
              "      <th>dt_start</th>\n",
              "      <th>cell_id</th>\n",
              "      <th>judge</th>\n",
              "      <th>rta1_cell_no</th>\n",
              "      <th>rta1_box_col</th>\n",
              "      <th>rta1_box_row</th>\n",
              "      <th>rta1_box_dan</th>\n",
              "      <th>hta1_box_col</th>\n",
              "      <th>...</th>\n",
              "      <th>sa3_box_row</th>\n",
              "      <th>sa3_box_dan</th>\n",
              "      <th>socv3_ocv</th>\n",
              "      <th>ocv2_deltaocv</th>\n",
              "      <th>ocv1_deltaocv</th>\n",
              "      <th>m1_thick</th>\n",
              "      <th>m1_voltage</th>\n",
              "      <th>m1_res_ac</th>\n",
              "      <th>m1_mv</th>\n",
              "      <th>m1_voltage_an</th>\n",
              "    </tr>\n",
              "  </thead>\n",
              "  <tbody>\n",
              "    <tr>\n",
              "      <th>0</th>\n",
              "      <td>LOT-100</td>\n",
              "      <td>TRAY-1023</td>\n",
              "      <td>12-01-2021 오전 10:01:25</td>\n",
              "      <td>CELL-10747</td>\n",
              "      <td>양품</td>\n",
              "      <td>10</td>\n",
              "      <td>08열</td>\n",
              "      <td>33연</td>\n",
              "      <td>08단</td>\n",
              "      <td>03열</td>\n",
              "      <td>...</td>\n",
              "      <td>37연</td>\n",
              "      <td>04단</td>\n",
              "      <td>3759.3</td>\n",
              "      <td>5</td>\n",
              "      <td>6.8</td>\n",
              "      <td>4718</td>\n",
              "      <td>37583</td>\n",
              "      <td>94</td>\n",
              "      <td>565</td>\n",
              "      <td>164</td>\n",
              "    </tr>\n",
              "    <tr>\n",
              "      <th>1</th>\n",
              "      <td>LOT-100</td>\n",
              "      <td>TRAY-1023</td>\n",
              "      <td>12-01-2021 오전 10:01:25</td>\n",
              "      <td>CELL-10748</td>\n",
              "      <td>양품</td>\n",
              "      <td>7</td>\n",
              "      <td>08열</td>\n",
              "      <td>33연</td>\n",
              "      <td>08단</td>\n",
              "      <td>03열</td>\n",
              "      <td>...</td>\n",
              "      <td>37연</td>\n",
              "      <td>04단</td>\n",
              "      <td>3758.4</td>\n",
              "      <td>5</td>\n",
              "      <td>6.8</td>\n",
              "      <td>4718</td>\n",
              "      <td>37574</td>\n",
              "      <td>94</td>\n",
              "      <td>565</td>\n",
              "      <td>73</td>\n",
              "    </tr>\n",
              "    <tr>\n",
              "      <th>2</th>\n",
              "      <td>LOT-100</td>\n",
              "      <td>TRAY-1023</td>\n",
              "      <td>12-01-2021 오전 10:01:25</td>\n",
              "      <td>CELL-10749</td>\n",
              "      <td>양품</td>\n",
              "      <td>19</td>\n",
              "      <td>08열</td>\n",
              "      <td>33연</td>\n",
              "      <td>08단</td>\n",
              "      <td>03열</td>\n",
              "      <td>...</td>\n",
              "      <td>37연</td>\n",
              "      <td>04단</td>\n",
              "      <td>3759</td>\n",
              "      <td>5.1</td>\n",
              "      <td>6.9</td>\n",
              "      <td>4700</td>\n",
              "      <td>37579</td>\n",
              "      <td>91</td>\n",
              "      <td>585</td>\n",
              "      <td>-57</td>\n",
              "    </tr>\n",
              "    <tr>\n",
              "      <th>3</th>\n",
              "      <td>LOT-100</td>\n",
              "      <td>TRAY-1023</td>\n",
              "      <td>12-01-2021 오전 10:01:25</td>\n",
              "      <td>CELL-10750</td>\n",
              "      <td>양품</td>\n",
              "      <td>24</td>\n",
              "      <td>08열</td>\n",
              "      <td>33연</td>\n",
              "      <td>08단</td>\n",
              "      <td>03열</td>\n",
              "      <td>...</td>\n",
              "      <td>37연</td>\n",
              "      <td>04단</td>\n",
              "      <td>3759.5</td>\n",
              "      <td>5.1</td>\n",
              "      <td>6.9</td>\n",
              "      <td>4688</td>\n",
              "      <td>37583</td>\n",
              "      <td>93</td>\n",
              "      <td>606</td>\n",
              "      <td>99</td>\n",
              "    </tr>\n",
              "    <tr>\n",
              "      <th>4</th>\n",
              "      <td>LOT-100</td>\n",
              "      <td>TRAY-1023</td>\n",
              "      <td>12-01-2021 오전 10:01:25</td>\n",
              "      <td>CELL-10751</td>\n",
              "      <td>양품</td>\n",
              "      <td>17</td>\n",
              "      <td>08열</td>\n",
              "      <td>33연</td>\n",
              "      <td>08단</td>\n",
              "      <td>03열</td>\n",
              "      <td>...</td>\n",
              "      <td>37연</td>\n",
              "      <td>04단</td>\n",
              "      <td>3758.2</td>\n",
              "      <td>5</td>\n",
              "      <td>6.8</td>\n",
              "      <td>4696</td>\n",
              "      <td>37570</td>\n",
              "      <td>91</td>\n",
              "      <td>605</td>\n",
              "      <td>36</td>\n",
              "    </tr>\n",
              "  </tbody>\n",
              "</table>\n",
              "<p>5 rows × 109 columns</p>\n",
              "</div>\n",
              "      <button class=\"colab-df-convert\" onclick=\"convertToInteractive('df-56d2d07e-4282-4b09-a443-445dccbd2a3f')\"\n",
              "              title=\"Convert this dataframe to an interactive table.\"\n",
              "              style=\"display:none;\">\n",
              "        \n",
              "  <svg xmlns=\"http://www.w3.org/2000/svg\" height=\"24px\"viewBox=\"0 0 24 24\"\n",
              "       width=\"24px\">\n",
              "    <path d=\"M0 0h24v24H0V0z\" fill=\"none\"/>\n",
              "    <path d=\"M18.56 5.44l.94 2.06.94-2.06 2.06-.94-2.06-.94-.94-2.06-.94 2.06-2.06.94zm-11 1L8.5 8.5l.94-2.06 2.06-.94-2.06-.94L8.5 2.5l-.94 2.06-2.06.94zm10 10l.94 2.06.94-2.06 2.06-.94-2.06-.94-.94-2.06-.94 2.06-2.06.94z\"/><path d=\"M17.41 7.96l-1.37-1.37c-.4-.4-.92-.59-1.43-.59-.52 0-1.04.2-1.43.59L10.3 9.45l-7.72 7.72c-.78.78-.78 2.05 0 2.83L4 21.41c.39.39.9.59 1.41.59.51 0 1.02-.2 1.41-.59l7.78-7.78 2.81-2.81c.8-.78.8-2.07 0-2.86zM5.41 20L4 18.59l7.72-7.72 1.47 1.35L5.41 20z\"/>\n",
              "  </svg>\n",
              "      </button>\n",
              "      \n",
              "  <style>\n",
              "    .colab-df-container {\n",
              "      display:flex;\n",
              "      flex-wrap:wrap;\n",
              "      gap: 12px;\n",
              "    }\n",
              "\n",
              "    .colab-df-convert {\n",
              "      background-color: #E8F0FE;\n",
              "      border: none;\n",
              "      border-radius: 50%;\n",
              "      cursor: pointer;\n",
              "      display: none;\n",
              "      fill: #1967D2;\n",
              "      height: 32px;\n",
              "      padding: 0 0 0 0;\n",
              "      width: 32px;\n",
              "    }\n",
              "\n",
              "    .colab-df-convert:hover {\n",
              "      background-color: #E2EBFA;\n",
              "      box-shadow: 0px 1px 2px rgba(60, 64, 67, 0.3), 0px 1px 3px 1px rgba(60, 64, 67, 0.15);\n",
              "      fill: #174EA6;\n",
              "    }\n",
              "\n",
              "    [theme=dark] .colab-df-convert {\n",
              "      background-color: #3B4455;\n",
              "      fill: #D2E3FC;\n",
              "    }\n",
              "\n",
              "    [theme=dark] .colab-df-convert:hover {\n",
              "      background-color: #434B5C;\n",
              "      box-shadow: 0px 1px 3px 1px rgba(0, 0, 0, 0.15);\n",
              "      filter: drop-shadow(0px 1px 2px rgba(0, 0, 0, 0.3));\n",
              "      fill: #FFFFFF;\n",
              "    }\n",
              "  </style>\n",
              "\n",
              "      <script>\n",
              "        const buttonEl =\n",
              "          document.querySelector('#df-56d2d07e-4282-4b09-a443-445dccbd2a3f button.colab-df-convert');\n",
              "        buttonEl.style.display =\n",
              "          google.colab.kernel.accessAllowed ? 'block' : 'none';\n",
              "\n",
              "        async function convertToInteractive(key) {\n",
              "          const element = document.querySelector('#df-56d2d07e-4282-4b09-a443-445dccbd2a3f');\n",
              "          const dataTable =\n",
              "            await google.colab.kernel.invokeFunction('convertToInteractive',\n",
              "                                                     [key], {});\n",
              "          if (!dataTable) return;\n",
              "\n",
              "          const docLinkHtml = 'Like what you see? Visit the ' +\n",
              "            '<a target=\"_blank\" href=https://colab.research.google.com/notebooks/data_table.ipynb>data table notebook</a>'\n",
              "            + ' to learn more about interactive tables.';\n",
              "          element.innerHTML = '';\n",
              "          dataTable['output_type'] = 'display_data';\n",
              "          await google.colab.output.renderOutput(dataTable, element);\n",
              "          const docLink = document.createElement('div');\n",
              "          docLink.innerHTML = docLinkHtml;\n",
              "          element.appendChild(docLink);\n",
              "        }\n",
              "      </script>\n",
              "    </div>\n",
              "  </div>\n",
              "  "
            ]
          },
          "metadata": {},
          "execution_count": 6
        }
      ]
    },
    {
      "cell_type": "code",
      "source": [
        ""
      ],
      "metadata": {
        "id": "19Yp_1KL1KVl"
      },
      "execution_count": null,
      "outputs": []
    },
    {
      "cell_type": "code",
      "source": [
        ""
      ],
      "metadata": {
        "id": "SIyqvmTg1KYB"
      },
      "execution_count": null,
      "outputs": []
    },
    {
      "cell_type": "code",
      "source": [
        ""
      ],
      "metadata": {
        "id": "5xzEc1Zr1Kab"
      },
      "execution_count": null,
      "outputs": []
    },
    {
      "cell_type": "code",
      "source": [
        ""
      ],
      "metadata": {
        "id": "TM3CF0I_1Kc-"
      },
      "execution_count": null,
      "outputs": []
    },
    {
      "cell_type": "code",
      "source": [
        ""
      ],
      "metadata": {
        "id": "BFzUbaMd1Kfc"
      },
      "execution_count": null,
      "outputs": []
    },
    {
      "cell_type": "code",
      "source": [
        ""
      ],
      "metadata": {
        "id": "idI2MMPS1KhZ"
      },
      "execution_count": null,
      "outputs": []
    },
    {
      "cell_type": "code",
      "source": [
        ""
      ],
      "metadata": {
        "id": "BEn68QbY1Klu"
      },
      "execution_count": null,
      "outputs": []
    },
    {
      "cell_type": "code",
      "source": [
        ""
      ],
      "metadata": {
        "id": "fYLMOenk1KoR"
      },
      "execution_count": null,
      "outputs": []
    },
    {
      "cell_type": "code",
      "source": [
        ""
      ],
      "metadata": {
        "id": "zceUje3_1KuN"
      },
      "execution_count": null,
      "outputs": []
    },
    {
      "cell_type": "code",
      "source": [
        ""
      ],
      "metadata": {
        "id": "fJGKbUCp1Kwt"
      },
      "execution_count": null,
      "outputs": []
    },
    {
      "cell_type": "code",
      "source": [
        ""
      ],
      "metadata": {
        "id": "Kx7i7hzQ1K0D"
      },
      "execution_count": null,
      "outputs": []
    },
    {
      "cell_type": "code",
      "source": [
        ""
      ],
      "metadata": {
        "id": "Lg3amu1l1K2J"
      },
      "execution_count": null,
      "outputs": []
    },
    {
      "cell_type": "code",
      "source": [
        ""
      ],
      "metadata": {
        "id": "h6OZjdB51K6D"
      },
      "execution_count": null,
      "outputs": []
    },
    {
      "cell_type": "code",
      "source": [
        ""
      ],
      "metadata": {
        "id": "9d0Kyhuz1K8G"
      },
      "execution_count": null,
      "outputs": []
    },
    {
      "cell_type": "code",
      "source": [
        ""
      ],
      "metadata": {
        "id": "XtszltYd1K_p"
      },
      "execution_count": null,
      "outputs": []
    },
    {
      "cell_type": "code",
      "source": [
        ""
      ],
      "metadata": {
        "id": "Ma3bMvpK1LB3"
      },
      "execution_count": null,
      "outputs": []
    },
    {
      "cell_type": "code",
      "source": [
        ""
      ],
      "metadata": {
        "id": "OjhNiiL51LFG"
      },
      "execution_count": null,
      "outputs": []
    },
    {
      "cell_type": "code",
      "source": [
        ""
      ],
      "metadata": {
        "id": "oq6DRZM81LG7"
      },
      "execution_count": null,
      "outputs": []
    },
    {
      "cell_type": "code",
      "source": [
        ""
      ],
      "metadata": {
        "id": "dj77wdP01LI5"
      },
      "execution_count": null,
      "outputs": []
    },
    {
      "cell_type": "code",
      "source": [
        ""
      ],
      "metadata": {
        "id": "WUl_Ql-41LRC"
      },
      "execution_count": null,
      "outputs": []
    }
  ]
}