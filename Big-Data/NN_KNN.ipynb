{
  "nbformat": 4,
  "nbformat_minor": 0,
  "metadata": {
    "colab": {
      "name": "Untitled35.ipynb",
      "provenance": [],
      "authorship_tag": "ABX9TyPNCvSIyJCGEhVjzJrj8B1a",
      "include_colab_link": true
    },
    "kernelspec": {
      "name": "python3",
      "display_name": "Python 3"
    },
    "language_info": {
      "name": "python"
    }
  },
  "cells": [
    {
      "cell_type": "markdown",
      "metadata": {
        "id": "view-in-github",
        "colab_type": "text"
      },
      "source": [
        "<a href=\"https://colab.research.google.com/github/mjiii25/posco-academy/blob/main/Big-Data/NN_KNN.ipynb\" target=\"_parent\"><img src=\"https://colab.research.google.com/assets/colab-badge.svg\" alt=\"Open In Colab\"/></a>"
      ]
    },
    {
      "cell_type": "markdown",
      "source": [
        "# 인공신경망\n"
      ],
      "metadata": {
        "id": "Yr35aTrg-K9u"
      }
    },
    {
      "cell_type": "code",
      "execution_count": 2,
      "metadata": {
        "id": "j_NwWt_c9JEZ"
      },
      "outputs": [],
      "source": [
        "import pandas as pd\n",
        "import matplotlib.pyplot as plt\n",
        "import matplotlib\n",
        "\n",
        "from sklearn.preprocessing import StandardScaler\n",
        "from sklearn.model_selection import train_test_split\n",
        "from sklearn.neural_network import MLPClassifier\n",
        "from sklearn.model_selection import GridSearchCV\n",
        "\n",
        "from sklearn.metrics import accuracy_score, f1_score\n",
        "from sklearn.metrics import confusion_matrix, classification_report"
      ]
    },
    {
      "cell_type": "code",
      "source": [
        "from google.colab import drive\n",
        "drive.mount('/content/mydrive')"
      ],
      "metadata": {
        "colab": {
          "base_uri": "https://localhost:8080/"
        },
        "id": "W_lFEdQF-Mi-",
        "outputId": "4a0c8961-06fa-411e-ef83-8652fbe5a943"
      },
      "execution_count": 3,
      "outputs": [
        {
          "output_type": "stream",
          "name": "stdout",
          "text": [
            "Mounted at /content/mydrive\n"
          ]
        }
      ]
    },
    {
      "cell_type": "markdown",
      "source": [
        "### **데이터 구성하기**"
      ],
      "metadata": {
        "id": "1igqzxGKA35D"
      }
    },
    {
      "cell_type": "code",
      "source": [
        "df_raw = pd.read_csv('/content/mydrive/MyDrive/유방암.csv', encoding = 'euc-kr')\n",
        "\n",
        "print(df_raw.shape)\n",
        "df_raw.head()"
      ],
      "metadata": {
        "colab": {
          "base_uri": "https://localhost:8080/",
          "height": 318
        },
        "id": "f58JQFsa-ma3",
        "outputId": "16ddcdcf-8a4b-4175-a1cc-76c8a7da18a7"
      },
      "execution_count": 9,
      "outputs": [
        {
          "output_type": "stream",
          "name": "stdout",
          "text": [
            "(320, 31)\n"
          ]
        },
        {
          "output_type": "execute_result",
          "data": {
            "text/plain": [
              "  diagnosis  mean_radius  mean_texture  mean_perimeter  mean_area  \\\n",
              "0        음성        15.12         16.68           98.78      716.6   \n",
              "1        양성        10.80          9.71           68.77      357.6   \n",
              "2        음성        18.31         18.58          118.60     1041.0   \n",
              "3        양성        14.92         14.93           96.45      686.9   \n",
              "4        양성        12.89         13.12           81.89      515.9   \n",
              "\n",
              "   mean_smoothness  mean_compactness  mean_concavity  mean_concave_points  \\\n",
              "0          0.08876           0.09588         0.07550              0.04079   \n",
              "1          0.09594           0.05736         0.02531              0.01698   \n",
              "2          0.08588           0.08468         0.08169              0.05814   \n",
              "3          0.08098           0.08549         0.05539              0.03221   \n",
              "4          0.06955           0.03729         0.02260              0.01171   \n",
              "\n",
              "   mean_symmetry  ...  worst_radius  worst_texture  worst_perimeter  \\\n",
              "0         0.1594  ...         17.77          20.24           117.70   \n",
              "1         0.1381  ...         11.60          12.02            73.66   \n",
              "2         0.1621  ...         21.31          26.36           139.20   \n",
              "3         0.1687  ...         17.18          18.22           112.00   \n",
              "4         0.1337  ...         13.62          15.54            87.40   \n",
              "\n",
              "   worst_area  worst_smoothness  worst_compactness  worst_concavity  \\\n",
              "0       989.5           0.14910             0.3331           0.3327   \n",
              "1       414.0           0.14360             0.1257           0.1047   \n",
              "2      1410.0           0.12340             0.2445           0.3538   \n",
              "3       906.6           0.10650             0.2791           0.3151   \n",
              "4       577.0           0.09616             0.1147           0.1186   \n",
              "\n",
              "   worst_concave_points  worst_symmetry  worst_fractal_dimension  \n",
              "0               0.12520          0.3415                  0.09740  \n",
              "1               0.04603          0.2090                  0.07699  \n",
              "2               0.15710          0.3206                  0.06938  \n",
              "3               0.11470          0.2688                  0.08273  \n",
              "4               0.05366          0.2309                  0.06915  \n",
              "\n",
              "[5 rows x 31 columns]"
            ],
            "text/html": [
              "\n",
              "  <div id=\"df-39d04e72-550b-4f9c-8582-0d0788afdc66\">\n",
              "    <div class=\"colab-df-container\">\n",
              "      <div>\n",
              "<style scoped>\n",
              "    .dataframe tbody tr th:only-of-type {\n",
              "        vertical-align: middle;\n",
              "    }\n",
              "\n",
              "    .dataframe tbody tr th {\n",
              "        vertical-align: top;\n",
              "    }\n",
              "\n",
              "    .dataframe thead th {\n",
              "        text-align: right;\n",
              "    }\n",
              "</style>\n",
              "<table border=\"1\" class=\"dataframe\">\n",
              "  <thead>\n",
              "    <tr style=\"text-align: right;\">\n",
              "      <th></th>\n",
              "      <th>diagnosis</th>\n",
              "      <th>mean_radius</th>\n",
              "      <th>mean_texture</th>\n",
              "      <th>mean_perimeter</th>\n",
              "      <th>mean_area</th>\n",
              "      <th>mean_smoothness</th>\n",
              "      <th>mean_compactness</th>\n",
              "      <th>mean_concavity</th>\n",
              "      <th>mean_concave_points</th>\n",
              "      <th>mean_symmetry</th>\n",
              "      <th>...</th>\n",
              "      <th>worst_radius</th>\n",
              "      <th>worst_texture</th>\n",
              "      <th>worst_perimeter</th>\n",
              "      <th>worst_area</th>\n",
              "      <th>worst_smoothness</th>\n",
              "      <th>worst_compactness</th>\n",
              "      <th>worst_concavity</th>\n",
              "      <th>worst_concave_points</th>\n",
              "      <th>worst_symmetry</th>\n",
              "      <th>worst_fractal_dimension</th>\n",
              "    </tr>\n",
              "  </thead>\n",
              "  <tbody>\n",
              "    <tr>\n",
              "      <th>0</th>\n",
              "      <td>음성</td>\n",
              "      <td>15.12</td>\n",
              "      <td>16.68</td>\n",
              "      <td>98.78</td>\n",
              "      <td>716.6</td>\n",
              "      <td>0.08876</td>\n",
              "      <td>0.09588</td>\n",
              "      <td>0.07550</td>\n",
              "      <td>0.04079</td>\n",
              "      <td>0.1594</td>\n",
              "      <td>...</td>\n",
              "      <td>17.77</td>\n",
              "      <td>20.24</td>\n",
              "      <td>117.70</td>\n",
              "      <td>989.5</td>\n",
              "      <td>0.14910</td>\n",
              "      <td>0.3331</td>\n",
              "      <td>0.3327</td>\n",
              "      <td>0.12520</td>\n",
              "      <td>0.3415</td>\n",
              "      <td>0.09740</td>\n",
              "    </tr>\n",
              "    <tr>\n",
              "      <th>1</th>\n",
              "      <td>양성</td>\n",
              "      <td>10.80</td>\n",
              "      <td>9.71</td>\n",
              "      <td>68.77</td>\n",
              "      <td>357.6</td>\n",
              "      <td>0.09594</td>\n",
              "      <td>0.05736</td>\n",
              "      <td>0.02531</td>\n",
              "      <td>0.01698</td>\n",
              "      <td>0.1381</td>\n",
              "      <td>...</td>\n",
              "      <td>11.60</td>\n",
              "      <td>12.02</td>\n",
              "      <td>73.66</td>\n",
              "      <td>414.0</td>\n",
              "      <td>0.14360</td>\n",
              "      <td>0.1257</td>\n",
              "      <td>0.1047</td>\n",
              "      <td>0.04603</td>\n",
              "      <td>0.2090</td>\n",
              "      <td>0.07699</td>\n",
              "    </tr>\n",
              "    <tr>\n",
              "      <th>2</th>\n",
              "      <td>음성</td>\n",
              "      <td>18.31</td>\n",
              "      <td>18.58</td>\n",
              "      <td>118.60</td>\n",
              "      <td>1041.0</td>\n",
              "      <td>0.08588</td>\n",
              "      <td>0.08468</td>\n",
              "      <td>0.08169</td>\n",
              "      <td>0.05814</td>\n",
              "      <td>0.1621</td>\n",
              "      <td>...</td>\n",
              "      <td>21.31</td>\n",
              "      <td>26.36</td>\n",
              "      <td>139.20</td>\n",
              "      <td>1410.0</td>\n",
              "      <td>0.12340</td>\n",
              "      <td>0.2445</td>\n",
              "      <td>0.3538</td>\n",
              "      <td>0.15710</td>\n",
              "      <td>0.3206</td>\n",
              "      <td>0.06938</td>\n",
              "    </tr>\n",
              "    <tr>\n",
              "      <th>3</th>\n",
              "      <td>양성</td>\n",
              "      <td>14.92</td>\n",
              "      <td>14.93</td>\n",
              "      <td>96.45</td>\n",
              "      <td>686.9</td>\n",
              "      <td>0.08098</td>\n",
              "      <td>0.08549</td>\n",
              "      <td>0.05539</td>\n",
              "      <td>0.03221</td>\n",
              "      <td>0.1687</td>\n",
              "      <td>...</td>\n",
              "      <td>17.18</td>\n",
              "      <td>18.22</td>\n",
              "      <td>112.00</td>\n",
              "      <td>906.6</td>\n",
              "      <td>0.10650</td>\n",
              "      <td>0.2791</td>\n",
              "      <td>0.3151</td>\n",
              "      <td>0.11470</td>\n",
              "      <td>0.2688</td>\n",
              "      <td>0.08273</td>\n",
              "    </tr>\n",
              "    <tr>\n",
              "      <th>4</th>\n",
              "      <td>양성</td>\n",
              "      <td>12.89</td>\n",
              "      <td>13.12</td>\n",
              "      <td>81.89</td>\n",
              "      <td>515.9</td>\n",
              "      <td>0.06955</td>\n",
              "      <td>0.03729</td>\n",
              "      <td>0.02260</td>\n",
              "      <td>0.01171</td>\n",
              "      <td>0.1337</td>\n",
              "      <td>...</td>\n",
              "      <td>13.62</td>\n",
              "      <td>15.54</td>\n",
              "      <td>87.40</td>\n",
              "      <td>577.0</td>\n",
              "      <td>0.09616</td>\n",
              "      <td>0.1147</td>\n",
              "      <td>0.1186</td>\n",
              "      <td>0.05366</td>\n",
              "      <td>0.2309</td>\n",
              "      <td>0.06915</td>\n",
              "    </tr>\n",
              "  </tbody>\n",
              "</table>\n",
              "<p>5 rows × 31 columns</p>\n",
              "</div>\n",
              "      <button class=\"colab-df-convert\" onclick=\"convertToInteractive('df-39d04e72-550b-4f9c-8582-0d0788afdc66')\"\n",
              "              title=\"Convert this dataframe to an interactive table.\"\n",
              "              style=\"display:none;\">\n",
              "        \n",
              "  <svg xmlns=\"http://www.w3.org/2000/svg\" height=\"24px\"viewBox=\"0 0 24 24\"\n",
              "       width=\"24px\">\n",
              "    <path d=\"M0 0h24v24H0V0z\" fill=\"none\"/>\n",
              "    <path d=\"M18.56 5.44l.94 2.06.94-2.06 2.06-.94-2.06-.94-.94-2.06-.94 2.06-2.06.94zm-11 1L8.5 8.5l.94-2.06 2.06-.94-2.06-.94L8.5 2.5l-.94 2.06-2.06.94zm10 10l.94 2.06.94-2.06 2.06-.94-2.06-.94-.94-2.06-.94 2.06-2.06.94z\"/><path d=\"M17.41 7.96l-1.37-1.37c-.4-.4-.92-.59-1.43-.59-.52 0-1.04.2-1.43.59L10.3 9.45l-7.72 7.72c-.78.78-.78 2.05 0 2.83L4 21.41c.39.39.9.59 1.41.59.51 0 1.02-.2 1.41-.59l7.78-7.78 2.81-2.81c.8-.78.8-2.07 0-2.86zM5.41 20L4 18.59l7.72-7.72 1.47 1.35L5.41 20z\"/>\n",
              "  </svg>\n",
              "      </button>\n",
              "      \n",
              "  <style>\n",
              "    .colab-df-container {\n",
              "      display:flex;\n",
              "      flex-wrap:wrap;\n",
              "      gap: 12px;\n",
              "    }\n",
              "\n",
              "    .colab-df-convert {\n",
              "      background-color: #E8F0FE;\n",
              "      border: none;\n",
              "      border-radius: 50%;\n",
              "      cursor: pointer;\n",
              "      display: none;\n",
              "      fill: #1967D2;\n",
              "      height: 32px;\n",
              "      padding: 0 0 0 0;\n",
              "      width: 32px;\n",
              "    }\n",
              "\n",
              "    .colab-df-convert:hover {\n",
              "      background-color: #E2EBFA;\n",
              "      box-shadow: 0px 1px 2px rgba(60, 64, 67, 0.3), 0px 1px 3px 1px rgba(60, 64, 67, 0.15);\n",
              "      fill: #174EA6;\n",
              "    }\n",
              "\n",
              "    [theme=dark] .colab-df-convert {\n",
              "      background-color: #3B4455;\n",
              "      fill: #D2E3FC;\n",
              "    }\n",
              "\n",
              "    [theme=dark] .colab-df-convert:hover {\n",
              "      background-color: #434B5C;\n",
              "      box-shadow: 0px 1px 3px 1px rgba(0, 0, 0, 0.15);\n",
              "      filter: drop-shadow(0px 1px 2px rgba(0, 0, 0, 0.3));\n",
              "      fill: #FFFFFF;\n",
              "    }\n",
              "  </style>\n",
              "\n",
              "      <script>\n",
              "        const buttonEl =\n",
              "          document.querySelector('#df-39d04e72-550b-4f9c-8582-0d0788afdc66 button.colab-df-convert');\n",
              "        buttonEl.style.display =\n",
              "          google.colab.kernel.accessAllowed ? 'block' : 'none';\n",
              "\n",
              "        async function convertToInteractive(key) {\n",
              "          const element = document.querySelector('#df-39d04e72-550b-4f9c-8582-0d0788afdc66');\n",
              "          const dataTable =\n",
              "            await google.colab.kernel.invokeFunction('convertToInteractive',\n",
              "                                                     [key], {});\n",
              "          if (!dataTable) return;\n",
              "\n",
              "          const docLinkHtml = 'Like what you see? Visit the ' +\n",
              "            '<a target=\"_blank\" href=https://colab.research.google.com/notebooks/data_table.ipynb>data table notebook</a>'\n",
              "            + ' to learn more about interactive tables.';\n",
              "          element.innerHTML = '';\n",
              "          dataTable['output_type'] = 'display_data';\n",
              "          await google.colab.output.renderOutput(dataTable, element);\n",
              "          const docLink = document.createElement('div');\n",
              "          docLink.innerHTML = docLinkHtml;\n",
              "          element.appendChild(docLink);\n",
              "        }\n",
              "      </script>\n",
              "    </div>\n",
              "  </div>\n",
              "  "
            ]
          },
          "metadata": {},
          "execution_count": 9
        }
      ]
    },
    {
      "cell_type": "code",
      "source": [
        "df_raw.loc[df_raw['diagnosis'] == '양성', 'diagnosis'] = 1\n",
        "df_raw.loc[df_raw['diagnosis'] == '음성', 'diagnosis'] = 0\n",
        "\n",
        "df_raw['diagnosis'] = df_raw['diagnosis'].astype(int)"
      ],
      "metadata": {
        "id": "fwWH11zy_v6M"
      },
      "execution_count": 12,
      "outputs": []
    },
    {
      "cell_type": "code",
      "source": [
        "df_raw.info()"
      ],
      "metadata": {
        "colab": {
          "base_uri": "https://localhost:8080/"
        },
        "id": "yl70xKcKAOT1",
        "outputId": "7e923b99-ba2d-4616-99c8-ddfe98499f51"
      },
      "execution_count": 13,
      "outputs": [
        {
          "output_type": "stream",
          "name": "stdout",
          "text": [
            "<class 'pandas.core.frame.DataFrame'>\n",
            "RangeIndex: 320 entries, 0 to 319\n",
            "Data columns (total 31 columns):\n",
            " #   Column                   Non-Null Count  Dtype  \n",
            "---  ------                   --------------  -----  \n",
            " 0   diagnosis                320 non-null    int64  \n",
            " 1   mean_radius              320 non-null    float64\n",
            " 2   mean_texture             320 non-null    float64\n",
            " 3   mean_perimeter           320 non-null    float64\n",
            " 4   mean_area                320 non-null    float64\n",
            " 5   mean_smoothness          320 non-null    float64\n",
            " 6   mean_compactness         320 non-null    float64\n",
            " 7   mean_concavity           320 non-null    float64\n",
            " 8   mean_concave_points      320 non-null    float64\n",
            " 9   mean_symmetry            320 non-null    float64\n",
            " 10  mean_fractal_dimension   320 non-null    float64\n",
            " 11  radius_error             320 non-null    float64\n",
            " 12  texture_error            320 non-null    float64\n",
            " 13  perimeter_error          320 non-null    float64\n",
            " 14  area_error               320 non-null    float64\n",
            " 15  smoothness_error         320 non-null    float64\n",
            " 16  compactness_error        320 non-null    float64\n",
            " 17  concavity_error          320 non-null    float64\n",
            " 18  concave_points_error     320 non-null    float64\n",
            " 19  symmetry_error           320 non-null    float64\n",
            " 20  fractal_dimension_error  320 non-null    float64\n",
            " 21  worst_radius             320 non-null    float64\n",
            " 22  worst_texture            320 non-null    float64\n",
            " 23  worst_perimeter          320 non-null    float64\n",
            " 24  worst_area               320 non-null    float64\n",
            " 25  worst_smoothness         320 non-null    float64\n",
            " 26  worst_compactness        320 non-null    float64\n",
            " 27  worst_concavity          320 non-null    float64\n",
            " 28  worst_concave_points     320 non-null    float64\n",
            " 29  worst_symmetry           320 non-null    float64\n",
            " 30  worst_fractal_dimension  320 non-null    float64\n",
            "dtypes: float64(30), int64(1)\n",
            "memory usage: 77.6 KB\n"
          ]
        }
      ]
    },
    {
      "cell_type": "code",
      "source": [
        "df_raw.isnull().sum()"
      ],
      "metadata": {
        "colab": {
          "base_uri": "https://localhost:8080/"
        },
        "id": "XY7stGRh-zWz",
        "outputId": "bbe6a2a1-4710-4fc4-a630-b561bffa1c7c"
      },
      "execution_count": 14,
      "outputs": [
        {
          "output_type": "execute_result",
          "data": {
            "text/plain": [
              "diagnosis                  0\n",
              "mean_radius                0\n",
              "mean_texture               0\n",
              "mean_perimeter             0\n",
              "mean_area                  0\n",
              "mean_smoothness            0\n",
              "mean_compactness           0\n",
              "mean_concavity             0\n",
              "mean_concave_points        0\n",
              "mean_symmetry              0\n",
              "mean_fractal_dimension     0\n",
              "radius_error               0\n",
              "texture_error              0\n",
              "perimeter_error            0\n",
              "area_error                 0\n",
              "smoothness_error           0\n",
              "compactness_error          0\n",
              "concavity_error            0\n",
              "concave_points_error       0\n",
              "symmetry_error             0\n",
              "fractal_dimension_error    0\n",
              "worst_radius               0\n",
              "worst_texture              0\n",
              "worst_perimeter            0\n",
              "worst_area                 0\n",
              "worst_smoothness           0\n",
              "worst_compactness          0\n",
              "worst_concavity            0\n",
              "worst_concave_points       0\n",
              "worst_symmetry             0\n",
              "worst_fractal_dimension    0\n",
              "dtype: int64"
            ]
          },
          "metadata": {},
          "execution_count": 14
        }
      ]
    },
    {
      "cell_type": "code",
      "source": [
        "df_raw_y = df_raw['diagnosis']\n",
        "df_raw_x = df_raw.drop('diagnosis', axis = 1, inplace = False)"
      ],
      "metadata": {
        "id": "H1wJ7fkb_mwU"
      },
      "execution_count": 16,
      "outputs": []
    },
    {
      "cell_type": "code",
      "source": [
        "print(df_raw_y.shape)\n",
        "df_raw_y.head()"
      ],
      "metadata": {
        "colab": {
          "base_uri": "https://localhost:8080/"
        },
        "id": "9dJEms0JAdka",
        "outputId": "e4de33c2-daed-4712-83bb-b5f1746c0ccb"
      },
      "execution_count": 19,
      "outputs": [
        {
          "output_type": "stream",
          "name": "stdout",
          "text": [
            "(320,)\n"
          ]
        },
        {
          "output_type": "execute_result",
          "data": {
            "text/plain": [
              "0    0\n",
              "1    1\n",
              "2    0\n",
              "3    1\n",
              "4    1\n",
              "Name: diagnosis, dtype: int64"
            ]
          },
          "metadata": {},
          "execution_count": 19
        }
      ]
    },
    {
      "cell_type": "code",
      "source": [
        "print(df_raw_x.shape)\n",
        "df_raw_x.head()"
      ],
      "metadata": {
        "colab": {
          "base_uri": "https://localhost:8080/",
          "height": 318
        },
        "id": "ZRkOQl5SAfYZ",
        "outputId": "b4435b10-87a7-41f1-944e-9e076e0946f8"
      },
      "execution_count": 20,
      "outputs": [
        {
          "output_type": "stream",
          "name": "stdout",
          "text": [
            "(320, 30)\n"
          ]
        },
        {
          "output_type": "execute_result",
          "data": {
            "text/plain": [
              "   mean_radius  mean_texture  mean_perimeter  mean_area  mean_smoothness  \\\n",
              "0        15.12         16.68           98.78      716.6          0.08876   \n",
              "1        10.80          9.71           68.77      357.6          0.09594   \n",
              "2        18.31         18.58          118.60     1041.0          0.08588   \n",
              "3        14.92         14.93           96.45      686.9          0.08098   \n",
              "4        12.89         13.12           81.89      515.9          0.06955   \n",
              "\n",
              "   mean_compactness  mean_concavity  mean_concave_points  mean_symmetry  \\\n",
              "0           0.09588         0.07550              0.04079         0.1594   \n",
              "1           0.05736         0.02531              0.01698         0.1381   \n",
              "2           0.08468         0.08169              0.05814         0.1621   \n",
              "3           0.08549         0.05539              0.03221         0.1687   \n",
              "4           0.03729         0.02260              0.01171         0.1337   \n",
              "\n",
              "   mean_fractal_dimension  ...  worst_radius  worst_texture  worst_perimeter  \\\n",
              "0                 0.05986  ...         17.77          20.24           117.70   \n",
              "1                 0.06400  ...         11.60          12.02            73.66   \n",
              "2                 0.05425  ...         21.31          26.36           139.20   \n",
              "3                 0.05669  ...         17.18          18.22           112.00   \n",
              "4                 0.05581  ...         13.62          15.54            87.40   \n",
              "\n",
              "   worst_area  worst_smoothness  worst_compactness  worst_concavity  \\\n",
              "0       989.5           0.14910             0.3331           0.3327   \n",
              "1       414.0           0.14360             0.1257           0.1047   \n",
              "2      1410.0           0.12340             0.2445           0.3538   \n",
              "3       906.6           0.10650             0.2791           0.3151   \n",
              "4       577.0           0.09616             0.1147           0.1186   \n",
              "\n",
              "   worst_concave_points  worst_symmetry  worst_fractal_dimension  \n",
              "0               0.12520          0.3415                  0.09740  \n",
              "1               0.04603          0.2090                  0.07699  \n",
              "2               0.15710          0.3206                  0.06938  \n",
              "3               0.11470          0.2688                  0.08273  \n",
              "4               0.05366          0.2309                  0.06915  \n",
              "\n",
              "[5 rows x 30 columns]"
            ],
            "text/html": [
              "\n",
              "  <div id=\"df-2a10495d-5ab6-4b9d-bb50-109f63d871ec\">\n",
              "    <div class=\"colab-df-container\">\n",
              "      <div>\n",
              "<style scoped>\n",
              "    .dataframe tbody tr th:only-of-type {\n",
              "        vertical-align: middle;\n",
              "    }\n",
              "\n",
              "    .dataframe tbody tr th {\n",
              "        vertical-align: top;\n",
              "    }\n",
              "\n",
              "    .dataframe thead th {\n",
              "        text-align: right;\n",
              "    }\n",
              "</style>\n",
              "<table border=\"1\" class=\"dataframe\">\n",
              "  <thead>\n",
              "    <tr style=\"text-align: right;\">\n",
              "      <th></th>\n",
              "      <th>mean_radius</th>\n",
              "      <th>mean_texture</th>\n",
              "      <th>mean_perimeter</th>\n",
              "      <th>mean_area</th>\n",
              "      <th>mean_smoothness</th>\n",
              "      <th>mean_compactness</th>\n",
              "      <th>mean_concavity</th>\n",
              "      <th>mean_concave_points</th>\n",
              "      <th>mean_symmetry</th>\n",
              "      <th>mean_fractal_dimension</th>\n",
              "      <th>...</th>\n",
              "      <th>worst_radius</th>\n",
              "      <th>worst_texture</th>\n",
              "      <th>worst_perimeter</th>\n",
              "      <th>worst_area</th>\n",
              "      <th>worst_smoothness</th>\n",
              "      <th>worst_compactness</th>\n",
              "      <th>worst_concavity</th>\n",
              "      <th>worst_concave_points</th>\n",
              "      <th>worst_symmetry</th>\n",
              "      <th>worst_fractal_dimension</th>\n",
              "    </tr>\n",
              "  </thead>\n",
              "  <tbody>\n",
              "    <tr>\n",
              "      <th>0</th>\n",
              "      <td>15.12</td>\n",
              "      <td>16.68</td>\n",
              "      <td>98.78</td>\n",
              "      <td>716.6</td>\n",
              "      <td>0.08876</td>\n",
              "      <td>0.09588</td>\n",
              "      <td>0.07550</td>\n",
              "      <td>0.04079</td>\n",
              "      <td>0.1594</td>\n",
              "      <td>0.05986</td>\n",
              "      <td>...</td>\n",
              "      <td>17.77</td>\n",
              "      <td>20.24</td>\n",
              "      <td>117.70</td>\n",
              "      <td>989.5</td>\n",
              "      <td>0.14910</td>\n",
              "      <td>0.3331</td>\n",
              "      <td>0.3327</td>\n",
              "      <td>0.12520</td>\n",
              "      <td>0.3415</td>\n",
              "      <td>0.09740</td>\n",
              "    </tr>\n",
              "    <tr>\n",
              "      <th>1</th>\n",
              "      <td>10.80</td>\n",
              "      <td>9.71</td>\n",
              "      <td>68.77</td>\n",
              "      <td>357.6</td>\n",
              "      <td>0.09594</td>\n",
              "      <td>0.05736</td>\n",
              "      <td>0.02531</td>\n",
              "      <td>0.01698</td>\n",
              "      <td>0.1381</td>\n",
              "      <td>0.06400</td>\n",
              "      <td>...</td>\n",
              "      <td>11.60</td>\n",
              "      <td>12.02</td>\n",
              "      <td>73.66</td>\n",
              "      <td>414.0</td>\n",
              "      <td>0.14360</td>\n",
              "      <td>0.1257</td>\n",
              "      <td>0.1047</td>\n",
              "      <td>0.04603</td>\n",
              "      <td>0.2090</td>\n",
              "      <td>0.07699</td>\n",
              "    </tr>\n",
              "    <tr>\n",
              "      <th>2</th>\n",
              "      <td>18.31</td>\n",
              "      <td>18.58</td>\n",
              "      <td>118.60</td>\n",
              "      <td>1041.0</td>\n",
              "      <td>0.08588</td>\n",
              "      <td>0.08468</td>\n",
              "      <td>0.08169</td>\n",
              "      <td>0.05814</td>\n",
              "      <td>0.1621</td>\n",
              "      <td>0.05425</td>\n",
              "      <td>...</td>\n",
              "      <td>21.31</td>\n",
              "      <td>26.36</td>\n",
              "      <td>139.20</td>\n",
              "      <td>1410.0</td>\n",
              "      <td>0.12340</td>\n",
              "      <td>0.2445</td>\n",
              "      <td>0.3538</td>\n",
              "      <td>0.15710</td>\n",
              "      <td>0.3206</td>\n",
              "      <td>0.06938</td>\n",
              "    </tr>\n",
              "    <tr>\n",
              "      <th>3</th>\n",
              "      <td>14.92</td>\n",
              "      <td>14.93</td>\n",
              "      <td>96.45</td>\n",
              "      <td>686.9</td>\n",
              "      <td>0.08098</td>\n",
              "      <td>0.08549</td>\n",
              "      <td>0.05539</td>\n",
              "      <td>0.03221</td>\n",
              "      <td>0.1687</td>\n",
              "      <td>0.05669</td>\n",
              "      <td>...</td>\n",
              "      <td>17.18</td>\n",
              "      <td>18.22</td>\n",
              "      <td>112.00</td>\n",
              "      <td>906.6</td>\n",
              "      <td>0.10650</td>\n",
              "      <td>0.2791</td>\n",
              "      <td>0.3151</td>\n",
              "      <td>0.11470</td>\n",
              "      <td>0.2688</td>\n",
              "      <td>0.08273</td>\n",
              "    </tr>\n",
              "    <tr>\n",
              "      <th>4</th>\n",
              "      <td>12.89</td>\n",
              "      <td>13.12</td>\n",
              "      <td>81.89</td>\n",
              "      <td>515.9</td>\n",
              "      <td>0.06955</td>\n",
              "      <td>0.03729</td>\n",
              "      <td>0.02260</td>\n",
              "      <td>0.01171</td>\n",
              "      <td>0.1337</td>\n",
              "      <td>0.05581</td>\n",
              "      <td>...</td>\n",
              "      <td>13.62</td>\n",
              "      <td>15.54</td>\n",
              "      <td>87.40</td>\n",
              "      <td>577.0</td>\n",
              "      <td>0.09616</td>\n",
              "      <td>0.1147</td>\n",
              "      <td>0.1186</td>\n",
              "      <td>0.05366</td>\n",
              "      <td>0.2309</td>\n",
              "      <td>0.06915</td>\n",
              "    </tr>\n",
              "  </tbody>\n",
              "</table>\n",
              "<p>5 rows × 30 columns</p>\n",
              "</div>\n",
              "      <button class=\"colab-df-convert\" onclick=\"convertToInteractive('df-2a10495d-5ab6-4b9d-bb50-109f63d871ec')\"\n",
              "              title=\"Convert this dataframe to an interactive table.\"\n",
              "              style=\"display:none;\">\n",
              "        \n",
              "  <svg xmlns=\"http://www.w3.org/2000/svg\" height=\"24px\"viewBox=\"0 0 24 24\"\n",
              "       width=\"24px\">\n",
              "    <path d=\"M0 0h24v24H0V0z\" fill=\"none\"/>\n",
              "    <path d=\"M18.56 5.44l.94 2.06.94-2.06 2.06-.94-2.06-.94-.94-2.06-.94 2.06-2.06.94zm-11 1L8.5 8.5l.94-2.06 2.06-.94-2.06-.94L8.5 2.5l-.94 2.06-2.06.94zm10 10l.94 2.06.94-2.06 2.06-.94-2.06-.94-.94-2.06-.94 2.06-2.06.94z\"/><path d=\"M17.41 7.96l-1.37-1.37c-.4-.4-.92-.59-1.43-.59-.52 0-1.04.2-1.43.59L10.3 9.45l-7.72 7.72c-.78.78-.78 2.05 0 2.83L4 21.41c.39.39.9.59 1.41.59.51 0 1.02-.2 1.41-.59l7.78-7.78 2.81-2.81c.8-.78.8-2.07 0-2.86zM5.41 20L4 18.59l7.72-7.72 1.47 1.35L5.41 20z\"/>\n",
              "  </svg>\n",
              "      </button>\n",
              "      \n",
              "  <style>\n",
              "    .colab-df-container {\n",
              "      display:flex;\n",
              "      flex-wrap:wrap;\n",
              "      gap: 12px;\n",
              "    }\n",
              "\n",
              "    .colab-df-convert {\n",
              "      background-color: #E8F0FE;\n",
              "      border: none;\n",
              "      border-radius: 50%;\n",
              "      cursor: pointer;\n",
              "      display: none;\n",
              "      fill: #1967D2;\n",
              "      height: 32px;\n",
              "      padding: 0 0 0 0;\n",
              "      width: 32px;\n",
              "    }\n",
              "\n",
              "    .colab-df-convert:hover {\n",
              "      background-color: #E2EBFA;\n",
              "      box-shadow: 0px 1px 2px rgba(60, 64, 67, 0.3), 0px 1px 3px 1px rgba(60, 64, 67, 0.15);\n",
              "      fill: #174EA6;\n",
              "    }\n",
              "\n",
              "    [theme=dark] .colab-df-convert {\n",
              "      background-color: #3B4455;\n",
              "      fill: #D2E3FC;\n",
              "    }\n",
              "\n",
              "    [theme=dark] .colab-df-convert:hover {\n",
              "      background-color: #434B5C;\n",
              "      box-shadow: 0px 1px 3px 1px rgba(0, 0, 0, 0.15);\n",
              "      filter: drop-shadow(0px 1px 2px rgba(0, 0, 0, 0.3));\n",
              "      fill: #FFFFFF;\n",
              "    }\n",
              "  </style>\n",
              "\n",
              "      <script>\n",
              "        const buttonEl =\n",
              "          document.querySelector('#df-2a10495d-5ab6-4b9d-bb50-109f63d871ec button.colab-df-convert');\n",
              "        buttonEl.style.display =\n",
              "          google.colab.kernel.accessAllowed ? 'block' : 'none';\n",
              "\n",
              "        async function convertToInteractive(key) {\n",
              "          const element = document.querySelector('#df-2a10495d-5ab6-4b9d-bb50-109f63d871ec');\n",
              "          const dataTable =\n",
              "            await google.colab.kernel.invokeFunction('convertToInteractive',\n",
              "                                                     [key], {});\n",
              "          if (!dataTable) return;\n",
              "\n",
              "          const docLinkHtml = 'Like what you see? Visit the ' +\n",
              "            '<a target=\"_blank\" href=https://colab.research.google.com/notebooks/data_table.ipynb>data table notebook</a>'\n",
              "            + ' to learn more about interactive tables.';\n",
              "          element.innerHTML = '';\n",
              "          dataTable['output_type'] = 'display_data';\n",
              "          await google.colab.output.renderOutput(dataTable, element);\n",
              "          const docLink = document.createElement('div');\n",
              "          docLink.innerHTML = docLinkHtml;\n",
              "          element.appendChild(docLink);\n",
              "        }\n",
              "      </script>\n",
              "    </div>\n",
              "  </div>\n",
              "  "
            ]
          },
          "metadata": {},
          "execution_count": 20
        }
      ]
    },
    {
      "cell_type": "code",
      "source": [
        "v_feature_name = df_raw_x.columns\n",
        "\n",
        "scaler = StandardScaler()\n",
        "df_scaled = scaler.fit_transform(df_raw_x)\n",
        "df_scaled = pd.DataFrame(df_scaled, columns = v_feature_name)\n",
        "df_scaled.head()"
      ],
      "metadata": {
        "colab": {
          "base_uri": "https://localhost:8080/",
          "height": 299
        },
        "id": "b544v-YwDHSd",
        "outputId": "a5abcd40-2832-44e1-9d2a-7d1683d09aa8"
      },
      "execution_count": 37,
      "outputs": [
        {
          "output_type": "execute_result",
          "data": {
            "text/plain": [
              "   mean_radius  mean_texture  mean_perimeter  mean_area  mean_smoothness  \\\n",
              "0    -0.157678     -0.879112       -0.165550  -0.232872        -0.744948   \n",
              "1    -1.312779     -2.560965       -1.328928  -1.150194        -0.240274   \n",
              "2     0.695279     -0.420644        0.602798   0.596040        -0.947380   \n",
              "3    -0.211154     -1.301385       -0.255876  -0.308762        -1.291796   \n",
              "4    -0.753945     -1.738136       -0.820314  -0.745704        -2.095198   \n",
              "\n",
              "   mean_compactness  mean_concavity  mean_concave_points  mean_symmetry  \\\n",
              "0         -0.479220       -0.550769            -0.628488      -0.997431   \n",
              "1         -1.153621       -1.143404            -1.199934      -1.773612   \n",
              "2         -0.675307       -0.477679            -0.212084      -0.899042   \n",
              "3         -0.661126       -0.788224            -0.834410      -0.658535   \n",
              "4         -1.505004       -1.175403            -1.326415      -1.933950   \n",
              "\n",
              "   mean_fractal_dimension  ...  worst_radius  worst_texture  worst_perimeter  \\\n",
              "0               -0.392627  ...     -0.149283      -1.156442        -0.153789   \n",
              "1                0.184077  ...     -1.341759      -2.517236        -1.380396   \n",
              "2               -1.174101  ...      0.534893      -0.143296         0.445031   \n",
              "3               -0.834209  ...     -0.263312      -1.490846        -0.312546   \n",
              "4               -0.956793  ...     -0.951354      -1.934512        -0.997708   \n",
              "\n",
              "   worst_area  worst_smoothness  worst_compactness  worst_concavity  \\\n",
              "0   -0.224951          0.490637           0.139396        -0.094470   \n",
              "1   -1.124201          0.254373          -1.046076        -1.159323   \n",
              "2    0.432104         -0.613360          -0.367031         0.004076   \n",
              "3   -0.354487         -1.339335          -0.169261        -0.176669   \n",
              "4   -0.869505         -1.783511          -1.108951        -1.094404   \n",
              "\n",
              "   worst_concave_points  worst_symmetry  worst_fractal_dimension  \n",
              "0             -0.301949        0.525611                 0.511081  \n",
              "1             -1.480312       -1.387506                -0.507149  \n",
              "2              0.172850        0.223844                -0.886803  \n",
              "3             -0.458230       -0.524077                -0.220788  \n",
              "4             -1.366747       -1.071301                -0.898278  \n",
              "\n",
              "[5 rows x 30 columns]"
            ],
            "text/html": [
              "\n",
              "  <div id=\"df-03135cb0-e003-46ac-8ec4-7f9a81f5b77b\">\n",
              "    <div class=\"colab-df-container\">\n",
              "      <div>\n",
              "<style scoped>\n",
              "    .dataframe tbody tr th:only-of-type {\n",
              "        vertical-align: middle;\n",
              "    }\n",
              "\n",
              "    .dataframe tbody tr th {\n",
              "        vertical-align: top;\n",
              "    }\n",
              "\n",
              "    .dataframe thead th {\n",
              "        text-align: right;\n",
              "    }\n",
              "</style>\n",
              "<table border=\"1\" class=\"dataframe\">\n",
              "  <thead>\n",
              "    <tr style=\"text-align: right;\">\n",
              "      <th></th>\n",
              "      <th>mean_radius</th>\n",
              "      <th>mean_texture</th>\n",
              "      <th>mean_perimeter</th>\n",
              "      <th>mean_area</th>\n",
              "      <th>mean_smoothness</th>\n",
              "      <th>mean_compactness</th>\n",
              "      <th>mean_concavity</th>\n",
              "      <th>mean_concave_points</th>\n",
              "      <th>mean_symmetry</th>\n",
              "      <th>mean_fractal_dimension</th>\n",
              "      <th>...</th>\n",
              "      <th>worst_radius</th>\n",
              "      <th>worst_texture</th>\n",
              "      <th>worst_perimeter</th>\n",
              "      <th>worst_area</th>\n",
              "      <th>worst_smoothness</th>\n",
              "      <th>worst_compactness</th>\n",
              "      <th>worst_concavity</th>\n",
              "      <th>worst_concave_points</th>\n",
              "      <th>worst_symmetry</th>\n",
              "      <th>worst_fractal_dimension</th>\n",
              "    </tr>\n",
              "  </thead>\n",
              "  <tbody>\n",
              "    <tr>\n",
              "      <th>0</th>\n",
              "      <td>-0.157678</td>\n",
              "      <td>-0.879112</td>\n",
              "      <td>-0.165550</td>\n",
              "      <td>-0.232872</td>\n",
              "      <td>-0.744948</td>\n",
              "      <td>-0.479220</td>\n",
              "      <td>-0.550769</td>\n",
              "      <td>-0.628488</td>\n",
              "      <td>-0.997431</td>\n",
              "      <td>-0.392627</td>\n",
              "      <td>...</td>\n",
              "      <td>-0.149283</td>\n",
              "      <td>-1.156442</td>\n",
              "      <td>-0.153789</td>\n",
              "      <td>-0.224951</td>\n",
              "      <td>0.490637</td>\n",
              "      <td>0.139396</td>\n",
              "      <td>-0.094470</td>\n",
              "      <td>-0.301949</td>\n",
              "      <td>0.525611</td>\n",
              "      <td>0.511081</td>\n",
              "    </tr>\n",
              "    <tr>\n",
              "      <th>1</th>\n",
              "      <td>-1.312779</td>\n",
              "      <td>-2.560965</td>\n",
              "      <td>-1.328928</td>\n",
              "      <td>-1.150194</td>\n",
              "      <td>-0.240274</td>\n",
              "      <td>-1.153621</td>\n",
              "      <td>-1.143404</td>\n",
              "      <td>-1.199934</td>\n",
              "      <td>-1.773612</td>\n",
              "      <td>0.184077</td>\n",
              "      <td>...</td>\n",
              "      <td>-1.341759</td>\n",
              "      <td>-2.517236</td>\n",
              "      <td>-1.380396</td>\n",
              "      <td>-1.124201</td>\n",
              "      <td>0.254373</td>\n",
              "      <td>-1.046076</td>\n",
              "      <td>-1.159323</td>\n",
              "      <td>-1.480312</td>\n",
              "      <td>-1.387506</td>\n",
              "      <td>-0.507149</td>\n",
              "    </tr>\n",
              "    <tr>\n",
              "      <th>2</th>\n",
              "      <td>0.695279</td>\n",
              "      <td>-0.420644</td>\n",
              "      <td>0.602798</td>\n",
              "      <td>0.596040</td>\n",
              "      <td>-0.947380</td>\n",
              "      <td>-0.675307</td>\n",
              "      <td>-0.477679</td>\n",
              "      <td>-0.212084</td>\n",
              "      <td>-0.899042</td>\n",
              "      <td>-1.174101</td>\n",
              "      <td>...</td>\n",
              "      <td>0.534893</td>\n",
              "      <td>-0.143296</td>\n",
              "      <td>0.445031</td>\n",
              "      <td>0.432104</td>\n",
              "      <td>-0.613360</td>\n",
              "      <td>-0.367031</td>\n",
              "      <td>0.004076</td>\n",
              "      <td>0.172850</td>\n",
              "      <td>0.223844</td>\n",
              "      <td>-0.886803</td>\n",
              "    </tr>\n",
              "    <tr>\n",
              "      <th>3</th>\n",
              "      <td>-0.211154</td>\n",
              "      <td>-1.301385</td>\n",
              "      <td>-0.255876</td>\n",
              "      <td>-0.308762</td>\n",
              "      <td>-1.291796</td>\n",
              "      <td>-0.661126</td>\n",
              "      <td>-0.788224</td>\n",
              "      <td>-0.834410</td>\n",
              "      <td>-0.658535</td>\n",
              "      <td>-0.834209</td>\n",
              "      <td>...</td>\n",
              "      <td>-0.263312</td>\n",
              "      <td>-1.490846</td>\n",
              "      <td>-0.312546</td>\n",
              "      <td>-0.354487</td>\n",
              "      <td>-1.339335</td>\n",
              "      <td>-0.169261</td>\n",
              "      <td>-0.176669</td>\n",
              "      <td>-0.458230</td>\n",
              "      <td>-0.524077</td>\n",
              "      <td>-0.220788</td>\n",
              "    </tr>\n",
              "    <tr>\n",
              "      <th>4</th>\n",
              "      <td>-0.753945</td>\n",
              "      <td>-1.738136</td>\n",
              "      <td>-0.820314</td>\n",
              "      <td>-0.745704</td>\n",
              "      <td>-2.095198</td>\n",
              "      <td>-1.505004</td>\n",
              "      <td>-1.175403</td>\n",
              "      <td>-1.326415</td>\n",
              "      <td>-1.933950</td>\n",
              "      <td>-0.956793</td>\n",
              "      <td>...</td>\n",
              "      <td>-0.951354</td>\n",
              "      <td>-1.934512</td>\n",
              "      <td>-0.997708</td>\n",
              "      <td>-0.869505</td>\n",
              "      <td>-1.783511</td>\n",
              "      <td>-1.108951</td>\n",
              "      <td>-1.094404</td>\n",
              "      <td>-1.366747</td>\n",
              "      <td>-1.071301</td>\n",
              "      <td>-0.898278</td>\n",
              "    </tr>\n",
              "  </tbody>\n",
              "</table>\n",
              "<p>5 rows × 30 columns</p>\n",
              "</div>\n",
              "      <button class=\"colab-df-convert\" onclick=\"convertToInteractive('df-03135cb0-e003-46ac-8ec4-7f9a81f5b77b')\"\n",
              "              title=\"Convert this dataframe to an interactive table.\"\n",
              "              style=\"display:none;\">\n",
              "        \n",
              "  <svg xmlns=\"http://www.w3.org/2000/svg\" height=\"24px\"viewBox=\"0 0 24 24\"\n",
              "       width=\"24px\">\n",
              "    <path d=\"M0 0h24v24H0V0z\" fill=\"none\"/>\n",
              "    <path d=\"M18.56 5.44l.94 2.06.94-2.06 2.06-.94-2.06-.94-.94-2.06-.94 2.06-2.06.94zm-11 1L8.5 8.5l.94-2.06 2.06-.94-2.06-.94L8.5 2.5l-.94 2.06-2.06.94zm10 10l.94 2.06.94-2.06 2.06-.94-2.06-.94-.94-2.06-.94 2.06-2.06.94z\"/><path d=\"M17.41 7.96l-1.37-1.37c-.4-.4-.92-.59-1.43-.59-.52 0-1.04.2-1.43.59L10.3 9.45l-7.72 7.72c-.78.78-.78 2.05 0 2.83L4 21.41c.39.39.9.59 1.41.59.51 0 1.02-.2 1.41-.59l7.78-7.78 2.81-2.81c.8-.78.8-2.07 0-2.86zM5.41 20L4 18.59l7.72-7.72 1.47 1.35L5.41 20z\"/>\n",
              "  </svg>\n",
              "      </button>\n",
              "      \n",
              "  <style>\n",
              "    .colab-df-container {\n",
              "      display:flex;\n",
              "      flex-wrap:wrap;\n",
              "      gap: 12px;\n",
              "    }\n",
              "\n",
              "    .colab-df-convert {\n",
              "      background-color: #E8F0FE;\n",
              "      border: none;\n",
              "      border-radius: 50%;\n",
              "      cursor: pointer;\n",
              "      display: none;\n",
              "      fill: #1967D2;\n",
              "      height: 32px;\n",
              "      padding: 0 0 0 0;\n",
              "      width: 32px;\n",
              "    }\n",
              "\n",
              "    .colab-df-convert:hover {\n",
              "      background-color: #E2EBFA;\n",
              "      box-shadow: 0px 1px 2px rgba(60, 64, 67, 0.3), 0px 1px 3px 1px rgba(60, 64, 67, 0.15);\n",
              "      fill: #174EA6;\n",
              "    }\n",
              "\n",
              "    [theme=dark] .colab-df-convert {\n",
              "      background-color: #3B4455;\n",
              "      fill: #D2E3FC;\n",
              "    }\n",
              "\n",
              "    [theme=dark] .colab-df-convert:hover {\n",
              "      background-color: #434B5C;\n",
              "      box-shadow: 0px 1px 3px 1px rgba(0, 0, 0, 0.15);\n",
              "      filter: drop-shadow(0px 1px 2px rgba(0, 0, 0, 0.3));\n",
              "      fill: #FFFFFF;\n",
              "    }\n",
              "  </style>\n",
              "\n",
              "      <script>\n",
              "        const buttonEl =\n",
              "          document.querySelector('#df-03135cb0-e003-46ac-8ec4-7f9a81f5b77b button.colab-df-convert');\n",
              "        buttonEl.style.display =\n",
              "          google.colab.kernel.accessAllowed ? 'block' : 'none';\n",
              "\n",
              "        async function convertToInteractive(key) {\n",
              "          const element = document.querySelector('#df-03135cb0-e003-46ac-8ec4-7f9a81f5b77b');\n",
              "          const dataTable =\n",
              "            await google.colab.kernel.invokeFunction('convertToInteractive',\n",
              "                                                     [key], {});\n",
              "          if (!dataTable) return;\n",
              "\n",
              "          const docLinkHtml = 'Like what you see? Visit the ' +\n",
              "            '<a target=\"_blank\" href=https://colab.research.google.com/notebooks/data_table.ipynb>data table notebook</a>'\n",
              "            + ' to learn more about interactive tables.';\n",
              "          element.innerHTML = '';\n",
              "          dataTable['output_type'] = 'display_data';\n",
              "          await google.colab.output.renderOutput(dataTable, element);\n",
              "          const docLink = document.createElement('div');\n",
              "          docLink.innerHTML = docLinkHtml;\n",
              "          element.appendChild(docLink);\n",
              "        }\n",
              "      </script>\n",
              "    </div>\n",
              "  </div>\n",
              "  "
            ]
          },
          "metadata": {},
          "execution_count": 37
        }
      ]
    },
    {
      "cell_type": "code",
      "source": [
        "df_scaled_train_x, df_scaled_test_x, df_train_y, df_test_y = train_test_split(df_scaled,\n",
        "                                                                              df_raw_y,\n",
        "                                                                              test_size = 0.4,\n",
        "                                                                              random_state = 1234)\n",
        "\n",
        "print('train x 크기 : {}'.format(df_scaled_train_x.shape))\n",
        "print('test x 크기 : {}'.format(df_scaled_test_x.shape))\n",
        "print('train y 크기 : {}'.format(df_train_y.shape))\n",
        "print('test y 크기 : {}'.format(df_test_y.shape))"
      ],
      "metadata": {
        "colab": {
          "base_uri": "https://localhost:8080/"
        },
        "id": "-03KiGhW_Ufc",
        "outputId": "e90523b0-96af-4964-cbfc-2c7fd5d674a6"
      },
      "execution_count": 38,
      "outputs": [
        {
          "output_type": "stream",
          "name": "stdout",
          "text": [
            "train x 크기 : (192, 30)\n",
            "test x 크기 : (128, 30)\n",
            "train y 크기 : (192,)\n",
            "test y 크기 : (128,)\n"
          ]
        }
      ]
    },
    {
      "cell_type": "markdown",
      "source": [
        "### **MLP 모델 생성하기**"
      ],
      "metadata": {
        "id": "gLRCtvV3A6u4"
      }
    },
    {
      "cell_type": "code",
      "source": [
        "nn_uncustomized = MLPClassifier(random_state =1234)\n",
        "nn_uncustomized.fit(df_scaled_train_x, df_train_y)\n",
        "\n",
        "print('Accuracy on train set : {}'.format(nn_uncustomized.score(df_scaled_train_x, df_train_y).round(3)))\n",
        "print('Accuracy on test set : {}'.format(nn_uncustomized.score(df_scaled_test_x, df_test_y).round(3)))"
      ],
      "metadata": {
        "colab": {
          "base_uri": "https://localhost:8080/"
        },
        "id": "uqcFSEohAzrX",
        "outputId": "05c75726-acd4-4de2-f609-47fcb06aa326"
      },
      "execution_count": 39,
      "outputs": [
        {
          "output_type": "stream",
          "name": "stdout",
          "text": [
            "Accuracy on train set : 0.995\n",
            "Accuracy on test set : 0.953\n"
          ]
        },
        {
          "output_type": "stream",
          "name": "stderr",
          "text": [
            "/usr/local/lib/python3.7/dist-packages/sklearn/neural_network/_multilayer_perceptron.py:696: ConvergenceWarning: Stochastic Optimizer: Maximum iterations (200) reached and the optimization hasn't converged yet.\n",
            "  ConvergenceWarning,\n"
          ]
        }
      ]
    },
    {
      "cell_type": "markdown",
      "source": [
        "해당 MLP 모델은 train과 test 데이터에 대해 각각 99.5%, 95.3%의 설명력을 갖는다."
      ],
      "metadata": {
        "id": "Kr4s176lBU-T"
      }
    },
    {
      "cell_type": "markdown",
      "source": [
        "### **모델 파라미터 변경하기 : Hidden Layer**"
      ],
      "metadata": {
        "id": "96JzDXq7BauF"
      }
    },
    {
      "cell_type": "code",
      "source": [
        "train_accuracy = []; test_accuracy = []\n",
        "para_hidden = [hidden * 20 for hidden in range(1,8)]\n",
        "\n",
        "for v_hidden in para_hidden :\n",
        "    nn = MLPClassifier(hidden_layer_sizes = v_hidden, random_state =1234)\n",
        "    nn.fit(df_scaled_train_x, df_train_y)\n",
        "    train_accuracy.append(nn.score(df_scaled_train_x, df_train_y))\n",
        "    test_accuracy.append(nn.score(df_scaled_test_x, df_test_y))\n",
        "\n",
        "df_accuracy_hidden = pd.DataFrame()\n",
        "df_accuracy_hidden['hidden_layer'] = para_hidden\n",
        "df_accuracy_hidden['TrainAccuracy'] = train_accuracy\n",
        "df_accuracy_hidden['TestAccuracy'] = test_accuracy"
      ],
      "metadata": {
        "colab": {
          "base_uri": "https://localhost:8080/"
        },
        "id": "x6ksJ8CDA9Fn",
        "outputId": "48c3fcdb-2417-43af-c638-41cf3bd94b19"
      },
      "execution_count": 43,
      "outputs": [
        {
          "output_type": "stream",
          "name": "stderr",
          "text": [
            "/usr/local/lib/python3.7/dist-packages/sklearn/neural_network/_multilayer_perceptron.py:696: ConvergenceWarning: Stochastic Optimizer: Maximum iterations (200) reached and the optimization hasn't converged yet.\n",
            "  ConvergenceWarning,\n",
            "/usr/local/lib/python3.7/dist-packages/sklearn/neural_network/_multilayer_perceptron.py:696: ConvergenceWarning: Stochastic Optimizer: Maximum iterations (200) reached and the optimization hasn't converged yet.\n",
            "  ConvergenceWarning,\n",
            "/usr/local/lib/python3.7/dist-packages/sklearn/neural_network/_multilayer_perceptron.py:696: ConvergenceWarning: Stochastic Optimizer: Maximum iterations (200) reached and the optimization hasn't converged yet.\n",
            "  ConvergenceWarning,\n",
            "/usr/local/lib/python3.7/dist-packages/sklearn/neural_network/_multilayer_perceptron.py:696: ConvergenceWarning: Stochastic Optimizer: Maximum iterations (200) reached and the optimization hasn't converged yet.\n",
            "  ConvergenceWarning,\n",
            "/usr/local/lib/python3.7/dist-packages/sklearn/neural_network/_multilayer_perceptron.py:696: ConvergenceWarning: Stochastic Optimizer: Maximum iterations (200) reached and the optimization hasn't converged yet.\n",
            "  ConvergenceWarning,\n",
            "/usr/local/lib/python3.7/dist-packages/sklearn/neural_network/_multilayer_perceptron.py:696: ConvergenceWarning: Stochastic Optimizer: Maximum iterations (200) reached and the optimization hasn't converged yet.\n",
            "  ConvergenceWarning,\n",
            "/usr/local/lib/python3.7/dist-packages/sklearn/neural_network/_multilayer_perceptron.py:696: ConvergenceWarning: Stochastic Optimizer: Maximum iterations (200) reached and the optimization hasn't converged yet.\n",
            "  ConvergenceWarning,\n"
          ]
        }
      ]
    },
    {
      "cell_type": "code",
      "source": [
        "df_accuracy_hidden.round(3)"
      ],
      "metadata": {
        "colab": {
          "base_uri": "https://localhost:8080/",
          "height": 269
        },
        "id": "eU0C2fK2A9HK",
        "outputId": "d7a6d89c-72d2-4504-b8f7-c1179af7ed3d"
      },
      "execution_count": 44,
      "outputs": [
        {
          "output_type": "execute_result",
          "data": {
            "text/plain": [
              "   hidden_layer  TrainAccuracy  TestAccuracy\n",
              "0            20          0.995         0.938\n",
              "1            40          0.995         0.945\n",
              "2            60          0.995         0.945\n",
              "3            80          0.995         0.938\n",
              "4           100          0.995         0.953\n",
              "5           120          0.995         0.953\n",
              "6           140          0.995         0.953"
            ],
            "text/html": [
              "\n",
              "  <div id=\"df-7d2adedd-2b13-437f-a9ab-fce293270d88\">\n",
              "    <div class=\"colab-df-container\">\n",
              "      <div>\n",
              "<style scoped>\n",
              "    .dataframe tbody tr th:only-of-type {\n",
              "        vertical-align: middle;\n",
              "    }\n",
              "\n",
              "    .dataframe tbody tr th {\n",
              "        vertical-align: top;\n",
              "    }\n",
              "\n",
              "    .dataframe thead th {\n",
              "        text-align: right;\n",
              "    }\n",
              "</style>\n",
              "<table border=\"1\" class=\"dataframe\">\n",
              "  <thead>\n",
              "    <tr style=\"text-align: right;\">\n",
              "      <th></th>\n",
              "      <th>hidden_layer</th>\n",
              "      <th>TrainAccuracy</th>\n",
              "      <th>TestAccuracy</th>\n",
              "    </tr>\n",
              "  </thead>\n",
              "  <tbody>\n",
              "    <tr>\n",
              "      <th>0</th>\n",
              "      <td>20</td>\n",
              "      <td>0.995</td>\n",
              "      <td>0.938</td>\n",
              "    </tr>\n",
              "    <tr>\n",
              "      <th>1</th>\n",
              "      <td>40</td>\n",
              "      <td>0.995</td>\n",
              "      <td>0.945</td>\n",
              "    </tr>\n",
              "    <tr>\n",
              "      <th>2</th>\n",
              "      <td>60</td>\n",
              "      <td>0.995</td>\n",
              "      <td>0.945</td>\n",
              "    </tr>\n",
              "    <tr>\n",
              "      <th>3</th>\n",
              "      <td>80</td>\n",
              "      <td>0.995</td>\n",
              "      <td>0.938</td>\n",
              "    </tr>\n",
              "    <tr>\n",
              "      <th>4</th>\n",
              "      <td>100</td>\n",
              "      <td>0.995</td>\n",
              "      <td>0.953</td>\n",
              "    </tr>\n",
              "    <tr>\n",
              "      <th>5</th>\n",
              "      <td>120</td>\n",
              "      <td>0.995</td>\n",
              "      <td>0.953</td>\n",
              "    </tr>\n",
              "    <tr>\n",
              "      <th>6</th>\n",
              "      <td>140</td>\n",
              "      <td>0.995</td>\n",
              "      <td>0.953</td>\n",
              "    </tr>\n",
              "  </tbody>\n",
              "</table>\n",
              "</div>\n",
              "      <button class=\"colab-df-convert\" onclick=\"convertToInteractive('df-7d2adedd-2b13-437f-a9ab-fce293270d88')\"\n",
              "              title=\"Convert this dataframe to an interactive table.\"\n",
              "              style=\"display:none;\">\n",
              "        \n",
              "  <svg xmlns=\"http://www.w3.org/2000/svg\" height=\"24px\"viewBox=\"0 0 24 24\"\n",
              "       width=\"24px\">\n",
              "    <path d=\"M0 0h24v24H0V0z\" fill=\"none\"/>\n",
              "    <path d=\"M18.56 5.44l.94 2.06.94-2.06 2.06-.94-2.06-.94-.94-2.06-.94 2.06-2.06.94zm-11 1L8.5 8.5l.94-2.06 2.06-.94-2.06-.94L8.5 2.5l-.94 2.06-2.06.94zm10 10l.94 2.06.94-2.06 2.06-.94-2.06-.94-.94-2.06-.94 2.06-2.06.94z\"/><path d=\"M17.41 7.96l-1.37-1.37c-.4-.4-.92-.59-1.43-.59-.52 0-1.04.2-1.43.59L10.3 9.45l-7.72 7.72c-.78.78-.78 2.05 0 2.83L4 21.41c.39.39.9.59 1.41.59.51 0 1.02-.2 1.41-.59l7.78-7.78 2.81-2.81c.8-.78.8-2.07 0-2.86zM5.41 20L4 18.59l7.72-7.72 1.47 1.35L5.41 20z\"/>\n",
              "  </svg>\n",
              "      </button>\n",
              "      \n",
              "  <style>\n",
              "    .colab-df-container {\n",
              "      display:flex;\n",
              "      flex-wrap:wrap;\n",
              "      gap: 12px;\n",
              "    }\n",
              "\n",
              "    .colab-df-convert {\n",
              "      background-color: #E8F0FE;\n",
              "      border: none;\n",
              "      border-radius: 50%;\n",
              "      cursor: pointer;\n",
              "      display: none;\n",
              "      fill: #1967D2;\n",
              "      height: 32px;\n",
              "      padding: 0 0 0 0;\n",
              "      width: 32px;\n",
              "    }\n",
              "\n",
              "    .colab-df-convert:hover {\n",
              "      background-color: #E2EBFA;\n",
              "      box-shadow: 0px 1px 2px rgba(60, 64, 67, 0.3), 0px 1px 3px 1px rgba(60, 64, 67, 0.15);\n",
              "      fill: #174EA6;\n",
              "    }\n",
              "\n",
              "    [theme=dark] .colab-df-convert {\n",
              "      background-color: #3B4455;\n",
              "      fill: #D2E3FC;\n",
              "    }\n",
              "\n",
              "    [theme=dark] .colab-df-convert:hover {\n",
              "      background-color: #434B5C;\n",
              "      box-shadow: 0px 1px 3px 1px rgba(0, 0, 0, 0.15);\n",
              "      filter: drop-shadow(0px 1px 2px rgba(0, 0, 0, 0.3));\n",
              "      fill: #FFFFFF;\n",
              "    }\n",
              "  </style>\n",
              "\n",
              "      <script>\n",
              "        const buttonEl =\n",
              "          document.querySelector('#df-7d2adedd-2b13-437f-a9ab-fce293270d88 button.colab-df-convert');\n",
              "        buttonEl.style.display =\n",
              "          google.colab.kernel.accessAllowed ? 'block' : 'none';\n",
              "\n",
              "        async function convertToInteractive(key) {\n",
              "          const element = document.querySelector('#df-7d2adedd-2b13-437f-a9ab-fce293270d88');\n",
              "          const dataTable =\n",
              "            await google.colab.kernel.invokeFunction('convertToInteractive',\n",
              "                                                     [key], {});\n",
              "          if (!dataTable) return;\n",
              "\n",
              "          const docLinkHtml = 'Like what you see? Visit the ' +\n",
              "            '<a target=\"_blank\" href=https://colab.research.google.com/notebooks/data_table.ipynb>data table notebook</a>'\n",
              "            + ' to learn more about interactive tables.';\n",
              "          element.innerHTML = '';\n",
              "          dataTable['output_type'] = 'display_data';\n",
              "          await google.colab.output.renderOutput(dataTable, element);\n",
              "          const docLink = document.createElement('div');\n",
              "          docLink.innerHTML = docLinkHtml;\n",
              "          element.appendChild(docLink);\n",
              "        }\n",
              "      </script>\n",
              "    </div>\n",
              "  </div>\n",
              "  "
            ]
          },
          "metadata": {},
          "execution_count": 44
        }
      ]
    },
    {
      "cell_type": "code",
      "source": [
        "plt.plot(para_hidden, train_accuracy, linestyle = '-', label = 'Train Accuracy')\n",
        "plt.plot(para_hidden, test_accuracy, linestyle = '-', label = 'Test Accuracy')\n",
        "plt.ylabel('Accuracy'); plt.xlabel('hidden_layer')\n",
        "plt.legend()\n",
        "plt.show()"
      ],
      "metadata": {
        "colab": {
          "base_uri": "https://localhost:8080/",
          "height": 280
        },
        "id": "GkbeqsCYA9Ka",
        "outputId": "f30a1290-5397-4992-e3ab-917de4f88403"
      },
      "execution_count": 45,
      "outputs": [
        {
          "output_type": "display_data",
          "data": {
            "text/plain": [
              "<Figure size 432x288 with 1 Axes>"
            ],
            "image/png": "[encoded data removed]"
          },
          "metadata": {
            "needs_background": "light"
          }
        }
      ]
    },
    {
      "cell_type": "markdown",
      "source": [
        "- hidden layer가 증가하여도 모델의 성능에 큰 변화가 없다.\n",
        "- test accuracy가 0.953, train accuracy가 0.995인 **hidden_layer_sizes = 100**을 선택한다."
      ],
      "metadata": {
        "id": "-dPWc77iCiNN"
      }
    },
    {
      "cell_type": "markdown",
      "source": [
        "### **모델 파라미터 변경하기 : Activation Function**"
      ],
      "metadata": {
        "id": "LtGlSnD3Ejdc"
      }
    },
    {
      "cell_type": "code",
      "source": [
        "train_accuracy = []; test_accuracy = []\n",
        "para_function = ['logistic', 'tanh', 'relu']\n",
        "\n",
        "for v_function in para_function :\n",
        "    nn = MLPClassifier(hidden_layer_sizes = (100,100),\n",
        "                       activation = v_function,\n",
        "                       random_state = 1234)\n",
        "    nn.fit(df_scaled_train_x, df_train_y)\n",
        "    train_accuracy.append(nn.score(df_scaled_train_x, df_train_y))\n",
        "    test_accuracy.append(nn.score(df_scaled_test_x, df_test_y))\n",
        "\n",
        "df_accuracy_function = pd.DataFrame()\n",
        "df_accuracy_function['ActivationFunction'] = para_function\n",
        "df_accuracy_function['TrainAccuracy'] = train_accuracy\n",
        "df_accuracy_function['TestAccuracy'] = test_accuracy"
      ],
      "metadata": {
        "colab": {
          "base_uri": "https://localhost:8080/"
        },
        "id": "7OFDq9b5A9MR",
        "outputId": "bca1966b-83c7-4265-d934-b452cf22d678"
      },
      "execution_count": 49,
      "outputs": [
        {
          "output_type": "stream",
          "name": "stderr",
          "text": [
            "/usr/local/lib/python3.7/dist-packages/sklearn/neural_network/_multilayer_perceptron.py:696: ConvergenceWarning: Stochastic Optimizer: Maximum iterations (200) reached and the optimization hasn't converged yet.\n",
            "  ConvergenceWarning,\n"
          ]
        }
      ]
    },
    {
      "cell_type": "code",
      "source": [
        "df_accuracy_function.round(3)"
      ],
      "metadata": {
        "colab": {
          "base_uri": "https://localhost:8080/",
          "height": 143
        },
        "id": "kK3hMw2UA9Pb",
        "outputId": "d84e15bc-6763-4cba-8619-c84478ff4d09"
      },
      "execution_count": 50,
      "outputs": [
        {
          "output_type": "execute_result",
          "data": {
            "text/plain": [
              "  ActivationFunction  TrainAccuracy  TestAccuracy\n",
              "0           logistic          0.995         0.938\n",
              "1               tanh          1.000         0.945\n",
              "2               relu          1.000         0.945"
            ],
            "text/html": [
              "\n",
              "  <div id=\"df-8b89ea9a-3471-4192-82d4-c53fb02f2399\">\n",
              "    <div class=\"colab-df-container\">\n",
              "      <div>\n",
              "<style scoped>\n",
              "    .dataframe tbody tr th:only-of-type {\n",
              "        vertical-align: middle;\n",
              "    }\n",
              "\n",
              "    .dataframe tbody tr th {\n",
              "        vertical-align: top;\n",
              "    }\n",
              "\n",
              "    .dataframe thead th {\n",
              "        text-align: right;\n",
              "    }\n",
              "</style>\n",
              "<table border=\"1\" class=\"dataframe\">\n",
              "  <thead>\n",
              "    <tr style=\"text-align: right;\">\n",
              "      <th></th>\n",
              "      <th>ActivationFunction</th>\n",
              "      <th>TrainAccuracy</th>\n",
              "      <th>TestAccuracy</th>\n",
              "    </tr>\n",
              "  </thead>\n",
              "  <tbody>\n",
              "    <tr>\n",
              "      <th>0</th>\n",
              "      <td>logistic</td>\n",
              "      <td>0.995</td>\n",
              "      <td>0.938</td>\n",
              "    </tr>\n",
              "    <tr>\n",
              "      <th>1</th>\n",
              "      <td>tanh</td>\n",
              "      <td>1.000</td>\n",
              "      <td>0.945</td>\n",
              "    </tr>\n",
              "    <tr>\n",
              "      <th>2</th>\n",
              "      <td>relu</td>\n",
              "      <td>1.000</td>\n",
              "      <td>0.945</td>\n",
              "    </tr>\n",
              "  </tbody>\n",
              "</table>\n",
              "</div>\n",
              "      <button class=\"colab-df-convert\" onclick=\"convertToInteractive('df-8b89ea9a-3471-4192-82d4-c53fb02f2399')\"\n",
              "              title=\"Convert this dataframe to an interactive table.\"\n",
              "              style=\"display:none;\">\n",
              "        \n",
              "  <svg xmlns=\"http://www.w3.org/2000/svg\" height=\"24px\"viewBox=\"0 0 24 24\"\n",
              "       width=\"24px\">\n",
              "    <path d=\"M0 0h24v24H0V0z\" fill=\"none\"/>\n",
              "    <path d=\"M18.56 5.44l.94 2.06.94-2.06 2.06-.94-2.06-.94-.94-2.06-.94 2.06-2.06.94zm-11 1L8.5 8.5l.94-2.06 2.06-.94-2.06-.94L8.5 2.5l-.94 2.06-2.06.94zm10 10l.94 2.06.94-2.06 2.06-.94-2.06-.94-.94-2.06-.94 2.06-2.06.94z\"/><path d=\"M17.41 7.96l-1.37-1.37c-.4-.4-.92-.59-1.43-.59-.52 0-1.04.2-1.43.59L10.3 9.45l-7.72 7.72c-.78.78-.78 2.05 0 2.83L4 21.41c.39.39.9.59 1.41.59.51 0 1.02-.2 1.41-.59l7.78-7.78 2.81-2.81c.8-.78.8-2.07 0-2.86zM5.41 20L4 18.59l7.72-7.72 1.47 1.35L5.41 20z\"/>\n",
              "  </svg>\n",
              "      </button>\n",
              "      \n",
              "  <style>\n",
              "    .colab-df-container {\n",
              "      display:flex;\n",
              "      flex-wrap:wrap;\n",
              "      gap: 12px;\n",
              "    }\n",
              "\n",
              "    .colab-df-convert {\n",
              "      background-color: #E8F0FE;\n",
              "      border: none;\n",
              "      border-radius: 50%;\n",
              "      cursor: pointer;\n",
              "      display: none;\n",
              "      fill: #1967D2;\n",
              "      height: 32px;\n",
              "      padding: 0 0 0 0;\n",
              "      width: 32px;\n",
              "    }\n",
              "\n",
              "    .colab-df-convert:hover {\n",
              "      background-color: #E2EBFA;\n",
              "      box-shadow: 0px 1px 2px rgba(60, 64, 67, 0.3), 0px 1px 3px 1px rgba(60, 64, 67, 0.15);\n",
              "      fill: #174EA6;\n",
              "    }\n",
              "\n",
              "    [theme=dark] .colab-df-convert {\n",
              "      background-color: #3B4455;\n",
              "      fill: #D2E3FC;\n",
              "    }\n",
              "\n",
              "    [theme=dark] .colab-df-convert:hover {\n",
              "      background-color: #434B5C;\n",
              "      box-shadow: 0px 1px 3px 1px rgba(0, 0, 0, 0.15);\n",
              "      filter: drop-shadow(0px 1px 2px rgba(0, 0, 0, 0.3));\n",
              "      fill: #FFFFFF;\n",
              "    }\n",
              "  </style>\n",
              "\n",
              "      <script>\n",
              "        const buttonEl =\n",
              "          document.querySelector('#df-8b89ea9a-3471-4192-82d4-c53fb02f2399 button.colab-df-convert');\n",
              "        buttonEl.style.display =\n",
              "          google.colab.kernel.accessAllowed ? 'block' : 'none';\n",
              "\n",
              "        async function convertToInteractive(key) {\n",
              "          const element = document.querySelector('#df-8b89ea9a-3471-4192-82d4-c53fb02f2399');\n",
              "          const dataTable =\n",
              "            await google.colab.kernel.invokeFunction('convertToInteractive',\n",
              "                                                     [key], {});\n",
              "          if (!dataTable) return;\n",
              "\n",
              "          const docLinkHtml = 'Like what you see? Visit the ' +\n",
              "            '<a target=\"_blank\" href=https://colab.research.google.com/notebooks/data_table.ipynb>data table notebook</a>'\n",
              "            + ' to learn more about interactive tables.';\n",
              "          element.innerHTML = '';\n",
              "          dataTable['output_type'] = 'display_data';\n",
              "          await google.colab.output.renderOutput(dataTable, element);\n",
              "          const docLink = document.createElement('div');\n",
              "          docLink.innerHTML = docLinkHtml;\n",
              "          element.appendChild(docLink);\n",
              "        }\n",
              "      </script>\n",
              "    </div>\n",
              "  </div>\n",
              "  "
            ]
          },
          "metadata": {},
          "execution_count": 50
        }
      ]
    },
    {
      "cell_type": "code",
      "source": [
        "plt.plot(para_function, train_accuracy, linestyle = '-', label = 'TrainAcccuracy')\n",
        "plt.plot(para_function, test_accuracy, linestyle = '-', label = 'TestAcccuracy')\n",
        "plt.ylabel('accuracy'); plt.xlabel('ActivationFunction')\n",
        "plt.legend()\n",
        "plt.show()"
      ],
      "metadata": {
        "colab": {
          "base_uri": "https://localhost:8080/",
          "height": 279
        },
        "id": "iu_TCzluA9RL",
        "outputId": "9633912a-d003-4ae7-e31d-c2fc9376e56f"
      },
      "execution_count": 51,
      "outputs": [
        {
          "output_type": "display_data",
          "data": {
            "text/plain": [
              "<Figure size 432x288 with 1 Axes>"
            ],
            "image/png": "[encoded data removed]"
          },
          "metadata": {
            "needs_background": "light"
          }
        }
      ]
    },
    {
      "cell_type": "markdown",
      "source": [
        "- 활성화 함수가 logistic일 때에 비해 tanh, relu일 때 모델의 성능이 향상되지만, train 데이터에 대해 과대적합의 현상이 발견되고 있는 것으로 보인다.\n",
        "- testscore가 0.938, trainscore가 0.995인 **activation = logistic**을 선택한다."
      ],
      "metadata": {
        "id": "a0-Z1HNSGJnS"
      }
    },
    {
      "cell_type": "markdown",
      "source": [
        "### **모델 파라미터 변경하기 : Solver**\n"
      ],
      "metadata": {
        "id": "kL97TygsGp8V"
      }
    },
    {
      "cell_type": "code",
      "source": [
        "train_accuracy = []; test_accuracy = []\n",
        "para_solver = ['lbfgs', 'sgd', 'adam']\n",
        "\n",
        "for v_solver in para_solver :\n",
        "    nn = MLPClassifier(hidden_layer_sizes = (100,100),\n",
        "                       activation = 'logistic',\n",
        "                       solver = v_solver,\n",
        "                       random_state = 1234)\n",
        "    nn.fit(df_scaled_train_x, df_train_y)\n",
        "    train_accuracy.append(nn.score(df_scaled_train_x, df_train_y))\n",
        "    test_accuracy.append(nn.score(df_scaled_test_x, df_test_y))\n",
        "\n",
        "df_accuracy_solver = pd.DataFrame()\n",
        "df_accuracy_solver['Solver'] = para_solver\n",
        "df_accuracy_solver['TrainAccuracy'] = train_accuracy\n",
        "df_accuracy_solver['TestAccuracy'] = test_accuracy"
      ],
      "metadata": {
        "colab": {
          "base_uri": "https://localhost:8080/"
        },
        "outputId": "527b96b6-6e28-4e24-ec63-7993141a05b7",
        "id": "lLqjL79dGp8W"
      },
      "execution_count": 52,
      "outputs": [
        {
          "output_type": "stream",
          "name": "stderr",
          "text": [
            "/usr/local/lib/python3.7/dist-packages/sklearn/neural_network/_multilayer_perceptron.py:696: ConvergenceWarning: Stochastic Optimizer: Maximum iterations (200) reached and the optimization hasn't converged yet.\n",
            "  ConvergenceWarning,\n"
          ]
        }
      ]
    },
    {
      "cell_type": "code",
      "source": [
        "df_accuracy_solver.round(3)"
      ],
      "metadata": {
        "colab": {
          "base_uri": "https://localhost:8080/",
          "height": 143
        },
        "outputId": "ae3723e2-cabc-44c9-e54e-4eddcbeab7e4",
        "id": "i024bUC9Gp8W"
      },
      "execution_count": 53,
      "outputs": [
        {
          "output_type": "execute_result",
          "data": {
            "text/plain": [
              "  Solver  TrainAccuracy  TestAccuracy\n",
              "0  lbfgs          1.000         0.930\n",
              "1    sgd          0.599         0.758\n",
              "2   adam          0.995         0.938"
            ],
            "text/html": [
              "\n",
              "  <div id=\"df-6d722846-ec4a-4d3c-a5c2-3512562e15cf\">\n",
              "    <div class=\"colab-df-container\">\n",
              "      <div>\n",
              "<style scoped>\n",
              "    .dataframe tbody tr th:only-of-type {\n",
              "        vertical-align: middle;\n",
              "    }\n",
              "\n",
              "    .dataframe tbody tr th {\n",
              "        vertical-align: top;\n",
              "    }\n",
              "\n",
              "    .dataframe thead th {\n",
              "        text-align: right;\n",
              "    }\n",
              "</style>\n",
              "<table border=\"1\" class=\"dataframe\">\n",
              "  <thead>\n",
              "    <tr style=\"text-align: right;\">\n",
              "      <th></th>\n",
              "      <th>Solver</th>\n",
              "      <th>TrainAccuracy</th>\n",
              "      <th>TestAccuracy</th>\n",
              "    </tr>\n",
              "  </thead>\n",
              "  <tbody>\n",
              "    <tr>\n",
              "      <th>0</th>\n",
              "      <td>lbfgs</td>\n",
              "      <td>1.000</td>\n",
              "      <td>0.930</td>\n",
              "    </tr>\n",
              "    <tr>\n",
              "      <th>1</th>\n",
              "      <td>sgd</td>\n",
              "      <td>0.599</td>\n",
              "      <td>0.758</td>\n",
              "    </tr>\n",
              "    <tr>\n",
              "      <th>2</th>\n",
              "      <td>adam</td>\n",
              "      <td>0.995</td>\n",
              "      <td>0.938</td>\n",
              "    </tr>\n",
              "  </tbody>\n",
              "</table>\n",
              "</div>\n",
              "      <button class=\"colab-df-convert\" onclick=\"convertToInteractive('df-6d722846-ec4a-4d3c-a5c2-3512562e15cf')\"\n",
              "              title=\"Convert this dataframe to an interactive table.\"\n",
              "              style=\"display:none;\">\n",
              "        \n",
              "  <svg xmlns=\"http://www.w3.org/2000/svg\" height=\"24px\"viewBox=\"0 0 24 24\"\n",
              "       width=\"24px\">\n",
              "    <path d=\"M0 0h24v24H0V0z\" fill=\"none\"/>\n",
              "    <path d=\"M18.56 5.44l.94 2.06.94-2.06 2.06-.94-2.06-.94-.94-2.06-.94 2.06-2.06.94zm-11 1L8.5 8.5l.94-2.06 2.06-.94-2.06-.94L8.5 2.5l-.94 2.06-2.06.94zm10 10l.94 2.06.94-2.06 2.06-.94-2.06-.94-.94-2.06-.94 2.06-2.06.94z\"/><path d=\"M17.41 7.96l-1.37-1.37c-.4-.4-.92-.59-1.43-.59-.52 0-1.04.2-1.43.59L10.3 9.45l-7.72 7.72c-.78.78-.78 2.05 0 2.83L4 21.41c.39.39.9.59 1.41.59.51 0 1.02-.2 1.41-.59l7.78-7.78 2.81-2.81c.8-.78.8-2.07 0-2.86zM5.41 20L4 18.59l7.72-7.72 1.47 1.35L5.41 20z\"/>\n",
              "  </svg>\n",
              "      </button>\n",
              "      \n",
              "  <style>\n",
              "    .colab-df-container {\n",
              "      display:flex;\n",
              "      flex-wrap:wrap;\n",
              "      gap: 12px;\n",
              "    }\n",
              "\n",
              "    .colab-df-convert {\n",
              "      background-color: #E8F0FE;\n",
              "      border: none;\n",
              "      border-radius: 50%;\n",
              "      cursor: pointer;\n",
              "      display: none;\n",
              "      fill: #1967D2;\n",
              "      height: 32px;\n",
              "      padding: 0 0 0 0;\n",
              "      width: 32px;\n",
              "    }\n",
              "\n",
              "    .colab-df-convert:hover {\n",
              "      background-color: #E2EBFA;\n",
              "      box-shadow: 0px 1px 2px rgba(60, 64, 67, 0.3), 0px 1px 3px 1px rgba(60, 64, 67, 0.15);\n",
              "      fill: #174EA6;\n",
              "    }\n",
              "\n",
              "    [theme=dark] .colab-df-convert {\n",
              "      background-color: #3B4455;\n",
              "      fill: #D2E3FC;\n",
              "    }\n",
              "\n",
              "    [theme=dark] .colab-df-convert:hover {\n",
              "      background-color: #434B5C;\n",
              "      box-shadow: 0px 1px 3px 1px rgba(0, 0, 0, 0.15);\n",
              "      filter: drop-shadow(0px 1px 2px rgba(0, 0, 0, 0.3));\n",
              "      fill: #FFFFFF;\n",
              "    }\n",
              "  </style>\n",
              "\n",
              "      <script>\n",
              "        const buttonEl =\n",
              "          document.querySelector('#df-6d722846-ec4a-4d3c-a5c2-3512562e15cf button.colab-df-convert');\n",
              "        buttonEl.style.display =\n",
              "          google.colab.kernel.accessAllowed ? 'block' : 'none';\n",
              "\n",
              "        async function convertToInteractive(key) {\n",
              "          const element = document.querySelector('#df-6d722846-ec4a-4d3c-a5c2-3512562e15cf');\n",
              "          const dataTable =\n",
              "            await google.colab.kernel.invokeFunction('convertToInteractive',\n",
              "                                                     [key], {});\n",
              "          if (!dataTable) return;\n",
              "\n",
              "          const docLinkHtml = 'Like what you see? Visit the ' +\n",
              "            '<a target=\"_blank\" href=https://colab.research.google.com/notebooks/data_table.ipynb>data table notebook</a>'\n",
              "            + ' to learn more about interactive tables.';\n",
              "          element.innerHTML = '';\n",
              "          dataTable['output_type'] = 'display_data';\n",
              "          await google.colab.output.renderOutput(dataTable, element);\n",
              "          const docLink = document.createElement('div');\n",
              "          docLink.innerHTML = docLinkHtml;\n",
              "          element.appendChild(docLink);\n",
              "        }\n",
              "      </script>\n",
              "    </div>\n",
              "  </div>\n",
              "  "
            ]
          },
          "metadata": {},
          "execution_count": 53
        }
      ]
    },
    {
      "cell_type": "code",
      "source": [
        "plt.plot(para_solver, train_accuracy, linestyle = '-', label = 'TrainAcccuracy')\n",
        "plt.plot(para_solver, test_accuracy, linestyle = '-', label = 'TestAcccuracy')\n",
        "plt.ylabel('accuracy'); plt.xlabel('Solver')\n",
        "plt.legend()\n",
        "plt.show()"
      ],
      "metadata": {
        "colab": {
          "base_uri": "https://localhost:8080/",
          "height": 279
        },
        "outputId": "c26a5a9d-65c4-4df5-b2f1-a1080a2ca40d",
        "id": "SK769KE1Gp8W"
      },
      "execution_count": 54,
      "outputs": [
        {
          "output_type": "display_data",
          "data": {
            "text/plain": [
              "<Figure size 432x288 with 1 Axes>"
            ],
            "image/png": "[encoded data removed]"
          },
          "metadata": {
            "needs_background": "light"
          }
        }
      ]
    },
    {
      "cell_type": "markdown",
      "source": [
        "- 가중치가 lbfgs 또는 adam일 경우 sgd보다 더 좋은 모델 성능을 보여준다.\n",
        "- lbfgs일 경우 train에 대한 모델의 성능이 100%이며, 이는 과대적합을 의미한다.\n",
        "- testscore가 0.938, trainscore가 0.995인 **solver = adam**을 선택한다."
      ],
      "metadata": {
        "id": "8pZ_G7r7Gp8W"
      }
    },
    {
      "cell_type": "markdown",
      "source": [
        "### **모델 파라미터 변경하기 : Mini Batch**\n"
      ],
      "metadata": {
        "id": "HM7NugnlH-W8"
      }
    },
    {
      "cell_type": "code",
      "source": [
        "train_accuracy = []; test_accuracy = []\n",
        "para_batch = [batch * 20 for batch in range(1,10)]\n",
        "\n",
        "for v_batch in para_batch :\n",
        "    nn = MLPClassifier(hidden_layer_sizes = (100,100),\n",
        "                       activation = 'logistic',\n",
        "                       solver = 'adam',\n",
        "                       batch_size = v_batch,\n",
        "                       random_state = 1234)\n",
        "    nn.fit(df_scaled_train_x, df_train_y)\n",
        "    train_accuracy.append(nn.score(df_scaled_train_x, df_train_y))\n",
        "    test_accuracy.append(nn.score(df_scaled_test_x, df_test_y))\n",
        "\n",
        "df_accuracy_batch = pd.DataFrame()\n",
        "df_accuracy_batch['MiniBatch'] = para_batch\n",
        "df_accuracy_batch['TrainAccuracy'] = train_accuracy\n",
        "df_accuracy_batch['TestAccuracy'] = test_accuracy"
      ],
      "metadata": {
        "colab": {
          "base_uri": "https://localhost:8080/"
        },
        "outputId": "3f5203c4-a765-487d-c834-a2267f3ee6cd",
        "id": "jsGvfZloH-W9"
      },
      "execution_count": 55,
      "outputs": [
        {
          "output_type": "stream",
          "name": "stderr",
          "text": [
            "/usr/local/lib/python3.7/dist-packages/sklearn/neural_network/_multilayer_perceptron.py:696: ConvergenceWarning: Stochastic Optimizer: Maximum iterations (200) reached and the optimization hasn't converged yet.\n",
            "  ConvergenceWarning,\n",
            "/usr/local/lib/python3.7/dist-packages/sklearn/neural_network/_multilayer_perceptron.py:696: ConvergenceWarning: Stochastic Optimizer: Maximum iterations (200) reached and the optimization hasn't converged yet.\n",
            "  ConvergenceWarning,\n",
            "/usr/local/lib/python3.7/dist-packages/sklearn/neural_network/_multilayer_perceptron.py:696: ConvergenceWarning: Stochastic Optimizer: Maximum iterations (200) reached and the optimization hasn't converged yet.\n",
            "  ConvergenceWarning,\n",
            "/usr/local/lib/python3.7/dist-packages/sklearn/neural_network/_multilayer_perceptron.py:696: ConvergenceWarning: Stochastic Optimizer: Maximum iterations (200) reached and the optimization hasn't converged yet.\n",
            "  ConvergenceWarning,\n",
            "/usr/local/lib/python3.7/dist-packages/sklearn/neural_network/_multilayer_perceptron.py:696: ConvergenceWarning: Stochastic Optimizer: Maximum iterations (200) reached and the optimization hasn't converged yet.\n",
            "  ConvergenceWarning,\n",
            "/usr/local/lib/python3.7/dist-packages/sklearn/neural_network/_multilayer_perceptron.py:696: ConvergenceWarning: Stochastic Optimizer: Maximum iterations (200) reached and the optimization hasn't converged yet.\n",
            "  ConvergenceWarning,\n",
            "/usr/local/lib/python3.7/dist-packages/sklearn/neural_network/_multilayer_perceptron.py:696: ConvergenceWarning: Stochastic Optimizer: Maximum iterations (200) reached and the optimization hasn't converged yet.\n",
            "  ConvergenceWarning,\n"
          ]
        }
      ]
    },
    {
      "cell_type": "code",
      "source": [
        "df_accuracy_batch.round(3)"
      ],
      "metadata": {
        "colab": {
          "base_uri": "https://localhost:8080/",
          "height": 332
        },
        "outputId": "ce7b75b2-148e-4022-f774-642a96164585",
        "id": "JhQIaN9UH-W9"
      },
      "execution_count": 58,
      "outputs": [
        {
          "output_type": "execute_result",
          "data": {
            "text/plain": [
              "   MiniBatch  TrainAccuracy  TestAccuracy\n",
              "0         20          1.000         0.953\n",
              "1         40          0.995         0.953\n",
              "2         60          0.995         0.945\n",
              "3         80          0.995         0.945\n",
              "4        100          0.995         0.945\n",
              "5        120          0.995         0.945\n",
              "6        140          0.995         0.945\n",
              "7        160          0.995         0.945\n",
              "8        180          0.995         0.938"
            ],
            "text/html": [
              "\n",
              "  <div id=\"df-c119f2b1-c34e-49f8-9092-44cf98095335\">\n",
              "    <div class=\"colab-df-container\">\n",
              "      <div>\n",
              "<style scoped>\n",
              "    .dataframe tbody tr th:only-of-type {\n",
              "        vertical-align: middle;\n",
              "    }\n",
              "\n",
              "    .dataframe tbody tr th {\n",
              "        vertical-align: top;\n",
              "    }\n",
              "\n",
              "    .dataframe thead th {\n",
              "        text-align: right;\n",
              "    }\n",
              "</style>\n",
              "<table border=\"1\" class=\"dataframe\">\n",
              "  <thead>\n",
              "    <tr style=\"text-align: right;\">\n",
              "      <th></th>\n",
              "      <th>MiniBatch</th>\n",
              "      <th>TrainAccuracy</th>\n",
              "      <th>TestAccuracy</th>\n",
              "    </tr>\n",
              "  </thead>\n",
              "  <tbody>\n",
              "    <tr>\n",
              "      <th>0</th>\n",
              "      <td>20</td>\n",
              "      <td>1.000</td>\n",
              "      <td>0.953</td>\n",
              "    </tr>\n",
              "    <tr>\n",
              "      <th>1</th>\n",
              "      <td>40</td>\n",
              "      <td>0.995</td>\n",
              "      <td>0.953</td>\n",
              "    </tr>\n",
              "    <tr>\n",
              "      <th>2</th>\n",
              "      <td>60</td>\n",
              "      <td>0.995</td>\n",
              "      <td>0.945</td>\n",
              "    </tr>\n",
              "    <tr>\n",
              "      <th>3</th>\n",
              "      <td>80</td>\n",
              "      <td>0.995</td>\n",
              "      <td>0.945</td>\n",
              "    </tr>\n",
              "    <tr>\n",
              "      <th>4</th>\n",
              "      <td>100</td>\n",
              "      <td>0.995</td>\n",
              "      <td>0.945</td>\n",
              "    </tr>\n",
              "    <tr>\n",
              "      <th>5</th>\n",
              "      <td>120</td>\n",
              "      <td>0.995</td>\n",
              "      <td>0.945</td>\n",
              "    </tr>\n",
              "    <tr>\n",
              "      <th>6</th>\n",
              "      <td>140</td>\n",
              "      <td>0.995</td>\n",
              "      <td>0.945</td>\n",
              "    </tr>\n",
              "    <tr>\n",
              "      <th>7</th>\n",
              "      <td>160</td>\n",
              "      <td>0.995</td>\n",
              "      <td>0.945</td>\n",
              "    </tr>\n",
              "    <tr>\n",
              "      <th>8</th>\n",
              "      <td>180</td>\n",
              "      <td>0.995</td>\n",
              "      <td>0.938</td>\n",
              "    </tr>\n",
              "  </tbody>\n",
              "</table>\n",
              "</div>\n",
              "      <button class=\"colab-df-convert\" onclick=\"convertToInteractive('df-c119f2b1-c34e-49f8-9092-44cf98095335')\"\n",
              "              title=\"Convert this dataframe to an interactive table.\"\n",
              "              style=\"display:none;\">\n",
              "        \n",
              "  <svg xmlns=\"http://www.w3.org/2000/svg\" height=\"24px\"viewBox=\"0 0 24 24\"\n",
              "       width=\"24px\">\n",
              "    <path d=\"M0 0h24v24H0V0z\" fill=\"none\"/>\n",
              "    <path d=\"M18.56 5.44l.94 2.06.94-2.06 2.06-.94-2.06-.94-.94-2.06-.94 2.06-2.06.94zm-11 1L8.5 8.5l.94-2.06 2.06-.94-2.06-.94L8.5 2.5l-.94 2.06-2.06.94zm10 10l.94 2.06.94-2.06 2.06-.94-2.06-.94-.94-2.06-.94 2.06-2.06.94z\"/><path d=\"M17.41 7.96l-1.37-1.37c-.4-.4-.92-.59-1.43-.59-.52 0-1.04.2-1.43.59L10.3 9.45l-7.72 7.72c-.78.78-.78 2.05 0 2.83L4 21.41c.39.39.9.59 1.41.59.51 0 1.02-.2 1.41-.59l7.78-7.78 2.81-2.81c.8-.78.8-2.07 0-2.86zM5.41 20L4 18.59l7.72-7.72 1.47 1.35L5.41 20z\"/>\n",
              "  </svg>\n",
              "      </button>\n",
              "      \n",
              "  <style>\n",
              "    .colab-df-container {\n",
              "      display:flex;\n",
              "      flex-wrap:wrap;\n",
              "      gap: 12px;\n",
              "    }\n",
              "\n",
              "    .colab-df-convert {\n",
              "      background-color: #E8F0FE;\n",
              "      border: none;\n",
              "      border-radius: 50%;\n",
              "      cursor: pointer;\n",
              "      display: none;\n",
              "      fill: #1967D2;\n",
              "      height: 32px;\n",
              "      padding: 0 0 0 0;\n",
              "      width: 32px;\n",
              "    }\n",
              "\n",
              "    .colab-df-convert:hover {\n",
              "      background-color: #E2EBFA;\n",
              "      box-shadow: 0px 1px 2px rgba(60, 64, 67, 0.3), 0px 1px 3px 1px rgba(60, 64, 67, 0.15);\n",
              "      fill: #174EA6;\n",
              "    }\n",
              "\n",
              "    [theme=dark] .colab-df-convert {\n",
              "      background-color: #3B4455;\n",
              "      fill: #D2E3FC;\n",
              "    }\n",
              "\n",
              "    [theme=dark] .colab-df-convert:hover {\n",
              "      background-color: #434B5C;\n",
              "      box-shadow: 0px 1px 3px 1px rgba(0, 0, 0, 0.15);\n",
              "      filter: drop-shadow(0px 1px 2px rgba(0, 0, 0, 0.3));\n",
              "      fill: #FFFFFF;\n",
              "    }\n",
              "  </style>\n",
              "\n",
              "      <script>\n",
              "        const buttonEl =\n",
              "          document.querySelector('#df-c119f2b1-c34e-49f8-9092-44cf98095335 button.colab-df-convert');\n",
              "        buttonEl.style.display =\n",
              "          google.colab.kernel.accessAllowed ? 'block' : 'none';\n",
              "\n",
              "        async function convertToInteractive(key) {\n",
              "          const element = document.querySelector('#df-c119f2b1-c34e-49f8-9092-44cf98095335');\n",
              "          const dataTable =\n",
              "            await google.colab.kernel.invokeFunction('convertToInteractive',\n",
              "                                                     [key], {});\n",
              "          if (!dataTable) return;\n",
              "\n",
              "          const docLinkHtml = 'Like what you see? Visit the ' +\n",
              "            '<a target=\"_blank\" href=https://colab.research.google.com/notebooks/data_table.ipynb>data table notebook</a>'\n",
              "            + ' to learn more about interactive tables.';\n",
              "          element.innerHTML = '';\n",
              "          dataTable['output_type'] = 'display_data';\n",
              "          await google.colab.output.renderOutput(dataTable, element);\n",
              "          const docLink = document.createElement('div');\n",
              "          docLink.innerHTML = docLinkHtml;\n",
              "          element.appendChild(docLink);\n",
              "        }\n",
              "      </script>\n",
              "    </div>\n",
              "  </div>\n",
              "  "
            ]
          },
          "metadata": {},
          "execution_count": 58
        }
      ]
    },
    {
      "cell_type": "code",
      "source": [
        "plt.plot(para_batch, train_accuracy, linestyle = '-', label = 'TrainAcccuracy')\n",
        "plt.plot(para_batch, test_accuracy, linestyle = '-', label = 'TestAcccuracy')\n",
        "plt.ylabel('accuracy'); plt.xlabel('MiniBatch')\n",
        "plt.legend()\n",
        "plt.show()"
      ],
      "metadata": {
        "colab": {
          "base_uri": "https://localhost:8080/",
          "height": 279
        },
        "outputId": "076465ae-1edf-4d2a-a50a-8d1b10286e79",
        "id": "NqS7Nt_TH-W9"
      },
      "execution_count": 57,
      "outputs": [
        {
          "output_type": "display_data",
          "data": {
            "text/plain": [
              "<Figure size 432x288 with 1 Axes>"
            ],
            "image/png": "[encoded data removed]"
          },
          "metadata": {
            "needs_background": "light"
          }
        }
      ]
    },
    {
      "cell_type": "markdown",
      "source": [
        "- mini batch가 커질수록 모델의 성능이 감소하거나 영향을 거의 주지 않는다.\n",
        "- 모델의 성능을 최대로 끌어올리도록 mini batch가 작은 값을 선택한다.\n",
        "- testscore가 0.953, trainscore가 0.995인 **batch_size = 40**을 선택한다."
      ],
      "metadata": {
        "id": "02SnJpQhH-W-"
      }
    },
    {
      "cell_type": "markdown",
      "source": [
        "### **최종 모델 선택**"
      ],
      "metadata": {
        "id": "uq-ixOOoIrMK"
      }
    },
    {
      "cell_type": "code",
      "source": [
        "nn_final = MLPClassifier(hidden_layer_sizes = (100,100),\n",
        "                         activation = 'logistic',\n",
        "                         solver = 'adam',\n",
        "                         batch_size = 40,\n",
        "                         random_state = 1234)\n",
        "nn_final.fit(df_scaled_train_x, df_train_y)\n",
        "y_pred = nn_final.predict(df_scaled_test_x)\n",
        "\n",
        "print('Accuracy on training set : {}'.format(nn_final.score(df_scaled_train_x, df_train_y).round(3)))\n",
        "print('Accuracy on test set : {}'.format(nn_final.score(df_scaled_test_x, df_test_y.round(3))))\n",
        "print('Confusion matrix : \\n'.format(confusion_matrix(df_test_y, y_pred)))\n",
        "print(classification_report(df_test_y, y_pred, digits = 3))"
      ],
      "metadata": {
        "colab": {
          "base_uri": "https://localhost:8080/"
        },
        "id": "UOb4xm9iA9S1",
        "outputId": "be81b87e-7c4a-413a-e95c-d3d2eb8ac252"
      },
      "execution_count": 62,
      "outputs": [
        {
          "output_type": "stream",
          "name": "stdout",
          "text": [
            "Accuracy on training set : 0.995\n",
            "Accuracy on test set : 0.953125\n",
            "Confusion matrix : \n",
            "\n",
            "              precision    recall  f1-score   support\n",
            "\n",
            "           0      0.979     0.959     0.969        97\n",
            "           1      0.879     0.935     0.906        31\n",
            "\n",
            "    accuracy                          0.953       128\n",
            "   macro avg      0.929     0.947     0.938       128\n",
            "weighted avg      0.955     0.953     0.954       128\n",
            "\n"
          ]
        },
        {
          "output_type": "stream",
          "name": "stderr",
          "text": [
            "/usr/local/lib/python3.7/dist-packages/sklearn/neural_network/_multilayer_perceptron.py:696: ConvergenceWarning: Stochastic Optimizer: Maximum iterations (200) reached and the optimization hasn't converged yet.\n",
            "  ConvergenceWarning,\n"
          ]
        }
      ]
    },
    {
      "cell_type": "markdown",
      "source": [
        "- train과 test 데이터에 대해 각각 99.5%, 95.3%의 정확도를 갖는다.\n",
        "- 1(양성)에 대한 precision이 0.879로, 실제 양성인 데이터 중 약 90%가 양성으로 예측되었다.\n",
        "- 1(양성)에 대한 recall이 0.935로, 양성으로 예측된 데이터 중 약 90%가 양성이다.\n",
        "- 1(양성)에 대한 f1-score가 0.906으로, 모델의 전체적인 분류 성능이 우수하다고 결론지을 수 있다."
      ],
      "metadata": {
        "id": "sb4shJs5KOo8"
      }
    },
    {
      "cell_type": "code",
      "source": [
        ""
      ],
      "metadata": {
        "id": "4ENKb5PRA9VN"
      },
      "execution_count": null,
      "outputs": []
    },
    {
      "cell_type": "code",
      "source": [
        ""
      ],
      "metadata": {
        "id": "cNUSmjddA9W1"
      },
      "execution_count": null,
      "outputs": []
    },
    {
      "cell_type": "code",
      "source": [
        ""
      ],
      "metadata": {
        "id": "6Ucof57PA9Yf"
      },
      "execution_count": null,
      "outputs": []
    },
    {
      "cell_type": "code",
      "source": [
        ""
      ],
      "metadata": {
        "id": "Z6KHM14gA9aQ"
      },
      "execution_count": null,
      "outputs": []
    },
    {
      "cell_type": "code",
      "source": [
        ""
      ],
      "metadata": {
        "id": "Xh5mebgCA9bf"
      },
      "execution_count": null,
      "outputs": []
    },
    {
      "cell_type": "code",
      "source": [
        ""
      ],
      "metadata": {
        "id": "lwfnEteIA9c2"
      },
      "execution_count": null,
      "outputs": []
    },
    {
      "cell_type": "code",
      "source": [
        ""
      ],
      "metadata": {
        "id": "1mOWEfd7A9eq"
      },
      "execution_count": null,
      "outputs": []
    },
    {
      "cell_type": "code",
      "source": [
        ""
      ],
      "metadata": {
        "id": "36HSixiaA9g8"
      },
      "execution_count": null,
      "outputs": []
    },
    {
      "cell_type": "code",
      "source": [
        ""
      ],
      "metadata": {
        "id": "3G44Wl8gA9jF"
      },
      "execution_count": null,
      "outputs": []
    },
    {
      "cell_type": "code",
      "source": [
        ""
      ],
      "metadata": {
        "id": "UsGtYRfGA9k_"
      },
      "execution_count": null,
      "outputs": []
    }
  ]
}