{
 "cells": [
  {
   "cell_type": "markdown",
   "id": "912c00e3",
   "metadata": {},
   "source": [
    "# [Big Data 분석 기초] 4 탐색적 분석 - 추론통계 - 220805\n",
    "\n",
    "---"
   ]
  },
  {
   "cell_type": "markdown",
   "id": "79e67272",
   "metadata": {},
   "source": [
    "### 통계적 추론"
   ]
  },
  {
   "cell_type": "markdown",
   "id": "2df0016d",
   "metadata": {},
   "source": [
    "#### 정규성 검정 (Normality Test)"
   ]
  },
  {
   "cell_type": "code",
   "execution_count": 156,
   "id": "2861de21",
   "metadata": {},
   "outputs": [
    {
     "name": "stdout",
     "output_type": "stream",
     "text": [
      "(100, 3)\n"
     ]
    },
    {
     "data": {
      "text/html": [
       "<div>\n",
       "<style scoped>\n",
       "    .dataframe tbody tr th:only-of-type {\n",
       "        vertical-align: middle;\n",
       "    }\n",
       "\n",
       "    .dataframe tbody tr th {\n",
       "        vertical-align: top;\n",
       "    }\n",
       "\n",
       "    .dataframe thead th {\n",
       "        text-align: right;\n",
       "    }\n",
       "</style>\n",
       "<table border=\"1\" class=\"dataframe\">\n",
       "  <thead>\n",
       "    <tr style=\"text-align: right;\">\n",
       "      <th></th>\n",
       "      <th>Length</th>\n",
       "      <th>Supp1</th>\n",
       "      <th>Supp2</th>\n",
       "    </tr>\n",
       "  </thead>\n",
       "  <tbody>\n",
       "    <tr>\n",
       "      <th>0</th>\n",
       "      <td>601.4</td>\n",
       "      <td>598.0</td>\n",
       "      <td>601.6</td>\n",
       "    </tr>\n",
       "    <tr>\n",
       "      <th>1</th>\n",
       "      <td>601.6</td>\n",
       "      <td>599.8</td>\n",
       "      <td>600.4</td>\n",
       "    </tr>\n",
       "    <tr>\n",
       "      <th>2</th>\n",
       "      <td>598.0</td>\n",
       "      <td>600.0</td>\n",
       "      <td>598.4</td>\n",
       "    </tr>\n",
       "    <tr>\n",
       "      <th>3</th>\n",
       "      <td>601.4</td>\n",
       "      <td>599.8</td>\n",
       "      <td>600.0</td>\n",
       "    </tr>\n",
       "    <tr>\n",
       "      <th>4</th>\n",
       "      <td>599.4</td>\n",
       "      <td>600.0</td>\n",
       "      <td>596.8</td>\n",
       "    </tr>\n",
       "  </tbody>\n",
       "</table>\n",
       "</div>"
      ],
      "text/plain": [
       "   Length  Supp1  Supp2\n",
       "0   601.4  598.0  601.6\n",
       "1   601.6  599.8  600.4\n",
       "2   598.0  600.0  598.4\n",
       "3   601.4  599.8  600.0\n",
       "4   599.4  600.0  596.8"
      ]
     },
     "execution_count": 156,
     "metadata": {},
     "output_type": "execute_result"
    }
   ],
   "source": [
    "import pandas as pd\n",
    "import numpy as np\n",
    "from scipy import stats\n",
    "from scipy.stats import shapiro\n",
    "\n",
    "ds_camshaft = pd.read_csv('/home/piai/minji/dataset/camshaft.csv', encoding = 'euc-kr')\n",
    "print(ds_camshaft.shape)\n",
    "ds_camshaft.head()"
   ]
  },
  {
   "cell_type": "code",
   "execution_count": 64,
   "id": "0372f5f6",
   "metadata": {},
   "outputs": [
    {
     "name": "stdout",
     "output_type": "stream",
     "text": [
      "H0 : 정규성을 만족한다.\n",
      "H1 : 정규성을 만족하지 않는다.\n",
      "\n",
      "----------- Shapiro-Wilk 정규성 검정 결과 -----------\n",
      "검정통계량 : 0.979, 유의확률 :0.107\n"
     ]
    }
   ],
   "source": [
    "stat, pval = shapiro(ds_camshaft['Supp1'])\n",
    "\n",
    "print(\"H0 : 정규성을 만족한다.\")\n",
    "print(\"H1 : 정규성을 만족하지 않는다.\")\n",
    "print(\"\")\n",
    "print(\"----------- Shapiro-Wilk 정규성 검정 결과 -----------\")\n",
    "print(\"검정통계량 : %.3f, 유의확률 :%.3f\" % (stat, pval))"
   ]
  },
  {
   "cell_type": "markdown",
   "id": "75592d55",
   "metadata": {},
   "source": [
    "Shapiro-Wilk 정규성 검정 결과, 검정통계량 0.979에 대한 유의확률 0.107 > 0.05이므로 유의수준 5% 하에서 귀무가설을 채택한다. 즉, "
   ]
  },
  {
   "cell_type": "markdown",
   "id": "2c9953f4",
   "metadata": {},
   "source": [
    "#### Python을 이용한 정규성 검정 실습 (265쪽)"
   ]
  },
  {
   "cell_type": "code",
   "execution_count": 124,
   "id": "3d700de5",
   "metadata": {},
   "outputs": [
    {
     "name": "stdout",
     "output_type": "stream",
     "text": [
      "(20, 4)\n"
     ]
    },
    {
     "data": {
      "text/html": [
       "<div>\n",
       "<style scoped>\n",
       "    .dataframe tbody tr th:only-of-type {\n",
       "        vertical-align: middle;\n",
       "    }\n",
       "\n",
       "    .dataframe tbody tr th {\n",
       "        vertical-align: top;\n",
       "    }\n",
       "\n",
       "    .dataframe thead th {\n",
       "        text-align: right;\n",
       "    }\n",
       "</style>\n",
       "<table border=\"1\" class=\"dataframe\">\n",
       "  <thead>\n",
       "    <tr style=\"text-align: right;\">\n",
       "      <th></th>\n",
       "      <th>Mat_A</th>\n",
       "      <th>Mat_B</th>\n",
       "      <th>Total</th>\n",
       "      <th>Sub</th>\n",
       "    </tr>\n",
       "  </thead>\n",
       "  <tbody>\n",
       "    <tr>\n",
       "      <th>0</th>\n",
       "      <td>73.4</td>\n",
       "      <td>68.7</td>\n",
       "      <td>73.4</td>\n",
       "      <td>1</td>\n",
       "    </tr>\n",
       "    <tr>\n",
       "      <th>1</th>\n",
       "      <td>77.0</td>\n",
       "      <td>71.4</td>\n",
       "      <td>77.0</td>\n",
       "      <td>1</td>\n",
       "    </tr>\n",
       "    <tr>\n",
       "      <th>2</th>\n",
       "      <td>73.7</td>\n",
       "      <td>69.8</td>\n",
       "      <td>73.7</td>\n",
       "      <td>1</td>\n",
       "    </tr>\n",
       "    <tr>\n",
       "      <th>3</th>\n",
       "      <td>73.3</td>\n",
       "      <td>75.3</td>\n",
       "      <td>73.3</td>\n",
       "      <td>1</td>\n",
       "    </tr>\n",
       "    <tr>\n",
       "      <th>4</th>\n",
       "      <td>73.1</td>\n",
       "      <td>71.3</td>\n",
       "      <td>73.1</td>\n",
       "      <td>1</td>\n",
       "    </tr>\n",
       "    <tr>\n",
       "      <th>5</th>\n",
       "      <td>71.5</td>\n",
       "      <td>72.7</td>\n",
       "      <td>71.5</td>\n",
       "      <td>1</td>\n",
       "    </tr>\n",
       "    <tr>\n",
       "      <th>6</th>\n",
       "      <td>74.5</td>\n",
       "      <td>66.9</td>\n",
       "      <td>74.5</td>\n",
       "      <td>1</td>\n",
       "    </tr>\n",
       "    <tr>\n",
       "      <th>7</th>\n",
       "      <td>77.5</td>\n",
       "      <td>70.2</td>\n",
       "      <td>77.5</td>\n",
       "      <td>1</td>\n",
       "    </tr>\n",
       "    <tr>\n",
       "      <th>8</th>\n",
       "      <td>76.4</td>\n",
       "      <td>74.4</td>\n",
       "      <td>76.4</td>\n",
       "      <td>1</td>\n",
       "    </tr>\n",
       "    <tr>\n",
       "      <th>9</th>\n",
       "      <td>77.7</td>\n",
       "      <td>70.1</td>\n",
       "      <td>77.7</td>\n",
       "      <td>1</td>\n",
       "    </tr>\n",
       "    <tr>\n",
       "      <th>10</th>\n",
       "      <td>NaN</td>\n",
       "      <td>NaN</td>\n",
       "      <td>68.7</td>\n",
       "      <td>2</td>\n",
       "    </tr>\n",
       "    <tr>\n",
       "      <th>11</th>\n",
       "      <td>NaN</td>\n",
       "      <td>NaN</td>\n",
       "      <td>71.4</td>\n",
       "      <td>2</td>\n",
       "    </tr>\n",
       "    <tr>\n",
       "      <th>12</th>\n",
       "      <td>NaN</td>\n",
       "      <td>NaN</td>\n",
       "      <td>69.8</td>\n",
       "      <td>2</td>\n",
       "    </tr>\n",
       "    <tr>\n",
       "      <th>13</th>\n",
       "      <td>NaN</td>\n",
       "      <td>NaN</td>\n",
       "      <td>75.3</td>\n",
       "      <td>2</td>\n",
       "    </tr>\n",
       "    <tr>\n",
       "      <th>14</th>\n",
       "      <td>NaN</td>\n",
       "      <td>NaN</td>\n",
       "      <td>71.3</td>\n",
       "      <td>2</td>\n",
       "    </tr>\n",
       "    <tr>\n",
       "      <th>15</th>\n",
       "      <td>NaN</td>\n",
       "      <td>NaN</td>\n",
       "      <td>72.7</td>\n",
       "      <td>2</td>\n",
       "    </tr>\n",
       "    <tr>\n",
       "      <th>16</th>\n",
       "      <td>NaN</td>\n",
       "      <td>NaN</td>\n",
       "      <td>66.9</td>\n",
       "      <td>2</td>\n",
       "    </tr>\n",
       "    <tr>\n",
       "      <th>17</th>\n",
       "      <td>NaN</td>\n",
       "      <td>NaN</td>\n",
       "      <td>70.2</td>\n",
       "      <td>2</td>\n",
       "    </tr>\n",
       "    <tr>\n",
       "      <th>18</th>\n",
       "      <td>NaN</td>\n",
       "      <td>NaN</td>\n",
       "      <td>74.4</td>\n",
       "      <td>2</td>\n",
       "    </tr>\n",
       "    <tr>\n",
       "      <th>19</th>\n",
       "      <td>NaN</td>\n",
       "      <td>NaN</td>\n",
       "      <td>70.1</td>\n",
       "      <td>2</td>\n",
       "    </tr>\n",
       "  </tbody>\n",
       "</table>\n",
       "</div>"
      ],
      "text/plain": [
       "    Mat_A  Mat_B  Total  Sub\n",
       "0    73.4   68.7   73.4    1\n",
       "1    77.0   71.4   77.0    1\n",
       "2    73.7   69.8   73.7    1\n",
       "3    73.3   75.3   73.3    1\n",
       "4    73.1   71.3   73.1    1\n",
       "5    71.5   72.7   71.5    1\n",
       "6    74.5   66.9   74.5    1\n",
       "7    77.5   70.2   77.5    1\n",
       "8    76.4   74.4   76.4    1\n",
       "9    77.7   70.1   77.7    1\n",
       "10    NaN    NaN   68.7    2\n",
       "11    NaN    NaN   71.4    2\n",
       "12    NaN    NaN   69.8    2\n",
       "13    NaN    NaN   75.3    2\n",
       "14    NaN    NaN   71.3    2\n",
       "15    NaN    NaN   72.7    2\n",
       "16    NaN    NaN   66.9    2\n",
       "17    NaN    NaN   70.2    2\n",
       "18    NaN    NaN   74.4    2\n",
       "19    NaN    NaN   70.1    2"
      ]
     },
     "execution_count": 124,
     "metadata": {},
     "output_type": "execute_result"
    }
   ],
   "source": [
    "dat = pd.read_csv('/home/piai/minji/dataset/2sample_t_test.csv', encoding = 'euc-kr')\n",
    "\n",
    "print(dat.shape)\n",
    "dat"
   ]
  },
  {
   "cell_type": "code",
   "execution_count": 117,
   "id": "1bb682de",
   "metadata": {},
   "outputs": [
    {
     "name": "stdout",
     "output_type": "stream",
     "text": [
      "H0 : 정규성을 만족한다.\n",
      "H1 : 정규성을 만족하지 않는다.\n",
      "\n",
      "----------- Shapiro-Wilk 정규성 검정 결과 -----------\n",
      "검정통계량 nan에 대한 유의확률 1.00000 > 0.05이므로 H0 채택\n"
     ]
    }
   ],
   "source": [
    "# Mat_A에 대한 정규성 검정\n",
    "\n",
    "stat_A, pval_A = shapiro(dat['Mat_A'])\n",
    "\n",
    "print(\"H0 : 정규성을 만족한다.\")\n",
    "print(\"H1 : 정규성을 만족하지 않는다.\")\n",
    "print(\"\")\n",
    "print(\"----------- Shapiro-Wilk 정규성 검정 결과 -----------\")\n",
    "print(\"검정통계량 %.5f에 대한 유의확률 %.5f > 0.05이므로 H0 채택\" % (stat_A, pval_A))"
   ]
  },
  {
   "cell_type": "code",
   "execution_count": 116,
   "id": "c995d541",
   "metadata": {
    "scrolled": true
   },
   "outputs": [
    {
     "name": "stdout",
     "output_type": "stream",
     "text": [
      "H0 : 정규성을 만족한다.\n",
      "H1 : 정규성을 만족하지 않는다.\n",
      "\n",
      "----------- Shapiro-Wilk 정규성 검정 결과 -----------\n",
      "검정통계량 nan에 대한 유의확률 1.00000 > 0.05이므로 H0 채택\n"
     ]
    }
   ],
   "source": [
    "# Mat_B에 대한 정규성 검정\n",
    "\n",
    "stat_B, pval_B = shapiro(dat['Mat_B'])\n",
    "\n",
    "print(\"H0 : 정규성을 만족한다.\")\n",
    "print(\"H1 : 정규성을 만족하지 않는다.\")\n",
    "print(\"\")\n",
    "print(\"----------- Shapiro-Wilk 정규성 검정 결과 -----------\")\n",
    "print(\"검정통계량 %.5f에 대한 유의확률 %.5f > 0.05이므로 H0 채택\" % (stat_B, pval_B))"
   ]
  },
  {
   "cell_type": "markdown",
   "id": "157ea549",
   "metadata": {},
   "source": [
    "#### 모평균 구간 추정"
   ]
  },
  {
   "cell_type": "code",
   "execution_count": 32,
   "id": "4c4dbd95",
   "metadata": {},
   "outputs": [
    {
     "data": {
      "text/plain": [
       "Sample    3.695\n",
       "dtype: float64"
      ]
     },
     "execution_count": 32,
     "metadata": {},
     "output_type": "execute_result"
    }
   ],
   "source": [
    "np.mean(df)"
   ]
  },
  {
   "cell_type": "code",
   "execution_count": 41,
   "id": "22e98509",
   "metadata": {},
   "outputs": [
    {
     "name": "stdout",
     "output_type": "stream",
     "text": [
      "(40, 1)\n"
     ]
    },
    {
     "data": {
      "text/html": [
       "<div>\n",
       "<style scoped>\n",
       "    .dataframe tbody tr th:only-of-type {\n",
       "        vertical-align: middle;\n",
       "    }\n",
       "\n",
       "    .dataframe tbody tr th {\n",
       "        vertical-align: top;\n",
       "    }\n",
       "\n",
       "    .dataframe thead th {\n",
       "        text-align: right;\n",
       "    }\n",
       "</style>\n",
       "<table border=\"1\" class=\"dataframe\">\n",
       "  <thead>\n",
       "    <tr style=\"text-align: right;\">\n",
       "      <th></th>\n",
       "      <th>Sample</th>\n",
       "    </tr>\n",
       "  </thead>\n",
       "  <tbody>\n",
       "    <tr>\n",
       "      <th>0</th>\n",
       "      <td>3.6</td>\n",
       "    </tr>\n",
       "    <tr>\n",
       "      <th>1</th>\n",
       "      <td>2.9</td>\n",
       "    </tr>\n",
       "    <tr>\n",
       "      <th>2</th>\n",
       "      <td>2.8</td>\n",
       "    </tr>\n",
       "    <tr>\n",
       "      <th>3</th>\n",
       "      <td>2.6</td>\n",
       "    </tr>\n",
       "    <tr>\n",
       "      <th>4</th>\n",
       "      <td>3.4</td>\n",
       "    </tr>\n",
       "  </tbody>\n",
       "</table>\n",
       "</div>"
      ],
      "text/plain": [
       "   Sample\n",
       "0     3.6\n",
       "1     2.9\n",
       "2     2.8\n",
       "3     2.6\n",
       "4     3.4"
      ]
     },
     "execution_count": 41,
     "metadata": {},
     "output_type": "execute_result"
    }
   ],
   "source": [
    "df = pd.DataFrame({\"Sample\" : [3.6, 2.9, 2.8, 2.6, 3.4, 3.2, 2.2, 2.6, 2.6, 2.4,\n",
    "                              2.4, 2.6, 3.4, 2.4, 2.1, 2.6, 3.0, 2.4, 2.7, 2.4,\n",
    "                              2.6, 2.9, 2.9, 2.0, 2.7, 2.2, 2.8, 2.7, 1.8, 2.5,\n",
    "                              3.0, 3.2, 2.8, 2.6, 3.2, 3.1, 2.9, 2.7, 2.7, 2.2]})\n",
    "\n",
    "print(df.shape)\n",
    "df.head()"
   ]
  },
  {
   "cell_type": "code",
   "execution_count": 55,
   "id": "c1750797",
   "metadata": {},
   "outputs": [
    {
     "name": "stdout",
     "output_type": "stream",
     "text": [
      "신뢰구간 : ([2.57], [2.82])\n"
     ]
    }
   ],
   "source": [
    "sigma = 0.397\n",
    "\n",
    "lower, upper = stats.norm.interval(0.95, loc = np.mean(df), scale = sigma/np.sqrt(df.shape[0]))\n",
    "print(\"신뢰구간 : ({0}, {1})\".format(lower.round(2), upper.round(2)))"
   ]
  },
  {
   "cell_type": "markdown",
   "id": "1d0af076",
   "metadata": {},
   "source": [
    "신품종 배추의 평균무게에 대한 95% 신뢰구간은 (2.57, 2.82)이다."
   ]
  },
  {
   "cell_type": "markdown",
   "id": "3a70491d",
   "metadata": {},
   "source": [
    "##### Python을 이용한 구간추정 실습 (268쪽)"
   ]
  },
  {
   "cell_type": "code",
   "execution_count": 56,
   "id": "5e0a97d7",
   "metadata": {},
   "outputs": [
    {
     "name": "stdout",
     "output_type": "stream",
     "text": [
      "(20, 1)\n"
     ]
    },
    {
     "data": {
      "text/html": [
       "<div>\n",
       "<style scoped>\n",
       "    .dataframe tbody tr th:only-of-type {\n",
       "        vertical-align: middle;\n",
       "    }\n",
       "\n",
       "    .dataframe tbody tr th {\n",
       "        vertical-align: top;\n",
       "    }\n",
       "\n",
       "    .dataframe thead th {\n",
       "        text-align: right;\n",
       "    }\n",
       "</style>\n",
       "<table border=\"1\" class=\"dataframe\">\n",
       "  <thead>\n",
       "    <tr style=\"text-align: right;\">\n",
       "      <th></th>\n",
       "      <th>weight</th>\n",
       "    </tr>\n",
       "  </thead>\n",
       "  <tbody>\n",
       "    <tr>\n",
       "      <th>0</th>\n",
       "      <td>18</td>\n",
       "    </tr>\n",
       "    <tr>\n",
       "      <th>1</th>\n",
       "      <td>18</td>\n",
       "    </tr>\n",
       "    <tr>\n",
       "      <th>2</th>\n",
       "      <td>20</td>\n",
       "    </tr>\n",
       "    <tr>\n",
       "      <th>3</th>\n",
       "      <td>21</td>\n",
       "    </tr>\n",
       "    <tr>\n",
       "      <th>4</th>\n",
       "      <td>20</td>\n",
       "    </tr>\n",
       "  </tbody>\n",
       "</table>\n",
       "</div>"
      ],
      "text/plain": [
       "   weight\n",
       "0      18\n",
       "1      18\n",
       "2      20\n",
       "3      21\n",
       "4      20"
      ]
     },
     "execution_count": 56,
     "metadata": {},
     "output_type": "execute_result"
    }
   ],
   "source": [
    "dat = pd.DataFrame({\"weight\" : [18, 18, 20, 21, 20, 23, 19, 18, 17, 21,\n",
    "                               22, 20, 20, 21, 20, 19, 19, 18, 17, 19]})\n",
    "\n",
    "print(dat.shape)\n",
    "dat.head()"
   ]
  },
  {
   "cell_type": "code",
   "execution_count": 57,
   "id": "e248080e",
   "metadata": {
    "scrolled": true
   },
   "outputs": [
    {
     "name": "stdout",
     "output_type": "stream",
     "text": [
      "신뢰구간 : ([17.83], [21.17])\n"
     ]
    },
    {
     "name": "stderr",
     "output_type": "stream",
     "text": [
      "/home/piai/anaconda3/lib/python3.9/site-packages/numpy/core/fromnumeric.py:3438: FutureWarning: In a future version, DataFrame.mean(axis=None) will return a scalar mean over the entire DataFrame. To retain the old behavior, use 'frame.mean(axis=0)' or just 'frame.mean()'\n",
      "  return mean(axis=axis, dtype=dtype, out=out, **kwargs)\n"
     ]
    }
   ],
   "source": [
    "sigma = 3.8\n",
    "\n",
    "lower, upper = stats.norm.interval(0.95, loc = np.mean(dat), scale = sigma / np.sqrt(dat.shape[0]))\n",
    "print(\"신뢰구간 : ({0}, {1})\".format(lower.round(2), upper.round(2)))"
   ]
  },
  {
   "cell_type": "markdown",
   "id": "b5c70da8",
   "metadata": {},
   "source": [
    "신품종 배추의 평균 무게에 대한 95% 신뢰구간은 (2.03, 5.36)이다."
   ]
  },
  {
   "cell_type": "code",
   "execution_count": 52,
   "id": "9af9d648",
   "metadata": {},
   "outputs": [
    {
     "name": "stdout",
     "output_type": "stream",
     "text": [
      "(20, 1)\n"
     ]
    },
    {
     "data": {
      "text/html": [
       "<div>\n",
       "<style scoped>\n",
       "    .dataframe tbody tr th:only-of-type {\n",
       "        vertical-align: middle;\n",
       "    }\n",
       "\n",
       "    .dataframe tbody tr th {\n",
       "        vertical-align: top;\n",
       "    }\n",
       "\n",
       "    .dataframe thead th {\n",
       "        text-align: right;\n",
       "    }\n",
       "</style>\n",
       "<table border=\"1\" class=\"dataframe\">\n",
       "  <thead>\n",
       "    <tr style=\"text-align: right;\">\n",
       "      <th></th>\n",
       "      <th>Sample</th>\n",
       "    </tr>\n",
       "  </thead>\n",
       "  <tbody>\n",
       "    <tr>\n",
       "      <th>0</th>\n",
       "      <td>54.1</td>\n",
       "    </tr>\n",
       "    <tr>\n",
       "      <th>1</th>\n",
       "      <td>53.3</td>\n",
       "    </tr>\n",
       "    <tr>\n",
       "      <th>2</th>\n",
       "      <td>56.1</td>\n",
       "    </tr>\n",
       "    <tr>\n",
       "      <th>3</th>\n",
       "      <td>55.7</td>\n",
       "    </tr>\n",
       "    <tr>\n",
       "      <th>4</th>\n",
       "      <td>54.0</td>\n",
       "    </tr>\n",
       "  </tbody>\n",
       "</table>\n",
       "</div>"
      ],
      "text/plain": [
       "   Sample\n",
       "0    54.1\n",
       "1    53.3\n",
       "2    56.1\n",
       "3    55.7\n",
       "4    54.0"
      ]
     },
     "execution_count": 52,
     "metadata": {},
     "output_type": "execute_result"
    }
   ],
   "source": [
    "dat = pd.DataFrame({'Sample' : [54.1, 53.3, 56.1, 55.7, 54.0, 54.1, 54.5, 57.1, 55.2, 53.8,\n",
    "                               54.1, 54.1, 56.1, 55.0, 55.9, 56.0, 54.9, 54.3, 53.9, 55.0]})\n",
    "\n",
    "print(dat.shape)\n",
    "dat.head()"
   ]
  },
  {
   "cell_type": "code",
   "execution_count": 53,
   "id": "50c4cfa1",
   "metadata": {},
   "outputs": [
    {
     "name": "stdout",
     "output_type": "stream",
     "text": [
      "신뢰구간 : ([-21.35], [26.74])\n"
     ]
    },
    {
     "name": "stderr",
     "output_type": "stream",
     "text": [
      "/home/piai/anaconda3/lib/python3.9/site-packages/numpy/core/fromnumeric.py:3438: FutureWarning: In a future version, DataFrame.mean(axis=None) will return a scalar mean over the entire DataFrame. To retain the old behavior, use 'frame.mean(axis=0)' or just 'frame.mean()'\n",
      "  return mean(axis=axis, dtype=dtype, out=out, **kwargs)\n"
     ]
    }
   ],
   "source": [
    "sigma = 54.860\n",
    "\n",
    "lower, upper = stats.norm.interval(0.95, loc = np.mean(dat), scale = sigma / np.sqrt(dat.shape[0]))\n",
    "print(\"신뢰구간 : ({0}, {1})\".format(lower.round(2), upper.round(2)))"
   ]
  },
  {
   "cell_type": "markdown",
   "id": "d15740ca",
   "metadata": {},
   "source": [
    "**294쪽**"
   ]
  },
  {
   "cell_type": "code",
   "execution_count": 93,
   "id": "0d67b7cf",
   "metadata": {},
   "outputs": [
    {
     "name": "stdout",
     "output_type": "stream",
     "text": [
      "(10, 1)\n"
     ]
    },
    {
     "data": {
      "text/html": [
       "<div>\n",
       "<style scoped>\n",
       "    .dataframe tbody tr th:only-of-type {\n",
       "        vertical-align: middle;\n",
       "    }\n",
       "\n",
       "    .dataframe tbody tr th {\n",
       "        vertical-align: top;\n",
       "    }\n",
       "\n",
       "    .dataframe thead th {\n",
       "        text-align: right;\n",
       "    }\n",
       "</style>\n",
       "<table border=\"1\" class=\"dataframe\">\n",
       "  <thead>\n",
       "    <tr style=\"text-align: right;\">\n",
       "      <th></th>\n",
       "      <th>sample</th>\n",
       "    </tr>\n",
       "  </thead>\n",
       "  <tbody>\n",
       "    <tr>\n",
       "      <th>0</th>\n",
       "      <td>74.5</td>\n",
       "    </tr>\n",
       "    <tr>\n",
       "      <th>1</th>\n",
       "      <td>81.2</td>\n",
       "    </tr>\n",
       "    <tr>\n",
       "      <th>2</th>\n",
       "      <td>73.8</td>\n",
       "    </tr>\n",
       "    <tr>\n",
       "      <th>3</th>\n",
       "      <td>82.0</td>\n",
       "    </tr>\n",
       "    <tr>\n",
       "      <th>4</th>\n",
       "      <td>76.3</td>\n",
       "    </tr>\n",
       "  </tbody>\n",
       "</table>\n",
       "</div>"
      ],
      "text/plain": [
       "   sample\n",
       "0    74.5\n",
       "1    81.2\n",
       "2    73.8\n",
       "3    82.0\n",
       "4    76.3"
      ]
     },
     "execution_count": 93,
     "metadata": {},
     "output_type": "execute_result"
    }
   ],
   "source": [
    "df = pd.DataFrame({'sample' :[74.5, 81.2, 73.8, 82.0, 76.3, 75.7, 80.2, 72.6, 77.9, 82.8]})\n",
    "\n",
    "print(df.shape)\n",
    "df.head()"
   ]
  },
  {
   "cell_type": "code",
   "execution_count": 94,
   "id": "e94d9e2b",
   "metadata": {},
   "outputs": [
    {
     "data": {
      "text/plain": [
       "<AxesSubplot:>"
      ]
     },
     "execution_count": 94,
     "metadata": {},
     "output_type": "execute_result"
    },
    {
     "data": {
      "image/png": "[encoded data removed]",
      "text/plain": [
       "<Figure size 432x288 with 1 Axes>"
      ]
     },
     "metadata": {
      "needs_background": "light"
     },
     "output_type": "display_data"
    }
   ],
   "source": [
    "df.boxplot(['sample'])"
   ]
  },
  {
   "cell_type": "code",
   "execution_count": 95,
   "id": "7897aa1f",
   "metadata": {},
   "outputs": [
    {
     "name": "stdout",
     "output_type": "stream",
     "text": [
      "statistic = 0.9331598281860352, p-value = 0.4796823561191559\n"
     ]
    }
   ],
   "source": [
    "statistic, p = stats.shapiro(df['sample'])\n",
    "print(\"statistic = {}, p-value = {}\".format(statistic, p))"
   ]
  },
  {
   "cell_type": "markdown",
   "id": "c14d9489",
   "metadata": {},
   "source": [
    "##### Python을 이용한 가설검정 실습 (299쪽)"
   ]
  },
  {
   "cell_type": "code",
   "execution_count": 105,
   "id": "e5b776d9",
   "metadata": {},
   "outputs": [
    {
     "name": "stdout",
     "output_type": "stream",
     "text": [
      "(8, 2)\n"
     ]
    },
    {
     "data": {
      "text/html": [
       "<div>\n",
       "<style scoped>\n",
       "    .dataframe tbody tr th:only-of-type {\n",
       "        vertical-align: middle;\n",
       "    }\n",
       "\n",
       "    .dataframe tbody tr th {\n",
       "        vertical-align: top;\n",
       "    }\n",
       "\n",
       "    .dataframe thead th {\n",
       "        text-align: right;\n",
       "    }\n",
       "</style>\n",
       "<table border=\"1\" class=\"dataframe\">\n",
       "  <thead>\n",
       "    <tr style=\"text-align: right;\">\n",
       "      <th></th>\n",
       "      <th>A</th>\n",
       "      <th>B</th>\n",
       "    </tr>\n",
       "  </thead>\n",
       "  <tbody>\n",
       "    <tr>\n",
       "      <th>0</th>\n",
       "      <td>1.883</td>\n",
       "      <td>1.435</td>\n",
       "    </tr>\n",
       "    <tr>\n",
       "      <th>1</th>\n",
       "      <td>1.715</td>\n",
       "      <td>1.572</td>\n",
       "    </tr>\n",
       "    <tr>\n",
       "      <th>2</th>\n",
       "      <td>1.799</td>\n",
       "      <td>1.486</td>\n",
       "    </tr>\n",
       "    <tr>\n",
       "      <th>3</th>\n",
       "      <td>1.768</td>\n",
       "      <td>1.511</td>\n",
       "    </tr>\n",
       "    <tr>\n",
       "      <th>4</th>\n",
       "      <td>1.711</td>\n",
       "      <td>1.457</td>\n",
       "    </tr>\n",
       "  </tbody>\n",
       "</table>\n",
       "</div>"
      ],
      "text/plain": [
       "       A      B\n",
       "0  1.883  1.435\n",
       "1  1.715  1.572\n",
       "2  1.799  1.486\n",
       "3  1.768  1.511\n",
       "4  1.711  1.457"
      ]
     },
     "execution_count": 105,
     "metadata": {},
     "output_type": "execute_result"
    }
   ],
   "source": [
    "df = pd.DataFrame({'A' : [1.883, 1.715, 1.799, 1.768, 1.711, 1.832, 1.427, 1.344],\n",
    "                  'B' : [1.435, 1.572, 1.486, 1.511, 1.457, 1.548, 1.404, 1.883]})\n",
    "\n",
    "print(df.shape)\n",
    "df.head()"
   ]
  },
  {
   "cell_type": "code",
   "execution_count": 111,
   "id": "c314041d",
   "metadata": {},
   "outputs": [
    {
     "name": "stdout",
     "output_type": "stream",
     "text": [
      "----------- A에 대한 정규성 검정 -----------\n",
      "statistic = 0.8425756096839905, p-value = 0.08004552870988846\n",
      "\n"
     ]
    }
   ],
   "source": [
    "# 정규성 검정\n",
    "\n",
    "statistic1, p1 = stats.shapiro(df['A'])\n",
    "print(\"----------- A에 대한 정규성 검정 -----------\")\n",
    "print(\"statistic = {}, p-value = {}\".format(statistic1, p1))\n",
    "print(\"\")"
   ]
  },
  {
   "cell_type": "markdown",
   "id": "a906b5df",
   "metadata": {},
   "source": [
    "검정통계량 0.843에 대한 유의확률 0.08 > 0.05이므로 유의수준 5% 하에서 귀무가설을 채택한다. 따라서, A공급자의 제품 두께 데이터는 정규성을 만족한다고 할 수 있다."
   ]
  },
  {
   "cell_type": "code",
   "execution_count": 112,
   "id": "af9796cb",
   "metadata": {},
   "outputs": [
    {
     "name": "stdout",
     "output_type": "stream",
     "text": [
      "----------- B에 대한 정규성 검정 -----------\n",
      "statistic = 0.7734811902046204, p-value = 0.014793740585446358\n"
     ]
    }
   ],
   "source": [
    "# 정규성 검정\n",
    "\n",
    "statistic2, p2 = stats.shapiro(df['B'])\n",
    "print(\"----------- B에 대한 정규성 검정 -----------\")\n",
    "print(\"statistic = {}, p-value = {}\".format(statistic2, p2))"
   ]
  },
  {
   "cell_type": "markdown",
   "id": "682c69e5",
   "metadata": {},
   "source": [
    "검정통계량 0.774에 대한 유의확률 0.01 < 0.05이므로 유의수준 5% 하에서 귀무가설을 기각한다. 따라서, B공급자의 제품 두께 데이터는 정규성을 만족한다고 할 수 없다."
   ]
  },
  {
   "cell_type": "code",
   "execution_count": 99,
   "id": "afe4a1d4",
   "metadata": {},
   "outputs": [
    {
     "name": "stdout",
     "output_type": "stream",
     "text": [
      "----------- A와 B에 대한 등분산성 검정 -----------\n",
      "statistic = 0.42411436523132123, p-value = 0.5148911629500761\n"
     ]
    }
   ],
   "source": [
    "# 등분산성 검정\n",
    "\n",
    "from scipy.stats import bartlett\n",
    "\n",
    "statistic, p = stats.bartlett(df['A'], df['B'])\n",
    "print(\"----------- A와 B에 대한 등분산성 검정 -----------\")\n",
    "print(\"statistic = {}, p-value = {}\".format(statistic, p))"
   ]
  },
  {
   "cell_type": "markdown",
   "id": "6d723ce8",
   "metadata": {},
   "source": [
    "검정통계량 0.424에 대한 유의확률 0.514 > 0.05이므로 유의수준 5% 하에서 귀무가설을 채택한다. 즉, 두 집단의 데이터는 등분산성을 만족한다."
   ]
  },
  {
   "cell_type": "code",
   "execution_count": 104,
   "id": "105f44cb",
   "metadata": {},
   "outputs": [
    {
     "name": "stdout",
     "output_type": "stream",
     "text": [
      "----------- 2-Sample t-test -----------\n",
      "t : 1.69954\n",
      "p : 0.11132\n"
     ]
    }
   ],
   "source": [
    "# 대응표본 t-검정\n",
    "\n",
    "statistic, p = stats.ttest_ind(df['A'], df['B'])\n",
    "print(\"----------- 2-Sample t-test -----------\")\n",
    "print(\"t : {}\".format(statistic.round(5)))\n",
    "print(\"p : {}\".format(p.round(5)))"
   ]
  },
  {
   "cell_type": "markdown",
   "id": "ce92db9b",
   "metadata": {},
   "source": [
    "- H0 : A공급자와 B공급자 간 모평균에 차이가 없다.\n",
    "- H1 : A공급자와 B공급자 간 모평균에 차이가 있다.\n",
    "\n",
    "\n",
    "검정통계량 1.699에 대한 유의확률 0.11 >0.05이므로 귀무가설을 채택한다. 즉, 두 공급자의 제품 간 모평균은 차이가 없다고 볼 수 있다."
   ]
  },
  {
   "cell_type": "markdown",
   "id": "afa867d5",
   "metadata": {},
   "source": [
    "##### Python을 이용한 가설검정 실습 (302쪽)"
   ]
  },
  {
   "cell_type": "code",
   "execution_count": 123,
   "id": "f78ee98f",
   "metadata": {},
   "outputs": [],
   "source": [
    "before = pd.DataFrame({'before' : [720, 589, 780, 648, 720, 589, 780, 648, 780, 648]})\n",
    "after = pd.DataFrame({'after' : [710, 580, 787, 712, 750, 600, 782, 670, 790, 780]})"
   ]
  },
  {
   "cell_type": "code",
   "execution_count": 126,
   "id": "bb43b1e9",
   "metadata": {},
   "outputs": [
    {
     "name": "stdout",
     "output_type": "stream",
     "text": [
      "------- Paired t-test -------\n",
      "t: [-1.904]\n",
      "p: [0.089]\n"
     ]
    }
   ],
   "source": [
    "# 대응표본 t-검정\n",
    "\n",
    "t, p = stats.ttest_rel(before, after)\n",
    "\n",
    "print(\"------- Paired t-test -------\")\n",
    "print(\"t: {}\".format(t.round(3)))\n",
    "print(\"p: {}\".format(p.round(3)))"
   ]
  },
  {
   "cell_type": "markdown",
   "id": "fea10e18",
   "metadata": {},
   "source": [
    "- H0 : 학원 가기 전후 간 회사원들의 성적 평균에 차이가 없다.\n",
    "- H1 : 학원 가기 전후 간 회사원들의 성적 평균에 차이가 있다.\n",
    "\n",
    "검정통계량 -1.904에 대한 유의확률 0.089 > 0.05이므로 귀무가설을 채택한다. 따라서, 학원 가기 전후 간 회사원들의 성적에는 차이가 없다는 것을 확인할 수 있다."
   ]
  },
  {
   "cell_type": "markdown",
   "id": "15e9e901",
   "metadata": {},
   "source": [
    "#### 카이제곱검정"
   ]
  },
  {
   "cell_type": "code",
   "execution_count": 128,
   "id": "213b659b",
   "metadata": {},
   "outputs": [
    {
     "name": "stdout",
     "output_type": "stream",
     "text": [
      "(3, 4)\n"
     ]
    },
    {
     "data": {
      "text/html": [
       "<div>\n",
       "<style scoped>\n",
       "    .dataframe tbody tr th:only-of-type {\n",
       "        vertical-align: middle;\n",
       "    }\n",
       "\n",
       "    .dataframe tbody tr th {\n",
       "        vertical-align: top;\n",
       "    }\n",
       "\n",
       "    .dataframe thead th {\n",
       "        text-align: right;\n",
       "    }\n",
       "</style>\n",
       "<table border=\"1\" class=\"dataframe\">\n",
       "  <thead>\n",
       "    <tr style=\"text-align: right;\">\n",
       "      <th></th>\n",
       "      <th>Work_1</th>\n",
       "      <th>Work_2</th>\n",
       "      <th>Work_3</th>\n",
       "      <th>Work_4</th>\n",
       "    </tr>\n",
       "  </thead>\n",
       "  <tbody>\n",
       "    <tr>\n",
       "      <th>0</th>\n",
       "      <td>270</td>\n",
       "      <td>260</td>\n",
       "      <td>236</td>\n",
       "      <td>234</td>\n",
       "    </tr>\n",
       "    <tr>\n",
       "      <th>1</th>\n",
       "      <td>228</td>\n",
       "      <td>285</td>\n",
       "      <td>225</td>\n",
       "      <td>262</td>\n",
       "    </tr>\n",
       "    <tr>\n",
       "      <th>2</th>\n",
       "      <td>277</td>\n",
       "      <td>284</td>\n",
       "      <td>231</td>\n",
       "      <td>208</td>\n",
       "    </tr>\n",
       "  </tbody>\n",
       "</table>\n",
       "</div>"
      ],
      "text/plain": [
       "   Work_1  Work_2  Work_3  Work_4\n",
       "0     270     260     236     234\n",
       "1     228     285     225     262\n",
       "2     277     284     231     208"
      ]
     },
     "execution_count": 128,
     "metadata": {},
     "output_type": "execute_result"
    }
   ],
   "source": [
    "from scipy.stats import chi2_contingency\n",
    "\n",
    "df = pd.DataFrame({'Work_1' : [270, 228, 277],\n",
    "                 'Work_2' : [260, 285, 284],\n",
    "                 'Work_3' : [236, 225, 231],\n",
    "                 'Work_4' : [234, 262, 208]})\n",
    "\n",
    "print(df.shape)\n",
    "df.head()"
   ]
  },
  {
   "cell_type": "code",
   "execution_count": 129,
   "id": "11d1b408",
   "metadata": {},
   "outputs": [
    {
     "name": "stdout",
     "output_type": "stream",
     "text": [
      "------- Chi-square test -------\n",
      "chisq : 13.366\n",
      "p : 0.038\n",
      "degree of freedom : 6\n",
      "expected value : \n",
      "[[258.333 276.333 230.667 234.667]\n",
      " [258.333 276.333 230.667 234.667]\n",
      " [258.333 276.333 230.667 234.667]]\n"
     ]
    }
   ],
   "source": [
    "chi, pval, dof, expected = stats.chi2_contingency(df)\n",
    "\n",
    "print(\"------- Chi-square test -------\")\n",
    "print(\"chisq : {0:0.3f}\".format(chi))\n",
    "print(\"p : {0:0.3f}\".format(pval))\n",
    "print(\"degree of freedom : {}\".format(dof))\n",
    "print(\"expected value : \\n{}\".format(expected.round(3)))"
   ]
  },
  {
   "cell_type": "markdown",
   "id": "1e435ada",
   "metadata": {},
   "source": [
    "#### 분산분석(ANOVA)"
   ]
  },
  {
   "cell_type": "code",
   "execution_count": 141,
   "id": "42fc5716",
   "metadata": {},
   "outputs": [
    {
     "name": "stdout",
     "output_type": "stream",
     "text": [
      "(10, 3)\n"
     ]
    },
    {
     "data": {
      "text/html": [
       "<div>\n",
       "<style scoped>\n",
       "    .dataframe tbody tr th:only-of-type {\n",
       "        vertical-align: middle;\n",
       "    }\n",
       "\n",
       "    .dataframe tbody tr th {\n",
       "        vertical-align: top;\n",
       "    }\n",
       "\n",
       "    .dataframe thead th {\n",
       "        text-align: right;\n",
       "    }\n",
       "</style>\n",
       "<table border=\"1\" class=\"dataframe\">\n",
       "  <thead>\n",
       "    <tr style=\"text-align: right;\">\n",
       "      <th></th>\n",
       "      <th>A</th>\n",
       "      <th>B</th>\n",
       "      <th>C</th>\n",
       "    </tr>\n",
       "  </thead>\n",
       "  <tbody>\n",
       "    <tr>\n",
       "      <th>0</th>\n",
       "      <td>892</td>\n",
       "      <td>721</td>\n",
       "      <td>621</td>\n",
       "    </tr>\n",
       "    <tr>\n",
       "      <th>1</th>\n",
       "      <td>623</td>\n",
       "      <td>821</td>\n",
       "      <td>915</td>\n",
       "    </tr>\n",
       "    <tr>\n",
       "      <th>2</th>\n",
       "      <td>721</td>\n",
       "      <td>910</td>\n",
       "      <td>888</td>\n",
       "    </tr>\n",
       "    <tr>\n",
       "      <th>3</th>\n",
       "      <td>678</td>\n",
       "      <td>678</td>\n",
       "      <td>721</td>\n",
       "    </tr>\n",
       "    <tr>\n",
       "      <th>4</th>\n",
       "      <td>723</td>\n",
       "      <td>723</td>\n",
       "      <td>894</td>\n",
       "    </tr>\n",
       "  </tbody>\n",
       "</table>\n",
       "</div>"
      ],
      "text/plain": [
       "     A    B    C\n",
       "0  892  721  621\n",
       "1  623  821  915\n",
       "2  721  910  888\n",
       "3  678  678  721\n",
       "4  723  723  894"
      ]
     },
     "execution_count": 141,
     "metadata": {},
     "output_type": "execute_result"
    }
   ],
   "source": [
    "df = pd.DataFrame({'A': [892, 623, 721, 678, 723, 790, 720, 670, 690, 771],\n",
    "                   'B': [721, 821, 910, 678, 723, 790, 711, 790, 745, 891],\n",
    "                   'C': [621, 915, 888, 721, 894, 834, 841, 912, 845, 889]})\n",
    "\n",
    "print(df.shape)\n",
    "df.head()"
   ]
  },
  {
   "cell_type": "code",
   "execution_count": 142,
   "id": "3b7721e9",
   "metadata": {
    "scrolled": true
   },
   "outputs": [
    {
     "data": {
      "text/plain": [
       "<AxesSubplot:>"
      ]
     },
     "execution_count": 142,
     "metadata": {},
     "output_type": "execute_result"
    },
    {
     "data": {
      "image/png": "[encoded data removed]",
      "text/plain": [
       "<Figure size 432x288 with 1 Axes>"
      ]
     },
     "metadata": {
      "needs_background": "light"
     },
     "output_type": "display_data"
    }
   ],
   "source": [
    "df.boxplot(['A', 'B', 'C'])"
   ]
  },
  {
   "cell_type": "code",
   "execution_count": 143,
   "id": "17814903",
   "metadata": {},
   "outputs": [
    {
     "name": "stdout",
     "output_type": "stream",
     "text": [
      "A : statistic = 0.9293239712715149, p-value = 0.44127610325813293\n",
      "B : statistic = 0.9242647886276245, p-value = 0.39390110969543457\n",
      "C : statistic = 0.7892211675643921, p-value = 0.010720876976847649\n"
     ]
    }
   ],
   "source": [
    "# 정규성 검정\n",
    "\n",
    "statistic1, p1 = stats.shapiro(df['A'])\n",
    "print(\"A : statistic = {}, p-value = {}\".format(statistic1, p1))\n",
    "\n",
    "statistic2, p2 = stats.shapiro(df['B'])\n",
    "print(\"B : statistic = {}, p-value = {}\".format(statistic2, p2))\n",
    "\n",
    "statistic3, p3 = stats.shapiro(df['C'])\n",
    "print(\"C : statistic = {}, p-value = {}\".format(statistic3, p3))"
   ]
  },
  {
   "cell_type": "markdown",
   "id": "d6b52701",
   "metadata": {},
   "source": [
    "- A : 유의확률 0.44 > 0.05이므로 정규성을 만족한다고 볼 수 있다.\n",
    "- B : 유의확률 0.39 > 0.05이므로 정규성을 만족한다고 볼 수 있다.\n",
    "- C : 유의확률 0.01 < 0.05이므로 정규성을 만족한다고 볼 수 없다. \n",
    "\n",
    "C그룹의 데이터는 정규성 가정을 만족하지 않으므로 bartlett 검정이 아닌 levene 검정을 시행한다."
   ]
  },
  {
   "cell_type": "code",
   "execution_count": 145,
   "id": "8b81d5c6",
   "metadata": {},
   "outputs": [
    {
     "data": {
      "text/plain": [
       "LeveneResult(statistic=0.13014245089698043, pvalue=0.8785177601959513)"
      ]
     },
     "execution_count": 145,
     "metadata": {},
     "output_type": "execute_result"
    }
   ],
   "source": [
    "# 등분산성 검정\n",
    "\n",
    "stats.levene(df['A'], df['B'], df['C'])"
   ]
  },
  {
   "cell_type": "markdown",
   "id": "0eb39cf9",
   "metadata": {},
   "source": [
    "유의확률 0.878 > 0.05이므로 귀무가설을 채택한다. 따라서, 등분산성을 가정할 수 잇다."
   ]
  },
  {
   "cell_type": "code",
   "execution_count": 147,
   "id": "567ab2b1",
   "metadata": {},
   "outputs": [
    {
     "name": "stdout",
     "output_type": "stream",
     "text": [
      "------- One-way ANOVA -------\n",
      "F 통계량 : 4.263\n",
      "p-value : 0.025\n"
     ]
    }
   ],
   "source": [
    "# ANOVA\n",
    "\n",
    "f_result = stats.f_oneway(df['A'], df['B'], df['C'])\n",
    "f, p = f_result.statistic.round(3), f_result.pvalue.round(3)\n",
    "\n",
    "print(\"------- One-way ANOVA -------\")\n",
    "print(\"F 통계량 : {}\".format(f))\n",
    "print(\"p-value : {}\".format(p))"
   ]
  },
  {
   "cell_type": "markdown",
   "id": "bb951833",
   "metadata": {},
   "source": [
    "- H0 : 세 그룹 간 토익 점수의 차이가 없다.\n",
    "- H1 : 세 그룹 간 토익 점수의 차이가 있다.\n",
    "\n",
    "검정통계량 4.263에 대한 유의확률 0.025 < 0.05이므로 귀무가설을 기각한다. 따라서, 세 그룹 간 토익 점수에는 차이가 있다고 할 수 있다."
   ]
  },
  {
   "cell_type": "markdown",
   "id": "b5a51d05",
   "metadata": {},
   "source": [
    "**상관분석**"
   ]
  },
  {
   "cell_type": "code",
   "execution_count": 151,
   "id": "3e18c447",
   "metadata": {},
   "outputs": [],
   "source": [
    "df1 = [1, 2, 3, 4, 4, 5, 6, 6, 7, 8]\n",
    "df2 = [23, 29, 49, 64, 74, 87, 96, 97, 109, 119]"
   ]
  },
  {
   "cell_type": "code",
   "execution_count": 155,
   "id": "ae7c4965",
   "metadata": {},
   "outputs": [
    {
     "name": "stdout",
     "output_type": "stream",
     "text": [
      "------- Correlation Analysis -------\n",
      "corr : 0.989\n",
      "p-value : 0.000\n"
     ]
    }
   ],
   "source": [
    "corr, pval = stats.pearsonr(df1, df2)\n",
    "\n",
    "print(\"------- Correlation Analysis -------\")\n",
    "print(\"corr : {0:0.3f}\".format(corr))\n",
    "print(\"p-value : {0:0.3f}\".format(pval))"
   ]
  },
  {
   "cell_type": "markdown",
   "id": "70bbd0e2",
   "metadata": {},
   "source": [
    "- H0 : 부품수리시간과 부품 수 간의 상관관계 = 0\n",
    "- H1 : 부품수리시간과 부품 수 간의 상관관계 != 0\n",
    "\n",
    "유의확률 0.000 < 0.05이므로 귀무가설을 기각한다. 따라서, 부품수리시간과 부품 수 간의 상관성이 있으며, 약 0.989로 강한 양의 상관성을 가진다고 볼 수 있다."
   ]
  }
 ],
 "metadata": {
  "kernelspec": {
   "display_name": "Python 3 (ipykernel)",
   "language": "python",
   "name": "python3"
  },
  "language_info": {
   "codemirror_mode": {
    "name": "ipython",
    "version": 3
   },
   "file_extension": ".py",
   "mimetype": "text/x-python",
   "name": "python",
   "nbconvert_exporter": "python",
   "pygments_lexer": "ipython3",
   "version": "3.9.12"
  }
 },
 "nbformat": 4,
 "nbformat_minor": 5
}
