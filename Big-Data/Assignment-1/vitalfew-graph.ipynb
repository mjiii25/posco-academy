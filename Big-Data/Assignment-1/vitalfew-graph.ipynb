{
  "nbformat": 4,
  "nbformat_minor": 0,
  "metadata": {
    "colab": {
      "name": "Untitled36.ipynb",
      "provenance": [],
      "authorship_tag": "ABX9TyPB8gHbyAeZsjtTrFBmSCFU",
      "include_colab_link": true
    },
    "kernelspec": {
      "name": "python3",
      "display_name": "Python 3"
    },
    "language_info": {
      "name": "python"
    }
  },
  "cells": [
    {
      "cell_type": "markdown",
      "metadata": {
        "id": "view-in-github",
        "colab_type": "text"
      },
      "source": [
        "<a href=\"https://colab.research.google.com/github/mjiii25/posco-academy/blob/main/Big-Data/Assignment-1/vitalfew-graph.ipynb\" target=\"_parent\"><img src=\"https://colab.research.google.com/assets/colab-badge.svg\" alt=\"Open In Colab\"/></a>"
      ]
    },
    {
      "cell_type": "code",
      "execution_count": 2,
      "metadata": {
        "colab": {
          "base_uri": "https://localhost:8080/"
        },
        "id": "gkg2W7tD3rlc",
        "outputId": "9e109963-a693-4fe8-ce15-05ca27bbe5e5"
      },
      "outputs": [
        {
          "output_type": "stream",
          "name": "stdout",
          "text": [
            "Mounted at /content/mydrive\n"
          ]
        }
      ],
      "source": [
        "from google.colab import drive\n",
        "drive.mount('/content/mydrive')"
      ]
    },
    {
      "cell_type": "code",
      "source": [
        "import pandas as pd\n",
        "import numpy as np\n",
        "\n",
        "import matplotlib\n",
        "import matplotlib.pyplot as plt\n",
        "import seaborn as sns\n",
        "\n",
        "from sklearn.preprocessing import StandardScaler"
      ],
      "metadata": {
        "id": "0CAGcQ3W30nj"
      },
      "execution_count": 3,
      "outputs": []
    },
    {
      "cell_type": "markdown",
      "source": [
        "### **데이터 구성하기**"
      ],
      "metadata": {
        "id": "uSfnRmU14JtK"
      }
    },
    {
      "cell_type": "code",
      "source": [
        "df_raw = pd.read_excel('/content/mydrive/MyDrive/1. 실습데이터 설명(Data Dictionary).xlsx',\n",
        "                       sheet_name = 'AIR_POLLUTION')\n",
        "\n",
        "print(df_raw.shape)\n",
        "df_raw.head(10)"
      ],
      "metadata": {
        "colab": {
          "base_uri": "https://localhost:8080/",
          "height": 381
        },
        "id": "VTHqfhsf4I7H",
        "outputId": "086b4cd5-e9ee-491d-b9cd-a9b080e2d62b"
      },
      "execution_count": 4,
      "outputs": [
        {
          "output_type": "stream",
          "name": "stdout",
          "text": [
            "(366, 15)\n"
          ]
        },
        {
          "output_type": "execute_result",
          "data": {
            "text/plain": [
              "    MeasDate  PM10  PM25     O3    NO2   CO    SO2       TEMP  RAIN      WIND  \\\n",
              "0 2019-07-01  29.0  20.0  0.054  0.021  0.5  0.003  24.034783  0.00  2.304348   \n",
              "1 2019-07-02  26.0  19.0  0.053  0.020  0.5  0.003  24.287500  0.00  2.258333   \n",
              "2 2019-07-03  30.0  20.0  0.042  0.023  0.4  0.003  24.175000  0.00  1.791667   \n",
              "3 2019-07-04  28.0  17.0  0.034  0.026  0.4  0.003  25.354167  0.00  2.037500   \n",
              "4 2019-07-05  29.0  19.0  0.045  0.035  0.5  0.003  27.295833  0.00  1.454167   \n",
              "5 2019-07-06  29.0  21.0  0.043  0.032  0.5  0.003  29.866667  0.00  1.541667   \n",
              "6 2019-07-07  16.0  12.0  0.043  0.014  0.3  0.002  26.858333  0.00  2.266667   \n",
              "7 2019-07-08  10.0   6.0  0.035  0.019  0.3  0.002  25.125000  0.00  1.962500   \n",
              "8 2019-07-09  10.0   6.0  0.033  0.019  0.4  0.002  25.112500  0.00  1.837500   \n",
              "9 2019-07-10   9.0   6.0  0.027  0.019  0.3  0.002  22.787500  0.82  2.125000   \n",
              "\n",
              "     WIND_DIR   HUMIDITY   ATM_PRESS  SNOW     CLOUD  \n",
              "0  249.130435  63.173913  995.073913   0.0  5.695652  \n",
              "1  264.583333  63.166667  998.600000   0.0  3.833333  \n",
              "2  280.000000  65.333333  998.270833   0.0  6.291667  \n",
              "3  262.500000  58.625000  996.633333   0.0  2.541667  \n",
              "4  175.416667  45.541667  993.537500   0.0  3.916667  \n",
              "5   80.000000  39.708333  993.691667   0.0  3.500000  \n",
              "6   82.916667  43.541667  997.450000   0.0  6.583333  \n",
              "7   75.833333  45.333333  997.941667   0.0  6.583333  \n",
              "8   81.250000  46.250000  996.712500   0.0  4.416667  \n",
              "9   80.000000  61.000000  997.329167   0.0  8.291667  "
            ],
            "text/html": [
              "\n",
              "  <div id=\"df-ff472d8b-5f2f-4df2-beb9-5797304e027d\">\n",
              "    <div class=\"colab-df-container\">\n",
              "      <div>\n",
              "<style scoped>\n",
              "    .dataframe tbody tr th:only-of-type {\n",
              "        vertical-align: middle;\n",
              "    }\n",
              "\n",
              "    .dataframe tbody tr th {\n",
              "        vertical-align: top;\n",
              "    }\n",
              "\n",
              "    .dataframe thead th {\n",
              "        text-align: right;\n",
              "    }\n",
              "</style>\n",
              "<table border=\"1\" class=\"dataframe\">\n",
              "  <thead>\n",
              "    <tr style=\"text-align: right;\">\n",
              "      <th></th>\n",
              "      <th>MeasDate</th>\n",
              "      <th>PM10</th>\n",
              "      <th>PM25</th>\n",
              "      <th>O3</th>\n",
              "      <th>NO2</th>\n",
              "      <th>CO</th>\n",
              "      <th>SO2</th>\n",
              "      <th>TEMP</th>\n",
              "      <th>RAIN</th>\n",
              "      <th>WIND</th>\n",
              "      <th>WIND_DIR</th>\n",
              "      <th>HUMIDITY</th>\n",
              "      <th>ATM_PRESS</th>\n",
              "      <th>SNOW</th>\n",
              "      <th>CLOUD</th>\n",
              "    </tr>\n",
              "  </thead>\n",
              "  <tbody>\n",
              "    <tr>\n",
              "      <th>0</th>\n",
              "      <td>2019-07-01</td>\n",
              "      <td>29.0</td>\n",
              "      <td>20.0</td>\n",
              "      <td>0.054</td>\n",
              "      <td>0.021</td>\n",
              "      <td>0.5</td>\n",
              "      <td>0.003</td>\n",
              "      <td>24.034783</td>\n",
              "      <td>0.00</td>\n",
              "      <td>2.304348</td>\n",
              "      <td>249.130435</td>\n",
              "      <td>63.173913</td>\n",
              "      <td>995.073913</td>\n",
              "      <td>0.0</td>\n",
              "      <td>5.695652</td>\n",
              "    </tr>\n",
              "    <tr>\n",
              "      <th>1</th>\n",
              "      <td>2019-07-02</td>\n",
              "      <td>26.0</td>\n",
              "      <td>19.0</td>\n",
              "      <td>0.053</td>\n",
              "      <td>0.020</td>\n",
              "      <td>0.5</td>\n",
              "      <td>0.003</td>\n",
              "      <td>24.287500</td>\n",
              "      <td>0.00</td>\n",
              "      <td>2.258333</td>\n",
              "      <td>264.583333</td>\n",
              "      <td>63.166667</td>\n",
              "      <td>998.600000</td>\n",
              "      <td>0.0</td>\n",
              "      <td>3.833333</td>\n",
              "    </tr>\n",
              "    <tr>\n",
              "      <th>2</th>\n",
              "      <td>2019-07-03</td>\n",
              "      <td>30.0</td>\n",
              "      <td>20.0</td>\n",
              "      <td>0.042</td>\n",
              "      <td>0.023</td>\n",
              "      <td>0.4</td>\n",
              "      <td>0.003</td>\n",
              "      <td>24.175000</td>\n",
              "      <td>0.00</td>\n",
              "      <td>1.791667</td>\n",
              "      <td>280.000000</td>\n",
              "      <td>65.333333</td>\n",
              "      <td>998.270833</td>\n",
              "      <td>0.0</td>\n",
              "      <td>6.291667</td>\n",
              "    </tr>\n",
              "    <tr>\n",
              "      <th>3</th>\n",
              "      <td>2019-07-04</td>\n",
              "      <td>28.0</td>\n",
              "      <td>17.0</td>\n",
              "      <td>0.034</td>\n",
              "      <td>0.026</td>\n",
              "      <td>0.4</td>\n",
              "      <td>0.003</td>\n",
              "      <td>25.354167</td>\n",
              "      <td>0.00</td>\n",
              "      <td>2.037500</td>\n",
              "      <td>262.500000</td>\n",
              "      <td>58.625000</td>\n",
              "      <td>996.633333</td>\n",
              "      <td>0.0</td>\n",
              "      <td>2.541667</td>\n",
              "    </tr>\n",
              "    <tr>\n",
              "      <th>4</th>\n",
              "      <td>2019-07-05</td>\n",
              "      <td>29.0</td>\n",
              "      <td>19.0</td>\n",
              "      <td>0.045</td>\n",
              "      <td>0.035</td>\n",
              "      <td>0.5</td>\n",
              "      <td>0.003</td>\n",
              "      <td>27.295833</td>\n",
              "      <td>0.00</td>\n",
              "      <td>1.454167</td>\n",
              "      <td>175.416667</td>\n",
              "      <td>45.541667</td>\n",
              "      <td>993.537500</td>\n",
              "      <td>0.0</td>\n",
              "      <td>3.916667</td>\n",
              "    </tr>\n",
              "    <tr>\n",
              "      <th>5</th>\n",
              "      <td>2019-07-06</td>\n",
              "      <td>29.0</td>\n",
              "      <td>21.0</td>\n",
              "      <td>0.043</td>\n",
              "      <td>0.032</td>\n",
              "      <td>0.5</td>\n",
              "      <td>0.003</td>\n",
              "      <td>29.866667</td>\n",
              "      <td>0.00</td>\n",
              "      <td>1.541667</td>\n",
              "      <td>80.000000</td>\n",
              "      <td>39.708333</td>\n",
              "      <td>993.691667</td>\n",
              "      <td>0.0</td>\n",
              "      <td>3.500000</td>\n",
              "    </tr>\n",
              "    <tr>\n",
              "      <th>6</th>\n",
              "      <td>2019-07-07</td>\n",
              "      <td>16.0</td>\n",
              "      <td>12.0</td>\n",
              "      <td>0.043</td>\n",
              "      <td>0.014</td>\n",
              "      <td>0.3</td>\n",
              "      <td>0.002</td>\n",
              "      <td>26.858333</td>\n",
              "      <td>0.00</td>\n",
              "      <td>2.266667</td>\n",
              "      <td>82.916667</td>\n",
              "      <td>43.541667</td>\n",
              "      <td>997.450000</td>\n",
              "      <td>0.0</td>\n",
              "      <td>6.583333</td>\n",
              "    </tr>\n",
              "    <tr>\n",
              "      <th>7</th>\n",
              "      <td>2019-07-08</td>\n",
              "      <td>10.0</td>\n",
              "      <td>6.0</td>\n",
              "      <td>0.035</td>\n",
              "      <td>0.019</td>\n",
              "      <td>0.3</td>\n",
              "      <td>0.002</td>\n",
              "      <td>25.125000</td>\n",
              "      <td>0.00</td>\n",
              "      <td>1.962500</td>\n",
              "      <td>75.833333</td>\n",
              "      <td>45.333333</td>\n",
              "      <td>997.941667</td>\n",
              "      <td>0.0</td>\n",
              "      <td>6.583333</td>\n",
              "    </tr>\n",
              "    <tr>\n",
              "      <th>8</th>\n",
              "      <td>2019-07-09</td>\n",
              "      <td>10.0</td>\n",
              "      <td>6.0</td>\n",
              "      <td>0.033</td>\n",
              "      <td>0.019</td>\n",
              "      <td>0.4</td>\n",
              "      <td>0.002</td>\n",
              "      <td>25.112500</td>\n",
              "      <td>0.00</td>\n",
              "      <td>1.837500</td>\n",
              "      <td>81.250000</td>\n",
              "      <td>46.250000</td>\n",
              "      <td>996.712500</td>\n",
              "      <td>0.0</td>\n",
              "      <td>4.416667</td>\n",
              "    </tr>\n",
              "    <tr>\n",
              "      <th>9</th>\n",
              "      <td>2019-07-10</td>\n",
              "      <td>9.0</td>\n",
              "      <td>6.0</td>\n",
              "      <td>0.027</td>\n",
              "      <td>0.019</td>\n",
              "      <td>0.3</td>\n",
              "      <td>0.002</td>\n",
              "      <td>22.787500</td>\n",
              "      <td>0.82</td>\n",
              "      <td>2.125000</td>\n",
              "      <td>80.000000</td>\n",
              "      <td>61.000000</td>\n",
              "      <td>997.329167</td>\n",
              "      <td>0.0</td>\n",
              "      <td>8.291667</td>\n",
              "    </tr>\n",
              "  </tbody>\n",
              "</table>\n",
              "</div>\n",
              "      <button class=\"colab-df-convert\" onclick=\"convertToInteractive('df-ff472d8b-5f2f-4df2-beb9-5797304e027d')\"\n",
              "              title=\"Convert this dataframe to an interactive table.\"\n",
              "              style=\"display:none;\">\n",
              "        \n",
              "  <svg xmlns=\"http://www.w3.org/2000/svg\" height=\"24px\"viewBox=\"0 0 24 24\"\n",
              "       width=\"24px\">\n",
              "    <path d=\"M0 0h24v24H0V0z\" fill=\"none\"/>\n",
              "    <path d=\"M18.56 5.44l.94 2.06.94-2.06 2.06-.94-2.06-.94-.94-2.06-.94 2.06-2.06.94zm-11 1L8.5 8.5l.94-2.06 2.06-.94-2.06-.94L8.5 2.5l-.94 2.06-2.06.94zm10 10l.94 2.06.94-2.06 2.06-.94-2.06-.94-.94-2.06-.94 2.06-2.06.94z\"/><path d=\"M17.41 7.96l-1.37-1.37c-.4-.4-.92-.59-1.43-.59-.52 0-1.04.2-1.43.59L10.3 9.45l-7.72 7.72c-.78.78-.78 2.05 0 2.83L4 21.41c.39.39.9.59 1.41.59.51 0 1.02-.2 1.41-.59l7.78-7.78 2.81-2.81c.8-.78.8-2.07 0-2.86zM5.41 20L4 18.59l7.72-7.72 1.47 1.35L5.41 20z\"/>\n",
              "  </svg>\n",
              "      </button>\n",
              "      \n",
              "  <style>\n",
              "    .colab-df-container {\n",
              "      display:flex;\n",
              "      flex-wrap:wrap;\n",
              "      gap: 12px;\n",
              "    }\n",
              "\n",
              "    .colab-df-convert {\n",
              "      background-color: #E8F0FE;\n",
              "      border: none;\n",
              "      border-radius: 50%;\n",
              "      cursor: pointer;\n",
              "      display: none;\n",
              "      fill: #1967D2;\n",
              "      height: 32px;\n",
              "      padding: 0 0 0 0;\n",
              "      width: 32px;\n",
              "    }\n",
              "\n",
              "    .colab-df-convert:hover {\n",
              "      background-color: #E2EBFA;\n",
              "      box-shadow: 0px 1px 2px rgba(60, 64, 67, 0.3), 0px 1px 3px 1px rgba(60, 64, 67, 0.15);\n",
              "      fill: #174EA6;\n",
              "    }\n",
              "\n",
              "    [theme=dark] .colab-df-convert {\n",
              "      background-color: #3B4455;\n",
              "      fill: #D2E3FC;\n",
              "    }\n",
              "\n",
              "    [theme=dark] .colab-df-convert:hover {\n",
              "      background-color: #434B5C;\n",
              "      box-shadow: 0px 1px 3px 1px rgba(0, 0, 0, 0.15);\n",
              "      filter: drop-shadow(0px 1px 2px rgba(0, 0, 0, 0.3));\n",
              "      fill: #FFFFFF;\n",
              "    }\n",
              "  </style>\n",
              "\n",
              "      <script>\n",
              "        const buttonEl =\n",
              "          document.querySelector('#df-ff472d8b-5f2f-4df2-beb9-5797304e027d button.colab-df-convert');\n",
              "        buttonEl.style.display =\n",
              "          google.colab.kernel.accessAllowed ? 'block' : 'none';\n",
              "\n",
              "        async function convertToInteractive(key) {\n",
              "          const element = document.querySelector('#df-ff472d8b-5f2f-4df2-beb9-5797304e027d');\n",
              "          const dataTable =\n",
              "            await google.colab.kernel.invokeFunction('convertToInteractive',\n",
              "                                                     [key], {});\n",
              "          if (!dataTable) return;\n",
              "\n",
              "          const docLinkHtml = 'Like what you see? Visit the ' +\n",
              "            '<a target=\"_blank\" href=https://colab.research.google.com/notebooks/data_table.ipynb>data table notebook</a>'\n",
              "            + ' to learn more about interactive tables.';\n",
              "          element.innerHTML = '';\n",
              "          dataTable['output_type'] = 'display_data';\n",
              "          await google.colab.output.renderOutput(dataTable, element);\n",
              "          const docLink = document.createElement('div');\n",
              "          docLink.innerHTML = docLinkHtml;\n",
              "          element.appendChild(docLink);\n",
              "        }\n",
              "      </script>\n",
              "    </div>\n",
              "  </div>\n",
              "  "
            ]
          },
          "metadata": {},
          "execution_count": 4
        }
      ]
    },
    {
      "cell_type": "code",
      "source": [
        "df_raw.drop('PM25', axis = 1, inplace = True)"
      ],
      "metadata": {
        "id": "iHNCi2_q5e39"
      },
      "execution_count": 5,
      "outputs": []
    },
    {
      "cell_type": "code",
      "source": [
        "df_raw.info()"
      ],
      "metadata": {
        "colab": {
          "base_uri": "https://localhost:8080/"
        },
        "id": "0-NDjLWG4y3n",
        "outputId": "68e01147-0dd7-4452-e049-2db0d089f8a9"
      },
      "execution_count": 6,
      "outputs": [
        {
          "output_type": "stream",
          "name": "stdout",
          "text": [
            "<class 'pandas.core.frame.DataFrame'>\n",
            "RangeIndex: 366 entries, 0 to 365\n",
            "Data columns (total 14 columns):\n",
            " #   Column     Non-Null Count  Dtype         \n",
            "---  ------     --------------  -----         \n",
            " 0   MeasDate   366 non-null    datetime64[ns]\n",
            " 1   PM10       365 non-null    float64       \n",
            " 2   O3         365 non-null    float64       \n",
            " 3   NO2        365 non-null    float64       \n",
            " 4   CO         311 non-null    float64       \n",
            " 5   SO2        365 non-null    float64       \n",
            " 6   TEMP       366 non-null    float64       \n",
            " 7   RAIN       366 non-null    float64       \n",
            " 8   WIND       366 non-null    float64       \n",
            " 9   WIND_DIR   366 non-null    float64       \n",
            " 10  HUMIDITY   366 non-null    float64       \n",
            " 11  ATM_PRESS  366 non-null    float64       \n",
            " 12  SNOW       366 non-null    float64       \n",
            " 13  CLOUD      366 non-null    float64       \n",
            "dtypes: datetime64[ns](1), float64(13)\n",
            "memory usage: 40.2 KB\n"
          ]
        }
      ]
    },
    {
      "cell_type": "code",
      "source": [
        "df_raw.describe().round(3)"
      ],
      "metadata": {
        "colab": {
          "base_uri": "https://localhost:8080/",
          "height": 300
        },
        "id": "UL63ateb5xUE",
        "outputId": "280b3f0c-487d-494e-cc0c-a1351ac94250"
      },
      "execution_count": 7,
      "outputs": [
        {
          "output_type": "execute_result",
          "data": {
            "text/plain": [
              "          PM10       O3      NO2       CO      SO2     TEMP     RAIN     WIND  \\\n",
              "count  365.000  365.000  365.000  311.000  365.000  366.000  366.000  366.000   \n",
              "mean    33.422    0.024    0.027    0.517    0.003   13.863    0.382    2.225   \n",
              "std     15.938    0.012    0.010    0.153    0.001    9.830    1.122    0.723   \n",
              "min      5.000    0.002    0.008    0.300    0.002   -7.954    0.000    0.942   \n",
              "25%     22.000    0.014    0.019    0.400    0.003    5.493    0.000    1.722   \n",
              "50%     31.000    0.023    0.025    0.500    0.003   13.996    0.000    2.094   \n",
              "75%     42.000    0.032    0.034    0.600    0.003   23.073    0.115    2.620   \n",
              "max    101.000    0.062    0.059    1.000    0.005   31.721   11.800    5.883   \n",
              "\n",
              "       WIND_DIR  HUMIDITY  ATM_PRESS     SNOW    CLOUD  \n",
              "count   366.000   366.000    366.000  366.000  366.000  \n",
              "mean    209.420    60.292   1005.846    0.023    5.063  \n",
              "std      70.753    14.533      8.125    0.222    2.986  \n",
              "min      50.000    17.875    983.800    0.000    0.000  \n",
              "25%     160.000    49.677    999.423    0.000    2.510  \n",
              "50%     221.042    61.062   1006.408    0.000    5.312  \n",
              "75%     265.833    69.917   1011.571    0.000    7.573  \n",
              "max     351.250    94.958   1025.529    3.188   10.000  "
            ],
            "text/html": [
              "\n",
              "  <div id=\"df-80f8c099-e2ef-43d7-aa11-f498c10671f1\">\n",
              "    <div class=\"colab-df-container\">\n",
              "      <div>\n",
              "<style scoped>\n",
              "    .dataframe tbody tr th:only-of-type {\n",
              "        vertical-align: middle;\n",
              "    }\n",
              "\n",
              "    .dataframe tbody tr th {\n",
              "        vertical-align: top;\n",
              "    }\n",
              "\n",
              "    .dataframe thead th {\n",
              "        text-align: right;\n",
              "    }\n",
              "</style>\n",
              "<table border=\"1\" class=\"dataframe\">\n",
              "  <thead>\n",
              "    <tr style=\"text-align: right;\">\n",
              "      <th></th>\n",
              "      <th>PM10</th>\n",
              "      <th>O3</th>\n",
              "      <th>NO2</th>\n",
              "      <th>CO</th>\n",
              "      <th>SO2</th>\n",
              "      <th>TEMP</th>\n",
              "      <th>RAIN</th>\n",
              "      <th>WIND</th>\n",
              "      <th>WIND_DIR</th>\n",
              "      <th>HUMIDITY</th>\n",
              "      <th>ATM_PRESS</th>\n",
              "      <th>SNOW</th>\n",
              "      <th>CLOUD</th>\n",
              "    </tr>\n",
              "  </thead>\n",
              "  <tbody>\n",
              "    <tr>\n",
              "      <th>count</th>\n",
              "      <td>365.000</td>\n",
              "      <td>365.000</td>\n",
              "      <td>365.000</td>\n",
              "      <td>311.000</td>\n",
              "      <td>365.000</td>\n",
              "      <td>366.000</td>\n",
              "      <td>366.000</td>\n",
              "      <td>366.000</td>\n",
              "      <td>366.000</td>\n",
              "      <td>366.000</td>\n",
              "      <td>366.000</td>\n",
              "      <td>366.000</td>\n",
              "      <td>366.000</td>\n",
              "    </tr>\n",
              "    <tr>\n",
              "      <th>mean</th>\n",
              "      <td>33.422</td>\n",
              "      <td>0.024</td>\n",
              "      <td>0.027</td>\n",
              "      <td>0.517</td>\n",
              "      <td>0.003</td>\n",
              "      <td>13.863</td>\n",
              "      <td>0.382</td>\n",
              "      <td>2.225</td>\n",
              "      <td>209.420</td>\n",
              "      <td>60.292</td>\n",
              "      <td>1005.846</td>\n",
              "      <td>0.023</td>\n",
              "      <td>5.063</td>\n",
              "    </tr>\n",
              "    <tr>\n",
              "      <th>std</th>\n",
              "      <td>15.938</td>\n",
              "      <td>0.012</td>\n",
              "      <td>0.010</td>\n",
              "      <td>0.153</td>\n",
              "      <td>0.001</td>\n",
              "      <td>9.830</td>\n",
              "      <td>1.122</td>\n",
              "      <td>0.723</td>\n",
              "      <td>70.753</td>\n",
              "      <td>14.533</td>\n",
              "      <td>8.125</td>\n",
              "      <td>0.222</td>\n",
              "      <td>2.986</td>\n",
              "    </tr>\n",
              "    <tr>\n",
              "      <th>min</th>\n",
              "      <td>5.000</td>\n",
              "      <td>0.002</td>\n",
              "      <td>0.008</td>\n",
              "      <td>0.300</td>\n",
              "      <td>0.002</td>\n",
              "      <td>-7.954</td>\n",
              "      <td>0.000</td>\n",
              "      <td>0.942</td>\n",
              "      <td>50.000</td>\n",
              "      <td>17.875</td>\n",
              "      <td>983.800</td>\n",
              "      <td>0.000</td>\n",
              "      <td>0.000</td>\n",
              "    </tr>\n",
              "    <tr>\n",
              "      <th>25%</th>\n",
              "      <td>22.000</td>\n",
              "      <td>0.014</td>\n",
              "      <td>0.019</td>\n",
              "      <td>0.400</td>\n",
              "      <td>0.003</td>\n",
              "      <td>5.493</td>\n",
              "      <td>0.000</td>\n",
              "      <td>1.722</td>\n",
              "      <td>160.000</td>\n",
              "      <td>49.677</td>\n",
              "      <td>999.423</td>\n",
              "      <td>0.000</td>\n",
              "      <td>2.510</td>\n",
              "    </tr>\n",
              "    <tr>\n",
              "      <th>50%</th>\n",
              "      <td>31.000</td>\n",
              "      <td>0.023</td>\n",
              "      <td>0.025</td>\n",
              "      <td>0.500</td>\n",
              "      <td>0.003</td>\n",
              "      <td>13.996</td>\n",
              "      <td>0.000</td>\n",
              "      <td>2.094</td>\n",
              "      <td>221.042</td>\n",
              "      <td>61.062</td>\n",
              "      <td>1006.408</td>\n",
              "      <td>0.000</td>\n",
              "      <td>5.312</td>\n",
              "    </tr>\n",
              "    <tr>\n",
              "      <th>75%</th>\n",
              "      <td>42.000</td>\n",
              "      <td>0.032</td>\n",
              "      <td>0.034</td>\n",
              "      <td>0.600</td>\n",
              "      <td>0.003</td>\n",
              "      <td>23.073</td>\n",
              "      <td>0.115</td>\n",
              "      <td>2.620</td>\n",
              "      <td>265.833</td>\n",
              "      <td>69.917</td>\n",
              "      <td>1011.571</td>\n",
              "      <td>0.000</td>\n",
              "      <td>7.573</td>\n",
              "    </tr>\n",
              "    <tr>\n",
              "      <th>max</th>\n",
              "      <td>101.000</td>\n",
              "      <td>0.062</td>\n",
              "      <td>0.059</td>\n",
              "      <td>1.000</td>\n",
              "      <td>0.005</td>\n",
              "      <td>31.721</td>\n",
              "      <td>11.800</td>\n",
              "      <td>5.883</td>\n",
              "      <td>351.250</td>\n",
              "      <td>94.958</td>\n",
              "      <td>1025.529</td>\n",
              "      <td>3.188</td>\n",
              "      <td>10.000</td>\n",
              "    </tr>\n",
              "  </tbody>\n",
              "</table>\n",
              "</div>\n",
              "      <button class=\"colab-df-convert\" onclick=\"convertToInteractive('df-80f8c099-e2ef-43d7-aa11-f498c10671f1')\"\n",
              "              title=\"Convert this dataframe to an interactive table.\"\n",
              "              style=\"display:none;\">\n",
              "        \n",
              "  <svg xmlns=\"http://www.w3.org/2000/svg\" height=\"24px\"viewBox=\"0 0 24 24\"\n",
              "       width=\"24px\">\n",
              "    <path d=\"M0 0h24v24H0V0z\" fill=\"none\"/>\n",
              "    <path d=\"M18.56 5.44l.94 2.06.94-2.06 2.06-.94-2.06-.94-.94-2.06-.94 2.06-2.06.94zm-11 1L8.5 8.5l.94-2.06 2.06-.94-2.06-.94L8.5 2.5l-.94 2.06-2.06.94zm10 10l.94 2.06.94-2.06 2.06-.94-2.06-.94-.94-2.06-.94 2.06-2.06.94z\"/><path d=\"M17.41 7.96l-1.37-1.37c-.4-.4-.92-.59-1.43-.59-.52 0-1.04.2-1.43.59L10.3 9.45l-7.72 7.72c-.78.78-.78 2.05 0 2.83L4 21.41c.39.39.9.59 1.41.59.51 0 1.02-.2 1.41-.59l7.78-7.78 2.81-2.81c.8-.78.8-2.07 0-2.86zM5.41 20L4 18.59l7.72-7.72 1.47 1.35L5.41 20z\"/>\n",
              "  </svg>\n",
              "      </button>\n",
              "      \n",
              "  <style>\n",
              "    .colab-df-container {\n",
              "      display:flex;\n",
              "      flex-wrap:wrap;\n",
              "      gap: 12px;\n",
              "    }\n",
              "\n",
              "    .colab-df-convert {\n",
              "      background-color: #E8F0FE;\n",
              "      border: none;\n",
              "      border-radius: 50%;\n",
              "      cursor: pointer;\n",
              "      display: none;\n",
              "      fill: #1967D2;\n",
              "      height: 32px;\n",
              "      padding: 0 0 0 0;\n",
              "      width: 32px;\n",
              "    }\n",
              "\n",
              "    .colab-df-convert:hover {\n",
              "      background-color: #E2EBFA;\n",
              "      box-shadow: 0px 1px 2px rgba(60, 64, 67, 0.3), 0px 1px 3px 1px rgba(60, 64, 67, 0.15);\n",
              "      fill: #174EA6;\n",
              "    }\n",
              "\n",
              "    [theme=dark] .colab-df-convert {\n",
              "      background-color: #3B4455;\n",
              "      fill: #D2E3FC;\n",
              "    }\n",
              "\n",
              "    [theme=dark] .colab-df-convert:hover {\n",
              "      background-color: #434B5C;\n",
              "      box-shadow: 0px 1px 3px 1px rgba(0, 0, 0, 0.15);\n",
              "      filter: drop-shadow(0px 1px 2px rgba(0, 0, 0, 0.3));\n",
              "      fill: #FFFFFF;\n",
              "    }\n",
              "  </style>\n",
              "\n",
              "      <script>\n",
              "        const buttonEl =\n",
              "          document.querySelector('#df-80f8c099-e2ef-43d7-aa11-f498c10671f1 button.colab-df-convert');\n",
              "        buttonEl.style.display =\n",
              "          google.colab.kernel.accessAllowed ? 'block' : 'none';\n",
              "\n",
              "        async function convertToInteractive(key) {\n",
              "          const element = document.querySelector('#df-80f8c099-e2ef-43d7-aa11-f498c10671f1');\n",
              "          const dataTable =\n",
              "            await google.colab.kernel.invokeFunction('convertToInteractive',\n",
              "                                                     [key], {});\n",
              "          if (!dataTable) return;\n",
              "\n",
              "          const docLinkHtml = 'Like what you see? Visit the ' +\n",
              "            '<a target=\"_blank\" href=https://colab.research.google.com/notebooks/data_table.ipynb>data table notebook</a>'\n",
              "            + ' to learn more about interactive tables.';\n",
              "          element.innerHTML = '';\n",
              "          dataTable['output_type'] = 'display_data';\n",
              "          await google.colab.output.renderOutput(dataTable, element);\n",
              "          const docLink = document.createElement('div');\n",
              "          docLink.innerHTML = docLinkHtml;\n",
              "          element.appendChild(docLink);\n",
              "        }\n",
              "      </script>\n",
              "    </div>\n",
              "  </div>\n",
              "  "
            ]
          },
          "metadata": {},
          "execution_count": 7
        }
      ]
    },
    {
      "cell_type": "markdown",
      "source": [
        "**결측값 확인하기**"
      ],
      "metadata": {
        "id": "NsJhvAUX5qwB"
      }
    },
    {
      "cell_type": "code",
      "source": [
        "df_raw.isnull().sum()"
      ],
      "metadata": {
        "colab": {
          "base_uri": "https://localhost:8080/"
        },
        "id": "ycUVlfJx441a",
        "outputId": "475a74c5-50d1-40c2-e1a2-3cc4f1a3c8b1"
      },
      "execution_count": 8,
      "outputs": [
        {
          "output_type": "execute_result",
          "data": {
            "text/plain": [
              "MeasDate      0\n",
              "PM10          1\n",
              "O3            1\n",
              "NO2           1\n",
              "CO           55\n",
              "SO2           1\n",
              "TEMP          0\n",
              "RAIN          0\n",
              "WIND          0\n",
              "WIND_DIR      0\n",
              "HUMIDITY      0\n",
              "ATM_PRESS     0\n",
              "SNOW          0\n",
              "CLOUD         0\n",
              "dtype: int64"
            ]
          },
          "metadata": {},
          "execution_count": 8
        }
      ]
    },
    {
      "cell_type": "code",
      "source": [
        "df_raw.fillna(df_raw.median(), inplace = True)\n",
        "\n",
        "df_raw.head()"
      ],
      "metadata": {
        "colab": {
          "base_uri": "https://localhost:8080/",
          "height": 262
        },
        "id": "SsH3-myv6h5u",
        "outputId": "826a94eb-b7e7-4a0d-a1c1-94a06b318984"
      },
      "execution_count": 9,
      "outputs": [
        {
          "output_type": "stream",
          "name": "stderr",
          "text": [
            "/usr/local/lib/python3.7/dist-packages/ipykernel_launcher.py:1: FutureWarning: DataFrame.mean and DataFrame.median with numeric_only=None will include datetime64 and datetime64tz columns in a future version.\n",
            "  \"\"\"Entry point for launching an IPython kernel.\n"
          ]
        },
        {
          "output_type": "execute_result",
          "data": {
            "text/plain": [
              "    MeasDate  PM10     O3    NO2   CO    SO2       TEMP  RAIN      WIND  \\\n",
              "0 2019-07-01  29.0  0.054  0.021  0.5  0.003  24.034783   0.0  2.304348   \n",
              "1 2019-07-02  26.0  0.053  0.020  0.5  0.003  24.287500   0.0  2.258333   \n",
              "2 2019-07-03  30.0  0.042  0.023  0.4  0.003  24.175000   0.0  1.791667   \n",
              "3 2019-07-04  28.0  0.034  0.026  0.4  0.003  25.354167   0.0  2.037500   \n",
              "4 2019-07-05  29.0  0.045  0.035  0.5  0.003  27.295833   0.0  1.454167   \n",
              "\n",
              "     WIND_DIR   HUMIDITY   ATM_PRESS  SNOW     CLOUD  \n",
              "0  249.130435  63.173913  995.073913   0.0  5.695652  \n",
              "1  264.583333  63.166667  998.600000   0.0  3.833333  \n",
              "2  280.000000  65.333333  998.270833   0.0  6.291667  \n",
              "3  262.500000  58.625000  996.633333   0.0  2.541667  \n",
              "4  175.416667  45.541667  993.537500   0.0  3.916667  "
            ],
            "text/html": [
              "\n",
              "  <div id=\"df-9ef442c1-daa1-468e-8c2f-8e8cd8e43584\">\n",
              "    <div class=\"colab-df-container\">\n",
              "      <div>\n",
              "<style scoped>\n",
              "    .dataframe tbody tr th:only-of-type {\n",
              "        vertical-align: middle;\n",
              "    }\n",
              "\n",
              "    .dataframe tbody tr th {\n",
              "        vertical-align: top;\n",
              "    }\n",
              "\n",
              "    .dataframe thead th {\n",
              "        text-align: right;\n",
              "    }\n",
              "</style>\n",
              "<table border=\"1\" class=\"dataframe\">\n",
              "  <thead>\n",
              "    <tr style=\"text-align: right;\">\n",
              "      <th></th>\n",
              "      <th>MeasDate</th>\n",
              "      <th>PM10</th>\n",
              "      <th>O3</th>\n",
              "      <th>NO2</th>\n",
              "      <th>CO</th>\n",
              "      <th>SO2</th>\n",
              "      <th>TEMP</th>\n",
              "      <th>RAIN</th>\n",
              "      <th>WIND</th>\n",
              "      <th>WIND_DIR</th>\n",
              "      <th>HUMIDITY</th>\n",
              "      <th>ATM_PRESS</th>\n",
              "      <th>SNOW</th>\n",
              "      <th>CLOUD</th>\n",
              "    </tr>\n",
              "  </thead>\n",
              "  <tbody>\n",
              "    <tr>\n",
              "      <th>0</th>\n",
              "      <td>2019-07-01</td>\n",
              "      <td>29.0</td>\n",
              "      <td>0.054</td>\n",
              "      <td>0.021</td>\n",
              "      <td>0.5</td>\n",
              "      <td>0.003</td>\n",
              "      <td>24.034783</td>\n",
              "      <td>0.0</td>\n",
              "      <td>2.304348</td>\n",
              "      <td>249.130435</td>\n",
              "      <td>63.173913</td>\n",
              "      <td>995.073913</td>\n",
              "      <td>0.0</td>\n",
              "      <td>5.695652</td>\n",
              "    </tr>\n",
              "    <tr>\n",
              "      <th>1</th>\n",
              "      <td>2019-07-02</td>\n",
              "      <td>26.0</td>\n",
              "      <td>0.053</td>\n",
              "      <td>0.020</td>\n",
              "      <td>0.5</td>\n",
              "      <td>0.003</td>\n",
              "      <td>24.287500</td>\n",
              "      <td>0.0</td>\n",
              "      <td>2.258333</td>\n",
              "      <td>264.583333</td>\n",
              "      <td>63.166667</td>\n",
              "      <td>998.600000</td>\n",
              "      <td>0.0</td>\n",
              "      <td>3.833333</td>\n",
              "    </tr>\n",
              "    <tr>\n",
              "      <th>2</th>\n",
              "      <td>2019-07-03</td>\n",
              "      <td>30.0</td>\n",
              "      <td>0.042</td>\n",
              "      <td>0.023</td>\n",
              "      <td>0.4</td>\n",
              "      <td>0.003</td>\n",
              "      <td>24.175000</td>\n",
              "      <td>0.0</td>\n",
              "      <td>1.791667</td>\n",
              "      <td>280.000000</td>\n",
              "      <td>65.333333</td>\n",
              "      <td>998.270833</td>\n",
              "      <td>0.0</td>\n",
              "      <td>6.291667</td>\n",
              "    </tr>\n",
              "    <tr>\n",
              "      <th>3</th>\n",
              "      <td>2019-07-04</td>\n",
              "      <td>28.0</td>\n",
              "      <td>0.034</td>\n",
              "      <td>0.026</td>\n",
              "      <td>0.4</td>\n",
              "      <td>0.003</td>\n",
              "      <td>25.354167</td>\n",
              "      <td>0.0</td>\n",
              "      <td>2.037500</td>\n",
              "      <td>262.500000</td>\n",
              "      <td>58.625000</td>\n",
              "      <td>996.633333</td>\n",
              "      <td>0.0</td>\n",
              "      <td>2.541667</td>\n",
              "    </tr>\n",
              "    <tr>\n",
              "      <th>4</th>\n",
              "      <td>2019-07-05</td>\n",
              "      <td>29.0</td>\n",
              "      <td>0.045</td>\n",
              "      <td>0.035</td>\n",
              "      <td>0.5</td>\n",
              "      <td>0.003</td>\n",
              "      <td>27.295833</td>\n",
              "      <td>0.0</td>\n",
              "      <td>1.454167</td>\n",
              "      <td>175.416667</td>\n",
              "      <td>45.541667</td>\n",
              "      <td>993.537500</td>\n",
              "      <td>0.0</td>\n",
              "      <td>3.916667</td>\n",
              "    </tr>\n",
              "  </tbody>\n",
              "</table>\n",
              "</div>\n",
              "      <button class=\"colab-df-convert\" onclick=\"convertToInteractive('df-9ef442c1-daa1-468e-8c2f-8e8cd8e43584')\"\n",
              "              title=\"Convert this dataframe to an interactive table.\"\n",
              "              style=\"display:none;\">\n",
              "        \n",
              "  <svg xmlns=\"http://www.w3.org/2000/svg\" height=\"24px\"viewBox=\"0 0 24 24\"\n",
              "       width=\"24px\">\n",
              "    <path d=\"M0 0h24v24H0V0z\" fill=\"none\"/>\n",
              "    <path d=\"M18.56 5.44l.94 2.06.94-2.06 2.06-.94-2.06-.94-.94-2.06-.94 2.06-2.06.94zm-11 1L8.5 8.5l.94-2.06 2.06-.94-2.06-.94L8.5 2.5l-.94 2.06-2.06.94zm10 10l.94 2.06.94-2.06 2.06-.94-2.06-.94-.94-2.06-.94 2.06-2.06.94z\"/><path d=\"M17.41 7.96l-1.37-1.37c-.4-.4-.92-.59-1.43-.59-.52 0-1.04.2-1.43.59L10.3 9.45l-7.72 7.72c-.78.78-.78 2.05 0 2.83L4 21.41c.39.39.9.59 1.41.59.51 0 1.02-.2 1.41-.59l7.78-7.78 2.81-2.81c.8-.78.8-2.07 0-2.86zM5.41 20L4 18.59l7.72-7.72 1.47 1.35L5.41 20z\"/>\n",
              "  </svg>\n",
              "      </button>\n",
              "      \n",
              "  <style>\n",
              "    .colab-df-container {\n",
              "      display:flex;\n",
              "      flex-wrap:wrap;\n",
              "      gap: 12px;\n",
              "    }\n",
              "\n",
              "    .colab-df-convert {\n",
              "      background-color: #E8F0FE;\n",
              "      border: none;\n",
              "      border-radius: 50%;\n",
              "      cursor: pointer;\n",
              "      display: none;\n",
              "      fill: #1967D2;\n",
              "      height: 32px;\n",
              "      padding: 0 0 0 0;\n",
              "      width: 32px;\n",
              "    }\n",
              "\n",
              "    .colab-df-convert:hover {\n",
              "      background-color: #E2EBFA;\n",
              "      box-shadow: 0px 1px 2px rgba(60, 64, 67, 0.3), 0px 1px 3px 1px rgba(60, 64, 67, 0.15);\n",
              "      fill: #174EA6;\n",
              "    }\n",
              "\n",
              "    [theme=dark] .colab-df-convert {\n",
              "      background-color: #3B4455;\n",
              "      fill: #D2E3FC;\n",
              "    }\n",
              "\n",
              "    [theme=dark] .colab-df-convert:hover {\n",
              "      background-color: #434B5C;\n",
              "      box-shadow: 0px 1px 3px 1px rgba(0, 0, 0, 0.15);\n",
              "      filter: drop-shadow(0px 1px 2px rgba(0, 0, 0, 0.3));\n",
              "      fill: #FFFFFF;\n",
              "    }\n",
              "  </style>\n",
              "\n",
              "      <script>\n",
              "        const buttonEl =\n",
              "          document.querySelector('#df-9ef442c1-daa1-468e-8c2f-8e8cd8e43584 button.colab-df-convert');\n",
              "        buttonEl.style.display =\n",
              "          google.colab.kernel.accessAllowed ? 'block' : 'none';\n",
              "\n",
              "        async function convertToInteractive(key) {\n",
              "          const element = document.querySelector('#df-9ef442c1-daa1-468e-8c2f-8e8cd8e43584');\n",
              "          const dataTable =\n",
              "            await google.colab.kernel.invokeFunction('convertToInteractive',\n",
              "                                                     [key], {});\n",
              "          if (!dataTable) return;\n",
              "\n",
              "          const docLinkHtml = 'Like what you see? Visit the ' +\n",
              "            '<a target=\"_blank\" href=https://colab.research.google.com/notebooks/data_table.ipynb>data table notebook</a>'\n",
              "            + ' to learn more about interactive tables.';\n",
              "          element.innerHTML = '';\n",
              "          dataTable['output_type'] = 'display_data';\n",
              "          await google.colab.output.renderOutput(dataTable, element);\n",
              "          const docLink = document.createElement('div');\n",
              "          docLink.innerHTML = docLinkHtml;\n",
              "          element.appendChild(docLink);\n",
              "        }\n",
              "      </script>\n",
              "    </div>\n",
              "  </div>\n",
              "  "
            ]
          },
          "metadata": {},
          "execution_count": 9
        }
      ]
    },
    {
      "cell_type": "code",
      "source": [
        "df_raw.isnull().sum()"
      ],
      "metadata": {
        "colab": {
          "base_uri": "https://localhost:8080/"
        },
        "id": "7C_t1C956ygB",
        "outputId": "0c3dc593-37cf-44ef-a076-4caee6d5cbbc"
      },
      "execution_count": 10,
      "outputs": [
        {
          "output_type": "execute_result",
          "data": {
            "text/plain": [
              "MeasDate     0\n",
              "PM10         0\n",
              "O3           0\n",
              "NO2          0\n",
              "CO           0\n",
              "SO2          0\n",
              "TEMP         0\n",
              "RAIN         0\n",
              "WIND         0\n",
              "WIND_DIR     0\n",
              "HUMIDITY     0\n",
              "ATM_PRESS    0\n",
              "SNOW         0\n",
              "CLOUD        0\n",
              "dtype: int64"
            ]
          },
          "metadata": {},
          "execution_count": 10
        }
      ]
    },
    {
      "cell_type": "code",
      "source": [
        "df_raw_x = df_raw.drop(['MeasDate', 'PM10'], axis = 1, inplace = False)\n",
        "df_raw_y = df_raw['PM10']"
      ],
      "metadata": {
        "id": "DTFnygFX7EI6"
      },
      "execution_count": 11,
      "outputs": []
    },
    {
      "cell_type": "code",
      "source": [
        "print(df_raw_x.shape)\n",
        "df_raw_x.head()"
      ],
      "metadata": {
        "colab": {
          "base_uri": "https://localhost:8080/",
          "height": 224
        },
        "id": "dBB_DBZF7N_d",
        "outputId": "6eaf8980-6879-4676-8b16-7a6a9f563b6a"
      },
      "execution_count": 12,
      "outputs": [
        {
          "output_type": "stream",
          "name": "stdout",
          "text": [
            "(366, 12)\n"
          ]
        },
        {
          "output_type": "execute_result",
          "data": {
            "text/plain": [
              "      O3    NO2   CO    SO2       TEMP  RAIN      WIND    WIND_DIR   HUMIDITY  \\\n",
              "0  0.054  0.021  0.5  0.003  24.034783   0.0  2.304348  249.130435  63.173913   \n",
              "1  0.053  0.020  0.5  0.003  24.287500   0.0  2.258333  264.583333  63.166667   \n",
              "2  0.042  0.023  0.4  0.003  24.175000   0.0  1.791667  280.000000  65.333333   \n",
              "3  0.034  0.026  0.4  0.003  25.354167   0.0  2.037500  262.500000  58.625000   \n",
              "4  0.045  0.035  0.5  0.003  27.295833   0.0  1.454167  175.416667  45.541667   \n",
              "\n",
              "    ATM_PRESS  SNOW     CLOUD  \n",
              "0  995.073913   0.0  5.695652  \n",
              "1  998.600000   0.0  3.833333  \n",
              "2  998.270833   0.0  6.291667  \n",
              "3  996.633333   0.0  2.541667  \n",
              "4  993.537500   0.0  3.916667  "
            ],
            "text/html": [
              "\n",
              "  <div id=\"df-79ff98d9-3b22-42c7-ae5c-4a9692a3f25a\">\n",
              "    <div class=\"colab-df-container\">\n",
              "      <div>\n",
              "<style scoped>\n",
              "    .dataframe tbody tr th:only-of-type {\n",
              "        vertical-align: middle;\n",
              "    }\n",
              "\n",
              "    .dataframe tbody tr th {\n",
              "        vertical-align: top;\n",
              "    }\n",
              "\n",
              "    .dataframe thead th {\n",
              "        text-align: right;\n",
              "    }\n",
              "</style>\n",
              "<table border=\"1\" class=\"dataframe\">\n",
              "  <thead>\n",
              "    <tr style=\"text-align: right;\">\n",
              "      <th></th>\n",
              "      <th>O3</th>\n",
              "      <th>NO2</th>\n",
              "      <th>CO</th>\n",
              "      <th>SO2</th>\n",
              "      <th>TEMP</th>\n",
              "      <th>RAIN</th>\n",
              "      <th>WIND</th>\n",
              "      <th>WIND_DIR</th>\n",
              "      <th>HUMIDITY</th>\n",
              "      <th>ATM_PRESS</th>\n",
              "      <th>SNOW</th>\n",
              "      <th>CLOUD</th>\n",
              "    </tr>\n",
              "  </thead>\n",
              "  <tbody>\n",
              "    <tr>\n",
              "      <th>0</th>\n",
              "      <td>0.054</td>\n",
              "      <td>0.021</td>\n",
              "      <td>0.5</td>\n",
              "      <td>0.003</td>\n",
              "      <td>24.034783</td>\n",
              "      <td>0.0</td>\n",
              "      <td>2.304348</td>\n",
              "      <td>249.130435</td>\n",
              "      <td>63.173913</td>\n",
              "      <td>995.073913</td>\n",
              "      <td>0.0</td>\n",
              "      <td>5.695652</td>\n",
              "    </tr>\n",
              "    <tr>\n",
              "      <th>1</th>\n",
              "      <td>0.053</td>\n",
              "      <td>0.020</td>\n",
              "      <td>0.5</td>\n",
              "      <td>0.003</td>\n",
              "      <td>24.287500</td>\n",
              "      <td>0.0</td>\n",
              "      <td>2.258333</td>\n",
              "      <td>264.583333</td>\n",
              "      <td>63.166667</td>\n",
              "      <td>998.600000</td>\n",
              "      <td>0.0</td>\n",
              "      <td>3.833333</td>\n",
              "    </tr>\n",
              "    <tr>\n",
              "      <th>2</th>\n",
              "      <td>0.042</td>\n",
              "      <td>0.023</td>\n",
              "      <td>0.4</td>\n",
              "      <td>0.003</td>\n",
              "      <td>24.175000</td>\n",
              "      <td>0.0</td>\n",
              "      <td>1.791667</td>\n",
              "      <td>280.000000</td>\n",
              "      <td>65.333333</td>\n",
              "      <td>998.270833</td>\n",
              "      <td>0.0</td>\n",
              "      <td>6.291667</td>\n",
              "    </tr>\n",
              "    <tr>\n",
              "      <th>3</th>\n",
              "      <td>0.034</td>\n",
              "      <td>0.026</td>\n",
              "      <td>0.4</td>\n",
              "      <td>0.003</td>\n",
              "      <td>25.354167</td>\n",
              "      <td>0.0</td>\n",
              "      <td>2.037500</td>\n",
              "      <td>262.500000</td>\n",
              "      <td>58.625000</td>\n",
              "      <td>996.633333</td>\n",
              "      <td>0.0</td>\n",
              "      <td>2.541667</td>\n",
              "    </tr>\n",
              "    <tr>\n",
              "      <th>4</th>\n",
              "      <td>0.045</td>\n",
              "      <td>0.035</td>\n",
              "      <td>0.5</td>\n",
              "      <td>0.003</td>\n",
              "      <td>27.295833</td>\n",
              "      <td>0.0</td>\n",
              "      <td>1.454167</td>\n",
              "      <td>175.416667</td>\n",
              "      <td>45.541667</td>\n",
              "      <td>993.537500</td>\n",
              "      <td>0.0</td>\n",
              "      <td>3.916667</td>\n",
              "    </tr>\n",
              "  </tbody>\n",
              "</table>\n",
              "</div>\n",
              "      <button class=\"colab-df-convert\" onclick=\"convertToInteractive('df-79ff98d9-3b22-42c7-ae5c-4a9692a3f25a')\"\n",
              "              title=\"Convert this dataframe to an interactive table.\"\n",
              "              style=\"display:none;\">\n",
              "        \n",
              "  <svg xmlns=\"http://www.w3.org/2000/svg\" height=\"24px\"viewBox=\"0 0 24 24\"\n",
              "       width=\"24px\">\n",
              "    <path d=\"M0 0h24v24H0V0z\" fill=\"none\"/>\n",
              "    <path d=\"M18.56 5.44l.94 2.06.94-2.06 2.06-.94-2.06-.94-.94-2.06-.94 2.06-2.06.94zm-11 1L8.5 8.5l.94-2.06 2.06-.94-2.06-.94L8.5 2.5l-.94 2.06-2.06.94zm10 10l.94 2.06.94-2.06 2.06-.94-2.06-.94-.94-2.06-.94 2.06-2.06.94z\"/><path d=\"M17.41 7.96l-1.37-1.37c-.4-.4-.92-.59-1.43-.59-.52 0-1.04.2-1.43.59L10.3 9.45l-7.72 7.72c-.78.78-.78 2.05 0 2.83L4 21.41c.39.39.9.59 1.41.59.51 0 1.02-.2 1.41-.59l7.78-7.78 2.81-2.81c.8-.78.8-2.07 0-2.86zM5.41 20L4 18.59l7.72-7.72 1.47 1.35L5.41 20z\"/>\n",
              "  </svg>\n",
              "      </button>\n",
              "      \n",
              "  <style>\n",
              "    .colab-df-container {\n",
              "      display:flex;\n",
              "      flex-wrap:wrap;\n",
              "      gap: 12px;\n",
              "    }\n",
              "\n",
              "    .colab-df-convert {\n",
              "      background-color: #E8F0FE;\n",
              "      border: none;\n",
              "      border-radius: 50%;\n",
              "      cursor: pointer;\n",
              "      display: none;\n",
              "      fill: #1967D2;\n",
              "      height: 32px;\n",
              "      padding: 0 0 0 0;\n",
              "      width: 32px;\n",
              "    }\n",
              "\n",
              "    .colab-df-convert:hover {\n",
              "      background-color: #E2EBFA;\n",
              "      box-shadow: 0px 1px 2px rgba(60, 64, 67, 0.3), 0px 1px 3px 1px rgba(60, 64, 67, 0.15);\n",
              "      fill: #174EA6;\n",
              "    }\n",
              "\n",
              "    [theme=dark] .colab-df-convert {\n",
              "      background-color: #3B4455;\n",
              "      fill: #D2E3FC;\n",
              "    }\n",
              "\n",
              "    [theme=dark] .colab-df-convert:hover {\n",
              "      background-color: #434B5C;\n",
              "      box-shadow: 0px 1px 3px 1px rgba(0, 0, 0, 0.15);\n",
              "      filter: drop-shadow(0px 1px 2px rgba(0, 0, 0, 0.3));\n",
              "      fill: #FFFFFF;\n",
              "    }\n",
              "  </style>\n",
              "\n",
              "      <script>\n",
              "        const buttonEl =\n",
              "          document.querySelector('#df-79ff98d9-3b22-42c7-ae5c-4a9692a3f25a button.colab-df-convert');\n",
              "        buttonEl.style.display =\n",
              "          google.colab.kernel.accessAllowed ? 'block' : 'none';\n",
              "\n",
              "        async function convertToInteractive(key) {\n",
              "          const element = document.querySelector('#df-79ff98d9-3b22-42c7-ae5c-4a9692a3f25a');\n",
              "          const dataTable =\n",
              "            await google.colab.kernel.invokeFunction('convertToInteractive',\n",
              "                                                     [key], {});\n",
              "          if (!dataTable) return;\n",
              "\n",
              "          const docLinkHtml = 'Like what you see? Visit the ' +\n",
              "            '<a target=\"_blank\" href=https://colab.research.google.com/notebooks/data_table.ipynb>data table notebook</a>'\n",
              "            + ' to learn more about interactive tables.';\n",
              "          element.innerHTML = '';\n",
              "          dataTable['output_type'] = 'display_data';\n",
              "          await google.colab.output.renderOutput(dataTable, element);\n",
              "          const docLink = document.createElement('div');\n",
              "          docLink.innerHTML = docLinkHtml;\n",
              "          element.appendChild(docLink);\n",
              "        }\n",
              "      </script>\n",
              "    </div>\n",
              "  </div>\n",
              "  "
            ]
          },
          "metadata": {},
          "execution_count": 12
        }
      ]
    },
    {
      "cell_type": "code",
      "source": [
        "print(df_raw_y.shape)\n",
        "df_raw_y.head()"
      ],
      "metadata": {
        "colab": {
          "base_uri": "https://localhost:8080/"
        },
        "id": "__U8fP2P7boQ",
        "outputId": "f4fff1ff-6526-4335-e7ec-955b6827f947"
      },
      "execution_count": 13,
      "outputs": [
        {
          "output_type": "stream",
          "name": "stdout",
          "text": [
            "(366,)\n"
          ]
        },
        {
          "output_type": "execute_result",
          "data": {
            "text/plain": [
              "0    29.0\n",
              "1    26.0\n",
              "2    30.0\n",
              "3    28.0\n",
              "4    29.0\n",
              "Name: PM10, dtype: float64"
            ]
          },
          "metadata": {},
          "execution_count": 13
        }
      ]
    },
    {
      "cell_type": "markdown",
      "source": [
        "### **변수 시각화하기**"
      ],
      "metadata": {
        "id": "n5S4qlA77BVq"
      }
    },
    {
      "cell_type": "code",
      "source": [
        "sns.boxplot(df_raw_x['CO'])"
      ],
      "metadata": {
        "id": "bQ-904NBTVPN",
        "outputId": "f29adbd5-61ff-4a54-f900-be5e1f20d558",
        "colab": {
          "base_uri": "https://localhost:8080/",
          "height": 353
        }
      },
      "execution_count": 14,
      "outputs": [
        {
          "output_type": "stream",
          "name": "stderr",
          "text": [
            "/usr/local/lib/python3.7/dist-packages/seaborn/_decorators.py:43: FutureWarning: Pass the following variable as a keyword arg: x. From version 0.12, the only valid positional argument will be `data`, and passing other arguments without an explicit keyword will result in an error or misinterpretation.\n",
            "  FutureWarning\n"
          ]
        },
        {
          "output_type": "execute_result",
          "data": {
            "text/plain": [
              "<matplotlib.axes._subplots.AxesSubplot at 0x7fa8364e57d0>"
            ]
          },
          "metadata": {},
          "execution_count": 14
        },
        {
          "output_type": "display_data",
          "data": {
            "text/plain": [
              "<Figure size 432x288 with 1 Axes>"
            ],
            "image/png": "[encoded data removed]"
          },
          "metadata": {
            "needs_background": "light"
          }
        }
      ]
    },
    {
      "cell_type": "code",
      "source": [
        "sns.boxplot(df_raw_x['SO2'])"
      ],
      "metadata": {
        "id": "LucctXoAUkx8",
        "outputId": "6a48aaca-de6e-4f44-8ebc-a0f71bcec020",
        "colab": {
          "base_uri": "https://localhost:8080/",
          "height": 353
        }
      },
      "execution_count": 15,
      "outputs": [
        {
          "output_type": "stream",
          "name": "stderr",
          "text": [
            "/usr/local/lib/python3.7/dist-packages/seaborn/_decorators.py:43: FutureWarning: Pass the following variable as a keyword arg: x. From version 0.12, the only valid positional argument will be `data`, and passing other arguments without an explicit keyword will result in an error or misinterpretation.\n",
            "  FutureWarning\n"
          ]
        },
        {
          "output_type": "execute_result",
          "data": {
            "text/plain": [
              "<matplotlib.axes._subplots.AxesSubplot at 0x7fa836528fd0>"
            ]
          },
          "metadata": {},
          "execution_count": 15
        },
        {
          "output_type": "display_data",
          "data": {
            "text/plain": [
              "<Figure size 432x288 with 1 Axes>"
            ],
            "image/png": "[encoded data removed]"
          },
          "metadata": {
            "needs_background": "light"
          }
        }
      ]
    },
    {
      "cell_type": "code",
      "source": [
        "sns.boxplot(df_raw_x['O3'])"
      ],
      "metadata": {
        "id": "ygzlCjbDUwVH",
        "outputId": "b64d659e-c149-4ea4-ffeb-4561942be6dc",
        "colab": {
          "base_uri": "https://localhost:8080/",
          "height": 353
        }
      },
      "execution_count": 16,
      "outputs": [
        {
          "output_type": "stream",
          "name": "stderr",
          "text": [
            "/usr/local/lib/python3.7/dist-packages/seaborn/_decorators.py:43: FutureWarning: Pass the following variable as a keyword arg: x. From version 0.12, the only valid positional argument will be `data`, and passing other arguments without an explicit keyword will result in an error or misinterpretation.\n",
            "  FutureWarning\n"
          ]
        },
        {
          "output_type": "execute_result",
          "data": {
            "text/plain": [
              "<matplotlib.axes._subplots.AxesSubplot at 0x7fa835f92790>"
            ]
          },
          "metadata": {},
          "execution_count": 16
        },
        {
          "output_type": "display_data",
          "data": {
            "text/plain": [
              "<Figure size 432x288 with 1 Axes>"
            ],
            "image/png": "[encoded data removed]"
          },
          "metadata": {
            "needs_background": "light"
          }
        }
      ]
    },
    {
      "cell_type": "code",
      "source": [
        "sns.boxplot(df_raw_x['NO2'])"
      ],
      "metadata": {
        "id": "5PodSwyxUuyY",
        "outputId": "db82a5fe-3efe-49b3-eef6-24f20322a876",
        "colab": {
          "base_uri": "https://localhost:8080/",
          "height": 353
        }
      },
      "execution_count": 17,
      "outputs": [
        {
          "output_type": "stream",
          "name": "stderr",
          "text": [
            "/usr/local/lib/python3.7/dist-packages/seaborn/_decorators.py:43: FutureWarning: Pass the following variable as a keyword arg: x. From version 0.12, the only valid positional argument will be `data`, and passing other arguments without an explicit keyword will result in an error or misinterpretation.\n",
            "  FutureWarning\n"
          ]
        },
        {
          "output_type": "execute_result",
          "data": {
            "text/plain": [
              "<matplotlib.axes._subplots.AxesSubplot at 0x7fa835f489d0>"
            ]
          },
          "metadata": {},
          "execution_count": 17
        },
        {
          "output_type": "display_data",
          "data": {
            "text/plain": [
              "<Figure size 432x288 with 1 Axes>"
            ],
            "image/png": "[encoded data removed]"
          },
          "metadata": {
            "needs_background": "light"
          }
        }
      ]
    },
    {
      "cell_type": "code",
      "source": [
        "sns.boxplot(df_raw_x['TEMP'])"
      ],
      "metadata": {
        "id": "1Du1S4PjU8s0",
        "outputId": "76ab1603-68d3-4501-b03a-5b8602982f5c",
        "colab": {
          "base_uri": "https://localhost:8080/",
          "height": 353
        }
      },
      "execution_count": 18,
      "outputs": [
        {
          "output_type": "stream",
          "name": "stderr",
          "text": [
            "/usr/local/lib/python3.7/dist-packages/seaborn/_decorators.py:43: FutureWarning: Pass the following variable as a keyword arg: x. From version 0.12, the only valid positional argument will be `data`, and passing other arguments without an explicit keyword will result in an error or misinterpretation.\n",
            "  FutureWarning\n"
          ]
        },
        {
          "output_type": "execute_result",
          "data": {
            "text/plain": [
              "<matplotlib.axes._subplots.AxesSubplot at 0x7fa835eff690>"
            ]
          },
          "metadata": {},
          "execution_count": 18
        },
        {
          "output_type": "display_data",
          "data": {
            "text/plain": [
              "<Figure size 432x288 with 1 Axes>"
            ],
            "image/png": "[encoded data removed]"
          },
          "metadata": {
            "needs_background": "light"
          }
        }
      ]
    },
    {
      "cell_type": "code",
      "source": [
        "sns.boxplot(df_raw_x['CLOUD'])"
      ],
      "metadata": {
        "id": "UYA_8QMdU9n2",
        "outputId": "d1ed4623-6126-47a1-d3d6-5176808db876",
        "colab": {
          "base_uri": "https://localhost:8080/",
          "height": 353
        }
      },
      "execution_count": 19,
      "outputs": [
        {
          "output_type": "stream",
          "name": "stderr",
          "text": [
            "/usr/local/lib/python3.7/dist-packages/seaborn/_decorators.py:43: FutureWarning: Pass the following variable as a keyword arg: x. From version 0.12, the only valid positional argument will be `data`, and passing other arguments without an explicit keyword will result in an error or misinterpretation.\n",
            "  FutureWarning\n"
          ]
        },
        {
          "output_type": "execute_result",
          "data": {
            "text/plain": [
              "<matplotlib.axes._subplots.AxesSubplot at 0x7fa835e97fd0>"
            ]
          },
          "metadata": {},
          "execution_count": 19
        },
        {
          "output_type": "display_data",
          "data": {
            "text/plain": [
              "<Figure size 432x288 with 1 Axes>"
            ],
            "image/png": "[encoded data removed]"
          },
          "metadata": {
            "needs_background": "light"
          }
        }
      ]
    },
    {
      "cell_type": "markdown",
      "source": [
        "- CO, SO2, O3, NO2에서 이상치가 각각 2개, 3개, 2개, 1개 발견된다.\n",
        "- TEMP와 CLOUD의 데이터는 이상치 없이 모두 사분위수 범위 내에 분포하고 있다."
      ],
      "metadata": {
        "id": "kMz-MMTHVKke"
      }
    },
    {
      "cell_type": "code",
      "source": [
        "q1, q3 = np.percentile(df_raw_x['O3'], [25, 75])\n",
        "IQR = q3 - q1\n",
        "lower = q1 - 1.5 * IQR\n",
        "upper = q3 + 1.5 * IQR"
      ],
      "metadata": {
        "id": "-_HuFO05bN2i"
      },
      "execution_count": 20,
      "outputs": []
    },
    {
      "cell_type": "code",
      "source": [
        "for cols in df_raw_x.columns :\n",
        "\n",
        "    outlier_idx = pd.DataFrame()\n",
        "\n",
        "    outlier = pd.DataFrame(df_raw_x.loc[(df_raw_x[cols] < lower) | (df_raw_x[cols] > upper), cols])\n",
        "    result = pd.concat([outlier_idx, outlier], axis = 0)\n",
        "\n",
        "result"
      ],
      "metadata": {
        "id": "0J9jcB2gbjIa",
        "outputId": "a135a4f6-547e-4774-8af1-9f128b0d5e75",
        "colab": {
          "base_uri": "https://localhost:8080/",
          "height": 424
        }
      },
      "execution_count": 21,
      "outputs": [
        {
          "output_type": "execute_result",
          "data": {
            "text/plain": [
              "         CLOUD\n",
              "0     5.695652\n",
              "1     3.833333\n",
              "2     6.291667\n",
              "3     2.541667\n",
              "4     3.916667\n",
              "..         ...\n",
              "361   8.727273\n",
              "362   6.208333\n",
              "363   2.625000\n",
              "364   7.583333\n",
              "365  10.000000\n",
              "\n",
              "[346 rows x 1 columns]"
            ],
            "text/html": [
              "\n",
              "  <div id=\"df-559cd438-18d9-4e00-a90f-748427445723\">\n",
              "    <div class=\"colab-df-container\">\n",
              "      <div>\n",
              "<style scoped>\n",
              "    .dataframe tbody tr th:only-of-type {\n",
              "        vertical-align: middle;\n",
              "    }\n",
              "\n",
              "    .dataframe tbody tr th {\n",
              "        vertical-align: top;\n",
              "    }\n",
              "\n",
              "    .dataframe thead th {\n",
              "        text-align: right;\n",
              "    }\n",
              "</style>\n",
              "<table border=\"1\" class=\"dataframe\">\n",
              "  <thead>\n",
              "    <tr style=\"text-align: right;\">\n",
              "      <th></th>\n",
              "      <th>CLOUD</th>\n",
              "    </tr>\n",
              "  </thead>\n",
              "  <tbody>\n",
              "    <tr>\n",
              "      <th>0</th>\n",
              "      <td>5.695652</td>\n",
              "    </tr>\n",
              "    <tr>\n",
              "      <th>1</th>\n",
              "      <td>3.833333</td>\n",
              "    </tr>\n",
              "    <tr>\n",
              "      <th>2</th>\n",
              "      <td>6.291667</td>\n",
              "    </tr>\n",
              "    <tr>\n",
              "      <th>3</th>\n",
              "      <td>2.541667</td>\n",
              "    </tr>\n",
              "    <tr>\n",
              "      <th>4</th>\n",
              "      <td>3.916667</td>\n",
              "    </tr>\n",
              "    <tr>\n",
              "      <th>...</th>\n",
              "      <td>...</td>\n",
              "    </tr>\n",
              "    <tr>\n",
              "      <th>361</th>\n",
              "      <td>8.727273</td>\n",
              "    </tr>\n",
              "    <tr>\n",
              "      <th>362</th>\n",
              "      <td>6.208333</td>\n",
              "    </tr>\n",
              "    <tr>\n",
              "      <th>363</th>\n",
              "      <td>2.625000</td>\n",
              "    </tr>\n",
              "    <tr>\n",
              "      <th>364</th>\n",
              "      <td>7.583333</td>\n",
              "    </tr>\n",
              "    <tr>\n",
              "      <th>365</th>\n",
              "      <td>10.000000</td>\n",
              "    </tr>\n",
              "  </tbody>\n",
              "</table>\n",
              "<p>346 rows × 1 columns</p>\n",
              "</div>\n",
              "      <button class=\"colab-df-convert\" onclick=\"convertToInteractive('df-559cd438-18d9-4e00-a90f-748427445723')\"\n",
              "              title=\"Convert this dataframe to an interactive table.\"\n",
              "              style=\"display:none;\">\n",
              "        \n",
              "  <svg xmlns=\"http://www.w3.org/2000/svg\" height=\"24px\"viewBox=\"0 0 24 24\"\n",
              "       width=\"24px\">\n",
              "    <path d=\"M0 0h24v24H0V0z\" fill=\"none\"/>\n",
              "    <path d=\"M18.56 5.44l.94 2.06.94-2.06 2.06-.94-2.06-.94-.94-2.06-.94 2.06-2.06.94zm-11 1L8.5 8.5l.94-2.06 2.06-.94-2.06-.94L8.5 2.5l-.94 2.06-2.06.94zm10 10l.94 2.06.94-2.06 2.06-.94-2.06-.94-.94-2.06-.94 2.06-2.06.94z\"/><path d=\"M17.41 7.96l-1.37-1.37c-.4-.4-.92-.59-1.43-.59-.52 0-1.04.2-1.43.59L10.3 9.45l-7.72 7.72c-.78.78-.78 2.05 0 2.83L4 21.41c.39.39.9.59 1.41.59.51 0 1.02-.2 1.41-.59l7.78-7.78 2.81-2.81c.8-.78.8-2.07 0-2.86zM5.41 20L4 18.59l7.72-7.72 1.47 1.35L5.41 20z\"/>\n",
              "  </svg>\n",
              "      </button>\n",
              "      \n",
              "  <style>\n",
              "    .colab-df-container {\n",
              "      display:flex;\n",
              "      flex-wrap:wrap;\n",
              "      gap: 12px;\n",
              "    }\n",
              "\n",
              "    .colab-df-convert {\n",
              "      background-color: #E8F0FE;\n",
              "      border: none;\n",
              "      border-radius: 50%;\n",
              "      cursor: pointer;\n",
              "      display: none;\n",
              "      fill: #1967D2;\n",
              "      height: 32px;\n",
              "      padding: 0 0 0 0;\n",
              "      width: 32px;\n",
              "    }\n",
              "\n",
              "    .colab-df-convert:hover {\n",
              "      background-color: #E2EBFA;\n",
              "      box-shadow: 0px 1px 2px rgba(60, 64, 67, 0.3), 0px 1px 3px 1px rgba(60, 64, 67, 0.15);\n",
              "      fill: #174EA6;\n",
              "    }\n",
              "\n",
              "    [theme=dark] .colab-df-convert {\n",
              "      background-color: #3B4455;\n",
              "      fill: #D2E3FC;\n",
              "    }\n",
              "\n",
              "    [theme=dark] .colab-df-convert:hover {\n",
              "      background-color: #434B5C;\n",
              "      box-shadow: 0px 1px 3px 1px rgba(0, 0, 0, 0.15);\n",
              "      filter: drop-shadow(0px 1px 2px rgba(0, 0, 0, 0.3));\n",
              "      fill: #FFFFFF;\n",
              "    }\n",
              "  </style>\n",
              "\n",
              "      <script>\n",
              "        const buttonEl =\n",
              "          document.querySelector('#df-559cd438-18d9-4e00-a90f-748427445723 button.colab-df-convert');\n",
              "        buttonEl.style.display =\n",
              "          google.colab.kernel.accessAllowed ? 'block' : 'none';\n",
              "\n",
              "        async function convertToInteractive(key) {\n",
              "          const element = document.querySelector('#df-559cd438-18d9-4e00-a90f-748427445723');\n",
              "          const dataTable =\n",
              "            await google.colab.kernel.invokeFunction('convertToInteractive',\n",
              "                                                     [key], {});\n",
              "          if (!dataTable) return;\n",
              "\n",
              "          const docLinkHtml = 'Like what you see? Visit the ' +\n",
              "            '<a target=\"_blank\" href=https://colab.research.google.com/notebooks/data_table.ipynb>data table notebook</a>'\n",
              "            + ' to learn more about interactive tables.';\n",
              "          element.innerHTML = '';\n",
              "          dataTable['output_type'] = 'display_data';\n",
              "          await google.colab.output.renderOutput(dataTable, element);\n",
              "          const docLink = document.createElement('div');\n",
              "          docLink.innerHTML = docLinkHtml;\n",
              "          element.appendChild(docLink);\n",
              "        }\n",
              "      </script>\n",
              "    </div>\n",
              "  </div>\n",
              "  "
            ]
          },
          "metadata": {},
          "execution_count": 21
        }
      ]
    },
    {
      "cell_type": "markdown",
      "source": [
        "**CO, SO2, O3, NO2의 분포 확인하기**"
      ],
      "metadata": {
        "id": "rJXp4zol-cWu"
      }
    },
    {
      "cell_type": "code",
      "source": [
        "fig, axes = plt.subplots(2, 2, figsize = (15,10))\n",
        "\n",
        "axes[0,0].hist(df_raw_x['CO'], label = 'CO', alpha = 0.7)\n",
        "axes[0,0].set_xlabel('CO')\n",
        "axes[0,0].set_ylabel('count')\n",
        "\n",
        "axes[0,1].hist(df_raw_x['SO2'], label = 'SO2', alpha = 0.7)\n",
        "axes[0,1].set_xlabel('SO2')\n",
        "axes[0,1].set_ylabel('count')\n",
        "\n",
        "axes[1,0].hist(df_raw_x['O3'], label = 'O3', alpha = 0.7)\n",
        "axes[1,0].set_xlabel('O3')\n",
        "axes[1,0].set_ylabel('count')\n",
        "\n",
        "axes[1,1].hist(df_raw_x['NO2'], label = 'NO2', alpha = 0.7)\n",
        "axes[1,1].set_xlabel('NO2')\n",
        "axes[1,1].set_ylabel('count')"
      ],
      "metadata": {
        "colab": {
          "base_uri": "https://localhost:8080/",
          "height": 624
        },
        "id": "i7zK8utZ8RPc",
        "outputId": "385f0a17-05ed-4760-8aab-f59a7f632165"
      },
      "execution_count": 25,
      "outputs": [
        {
          "output_type": "execute_result",
          "data": {
            "text/plain": [
              "Text(0, 0.5, 'count')"
            ]
          },
          "metadata": {},
          "execution_count": 25
        },
        {
          "output_type": "display_data",
          "data": {
            "text/plain": [
              "<Figure size 1080x720 with 4 Axes>"
            ],
            "image/png": "[encoded data removed]"
          },
          "metadata": {
            "needs_background": "light"
          }
        }
      ]
    },
    {
      "cell_type": "markdown",
      "source": [
        "- "
      ],
      "metadata": {
        "id": "5_EZZY7TdO0K"
      }
    },
    {
      "cell_type": "code",
      "source": [
        ""
      ],
      "metadata": {
        "id": "oWMaiFt98wUb"
      },
      "execution_count": null,
      "outputs": []
    }
  ]
}