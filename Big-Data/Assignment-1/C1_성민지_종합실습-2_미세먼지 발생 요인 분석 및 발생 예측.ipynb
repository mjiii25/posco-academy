{
  "nbformat": 4,
  "nbformat_minor": 0,
  "metadata": {
    "colab": {
      "name": "Untitled36.ipynb",
      "provenance": [],
      "include_colab_link": true
    },
    "kernelspec": {
      "name": "python3",
      "display_name": "Python 3"
    },
    "language_info": {
      "name": "python"
    }
  },
  "cells": [
    {
      "cell_type": "markdown",
      "metadata": {
        "id": "view-in-github",
        "colab_type": "text"
      },
      "source": [
        "<a href=\"https://colab.research.google.com/github/mjiii25/posco-academy/blob/main/Big-Data/Assignment-1/C1_%EC%84%B1%EB%AF%BC%EC%A7%80_%EC%A2%85%ED%95%A9%EC%8B%A4%EC%8A%B5-2_%EB%AF%B8%EC%84%B8%EB%A8%BC%EC%A7%80%20%EB%B0%9C%EC%83%9D%20%EC%9A%94%EC%9D%B8%20%EB%B6%84%EC%84%9D%20%EB%B0%8F%20%EB%B0%9C%EC%83%9D%20%EC%98%88%EC%B8%A1.ipynb\" target=\"_parent\"><img src=\"https://colab.research.google.com/assets/colab-badge.svg\" alt=\"Open In Colab\"/></a>"
      ]
    },
    {
      "cell_type": "markdown",
      "source": [
        "# **C1_성민지_종합실습-2_미세먼지 발생 요인 분석 및 발생 예측**"
      ],
      "metadata": {
        "id": "Q-Iot3Vsf8fK"
      }
    },
    {
      "cell_type": "code",
      "execution_count": null,
      "metadata": {
        "colab": {
          "base_uri": "https://localhost:8080/"
        },
        "id": "gkg2W7tD3rlc",
        "outputId": "9e109963-a693-4fe8-ce15-05ca27bbe5e5"
      },
      "outputs": [
        {
          "output_type": "stream",
          "name": "stdout",
          "text": [
            "Mounted at /content/mydrive\n"
          ]
        }
      ],
      "source": [
        "from google.colab import drive\n",
        "drive.mount('/content/mydrive')"
      ]
    },
    {
      "cell_type": "code",
      "source": [
        "import pandas as pd\n",
        "import numpy as np\n",
        "\n",
        "import matplotlib\n",
        "import matplotlib.pyplot as plt\n",
        "import seaborn as sns\n",
        "\n",
        "from sklearn.preprocessing import StandardScaler\n",
        "from sklearn.model_selection import train_test_split\n",
        "\n",
        "from sklearn.tree import DecisionTreeRegressor\n",
        "from sklearn.ensemble import RandomForestRegressor, GradientBoostingRegressor\n",
        "from sklearn.linear_model import LinearRegression, ElasticNet\n",
        "from sklearn.feature_selection import RFE\n",
        "\n",
        "from statsmodels.formula.api import ols\n",
        "from statsmodels.api import qqplot, add_constant\n",
        "import statsmodels.formula.api as smf\n",
        "from statsmodels.stats.outliers_influence import variance_inflation_factor\n",
        "\n",
        "from statsmodels.tools.eval_measures import rmse\n",
        "from sklearn.metrics import r2_score\n",
        "\n",
        "from sklearn.tree import DecisionTreeRegressor, export_graphviz\n",
        "import graphviz"
      ],
      "metadata": {
        "id": "0CAGcQ3W30nj"
      },
      "execution_count": null,
      "outputs": []
    },
    {
      "cell_type": "markdown",
      "source": [
        "### **데이터 구성하기**"
      ],
      "metadata": {
        "id": "uSfnRmU14JtK"
      }
    },
    {
      "cell_type": "code",
      "source": [
        "df_raw = pd.read_excel('/content/mydrive/MyDrive/1. 실습데이터 설명(Data Dictionary).xlsx',\n",
        "                       sheet_name = 'AIR_POLLUTION')\n",
        "\n",
        "print(df_raw.shape)\n",
        "df_raw.head(10)"
      ],
      "metadata": {
        "colab": {
          "base_uri": "https://localhost:8080/",
          "height": 381
        },
        "id": "VTHqfhsf4I7H",
        "outputId": "086b4cd5-e9ee-491d-b9cd-a9b080e2d62b"
      },
      "execution_count": null,
      "outputs": [
        {
          "output_type": "stream",
          "name": "stdout",
          "text": [
            "(366, 15)\n"
          ]
        },
        {
          "output_type": "execute_result",
          "data": {
            "text/plain": [
              "    MeasDate  PM10  PM25     O3    NO2   CO    SO2       TEMP  RAIN      WIND  \\\n",
              "0 2019-07-01  29.0  20.0  0.054  0.021  0.5  0.003  24.034783  0.00  2.304348   \n",
              "1 2019-07-02  26.0  19.0  0.053  0.020  0.5  0.003  24.287500  0.00  2.258333   \n",
              "2 2019-07-03  30.0  20.0  0.042  0.023  0.4  0.003  24.175000  0.00  1.791667   \n",
              "3 2019-07-04  28.0  17.0  0.034  0.026  0.4  0.003  25.354167  0.00  2.037500   \n",
              "4 2019-07-05  29.0  19.0  0.045  0.035  0.5  0.003  27.295833  0.00  1.454167   \n",
              "5 2019-07-06  29.0  21.0  0.043  0.032  0.5  0.003  29.866667  0.00  1.541667   \n",
              "6 2019-07-07  16.0  12.0  0.043  0.014  0.3  0.002  26.858333  0.00  2.266667   \n",
              "7 2019-07-08  10.0   6.0  0.035  0.019  0.3  0.002  25.125000  0.00  1.962500   \n",
              "8 2019-07-09  10.0   6.0  0.033  0.019  0.4  0.002  25.112500  0.00  1.837500   \n",
              "9 2019-07-10   9.0   6.0  0.027  0.019  0.3  0.002  22.787500  0.82  2.125000   \n",
              "\n",
              "     WIND_DIR   HUMIDITY   ATM_PRESS  SNOW     CLOUD  \n",
              "0  249.130435  63.173913  995.073913   0.0  5.695652  \n",
              "1  264.583333  63.166667  998.600000   0.0  3.833333  \n",
              "2  280.000000  65.333333  998.270833   0.0  6.291667  \n",
              "3  262.500000  58.625000  996.633333   0.0  2.541667  \n",
              "4  175.416667  45.541667  993.537500   0.0  3.916667  \n",
              "5   80.000000  39.708333  993.691667   0.0  3.500000  \n",
              "6   82.916667  43.541667  997.450000   0.0  6.583333  \n",
              "7   75.833333  45.333333  997.941667   0.0  6.583333  \n",
              "8   81.250000  46.250000  996.712500   0.0  4.416667  \n",
              "9   80.000000  61.000000  997.329167   0.0  8.291667  "
            ],
            "text/html": [
              "\n",
              "  <div id=\"df-ff472d8b-5f2f-4df2-beb9-5797304e027d\">\n",
              "    <div class=\"colab-df-container\">\n",
              "      <div>\n",
              "<style scoped>\n",
              "    .dataframe tbody tr th:only-of-type {\n",
              "        vertical-align: middle;\n",
              "    }\n",
              "\n",
              "    .dataframe tbody tr th {\n",
              "        vertical-align: top;\n",
              "    }\n",
              "\n",
              "    .dataframe thead th {\n",
              "        text-align: right;\n",
              "    }\n",
              "</style>\n",
              "<table border=\"1\" class=\"dataframe\">\n",
              "  <thead>\n",
              "    <tr style=\"text-align: right;\">\n",
              "      <th></th>\n",
              "      <th>MeasDate</th>\n",
              "      <th>PM10</th>\n",
              "      <th>PM25</th>\n",
              "      <th>O3</th>\n",
              "      <th>NO2</th>\n",
              "      <th>CO</th>\n",
              "      <th>SO2</th>\n",
              "      <th>TEMP</th>\n",
              "      <th>RAIN</th>\n",
              "      <th>WIND</th>\n",
              "      <th>WIND_DIR</th>\n",
              "      <th>HUMIDITY</th>\n",
              "      <th>ATM_PRESS</th>\n",
              "      <th>SNOW</th>\n",
              "      <th>CLOUD</th>\n",
              "    </tr>\n",
              "  </thead>\n",
              "  <tbody>\n",
              "    <tr>\n",
              "      <th>0</th>\n",
              "      <td>2019-07-01</td>\n",
              "      <td>29.0</td>\n",
              "      <td>20.0</td>\n",
              "      <td>0.054</td>\n",
              "      <td>0.021</td>\n",
              "      <td>0.5</td>\n",
              "      <td>0.003</td>\n",
              "      <td>24.034783</td>\n",
              "      <td>0.00</td>\n",
              "      <td>2.304348</td>\n",
              "      <td>249.130435</td>\n",
              "      <td>63.173913</td>\n",
              "      <td>995.073913</td>\n",
              "      <td>0.0</td>\n",
              "      <td>5.695652</td>\n",
              "    </tr>\n",
              "    <tr>\n",
              "      <th>1</th>\n",
              "      <td>2019-07-02</td>\n",
              "      <td>26.0</td>\n",
              "      <td>19.0</td>\n",
              "      <td>0.053</td>\n",
              "      <td>0.020</td>\n",
              "      <td>0.5</td>\n",
              "      <td>0.003</td>\n",
              "      <td>24.287500</td>\n",
              "      <td>0.00</td>\n",
              "      <td>2.258333</td>\n",
              "      <td>264.583333</td>\n",
              "      <td>63.166667</td>\n",
              "      <td>998.600000</td>\n",
              "      <td>0.0</td>\n",
              "      <td>3.833333</td>\n",
              "    </tr>\n",
              "    <tr>\n",
              "      <th>2</th>\n",
              "      <td>2019-07-03</td>\n",
              "      <td>30.0</td>\n",
              "      <td>20.0</td>\n",
              "      <td>0.042</td>\n",
              "      <td>0.023</td>\n",
              "      <td>0.4</td>\n",
              "      <td>0.003</td>\n",
              "      <td>24.175000</td>\n",
              "      <td>0.00</td>\n",
              "      <td>1.791667</td>\n",
              "      <td>280.000000</td>\n",
              "      <td>65.333333</td>\n",
              "      <td>998.270833</td>\n",
              "      <td>0.0</td>\n",
              "      <td>6.291667</td>\n",
              "    </tr>\n",
              "    <tr>\n",
              "      <th>3</th>\n",
              "      <td>2019-07-04</td>\n",
              "      <td>28.0</td>\n",
              "      <td>17.0</td>\n",
              "      <td>0.034</td>\n",
              "      <td>0.026</td>\n",
              "      <td>0.4</td>\n",
              "      <td>0.003</td>\n",
              "      <td>25.354167</td>\n",
              "      <td>0.00</td>\n",
              "      <td>2.037500</td>\n",
              "      <td>262.500000</td>\n",
              "      <td>58.625000</td>\n",
              "      <td>996.633333</td>\n",
              "      <td>0.0</td>\n",
              "      <td>2.541667</td>\n",
              "    </tr>\n",
              "    <tr>\n",
              "      <th>4</th>\n",
              "      <td>2019-07-05</td>\n",
              "      <td>29.0</td>\n",
              "      <td>19.0</td>\n",
              "      <td>0.045</td>\n",
              "      <td>0.035</td>\n",
              "      <td>0.5</td>\n",
              "      <td>0.003</td>\n",
              "      <td>27.295833</td>\n",
              "      <td>0.00</td>\n",
              "      <td>1.454167</td>\n",
              "      <td>175.416667</td>\n",
              "      <td>45.541667</td>\n",
              "      <td>993.537500</td>\n",
              "      <td>0.0</td>\n",
              "      <td>3.916667</td>\n",
              "    </tr>\n",
              "    <tr>\n",
              "      <th>5</th>\n",
              "      <td>2019-07-06</td>\n",
              "      <td>29.0</td>\n",
              "      <td>21.0</td>\n",
              "      <td>0.043</td>\n",
              "      <td>0.032</td>\n",
              "      <td>0.5</td>\n",
              "      <td>0.003</td>\n",
              "      <td>29.866667</td>\n",
              "      <td>0.00</td>\n",
              "      <td>1.541667</td>\n",
              "      <td>80.000000</td>\n",
              "      <td>39.708333</td>\n",
              "      <td>993.691667</td>\n",
              "      <td>0.0</td>\n",
              "      <td>3.500000</td>\n",
              "    </tr>\n",
              "    <tr>\n",
              "      <th>6</th>\n",
              "      <td>2019-07-07</td>\n",
              "      <td>16.0</td>\n",
              "      <td>12.0</td>\n",
              "      <td>0.043</td>\n",
              "      <td>0.014</td>\n",
              "      <td>0.3</td>\n",
              "      <td>0.002</td>\n",
              "      <td>26.858333</td>\n",
              "      <td>0.00</td>\n",
              "      <td>2.266667</td>\n",
              "      <td>82.916667</td>\n",
              "      <td>43.541667</td>\n",
              "      <td>997.450000</td>\n",
              "      <td>0.0</td>\n",
              "      <td>6.583333</td>\n",
              "    </tr>\n",
              "    <tr>\n",
              "      <th>7</th>\n",
              "      <td>2019-07-08</td>\n",
              "      <td>10.0</td>\n",
              "      <td>6.0</td>\n",
              "      <td>0.035</td>\n",
              "      <td>0.019</td>\n",
              "      <td>0.3</td>\n",
              "      <td>0.002</td>\n",
              "      <td>25.125000</td>\n",
              "      <td>0.00</td>\n",
              "      <td>1.962500</td>\n",
              "      <td>75.833333</td>\n",
              "      <td>45.333333</td>\n",
              "      <td>997.941667</td>\n",
              "      <td>0.0</td>\n",
              "      <td>6.583333</td>\n",
              "    </tr>\n",
              "    <tr>\n",
              "      <th>8</th>\n",
              "      <td>2019-07-09</td>\n",
              "      <td>10.0</td>\n",
              "      <td>6.0</td>\n",
              "      <td>0.033</td>\n",
              "      <td>0.019</td>\n",
              "      <td>0.4</td>\n",
              "      <td>0.002</td>\n",
              "      <td>25.112500</td>\n",
              "      <td>0.00</td>\n",
              "      <td>1.837500</td>\n",
              "      <td>81.250000</td>\n",
              "      <td>46.250000</td>\n",
              "      <td>996.712500</td>\n",
              "      <td>0.0</td>\n",
              "      <td>4.416667</td>\n",
              "    </tr>\n",
              "    <tr>\n",
              "      <th>9</th>\n",
              "      <td>2019-07-10</td>\n",
              "      <td>9.0</td>\n",
              "      <td>6.0</td>\n",
              "      <td>0.027</td>\n",
              "      <td>0.019</td>\n",
              "      <td>0.3</td>\n",
              "      <td>0.002</td>\n",
              "      <td>22.787500</td>\n",
              "      <td>0.82</td>\n",
              "      <td>2.125000</td>\n",
              "      <td>80.000000</td>\n",
              "      <td>61.000000</td>\n",
              "      <td>997.329167</td>\n",
              "      <td>0.0</td>\n",
              "      <td>8.291667</td>\n",
              "    </tr>\n",
              "  </tbody>\n",
              "</table>\n",
              "</div>\n",
              "      <button class=\"colab-df-convert\" onclick=\"convertToInteractive('df-ff472d8b-5f2f-4df2-beb9-5797304e027d')\"\n",
              "              title=\"Convert this dataframe to an interactive table.\"\n",
              "              style=\"display:none;\">\n",
              "        \n",
              "  <svg xmlns=\"http://www.w3.org/2000/svg\" height=\"24px\"viewBox=\"0 0 24 24\"\n",
              "       width=\"24px\">\n",
              "    <path d=\"M0 0h24v24H0V0z\" fill=\"none\"/>\n",
              "    <path d=\"M18.56 5.44l.94 2.06.94-2.06 2.06-.94-2.06-.94-.94-2.06-.94 2.06-2.06.94zm-11 1L8.5 8.5l.94-2.06 2.06-.94-2.06-.94L8.5 2.5l-.94 2.06-2.06.94zm10 10l.94 2.06.94-2.06 2.06-.94-2.06-.94-.94-2.06-.94 2.06-2.06.94z\"/><path d=\"M17.41 7.96l-1.37-1.37c-.4-.4-.92-.59-1.43-.59-.52 0-1.04.2-1.43.59L10.3 9.45l-7.72 7.72c-.78.78-.78 2.05 0 2.83L4 21.41c.39.39.9.59 1.41.59.51 0 1.02-.2 1.41-.59l7.78-7.78 2.81-2.81c.8-.78.8-2.07 0-2.86zM5.41 20L4 18.59l7.72-7.72 1.47 1.35L5.41 20z\"/>\n",
              "  </svg>\n",
              "      </button>\n",
              "      \n",
              "  <style>\n",
              "    .colab-df-container {\n",
              "      display:flex;\n",
              "      flex-wrap:wrap;\n",
              "      gap: 12px;\n",
              "    }\n",
              "\n",
              "    .colab-df-convert {\n",
              "      background-color: #E8F0FE;\n",
              "      border: none;\n",
              "      border-radius: 50%;\n",
              "      cursor: pointer;\n",
              "      display: none;\n",
              "      fill: #1967D2;\n",
              "      height: 32px;\n",
              "      padding: 0 0 0 0;\n",
              "      width: 32px;\n",
              "    }\n",
              "\n",
              "    .colab-df-convert:hover {\n",
              "      background-color: #E2EBFA;\n",
              "      box-shadow: 0px 1px 2px rgba(60, 64, 67, 0.3), 0px 1px 3px 1px rgba(60, 64, 67, 0.15);\n",
              "      fill: #174EA6;\n",
              "    }\n",
              "\n",
              "    [theme=dark] .colab-df-convert {\n",
              "      background-color: #3B4455;\n",
              "      fill: #D2E3FC;\n",
              "    }\n",
              "\n",
              "    [theme=dark] .colab-df-convert:hover {\n",
              "      background-color: #434B5C;\n",
              "      box-shadow: 0px 1px 3px 1px rgba(0, 0, 0, 0.15);\n",
              "      filter: drop-shadow(0px 1px 2px rgba(0, 0, 0, 0.3));\n",
              "      fill: #FFFFFF;\n",
              "    }\n",
              "  </style>\n",
              "\n",
              "      <script>\n",
              "        const buttonEl =\n",
              "          document.querySelector('#df-ff472d8b-5f2f-4df2-beb9-5797304e027d button.colab-df-convert');\n",
              "        buttonEl.style.display =\n",
              "          google.colab.kernel.accessAllowed ? 'block' : 'none';\n",
              "\n",
              "        async function convertToInteractive(key) {\n",
              "          const element = document.querySelector('#df-ff472d8b-5f2f-4df2-beb9-5797304e027d');\n",
              "          const dataTable =\n",
              "            await google.colab.kernel.invokeFunction('convertToInteractive',\n",
              "                                                     [key], {});\n",
              "          if (!dataTable) return;\n",
              "\n",
              "          const docLinkHtml = 'Like what you see? Visit the ' +\n",
              "            '<a target=\"_blank\" href=https://colab.research.google.com/notebooks/data_table.ipynb>data table notebook</a>'\n",
              "            + ' to learn more about interactive tables.';\n",
              "          element.innerHTML = '';\n",
              "          dataTable['output_type'] = 'display_data';\n",
              "          await google.colab.output.renderOutput(dataTable, element);\n",
              "          const docLink = document.createElement('div');\n",
              "          docLink.innerHTML = docLinkHtml;\n",
              "          element.appendChild(docLink);\n",
              "        }\n",
              "      </script>\n",
              "    </div>\n",
              "  </div>\n",
              "  "
            ]
          },
          "metadata": {},
          "execution_count": 4
        }
      ]
    },
    {
      "cell_type": "code",
      "source": [
        "df_raw.drop('PM25', axis = 1, inplace = True)"
      ],
      "metadata": {
        "id": "iHNCi2_q5e39"
      },
      "execution_count": null,
      "outputs": []
    },
    {
      "cell_type": "code",
      "source": [
        "df_raw.info()"
      ],
      "metadata": {
        "colab": {
          "base_uri": "https://localhost:8080/"
        },
        "id": "0-NDjLWG4y3n",
        "outputId": "68e01147-0dd7-4452-e049-2db0d089f8a9"
      },
      "execution_count": null,
      "outputs": [
        {
          "output_type": "stream",
          "name": "stdout",
          "text": [
            "<class 'pandas.core.frame.DataFrame'>\n",
            "RangeIndex: 366 entries, 0 to 365\n",
            "Data columns (total 14 columns):\n",
            " #   Column     Non-Null Count  Dtype         \n",
            "---  ------     --------------  -----         \n",
            " 0   MeasDate   366 non-null    datetime64[ns]\n",
            " 1   PM10       365 non-null    float64       \n",
            " 2   O3         365 non-null    float64       \n",
            " 3   NO2        365 non-null    float64       \n",
            " 4   CO         311 non-null    float64       \n",
            " 5   SO2        365 non-null    float64       \n",
            " 6   TEMP       366 non-null    float64       \n",
            " 7   RAIN       366 non-null    float64       \n",
            " 8   WIND       366 non-null    float64       \n",
            " 9   WIND_DIR   366 non-null    float64       \n",
            " 10  HUMIDITY   366 non-null    float64       \n",
            " 11  ATM_PRESS  366 non-null    float64       \n",
            " 12  SNOW       366 non-null    float64       \n",
            " 13  CLOUD      366 non-null    float64       \n",
            "dtypes: datetime64[ns](1), float64(13)\n",
            "memory usage: 40.2 KB\n"
          ]
        }
      ]
    },
    {
      "cell_type": "code",
      "source": [
        "df_raw.describe().round(3)"
      ],
      "metadata": {
        "colab": {
          "base_uri": "https://localhost:8080/",
          "height": 300
        },
        "id": "UL63ateb5xUE",
        "outputId": "280b3f0c-487d-494e-cc0c-a1351ac94250"
      },
      "execution_count": null,
      "outputs": [
        {
          "output_type": "execute_result",
          "data": {
            "text/plain": [
              "          PM10       O3      NO2       CO      SO2     TEMP     RAIN     WIND  \\\n",
              "count  365.000  365.000  365.000  311.000  365.000  366.000  366.000  366.000   \n",
              "mean    33.422    0.024    0.027    0.517    0.003   13.863    0.382    2.225   \n",
              "std     15.938    0.012    0.010    0.153    0.001    9.830    1.122    0.723   \n",
              "min      5.000    0.002    0.008    0.300    0.002   -7.954    0.000    0.942   \n",
              "25%     22.000    0.014    0.019    0.400    0.003    5.493    0.000    1.722   \n",
              "50%     31.000    0.023    0.025    0.500    0.003   13.996    0.000    2.094   \n",
              "75%     42.000    0.032    0.034    0.600    0.003   23.073    0.115    2.620   \n",
              "max    101.000    0.062    0.059    1.000    0.005   31.721   11.800    5.883   \n",
              "\n",
              "       WIND_DIR  HUMIDITY  ATM_PRESS     SNOW    CLOUD  \n",
              "count   366.000   366.000    366.000  366.000  366.000  \n",
              "mean    209.420    60.292   1005.846    0.023    5.063  \n",
              "std      70.753    14.533      8.125    0.222    2.986  \n",
              "min      50.000    17.875    983.800    0.000    0.000  \n",
              "25%     160.000    49.677    999.423    0.000    2.510  \n",
              "50%     221.042    61.062   1006.408    0.000    5.312  \n",
              "75%     265.833    69.917   1011.571    0.000    7.573  \n",
              "max     351.250    94.958   1025.529    3.188   10.000  "
            ],
            "text/html": [
              "\n",
              "  <div id=\"df-80f8c099-e2ef-43d7-aa11-f498c10671f1\">\n",
              "    <div class=\"colab-df-container\">\n",
              "      <div>\n",
              "<style scoped>\n",
              "    .dataframe tbody tr th:only-of-type {\n",
              "        vertical-align: middle;\n",
              "    }\n",
              "\n",
              "    .dataframe tbody tr th {\n",
              "        vertical-align: top;\n",
              "    }\n",
              "\n",
              "    .dataframe thead th {\n",
              "        text-align: right;\n",
              "    }\n",
              "</style>\n",
              "<table border=\"1\" class=\"dataframe\">\n",
              "  <thead>\n",
              "    <tr style=\"text-align: right;\">\n",
              "      <th></th>\n",
              "      <th>PM10</th>\n",
              "      <th>O3</th>\n",
              "      <th>NO2</th>\n",
              "      <th>CO</th>\n",
              "      <th>SO2</th>\n",
              "      <th>TEMP</th>\n",
              "      <th>RAIN</th>\n",
              "      <th>WIND</th>\n",
              "      <th>WIND_DIR</th>\n",
              "      <th>HUMIDITY</th>\n",
              "      <th>ATM_PRESS</th>\n",
              "      <th>SNOW</th>\n",
              "      <th>CLOUD</th>\n",
              "    </tr>\n",
              "  </thead>\n",
              "  <tbody>\n",
              "    <tr>\n",
              "      <th>count</th>\n",
              "      <td>365.000</td>\n",
              "      <td>365.000</td>\n",
              "      <td>365.000</td>\n",
              "      <td>311.000</td>\n",
              "      <td>365.000</td>\n",
              "      <td>366.000</td>\n",
              "      <td>366.000</td>\n",
              "      <td>366.000</td>\n",
              "      <td>366.000</td>\n",
              "      <td>366.000</td>\n",
              "      <td>366.000</td>\n",
              "      <td>366.000</td>\n",
              "      <td>366.000</td>\n",
              "    </tr>\n",
              "    <tr>\n",
              "      <th>mean</th>\n",
              "      <td>33.422</td>\n",
              "      <td>0.024</td>\n",
              "      <td>0.027</td>\n",
              "      <td>0.517</td>\n",
              "      <td>0.003</td>\n",
              "      <td>13.863</td>\n",
              "      <td>0.382</td>\n",
              "      <td>2.225</td>\n",
              "      <td>209.420</td>\n",
              "      <td>60.292</td>\n",
              "      <td>1005.846</td>\n",
              "      <td>0.023</td>\n",
              "      <td>5.063</td>\n",
              "    </tr>\n",
              "    <tr>\n",
              "      <th>std</th>\n",
              "      <td>15.938</td>\n",
              "      <td>0.012</td>\n",
              "      <td>0.010</td>\n",
              "      <td>0.153</td>\n",
              "      <td>0.001</td>\n",
              "      <td>9.830</td>\n",
              "      <td>1.122</td>\n",
              "      <td>0.723</td>\n",
              "      <td>70.753</td>\n",
              "      <td>14.533</td>\n",
              "      <td>8.125</td>\n",
              "      <td>0.222</td>\n",
              "      <td>2.986</td>\n",
              "    </tr>\n",
              "    <tr>\n",
              "      <th>min</th>\n",
              "      <td>5.000</td>\n",
              "      <td>0.002</td>\n",
              "      <td>0.008</td>\n",
              "      <td>0.300</td>\n",
              "      <td>0.002</td>\n",
              "      <td>-7.954</td>\n",
              "      <td>0.000</td>\n",
              "      <td>0.942</td>\n",
              "      <td>50.000</td>\n",
              "      <td>17.875</td>\n",
              "      <td>983.800</td>\n",
              "      <td>0.000</td>\n",
              "      <td>0.000</td>\n",
              "    </tr>\n",
              "    <tr>\n",
              "      <th>25%</th>\n",
              "      <td>22.000</td>\n",
              "      <td>0.014</td>\n",
              "      <td>0.019</td>\n",
              "      <td>0.400</td>\n",
              "      <td>0.003</td>\n",
              "      <td>5.493</td>\n",
              "      <td>0.000</td>\n",
              "      <td>1.722</td>\n",
              "      <td>160.000</td>\n",
              "      <td>49.677</td>\n",
              "      <td>999.423</td>\n",
              "      <td>0.000</td>\n",
              "      <td>2.510</td>\n",
              "    </tr>\n",
              "    <tr>\n",
              "      <th>50%</th>\n",
              "      <td>31.000</td>\n",
              "      <td>0.023</td>\n",
              "      <td>0.025</td>\n",
              "      <td>0.500</td>\n",
              "      <td>0.003</td>\n",
              "      <td>13.996</td>\n",
              "      <td>0.000</td>\n",
              "      <td>2.094</td>\n",
              "      <td>221.042</td>\n",
              "      <td>61.062</td>\n",
              "      <td>1006.408</td>\n",
              "      <td>0.000</td>\n",
              "      <td>5.312</td>\n",
              "    </tr>\n",
              "    <tr>\n",
              "      <th>75%</th>\n",
              "      <td>42.000</td>\n",
              "      <td>0.032</td>\n",
              "      <td>0.034</td>\n",
              "      <td>0.600</td>\n",
              "      <td>0.003</td>\n",
              "      <td>23.073</td>\n",
              "      <td>0.115</td>\n",
              "      <td>2.620</td>\n",
              "      <td>265.833</td>\n",
              "      <td>69.917</td>\n",
              "      <td>1011.571</td>\n",
              "      <td>0.000</td>\n",
              "      <td>7.573</td>\n",
              "    </tr>\n",
              "    <tr>\n",
              "      <th>max</th>\n",
              "      <td>101.000</td>\n",
              "      <td>0.062</td>\n",
              "      <td>0.059</td>\n",
              "      <td>1.000</td>\n",
              "      <td>0.005</td>\n",
              "      <td>31.721</td>\n",
              "      <td>11.800</td>\n",
              "      <td>5.883</td>\n",
              "      <td>351.250</td>\n",
              "      <td>94.958</td>\n",
              "      <td>1025.529</td>\n",
              "      <td>3.188</td>\n",
              "      <td>10.000</td>\n",
              "    </tr>\n",
              "  </tbody>\n",
              "</table>\n",
              "</div>\n",
              "      <button class=\"colab-df-convert\" onclick=\"convertToInteractive('df-80f8c099-e2ef-43d7-aa11-f498c10671f1')\"\n",
              "              title=\"Convert this dataframe to an interactive table.\"\n",
              "              style=\"display:none;\">\n",
              "        \n",
              "  <svg xmlns=\"http://www.w3.org/2000/svg\" height=\"24px\"viewBox=\"0 0 24 24\"\n",
              "       width=\"24px\">\n",
              "    <path d=\"M0 0h24v24H0V0z\" fill=\"none\"/>\n",
              "    <path d=\"M18.56 5.44l.94 2.06.94-2.06 2.06-.94-2.06-.94-.94-2.06-.94 2.06-2.06.94zm-11 1L8.5 8.5l.94-2.06 2.06-.94-2.06-.94L8.5 2.5l-.94 2.06-2.06.94zm10 10l.94 2.06.94-2.06 2.06-.94-2.06-.94-.94-2.06-.94 2.06-2.06.94z\"/><path d=\"M17.41 7.96l-1.37-1.37c-.4-.4-.92-.59-1.43-.59-.52 0-1.04.2-1.43.59L10.3 9.45l-7.72 7.72c-.78.78-.78 2.05 0 2.83L4 21.41c.39.39.9.59 1.41.59.51 0 1.02-.2 1.41-.59l7.78-7.78 2.81-2.81c.8-.78.8-2.07 0-2.86zM5.41 20L4 18.59l7.72-7.72 1.47 1.35L5.41 20z\"/>\n",
              "  </svg>\n",
              "      </button>\n",
              "      \n",
              "  <style>\n",
              "    .colab-df-container {\n",
              "      display:flex;\n",
              "      flex-wrap:wrap;\n",
              "      gap: 12px;\n",
              "    }\n",
              "\n",
              "    .colab-df-convert {\n",
              "      background-color: #E8F0FE;\n",
              "      border: none;\n",
              "      border-radius: 50%;\n",
              "      cursor: pointer;\n",
              "      display: none;\n",
              "      fill: #1967D2;\n",
              "      height: 32px;\n",
              "      padding: 0 0 0 0;\n",
              "      width: 32px;\n",
              "    }\n",
              "\n",
              "    .colab-df-convert:hover {\n",
              "      background-color: #E2EBFA;\n",
              "      box-shadow: 0px 1px 2px rgba(60, 64, 67, 0.3), 0px 1px 3px 1px rgba(60, 64, 67, 0.15);\n",
              "      fill: #174EA6;\n",
              "    }\n",
              "\n",
              "    [theme=dark] .colab-df-convert {\n",
              "      background-color: #3B4455;\n",
              "      fill: #D2E3FC;\n",
              "    }\n",
              "\n",
              "    [theme=dark] .colab-df-convert:hover {\n",
              "      background-color: #434B5C;\n",
              "      box-shadow: 0px 1px 3px 1px rgba(0, 0, 0, 0.15);\n",
              "      filter: drop-shadow(0px 1px 2px rgba(0, 0, 0, 0.3));\n",
              "      fill: #FFFFFF;\n",
              "    }\n",
              "  </style>\n",
              "\n",
              "      <script>\n",
              "        const buttonEl =\n",
              "          document.querySelector('#df-80f8c099-e2ef-43d7-aa11-f498c10671f1 button.colab-df-convert');\n",
              "        buttonEl.style.display =\n",
              "          google.colab.kernel.accessAllowed ? 'block' : 'none';\n",
              "\n",
              "        async function convertToInteractive(key) {\n",
              "          const element = document.querySelector('#df-80f8c099-e2ef-43d7-aa11-f498c10671f1');\n",
              "          const dataTable =\n",
              "            await google.colab.kernel.invokeFunction('convertToInteractive',\n",
              "                                                     [key], {});\n",
              "          if (!dataTable) return;\n",
              "\n",
              "          const docLinkHtml = 'Like what you see? Visit the ' +\n",
              "            '<a target=\"_blank\" href=https://colab.research.google.com/notebooks/data_table.ipynb>data table notebook</a>'\n",
              "            + ' to learn more about interactive tables.';\n",
              "          element.innerHTML = '';\n",
              "          dataTable['output_type'] = 'display_data';\n",
              "          await google.colab.output.renderOutput(dataTable, element);\n",
              "          const docLink = document.createElement('div');\n",
              "          docLink.innerHTML = docLinkHtml;\n",
              "          element.appendChild(docLink);\n",
              "        }\n",
              "      </script>\n",
              "    </div>\n",
              "  </div>\n",
              "  "
            ]
          },
          "metadata": {},
          "execution_count": 7
        }
      ]
    },
    {
      "cell_type": "markdown",
      "source": [
        "**결측값 확인하기**"
      ],
      "metadata": {
        "id": "NsJhvAUX5qwB"
      }
    },
    {
      "cell_type": "code",
      "source": [
        "df_raw.isnull().sum()"
      ],
      "metadata": {
        "colab": {
          "base_uri": "https://localhost:8080/"
        },
        "id": "ycUVlfJx441a",
        "outputId": "475a74c5-50d1-40c2-e1a2-3cc4f1a3c8b1"
      },
      "execution_count": null,
      "outputs": [
        {
          "output_type": "execute_result",
          "data": {
            "text/plain": [
              "MeasDate      0\n",
              "PM10          1\n",
              "O3            1\n",
              "NO2           1\n",
              "CO           55\n",
              "SO2           1\n",
              "TEMP          0\n",
              "RAIN          0\n",
              "WIND          0\n",
              "WIND_DIR      0\n",
              "HUMIDITY      0\n",
              "ATM_PRESS     0\n",
              "SNOW          0\n",
              "CLOUD         0\n",
              "dtype: int64"
            ]
          },
          "metadata": {},
          "execution_count": 8
        }
      ]
    },
    {
      "cell_type": "code",
      "source": [
        "df_raw.fillna(df_raw.median(), inplace = True)\n",
        "\n",
        "df_raw.head()"
      ],
      "metadata": {
        "colab": {
          "base_uri": "https://localhost:8080/",
          "height": 262
        },
        "id": "SsH3-myv6h5u",
        "outputId": "826a94eb-b7e7-4a0d-a1c1-94a06b318984"
      },
      "execution_count": null,
      "outputs": [
        {
          "output_type": "stream",
          "name": "stderr",
          "text": [
            "/usr/local/lib/python3.7/dist-packages/ipykernel_launcher.py:1: FutureWarning: DataFrame.mean and DataFrame.median with numeric_only=None will include datetime64 and datetime64tz columns in a future version.\n",
            "  \"\"\"Entry point for launching an IPython kernel.\n"
          ]
        },
        {
          "output_type": "execute_result",
          "data": {
            "text/plain": [
              "    MeasDate  PM10     O3    NO2   CO    SO2       TEMP  RAIN      WIND  \\\n",
              "0 2019-07-01  29.0  0.054  0.021  0.5  0.003  24.034783   0.0  2.304348   \n",
              "1 2019-07-02  26.0  0.053  0.020  0.5  0.003  24.287500   0.0  2.258333   \n",
              "2 2019-07-03  30.0  0.042  0.023  0.4  0.003  24.175000   0.0  1.791667   \n",
              "3 2019-07-04  28.0  0.034  0.026  0.4  0.003  25.354167   0.0  2.037500   \n",
              "4 2019-07-05  29.0  0.045  0.035  0.5  0.003  27.295833   0.0  1.454167   \n",
              "\n",
              "     WIND_DIR   HUMIDITY   ATM_PRESS  SNOW     CLOUD  \n",
              "0  249.130435  63.173913  995.073913   0.0  5.695652  \n",
              "1  264.583333  63.166667  998.600000   0.0  3.833333  \n",
              "2  280.000000  65.333333  998.270833   0.0  6.291667  \n",
              "3  262.500000  58.625000  996.633333   0.0  2.541667  \n",
              "4  175.416667  45.541667  993.537500   0.0  3.916667  "
            ],
            "text/html": [
              "\n",
              "  <div id=\"df-9ef442c1-daa1-468e-8c2f-8e8cd8e43584\">\n",
              "    <div class=\"colab-df-container\">\n",
              "      <div>\n",
              "<style scoped>\n",
              "    .dataframe tbody tr th:only-of-type {\n",
              "        vertical-align: middle;\n",
              "    }\n",
              "\n",
              "    .dataframe tbody tr th {\n",
              "        vertical-align: top;\n",
              "    }\n",
              "\n",
              "    .dataframe thead th {\n",
              "        text-align: right;\n",
              "    }\n",
              "</style>\n",
              "<table border=\"1\" class=\"dataframe\">\n",
              "  <thead>\n",
              "    <tr style=\"text-align: right;\">\n",
              "      <th></th>\n",
              "      <th>MeasDate</th>\n",
              "      <th>PM10</th>\n",
              "      <th>O3</th>\n",
              "      <th>NO2</th>\n",
              "      <th>CO</th>\n",
              "      <th>SO2</th>\n",
              "      <th>TEMP</th>\n",
              "      <th>RAIN</th>\n",
              "      <th>WIND</th>\n",
              "      <th>WIND_DIR</th>\n",
              "      <th>HUMIDITY</th>\n",
              "      <th>ATM_PRESS</th>\n",
              "      <th>SNOW</th>\n",
              "      <th>CLOUD</th>\n",
              "    </tr>\n",
              "  </thead>\n",
              "  <tbody>\n",
              "    <tr>\n",
              "      <th>0</th>\n",
              "      <td>2019-07-01</td>\n",
              "      <td>29.0</td>\n",
              "      <td>0.054</td>\n",
              "      <td>0.021</td>\n",
              "      <td>0.5</td>\n",
              "      <td>0.003</td>\n",
              "      <td>24.034783</td>\n",
              "      <td>0.0</td>\n",
              "      <td>2.304348</td>\n",
              "      <td>249.130435</td>\n",
              "      <td>63.173913</td>\n",
              "      <td>995.073913</td>\n",
              "      <td>0.0</td>\n",
              "      <td>5.695652</td>\n",
              "    </tr>\n",
              "    <tr>\n",
              "      <th>1</th>\n",
              "      <td>2019-07-02</td>\n",
              "      <td>26.0</td>\n",
              "      <td>0.053</td>\n",
              "      <td>0.020</td>\n",
              "      <td>0.5</td>\n",
              "      <td>0.003</td>\n",
              "      <td>24.287500</td>\n",
              "      <td>0.0</td>\n",
              "      <td>2.258333</td>\n",
              "      <td>264.583333</td>\n",
              "      <td>63.166667</td>\n",
              "      <td>998.600000</td>\n",
              "      <td>0.0</td>\n",
              "      <td>3.833333</td>\n",
              "    </tr>\n",
              "    <tr>\n",
              "      <th>2</th>\n",
              "      <td>2019-07-03</td>\n",
              "      <td>30.0</td>\n",
              "      <td>0.042</td>\n",
              "      <td>0.023</td>\n",
              "      <td>0.4</td>\n",
              "      <td>0.003</td>\n",
              "      <td>24.175000</td>\n",
              "      <td>0.0</td>\n",
              "      <td>1.791667</td>\n",
              "      <td>280.000000</td>\n",
              "      <td>65.333333</td>\n",
              "      <td>998.270833</td>\n",
              "      <td>0.0</td>\n",
              "      <td>6.291667</td>\n",
              "    </tr>\n",
              "    <tr>\n",
              "      <th>3</th>\n",
              "      <td>2019-07-04</td>\n",
              "      <td>28.0</td>\n",
              "      <td>0.034</td>\n",
              "      <td>0.026</td>\n",
              "      <td>0.4</td>\n",
              "      <td>0.003</td>\n",
              "      <td>25.354167</td>\n",
              "      <td>0.0</td>\n",
              "      <td>2.037500</td>\n",
              "      <td>262.500000</td>\n",
              "      <td>58.625000</td>\n",
              "      <td>996.633333</td>\n",
              "      <td>0.0</td>\n",
              "      <td>2.541667</td>\n",
              "    </tr>\n",
              "    <tr>\n",
              "      <th>4</th>\n",
              "      <td>2019-07-05</td>\n",
              "      <td>29.0</td>\n",
              "      <td>0.045</td>\n",
              "      <td>0.035</td>\n",
              "      <td>0.5</td>\n",
              "      <td>0.003</td>\n",
              "      <td>27.295833</td>\n",
              "      <td>0.0</td>\n",
              "      <td>1.454167</td>\n",
              "      <td>175.416667</td>\n",
              "      <td>45.541667</td>\n",
              "      <td>993.537500</td>\n",
              "      <td>0.0</td>\n",
              "      <td>3.916667</td>\n",
              "    </tr>\n",
              "  </tbody>\n",
              "</table>\n",
              "</div>\n",
              "      <button class=\"colab-df-convert\" onclick=\"convertToInteractive('df-9ef442c1-daa1-468e-8c2f-8e8cd8e43584')\"\n",
              "              title=\"Convert this dataframe to an interactive table.\"\n",
              "              style=\"display:none;\">\n",
              "        \n",
              "  <svg xmlns=\"http://www.w3.org/2000/svg\" height=\"24px\"viewBox=\"0 0 24 24\"\n",
              "       width=\"24px\">\n",
              "    <path d=\"M0 0h24v24H0V0z\" fill=\"none\"/>\n",
              "    <path d=\"M18.56 5.44l.94 2.06.94-2.06 2.06-.94-2.06-.94-.94-2.06-.94 2.06-2.06.94zm-11 1L8.5 8.5l.94-2.06 2.06-.94-2.06-.94L8.5 2.5l-.94 2.06-2.06.94zm10 10l.94 2.06.94-2.06 2.06-.94-2.06-.94-.94-2.06-.94 2.06-2.06.94z\"/><path d=\"M17.41 7.96l-1.37-1.37c-.4-.4-.92-.59-1.43-.59-.52 0-1.04.2-1.43.59L10.3 9.45l-7.72 7.72c-.78.78-.78 2.05 0 2.83L4 21.41c.39.39.9.59 1.41.59.51 0 1.02-.2 1.41-.59l7.78-7.78 2.81-2.81c.8-.78.8-2.07 0-2.86zM5.41 20L4 18.59l7.72-7.72 1.47 1.35L5.41 20z\"/>\n",
              "  </svg>\n",
              "      </button>\n",
              "      \n",
              "  <style>\n",
              "    .colab-df-container {\n",
              "      display:flex;\n",
              "      flex-wrap:wrap;\n",
              "      gap: 12px;\n",
              "    }\n",
              "\n",
              "    .colab-df-convert {\n",
              "      background-color: #E8F0FE;\n",
              "      border: none;\n",
              "      border-radius: 50%;\n",
              "      cursor: pointer;\n",
              "      display: none;\n",
              "      fill: #1967D2;\n",
              "      height: 32px;\n",
              "      padding: 0 0 0 0;\n",
              "      width: 32px;\n",
              "    }\n",
              "\n",
              "    .colab-df-convert:hover {\n",
              "      background-color: #E2EBFA;\n",
              "      box-shadow: 0px 1px 2px rgba(60, 64, 67, 0.3), 0px 1px 3px 1px rgba(60, 64, 67, 0.15);\n",
              "      fill: #174EA6;\n",
              "    }\n",
              "\n",
              "    [theme=dark] .colab-df-convert {\n",
              "      background-color: #3B4455;\n",
              "      fill: #D2E3FC;\n",
              "    }\n",
              "\n",
              "    [theme=dark] .colab-df-convert:hover {\n",
              "      background-color: #434B5C;\n",
              "      box-shadow: 0px 1px 3px 1px rgba(0, 0, 0, 0.15);\n",
              "      filter: drop-shadow(0px 1px 2px rgba(0, 0, 0, 0.3));\n",
              "      fill: #FFFFFF;\n",
              "    }\n",
              "  </style>\n",
              "\n",
              "      <script>\n",
              "        const buttonEl =\n",
              "          document.querySelector('#df-9ef442c1-daa1-468e-8c2f-8e8cd8e43584 button.colab-df-convert');\n",
              "        buttonEl.style.display =\n",
              "          google.colab.kernel.accessAllowed ? 'block' : 'none';\n",
              "\n",
              "        async function convertToInteractive(key) {\n",
              "          const element = document.querySelector('#df-9ef442c1-daa1-468e-8c2f-8e8cd8e43584');\n",
              "          const dataTable =\n",
              "            await google.colab.kernel.invokeFunction('convertToInteractive',\n",
              "                                                     [key], {});\n",
              "          if (!dataTable) return;\n",
              "\n",
              "          const docLinkHtml = 'Like what you see? Visit the ' +\n",
              "            '<a target=\"_blank\" href=https://colab.research.google.com/notebooks/data_table.ipynb>data table notebook</a>'\n",
              "            + ' to learn more about interactive tables.';\n",
              "          element.innerHTML = '';\n",
              "          dataTable['output_type'] = 'display_data';\n",
              "          await google.colab.output.renderOutput(dataTable, element);\n",
              "          const docLink = document.createElement('div');\n",
              "          docLink.innerHTML = docLinkHtml;\n",
              "          element.appendChild(docLink);\n",
              "        }\n",
              "      </script>\n",
              "    </div>\n",
              "  </div>\n",
              "  "
            ]
          },
          "metadata": {},
          "execution_count": 9
        }
      ]
    },
    {
      "cell_type": "code",
      "source": [
        "df_raw.isnull().sum()"
      ],
      "metadata": {
        "colab": {
          "base_uri": "https://localhost:8080/"
        },
        "id": "7C_t1C956ygB",
        "outputId": "0c3dc593-37cf-44ef-a076-4caee6d5cbbc"
      },
      "execution_count": null,
      "outputs": [
        {
          "output_type": "execute_result",
          "data": {
            "text/plain": [
              "MeasDate     0\n",
              "PM10         0\n",
              "O3           0\n",
              "NO2          0\n",
              "CO           0\n",
              "SO2          0\n",
              "TEMP         0\n",
              "RAIN         0\n",
              "WIND         0\n",
              "WIND_DIR     0\n",
              "HUMIDITY     0\n",
              "ATM_PRESS    0\n",
              "SNOW         0\n",
              "CLOUD        0\n",
              "dtype: int64"
            ]
          },
          "metadata": {},
          "execution_count": 10
        }
      ]
    },
    {
      "cell_type": "markdown",
      "source": [
        "**데이터 분할하기**"
      ],
      "metadata": {
        "id": "0CaJRdv3MP32"
      }
    },
    {
      "cell_type": "code",
      "source": [
        "df_raw_x = df_raw.drop(['MeasDate', 'PM10'], axis = 1, inplace = False)\n",
        "df_raw_y = df_raw['PM10']"
      ],
      "metadata": {
        "id": "jQWu-s1seNUN"
      },
      "execution_count": null,
      "outputs": []
    },
    {
      "cell_type": "code",
      "source": [
        "print(df_raw_x.shape)\n",
        "df_raw_x.head()"
      ],
      "metadata": {
        "colab": {
          "base_uri": "https://localhost:8080/",
          "height": 224
        },
        "outputId": "49010a0b-d54e-45a6-c07b-048a05118109",
        "id": "pDrX5p7qeNUN"
      },
      "execution_count": null,
      "outputs": [
        {
          "output_type": "stream",
          "name": "stdout",
          "text": [
            "(366, 12)\n"
          ]
        },
        {
          "output_type": "execute_result",
          "data": {
            "text/plain": [
              "      O3    NO2   CO    SO2       TEMP  RAIN      WIND    WIND_DIR   HUMIDITY  \\\n",
              "0  0.054  0.021  0.5  0.003  24.034783   0.0  2.304348  249.130435  63.173913   \n",
              "1  0.053  0.020  0.5  0.003  24.287500   0.0  2.258333  264.583333  63.166667   \n",
              "2  0.042  0.023  0.4  0.003  24.175000   0.0  1.791667  280.000000  65.333333   \n",
              "3  0.034  0.026  0.4  0.003  25.354167   0.0  2.037500  262.500000  58.625000   \n",
              "4  0.045  0.035  0.5  0.003  27.295833   0.0  1.454167  175.416667  45.541667   \n",
              "\n",
              "    ATM_PRESS  SNOW     CLOUD  \n",
              "0  995.073913   0.0  5.695652  \n",
              "1  998.600000   0.0  3.833333  \n",
              "2  998.270833   0.0  6.291667  \n",
              "3  996.633333   0.0  2.541667  \n",
              "4  993.537500   0.0  3.916667  "
            ],
            "text/html": [
              "\n",
              "  <div id=\"df-7b979609-f111-46e8-9083-75bdfd97dd6e\">\n",
              "    <div class=\"colab-df-container\">\n",
              "      <div>\n",
              "<style scoped>\n",
              "    .dataframe tbody tr th:only-of-type {\n",
              "        vertical-align: middle;\n",
              "    }\n",
              "\n",
              "    .dataframe tbody tr th {\n",
              "        vertical-align: top;\n",
              "    }\n",
              "\n",
              "    .dataframe thead th {\n",
              "        text-align: right;\n",
              "    }\n",
              "</style>\n",
              "<table border=\"1\" class=\"dataframe\">\n",
              "  <thead>\n",
              "    <tr style=\"text-align: right;\">\n",
              "      <th></th>\n",
              "      <th>O3</th>\n",
              "      <th>NO2</th>\n",
              "      <th>CO</th>\n",
              "      <th>SO2</th>\n",
              "      <th>TEMP</th>\n",
              "      <th>RAIN</th>\n",
              "      <th>WIND</th>\n",
              "      <th>WIND_DIR</th>\n",
              "      <th>HUMIDITY</th>\n",
              "      <th>ATM_PRESS</th>\n",
              "      <th>SNOW</th>\n",
              "      <th>CLOUD</th>\n",
              "    </tr>\n",
              "  </thead>\n",
              "  <tbody>\n",
              "    <tr>\n",
              "      <th>0</th>\n",
              "      <td>0.054</td>\n",
              "      <td>0.021</td>\n",
              "      <td>0.5</td>\n",
              "      <td>0.003</td>\n",
              "      <td>24.034783</td>\n",
              "      <td>0.0</td>\n",
              "      <td>2.304348</td>\n",
              "      <td>249.130435</td>\n",
              "      <td>63.173913</td>\n",
              "      <td>995.073913</td>\n",
              "      <td>0.0</td>\n",
              "      <td>5.695652</td>\n",
              "    </tr>\n",
              "    <tr>\n",
              "      <th>1</th>\n",
              "      <td>0.053</td>\n",
              "      <td>0.020</td>\n",
              "      <td>0.5</td>\n",
              "      <td>0.003</td>\n",
              "      <td>24.287500</td>\n",
              "      <td>0.0</td>\n",
              "      <td>2.258333</td>\n",
              "      <td>264.583333</td>\n",
              "      <td>63.166667</td>\n",
              "      <td>998.600000</td>\n",
              "      <td>0.0</td>\n",
              "      <td>3.833333</td>\n",
              "    </tr>\n",
              "    <tr>\n",
              "      <th>2</th>\n",
              "      <td>0.042</td>\n",
              "      <td>0.023</td>\n",
              "      <td>0.4</td>\n",
              "      <td>0.003</td>\n",
              "      <td>24.175000</td>\n",
              "      <td>0.0</td>\n",
              "      <td>1.791667</td>\n",
              "      <td>280.000000</td>\n",
              "      <td>65.333333</td>\n",
              "      <td>998.270833</td>\n",
              "      <td>0.0</td>\n",
              "      <td>6.291667</td>\n",
              "    </tr>\n",
              "    <tr>\n",
              "      <th>3</th>\n",
              "      <td>0.034</td>\n",
              "      <td>0.026</td>\n",
              "      <td>0.4</td>\n",
              "      <td>0.003</td>\n",
              "      <td>25.354167</td>\n",
              "      <td>0.0</td>\n",
              "      <td>2.037500</td>\n",
              "      <td>262.500000</td>\n",
              "      <td>58.625000</td>\n",
              "      <td>996.633333</td>\n",
              "      <td>0.0</td>\n",
              "      <td>2.541667</td>\n",
              "    </tr>\n",
              "    <tr>\n",
              "      <th>4</th>\n",
              "      <td>0.045</td>\n",
              "      <td>0.035</td>\n",
              "      <td>0.5</td>\n",
              "      <td>0.003</td>\n",
              "      <td>27.295833</td>\n",
              "      <td>0.0</td>\n",
              "      <td>1.454167</td>\n",
              "      <td>175.416667</td>\n",
              "      <td>45.541667</td>\n",
              "      <td>993.537500</td>\n",
              "      <td>0.0</td>\n",
              "      <td>3.916667</td>\n",
              "    </tr>\n",
              "  </tbody>\n",
              "</table>\n",
              "</div>\n",
              "      <button class=\"colab-df-convert\" onclick=\"convertToInteractive('df-7b979609-f111-46e8-9083-75bdfd97dd6e')\"\n",
              "              title=\"Convert this dataframe to an interactive table.\"\n",
              "              style=\"display:none;\">\n",
              "        \n",
              "  <svg xmlns=\"http://www.w3.org/2000/svg\" height=\"24px\"viewBox=\"0 0 24 24\"\n",
              "       width=\"24px\">\n",
              "    <path d=\"M0 0h24v24H0V0z\" fill=\"none\"/>\n",
              "    <path d=\"M18.56 5.44l.94 2.06.94-2.06 2.06-.94-2.06-.94-.94-2.06-.94 2.06-2.06.94zm-11 1L8.5 8.5l.94-2.06 2.06-.94-2.06-.94L8.5 2.5l-.94 2.06-2.06.94zm10 10l.94 2.06.94-2.06 2.06-.94-2.06-.94-.94-2.06-.94 2.06-2.06.94z\"/><path d=\"M17.41 7.96l-1.37-1.37c-.4-.4-.92-.59-1.43-.59-.52 0-1.04.2-1.43.59L10.3 9.45l-7.72 7.72c-.78.78-.78 2.05 0 2.83L4 21.41c.39.39.9.59 1.41.59.51 0 1.02-.2 1.41-.59l7.78-7.78 2.81-2.81c.8-.78.8-2.07 0-2.86zM5.41 20L4 18.59l7.72-7.72 1.47 1.35L5.41 20z\"/>\n",
              "  </svg>\n",
              "      </button>\n",
              "      \n",
              "  <style>\n",
              "    .colab-df-container {\n",
              "      display:flex;\n",
              "      flex-wrap:wrap;\n",
              "      gap: 12px;\n",
              "    }\n",
              "\n",
              "    .colab-df-convert {\n",
              "      background-color: #E8F0FE;\n",
              "      border: none;\n",
              "      border-radius: 50%;\n",
              "      cursor: pointer;\n",
              "      display: none;\n",
              "      fill: #1967D2;\n",
              "      height: 32px;\n",
              "      padding: 0 0 0 0;\n",
              "      width: 32px;\n",
              "    }\n",
              "\n",
              "    .colab-df-convert:hover {\n",
              "      background-color: #E2EBFA;\n",
              "      box-shadow: 0px 1px 2px rgba(60, 64, 67, 0.3), 0px 1px 3px 1px rgba(60, 64, 67, 0.15);\n",
              "      fill: #174EA6;\n",
              "    }\n",
              "\n",
              "    [theme=dark] .colab-df-convert {\n",
              "      background-color: #3B4455;\n",
              "      fill: #D2E3FC;\n",
              "    }\n",
              "\n",
              "    [theme=dark] .colab-df-convert:hover {\n",
              "      background-color: #434B5C;\n",
              "      box-shadow: 0px 1px 3px 1px rgba(0, 0, 0, 0.15);\n",
              "      filter: drop-shadow(0px 1px 2px rgba(0, 0, 0, 0.3));\n",
              "      fill: #FFFFFF;\n",
              "    }\n",
              "  </style>\n",
              "\n",
              "      <script>\n",
              "        const buttonEl =\n",
              "          document.querySelector('#df-7b979609-f111-46e8-9083-75bdfd97dd6e button.colab-df-convert');\n",
              "        buttonEl.style.display =\n",
              "          google.colab.kernel.accessAllowed ? 'block' : 'none';\n",
              "\n",
              "        async function convertToInteractive(key) {\n",
              "          const element = document.querySelector('#df-7b979609-f111-46e8-9083-75bdfd97dd6e');\n",
              "          const dataTable =\n",
              "            await google.colab.kernel.invokeFunction('convertToInteractive',\n",
              "                                                     [key], {});\n",
              "          if (!dataTable) return;\n",
              "\n",
              "          const docLinkHtml = 'Like what you see? Visit the ' +\n",
              "            '<a target=\"_blank\" href=https://colab.research.google.com/notebooks/data_table.ipynb>data table notebook</a>'\n",
              "            + ' to learn more about interactive tables.';\n",
              "          element.innerHTML = '';\n",
              "          dataTable['output_type'] = 'display_data';\n",
              "          await google.colab.output.renderOutput(dataTable, element);\n",
              "          const docLink = document.createElement('div');\n",
              "          docLink.innerHTML = docLinkHtml;\n",
              "          element.appendChild(docLink);\n",
              "        }\n",
              "      </script>\n",
              "    </div>\n",
              "  </div>\n",
              "  "
            ]
          },
          "metadata": {},
          "execution_count": 11
        }
      ]
    },
    {
      "cell_type": "code",
      "source": [
        "print(df_raw_y.shape)\n",
        "df_raw_y.head()"
      ],
      "metadata": {
        "colab": {
          "base_uri": "https://localhost:8080/"
        },
        "outputId": "29955ca8-8643-46ee-d72c-7fd911313009",
        "id": "Se_ov_IbeNUN"
      },
      "execution_count": null,
      "outputs": [
        {
          "output_type": "stream",
          "name": "stdout",
          "text": [
            "(366,)\n"
          ]
        },
        {
          "output_type": "execute_result",
          "data": {
            "text/plain": [
              "0    29.0\n",
              "1    26.0\n",
              "2    30.0\n",
              "3    28.0\n",
              "4    29.0\n",
              "Name: PM10, dtype: float64"
            ]
          },
          "metadata": {},
          "execution_count": 12
        }
      ]
    },
    {
      "cell_type": "code",
      "source": [
        "df_train_x, df_test_x, df_train_y, df_test_y = train_test_split(df_raw_x,\n",
        "                                                                df_raw_y,\n",
        "                                                                test_size = 0.3)\n",
        "\n",
        "print('Shape of df_train_x : {}'.format(df_train_x.shape))\n",
        "print('Shape of df_test_x : {}'.format(df_test_x.shape))\n",
        "print('Shape of df_train_y : {}'.format(df_train_y.shape))\n",
        "print('Shape of df_test_y : {}'.format(df_test_y.shape))"
      ],
      "metadata": {
        "id": "cN8HFVcgQGwk",
        "outputId": "b304dec8-673b-4035-d3c3-81bb01e4a2fa",
        "colab": {
          "base_uri": "https://localhost:8080/"
        }
      },
      "execution_count": null,
      "outputs": [
        {
          "output_type": "stream",
          "name": "stdout",
          "text": [
            "Shape of df_train_x : (256, 12)\n",
            "Shape of df_test_x : (110, 12)\n",
            "Shape of df_train_y : (256,)\n",
            "Shape of df_test_y : (110,)\n"
          ]
        }
      ]
    },
    {
      "cell_type": "code",
      "source": [
        "print(df_train_x.shape)\n",
        "df_train_x.head()"
      ],
      "metadata": {
        "id": "VU1umANsRGQ2",
        "outputId": "83254bc0-8d8a-47b3-d6a6-add5710ddaf7",
        "colab": {
          "base_uri": "https://localhost:8080/",
          "height": 224
        }
      },
      "execution_count": null,
      "outputs": [
        {
          "output_type": "stream",
          "name": "stdout",
          "text": [
            "(256, 12)\n"
          ]
        },
        {
          "output_type": "execute_result",
          "data": {
            "text/plain": [
              "        O3    NO2   CO    SO2       TEMP      RAIN      WIND    WIND_DIR  \\\n",
              "267  0.024  0.033  0.5  0.003  11.312500  0.000000  1.862500  189.583333   \n",
              "84   0.032  0.017  0.3  0.002  20.108333  0.000000  2.304167  274.166667   \n",
              "340  0.037  0.020  0.4  0.002  22.862500  0.000000  1.962500  270.000000   \n",
              "313  0.024  0.017  0.4  0.002  14.333333  1.016667  3.558333  135.833333   \n",
              "136  0.021  0.021  0.4  0.003   1.520833  0.000000  3.091667  252.083333   \n",
              "\n",
              "      HUMIDITY    ATM_PRESS  SNOW      CLOUD  \n",
              "267  37.083333  1009.604167   0.0   0.125000  \n",
              "84   50.125000  1003.795833   0.0   4.375000  \n",
              "340  71.458333   997.050000   0.0   5.958333  \n",
              "313  93.166667   995.579167   0.0  10.000000  \n",
              "136  30.416667  1013.633333   0.0   0.541667  "
            ],
            "text/html": [
              "\n",
              "  <div id=\"df-0a4f2c17-335d-429e-b9b9-570347395bbb\">\n",
              "    <div class=\"colab-df-container\">\n",
              "      <div>\n",
              "<style scoped>\n",
              "    .dataframe tbody tr th:only-of-type {\n",
              "        vertical-align: middle;\n",
              "    }\n",
              "\n",
              "    .dataframe tbody tr th {\n",
              "        vertical-align: top;\n",
              "    }\n",
              "\n",
              "    .dataframe thead th {\n",
              "        text-align: right;\n",
              "    }\n",
              "</style>\n",
              "<table border=\"1\" class=\"dataframe\">\n",
              "  <thead>\n",
              "    <tr style=\"text-align: right;\">\n",
              "      <th></th>\n",
              "      <th>O3</th>\n",
              "      <th>NO2</th>\n",
              "      <th>CO</th>\n",
              "      <th>SO2</th>\n",
              "      <th>TEMP</th>\n",
              "      <th>RAIN</th>\n",
              "      <th>WIND</th>\n",
              "      <th>WIND_DIR</th>\n",
              "      <th>HUMIDITY</th>\n",
              "      <th>ATM_PRESS</th>\n",
              "      <th>SNOW</th>\n",
              "      <th>CLOUD</th>\n",
              "    </tr>\n",
              "  </thead>\n",
              "  <tbody>\n",
              "    <tr>\n",
              "      <th>267</th>\n",
              "      <td>0.024</td>\n",
              "      <td>0.033</td>\n",
              "      <td>0.5</td>\n",
              "      <td>0.003</td>\n",
              "      <td>11.312500</td>\n",
              "      <td>0.000000</td>\n",
              "      <td>1.862500</td>\n",
              "      <td>189.583333</td>\n",
              "      <td>37.083333</td>\n",
              "      <td>1009.604167</td>\n",
              "      <td>0.0</td>\n",
              "      <td>0.125000</td>\n",
              "    </tr>\n",
              "    <tr>\n",
              "      <th>84</th>\n",
              "      <td>0.032</td>\n",
              "      <td>0.017</td>\n",
              "      <td>0.3</td>\n",
              "      <td>0.002</td>\n",
              "      <td>20.108333</td>\n",
              "      <td>0.000000</td>\n",
              "      <td>2.304167</td>\n",
              "      <td>274.166667</td>\n",
              "      <td>50.125000</td>\n",
              "      <td>1003.795833</td>\n",
              "      <td>0.0</td>\n",
              "      <td>4.375000</td>\n",
              "    </tr>\n",
              "    <tr>\n",
              "      <th>340</th>\n",
              "      <td>0.037</td>\n",
              "      <td>0.020</td>\n",
              "      <td>0.4</td>\n",
              "      <td>0.002</td>\n",
              "      <td>22.862500</td>\n",
              "      <td>0.000000</td>\n",
              "      <td>1.962500</td>\n",
              "      <td>270.000000</td>\n",
              "      <td>71.458333</td>\n",
              "      <td>997.050000</td>\n",
              "      <td>0.0</td>\n",
              "      <td>5.958333</td>\n",
              "    </tr>\n",
              "    <tr>\n",
              "      <th>313</th>\n",
              "      <td>0.024</td>\n",
              "      <td>0.017</td>\n",
              "      <td>0.4</td>\n",
              "      <td>0.002</td>\n",
              "      <td>14.333333</td>\n",
              "      <td>1.016667</td>\n",
              "      <td>3.558333</td>\n",
              "      <td>135.833333</td>\n",
              "      <td>93.166667</td>\n",
              "      <td>995.579167</td>\n",
              "      <td>0.0</td>\n",
              "      <td>10.000000</td>\n",
              "    </tr>\n",
              "    <tr>\n",
              "      <th>136</th>\n",
              "      <td>0.021</td>\n",
              "      <td>0.021</td>\n",
              "      <td>0.4</td>\n",
              "      <td>0.003</td>\n",
              "      <td>1.520833</td>\n",
              "      <td>0.000000</td>\n",
              "      <td>3.091667</td>\n",
              "      <td>252.083333</td>\n",
              "      <td>30.416667</td>\n",
              "      <td>1013.633333</td>\n",
              "      <td>0.0</td>\n",
              "      <td>0.541667</td>\n",
              "    </tr>\n",
              "  </tbody>\n",
              "</table>\n",
              "</div>\n",
              "      <button class=\"colab-df-convert\" onclick=\"convertToInteractive('df-0a4f2c17-335d-429e-b9b9-570347395bbb')\"\n",
              "              title=\"Convert this dataframe to an interactive table.\"\n",
              "              style=\"display:none;\">\n",
              "        \n",
              "  <svg xmlns=\"http://www.w3.org/2000/svg\" height=\"24px\"viewBox=\"0 0 24 24\"\n",
              "       width=\"24px\">\n",
              "    <path d=\"M0 0h24v24H0V0z\" fill=\"none\"/>\n",
              "    <path d=\"M18.56 5.44l.94 2.06.94-2.06 2.06-.94-2.06-.94-.94-2.06-.94 2.06-2.06.94zm-11 1L8.5 8.5l.94-2.06 2.06-.94-2.06-.94L8.5 2.5l-.94 2.06-2.06.94zm10 10l.94 2.06.94-2.06 2.06-.94-2.06-.94-.94-2.06-.94 2.06-2.06.94z\"/><path d=\"M17.41 7.96l-1.37-1.37c-.4-.4-.92-.59-1.43-.59-.52 0-1.04.2-1.43.59L10.3 9.45l-7.72 7.72c-.78.78-.78 2.05 0 2.83L4 21.41c.39.39.9.59 1.41.59.51 0 1.02-.2 1.41-.59l7.78-7.78 2.81-2.81c.8-.78.8-2.07 0-2.86zM5.41 20L4 18.59l7.72-7.72 1.47 1.35L5.41 20z\"/>\n",
              "  </svg>\n",
              "      </button>\n",
              "      \n",
              "  <style>\n",
              "    .colab-df-container {\n",
              "      display:flex;\n",
              "      flex-wrap:wrap;\n",
              "      gap: 12px;\n",
              "    }\n",
              "\n",
              "    .colab-df-convert {\n",
              "      background-color: #E8F0FE;\n",
              "      border: none;\n",
              "      border-radius: 50%;\n",
              "      cursor: pointer;\n",
              "      display: none;\n",
              "      fill: #1967D2;\n",
              "      height: 32px;\n",
              "      padding: 0 0 0 0;\n",
              "      width: 32px;\n",
              "    }\n",
              "\n",
              "    .colab-df-convert:hover {\n",
              "      background-color: #E2EBFA;\n",
              "      box-shadow: 0px 1px 2px rgba(60, 64, 67, 0.3), 0px 1px 3px 1px rgba(60, 64, 67, 0.15);\n",
              "      fill: #174EA6;\n",
              "    }\n",
              "\n",
              "    [theme=dark] .colab-df-convert {\n",
              "      background-color: #3B4455;\n",
              "      fill: #D2E3FC;\n",
              "    }\n",
              "\n",
              "    [theme=dark] .colab-df-convert:hover {\n",
              "      background-color: #434B5C;\n",
              "      box-shadow: 0px 1px 3px 1px rgba(0, 0, 0, 0.15);\n",
              "      filter: drop-shadow(0px 1px 2px rgba(0, 0, 0, 0.3));\n",
              "      fill: #FFFFFF;\n",
              "    }\n",
              "  </style>\n",
              "\n",
              "      <script>\n",
              "        const buttonEl =\n",
              "          document.querySelector('#df-0a4f2c17-335d-429e-b9b9-570347395bbb button.colab-df-convert');\n",
              "        buttonEl.style.display =\n",
              "          google.colab.kernel.accessAllowed ? 'block' : 'none';\n",
              "\n",
              "        async function convertToInteractive(key) {\n",
              "          const element = document.querySelector('#df-0a4f2c17-335d-429e-b9b9-570347395bbb');\n",
              "          const dataTable =\n",
              "            await google.colab.kernel.invokeFunction('convertToInteractive',\n",
              "                                                     [key], {});\n",
              "          if (!dataTable) return;\n",
              "\n",
              "          const docLinkHtml = 'Like what you see? Visit the ' +\n",
              "            '<a target=\"_blank\" href=https://colab.research.google.com/notebooks/data_table.ipynb>data table notebook</a>'\n",
              "            + ' to learn more about interactive tables.';\n",
              "          element.innerHTML = '';\n",
              "          dataTable['output_type'] = 'display_data';\n",
              "          await google.colab.output.renderOutput(dataTable, element);\n",
              "          const docLink = document.createElement('div');\n",
              "          docLink.innerHTML = docLinkHtml;\n",
              "          element.appendChild(docLink);\n",
              "        }\n",
              "      </script>\n",
              "    </div>\n",
              "  </div>\n",
              "  "
            ]
          },
          "metadata": {},
          "execution_count": 14
        }
      ]
    },
    {
      "cell_type": "code",
      "source": [
        "print(df_train_y.shape)\n",
        "df_train_y.head()"
      ],
      "metadata": {
        "id": "B_BD-ilzRIiP",
        "outputId": "5e008743-b8b2-49a2-c59c-4ad1d8777a64",
        "colab": {
          "base_uri": "https://localhost:8080/"
        }
      },
      "execution_count": null,
      "outputs": [
        {
          "output_type": "stream",
          "name": "stdout",
          "text": [
            "(256,)\n"
          ]
        },
        {
          "output_type": "execute_result",
          "data": {
            "text/plain": [
              "267    52.0\n",
              "84     12.0\n",
              "340    39.0\n",
              "313    14.0\n",
              "136    18.0\n",
              "Name: PM10, dtype: float64"
            ]
          },
          "metadata": {},
          "execution_count": 15
        }
      ]
    },
    {
      "cell_type": "code",
      "source": [
        "print(df_test_x.shape)\n",
        "df_test_x.head()"
      ],
      "metadata": {
        "id": "MezwF6gQRMue",
        "outputId": "5326fd1a-70b8-421d-e7f2-90648c2a84d9",
        "colab": {
          "base_uri": "https://localhost:8080/",
          "height": 224
        }
      },
      "execution_count": null,
      "outputs": [
        {
          "output_type": "stream",
          "name": "stdout",
          "text": [
            "(110, 12)\n"
          ]
        },
        {
          "output_type": "execute_result",
          "data": {
            "text/plain": [
              "        O3    NO2   CO    SO2       TEMP      RAIN      WIND    WIND_DIR  \\\n",
              "155  0.007  0.039  0.6  0.004  -0.025000  0.000000  1.466667  181.666667   \n",
              "101  0.011  0.040  0.5  0.003  14.779167  0.000000  1.266667  279.583333   \n",
              "309  0.022  0.025  0.5  0.003  16.183333  0.000000  2.012500  184.583333   \n",
              "218  0.019  0.024  0.5  0.003  -1.416667  0.566667  2.858333  225.833333   \n",
              "87   0.013  0.042  0.6  0.003  22.729167  0.000000  1.708333  259.166667   \n",
              "\n",
              "      HUMIDITY    ATM_PRESS  SNOW     CLOUD  \n",
              "155  58.083333  1014.408333  0.00  5.583333  \n",
              "101  60.333333  1006.450000  0.00  8.583333  \n",
              "309  67.625000  1001.445833  0.00  5.416667  \n",
              "218  52.250000  1015.779167  0.62  4.083333  \n",
              "87   59.625000  1013.495833  0.00  8.125000  "
            ],
            "text/html": [
              "\n",
              "  <div id=\"df-c55cd1b0-bafc-4808-8fd6-0b48a3e5f741\">\n",
              "    <div class=\"colab-df-container\">\n",
              "      <div>\n",
              "<style scoped>\n",
              "    .dataframe tbody tr th:only-of-type {\n",
              "        vertical-align: middle;\n",
              "    }\n",
              "\n",
              "    .dataframe tbody tr th {\n",
              "        vertical-align: top;\n",
              "    }\n",
              "\n",
              "    .dataframe thead th {\n",
              "        text-align: right;\n",
              "    }\n",
              "</style>\n",
              "<table border=\"1\" class=\"dataframe\">\n",
              "  <thead>\n",
              "    <tr style=\"text-align: right;\">\n",
              "      <th></th>\n",
              "      <th>O3</th>\n",
              "      <th>NO2</th>\n",
              "      <th>CO</th>\n",
              "      <th>SO2</th>\n",
              "      <th>TEMP</th>\n",
              "      <th>RAIN</th>\n",
              "      <th>WIND</th>\n",
              "      <th>WIND_DIR</th>\n",
              "      <th>HUMIDITY</th>\n",
              "      <th>ATM_PRESS</th>\n",
              "      <th>SNOW</th>\n",
              "      <th>CLOUD</th>\n",
              "    </tr>\n",
              "  </thead>\n",
              "  <tbody>\n",
              "    <tr>\n",
              "      <th>155</th>\n",
              "      <td>0.007</td>\n",
              "      <td>0.039</td>\n",
              "      <td>0.6</td>\n",
              "      <td>0.004</td>\n",
              "      <td>-0.025000</td>\n",
              "      <td>0.000000</td>\n",
              "      <td>1.466667</td>\n",
              "      <td>181.666667</td>\n",
              "      <td>58.083333</td>\n",
              "      <td>1014.408333</td>\n",
              "      <td>0.00</td>\n",
              "      <td>5.583333</td>\n",
              "    </tr>\n",
              "    <tr>\n",
              "      <th>101</th>\n",
              "      <td>0.011</td>\n",
              "      <td>0.040</td>\n",
              "      <td>0.5</td>\n",
              "      <td>0.003</td>\n",
              "      <td>14.779167</td>\n",
              "      <td>0.000000</td>\n",
              "      <td>1.266667</td>\n",
              "      <td>279.583333</td>\n",
              "      <td>60.333333</td>\n",
              "      <td>1006.450000</td>\n",
              "      <td>0.00</td>\n",
              "      <td>8.583333</td>\n",
              "    </tr>\n",
              "    <tr>\n",
              "      <th>309</th>\n",
              "      <td>0.022</td>\n",
              "      <td>0.025</td>\n",
              "      <td>0.5</td>\n",
              "      <td>0.003</td>\n",
              "      <td>16.183333</td>\n",
              "      <td>0.000000</td>\n",
              "      <td>2.012500</td>\n",
              "      <td>184.583333</td>\n",
              "      <td>67.625000</td>\n",
              "      <td>1001.445833</td>\n",
              "      <td>0.00</td>\n",
              "      <td>5.416667</td>\n",
              "    </tr>\n",
              "    <tr>\n",
              "      <th>218</th>\n",
              "      <td>0.019</td>\n",
              "      <td>0.024</td>\n",
              "      <td>0.5</td>\n",
              "      <td>0.003</td>\n",
              "      <td>-1.416667</td>\n",
              "      <td>0.566667</td>\n",
              "      <td>2.858333</td>\n",
              "      <td>225.833333</td>\n",
              "      <td>52.250000</td>\n",
              "      <td>1015.779167</td>\n",
              "      <td>0.62</td>\n",
              "      <td>4.083333</td>\n",
              "    </tr>\n",
              "    <tr>\n",
              "      <th>87</th>\n",
              "      <td>0.013</td>\n",
              "      <td>0.042</td>\n",
              "      <td>0.6</td>\n",
              "      <td>0.003</td>\n",
              "      <td>22.729167</td>\n",
              "      <td>0.000000</td>\n",
              "      <td>1.708333</td>\n",
              "      <td>259.166667</td>\n",
              "      <td>59.625000</td>\n",
              "      <td>1013.495833</td>\n",
              "      <td>0.00</td>\n",
              "      <td>8.125000</td>\n",
              "    </tr>\n",
              "  </tbody>\n",
              "</table>\n",
              "</div>\n",
              "      <button class=\"colab-df-convert\" onclick=\"convertToInteractive('df-c55cd1b0-bafc-4808-8fd6-0b48a3e5f741')\"\n",
              "              title=\"Convert this dataframe to an interactive table.\"\n",
              "              style=\"display:none;\">\n",
              "        \n",
              "  <svg xmlns=\"http://www.w3.org/2000/svg\" height=\"24px\"viewBox=\"0 0 24 24\"\n",
              "       width=\"24px\">\n",
              "    <path d=\"M0 0h24v24H0V0z\" fill=\"none\"/>\n",
              "    <path d=\"M18.56 5.44l.94 2.06.94-2.06 2.06-.94-2.06-.94-.94-2.06-.94 2.06-2.06.94zm-11 1L8.5 8.5l.94-2.06 2.06-.94-2.06-.94L8.5 2.5l-.94 2.06-2.06.94zm10 10l.94 2.06.94-2.06 2.06-.94-2.06-.94-.94-2.06-.94 2.06-2.06.94z\"/><path d=\"M17.41 7.96l-1.37-1.37c-.4-.4-.92-.59-1.43-.59-.52 0-1.04.2-1.43.59L10.3 9.45l-7.72 7.72c-.78.78-.78 2.05 0 2.83L4 21.41c.39.39.9.59 1.41.59.51 0 1.02-.2 1.41-.59l7.78-7.78 2.81-2.81c.8-.78.8-2.07 0-2.86zM5.41 20L4 18.59l7.72-7.72 1.47 1.35L5.41 20z\"/>\n",
              "  </svg>\n",
              "      </button>\n",
              "      \n",
              "  <style>\n",
              "    .colab-df-container {\n",
              "      display:flex;\n",
              "      flex-wrap:wrap;\n",
              "      gap: 12px;\n",
              "    }\n",
              "\n",
              "    .colab-df-convert {\n",
              "      background-color: #E8F0FE;\n",
              "      border: none;\n",
              "      border-radius: 50%;\n",
              "      cursor: pointer;\n",
              "      display: none;\n",
              "      fill: #1967D2;\n",
              "      height: 32px;\n",
              "      padding: 0 0 0 0;\n",
              "      width: 32px;\n",
              "    }\n",
              "\n",
              "    .colab-df-convert:hover {\n",
              "      background-color: #E2EBFA;\n",
              "      box-shadow: 0px 1px 2px rgba(60, 64, 67, 0.3), 0px 1px 3px 1px rgba(60, 64, 67, 0.15);\n",
              "      fill: #174EA6;\n",
              "    }\n",
              "\n",
              "    [theme=dark] .colab-df-convert {\n",
              "      background-color: #3B4455;\n",
              "      fill: #D2E3FC;\n",
              "    }\n",
              "\n",
              "    [theme=dark] .colab-df-convert:hover {\n",
              "      background-color: #434B5C;\n",
              "      box-shadow: 0px 1px 3px 1px rgba(0, 0, 0, 0.15);\n",
              "      filter: drop-shadow(0px 1px 2px rgba(0, 0, 0, 0.3));\n",
              "      fill: #FFFFFF;\n",
              "    }\n",
              "  </style>\n",
              "\n",
              "      <script>\n",
              "        const buttonEl =\n",
              "          document.querySelector('#df-c55cd1b0-bafc-4808-8fd6-0b48a3e5f741 button.colab-df-convert');\n",
              "        buttonEl.style.display =\n",
              "          google.colab.kernel.accessAllowed ? 'block' : 'none';\n",
              "\n",
              "        async function convertToInteractive(key) {\n",
              "          const element = document.querySelector('#df-c55cd1b0-bafc-4808-8fd6-0b48a3e5f741');\n",
              "          const dataTable =\n",
              "            await google.colab.kernel.invokeFunction('convertToInteractive',\n",
              "                                                     [key], {});\n",
              "          if (!dataTable) return;\n",
              "\n",
              "          const docLinkHtml = 'Like what you see? Visit the ' +\n",
              "            '<a target=\"_blank\" href=https://colab.research.google.com/notebooks/data_table.ipynb>data table notebook</a>'\n",
              "            + ' to learn more about interactive tables.';\n",
              "          element.innerHTML = '';\n",
              "          dataTable['output_type'] = 'display_data';\n",
              "          await google.colab.output.renderOutput(dataTable, element);\n",
              "          const docLink = document.createElement('div');\n",
              "          docLink.innerHTML = docLinkHtml;\n",
              "          element.appendChild(docLink);\n",
              "        }\n",
              "      </script>\n",
              "    </div>\n",
              "  </div>\n",
              "  "
            ]
          },
          "metadata": {},
          "execution_count": 16
        }
      ]
    },
    {
      "cell_type": "code",
      "source": [
        "print(df_test_y.shape)\n",
        "df_test_y.head()"
      ],
      "metadata": {
        "id": "QrIaW2nKROLm",
        "outputId": "fe58d3db-379c-4179-fcc3-2436ff15ecf4",
        "colab": {
          "base_uri": "https://localhost:8080/"
        }
      },
      "execution_count": null,
      "outputs": [
        {
          "output_type": "stream",
          "name": "stdout",
          "text": [
            "(110,)\n"
          ]
        },
        {
          "output_type": "execute_result",
          "data": {
            "text/plain": [
              "155    26.0\n",
              "101    26.0\n",
              "309    29.0\n",
              "218    23.0\n",
              "87     27.0\n",
              "Name: PM10, dtype: float64"
            ]
          },
          "metadata": {},
          "execution_count": 17
        }
      ]
    },
    {
      "cell_type": "markdown",
      "source": [
        "### **이상치 확인하기**\n",
        "- 확인은 진행했으나, 이상치 제거 과정에서 진전이 생기지 않아 완벽하게 마무리하지는 못했습니다 ㅠㅠ"
      ],
      "metadata": {
        "id": "dYuwweg1dZsO"
      }
    },
    {
      "cell_type": "code",
      "source": [
        "sns.boxplot(df_raw_x['CO'])"
      ],
      "metadata": {
        "id": "bQ-904NBTVPN",
        "outputId": "f29adbd5-61ff-4a54-f900-be5e1f20d558",
        "colab": {
          "base_uri": "https://localhost:8080/",
          "height": 353
        }
      },
      "execution_count": null,
      "outputs": [
        {
          "output_type": "stream",
          "name": "stderr",
          "text": [
            "/usr/local/lib/python3.7/dist-packages/seaborn/_decorators.py:43: FutureWarning: Pass the following variable as a keyword arg: x. From version 0.12, the only valid positional argument will be `data`, and passing other arguments without an explicit keyword will result in an error or misinterpretation.\n",
            "  FutureWarning\n"
          ]
        },
        {
          "output_type": "execute_result",
          "data": {
            "text/plain": [
              "<matplotlib.axes._subplots.AxesSubplot at 0x7fa8364e57d0>"
            ]
          },
          "metadata": {},
          "execution_count": 14
        },
        {
          "output_type": "display_data",
          "data": {
            "text/plain": [
              "<Figure size 432x288 with 1 Axes>"
            ],
            "image/png": "[encoded data removed]"
          },
          "metadata": {
            "needs_background": "light"
          }
        }
      ]
    },
    {
      "cell_type": "code",
      "source": [
        "sns.boxplot(df_raw_x['SO2'])"
      ],
      "metadata": {
        "id": "LucctXoAUkx8",
        "outputId": "6a48aaca-de6e-4f44-8ebc-a0f71bcec020",
        "colab": {
          "base_uri": "https://localhost:8080/",
          "height": 353
        }
      },
      "execution_count": null,
      "outputs": [
        {
          "output_type": "stream",
          "name": "stderr",
          "text": [
            "/usr/local/lib/python3.7/dist-packages/seaborn/_decorators.py:43: FutureWarning: Pass the following variable as a keyword arg: x. From version 0.12, the only valid positional argument will be `data`, and passing other arguments without an explicit keyword will result in an error or misinterpretation.\n",
            "  FutureWarning\n"
          ]
        },
        {
          "output_type": "execute_result",
          "data": {
            "text/plain": [
              "<matplotlib.axes._subplots.AxesSubplot at 0x7fa836528fd0>"
            ]
          },
          "metadata": {},
          "execution_count": 15
        },
        {
          "output_type": "display_data",
          "data": {
            "text/plain": [
              "<Figure size 432x288 with 1 Axes>"
            ],
            "image/png": "[encoded data removed]"
          },
          "metadata": {
            "needs_background": "light"
          }
        }
      ]
    },
    {
      "cell_type": "code",
      "source": [
        "sns.boxplot(df_raw_x['O3'])"
      ],
      "metadata": {
        "id": "ygzlCjbDUwVH",
        "outputId": "b64d659e-c149-4ea4-ffeb-4561942be6dc",
        "colab": {
          "base_uri": "https://localhost:8080/",
          "height": 353
        }
      },
      "execution_count": null,
      "outputs": [
        {
          "output_type": "stream",
          "name": "stderr",
          "text": [
            "/usr/local/lib/python3.7/dist-packages/seaborn/_decorators.py:43: FutureWarning: Pass the following variable as a keyword arg: x. From version 0.12, the only valid positional argument will be `data`, and passing other arguments without an explicit keyword will result in an error or misinterpretation.\n",
            "  FutureWarning\n"
          ]
        },
        {
          "output_type": "execute_result",
          "data": {
            "text/plain": [
              "<matplotlib.axes._subplots.AxesSubplot at 0x7fa835f92790>"
            ]
          },
          "metadata": {},
          "execution_count": 16
        },
        {
          "output_type": "display_data",
          "data": {
            "text/plain": [
              "<Figure size 432x288 with 1 Axes>"
            ],
            "image/png": "[encoded data removed]"
          },
          "metadata": {
            "needs_background": "light"
          }
        }
      ]
    },
    {
      "cell_type": "code",
      "source": [
        "sns.boxplot(df_raw_x['NO2'])"
      ],
      "metadata": {
        "id": "5PodSwyxUuyY",
        "outputId": "db82a5fe-3efe-49b3-eef6-24f20322a876",
        "colab": {
          "base_uri": "https://localhost:8080/",
          "height": 353
        }
      },
      "execution_count": null,
      "outputs": [
        {
          "output_type": "stream",
          "name": "stderr",
          "text": [
            "/usr/local/lib/python3.7/dist-packages/seaborn/_decorators.py:43: FutureWarning: Pass the following variable as a keyword arg: x. From version 0.12, the only valid positional argument will be `data`, and passing other arguments without an explicit keyword will result in an error or misinterpretation.\n",
            "  FutureWarning\n"
          ]
        },
        {
          "output_type": "execute_result",
          "data": {
            "text/plain": [
              "<matplotlib.axes._subplots.AxesSubplot at 0x7fa835f489d0>"
            ]
          },
          "metadata": {},
          "execution_count": 17
        },
        {
          "output_type": "display_data",
          "data": {
            "text/plain": [
              "<Figure size 432x288 with 1 Axes>"
            ],
            "image/png": "[encoded data removed]"
          },
          "metadata": {
            "needs_background": "light"
          }
        }
      ]
    },
    {
      "cell_type": "code",
      "source": [
        "sns.boxplot(df_raw_x['TEMP'])"
      ],
      "metadata": {
        "id": "1Du1S4PjU8s0",
        "outputId": "76ab1603-68d3-4501-b03a-5b8602982f5c",
        "colab": {
          "base_uri": "https://localhost:8080/",
          "height": 353
        }
      },
      "execution_count": null,
      "outputs": [
        {
          "output_type": "stream",
          "name": "stderr",
          "text": [
            "/usr/local/lib/python3.7/dist-packages/seaborn/_decorators.py:43: FutureWarning: Pass the following variable as a keyword arg: x. From version 0.12, the only valid positional argument will be `data`, and passing other arguments without an explicit keyword will result in an error or misinterpretation.\n",
            "  FutureWarning\n"
          ]
        },
        {
          "output_type": "execute_result",
          "data": {
            "text/plain": [
              "<matplotlib.axes._subplots.AxesSubplot at 0x7fa835eff690>"
            ]
          },
          "metadata": {},
          "execution_count": 18
        },
        {
          "output_type": "display_data",
          "data": {
            "text/plain": [
              "<Figure size 432x288 with 1 Axes>"
            ],
            "image/png": "[encoded data removed]"
          },
          "metadata": {
            "needs_background": "light"
          }
        }
      ]
    },
    {
      "cell_type": "code",
      "source": [
        "sns.boxplot(df_raw_x['CLOUD'])"
      ],
      "metadata": {
        "id": "UYA_8QMdU9n2",
        "outputId": "d1ed4623-6126-47a1-d3d6-5176808db876",
        "colab": {
          "base_uri": "https://localhost:8080/",
          "height": 353
        }
      },
      "execution_count": null,
      "outputs": [
        {
          "output_type": "stream",
          "name": "stderr",
          "text": [
            "/usr/local/lib/python3.7/dist-packages/seaborn/_decorators.py:43: FutureWarning: Pass the following variable as a keyword arg: x. From version 0.12, the only valid positional argument will be `data`, and passing other arguments without an explicit keyword will result in an error or misinterpretation.\n",
            "  FutureWarning\n"
          ]
        },
        {
          "output_type": "execute_result",
          "data": {
            "text/plain": [
              "<matplotlib.axes._subplots.AxesSubplot at 0x7fa835e97fd0>"
            ]
          },
          "metadata": {},
          "execution_count": 19
        },
        {
          "output_type": "display_data",
          "data": {
            "text/plain": [
              "<Figure size 432x288 with 1 Axes>"
            ],
            "image/png": "[encoded data removed]"
          },
          "metadata": {
            "needs_background": "light"
          }
        }
      ]
    },
    {
      "cell_type": "markdown",
      "source": [
        "- CO, SO2, O3, NO2에서 이상치가 각각 2개, 3개, 2개, 1개 발견된다.\n",
        "- TEMP와 CLOUD의 데이터는 이상치 없이 모두 사분위수 범위 내에 분포하고 있다."
      ],
      "metadata": {
        "id": "kMz-MMTHVKke"
      }
    },
    {
      "cell_type": "code",
      "source": [
        "q1, q3 = np.percentile(df_raw_x['O3'], [25, 75])\n",
        "IQR = q3 - q1\n",
        "lower = q1 - 1.5 * IQR\n",
        "upper = q3 + 1.5 * IQR"
      ],
      "metadata": {
        "id": "-_HuFO05bN2i"
      },
      "execution_count": null,
      "outputs": []
    },
    {
      "cell_type": "code",
      "source": [
        "for cols in df_raw_x.columns :\n",
        "\n",
        "    outlier_idx = pd.DataFrame()\n",
        "\n",
        "    outlier = pd.DataFrame(df_raw_x.loc[(df_raw_x[cols] < lower) | (df_raw_x[cols] > upper), cols])\n",
        "    result = pd.concat([outlier_idx, outlier], axis = 0)\n",
        "\n",
        "result"
      ],
      "metadata": {
        "id": "0J9jcB2gbjIa",
        "outputId": "a135a4f6-547e-4774-8af1-9f128b0d5e75",
        "colab": {
          "base_uri": "https://localhost:8080/",
          "height": 424
        }
      },
      "execution_count": null,
      "outputs": [
        {
          "output_type": "execute_result",
          "data": {
            "text/plain": [
              "         CLOUD\n",
              "0     5.695652\n",
              "1     3.833333\n",
              "2     6.291667\n",
              "3     2.541667\n",
              "4     3.916667\n",
              "..         ...\n",
              "361   8.727273\n",
              "362   6.208333\n",
              "363   2.625000\n",
              "364   7.583333\n",
              "365  10.000000\n",
              "\n",
              "[346 rows x 1 columns]"
            ],
            "text/html": [
              "\n",
              "  <div id=\"df-559cd438-18d9-4e00-a90f-748427445723\">\n",
              "    <div class=\"colab-df-container\">\n",
              "      <div>\n",
              "<style scoped>\n",
              "    .dataframe tbody tr th:only-of-type {\n",
              "        vertical-align: middle;\n",
              "    }\n",
              "\n",
              "    .dataframe tbody tr th {\n",
              "        vertical-align: top;\n",
              "    }\n",
              "\n",
              "    .dataframe thead th {\n",
              "        text-align: right;\n",
              "    }\n",
              "</style>\n",
              "<table border=\"1\" class=\"dataframe\">\n",
              "  <thead>\n",
              "    <tr style=\"text-align: right;\">\n",
              "      <th></th>\n",
              "      <th>CLOUD</th>\n",
              "    </tr>\n",
              "  </thead>\n",
              "  <tbody>\n",
              "    <tr>\n",
              "      <th>0</th>\n",
              "      <td>5.695652</td>\n",
              "    </tr>\n",
              "    <tr>\n",
              "      <th>1</th>\n",
              "      <td>3.833333</td>\n",
              "    </tr>\n",
              "    <tr>\n",
              "      <th>2</th>\n",
              "      <td>6.291667</td>\n",
              "    </tr>\n",
              "    <tr>\n",
              "      <th>3</th>\n",
              "      <td>2.541667</td>\n",
              "    </tr>\n",
              "    <tr>\n",
              "      <th>4</th>\n",
              "      <td>3.916667</td>\n",
              "    </tr>\n",
              "    <tr>\n",
              "      <th>...</th>\n",
              "      <td>...</td>\n",
              "    </tr>\n",
              "    <tr>\n",
              "      <th>361</th>\n",
              "      <td>8.727273</td>\n",
              "    </tr>\n",
              "    <tr>\n",
              "      <th>362</th>\n",
              "      <td>6.208333</td>\n",
              "    </tr>\n",
              "    <tr>\n",
              "      <th>363</th>\n",
              "      <td>2.625000</td>\n",
              "    </tr>\n",
              "    <tr>\n",
              "      <th>364</th>\n",
              "      <td>7.583333</td>\n",
              "    </tr>\n",
              "    <tr>\n",
              "      <th>365</th>\n",
              "      <td>10.000000</td>\n",
              "    </tr>\n",
              "  </tbody>\n",
              "</table>\n",
              "<p>346 rows × 1 columns</p>\n",
              "</div>\n",
              "      <button class=\"colab-df-convert\" onclick=\"convertToInteractive('df-559cd438-18d9-4e00-a90f-748427445723')\"\n",
              "              title=\"Convert this dataframe to an interactive table.\"\n",
              "              style=\"display:none;\">\n",
              "        \n",
              "  <svg xmlns=\"http://www.w3.org/2000/svg\" height=\"24px\"viewBox=\"0 0 24 24\"\n",
              "       width=\"24px\">\n",
              "    <path d=\"M0 0h24v24H0V0z\" fill=\"none\"/>\n",
              "    <path d=\"M18.56 5.44l.94 2.06.94-2.06 2.06-.94-2.06-.94-.94-2.06-.94 2.06-2.06.94zm-11 1L8.5 8.5l.94-2.06 2.06-.94-2.06-.94L8.5 2.5l-.94 2.06-2.06.94zm10 10l.94 2.06.94-2.06 2.06-.94-2.06-.94-.94-2.06-.94 2.06-2.06.94z\"/><path d=\"M17.41 7.96l-1.37-1.37c-.4-.4-.92-.59-1.43-.59-.52 0-1.04.2-1.43.59L10.3 9.45l-7.72 7.72c-.78.78-.78 2.05 0 2.83L4 21.41c.39.39.9.59 1.41.59.51 0 1.02-.2 1.41-.59l7.78-7.78 2.81-2.81c.8-.78.8-2.07 0-2.86zM5.41 20L4 18.59l7.72-7.72 1.47 1.35L5.41 20z\"/>\n",
              "  </svg>\n",
              "      </button>\n",
              "      \n",
              "  <style>\n",
              "    .colab-df-container {\n",
              "      display:flex;\n",
              "      flex-wrap:wrap;\n",
              "      gap: 12px;\n",
              "    }\n",
              "\n",
              "    .colab-df-convert {\n",
              "      background-color: #E8F0FE;\n",
              "      border: none;\n",
              "      border-radius: 50%;\n",
              "      cursor: pointer;\n",
              "      display: none;\n",
              "      fill: #1967D2;\n",
              "      height: 32px;\n",
              "      padding: 0 0 0 0;\n",
              "      width: 32px;\n",
              "    }\n",
              "\n",
              "    .colab-df-convert:hover {\n",
              "      background-color: #E2EBFA;\n",
              "      box-shadow: 0px 1px 2px rgba(60, 64, 67, 0.3), 0px 1px 3px 1px rgba(60, 64, 67, 0.15);\n",
              "      fill: #174EA6;\n",
              "    }\n",
              "\n",
              "    [theme=dark] .colab-df-convert {\n",
              "      background-color: #3B4455;\n",
              "      fill: #D2E3FC;\n",
              "    }\n",
              "\n",
              "    [theme=dark] .colab-df-convert:hover {\n",
              "      background-color: #434B5C;\n",
              "      box-shadow: 0px 1px 3px 1px rgba(0, 0, 0, 0.15);\n",
              "      filter: drop-shadow(0px 1px 2px rgba(0, 0, 0, 0.3));\n",
              "      fill: #FFFFFF;\n",
              "    }\n",
              "  </style>\n",
              "\n",
              "      <script>\n",
              "        const buttonEl =\n",
              "          document.querySelector('#df-559cd438-18d9-4e00-a90f-748427445723 button.colab-df-convert');\n",
              "        buttonEl.style.display =\n",
              "          google.colab.kernel.accessAllowed ? 'block' : 'none';\n",
              "\n",
              "        async function convertToInteractive(key) {\n",
              "          const element = document.querySelector('#df-559cd438-18d9-4e00-a90f-748427445723');\n",
              "          const dataTable =\n",
              "            await google.colab.kernel.invokeFunction('convertToInteractive',\n",
              "                                                     [key], {});\n",
              "          if (!dataTable) return;\n",
              "\n",
              "          const docLinkHtml = 'Like what you see? Visit the ' +\n",
              "            '<a target=\"_blank\" href=https://colab.research.google.com/notebooks/data_table.ipynb>data table notebook</a>'\n",
              "            + ' to learn more about interactive tables.';\n",
              "          element.innerHTML = '';\n",
              "          dataTable['output_type'] = 'display_data';\n",
              "          await google.colab.output.renderOutput(dataTable, element);\n",
              "          const docLink = document.createElement('div');\n",
              "          docLink.innerHTML = docLinkHtml;\n",
              "          element.appendChild(docLink);\n",
              "        }\n",
              "      </script>\n",
              "    </div>\n",
              "  </div>\n",
              "  "
            ]
          },
          "metadata": {},
          "execution_count": 21
        }
      ]
    },
    {
      "cell_type": "markdown",
      "source": [
        "# **VITAL FEW : 미세먼지 발생에 영향을 미치는 주요 요인 선정하기**"
      ],
      "metadata": {
        "id": "eWn8zjOVfaco"
      }
    },
    {
      "cell_type": "markdown",
      "source": [
        "### **변수 시각화하기**"
      ],
      "metadata": {
        "id": "n5S4qlA77BVq"
      }
    },
    {
      "cell_type": "markdown",
      "source": [
        "**CO, SO2, O3, NO2의 분포 확인하기**"
      ],
      "metadata": {
        "id": "rJXp4zol-cWu"
      }
    },
    {
      "cell_type": "code",
      "source": [
        "fig, axes = plt.subplots(2, 2, figsize = (15,10))\n",
        "\n",
        "axes[0,0].hist(df_raw_x['CO'], label = 'CO', alpha = 0.7)\n",
        "axes[0,0].set_xlabel('CO')\n",
        "axes[0,0].set_ylabel('count')\n",
        "\n",
        "axes[0,1].hist(df_raw_x['SO2'], label = 'SO2', alpha = 0.7)\n",
        "axes[0,1].set_xlabel('SO2')\n",
        "axes[0,1].set_ylabel('count')\n",
        "\n",
        "axes[1,0].hist(df_raw_x['O3'], label = 'O3', alpha = 0.7)\n",
        "axes[1,0].set_xlabel('O3')\n",
        "axes[1,0].set_ylabel('count')\n",
        "\n",
        "axes[1,1].hist(df_raw_x['NO2'], label = 'NO2', alpha = 0.7)\n",
        "axes[1,1].set_xlabel('NO2')\n",
        "axes[1,1].set_ylabel('count')"
      ],
      "metadata": {
        "colab": {
          "base_uri": "https://localhost:8080/",
          "height": 624
        },
        "id": "i7zK8utZ8RPc",
        "outputId": "385f0a17-05ed-4760-8aab-f59a7f632165"
      },
      "execution_count": null,
      "outputs": [
        {
          "output_type": "execute_result",
          "data": {
            "text/plain": [
              "Text(0, 0.5, 'count')"
            ]
          },
          "metadata": {},
          "execution_count": 25
        },
        {
          "output_type": "display_data",
          "data": {
            "text/plain": [
              "<Figure size 1080x720 with 4 Axes>"
            ],
            "image/png": "[encoded data removed]"
          },
          "metadata": {
            "needs_background": "light"
          }
        }
      ]
    },
    {
      "cell_type": "markdown",
      "source": [
        "- O3, NO2 의 데이터는 왼쪽으로 치우쳐 있는 것으로 보아 왜도가 양수일 것으로 예상된다."
      ],
      "metadata": {
        "id": "5_EZZY7TdO0K"
      }
    },
    {
      "cell_type": "markdown",
      "source": [
        "## **변수 중요도 확인하기**"
      ],
      "metadata": {
        "id": "RMYENfnwO5ZW"
      }
    },
    {
      "cell_type": "markdown",
      "source": [
        "#### **의사결정나무(Decision Tree)**"
      ],
      "metadata": {
        "id": "sUtAEo-Ii8gh"
      }
    },
    {
      "cell_type": "code",
      "source": [
        "dt_regressor = DecisionTreeRegressor()\n",
        "dt_regressor.fit(df_train_x, df_train_y)\n",
        "\n",
        "print('Model Score on train set : {:.3f}'.format(dt_regressor.score(df_train_x, df_train_y)))\n",
        "print('Model Score on test set : {:.3f}'.format(dt_regressor.score(df_test_x, df_test_y)))"
      ],
      "metadata": {
        "id": "Qyg83RO7O92K",
        "outputId": "14ebc602-ee67-48be-902d-4ee4f351ce1b",
        "colab": {
          "base_uri": "https://localhost:8080/"
        }
      },
      "execution_count": null,
      "outputs": [
        {
          "output_type": "stream",
          "name": "stdout",
          "text": [
            "Model Score on train set : 1.000\n",
            "Model Score on test set : -0.269\n"
          ]
        }
      ]
    },
    {
      "cell_type": "code",
      "source": [
        "dt_importance = pd.DataFrame()\n",
        "dt_importance['Feature'] = df_train_x.columns\n",
        "dt_importance['Importance'] = dt_regressor.feature_importances_\n",
        "\n",
        "dt_importance.sort_values('Importance', ascending = False, inplace = True)\n",
        "dt_importance.round(3).head()"
      ],
      "metadata": {
        "id": "0uQ94xwSU30k",
        "outputId": "87fa58e1-caaa-4c33-be15-35273182e449",
        "colab": {
          "base_uri": "https://localhost:8080/",
          "height": 206
        }
      },
      "execution_count": null,
      "outputs": [
        {
          "output_type": "execute_result",
          "data": {
            "text/plain": [
              "      Feature  Importance\n",
              "2          CO       0.450\n",
              "11      CLOUD       0.102\n",
              "9   ATM_PRESS       0.089\n",
              "0          O3       0.081\n",
              "4        TEMP       0.079"
            ],
            "text/html": [
              "\n",
              "  <div id=\"df-33a2e876-f99d-48b2-b417-d2fbacc9b0f6\">\n",
              "    <div class=\"colab-df-container\">\n",
              "      <div>\n",
              "<style scoped>\n",
              "    .dataframe tbody tr th:only-of-type {\n",
              "        vertical-align: middle;\n",
              "    }\n",
              "\n",
              "    .dataframe tbody tr th {\n",
              "        vertical-align: top;\n",
              "    }\n",
              "\n",
              "    .dataframe thead th {\n",
              "        text-align: right;\n",
              "    }\n",
              "</style>\n",
              "<table border=\"1\" class=\"dataframe\">\n",
              "  <thead>\n",
              "    <tr style=\"text-align: right;\">\n",
              "      <th></th>\n",
              "      <th>Feature</th>\n",
              "      <th>Importance</th>\n",
              "    </tr>\n",
              "  </thead>\n",
              "  <tbody>\n",
              "    <tr>\n",
              "      <th>2</th>\n",
              "      <td>CO</td>\n",
              "      <td>0.450</td>\n",
              "    </tr>\n",
              "    <tr>\n",
              "      <th>11</th>\n",
              "      <td>CLOUD</td>\n",
              "      <td>0.102</td>\n",
              "    </tr>\n",
              "    <tr>\n",
              "      <th>9</th>\n",
              "      <td>ATM_PRESS</td>\n",
              "      <td>0.089</td>\n",
              "    </tr>\n",
              "    <tr>\n",
              "      <th>0</th>\n",
              "      <td>O3</td>\n",
              "      <td>0.081</td>\n",
              "    </tr>\n",
              "    <tr>\n",
              "      <th>4</th>\n",
              "      <td>TEMP</td>\n",
              "      <td>0.079</td>\n",
              "    </tr>\n",
              "  </tbody>\n",
              "</table>\n",
              "</div>\n",
              "      <button class=\"colab-df-convert\" onclick=\"convertToInteractive('df-33a2e876-f99d-48b2-b417-d2fbacc9b0f6')\"\n",
              "              title=\"Convert this dataframe to an interactive table.\"\n",
              "              style=\"display:none;\">\n",
              "        \n",
              "  <svg xmlns=\"http://www.w3.org/2000/svg\" height=\"24px\"viewBox=\"0 0 24 24\"\n",
              "       width=\"24px\">\n",
              "    <path d=\"M0 0h24v24H0V0z\" fill=\"none\"/>\n",
              "    <path d=\"M18.56 5.44l.94 2.06.94-2.06 2.06-.94-2.06-.94-.94-2.06-.94 2.06-2.06.94zm-11 1L8.5 8.5l.94-2.06 2.06-.94-2.06-.94L8.5 2.5l-.94 2.06-2.06.94zm10 10l.94 2.06.94-2.06 2.06-.94-2.06-.94-.94-2.06-.94 2.06-2.06.94z\"/><path d=\"M17.41 7.96l-1.37-1.37c-.4-.4-.92-.59-1.43-.59-.52 0-1.04.2-1.43.59L10.3 9.45l-7.72 7.72c-.78.78-.78 2.05 0 2.83L4 21.41c.39.39.9.59 1.41.59.51 0 1.02-.2 1.41-.59l7.78-7.78 2.81-2.81c.8-.78.8-2.07 0-2.86zM5.41 20L4 18.59l7.72-7.72 1.47 1.35L5.41 20z\"/>\n",
              "  </svg>\n",
              "      </button>\n",
              "      \n",
              "  <style>\n",
              "    .colab-df-container {\n",
              "      display:flex;\n",
              "      flex-wrap:wrap;\n",
              "      gap: 12px;\n",
              "    }\n",
              "\n",
              "    .colab-df-convert {\n",
              "      background-color: #E8F0FE;\n",
              "      border: none;\n",
              "      border-radius: 50%;\n",
              "      cursor: pointer;\n",
              "      display: none;\n",
              "      fill: #1967D2;\n",
              "      height: 32px;\n",
              "      padding: 0 0 0 0;\n",
              "      width: 32px;\n",
              "    }\n",
              "\n",
              "    .colab-df-convert:hover {\n",
              "      background-color: #E2EBFA;\n",
              "      box-shadow: 0px 1px 2px rgba(60, 64, 67, 0.3), 0px 1px 3px 1px rgba(60, 64, 67, 0.15);\n",
              "      fill: #174EA6;\n",
              "    }\n",
              "\n",
              "    [theme=dark] .colab-df-convert {\n",
              "      background-color: #3B4455;\n",
              "      fill: #D2E3FC;\n",
              "    }\n",
              "\n",
              "    [theme=dark] .colab-df-convert:hover {\n",
              "      background-color: #434B5C;\n",
              "      box-shadow: 0px 1px 3px 1px rgba(0, 0, 0, 0.15);\n",
              "      filter: drop-shadow(0px 1px 2px rgba(0, 0, 0, 0.3));\n",
              "      fill: #FFFFFF;\n",
              "    }\n",
              "  </style>\n",
              "\n",
              "      <script>\n",
              "        const buttonEl =\n",
              "          document.querySelector('#df-33a2e876-f99d-48b2-b417-d2fbacc9b0f6 button.colab-df-convert');\n",
              "        buttonEl.style.display =\n",
              "          google.colab.kernel.accessAllowed ? 'block' : 'none';\n",
              "\n",
              "        async function convertToInteractive(key) {\n",
              "          const element = document.querySelector('#df-33a2e876-f99d-48b2-b417-d2fbacc9b0f6');\n",
              "          const dataTable =\n",
              "            await google.colab.kernel.invokeFunction('convertToInteractive',\n",
              "                                                     [key], {});\n",
              "          if (!dataTable) return;\n",
              "\n",
              "          const docLinkHtml = 'Like what you see? Visit the ' +\n",
              "            '<a target=\"_blank\" href=https://colab.research.google.com/notebooks/data_table.ipynb>data table notebook</a>'\n",
              "            + ' to learn more about interactive tables.';\n",
              "          element.innerHTML = '';\n",
              "          dataTable['output_type'] = 'display_data';\n",
              "          await google.colab.output.renderOutput(dataTable, element);\n",
              "          const docLink = document.createElement('div');\n",
              "          docLink.innerHTML = docLinkHtml;\n",
              "          element.appendChild(docLink);\n",
              "        }\n",
              "      </script>\n",
              "    </div>\n",
              "  </div>\n",
              "  "
            ]
          },
          "metadata": {},
          "execution_count": 19
        }
      ]
    },
    {
      "cell_type": "markdown",
      "source": [
        "**<모델 성능>**\n",
        "- 기본 의사결정나무는 train과 test 데이터에 대해 각각 100%, 7.8%의 성능을 보여주고 있다. \n",
        "- Train 데이터에 있어서 매우 과대적합인 것으로 확인되며, 이는 모델의 성능이 매우 좋지 않다는 점을 의미한다.\n",
        "\n",
        "\n",
        "**<변수 중요도>**\n",
        "- 의사결정나무 모델을 통해 변수 중요도를 추출해보았다. \n",
        "- CO가 0.450, CLOUD가 0.102, ATM_PRES가 0.089, O3이 0.081, 그리고 TEMP가 0.079의 변수 중요도를 보여주고 있다."
      ],
      "metadata": {
        "id": "NT4VZX0wRnvD"
      }
    },
    {
      "cell_type": "markdown",
      "source": [
        "#### **랜덤 포레스트 (Random Forest)**"
      ],
      "metadata": {
        "id": "Yic0KjVEjBBX"
      }
    },
    {
      "cell_type": "code",
      "source": [
        "rf_regressor = RandomForestRegressor()\n",
        "rf_regressor.fit(df_train_x, df_train_y)\n",
        "\n",
        "print('Model Score on train set : {:.3f}'.format(rf_regressor.score(df_train_x, df_train_y)))\n",
        "print('Model Score on test set : {:.3f}'.format(rf_regressor.score(df_test_x, df_test_y)))"
      ],
      "metadata": {
        "id": "BfiSgzgTStkE",
        "outputId": "16e553cf-8c2f-4c47-c876-4302ff85aa7d",
        "colab": {
          "base_uri": "https://localhost:8080/"
        }
      },
      "execution_count": null,
      "outputs": [
        {
          "output_type": "stream",
          "name": "stdout",
          "text": [
            "Model Score on train set : 0.921\n",
            "Model Score on test set : 0.381\n"
          ]
        }
      ]
    },
    {
      "cell_type": "code",
      "source": [
        "rf_importance = pd.DataFrame()\n",
        "rf_importance['Feature'] = df_train_x.columns\n",
        "rf_importance['Importance'] = rf_regressor.feature_importances_\n",
        "\n",
        "rf_importance.sort_values('Importance', ascending = False, inplace = True)\n",
        "rf_importance.round(3).head()"
      ],
      "metadata": {
        "id": "6bYs6XsVUkss",
        "outputId": "deb3d47c-ad02-4d3d-8f2c-16ff52bd145e",
        "colab": {
          "base_uri": "https://localhost:8080/",
          "height": 206
        }
      },
      "execution_count": null,
      "outputs": [
        {
          "output_type": "execute_result",
          "data": {
            "text/plain": [
              "   Feature  Importance\n",
              "2       CO       0.388\n",
              "0       O3       0.103\n",
              "4     TEMP       0.086\n",
              "11   CLOUD       0.082\n",
              "1      NO2       0.069"
            ],
            "text/html": [
              "\n",
              "  <div id=\"df-452f5453-135a-4f2e-9ab6-f7b25dd2ee44\">\n",
              "    <div class=\"colab-df-container\">\n",
              "      <div>\n",
              "<style scoped>\n",
              "    .dataframe tbody tr th:only-of-type {\n",
              "        vertical-align: middle;\n",
              "    }\n",
              "\n",
              "    .dataframe tbody tr th {\n",
              "        vertical-align: top;\n",
              "    }\n",
              "\n",
              "    .dataframe thead th {\n",
              "        text-align: right;\n",
              "    }\n",
              "</style>\n",
              "<table border=\"1\" class=\"dataframe\">\n",
              "  <thead>\n",
              "    <tr style=\"text-align: right;\">\n",
              "      <th></th>\n",
              "      <th>Feature</th>\n",
              "      <th>Importance</th>\n",
              "    </tr>\n",
              "  </thead>\n",
              "  <tbody>\n",
              "    <tr>\n",
              "      <th>2</th>\n",
              "      <td>CO</td>\n",
              "      <td>0.388</td>\n",
              "    </tr>\n",
              "    <tr>\n",
              "      <th>0</th>\n",
              "      <td>O3</td>\n",
              "      <td>0.103</td>\n",
              "    </tr>\n",
              "    <tr>\n",
              "      <th>4</th>\n",
              "      <td>TEMP</td>\n",
              "      <td>0.086</td>\n",
              "    </tr>\n",
              "    <tr>\n",
              "      <th>11</th>\n",
              "      <td>CLOUD</td>\n",
              "      <td>0.082</td>\n",
              "    </tr>\n",
              "    <tr>\n",
              "      <th>1</th>\n",
              "      <td>NO2</td>\n",
              "      <td>0.069</td>\n",
              "    </tr>\n",
              "  </tbody>\n",
              "</table>\n",
              "</div>\n",
              "      <button class=\"colab-df-convert\" onclick=\"convertToInteractive('df-452f5453-135a-4f2e-9ab6-f7b25dd2ee44')\"\n",
              "              title=\"Convert this dataframe to an interactive table.\"\n",
              "              style=\"display:none;\">\n",
              "        \n",
              "  <svg xmlns=\"http://www.w3.org/2000/svg\" height=\"24px\"viewBox=\"0 0 24 24\"\n",
              "       width=\"24px\">\n",
              "    <path d=\"M0 0h24v24H0V0z\" fill=\"none\"/>\n",
              "    <path d=\"M18.56 5.44l.94 2.06.94-2.06 2.06-.94-2.06-.94-.94-2.06-.94 2.06-2.06.94zm-11 1L8.5 8.5l.94-2.06 2.06-.94-2.06-.94L8.5 2.5l-.94 2.06-2.06.94zm10 10l.94 2.06.94-2.06 2.06-.94-2.06-.94-.94-2.06-.94 2.06-2.06.94z\"/><path d=\"M17.41 7.96l-1.37-1.37c-.4-.4-.92-.59-1.43-.59-.52 0-1.04.2-1.43.59L10.3 9.45l-7.72 7.72c-.78.78-.78 2.05 0 2.83L4 21.41c.39.39.9.59 1.41.59.51 0 1.02-.2 1.41-.59l7.78-7.78 2.81-2.81c.8-.78.8-2.07 0-2.86zM5.41 20L4 18.59l7.72-7.72 1.47 1.35L5.41 20z\"/>\n",
              "  </svg>\n",
              "      </button>\n",
              "      \n",
              "  <style>\n",
              "    .colab-df-container {\n",
              "      display:flex;\n",
              "      flex-wrap:wrap;\n",
              "      gap: 12px;\n",
              "    }\n",
              "\n",
              "    .colab-df-convert {\n",
              "      background-color: #E8F0FE;\n",
              "      border: none;\n",
              "      border-radius: 50%;\n",
              "      cursor: pointer;\n",
              "      display: none;\n",
              "      fill: #1967D2;\n",
              "      height: 32px;\n",
              "      padding: 0 0 0 0;\n",
              "      width: 32px;\n",
              "    }\n",
              "\n",
              "    .colab-df-convert:hover {\n",
              "      background-color: #E2EBFA;\n",
              "      box-shadow: 0px 1px 2px rgba(60, 64, 67, 0.3), 0px 1px 3px 1px rgba(60, 64, 67, 0.15);\n",
              "      fill: #174EA6;\n",
              "    }\n",
              "\n",
              "    [theme=dark] .colab-df-convert {\n",
              "      background-color: #3B4455;\n",
              "      fill: #D2E3FC;\n",
              "    }\n",
              "\n",
              "    [theme=dark] .colab-df-convert:hover {\n",
              "      background-color: #434B5C;\n",
              "      box-shadow: 0px 1px 3px 1px rgba(0, 0, 0, 0.15);\n",
              "      filter: drop-shadow(0px 1px 2px rgba(0, 0, 0, 0.3));\n",
              "      fill: #FFFFFF;\n",
              "    }\n",
              "  </style>\n",
              "\n",
              "      <script>\n",
              "        const buttonEl =\n",
              "          document.querySelector('#df-452f5453-135a-4f2e-9ab6-f7b25dd2ee44 button.colab-df-convert');\n",
              "        buttonEl.style.display =\n",
              "          google.colab.kernel.accessAllowed ? 'block' : 'none';\n",
              "\n",
              "        async function convertToInteractive(key) {\n",
              "          const element = document.querySelector('#df-452f5453-135a-4f2e-9ab6-f7b25dd2ee44');\n",
              "          const dataTable =\n",
              "            await google.colab.kernel.invokeFunction('convertToInteractive',\n",
              "                                                     [key], {});\n",
              "          if (!dataTable) return;\n",
              "\n",
              "          const docLinkHtml = 'Like what you see? Visit the ' +\n",
              "            '<a target=\"_blank\" href=https://colab.research.google.com/notebooks/data_table.ipynb>data table notebook</a>'\n",
              "            + ' to learn more about interactive tables.';\n",
              "          element.innerHTML = '';\n",
              "          dataTable['output_type'] = 'display_data';\n",
              "          await google.colab.output.renderOutput(dataTable, element);\n",
              "          const docLink = document.createElement('div');\n",
              "          docLink.innerHTML = docLinkHtml;\n",
              "          element.appendChild(docLink);\n",
              "        }\n",
              "      </script>\n",
              "    </div>\n",
              "  </div>\n",
              "  "
            ]
          },
          "metadata": {},
          "execution_count": 21
        }
      ]
    },
    {
      "cell_type": "markdown",
      "source": [
        "**<모델 성능>**\n",
        "- 기본 랜덤포레스트 예측 모델은 train과 test 데이터에 대해 각각 92.1%, 38.1%의 설명력을 갖는다.\n",
        "- 의사결정나무에 비해서는 과대적합의 경향성이 적어보이지만, 여전히 모델의 일반화 가능성은 높아 보이지 않는다.\n",
        "\n",
        "**<변수 중요도>**\n",
        "- CO가 0.388, O3이 0.013, TEMP가 0.086, CLOUD가 0.082, 그리고 NO2가 0.069의 변수 중요도를 가진다."
      ],
      "metadata": {
        "id": "oTLRRt2MjGY9"
      }
    },
    {
      "cell_type": "markdown",
      "source": [
        "#### **그래디언트 부스팅 (Gradient Boosting)**"
      ],
      "metadata": {
        "id": "5N1MZ2UUjtPQ"
      }
    },
    {
      "cell_type": "code",
      "source": [
        "gb_regressor = GradientBoostingRegressor()\n",
        "gb_regressor.fit(df_train_x, df_train_y)\n",
        "\n",
        "print('Model Score on train set : {:.3f}'.format(gb_regressor.score(df_train_x, df_train_y)))\n",
        "print('Model Score on test set : {:.3f}'.format(gb_regressor.score(df_test_x, df_test_y)))"
      ],
      "metadata": {
        "id": "i4wOD_LlS-u5",
        "outputId": "48e0feb5-0320-4ee9-d783-166a3386f171",
        "colab": {
          "base_uri": "https://localhost:8080/"
        }
      },
      "execution_count": null,
      "outputs": [
        {
          "output_type": "stream",
          "name": "stdout",
          "text": [
            "Model Score on train set : 0.933\n",
            "Model Score on test set : 0.364\n"
          ]
        }
      ]
    },
    {
      "cell_type": "code",
      "source": [
        "gb_importance = pd.DataFrame()\n",
        "gb_importance['Feature'] = df_train_x.columns\n",
        "gb_importance['Importance'] = gb_regressor.feature_importances_\n",
        "\n",
        "gb_importance.sort_values('Importance', ascending = False, inplace = True)\n",
        "gb_importance.round(3).head()"
      ],
      "metadata": {
        "id": "Tif24997TmZc",
        "outputId": "5038275d-2e1a-47dc-ffae-dada0b3ffad8",
        "colab": {
          "base_uri": "https://localhost:8080/",
          "height": 206
        }
      },
      "execution_count": null,
      "outputs": [
        {
          "output_type": "execute_result",
          "data": {
            "text/plain": [
              "     Feature  Importance\n",
              "2         CO       0.429\n",
              "0         O3       0.130\n",
              "4       TEMP       0.119\n",
              "11     CLOUD       0.084\n",
              "7   WIND_DIR       0.065"
            ],
            "text/html": [
              "\n",
              "  <div id=\"df-b7364322-7af8-4176-b44f-d04421b47e09\">\n",
              "    <div class=\"colab-df-container\">\n",
              "      <div>\n",
              "<style scoped>\n",
              "    .dataframe tbody tr th:only-of-type {\n",
              "        vertical-align: middle;\n",
              "    }\n",
              "\n",
              "    .dataframe tbody tr th {\n",
              "        vertical-align: top;\n",
              "    }\n",
              "\n",
              "    .dataframe thead th {\n",
              "        text-align: right;\n",
              "    }\n",
              "</style>\n",
              "<table border=\"1\" class=\"dataframe\">\n",
              "  <thead>\n",
              "    <tr style=\"text-align: right;\">\n",
              "      <th></th>\n",
              "      <th>Feature</th>\n",
              "      <th>Importance</th>\n",
              "    </tr>\n",
              "  </thead>\n",
              "  <tbody>\n",
              "    <tr>\n",
              "      <th>2</th>\n",
              "      <td>CO</td>\n",
              "      <td>0.429</td>\n",
              "    </tr>\n",
              "    <tr>\n",
              "      <th>0</th>\n",
              "      <td>O3</td>\n",
              "      <td>0.130</td>\n",
              "    </tr>\n",
              "    <tr>\n",
              "      <th>4</th>\n",
              "      <td>TEMP</td>\n",
              "      <td>0.119</td>\n",
              "    </tr>\n",
              "    <tr>\n",
              "      <th>11</th>\n",
              "      <td>CLOUD</td>\n",
              "      <td>0.084</td>\n",
              "    </tr>\n",
              "    <tr>\n",
              "      <th>7</th>\n",
              "      <td>WIND_DIR</td>\n",
              "      <td>0.065</td>\n",
              "    </tr>\n",
              "  </tbody>\n",
              "</table>\n",
              "</div>\n",
              "      <button class=\"colab-df-convert\" onclick=\"convertToInteractive('df-b7364322-7af8-4176-b44f-d04421b47e09')\"\n",
              "              title=\"Convert this dataframe to an interactive table.\"\n",
              "              style=\"display:none;\">\n",
              "        \n",
              "  <svg xmlns=\"http://www.w3.org/2000/svg\" height=\"24px\"viewBox=\"0 0 24 24\"\n",
              "       width=\"24px\">\n",
              "    <path d=\"M0 0h24v24H0V0z\" fill=\"none\"/>\n",
              "    <path d=\"M18.56 5.44l.94 2.06.94-2.06 2.06-.94-2.06-.94-.94-2.06-.94 2.06-2.06.94zm-11 1L8.5 8.5l.94-2.06 2.06-.94-2.06-.94L8.5 2.5l-.94 2.06-2.06.94zm10 10l.94 2.06.94-2.06 2.06-.94-2.06-.94-.94-2.06-.94 2.06-2.06.94z\"/><path d=\"M17.41 7.96l-1.37-1.37c-.4-.4-.92-.59-1.43-.59-.52 0-1.04.2-1.43.59L10.3 9.45l-7.72 7.72c-.78.78-.78 2.05 0 2.83L4 21.41c.39.39.9.59 1.41.59.51 0 1.02-.2 1.41-.59l7.78-7.78 2.81-2.81c.8-.78.8-2.07 0-2.86zM5.41 20L4 18.59l7.72-7.72 1.47 1.35L5.41 20z\"/>\n",
              "  </svg>\n",
              "      </button>\n",
              "      \n",
              "  <style>\n",
              "    .colab-df-container {\n",
              "      display:flex;\n",
              "      flex-wrap:wrap;\n",
              "      gap: 12px;\n",
              "    }\n",
              "\n",
              "    .colab-df-convert {\n",
              "      background-color: #E8F0FE;\n",
              "      border: none;\n",
              "      border-radius: 50%;\n",
              "      cursor: pointer;\n",
              "      display: none;\n",
              "      fill: #1967D2;\n",
              "      height: 32px;\n",
              "      padding: 0 0 0 0;\n",
              "      width: 32px;\n",
              "    }\n",
              "\n",
              "    .colab-df-convert:hover {\n",
              "      background-color: #E2EBFA;\n",
              "      box-shadow: 0px 1px 2px rgba(60, 64, 67, 0.3), 0px 1px 3px 1px rgba(60, 64, 67, 0.15);\n",
              "      fill: #174EA6;\n",
              "    }\n",
              "\n",
              "    [theme=dark] .colab-df-convert {\n",
              "      background-color: #3B4455;\n",
              "      fill: #D2E3FC;\n",
              "    }\n",
              "\n",
              "    [theme=dark] .colab-df-convert:hover {\n",
              "      background-color: #434B5C;\n",
              "      box-shadow: 0px 1px 3px 1px rgba(0, 0, 0, 0.15);\n",
              "      filter: drop-shadow(0px 1px 2px rgba(0, 0, 0, 0.3));\n",
              "      fill: #FFFFFF;\n",
              "    }\n",
              "  </style>\n",
              "\n",
              "      <script>\n",
              "        const buttonEl =\n",
              "          document.querySelector('#df-b7364322-7af8-4176-b44f-d04421b47e09 button.colab-df-convert');\n",
              "        buttonEl.style.display =\n",
              "          google.colab.kernel.accessAllowed ? 'block' : 'none';\n",
              "\n",
              "        async function convertToInteractive(key) {\n",
              "          const element = document.querySelector('#df-b7364322-7af8-4176-b44f-d04421b47e09');\n",
              "          const dataTable =\n",
              "            await google.colab.kernel.invokeFunction('convertToInteractive',\n",
              "                                                     [key], {});\n",
              "          if (!dataTable) return;\n",
              "\n",
              "          const docLinkHtml = 'Like what you see? Visit the ' +\n",
              "            '<a target=\"_blank\" href=https://colab.research.google.com/notebooks/data_table.ipynb>data table notebook</a>'\n",
              "            + ' to learn more about interactive tables.';\n",
              "          element.innerHTML = '';\n",
              "          dataTable['output_type'] = 'display_data';\n",
              "          await google.colab.output.renderOutput(dataTable, element);\n",
              "          const docLink = document.createElement('div');\n",
              "          docLink.innerHTML = docLinkHtml;\n",
              "          element.appendChild(docLink);\n",
              "        }\n",
              "      </script>\n",
              "    </div>\n",
              "  </div>\n",
              "  "
            ]
          },
          "metadata": {},
          "execution_count": 23
        }
      ]
    },
    {
      "cell_type": "markdown",
      "source": [
        "**<모델 성능>**\n",
        "- 기본 그래디언트 부스팅 모델은 train과 test 데이터에 대해 각각 93.3%, 36.4%의 설명력을 갖는다.\n",
        "- 의사결정나무에 비해서 모델의 성능이 양호한 것으로 판단되나, 여전히 과대적합의 문제점을 가지고 있다.\n",
        "\n",
        "**<변수 중요도>**\n",
        "- CO가 0.429, O3이 0.130, TEMP가 0.119, CLOUD가 0.084, 그리고 WIND_DIR가 0.065의 변수 중요도를 갖는다."
      ],
      "metadata": {
        "id": "Ae9P_fJljzOg"
      }
    },
    {
      "cell_type": "markdown",
      "source": [
        "#### **결론**\n",
        "\n",
        "- 의사결정나무, 랜덤 포레스트, 그리고 그래디언트 부스팅 예측기를 이용하여 추출한 변수 중요도는 다음과 같다.\n",
        "\n",
        "\n",
        "| 모델명/순위 |  의사결정나무  |  랜덤 포레스트   |  그래디언트 부스팅  |\n",
        "|------------|:--------------:|:----------------:|:------------------:|\n",
        "|   1    |CO (0.450)          | CO (0.388)       |CO (0.429)          |\n",
        "|   2    |CLOUD (0.102)       | O3 (0.103)       | O3 (0.130)         |\n",
        "|   3    |ATM_PRESS (0.089)   |TEMP (0.086)      |TEMP (0.119)        |\n",
        "|   4    |O3 (0.081)          | CLOUD (0.082)    |CLOUD (0.084)       |\n",
        "|   5    |TEMP (0.079)        |NO2 (0.069)       |WIND_DIR (0.065)    |\n",
        "\n",
        "* 3개의 예측 모델 모두 중요하게 고려한 변수는 CO, O3, TEMP, CLOUD이다.\n",
        "* 일산화탄소 농도가 미세먼지 발생에 압도적인 영향을 미치며, 오존 농도, 기온, 전운량 또한 미세먼지를 유발하는 주요한 원인이라는 점을 파악할 수 있다."
      ],
      "metadata": {
        "id": "QTHmMvqXkWKi"
      }
    },
    {
      "cell_type": "markdown",
      "source": [
        "### **다중선형 회귀분석**"
      ],
      "metadata": {
        "id": "ufFZEWGCejpK"
      }
    },
    {
      "cell_type": "markdown",
      "source": [
        "#### **변수 간 다중공선성 확인하기**"
      ],
      "metadata": {
        "id": "qWjsj8j51Y8a"
      }
    },
    {
      "cell_type": "code",
      "source": [
        "df_train_x = df_train.drop('PM10', axis = 1, inplace = False)\n",
        "df_train_y = df_train['PM10']"
      ],
      "metadata": {
        "id": "ORwnvVA_vv1X"
      },
      "execution_count": null,
      "outputs": []
    },
    {
      "cell_type": "code",
      "source": [
        "df_train_x.head()"
      ],
      "metadata": {
        "colab": {
          "base_uri": "https://localhost:8080/",
          "height": 206
        },
        "id": "2xc2dFuYwKs2",
        "outputId": "d171a236-9b1b-4709-93f7-0e1656cdcc81"
      },
      "execution_count": null,
      "outputs": [
        {
          "output_type": "execute_result",
          "data": {
            "text/plain": [
              "        O3    NO2   CO    SO2       TEMP  RAIN      WIND    WIND_DIR  \\\n",
              "307  0.030  0.013  0.4  0.002  21.641667  0.00  1.958333  151.666667   \n",
              "142  0.014  0.030  0.5  0.003   0.466667  0.00  1.650000  231.666667   \n",
              "76   0.029  0.014  0.5  0.002  24.091667  0.00  1.687500  298.750000   \n",
              "109  0.015  0.034  0.4  0.003  16.862500  0.00  2.491667  290.000000   \n",
              "339  0.036  0.017  0.4  0.002  21.908333  0.02  2.679167  266.250000   \n",
              "\n",
              "     HUMIDITY    ATM_PRESS  SNOW     CLOUD  \n",
              "307    69.750   996.129167   0.0  6.875000  \n",
              "142    36.375  1020.670833   0.0  0.041667  \n",
              "76     72.000  1000.845833   0.0  5.083333  \n",
              "109    58.250  1012.195833   0.0  7.041667  \n",
              "339    79.875   993.962500   0.0  8.041667  "
            ],
            "text/html": [
              "\n",
              "  <div id=\"df-1b3a075d-58e7-4d2c-8fc7-b33675a6eb70\">\n",
              "    <div class=\"colab-df-container\">\n",
              "      <div>\n",
              "<style scoped>\n",
              "    .dataframe tbody tr th:only-of-type {\n",
              "        vertical-align: middle;\n",
              "    }\n",
              "\n",
              "    .dataframe tbody tr th {\n",
              "        vertical-align: top;\n",
              "    }\n",
              "\n",
              "    .dataframe thead th {\n",
              "        text-align: right;\n",
              "    }\n",
              "</style>\n",
              "<table border=\"1\" class=\"dataframe\">\n",
              "  <thead>\n",
              "    <tr style=\"text-align: right;\">\n",
              "      <th></th>\n",
              "      <th>O3</th>\n",
              "      <th>NO2</th>\n",
              "      <th>CO</th>\n",
              "      <th>SO2</th>\n",
              "      <th>TEMP</th>\n",
              "      <th>RAIN</th>\n",
              "      <th>WIND</th>\n",
              "      <th>WIND_DIR</th>\n",
              "      <th>HUMIDITY</th>\n",
              "      <th>ATM_PRESS</th>\n",
              "      <th>SNOW</th>\n",
              "      <th>CLOUD</th>\n",
              "    </tr>\n",
              "  </thead>\n",
              "  <tbody>\n",
              "    <tr>\n",
              "      <th>307</th>\n",
              "      <td>0.030</td>\n",
              "      <td>0.013</td>\n",
              "      <td>0.4</td>\n",
              "      <td>0.002</td>\n",
              "      <td>21.641667</td>\n",
              "      <td>0.00</td>\n",
              "      <td>1.958333</td>\n",
              "      <td>151.666667</td>\n",
              "      <td>69.750</td>\n",
              "      <td>996.129167</td>\n",
              "      <td>0.0</td>\n",
              "      <td>6.875000</td>\n",
              "    </tr>\n",
              "    <tr>\n",
              "      <th>142</th>\n",
              "      <td>0.014</td>\n",
              "      <td>0.030</td>\n",
              "      <td>0.5</td>\n",
              "      <td>0.003</td>\n",
              "      <td>0.466667</td>\n",
              "      <td>0.00</td>\n",
              "      <td>1.650000</td>\n",
              "      <td>231.666667</td>\n",
              "      <td>36.375</td>\n",
              "      <td>1020.670833</td>\n",
              "      <td>0.0</td>\n",
              "      <td>0.041667</td>\n",
              "    </tr>\n",
              "    <tr>\n",
              "      <th>76</th>\n",
              "      <td>0.029</td>\n",
              "      <td>0.014</td>\n",
              "      <td>0.5</td>\n",
              "      <td>0.002</td>\n",
              "      <td>24.091667</td>\n",
              "      <td>0.00</td>\n",
              "      <td>1.687500</td>\n",
              "      <td>298.750000</td>\n",
              "      <td>72.000</td>\n",
              "      <td>1000.845833</td>\n",
              "      <td>0.0</td>\n",
              "      <td>5.083333</td>\n",
              "    </tr>\n",
              "    <tr>\n",
              "      <th>109</th>\n",
              "      <td>0.015</td>\n",
              "      <td>0.034</td>\n",
              "      <td>0.4</td>\n",
              "      <td>0.003</td>\n",
              "      <td>16.862500</td>\n",
              "      <td>0.00</td>\n",
              "      <td>2.491667</td>\n",
              "      <td>290.000000</td>\n",
              "      <td>58.250</td>\n",
              "      <td>1012.195833</td>\n",
              "      <td>0.0</td>\n",
              "      <td>7.041667</td>\n",
              "    </tr>\n",
              "    <tr>\n",
              "      <th>339</th>\n",
              "      <td>0.036</td>\n",
              "      <td>0.017</td>\n",
              "      <td>0.4</td>\n",
              "      <td>0.002</td>\n",
              "      <td>21.908333</td>\n",
              "      <td>0.02</td>\n",
              "      <td>2.679167</td>\n",
              "      <td>266.250000</td>\n",
              "      <td>79.875</td>\n",
              "      <td>993.962500</td>\n",
              "      <td>0.0</td>\n",
              "      <td>8.041667</td>\n",
              "    </tr>\n",
              "  </tbody>\n",
              "</table>\n",
              "</div>\n",
              "      <button class=\"colab-df-convert\" onclick=\"convertToInteractive('df-1b3a075d-58e7-4d2c-8fc7-b33675a6eb70')\"\n",
              "              title=\"Convert this dataframe to an interactive table.\"\n",
              "              style=\"display:none;\">\n",
              "        \n",
              "  <svg xmlns=\"http://www.w3.org/2000/svg\" height=\"24px\"viewBox=\"0 0 24 24\"\n",
              "       width=\"24px\">\n",
              "    <path d=\"M0 0h24v24H0V0z\" fill=\"none\"/>\n",
              "    <path d=\"M18.56 5.44l.94 2.06.94-2.06 2.06-.94-2.06-.94-.94-2.06-.94 2.06-2.06.94zm-11 1L8.5 8.5l.94-2.06 2.06-.94-2.06-.94L8.5 2.5l-.94 2.06-2.06.94zm10 10l.94 2.06.94-2.06 2.06-.94-2.06-.94-.94-2.06-.94 2.06-2.06.94z\"/><path d=\"M17.41 7.96l-1.37-1.37c-.4-.4-.92-.59-1.43-.59-.52 0-1.04.2-1.43.59L10.3 9.45l-7.72 7.72c-.78.78-.78 2.05 0 2.83L4 21.41c.39.39.9.59 1.41.59.51 0 1.02-.2 1.41-.59l7.78-7.78 2.81-2.81c.8-.78.8-2.07 0-2.86zM5.41 20L4 18.59l7.72-7.72 1.47 1.35L5.41 20z\"/>\n",
              "  </svg>\n",
              "      </button>\n",
              "      \n",
              "  <style>\n",
              "    .colab-df-container {\n",
              "      display:flex;\n",
              "      flex-wrap:wrap;\n",
              "      gap: 12px;\n",
              "    }\n",
              "\n",
              "    .colab-df-convert {\n",
              "      background-color: #E8F0FE;\n",
              "      border: none;\n",
              "      border-radius: 50%;\n",
              "      cursor: pointer;\n",
              "      display: none;\n",
              "      fill: #1967D2;\n",
              "      height: 32px;\n",
              "      padding: 0 0 0 0;\n",
              "      width: 32px;\n",
              "    }\n",
              "\n",
              "    .colab-df-convert:hover {\n",
              "      background-color: #E2EBFA;\n",
              "      box-shadow: 0px 1px 2px rgba(60, 64, 67, 0.3), 0px 1px 3px 1px rgba(60, 64, 67, 0.15);\n",
              "      fill: #174EA6;\n",
              "    }\n",
              "\n",
              "    [theme=dark] .colab-df-convert {\n",
              "      background-color: #3B4455;\n",
              "      fill: #D2E3FC;\n",
              "    }\n",
              "\n",
              "    [theme=dark] .colab-df-convert:hover {\n",
              "      background-color: #434B5C;\n",
              "      box-shadow: 0px 1px 3px 1px rgba(0, 0, 0, 0.15);\n",
              "      filter: drop-shadow(0px 1px 2px rgba(0, 0, 0, 0.3));\n",
              "      fill: #FFFFFF;\n",
              "    }\n",
              "  </style>\n",
              "\n",
              "      <script>\n",
              "        const buttonEl =\n",
              "          document.querySelector('#df-1b3a075d-58e7-4d2c-8fc7-b33675a6eb70 button.colab-df-convert');\n",
              "        buttonEl.style.display =\n",
              "          google.colab.kernel.accessAllowed ? 'block' : 'none';\n",
              "\n",
              "        async function convertToInteractive(key) {\n",
              "          const element = document.querySelector('#df-1b3a075d-58e7-4d2c-8fc7-b33675a6eb70');\n",
              "          const dataTable =\n",
              "            await google.colab.kernel.invokeFunction('convertToInteractive',\n",
              "                                                     [key], {});\n",
              "          if (!dataTable) return;\n",
              "\n",
              "          const docLinkHtml = 'Like what you see? Visit the ' +\n",
              "            '<a target=\"_blank\" href=https://colab.research.google.com/notebooks/data_table.ipynb>data table notebook</a>'\n",
              "            + ' to learn more about interactive tables.';\n",
              "          element.innerHTML = '';\n",
              "          dataTable['output_type'] = 'display_data';\n",
              "          await google.colab.output.renderOutput(dataTable, element);\n",
              "          const docLink = document.createElement('div');\n",
              "          docLink.innerHTML = docLinkHtml;\n",
              "          element.appendChild(docLink);\n",
              "        }\n",
              "      </script>\n",
              "    </div>\n",
              "  </div>\n",
              "  "
            ]
          },
          "metadata": {},
          "execution_count": 39
        }
      ]
    },
    {
      "cell_type": "code",
      "source": [
        "df_train_y.head()"
      ],
      "metadata": {
        "colab": {
          "base_uri": "https://localhost:8080/"
        },
        "id": "Ssc0CiUL0OCG",
        "outputId": "29792742-566c-49cd-c617-22a3ed28517d"
      },
      "execution_count": null,
      "outputs": [
        {
          "output_type": "execute_result",
          "data": {
            "text/plain": [
              "307    25.0\n",
              "142    20.0\n",
              "76     14.0\n",
              "109    18.0\n",
              "339    45.0\n",
              "Name: PM10, dtype: float64"
            ]
          },
          "metadata": {},
          "execution_count": 67
        }
      ]
    },
    {
      "cell_type": "code",
      "source": [
        "df_train_x_const = add_constant(df_train_x)\n",
        "\n",
        "df_vif = pd.DataFrame()\n",
        "df_vif['variable'] = df_train_x_const.columns\n",
        "df_vif['VIF'] = [variance_inflation_factor(df_train_x_const.values, i) for i in range(df_train_x_const.shape[1])]\n",
        "df_vif.sort_values('VIF', ascending = False).round(3)"
      ],
      "metadata": {
        "colab": {
          "base_uri": "https://localhost:8080/",
          "height": 493
        },
        "id": "4Z2NgMuH1sMI",
        "outputId": "ff519835-e235-4372-ccdb-955f18d789b2"
      },
      "execution_count": null,
      "outputs": [
        {
          "output_type": "stream",
          "name": "stderr",
          "text": [
            "/usr/local/lib/python3.7/dist-packages/statsmodels/tsa/tsatools.py:117: FutureWarning: In a future version of pandas all arguments of concat except for the argument 'objs' will be keyword-only\n",
            "  x = pd.concat(x[::order], 1)\n"
          ]
        },
        {
          "output_type": "execute_result",
          "data": {
            "text/plain": [
              "     variable        VIF\n",
              "0       const  75737.876\n",
              "2         NO2      5.192\n",
              "10  ATM_PRESS      4.979\n",
              "5        TEMP      4.507\n",
              "3          CO      3.643\n",
              "9    HUMIDITY      2.783\n",
              "1          O3      2.760\n",
              "12      CLOUD      2.210\n",
              "4         SO2      2.033\n",
              "7        WIND      1.938\n",
              "8    WIND_DIR      1.740\n",
              "6        RAIN      1.339\n",
              "11       SNOW      1.144"
            ],
            "text/html": [
              "\n",
              "  <div id=\"df-a5ab495f-77ae-4119-9fe5-b2ab4c45895b\">\n",
              "    <div class=\"colab-df-container\">\n",
              "      <div>\n",
              "<style scoped>\n",
              "    .dataframe tbody tr th:only-of-type {\n",
              "        vertical-align: middle;\n",
              "    }\n",
              "\n",
              "    .dataframe tbody tr th {\n",
              "        vertical-align: top;\n",
              "    }\n",
              "\n",
              "    .dataframe thead th {\n",
              "        text-align: right;\n",
              "    }\n",
              "</style>\n",
              "<table border=\"1\" class=\"dataframe\">\n",
              "  <thead>\n",
              "    <tr style=\"text-align: right;\">\n",
              "      <th></th>\n",
              "      <th>variable</th>\n",
              "      <th>VIF</th>\n",
              "    </tr>\n",
              "  </thead>\n",
              "  <tbody>\n",
              "    <tr>\n",
              "      <th>0</th>\n",
              "      <td>const</td>\n",
              "      <td>75737.876</td>\n",
              "    </tr>\n",
              "    <tr>\n",
              "      <th>2</th>\n",
              "      <td>NO2</td>\n",
              "      <td>5.192</td>\n",
              "    </tr>\n",
              "    <tr>\n",
              "      <th>10</th>\n",
              "      <td>ATM_PRESS</td>\n",
              "      <td>4.979</td>\n",
              "    </tr>\n",
              "    <tr>\n",
              "      <th>5</th>\n",
              "      <td>TEMP</td>\n",
              "      <td>4.507</td>\n",
              "    </tr>\n",
              "    <tr>\n",
              "      <th>3</th>\n",
              "      <td>CO</td>\n",
              "      <td>3.643</td>\n",
              "    </tr>\n",
              "    <tr>\n",
              "      <th>9</th>\n",
              "      <td>HUMIDITY</td>\n",
              "      <td>2.783</td>\n",
              "    </tr>\n",
              "    <tr>\n",
              "      <th>1</th>\n",
              "      <td>O3</td>\n",
              "      <td>2.760</td>\n",
              "    </tr>\n",
              "    <tr>\n",
              "      <th>12</th>\n",
              "      <td>CLOUD</td>\n",
              "      <td>2.210</td>\n",
              "    </tr>\n",
              "    <tr>\n",
              "      <th>4</th>\n",
              "      <td>SO2</td>\n",
              "      <td>2.033</td>\n",
              "    </tr>\n",
              "    <tr>\n",
              "      <th>7</th>\n",
              "      <td>WIND</td>\n",
              "      <td>1.938</td>\n",
              "    </tr>\n",
              "    <tr>\n",
              "      <th>8</th>\n",
              "      <td>WIND_DIR</td>\n",
              "      <td>1.740</td>\n",
              "    </tr>\n",
              "    <tr>\n",
              "      <th>6</th>\n",
              "      <td>RAIN</td>\n",
              "      <td>1.339</td>\n",
              "    </tr>\n",
              "    <tr>\n",
              "      <th>11</th>\n",
              "      <td>SNOW</td>\n",
              "      <td>1.144</td>\n",
              "    </tr>\n",
              "  </tbody>\n",
              "</table>\n",
              "</div>\n",
              "      <button class=\"colab-df-convert\" onclick=\"convertToInteractive('df-a5ab495f-77ae-4119-9fe5-b2ab4c45895b')\"\n",
              "              title=\"Convert this dataframe to an interactive table.\"\n",
              "              style=\"display:none;\">\n",
              "        \n",
              "  <svg xmlns=\"http://www.w3.org/2000/svg\" height=\"24px\"viewBox=\"0 0 24 24\"\n",
              "       width=\"24px\">\n",
              "    <path d=\"M0 0h24v24H0V0z\" fill=\"none\"/>\n",
              "    <path d=\"M18.56 5.44l.94 2.06.94-2.06 2.06-.94-2.06-.94-.94-2.06-.94 2.06-2.06.94zm-11 1L8.5 8.5l.94-2.06 2.06-.94-2.06-.94L8.5 2.5l-.94 2.06-2.06.94zm10 10l.94 2.06.94-2.06 2.06-.94-2.06-.94-.94-2.06-.94 2.06-2.06.94z\"/><path d=\"M17.41 7.96l-1.37-1.37c-.4-.4-.92-.59-1.43-.59-.52 0-1.04.2-1.43.59L10.3 9.45l-7.72 7.72c-.78.78-.78 2.05 0 2.83L4 21.41c.39.39.9.59 1.41.59.51 0 1.02-.2 1.41-.59l7.78-7.78 2.81-2.81c.8-.78.8-2.07 0-2.86zM5.41 20L4 18.59l7.72-7.72 1.47 1.35L5.41 20z\"/>\n",
              "  </svg>\n",
              "      </button>\n",
              "      \n",
              "  <style>\n",
              "    .colab-df-container {\n",
              "      display:flex;\n",
              "      flex-wrap:wrap;\n",
              "      gap: 12px;\n",
              "    }\n",
              "\n",
              "    .colab-df-convert {\n",
              "      background-color: #E8F0FE;\n",
              "      border: none;\n",
              "      border-radius: 50%;\n",
              "      cursor: pointer;\n",
              "      display: none;\n",
              "      fill: #1967D2;\n",
              "      height: 32px;\n",
              "      padding: 0 0 0 0;\n",
              "      width: 32px;\n",
              "    }\n",
              "\n",
              "    .colab-df-convert:hover {\n",
              "      background-color: #E2EBFA;\n",
              "      box-shadow: 0px 1px 2px rgba(60, 64, 67, 0.3), 0px 1px 3px 1px rgba(60, 64, 67, 0.15);\n",
              "      fill: #174EA6;\n",
              "    }\n",
              "\n",
              "    [theme=dark] .colab-df-convert {\n",
              "      background-color: #3B4455;\n",
              "      fill: #D2E3FC;\n",
              "    }\n",
              "\n",
              "    [theme=dark] .colab-df-convert:hover {\n",
              "      background-color: #434B5C;\n",
              "      box-shadow: 0px 1px 3px 1px rgba(0, 0, 0, 0.15);\n",
              "      filter: drop-shadow(0px 1px 2px rgba(0, 0, 0, 0.3));\n",
              "      fill: #FFFFFF;\n",
              "    }\n",
              "  </style>\n",
              "\n",
              "      <script>\n",
              "        const buttonEl =\n",
              "          document.querySelector('#df-a5ab495f-77ae-4119-9fe5-b2ab4c45895b button.colab-df-convert');\n",
              "        buttonEl.style.display =\n",
              "          google.colab.kernel.accessAllowed ? 'block' : 'none';\n",
              "\n",
              "        async function convertToInteractive(key) {\n",
              "          const element = document.querySelector('#df-a5ab495f-77ae-4119-9fe5-b2ab4c45895b');\n",
              "          const dataTable =\n",
              "            await google.colab.kernel.invokeFunction('convertToInteractive',\n",
              "                                                     [key], {});\n",
              "          if (!dataTable) return;\n",
              "\n",
              "          const docLinkHtml = 'Like what you see? Visit the ' +\n",
              "            '<a target=\"_blank\" href=https://colab.research.google.com/notebooks/data_table.ipynb>data table notebook</a>'\n",
              "            + ' to learn more about interactive tables.';\n",
              "          element.innerHTML = '';\n",
              "          dataTable['output_type'] = 'display_data';\n",
              "          await google.colab.output.renderOutput(dataTable, element);\n",
              "          const docLink = document.createElement('div');\n",
              "          docLink.innerHTML = docLinkHtml;\n",
              "          element.appendChild(docLink);\n",
              "        }\n",
              "      </script>\n",
              "    </div>\n",
              "  </div>\n",
              "  "
            ]
          },
          "metadata": {},
          "execution_count": 71
        }
      ]
    },
    {
      "cell_type": "markdown",
      "source": [
        "- 설명변수 간 다중공선성은 확인되지 않는다.\n",
        "- 무리없이 회귀분석을 진행해도 좋을 것으로 판단된다."
      ],
      "metadata": {
        "id": "dNnWzKOt2Sa3"
      }
    },
    {
      "cell_type": "markdown",
      "source": [
        "#### **모델 생성하기 및 해석하기**"
      ],
      "metadata": {
        "id": "lJ5sPA-mtWdr"
      }
    },
    {
      "cell_type": "code",
      "source": [
        "reg_model = smf.ols(formula = \"PM10 ~ O3 + NO2 + CO + SO2 + TEMP + RAIN + WIND + WIND_DIR + HUMIDITY + ATM_PRESS + SNOW + CLOUD\",\n",
        "                    data = df_train)\n",
        "\n",
        "reg_result = reg_model.fit()\n",
        "print(reg_result.summary())"
      ],
      "metadata": {
        "colab": {
          "base_uri": "https://localhost:8080/"
        },
        "id": "Du1X2Z0RqqEO",
        "outputId": "22ac55c4-8eb6-4f34-d6a6-38419bd0c3dc"
      },
      "execution_count": null,
      "outputs": [
        {
          "output_type": "stream",
          "name": "stdout",
          "text": [
            "                            OLS Regression Results                            \n",
            "==============================================================================\n",
            "Dep. Variable:                   PM10   R-squared:                       0.535\n",
            "Model:                            OLS   Adj. R-squared:                  0.512\n",
            "Method:                 Least Squares   F-statistic:                     23.31\n",
            "Date:                Mon, 15 Aug 2022   Prob (F-statistic):           4.32e-34\n",
            "Time:                        04:13:44   Log-Likelihood:                -961.92\n",
            "No. Observations:                 256   AIC:                             1950.\n",
            "Df Residuals:                     243   BIC:                             1996.\n",
            "Df Model:                          12                                         \n",
            "Covariance Type:            nonrobust                                         \n",
            "==============================================================================\n",
            "                 coef    std err          t      P>|t|      [0.025      0.975]\n",
            "------------------------------------------------------------------------------\n",
            "Intercept    357.7070    183.008      1.955      0.052      -2.778     718.192\n",
            "O3           541.0291     92.968      5.820      0.000     357.903     724.156\n",
            "NO2          455.6062    147.994      3.079      0.002     164.091     747.121\n",
            "CO            59.5406      9.026      6.596      0.000      41.761      77.320\n",
            "SO2          963.0013   1447.325      0.665      0.506   -1887.903    3813.906\n",
            "TEMP          -0.6172      0.142     -4.353      0.000      -0.897      -0.338\n",
            "RAIN          -0.6605      0.625     -1.057      0.291      -1.891       0.570\n",
            "WIND           0.4780      1.273      0.376      0.708      -2.029       2.985\n",
            "WIND_DIR       0.0347      0.012      2.857      0.005       0.011       0.059\n",
            "HUMIDITY      -0.0389      0.076     -0.511      0.610      -0.189       0.111\n",
            "ATM_PRESS     -0.3784      0.179     -2.117      0.035      -0.730      -0.026\n",
            "SNOW          -1.8580      2.718     -0.684      0.495      -7.212       3.496\n",
            "CLOUD          0.0191      0.330      0.058      0.954      -0.630       0.669\n",
            "==============================================================================\n",
            "Omnibus:                       46.129   Durbin-Watson:                   1.852\n",
            "Prob(Omnibus):                  0.000   Jarque-Bera (JB):               76.212\n",
            "Skew:                           1.003   Prob(JB):                     2.82e-17\n",
            "Kurtosis:                       4.767   Cond. No.                     2.24e+06\n",
            "==============================================================================\n",
            "\n",
            "Warnings:\n",
            "[1] Standard Errors assume that the covariance matrix of the errors is correctly specified.\n",
            "[2] The condition number is large, 2.24e+06. This might indicate that there are\n",
            "strong multicollinearity or other numerical problems.\n"
          ]
        }
      ]
    },
    {
      "cell_type": "markdown",
      "source": [
        "**<모델의 자유도 및 유의성 확인하기>**\n",
        "- 해당 회귀모형은 총 256개의 관측값을 가지고 있으며, 잔차와 모델의 자유도는 각각 243개와 12개이다.\n",
        "- F통계량 23.31에 대한 유의확률 = 4.32e-34 < 0.05이므로 모델이 유의하다는 결론을 내릴 수 있다.\n",
        "- 이 모델의 수정결정계수는 0.512이며, 약 51.2%의 다소 약한 설명력을 갖는다.\n",
        "\n",
        "**<회귀계수의 유의성 확인하기>**\n",
        "- O3, NO2, CO, TEMP, WIND_DIR, ATM_PRESS의 t통계량은 각각 5.820, 3.079, 6.596, -4.353, 2.857, -2.117이다.\n",
        "- 각각의 설명변수에 대한 유의확률 0.000, 0.002, 0.000, 0.000, 0.005, 0.035 < 0.05이므로 회귀계수의 유의성을 받아들일 수 있다."
      ],
      "metadata": {
        "id": "NYCU2MFItVGt"
      }
    },
    {
      "cell_type": "markdown",
      "source": [
        "#### **모델 생성하기 및 해석하기 w/ scaling**"
      ],
      "metadata": {
        "id": "Ybbc3Z2I1Enw"
      }
    },
    {
      "cell_type": "code",
      "source": [
        "df_train.head()"
      ],
      "metadata": {
        "colab": {
          "base_uri": "https://localhost:8080/",
          "height": 206
        },
        "id": "QGagtOuzwDSC",
        "outputId": "76e00dbd-28a8-4a4e-ffe8-991fc35be2fe"
      },
      "execution_count": null,
      "outputs": [
        {
          "output_type": "execute_result",
          "data": {
            "text/plain": [
              "     PM10     O3    NO2   CO    SO2       TEMP  RAIN      WIND    WIND_DIR  \\\n",
              "307  25.0  0.030  0.013  0.4  0.002  21.641667  0.00  1.958333  151.666667   \n",
              "142  20.0  0.014  0.030  0.5  0.003   0.466667  0.00  1.650000  231.666667   \n",
              "76   14.0  0.029  0.014  0.5  0.002  24.091667  0.00  1.687500  298.750000   \n",
              "109  18.0  0.015  0.034  0.4  0.003  16.862500  0.00  2.491667  290.000000   \n",
              "339  45.0  0.036  0.017  0.4  0.002  21.908333  0.02  2.679167  266.250000   \n",
              "\n",
              "     HUMIDITY    ATM_PRESS  SNOW     CLOUD  \n",
              "307    69.750   996.129167   0.0  6.875000  \n",
              "142    36.375  1020.670833   0.0  0.041667  \n",
              "76     72.000  1000.845833   0.0  5.083333  \n",
              "109    58.250  1012.195833   0.0  7.041667  \n",
              "339    79.875   993.962500   0.0  8.041667  "
            ],
            "text/html": [
              "\n",
              "  <div id=\"df-65208428-2b9c-40db-92d5-d8b22ca177fb\">\n",
              "    <div class=\"colab-df-container\">\n",
              "      <div>\n",
              "<style scoped>\n",
              "    .dataframe tbody tr th:only-of-type {\n",
              "        vertical-align: middle;\n",
              "    }\n",
              "\n",
              "    .dataframe tbody tr th {\n",
              "        vertical-align: top;\n",
              "    }\n",
              "\n",
              "    .dataframe thead th {\n",
              "        text-align: right;\n",
              "    }\n",
              "</style>\n",
              "<table border=\"1\" class=\"dataframe\">\n",
              "  <thead>\n",
              "    <tr style=\"text-align: right;\">\n",
              "      <th></th>\n",
              "      <th>PM10</th>\n",
              "      <th>O3</th>\n",
              "      <th>NO2</th>\n",
              "      <th>CO</th>\n",
              "      <th>SO2</th>\n",
              "      <th>TEMP</th>\n",
              "      <th>RAIN</th>\n",
              "      <th>WIND</th>\n",
              "      <th>WIND_DIR</th>\n",
              "      <th>HUMIDITY</th>\n",
              "      <th>ATM_PRESS</th>\n",
              "      <th>SNOW</th>\n",
              "      <th>CLOUD</th>\n",
              "    </tr>\n",
              "  </thead>\n",
              "  <tbody>\n",
              "    <tr>\n",
              "      <th>307</th>\n",
              "      <td>25.0</td>\n",
              "      <td>0.030</td>\n",
              "      <td>0.013</td>\n",
              "      <td>0.4</td>\n",
              "      <td>0.002</td>\n",
              "      <td>21.641667</td>\n",
              "      <td>0.00</td>\n",
              "      <td>1.958333</td>\n",
              "      <td>151.666667</td>\n",
              "      <td>69.750</td>\n",
              "      <td>996.129167</td>\n",
              "      <td>0.0</td>\n",
              "      <td>6.875000</td>\n",
              "    </tr>\n",
              "    <tr>\n",
              "      <th>142</th>\n",
              "      <td>20.0</td>\n",
              "      <td>0.014</td>\n",
              "      <td>0.030</td>\n",
              "      <td>0.5</td>\n",
              "      <td>0.003</td>\n",
              "      <td>0.466667</td>\n",
              "      <td>0.00</td>\n",
              "      <td>1.650000</td>\n",
              "      <td>231.666667</td>\n",
              "      <td>36.375</td>\n",
              "      <td>1020.670833</td>\n",
              "      <td>0.0</td>\n",
              "      <td>0.041667</td>\n",
              "    </tr>\n",
              "    <tr>\n",
              "      <th>76</th>\n",
              "      <td>14.0</td>\n",
              "      <td>0.029</td>\n",
              "      <td>0.014</td>\n",
              "      <td>0.5</td>\n",
              "      <td>0.002</td>\n",
              "      <td>24.091667</td>\n",
              "      <td>0.00</td>\n",
              "      <td>1.687500</td>\n",
              "      <td>298.750000</td>\n",
              "      <td>72.000</td>\n",
              "      <td>1000.845833</td>\n",
              "      <td>0.0</td>\n",
              "      <td>5.083333</td>\n",
              "    </tr>\n",
              "    <tr>\n",
              "      <th>109</th>\n",
              "      <td>18.0</td>\n",
              "      <td>0.015</td>\n",
              "      <td>0.034</td>\n",
              "      <td>0.4</td>\n",
              "      <td>0.003</td>\n",
              "      <td>16.862500</td>\n",
              "      <td>0.00</td>\n",
              "      <td>2.491667</td>\n",
              "      <td>290.000000</td>\n",
              "      <td>58.250</td>\n",
              "      <td>1012.195833</td>\n",
              "      <td>0.0</td>\n",
              "      <td>7.041667</td>\n",
              "    </tr>\n",
              "    <tr>\n",
              "      <th>339</th>\n",
              "      <td>45.0</td>\n",
              "      <td>0.036</td>\n",
              "      <td>0.017</td>\n",
              "      <td>0.4</td>\n",
              "      <td>0.002</td>\n",
              "      <td>21.908333</td>\n",
              "      <td>0.02</td>\n",
              "      <td>2.679167</td>\n",
              "      <td>266.250000</td>\n",
              "      <td>79.875</td>\n",
              "      <td>993.962500</td>\n",
              "      <td>0.0</td>\n",
              "      <td>8.041667</td>\n",
              "    </tr>\n",
              "  </tbody>\n",
              "</table>\n",
              "</div>\n",
              "      <button class=\"colab-df-convert\" onclick=\"convertToInteractive('df-65208428-2b9c-40db-92d5-d8b22ca177fb')\"\n",
              "              title=\"Convert this dataframe to an interactive table.\"\n",
              "              style=\"display:none;\">\n",
              "        \n",
              "  <svg xmlns=\"http://www.w3.org/2000/svg\" height=\"24px\"viewBox=\"0 0 24 24\"\n",
              "       width=\"24px\">\n",
              "    <path d=\"M0 0h24v24H0V0z\" fill=\"none\"/>\n",
              "    <path d=\"M18.56 5.44l.94 2.06.94-2.06 2.06-.94-2.06-.94-.94-2.06-.94 2.06-2.06.94zm-11 1L8.5 8.5l.94-2.06 2.06-.94-2.06-.94L8.5 2.5l-.94 2.06-2.06.94zm10 10l.94 2.06.94-2.06 2.06-.94-2.06-.94-.94-2.06-.94 2.06-2.06.94z\"/><path d=\"M17.41 7.96l-1.37-1.37c-.4-.4-.92-.59-1.43-.59-.52 0-1.04.2-1.43.59L10.3 9.45l-7.72 7.72c-.78.78-.78 2.05 0 2.83L4 21.41c.39.39.9.59 1.41.59.51 0 1.02-.2 1.41-.59l7.78-7.78 2.81-2.81c.8-.78.8-2.07 0-2.86zM5.41 20L4 18.59l7.72-7.72 1.47 1.35L5.41 20z\"/>\n",
              "  </svg>\n",
              "      </button>\n",
              "      \n",
              "  <style>\n",
              "    .colab-df-container {\n",
              "      display:flex;\n",
              "      flex-wrap:wrap;\n",
              "      gap: 12px;\n",
              "    }\n",
              "\n",
              "    .colab-df-convert {\n",
              "      background-color: #E8F0FE;\n",
              "      border: none;\n",
              "      border-radius: 50%;\n",
              "      cursor: pointer;\n",
              "      display: none;\n",
              "      fill: #1967D2;\n",
              "      height: 32px;\n",
              "      padding: 0 0 0 0;\n",
              "      width: 32px;\n",
              "    }\n",
              "\n",
              "    .colab-df-convert:hover {\n",
              "      background-color: #E2EBFA;\n",
              "      box-shadow: 0px 1px 2px rgba(60, 64, 67, 0.3), 0px 1px 3px 1px rgba(60, 64, 67, 0.15);\n",
              "      fill: #174EA6;\n",
              "    }\n",
              "\n",
              "    [theme=dark] .colab-df-convert {\n",
              "      background-color: #3B4455;\n",
              "      fill: #D2E3FC;\n",
              "    }\n",
              "\n",
              "    [theme=dark] .colab-df-convert:hover {\n",
              "      background-color: #434B5C;\n",
              "      box-shadow: 0px 1px 3px 1px rgba(0, 0, 0, 0.15);\n",
              "      filter: drop-shadow(0px 1px 2px rgba(0, 0, 0, 0.3));\n",
              "      fill: #FFFFFF;\n",
              "    }\n",
              "  </style>\n",
              "\n",
              "      <script>\n",
              "        const buttonEl =\n",
              "          document.querySelector('#df-65208428-2b9c-40db-92d5-d8b22ca177fb button.colab-df-convert');\n",
              "        buttonEl.style.display =\n",
              "          google.colab.kernel.accessAllowed ? 'block' : 'none';\n",
              "\n",
              "        async function convertToInteractive(key) {\n",
              "          const element = document.querySelector('#df-65208428-2b9c-40db-92d5-d8b22ca177fb');\n",
              "          const dataTable =\n",
              "            await google.colab.kernel.invokeFunction('convertToInteractive',\n",
              "                                                     [key], {});\n",
              "          if (!dataTable) return;\n",
              "\n",
              "          const docLinkHtml = 'Like what you see? Visit the ' +\n",
              "            '<a target=\"_blank\" href=https://colab.research.google.com/notebooks/data_table.ipynb>data table notebook</a>'\n",
              "            + ' to learn more about interactive tables.';\n",
              "          element.innerHTML = '';\n",
              "          dataTable['output_type'] = 'display_data';\n",
              "          await google.colab.output.renderOutput(dataTable, element);\n",
              "          const docLink = document.createElement('div');\n",
              "          docLink.innerHTML = docLinkHtml;\n",
              "          element.appendChild(docLink);\n",
              "        }\n",
              "      </script>\n",
              "    </div>\n",
              "  </div>\n",
              "  "
            ]
          },
          "metadata": {},
          "execution_count": 36
        }
      ]
    },
    {
      "cell_type": "code",
      "source": [
        "scaler = StandardScaler()\n",
        "df_train_x_scaled = scaler.fit_transform(df_train_x)\n",
        "\n",
        "print(df_train_x_scaled.shape)\n",
        "print(type(df_train_x_scaled))\n",
        "df_train_x_scaled"
      ],
      "metadata": {
        "colab": {
          "base_uri": "https://localhost:8080/"
        },
        "id": "yAVS-ENXvlyP",
        "outputId": "72fba07c-cdae-4ea4-83a4-fafd84622c3d"
      },
      "execution_count": null,
      "outputs": [
        {
          "output_type": "stream",
          "name": "stdout",
          "text": [
            "(256, 12)\n",
            "<class 'numpy.ndarray'>\n"
          ]
        },
        {
          "output_type": "execute_result",
          "data": {
            "text/plain": [
              "array([[ 5.21376762e-01, -1.30553681e+00, -7.86186943e-01, ...,\n",
              "        -1.14687352e+00, -1.16445375e-01,  5.98810765e-01],\n",
              "       [-8.25129679e-01,  3.54806905e-01, -7.50072348e-02, ...,\n",
              "         1.80887078e+00, -1.16445375e-01, -1.68016006e+00],\n",
              "       [ 4.37220109e-01, -1.20786953e+00, -7.50072348e-02, ...,\n",
              "        -5.78808577e-01, -1.16445375e-01,  1.27573165e-03],\n",
              "       ...,\n",
              "       [-1.07759964e+00,  1.72214879e+00,  1.34735218e+00, ...,\n",
              "        -3.97650051e-01, -1.16445375e-01,  9.18422526e-01],\n",
              "       [ 8.58003372e-01, -1.20786953e+00, -1.49736665e+00, ...,\n",
              "        -2.09967818e-01, -1.16445375e-01,  1.52985372e+00],\n",
              "       [ 6.89690067e-01,  5.50141460e-01, -7.50072348e-02, ...,\n",
              "        -1.08565098e+00, -1.16445375e-01, -1.23789740e-01]])"
            ]
          },
          "metadata": {},
          "execution_count": 46
        }
      ]
    },
    {
      "cell_type": "code",
      "source": [
        "df_train_x_scaled = pd.DataFrame(df_train_x_scaled, columns = df_train_x.columns)\n",
        "df_train_x_scaled.index = df_train_x.index\n",
        "\n",
        "print(df_train_x_scaled.shape)\n",
        "df_train_x_scaled.head()"
      ],
      "metadata": {
        "colab": {
          "base_uri": "https://localhost:8080/",
          "height": 224
        },
        "id": "44WwA86nxvNV",
        "outputId": "8e6229d7-47eb-43a8-c739-9d8055754aab"
      },
      "execution_count": null,
      "outputs": [
        {
          "output_type": "stream",
          "name": "stdout",
          "text": [
            "(256, 12)\n"
          ]
        },
        {
          "output_type": "execute_result",
          "data": {
            "text/plain": [
              "           O3       NO2        CO       SO2      TEMP      RAIN      WIND  \\\n",
              "307  0.521377 -1.305537 -0.786187 -1.562294  0.788661 -0.326210 -0.373910   \n",
              "142 -0.825130  0.354807 -0.075007 -0.035778 -1.338089 -0.326210 -0.797766   \n",
              "76   0.437220 -1.207870 -0.075007 -1.562294  1.034731 -0.326210 -0.746216   \n",
              "109 -0.740973  0.745476 -0.786187 -0.035778  0.308656 -0.326210  0.359246   \n",
              "339  1.026317 -0.914868 -0.786187 -1.562294  0.815444 -0.309976  0.616996   \n",
              "\n",
              "     WIND_DIR  HUMIDITY  ATM_PRESS      SNOW     CLOUD  \n",
              "307 -0.792838  0.628160  -1.146874 -0.116445  0.598811  \n",
              "142  0.316031 -1.662743   1.808871 -0.116445 -1.680160  \n",
              "76   1.245863  0.782603  -0.578809 -0.116445  0.001276  \n",
              "109  1.124581 -0.161215   0.788160 -0.116445  0.654395  \n",
              "339  0.795385  1.323153  -1.407822 -0.116445  0.987903  "
            ],
            "text/html": [
              "\n",
              "  <div id=\"df-e4eb59fd-fbb9-4a13-b196-4b520ab4e745\">\n",
              "    <div class=\"colab-df-container\">\n",
              "      <div>\n",
              "<style scoped>\n",
              "    .dataframe tbody tr th:only-of-type {\n",
              "        vertical-align: middle;\n",
              "    }\n",
              "\n",
              "    .dataframe tbody tr th {\n",
              "        vertical-align: top;\n",
              "    }\n",
              "\n",
              "    .dataframe thead th {\n",
              "        text-align: right;\n",
              "    }\n",
              "</style>\n",
              "<table border=\"1\" class=\"dataframe\">\n",
              "  <thead>\n",
              "    <tr style=\"text-align: right;\">\n",
              "      <th></th>\n",
              "      <th>O3</th>\n",
              "      <th>NO2</th>\n",
              "      <th>CO</th>\n",
              "      <th>SO2</th>\n",
              "      <th>TEMP</th>\n",
              "      <th>RAIN</th>\n",
              "      <th>WIND</th>\n",
              "      <th>WIND_DIR</th>\n",
              "      <th>HUMIDITY</th>\n",
              "      <th>ATM_PRESS</th>\n",
              "      <th>SNOW</th>\n",
              "      <th>CLOUD</th>\n",
              "    </tr>\n",
              "  </thead>\n",
              "  <tbody>\n",
              "    <tr>\n",
              "      <th>307</th>\n",
              "      <td>0.521377</td>\n",
              "      <td>-1.305537</td>\n",
              "      <td>-0.786187</td>\n",
              "      <td>-1.562294</td>\n",
              "      <td>0.788661</td>\n",
              "      <td>-0.326210</td>\n",
              "      <td>-0.373910</td>\n",
              "      <td>-0.792838</td>\n",
              "      <td>0.628160</td>\n",
              "      <td>-1.146874</td>\n",
              "      <td>-0.116445</td>\n",
              "      <td>0.598811</td>\n",
              "    </tr>\n",
              "    <tr>\n",
              "      <th>142</th>\n",
              "      <td>-0.825130</td>\n",
              "      <td>0.354807</td>\n",
              "      <td>-0.075007</td>\n",
              "      <td>-0.035778</td>\n",
              "      <td>-1.338089</td>\n",
              "      <td>-0.326210</td>\n",
              "      <td>-0.797766</td>\n",
              "      <td>0.316031</td>\n",
              "      <td>-1.662743</td>\n",
              "      <td>1.808871</td>\n",
              "      <td>-0.116445</td>\n",
              "      <td>-1.680160</td>\n",
              "    </tr>\n",
              "    <tr>\n",
              "      <th>76</th>\n",
              "      <td>0.437220</td>\n",
              "      <td>-1.207870</td>\n",
              "      <td>-0.075007</td>\n",
              "      <td>-1.562294</td>\n",
              "      <td>1.034731</td>\n",
              "      <td>-0.326210</td>\n",
              "      <td>-0.746216</td>\n",
              "      <td>1.245863</td>\n",
              "      <td>0.782603</td>\n",
              "      <td>-0.578809</td>\n",
              "      <td>-0.116445</td>\n",
              "      <td>0.001276</td>\n",
              "    </tr>\n",
              "    <tr>\n",
              "      <th>109</th>\n",
              "      <td>-0.740973</td>\n",
              "      <td>0.745476</td>\n",
              "      <td>-0.786187</td>\n",
              "      <td>-0.035778</td>\n",
              "      <td>0.308656</td>\n",
              "      <td>-0.326210</td>\n",
              "      <td>0.359246</td>\n",
              "      <td>1.124581</td>\n",
              "      <td>-0.161215</td>\n",
              "      <td>0.788160</td>\n",
              "      <td>-0.116445</td>\n",
              "      <td>0.654395</td>\n",
              "    </tr>\n",
              "    <tr>\n",
              "      <th>339</th>\n",
              "      <td>1.026317</td>\n",
              "      <td>-0.914868</td>\n",
              "      <td>-0.786187</td>\n",
              "      <td>-1.562294</td>\n",
              "      <td>0.815444</td>\n",
              "      <td>-0.309976</td>\n",
              "      <td>0.616996</td>\n",
              "      <td>0.795385</td>\n",
              "      <td>1.323153</td>\n",
              "      <td>-1.407822</td>\n",
              "      <td>-0.116445</td>\n",
              "      <td>0.987903</td>\n",
              "    </tr>\n",
              "  </tbody>\n",
              "</table>\n",
              "</div>\n",
              "      <button class=\"colab-df-convert\" onclick=\"convertToInteractive('df-e4eb59fd-fbb9-4a13-b196-4b520ab4e745')\"\n",
              "              title=\"Convert this dataframe to an interactive table.\"\n",
              "              style=\"display:none;\">\n",
              "        \n",
              "  <svg xmlns=\"http://www.w3.org/2000/svg\" height=\"24px\"viewBox=\"0 0 24 24\"\n",
              "       width=\"24px\">\n",
              "    <path d=\"M0 0h24v24H0V0z\" fill=\"none\"/>\n",
              "    <path d=\"M18.56 5.44l.94 2.06.94-2.06 2.06-.94-2.06-.94-.94-2.06-.94 2.06-2.06.94zm-11 1L8.5 8.5l.94-2.06 2.06-.94-2.06-.94L8.5 2.5l-.94 2.06-2.06.94zm10 10l.94 2.06.94-2.06 2.06-.94-2.06-.94-.94-2.06-.94 2.06-2.06.94z\"/><path d=\"M17.41 7.96l-1.37-1.37c-.4-.4-.92-.59-1.43-.59-.52 0-1.04.2-1.43.59L10.3 9.45l-7.72 7.72c-.78.78-.78 2.05 0 2.83L4 21.41c.39.39.9.59 1.41.59.51 0 1.02-.2 1.41-.59l7.78-7.78 2.81-2.81c.8-.78.8-2.07 0-2.86zM5.41 20L4 18.59l7.72-7.72 1.47 1.35L5.41 20z\"/>\n",
              "  </svg>\n",
              "      </button>\n",
              "      \n",
              "  <style>\n",
              "    .colab-df-container {\n",
              "      display:flex;\n",
              "      flex-wrap:wrap;\n",
              "      gap: 12px;\n",
              "    }\n",
              "\n",
              "    .colab-df-convert {\n",
              "      background-color: #E8F0FE;\n",
              "      border: none;\n",
              "      border-radius: 50%;\n",
              "      cursor: pointer;\n",
              "      display: none;\n",
              "      fill: #1967D2;\n",
              "      height: 32px;\n",
              "      padding: 0 0 0 0;\n",
              "      width: 32px;\n",
              "    }\n",
              "\n",
              "    .colab-df-convert:hover {\n",
              "      background-color: #E2EBFA;\n",
              "      box-shadow: 0px 1px 2px rgba(60, 64, 67, 0.3), 0px 1px 3px 1px rgba(60, 64, 67, 0.15);\n",
              "      fill: #174EA6;\n",
              "    }\n",
              "\n",
              "    [theme=dark] .colab-df-convert {\n",
              "      background-color: #3B4455;\n",
              "      fill: #D2E3FC;\n",
              "    }\n",
              "\n",
              "    [theme=dark] .colab-df-convert:hover {\n",
              "      background-color: #434B5C;\n",
              "      box-shadow: 0px 1px 3px 1px rgba(0, 0, 0, 0.15);\n",
              "      filter: drop-shadow(0px 1px 2px rgba(0, 0, 0, 0.3));\n",
              "      fill: #FFFFFF;\n",
              "    }\n",
              "  </style>\n",
              "\n",
              "      <script>\n",
              "        const buttonEl =\n",
              "          document.querySelector('#df-e4eb59fd-fbb9-4a13-b196-4b520ab4e745 button.colab-df-convert');\n",
              "        buttonEl.style.display =\n",
              "          google.colab.kernel.accessAllowed ? 'block' : 'none';\n",
              "\n",
              "        async function convertToInteractive(key) {\n",
              "          const element = document.querySelector('#df-e4eb59fd-fbb9-4a13-b196-4b520ab4e745');\n",
              "          const dataTable =\n",
              "            await google.colab.kernel.invokeFunction('convertToInteractive',\n",
              "                                                     [key], {});\n",
              "          if (!dataTable) return;\n",
              "\n",
              "          const docLinkHtml = 'Like what you see? Visit the ' +\n",
              "            '<a target=\"_blank\" href=https://colab.research.google.com/notebooks/data_table.ipynb>data table notebook</a>'\n",
              "            + ' to learn more about interactive tables.';\n",
              "          element.innerHTML = '';\n",
              "          dataTable['output_type'] = 'display_data';\n",
              "          await google.colab.output.renderOutput(dataTable, element);\n",
              "          const docLink = document.createElement('div');\n",
              "          docLink.innerHTML = docLinkHtml;\n",
              "          element.appendChild(docLink);\n",
              "        }\n",
              "      </script>\n",
              "    </div>\n",
              "  </div>\n",
              "  "
            ]
          },
          "metadata": {},
          "execution_count": 63
        }
      ]
    },
    {
      "cell_type": "code",
      "source": [
        "df_train_scaled = pd.concat([df_train_y, df_train_x_scaled], axis = 1)\n",
        "df_train_scaled.head()"
      ],
      "metadata": {
        "colab": {
          "base_uri": "https://localhost:8080/",
          "height": 206
        },
        "id": "vze-G-sxwcgS",
        "outputId": "403e143e-e6ce-4420-917e-98198f6246b1"
      },
      "execution_count": null,
      "outputs": [
        {
          "output_type": "execute_result",
          "data": {
            "text/plain": [
              "     PM10        O3       NO2        CO       SO2      TEMP      RAIN  \\\n",
              "307  25.0  0.521377 -1.305537 -0.786187 -1.562294  0.788661 -0.326210   \n",
              "142  20.0 -0.825130  0.354807 -0.075007 -0.035778 -1.338089 -0.326210   \n",
              "76   14.0  0.437220 -1.207870 -0.075007 -1.562294  1.034731 -0.326210   \n",
              "109  18.0 -0.740973  0.745476 -0.786187 -0.035778  0.308656 -0.326210   \n",
              "339  45.0  1.026317 -0.914868 -0.786187 -1.562294  0.815444 -0.309976   \n",
              "\n",
              "         WIND  WIND_DIR  HUMIDITY  ATM_PRESS      SNOW     CLOUD  \n",
              "307 -0.373910 -0.792838  0.628160  -1.146874 -0.116445  0.598811  \n",
              "142 -0.797766  0.316031 -1.662743   1.808871 -0.116445 -1.680160  \n",
              "76  -0.746216  1.245863  0.782603  -0.578809 -0.116445  0.001276  \n",
              "109  0.359246  1.124581 -0.161215   0.788160 -0.116445  0.654395  \n",
              "339  0.616996  0.795385  1.323153  -1.407822 -0.116445  0.987903  "
            ],
            "text/html": [
              "\n",
              "  <div id=\"df-70e8bafe-f0a5-40cd-9d12-525987c121a0\">\n",
              "    <div class=\"colab-df-container\">\n",
              "      <div>\n",
              "<style scoped>\n",
              "    .dataframe tbody tr th:only-of-type {\n",
              "        vertical-align: middle;\n",
              "    }\n",
              "\n",
              "    .dataframe tbody tr th {\n",
              "        vertical-align: top;\n",
              "    }\n",
              "\n",
              "    .dataframe thead th {\n",
              "        text-align: right;\n",
              "    }\n",
              "</style>\n",
              "<table border=\"1\" class=\"dataframe\">\n",
              "  <thead>\n",
              "    <tr style=\"text-align: right;\">\n",
              "      <th></th>\n",
              "      <th>PM10</th>\n",
              "      <th>O3</th>\n",
              "      <th>NO2</th>\n",
              "      <th>CO</th>\n",
              "      <th>SO2</th>\n",
              "      <th>TEMP</th>\n",
              "      <th>RAIN</th>\n",
              "      <th>WIND</th>\n",
              "      <th>WIND_DIR</th>\n",
              "      <th>HUMIDITY</th>\n",
              "      <th>ATM_PRESS</th>\n",
              "      <th>SNOW</th>\n",
              "      <th>CLOUD</th>\n",
              "    </tr>\n",
              "  </thead>\n",
              "  <tbody>\n",
              "    <tr>\n",
              "      <th>307</th>\n",
              "      <td>25.0</td>\n",
              "      <td>0.521377</td>\n",
              "      <td>-1.305537</td>\n",
              "      <td>-0.786187</td>\n",
              "      <td>-1.562294</td>\n",
              "      <td>0.788661</td>\n",
              "      <td>-0.326210</td>\n",
              "      <td>-0.373910</td>\n",
              "      <td>-0.792838</td>\n",
              "      <td>0.628160</td>\n",
              "      <td>-1.146874</td>\n",
              "      <td>-0.116445</td>\n",
              "      <td>0.598811</td>\n",
              "    </tr>\n",
              "    <tr>\n",
              "      <th>142</th>\n",
              "      <td>20.0</td>\n",
              "      <td>-0.825130</td>\n",
              "      <td>0.354807</td>\n",
              "      <td>-0.075007</td>\n",
              "      <td>-0.035778</td>\n",
              "      <td>-1.338089</td>\n",
              "      <td>-0.326210</td>\n",
              "      <td>-0.797766</td>\n",
              "      <td>0.316031</td>\n",
              "      <td>-1.662743</td>\n",
              "      <td>1.808871</td>\n",
              "      <td>-0.116445</td>\n",
              "      <td>-1.680160</td>\n",
              "    </tr>\n",
              "    <tr>\n",
              "      <th>76</th>\n",
              "      <td>14.0</td>\n",
              "      <td>0.437220</td>\n",
              "      <td>-1.207870</td>\n",
              "      <td>-0.075007</td>\n",
              "      <td>-1.562294</td>\n",
              "      <td>1.034731</td>\n",
              "      <td>-0.326210</td>\n",
              "      <td>-0.746216</td>\n",
              "      <td>1.245863</td>\n",
              "      <td>0.782603</td>\n",
              "      <td>-0.578809</td>\n",
              "      <td>-0.116445</td>\n",
              "      <td>0.001276</td>\n",
              "    </tr>\n",
              "    <tr>\n",
              "      <th>109</th>\n",
              "      <td>18.0</td>\n",
              "      <td>-0.740973</td>\n",
              "      <td>0.745476</td>\n",
              "      <td>-0.786187</td>\n",
              "      <td>-0.035778</td>\n",
              "      <td>0.308656</td>\n",
              "      <td>-0.326210</td>\n",
              "      <td>0.359246</td>\n",
              "      <td>1.124581</td>\n",
              "      <td>-0.161215</td>\n",
              "      <td>0.788160</td>\n",
              "      <td>-0.116445</td>\n",
              "      <td>0.654395</td>\n",
              "    </tr>\n",
              "    <tr>\n",
              "      <th>339</th>\n",
              "      <td>45.0</td>\n",
              "      <td>1.026317</td>\n",
              "      <td>-0.914868</td>\n",
              "      <td>-0.786187</td>\n",
              "      <td>-1.562294</td>\n",
              "      <td>0.815444</td>\n",
              "      <td>-0.309976</td>\n",
              "      <td>0.616996</td>\n",
              "      <td>0.795385</td>\n",
              "      <td>1.323153</td>\n",
              "      <td>-1.407822</td>\n",
              "      <td>-0.116445</td>\n",
              "      <td>0.987903</td>\n",
              "    </tr>\n",
              "  </tbody>\n",
              "</table>\n",
              "</div>\n",
              "      <button class=\"colab-df-convert\" onclick=\"convertToInteractive('df-70e8bafe-f0a5-40cd-9d12-525987c121a0')\"\n",
              "              title=\"Convert this dataframe to an interactive table.\"\n",
              "              style=\"display:none;\">\n",
              "        \n",
              "  <svg xmlns=\"http://www.w3.org/2000/svg\" height=\"24px\"viewBox=\"0 0 24 24\"\n",
              "       width=\"24px\">\n",
              "    <path d=\"M0 0h24v24H0V0z\" fill=\"none\"/>\n",
              "    <path d=\"M18.56 5.44l.94 2.06.94-2.06 2.06-.94-2.06-.94-.94-2.06-.94 2.06-2.06.94zm-11 1L8.5 8.5l.94-2.06 2.06-.94-2.06-.94L8.5 2.5l-.94 2.06-2.06.94zm10 10l.94 2.06.94-2.06 2.06-.94-2.06-.94-.94-2.06-.94 2.06-2.06.94z\"/><path d=\"M17.41 7.96l-1.37-1.37c-.4-.4-.92-.59-1.43-.59-.52 0-1.04.2-1.43.59L10.3 9.45l-7.72 7.72c-.78.78-.78 2.05 0 2.83L4 21.41c.39.39.9.59 1.41.59.51 0 1.02-.2 1.41-.59l7.78-7.78 2.81-2.81c.8-.78.8-2.07 0-2.86zM5.41 20L4 18.59l7.72-7.72 1.47 1.35L5.41 20z\"/>\n",
              "  </svg>\n",
              "      </button>\n",
              "      \n",
              "  <style>\n",
              "    .colab-df-container {\n",
              "      display:flex;\n",
              "      flex-wrap:wrap;\n",
              "      gap: 12px;\n",
              "    }\n",
              "\n",
              "    .colab-df-convert {\n",
              "      background-color: #E8F0FE;\n",
              "      border: none;\n",
              "      border-radius: 50%;\n",
              "      cursor: pointer;\n",
              "      display: none;\n",
              "      fill: #1967D2;\n",
              "      height: 32px;\n",
              "      padding: 0 0 0 0;\n",
              "      width: 32px;\n",
              "    }\n",
              "\n",
              "    .colab-df-convert:hover {\n",
              "      background-color: #E2EBFA;\n",
              "      box-shadow: 0px 1px 2px rgba(60, 64, 67, 0.3), 0px 1px 3px 1px rgba(60, 64, 67, 0.15);\n",
              "      fill: #174EA6;\n",
              "    }\n",
              "\n",
              "    [theme=dark] .colab-df-convert {\n",
              "      background-color: #3B4455;\n",
              "      fill: #D2E3FC;\n",
              "    }\n",
              "\n",
              "    [theme=dark] .colab-df-convert:hover {\n",
              "      background-color: #434B5C;\n",
              "      box-shadow: 0px 1px 3px 1px rgba(0, 0, 0, 0.15);\n",
              "      filter: drop-shadow(0px 1px 2px rgba(0, 0, 0, 0.3));\n",
              "      fill: #FFFFFF;\n",
              "    }\n",
              "  </style>\n",
              "\n",
              "      <script>\n",
              "        const buttonEl =\n",
              "          document.querySelector('#df-70e8bafe-f0a5-40cd-9d12-525987c121a0 button.colab-df-convert');\n",
              "        buttonEl.style.display =\n",
              "          google.colab.kernel.accessAllowed ? 'block' : 'none';\n",
              "\n",
              "        async function convertToInteractive(key) {\n",
              "          const element = document.querySelector('#df-70e8bafe-f0a5-40cd-9d12-525987c121a0');\n",
              "          const dataTable =\n",
              "            await google.colab.kernel.invokeFunction('convertToInteractive',\n",
              "                                                     [key], {});\n",
              "          if (!dataTable) return;\n",
              "\n",
              "          const docLinkHtml = 'Like what you see? Visit the ' +\n",
              "            '<a target=\"_blank\" href=https://colab.research.google.com/notebooks/data_table.ipynb>data table notebook</a>'\n",
              "            + ' to learn more about interactive tables.';\n",
              "          element.innerHTML = '';\n",
              "          dataTable['output_type'] = 'display_data';\n",
              "          await google.colab.output.renderOutput(dataTable, element);\n",
              "          const docLink = document.createElement('div');\n",
              "          docLink.innerHTML = docLinkHtml;\n",
              "          element.appendChild(docLink);\n",
              "        }\n",
              "      </script>\n",
              "    </div>\n",
              "  </div>\n",
              "  "
            ]
          },
          "metadata": {},
          "execution_count": 66
        }
      ]
    },
    {
      "cell_type": "code",
      "source": [
        "reg_scaled_model = smf.ols(formula = \"PM10 ~ O3 + NO2 + CO + SO2 + TEMP + RAIN + WIND + WIND_DIR + HUMIDITY + ATM_PRESS + SNOW + CLOUD\",\n",
        "                           data = df_train)\n",
        "\n",
        "reg_scaled_result = reg_scaled_model.fit()\n",
        "print(reg_scaled_result.summary())"
      ],
      "metadata": {
        "colab": {
          "base_uri": "https://localhost:8080/"
        },
        "id": "FN_nDboxwxdF",
        "outputId": "1a8e2a30-4c3c-4bbe-b898-30073369c42f"
      },
      "execution_count": null,
      "outputs": [
        {
          "output_type": "stream",
          "name": "stdout",
          "text": [
            "                            OLS Regression Results                            \n",
            "==============================================================================\n",
            "Dep. Variable:                   PM10   R-squared:                       0.535\n",
            "Model:                            OLS   Adj. R-squared:                  0.512\n",
            "Method:                 Least Squares   F-statistic:                     23.31\n",
            "Date:                Mon, 15 Aug 2022   Prob (F-statistic):           4.32e-34\n",
            "Time:                        04:45:03   Log-Likelihood:                -961.92\n",
            "No. Observations:                 256   AIC:                             1950.\n",
            "Df Residuals:                     243   BIC:                             1996.\n",
            "Df Model:                          12                                         \n",
            "Covariance Type:            nonrobust                                         \n",
            "==============================================================================\n",
            "                 coef    std err          t      P>|t|      [0.025      0.975]\n",
            "------------------------------------------------------------------------------\n",
            "Intercept    357.7070    183.008      1.955      0.052      -2.778     718.192\n",
            "O3           541.0291     92.968      5.820      0.000     357.903     724.156\n",
            "NO2          455.6062    147.994      3.079      0.002     164.091     747.121\n",
            "CO            59.5406      9.026      6.596      0.000      41.761      77.320\n",
            "SO2          963.0013   1447.325      0.665      0.506   -1887.903    3813.906\n",
            "TEMP          -0.6172      0.142     -4.353      0.000      -0.897      -0.338\n",
            "RAIN          -0.6605      0.625     -1.057      0.291      -1.891       0.570\n",
            "WIND           0.4780      1.273      0.376      0.708      -2.029       2.985\n",
            "WIND_DIR       0.0347      0.012      2.857      0.005       0.011       0.059\n",
            "HUMIDITY      -0.0389      0.076     -0.511      0.610      -0.189       0.111\n",
            "ATM_PRESS     -0.3784      0.179     -2.117      0.035      -0.730      -0.026\n",
            "SNOW          -1.8580      2.718     -0.684      0.495      -7.212       3.496\n",
            "CLOUD          0.0191      0.330      0.058      0.954      -0.630       0.669\n",
            "==============================================================================\n",
            "Omnibus:                       46.129   Durbin-Watson:                   1.852\n",
            "Prob(Omnibus):                  0.000   Jarque-Bera (JB):               76.212\n",
            "Skew:                           1.003   Prob(JB):                     2.82e-17\n",
            "Kurtosis:                       4.767   Cond. No.                     2.24e+06\n",
            "==============================================================================\n",
            "\n",
            "Warnings:\n",
            "[1] Standard Errors assume that the covariance matrix of the errors is correctly specified.\n",
            "[2] The condition number is large, 2.24e+06. This might indicate that there are\n",
            "strong multicollinearity or other numerical problems.\n"
          ]
        }
      ]
    },
    {
      "cell_type": "markdown",
      "source": [
        "**<모델의 자유도 및 유의성 확인하기>**\n",
        "- 해당 회귀모형은 총 256개의 관측값을 가지고 있으며, 잔차와 모델의 자유도는 각각 243개와 12개이다.\n",
        "- F통계량 23.31에 대한 유의확률 = 4.32e-34 < 0.05이므로 모델이 유의하다는 결론을 내릴 수 있다.\n",
        "- 이 모델의 수정결정계수는 0.512이며, 약 51.2%의 다소 약한 설명력을 갖는다.\n",
        "\n",
        "**<회귀계수의 유의성 확인하기>**\n",
        "- O3, NO2, CO, TEMP, WIND_DIR, ATM_PRESS의 t통계량은 각각 5.820, 3.079, 6.596, -4.353, 2.857, -2.117이다.\n",
        "- 각각의 설명변수에 대한 유의확률 0.000, 0.002, 0.000, 0.000, 0.005, 0.035 < 0.05이므로 회귀계수의 유의성을 받아들일 수 있다."
      ],
      "metadata": {
        "id": "l4d4UEfV0k5d"
      }
    },
    {
      "cell_type": "markdown",
      "source": [
        "#### **잔차의 가정 확인하기**"
      ],
      "metadata": {
        "id": "NAh1I42P2wEy"
      }
    },
    {
      "cell_type": "markdown",
      "source": [
        "**등분산성**"
      ],
      "metadata": {
        "id": "Zf8C0GQF3HSZ"
      }
    },
    {
      "cell_type": "code",
      "source": [
        "plt.scatter(reg_scaled_result.fittedvalues, reg_scaled_result.resid)\n",
        "plt.xlabel('fitted value')\n",
        "plt.ylabel('residual')\n",
        "plt.axhline(y = 0, linestyle = '--')"
      ],
      "metadata": {
        "colab": {
          "base_uri": "https://localhost:8080/",
          "height": 297
        },
        "id": "sU7nG2kK1smM",
        "outputId": "48d4b509-9d57-45ec-f5f9-cc8cac1bd915"
      },
      "execution_count": null,
      "outputs": [
        {
          "output_type": "execute_result",
          "data": {
            "text/plain": [
              "<matplotlib.lines.Line2D at 0x7ff1843a11d0>"
            ]
          },
          "metadata": {},
          "execution_count": 72
        },
        {
          "output_type": "display_data",
          "data": {
            "text/plain": [
              "<Figure size 432x288 with 1 Axes>"
            ],
            "image/png": "[encoded data removed]"
          },
          "metadata": {
            "needs_background": "light"
          }
        }
      ]
    },
    {
      "cell_type": "markdown",
      "source": [
        "- 잔차가 y=0을 기준으로 random하게 산포되어 있으므로 등분산성을 만족하는 것으로 볼 수 있다."
      ],
      "metadata": {
        "id": "5-iksCrQ3CH0"
      }
    },
    {
      "cell_type": "markdown",
      "source": [
        "**독립성**"
      ],
      "metadata": {
        "id": "qsknf2Ky3Itj"
      }
    },
    {
      "cell_type": "code",
      "source": [
        "plt.scatter(df_train.index, reg_scaled_result.resid)\n",
        "plt.xlabel('Data'); plt.ylabel('Residual')\n",
        "plt.axhline(y = 0, linestyle = '-', label = 'CL')\n",
        "plt.axhline(y = 3 * np.std(reg_scaled_result.resid), linestyle = '--', label = 'UCL')\n",
        "plt.axhline(y = -3 * np.std(reg_scaled_result.resid), linestyle = '--', label = 'LCL')\n",
        "plt.legend()"
      ],
      "metadata": {
        "colab": {
          "base_uri": "https://localhost:8080/",
          "height": 297
        },
        "id": "6LX0p6eW1soL",
        "outputId": "d5895001-27f1-468e-bcf2-d5c57e9e3b4b"
      },
      "execution_count": null,
      "outputs": [
        {
          "output_type": "execute_result",
          "data": {
            "text/plain": [
              "<matplotlib.legend.Legend at 0x7ff18119c1d0>"
            ]
          },
          "metadata": {},
          "execution_count": 73
        },
        {
          "output_type": "display_data",
          "data": {
            "text/plain": [
              "<Figure size 432x288 with 1 Axes>"
            ],
            "image/png": "[encoded data removed]"
          },
          "metadata": {
            "needs_background": "light"
          }
        }
      ]
    },
    {
      "cell_type": "markdown",
      "source": [
        "- 3개의 데이터가 관리상한선을 벗어나 분포되어 있다.\n",
        "- 전반적으로 독립성을 만족하는 것으로 해석할 수 있다."
      ],
      "metadata": {
        "id": "GqLNHnJ33r4j"
      }
    },
    {
      "cell_type": "markdown",
      "source": [
        "#### **규제화 적용하기**"
      ],
      "metadata": {
        "id": "wavNOAon4SXc"
      }
    },
    {
      "cell_type": "code",
      "source": [
        "elastic = ElasticNet(alpha = 1,\n",
        "                     l1_ratio = 0.5)\n",
        "elastic.fit(df_train_x_scaled, df_train_y)\n",
        "print('intercept : {}\\n'.format(elastic.intercept_))\n",
        "\n",
        "df_elastic_coef = pd.DataFrame({'Coef' : elastic.coef_},\n",
        "                               index = df_train_x.columns)\n",
        "df_elastic_coef.sort_values(by = 'Coef', ascending = False)"
      ],
      "metadata": {
        "colab": {
          "base_uri": "https://localhost:8080/",
          "height": 462
        },
        "id": "V_Pj36nw1srs",
        "outputId": "71e583ad-8925-48c1-c321-714adafb9f03"
      },
      "execution_count": null,
      "outputs": [
        {
          "output_type": "stream",
          "name": "stdout",
          "text": [
            "intercept : 32.640625\n",
            "\n"
          ]
        },
        {
          "output_type": "execute_result",
          "data": {
            "text/plain": [
              "               Coef\n",
              "CO         4.517786\n",
              "SO2        1.938559\n",
              "O3         1.725914\n",
              "NO2        1.625055\n",
              "WIND_DIR   0.626001\n",
              "WIND      -0.000000\n",
              "ATM_PRESS  0.000000\n",
              "SNOW       0.000000\n",
              "HUMIDITY  -0.042659\n",
              "RAIN      -0.244778\n",
              "CLOUD     -0.451924\n",
              "TEMP      -1.820777"
            ],
            "text/html": [
              "\n",
              "  <div id=\"df-63efb35e-ec13-4afc-bcf4-9b614baeee09\">\n",
              "    <div class=\"colab-df-container\">\n",
              "      <div>\n",
              "<style scoped>\n",
              "    .dataframe tbody tr th:only-of-type {\n",
              "        vertical-align: middle;\n",
              "    }\n",
              "\n",
              "    .dataframe tbody tr th {\n",
              "        vertical-align: top;\n",
              "    }\n",
              "\n",
              "    .dataframe thead th {\n",
              "        text-align: right;\n",
              "    }\n",
              "</style>\n",
              "<table border=\"1\" class=\"dataframe\">\n",
              "  <thead>\n",
              "    <tr style=\"text-align: right;\">\n",
              "      <th></th>\n",
              "      <th>Coef</th>\n",
              "    </tr>\n",
              "  </thead>\n",
              "  <tbody>\n",
              "    <tr>\n",
              "      <th>CO</th>\n",
              "      <td>4.517786</td>\n",
              "    </tr>\n",
              "    <tr>\n",
              "      <th>SO2</th>\n",
              "      <td>1.938559</td>\n",
              "    </tr>\n",
              "    <tr>\n",
              "      <th>O3</th>\n",
              "      <td>1.725914</td>\n",
              "    </tr>\n",
              "    <tr>\n",
              "      <th>NO2</th>\n",
              "      <td>1.625055</td>\n",
              "    </tr>\n",
              "    <tr>\n",
              "      <th>WIND_DIR</th>\n",
              "      <td>0.626001</td>\n",
              "    </tr>\n",
              "    <tr>\n",
              "      <th>WIND</th>\n",
              "      <td>-0.000000</td>\n",
              "    </tr>\n",
              "    <tr>\n",
              "      <th>ATM_PRESS</th>\n",
              "      <td>0.000000</td>\n",
              "    </tr>\n",
              "    <tr>\n",
              "      <th>SNOW</th>\n",
              "      <td>0.000000</td>\n",
              "    </tr>\n",
              "    <tr>\n",
              "      <th>HUMIDITY</th>\n",
              "      <td>-0.042659</td>\n",
              "    </tr>\n",
              "    <tr>\n",
              "      <th>RAIN</th>\n",
              "      <td>-0.244778</td>\n",
              "    </tr>\n",
              "    <tr>\n",
              "      <th>CLOUD</th>\n",
              "      <td>-0.451924</td>\n",
              "    </tr>\n",
              "    <tr>\n",
              "      <th>TEMP</th>\n",
              "      <td>-1.820777</td>\n",
              "    </tr>\n",
              "  </tbody>\n",
              "</table>\n",
              "</div>\n",
              "      <button class=\"colab-df-convert\" onclick=\"convertToInteractive('df-63efb35e-ec13-4afc-bcf4-9b614baeee09')\"\n",
              "              title=\"Convert this dataframe to an interactive table.\"\n",
              "              style=\"display:none;\">\n",
              "        \n",
              "  <svg xmlns=\"http://www.w3.org/2000/svg\" height=\"24px\"viewBox=\"0 0 24 24\"\n",
              "       width=\"24px\">\n",
              "    <path d=\"M0 0h24v24H0V0z\" fill=\"none\"/>\n",
              "    <path d=\"M18.56 5.44l.94 2.06.94-2.06 2.06-.94-2.06-.94-.94-2.06-.94 2.06-2.06.94zm-11 1L8.5 8.5l.94-2.06 2.06-.94-2.06-.94L8.5 2.5l-.94 2.06-2.06.94zm10 10l.94 2.06.94-2.06 2.06-.94-2.06-.94-.94-2.06-.94 2.06-2.06.94z\"/><path d=\"M17.41 7.96l-1.37-1.37c-.4-.4-.92-.59-1.43-.59-.52 0-1.04.2-1.43.59L10.3 9.45l-7.72 7.72c-.78.78-.78 2.05 0 2.83L4 21.41c.39.39.9.59 1.41.59.51 0 1.02-.2 1.41-.59l7.78-7.78 2.81-2.81c.8-.78.8-2.07 0-2.86zM5.41 20L4 18.59l7.72-7.72 1.47 1.35L5.41 20z\"/>\n",
              "  </svg>\n",
              "      </button>\n",
              "      \n",
              "  <style>\n",
              "    .colab-df-container {\n",
              "      display:flex;\n",
              "      flex-wrap:wrap;\n",
              "      gap: 12px;\n",
              "    }\n",
              "\n",
              "    .colab-df-convert {\n",
              "      background-color: #E8F0FE;\n",
              "      border: none;\n",
              "      border-radius: 50%;\n",
              "      cursor: pointer;\n",
              "      display: none;\n",
              "      fill: #1967D2;\n",
              "      height: 32px;\n",
              "      padding: 0 0 0 0;\n",
              "      width: 32px;\n",
              "    }\n",
              "\n",
              "    .colab-df-convert:hover {\n",
              "      background-color: #E2EBFA;\n",
              "      box-shadow: 0px 1px 2px rgba(60, 64, 67, 0.3), 0px 1px 3px 1px rgba(60, 64, 67, 0.15);\n",
              "      fill: #174EA6;\n",
              "    }\n",
              "\n",
              "    [theme=dark] .colab-df-convert {\n",
              "      background-color: #3B4455;\n",
              "      fill: #D2E3FC;\n",
              "    }\n",
              "\n",
              "    [theme=dark] .colab-df-convert:hover {\n",
              "      background-color: #434B5C;\n",
              "      box-shadow: 0px 1px 3px 1px rgba(0, 0, 0, 0.15);\n",
              "      filter: drop-shadow(0px 1px 2px rgba(0, 0, 0, 0.3));\n",
              "      fill: #FFFFFF;\n",
              "    }\n",
              "  </style>\n",
              "\n",
              "      <script>\n",
              "        const buttonEl =\n",
              "          document.querySelector('#df-63efb35e-ec13-4afc-bcf4-9b614baeee09 button.colab-df-convert');\n",
              "        buttonEl.style.display =\n",
              "          google.colab.kernel.accessAllowed ? 'block' : 'none';\n",
              "\n",
              "        async function convertToInteractive(key) {\n",
              "          const element = document.querySelector('#df-63efb35e-ec13-4afc-bcf4-9b614baeee09');\n",
              "          const dataTable =\n",
              "            await google.colab.kernel.invokeFunction('convertToInteractive',\n",
              "                                                     [key], {});\n",
              "          if (!dataTable) return;\n",
              "\n",
              "          const docLinkHtml = 'Like what you see? Visit the ' +\n",
              "            '<a target=\"_blank\" href=https://colab.research.google.com/notebooks/data_table.ipynb>data table notebook</a>'\n",
              "            + ' to learn more about interactive tables.';\n",
              "          element.innerHTML = '';\n",
              "          dataTable['output_type'] = 'display_data';\n",
              "          await google.colab.output.renderOutput(dataTable, element);\n",
              "          const docLink = document.createElement('div');\n",
              "          docLink.innerHTML = docLinkHtml;\n",
              "          element.appendChild(docLink);\n",
              "        }\n",
              "      </script>\n",
              "    </div>\n",
              "  </div>\n",
              "  "
            ]
          },
          "metadata": {},
          "execution_count": 86
        }
      ]
    },
    {
      "cell_type": "code",
      "source": [
        "df_elastic_coef.plot.barh(y = 'Coef', legend = False)"
      ],
      "metadata": {
        "colab": {
          "base_uri": "https://localhost:8080/",
          "height": 283
        },
        "id": "CrYSEE2b1suq",
        "outputId": "c5610869-6594-4c8a-b2fd-863719e68b0e"
      },
      "execution_count": null,
      "outputs": [
        {
          "output_type": "execute_result",
          "data": {
            "text/plain": [
              "<matplotlib.axes._subplots.AxesSubplot at 0x7ff181637f10>"
            ]
          },
          "metadata": {},
          "execution_count": 87
        },
        {
          "output_type": "display_data",
          "data": {
            "text/plain": [
              "<Figure size 432x288 with 1 Axes>"
            ],
            "image/png": "[encoded data removed]"
          },
          "metadata": {
            "needs_background": "light"
          }
        }
      ]
    },
    {
      "cell_type": "markdown",
      "source": [
        "- CO, SO2, O3, NO2는 PM10과 양의 인과관계를 가지며, TEMP의 경우 음의 인과관계를 갖는다.\n",
        "- CO, SO2, O3, NO2의 농도가 높아질수록 & 온도가 낮아질수록 미세먼지의 농도가 높아진다는 것을 확인할 수 있다."
      ],
      "metadata": {
        "id": "SEz5wTZC5Tr7"
      }
    },
    {
      "cell_type": "markdown",
      "source": [
        "# **MODELING : 선정한 요인을 이용하여 미세먼지 발생 예측 모델 만들기**"
      ],
      "metadata": {
        "id": "woOQqNWUfpN9"
      }
    },
    {
      "cell_type": "markdown",
      "source": [
        "### **Vital few로 선정한 설명변수 구성하기**"
      ],
      "metadata": {
        "id": "8qFjugp8ug5q"
      }
    },
    {
      "cell_type": "code",
      "source": [
        "df_raw_x_vf = df_raw_x[['O3', 'NO2', 'CO', 'SO2','TEMP', 'CLOUD']]\n",
        "\n",
        "print(df_raw_x_vf.shape)\n",
        "df_raw_x_vf.head()"
      ],
      "metadata": {
        "id": "eCLXiDBOs_QL",
        "outputId": "50c6f743-8040-4a52-9762-c64f5746c8d7",
        "colab": {
          "base_uri": "https://localhost:8080/",
          "height": 224
        }
      },
      "execution_count": null,
      "outputs": [
        {
          "output_type": "stream",
          "name": "stdout",
          "text": [
            "(366, 6)\n"
          ]
        },
        {
          "output_type": "execute_result",
          "data": {
            "text/plain": [
              "      O3    NO2   CO    SO2       TEMP     CLOUD\n",
              "0  0.054  0.021  0.5  0.003  24.034783  5.695652\n",
              "1  0.053  0.020  0.5  0.003  24.287500  3.833333\n",
              "2  0.042  0.023  0.4  0.003  24.175000  6.291667\n",
              "3  0.034  0.026  0.4  0.003  25.354167  2.541667\n",
              "4  0.045  0.035  0.5  0.003  27.295833  3.916667"
            ],
            "text/html": [
              "\n",
              "  <div id=\"df-1e22f446-7332-4542-8f5b-0aa16f2afc11\">\n",
              "    <div class=\"colab-df-container\">\n",
              "      <div>\n",
              "<style scoped>\n",
              "    .dataframe tbody tr th:only-of-type {\n",
              "        vertical-align: middle;\n",
              "    }\n",
              "\n",
              "    .dataframe tbody tr th {\n",
              "        vertical-align: top;\n",
              "    }\n",
              "\n",
              "    .dataframe thead th {\n",
              "        text-align: right;\n",
              "    }\n",
              "</style>\n",
              "<table border=\"1\" class=\"dataframe\">\n",
              "  <thead>\n",
              "    <tr style=\"text-align: right;\">\n",
              "      <th></th>\n",
              "      <th>O3</th>\n",
              "      <th>NO2</th>\n",
              "      <th>CO</th>\n",
              "      <th>SO2</th>\n",
              "      <th>TEMP</th>\n",
              "      <th>CLOUD</th>\n",
              "    </tr>\n",
              "  </thead>\n",
              "  <tbody>\n",
              "    <tr>\n",
              "      <th>0</th>\n",
              "      <td>0.054</td>\n",
              "      <td>0.021</td>\n",
              "      <td>0.5</td>\n",
              "      <td>0.003</td>\n",
              "      <td>24.034783</td>\n",
              "      <td>5.695652</td>\n",
              "    </tr>\n",
              "    <tr>\n",
              "      <th>1</th>\n",
              "      <td>0.053</td>\n",
              "      <td>0.020</td>\n",
              "      <td>0.5</td>\n",
              "      <td>0.003</td>\n",
              "      <td>24.287500</td>\n",
              "      <td>3.833333</td>\n",
              "    </tr>\n",
              "    <tr>\n",
              "      <th>2</th>\n",
              "      <td>0.042</td>\n",
              "      <td>0.023</td>\n",
              "      <td>0.4</td>\n",
              "      <td>0.003</td>\n",
              "      <td>24.175000</td>\n",
              "      <td>6.291667</td>\n",
              "    </tr>\n",
              "    <tr>\n",
              "      <th>3</th>\n",
              "      <td>0.034</td>\n",
              "      <td>0.026</td>\n",
              "      <td>0.4</td>\n",
              "      <td>0.003</td>\n",
              "      <td>25.354167</td>\n",
              "      <td>2.541667</td>\n",
              "    </tr>\n",
              "    <tr>\n",
              "      <th>4</th>\n",
              "      <td>0.045</td>\n",
              "      <td>0.035</td>\n",
              "      <td>0.5</td>\n",
              "      <td>0.003</td>\n",
              "      <td>27.295833</td>\n",
              "      <td>3.916667</td>\n",
              "    </tr>\n",
              "  </tbody>\n",
              "</table>\n",
              "</div>\n",
              "      <button class=\"colab-df-convert\" onclick=\"convertToInteractive('df-1e22f446-7332-4542-8f5b-0aa16f2afc11')\"\n",
              "              title=\"Convert this dataframe to an interactive table.\"\n",
              "              style=\"display:none;\">\n",
              "        \n",
              "  <svg xmlns=\"http://www.w3.org/2000/svg\" height=\"24px\"viewBox=\"0 0 24 24\"\n",
              "       width=\"24px\">\n",
              "    <path d=\"M0 0h24v24H0V0z\" fill=\"none\"/>\n",
              "    <path d=\"M18.56 5.44l.94 2.06.94-2.06 2.06-.94-2.06-.94-.94-2.06-.94 2.06-2.06.94zm-11 1L8.5 8.5l.94-2.06 2.06-.94-2.06-.94L8.5 2.5l-.94 2.06-2.06.94zm10 10l.94 2.06.94-2.06 2.06-.94-2.06-.94-.94-2.06-.94 2.06-2.06.94z\"/><path d=\"M17.41 7.96l-1.37-1.37c-.4-.4-.92-.59-1.43-.59-.52 0-1.04.2-1.43.59L10.3 9.45l-7.72 7.72c-.78.78-.78 2.05 0 2.83L4 21.41c.39.39.9.59 1.41.59.51 0 1.02-.2 1.41-.59l7.78-7.78 2.81-2.81c.8-.78.8-2.07 0-2.86zM5.41 20L4 18.59l7.72-7.72 1.47 1.35L5.41 20z\"/>\n",
              "  </svg>\n",
              "      </button>\n",
              "      \n",
              "  <style>\n",
              "    .colab-df-container {\n",
              "      display:flex;\n",
              "      flex-wrap:wrap;\n",
              "      gap: 12px;\n",
              "    }\n",
              "\n",
              "    .colab-df-convert {\n",
              "      background-color: #E8F0FE;\n",
              "      border: none;\n",
              "      border-radius: 50%;\n",
              "      cursor: pointer;\n",
              "      display: none;\n",
              "      fill: #1967D2;\n",
              "      height: 32px;\n",
              "      padding: 0 0 0 0;\n",
              "      width: 32px;\n",
              "    }\n",
              "\n",
              "    .colab-df-convert:hover {\n",
              "      background-color: #E2EBFA;\n",
              "      box-shadow: 0px 1px 2px rgba(60, 64, 67, 0.3), 0px 1px 3px 1px rgba(60, 64, 67, 0.15);\n",
              "      fill: #174EA6;\n",
              "    }\n",
              "\n",
              "    [theme=dark] .colab-df-convert {\n",
              "      background-color: #3B4455;\n",
              "      fill: #D2E3FC;\n",
              "    }\n",
              "\n",
              "    [theme=dark] .colab-df-convert:hover {\n",
              "      background-color: #434B5C;\n",
              "      box-shadow: 0px 1px 3px 1px rgba(0, 0, 0, 0.15);\n",
              "      filter: drop-shadow(0px 1px 2px rgba(0, 0, 0, 0.3));\n",
              "      fill: #FFFFFF;\n",
              "    }\n",
              "  </style>\n",
              "\n",
              "      <script>\n",
              "        const buttonEl =\n",
              "          document.querySelector('#df-1e22f446-7332-4542-8f5b-0aa16f2afc11 button.colab-df-convert');\n",
              "        buttonEl.style.display =\n",
              "          google.colab.kernel.accessAllowed ? 'block' : 'none';\n",
              "\n",
              "        async function convertToInteractive(key) {\n",
              "          const element = document.querySelector('#df-1e22f446-7332-4542-8f5b-0aa16f2afc11');\n",
              "          const dataTable =\n",
              "            await google.colab.kernel.invokeFunction('convertToInteractive',\n",
              "                                                     [key], {});\n",
              "          if (!dataTable) return;\n",
              "\n",
              "          const docLinkHtml = 'Like what you see? Visit the ' +\n",
              "            '<a target=\"_blank\" href=https://colab.research.google.com/notebooks/data_table.ipynb>data table notebook</a>'\n",
              "            + ' to learn more about interactive tables.';\n",
              "          element.innerHTML = '';\n",
              "          dataTable['output_type'] = 'display_data';\n",
              "          await google.colab.output.renderOutput(dataTable, element);\n",
              "          const docLink = document.createElement('div');\n",
              "          docLink.innerHTML = docLinkHtml;\n",
              "          element.appendChild(docLink);\n",
              "        }\n",
              "      </script>\n",
              "    </div>\n",
              "  </div>\n",
              "  "
            ]
          },
          "metadata": {},
          "execution_count": 66
        }
      ]
    },
    {
      "cell_type": "code",
      "source": [
        "df_train_x_vf, df_test_x_vf, df_train_y_vf, df_test_y_vf = train_test_split(df_raw_x_vf,\n",
        "                                                                            df_raw_y,\n",
        "                                                                            test_size = 0.3)"
      ],
      "metadata": {
        "id": "wUV5GW41tpzA"
      },
      "execution_count": null,
      "outputs": []
    },
    {
      "cell_type": "code",
      "source": [
        "print(df_train_x_vf.shape)\n",
        "df_train_x_vf.head()"
      ],
      "metadata": {
        "id": "xlj9lXKAt3Wl",
        "outputId": "8fcf8082-4c3f-4359-8dee-9d732b802101",
        "colab": {
          "base_uri": "https://localhost:8080/",
          "height": 224
        }
      },
      "execution_count": null,
      "outputs": [
        {
          "output_type": "stream",
          "name": "stdout",
          "text": [
            "(256, 6)\n"
          ]
        },
        {
          "output_type": "execute_result",
          "data": {
            "text/plain": [
              "        O3    NO2   CO    SO2       TEMP     CLOUD\n",
              "138  0.004  0.045  0.8  0.003   6.858333  5.458333\n",
              "47   0.061  0.016  0.5  0.003  26.025000  5.333333\n",
              "216  0.020  0.029  0.8  0.004   1.475000  5.875000\n",
              "25   0.021  0.027  0.5  0.002  25.058333  9.875000\n",
              "253  0.023  0.021  0.6  0.003   7.054167  8.291667"
            ],
            "text/html": [
              "\n",
              "  <div id=\"df-6e648e21-a80f-4ff7-a5fd-aa0caea243ff\">\n",
              "    <div class=\"colab-df-container\">\n",
              "      <div>\n",
              "<style scoped>\n",
              "    .dataframe tbody tr th:only-of-type {\n",
              "        vertical-align: middle;\n",
              "    }\n",
              "\n",
              "    .dataframe tbody tr th {\n",
              "        vertical-align: top;\n",
              "    }\n",
              "\n",
              "    .dataframe thead th {\n",
              "        text-align: right;\n",
              "    }\n",
              "</style>\n",
              "<table border=\"1\" class=\"dataframe\">\n",
              "  <thead>\n",
              "    <tr style=\"text-align: right;\">\n",
              "      <th></th>\n",
              "      <th>O3</th>\n",
              "      <th>NO2</th>\n",
              "      <th>CO</th>\n",
              "      <th>SO2</th>\n",
              "      <th>TEMP</th>\n",
              "      <th>CLOUD</th>\n",
              "    </tr>\n",
              "  </thead>\n",
              "  <tbody>\n",
              "    <tr>\n",
              "      <th>138</th>\n",
              "      <td>0.004</td>\n",
              "      <td>0.045</td>\n",
              "      <td>0.8</td>\n",
              "      <td>0.003</td>\n",
              "      <td>6.858333</td>\n",
              "      <td>5.458333</td>\n",
              "    </tr>\n",
              "    <tr>\n",
              "      <th>47</th>\n",
              "      <td>0.061</td>\n",
              "      <td>0.016</td>\n",
              "      <td>0.5</td>\n",
              "      <td>0.003</td>\n",
              "      <td>26.025000</td>\n",
              "      <td>5.333333</td>\n",
              "    </tr>\n",
              "    <tr>\n",
              "      <th>216</th>\n",
              "      <td>0.020</td>\n",
              "      <td>0.029</td>\n",
              "      <td>0.8</td>\n",
              "      <td>0.004</td>\n",
              "      <td>1.475000</td>\n",
              "      <td>5.875000</td>\n",
              "    </tr>\n",
              "    <tr>\n",
              "      <th>25</th>\n",
              "      <td>0.021</td>\n",
              "      <td>0.027</td>\n",
              "      <td>0.5</td>\n",
              "      <td>0.002</td>\n",
              "      <td>25.058333</td>\n",
              "      <td>9.875000</td>\n",
              "    </tr>\n",
              "    <tr>\n",
              "      <th>253</th>\n",
              "      <td>0.023</td>\n",
              "      <td>0.021</td>\n",
              "      <td>0.6</td>\n",
              "      <td>0.003</td>\n",
              "      <td>7.054167</td>\n",
              "      <td>8.291667</td>\n",
              "    </tr>\n",
              "  </tbody>\n",
              "</table>\n",
              "</div>\n",
              "      <button class=\"colab-df-convert\" onclick=\"convertToInteractive('df-6e648e21-a80f-4ff7-a5fd-aa0caea243ff')\"\n",
              "              title=\"Convert this dataframe to an interactive table.\"\n",
              "              style=\"display:none;\">\n",
              "        \n",
              "  <svg xmlns=\"http://www.w3.org/2000/svg\" height=\"24px\"viewBox=\"0 0 24 24\"\n",
              "       width=\"24px\">\n",
              "    <path d=\"M0 0h24v24H0V0z\" fill=\"none\"/>\n",
              "    <path d=\"M18.56 5.44l.94 2.06.94-2.06 2.06-.94-2.06-.94-.94-2.06-.94 2.06-2.06.94zm-11 1L8.5 8.5l.94-2.06 2.06-.94-2.06-.94L8.5 2.5l-.94 2.06-2.06.94zm10 10l.94 2.06.94-2.06 2.06-.94-2.06-.94-.94-2.06-.94 2.06-2.06.94z\"/><path d=\"M17.41 7.96l-1.37-1.37c-.4-.4-.92-.59-1.43-.59-.52 0-1.04.2-1.43.59L10.3 9.45l-7.72 7.72c-.78.78-.78 2.05 0 2.83L4 21.41c.39.39.9.59 1.41.59.51 0 1.02-.2 1.41-.59l7.78-7.78 2.81-2.81c.8-.78.8-2.07 0-2.86zM5.41 20L4 18.59l7.72-7.72 1.47 1.35L5.41 20z\"/>\n",
              "  </svg>\n",
              "      </button>\n",
              "      \n",
              "  <style>\n",
              "    .colab-df-container {\n",
              "      display:flex;\n",
              "      flex-wrap:wrap;\n",
              "      gap: 12px;\n",
              "    }\n",
              "\n",
              "    .colab-df-convert {\n",
              "      background-color: #E8F0FE;\n",
              "      border: none;\n",
              "      border-radius: 50%;\n",
              "      cursor: pointer;\n",
              "      display: none;\n",
              "      fill: #1967D2;\n",
              "      height: 32px;\n",
              "      padding: 0 0 0 0;\n",
              "      width: 32px;\n",
              "    }\n",
              "\n",
              "    .colab-df-convert:hover {\n",
              "      background-color: #E2EBFA;\n",
              "      box-shadow: 0px 1px 2px rgba(60, 64, 67, 0.3), 0px 1px 3px 1px rgba(60, 64, 67, 0.15);\n",
              "      fill: #174EA6;\n",
              "    }\n",
              "\n",
              "    [theme=dark] .colab-df-convert {\n",
              "      background-color: #3B4455;\n",
              "      fill: #D2E3FC;\n",
              "    }\n",
              "\n",
              "    [theme=dark] .colab-df-convert:hover {\n",
              "      background-color: #434B5C;\n",
              "      box-shadow: 0px 1px 3px 1px rgba(0, 0, 0, 0.15);\n",
              "      filter: drop-shadow(0px 1px 2px rgba(0, 0, 0, 0.3));\n",
              "      fill: #FFFFFF;\n",
              "    }\n",
              "  </style>\n",
              "\n",
              "      <script>\n",
              "        const buttonEl =\n",
              "          document.querySelector('#df-6e648e21-a80f-4ff7-a5fd-aa0caea243ff button.colab-df-convert');\n",
              "        buttonEl.style.display =\n",
              "          google.colab.kernel.accessAllowed ? 'block' : 'none';\n",
              "\n",
              "        async function convertToInteractive(key) {\n",
              "          const element = document.querySelector('#df-6e648e21-a80f-4ff7-a5fd-aa0caea243ff');\n",
              "          const dataTable =\n",
              "            await google.colab.kernel.invokeFunction('convertToInteractive',\n",
              "                                                     [key], {});\n",
              "          if (!dataTable) return;\n",
              "\n",
              "          const docLinkHtml = 'Like what you see? Visit the ' +\n",
              "            '<a target=\"_blank\" href=https://colab.research.google.com/notebooks/data_table.ipynb>data table notebook</a>'\n",
              "            + ' to learn more about interactive tables.';\n",
              "          element.innerHTML = '';\n",
              "          dataTable['output_type'] = 'display_data';\n",
              "          await google.colab.output.renderOutput(dataTable, element);\n",
              "          const docLink = document.createElement('div');\n",
              "          docLink.innerHTML = docLinkHtml;\n",
              "          element.appendChild(docLink);\n",
              "        }\n",
              "      </script>\n",
              "    </div>\n",
              "  </div>\n",
              "  "
            ]
          },
          "metadata": {},
          "execution_count": 68
        }
      ]
    },
    {
      "cell_type": "code",
      "source": [
        "print(df_train_y_vf.shape)\n",
        "df_train_y_vf.head()"
      ],
      "metadata": {
        "id": "V3GCdSYouNoJ",
        "outputId": "17e6fee2-4f4d-4632-fa56-84ed0e5dfb21",
        "colab": {
          "base_uri": "https://localhost:8080/"
        }
      },
      "execution_count": null,
      "outputs": [
        {
          "output_type": "stream",
          "name": "stdout",
          "text": [
            "(256,)\n"
          ]
        },
        {
          "output_type": "execute_result",
          "data": {
            "text/plain": [
              "138    33.0\n",
              "47     29.0\n",
              "216    68.0\n",
              "25     22.0\n",
              "253    38.0\n",
              "Name: PM10, dtype: float64"
            ]
          },
          "metadata": {},
          "execution_count": 69
        }
      ]
    },
    {
      "cell_type": "code",
      "source": [
        "print(df_test_x_vf.shape)\n",
        "df_test_x_vf.head()"
      ],
      "metadata": {
        "id": "_fDfNRSJt8j7",
        "outputId": "fe71c7fc-5ab6-45f2-a248-acee9e8b2125",
        "colab": {
          "base_uri": "https://localhost:8080/",
          "height": 224
        }
      },
      "execution_count": null,
      "outputs": [
        {
          "output_type": "stream",
          "name": "stdout",
          "text": [
            "(110, 6)\n"
          ]
        },
        {
          "output_type": "execute_result",
          "data": {
            "text/plain": [
              "        O3    NO2   CO    SO2       TEMP     CLOUD\n",
              "178  0.014  0.030  0.6  0.003   2.475000  7.208333\n",
              "81   0.014  0.029  0.4  0.003  19.383333  8.708333\n",
              "363  0.044  0.009  0.4  0.003  25.033333  2.625000\n",
              "236  0.031  0.015  0.6  0.003   4.500000  6.583333\n",
              "248  0.028  0.019  0.5  0.003   1.095833  0.000000"
            ],
            "text/html": [
              "\n",
              "  <div id=\"df-214c78ac-cfe7-4fcd-aca7-2c313a9b21fc\">\n",
              "    <div class=\"colab-df-container\">\n",
              "      <div>\n",
              "<style scoped>\n",
              "    .dataframe tbody tr th:only-of-type {\n",
              "        vertical-align: middle;\n",
              "    }\n",
              "\n",
              "    .dataframe tbody tr th {\n",
              "        vertical-align: top;\n",
              "    }\n",
              "\n",
              "    .dataframe thead th {\n",
              "        text-align: right;\n",
              "    }\n",
              "</style>\n",
              "<table border=\"1\" class=\"dataframe\">\n",
              "  <thead>\n",
              "    <tr style=\"text-align: right;\">\n",
              "      <th></th>\n",
              "      <th>O3</th>\n",
              "      <th>NO2</th>\n",
              "      <th>CO</th>\n",
              "      <th>SO2</th>\n",
              "      <th>TEMP</th>\n",
              "      <th>CLOUD</th>\n",
              "    </tr>\n",
              "  </thead>\n",
              "  <tbody>\n",
              "    <tr>\n",
              "      <th>178</th>\n",
              "      <td>0.014</td>\n",
              "      <td>0.030</td>\n",
              "      <td>0.6</td>\n",
              "      <td>0.003</td>\n",
              "      <td>2.475000</td>\n",
              "      <td>7.208333</td>\n",
              "    </tr>\n",
              "    <tr>\n",
              "      <th>81</th>\n",
              "      <td>0.014</td>\n",
              "      <td>0.029</td>\n",
              "      <td>0.4</td>\n",
              "      <td>0.003</td>\n",
              "      <td>19.383333</td>\n",
              "      <td>8.708333</td>\n",
              "    </tr>\n",
              "    <tr>\n",
              "      <th>363</th>\n",
              "      <td>0.044</td>\n",
              "      <td>0.009</td>\n",
              "      <td>0.4</td>\n",
              "      <td>0.003</td>\n",
              "      <td>25.033333</td>\n",
              "      <td>2.625000</td>\n",
              "    </tr>\n",
              "    <tr>\n",
              "      <th>236</th>\n",
              "      <td>0.031</td>\n",
              "      <td>0.015</td>\n",
              "      <td>0.6</td>\n",
              "      <td>0.003</td>\n",
              "      <td>4.500000</td>\n",
              "      <td>6.583333</td>\n",
              "    </tr>\n",
              "    <tr>\n",
              "      <th>248</th>\n",
              "      <td>0.028</td>\n",
              "      <td>0.019</td>\n",
              "      <td>0.5</td>\n",
              "      <td>0.003</td>\n",
              "      <td>1.095833</td>\n",
              "      <td>0.000000</td>\n",
              "    </tr>\n",
              "  </tbody>\n",
              "</table>\n",
              "</div>\n",
              "      <button class=\"colab-df-convert\" onclick=\"convertToInteractive('df-214c78ac-cfe7-4fcd-aca7-2c313a9b21fc')\"\n",
              "              title=\"Convert this dataframe to an interactive table.\"\n",
              "              style=\"display:none;\">\n",
              "        \n",
              "  <svg xmlns=\"http://www.w3.org/2000/svg\" height=\"24px\"viewBox=\"0 0 24 24\"\n",
              "       width=\"24px\">\n",
              "    <path d=\"M0 0h24v24H0V0z\" fill=\"none\"/>\n",
              "    <path d=\"M18.56 5.44l.94 2.06.94-2.06 2.06-.94-2.06-.94-.94-2.06-.94 2.06-2.06.94zm-11 1L8.5 8.5l.94-2.06 2.06-.94-2.06-.94L8.5 2.5l-.94 2.06-2.06.94zm10 10l.94 2.06.94-2.06 2.06-.94-2.06-.94-.94-2.06-.94 2.06-2.06.94z\"/><path d=\"M17.41 7.96l-1.37-1.37c-.4-.4-.92-.59-1.43-.59-.52 0-1.04.2-1.43.59L10.3 9.45l-7.72 7.72c-.78.78-.78 2.05 0 2.83L4 21.41c.39.39.9.59 1.41.59.51 0 1.02-.2 1.41-.59l7.78-7.78 2.81-2.81c.8-.78.8-2.07 0-2.86zM5.41 20L4 18.59l7.72-7.72 1.47 1.35L5.41 20z\"/>\n",
              "  </svg>\n",
              "      </button>\n",
              "      \n",
              "  <style>\n",
              "    .colab-df-container {\n",
              "      display:flex;\n",
              "      flex-wrap:wrap;\n",
              "      gap: 12px;\n",
              "    }\n",
              "\n",
              "    .colab-df-convert {\n",
              "      background-color: #E8F0FE;\n",
              "      border: none;\n",
              "      border-radius: 50%;\n",
              "      cursor: pointer;\n",
              "      display: none;\n",
              "      fill: #1967D2;\n",
              "      height: 32px;\n",
              "      padding: 0 0 0 0;\n",
              "      width: 32px;\n",
              "    }\n",
              "\n",
              "    .colab-df-convert:hover {\n",
              "      background-color: #E2EBFA;\n",
              "      box-shadow: 0px 1px 2px rgba(60, 64, 67, 0.3), 0px 1px 3px 1px rgba(60, 64, 67, 0.15);\n",
              "      fill: #174EA6;\n",
              "    }\n",
              "\n",
              "    [theme=dark] .colab-df-convert {\n",
              "      background-color: #3B4455;\n",
              "      fill: #D2E3FC;\n",
              "    }\n",
              "\n",
              "    [theme=dark] .colab-df-convert:hover {\n",
              "      background-color: #434B5C;\n",
              "      box-shadow: 0px 1px 3px 1px rgba(0, 0, 0, 0.15);\n",
              "      filter: drop-shadow(0px 1px 2px rgba(0, 0, 0, 0.3));\n",
              "      fill: #FFFFFF;\n",
              "    }\n",
              "  </style>\n",
              "\n",
              "      <script>\n",
              "        const buttonEl =\n",
              "          document.querySelector('#df-214c78ac-cfe7-4fcd-aca7-2c313a9b21fc button.colab-df-convert');\n",
              "        buttonEl.style.display =\n",
              "          google.colab.kernel.accessAllowed ? 'block' : 'none';\n",
              "\n",
              "        async function convertToInteractive(key) {\n",
              "          const element = document.querySelector('#df-214c78ac-cfe7-4fcd-aca7-2c313a9b21fc');\n",
              "          const dataTable =\n",
              "            await google.colab.kernel.invokeFunction('convertToInteractive',\n",
              "                                                     [key], {});\n",
              "          if (!dataTable) return;\n",
              "\n",
              "          const docLinkHtml = 'Like what you see? Visit the ' +\n",
              "            '<a target=\"_blank\" href=https://colab.research.google.com/notebooks/data_table.ipynb>data table notebook</a>'\n",
              "            + ' to learn more about interactive tables.';\n",
              "          element.innerHTML = '';\n",
              "          dataTable['output_type'] = 'display_data';\n",
              "          await google.colab.output.renderOutput(dataTable, element);\n",
              "          const docLink = document.createElement('div');\n",
              "          docLink.innerHTML = docLinkHtml;\n",
              "          element.appendChild(docLink);\n",
              "        }\n",
              "      </script>\n",
              "    </div>\n",
              "  </div>\n",
              "  "
            ]
          },
          "metadata": {},
          "execution_count": 70
        }
      ]
    },
    {
      "cell_type": "code",
      "source": [
        "print(df_test_y_vf.shape)\n",
        "df_test_y_vf.head()"
      ],
      "metadata": {
        "id": "Hgli-rFSuMzF",
        "outputId": "af702907-60ed-4ccf-858d-7829bc89b286",
        "colab": {
          "base_uri": "https://localhost:8080/"
        }
      },
      "execution_count": null,
      "outputs": [
        {
          "output_type": "stream",
          "name": "stdout",
          "text": [
            "(110,)\n"
          ]
        },
        {
          "output_type": "execute_result",
          "data": {
            "text/plain": [
              "178    46.0\n",
              "81     22.0\n",
              "363    27.0\n",
              "236    68.0\n",
              "248    34.0\n",
              "Name: PM10, dtype: float64"
            ]
          },
          "metadata": {},
          "execution_count": 71
        }
      ]
    },
    {
      "cell_type": "markdown",
      "source": [
        "### **Vital Few를 이용하여 의사결정나무(Decision Tree) 모델링하기**"
      ],
      "metadata": {
        "id": "oMVBelQw26l3"
      }
    },
    {
      "cell_type": "code",
      "source": [
        "dt_regressor = DecisionTreeRegressor()\n",
        "dt_regressor.fit(df_train_x_vf, df_train_y_vf)\n",
        "\n",
        "print('Model Score on train set : {:.3f}'.format(dt_regressor.score(df_train_x_vf, df_train_y_vf)))\n",
        "print('Model Score on test set : {:.3f}'.format(dt_regressor.score(df_test_x_vf, df_test_y_vf)))"
      ],
      "metadata": {
        "outputId": "29744a5e-0ba4-4091-a485-f3ccf8984908",
        "colab": {
          "base_uri": "https://localhost:8080/"
        },
        "id": "hpdV-sgY26mA"
      },
      "execution_count": null,
      "outputs": [
        {
          "output_type": "stream",
          "name": "stdout",
          "text": [
            "Model Score on train set : 1.000\n",
            "Model Score on test set : -0.202\n"
          ]
        }
      ]
    },
    {
      "cell_type": "markdown",
      "source": [
        "#### **모델 파라미터 설정하기 : min_samples_leaf**"
      ],
      "metadata": {
        "id": "tYmcqN0S26mB"
      }
    },
    {
      "cell_type": "code",
      "source": [
        "train_score = []; test_score = []\n",
        "para_leaf = [n_leaf * 2 for n_leaf in range(1,20)]\n",
        "\n",
        "for v_min_samples in para_leaf :\n",
        "    dt = DecisionTreeRegressor(min_samples_leaf = v_min_samples)\n",
        "    dt.fit(df_train_x_vf, df_train_y_vf)\n",
        "    train_score.append(dt.score(df_train_x_vf, df_train_y_vf))\n",
        "    test_score.append(dt.score(df_test_x_vf, df_test_y_vf))\n",
        "\n",
        "df_score_leaf = pd.DataFrame()\n",
        "df_score_leaf['MinSamplesLeaf'] = para_leaf\n",
        "df_score_leaf['TrainScore'] = train_score\n",
        "df_score_leaf['TestScore'] = test_score"
      ],
      "metadata": {
        "id": "HLAuUV0c26mB"
      },
      "execution_count": null,
      "outputs": []
    },
    {
      "cell_type": "code",
      "source": [
        "df_score_leaf.round(3)"
      ],
      "metadata": {
        "colab": {
          "base_uri": "https://localhost:8080/",
          "height": 645
        },
        "outputId": "dd6cc57a-e35d-4473-a3c6-05d0bfc8c5d2",
        "id": "NEMdT9S_26mB"
      },
      "execution_count": null,
      "outputs": [
        {
          "output_type": "execute_result",
          "data": {
            "text/plain": [
              "    MinSamplesLeaf  TrainScore  TestScore\n",
              "0                2       0.938      0.058\n",
              "1                4       0.816      0.063\n",
              "2                6       0.740      0.071\n",
              "3                8       0.706      0.097\n",
              "4               10       0.671      0.142\n",
              "5               12       0.614      0.148\n",
              "6               14       0.600      0.136\n",
              "7               16       0.594      0.137\n",
              "8               18       0.592      0.133\n",
              "9               20       0.560      0.164\n",
              "10              22       0.553      0.149\n",
              "11              24       0.510      0.091\n",
              "12              26       0.510      0.091\n",
              "13              28       0.510      0.091\n",
              "14              30       0.507      0.077\n",
              "15              32       0.499      0.063\n",
              "16              34       0.499      0.063\n",
              "17              36       0.425      0.119\n",
              "18              38       0.419      0.115"
            ],
            "text/html": [
              "\n",
              "  <div id=\"df-33a2e04d-089d-44a1-8a83-6cf9a621601a\">\n",
              "    <div class=\"colab-df-container\">\n",
              "      <div>\n",
              "<style scoped>\n",
              "    .dataframe tbody tr th:only-of-type {\n",
              "        vertical-align: middle;\n",
              "    }\n",
              "\n",
              "    .dataframe tbody tr th {\n",
              "        vertical-align: top;\n",
              "    }\n",
              "\n",
              "    .dataframe thead th {\n",
              "        text-align: right;\n",
              "    }\n",
              "</style>\n",
              "<table border=\"1\" class=\"dataframe\">\n",
              "  <thead>\n",
              "    <tr style=\"text-align: right;\">\n",
              "      <th></th>\n",
              "      <th>MinSamplesLeaf</th>\n",
              "      <th>TrainScore</th>\n",
              "      <th>TestScore</th>\n",
              "    </tr>\n",
              "  </thead>\n",
              "  <tbody>\n",
              "    <tr>\n",
              "      <th>0</th>\n",
              "      <td>2</td>\n",
              "      <td>0.938</td>\n",
              "      <td>0.058</td>\n",
              "    </tr>\n",
              "    <tr>\n",
              "      <th>1</th>\n",
              "      <td>4</td>\n",
              "      <td>0.816</td>\n",
              "      <td>0.063</td>\n",
              "    </tr>\n",
              "    <tr>\n",
              "      <th>2</th>\n",
              "      <td>6</td>\n",
              "      <td>0.740</td>\n",
              "      <td>0.071</td>\n",
              "    </tr>\n",
              "    <tr>\n",
              "      <th>3</th>\n",
              "      <td>8</td>\n",
              "      <td>0.706</td>\n",
              "      <td>0.097</td>\n",
              "    </tr>\n",
              "    <tr>\n",
              "      <th>4</th>\n",
              "      <td>10</td>\n",
              "      <td>0.671</td>\n",
              "      <td>0.142</td>\n",
              "    </tr>\n",
              "    <tr>\n",
              "      <th>5</th>\n",
              "      <td>12</td>\n",
              "      <td>0.614</td>\n",
              "      <td>0.148</td>\n",
              "    </tr>\n",
              "    <tr>\n",
              "      <th>6</th>\n",
              "      <td>14</td>\n",
              "      <td>0.600</td>\n",
              "      <td>0.136</td>\n",
              "    </tr>\n",
              "    <tr>\n",
              "      <th>7</th>\n",
              "      <td>16</td>\n",
              "      <td>0.594</td>\n",
              "      <td>0.137</td>\n",
              "    </tr>\n",
              "    <tr>\n",
              "      <th>8</th>\n",
              "      <td>18</td>\n",
              "      <td>0.592</td>\n",
              "      <td>0.133</td>\n",
              "    </tr>\n",
              "    <tr>\n",
              "      <th>9</th>\n",
              "      <td>20</td>\n",
              "      <td>0.560</td>\n",
              "      <td>0.164</td>\n",
              "    </tr>\n",
              "    <tr>\n",
              "      <th>10</th>\n",
              "      <td>22</td>\n",
              "      <td>0.553</td>\n",
              "      <td>0.149</td>\n",
              "    </tr>\n",
              "    <tr>\n",
              "      <th>11</th>\n",
              "      <td>24</td>\n",
              "      <td>0.510</td>\n",
              "      <td>0.091</td>\n",
              "    </tr>\n",
              "    <tr>\n",
              "      <th>12</th>\n",
              "      <td>26</td>\n",
              "      <td>0.510</td>\n",
              "      <td>0.091</td>\n",
              "    </tr>\n",
              "    <tr>\n",
              "      <th>13</th>\n",
              "      <td>28</td>\n",
              "      <td>0.510</td>\n",
              "      <td>0.091</td>\n",
              "    </tr>\n",
              "    <tr>\n",
              "      <th>14</th>\n",
              "      <td>30</td>\n",
              "      <td>0.507</td>\n",
              "      <td>0.077</td>\n",
              "    </tr>\n",
              "    <tr>\n",
              "      <th>15</th>\n",
              "      <td>32</td>\n",
              "      <td>0.499</td>\n",
              "      <td>0.063</td>\n",
              "    </tr>\n",
              "    <tr>\n",
              "      <th>16</th>\n",
              "      <td>34</td>\n",
              "      <td>0.499</td>\n",
              "      <td>0.063</td>\n",
              "    </tr>\n",
              "    <tr>\n",
              "      <th>17</th>\n",
              "      <td>36</td>\n",
              "      <td>0.425</td>\n",
              "      <td>0.119</td>\n",
              "    </tr>\n",
              "    <tr>\n",
              "      <th>18</th>\n",
              "      <td>38</td>\n",
              "      <td>0.419</td>\n",
              "      <td>0.115</td>\n",
              "    </tr>\n",
              "  </tbody>\n",
              "</table>\n",
              "</div>\n",
              "      <button class=\"colab-df-convert\" onclick=\"convertToInteractive('df-33a2e04d-089d-44a1-8a83-6cf9a621601a')\"\n",
              "              title=\"Convert this dataframe to an interactive table.\"\n",
              "              style=\"display:none;\">\n",
              "        \n",
              "  <svg xmlns=\"http://www.w3.org/2000/svg\" height=\"24px\"viewBox=\"0 0 24 24\"\n",
              "       width=\"24px\">\n",
              "    <path d=\"M0 0h24v24H0V0z\" fill=\"none\"/>\n",
              "    <path d=\"M18.56 5.44l.94 2.06.94-2.06 2.06-.94-2.06-.94-.94-2.06-.94 2.06-2.06.94zm-11 1L8.5 8.5l.94-2.06 2.06-.94-2.06-.94L8.5 2.5l-.94 2.06-2.06.94zm10 10l.94 2.06.94-2.06 2.06-.94-2.06-.94-.94-2.06-.94 2.06-2.06.94z\"/><path d=\"M17.41 7.96l-1.37-1.37c-.4-.4-.92-.59-1.43-.59-.52 0-1.04.2-1.43.59L10.3 9.45l-7.72 7.72c-.78.78-.78 2.05 0 2.83L4 21.41c.39.39.9.59 1.41.59.51 0 1.02-.2 1.41-.59l7.78-7.78 2.81-2.81c.8-.78.8-2.07 0-2.86zM5.41 20L4 18.59l7.72-7.72 1.47 1.35L5.41 20z\"/>\n",
              "  </svg>\n",
              "      </button>\n",
              "      \n",
              "  <style>\n",
              "    .colab-df-container {\n",
              "      display:flex;\n",
              "      flex-wrap:wrap;\n",
              "      gap: 12px;\n",
              "    }\n",
              "\n",
              "    .colab-df-convert {\n",
              "      background-color: #E8F0FE;\n",
              "      border: none;\n",
              "      border-radius: 50%;\n",
              "      cursor: pointer;\n",
              "      display: none;\n",
              "      fill: #1967D2;\n",
              "      height: 32px;\n",
              "      padding: 0 0 0 0;\n",
              "      width: 32px;\n",
              "    }\n",
              "\n",
              "    .colab-df-convert:hover {\n",
              "      background-color: #E2EBFA;\n",
              "      box-shadow: 0px 1px 2px rgba(60, 64, 67, 0.3), 0px 1px 3px 1px rgba(60, 64, 67, 0.15);\n",
              "      fill: #174EA6;\n",
              "    }\n",
              "\n",
              "    [theme=dark] .colab-df-convert {\n",
              "      background-color: #3B4455;\n",
              "      fill: #D2E3FC;\n",
              "    }\n",
              "\n",
              "    [theme=dark] .colab-df-convert:hover {\n",
              "      background-color: #434B5C;\n",
              "      box-shadow: 0px 1px 3px 1px rgba(0, 0, 0, 0.15);\n",
              "      filter: drop-shadow(0px 1px 2px rgba(0, 0, 0, 0.3));\n",
              "      fill: #FFFFFF;\n",
              "    }\n",
              "  </style>\n",
              "\n",
              "      <script>\n",
              "        const buttonEl =\n",
              "          document.querySelector('#df-33a2e04d-089d-44a1-8a83-6cf9a621601a button.colab-df-convert');\n",
              "        buttonEl.style.display =\n",
              "          google.colab.kernel.accessAllowed ? 'block' : 'none';\n",
              "\n",
              "        async function convertToInteractive(key) {\n",
              "          const element = document.querySelector('#df-33a2e04d-089d-44a1-8a83-6cf9a621601a');\n",
              "          const dataTable =\n",
              "            await google.colab.kernel.invokeFunction('convertToInteractive',\n",
              "                                                     [key], {});\n",
              "          if (!dataTable) return;\n",
              "\n",
              "          const docLinkHtml = 'Like what you see? Visit the ' +\n",
              "            '<a target=\"_blank\" href=https://colab.research.google.com/notebooks/data_table.ipynb>data table notebook</a>'\n",
              "            + ' to learn more about interactive tables.';\n",
              "          element.innerHTML = '';\n",
              "          dataTable['output_type'] = 'display_data';\n",
              "          await google.colab.output.renderOutput(dataTable, element);\n",
              "          const docLink = document.createElement('div');\n",
              "          docLink.innerHTML = docLinkHtml;\n",
              "          element.appendChild(docLink);\n",
              "        }\n",
              "      </script>\n",
              "    </div>\n",
              "  </div>\n",
              "  "
            ]
          },
          "metadata": {},
          "execution_count": 98
        }
      ]
    },
    {
      "cell_type": "code",
      "source": [
        "plt.plot(para_leaf, train_score, linestyle = '-', label = 'Train Score')\n",
        "plt.plot(para_leaf, test_score, linestyle = '-', label = 'Test Score')\n",
        "plt.ylabel('score'); plt.xlabel('MinSamplesLeaf')\n",
        "plt.legend()"
      ],
      "metadata": {
        "colab": {
          "base_uri": "https://localhost:8080/",
          "height": 297
        },
        "outputId": "7e779468-8d9c-4712-8447-0e9cd2d7fdd1",
        "id": "z0gyj_Kw26mC"
      },
      "execution_count": null,
      "outputs": [
        {
          "output_type": "execute_result",
          "data": {
            "text/plain": [
              "<matplotlib.legend.Legend at 0x7ff8ed6424d0>"
            ]
          },
          "metadata": {},
          "execution_count": 100
        },
        {
          "output_type": "display_data",
          "data": {
            "text/plain": [
              "<Figure size 432x288 with 1 Axes>"
            ],
            "image/png": "[encoded data removed]"
          },
          "metadata": {
            "needs_background": "light"
          }
        }
      ]
    },
    {
      "cell_type": "markdown",
      "source": [
        "- 리프 노드의 최소 샘플 수가 증가할수록 train과 test에 대한 모델의 성능이 감소하거나 변화가 거의 없다.\n",
        "- TrainScore가 0.560, TestScore가 0.164인 **min_samples_leaf = 20**을 선택한다."
      ],
      "metadata": {
        "id": "3zQ6UGA09Jyb"
      }
    },
    {
      "cell_type": "code",
      "source": [
        "v_feature_name = df_train_x_vf.columns\n",
        "\n",
        "tree_graph = DecisionTreeRegressor(min_samples_leaf = 20)\n",
        "tree_graph.fit(df_train_x_vf, df_train_y_vf)\n",
        "export_graphviz(tree_graph, out_file = 'tree_leaf.dot',\n",
        "                feature_names = v_feature_name, impurity = True, filled = True)\n",
        "\n",
        "with open('tree_leaf.dot') as f :\n",
        "    dot_graph = f.read()\n",
        "    display(graphviz.Source(dot_graph))"
      ],
      "metadata": {
        "colab": {
          "base_uri": "https://localhost:8080/",
          "height": 815
        },
        "id": "Sih3TJYr7jgf",
        "outputId": "a57bb01d-8f44-4869-bcb0-64e9a9116330"
      },
      "execution_count": null,
      "outputs": [
        {
          "output_type": "display_data",
          "data": {
            "text/plain": [
              "<graphviz.files.Source at 0x7ff8eeec4510>"
            ],
            "image/svg+xml": "<?xml version=\"1.0\" encoding=\"UTF-8\" standalone=\"no\"?>\n<!DOCTYPE svg PUBLIC \"-//W3C//DTD SVG 1.1//EN\"\n \"http://www.w3.org/Graphics/SVG/1.1/DTD/svg11.dtd\">\n<!-- Generated by graphviz version 2.40.1 (20161225.0304)\n -->\n<!-- Title: Tree Pages: 1 -->\n<svg width=\"1092pt\" height=\"581pt\"\n viewBox=\"0.00 0.00 1092.00 581.00\" xmlns=\"http://www.w3.org/2000/svg\" xmlns:xlink=\"http://www.w3.org/1999/xlink\">\n<g id=\"graph0\" class=\"graph\" transform=\"scale(1 1) rotate(0) translate(4 577)\">\n<title>Tree</title>\n<polygon fill=\"#ffffff\" stroke=\"transparent\" points=\"-4,4 -4,-577 1088,-577 1088,4 -4,4\"/>\n<!-- 0 -->\n<g id=\"node1\" class=\"node\">\n<title>0</title>\n<polygon fill=\"#f5cfb3\" stroke=\"#000000\" points=\"801,-573 624,-573 624,-505 801,-505 801,-573\"/>\n<text text-anchor=\"middle\" x=\"712.5\" y=\"-557.8\" font-family=\"Helvetica,sans-Serif\" font-size=\"14.00\" fill=\"#000000\">CO &lt;= 0.55</text>\n<text text-anchor=\"middle\" x=\"712.5\" y=\"-542.8\" font-family=\"Helvetica,sans-Serif\" font-size=\"14.00\" fill=\"#000000\">squared_error = 245.456</text>\n<text text-anchor=\"middle\" x=\"712.5\" y=\"-527.8\" font-family=\"Helvetica,sans-Serif\" font-size=\"14.00\" fill=\"#000000\">samples = 256</text>\n<text text-anchor=\"middle\" x=\"712.5\" y=\"-512.8\" font-family=\"Helvetica,sans-Serif\" font-size=\"14.00\" fill=\"#000000\">value = 33.645</text>\n</g>\n<!-- 1 -->\n<g id=\"node2\" class=\"node\">\n<title>1</title>\n<polygon fill=\"#f9e1d0\" stroke=\"#000000\" points=\"704,-469 527,-469 527,-401 704,-401 704,-469\"/>\n<text text-anchor=\"middle\" x=\"615.5\" y=\"-453.8\" font-family=\"Helvetica,sans-Serif\" font-size=\"14.00\" fill=\"#000000\">CLOUD &lt;= 8.104</text>\n<text text-anchor=\"middle\" x=\"615.5\" y=\"-438.8\" font-family=\"Helvetica,sans-Serif\" font-size=\"14.00\" fill=\"#000000\">squared_error = 137.137</text>\n<text text-anchor=\"middle\" x=\"615.5\" y=\"-423.8\" font-family=\"Helvetica,sans-Serif\" font-size=\"14.00\" fill=\"#000000\">samples = 177</text>\n<text text-anchor=\"middle\" x=\"615.5\" y=\"-408.8\" font-family=\"Helvetica,sans-Serif\" font-size=\"14.00\" fill=\"#000000\">value = 27.667</text>\n</g>\n<!-- 0&#45;&gt;1 -->\n<g id=\"edge1\" class=\"edge\">\n<title>0&#45;&gt;1</title>\n<path fill=\"none\" stroke=\"#000000\" d=\"M680.7386,-504.9465C672.2806,-495.8782 663.0486,-485.9799 654.2613,-476.5585\"/>\n<polygon fill=\"#000000\" stroke=\"#000000\" points=\"656.713,-474.0557 647.3328,-469.13 651.594,-478.8302 656.713,-474.0557\"/>\n<text text-anchor=\"middle\" x=\"646.4627\" y=\"-490.4148\" font-family=\"Helvetica,sans-Serif\" font-size=\"14.00\" fill=\"#000000\">True</text>\n</g>\n<!-- 14 -->\n<g id=\"node15\" class=\"node\">\n<title>14</title>\n<polygon fill=\"#eca571\" stroke=\"#000000\" points=\"899,-469 722,-469 722,-401 899,-401 899,-469\"/>\n<text text-anchor=\"middle\" x=\"810.5\" y=\"-453.8\" font-family=\"Helvetica,sans-Serif\" font-size=\"14.00\" fill=\"#000000\">CO &lt;= 0.75</text>\n<text text-anchor=\"middle\" x=\"810.5\" y=\"-438.8\" font-family=\"Helvetica,sans-Serif\" font-size=\"14.00\" fill=\"#000000\">squared_error = 228.695</text>\n<text text-anchor=\"middle\" x=\"810.5\" y=\"-423.8\" font-family=\"Helvetica,sans-Serif\" font-size=\"14.00\" fill=\"#000000\">samples = 79</text>\n<text text-anchor=\"middle\" x=\"810.5\" y=\"-408.8\" font-family=\"Helvetica,sans-Serif\" font-size=\"14.00\" fill=\"#000000\">value = 47.038</text>\n</g>\n<!-- 0&#45;&gt;14 -->\n<g id=\"edge14\" class=\"edge\">\n<title>0&#45;&gt;14</title>\n<path fill=\"none\" stroke=\"#000000\" d=\"M744.5889,-504.9465C753.134,-495.8782 762.4613,-485.9799 771.3391,-476.5585\"/>\n<polygon fill=\"#000000\" stroke=\"#000000\" points=\"774.0283,-478.8082 778.339,-469.13 768.9337,-474.0076 774.0283,-478.8082\"/>\n<text text-anchor=\"middle\" x=\"779.0813\" y=\"-490.419\" font-family=\"Helvetica,sans-Serif\" font-size=\"14.00\" fill=\"#000000\">False</text>\n</g>\n<!-- 2 -->\n<g id=\"node3\" class=\"node\">\n<title>2</title>\n<polygon fill=\"#f7d9c4\" stroke=\"#000000\" points=\"515,-365 338,-365 338,-297 515,-297 515,-365\"/>\n<text text-anchor=\"middle\" x=\"426.5\" y=\"-349.8\" font-family=\"Helvetica,sans-Serif\" font-size=\"14.00\" fill=\"#000000\">TEMP &lt;= 15.846</text>\n<text text-anchor=\"middle\" x=\"426.5\" y=\"-334.8\" font-family=\"Helvetica,sans-Serif\" font-size=\"14.00\" fill=\"#000000\">squared_error = 126.337</text>\n<text text-anchor=\"middle\" x=\"426.5\" y=\"-319.8\" font-family=\"Helvetica,sans-Serif\" font-size=\"14.00\" fill=\"#000000\">samples = 140</text>\n<text text-anchor=\"middle\" x=\"426.5\" y=\"-304.8\" font-family=\"Helvetica,sans-Serif\" font-size=\"14.00\" fill=\"#000000\">value = 30.186</text>\n</g>\n<!-- 1&#45;&gt;2 -->\n<g id=\"edge2\" class=\"edge\">\n<title>1&#45;&gt;2</title>\n<path fill=\"none\" stroke=\"#000000\" d=\"M553.6143,-400.9465C535.6659,-391.0701 515.9284,-380.2093 497.4699,-370.0522\"/>\n<polygon fill=\"#000000\" stroke=\"#000000\" points=\"498.9733,-366.8846 488.5247,-365.13 495.5985,-373.0174 498.9733,-366.8846\"/>\n</g>\n<!-- 13 -->\n<g id=\"node14\" class=\"node\">\n<title>13</title>\n<polygon fill=\"#ffffff\" stroke=\"#000000\" points=\"702,-357.5 533,-357.5 533,-304.5 702,-304.5 702,-357.5\"/>\n<text text-anchor=\"middle\" x=\"617.5\" y=\"-342.3\" font-family=\"Helvetica,sans-Serif\" font-size=\"14.00\" fill=\"#000000\">squared_error = 63.144</text>\n<text text-anchor=\"middle\" x=\"617.5\" y=\"-327.3\" font-family=\"Helvetica,sans-Serif\" font-size=\"14.00\" fill=\"#000000\">samples = 37</text>\n<text text-anchor=\"middle\" x=\"617.5\" y=\"-312.3\" font-family=\"Helvetica,sans-Serif\" font-size=\"14.00\" fill=\"#000000\">value = 18.135</text>\n</g>\n<!-- 1&#45;&gt;13 -->\n<g id=\"edge13\" class=\"edge\">\n<title>1&#45;&gt;13</title>\n<path fill=\"none\" stroke=\"#000000\" d=\"M616.1549,-400.9465C616.3603,-390.2621 616.588,-378.4254 616.7966,-367.5742\"/>\n<polygon fill=\"#000000\" stroke=\"#000000\" points=\"620.2966,-367.6076 616.9896,-357.5422 613.2979,-367.473 620.2966,-367.6076\"/>\n</g>\n<!-- 3 -->\n<g id=\"node4\" class=\"node\">\n<title>3</title>\n<polygon fill=\"#f5cfb4\" stroke=\"#000000\" points=\"372,-261 195,-261 195,-193 372,-193 372,-261\"/>\n<text text-anchor=\"middle\" x=\"283.5\" y=\"-245.8\" font-family=\"Helvetica,sans-Serif\" font-size=\"14.00\" fill=\"#000000\">O3 &lt;= 0.021</text>\n<text text-anchor=\"middle\" x=\"283.5\" y=\"-230.8\" font-family=\"Helvetica,sans-Serif\" font-size=\"14.00\" fill=\"#000000\">squared_error = 153.456</text>\n<text text-anchor=\"middle\" x=\"283.5\" y=\"-215.8\" font-family=\"Helvetica,sans-Serif\" font-size=\"14.00\" fill=\"#000000\">samples = 68</text>\n<text text-anchor=\"middle\" x=\"283.5\" y=\"-200.8\" font-family=\"Helvetica,sans-Serif\" font-size=\"14.00\" fill=\"#000000\">value = 33.485</text>\n</g>\n<!-- 2&#45;&gt;3 -->\n<g id=\"edge3\" class=\"edge\">\n<title>2&#45;&gt;3</title>\n<path fill=\"none\" stroke=\"#000000\" d=\"M379.6765,-296.9465C366.5902,-287.4293 352.247,-276.9978 338.7241,-267.163\"/>\n<polygon fill=\"#000000\" stroke=\"#000000\" points=\"340.5747,-264.1812 330.4287,-261.13 336.4575,-269.8423 340.5747,-264.1812\"/>\n</g>\n<!-- 8 -->\n<g id=\"node9\" class=\"node\">\n<title>8</title>\n<polygon fill=\"#f9e3d3\" stroke=\"#000000\" points=\"559,-261 390,-261 390,-193 559,-193 559,-261\"/>\n<text text-anchor=\"middle\" x=\"474.5\" y=\"-245.8\" font-family=\"Helvetica,sans-Serif\" font-size=\"14.00\" fill=\"#000000\">O3 &lt;= 0.035</text>\n<text text-anchor=\"middle\" x=\"474.5\" y=\"-230.8\" font-family=\"Helvetica,sans-Serif\" font-size=\"14.00\" fill=\"#000000\">squared_error = 80.731</text>\n<text text-anchor=\"middle\" x=\"474.5\" y=\"-215.8\" font-family=\"Helvetica,sans-Serif\" font-size=\"14.00\" fill=\"#000000\">samples = 72</text>\n<text text-anchor=\"middle\" x=\"474.5\" y=\"-200.8\" font-family=\"Helvetica,sans-Serif\" font-size=\"14.00\" fill=\"#000000\">value = 27.069</text>\n</g>\n<!-- 2&#45;&gt;8 -->\n<g id=\"edge8\" class=\"edge\">\n<title>2&#45;&gt;8</title>\n<path fill=\"none\" stroke=\"#000000\" d=\"M442.217,-296.9465C446.1537,-288.4169 450.4294,-279.153 454.542,-270.2424\"/>\n<polygon fill=\"#000000\" stroke=\"#000000\" points=\"457.7349,-271.6763 458.7477,-261.13 451.3792,-268.7429 457.7349,-271.6763\"/>\n</g>\n<!-- 4 -->\n<g id=\"node5\" class=\"node\">\n<title>4</title>\n<polygon fill=\"#f9e3d3\" stroke=\"#000000\" points=\"177,-149.5 8,-149.5 8,-96.5 177,-96.5 177,-149.5\"/>\n<text text-anchor=\"middle\" x=\"92.5\" y=\"-134.3\" font-family=\"Helvetica,sans-Serif\" font-size=\"14.00\" fill=\"#000000\">squared_error = 89.498</text>\n<text text-anchor=\"middle\" x=\"92.5\" y=\"-119.3\" font-family=\"Helvetica,sans-Serif\" font-size=\"14.00\" fill=\"#000000\">samples = 22</text>\n<text text-anchor=\"middle\" x=\"92.5\" y=\"-104.3\" font-family=\"Helvetica,sans-Serif\" font-size=\"14.00\" fill=\"#000000\">value = 27.045</text>\n</g>\n<!-- 3&#45;&gt;4 -->\n<g id=\"edge4\" class=\"edge\">\n<title>3&#45;&gt;4</title>\n<path fill=\"none\" stroke=\"#000000\" d=\"M220.9595,-192.9465C198.2015,-180.5547 172.5973,-166.6132 150.2711,-154.4565\"/>\n<polygon fill=\"#000000\" stroke=\"#000000\" points=\"151.7019,-151.2504 141.2457,-149.5422 148.3544,-157.3982 151.7019,-151.2504\"/>\n</g>\n<!-- 5 -->\n<g id=\"node6\" class=\"node\">\n<title>5</title>\n<polygon fill=\"#f3c5a5\" stroke=\"#000000\" points=\"372,-157 195,-157 195,-89 372,-89 372,-157\"/>\n<text text-anchor=\"middle\" x=\"283.5\" y=\"-141.8\" font-family=\"Helvetica,sans-Serif\" font-size=\"14.00\" fill=\"#000000\">CLOUD &lt;= 2.729</text>\n<text text-anchor=\"middle\" x=\"283.5\" y=\"-126.8\" font-family=\"Helvetica,sans-Serif\" font-size=\"14.00\" fill=\"#000000\">squared_error = 154.724</text>\n<text text-anchor=\"middle\" x=\"283.5\" y=\"-111.8\" font-family=\"Helvetica,sans-Serif\" font-size=\"14.00\" fill=\"#000000\">samples = 46</text>\n<text text-anchor=\"middle\" x=\"283.5\" y=\"-96.8\" font-family=\"Helvetica,sans-Serif\" font-size=\"14.00\" fill=\"#000000\">value = 36.565</text>\n</g>\n<!-- 3&#45;&gt;5 -->\n<g id=\"edge5\" class=\"edge\">\n<title>3&#45;&gt;5</title>\n<path fill=\"none\" stroke=\"#000000\" d=\"M283.5,-192.9465C283.5,-184.776 283.5,-175.9318 283.5,-167.3697\"/>\n<polygon fill=\"#000000\" stroke=\"#000000\" points=\"287.0001,-167.13 283.5,-157.13 280.0001,-167.13 287.0001,-167.13\"/>\n</g>\n<!-- 6 -->\n<g id=\"node7\" class=\"node\">\n<title>6</title>\n<polygon fill=\"#f4cbae\" stroke=\"#000000\" points=\"177,-53 0,-53 0,0 177,0 177,-53\"/>\n<text text-anchor=\"middle\" x=\"88.5\" y=\"-37.8\" font-family=\"Helvetica,sans-Serif\" font-size=\"14.00\" fill=\"#000000\">squared_error = 113.972</text>\n<text text-anchor=\"middle\" x=\"88.5\" y=\"-22.8\" font-family=\"Helvetica,sans-Serif\" font-size=\"14.00\" fill=\"#000000\">samples = 24</text>\n<text text-anchor=\"middle\" x=\"88.5\" y=\"-7.8\" font-family=\"Helvetica,sans-Serif\" font-size=\"14.00\" fill=\"#000000\">value = 34.667</text>\n</g>\n<!-- 5&#45;&gt;6 -->\n<g id=\"edge6\" class=\"edge\">\n<title>5&#45;&gt;6</title>\n<path fill=\"none\" stroke=\"#000000\" d=\"M214.7503,-88.9777C194.1161,-78.7664 171.5951,-67.6214 151.3617,-57.6085\"/>\n<polygon fill=\"#000000\" stroke=\"#000000\" points=\"152.7562,-54.3935 142.2412,-53.095 149.6515,-60.6673 152.7562,-54.3935\"/>\n</g>\n<!-- 7 -->\n<g id=\"node8\" class=\"node\">\n<title>7</title>\n<polygon fill=\"#f2bf9a\" stroke=\"#000000\" points=\"372,-53 195,-53 195,0 372,0 372,-53\"/>\n<text text-anchor=\"middle\" x=\"283.5\" y=\"-37.8\" font-family=\"Helvetica,sans-Serif\" font-size=\"14.00\" fill=\"#000000\">squared_error = 190.959</text>\n<text text-anchor=\"middle\" x=\"283.5\" y=\"-22.8\" font-family=\"Helvetica,sans-Serif\" font-size=\"14.00\" fill=\"#000000\">samples = 22</text>\n<text text-anchor=\"middle\" x=\"283.5\" y=\"-7.8\" font-family=\"Helvetica,sans-Serif\" font-size=\"14.00\" fill=\"#000000\">value = 38.636</text>\n</g>\n<!-- 5&#45;&gt;7 -->\n<g id=\"edge7\" class=\"edge\">\n<title>5&#45;&gt;7</title>\n<path fill=\"none\" stroke=\"#000000\" d=\"M283.5,-88.9777C283.5,-80.7364 283.5,-71.887 283.5,-63.5153\"/>\n<polygon fill=\"#000000\" stroke=\"#000000\" points=\"287.0001,-63.2484 283.5,-53.2485 280.0001,-63.2485 287.0001,-63.2484\"/>\n</g>\n<!-- 9 -->\n<g id=\"node10\" class=\"node\">\n<title>9</title>\n<polygon fill=\"#fcefe5\" stroke=\"#000000\" points=\"559,-157 390,-157 390,-89 559,-89 559,-157\"/>\n<text text-anchor=\"middle\" x=\"474.5\" y=\"-141.8\" font-family=\"Helvetica,sans-Serif\" font-size=\"14.00\" fill=\"#000000\">TEMP &lt;= 22.496</text>\n<text text-anchor=\"middle\" x=\"474.5\" y=\"-126.8\" font-family=\"Helvetica,sans-Serif\" font-size=\"14.00\" fill=\"#000000\">squared_error = 49.622</text>\n<text text-anchor=\"middle\" x=\"474.5\" y=\"-111.8\" font-family=\"Helvetica,sans-Serif\" font-size=\"14.00\" fill=\"#000000\">samples = 43</text>\n<text text-anchor=\"middle\" x=\"474.5\" y=\"-96.8\" font-family=\"Helvetica,sans-Serif\" font-size=\"14.00\" fill=\"#000000\">value = 23.349</text>\n</g>\n<!-- 8&#45;&gt;9 -->\n<g id=\"edge9\" class=\"edge\">\n<title>8&#45;&gt;9</title>\n<path fill=\"none\" stroke=\"#000000\" d=\"M474.5,-192.9465C474.5,-184.776 474.5,-175.9318 474.5,-167.3697\"/>\n<polygon fill=\"#000000\" stroke=\"#000000\" points=\"478.0001,-167.13 474.5,-157.13 471.0001,-167.13 478.0001,-167.13\"/>\n</g>\n<!-- 12 -->\n<g id=\"node13\" class=\"node\">\n<title>12</title>\n<polygon fill=\"#f6d2b8\" stroke=\"#000000\" points=\"746,-149.5 577,-149.5 577,-96.5 746,-96.5 746,-149.5\"/>\n<text text-anchor=\"middle\" x=\"661.5\" y=\"-134.3\" font-family=\"Helvetica,sans-Serif\" font-size=\"14.00\" fill=\"#000000\">squared_error = 75.898</text>\n<text text-anchor=\"middle\" x=\"661.5\" y=\"-119.3\" font-family=\"Helvetica,sans-Serif\" font-size=\"14.00\" fill=\"#000000\">samples = 29</text>\n<text text-anchor=\"middle\" x=\"661.5\" y=\"-104.3\" font-family=\"Helvetica,sans-Serif\" font-size=\"14.00\" fill=\"#000000\">value = 32.586</text>\n</g>\n<!-- 8&#45;&gt;12 -->\n<g id=\"edge12\" class=\"edge\">\n<title>8&#45;&gt;12</title>\n<path fill=\"none\" stroke=\"#000000\" d=\"M535.7308,-192.9465C558.0121,-180.5547 583.0802,-166.6132 604.9387,-154.4565\"/>\n<polygon fill=\"#000000\" stroke=\"#000000\" points=\"606.7369,-157.4614 613.7751,-149.5422 603.3346,-151.3438 606.7369,-157.4614\"/>\n</g>\n<!-- 10 -->\n<g id=\"node11\" class=\"node\">\n<title>10</title>\n<polygon fill=\"#fbebdf\" stroke=\"#000000\" points=\"559,-53 390,-53 390,0 559,0 559,-53\"/>\n<text text-anchor=\"middle\" x=\"474.5\" y=\"-37.8\" font-family=\"Helvetica,sans-Serif\" font-size=\"14.00\" fill=\"#000000\">squared_error = 47.096</text>\n<text text-anchor=\"middle\" x=\"474.5\" y=\"-22.8\" font-family=\"Helvetica,sans-Serif\" font-size=\"14.00\" fill=\"#000000\">samples = 23</text>\n<text text-anchor=\"middle\" x=\"474.5\" y=\"-7.8\" font-family=\"Helvetica,sans-Serif\" font-size=\"14.00\" fill=\"#000000\">value = 24.652</text>\n</g>\n<!-- 9&#45;&gt;10 -->\n<g id=\"edge10\" class=\"edge\">\n<title>9&#45;&gt;10</title>\n<path fill=\"none\" stroke=\"#000000\" d=\"M474.5,-88.9777C474.5,-80.7364 474.5,-71.887 474.5,-63.5153\"/>\n<polygon fill=\"#000000\" stroke=\"#000000\" points=\"478.0001,-63.2484 474.5,-53.2485 471.0001,-63.2485 478.0001,-63.2484\"/>\n</g>\n<!-- 11 -->\n<g id=\"node12\" class=\"node\">\n<title>11</title>\n<polygon fill=\"#fdf3ed\" stroke=\"#000000\" points=\"746,-53 577,-53 577,0 746,0 746,-53\"/>\n<text text-anchor=\"middle\" x=\"661.5\" y=\"-37.8\" font-family=\"Helvetica,sans-Serif\" font-size=\"14.00\" fill=\"#000000\">squared_error = 48.327</text>\n<text text-anchor=\"middle\" x=\"661.5\" y=\"-22.8\" font-family=\"Helvetica,sans-Serif\" font-size=\"14.00\" fill=\"#000000\">samples = 20</text>\n<text text-anchor=\"middle\" x=\"661.5\" y=\"-7.8\" font-family=\"Helvetica,sans-Serif\" font-size=\"14.00\" fill=\"#000000\">value = 21.85</text>\n</g>\n<!-- 9&#45;&gt;11 -->\n<g id=\"edge11\" class=\"edge\">\n<title>9&#45;&gt;11</title>\n<path fill=\"none\" stroke=\"#000000\" d=\"M540.4292,-88.9777C560.1278,-78.8124 581.6194,-67.7218 600.9549,-57.7439\"/>\n<polygon fill=\"#000000\" stroke=\"#000000\" points=\"602.682,-60.7912 609.9635,-53.095 599.4719,-54.5706 602.682,-60.7912\"/>\n</g>\n<!-- 15 -->\n<g id=\"node16\" class=\"node\">\n<title>15</title>\n<polygon fill=\"#efb387\" stroke=\"#000000\" points=\"897,-365 720,-365 720,-297 897,-297 897,-365\"/>\n<text text-anchor=\"middle\" x=\"808.5\" y=\"-349.8\" font-family=\"Helvetica,sans-Serif\" font-size=\"14.00\" fill=\"#000000\">O3 &lt;= 0.018</text>\n<text text-anchor=\"middle\" x=\"808.5\" y=\"-334.8\" font-family=\"Helvetica,sans-Serif\" font-size=\"14.00\" fill=\"#000000\">squared_error = 155.886</text>\n<text text-anchor=\"middle\" x=\"808.5\" y=\"-319.8\" font-family=\"Helvetica,sans-Serif\" font-size=\"14.00\" fill=\"#000000\">samples = 57</text>\n<text text-anchor=\"middle\" x=\"808.5\" y=\"-304.8\" font-family=\"Helvetica,sans-Serif\" font-size=\"14.00\" fill=\"#000000\">value = 42.614</text>\n</g>\n<!-- 14&#45;&gt;15 -->\n<g id=\"edge15\" class=\"edge\">\n<title>14&#45;&gt;15</title>\n<path fill=\"none\" stroke=\"#000000\" d=\"M809.8451,-400.9465C809.688,-392.776 809.5179,-383.9318 809.3533,-375.3697\"/>\n<polygon fill=\"#000000\" stroke=\"#000000\" points=\"812.8481,-375.0608 809.1563,-365.13 805.8494,-375.1955 812.8481,-375.0608\"/>\n</g>\n<!-- 18 -->\n<g id=\"node19\" class=\"node\">\n<title>18</title>\n<polygon fill=\"#e58139\" stroke=\"#000000\" points=\"1084,-357.5 915,-357.5 915,-304.5 1084,-304.5 1084,-357.5\"/>\n<text text-anchor=\"middle\" x=\"999.5\" y=\"-342.3\" font-family=\"Helvetica,sans-Serif\" font-size=\"14.00\" fill=\"#000000\">squared_error = 235.25</text>\n<text text-anchor=\"middle\" x=\"999.5\" y=\"-327.3\" font-family=\"Helvetica,sans-Serif\" font-size=\"14.00\" fill=\"#000000\">samples = 22</text>\n<text text-anchor=\"middle\" x=\"999.5\" y=\"-312.3\" font-family=\"Helvetica,sans-Serif\" font-size=\"14.00\" fill=\"#000000\">value = 58.5</text>\n</g>\n<!-- 14&#45;&gt;18 -->\n<g id=\"edge18\" class=\"edge\">\n<title>14&#45;&gt;18</title>\n<path fill=\"none\" stroke=\"#000000\" d=\"M872.3857,-400.9465C894.9053,-388.5547 920.2415,-374.6132 942.3338,-362.4565\"/>\n<polygon fill=\"#000000\" stroke=\"#000000\" points=\"944.1909,-365.4296 951.2647,-357.5422 940.8162,-359.2968 944.1909,-365.4296\"/>\n</g>\n<!-- 16 -->\n<g id=\"node17\" class=\"node\">\n<title>16</title>\n<polygon fill=\"#f2c09c\" stroke=\"#000000\" points=\"849,-253.5 672,-253.5 672,-200.5 849,-200.5 849,-253.5\"/>\n<text text-anchor=\"middle\" x=\"760.5\" y=\"-238.3\" font-family=\"Helvetica,sans-Serif\" font-size=\"14.00\" fill=\"#000000\">squared_error = 127.478</text>\n<text text-anchor=\"middle\" x=\"760.5\" y=\"-223.3\" font-family=\"Helvetica,sans-Serif\" font-size=\"14.00\" fill=\"#000000\">samples = 37</text>\n<text text-anchor=\"middle\" x=\"760.5\" y=\"-208.3\" font-family=\"Helvetica,sans-Serif\" font-size=\"14.00\" fill=\"#000000\">value = 38.378</text>\n</g>\n<!-- 15&#45;&gt;16 -->\n<g id=\"edge16\" class=\"edge\">\n<title>15&#45;&gt;16</title>\n<path fill=\"none\" stroke=\"#000000\" d=\"M792.783,-296.9465C787.75,-286.0418 782.1632,-273.9368 777.0712,-262.9043\"/>\n<polygon fill=\"#000000\" stroke=\"#000000\" points=\"780.1187,-261.155 772.7502,-253.5422 773.763,-264.0885 780.1187,-261.155\"/>\n</g>\n<!-- 17 -->\n<g id=\"node18\" class=\"node\">\n<title>17</title>\n<polygon fill=\"#ea9a60\" stroke=\"#000000\" points=\"1044,-253.5 867,-253.5 867,-200.5 1044,-200.5 1044,-253.5\"/>\n<text text-anchor=\"middle\" x=\"955.5\" y=\"-238.3\" font-family=\"Helvetica,sans-Serif\" font-size=\"14.00\" fill=\"#000000\">squared_error = 113.847</text>\n<text text-anchor=\"middle\" x=\"955.5\" y=\"-223.3\" font-family=\"Helvetica,sans-Serif\" font-size=\"14.00\" fill=\"#000000\">samples = 20</text>\n<text text-anchor=\"middle\" x=\"955.5\" y=\"-208.3\" font-family=\"Helvetica,sans-Serif\" font-size=\"14.00\" fill=\"#000000\">value = 50.45</text>\n</g>\n<!-- 15&#45;&gt;17 -->\n<g id=\"edge17\" class=\"edge\">\n<title>15&#45;&gt;17</title>\n<path fill=\"none\" stroke=\"#000000\" d=\"M856.6333,-296.9465C873.6037,-284.9403 892.6304,-271.4791 909.4265,-259.5962\"/>\n<polygon fill=\"#000000\" stroke=\"#000000\" points=\"911.8416,-262.175 917.9837,-253.5422 907.7987,-256.4605 911.8416,-262.175\"/>\n</g>\n</g>\n</svg>\n"
          },
          "metadata": {}
        }
      ]
    },
    {
      "cell_type": "markdown",
      "source": [
        "#### **모델 파라미터 설정하기 : min_samples_split**"
      ],
      "metadata": {
        "id": "hh2zAtbo26mC"
      }
    },
    {
      "cell_type": "code",
      "source": [
        "train_score = []; test_score = []\n",
        "para_split = [n_split * 2 for n_split in range(1,20)]\n",
        "\n",
        "for v_min_split in para_split :\n",
        "    dt = DecisionTreeRegressor(min_samples_leaf = 20,\n",
        "                               min_samples_split = v_min_split)\n",
        "    dt.fit(df_train_x_vf, df_train_y_vf)\n",
        "    train_score.append(dt.score(df_train_x_vf, df_train_y_vf))\n",
        "    test_score.append(dt.score(df_test_x_vf, df_test_y_vf))\n",
        "\n",
        "df_score_split = pd.DataFrame()\n",
        "df_score_split['MinSamplesSplit'] = para_split\n",
        "df_score_split['TrainScore'] = train_score\n",
        "df_score_split['TestScore'] = test_score"
      ],
      "metadata": {
        "id": "EzJOPSwy-94X"
      },
      "execution_count": null,
      "outputs": []
    },
    {
      "cell_type": "code",
      "source": [
        "df_score_split.round(3)"
      ],
      "metadata": {
        "colab": {
          "base_uri": "https://localhost:8080/",
          "height": 645
        },
        "outputId": "28e811f8-1b6a-4b2a-c358-b856b3c03239",
        "id": "mndhhRgN-94Z"
      },
      "execution_count": null,
      "outputs": [
        {
          "output_type": "execute_result",
          "data": {
            "text/plain": [
              "    MinSamplesSplit  TrainScore  TestScore\n",
              "0                 2        0.56      0.164\n",
              "1                 4        0.56      0.164\n",
              "2                 6        0.56      0.164\n",
              "3                 8        0.56      0.164\n",
              "4                10        0.56      0.164\n",
              "5                12        0.56      0.164\n",
              "6                14        0.56      0.164\n",
              "7                16        0.56      0.164\n",
              "8                18        0.56      0.164\n",
              "9                20        0.56      0.164\n",
              "10               22        0.56      0.164\n",
              "11               24        0.56      0.164\n",
              "12               26        0.56      0.164\n",
              "13               28        0.56      0.164\n",
              "14               30        0.56      0.164\n",
              "15               32        0.56      0.164\n",
              "16               34        0.56      0.164\n",
              "17               36        0.56      0.164\n",
              "18               38        0.56      0.164"
            ],
            "text/html": [
              "\n",
              "  <div id=\"df-428e5de7-3dad-47bd-a287-e14000845868\">\n",
              "    <div class=\"colab-df-container\">\n",
              "      <div>\n",
              "<style scoped>\n",
              "    .dataframe tbody tr th:only-of-type {\n",
              "        vertical-align: middle;\n",
              "    }\n",
              "\n",
              "    .dataframe tbody tr th {\n",
              "        vertical-align: top;\n",
              "    }\n",
              "\n",
              "    .dataframe thead th {\n",
              "        text-align: right;\n",
              "    }\n",
              "</style>\n",
              "<table border=\"1\" class=\"dataframe\">\n",
              "  <thead>\n",
              "    <tr style=\"text-align: right;\">\n",
              "      <th></th>\n",
              "      <th>MinSamplesSplit</th>\n",
              "      <th>TrainScore</th>\n",
              "      <th>TestScore</th>\n",
              "    </tr>\n",
              "  </thead>\n",
              "  <tbody>\n",
              "    <tr>\n",
              "      <th>0</th>\n",
              "      <td>2</td>\n",
              "      <td>0.56</td>\n",
              "      <td>0.164</td>\n",
              "    </tr>\n",
              "    <tr>\n",
              "      <th>1</th>\n",
              "      <td>4</td>\n",
              "      <td>0.56</td>\n",
              "      <td>0.164</td>\n",
              "    </tr>\n",
              "    <tr>\n",
              "      <th>2</th>\n",
              "      <td>6</td>\n",
              "      <td>0.56</td>\n",
              "      <td>0.164</td>\n",
              "    </tr>\n",
              "    <tr>\n",
              "      <th>3</th>\n",
              "      <td>8</td>\n",
              "      <td>0.56</td>\n",
              "      <td>0.164</td>\n",
              "    </tr>\n",
              "    <tr>\n",
              "      <th>4</th>\n",
              "      <td>10</td>\n",
              "      <td>0.56</td>\n",
              "      <td>0.164</td>\n",
              "    </tr>\n",
              "    <tr>\n",
              "      <th>5</th>\n",
              "      <td>12</td>\n",
              "      <td>0.56</td>\n",
              "      <td>0.164</td>\n",
              "    </tr>\n",
              "    <tr>\n",
              "      <th>6</th>\n",
              "      <td>14</td>\n",
              "      <td>0.56</td>\n",
              "      <td>0.164</td>\n",
              "    </tr>\n",
              "    <tr>\n",
              "      <th>7</th>\n",
              "      <td>16</td>\n",
              "      <td>0.56</td>\n",
              "      <td>0.164</td>\n",
              "    </tr>\n",
              "    <tr>\n",
              "      <th>8</th>\n",
              "      <td>18</td>\n",
              "      <td>0.56</td>\n",
              "      <td>0.164</td>\n",
              "    </tr>\n",
              "    <tr>\n",
              "      <th>9</th>\n",
              "      <td>20</td>\n",
              "      <td>0.56</td>\n",
              "      <td>0.164</td>\n",
              "    </tr>\n",
              "    <tr>\n",
              "      <th>10</th>\n",
              "      <td>22</td>\n",
              "      <td>0.56</td>\n",
              "      <td>0.164</td>\n",
              "    </tr>\n",
              "    <tr>\n",
              "      <th>11</th>\n",
              "      <td>24</td>\n",
              "      <td>0.56</td>\n",
              "      <td>0.164</td>\n",
              "    </tr>\n",
              "    <tr>\n",
              "      <th>12</th>\n",
              "      <td>26</td>\n",
              "      <td>0.56</td>\n",
              "      <td>0.164</td>\n",
              "    </tr>\n",
              "    <tr>\n",
              "      <th>13</th>\n",
              "      <td>28</td>\n",
              "      <td>0.56</td>\n",
              "      <td>0.164</td>\n",
              "    </tr>\n",
              "    <tr>\n",
              "      <th>14</th>\n",
              "      <td>30</td>\n",
              "      <td>0.56</td>\n",
              "      <td>0.164</td>\n",
              "    </tr>\n",
              "    <tr>\n",
              "      <th>15</th>\n",
              "      <td>32</td>\n",
              "      <td>0.56</td>\n",
              "      <td>0.164</td>\n",
              "    </tr>\n",
              "    <tr>\n",
              "      <th>16</th>\n",
              "      <td>34</td>\n",
              "      <td>0.56</td>\n",
              "      <td>0.164</td>\n",
              "    </tr>\n",
              "    <tr>\n",
              "      <th>17</th>\n",
              "      <td>36</td>\n",
              "      <td>0.56</td>\n",
              "      <td>0.164</td>\n",
              "    </tr>\n",
              "    <tr>\n",
              "      <th>18</th>\n",
              "      <td>38</td>\n",
              "      <td>0.56</td>\n",
              "      <td>0.164</td>\n",
              "    </tr>\n",
              "  </tbody>\n",
              "</table>\n",
              "</div>\n",
              "      <button class=\"colab-df-convert\" onclick=\"convertToInteractive('df-428e5de7-3dad-47bd-a287-e14000845868')\"\n",
              "              title=\"Convert this dataframe to an interactive table.\"\n",
              "              style=\"display:none;\">\n",
              "        \n",
              "  <svg xmlns=\"http://www.w3.org/2000/svg\" height=\"24px\"viewBox=\"0 0 24 24\"\n",
              "       width=\"24px\">\n",
              "    <path d=\"M0 0h24v24H0V0z\" fill=\"none\"/>\n",
              "    <path d=\"M18.56 5.44l.94 2.06.94-2.06 2.06-.94-2.06-.94-.94-2.06-.94 2.06-2.06.94zm-11 1L8.5 8.5l.94-2.06 2.06-.94-2.06-.94L8.5 2.5l-.94 2.06-2.06.94zm10 10l.94 2.06.94-2.06 2.06-.94-2.06-.94-.94-2.06-.94 2.06-2.06.94z\"/><path d=\"M17.41 7.96l-1.37-1.37c-.4-.4-.92-.59-1.43-.59-.52 0-1.04.2-1.43.59L10.3 9.45l-7.72 7.72c-.78.78-.78 2.05 0 2.83L4 21.41c.39.39.9.59 1.41.59.51 0 1.02-.2 1.41-.59l7.78-7.78 2.81-2.81c.8-.78.8-2.07 0-2.86zM5.41 20L4 18.59l7.72-7.72 1.47 1.35L5.41 20z\"/>\n",
              "  </svg>\n",
              "      </button>\n",
              "      \n",
              "  <style>\n",
              "    .colab-df-container {\n",
              "      display:flex;\n",
              "      flex-wrap:wrap;\n",
              "      gap: 12px;\n",
              "    }\n",
              "\n",
              "    .colab-df-convert {\n",
              "      background-color: #E8F0FE;\n",
              "      border: none;\n",
              "      border-radius: 50%;\n",
              "      cursor: pointer;\n",
              "      display: none;\n",
              "      fill: #1967D2;\n",
              "      height: 32px;\n",
              "      padding: 0 0 0 0;\n",
              "      width: 32px;\n",
              "    }\n",
              "\n",
              "    .colab-df-convert:hover {\n",
              "      background-color: #E2EBFA;\n",
              "      box-shadow: 0px 1px 2px rgba(60, 64, 67, 0.3), 0px 1px 3px 1px rgba(60, 64, 67, 0.15);\n",
              "      fill: #174EA6;\n",
              "    }\n",
              "\n",
              "    [theme=dark] .colab-df-convert {\n",
              "      background-color: #3B4455;\n",
              "      fill: #D2E3FC;\n",
              "    }\n",
              "\n",
              "    [theme=dark] .colab-df-convert:hover {\n",
              "      background-color: #434B5C;\n",
              "      box-shadow: 0px 1px 3px 1px rgba(0, 0, 0, 0.15);\n",
              "      filter: drop-shadow(0px 1px 2px rgba(0, 0, 0, 0.3));\n",
              "      fill: #FFFFFF;\n",
              "    }\n",
              "  </style>\n",
              "\n",
              "      <script>\n",
              "        const buttonEl =\n",
              "          document.querySelector('#df-428e5de7-3dad-47bd-a287-e14000845868 button.colab-df-convert');\n",
              "        buttonEl.style.display =\n",
              "          google.colab.kernel.accessAllowed ? 'block' : 'none';\n",
              "\n",
              "        async function convertToInteractive(key) {\n",
              "          const element = document.querySelector('#df-428e5de7-3dad-47bd-a287-e14000845868');\n",
              "          const dataTable =\n",
              "            await google.colab.kernel.invokeFunction('convertToInteractive',\n",
              "                                                     [key], {});\n",
              "          if (!dataTable) return;\n",
              "\n",
              "          const docLinkHtml = 'Like what you see? Visit the ' +\n",
              "            '<a target=\"_blank\" href=https://colab.research.google.com/notebooks/data_table.ipynb>data table notebook</a>'\n",
              "            + ' to learn more about interactive tables.';\n",
              "          element.innerHTML = '';\n",
              "          dataTable['output_type'] = 'display_data';\n",
              "          await google.colab.output.renderOutput(dataTable, element);\n",
              "          const docLink = document.createElement('div');\n",
              "          docLink.innerHTML = docLinkHtml;\n",
              "          element.appendChild(docLink);\n",
              "        }\n",
              "      </script>\n",
              "    </div>\n",
              "  </div>\n",
              "  "
            ]
          },
          "metadata": {},
          "execution_count": 111
        }
      ]
    },
    {
      "cell_type": "code",
      "source": [
        "plt.plot(para_split, train_score, linestyle = '-', label = 'Train Score')\n",
        "plt.plot(para_split, test_score, linestyle = '-', label = 'Test Score')\n",
        "plt.ylabel('score'); plt.xlabel('MinSamplesSplit')\n",
        "plt.legend()"
      ],
      "metadata": {
        "colab": {
          "base_uri": "https://localhost:8080/",
          "height": 297
        },
        "outputId": "9a997f74-dffc-4de8-bc46-603e5d021933",
        "id": "lOZ8RTOi-94b"
      },
      "execution_count": null,
      "outputs": [
        {
          "output_type": "execute_result",
          "data": {
            "text/plain": [
              "<matplotlib.legend.Legend at 0x7ff8ed582550>"
            ]
          },
          "metadata": {},
          "execution_count": 112
        },
        {
          "output_type": "display_data",
          "data": {
            "text/plain": [
              "<Figure size 432x288 with 1 Axes>"
            ],
            "image/png": "[encoded data removed]"
          },
          "metadata": {
            "needs_background": "light"
          }
        }
      ]
    },
    {
      "cell_type": "markdown",
      "source": [
        "- 분리 노드의 최소 샘플 수에 변화가 생겨도 train과 test 데이터에 대한 모델의 성능에는 변화가 없다.\n",
        "- 모델을 구체화시키기 위해 **min_samples_split = 10**으로 설정한다."
      ],
      "metadata": {
        "id": "r33oBhr--94c"
      }
    },
    {
      "cell_type": "code",
      "source": [
        "v_feature_name = df_train_x_vf.columns\n",
        "\n",
        "tree_graph = DecisionTreeRegressor(min_samples_leaf = 20,\n",
        "                                   min_samples_split = 10)\n",
        "tree_graph.fit(df_train_x_vf, df_train_y_vf)\n",
        "export_graphviz(tree_graph, out_file = 'tree_leaf.dot',\n",
        "                feature_names = v_feature_name, impurity = True, filled = True)\n",
        "\n",
        "with open('tree_leaf.dot') as f :\n",
        "    dot_graph = f.read()\n",
        "    display(graphviz.Source(dot_graph))"
      ],
      "metadata": {
        "outputId": "1a4870bf-3c83-4474-aefc-540b7e641ee0",
        "colab": {
          "base_uri": "https://localhost:8080/",
          "height": 815
        },
        "id": "p_V9VwXI-94c"
      },
      "execution_count": null,
      "outputs": [
        {
          "output_type": "display_data",
          "data": {
            "text/plain": [
              "<graphviz.files.Source at 0x7ff8ed56b690>"
            ],
            "image/svg+xml": "<?xml version=\"1.0\" encoding=\"UTF-8\" standalone=\"no\"?>\n<!DOCTYPE svg PUBLIC \"-//W3C//DTD SVG 1.1//EN\"\n \"http://www.w3.org/Graphics/SVG/1.1/DTD/svg11.dtd\">\n<!-- Generated by graphviz version 2.40.1 (20161225.0304)\n -->\n<!-- Title: Tree Pages: 1 -->\n<svg width=\"1092pt\" height=\"581pt\"\n viewBox=\"0.00 0.00 1092.00 581.00\" xmlns=\"http://www.w3.org/2000/svg\" xmlns:xlink=\"http://www.w3.org/1999/xlink\">\n<g id=\"graph0\" class=\"graph\" transform=\"scale(1 1) rotate(0) translate(4 577)\">\n<title>Tree</title>\n<polygon fill=\"#ffffff\" stroke=\"transparent\" points=\"-4,4 -4,-577 1088,-577 1088,4 -4,4\"/>\n<!-- 0 -->\n<g id=\"node1\" class=\"node\">\n<title>0</title>\n<polygon fill=\"#f5cfb3\" stroke=\"#000000\" points=\"801,-573 624,-573 624,-505 801,-505 801,-573\"/>\n<text text-anchor=\"middle\" x=\"712.5\" y=\"-557.8\" font-family=\"Helvetica,sans-Serif\" font-size=\"14.00\" fill=\"#000000\">CO &lt;= 0.55</text>\n<text text-anchor=\"middle\" x=\"712.5\" y=\"-542.8\" font-family=\"Helvetica,sans-Serif\" font-size=\"14.00\" fill=\"#000000\">squared_error = 245.456</text>\n<text text-anchor=\"middle\" x=\"712.5\" y=\"-527.8\" font-family=\"Helvetica,sans-Serif\" font-size=\"14.00\" fill=\"#000000\">samples = 256</text>\n<text text-anchor=\"middle\" x=\"712.5\" y=\"-512.8\" font-family=\"Helvetica,sans-Serif\" font-size=\"14.00\" fill=\"#000000\">value = 33.645</text>\n</g>\n<!-- 1 -->\n<g id=\"node2\" class=\"node\">\n<title>1</title>\n<polygon fill=\"#f9e1d0\" stroke=\"#000000\" points=\"704,-469 527,-469 527,-401 704,-401 704,-469\"/>\n<text text-anchor=\"middle\" x=\"615.5\" y=\"-453.8\" font-family=\"Helvetica,sans-Serif\" font-size=\"14.00\" fill=\"#000000\">CLOUD &lt;= 8.104</text>\n<text text-anchor=\"middle\" x=\"615.5\" y=\"-438.8\" font-family=\"Helvetica,sans-Serif\" font-size=\"14.00\" fill=\"#000000\">squared_error = 137.137</text>\n<text text-anchor=\"middle\" x=\"615.5\" y=\"-423.8\" font-family=\"Helvetica,sans-Serif\" font-size=\"14.00\" fill=\"#000000\">samples = 177</text>\n<text text-anchor=\"middle\" x=\"615.5\" y=\"-408.8\" font-family=\"Helvetica,sans-Serif\" font-size=\"14.00\" fill=\"#000000\">value = 27.667</text>\n</g>\n<!-- 0&#45;&gt;1 -->\n<g id=\"edge1\" class=\"edge\">\n<title>0&#45;&gt;1</title>\n<path fill=\"none\" stroke=\"#000000\" d=\"M680.7386,-504.9465C672.2806,-495.8782 663.0486,-485.9799 654.2613,-476.5585\"/>\n<polygon fill=\"#000000\" stroke=\"#000000\" points=\"656.713,-474.0557 647.3328,-469.13 651.594,-478.8302 656.713,-474.0557\"/>\n<text text-anchor=\"middle\" x=\"646.4627\" y=\"-490.4148\" font-family=\"Helvetica,sans-Serif\" font-size=\"14.00\" fill=\"#000000\">True</text>\n</g>\n<!-- 14 -->\n<g id=\"node15\" class=\"node\">\n<title>14</title>\n<polygon fill=\"#eca571\" stroke=\"#000000\" points=\"899,-469 722,-469 722,-401 899,-401 899,-469\"/>\n<text text-anchor=\"middle\" x=\"810.5\" y=\"-453.8\" font-family=\"Helvetica,sans-Serif\" font-size=\"14.00\" fill=\"#000000\">CO &lt;= 0.75</text>\n<text text-anchor=\"middle\" x=\"810.5\" y=\"-438.8\" font-family=\"Helvetica,sans-Serif\" font-size=\"14.00\" fill=\"#000000\">squared_error = 228.695</text>\n<text text-anchor=\"middle\" x=\"810.5\" y=\"-423.8\" font-family=\"Helvetica,sans-Serif\" font-size=\"14.00\" fill=\"#000000\">samples = 79</text>\n<text text-anchor=\"middle\" x=\"810.5\" y=\"-408.8\" font-family=\"Helvetica,sans-Serif\" font-size=\"14.00\" fill=\"#000000\">value = 47.038</text>\n</g>\n<!-- 0&#45;&gt;14 -->\n<g id=\"edge14\" class=\"edge\">\n<title>0&#45;&gt;14</title>\n<path fill=\"none\" stroke=\"#000000\" d=\"M744.5889,-504.9465C753.134,-495.8782 762.4613,-485.9799 771.3391,-476.5585\"/>\n<polygon fill=\"#000000\" stroke=\"#000000\" points=\"774.0283,-478.8082 778.339,-469.13 768.9337,-474.0076 774.0283,-478.8082\"/>\n<text text-anchor=\"middle\" x=\"779.0813\" y=\"-490.419\" font-family=\"Helvetica,sans-Serif\" font-size=\"14.00\" fill=\"#000000\">False</text>\n</g>\n<!-- 2 -->\n<g id=\"node3\" class=\"node\">\n<title>2</title>\n<polygon fill=\"#f7d9c4\" stroke=\"#000000\" points=\"515,-365 338,-365 338,-297 515,-297 515,-365\"/>\n<text text-anchor=\"middle\" x=\"426.5\" y=\"-349.8\" font-family=\"Helvetica,sans-Serif\" font-size=\"14.00\" fill=\"#000000\">TEMP &lt;= 15.846</text>\n<text text-anchor=\"middle\" x=\"426.5\" y=\"-334.8\" font-family=\"Helvetica,sans-Serif\" font-size=\"14.00\" fill=\"#000000\">squared_error = 126.337</text>\n<text text-anchor=\"middle\" x=\"426.5\" y=\"-319.8\" font-family=\"Helvetica,sans-Serif\" font-size=\"14.00\" fill=\"#000000\">samples = 140</text>\n<text text-anchor=\"middle\" x=\"426.5\" y=\"-304.8\" font-family=\"Helvetica,sans-Serif\" font-size=\"14.00\" fill=\"#000000\">value = 30.186</text>\n</g>\n<!-- 1&#45;&gt;2 -->\n<g id=\"edge2\" class=\"edge\">\n<title>1&#45;&gt;2</title>\n<path fill=\"none\" stroke=\"#000000\" d=\"M553.6143,-400.9465C535.6659,-391.0701 515.9284,-380.2093 497.4699,-370.0522\"/>\n<polygon fill=\"#000000\" stroke=\"#000000\" points=\"498.9733,-366.8846 488.5247,-365.13 495.5985,-373.0174 498.9733,-366.8846\"/>\n</g>\n<!-- 13 -->\n<g id=\"node14\" class=\"node\">\n<title>13</title>\n<polygon fill=\"#ffffff\" stroke=\"#000000\" points=\"702,-357.5 533,-357.5 533,-304.5 702,-304.5 702,-357.5\"/>\n<text text-anchor=\"middle\" x=\"617.5\" y=\"-342.3\" font-family=\"Helvetica,sans-Serif\" font-size=\"14.00\" fill=\"#000000\">squared_error = 63.144</text>\n<text text-anchor=\"middle\" x=\"617.5\" y=\"-327.3\" font-family=\"Helvetica,sans-Serif\" font-size=\"14.00\" fill=\"#000000\">samples = 37</text>\n<text text-anchor=\"middle\" x=\"617.5\" y=\"-312.3\" font-family=\"Helvetica,sans-Serif\" font-size=\"14.00\" fill=\"#000000\">value = 18.135</text>\n</g>\n<!-- 1&#45;&gt;13 -->\n<g id=\"edge13\" class=\"edge\">\n<title>1&#45;&gt;13</title>\n<path fill=\"none\" stroke=\"#000000\" d=\"M616.1549,-400.9465C616.3603,-390.2621 616.588,-378.4254 616.7966,-367.5742\"/>\n<polygon fill=\"#000000\" stroke=\"#000000\" points=\"620.2966,-367.6076 616.9896,-357.5422 613.2979,-367.473 620.2966,-367.6076\"/>\n</g>\n<!-- 3 -->\n<g id=\"node4\" class=\"node\">\n<title>3</title>\n<polygon fill=\"#f5cfb4\" stroke=\"#000000\" points=\"372,-261 195,-261 195,-193 372,-193 372,-261\"/>\n<text text-anchor=\"middle\" x=\"283.5\" y=\"-245.8\" font-family=\"Helvetica,sans-Serif\" font-size=\"14.00\" fill=\"#000000\">O3 &lt;= 0.021</text>\n<text text-anchor=\"middle\" x=\"283.5\" y=\"-230.8\" font-family=\"Helvetica,sans-Serif\" font-size=\"14.00\" fill=\"#000000\">squared_error = 153.456</text>\n<text text-anchor=\"middle\" x=\"283.5\" y=\"-215.8\" font-family=\"Helvetica,sans-Serif\" font-size=\"14.00\" fill=\"#000000\">samples = 68</text>\n<text text-anchor=\"middle\" x=\"283.5\" y=\"-200.8\" font-family=\"Helvetica,sans-Serif\" font-size=\"14.00\" fill=\"#000000\">value = 33.485</text>\n</g>\n<!-- 2&#45;&gt;3 -->\n<g id=\"edge3\" class=\"edge\">\n<title>2&#45;&gt;3</title>\n<path fill=\"none\" stroke=\"#000000\" d=\"M379.6765,-296.9465C366.5902,-287.4293 352.247,-276.9978 338.7241,-267.163\"/>\n<polygon fill=\"#000000\" stroke=\"#000000\" points=\"340.5747,-264.1812 330.4287,-261.13 336.4575,-269.8423 340.5747,-264.1812\"/>\n</g>\n<!-- 8 -->\n<g id=\"node9\" class=\"node\">\n<title>8</title>\n<polygon fill=\"#f9e3d3\" stroke=\"#000000\" points=\"559,-261 390,-261 390,-193 559,-193 559,-261\"/>\n<text text-anchor=\"middle\" x=\"474.5\" y=\"-245.8\" font-family=\"Helvetica,sans-Serif\" font-size=\"14.00\" fill=\"#000000\">O3 &lt;= 0.035</text>\n<text text-anchor=\"middle\" x=\"474.5\" y=\"-230.8\" font-family=\"Helvetica,sans-Serif\" font-size=\"14.00\" fill=\"#000000\">squared_error = 80.731</text>\n<text text-anchor=\"middle\" x=\"474.5\" y=\"-215.8\" font-family=\"Helvetica,sans-Serif\" font-size=\"14.00\" fill=\"#000000\">samples = 72</text>\n<text text-anchor=\"middle\" x=\"474.5\" y=\"-200.8\" font-family=\"Helvetica,sans-Serif\" font-size=\"14.00\" fill=\"#000000\">value = 27.069</text>\n</g>\n<!-- 2&#45;&gt;8 -->\n<g id=\"edge8\" class=\"edge\">\n<title>2&#45;&gt;8</title>\n<path fill=\"none\" stroke=\"#000000\" d=\"M442.217,-296.9465C446.1537,-288.4169 450.4294,-279.153 454.542,-270.2424\"/>\n<polygon fill=\"#000000\" stroke=\"#000000\" points=\"457.7349,-271.6763 458.7477,-261.13 451.3792,-268.7429 457.7349,-271.6763\"/>\n</g>\n<!-- 4 -->\n<g id=\"node5\" class=\"node\">\n<title>4</title>\n<polygon fill=\"#f9e3d3\" stroke=\"#000000\" points=\"177,-149.5 8,-149.5 8,-96.5 177,-96.5 177,-149.5\"/>\n<text text-anchor=\"middle\" x=\"92.5\" y=\"-134.3\" font-family=\"Helvetica,sans-Serif\" font-size=\"14.00\" fill=\"#000000\">squared_error = 89.498</text>\n<text text-anchor=\"middle\" x=\"92.5\" y=\"-119.3\" font-family=\"Helvetica,sans-Serif\" font-size=\"14.00\" fill=\"#000000\">samples = 22</text>\n<text text-anchor=\"middle\" x=\"92.5\" y=\"-104.3\" font-family=\"Helvetica,sans-Serif\" font-size=\"14.00\" fill=\"#000000\">value = 27.045</text>\n</g>\n<!-- 3&#45;&gt;4 -->\n<g id=\"edge4\" class=\"edge\">\n<title>3&#45;&gt;4</title>\n<path fill=\"none\" stroke=\"#000000\" d=\"M220.9595,-192.9465C198.2015,-180.5547 172.5973,-166.6132 150.2711,-154.4565\"/>\n<polygon fill=\"#000000\" stroke=\"#000000\" points=\"151.7019,-151.2504 141.2457,-149.5422 148.3544,-157.3982 151.7019,-151.2504\"/>\n</g>\n<!-- 5 -->\n<g id=\"node6\" class=\"node\">\n<title>5</title>\n<polygon fill=\"#f3c5a5\" stroke=\"#000000\" points=\"372,-157 195,-157 195,-89 372,-89 372,-157\"/>\n<text text-anchor=\"middle\" x=\"283.5\" y=\"-141.8\" font-family=\"Helvetica,sans-Serif\" font-size=\"14.00\" fill=\"#000000\">CLOUD &lt;= 2.729</text>\n<text text-anchor=\"middle\" x=\"283.5\" y=\"-126.8\" font-family=\"Helvetica,sans-Serif\" font-size=\"14.00\" fill=\"#000000\">squared_error = 154.724</text>\n<text text-anchor=\"middle\" x=\"283.5\" y=\"-111.8\" font-family=\"Helvetica,sans-Serif\" font-size=\"14.00\" fill=\"#000000\">samples = 46</text>\n<text text-anchor=\"middle\" x=\"283.5\" y=\"-96.8\" font-family=\"Helvetica,sans-Serif\" font-size=\"14.00\" fill=\"#000000\">value = 36.565</text>\n</g>\n<!-- 3&#45;&gt;5 -->\n<g id=\"edge5\" class=\"edge\">\n<title>3&#45;&gt;5</title>\n<path fill=\"none\" stroke=\"#000000\" d=\"M283.5,-192.9465C283.5,-184.776 283.5,-175.9318 283.5,-167.3697\"/>\n<polygon fill=\"#000000\" stroke=\"#000000\" points=\"287.0001,-167.13 283.5,-157.13 280.0001,-167.13 287.0001,-167.13\"/>\n</g>\n<!-- 6 -->\n<g id=\"node7\" class=\"node\">\n<title>6</title>\n<polygon fill=\"#f4cbae\" stroke=\"#000000\" points=\"177,-53 0,-53 0,0 177,0 177,-53\"/>\n<text text-anchor=\"middle\" x=\"88.5\" y=\"-37.8\" font-family=\"Helvetica,sans-Serif\" font-size=\"14.00\" fill=\"#000000\">squared_error = 113.972</text>\n<text text-anchor=\"middle\" x=\"88.5\" y=\"-22.8\" font-family=\"Helvetica,sans-Serif\" font-size=\"14.00\" fill=\"#000000\">samples = 24</text>\n<text text-anchor=\"middle\" x=\"88.5\" y=\"-7.8\" font-family=\"Helvetica,sans-Serif\" font-size=\"14.00\" fill=\"#000000\">value = 34.667</text>\n</g>\n<!-- 5&#45;&gt;6 -->\n<g id=\"edge6\" class=\"edge\">\n<title>5&#45;&gt;6</title>\n<path fill=\"none\" stroke=\"#000000\" d=\"M214.7503,-88.9777C194.1161,-78.7664 171.5951,-67.6214 151.3617,-57.6085\"/>\n<polygon fill=\"#000000\" stroke=\"#000000\" points=\"152.7562,-54.3935 142.2412,-53.095 149.6515,-60.6673 152.7562,-54.3935\"/>\n</g>\n<!-- 7 -->\n<g id=\"node8\" class=\"node\">\n<title>7</title>\n<polygon fill=\"#f2bf9a\" stroke=\"#000000\" points=\"372,-53 195,-53 195,0 372,0 372,-53\"/>\n<text text-anchor=\"middle\" x=\"283.5\" y=\"-37.8\" font-family=\"Helvetica,sans-Serif\" font-size=\"14.00\" fill=\"#000000\">squared_error = 190.959</text>\n<text text-anchor=\"middle\" x=\"283.5\" y=\"-22.8\" font-family=\"Helvetica,sans-Serif\" font-size=\"14.00\" fill=\"#000000\">samples = 22</text>\n<text text-anchor=\"middle\" x=\"283.5\" y=\"-7.8\" font-family=\"Helvetica,sans-Serif\" font-size=\"14.00\" fill=\"#000000\">value = 38.636</text>\n</g>\n<!-- 5&#45;&gt;7 -->\n<g id=\"edge7\" class=\"edge\">\n<title>5&#45;&gt;7</title>\n<path fill=\"none\" stroke=\"#000000\" d=\"M283.5,-88.9777C283.5,-80.7364 283.5,-71.887 283.5,-63.5153\"/>\n<polygon fill=\"#000000\" stroke=\"#000000\" points=\"287.0001,-63.2484 283.5,-53.2485 280.0001,-63.2485 287.0001,-63.2484\"/>\n</g>\n<!-- 9 -->\n<g id=\"node10\" class=\"node\">\n<title>9</title>\n<polygon fill=\"#fcefe5\" stroke=\"#000000\" points=\"559,-157 390,-157 390,-89 559,-89 559,-157\"/>\n<text text-anchor=\"middle\" x=\"474.5\" y=\"-141.8\" font-family=\"Helvetica,sans-Serif\" font-size=\"14.00\" fill=\"#000000\">TEMP &lt;= 22.496</text>\n<text text-anchor=\"middle\" x=\"474.5\" y=\"-126.8\" font-family=\"Helvetica,sans-Serif\" font-size=\"14.00\" fill=\"#000000\">squared_error = 49.622</text>\n<text text-anchor=\"middle\" x=\"474.5\" y=\"-111.8\" font-family=\"Helvetica,sans-Serif\" font-size=\"14.00\" fill=\"#000000\">samples = 43</text>\n<text text-anchor=\"middle\" x=\"474.5\" y=\"-96.8\" font-family=\"Helvetica,sans-Serif\" font-size=\"14.00\" fill=\"#000000\">value = 23.349</text>\n</g>\n<!-- 8&#45;&gt;9 -->\n<g id=\"edge9\" class=\"edge\">\n<title>8&#45;&gt;9</title>\n<path fill=\"none\" stroke=\"#000000\" d=\"M474.5,-192.9465C474.5,-184.776 474.5,-175.9318 474.5,-167.3697\"/>\n<polygon fill=\"#000000\" stroke=\"#000000\" points=\"478.0001,-167.13 474.5,-157.13 471.0001,-167.13 478.0001,-167.13\"/>\n</g>\n<!-- 12 -->\n<g id=\"node13\" class=\"node\">\n<title>12</title>\n<polygon fill=\"#f6d2b8\" stroke=\"#000000\" points=\"746,-149.5 577,-149.5 577,-96.5 746,-96.5 746,-149.5\"/>\n<text text-anchor=\"middle\" x=\"661.5\" y=\"-134.3\" font-family=\"Helvetica,sans-Serif\" font-size=\"14.00\" fill=\"#000000\">squared_error = 75.898</text>\n<text text-anchor=\"middle\" x=\"661.5\" y=\"-119.3\" font-family=\"Helvetica,sans-Serif\" font-size=\"14.00\" fill=\"#000000\">samples = 29</text>\n<text text-anchor=\"middle\" x=\"661.5\" y=\"-104.3\" font-family=\"Helvetica,sans-Serif\" font-size=\"14.00\" fill=\"#000000\">value = 32.586</text>\n</g>\n<!-- 8&#45;&gt;12 -->\n<g id=\"edge12\" class=\"edge\">\n<title>8&#45;&gt;12</title>\n<path fill=\"none\" stroke=\"#000000\" d=\"M535.7308,-192.9465C558.0121,-180.5547 583.0802,-166.6132 604.9387,-154.4565\"/>\n<polygon fill=\"#000000\" stroke=\"#000000\" points=\"606.7369,-157.4614 613.7751,-149.5422 603.3346,-151.3438 606.7369,-157.4614\"/>\n</g>\n<!-- 10 -->\n<g id=\"node11\" class=\"node\">\n<title>10</title>\n<polygon fill=\"#fbebdf\" stroke=\"#000000\" points=\"559,-53 390,-53 390,0 559,0 559,-53\"/>\n<text text-anchor=\"middle\" x=\"474.5\" y=\"-37.8\" font-family=\"Helvetica,sans-Serif\" font-size=\"14.00\" fill=\"#000000\">squared_error = 47.096</text>\n<text text-anchor=\"middle\" x=\"474.5\" y=\"-22.8\" font-family=\"Helvetica,sans-Serif\" font-size=\"14.00\" fill=\"#000000\">samples = 23</text>\n<text text-anchor=\"middle\" x=\"474.5\" y=\"-7.8\" font-family=\"Helvetica,sans-Serif\" font-size=\"14.00\" fill=\"#000000\">value = 24.652</text>\n</g>\n<!-- 9&#45;&gt;10 -->\n<g id=\"edge10\" class=\"edge\">\n<title>9&#45;&gt;10</title>\n<path fill=\"none\" stroke=\"#000000\" d=\"M474.5,-88.9777C474.5,-80.7364 474.5,-71.887 474.5,-63.5153\"/>\n<polygon fill=\"#000000\" stroke=\"#000000\" points=\"478.0001,-63.2484 474.5,-53.2485 471.0001,-63.2485 478.0001,-63.2484\"/>\n</g>\n<!-- 11 -->\n<g id=\"node12\" class=\"node\">\n<title>11</title>\n<polygon fill=\"#fdf3ed\" stroke=\"#000000\" points=\"746,-53 577,-53 577,0 746,0 746,-53\"/>\n<text text-anchor=\"middle\" x=\"661.5\" y=\"-37.8\" font-family=\"Helvetica,sans-Serif\" font-size=\"14.00\" fill=\"#000000\">squared_error = 48.327</text>\n<text text-anchor=\"middle\" x=\"661.5\" y=\"-22.8\" font-family=\"Helvetica,sans-Serif\" font-size=\"14.00\" fill=\"#000000\">samples = 20</text>\n<text text-anchor=\"middle\" x=\"661.5\" y=\"-7.8\" font-family=\"Helvetica,sans-Serif\" font-size=\"14.00\" fill=\"#000000\">value = 21.85</text>\n</g>\n<!-- 9&#45;&gt;11 -->\n<g id=\"edge11\" class=\"edge\">\n<title>9&#45;&gt;11</title>\n<path fill=\"none\" stroke=\"#000000\" d=\"M540.4292,-88.9777C560.1278,-78.8124 581.6194,-67.7218 600.9549,-57.7439\"/>\n<polygon fill=\"#000000\" stroke=\"#000000\" points=\"602.682,-60.7912 609.9635,-53.095 599.4719,-54.5706 602.682,-60.7912\"/>\n</g>\n<!-- 15 -->\n<g id=\"node16\" class=\"node\">\n<title>15</title>\n<polygon fill=\"#efb387\" stroke=\"#000000\" points=\"897,-365 720,-365 720,-297 897,-297 897,-365\"/>\n<text text-anchor=\"middle\" x=\"808.5\" y=\"-349.8\" font-family=\"Helvetica,sans-Serif\" font-size=\"14.00\" fill=\"#000000\">O3 &lt;= 0.018</text>\n<text text-anchor=\"middle\" x=\"808.5\" y=\"-334.8\" font-family=\"Helvetica,sans-Serif\" font-size=\"14.00\" fill=\"#000000\">squared_error = 155.886</text>\n<text text-anchor=\"middle\" x=\"808.5\" y=\"-319.8\" font-family=\"Helvetica,sans-Serif\" font-size=\"14.00\" fill=\"#000000\">samples = 57</text>\n<text text-anchor=\"middle\" x=\"808.5\" y=\"-304.8\" font-family=\"Helvetica,sans-Serif\" font-size=\"14.00\" fill=\"#000000\">value = 42.614</text>\n</g>\n<!-- 14&#45;&gt;15 -->\n<g id=\"edge15\" class=\"edge\">\n<title>14&#45;&gt;15</title>\n<path fill=\"none\" stroke=\"#000000\" d=\"M809.8451,-400.9465C809.688,-392.776 809.5179,-383.9318 809.3533,-375.3697\"/>\n<polygon fill=\"#000000\" stroke=\"#000000\" points=\"812.8481,-375.0608 809.1563,-365.13 805.8494,-375.1955 812.8481,-375.0608\"/>\n</g>\n<!-- 18 -->\n<g id=\"node19\" class=\"node\">\n<title>18</title>\n<polygon fill=\"#e58139\" stroke=\"#000000\" points=\"1084,-357.5 915,-357.5 915,-304.5 1084,-304.5 1084,-357.5\"/>\n<text text-anchor=\"middle\" x=\"999.5\" y=\"-342.3\" font-family=\"Helvetica,sans-Serif\" font-size=\"14.00\" fill=\"#000000\">squared_error = 235.25</text>\n<text text-anchor=\"middle\" x=\"999.5\" y=\"-327.3\" font-family=\"Helvetica,sans-Serif\" font-size=\"14.00\" fill=\"#000000\">samples = 22</text>\n<text text-anchor=\"middle\" x=\"999.5\" y=\"-312.3\" font-family=\"Helvetica,sans-Serif\" font-size=\"14.00\" fill=\"#000000\">value = 58.5</text>\n</g>\n<!-- 14&#45;&gt;18 -->\n<g id=\"edge18\" class=\"edge\">\n<title>14&#45;&gt;18</title>\n<path fill=\"none\" stroke=\"#000000\" d=\"M872.3857,-400.9465C894.9053,-388.5547 920.2415,-374.6132 942.3338,-362.4565\"/>\n<polygon fill=\"#000000\" stroke=\"#000000\" points=\"944.1909,-365.4296 951.2647,-357.5422 940.8162,-359.2968 944.1909,-365.4296\"/>\n</g>\n<!-- 16 -->\n<g id=\"node17\" class=\"node\">\n<title>16</title>\n<polygon fill=\"#f2c09c\" stroke=\"#000000\" points=\"849,-253.5 672,-253.5 672,-200.5 849,-200.5 849,-253.5\"/>\n<text text-anchor=\"middle\" x=\"760.5\" y=\"-238.3\" font-family=\"Helvetica,sans-Serif\" font-size=\"14.00\" fill=\"#000000\">squared_error = 127.478</text>\n<text text-anchor=\"middle\" x=\"760.5\" y=\"-223.3\" font-family=\"Helvetica,sans-Serif\" font-size=\"14.00\" fill=\"#000000\">samples = 37</text>\n<text text-anchor=\"middle\" x=\"760.5\" y=\"-208.3\" font-family=\"Helvetica,sans-Serif\" font-size=\"14.00\" fill=\"#000000\">value = 38.378</text>\n</g>\n<!-- 15&#45;&gt;16 -->\n<g id=\"edge16\" class=\"edge\">\n<title>15&#45;&gt;16</title>\n<path fill=\"none\" stroke=\"#000000\" d=\"M792.783,-296.9465C787.75,-286.0418 782.1632,-273.9368 777.0712,-262.9043\"/>\n<polygon fill=\"#000000\" stroke=\"#000000\" points=\"780.1187,-261.155 772.7502,-253.5422 773.763,-264.0885 780.1187,-261.155\"/>\n</g>\n<!-- 17 -->\n<g id=\"node18\" class=\"node\">\n<title>17</title>\n<polygon fill=\"#ea9a60\" stroke=\"#000000\" points=\"1044,-253.5 867,-253.5 867,-200.5 1044,-200.5 1044,-253.5\"/>\n<text text-anchor=\"middle\" x=\"955.5\" y=\"-238.3\" font-family=\"Helvetica,sans-Serif\" font-size=\"14.00\" fill=\"#000000\">squared_error = 113.847</text>\n<text text-anchor=\"middle\" x=\"955.5\" y=\"-223.3\" font-family=\"Helvetica,sans-Serif\" font-size=\"14.00\" fill=\"#000000\">samples = 20</text>\n<text text-anchor=\"middle\" x=\"955.5\" y=\"-208.3\" font-family=\"Helvetica,sans-Serif\" font-size=\"14.00\" fill=\"#000000\">value = 50.45</text>\n</g>\n<!-- 15&#45;&gt;17 -->\n<g id=\"edge17\" class=\"edge\">\n<title>15&#45;&gt;17</title>\n<path fill=\"none\" stroke=\"#000000\" d=\"M856.6333,-296.9465C873.6037,-284.9403 892.6304,-271.4791 909.4265,-259.5962\"/>\n<polygon fill=\"#000000\" stroke=\"#000000\" points=\"911.8416,-262.175 917.9837,-253.5422 907.7987,-256.4605 911.8416,-262.175\"/>\n</g>\n</g>\n</svg>\n"
          },
          "metadata": {}
        }
      ]
    },
    {
      "cell_type": "markdown",
      "source": [
        "#### **모델 파라미터 설정하기 :max_depth**"
      ],
      "metadata": {
        "id": "kf3Bszx2AjdY"
      }
    },
    {
      "cell_type": "code",
      "source": [
        "train_score = []; test_score = []\n",
        "para_depth = [depth for depth in range(1,10)]\n",
        "\n",
        "for v_depth in para_depth :\n",
        "    dt = DecisionTreeRegressor(min_samples_leaf = 20,\n",
        "                               min_samples_split = 10,\n",
        "                               max_depth = v_depth)\n",
        "    dt.fit(df_train_x_vf, df_train_y_vf)\n",
        "    train_score.append(dt.score(df_train_x_vf, df_train_y_vf))\n",
        "    test_score.append(dt.score(df_test_x_vf, df_test_y_vf))\n",
        "\n",
        "df_score_depth = pd.DataFrame()\n",
        "df_score_depth['MaxDepth'] = para_depth\n",
        "df_score_depth['TrainScore'] = train_score\n",
        "df_score_depth['TestScore'] = test_score"
      ],
      "metadata": {
        "id": "_ef1IBXDAjd3"
      },
      "execution_count": null,
      "outputs": []
    },
    {
      "cell_type": "code",
      "source": [
        "df_score_depth.round(3)"
      ],
      "metadata": {
        "colab": {
          "base_uri": "https://localhost:8080/",
          "height": 332
        },
        "outputId": "ec7120b4-1516-43d5-9743-50822518f76f",
        "id": "F3OaXI4cAjd5"
      },
      "execution_count": null,
      "outputs": [
        {
          "output_type": "execute_result",
          "data": {
            "text/plain": [
              "   MaxDepth  TrainScore  TestScore\n",
              "0         1       0.326      0.140\n",
              "1         2       0.458      0.104\n",
              "2         3       0.511      0.138\n",
              "3         4       0.556      0.152\n",
              "4         5       0.560      0.164\n",
              "5         6       0.560      0.164\n",
              "6         7       0.560      0.164\n",
              "7         8       0.560      0.164\n",
              "8         9       0.560      0.164"
            ],
            "text/html": [
              "\n",
              "  <div id=\"df-d933c2ae-a515-43bb-9ca6-20a57324374b\">\n",
              "    <div class=\"colab-df-container\">\n",
              "      <div>\n",
              "<style scoped>\n",
              "    .dataframe tbody tr th:only-of-type {\n",
              "        vertical-align: middle;\n",
              "    }\n",
              "\n",
              "    .dataframe tbody tr th {\n",
              "        vertical-align: top;\n",
              "    }\n",
              "\n",
              "    .dataframe thead th {\n",
              "        text-align: right;\n",
              "    }\n",
              "</style>\n",
              "<table border=\"1\" class=\"dataframe\">\n",
              "  <thead>\n",
              "    <tr style=\"text-align: right;\">\n",
              "      <th></th>\n",
              "      <th>MaxDepth</th>\n",
              "      <th>TrainScore</th>\n",
              "      <th>TestScore</th>\n",
              "    </tr>\n",
              "  </thead>\n",
              "  <tbody>\n",
              "    <tr>\n",
              "      <th>0</th>\n",
              "      <td>1</td>\n",
              "      <td>0.326</td>\n",
              "      <td>0.140</td>\n",
              "    </tr>\n",
              "    <tr>\n",
              "      <th>1</th>\n",
              "      <td>2</td>\n",
              "      <td>0.458</td>\n",
              "      <td>0.104</td>\n",
              "    </tr>\n",
              "    <tr>\n",
              "      <th>2</th>\n",
              "      <td>3</td>\n",
              "      <td>0.511</td>\n",
              "      <td>0.138</td>\n",
              "    </tr>\n",
              "    <tr>\n",
              "      <th>3</th>\n",
              "      <td>4</td>\n",
              "      <td>0.556</td>\n",
              "      <td>0.152</td>\n",
              "    </tr>\n",
              "    <tr>\n",
              "      <th>4</th>\n",
              "      <td>5</td>\n",
              "      <td>0.560</td>\n",
              "      <td>0.164</td>\n",
              "    </tr>\n",
              "    <tr>\n",
              "      <th>5</th>\n",
              "      <td>6</td>\n",
              "      <td>0.560</td>\n",
              "      <td>0.164</td>\n",
              "    </tr>\n",
              "    <tr>\n",
              "      <th>6</th>\n",
              "      <td>7</td>\n",
              "      <td>0.560</td>\n",
              "      <td>0.164</td>\n",
              "    </tr>\n",
              "    <tr>\n",
              "      <th>7</th>\n",
              "      <td>8</td>\n",
              "      <td>0.560</td>\n",
              "      <td>0.164</td>\n",
              "    </tr>\n",
              "    <tr>\n",
              "      <th>8</th>\n",
              "      <td>9</td>\n",
              "      <td>0.560</td>\n",
              "      <td>0.164</td>\n",
              "    </tr>\n",
              "  </tbody>\n",
              "</table>\n",
              "</div>\n",
              "      <button class=\"colab-df-convert\" onclick=\"convertToInteractive('df-d933c2ae-a515-43bb-9ca6-20a57324374b')\"\n",
              "              title=\"Convert this dataframe to an interactive table.\"\n",
              "              style=\"display:none;\">\n",
              "        \n",
              "  <svg xmlns=\"http://www.w3.org/2000/svg\" height=\"24px\"viewBox=\"0 0 24 24\"\n",
              "       width=\"24px\">\n",
              "    <path d=\"M0 0h24v24H0V0z\" fill=\"none\"/>\n",
              "    <path d=\"M18.56 5.44l.94 2.06.94-2.06 2.06-.94-2.06-.94-.94-2.06-.94 2.06-2.06.94zm-11 1L8.5 8.5l.94-2.06 2.06-.94-2.06-.94L8.5 2.5l-.94 2.06-2.06.94zm10 10l.94 2.06.94-2.06 2.06-.94-2.06-.94-.94-2.06-.94 2.06-2.06.94z\"/><path d=\"M17.41 7.96l-1.37-1.37c-.4-.4-.92-.59-1.43-.59-.52 0-1.04.2-1.43.59L10.3 9.45l-7.72 7.72c-.78.78-.78 2.05 0 2.83L4 21.41c.39.39.9.59 1.41.59.51 0 1.02-.2 1.41-.59l7.78-7.78 2.81-2.81c.8-.78.8-2.07 0-2.86zM5.41 20L4 18.59l7.72-7.72 1.47 1.35L5.41 20z\"/>\n",
              "  </svg>\n",
              "      </button>\n",
              "      \n",
              "  <style>\n",
              "    .colab-df-container {\n",
              "      display:flex;\n",
              "      flex-wrap:wrap;\n",
              "      gap: 12px;\n",
              "    }\n",
              "\n",
              "    .colab-df-convert {\n",
              "      background-color: #E8F0FE;\n",
              "      border: none;\n",
              "      border-radius: 50%;\n",
              "      cursor: pointer;\n",
              "      display: none;\n",
              "      fill: #1967D2;\n",
              "      height: 32px;\n",
              "      padding: 0 0 0 0;\n",
              "      width: 32px;\n",
              "    }\n",
              "\n",
              "    .colab-df-convert:hover {\n",
              "      background-color: #E2EBFA;\n",
              "      box-shadow: 0px 1px 2px rgba(60, 64, 67, 0.3), 0px 1px 3px 1px rgba(60, 64, 67, 0.15);\n",
              "      fill: #174EA6;\n",
              "    }\n",
              "\n",
              "    [theme=dark] .colab-df-convert {\n",
              "      background-color: #3B4455;\n",
              "      fill: #D2E3FC;\n",
              "    }\n",
              "\n",
              "    [theme=dark] .colab-df-convert:hover {\n",
              "      background-color: #434B5C;\n",
              "      box-shadow: 0px 1px 3px 1px rgba(0, 0, 0, 0.15);\n",
              "      filter: drop-shadow(0px 1px 2px rgba(0, 0, 0, 0.3));\n",
              "      fill: #FFFFFF;\n",
              "    }\n",
              "  </style>\n",
              "\n",
              "      <script>\n",
              "        const buttonEl =\n",
              "          document.querySelector('#df-d933c2ae-a515-43bb-9ca6-20a57324374b button.colab-df-convert');\n",
              "        buttonEl.style.display =\n",
              "          google.colab.kernel.accessAllowed ? 'block' : 'none';\n",
              "\n",
              "        async function convertToInteractive(key) {\n",
              "          const element = document.querySelector('#df-d933c2ae-a515-43bb-9ca6-20a57324374b');\n",
              "          const dataTable =\n",
              "            await google.colab.kernel.invokeFunction('convertToInteractive',\n",
              "                                                     [key], {});\n",
              "          if (!dataTable) return;\n",
              "\n",
              "          const docLinkHtml = 'Like what you see? Visit the ' +\n",
              "            '<a target=\"_blank\" href=https://colab.research.google.com/notebooks/data_table.ipynb>data table notebook</a>'\n",
              "            + ' to learn more about interactive tables.';\n",
              "          element.innerHTML = '';\n",
              "          dataTable['output_type'] = 'display_data';\n",
              "          await google.colab.output.renderOutput(dataTable, element);\n",
              "          const docLink = document.createElement('div');\n",
              "          docLink.innerHTML = docLinkHtml;\n",
              "          element.appendChild(docLink);\n",
              "        }\n",
              "      </script>\n",
              "    </div>\n",
              "  </div>\n",
              "  "
            ]
          },
          "metadata": {},
          "execution_count": 115
        }
      ]
    },
    {
      "cell_type": "code",
      "source": [
        "plt.plot(para_depth, train_score, linestyle = '-', label = 'Train Score')\n",
        "plt.plot(para_depth, test_score, linestyle = '-', label = 'Test Score')\n",
        "plt.ylabel('score'); plt.xlabel('MaxDepth')\n",
        "plt.legend()"
      ],
      "metadata": {
        "colab": {
          "base_uri": "https://localhost:8080/",
          "height": 297
        },
        "outputId": "2120d501-7a1d-4258-c190-020b9559bb9d",
        "id": "2DHNNbYAAjd6"
      },
      "execution_count": null,
      "outputs": [
        {
          "output_type": "execute_result",
          "data": {
            "text/plain": [
              "<matplotlib.legend.Legend at 0x7ff8ed513450>"
            ]
          },
          "metadata": {},
          "execution_count": 116
        },
        {
          "output_type": "display_data",
          "data": {
            "text/plain": [
              "<Figure size 432x288 with 1 Axes>"
            ],
            "image/png": "[encoded data removed]"
          },
          "metadata": {
            "needs_background": "light"
          }
        }
      ]
    },
    {
      "cell_type": "markdown",
      "source": [
        "- 나무의 최대 깊이가 커질수록 train과 test 데이터에 대한 모델의 성능이 증가하고 감소하다가, 4를 넘어서면서 모델 성능에 변화가 생기지 않는다.\n",
        "- 모델의 과대적합을 막기 위해 **max_depth = 5**로 설정한다."
      ],
      "metadata": {
        "id": "O0QFPzO-Ajd6"
      }
    },
    {
      "cell_type": "code",
      "source": [
        "v_feature_name = df_train_x_vf.columns\n",
        "\n",
        "tree_graph = DecisionTreeRegressor(min_samples_leaf = 20,\n",
        "                                   min_samples_split = 5,\n",
        "                                   max_depth = 10)\n",
        "tree_graph.fit(df_train_x_vf, df_train_y_vf)\n",
        "export_graphviz(tree_graph, out_file = 'tree_leaf.dot',\n",
        "                feature_names = v_feature_name, impurity = True, filled = True)\n",
        "\n",
        "with open('tree_leaf.dot') as f :\n",
        "    dot_graph = f.read()\n",
        "    display(graphviz.Source(dot_graph))"
      ],
      "metadata": {
        "outputId": "d313871f-302f-4f0c-b785-759b027acca0",
        "colab": {
          "base_uri": "https://localhost:8080/",
          "height": 815
        },
        "id": "kkqqFTeOAjd7"
      },
      "execution_count": null,
      "outputs": [
        {
          "output_type": "display_data",
          "data": {
            "text/plain": [
              "<graphviz.files.Source at 0x7ff8ed4eccd0>"
            ],
            "image/svg+xml": "<?xml version=\"1.0\" encoding=\"UTF-8\" standalone=\"no\"?>\n<!DOCTYPE svg PUBLIC \"-//W3C//DTD SVG 1.1//EN\"\n \"http://www.w3.org/Graphics/SVG/1.1/DTD/svg11.dtd\">\n<!-- Generated by graphviz version 2.40.1 (20161225.0304)\n -->\n<!-- Title: Tree Pages: 1 -->\n<svg width=\"1092pt\" height=\"581pt\"\n viewBox=\"0.00 0.00 1092.00 581.00\" xmlns=\"http://www.w3.org/2000/svg\" xmlns:xlink=\"http://www.w3.org/1999/xlink\">\n<g id=\"graph0\" class=\"graph\" transform=\"scale(1 1) rotate(0) translate(4 577)\">\n<title>Tree</title>\n<polygon fill=\"#ffffff\" stroke=\"transparent\" points=\"-4,4 -4,-577 1088,-577 1088,4 -4,4\"/>\n<!-- 0 -->\n<g id=\"node1\" class=\"node\">\n<title>0</title>\n<polygon fill=\"#f5cfb3\" stroke=\"#000000\" points=\"801,-573 624,-573 624,-505 801,-505 801,-573\"/>\n<text text-anchor=\"middle\" x=\"712.5\" y=\"-557.8\" font-family=\"Helvetica,sans-Serif\" font-size=\"14.00\" fill=\"#000000\">CO &lt;= 0.55</text>\n<text text-anchor=\"middle\" x=\"712.5\" y=\"-542.8\" font-family=\"Helvetica,sans-Serif\" font-size=\"14.00\" fill=\"#000000\">squared_error = 245.456</text>\n<text text-anchor=\"middle\" x=\"712.5\" y=\"-527.8\" font-family=\"Helvetica,sans-Serif\" font-size=\"14.00\" fill=\"#000000\">samples = 256</text>\n<text text-anchor=\"middle\" x=\"712.5\" y=\"-512.8\" font-family=\"Helvetica,sans-Serif\" font-size=\"14.00\" fill=\"#000000\">value = 33.645</text>\n</g>\n<!-- 1 -->\n<g id=\"node2\" class=\"node\">\n<title>1</title>\n<polygon fill=\"#f9e1d0\" stroke=\"#000000\" points=\"704,-469 527,-469 527,-401 704,-401 704,-469\"/>\n<text text-anchor=\"middle\" x=\"615.5\" y=\"-453.8\" font-family=\"Helvetica,sans-Serif\" font-size=\"14.00\" fill=\"#000000\">CLOUD &lt;= 8.104</text>\n<text text-anchor=\"middle\" x=\"615.5\" y=\"-438.8\" font-family=\"Helvetica,sans-Serif\" font-size=\"14.00\" fill=\"#000000\">squared_error = 137.137</text>\n<text text-anchor=\"middle\" x=\"615.5\" y=\"-423.8\" font-family=\"Helvetica,sans-Serif\" font-size=\"14.00\" fill=\"#000000\">samples = 177</text>\n<text text-anchor=\"middle\" x=\"615.5\" y=\"-408.8\" font-family=\"Helvetica,sans-Serif\" font-size=\"14.00\" fill=\"#000000\">value = 27.667</text>\n</g>\n<!-- 0&#45;&gt;1 -->\n<g id=\"edge1\" class=\"edge\">\n<title>0&#45;&gt;1</title>\n<path fill=\"none\" stroke=\"#000000\" d=\"M680.7386,-504.9465C672.2806,-495.8782 663.0486,-485.9799 654.2613,-476.5585\"/>\n<polygon fill=\"#000000\" stroke=\"#000000\" points=\"656.713,-474.0557 647.3328,-469.13 651.594,-478.8302 656.713,-474.0557\"/>\n<text text-anchor=\"middle\" x=\"646.4627\" y=\"-490.4148\" font-family=\"Helvetica,sans-Serif\" font-size=\"14.00\" fill=\"#000000\">True</text>\n</g>\n<!-- 14 -->\n<g id=\"node15\" class=\"node\">\n<title>14</title>\n<polygon fill=\"#eca571\" stroke=\"#000000\" points=\"899,-469 722,-469 722,-401 899,-401 899,-469\"/>\n<text text-anchor=\"middle\" x=\"810.5\" y=\"-453.8\" font-family=\"Helvetica,sans-Serif\" font-size=\"14.00\" fill=\"#000000\">CO &lt;= 0.75</text>\n<text text-anchor=\"middle\" x=\"810.5\" y=\"-438.8\" font-family=\"Helvetica,sans-Serif\" font-size=\"14.00\" fill=\"#000000\">squared_error = 228.695</text>\n<text text-anchor=\"middle\" x=\"810.5\" y=\"-423.8\" font-family=\"Helvetica,sans-Serif\" font-size=\"14.00\" fill=\"#000000\">samples = 79</text>\n<text text-anchor=\"middle\" x=\"810.5\" y=\"-408.8\" font-family=\"Helvetica,sans-Serif\" font-size=\"14.00\" fill=\"#000000\">value = 47.038</text>\n</g>\n<!-- 0&#45;&gt;14 -->\n<g id=\"edge14\" class=\"edge\">\n<title>0&#45;&gt;14</title>\n<path fill=\"none\" stroke=\"#000000\" d=\"M744.5889,-504.9465C753.134,-495.8782 762.4613,-485.9799 771.3391,-476.5585\"/>\n<polygon fill=\"#000000\" stroke=\"#000000\" points=\"774.0283,-478.8082 778.339,-469.13 768.9337,-474.0076 774.0283,-478.8082\"/>\n<text text-anchor=\"middle\" x=\"779.0813\" y=\"-490.419\" font-family=\"Helvetica,sans-Serif\" font-size=\"14.00\" fill=\"#000000\">False</text>\n</g>\n<!-- 2 -->\n<g id=\"node3\" class=\"node\">\n<title>2</title>\n<polygon fill=\"#f7d9c4\" stroke=\"#000000\" points=\"515,-365 338,-365 338,-297 515,-297 515,-365\"/>\n<text text-anchor=\"middle\" x=\"426.5\" y=\"-349.8\" font-family=\"Helvetica,sans-Serif\" font-size=\"14.00\" fill=\"#000000\">TEMP &lt;= 15.846</text>\n<text text-anchor=\"middle\" x=\"426.5\" y=\"-334.8\" font-family=\"Helvetica,sans-Serif\" font-size=\"14.00\" fill=\"#000000\">squared_error = 126.337</text>\n<text text-anchor=\"middle\" x=\"426.5\" y=\"-319.8\" font-family=\"Helvetica,sans-Serif\" font-size=\"14.00\" fill=\"#000000\">samples = 140</text>\n<text text-anchor=\"middle\" x=\"426.5\" y=\"-304.8\" font-family=\"Helvetica,sans-Serif\" font-size=\"14.00\" fill=\"#000000\">value = 30.186</text>\n</g>\n<!-- 1&#45;&gt;2 -->\n<g id=\"edge2\" class=\"edge\">\n<title>1&#45;&gt;2</title>\n<path fill=\"none\" stroke=\"#000000\" d=\"M553.6143,-400.9465C535.6659,-391.0701 515.9284,-380.2093 497.4699,-370.0522\"/>\n<polygon fill=\"#000000\" stroke=\"#000000\" points=\"498.9733,-366.8846 488.5247,-365.13 495.5985,-373.0174 498.9733,-366.8846\"/>\n</g>\n<!-- 13 -->\n<g id=\"node14\" class=\"node\">\n<title>13</title>\n<polygon fill=\"#ffffff\" stroke=\"#000000\" points=\"702,-357.5 533,-357.5 533,-304.5 702,-304.5 702,-357.5\"/>\n<text text-anchor=\"middle\" x=\"617.5\" y=\"-342.3\" font-family=\"Helvetica,sans-Serif\" font-size=\"14.00\" fill=\"#000000\">squared_error = 63.144</text>\n<text text-anchor=\"middle\" x=\"617.5\" y=\"-327.3\" font-family=\"Helvetica,sans-Serif\" font-size=\"14.00\" fill=\"#000000\">samples = 37</text>\n<text text-anchor=\"middle\" x=\"617.5\" y=\"-312.3\" font-family=\"Helvetica,sans-Serif\" font-size=\"14.00\" fill=\"#000000\">value = 18.135</text>\n</g>\n<!-- 1&#45;&gt;13 -->\n<g id=\"edge13\" class=\"edge\">\n<title>1&#45;&gt;13</title>\n<path fill=\"none\" stroke=\"#000000\" d=\"M616.1549,-400.9465C616.3603,-390.2621 616.588,-378.4254 616.7966,-367.5742\"/>\n<polygon fill=\"#000000\" stroke=\"#000000\" points=\"620.2966,-367.6076 616.9896,-357.5422 613.2979,-367.473 620.2966,-367.6076\"/>\n</g>\n<!-- 3 -->\n<g id=\"node4\" class=\"node\">\n<title>3</title>\n<polygon fill=\"#f5cfb4\" stroke=\"#000000\" points=\"372,-261 195,-261 195,-193 372,-193 372,-261\"/>\n<text text-anchor=\"middle\" x=\"283.5\" y=\"-245.8\" font-family=\"Helvetica,sans-Serif\" font-size=\"14.00\" fill=\"#000000\">O3 &lt;= 0.021</text>\n<text text-anchor=\"middle\" x=\"283.5\" y=\"-230.8\" font-family=\"Helvetica,sans-Serif\" font-size=\"14.00\" fill=\"#000000\">squared_error = 153.456</text>\n<text text-anchor=\"middle\" x=\"283.5\" y=\"-215.8\" font-family=\"Helvetica,sans-Serif\" font-size=\"14.00\" fill=\"#000000\">samples = 68</text>\n<text text-anchor=\"middle\" x=\"283.5\" y=\"-200.8\" font-family=\"Helvetica,sans-Serif\" font-size=\"14.00\" fill=\"#000000\">value = 33.485</text>\n</g>\n<!-- 2&#45;&gt;3 -->\n<g id=\"edge3\" class=\"edge\">\n<title>2&#45;&gt;3</title>\n<path fill=\"none\" stroke=\"#000000\" d=\"M379.6765,-296.9465C366.5902,-287.4293 352.247,-276.9978 338.7241,-267.163\"/>\n<polygon fill=\"#000000\" stroke=\"#000000\" points=\"340.5747,-264.1812 330.4287,-261.13 336.4575,-269.8423 340.5747,-264.1812\"/>\n</g>\n<!-- 8 -->\n<g id=\"node9\" class=\"node\">\n<title>8</title>\n<polygon fill=\"#f9e3d3\" stroke=\"#000000\" points=\"559,-261 390,-261 390,-193 559,-193 559,-261\"/>\n<text text-anchor=\"middle\" x=\"474.5\" y=\"-245.8\" font-family=\"Helvetica,sans-Serif\" font-size=\"14.00\" fill=\"#000000\">O3 &lt;= 0.035</text>\n<text text-anchor=\"middle\" x=\"474.5\" y=\"-230.8\" font-family=\"Helvetica,sans-Serif\" font-size=\"14.00\" fill=\"#000000\">squared_error = 80.731</text>\n<text text-anchor=\"middle\" x=\"474.5\" y=\"-215.8\" font-family=\"Helvetica,sans-Serif\" font-size=\"14.00\" fill=\"#000000\">samples = 72</text>\n<text text-anchor=\"middle\" x=\"474.5\" y=\"-200.8\" font-family=\"Helvetica,sans-Serif\" font-size=\"14.00\" fill=\"#000000\">value = 27.069</text>\n</g>\n<!-- 2&#45;&gt;8 -->\n<g id=\"edge8\" class=\"edge\">\n<title>2&#45;&gt;8</title>\n<path fill=\"none\" stroke=\"#000000\" d=\"M442.217,-296.9465C446.1537,-288.4169 450.4294,-279.153 454.542,-270.2424\"/>\n<polygon fill=\"#000000\" stroke=\"#000000\" points=\"457.7349,-271.6763 458.7477,-261.13 451.3792,-268.7429 457.7349,-271.6763\"/>\n</g>\n<!-- 4 -->\n<g id=\"node5\" class=\"node\">\n<title>4</title>\n<polygon fill=\"#f9e3d3\" stroke=\"#000000\" points=\"177,-149.5 8,-149.5 8,-96.5 177,-96.5 177,-149.5\"/>\n<text text-anchor=\"middle\" x=\"92.5\" y=\"-134.3\" font-family=\"Helvetica,sans-Serif\" font-size=\"14.00\" fill=\"#000000\">squared_error = 89.498</text>\n<text text-anchor=\"middle\" x=\"92.5\" y=\"-119.3\" font-family=\"Helvetica,sans-Serif\" font-size=\"14.00\" fill=\"#000000\">samples = 22</text>\n<text text-anchor=\"middle\" x=\"92.5\" y=\"-104.3\" font-family=\"Helvetica,sans-Serif\" font-size=\"14.00\" fill=\"#000000\">value = 27.045</text>\n</g>\n<!-- 3&#45;&gt;4 -->\n<g id=\"edge4\" class=\"edge\">\n<title>3&#45;&gt;4</title>\n<path fill=\"none\" stroke=\"#000000\" d=\"M220.9595,-192.9465C198.2015,-180.5547 172.5973,-166.6132 150.2711,-154.4565\"/>\n<polygon fill=\"#000000\" stroke=\"#000000\" points=\"151.7019,-151.2504 141.2457,-149.5422 148.3544,-157.3982 151.7019,-151.2504\"/>\n</g>\n<!-- 5 -->\n<g id=\"node6\" class=\"node\">\n<title>5</title>\n<polygon fill=\"#f3c5a5\" stroke=\"#000000\" points=\"372,-157 195,-157 195,-89 372,-89 372,-157\"/>\n<text text-anchor=\"middle\" x=\"283.5\" y=\"-141.8\" font-family=\"Helvetica,sans-Serif\" font-size=\"14.00\" fill=\"#000000\">CLOUD &lt;= 2.729</text>\n<text text-anchor=\"middle\" x=\"283.5\" y=\"-126.8\" font-family=\"Helvetica,sans-Serif\" font-size=\"14.00\" fill=\"#000000\">squared_error = 154.724</text>\n<text text-anchor=\"middle\" x=\"283.5\" y=\"-111.8\" font-family=\"Helvetica,sans-Serif\" font-size=\"14.00\" fill=\"#000000\">samples = 46</text>\n<text text-anchor=\"middle\" x=\"283.5\" y=\"-96.8\" font-family=\"Helvetica,sans-Serif\" font-size=\"14.00\" fill=\"#000000\">value = 36.565</text>\n</g>\n<!-- 3&#45;&gt;5 -->\n<g id=\"edge5\" class=\"edge\">\n<title>3&#45;&gt;5</title>\n<path fill=\"none\" stroke=\"#000000\" d=\"M283.5,-192.9465C283.5,-184.776 283.5,-175.9318 283.5,-167.3697\"/>\n<polygon fill=\"#000000\" stroke=\"#000000\" points=\"287.0001,-167.13 283.5,-157.13 280.0001,-167.13 287.0001,-167.13\"/>\n</g>\n<!-- 6 -->\n<g id=\"node7\" class=\"node\">\n<title>6</title>\n<polygon fill=\"#f4cbae\" stroke=\"#000000\" points=\"177,-53 0,-53 0,0 177,0 177,-53\"/>\n<text text-anchor=\"middle\" x=\"88.5\" y=\"-37.8\" font-family=\"Helvetica,sans-Serif\" font-size=\"14.00\" fill=\"#000000\">squared_error = 113.972</text>\n<text text-anchor=\"middle\" x=\"88.5\" y=\"-22.8\" font-family=\"Helvetica,sans-Serif\" font-size=\"14.00\" fill=\"#000000\">samples = 24</text>\n<text text-anchor=\"middle\" x=\"88.5\" y=\"-7.8\" font-family=\"Helvetica,sans-Serif\" font-size=\"14.00\" fill=\"#000000\">value = 34.667</text>\n</g>\n<!-- 5&#45;&gt;6 -->\n<g id=\"edge6\" class=\"edge\">\n<title>5&#45;&gt;6</title>\n<path fill=\"none\" stroke=\"#000000\" d=\"M214.7503,-88.9777C194.1161,-78.7664 171.5951,-67.6214 151.3617,-57.6085\"/>\n<polygon fill=\"#000000\" stroke=\"#000000\" points=\"152.7562,-54.3935 142.2412,-53.095 149.6515,-60.6673 152.7562,-54.3935\"/>\n</g>\n<!-- 7 -->\n<g id=\"node8\" class=\"node\">\n<title>7</title>\n<polygon fill=\"#f2bf9a\" stroke=\"#000000\" points=\"372,-53 195,-53 195,0 372,0 372,-53\"/>\n<text text-anchor=\"middle\" x=\"283.5\" y=\"-37.8\" font-family=\"Helvetica,sans-Serif\" font-size=\"14.00\" fill=\"#000000\">squared_error = 190.959</text>\n<text text-anchor=\"middle\" x=\"283.5\" y=\"-22.8\" font-family=\"Helvetica,sans-Serif\" font-size=\"14.00\" fill=\"#000000\">samples = 22</text>\n<text text-anchor=\"middle\" x=\"283.5\" y=\"-7.8\" font-family=\"Helvetica,sans-Serif\" font-size=\"14.00\" fill=\"#000000\">value = 38.636</text>\n</g>\n<!-- 5&#45;&gt;7 -->\n<g id=\"edge7\" class=\"edge\">\n<title>5&#45;&gt;7</title>\n<path fill=\"none\" stroke=\"#000000\" d=\"M283.5,-88.9777C283.5,-80.7364 283.5,-71.887 283.5,-63.5153\"/>\n<polygon fill=\"#000000\" stroke=\"#000000\" points=\"287.0001,-63.2484 283.5,-53.2485 280.0001,-63.2485 287.0001,-63.2484\"/>\n</g>\n<!-- 9 -->\n<g id=\"node10\" class=\"node\">\n<title>9</title>\n<polygon fill=\"#fcefe5\" stroke=\"#000000\" points=\"559,-157 390,-157 390,-89 559,-89 559,-157\"/>\n<text text-anchor=\"middle\" x=\"474.5\" y=\"-141.8\" font-family=\"Helvetica,sans-Serif\" font-size=\"14.00\" fill=\"#000000\">TEMP &lt;= 22.496</text>\n<text text-anchor=\"middle\" x=\"474.5\" y=\"-126.8\" font-family=\"Helvetica,sans-Serif\" font-size=\"14.00\" fill=\"#000000\">squared_error = 49.622</text>\n<text text-anchor=\"middle\" x=\"474.5\" y=\"-111.8\" font-family=\"Helvetica,sans-Serif\" font-size=\"14.00\" fill=\"#000000\">samples = 43</text>\n<text text-anchor=\"middle\" x=\"474.5\" y=\"-96.8\" font-family=\"Helvetica,sans-Serif\" font-size=\"14.00\" fill=\"#000000\">value = 23.349</text>\n</g>\n<!-- 8&#45;&gt;9 -->\n<g id=\"edge9\" class=\"edge\">\n<title>8&#45;&gt;9</title>\n<path fill=\"none\" stroke=\"#000000\" d=\"M474.5,-192.9465C474.5,-184.776 474.5,-175.9318 474.5,-167.3697\"/>\n<polygon fill=\"#000000\" stroke=\"#000000\" points=\"478.0001,-167.13 474.5,-157.13 471.0001,-167.13 478.0001,-167.13\"/>\n</g>\n<!-- 12 -->\n<g id=\"node13\" class=\"node\">\n<title>12</title>\n<polygon fill=\"#f6d2b8\" stroke=\"#000000\" points=\"746,-149.5 577,-149.5 577,-96.5 746,-96.5 746,-149.5\"/>\n<text text-anchor=\"middle\" x=\"661.5\" y=\"-134.3\" font-family=\"Helvetica,sans-Serif\" font-size=\"14.00\" fill=\"#000000\">squared_error = 75.898</text>\n<text text-anchor=\"middle\" x=\"661.5\" y=\"-119.3\" font-family=\"Helvetica,sans-Serif\" font-size=\"14.00\" fill=\"#000000\">samples = 29</text>\n<text text-anchor=\"middle\" x=\"661.5\" y=\"-104.3\" font-family=\"Helvetica,sans-Serif\" font-size=\"14.00\" fill=\"#000000\">value = 32.586</text>\n</g>\n<!-- 8&#45;&gt;12 -->\n<g id=\"edge12\" class=\"edge\">\n<title>8&#45;&gt;12</title>\n<path fill=\"none\" stroke=\"#000000\" d=\"M535.7308,-192.9465C558.0121,-180.5547 583.0802,-166.6132 604.9387,-154.4565\"/>\n<polygon fill=\"#000000\" stroke=\"#000000\" points=\"606.7369,-157.4614 613.7751,-149.5422 603.3346,-151.3438 606.7369,-157.4614\"/>\n</g>\n<!-- 10 -->\n<g id=\"node11\" class=\"node\">\n<title>10</title>\n<polygon fill=\"#fbebdf\" stroke=\"#000000\" points=\"559,-53 390,-53 390,0 559,0 559,-53\"/>\n<text text-anchor=\"middle\" x=\"474.5\" y=\"-37.8\" font-family=\"Helvetica,sans-Serif\" font-size=\"14.00\" fill=\"#000000\">squared_error = 47.096</text>\n<text text-anchor=\"middle\" x=\"474.5\" y=\"-22.8\" font-family=\"Helvetica,sans-Serif\" font-size=\"14.00\" fill=\"#000000\">samples = 23</text>\n<text text-anchor=\"middle\" x=\"474.5\" y=\"-7.8\" font-family=\"Helvetica,sans-Serif\" font-size=\"14.00\" fill=\"#000000\">value = 24.652</text>\n</g>\n<!-- 9&#45;&gt;10 -->\n<g id=\"edge10\" class=\"edge\">\n<title>9&#45;&gt;10</title>\n<path fill=\"none\" stroke=\"#000000\" d=\"M474.5,-88.9777C474.5,-80.7364 474.5,-71.887 474.5,-63.5153\"/>\n<polygon fill=\"#000000\" stroke=\"#000000\" points=\"478.0001,-63.2484 474.5,-53.2485 471.0001,-63.2485 478.0001,-63.2484\"/>\n</g>\n<!-- 11 -->\n<g id=\"node12\" class=\"node\">\n<title>11</title>\n<polygon fill=\"#fdf3ed\" stroke=\"#000000\" points=\"746,-53 577,-53 577,0 746,0 746,-53\"/>\n<text text-anchor=\"middle\" x=\"661.5\" y=\"-37.8\" font-family=\"Helvetica,sans-Serif\" font-size=\"14.00\" fill=\"#000000\">squared_error = 48.327</text>\n<text text-anchor=\"middle\" x=\"661.5\" y=\"-22.8\" font-family=\"Helvetica,sans-Serif\" font-size=\"14.00\" fill=\"#000000\">samples = 20</text>\n<text text-anchor=\"middle\" x=\"661.5\" y=\"-7.8\" font-family=\"Helvetica,sans-Serif\" font-size=\"14.00\" fill=\"#000000\">value = 21.85</text>\n</g>\n<!-- 9&#45;&gt;11 -->\n<g id=\"edge11\" class=\"edge\">\n<title>9&#45;&gt;11</title>\n<path fill=\"none\" stroke=\"#000000\" d=\"M540.4292,-88.9777C560.1278,-78.8124 581.6194,-67.7218 600.9549,-57.7439\"/>\n<polygon fill=\"#000000\" stroke=\"#000000\" points=\"602.682,-60.7912 609.9635,-53.095 599.4719,-54.5706 602.682,-60.7912\"/>\n</g>\n<!-- 15 -->\n<g id=\"node16\" class=\"node\">\n<title>15</title>\n<polygon fill=\"#efb387\" stroke=\"#000000\" points=\"897,-365 720,-365 720,-297 897,-297 897,-365\"/>\n<text text-anchor=\"middle\" x=\"808.5\" y=\"-349.8\" font-family=\"Helvetica,sans-Serif\" font-size=\"14.00\" fill=\"#000000\">O3 &lt;= 0.018</text>\n<text text-anchor=\"middle\" x=\"808.5\" y=\"-334.8\" font-family=\"Helvetica,sans-Serif\" font-size=\"14.00\" fill=\"#000000\">squared_error = 155.886</text>\n<text text-anchor=\"middle\" x=\"808.5\" y=\"-319.8\" font-family=\"Helvetica,sans-Serif\" font-size=\"14.00\" fill=\"#000000\">samples = 57</text>\n<text text-anchor=\"middle\" x=\"808.5\" y=\"-304.8\" font-family=\"Helvetica,sans-Serif\" font-size=\"14.00\" fill=\"#000000\">value = 42.614</text>\n</g>\n<!-- 14&#45;&gt;15 -->\n<g id=\"edge15\" class=\"edge\">\n<title>14&#45;&gt;15</title>\n<path fill=\"none\" stroke=\"#000000\" d=\"M809.8451,-400.9465C809.688,-392.776 809.5179,-383.9318 809.3533,-375.3697\"/>\n<polygon fill=\"#000000\" stroke=\"#000000\" points=\"812.8481,-375.0608 809.1563,-365.13 805.8494,-375.1955 812.8481,-375.0608\"/>\n</g>\n<!-- 18 -->\n<g id=\"node19\" class=\"node\">\n<title>18</title>\n<polygon fill=\"#e58139\" stroke=\"#000000\" points=\"1084,-357.5 915,-357.5 915,-304.5 1084,-304.5 1084,-357.5\"/>\n<text text-anchor=\"middle\" x=\"999.5\" y=\"-342.3\" font-family=\"Helvetica,sans-Serif\" font-size=\"14.00\" fill=\"#000000\">squared_error = 235.25</text>\n<text text-anchor=\"middle\" x=\"999.5\" y=\"-327.3\" font-family=\"Helvetica,sans-Serif\" font-size=\"14.00\" fill=\"#000000\">samples = 22</text>\n<text text-anchor=\"middle\" x=\"999.5\" y=\"-312.3\" font-family=\"Helvetica,sans-Serif\" font-size=\"14.00\" fill=\"#000000\">value = 58.5</text>\n</g>\n<!-- 14&#45;&gt;18 -->\n<g id=\"edge18\" class=\"edge\">\n<title>14&#45;&gt;18</title>\n<path fill=\"none\" stroke=\"#000000\" d=\"M872.3857,-400.9465C894.9053,-388.5547 920.2415,-374.6132 942.3338,-362.4565\"/>\n<polygon fill=\"#000000\" stroke=\"#000000\" points=\"944.1909,-365.4296 951.2647,-357.5422 940.8162,-359.2968 944.1909,-365.4296\"/>\n</g>\n<!-- 16 -->\n<g id=\"node17\" class=\"node\">\n<title>16</title>\n<polygon fill=\"#f2c09c\" stroke=\"#000000\" points=\"849,-253.5 672,-253.5 672,-200.5 849,-200.5 849,-253.5\"/>\n<text text-anchor=\"middle\" x=\"760.5\" y=\"-238.3\" font-family=\"Helvetica,sans-Serif\" font-size=\"14.00\" fill=\"#000000\">squared_error = 127.478</text>\n<text text-anchor=\"middle\" x=\"760.5\" y=\"-223.3\" font-family=\"Helvetica,sans-Serif\" font-size=\"14.00\" fill=\"#000000\">samples = 37</text>\n<text text-anchor=\"middle\" x=\"760.5\" y=\"-208.3\" font-family=\"Helvetica,sans-Serif\" font-size=\"14.00\" fill=\"#000000\">value = 38.378</text>\n</g>\n<!-- 15&#45;&gt;16 -->\n<g id=\"edge16\" class=\"edge\">\n<title>15&#45;&gt;16</title>\n<path fill=\"none\" stroke=\"#000000\" d=\"M792.783,-296.9465C787.75,-286.0418 782.1632,-273.9368 777.0712,-262.9043\"/>\n<polygon fill=\"#000000\" stroke=\"#000000\" points=\"780.1187,-261.155 772.7502,-253.5422 773.763,-264.0885 780.1187,-261.155\"/>\n</g>\n<!-- 17 -->\n<g id=\"node18\" class=\"node\">\n<title>17</title>\n<polygon fill=\"#ea9a60\" stroke=\"#000000\" points=\"1044,-253.5 867,-253.5 867,-200.5 1044,-200.5 1044,-253.5\"/>\n<text text-anchor=\"middle\" x=\"955.5\" y=\"-238.3\" font-family=\"Helvetica,sans-Serif\" font-size=\"14.00\" fill=\"#000000\">squared_error = 113.847</text>\n<text text-anchor=\"middle\" x=\"955.5\" y=\"-223.3\" font-family=\"Helvetica,sans-Serif\" font-size=\"14.00\" fill=\"#000000\">samples = 20</text>\n<text text-anchor=\"middle\" x=\"955.5\" y=\"-208.3\" font-family=\"Helvetica,sans-Serif\" font-size=\"14.00\" fill=\"#000000\">value = 50.45</text>\n</g>\n<!-- 15&#45;&gt;17 -->\n<g id=\"edge17\" class=\"edge\">\n<title>15&#45;&gt;17</title>\n<path fill=\"none\" stroke=\"#000000\" d=\"M856.6333,-296.9465C873.6037,-284.9403 892.6304,-271.4791 909.4265,-259.5962\"/>\n<polygon fill=\"#000000\" stroke=\"#000000\" points=\"911.8416,-262.175 917.9837,-253.5422 907.7987,-256.4605 911.8416,-262.175\"/>\n</g>\n</g>\n</svg>\n"
          },
          "metadata": {}
        }
      ]
    },
    {
      "cell_type": "markdown",
      "source": [
        "#### **의사결정나무의 최종 모델 생성하기 및 평가하기**"
      ],
      "metadata": {
        "id": "PFuoThijH1nz"
      }
    },
    {
      "cell_type": "code",
      "source": [
        "dt_final = DecisionTreeRegressor(min_samples_leaf = 20,\n",
        "                                 min_samples_split = 10,\n",
        "                                 max_depth = 5)\n",
        "dt_final.fit(df_train_x_vf, df_train_y_vf)\n",
        "\n",
        "print('Score on training set : {:.3f}'.format(dt_final.score(df_train_x_vf, df_train_y_vf)))\n",
        "print('Score on test set : {:.3f}'.format(dt_final.score(df_test_x_vf, df_test_y_vf)))"
      ],
      "metadata": {
        "outputId": "59faf024-da11-49c2-85a4-10764cb81df5",
        "colab": {
          "base_uri": "https://localhost:8080/"
        },
        "id": "_4Mg5ECuH1n0"
      },
      "execution_count": null,
      "outputs": [
        {
          "output_type": "stream",
          "name": "stdout",
          "text": [
            "Score on training set : 0.560\n",
            "Score on test set : 0.164\n"
          ]
        }
      ]
    },
    {
      "cell_type": "markdown",
      "source": [
        "- 의사결정나무로 이끌어낸 모델의 성능은 train과 test 데이터에 대해 각각 56%, 16.4%이다.\n",
        "- Train 데이터에 대해 모델의 과대적합이 발생한 것으로 보이며, 전체적인 모델의 성능 또한 좋지 않다는 결론을 내릴 수 있다."
      ],
      "metadata": {
        "id": "AfkPumqXH1n0"
      }
    },
    {
      "cell_type": "markdown",
      "source": [
        "### **Vital Few를 이용하여 그래디언트 부스팅(Gradient Boosting) 모델링하기**"
      ],
      "metadata": {
        "id": "MsklZKesfW3r"
      }
    },
    {
      "cell_type": "markdown",
      "source": [
        "#### **모델 파라미터 설정하기 : n_estimators**"
      ],
      "metadata": {
        "id": "aRYtPRdWCRQK"
      }
    },
    {
      "cell_type": "code",
      "source": [
        "train_score = []; test_score = []\n",
        "para_n_tree = [n_tree * 20 for n_tree in range(1,11)]\n",
        "\n",
        "for v_n_estimators in para_n_tree :\n",
        "    gb = GradientBoostingRegressor(n_estimators = v_n_estimators)\n",
        "    gb.fit(df_train_x_vf, df_train_y_vf)\n",
        "    train_score.append(gb.score(df_train_x_vf, df_train_y_vf))\n",
        "    test_score.append(gb.score(df_test_x_vf, df_test_y_vf))\n",
        "\n",
        "df_score_n_tree = pd.DataFrame()\n",
        "df_score_n_tree['n_estimators'] = para_n_tree\n",
        "df_score_n_tree['TrainScore'] = train_score\n",
        "df_score_n_tree['TestScore'] = test_score"
      ],
      "metadata": {
        "id": "84-f5660CGVg"
      },
      "execution_count": null,
      "outputs": []
    },
    {
      "cell_type": "code",
      "source": [
        "df_score_n_tree.round(3)"
      ],
      "metadata": {
        "colab": {
          "base_uri": "https://localhost:8080/",
          "height": 363
        },
        "outputId": "588ecacd-8bc2-49ab-f339-0bd21a6599c5",
        "id": "0sOwR6hrCGWF"
      },
      "execution_count": null,
      "outputs": [
        {
          "output_type": "execute_result",
          "data": {
            "text/plain": [
              "   n_estimators  TrainScore  TestScore\n",
              "0            20       0.715      0.238\n",
              "1            40       0.809      0.254\n",
              "2            60       0.861      0.268\n",
              "3            80       0.892      0.279\n",
              "4           100       0.914      0.287\n",
              "5           120       0.928      0.290\n",
              "6           140       0.941      0.294\n",
              "7           160       0.950      0.296\n",
              "8           180       0.958      0.296\n",
              "9           200       0.966      0.303"
            ],
            "text/html": [
              "\n",
              "  <div id=\"df-79e23e71-0973-46ee-9897-135f1daaf93e\">\n",
              "    <div class=\"colab-df-container\">\n",
              "      <div>\n",
              "<style scoped>\n",
              "    .dataframe tbody tr th:only-of-type {\n",
              "        vertical-align: middle;\n",
              "    }\n",
              "\n",
              "    .dataframe tbody tr th {\n",
              "        vertical-align: top;\n",
              "    }\n",
              "\n",
              "    .dataframe thead th {\n",
              "        text-align: right;\n",
              "    }\n",
              "</style>\n",
              "<table border=\"1\" class=\"dataframe\">\n",
              "  <thead>\n",
              "    <tr style=\"text-align: right;\">\n",
              "      <th></th>\n",
              "      <th>n_estimators</th>\n",
              "      <th>TrainScore</th>\n",
              "      <th>TestScore</th>\n",
              "    </tr>\n",
              "  </thead>\n",
              "  <tbody>\n",
              "    <tr>\n",
              "      <th>0</th>\n",
              "      <td>20</td>\n",
              "      <td>0.715</td>\n",
              "      <td>0.238</td>\n",
              "    </tr>\n",
              "    <tr>\n",
              "      <th>1</th>\n",
              "      <td>40</td>\n",
              "      <td>0.809</td>\n",
              "      <td>0.254</td>\n",
              "    </tr>\n",
              "    <tr>\n",
              "      <th>2</th>\n",
              "      <td>60</td>\n",
              "      <td>0.861</td>\n",
              "      <td>0.268</td>\n",
              "    </tr>\n",
              "    <tr>\n",
              "      <th>3</th>\n",
              "      <td>80</td>\n",
              "      <td>0.892</td>\n",
              "      <td>0.279</td>\n",
              "    </tr>\n",
              "    <tr>\n",
              "      <th>4</th>\n",
              "      <td>100</td>\n",
              "      <td>0.914</td>\n",
              "      <td>0.287</td>\n",
              "    </tr>\n",
              "    <tr>\n",
              "      <th>5</th>\n",
              "      <td>120</td>\n",
              "      <td>0.928</td>\n",
              "      <td>0.290</td>\n",
              "    </tr>\n",
              "    <tr>\n",
              "      <th>6</th>\n",
              "      <td>140</td>\n",
              "      <td>0.941</td>\n",
              "      <td>0.294</td>\n",
              "    </tr>\n",
              "    <tr>\n",
              "      <th>7</th>\n",
              "      <td>160</td>\n",
              "      <td>0.950</td>\n",
              "      <td>0.296</td>\n",
              "    </tr>\n",
              "    <tr>\n",
              "      <th>8</th>\n",
              "      <td>180</td>\n",
              "      <td>0.958</td>\n",
              "      <td>0.296</td>\n",
              "    </tr>\n",
              "    <tr>\n",
              "      <th>9</th>\n",
              "      <td>200</td>\n",
              "      <td>0.966</td>\n",
              "      <td>0.303</td>\n",
              "    </tr>\n",
              "  </tbody>\n",
              "</table>\n",
              "</div>\n",
              "      <button class=\"colab-df-convert\" onclick=\"convertToInteractive('df-79e23e71-0973-46ee-9897-135f1daaf93e')\"\n",
              "              title=\"Convert this dataframe to an interactive table.\"\n",
              "              style=\"display:none;\">\n",
              "        \n",
              "  <svg xmlns=\"http://www.w3.org/2000/svg\" height=\"24px\"viewBox=\"0 0 24 24\"\n",
              "       width=\"24px\">\n",
              "    <path d=\"M0 0h24v24H0V0z\" fill=\"none\"/>\n",
              "    <path d=\"M18.56 5.44l.94 2.06.94-2.06 2.06-.94-2.06-.94-.94-2.06-.94 2.06-2.06.94zm-11 1L8.5 8.5l.94-2.06 2.06-.94-2.06-.94L8.5 2.5l-.94 2.06-2.06.94zm10 10l.94 2.06.94-2.06 2.06-.94-2.06-.94-.94-2.06-.94 2.06-2.06.94z\"/><path d=\"M17.41 7.96l-1.37-1.37c-.4-.4-.92-.59-1.43-.59-.52 0-1.04.2-1.43.59L10.3 9.45l-7.72 7.72c-.78.78-.78 2.05 0 2.83L4 21.41c.39.39.9.59 1.41.59.51 0 1.02-.2 1.41-.59l7.78-7.78 2.81-2.81c.8-.78.8-2.07 0-2.86zM5.41 20L4 18.59l7.72-7.72 1.47 1.35L5.41 20z\"/>\n",
              "  </svg>\n",
              "      </button>\n",
              "      \n",
              "  <style>\n",
              "    .colab-df-container {\n",
              "      display:flex;\n",
              "      flex-wrap:wrap;\n",
              "      gap: 12px;\n",
              "    }\n",
              "\n",
              "    .colab-df-convert {\n",
              "      background-color: #E8F0FE;\n",
              "      border: none;\n",
              "      border-radius: 50%;\n",
              "      cursor: pointer;\n",
              "      display: none;\n",
              "      fill: #1967D2;\n",
              "      height: 32px;\n",
              "      padding: 0 0 0 0;\n",
              "      width: 32px;\n",
              "    }\n",
              "\n",
              "    .colab-df-convert:hover {\n",
              "      background-color: #E2EBFA;\n",
              "      box-shadow: 0px 1px 2px rgba(60, 64, 67, 0.3), 0px 1px 3px 1px rgba(60, 64, 67, 0.15);\n",
              "      fill: #174EA6;\n",
              "    }\n",
              "\n",
              "    [theme=dark] .colab-df-convert {\n",
              "      background-color: #3B4455;\n",
              "      fill: #D2E3FC;\n",
              "    }\n",
              "\n",
              "    [theme=dark] .colab-df-convert:hover {\n",
              "      background-color: #434B5C;\n",
              "      box-shadow: 0px 1px 3px 1px rgba(0, 0, 0, 0.15);\n",
              "      filter: drop-shadow(0px 1px 2px rgba(0, 0, 0, 0.3));\n",
              "      fill: #FFFFFF;\n",
              "    }\n",
              "  </style>\n",
              "\n",
              "      <script>\n",
              "        const buttonEl =\n",
              "          document.querySelector('#df-79e23e71-0973-46ee-9897-135f1daaf93e button.colab-df-convert');\n",
              "        buttonEl.style.display =\n",
              "          google.colab.kernel.accessAllowed ? 'block' : 'none';\n",
              "\n",
              "        async function convertToInteractive(key) {\n",
              "          const element = document.querySelector('#df-79e23e71-0973-46ee-9897-135f1daaf93e');\n",
              "          const dataTable =\n",
              "            await google.colab.kernel.invokeFunction('convertToInteractive',\n",
              "                                                     [key], {});\n",
              "          if (!dataTable) return;\n",
              "\n",
              "          const docLinkHtml = 'Like what you see? Visit the ' +\n",
              "            '<a target=\"_blank\" href=https://colab.research.google.com/notebooks/data_table.ipynb>data table notebook</a>'\n",
              "            + ' to learn more about interactive tables.';\n",
              "          element.innerHTML = '';\n",
              "          dataTable['output_type'] = 'display_data';\n",
              "          await google.colab.output.renderOutput(dataTable, element);\n",
              "          const docLink = document.createElement('div');\n",
              "          docLink.innerHTML = docLinkHtml;\n",
              "          element.appendChild(docLink);\n",
              "        }\n",
              "      </script>\n",
              "    </div>\n",
              "  </div>\n",
              "  "
            ]
          },
          "metadata": {},
          "execution_count": 126
        }
      ]
    },
    {
      "cell_type": "code",
      "source": [
        "plt.plot(para_n_tree, train_score, linestyle = '-', label = 'Train Score')\n",
        "plt.plot(para_n_tree, test_score, linestyle = '-', label = 'Test Score')\n",
        "plt.ylabel('score'); plt.xlabel('n_estimators')\n",
        "plt.legend()"
      ],
      "metadata": {
        "colab": {
          "base_uri": "https://localhost:8080/",
          "height": 302
        },
        "outputId": "4d04054b-2e95-4e3c-8049-9467b0e78736",
        "id": "erbe3rWmCGWG"
      },
      "execution_count": null,
      "outputs": [
        {
          "output_type": "execute_result",
          "data": {
            "text/plain": [
              "<matplotlib.legend.Legend at 0x7ff8ed425510>"
            ]
          },
          "metadata": {},
          "execution_count": 127
        },
        {
          "output_type": "display_data",
          "data": {
            "text/plain": [
              "<Figure size 432x288 with 1 Axes>"
            ],
            "image/png": "[encoded data removed]"
          },
          "metadata": {
            "needs_background": "light"
          }
        }
      ]
    },
    {
      "cell_type": "markdown",
      "source": [
        "- 나무의 개수가 늘어날수록 train과 test 데이터에 대한 모델의 성능이 모두 향상된다.\n",
        "- 모델의 성능을 최대로 끌어올리기 위해 **n_estimators = 200**으로 설정한다."
      ],
      "metadata": {
        "id": "QoLBk-0qCGWH"
      }
    },
    {
      "cell_type": "markdown",
      "source": [
        "#### **모델 파라미터 설정하기 : min_samples_leaf**"
      ],
      "metadata": {
        "id": "1Ionb6HPDdwZ"
      }
    },
    {
      "cell_type": "code",
      "source": [
        "train_score = []; test_score = []\n",
        "para_leaf = [n_leaf for n_leaf in range(1,21)]\n",
        "\n",
        "for v_min_leaf in para_leaf :\n",
        "    gb = GradientBoostingRegressor(n_estimators = 200,\n",
        "                                   min_samples_leaf = v_min_leaf)\n",
        "    gb.fit(df_train_x_vf, df_train_y_vf)\n",
        "    train_score.append(gb.score(df_train_x_vf, df_train_y_vf))\n",
        "    test_score.append(gb.score(df_test_x_vf, df_test_y_vf))\n",
        "\n",
        "df_score_leaf = pd.DataFrame()\n",
        "df_score_leaf['MinSamplesLeaf'] = para_leaf\n",
        "df_score_leaf['TrainScore'] = train_score\n",
        "df_score_leaf['TestScore'] = test_score"
      ],
      "metadata": {
        "id": "u0RLn0TBDdwm"
      },
      "execution_count": null,
      "outputs": []
    },
    {
      "cell_type": "code",
      "source": [
        "df_score_leaf.round(3)"
      ],
      "metadata": {
        "colab": {
          "base_uri": "https://localhost:8080/",
          "height": 676
        },
        "outputId": "e5169d97-a3b3-4c25-d183-4b87fd64945a",
        "id": "NlUHpcyMDdwn"
      },
      "execution_count": null,
      "outputs": [
        {
          "output_type": "execute_result",
          "data": {
            "text/plain": [
              "    MinSamplesLeaf  TrainScore  TestScore\n",
              "0                1       0.966      0.296\n",
              "1                2       0.951      0.329\n",
              "2                3       0.961      0.336\n",
              "3                4       0.954      0.308\n",
              "4                5       0.946      0.336\n",
              "5                6       0.942      0.320\n",
              "6                7       0.932      0.318\n",
              "7                8       0.924      0.328\n",
              "8                9       0.920      0.348\n",
              "9               10       0.915      0.320\n",
              "10              11       0.916      0.318\n",
              "11              12       0.905      0.333\n",
              "12              13       0.894      0.303\n",
              "13              14       0.888      0.296\n",
              "14              15       0.878      0.289\n",
              "15              16       0.871      0.280\n",
              "16              17       0.871      0.281\n",
              "17              18       0.865      0.284\n",
              "18              19       0.863      0.290\n",
              "19              20       0.858      0.271"
            ],
            "text/html": [
              "\n",
              "  <div id=\"df-89627e40-761f-47e6-ace2-99309a7af815\">\n",
              "    <div class=\"colab-df-container\">\n",
              "      <div>\n",
              "<style scoped>\n",
              "    .dataframe tbody tr th:only-of-type {\n",
              "        vertical-align: middle;\n",
              "    }\n",
              "\n",
              "    .dataframe tbody tr th {\n",
              "        vertical-align: top;\n",
              "    }\n",
              "\n",
              "    .dataframe thead th {\n",
              "        text-align: right;\n",
              "    }\n",
              "</style>\n",
              "<table border=\"1\" class=\"dataframe\">\n",
              "  <thead>\n",
              "    <tr style=\"text-align: right;\">\n",
              "      <th></th>\n",
              "      <th>MinSamplesLeaf</th>\n",
              "      <th>TrainScore</th>\n",
              "      <th>TestScore</th>\n",
              "    </tr>\n",
              "  </thead>\n",
              "  <tbody>\n",
              "    <tr>\n",
              "      <th>0</th>\n",
              "      <td>1</td>\n",
              "      <td>0.966</td>\n",
              "      <td>0.296</td>\n",
              "    </tr>\n",
              "    <tr>\n",
              "      <th>1</th>\n",
              "      <td>2</td>\n",
              "      <td>0.951</td>\n",
              "      <td>0.329</td>\n",
              "    </tr>\n",
              "    <tr>\n",
              "      <th>2</th>\n",
              "      <td>3</td>\n",
              "      <td>0.961</td>\n",
              "      <td>0.336</td>\n",
              "    </tr>\n",
              "    <tr>\n",
              "      <th>3</th>\n",
              "      <td>4</td>\n",
              "      <td>0.954</td>\n",
              "      <td>0.308</td>\n",
              "    </tr>\n",
              "    <tr>\n",
              "      <th>4</th>\n",
              "      <td>5</td>\n",
              "      <td>0.946</td>\n",
              "      <td>0.336</td>\n",
              "    </tr>\n",
              "    <tr>\n",
              "      <th>5</th>\n",
              "      <td>6</td>\n",
              "      <td>0.942</td>\n",
              "      <td>0.320</td>\n",
              "    </tr>\n",
              "    <tr>\n",
              "      <th>6</th>\n",
              "      <td>7</td>\n",
              "      <td>0.932</td>\n",
              "      <td>0.318</td>\n",
              "    </tr>\n",
              "    <tr>\n",
              "      <th>7</th>\n",
              "      <td>8</td>\n",
              "      <td>0.924</td>\n",
              "      <td>0.328</td>\n",
              "    </tr>\n",
              "    <tr>\n",
              "      <th>8</th>\n",
              "      <td>9</td>\n",
              "      <td>0.920</td>\n",
              "      <td>0.348</td>\n",
              "    </tr>\n",
              "    <tr>\n",
              "      <th>9</th>\n",
              "      <td>10</td>\n",
              "      <td>0.915</td>\n",
              "      <td>0.320</td>\n",
              "    </tr>\n",
              "    <tr>\n",
              "      <th>10</th>\n",
              "      <td>11</td>\n",
              "      <td>0.916</td>\n",
              "      <td>0.318</td>\n",
              "    </tr>\n",
              "    <tr>\n",
              "      <th>11</th>\n",
              "      <td>12</td>\n",
              "      <td>0.905</td>\n",
              "      <td>0.333</td>\n",
              "    </tr>\n",
              "    <tr>\n",
              "      <th>12</th>\n",
              "      <td>13</td>\n",
              "      <td>0.894</td>\n",
              "      <td>0.303</td>\n",
              "    </tr>\n",
              "    <tr>\n",
              "      <th>13</th>\n",
              "      <td>14</td>\n",
              "      <td>0.888</td>\n",
              "      <td>0.296</td>\n",
              "    </tr>\n",
              "    <tr>\n",
              "      <th>14</th>\n",
              "      <td>15</td>\n",
              "      <td>0.878</td>\n",
              "      <td>0.289</td>\n",
              "    </tr>\n",
              "    <tr>\n",
              "      <th>15</th>\n",
              "      <td>16</td>\n",
              "      <td>0.871</td>\n",
              "      <td>0.280</td>\n",
              "    </tr>\n",
              "    <tr>\n",
              "      <th>16</th>\n",
              "      <td>17</td>\n",
              "      <td>0.871</td>\n",
              "      <td>0.281</td>\n",
              "    </tr>\n",
              "    <tr>\n",
              "      <th>17</th>\n",
              "      <td>18</td>\n",
              "      <td>0.865</td>\n",
              "      <td>0.284</td>\n",
              "    </tr>\n",
              "    <tr>\n",
              "      <th>18</th>\n",
              "      <td>19</td>\n",
              "      <td>0.863</td>\n",
              "      <td>0.290</td>\n",
              "    </tr>\n",
              "    <tr>\n",
              "      <th>19</th>\n",
              "      <td>20</td>\n",
              "      <td>0.858</td>\n",
              "      <td>0.271</td>\n",
              "    </tr>\n",
              "  </tbody>\n",
              "</table>\n",
              "</div>\n",
              "      <button class=\"colab-df-convert\" onclick=\"convertToInteractive('df-89627e40-761f-47e6-ace2-99309a7af815')\"\n",
              "              title=\"Convert this dataframe to an interactive table.\"\n",
              "              style=\"display:none;\">\n",
              "        \n",
              "  <svg xmlns=\"http://www.w3.org/2000/svg\" height=\"24px\"viewBox=\"0 0 24 24\"\n",
              "       width=\"24px\">\n",
              "    <path d=\"M0 0h24v24H0V0z\" fill=\"none\"/>\n",
              "    <path d=\"M18.56 5.44l.94 2.06.94-2.06 2.06-.94-2.06-.94-.94-2.06-.94 2.06-2.06.94zm-11 1L8.5 8.5l.94-2.06 2.06-.94-2.06-.94L8.5 2.5l-.94 2.06-2.06.94zm10 10l.94 2.06.94-2.06 2.06-.94-2.06-.94-.94-2.06-.94 2.06-2.06.94z\"/><path d=\"M17.41 7.96l-1.37-1.37c-.4-.4-.92-.59-1.43-.59-.52 0-1.04.2-1.43.59L10.3 9.45l-7.72 7.72c-.78.78-.78 2.05 0 2.83L4 21.41c.39.39.9.59 1.41.59.51 0 1.02-.2 1.41-.59l7.78-7.78 2.81-2.81c.8-.78.8-2.07 0-2.86zM5.41 20L4 18.59l7.72-7.72 1.47 1.35L5.41 20z\"/>\n",
              "  </svg>\n",
              "      </button>\n",
              "      \n",
              "  <style>\n",
              "    .colab-df-container {\n",
              "      display:flex;\n",
              "      flex-wrap:wrap;\n",
              "      gap: 12px;\n",
              "    }\n",
              "\n",
              "    .colab-df-convert {\n",
              "      background-color: #E8F0FE;\n",
              "      border: none;\n",
              "      border-radius: 50%;\n",
              "      cursor: pointer;\n",
              "      display: none;\n",
              "      fill: #1967D2;\n",
              "      height: 32px;\n",
              "      padding: 0 0 0 0;\n",
              "      width: 32px;\n",
              "    }\n",
              "\n",
              "    .colab-df-convert:hover {\n",
              "      background-color: #E2EBFA;\n",
              "      box-shadow: 0px 1px 2px rgba(60, 64, 67, 0.3), 0px 1px 3px 1px rgba(60, 64, 67, 0.15);\n",
              "      fill: #174EA6;\n",
              "    }\n",
              "\n",
              "    [theme=dark] .colab-df-convert {\n",
              "      background-color: #3B4455;\n",
              "      fill: #D2E3FC;\n",
              "    }\n",
              "\n",
              "    [theme=dark] .colab-df-convert:hover {\n",
              "      background-color: #434B5C;\n",
              "      box-shadow: 0px 1px 3px 1px rgba(0, 0, 0, 0.15);\n",
              "      filter: drop-shadow(0px 1px 2px rgba(0, 0, 0, 0.3));\n",
              "      fill: #FFFFFF;\n",
              "    }\n",
              "  </style>\n",
              "\n",
              "      <script>\n",
              "        const buttonEl =\n",
              "          document.querySelector('#df-89627e40-761f-47e6-ace2-99309a7af815 button.colab-df-convert');\n",
              "        buttonEl.style.display =\n",
              "          google.colab.kernel.accessAllowed ? 'block' : 'none';\n",
              "\n",
              "        async function convertToInteractive(key) {\n",
              "          const element = document.querySelector('#df-89627e40-761f-47e6-ace2-99309a7af815');\n",
              "          const dataTable =\n",
              "            await google.colab.kernel.invokeFunction('convertToInteractive',\n",
              "                                                     [key], {});\n",
              "          if (!dataTable) return;\n",
              "\n",
              "          const docLinkHtml = 'Like what you see? Visit the ' +\n",
              "            '<a target=\"_blank\" href=https://colab.research.google.com/notebooks/data_table.ipynb>data table notebook</a>'\n",
              "            + ' to learn more about interactive tables.';\n",
              "          element.innerHTML = '';\n",
              "          dataTable['output_type'] = 'display_data';\n",
              "          await google.colab.output.renderOutput(dataTable, element);\n",
              "          const docLink = document.createElement('div');\n",
              "          docLink.innerHTML = docLinkHtml;\n",
              "          element.appendChild(docLink);\n",
              "        }\n",
              "      </script>\n",
              "    </div>\n",
              "  </div>\n",
              "  "
            ]
          },
          "metadata": {},
          "execution_count": 139
        }
      ]
    },
    {
      "cell_type": "code",
      "source": [
        "plt.plot(para_leaf, train_score, linestyle = '-', label = 'Train Score')\n",
        "plt.plot(para_leaf, test_score, linestyle = '-', label = 'Test Score')\n",
        "plt.ylabel('score'); plt.xlabel('MinSamplesLeaf')\n",
        "plt.legend()"
      ],
      "metadata": {
        "colab": {
          "base_uri": "https://localhost:8080/",
          "height": 301
        },
        "outputId": "05fb193e-a260-4937-bbdc-3341b1f2bcc4",
        "id": "TTtZlptgDdwn"
      },
      "execution_count": null,
      "outputs": [
        {
          "output_type": "execute_result",
          "data": {
            "text/plain": [
              "<matplotlib.legend.Legend at 0x7ff8ed3a5a50>"
            ]
          },
          "metadata": {},
          "execution_count": 130
        },
        {
          "output_type": "display_data",
          "data": {
            "text/plain": [
              "<Figure size 432x288 with 1 Axes>"
            ],
            "image/png": "[encoded data removed]"
          },
          "metadata": {
            "needs_background": "light"
          }
        }
      ]
    },
    {
      "cell_type": "markdown",
      "source": [
        "- 리프 노드의 최소 샘플 수가 증가할수록 train과 test 데이터에 대한 모델의 성능이 감소한다.\n",
        "- TrainScore가 0.920, TestScore가 0.348인 **min_samples_leaf = 9**를 선택한다."
      ],
      "metadata": {
        "id": "1y4DQyV_Ddwo"
      }
    },
    {
      "cell_type": "markdown",
      "source": [
        "#### **모델 파라미터 설정하기 : min_samples_split**"
      ],
      "metadata": {
        "id": "8SnhwB2HENc0"
      }
    },
    {
      "cell_type": "code",
      "source": [
        "train_score = []; test_score = []\n",
        "para_split = [n_split * 3 for n_split in range(1,21)]\n",
        "\n",
        "for v_min_split in para_split :\n",
        "    gb = GradientBoostingRegressor(n_estimators = 200,\n",
        "                                   min_samples_leaf = 9,\n",
        "                                   min_samples_split = v_min_leaf)\n",
        "    gb.fit(df_train_x_vf, df_train_y_vf)\n",
        "    train_score.append(gb.score(df_train_x_vf, df_train_y_vf))\n",
        "    test_score.append(gb.score(df_test_x_vf, df_test_y_vf))\n",
        "\n",
        "df_score_split = pd.DataFrame()\n",
        "df_score_split['MinSamplesSplit'] = para_split\n",
        "df_score_split['TrainScore'] = train_score\n",
        "df_score_split['TestScore'] = test_score"
      ],
      "metadata": {
        "id": "hpOulNSZENc1"
      },
      "execution_count": null,
      "outputs": []
    },
    {
      "cell_type": "code",
      "source": [
        "df_score_split.round(3)"
      ],
      "metadata": {
        "colab": {
          "base_uri": "https://localhost:8080/",
          "height": 676
        },
        "outputId": "ada211f6-cb66-47b2-fc5c-e2a44d80a08a",
        "id": "pew0svRbENc2"
      },
      "execution_count": null,
      "outputs": [
        {
          "output_type": "execute_result",
          "data": {
            "text/plain": [
              "    MinSamplesSplit  TrainScore  TestScore\n",
              "0                 3       0.915      0.344\n",
              "1                 6       0.915      0.344\n",
              "2                 9       0.915      0.344\n",
              "3                12       0.915      0.344\n",
              "4                15       0.915      0.344\n",
              "5                18       0.915      0.344\n",
              "6                21       0.915      0.344\n",
              "7                24       0.915      0.344\n",
              "8                27       0.915      0.344\n",
              "9                30       0.915      0.344\n",
              "10               33       0.915      0.344\n",
              "11               36       0.915      0.344\n",
              "12               39       0.915      0.344\n",
              "13               42       0.915      0.344\n",
              "14               45       0.915      0.344\n",
              "15               48       0.915      0.344\n",
              "16               51       0.915      0.344\n",
              "17               54       0.915      0.344\n",
              "18               57       0.915      0.344\n",
              "19               60       0.915      0.344"
            ],
            "text/html": [
              "\n",
              "  <div id=\"df-26fd8706-2015-416d-90e4-9d0c83e182e5\">\n",
              "    <div class=\"colab-df-container\">\n",
              "      <div>\n",
              "<style scoped>\n",
              "    .dataframe tbody tr th:only-of-type {\n",
              "        vertical-align: middle;\n",
              "    }\n",
              "\n",
              "    .dataframe tbody tr th {\n",
              "        vertical-align: top;\n",
              "    }\n",
              "\n",
              "    .dataframe thead th {\n",
              "        text-align: right;\n",
              "    }\n",
              "</style>\n",
              "<table border=\"1\" class=\"dataframe\">\n",
              "  <thead>\n",
              "    <tr style=\"text-align: right;\">\n",
              "      <th></th>\n",
              "      <th>MinSamplesSplit</th>\n",
              "      <th>TrainScore</th>\n",
              "      <th>TestScore</th>\n",
              "    </tr>\n",
              "  </thead>\n",
              "  <tbody>\n",
              "    <tr>\n",
              "      <th>0</th>\n",
              "      <td>3</td>\n",
              "      <td>0.915</td>\n",
              "      <td>0.344</td>\n",
              "    </tr>\n",
              "    <tr>\n",
              "      <th>1</th>\n",
              "      <td>6</td>\n",
              "      <td>0.915</td>\n",
              "      <td>0.344</td>\n",
              "    </tr>\n",
              "    <tr>\n",
              "      <th>2</th>\n",
              "      <td>9</td>\n",
              "      <td>0.915</td>\n",
              "      <td>0.344</td>\n",
              "    </tr>\n",
              "    <tr>\n",
              "      <th>3</th>\n",
              "      <td>12</td>\n",
              "      <td>0.915</td>\n",
              "      <td>0.344</td>\n",
              "    </tr>\n",
              "    <tr>\n",
              "      <th>4</th>\n",
              "      <td>15</td>\n",
              "      <td>0.915</td>\n",
              "      <td>0.344</td>\n",
              "    </tr>\n",
              "    <tr>\n",
              "      <th>5</th>\n",
              "      <td>18</td>\n",
              "      <td>0.915</td>\n",
              "      <td>0.344</td>\n",
              "    </tr>\n",
              "    <tr>\n",
              "      <th>6</th>\n",
              "      <td>21</td>\n",
              "      <td>0.915</td>\n",
              "      <td>0.344</td>\n",
              "    </tr>\n",
              "    <tr>\n",
              "      <th>7</th>\n",
              "      <td>24</td>\n",
              "      <td>0.915</td>\n",
              "      <td>0.344</td>\n",
              "    </tr>\n",
              "    <tr>\n",
              "      <th>8</th>\n",
              "      <td>27</td>\n",
              "      <td>0.915</td>\n",
              "      <td>0.344</td>\n",
              "    </tr>\n",
              "    <tr>\n",
              "      <th>9</th>\n",
              "      <td>30</td>\n",
              "      <td>0.915</td>\n",
              "      <td>0.344</td>\n",
              "    </tr>\n",
              "    <tr>\n",
              "      <th>10</th>\n",
              "      <td>33</td>\n",
              "      <td>0.915</td>\n",
              "      <td>0.344</td>\n",
              "    </tr>\n",
              "    <tr>\n",
              "      <th>11</th>\n",
              "      <td>36</td>\n",
              "      <td>0.915</td>\n",
              "      <td>0.344</td>\n",
              "    </tr>\n",
              "    <tr>\n",
              "      <th>12</th>\n",
              "      <td>39</td>\n",
              "      <td>0.915</td>\n",
              "      <td>0.344</td>\n",
              "    </tr>\n",
              "    <tr>\n",
              "      <th>13</th>\n",
              "      <td>42</td>\n",
              "      <td>0.915</td>\n",
              "      <td>0.344</td>\n",
              "    </tr>\n",
              "    <tr>\n",
              "      <th>14</th>\n",
              "      <td>45</td>\n",
              "      <td>0.915</td>\n",
              "      <td>0.344</td>\n",
              "    </tr>\n",
              "    <tr>\n",
              "      <th>15</th>\n",
              "      <td>48</td>\n",
              "      <td>0.915</td>\n",
              "      <td>0.344</td>\n",
              "    </tr>\n",
              "    <tr>\n",
              "      <th>16</th>\n",
              "      <td>51</td>\n",
              "      <td>0.915</td>\n",
              "      <td>0.344</td>\n",
              "    </tr>\n",
              "    <tr>\n",
              "      <th>17</th>\n",
              "      <td>54</td>\n",
              "      <td>0.915</td>\n",
              "      <td>0.344</td>\n",
              "    </tr>\n",
              "    <tr>\n",
              "      <th>18</th>\n",
              "      <td>57</td>\n",
              "      <td>0.915</td>\n",
              "      <td>0.344</td>\n",
              "    </tr>\n",
              "    <tr>\n",
              "      <th>19</th>\n",
              "      <td>60</td>\n",
              "      <td>0.915</td>\n",
              "      <td>0.344</td>\n",
              "    </tr>\n",
              "  </tbody>\n",
              "</table>\n",
              "</div>\n",
              "      <button class=\"colab-df-convert\" onclick=\"convertToInteractive('df-26fd8706-2015-416d-90e4-9d0c83e182e5')\"\n",
              "              title=\"Convert this dataframe to an interactive table.\"\n",
              "              style=\"display:none;\">\n",
              "        \n",
              "  <svg xmlns=\"http://www.w3.org/2000/svg\" height=\"24px\"viewBox=\"0 0 24 24\"\n",
              "       width=\"24px\">\n",
              "    <path d=\"M0 0h24v24H0V0z\" fill=\"none\"/>\n",
              "    <path d=\"M18.56 5.44l.94 2.06.94-2.06 2.06-.94-2.06-.94-.94-2.06-.94 2.06-2.06.94zm-11 1L8.5 8.5l.94-2.06 2.06-.94-2.06-.94L8.5 2.5l-.94 2.06-2.06.94zm10 10l.94 2.06.94-2.06 2.06-.94-2.06-.94-.94-2.06-.94 2.06-2.06.94z\"/><path d=\"M17.41 7.96l-1.37-1.37c-.4-.4-.92-.59-1.43-.59-.52 0-1.04.2-1.43.59L10.3 9.45l-7.72 7.72c-.78.78-.78 2.05 0 2.83L4 21.41c.39.39.9.59 1.41.59.51 0 1.02-.2 1.41-.59l7.78-7.78 2.81-2.81c.8-.78.8-2.07 0-2.86zM5.41 20L4 18.59l7.72-7.72 1.47 1.35L5.41 20z\"/>\n",
              "  </svg>\n",
              "      </button>\n",
              "      \n",
              "  <style>\n",
              "    .colab-df-container {\n",
              "      display:flex;\n",
              "      flex-wrap:wrap;\n",
              "      gap: 12px;\n",
              "    }\n",
              "\n",
              "    .colab-df-convert {\n",
              "      background-color: #E8F0FE;\n",
              "      border: none;\n",
              "      border-radius: 50%;\n",
              "      cursor: pointer;\n",
              "      display: none;\n",
              "      fill: #1967D2;\n",
              "      height: 32px;\n",
              "      padding: 0 0 0 0;\n",
              "      width: 32px;\n",
              "    }\n",
              "\n",
              "    .colab-df-convert:hover {\n",
              "      background-color: #E2EBFA;\n",
              "      box-shadow: 0px 1px 2px rgba(60, 64, 67, 0.3), 0px 1px 3px 1px rgba(60, 64, 67, 0.15);\n",
              "      fill: #174EA6;\n",
              "    }\n",
              "\n",
              "    [theme=dark] .colab-df-convert {\n",
              "      background-color: #3B4455;\n",
              "      fill: #D2E3FC;\n",
              "    }\n",
              "\n",
              "    [theme=dark] .colab-df-convert:hover {\n",
              "      background-color: #434B5C;\n",
              "      box-shadow: 0px 1px 3px 1px rgba(0, 0, 0, 0.15);\n",
              "      filter: drop-shadow(0px 1px 2px rgba(0, 0, 0, 0.3));\n",
              "      fill: #FFFFFF;\n",
              "    }\n",
              "  </style>\n",
              "\n",
              "      <script>\n",
              "        const buttonEl =\n",
              "          document.querySelector('#df-26fd8706-2015-416d-90e4-9d0c83e182e5 button.colab-df-convert');\n",
              "        buttonEl.style.display =\n",
              "          google.colab.kernel.accessAllowed ? 'block' : 'none';\n",
              "\n",
              "        async function convertToInteractive(key) {\n",
              "          const element = document.querySelector('#df-26fd8706-2015-416d-90e4-9d0c83e182e5');\n",
              "          const dataTable =\n",
              "            await google.colab.kernel.invokeFunction('convertToInteractive',\n",
              "                                                     [key], {});\n",
              "          if (!dataTable) return;\n",
              "\n",
              "          const docLinkHtml = 'Like what you see? Visit the ' +\n",
              "            '<a target=\"_blank\" href=https://colab.research.google.com/notebooks/data_table.ipynb>data table notebook</a>'\n",
              "            + ' to learn more about interactive tables.';\n",
              "          element.innerHTML = '';\n",
              "          dataTable['output_type'] = 'display_data';\n",
              "          await google.colab.output.renderOutput(dataTable, element);\n",
              "          const docLink = document.createElement('div');\n",
              "          docLink.innerHTML = docLinkHtml;\n",
              "          element.appendChild(docLink);\n",
              "        }\n",
              "      </script>\n",
              "    </div>\n",
              "  </div>\n",
              "  "
            ]
          },
          "metadata": {},
          "execution_count": 137
        }
      ]
    },
    {
      "cell_type": "code",
      "source": [
        "plt.plot(para_split, train_score, linestyle = '-', label = 'Train Score')\n",
        "plt.plot(para_split, test_score, linestyle = '-', label = 'Test Score')\n",
        "plt.ylabel('score'); plt.xlabel('MinSamplesSplit')\n",
        "plt.legend()"
      ],
      "metadata": {
        "colab": {
          "base_uri": "https://localhost:8080/",
          "height": 297
        },
        "outputId": "5dd374ec-8aa2-4d61-e37b-ec491272fd6e",
        "id": "F8zDrlhAENc2"
      },
      "execution_count": null,
      "outputs": [
        {
          "output_type": "execute_result",
          "data": {
            "text/plain": [
              "<matplotlib.legend.Legend at 0x7ff8ed2d2610>"
            ]
          },
          "metadata": {},
          "execution_count": 133
        },
        {
          "output_type": "display_data",
          "data": {
            "text/plain": [
              "<Figure size 432x288 with 1 Axes>"
            ],
            "image/png": "[encoded data removed]"
          },
          "metadata": {
            "needs_background": "light"
          }
        }
      ]
    },
    {
      "cell_type": "markdown",
      "source": [
        "- 분리 노드의 최소 샘플 수가 증가하여도 모델의 성능에 변화가 없다.\n",
        "- 해당 하이퍼파라미터는 포함시키지 않는 것으로 결정한다."
      ],
      "metadata": {
        "id": "P47bb8q4ENc3"
      }
    },
    {
      "cell_type": "markdown",
      "source": [
        "#### **모델 파라미터 설정하기 : max_depth**"
      ],
      "metadata": {
        "id": "Cl347sBiFLoF"
      }
    },
    {
      "cell_type": "code",
      "source": [
        "train_score = []; test_score = []\n",
        "para_depth = [depth for depth in range(1,11)]\n",
        "\n",
        "for v_depth in para_depth :\n",
        "    gb = GradientBoostingRegressor(n_estimators = 200,\n",
        "                                   min_samples_leaf = 9,\n",
        "                                   max_depth = v_depth)\n",
        "    gb.fit(df_train_x_vf, df_train_y_vf)\n",
        "    train_score.append(gb.score(df_train_x_vf, df_train_y_vf))\n",
        "    test_score.append(gb.score(df_test_x_vf, df_test_y_vf))\n",
        "\n",
        "df_score_depth = pd.DataFrame()\n",
        "df_score_depth['MaxDepth'] = para_depth\n",
        "df_score_depth['TrainScore'] = train_score\n",
        "df_score_depth['TestScore'] = test_score"
      ],
      "metadata": {
        "id": "tO6m_iV9FLoG"
      },
      "execution_count": null,
      "outputs": []
    },
    {
      "cell_type": "code",
      "source": [
        "df_score_depth.round(3)"
      ],
      "metadata": {
        "colab": {
          "base_uri": "https://localhost:8080/",
          "height": 363
        },
        "outputId": "fa9ef89c-f649-41c1-c819-509b15135ef8",
        "id": "9_1iPyh7FLoH"
      },
      "execution_count": null,
      "outputs": [
        {
          "output_type": "execute_result",
          "data": {
            "text/plain": [
              "   MaxDepth  TrainScore  TestScore\n",
              "0         1       0.645      0.242\n",
              "1         2       0.831      0.327\n",
              "2         3       0.920      0.348\n",
              "3         4       0.956      0.342\n",
              "4         5       0.974      0.348\n",
              "5         6       0.983      0.319\n",
              "6         7       0.988      0.322\n",
              "7         8       0.992      0.345\n",
              "8         9       0.994      0.321\n",
              "9        10       0.996      0.292"
            ],
            "text/html": [
              "\n",
              "  <div id=\"df-8ca50bb0-e3d8-4e91-92e1-66cf5d9b87ad\">\n",
              "    <div class=\"colab-df-container\">\n",
              "      <div>\n",
              "<style scoped>\n",
              "    .dataframe tbody tr th:only-of-type {\n",
              "        vertical-align: middle;\n",
              "    }\n",
              "\n",
              "    .dataframe tbody tr th {\n",
              "        vertical-align: top;\n",
              "    }\n",
              "\n",
              "    .dataframe thead th {\n",
              "        text-align: right;\n",
              "    }\n",
              "</style>\n",
              "<table border=\"1\" class=\"dataframe\">\n",
              "  <thead>\n",
              "    <tr style=\"text-align: right;\">\n",
              "      <th></th>\n",
              "      <th>MaxDepth</th>\n",
              "      <th>TrainScore</th>\n",
              "      <th>TestScore</th>\n",
              "    </tr>\n",
              "  </thead>\n",
              "  <tbody>\n",
              "    <tr>\n",
              "      <th>0</th>\n",
              "      <td>1</td>\n",
              "      <td>0.645</td>\n",
              "      <td>0.242</td>\n",
              "    </tr>\n",
              "    <tr>\n",
              "      <th>1</th>\n",
              "      <td>2</td>\n",
              "      <td>0.831</td>\n",
              "      <td>0.327</td>\n",
              "    </tr>\n",
              "    <tr>\n",
              "      <th>2</th>\n",
              "      <td>3</td>\n",
              "      <td>0.920</td>\n",
              "      <td>0.348</td>\n",
              "    </tr>\n",
              "    <tr>\n",
              "      <th>3</th>\n",
              "      <td>4</td>\n",
              "      <td>0.956</td>\n",
              "      <td>0.342</td>\n",
              "    </tr>\n",
              "    <tr>\n",
              "      <th>4</th>\n",
              "      <td>5</td>\n",
              "      <td>0.974</td>\n",
              "      <td>0.348</td>\n",
              "    </tr>\n",
              "    <tr>\n",
              "      <th>5</th>\n",
              "      <td>6</td>\n",
              "      <td>0.983</td>\n",
              "      <td>0.319</td>\n",
              "    </tr>\n",
              "    <tr>\n",
              "      <th>6</th>\n",
              "      <td>7</td>\n",
              "      <td>0.988</td>\n",
              "      <td>0.322</td>\n",
              "    </tr>\n",
              "    <tr>\n",
              "      <th>7</th>\n",
              "      <td>8</td>\n",
              "      <td>0.992</td>\n",
              "      <td>0.345</td>\n",
              "    </tr>\n",
              "    <tr>\n",
              "      <th>8</th>\n",
              "      <td>9</td>\n",
              "      <td>0.994</td>\n",
              "      <td>0.321</td>\n",
              "    </tr>\n",
              "    <tr>\n",
              "      <th>9</th>\n",
              "      <td>10</td>\n",
              "      <td>0.996</td>\n",
              "      <td>0.292</td>\n",
              "    </tr>\n",
              "  </tbody>\n",
              "</table>\n",
              "</div>\n",
              "      <button class=\"colab-df-convert\" onclick=\"convertToInteractive('df-8ca50bb0-e3d8-4e91-92e1-66cf5d9b87ad')\"\n",
              "              title=\"Convert this dataframe to an interactive table.\"\n",
              "              style=\"display:none;\">\n",
              "        \n",
              "  <svg xmlns=\"http://www.w3.org/2000/svg\" height=\"24px\"viewBox=\"0 0 24 24\"\n",
              "       width=\"24px\">\n",
              "    <path d=\"M0 0h24v24H0V0z\" fill=\"none\"/>\n",
              "    <path d=\"M18.56 5.44l.94 2.06.94-2.06 2.06-.94-2.06-.94-.94-2.06-.94 2.06-2.06.94zm-11 1L8.5 8.5l.94-2.06 2.06-.94-2.06-.94L8.5 2.5l-.94 2.06-2.06.94zm10 10l.94 2.06.94-2.06 2.06-.94-2.06-.94-.94-2.06-.94 2.06-2.06.94z\"/><path d=\"M17.41 7.96l-1.37-1.37c-.4-.4-.92-.59-1.43-.59-.52 0-1.04.2-1.43.59L10.3 9.45l-7.72 7.72c-.78.78-.78 2.05 0 2.83L4 21.41c.39.39.9.59 1.41.59.51 0 1.02-.2 1.41-.59l7.78-7.78 2.81-2.81c.8-.78.8-2.07 0-2.86zM5.41 20L4 18.59l7.72-7.72 1.47 1.35L5.41 20z\"/>\n",
              "  </svg>\n",
              "      </button>\n",
              "      \n",
              "  <style>\n",
              "    .colab-df-container {\n",
              "      display:flex;\n",
              "      flex-wrap:wrap;\n",
              "      gap: 12px;\n",
              "    }\n",
              "\n",
              "    .colab-df-convert {\n",
              "      background-color: #E8F0FE;\n",
              "      border: none;\n",
              "      border-radius: 50%;\n",
              "      cursor: pointer;\n",
              "      display: none;\n",
              "      fill: #1967D2;\n",
              "      height: 32px;\n",
              "      padding: 0 0 0 0;\n",
              "      width: 32px;\n",
              "    }\n",
              "\n",
              "    .colab-df-convert:hover {\n",
              "      background-color: #E2EBFA;\n",
              "      box-shadow: 0px 1px 2px rgba(60, 64, 67, 0.3), 0px 1px 3px 1px rgba(60, 64, 67, 0.15);\n",
              "      fill: #174EA6;\n",
              "    }\n",
              "\n",
              "    [theme=dark] .colab-df-convert {\n",
              "      background-color: #3B4455;\n",
              "      fill: #D2E3FC;\n",
              "    }\n",
              "\n",
              "    [theme=dark] .colab-df-convert:hover {\n",
              "      background-color: #434B5C;\n",
              "      box-shadow: 0px 1px 3px 1px rgba(0, 0, 0, 0.15);\n",
              "      filter: drop-shadow(0px 1px 2px rgba(0, 0, 0, 0.3));\n",
              "      fill: #FFFFFF;\n",
              "    }\n",
              "  </style>\n",
              "\n",
              "      <script>\n",
              "        const buttonEl =\n",
              "          document.querySelector('#df-8ca50bb0-e3d8-4e91-92e1-66cf5d9b87ad button.colab-df-convert');\n",
              "        buttonEl.style.display =\n",
              "          google.colab.kernel.accessAllowed ? 'block' : 'none';\n",
              "\n",
              "        async function convertToInteractive(key) {\n",
              "          const element = document.querySelector('#df-8ca50bb0-e3d8-4e91-92e1-66cf5d9b87ad');\n",
              "          const dataTable =\n",
              "            await google.colab.kernel.invokeFunction('convertToInteractive',\n",
              "                                                     [key], {});\n",
              "          if (!dataTable) return;\n",
              "\n",
              "          const docLinkHtml = 'Like what you see? Visit the ' +\n",
              "            '<a target=\"_blank\" href=https://colab.research.google.com/notebooks/data_table.ipynb>data table notebook</a>'\n",
              "            + ' to learn more about interactive tables.';\n",
              "          element.innerHTML = '';\n",
              "          dataTable['output_type'] = 'display_data';\n",
              "          await google.colab.output.renderOutput(dataTable, element);\n",
              "          const docLink = document.createElement('div');\n",
              "          docLink.innerHTML = docLinkHtml;\n",
              "          element.appendChild(docLink);\n",
              "        }\n",
              "      </script>\n",
              "    </div>\n",
              "  </div>\n",
              "  "
            ]
          },
          "metadata": {},
          "execution_count": 141
        }
      ]
    },
    {
      "cell_type": "code",
      "source": [
        "plt.plot(para_depth, train_score, linestyle = '-', label = 'Train Score')\n",
        "plt.plot(para_depth, test_score, linestyle = '-', label = 'Test Score')\n",
        "plt.ylabel('score'); plt.xlabel('MaxDepth')\n",
        "plt.legend()"
      ],
      "metadata": {
        "colab": {
          "base_uri": "https://localhost:8080/",
          "height": 297
        },
        "outputId": "081b5ed6-1e34-4667-ca08-4780ca550e16",
        "id": "aU_CB6R3FLoJ"
      },
      "execution_count": null,
      "outputs": [
        {
          "output_type": "execute_result",
          "data": {
            "text/plain": [
              "<matplotlib.legend.Legend at 0x7ff8ed201590>"
            ]
          },
          "metadata": {},
          "execution_count": 142
        },
        {
          "output_type": "display_data",
          "data": {
            "text/plain": [
              "<Figure size 432x288 with 1 Axes>"
            ],
            "image/png": "[encoded data removed]"
          },
          "metadata": {
            "needs_background": "light"
          }
        }
      ]
    },
    {
      "cell_type": "markdown",
      "source": [
        "- 모델의 최대 깊이가 커질수록 train 데이터에 대한 과대적합 현상이 심해질 뿐, test 데이터에 대한 모델의 성능은 크게 변하지 않는다.\n",
        "- 모델의 일반화 가능성을 최대화하기 위해 **max_depth = 5**로 설정한다."
      ],
      "metadata": {
        "id": "eb1PHtDKFLoJ"
      }
    },
    {
      "cell_type": "markdown",
      "source": [
        "#### **모델 파라미터 설정하기 : learning_rate**"
      ],
      "metadata": {
        "id": "KH6zVzCdF5Vn"
      }
    },
    {
      "cell_type": "code",
      "source": [
        "train_score = []; test_score = []\n",
        "para_lr = [lr * 0.01 for lr in range(1,21)]\n",
        "\n",
        "for v_learning_rate in para_lr :\n",
        "    gb = GradientBoostingRegressor(n_estimators = 200,\n",
        "                                   min_samples_leaf = 9,\n",
        "                                   max_depth = 5,\n",
        "                                   learning_rate = v_learning_rate)\n",
        "    gb.fit(df_train_x_vf, df_train_y_vf)\n",
        "    train_score.append(gb.score(df_train_x_vf, df_train_y_vf))\n",
        "    test_score.append(gb.score(df_test_x_vf, df_test_y_vf))\n",
        "\n",
        "df_score_lr = pd.DataFrame()\n",
        "df_score_lr['LearningRate'] = para_lr\n",
        "df_score_lr['TrainScore'] = train_score\n",
        "df_score_lr['TestScore'] = test_score"
      ],
      "metadata": {
        "id": "HOAzSLvdF5Vp"
      },
      "execution_count": null,
      "outputs": []
    },
    {
      "cell_type": "code",
      "source": [
        "df_score_lr.round(3)"
      ],
      "metadata": {
        "colab": {
          "base_uri": "https://localhost:8080/",
          "height": 676
        },
        "outputId": "f90cec7e-3776-4566-c06d-024cf9598c6f",
        "id": "x2G4vbSSF5Vq"
      },
      "execution_count": null,
      "outputs": [
        {
          "output_type": "execute_result",
          "data": {
            "text/plain": [
              "    LearningRate  TrainScore  TestScore\n",
              "0           0.01       0.773      0.301\n",
              "1           0.02       0.861      0.299\n",
              "2           0.03       0.901      0.319\n",
              "3           0.04       0.920      0.312\n",
              "4           0.05       0.941      0.323\n",
              "5           0.06       0.951      0.321\n",
              "6           0.07       0.962      0.322\n",
              "7           0.08       0.963      0.329\n",
              "8           0.09       0.972      0.340\n",
              "9           0.10       0.974      0.348\n",
              "10          0.11       0.981      0.345\n",
              "11          0.12       0.984      0.333\n",
              "12          0.13       0.983      0.346\n",
              "13          0.14       0.986      0.313\n",
              "14          0.15       0.988      0.287\n",
              "15          0.16       0.991      0.319\n",
              "16          0.17       0.992      0.327\n",
              "17          0.18       0.991      0.330\n",
              "18          0.19       0.994      0.337\n",
              "19          0.20       0.995      0.308"
            ],
            "text/html": [
              "\n",
              "  <div id=\"df-9d5a39c5-91f1-458b-b94a-d3626b8bc52e\">\n",
              "    <div class=\"colab-df-container\">\n",
              "      <div>\n",
              "<style scoped>\n",
              "    .dataframe tbody tr th:only-of-type {\n",
              "        vertical-align: middle;\n",
              "    }\n",
              "\n",
              "    .dataframe tbody tr th {\n",
              "        vertical-align: top;\n",
              "    }\n",
              "\n",
              "    .dataframe thead th {\n",
              "        text-align: right;\n",
              "    }\n",
              "</style>\n",
              "<table border=\"1\" class=\"dataframe\">\n",
              "  <thead>\n",
              "    <tr style=\"text-align: right;\">\n",
              "      <th></th>\n",
              "      <th>LearningRate</th>\n",
              "      <th>TrainScore</th>\n",
              "      <th>TestScore</th>\n",
              "    </tr>\n",
              "  </thead>\n",
              "  <tbody>\n",
              "    <tr>\n",
              "      <th>0</th>\n",
              "      <td>0.01</td>\n",
              "      <td>0.773</td>\n",
              "      <td>0.301</td>\n",
              "    </tr>\n",
              "    <tr>\n",
              "      <th>1</th>\n",
              "      <td>0.02</td>\n",
              "      <td>0.861</td>\n",
              "      <td>0.299</td>\n",
              "    </tr>\n",
              "    <tr>\n",
              "      <th>2</th>\n",
              "      <td>0.03</td>\n",
              "      <td>0.901</td>\n",
              "      <td>0.319</td>\n",
              "    </tr>\n",
              "    <tr>\n",
              "      <th>3</th>\n",
              "      <td>0.04</td>\n",
              "      <td>0.920</td>\n",
              "      <td>0.312</td>\n",
              "    </tr>\n",
              "    <tr>\n",
              "      <th>4</th>\n",
              "      <td>0.05</td>\n",
              "      <td>0.941</td>\n",
              "      <td>0.323</td>\n",
              "    </tr>\n",
              "    <tr>\n",
              "      <th>5</th>\n",
              "      <td>0.06</td>\n",
              "      <td>0.951</td>\n",
              "      <td>0.321</td>\n",
              "    </tr>\n",
              "    <tr>\n",
              "      <th>6</th>\n",
              "      <td>0.07</td>\n",
              "      <td>0.962</td>\n",
              "      <td>0.322</td>\n",
              "    </tr>\n",
              "    <tr>\n",
              "      <th>7</th>\n",
              "      <td>0.08</td>\n",
              "      <td>0.963</td>\n",
              "      <td>0.329</td>\n",
              "    </tr>\n",
              "    <tr>\n",
              "      <th>8</th>\n",
              "      <td>0.09</td>\n",
              "      <td>0.972</td>\n",
              "      <td>0.340</td>\n",
              "    </tr>\n",
              "    <tr>\n",
              "      <th>9</th>\n",
              "      <td>0.10</td>\n",
              "      <td>0.974</td>\n",
              "      <td>0.348</td>\n",
              "    </tr>\n",
              "    <tr>\n",
              "      <th>10</th>\n",
              "      <td>0.11</td>\n",
              "      <td>0.981</td>\n",
              "      <td>0.345</td>\n",
              "    </tr>\n",
              "    <tr>\n",
              "      <th>11</th>\n",
              "      <td>0.12</td>\n",
              "      <td>0.984</td>\n",
              "      <td>0.333</td>\n",
              "    </tr>\n",
              "    <tr>\n",
              "      <th>12</th>\n",
              "      <td>0.13</td>\n",
              "      <td>0.983</td>\n",
              "      <td>0.346</td>\n",
              "    </tr>\n",
              "    <tr>\n",
              "      <th>13</th>\n",
              "      <td>0.14</td>\n",
              "      <td>0.986</td>\n",
              "      <td>0.313</td>\n",
              "    </tr>\n",
              "    <tr>\n",
              "      <th>14</th>\n",
              "      <td>0.15</td>\n",
              "      <td>0.988</td>\n",
              "      <td>0.287</td>\n",
              "    </tr>\n",
              "    <tr>\n",
              "      <th>15</th>\n",
              "      <td>0.16</td>\n",
              "      <td>0.991</td>\n",
              "      <td>0.319</td>\n",
              "    </tr>\n",
              "    <tr>\n",
              "      <th>16</th>\n",
              "      <td>0.17</td>\n",
              "      <td>0.992</td>\n",
              "      <td>0.327</td>\n",
              "    </tr>\n",
              "    <tr>\n",
              "      <th>17</th>\n",
              "      <td>0.18</td>\n",
              "      <td>0.991</td>\n",
              "      <td>0.330</td>\n",
              "    </tr>\n",
              "    <tr>\n",
              "      <th>18</th>\n",
              "      <td>0.19</td>\n",
              "      <td>0.994</td>\n",
              "      <td>0.337</td>\n",
              "    </tr>\n",
              "    <tr>\n",
              "      <th>19</th>\n",
              "      <td>0.20</td>\n",
              "      <td>0.995</td>\n",
              "      <td>0.308</td>\n",
              "    </tr>\n",
              "  </tbody>\n",
              "</table>\n",
              "</div>\n",
              "      <button class=\"colab-df-convert\" onclick=\"convertToInteractive('df-9d5a39c5-91f1-458b-b94a-d3626b8bc52e')\"\n",
              "              title=\"Convert this dataframe to an interactive table.\"\n",
              "              style=\"display:none;\">\n",
              "        \n",
              "  <svg xmlns=\"http://www.w3.org/2000/svg\" height=\"24px\"viewBox=\"0 0 24 24\"\n",
              "       width=\"24px\">\n",
              "    <path d=\"M0 0h24v24H0V0z\" fill=\"none\"/>\n",
              "    <path d=\"M18.56 5.44l.94 2.06.94-2.06 2.06-.94-2.06-.94-.94-2.06-.94 2.06-2.06.94zm-11 1L8.5 8.5l.94-2.06 2.06-.94-2.06-.94L8.5 2.5l-.94 2.06-2.06.94zm10 10l.94 2.06.94-2.06 2.06-.94-2.06-.94-.94-2.06-.94 2.06-2.06.94z\"/><path d=\"M17.41 7.96l-1.37-1.37c-.4-.4-.92-.59-1.43-.59-.52 0-1.04.2-1.43.59L10.3 9.45l-7.72 7.72c-.78.78-.78 2.05 0 2.83L4 21.41c.39.39.9.59 1.41.59.51 0 1.02-.2 1.41-.59l7.78-7.78 2.81-2.81c.8-.78.8-2.07 0-2.86zM5.41 20L4 18.59l7.72-7.72 1.47 1.35L5.41 20z\"/>\n",
              "  </svg>\n",
              "      </button>\n",
              "      \n",
              "  <style>\n",
              "    .colab-df-container {\n",
              "      display:flex;\n",
              "      flex-wrap:wrap;\n",
              "      gap: 12px;\n",
              "    }\n",
              "\n",
              "    .colab-df-convert {\n",
              "      background-color: #E8F0FE;\n",
              "      border: none;\n",
              "      border-radius: 50%;\n",
              "      cursor: pointer;\n",
              "      display: none;\n",
              "      fill: #1967D2;\n",
              "      height: 32px;\n",
              "      padding: 0 0 0 0;\n",
              "      width: 32px;\n",
              "    }\n",
              "\n",
              "    .colab-df-convert:hover {\n",
              "      background-color: #E2EBFA;\n",
              "      box-shadow: 0px 1px 2px rgba(60, 64, 67, 0.3), 0px 1px 3px 1px rgba(60, 64, 67, 0.15);\n",
              "      fill: #174EA6;\n",
              "    }\n",
              "\n",
              "    [theme=dark] .colab-df-convert {\n",
              "      background-color: #3B4455;\n",
              "      fill: #D2E3FC;\n",
              "    }\n",
              "\n",
              "    [theme=dark] .colab-df-convert:hover {\n",
              "      background-color: #434B5C;\n",
              "      box-shadow: 0px 1px 3px 1px rgba(0, 0, 0, 0.15);\n",
              "      filter: drop-shadow(0px 1px 2px rgba(0, 0, 0, 0.3));\n",
              "      fill: #FFFFFF;\n",
              "    }\n",
              "  </style>\n",
              "\n",
              "      <script>\n",
              "        const buttonEl =\n",
              "          document.querySelector('#df-9d5a39c5-91f1-458b-b94a-d3626b8bc52e button.colab-df-convert');\n",
              "        buttonEl.style.display =\n",
              "          google.colab.kernel.accessAllowed ? 'block' : 'none';\n",
              "\n",
              "        async function convertToInteractive(key) {\n",
              "          const element = document.querySelector('#df-9d5a39c5-91f1-458b-b94a-d3626b8bc52e');\n",
              "          const dataTable =\n",
              "            await google.colab.kernel.invokeFunction('convertToInteractive',\n",
              "                                                     [key], {});\n",
              "          if (!dataTable) return;\n",
              "\n",
              "          const docLinkHtml = 'Like what you see? Visit the ' +\n",
              "            '<a target=\"_blank\" href=https://colab.research.google.com/notebooks/data_table.ipynb>data table notebook</a>'\n",
              "            + ' to learn more about interactive tables.';\n",
              "          element.innerHTML = '';\n",
              "          dataTable['output_type'] = 'display_data';\n",
              "          await google.colab.output.renderOutput(dataTable, element);\n",
              "          const docLink = document.createElement('div');\n",
              "          docLink.innerHTML = docLinkHtml;\n",
              "          element.appendChild(docLink);\n",
              "        }\n",
              "      </script>\n",
              "    </div>\n",
              "  </div>\n",
              "  "
            ]
          },
          "metadata": {},
          "execution_count": 150
        }
      ]
    },
    {
      "cell_type": "code",
      "source": [
        "plt.plot(para_lr, train_score, linestyle = '-', label = 'Train Score')\n",
        "plt.plot(para_lr, test_score, linestyle = '-', label = 'Test Score')\n",
        "plt.ylabel('score'); plt.xlabel('LearningRate')\n",
        "plt.legend()"
      ],
      "metadata": {
        "colab": {
          "base_uri": "https://localhost:8080/",
          "height": 299
        },
        "outputId": "c6ac4524-78af-4307-a3c4-43f61f338afa",
        "id": "xaQWaWBtF5Vr"
      },
      "execution_count": null,
      "outputs": [
        {
          "output_type": "execute_result",
          "data": {
            "text/plain": [
              "<matplotlib.legend.Legend at 0x7ff8ed15ea90>"
            ]
          },
          "metadata": {},
          "execution_count": 148
        },
        {
          "output_type": "display_data",
          "data": {
            "text/plain": [
              "<Figure size 432x288 with 1 Axes>"
            ],
            "image/png": "[encoded data removed]"
          },
          "metadata": {
            "needs_background": "light"
          }
        }
      ]
    },
    {
      "cell_type": "markdown",
      "source": [
        "- 학습률이 높아질수록 train과 test 데이터에 대한 모델의 성능이 증가한다.\n",
        "- 과대적합의 우려의 있기 때문에 **learning_rate = 0.10**으로 설정한다."
      ],
      "metadata": {
        "id": "aYbYAcjRF5Vr"
      }
    },
    {
      "cell_type": "markdown",
      "source": [
        "#### **그래디언트 부스팅의 최종 모델 생성하기 및 평가하기**"
      ],
      "metadata": {
        "id": "JRaDsX1-HDYj"
      }
    },
    {
      "cell_type": "code",
      "source": [
        "gb_final = GradientBoostingRegressor(n_estimators = 200,\n",
        "                                     min_samples_leaf = 9,\n",
        "                                     max_depth = 5,\n",
        "                                     learning_rate = 0.1)\n",
        "gb_final.fit(df_train_x_vf, df_train_y_vf)\n",
        "\n",
        "print('Score on training set : {:.3f}'.format(gb_final.score(df_train_x_vf, df_train_y_vf)))\n",
        "print('Score on test set : {:.3f}'.format(gb_final.score(df_test_x_vf, df_test_y_vf)))"
      ],
      "metadata": {
        "colab": {
          "base_uri": "https://localhost:8080/"
        },
        "id": "KZGZJI4-HF5B",
        "outputId": "5ddac0c9-7f8a-443a-c93f-31f6f7ed8dbb"
      },
      "execution_count": null,
      "outputs": [
        {
          "output_type": "stream",
          "name": "stdout",
          "text": [
            "Score on training set : 0.974\n",
            "Score on test set : 0.348\n"
          ]
        }
      ]
    },
    {
      "cell_type": "markdown",
      "source": [
        "- 그래디언트 부스팅으로 이끌어낸 모델의 성능은 train과 test 데이터에 대해 각각 97.4%, 34.8%이다.\n",
        "- Train 데이터에 대해 모델이 여전히 과대적합되어 있는 것으로 보인다."
      ],
      "metadata": {
        "id": "1cRcW71cHhV8"
      }
    },
    {
      "cell_type": "code",
      "source": [
        ""
      ],
      "metadata": {
        "id": "oWMaiFt98wUb"
      },
      "execution_count": null,
      "outputs": []
    }
  ]
}