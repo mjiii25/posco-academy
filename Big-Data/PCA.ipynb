{
  "nbformat": 4,
  "nbformat_minor": 0,
  "metadata": {
    "colab": {
      "name": "Untitled28.ipynb",
      "provenance": [],
      "authorship_tag": "ABX9TyO7cPiyXWj7+gcdoofCVEnC",
      "include_colab_link": true
    },
    "kernelspec": {
      "name": "python3",
      "display_name": "Python 3"
    },
    "language_info": {
      "name": "python"
    }
  },
  "cells": [
    {
      "cell_type": "markdown",
      "metadata": {
        "id": "view-in-github",
        "colab_type": "text"
      },
      "source": [
        "<a href=\"https://colab.research.google.com/github/mjiii25/posco-academy/blob/main/Big-Data/PCA.ipynb\" target=\"_parent\"><img src=\"https://colab.research.google.com/assets/colab-badge.svg\" alt=\"Open In Colab\"/></a>"
      ]
    },
    {
      "cell_type": "code",
      "source": [
        "from google.colab import drive\n",
        "drive.mount('/content/drive')"
      ],
      "metadata": {
        "colab": {
          "base_uri": "https://localhost:8080/"
        },
        "id": "YsR6YQRR66Bl",
        "outputId": "f76d4d85-21a1-47a4-b4b4-ed047c6c537a"
      },
      "execution_count": 4,
      "outputs": [
        {
          "output_type": "stream",
          "name": "stdout",
          "text": [
            "Mounted at /content/drive\n"
          ]
        }
      ]
    },
    {
      "cell_type": "code",
      "execution_count": 12,
      "metadata": {
        "id": "VgU3CMCD6pOw"
      },
      "outputs": [],
      "source": [
        "import pandas as pd\n",
        "import numpy as np\n",
        "\n",
        "import matplotlib.pyplot as plt\n",
        "import matplotlib\n",
        "import seaborn as sns\n",
        "\n",
        "\n",
        "from sklearn.model_selection import train_test_split\n",
        "import statsmodels.formula.api as smf\n",
        "from sklearn.tree import DecisionTreeRegressor\n",
        "from sklearn.ensemble import RandomForestRegressor\n",
        "from sklearn.ensemble import GradientBoostingRegressor\n",
        "\n",
        "from sklearn.metrics import mean_squared_error\n",
        "from sklearn.metrics import mean_absolute_error"
      ]
    },
    {
      "cell_type": "code",
      "source": [
        "def root_mean_squared_error(y_true, y_pred):\n",
        "    return np.sqrt(mean_squared_error(y_true, y_pred))\n",
        "\n",
        "\n",
        "def mean_absolute_percentage_error(y_true, y_pred):\n",
        "    return np.mean(np.abs((y_true - y_pred) / y_true)) * 100"
      ],
      "metadata": {
        "id": "KAWIddED6rnc"
      },
      "execution_count": 7,
      "outputs": []
    },
    {
      "cell_type": "code",
      "source": [
        "df_raw = pd.read_csv('/content/drive/MyDrive/유방암.csv', encoding = 'euc-kr')\n",
        "\n",
        "print(df_raw.shape)\n",
        "df_raw.head()"
      ],
      "metadata": {
        "colab": {
          "base_uri": "https://localhost:8080/",
          "height": 318
        },
        "id": "4sTav6Qn6sCo",
        "outputId": "d7f2cfbb-b5ee-49fb-ad07-55ad7cf9b6ea"
      },
      "execution_count": 9,
      "outputs": [
        {
          "output_type": "stream",
          "name": "stdout",
          "text": [
            "(320, 31)\n"
          ]
        },
        {
          "output_type": "execute_result",
          "data": {
            "text/plain": [
              "  diagnosis  mean_radius  mean_texture  mean_perimeter  mean_area  \\\n",
              "0        음성        15.12         16.68           98.78      716.6   \n",
              "1        양성        10.80          9.71           68.77      357.6   \n",
              "2        음성        18.31         18.58          118.60     1041.0   \n",
              "3        양성        14.92         14.93           96.45      686.9   \n",
              "4        양성        12.89         13.12           81.89      515.9   \n",
              "\n",
              "   mean_smoothness  mean_compactness  mean_concavity  mean_concave_points  \\\n",
              "0          0.08876           0.09588         0.07550              0.04079   \n",
              "1          0.09594           0.05736         0.02531              0.01698   \n",
              "2          0.08588           0.08468         0.08169              0.05814   \n",
              "3          0.08098           0.08549         0.05539              0.03221   \n",
              "4          0.06955           0.03729         0.02260              0.01171   \n",
              "\n",
              "   mean_symmetry  ...  worst_radius  worst_texture  worst_perimeter  \\\n",
              "0         0.1594  ...         17.77          20.24           117.70   \n",
              "1         0.1381  ...         11.60          12.02            73.66   \n",
              "2         0.1621  ...         21.31          26.36           139.20   \n",
              "3         0.1687  ...         17.18          18.22           112.00   \n",
              "4         0.1337  ...         13.62          15.54            87.40   \n",
              "\n",
              "   worst_area  worst_smoothness  worst_compactness  worst_concavity  \\\n",
              "0       989.5           0.14910             0.3331           0.3327   \n",
              "1       414.0           0.14360             0.1257           0.1047   \n",
              "2      1410.0           0.12340             0.2445           0.3538   \n",
              "3       906.6           0.10650             0.2791           0.3151   \n",
              "4       577.0           0.09616             0.1147           0.1186   \n",
              "\n",
              "   worst_concave_points  worst_symmetry  worst_fractal_dimension  \n",
              "0               0.12520          0.3415                  0.09740  \n",
              "1               0.04603          0.2090                  0.07699  \n",
              "2               0.15710          0.3206                  0.06938  \n",
              "3               0.11470          0.2688                  0.08273  \n",
              "4               0.05366          0.2309                  0.06915  \n",
              "\n",
              "[5 rows x 31 columns]"
            ],
            "text/html": [
              "\n",
              "  <div id=\"df-25534599-7315-4c67-af38-f962ceed8a4d\">\n",
              "    <div class=\"colab-df-container\">\n",
              "      <div>\n",
              "<style scoped>\n",
              "    .dataframe tbody tr th:only-of-type {\n",
              "        vertical-align: middle;\n",
              "    }\n",
              "\n",
              "    .dataframe tbody tr th {\n",
              "        vertical-align: top;\n",
              "    }\n",
              "\n",
              "    .dataframe thead th {\n",
              "        text-align: right;\n",
              "    }\n",
              "</style>\n",
              "<table border=\"1\" class=\"dataframe\">\n",
              "  <thead>\n",
              "    <tr style=\"text-align: right;\">\n",
              "      <th></th>\n",
              "      <th>diagnosis</th>\n",
              "      <th>mean_radius</th>\n",
              "      <th>mean_texture</th>\n",
              "      <th>mean_perimeter</th>\n",
              "      <th>mean_area</th>\n",
              "      <th>mean_smoothness</th>\n",
              "      <th>mean_compactness</th>\n",
              "      <th>mean_concavity</th>\n",
              "      <th>mean_concave_points</th>\n",
              "      <th>mean_symmetry</th>\n",
              "      <th>...</th>\n",
              "      <th>worst_radius</th>\n",
              "      <th>worst_texture</th>\n",
              "      <th>worst_perimeter</th>\n",
              "      <th>worst_area</th>\n",
              "      <th>worst_smoothness</th>\n",
              "      <th>worst_compactness</th>\n",
              "      <th>worst_concavity</th>\n",
              "      <th>worst_concave_points</th>\n",
              "      <th>worst_symmetry</th>\n",
              "      <th>worst_fractal_dimension</th>\n",
              "    </tr>\n",
              "  </thead>\n",
              "  <tbody>\n",
              "    <tr>\n",
              "      <th>0</th>\n",
              "      <td>음성</td>\n",
              "      <td>15.12</td>\n",
              "      <td>16.68</td>\n",
              "      <td>98.78</td>\n",
              "      <td>716.6</td>\n",
              "      <td>0.08876</td>\n",
              "      <td>0.09588</td>\n",
              "      <td>0.07550</td>\n",
              "      <td>0.04079</td>\n",
              "      <td>0.1594</td>\n",
              "      <td>...</td>\n",
              "      <td>17.77</td>\n",
              "      <td>20.24</td>\n",
              "      <td>117.70</td>\n",
              "      <td>989.5</td>\n",
              "      <td>0.14910</td>\n",
              "      <td>0.3331</td>\n",
              "      <td>0.3327</td>\n",
              "      <td>0.12520</td>\n",
              "      <td>0.3415</td>\n",
              "      <td>0.09740</td>\n",
              "    </tr>\n",
              "    <tr>\n",
              "      <th>1</th>\n",
              "      <td>양성</td>\n",
              "      <td>10.80</td>\n",
              "      <td>9.71</td>\n",
              "      <td>68.77</td>\n",
              "      <td>357.6</td>\n",
              "      <td>0.09594</td>\n",
              "      <td>0.05736</td>\n",
              "      <td>0.02531</td>\n",
              "      <td>0.01698</td>\n",
              "      <td>0.1381</td>\n",
              "      <td>...</td>\n",
              "      <td>11.60</td>\n",
              "      <td>12.02</td>\n",
              "      <td>73.66</td>\n",
              "      <td>414.0</td>\n",
              "      <td>0.14360</td>\n",
              "      <td>0.1257</td>\n",
              "      <td>0.1047</td>\n",
              "      <td>0.04603</td>\n",
              "      <td>0.2090</td>\n",
              "      <td>0.07699</td>\n",
              "    </tr>\n",
              "    <tr>\n",
              "      <th>2</th>\n",
              "      <td>음성</td>\n",
              "      <td>18.31</td>\n",
              "      <td>18.58</td>\n",
              "      <td>118.60</td>\n",
              "      <td>1041.0</td>\n",
              "      <td>0.08588</td>\n",
              "      <td>0.08468</td>\n",
              "      <td>0.08169</td>\n",
              "      <td>0.05814</td>\n",
              "      <td>0.1621</td>\n",
              "      <td>...</td>\n",
              "      <td>21.31</td>\n",
              "      <td>26.36</td>\n",
              "      <td>139.20</td>\n",
              "      <td>1410.0</td>\n",
              "      <td>0.12340</td>\n",
              "      <td>0.2445</td>\n",
              "      <td>0.3538</td>\n",
              "      <td>0.15710</td>\n",
              "      <td>0.3206</td>\n",
              "      <td>0.06938</td>\n",
              "    </tr>\n",
              "    <tr>\n",
              "      <th>3</th>\n",
              "      <td>양성</td>\n",
              "      <td>14.92</td>\n",
              "      <td>14.93</td>\n",
              "      <td>96.45</td>\n",
              "      <td>686.9</td>\n",
              "      <td>0.08098</td>\n",
              "      <td>0.08549</td>\n",
              "      <td>0.05539</td>\n",
              "      <td>0.03221</td>\n",
              "      <td>0.1687</td>\n",
              "      <td>...</td>\n",
              "      <td>17.18</td>\n",
              "      <td>18.22</td>\n",
              "      <td>112.00</td>\n",
              "      <td>906.6</td>\n",
              "      <td>0.10650</td>\n",
              "      <td>0.2791</td>\n",
              "      <td>0.3151</td>\n",
              "      <td>0.11470</td>\n",
              "      <td>0.2688</td>\n",
              "      <td>0.08273</td>\n",
              "    </tr>\n",
              "    <tr>\n",
              "      <th>4</th>\n",
              "      <td>양성</td>\n",
              "      <td>12.89</td>\n",
              "      <td>13.12</td>\n",
              "      <td>81.89</td>\n",
              "      <td>515.9</td>\n",
              "      <td>0.06955</td>\n",
              "      <td>0.03729</td>\n",
              "      <td>0.02260</td>\n",
              "      <td>0.01171</td>\n",
              "      <td>0.1337</td>\n",
              "      <td>...</td>\n",
              "      <td>13.62</td>\n",
              "      <td>15.54</td>\n",
              "      <td>87.40</td>\n",
              "      <td>577.0</td>\n",
              "      <td>0.09616</td>\n",
              "      <td>0.1147</td>\n",
              "      <td>0.1186</td>\n",
              "      <td>0.05366</td>\n",
              "      <td>0.2309</td>\n",
              "      <td>0.06915</td>\n",
              "    </tr>\n",
              "  </tbody>\n",
              "</table>\n",
              "<p>5 rows × 31 columns</p>\n",
              "</div>\n",
              "      <button class=\"colab-df-convert\" onclick=\"convertToInteractive('df-25534599-7315-4c67-af38-f962ceed8a4d')\"\n",
              "              title=\"Convert this dataframe to an interactive table.\"\n",
              "              style=\"display:none;\">\n",
              "        \n",
              "  <svg xmlns=\"http://www.w3.org/2000/svg\" height=\"24px\"viewBox=\"0 0 24 24\"\n",
              "       width=\"24px\">\n",
              "    <path d=\"M0 0h24v24H0V0z\" fill=\"none\"/>\n",
              "    <path d=\"M18.56 5.44l.94 2.06.94-2.06 2.06-.94-2.06-.94-.94-2.06-.94 2.06-2.06.94zm-11 1L8.5 8.5l.94-2.06 2.06-.94-2.06-.94L8.5 2.5l-.94 2.06-2.06.94zm10 10l.94 2.06.94-2.06 2.06-.94-2.06-.94-.94-2.06-.94 2.06-2.06.94z\"/><path d=\"M17.41 7.96l-1.37-1.37c-.4-.4-.92-.59-1.43-.59-.52 0-1.04.2-1.43.59L10.3 9.45l-7.72 7.72c-.78.78-.78 2.05 0 2.83L4 21.41c.39.39.9.59 1.41.59.51 0 1.02-.2 1.41-.59l7.78-7.78 2.81-2.81c.8-.78.8-2.07 0-2.86zM5.41 20L4 18.59l7.72-7.72 1.47 1.35L5.41 20z\"/>\n",
              "  </svg>\n",
              "      </button>\n",
              "      \n",
              "  <style>\n",
              "    .colab-df-container {\n",
              "      display:flex;\n",
              "      flex-wrap:wrap;\n",
              "      gap: 12px;\n",
              "    }\n",
              "\n",
              "    .colab-df-convert {\n",
              "      background-color: #E8F0FE;\n",
              "      border: none;\n",
              "      border-radius: 50%;\n",
              "      cursor: pointer;\n",
              "      display: none;\n",
              "      fill: #1967D2;\n",
              "      height: 32px;\n",
              "      padding: 0 0 0 0;\n",
              "      width: 32px;\n",
              "    }\n",
              "\n",
              "    .colab-df-convert:hover {\n",
              "      background-color: #E2EBFA;\n",
              "      box-shadow: 0px 1px 2px rgba(60, 64, 67, 0.3), 0px 1px 3px 1px rgba(60, 64, 67, 0.15);\n",
              "      fill: #174EA6;\n",
              "    }\n",
              "\n",
              "    [theme=dark] .colab-df-convert {\n",
              "      background-color: #3B4455;\n",
              "      fill: #D2E3FC;\n",
              "    }\n",
              "\n",
              "    [theme=dark] .colab-df-convert:hover {\n",
              "      background-color: #434B5C;\n",
              "      box-shadow: 0px 1px 3px 1px rgba(0, 0, 0, 0.15);\n",
              "      filter: drop-shadow(0px 1px 2px rgba(0, 0, 0, 0.3));\n",
              "      fill: #FFFFFF;\n",
              "    }\n",
              "  </style>\n",
              "\n",
              "      <script>\n",
              "        const buttonEl =\n",
              "          document.querySelector('#df-25534599-7315-4c67-af38-f962ceed8a4d button.colab-df-convert');\n",
              "        buttonEl.style.display =\n",
              "          google.colab.kernel.accessAllowed ? 'block' : 'none';\n",
              "\n",
              "        async function convertToInteractive(key) {\n",
              "          const element = document.querySelector('#df-25534599-7315-4c67-af38-f962ceed8a4d');\n",
              "          const dataTable =\n",
              "            await google.colab.kernel.invokeFunction('convertToInteractive',\n",
              "                                                     [key], {});\n",
              "          if (!dataTable) return;\n",
              "\n",
              "          const docLinkHtml = 'Like what you see? Visit the ' +\n",
              "            '<a target=\"_blank\" href=https://colab.research.google.com/notebooks/data_table.ipynb>data table notebook</a>'\n",
              "            + ' to learn more about interactive tables.';\n",
              "          element.innerHTML = '';\n",
              "          dataTable['output_type'] = 'display_data';\n",
              "          await google.colab.output.renderOutput(dataTable, element);\n",
              "          const docLink = document.createElement('div');\n",
              "          docLink.innerHTML = docLinkHtml;\n",
              "          element.appendChild(docLink);\n",
              "        }\n",
              "      </script>\n",
              "    </div>\n",
              "  </div>\n",
              "  "
            ]
          },
          "metadata": {},
          "execution_count": 9
        }
      ]
    },
    {
      "cell_type": "code",
      "source": [
        "df_raw_x = df_raw.drop(\"diagnosis\",axis = 1)\n",
        "df_raw_y = df_raw[\"diagnosis\"]\n",
        "\n",
        "\n",
        "df_raw_y.head()"
      ],
      "metadata": {
        "colab": {
          "base_uri": "https://localhost:8080/"
        },
        "id": "r6bcjQkV6sGl",
        "outputId": "19614999-95f4-484f-afe3-ce78bbc99c18"
      },
      "execution_count": 10,
      "outputs": [
        {
          "output_type": "execute_result",
          "data": {
            "text/plain": [
              "0    음성\n",
              "1    양성\n",
              "2    음성\n",
              "3    양성\n",
              "4    양성\n",
              "Name: diagnosis, dtype: object"
            ]
          },
          "metadata": {},
          "execution_count": 10
        }
      ]
    },
    {
      "cell_type": "code",
      "source": [
        "# 산점도 행렬\n",
        "sns.pairplot(df_raw_x)"
      ],
      "metadata": {
        "id": "oOHHi7iC6sKV"
      },
      "execution_count": null,
      "outputs": []
    },
    {
      "cell_type": "code",
      "source": [
        "# Pearson 상관계수 : pearson, kendall, spearman\n",
        "df_raw_x.corr().round(3)"
      ],
      "metadata": {
        "id": "oFeG5YvF6sOO"
      },
      "execution_count": null,
      "outputs": []
    },
    {
      "cell_type": "code",
      "source": [
        "# 요약 통계량 -> Scale 변환 필요 확인\n",
        "df_raw_x.describe().round(3)"
      ],
      "metadata": {
        "id": "J5ne1rh96sR1"
      },
      "execution_count": null,
      "outputs": []
    },
    {
      "cell_type": "code",
      "source": [
        "# 변수 이름 저장\n",
        "x_cols = df_raw_x.columns\n",
        "\n",
        "# Scale 변환:ndarray 형식\n",
        "scaler = StandardScaler()\n",
        "nd_scaled = scaler.fit_transform(df_raw_x)\n",
        "\n",
        "# 변환된 데이터 및 형태 확인\n",
        "print(\"Scaled Data :\\n {}\".format(nd_scaled[:5].round(3)))\n",
        "print(\"Shape :\\n {}\".format(nd_scaled.shape))"
      ],
      "metadata": {
        "id": "jjeNgoa96s00"
      },
      "execution_count": null,
      "outputs": []
    },
    {
      "cell_type": "code",
      "source": [
        "# DataFrame으로 저장\n",
        "df_scaled = pd.DataFrame(nd_scaled, columns=x_cols)\n",
        "df_scaled.head().round(3)"
      ],
      "metadata": {
        "id": "Prl_lWUh6s3h"
      },
      "execution_count": null,
      "outputs": []
    },
    {
      "cell_type": "code",
      "source": [
        "# 주성분 분석:주성분1(Prin1)~주성분6(Prin6) 생성 및 저장\n",
        "pca = PCA(n_components=6)\n",
        "nd_pca = pca.fit_transform(df_scaled)\n",
        "\n",
        "# 생성된 주성분 점수 확인\n",
        "print(\"PCA Data :\\n {}\".format(nd_pca[:5]))\n",
        "\n",
        "# 생성된 주성분 점수 Row, Column 개수 확인\n",
        "print(\"Shape :\\n {}\".format(nd_pca.shape))"
      ],
      "metadata": {
        "id": "PLvzxyJN6s6j"
      },
      "execution_count": null,
      "outputs": []
    },
    {
      "cell_type": "code",
      "source": [
        "# 주성분 점수 저장(Prin1~Prin6, DataFrame형식) 및 확인\n",
        "df_pca = pd.DataFrame(nd_pca, columns = [\"Prin1\",\"Prin2\",\"Prin3\",\"Prin4\",\"Prin5\",\"Prin6\"])\n",
        "\n",
        "# 주성분 분석용 데이터와 주성분 점수 결합\n",
        "df_scaled_pca = df_scaled.join(df_pca)\n",
        "df_scaled_pca.head()"
      ],
      "metadata": {
        "id": "KZ3_sb4y6s8u"
      },
      "execution_count": null,
      "outputs": []
    },
    {
      "cell_type": "code",
      "source": [
        "# 주성분 분석 통계량 저장:주성분 번호, Eigenvalue, Eigenvalue ratio \n",
        "df_pca_stat = pd.DataFrame()\n",
        "df_pca_stat[\"PrinNo\"] = [I for I in range(1,7)]\n",
        "df_pca_stat[\"EigenValues\"] = pca.explained_variance_\n",
        "df_pca_stat[\"EigenValueRatio\"] = pca.explained_variance_ratio_\n",
        "df_pca_stat[\"CumEigenValueRatio\"] = np.cumsum(pca.explained_variance_ratio_)\n",
        "df_pca_stat.round(3)"
      ],
      "metadata": {
        "id": "KDW1hAV86s-_"
      },
      "execution_count": null,
      "outputs": []
    },
    {
      "cell_type": "code",
      "source": [
        "# Scree Plot\n",
        "plt.plot(df_pca_stat[\"PrinNo\"], df_pca_stat[\"EigenValues\"],label=\"고유값\")\n",
        "\n",
        "# 그래프 label, legend 설정\n",
        "plt.ylabel(\"고유값(Eigenvalue)\")\n",
        "plt.xlabel(\"주성분 번호\")\n",
        "plt.legend(loc=\"best\")"
      ],
      "metadata": {
        "id": "-3UUaA1U6tA_"
      },
      "execution_count": null,
      "outputs": []
    },
    {
      "cell_type": "code",
      "source": [
        "# 고유값 비율 그래프 생성\n",
        "plt.plot(df_pca_stat[\"PrinNo\"], df_pca_stat[\"EigenValueRatio\"],label=\"고유값\")\n",
        "\n",
        "# 누적된 고유값 비율 그래프 생성\n",
        "plt.plot(df_pca_stat[\"PrinNo\"], df_pca_stat[\"CumEigenValueRatio\"],label=\"누적 고유값\")\n",
        "plt.ylabel(\"고유값 비율\")\n",
        "plt.xlabel(\"주성분 번호\")\n",
        "plt.legend(loc=\"best\")"
      ],
      "metadata": {
        "id": "TbZyV_rC6tDa"
      },
      "execution_count": null,
      "outputs": []
    },
    {
      "cell_type": "code",
      "source": [
        "# 주성분 분석 데이터의 변수 이름\n",
        "x_col = pd.DataFrame({\"Feature\":df_raw_x.columns})\n",
        "\n",
        "# 주성분 Prin 1~6까지의 고유벡터 저장\n",
        "# 전치 결과 pd.DataFrame(pca.components_columns = [\"prin1\",\"prin2\",\"prin3\",\"prin4\",\"prin5,\"prin6\"])], axis=1)\n",
        "# 파이썬 PCA 분석 시 SVD연산 방식의 차이 반영(전치 부호 변경)\n",
        "df_eigenvector = pd.concat([x_cols,pd.DataFrame(pca.components_.T * -1,\n",
        "                                                columns = [\"prin1\",\"prin2\",\"prin3\",\"prin4\",\"prin5\",\"prin6\"])], axis=1)\n",
        "df_eigenvector.round(3)"
      ],
      "metadata": {
        "id": "aaIor8Qv6tGw"
      },
      "execution_count": null,
      "outputs": []
    },
    {
      "cell_type": "code",
      "source": [
        "# 산점도 행렬\n",
        "sns.pairplot(df_pca)"
      ],
      "metadata": {
        "id": "Fkoi4zVw6tJs"
      },
      "execution_count": null,
      "outputs": []
    },
    {
      "cell_type": "code",
      "source": [
        "# 상관계수\n",
        "df_pca.corr().round(3)"
      ],
      "metadata": {
        "id": "DvRUKCAS6tMH"
      },
      "execution_count": null,
      "outputs": []
    },
    {
      "cell_type": "code",
      "source": [
        "# 다중선형 회귀분석 : 원천 데이터 활용\n",
        "# 원천 데이터에 절편(const) 추가\n",
        "df_raw_x_const = sm.add_constant(df_raw_x)\n",
        "\n",
        "# 회귀모델 생성\n",
        "reg_model = sm.OLS(df_raw_y, df_raw_x_const)\n",
        "\n",
        "# 회귀모델 적합\n",
        "reg_model = reg_model.fit()\n",
        "\n",
        "# 모델 성능 확인\n",
        "print(reg_model.summary())"
      ],
      "metadata": {
        "id": "GPIaKsAI6tON"
      },
      "execution_count": null,
      "outputs": []
    },
    {
      "cell_type": "code",
      "source": [
        "# * 참조: Scale 변환 데이터를 이용한 회귀분석\n",
        "# 다중선형 회귀분석 : Scale 변환 데이터 활용\n",
        "# Scale 변환 데이터에 절편(const) 컬럼 추가\n",
        "df_scaled_const = sm.add_constant(df_scaled)\n",
        "reg_model = sm.OLS(df_raw_y,df_scaled_const)\n",
        "reg_model = reg_model.fit()\n",
        "print(reg_model.summary())"
      ],
      "metadata": {
        "id": "k3uaJWn76tQi"
      },
      "execution_count": null,
      "outputs": []
    },
    {
      "cell_type": "code",
      "source": [
        "# 다중선형 주성분 회귀분석\n",
        "# Eigenvalue, Scree plot 기준으로 적정 주성분 선택\n",
        "x_var = [\"Prin1\", \"Prin2\", \"Prin3\"]\n",
        "\n",
        "# 선택된 주성분 점수 데이터에 절편(const) 컬럼 추가\n",
        "df_pca_const = sm.add_constant(df_pca[x_var])\n",
        "\n",
        "# 회귀모델 생성\n",
        "reg_model = sm.OLS(df_raw_y, df_pca_const)\n",
        "\n",
        "# 회귀모델 적합\n",
        "reg_model = reg_model.fit()\n",
        "\n",
        "# 모델 성능 확인\n",
        "print(reg_model.summary())"
      ],
      "metadata": {
        "id": "vtf4gLaI6tTA"
      },
      "execution_count": null,
      "outputs": []
    },
    {
      "cell_type": "code",
      "source": [
        ""
      ],
      "metadata": {
        "id": "wroQBkCm6tV_"
      },
      "execution_count": null,
      "outputs": []
    },
    {
      "cell_type": "code",
      "source": [
        ""
      ],
      "metadata": {
        "id": "mK_iC6bk6tYA"
      },
      "execution_count": null,
      "outputs": []
    },
    {
      "cell_type": "code",
      "source": [
        ""
      ],
      "metadata": {
        "id": "PbCAXoOe6tZx"
      },
      "execution_count": null,
      "outputs": []
    },
    {
      "cell_type": "code",
      "source": [
        ""
      ],
      "metadata": {
        "id": "9ZNvKZ576tbX"
      },
      "execution_count": null,
      "outputs": []
    }
  ]
}