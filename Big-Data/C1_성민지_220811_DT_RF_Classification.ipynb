{
  "nbformat": 4,
  "nbformat_minor": 0,
  "metadata": {
    "colab": {
      "name": "Untitled29.ipynb",
      "provenance": [],
      "collapsed_sections": [],
      "authorship_tag": "ABX9TyOKeQebIEo0+c2H+oqplofp",
      "include_colab_link": true
    },
    "kernelspec": {
      "name": "python3",
      "display_name": "Python 3"
    },
    "language_info": {
      "name": "python"
    }
  },
  "cells": [
    {
      "cell_type": "markdown",
      "metadata": {
        "id": "view-in-github",
        "colab_type": "text"
      },
      "source": [
        "<a href=\"https://colab.research.google.com/github/mjiii25/posco-academy/blob/main/Big-Data/C1_%EC%84%B1%EB%AF%BC%EC%A7%80_220811_DT_RF_Classification.ipynb\" target=\"_parent\"><img src=\"https://colab.research.google.com/assets/colab-badge.svg\" alt=\"Open In Colab\"/></a>"
      ]
    },
    {
      "cell_type": "markdown",
      "source": [
        "# **Big Data 분석 일일 과제물 - 의사결정나무 (분류)**"
      ],
      "metadata": {
        "id": "P3uKvHpEflnF"
      }
    },
    {
      "cell_type": "code",
      "execution_count": 168,
      "metadata": {
        "colab": {
          "base_uri": "https://localhost:8080/"
        },
        "id": "_GFbePLmo6Ra",
        "outputId": "4c21239a-7558-4fa9-c859-2e913ef638c3"
      },
      "outputs": [
        {
          "output_type": "stream",
          "name": "stdout",
          "text": [
            "Drive already mounted at /content/mydrive; to attempt to forcibly remount, call drive.mount(\"/content/mydrive\", force_remount=True).\n"
          ]
        }
      ],
      "source": [
        "from google.colab import drive\n",
        "drive.mount('/content/mydrive')"
      ]
    },
    {
      "cell_type": "code",
      "source": [
        "import pandas as pd\n",
        "\n",
        "import matplotlib.pyplot as plt\n",
        "import matplotlib\n",
        "\n",
        "from sklearn.tree import export_graphviz\n",
        "import graphviz\n",
        "\n",
        "from sklearn.model_selection import train_test_split\n",
        "from sklearn.tree import DecisionTreeClassifier\n",
        "from sklearn.model_selection import GridSearchCV\n",
        "\n",
        "from sklearn.metrics import accuracy_score, f1_score\n",
        "from sklearn.metrics import confusion_matrix, classification_report\n",
        "from imblearn.over_sampling import SMOTE"
      ],
      "metadata": {
        "id": "U2LRiNnZpKxU"
      },
      "execution_count": 169,
      "outputs": []
    },
    {
      "cell_type": "markdown",
      "source": [
        "### **데이터 구성하기**"
      ],
      "metadata": {
        "id": "6P06fTYkpS09"
      }
    },
    {
      "cell_type": "code",
      "source": [
        "df_raw = pd.read_csv('/content/mydrive/MyDrive/유방암.csv', encoding = 'euc-kr')\n",
        "\n",
        "print(df_raw.shape)\n",
        "df_raw.head()"
      ],
      "metadata": {
        "colab": {
          "base_uri": "https://localhost:8080/",
          "height": 318
        },
        "id": "UdN1ZjjXpUpg",
        "outputId": "d8b3d2b4-c75f-4ff0-b71a-738a8e69eedc"
      },
      "execution_count": 170,
      "outputs": [
        {
          "output_type": "stream",
          "name": "stdout",
          "text": [
            "(320, 31)\n"
          ]
        },
        {
          "output_type": "execute_result",
          "data": {
            "text/plain": [
              "  diagnosis  mean_radius  mean_texture  mean_perimeter  mean_area  \\\n",
              "0        음성        15.12         16.68           98.78      716.6   \n",
              "1        양성        10.80          9.71           68.77      357.6   \n",
              "2        음성        18.31         18.58          118.60     1041.0   \n",
              "3        양성        14.92         14.93           96.45      686.9   \n",
              "4        양성        12.89         13.12           81.89      515.9   \n",
              "\n",
              "   mean_smoothness  mean_compactness  mean_concavity  mean_concave_points  \\\n",
              "0          0.08876           0.09588         0.07550              0.04079   \n",
              "1          0.09594           0.05736         0.02531              0.01698   \n",
              "2          0.08588           0.08468         0.08169              0.05814   \n",
              "3          0.08098           0.08549         0.05539              0.03221   \n",
              "4          0.06955           0.03729         0.02260              0.01171   \n",
              "\n",
              "   mean_symmetry  ...  worst_radius  worst_texture  worst_perimeter  \\\n",
              "0         0.1594  ...         17.77          20.24           117.70   \n",
              "1         0.1381  ...         11.60          12.02            73.66   \n",
              "2         0.1621  ...         21.31          26.36           139.20   \n",
              "3         0.1687  ...         17.18          18.22           112.00   \n",
              "4         0.1337  ...         13.62          15.54            87.40   \n",
              "\n",
              "   worst_area  worst_smoothness  worst_compactness  worst_concavity  \\\n",
              "0       989.5           0.14910             0.3331           0.3327   \n",
              "1       414.0           0.14360             0.1257           0.1047   \n",
              "2      1410.0           0.12340             0.2445           0.3538   \n",
              "3       906.6           0.10650             0.2791           0.3151   \n",
              "4       577.0           0.09616             0.1147           0.1186   \n",
              "\n",
              "   worst_concave_points  worst_symmetry  worst_fractal_dimension  \n",
              "0               0.12520          0.3415                  0.09740  \n",
              "1               0.04603          0.2090                  0.07699  \n",
              "2               0.15710          0.3206                  0.06938  \n",
              "3               0.11470          0.2688                  0.08273  \n",
              "4               0.05366          0.2309                  0.06915  \n",
              "\n",
              "[5 rows x 31 columns]"
            ],
            "text/html": [
              "\n",
              "  <div id=\"df-72c0999d-2eb1-4bd2-853c-ab27b78b7e7c\">\n",
              "    <div class=\"colab-df-container\">\n",
              "      <div>\n",
              "<style scoped>\n",
              "    .dataframe tbody tr th:only-of-type {\n",
              "        vertical-align: middle;\n",
              "    }\n",
              "\n",
              "    .dataframe tbody tr th {\n",
              "        vertical-align: top;\n",
              "    }\n",
              "\n",
              "    .dataframe thead th {\n",
              "        text-align: right;\n",
              "    }\n",
              "</style>\n",
              "<table border=\"1\" class=\"dataframe\">\n",
              "  <thead>\n",
              "    <tr style=\"text-align: right;\">\n",
              "      <th></th>\n",
              "      <th>diagnosis</th>\n",
              "      <th>mean_radius</th>\n",
              "      <th>mean_texture</th>\n",
              "      <th>mean_perimeter</th>\n",
              "      <th>mean_area</th>\n",
              "      <th>mean_smoothness</th>\n",
              "      <th>mean_compactness</th>\n",
              "      <th>mean_concavity</th>\n",
              "      <th>mean_concave_points</th>\n",
              "      <th>mean_symmetry</th>\n",
              "      <th>...</th>\n",
              "      <th>worst_radius</th>\n",
              "      <th>worst_texture</th>\n",
              "      <th>worst_perimeter</th>\n",
              "      <th>worst_area</th>\n",
              "      <th>worst_smoothness</th>\n",
              "      <th>worst_compactness</th>\n",
              "      <th>worst_concavity</th>\n",
              "      <th>worst_concave_points</th>\n",
              "      <th>worst_symmetry</th>\n",
              "      <th>worst_fractal_dimension</th>\n",
              "    </tr>\n",
              "  </thead>\n",
              "  <tbody>\n",
              "    <tr>\n",
              "      <th>0</th>\n",
              "      <td>음성</td>\n",
              "      <td>15.12</td>\n",
              "      <td>16.68</td>\n",
              "      <td>98.78</td>\n",
              "      <td>716.6</td>\n",
              "      <td>0.08876</td>\n",
              "      <td>0.09588</td>\n",
              "      <td>0.07550</td>\n",
              "      <td>0.04079</td>\n",
              "      <td>0.1594</td>\n",
              "      <td>...</td>\n",
              "      <td>17.77</td>\n",
              "      <td>20.24</td>\n",
              "      <td>117.70</td>\n",
              "      <td>989.5</td>\n",
              "      <td>0.14910</td>\n",
              "      <td>0.3331</td>\n",
              "      <td>0.3327</td>\n",
              "      <td>0.12520</td>\n",
              "      <td>0.3415</td>\n",
              "      <td>0.09740</td>\n",
              "    </tr>\n",
              "    <tr>\n",
              "      <th>1</th>\n",
              "      <td>양성</td>\n",
              "      <td>10.80</td>\n",
              "      <td>9.71</td>\n",
              "      <td>68.77</td>\n",
              "      <td>357.6</td>\n",
              "      <td>0.09594</td>\n",
              "      <td>0.05736</td>\n",
              "      <td>0.02531</td>\n",
              "      <td>0.01698</td>\n",
              "      <td>0.1381</td>\n",
              "      <td>...</td>\n",
              "      <td>11.60</td>\n",
              "      <td>12.02</td>\n",
              "      <td>73.66</td>\n",
              "      <td>414.0</td>\n",
              "      <td>0.14360</td>\n",
              "      <td>0.1257</td>\n",
              "      <td>0.1047</td>\n",
              "      <td>0.04603</td>\n",
              "      <td>0.2090</td>\n",
              "      <td>0.07699</td>\n",
              "    </tr>\n",
              "    <tr>\n",
              "      <th>2</th>\n",
              "      <td>음성</td>\n",
              "      <td>18.31</td>\n",
              "      <td>18.58</td>\n",
              "      <td>118.60</td>\n",
              "      <td>1041.0</td>\n",
              "      <td>0.08588</td>\n",
              "      <td>0.08468</td>\n",
              "      <td>0.08169</td>\n",
              "      <td>0.05814</td>\n",
              "      <td>0.1621</td>\n",
              "      <td>...</td>\n",
              "      <td>21.31</td>\n",
              "      <td>26.36</td>\n",
              "      <td>139.20</td>\n",
              "      <td>1410.0</td>\n",
              "      <td>0.12340</td>\n",
              "      <td>0.2445</td>\n",
              "      <td>0.3538</td>\n",
              "      <td>0.15710</td>\n",
              "      <td>0.3206</td>\n",
              "      <td>0.06938</td>\n",
              "    </tr>\n",
              "    <tr>\n",
              "      <th>3</th>\n",
              "      <td>양성</td>\n",
              "      <td>14.92</td>\n",
              "      <td>14.93</td>\n",
              "      <td>96.45</td>\n",
              "      <td>686.9</td>\n",
              "      <td>0.08098</td>\n",
              "      <td>0.08549</td>\n",
              "      <td>0.05539</td>\n",
              "      <td>0.03221</td>\n",
              "      <td>0.1687</td>\n",
              "      <td>...</td>\n",
              "      <td>17.18</td>\n",
              "      <td>18.22</td>\n",
              "      <td>112.00</td>\n",
              "      <td>906.6</td>\n",
              "      <td>0.10650</td>\n",
              "      <td>0.2791</td>\n",
              "      <td>0.3151</td>\n",
              "      <td>0.11470</td>\n",
              "      <td>0.2688</td>\n",
              "      <td>0.08273</td>\n",
              "    </tr>\n",
              "    <tr>\n",
              "      <th>4</th>\n",
              "      <td>양성</td>\n",
              "      <td>12.89</td>\n",
              "      <td>13.12</td>\n",
              "      <td>81.89</td>\n",
              "      <td>515.9</td>\n",
              "      <td>0.06955</td>\n",
              "      <td>0.03729</td>\n",
              "      <td>0.02260</td>\n",
              "      <td>0.01171</td>\n",
              "      <td>0.1337</td>\n",
              "      <td>...</td>\n",
              "      <td>13.62</td>\n",
              "      <td>15.54</td>\n",
              "      <td>87.40</td>\n",
              "      <td>577.0</td>\n",
              "      <td>0.09616</td>\n",
              "      <td>0.1147</td>\n",
              "      <td>0.1186</td>\n",
              "      <td>0.05366</td>\n",
              "      <td>0.2309</td>\n",
              "      <td>0.06915</td>\n",
              "    </tr>\n",
              "  </tbody>\n",
              "</table>\n",
              "<p>5 rows × 31 columns</p>\n",
              "</div>\n",
              "      <button class=\"colab-df-convert\" onclick=\"convertToInteractive('df-72c0999d-2eb1-4bd2-853c-ab27b78b7e7c')\"\n",
              "              title=\"Convert this dataframe to an interactive table.\"\n",
              "              style=\"display:none;\">\n",
              "        \n",
              "  <svg xmlns=\"http://www.w3.org/2000/svg\" height=\"24px\"viewBox=\"0 0 24 24\"\n",
              "       width=\"24px\">\n",
              "    <path d=\"M0 0h24v24H0V0z\" fill=\"none\"/>\n",
              "    <path d=\"M18.56 5.44l.94 2.06.94-2.06 2.06-.94-2.06-.94-.94-2.06-.94 2.06-2.06.94zm-11 1L8.5 8.5l.94-2.06 2.06-.94-2.06-.94L8.5 2.5l-.94 2.06-2.06.94zm10 10l.94 2.06.94-2.06 2.06-.94-2.06-.94-.94-2.06-.94 2.06-2.06.94z\"/><path d=\"M17.41 7.96l-1.37-1.37c-.4-.4-.92-.59-1.43-.59-.52 0-1.04.2-1.43.59L10.3 9.45l-7.72 7.72c-.78.78-.78 2.05 0 2.83L4 21.41c.39.39.9.59 1.41.59.51 0 1.02-.2 1.41-.59l7.78-7.78 2.81-2.81c.8-.78.8-2.07 0-2.86zM5.41 20L4 18.59l7.72-7.72 1.47 1.35L5.41 20z\"/>\n",
              "  </svg>\n",
              "      </button>\n",
              "      \n",
              "  <style>\n",
              "    .colab-df-container {\n",
              "      display:flex;\n",
              "      flex-wrap:wrap;\n",
              "      gap: 12px;\n",
              "    }\n",
              "\n",
              "    .colab-df-convert {\n",
              "      background-color: #E8F0FE;\n",
              "      border: none;\n",
              "      border-radius: 50%;\n",
              "      cursor: pointer;\n",
              "      display: none;\n",
              "      fill: #1967D2;\n",
              "      height: 32px;\n",
              "      padding: 0 0 0 0;\n",
              "      width: 32px;\n",
              "    }\n",
              "\n",
              "    .colab-df-convert:hover {\n",
              "      background-color: #E2EBFA;\n",
              "      box-shadow: 0px 1px 2px rgba(60, 64, 67, 0.3), 0px 1px 3px 1px rgba(60, 64, 67, 0.15);\n",
              "      fill: #174EA6;\n",
              "    }\n",
              "\n",
              "    [theme=dark] .colab-df-convert {\n",
              "      background-color: #3B4455;\n",
              "      fill: #D2E3FC;\n",
              "    }\n",
              "\n",
              "    [theme=dark] .colab-df-convert:hover {\n",
              "      background-color: #434B5C;\n",
              "      box-shadow: 0px 1px 3px 1px rgba(0, 0, 0, 0.15);\n",
              "      filter: drop-shadow(0px 1px 2px rgba(0, 0, 0, 0.3));\n",
              "      fill: #FFFFFF;\n",
              "    }\n",
              "  </style>\n",
              "\n",
              "      <script>\n",
              "        const buttonEl =\n",
              "          document.querySelector('#df-72c0999d-2eb1-4bd2-853c-ab27b78b7e7c button.colab-df-convert');\n",
              "        buttonEl.style.display =\n",
              "          google.colab.kernel.accessAllowed ? 'block' : 'none';\n",
              "\n",
              "        async function convertToInteractive(key) {\n",
              "          const element = document.querySelector('#df-72c0999d-2eb1-4bd2-853c-ab27b78b7e7c');\n",
              "          const dataTable =\n",
              "            await google.colab.kernel.invokeFunction('convertToInteractive',\n",
              "                                                     [key], {});\n",
              "          if (!dataTable) return;\n",
              "\n",
              "          const docLinkHtml = 'Like what you see? Visit the ' +\n",
              "            '<a target=\"_blank\" href=https://colab.research.google.com/notebooks/data_table.ipynb>data table notebook</a>'\n",
              "            + ' to learn more about interactive tables.';\n",
              "          element.innerHTML = '';\n",
              "          dataTable['output_type'] = 'display_data';\n",
              "          await google.colab.output.renderOutput(dataTable, element);\n",
              "          const docLink = document.createElement('div');\n",
              "          docLink.innerHTML = docLinkHtml;\n",
              "          element.appendChild(docLink);\n",
              "        }\n",
              "      </script>\n",
              "    </div>\n",
              "  </div>\n",
              "  "
            ]
          },
          "metadata": {},
          "execution_count": 170
        }
      ]
    },
    {
      "cell_type": "code",
      "source": [
        "df_raw.isnull().sum()"
      ],
      "metadata": {
        "colab": {
          "base_uri": "https://localhost:8080/"
        },
        "id": "jdPMs9y4hI80",
        "outputId": "36e7cae7-63cc-4031-e1f2-5466b5915dde"
      },
      "execution_count": 171,
      "outputs": [
        {
          "output_type": "execute_result",
          "data": {
            "text/plain": [
              "diagnosis                  0\n",
              "mean_radius                0\n",
              "mean_texture               0\n",
              "mean_perimeter             0\n",
              "mean_area                  0\n",
              "mean_smoothness            0\n",
              "mean_compactness           0\n",
              "mean_concavity             0\n",
              "mean_concave_points        0\n",
              "mean_symmetry              0\n",
              "mean_fractal_dimension     0\n",
              "radius_error               0\n",
              "texture_error              0\n",
              "perimeter_error            0\n",
              "area_error                 0\n",
              "smoothness_error           0\n",
              "compactness_error          0\n",
              "concavity_error            0\n",
              "concave_points_error       0\n",
              "symmetry_error             0\n",
              "fractal_dimension_error    0\n",
              "worst_radius               0\n",
              "worst_texture              0\n",
              "worst_perimeter            0\n",
              "worst_area                 0\n",
              "worst_smoothness           0\n",
              "worst_compactness          0\n",
              "worst_concavity            0\n",
              "worst_concave_points       0\n",
              "worst_symmetry             0\n",
              "worst_fractal_dimension    0\n",
              "dtype: int64"
            ]
          },
          "metadata": {},
          "execution_count": 171
        }
      ]
    },
    {
      "cell_type": "code",
      "source": [
        "df_raw.loc[df_raw['diagnosis'] == '양성', 'diagnosis'] = 1\n",
        "df_raw.loc[df_raw['diagnosis'] == '음성', 'diagnosis'] = 0"
      ],
      "metadata": {
        "id": "CkEsA0eUiVzG"
      },
      "execution_count": 172,
      "outputs": []
    },
    {
      "cell_type": "code",
      "source": [
        "df_raw['diagnosis'] = df_raw['diagnosis'].astype(int)"
      ],
      "metadata": {
        "id": "jQr6Pl_4inmX"
      },
      "execution_count": 173,
      "outputs": []
    },
    {
      "cell_type": "code",
      "source": [
        "print(df_raw.shape)\n",
        "df_raw.head()"
      ],
      "metadata": {
        "colab": {
          "base_uri": "https://localhost:8080/",
          "height": 318
        },
        "id": "CSRTj3qRkZvb",
        "outputId": "5de2594f-c497-467b-ced0-3efc1a3a68f8"
      },
      "execution_count": 174,
      "outputs": [
        {
          "output_type": "stream",
          "name": "stdout",
          "text": [
            "(320, 31)\n"
          ]
        },
        {
          "output_type": "execute_result",
          "data": {
            "text/plain": [
              "   diagnosis  mean_radius  mean_texture  mean_perimeter  mean_area  \\\n",
              "0          0        15.12         16.68           98.78      716.6   \n",
              "1          1        10.80          9.71           68.77      357.6   \n",
              "2          0        18.31         18.58          118.60     1041.0   \n",
              "3          1        14.92         14.93           96.45      686.9   \n",
              "4          1        12.89         13.12           81.89      515.9   \n",
              "\n",
              "   mean_smoothness  mean_compactness  mean_concavity  mean_concave_points  \\\n",
              "0          0.08876           0.09588         0.07550              0.04079   \n",
              "1          0.09594           0.05736         0.02531              0.01698   \n",
              "2          0.08588           0.08468         0.08169              0.05814   \n",
              "3          0.08098           0.08549         0.05539              0.03221   \n",
              "4          0.06955           0.03729         0.02260              0.01171   \n",
              "\n",
              "   mean_symmetry  ...  worst_radius  worst_texture  worst_perimeter  \\\n",
              "0         0.1594  ...         17.77          20.24           117.70   \n",
              "1         0.1381  ...         11.60          12.02            73.66   \n",
              "2         0.1621  ...         21.31          26.36           139.20   \n",
              "3         0.1687  ...         17.18          18.22           112.00   \n",
              "4         0.1337  ...         13.62          15.54            87.40   \n",
              "\n",
              "   worst_area  worst_smoothness  worst_compactness  worst_concavity  \\\n",
              "0       989.5           0.14910             0.3331           0.3327   \n",
              "1       414.0           0.14360             0.1257           0.1047   \n",
              "2      1410.0           0.12340             0.2445           0.3538   \n",
              "3       906.6           0.10650             0.2791           0.3151   \n",
              "4       577.0           0.09616             0.1147           0.1186   \n",
              "\n",
              "   worst_concave_points  worst_symmetry  worst_fractal_dimension  \n",
              "0               0.12520          0.3415                  0.09740  \n",
              "1               0.04603          0.2090                  0.07699  \n",
              "2               0.15710          0.3206                  0.06938  \n",
              "3               0.11470          0.2688                  0.08273  \n",
              "4               0.05366          0.2309                  0.06915  \n",
              "\n",
              "[5 rows x 31 columns]"
            ],
            "text/html": [
              "\n",
              "  <div id=\"df-c6302c46-5c69-4468-8246-dd38f2d5ccf7\">\n",
              "    <div class=\"colab-df-container\">\n",
              "      <div>\n",
              "<style scoped>\n",
              "    .dataframe tbody tr th:only-of-type {\n",
              "        vertical-align: middle;\n",
              "    }\n",
              "\n",
              "    .dataframe tbody tr th {\n",
              "        vertical-align: top;\n",
              "    }\n",
              "\n",
              "    .dataframe thead th {\n",
              "        text-align: right;\n",
              "    }\n",
              "</style>\n",
              "<table border=\"1\" class=\"dataframe\">\n",
              "  <thead>\n",
              "    <tr style=\"text-align: right;\">\n",
              "      <th></th>\n",
              "      <th>diagnosis</th>\n",
              "      <th>mean_radius</th>\n",
              "      <th>mean_texture</th>\n",
              "      <th>mean_perimeter</th>\n",
              "      <th>mean_area</th>\n",
              "      <th>mean_smoothness</th>\n",
              "      <th>mean_compactness</th>\n",
              "      <th>mean_concavity</th>\n",
              "      <th>mean_concave_points</th>\n",
              "      <th>mean_symmetry</th>\n",
              "      <th>...</th>\n",
              "      <th>worst_radius</th>\n",
              "      <th>worst_texture</th>\n",
              "      <th>worst_perimeter</th>\n",
              "      <th>worst_area</th>\n",
              "      <th>worst_smoothness</th>\n",
              "      <th>worst_compactness</th>\n",
              "      <th>worst_concavity</th>\n",
              "      <th>worst_concave_points</th>\n",
              "      <th>worst_symmetry</th>\n",
              "      <th>worst_fractal_dimension</th>\n",
              "    </tr>\n",
              "  </thead>\n",
              "  <tbody>\n",
              "    <tr>\n",
              "      <th>0</th>\n",
              "      <td>0</td>\n",
              "      <td>15.12</td>\n",
              "      <td>16.68</td>\n",
              "      <td>98.78</td>\n",
              "      <td>716.6</td>\n",
              "      <td>0.08876</td>\n",
              "      <td>0.09588</td>\n",
              "      <td>0.07550</td>\n",
              "      <td>0.04079</td>\n",
              "      <td>0.1594</td>\n",
              "      <td>...</td>\n",
              "      <td>17.77</td>\n",
              "      <td>20.24</td>\n",
              "      <td>117.70</td>\n",
              "      <td>989.5</td>\n",
              "      <td>0.14910</td>\n",
              "      <td>0.3331</td>\n",
              "      <td>0.3327</td>\n",
              "      <td>0.12520</td>\n",
              "      <td>0.3415</td>\n",
              "      <td>0.09740</td>\n",
              "    </tr>\n",
              "    <tr>\n",
              "      <th>1</th>\n",
              "      <td>1</td>\n",
              "      <td>10.80</td>\n",
              "      <td>9.71</td>\n",
              "      <td>68.77</td>\n",
              "      <td>357.6</td>\n",
              "      <td>0.09594</td>\n",
              "      <td>0.05736</td>\n",
              "      <td>0.02531</td>\n",
              "      <td>0.01698</td>\n",
              "      <td>0.1381</td>\n",
              "      <td>...</td>\n",
              "      <td>11.60</td>\n",
              "      <td>12.02</td>\n",
              "      <td>73.66</td>\n",
              "      <td>414.0</td>\n",
              "      <td>0.14360</td>\n",
              "      <td>0.1257</td>\n",
              "      <td>0.1047</td>\n",
              "      <td>0.04603</td>\n",
              "      <td>0.2090</td>\n",
              "      <td>0.07699</td>\n",
              "    </tr>\n",
              "    <tr>\n",
              "      <th>2</th>\n",
              "      <td>0</td>\n",
              "      <td>18.31</td>\n",
              "      <td>18.58</td>\n",
              "      <td>118.60</td>\n",
              "      <td>1041.0</td>\n",
              "      <td>0.08588</td>\n",
              "      <td>0.08468</td>\n",
              "      <td>0.08169</td>\n",
              "      <td>0.05814</td>\n",
              "      <td>0.1621</td>\n",
              "      <td>...</td>\n",
              "      <td>21.31</td>\n",
              "      <td>26.36</td>\n",
              "      <td>139.20</td>\n",
              "      <td>1410.0</td>\n",
              "      <td>0.12340</td>\n",
              "      <td>0.2445</td>\n",
              "      <td>0.3538</td>\n",
              "      <td>0.15710</td>\n",
              "      <td>0.3206</td>\n",
              "      <td>0.06938</td>\n",
              "    </tr>\n",
              "    <tr>\n",
              "      <th>3</th>\n",
              "      <td>1</td>\n",
              "      <td>14.92</td>\n",
              "      <td>14.93</td>\n",
              "      <td>96.45</td>\n",
              "      <td>686.9</td>\n",
              "      <td>0.08098</td>\n",
              "      <td>0.08549</td>\n",
              "      <td>0.05539</td>\n",
              "      <td>0.03221</td>\n",
              "      <td>0.1687</td>\n",
              "      <td>...</td>\n",
              "      <td>17.18</td>\n",
              "      <td>18.22</td>\n",
              "      <td>112.00</td>\n",
              "      <td>906.6</td>\n",
              "      <td>0.10650</td>\n",
              "      <td>0.2791</td>\n",
              "      <td>0.3151</td>\n",
              "      <td>0.11470</td>\n",
              "      <td>0.2688</td>\n",
              "      <td>0.08273</td>\n",
              "    </tr>\n",
              "    <tr>\n",
              "      <th>4</th>\n",
              "      <td>1</td>\n",
              "      <td>12.89</td>\n",
              "      <td>13.12</td>\n",
              "      <td>81.89</td>\n",
              "      <td>515.9</td>\n",
              "      <td>0.06955</td>\n",
              "      <td>0.03729</td>\n",
              "      <td>0.02260</td>\n",
              "      <td>0.01171</td>\n",
              "      <td>0.1337</td>\n",
              "      <td>...</td>\n",
              "      <td>13.62</td>\n",
              "      <td>15.54</td>\n",
              "      <td>87.40</td>\n",
              "      <td>577.0</td>\n",
              "      <td>0.09616</td>\n",
              "      <td>0.1147</td>\n",
              "      <td>0.1186</td>\n",
              "      <td>0.05366</td>\n",
              "      <td>0.2309</td>\n",
              "      <td>0.06915</td>\n",
              "    </tr>\n",
              "  </tbody>\n",
              "</table>\n",
              "<p>5 rows × 31 columns</p>\n",
              "</div>\n",
              "      <button class=\"colab-df-convert\" onclick=\"convertToInteractive('df-c6302c46-5c69-4468-8246-dd38f2d5ccf7')\"\n",
              "              title=\"Convert this dataframe to an interactive table.\"\n",
              "              style=\"display:none;\">\n",
              "        \n",
              "  <svg xmlns=\"http://www.w3.org/2000/svg\" height=\"24px\"viewBox=\"0 0 24 24\"\n",
              "       width=\"24px\">\n",
              "    <path d=\"M0 0h24v24H0V0z\" fill=\"none\"/>\n",
              "    <path d=\"M18.56 5.44l.94 2.06.94-2.06 2.06-.94-2.06-.94-.94-2.06-.94 2.06-2.06.94zm-11 1L8.5 8.5l.94-2.06 2.06-.94-2.06-.94L8.5 2.5l-.94 2.06-2.06.94zm10 10l.94 2.06.94-2.06 2.06-.94-2.06-.94-.94-2.06-.94 2.06-2.06.94z\"/><path d=\"M17.41 7.96l-1.37-1.37c-.4-.4-.92-.59-1.43-.59-.52 0-1.04.2-1.43.59L10.3 9.45l-7.72 7.72c-.78.78-.78 2.05 0 2.83L4 21.41c.39.39.9.59 1.41.59.51 0 1.02-.2 1.41-.59l7.78-7.78 2.81-2.81c.8-.78.8-2.07 0-2.86zM5.41 20L4 18.59l7.72-7.72 1.47 1.35L5.41 20z\"/>\n",
              "  </svg>\n",
              "      </button>\n",
              "      \n",
              "  <style>\n",
              "    .colab-df-container {\n",
              "      display:flex;\n",
              "      flex-wrap:wrap;\n",
              "      gap: 12px;\n",
              "    }\n",
              "\n",
              "    .colab-df-convert {\n",
              "      background-color: #E8F0FE;\n",
              "      border: none;\n",
              "      border-radius: 50%;\n",
              "      cursor: pointer;\n",
              "      display: none;\n",
              "      fill: #1967D2;\n",
              "      height: 32px;\n",
              "      padding: 0 0 0 0;\n",
              "      width: 32px;\n",
              "    }\n",
              "\n",
              "    .colab-df-convert:hover {\n",
              "      background-color: #E2EBFA;\n",
              "      box-shadow: 0px 1px 2px rgba(60, 64, 67, 0.3), 0px 1px 3px 1px rgba(60, 64, 67, 0.15);\n",
              "      fill: #174EA6;\n",
              "    }\n",
              "\n",
              "    [theme=dark] .colab-df-convert {\n",
              "      background-color: #3B4455;\n",
              "      fill: #D2E3FC;\n",
              "    }\n",
              "\n",
              "    [theme=dark] .colab-df-convert:hover {\n",
              "      background-color: #434B5C;\n",
              "      box-shadow: 0px 1px 3px 1px rgba(0, 0, 0, 0.15);\n",
              "      filter: drop-shadow(0px 1px 2px rgba(0, 0, 0, 0.3));\n",
              "      fill: #FFFFFF;\n",
              "    }\n",
              "  </style>\n",
              "\n",
              "      <script>\n",
              "        const buttonEl =\n",
              "          document.querySelector('#df-c6302c46-5c69-4468-8246-dd38f2d5ccf7 button.colab-df-convert');\n",
              "        buttonEl.style.display =\n",
              "          google.colab.kernel.accessAllowed ? 'block' : 'none';\n",
              "\n",
              "        async function convertToInteractive(key) {\n",
              "          const element = document.querySelector('#df-c6302c46-5c69-4468-8246-dd38f2d5ccf7');\n",
              "          const dataTable =\n",
              "            await google.colab.kernel.invokeFunction('convertToInteractive',\n",
              "                                                     [key], {});\n",
              "          if (!dataTable) return;\n",
              "\n",
              "          const docLinkHtml = 'Like what you see? Visit the ' +\n",
              "            '<a target=\"_blank\" href=https://colab.research.google.com/notebooks/data_table.ipynb>data table notebook</a>'\n",
              "            + ' to learn more about interactive tables.';\n",
              "          element.innerHTML = '';\n",
              "          dataTable['output_type'] = 'display_data';\n",
              "          await google.colab.output.renderOutput(dataTable, element);\n",
              "          const docLink = document.createElement('div');\n",
              "          docLink.innerHTML = docLinkHtml;\n",
              "          element.appendChild(docLink);\n",
              "        }\n",
              "      </script>\n",
              "    </div>\n",
              "  </div>\n",
              "  "
            ]
          },
          "metadata": {},
          "execution_count": 174
        }
      ]
    },
    {
      "cell_type": "code",
      "source": [
        "df_raw.info()"
      ],
      "metadata": {
        "colab": {
          "base_uri": "https://localhost:8080/"
        },
        "id": "iyrHASdOpXnn",
        "outputId": "72dc18fe-c8ab-4511-c631-0e523dc76604"
      },
      "execution_count": 175,
      "outputs": [
        {
          "output_type": "stream",
          "name": "stdout",
          "text": [
            "<class 'pandas.core.frame.DataFrame'>\n",
            "RangeIndex: 320 entries, 0 to 319\n",
            "Data columns (total 31 columns):\n",
            " #   Column                   Non-Null Count  Dtype  \n",
            "---  ------                   --------------  -----  \n",
            " 0   diagnosis                320 non-null    int64  \n",
            " 1   mean_radius              320 non-null    float64\n",
            " 2   mean_texture             320 non-null    float64\n",
            " 3   mean_perimeter           320 non-null    float64\n",
            " 4   mean_area                320 non-null    float64\n",
            " 5   mean_smoothness          320 non-null    float64\n",
            " 6   mean_compactness         320 non-null    float64\n",
            " 7   mean_concavity           320 non-null    float64\n",
            " 8   mean_concave_points      320 non-null    float64\n",
            " 9   mean_symmetry            320 non-null    float64\n",
            " 10  mean_fractal_dimension   320 non-null    float64\n",
            " 11  radius_error             320 non-null    float64\n",
            " 12  texture_error            320 non-null    float64\n",
            " 13  perimeter_error          320 non-null    float64\n",
            " 14  area_error               320 non-null    float64\n",
            " 15  smoothness_error         320 non-null    float64\n",
            " 16  compactness_error        320 non-null    float64\n",
            " 17  concavity_error          320 non-null    float64\n",
            " 18  concave_points_error     320 non-null    float64\n",
            " 19  symmetry_error           320 non-null    float64\n",
            " 20  fractal_dimension_error  320 non-null    float64\n",
            " 21  worst_radius             320 non-null    float64\n",
            " 22  worst_texture            320 non-null    float64\n",
            " 23  worst_perimeter          320 non-null    float64\n",
            " 24  worst_area               320 non-null    float64\n",
            " 25  worst_smoothness         320 non-null    float64\n",
            " 26  worst_compactness        320 non-null    float64\n",
            " 27  worst_concavity          320 non-null    float64\n",
            " 28  worst_concave_points     320 non-null    float64\n",
            " 29  worst_symmetry           320 non-null    float64\n",
            " 30  worst_fractal_dimension  320 non-null    float64\n",
            "dtypes: float64(30), int64(1)\n",
            "memory usage: 77.6 KB\n"
          ]
        }
      ]
    },
    {
      "cell_type": "markdown",
      "source": [
        "### **자료 불균형 확인하기**"
      ],
      "metadata": {
        "id": "MLJQFj-nlr8x"
      }
    },
    {
      "cell_type": "code",
      "source": [
        "df_raw['diagnosis'].value_counts()"
      ],
      "metadata": {
        "colab": {
          "base_uri": "https://localhost:8080/"
        },
        "id": "GQPZapABhYYH",
        "outputId": "36c25a00-4372-4bd7-92fc-0bdcbc826e01"
      },
      "execution_count": 176,
      "outputs": [
        {
          "output_type": "execute_result",
          "data": {
            "text/plain": [
              "0    212\n",
              "1    108\n",
              "Name: diagnosis, dtype: int64"
            ]
          },
          "metadata": {},
          "execution_count": 176
        }
      ]
    },
    {
      "cell_type": "code",
      "source": [
        "print('diagnosis = 1(양성) 비율 : ', df_raw.value_counts(df_raw['diagnosis'] == 1) / len(df_raw))"
      ],
      "metadata": {
        "colab": {
          "base_uri": "https://localhost:8080/"
        },
        "id": "ZQX6oKwehdrD",
        "outputId": "e0d18f0a-f1b7-442f-b0d5-8f71037134e1"
      },
      "execution_count": 177,
      "outputs": [
        {
          "output_type": "stream",
          "name": "stdout",
          "text": [
            "diagnosis = 1(양성) 비율 :  diagnosis\n",
            "False    0.6625\n",
            "True     0.3375\n",
            "dtype: float64\n"
          ]
        }
      ]
    },
    {
      "cell_type": "code",
      "source": [
        "plt.figure(figsize = (10,8))\n",
        "plt.scatter(df_raw['mean_radius'], df_raw['mean_texture'], c = df_raw['diagnosis'], s= 20)\n",
        "plt.xlabel('mean_radius'); plt.ylabel('mean_texture')\n",
        "plt.show()"
      ],
      "metadata": {
        "colab": {
          "base_uri": "https://localhost:8080/",
          "height": 498
        },
        "id": "SvVM4FYah4sP",
        "outputId": "13f7ac31-fd9d-4fb8-c602-1b11d95b02ea"
      },
      "execution_count": 186,
      "outputs": [
        {
          "output_type": "display_data",
          "data": {
            "text/plain": [
              "<Figure size 720x576 with 1 Axes>"
            ],
            "image/png": "[encoded data removed]"
          },
          "metadata": {
            "needs_background": "light"
          }
        }
      ]
    },
    {
      "cell_type": "markdown",
      "source": [
        "diagnosis의 양성과 음성의 비율은 각각 1:2이다. 우리의 관심 대상인 양성 여부에 대한 oversampling이 필요해보인다."
      ],
      "metadata": {
        "id": "Ze411TY9AatO"
      }
    },
    {
      "cell_type": "code",
      "source": [
        "sm = SMOTE(sampling_strategy = 'auto')\n",
        "x_resampled, y_resampled = sm.fit_resample(df_train_x, df_train_y)\n",
        "\n",
        "print('diagnosis의 전체 자료 개수 : {}'.format(len(df_raw['diagnosis'])))\n",
        "print('Over-Sampling 후 1 : {}'.format(sum(y_resampled == 1)))\n",
        "print('Over-Sampling 후 0 : {}'.format(sum(y_resampled == 0)))"
      ],
      "metadata": {
        "colab": {
          "base_uri": "https://localhost:8080/"
        },
        "id": "zVhwmRdhjFYF",
        "outputId": "8ff92dae-d6fa-4e05-d4d1-18f72f5fe6ae"
      },
      "execution_count": 188,
      "outputs": [
        {
          "output_type": "stream",
          "name": "stdout",
          "text": [
            "diagnosis의 전체 자료 개수 : 320\n",
            "Over-Sampling 후 1 : 115\n",
            "Over-Sampling 후 0 : 115\n"
          ]
        }
      ]
    },
    {
      "cell_type": "code",
      "source": [
        "df_resampled = pd.concat([x_resampled, y_resampled], axis = 1)\n",
        "\n",
        "print(df_resampled.shape)\n",
        "df_resampled.head()"
      ],
      "metadata": {
        "colab": {
          "base_uri": "https://localhost:8080/",
          "height": 318
        },
        "id": "uGHTL6A6BX3-",
        "outputId": "1f1307d5-8537-45b5-bfad-3aa1421dfe19"
      },
      "execution_count": 192,
      "outputs": [
        {
          "output_type": "stream",
          "name": "stdout",
          "text": [
            "(230, 31)\n"
          ]
        },
        {
          "output_type": "execute_result",
          "data": {
            "text/plain": [
              "   mean_radius  mean_texture  mean_perimeter  mean_area  mean_smoothness  \\\n",
              "0       13.150         15.34           85.31      538.9          0.09384   \n",
              "1       15.750         19.22          107.10      758.6          0.12430   \n",
              "2       20.640         17.35          134.80     1335.0          0.09446   \n",
              "3       15.710         13.93          102.00      761.7          0.09462   \n",
              "4        9.667         18.49           61.49      289.1          0.08946   \n",
              "\n",
              "   mean_compactness  mean_concavity  mean_concave_points  mean_symmetry  \\\n",
              "0           0.08498         0.09293              0.03483         0.1822   \n",
              "1           0.23640         0.29140              0.12420         0.2375   \n",
              "2           0.10760         0.15270              0.08941         0.1571   \n",
              "3           0.09462         0.07135              0.05933         0.1816   \n",
              "4           0.06258         0.02948              0.01514         0.2238   \n",
              "\n",
              "   mean_fractal_dimension  ...  worst_texture  worst_perimeter  worst_area  \\\n",
              "0                 0.06207  ...          20.50            97.67       677.3   \n",
              "1                 0.07603  ...          24.17           119.40       915.3   \n",
              "2                 0.05478  ...          23.17           166.80      1946.0   \n",
              "3                 0.05723  ...          19.25           114.30       922.8   \n",
              "4                 0.06413  ...          25.62            70.88       385.2   \n",
              "\n",
              "   worst_smoothness  worst_compactness  worst_concavity  worst_concave_points  \\\n",
              "0            0.1478             0.2256           0.3009               0.09722   \n",
              "1            0.1550             0.5046           0.6872               0.21350   \n",
              "2            0.1562             0.3055           0.4159               0.21120   \n",
              "3            0.1223             0.1949           0.1709               0.13740   \n",
              "4            0.1234             0.1542           0.1277               0.06560   \n",
              "\n",
              "   worst_symmetry  worst_fractal_dimension  diagnosis  \n",
              "0          0.3849                  0.08633          1  \n",
              "1          0.4245                  0.10500          0  \n",
              "2          0.2689                  0.07055          0  \n",
              "3          0.2723                  0.07071          1  \n",
              "4          0.3174                  0.08524          1  \n",
              "\n",
              "[5 rows x 31 columns]"
            ],
            "text/html": [
              "\n",
              "  <div id=\"df-f1b89a2a-9427-4f88-9802-19bd1551aeb4\">\n",
              "    <div class=\"colab-df-container\">\n",
              "      <div>\n",
              "<style scoped>\n",
              "    .dataframe tbody tr th:only-of-type {\n",
              "        vertical-align: middle;\n",
              "    }\n",
              "\n",
              "    .dataframe tbody tr th {\n",
              "        vertical-align: top;\n",
              "    }\n",
              "\n",
              "    .dataframe thead th {\n",
              "        text-align: right;\n",
              "    }\n",
              "</style>\n",
              "<table border=\"1\" class=\"dataframe\">\n",
              "  <thead>\n",
              "    <tr style=\"text-align: right;\">\n",
              "      <th></th>\n",
              "      <th>mean_radius</th>\n",
              "      <th>mean_texture</th>\n",
              "      <th>mean_perimeter</th>\n",
              "      <th>mean_area</th>\n",
              "      <th>mean_smoothness</th>\n",
              "      <th>mean_compactness</th>\n",
              "      <th>mean_concavity</th>\n",
              "      <th>mean_concave_points</th>\n",
              "      <th>mean_symmetry</th>\n",
              "      <th>mean_fractal_dimension</th>\n",
              "      <th>...</th>\n",
              "      <th>worst_texture</th>\n",
              "      <th>worst_perimeter</th>\n",
              "      <th>worst_area</th>\n",
              "      <th>worst_smoothness</th>\n",
              "      <th>worst_compactness</th>\n",
              "      <th>worst_concavity</th>\n",
              "      <th>worst_concave_points</th>\n",
              "      <th>worst_symmetry</th>\n",
              "      <th>worst_fractal_dimension</th>\n",
              "      <th>diagnosis</th>\n",
              "    </tr>\n",
              "  </thead>\n",
              "  <tbody>\n",
              "    <tr>\n",
              "      <th>0</th>\n",
              "      <td>13.150</td>\n",
              "      <td>15.34</td>\n",
              "      <td>85.31</td>\n",
              "      <td>538.9</td>\n",
              "      <td>0.09384</td>\n",
              "      <td>0.08498</td>\n",
              "      <td>0.09293</td>\n",
              "      <td>0.03483</td>\n",
              "      <td>0.1822</td>\n",
              "      <td>0.06207</td>\n",
              "      <td>...</td>\n",
              "      <td>20.50</td>\n",
              "      <td>97.67</td>\n",
              "      <td>677.3</td>\n",
              "      <td>0.1478</td>\n",
              "      <td>0.2256</td>\n",
              "      <td>0.3009</td>\n",
              "      <td>0.09722</td>\n",
              "      <td>0.3849</td>\n",
              "      <td>0.08633</td>\n",
              "      <td>1</td>\n",
              "    </tr>\n",
              "    <tr>\n",
              "      <th>1</th>\n",
              "      <td>15.750</td>\n",
              "      <td>19.22</td>\n",
              "      <td>107.10</td>\n",
              "      <td>758.6</td>\n",
              "      <td>0.12430</td>\n",
              "      <td>0.23640</td>\n",
              "      <td>0.29140</td>\n",
              "      <td>0.12420</td>\n",
              "      <td>0.2375</td>\n",
              "      <td>0.07603</td>\n",
              "      <td>...</td>\n",
              "      <td>24.17</td>\n",
              "      <td>119.40</td>\n",
              "      <td>915.3</td>\n",
              "      <td>0.1550</td>\n",
              "      <td>0.5046</td>\n",
              "      <td>0.6872</td>\n",
              "      <td>0.21350</td>\n",
              "      <td>0.4245</td>\n",
              "      <td>0.10500</td>\n",
              "      <td>0</td>\n",
              "    </tr>\n",
              "    <tr>\n",
              "      <th>2</th>\n",
              "      <td>20.640</td>\n",
              "      <td>17.35</td>\n",
              "      <td>134.80</td>\n",
              "      <td>1335.0</td>\n",
              "      <td>0.09446</td>\n",
              "      <td>0.10760</td>\n",
              "      <td>0.15270</td>\n",
              "      <td>0.08941</td>\n",
              "      <td>0.1571</td>\n",
              "      <td>0.05478</td>\n",
              "      <td>...</td>\n",
              "      <td>23.17</td>\n",
              "      <td>166.80</td>\n",
              "      <td>1946.0</td>\n",
              "      <td>0.1562</td>\n",
              "      <td>0.3055</td>\n",
              "      <td>0.4159</td>\n",
              "      <td>0.21120</td>\n",
              "      <td>0.2689</td>\n",
              "      <td>0.07055</td>\n",
              "      <td>0</td>\n",
              "    </tr>\n",
              "    <tr>\n",
              "      <th>3</th>\n",
              "      <td>15.710</td>\n",
              "      <td>13.93</td>\n",
              "      <td>102.00</td>\n",
              "      <td>761.7</td>\n",
              "      <td>0.09462</td>\n",
              "      <td>0.09462</td>\n",
              "      <td>0.07135</td>\n",
              "      <td>0.05933</td>\n",
              "      <td>0.1816</td>\n",
              "      <td>0.05723</td>\n",
              "      <td>...</td>\n",
              "      <td>19.25</td>\n",
              "      <td>114.30</td>\n",
              "      <td>922.8</td>\n",
              "      <td>0.1223</td>\n",
              "      <td>0.1949</td>\n",
              "      <td>0.1709</td>\n",
              "      <td>0.13740</td>\n",
              "      <td>0.2723</td>\n",
              "      <td>0.07071</td>\n",
              "      <td>1</td>\n",
              "    </tr>\n",
              "    <tr>\n",
              "      <th>4</th>\n",
              "      <td>9.667</td>\n",
              "      <td>18.49</td>\n",
              "      <td>61.49</td>\n",
              "      <td>289.1</td>\n",
              "      <td>0.08946</td>\n",
              "      <td>0.06258</td>\n",
              "      <td>0.02948</td>\n",
              "      <td>0.01514</td>\n",
              "      <td>0.2238</td>\n",
              "      <td>0.06413</td>\n",
              "      <td>...</td>\n",
              "      <td>25.62</td>\n",
              "      <td>70.88</td>\n",
              "      <td>385.2</td>\n",
              "      <td>0.1234</td>\n",
              "      <td>0.1542</td>\n",
              "      <td>0.1277</td>\n",
              "      <td>0.06560</td>\n",
              "      <td>0.3174</td>\n",
              "      <td>0.08524</td>\n",
              "      <td>1</td>\n",
              "    </tr>\n",
              "  </tbody>\n",
              "</table>\n",
              "<p>5 rows × 31 columns</p>\n",
              "</div>\n",
              "      <button class=\"colab-df-convert\" onclick=\"convertToInteractive('df-f1b89a2a-9427-4f88-9802-19bd1551aeb4')\"\n",
              "              title=\"Convert this dataframe to an interactive table.\"\n",
              "              style=\"display:none;\">\n",
              "        \n",
              "  <svg xmlns=\"http://www.w3.org/2000/svg\" height=\"24px\"viewBox=\"0 0 24 24\"\n",
              "       width=\"24px\">\n",
              "    <path d=\"M0 0h24v24H0V0z\" fill=\"none\"/>\n",
              "    <path d=\"M18.56 5.44l.94 2.06.94-2.06 2.06-.94-2.06-.94-.94-2.06-.94 2.06-2.06.94zm-11 1L8.5 8.5l.94-2.06 2.06-.94-2.06-.94L8.5 2.5l-.94 2.06-2.06.94zm10 10l.94 2.06.94-2.06 2.06-.94-2.06-.94-.94-2.06-.94 2.06-2.06.94z\"/><path d=\"M17.41 7.96l-1.37-1.37c-.4-.4-.92-.59-1.43-.59-.52 0-1.04.2-1.43.59L10.3 9.45l-7.72 7.72c-.78.78-.78 2.05 0 2.83L4 21.41c.39.39.9.59 1.41.59.51 0 1.02-.2 1.41-.59l7.78-7.78 2.81-2.81c.8-.78.8-2.07 0-2.86zM5.41 20L4 18.59l7.72-7.72 1.47 1.35L5.41 20z\"/>\n",
              "  </svg>\n",
              "      </button>\n",
              "      \n",
              "  <style>\n",
              "    .colab-df-container {\n",
              "      display:flex;\n",
              "      flex-wrap:wrap;\n",
              "      gap: 12px;\n",
              "    }\n",
              "\n",
              "    .colab-df-convert {\n",
              "      background-color: #E8F0FE;\n",
              "      border: none;\n",
              "      border-radius: 50%;\n",
              "      cursor: pointer;\n",
              "      display: none;\n",
              "      fill: #1967D2;\n",
              "      height: 32px;\n",
              "      padding: 0 0 0 0;\n",
              "      width: 32px;\n",
              "    }\n",
              "\n",
              "    .colab-df-convert:hover {\n",
              "      background-color: #E2EBFA;\n",
              "      box-shadow: 0px 1px 2px rgba(60, 64, 67, 0.3), 0px 1px 3px 1px rgba(60, 64, 67, 0.15);\n",
              "      fill: #174EA6;\n",
              "    }\n",
              "\n",
              "    [theme=dark] .colab-df-convert {\n",
              "      background-color: #3B4455;\n",
              "      fill: #D2E3FC;\n",
              "    }\n",
              "\n",
              "    [theme=dark] .colab-df-convert:hover {\n",
              "      background-color: #434B5C;\n",
              "      box-shadow: 0px 1px 3px 1px rgba(0, 0, 0, 0.15);\n",
              "      filter: drop-shadow(0px 1px 2px rgba(0, 0, 0, 0.3));\n",
              "      fill: #FFFFFF;\n",
              "    }\n",
              "  </style>\n",
              "\n",
              "      <script>\n",
              "        const buttonEl =\n",
              "          document.querySelector('#df-f1b89a2a-9427-4f88-9802-19bd1551aeb4 button.colab-df-convert');\n",
              "        buttonEl.style.display =\n",
              "          google.colab.kernel.accessAllowed ? 'block' : 'none';\n",
              "\n",
              "        async function convertToInteractive(key) {\n",
              "          const element = document.querySelector('#df-f1b89a2a-9427-4f88-9802-19bd1551aeb4');\n",
              "          const dataTable =\n",
              "            await google.colab.kernel.invokeFunction('convertToInteractive',\n",
              "                                                     [key], {});\n",
              "          if (!dataTable) return;\n",
              "\n",
              "          const docLinkHtml = 'Like what you see? Visit the ' +\n",
              "            '<a target=\"_blank\" href=https://colab.research.google.com/notebooks/data_table.ipynb>data table notebook</a>'\n",
              "            + ' to learn more about interactive tables.';\n",
              "          element.innerHTML = '';\n",
              "          dataTable['output_type'] = 'display_data';\n",
              "          await google.colab.output.renderOutput(dataTable, element);\n",
              "          const docLink = document.createElement('div');\n",
              "          docLink.innerHTML = docLinkHtml;\n",
              "          element.appendChild(docLink);\n",
              "        }\n",
              "      </script>\n",
              "    </div>\n",
              "  </div>\n",
              "  "
            ]
          },
          "metadata": {},
          "execution_count": 192
        }
      ]
    },
    {
      "cell_type": "code",
      "source": [
        "plt.figure(figsize = (10,8))\n",
        "plt.scatter(df_resampled['mean_radius'], df_resampled['mean_texture'], c = df_resampled['diagnosis'], s= 20)\n",
        "plt.xlabel('mean_radius'); plt.ylabel('mean_texture')\n",
        "plt.show()"
      ],
      "metadata": {
        "colab": {
          "base_uri": "https://localhost:8080/",
          "height": 498
        },
        "id": "U4RW_CIHBpN6",
        "outputId": "6258e236-8a3f-49f5-a8ef-19c4e1b8411c"
      },
      "execution_count": 193,
      "outputs": [
        {
          "output_type": "display_data",
          "data": {
            "text/plain": [
              "<Figure size 720x576 with 1 Axes>"
            ],
            "image/png": "[encoded data removed]"
          },
          "metadata": {
            "needs_background": "light"
          }
        }
      ]
    },
    {
      "cell_type": "markdown",
      "source": [
        "양성인 데이터와 음성인 데이터가 균형있게 잘 분포되어 있는 것을 확인할 수 있다."
      ],
      "metadata": {
        "id": "3dx8VnPFByjT"
      }
    },
    {
      "cell_type": "markdown",
      "source": [
        "### **데이터 구성하기 : 데이터 분할하기**"
      ],
      "metadata": {
        "id": "OqReYkyymrwC"
      }
    },
    {
      "cell_type": "code",
      "source": [
        "# df_raw_x = df_raw.drop('diagnosis',axis = 1)\n",
        "# df_raw_y = df_raw['diagnosis']\n",
        "\n",
        "df_raw_x = df_resampled.drop('diagnosis',axis = 1)\n",
        "df_raw_y = df_resampled['diagnosis']"
      ],
      "metadata": {
        "id": "Xcreia9upXpu"
      },
      "execution_count": 194,
      "outputs": []
    },
    {
      "cell_type": "code",
      "source": [
        "print(df_raw_x.shape)\n",
        "df_raw_x.head()"
      ],
      "metadata": {
        "colab": {
          "base_uri": "https://localhost:8080/",
          "height": 318
        },
        "id": "OYjr1YO0l6e7",
        "outputId": "36b4d1e6-d357-4822-d79f-deda6a055f68"
      },
      "execution_count": 195,
      "outputs": [
        {
          "output_type": "stream",
          "name": "stdout",
          "text": [
            "(230, 30)\n"
          ]
        },
        {
          "output_type": "execute_result",
          "data": {
            "text/plain": [
              "   mean_radius  mean_texture  mean_perimeter  mean_area  mean_smoothness  \\\n",
              "0       13.150         15.34           85.31      538.9          0.09384   \n",
              "1       15.750         19.22          107.10      758.6          0.12430   \n",
              "2       20.640         17.35          134.80     1335.0          0.09446   \n",
              "3       15.710         13.93          102.00      761.7          0.09462   \n",
              "4        9.667         18.49           61.49      289.1          0.08946   \n",
              "\n",
              "   mean_compactness  mean_concavity  mean_concave_points  mean_symmetry  \\\n",
              "0           0.08498         0.09293              0.03483         0.1822   \n",
              "1           0.23640         0.29140              0.12420         0.2375   \n",
              "2           0.10760         0.15270              0.08941         0.1571   \n",
              "3           0.09462         0.07135              0.05933         0.1816   \n",
              "4           0.06258         0.02948              0.01514         0.2238   \n",
              "\n",
              "   mean_fractal_dimension  ...  worst_radius  worst_texture  worst_perimeter  \\\n",
              "0                 0.06207  ...         14.77          20.50            97.67   \n",
              "1                 0.07603  ...         17.36          24.17           119.40   \n",
              "2                 0.05478  ...         25.37          23.17           166.80   \n",
              "3                 0.05723  ...         17.50          19.25           114.30   \n",
              "4                 0.06413  ...         11.14          25.62            70.88   \n",
              "\n",
              "   worst_area  worst_smoothness  worst_compactness  worst_concavity  \\\n",
              "0       677.3            0.1478             0.2256           0.3009   \n",
              "1       915.3            0.1550             0.5046           0.6872   \n",
              "2      1946.0            0.1562             0.3055           0.4159   \n",
              "3       922.8            0.1223             0.1949           0.1709   \n",
              "4       385.2            0.1234             0.1542           0.1277   \n",
              "\n",
              "   worst_concave_points  worst_symmetry  worst_fractal_dimension  \n",
              "0               0.09722          0.3849                  0.08633  \n",
              "1               0.21350          0.4245                  0.10500  \n",
              "2               0.21120          0.2689                  0.07055  \n",
              "3               0.13740          0.2723                  0.07071  \n",
              "4               0.06560          0.3174                  0.08524  \n",
              "\n",
              "[5 rows x 30 columns]"
            ],
            "text/html": [
              "\n",
              "  <div id=\"df-cebb37ac-0b6c-40d1-a0c2-8ede7f94110d\">\n",
              "    <div class=\"colab-df-container\">\n",
              "      <div>\n",
              "<style scoped>\n",
              "    .dataframe tbody tr th:only-of-type {\n",
              "        vertical-align: middle;\n",
              "    }\n",
              "\n",
              "    .dataframe tbody tr th {\n",
              "        vertical-align: top;\n",
              "    }\n",
              "\n",
              "    .dataframe thead th {\n",
              "        text-align: right;\n",
              "    }\n",
              "</style>\n",
              "<table border=\"1\" class=\"dataframe\">\n",
              "  <thead>\n",
              "    <tr style=\"text-align: right;\">\n",
              "      <th></th>\n",
              "      <th>mean_radius</th>\n",
              "      <th>mean_texture</th>\n",
              "      <th>mean_perimeter</th>\n",
              "      <th>mean_area</th>\n",
              "      <th>mean_smoothness</th>\n",
              "      <th>mean_compactness</th>\n",
              "      <th>mean_concavity</th>\n",
              "      <th>mean_concave_points</th>\n",
              "      <th>mean_symmetry</th>\n",
              "      <th>mean_fractal_dimension</th>\n",
              "      <th>...</th>\n",
              "      <th>worst_radius</th>\n",
              "      <th>worst_texture</th>\n",
              "      <th>worst_perimeter</th>\n",
              "      <th>worst_area</th>\n",
              "      <th>worst_smoothness</th>\n",
              "      <th>worst_compactness</th>\n",
              "      <th>worst_concavity</th>\n",
              "      <th>worst_concave_points</th>\n",
              "      <th>worst_symmetry</th>\n",
              "      <th>worst_fractal_dimension</th>\n",
              "    </tr>\n",
              "  </thead>\n",
              "  <tbody>\n",
              "    <tr>\n",
              "      <th>0</th>\n",
              "      <td>13.150</td>\n",
              "      <td>15.34</td>\n",
              "      <td>85.31</td>\n",
              "      <td>538.9</td>\n",
              "      <td>0.09384</td>\n",
              "      <td>0.08498</td>\n",
              "      <td>0.09293</td>\n",
              "      <td>0.03483</td>\n",
              "      <td>0.1822</td>\n",
              "      <td>0.06207</td>\n",
              "      <td>...</td>\n",
              "      <td>14.77</td>\n",
              "      <td>20.50</td>\n",
              "      <td>97.67</td>\n",
              "      <td>677.3</td>\n",
              "      <td>0.1478</td>\n",
              "      <td>0.2256</td>\n",
              "      <td>0.3009</td>\n",
              "      <td>0.09722</td>\n",
              "      <td>0.3849</td>\n",
              "      <td>0.08633</td>\n",
              "    </tr>\n",
              "    <tr>\n",
              "      <th>1</th>\n",
              "      <td>15.750</td>\n",
              "      <td>19.22</td>\n",
              "      <td>107.10</td>\n",
              "      <td>758.6</td>\n",
              "      <td>0.12430</td>\n",
              "      <td>0.23640</td>\n",
              "      <td>0.29140</td>\n",
              "      <td>0.12420</td>\n",
              "      <td>0.2375</td>\n",
              "      <td>0.07603</td>\n",
              "      <td>...</td>\n",
              "      <td>17.36</td>\n",
              "      <td>24.17</td>\n",
              "      <td>119.40</td>\n",
              "      <td>915.3</td>\n",
              "      <td>0.1550</td>\n",
              "      <td>0.5046</td>\n",
              "      <td>0.6872</td>\n",
              "      <td>0.21350</td>\n",
              "      <td>0.4245</td>\n",
              "      <td>0.10500</td>\n",
              "    </tr>\n",
              "    <tr>\n",
              "      <th>2</th>\n",
              "      <td>20.640</td>\n",
              "      <td>17.35</td>\n",
              "      <td>134.80</td>\n",
              "      <td>1335.0</td>\n",
              "      <td>0.09446</td>\n",
              "      <td>0.10760</td>\n",
              "      <td>0.15270</td>\n",
              "      <td>0.08941</td>\n",
              "      <td>0.1571</td>\n",
              "      <td>0.05478</td>\n",
              "      <td>...</td>\n",
              "      <td>25.37</td>\n",
              "      <td>23.17</td>\n",
              "      <td>166.80</td>\n",
              "      <td>1946.0</td>\n",
              "      <td>0.1562</td>\n",
              "      <td>0.3055</td>\n",
              "      <td>0.4159</td>\n",
              "      <td>0.21120</td>\n",
              "      <td>0.2689</td>\n",
              "      <td>0.07055</td>\n",
              "    </tr>\n",
              "    <tr>\n",
              "      <th>3</th>\n",
              "      <td>15.710</td>\n",
              "      <td>13.93</td>\n",
              "      <td>102.00</td>\n",
              "      <td>761.7</td>\n",
              "      <td>0.09462</td>\n",
              "      <td>0.09462</td>\n",
              "      <td>0.07135</td>\n",
              "      <td>0.05933</td>\n",
              "      <td>0.1816</td>\n",
              "      <td>0.05723</td>\n",
              "      <td>...</td>\n",
              "      <td>17.50</td>\n",
              "      <td>19.25</td>\n",
              "      <td>114.30</td>\n",
              "      <td>922.8</td>\n",
              "      <td>0.1223</td>\n",
              "      <td>0.1949</td>\n",
              "      <td>0.1709</td>\n",
              "      <td>0.13740</td>\n",
              "      <td>0.2723</td>\n",
              "      <td>0.07071</td>\n",
              "    </tr>\n",
              "    <tr>\n",
              "      <th>4</th>\n",
              "      <td>9.667</td>\n",
              "      <td>18.49</td>\n",
              "      <td>61.49</td>\n",
              "      <td>289.1</td>\n",
              "      <td>0.08946</td>\n",
              "      <td>0.06258</td>\n",
              "      <td>0.02948</td>\n",
              "      <td>0.01514</td>\n",
              "      <td>0.2238</td>\n",
              "      <td>0.06413</td>\n",
              "      <td>...</td>\n",
              "      <td>11.14</td>\n",
              "      <td>25.62</td>\n",
              "      <td>70.88</td>\n",
              "      <td>385.2</td>\n",
              "      <td>0.1234</td>\n",
              "      <td>0.1542</td>\n",
              "      <td>0.1277</td>\n",
              "      <td>0.06560</td>\n",
              "      <td>0.3174</td>\n",
              "      <td>0.08524</td>\n",
              "    </tr>\n",
              "  </tbody>\n",
              "</table>\n",
              "<p>5 rows × 30 columns</p>\n",
              "</div>\n",
              "      <button class=\"colab-df-convert\" onclick=\"convertToInteractive('df-cebb37ac-0b6c-40d1-a0c2-8ede7f94110d')\"\n",
              "              title=\"Convert this dataframe to an interactive table.\"\n",
              "              style=\"display:none;\">\n",
              "        \n",
              "  <svg xmlns=\"http://www.w3.org/2000/svg\" height=\"24px\"viewBox=\"0 0 24 24\"\n",
              "       width=\"24px\">\n",
              "    <path d=\"M0 0h24v24H0V0z\" fill=\"none\"/>\n",
              "    <path d=\"M18.56 5.44l.94 2.06.94-2.06 2.06-.94-2.06-.94-.94-2.06-.94 2.06-2.06.94zm-11 1L8.5 8.5l.94-2.06 2.06-.94-2.06-.94L8.5 2.5l-.94 2.06-2.06.94zm10 10l.94 2.06.94-2.06 2.06-.94-2.06-.94-.94-2.06-.94 2.06-2.06.94z\"/><path d=\"M17.41 7.96l-1.37-1.37c-.4-.4-.92-.59-1.43-.59-.52 0-1.04.2-1.43.59L10.3 9.45l-7.72 7.72c-.78.78-.78 2.05 0 2.83L4 21.41c.39.39.9.59 1.41.59.51 0 1.02-.2 1.41-.59l7.78-7.78 2.81-2.81c.8-.78.8-2.07 0-2.86zM5.41 20L4 18.59l7.72-7.72 1.47 1.35L5.41 20z\"/>\n",
              "  </svg>\n",
              "      </button>\n",
              "      \n",
              "  <style>\n",
              "    .colab-df-container {\n",
              "      display:flex;\n",
              "      flex-wrap:wrap;\n",
              "      gap: 12px;\n",
              "    }\n",
              "\n",
              "    .colab-df-convert {\n",
              "      background-color: #E8F0FE;\n",
              "      border: none;\n",
              "      border-radius: 50%;\n",
              "      cursor: pointer;\n",
              "      display: none;\n",
              "      fill: #1967D2;\n",
              "      height: 32px;\n",
              "      padding: 0 0 0 0;\n",
              "      width: 32px;\n",
              "    }\n",
              "\n",
              "    .colab-df-convert:hover {\n",
              "      background-color: #E2EBFA;\n",
              "      box-shadow: 0px 1px 2px rgba(60, 64, 67, 0.3), 0px 1px 3px 1px rgba(60, 64, 67, 0.15);\n",
              "      fill: #174EA6;\n",
              "    }\n",
              "\n",
              "    [theme=dark] .colab-df-convert {\n",
              "      background-color: #3B4455;\n",
              "      fill: #D2E3FC;\n",
              "    }\n",
              "\n",
              "    [theme=dark] .colab-df-convert:hover {\n",
              "      background-color: #434B5C;\n",
              "      box-shadow: 0px 1px 3px 1px rgba(0, 0, 0, 0.15);\n",
              "      filter: drop-shadow(0px 1px 2px rgba(0, 0, 0, 0.3));\n",
              "      fill: #FFFFFF;\n",
              "    }\n",
              "  </style>\n",
              "\n",
              "      <script>\n",
              "        const buttonEl =\n",
              "          document.querySelector('#df-cebb37ac-0b6c-40d1-a0c2-8ede7f94110d button.colab-df-convert');\n",
              "        buttonEl.style.display =\n",
              "          google.colab.kernel.accessAllowed ? 'block' : 'none';\n",
              "\n",
              "        async function convertToInteractive(key) {\n",
              "          const element = document.querySelector('#df-cebb37ac-0b6c-40d1-a0c2-8ede7f94110d');\n",
              "          const dataTable =\n",
              "            await google.colab.kernel.invokeFunction('convertToInteractive',\n",
              "                                                     [key], {});\n",
              "          if (!dataTable) return;\n",
              "\n",
              "          const docLinkHtml = 'Like what you see? Visit the ' +\n",
              "            '<a target=\"_blank\" href=https://colab.research.google.com/notebooks/data_table.ipynb>data table notebook</a>'\n",
              "            + ' to learn more about interactive tables.';\n",
              "          element.innerHTML = '';\n",
              "          dataTable['output_type'] = 'display_data';\n",
              "          await google.colab.output.renderOutput(dataTable, element);\n",
              "          const docLink = document.createElement('div');\n",
              "          docLink.innerHTML = docLinkHtml;\n",
              "          element.appendChild(docLink);\n",
              "        }\n",
              "      </script>\n",
              "    </div>\n",
              "  </div>\n",
              "  "
            ]
          },
          "metadata": {},
          "execution_count": 195
        }
      ]
    },
    {
      "cell_type": "code",
      "source": [
        "df_train_x, df_test_x, df_train_y, df_test_y = train_test_split(df_raw_x, \n",
        "                                                                df_raw_y, \n",
        "                                                                test_size = 0.4, \n",
        "                                                                random_state = 1234)\n",
        "\n",
        "print('df_train_x size : {}'.format(df_train_x.shape))\n",
        "print('df_test_x size : {}'.format(df_test_x.shape))\n",
        "print('df_train_y size : {}'.format(df_train_y.shape))\n",
        "print('df_test_y size : {}'.format(df_test_y.shape))"
      ],
      "metadata": {
        "colab": {
          "base_uri": "https://localhost:8080/"
        },
        "id": "dp5JDfozpXrp",
        "outputId": "d7b2dd78-d888-4e47-dbc1-6234bd64b59f"
      },
      "execution_count": 97,
      "outputs": [
        {
          "output_type": "stream",
          "name": "stdout",
          "text": [
            "df_train_x size : (192, 30)\n",
            "df_test_x size : (128, 30)\n",
            "df_train_y size : (192,)\n",
            "df_test_y size : (128,)\n"
          ]
        }
      ]
    },
    {
      "cell_type": "markdown",
      "source": [
        "Over-sampling한 데이터셋 df_resampled를 train : test = 6 : 4 로 분할한다."
      ],
      "metadata": {
        "id": "flQT_sx-CHbW"
      }
    },
    {
      "cell_type": "markdown",
      "source": [
        "### **모델 생성하기**"
      ],
      "metadata": {
        "id": "zJgkP5fOpeO9"
      }
    },
    {
      "cell_type": "code",
      "source": [
        "tree_uncustomized = DecisionTreeClassifier(random_state = 1234)\n",
        "tree_uncustomized.fit(df_train_x, df_train_y)\n",
        "\n",
        "print('Accuracy on training set : {:.3f}'.format(tree_uncustomized.score(df_train_x, df_train_y)))\n",
        "print('Accuracy on test set : {:.3f}'.format(tree_uncustomized.score(df_test_x, df_test_y)))"
      ],
      "metadata": {
        "colab": {
          "base_uri": "https://localhost:8080/"
        },
        "id": "kK7VXYREpX1v",
        "outputId": "dab140d3-77c2-44ec-a45e-7550abe7f96e"
      },
      "execution_count": 196,
      "outputs": [
        {
          "output_type": "stream",
          "name": "stdout",
          "text": [
            "Accuracy on training set : 1.000\n",
            "Accuracy on test set : 0.883\n"
          ]
        }
      ]
    },
    {
      "cell_type": "markdown",
      "source": [
        "만들어진 의사결정나무 모델은 train과 test 데이터에 대해 각각 100%, 88.3%의 설명력을 갖는다. train 데이터에 있어서 과대적합되는 현상이 일어난 것으로 보인다."
      ],
      "metadata": {
        "id": "FLCh4tDPp1bE"
      }
    },
    {
      "cell_type": "markdown",
      "source": [
        "### **모델 파라미터 설정하기 : max_depth**"
      ],
      "metadata": {
        "id": "mDPR2HXzqEDk"
      }
    },
    {
      "cell_type": "code",
      "source": [
        "train_accuracy = []; test_accuracy = []\n",
        "para_depth = [depth for depth in range(1,11)]\n",
        "\n",
        "for v_max_depth in para_depth :\n",
        "    tree = DecisionTreeClassifier(random_state = 1234,\n",
        "                                  max_depth = v_max_depth)\n",
        "    tree.fit(df_train_x, df_train_y)\n",
        "    train_accuracy.append(tree.score(df_train_x, df_train_y))\n",
        "    test_accuracy.append(tree.score(df_test_x, df_test_y))\n",
        "\n",
        "df_accuracy_depth = pd.DataFrame()\n",
        "df_accuracy_depth['Depth'] = para_depth\n",
        "df_accuracy_depth['TrainScore'] = train_accuracy\n",
        "df_accuracy_depth['TestScore'] = test_accuracy"
      ],
      "metadata": {
        "id": "otabHLWBpX4v"
      },
      "execution_count": 197,
      "outputs": []
    },
    {
      "cell_type": "code",
      "source": [
        "df_accuracy_depth.round(3)"
      ],
      "metadata": {
        "colab": {
          "base_uri": "https://localhost:8080/",
          "height": 363
        },
        "id": "MtYfmHajpX6z",
        "outputId": "4425ea81-ce5c-4e3f-db1f-259d33759949"
      },
      "execution_count": 198,
      "outputs": [
        {
          "output_type": "execute_result",
          "data": {
            "text/plain": [
              "   Depth  TrainScore  TestScore\n",
              "0      1       0.932      0.852\n",
              "1      2       0.979      0.875\n",
              "2      3       0.995      0.875\n",
              "3      4       1.000      0.883\n",
              "4      5       1.000      0.883\n",
              "5      6       1.000      0.883\n",
              "6      7       1.000      0.883\n",
              "7      8       1.000      0.883\n",
              "8      9       1.000      0.883\n",
              "9     10       1.000      0.883"
            ],
            "text/html": [
              "\n",
              "  <div id=\"df-950791af-eb3b-46e9-b4f6-ab2dade2b123\">\n",
              "    <div class=\"colab-df-container\">\n",
              "      <div>\n",
              "<style scoped>\n",
              "    .dataframe tbody tr th:only-of-type {\n",
              "        vertical-align: middle;\n",
              "    }\n",
              "\n",
              "    .dataframe tbody tr th {\n",
              "        vertical-align: top;\n",
              "    }\n",
              "\n",
              "    .dataframe thead th {\n",
              "        text-align: right;\n",
              "    }\n",
              "</style>\n",
              "<table border=\"1\" class=\"dataframe\">\n",
              "  <thead>\n",
              "    <tr style=\"text-align: right;\">\n",
              "      <th></th>\n",
              "      <th>Depth</th>\n",
              "      <th>TrainScore</th>\n",
              "      <th>TestScore</th>\n",
              "    </tr>\n",
              "  </thead>\n",
              "  <tbody>\n",
              "    <tr>\n",
              "      <th>0</th>\n",
              "      <td>1</td>\n",
              "      <td>0.932</td>\n",
              "      <td>0.852</td>\n",
              "    </tr>\n",
              "    <tr>\n",
              "      <th>1</th>\n",
              "      <td>2</td>\n",
              "      <td>0.979</td>\n",
              "      <td>0.875</td>\n",
              "    </tr>\n",
              "    <tr>\n",
              "      <th>2</th>\n",
              "      <td>3</td>\n",
              "      <td>0.995</td>\n",
              "      <td>0.875</td>\n",
              "    </tr>\n",
              "    <tr>\n",
              "      <th>3</th>\n",
              "      <td>4</td>\n",
              "      <td>1.000</td>\n",
              "      <td>0.883</td>\n",
              "    </tr>\n",
              "    <tr>\n",
              "      <th>4</th>\n",
              "      <td>5</td>\n",
              "      <td>1.000</td>\n",
              "      <td>0.883</td>\n",
              "    </tr>\n",
              "    <tr>\n",
              "      <th>5</th>\n",
              "      <td>6</td>\n",
              "      <td>1.000</td>\n",
              "      <td>0.883</td>\n",
              "    </tr>\n",
              "    <tr>\n",
              "      <th>6</th>\n",
              "      <td>7</td>\n",
              "      <td>1.000</td>\n",
              "      <td>0.883</td>\n",
              "    </tr>\n",
              "    <tr>\n",
              "      <th>7</th>\n",
              "      <td>8</td>\n",
              "      <td>1.000</td>\n",
              "      <td>0.883</td>\n",
              "    </tr>\n",
              "    <tr>\n",
              "      <th>8</th>\n",
              "      <td>9</td>\n",
              "      <td>1.000</td>\n",
              "      <td>0.883</td>\n",
              "    </tr>\n",
              "    <tr>\n",
              "      <th>9</th>\n",
              "      <td>10</td>\n",
              "      <td>1.000</td>\n",
              "      <td>0.883</td>\n",
              "    </tr>\n",
              "  </tbody>\n",
              "</table>\n",
              "</div>\n",
              "      <button class=\"colab-df-convert\" onclick=\"convertToInteractive('df-950791af-eb3b-46e9-b4f6-ab2dade2b123')\"\n",
              "              title=\"Convert this dataframe to an interactive table.\"\n",
              "              style=\"display:none;\">\n",
              "        \n",
              "  <svg xmlns=\"http://www.w3.org/2000/svg\" height=\"24px\"viewBox=\"0 0 24 24\"\n",
              "       width=\"24px\">\n",
              "    <path d=\"M0 0h24v24H0V0z\" fill=\"none\"/>\n",
              "    <path d=\"M18.56 5.44l.94 2.06.94-2.06 2.06-.94-2.06-.94-.94-2.06-.94 2.06-2.06.94zm-11 1L8.5 8.5l.94-2.06 2.06-.94-2.06-.94L8.5 2.5l-.94 2.06-2.06.94zm10 10l.94 2.06.94-2.06 2.06-.94-2.06-.94-.94-2.06-.94 2.06-2.06.94z\"/><path d=\"M17.41 7.96l-1.37-1.37c-.4-.4-.92-.59-1.43-.59-.52 0-1.04.2-1.43.59L10.3 9.45l-7.72 7.72c-.78.78-.78 2.05 0 2.83L4 21.41c.39.39.9.59 1.41.59.51 0 1.02-.2 1.41-.59l7.78-7.78 2.81-2.81c.8-.78.8-2.07 0-2.86zM5.41 20L4 18.59l7.72-7.72 1.47 1.35L5.41 20z\"/>\n",
              "  </svg>\n",
              "      </button>\n",
              "      \n",
              "  <style>\n",
              "    .colab-df-container {\n",
              "      display:flex;\n",
              "      flex-wrap:wrap;\n",
              "      gap: 12px;\n",
              "    }\n",
              "\n",
              "    .colab-df-convert {\n",
              "      background-color: #E8F0FE;\n",
              "      border: none;\n",
              "      border-radius: 50%;\n",
              "      cursor: pointer;\n",
              "      display: none;\n",
              "      fill: #1967D2;\n",
              "      height: 32px;\n",
              "      padding: 0 0 0 0;\n",
              "      width: 32px;\n",
              "    }\n",
              "\n",
              "    .colab-df-convert:hover {\n",
              "      background-color: #E2EBFA;\n",
              "      box-shadow: 0px 1px 2px rgba(60, 64, 67, 0.3), 0px 1px 3px 1px rgba(60, 64, 67, 0.15);\n",
              "      fill: #174EA6;\n",
              "    }\n",
              "\n",
              "    [theme=dark] .colab-df-convert {\n",
              "      background-color: #3B4455;\n",
              "      fill: #D2E3FC;\n",
              "    }\n",
              "\n",
              "    [theme=dark] .colab-df-convert:hover {\n",
              "      background-color: #434B5C;\n",
              "      box-shadow: 0px 1px 3px 1px rgba(0, 0, 0, 0.15);\n",
              "      filter: drop-shadow(0px 1px 2px rgba(0, 0, 0, 0.3));\n",
              "      fill: #FFFFFF;\n",
              "    }\n",
              "  </style>\n",
              "\n",
              "      <script>\n",
              "        const buttonEl =\n",
              "          document.querySelector('#df-950791af-eb3b-46e9-b4f6-ab2dade2b123 button.colab-df-convert');\n",
              "        buttonEl.style.display =\n",
              "          google.colab.kernel.accessAllowed ? 'block' : 'none';\n",
              "\n",
              "        async function convertToInteractive(key) {\n",
              "          const element = document.querySelector('#df-950791af-eb3b-46e9-b4f6-ab2dade2b123');\n",
              "          const dataTable =\n",
              "            await google.colab.kernel.invokeFunction('convertToInteractive',\n",
              "                                                     [key], {});\n",
              "          if (!dataTable) return;\n",
              "\n",
              "          const docLinkHtml = 'Like what you see? Visit the ' +\n",
              "            '<a target=\"_blank\" href=https://colab.research.google.com/notebooks/data_table.ipynb>data table notebook</a>'\n",
              "            + ' to learn more about interactive tables.';\n",
              "          element.innerHTML = '';\n",
              "          dataTable['output_type'] = 'display_data';\n",
              "          await google.colab.output.renderOutput(dataTable, element);\n",
              "          const docLink = document.createElement('div');\n",
              "          docLink.innerHTML = docLinkHtml;\n",
              "          element.appendChild(docLink);\n",
              "        }\n",
              "      </script>\n",
              "    </div>\n",
              "  </div>\n",
              "  "
            ]
          },
          "metadata": {},
          "execution_count": 198
        }
      ]
    },
    {
      "cell_type": "code",
      "source": [
        "plt.plot(para_depth, train_accuracy, linestyle = '-', label = 'Train Accuracy')\n",
        "plt.plot(para_depth, test_accuracy, linestyle = '-', label = 'Test Accuracy')\n",
        "plt.ylabel('Accuracy'); plt.xlabel('MaxDepth')\n",
        "plt.legend()"
      ],
      "metadata": {
        "colab": {
          "base_uri": "https://localhost:8080/",
          "height": 297
        },
        "id": "tTp53_H4pX9C",
        "outputId": "164aa692-85ea-4f77-b013-a574fdfff107"
      },
      "execution_count": 199,
      "outputs": [
        {
          "output_type": "execute_result",
          "data": {
            "text/plain": [
              "<matplotlib.legend.Legend at 0x7f169b9533d0>"
            ]
          },
          "metadata": {},
          "execution_count": 199
        },
        {
          "output_type": "display_data",
          "data": {
            "text/plain": [
              "<Figure size 432x288 with 1 Axes>"
            ],
            "image/png": "[encoded data removed]"
          },
          "metadata": {
            "needs_background": "light"
          }
        }
      ]
    },
    {
      "cell_type": "markdown",
      "source": [
        "- 모델의 최대 깊이가 증가하면서 모델의 성능이 향상되지만, 5 이후로는 모델 성능에 변화가 없다.\n",
        "- TestScore가 0.883이고 TrainScore가 1.000인 **max_depth = 4**를 파라미터로 설정한다. "
      ],
      "metadata": {
        "id": "LU9k6vKiqt3g"
      }
    },
    {
      "cell_type": "markdown",
      "source": [
        "### **모델 파라미터 설정하기 : min_samples_split**"
      ],
      "metadata": {
        "id": "O0mdfvMprMZI"
      }
    },
    {
      "cell_type": "code",
      "source": [
        "train_accuracy = []; test_accuracy = []\n",
        "para_split = [n_split * 10 for n_split in range(1,11)]\n",
        "\n",
        "for v_min_samples_split in para_split :\n",
        "    tree = DecisionTreeClassifier(random_state = 1234,\n",
        "                                  max_depth = 4,\n",
        "                                  min_samples_split = v_min_samples_split)\n",
        "    tree.fit(df_train_x, df_train_y)\n",
        "    train_accuracy.append(tree.score(df_train_x, df_train_y))\n",
        "    test_accuracy.append(tree.score(df_test_x, df_test_y))\n",
        "\n",
        "df_accuracy_split = pd.DataFrame()\n",
        "df_accuracy_split['MinSampleSplit'] = para_split\n",
        "df_accuracy_split['TrainAccuracy'] = train_accuracy\n",
        "df_accuracy_split['TestAccuracy'] = test_accuracy"
      ],
      "metadata": {
        "id": "uT5mEh4FpK_z"
      },
      "execution_count": 200,
      "outputs": []
    },
    {
      "cell_type": "code",
      "source": [
        "df_accuracy_split.round(3)"
      ],
      "metadata": {
        "colab": {
          "base_uri": "https://localhost:8080/",
          "height": 363
        },
        "outputId": "b064de01-81ca-4e8b-cb00-0b1f914d1c60",
        "id": "f9qhlIMYpK_1"
      },
      "execution_count": 201,
      "outputs": [
        {
          "output_type": "execute_result",
          "data": {
            "text/plain": [
              "   MinSampleSplit  TrainAccuracy  TestAccuracy\n",
              "0              10          0.995         0.875\n",
              "1              20          0.995         0.875\n",
              "2              30          0.995         0.875\n",
              "3              40          0.995         0.875\n",
              "4              50          0.995         0.875\n",
              "5              60          0.995         0.875\n",
              "6              70          0.995         0.875\n",
              "7              80          0.984         0.867\n",
              "8              90          0.953         0.844\n",
              "9             100          0.953         0.844"
            ],
            "text/html": [
              "\n",
              "  <div id=\"df-b7bdeccb-0fc1-484f-9301-1a5460bb154c\">\n",
              "    <div class=\"colab-df-container\">\n",
              "      <div>\n",
              "<style scoped>\n",
              "    .dataframe tbody tr th:only-of-type {\n",
              "        vertical-align: middle;\n",
              "    }\n",
              "\n",
              "    .dataframe tbody tr th {\n",
              "        vertical-align: top;\n",
              "    }\n",
              "\n",
              "    .dataframe thead th {\n",
              "        text-align: right;\n",
              "    }\n",
              "</style>\n",
              "<table border=\"1\" class=\"dataframe\">\n",
              "  <thead>\n",
              "    <tr style=\"text-align: right;\">\n",
              "      <th></th>\n",
              "      <th>MinSampleSplit</th>\n",
              "      <th>TrainAccuracy</th>\n",
              "      <th>TestAccuracy</th>\n",
              "    </tr>\n",
              "  </thead>\n",
              "  <tbody>\n",
              "    <tr>\n",
              "      <th>0</th>\n",
              "      <td>10</td>\n",
              "      <td>0.995</td>\n",
              "      <td>0.875</td>\n",
              "    </tr>\n",
              "    <tr>\n",
              "      <th>1</th>\n",
              "      <td>20</td>\n",
              "      <td>0.995</td>\n",
              "      <td>0.875</td>\n",
              "    </tr>\n",
              "    <tr>\n",
              "      <th>2</th>\n",
              "      <td>30</td>\n",
              "      <td>0.995</td>\n",
              "      <td>0.875</td>\n",
              "    </tr>\n",
              "    <tr>\n",
              "      <th>3</th>\n",
              "      <td>40</td>\n",
              "      <td>0.995</td>\n",
              "      <td>0.875</td>\n",
              "    </tr>\n",
              "    <tr>\n",
              "      <th>4</th>\n",
              "      <td>50</td>\n",
              "      <td>0.995</td>\n",
              "      <td>0.875</td>\n",
              "    </tr>\n",
              "    <tr>\n",
              "      <th>5</th>\n",
              "      <td>60</td>\n",
              "      <td>0.995</td>\n",
              "      <td>0.875</td>\n",
              "    </tr>\n",
              "    <tr>\n",
              "      <th>6</th>\n",
              "      <td>70</td>\n",
              "      <td>0.995</td>\n",
              "      <td>0.875</td>\n",
              "    </tr>\n",
              "    <tr>\n",
              "      <th>7</th>\n",
              "      <td>80</td>\n",
              "      <td>0.984</td>\n",
              "      <td>0.867</td>\n",
              "    </tr>\n",
              "    <tr>\n",
              "      <th>8</th>\n",
              "      <td>90</td>\n",
              "      <td>0.953</td>\n",
              "      <td>0.844</td>\n",
              "    </tr>\n",
              "    <tr>\n",
              "      <th>9</th>\n",
              "      <td>100</td>\n",
              "      <td>0.953</td>\n",
              "      <td>0.844</td>\n",
              "    </tr>\n",
              "  </tbody>\n",
              "</table>\n",
              "</div>\n",
              "      <button class=\"colab-df-convert\" onclick=\"convertToInteractive('df-b7bdeccb-0fc1-484f-9301-1a5460bb154c')\"\n",
              "              title=\"Convert this dataframe to an interactive table.\"\n",
              "              style=\"display:none;\">\n",
              "        \n",
              "  <svg xmlns=\"http://www.w3.org/2000/svg\" height=\"24px\"viewBox=\"0 0 24 24\"\n",
              "       width=\"24px\">\n",
              "    <path d=\"M0 0h24v24H0V0z\" fill=\"none\"/>\n",
              "    <path d=\"M18.56 5.44l.94 2.06.94-2.06 2.06-.94-2.06-.94-.94-2.06-.94 2.06-2.06.94zm-11 1L8.5 8.5l.94-2.06 2.06-.94-2.06-.94L8.5 2.5l-.94 2.06-2.06.94zm10 10l.94 2.06.94-2.06 2.06-.94-2.06-.94-.94-2.06-.94 2.06-2.06.94z\"/><path d=\"M17.41 7.96l-1.37-1.37c-.4-.4-.92-.59-1.43-.59-.52 0-1.04.2-1.43.59L10.3 9.45l-7.72 7.72c-.78.78-.78 2.05 0 2.83L4 21.41c.39.39.9.59 1.41.59.51 0 1.02-.2 1.41-.59l7.78-7.78 2.81-2.81c.8-.78.8-2.07 0-2.86zM5.41 20L4 18.59l7.72-7.72 1.47 1.35L5.41 20z\"/>\n",
              "  </svg>\n",
              "      </button>\n",
              "      \n",
              "  <style>\n",
              "    .colab-df-container {\n",
              "      display:flex;\n",
              "      flex-wrap:wrap;\n",
              "      gap: 12px;\n",
              "    }\n",
              "\n",
              "    .colab-df-convert {\n",
              "      background-color: #E8F0FE;\n",
              "      border: none;\n",
              "      border-radius: 50%;\n",
              "      cursor: pointer;\n",
              "      display: none;\n",
              "      fill: #1967D2;\n",
              "      height: 32px;\n",
              "      padding: 0 0 0 0;\n",
              "      width: 32px;\n",
              "    }\n",
              "\n",
              "    .colab-df-convert:hover {\n",
              "      background-color: #E2EBFA;\n",
              "      box-shadow: 0px 1px 2px rgba(60, 64, 67, 0.3), 0px 1px 3px 1px rgba(60, 64, 67, 0.15);\n",
              "      fill: #174EA6;\n",
              "    }\n",
              "\n",
              "    [theme=dark] .colab-df-convert {\n",
              "      background-color: #3B4455;\n",
              "      fill: #D2E3FC;\n",
              "    }\n",
              "\n",
              "    [theme=dark] .colab-df-convert:hover {\n",
              "      background-color: #434B5C;\n",
              "      box-shadow: 0px 1px 3px 1px rgba(0, 0, 0, 0.15);\n",
              "      filter: drop-shadow(0px 1px 2px rgba(0, 0, 0, 0.3));\n",
              "      fill: #FFFFFF;\n",
              "    }\n",
              "  </style>\n",
              "\n",
              "      <script>\n",
              "        const buttonEl =\n",
              "          document.querySelector('#df-b7bdeccb-0fc1-484f-9301-1a5460bb154c button.colab-df-convert');\n",
              "        buttonEl.style.display =\n",
              "          google.colab.kernel.accessAllowed ? 'block' : 'none';\n",
              "\n",
              "        async function convertToInteractive(key) {\n",
              "          const element = document.querySelector('#df-b7bdeccb-0fc1-484f-9301-1a5460bb154c');\n",
              "          const dataTable =\n",
              "            await google.colab.kernel.invokeFunction('convertToInteractive',\n",
              "                                                     [key], {});\n",
              "          if (!dataTable) return;\n",
              "\n",
              "          const docLinkHtml = 'Like what you see? Visit the ' +\n",
              "            '<a target=\"_blank\" href=https://colab.research.google.com/notebooks/data_table.ipynb>data table notebook</a>'\n",
              "            + ' to learn more about interactive tables.';\n",
              "          element.innerHTML = '';\n",
              "          dataTable['output_type'] = 'display_data';\n",
              "          await google.colab.output.renderOutput(dataTable, element);\n",
              "          const docLink = document.createElement('div');\n",
              "          docLink.innerHTML = docLinkHtml;\n",
              "          element.appendChild(docLink);\n",
              "        }\n",
              "      </script>\n",
              "    </div>\n",
              "  </div>\n",
              "  "
            ]
          },
          "metadata": {},
          "execution_count": 201
        }
      ]
    },
    {
      "cell_type": "code",
      "source": [
        "plt.plot(para_split, train_accuracy, linestyle = '-', label = 'Train Accuracy')\n",
        "plt.plot(para_split, test_accuracy, linestyle = '-', label = 'Test Accuracy')\n",
        "plt.ylabel('Accuracy'); plt.xlabel('MinSamplesSplit')\n",
        "plt.legend()"
      ],
      "metadata": {
        "colab": {
          "base_uri": "https://localhost:8080/",
          "height": 298
        },
        "outputId": "2e7c84bd-81c3-44de-cc5a-6f84564b6a78",
        "id": "X5FxXcHrpK_2"
      },
      "execution_count": 202,
      "outputs": [
        {
          "output_type": "execute_result",
          "data": {
            "text/plain": [
              "<matplotlib.legend.Legend at 0x7f169b28ead0>"
            ]
          },
          "metadata": {},
          "execution_count": 202
        },
        {
          "output_type": "display_data",
          "data": {
            "text/plain": [
              "<Figure size 432x288 with 1 Axes>"
            ],
            "image/png": "[encoded data removed]"
          },
          "metadata": {
            "needs_background": "light"
          }
        }
      ]
    },
    {
      "cell_type": "markdown",
      "source": [
        "- 분리 노드의 최소 샘플 수가 증가해도 모델의 성능에 변화가 없으며, 80을 넘어서는 순간 모델의 성능이 악화된다.\n",
        "- TestScore가 0.875이고 TrainScore가 0.995인 **min_samples_split = 10**를 파라미터로 설정한다. "
      ],
      "metadata": {
        "id": "lo6udc2TpK_4"
      }
    },
    {
      "cell_type": "markdown",
      "source": [
        "### **모델 파라미터 설정하기 : min_samples_leaf**"
      ],
      "metadata": {
        "id": "BY9Z2j7Hqr1Y"
      }
    },
    {
      "cell_type": "code",
      "source": [
        "train_accuracy = []; test_accuracy = []\n",
        "para_leaf = [n_leaf * 2 for n_leaf in range(1,11)]\n",
        "\n",
        "for v_min_samples_leaf in para_leaf :\n",
        "    tree = DecisionTreeClassifier(random_state = 1234,\n",
        "                                  max_depth = 4,\n",
        "                                  min_samples_split = 10,\n",
        "                                  min_samples_leaf = v_min_samples_leaf)\n",
        "    tree.fit(df_train_x, df_train_y)\n",
        "    train_accuracy.append(tree.score(df_train_x, df_train_y))\n",
        "    test_accuracy.append(tree.score(df_test_x, df_test_y))\n",
        "\n",
        "df_accuracy_leaf = pd.DataFrame()\n",
        "df_accuracy_leaf['MinSampleLeaf'] = para_leaf\n",
        "df_accuracy_leaf['TrainAccuracy'] = train_accuracy\n",
        "df_accuracy_leaf['TestAccuracy'] = test_accuracy"
      ],
      "metadata": {
        "id": "20M9i57mqr16"
      },
      "execution_count": 203,
      "outputs": []
    },
    {
      "cell_type": "code",
      "source": [
        "df_accuracy_leaf.round(3)"
      ],
      "metadata": {
        "colab": {
          "base_uri": "https://localhost:8080/",
          "height": 363
        },
        "outputId": "43b6f781-d2d7-4907-dd30-66f2d7175be2",
        "id": "XQWHP4s8qr17"
      },
      "execution_count": 204,
      "outputs": [
        {
          "output_type": "execute_result",
          "data": {
            "text/plain": [
              "   MinSampleLeaf  TrainAccuracy  TestAccuracy\n",
              "0              2          0.995         0.875\n",
              "1              4          0.974         0.891\n",
              "2              6          0.964         0.875\n",
              "3              8          0.958         0.898\n",
              "4             10          0.953         0.914\n",
              "5             12          0.943         0.906\n",
              "6             14          0.932         0.898\n",
              "7             16          0.932         0.852\n",
              "8             18          0.932         0.852\n",
              "9             20          0.932         0.852"
            ],
            "text/html": [
              "\n",
              "  <div id=\"df-3cd06533-82c8-4198-ac64-8574d99d5aae\">\n",
              "    <div class=\"colab-df-container\">\n",
              "      <div>\n",
              "<style scoped>\n",
              "    .dataframe tbody tr th:only-of-type {\n",
              "        vertical-align: middle;\n",
              "    }\n",
              "\n",
              "    .dataframe tbody tr th {\n",
              "        vertical-align: top;\n",
              "    }\n",
              "\n",
              "    .dataframe thead th {\n",
              "        text-align: right;\n",
              "    }\n",
              "</style>\n",
              "<table border=\"1\" class=\"dataframe\">\n",
              "  <thead>\n",
              "    <tr style=\"text-align: right;\">\n",
              "      <th></th>\n",
              "      <th>MinSampleLeaf</th>\n",
              "      <th>TrainAccuracy</th>\n",
              "      <th>TestAccuracy</th>\n",
              "    </tr>\n",
              "  </thead>\n",
              "  <tbody>\n",
              "    <tr>\n",
              "      <th>0</th>\n",
              "      <td>2</td>\n",
              "      <td>0.995</td>\n",
              "      <td>0.875</td>\n",
              "    </tr>\n",
              "    <tr>\n",
              "      <th>1</th>\n",
              "      <td>4</td>\n",
              "      <td>0.974</td>\n",
              "      <td>0.891</td>\n",
              "    </tr>\n",
              "    <tr>\n",
              "      <th>2</th>\n",
              "      <td>6</td>\n",
              "      <td>0.964</td>\n",
              "      <td>0.875</td>\n",
              "    </tr>\n",
              "    <tr>\n",
              "      <th>3</th>\n",
              "      <td>8</td>\n",
              "      <td>0.958</td>\n",
              "      <td>0.898</td>\n",
              "    </tr>\n",
              "    <tr>\n",
              "      <th>4</th>\n",
              "      <td>10</td>\n",
              "      <td>0.953</td>\n",
              "      <td>0.914</td>\n",
              "    </tr>\n",
              "    <tr>\n",
              "      <th>5</th>\n",
              "      <td>12</td>\n",
              "      <td>0.943</td>\n",
              "      <td>0.906</td>\n",
              "    </tr>\n",
              "    <tr>\n",
              "      <th>6</th>\n",
              "      <td>14</td>\n",
              "      <td>0.932</td>\n",
              "      <td>0.898</td>\n",
              "    </tr>\n",
              "    <tr>\n",
              "      <th>7</th>\n",
              "      <td>16</td>\n",
              "      <td>0.932</td>\n",
              "      <td>0.852</td>\n",
              "    </tr>\n",
              "    <tr>\n",
              "      <th>8</th>\n",
              "      <td>18</td>\n",
              "      <td>0.932</td>\n",
              "      <td>0.852</td>\n",
              "    </tr>\n",
              "    <tr>\n",
              "      <th>9</th>\n",
              "      <td>20</td>\n",
              "      <td>0.932</td>\n",
              "      <td>0.852</td>\n",
              "    </tr>\n",
              "  </tbody>\n",
              "</table>\n",
              "</div>\n",
              "      <button class=\"colab-df-convert\" onclick=\"convertToInteractive('df-3cd06533-82c8-4198-ac64-8574d99d5aae')\"\n",
              "              title=\"Convert this dataframe to an interactive table.\"\n",
              "              style=\"display:none;\">\n",
              "        \n",
              "  <svg xmlns=\"http://www.w3.org/2000/svg\" height=\"24px\"viewBox=\"0 0 24 24\"\n",
              "       width=\"24px\">\n",
              "    <path d=\"M0 0h24v24H0V0z\" fill=\"none\"/>\n",
              "    <path d=\"M18.56 5.44l.94 2.06.94-2.06 2.06-.94-2.06-.94-.94-2.06-.94 2.06-2.06.94zm-11 1L8.5 8.5l.94-2.06 2.06-.94-2.06-.94L8.5 2.5l-.94 2.06-2.06.94zm10 10l.94 2.06.94-2.06 2.06-.94-2.06-.94-.94-2.06-.94 2.06-2.06.94z\"/><path d=\"M17.41 7.96l-1.37-1.37c-.4-.4-.92-.59-1.43-.59-.52 0-1.04.2-1.43.59L10.3 9.45l-7.72 7.72c-.78.78-.78 2.05 0 2.83L4 21.41c.39.39.9.59 1.41.59.51 0 1.02-.2 1.41-.59l7.78-7.78 2.81-2.81c.8-.78.8-2.07 0-2.86zM5.41 20L4 18.59l7.72-7.72 1.47 1.35L5.41 20z\"/>\n",
              "  </svg>\n",
              "      </button>\n",
              "      \n",
              "  <style>\n",
              "    .colab-df-container {\n",
              "      display:flex;\n",
              "      flex-wrap:wrap;\n",
              "      gap: 12px;\n",
              "    }\n",
              "\n",
              "    .colab-df-convert {\n",
              "      background-color: #E8F0FE;\n",
              "      border: none;\n",
              "      border-radius: 50%;\n",
              "      cursor: pointer;\n",
              "      display: none;\n",
              "      fill: #1967D2;\n",
              "      height: 32px;\n",
              "      padding: 0 0 0 0;\n",
              "      width: 32px;\n",
              "    }\n",
              "\n",
              "    .colab-df-convert:hover {\n",
              "      background-color: #E2EBFA;\n",
              "      box-shadow: 0px 1px 2px rgba(60, 64, 67, 0.3), 0px 1px 3px 1px rgba(60, 64, 67, 0.15);\n",
              "      fill: #174EA6;\n",
              "    }\n",
              "\n",
              "    [theme=dark] .colab-df-convert {\n",
              "      background-color: #3B4455;\n",
              "      fill: #D2E3FC;\n",
              "    }\n",
              "\n",
              "    [theme=dark] .colab-df-convert:hover {\n",
              "      background-color: #434B5C;\n",
              "      box-shadow: 0px 1px 3px 1px rgba(0, 0, 0, 0.15);\n",
              "      filter: drop-shadow(0px 1px 2px rgba(0, 0, 0, 0.3));\n",
              "      fill: #FFFFFF;\n",
              "    }\n",
              "  </style>\n",
              "\n",
              "      <script>\n",
              "        const buttonEl =\n",
              "          document.querySelector('#df-3cd06533-82c8-4198-ac64-8574d99d5aae button.colab-df-convert');\n",
              "        buttonEl.style.display =\n",
              "          google.colab.kernel.accessAllowed ? 'block' : 'none';\n",
              "\n",
              "        async function convertToInteractive(key) {\n",
              "          const element = document.querySelector('#df-3cd06533-82c8-4198-ac64-8574d99d5aae');\n",
              "          const dataTable =\n",
              "            await google.colab.kernel.invokeFunction('convertToInteractive',\n",
              "                                                     [key], {});\n",
              "          if (!dataTable) return;\n",
              "\n",
              "          const docLinkHtml = 'Like what you see? Visit the ' +\n",
              "            '<a target=\"_blank\" href=https://colab.research.google.com/notebooks/data_table.ipynb>data table notebook</a>'\n",
              "            + ' to learn more about interactive tables.';\n",
              "          element.innerHTML = '';\n",
              "          dataTable['output_type'] = 'display_data';\n",
              "          await google.colab.output.renderOutput(dataTable, element);\n",
              "          const docLink = document.createElement('div');\n",
              "          docLink.innerHTML = docLinkHtml;\n",
              "          element.appendChild(docLink);\n",
              "        }\n",
              "      </script>\n",
              "    </div>\n",
              "  </div>\n",
              "  "
            ]
          },
          "metadata": {},
          "execution_count": 204
        }
      ]
    },
    {
      "cell_type": "code",
      "source": [
        "plt.plot(para_leaf, train_accuracy, linestyle = '-', label = 'Train Accuracy')\n",
        "plt.plot(para_leaf, test_accuracy, linestyle = '-', label = 'Test Accuracy')\n",
        "plt.ylabel('Accuracy'); plt.xlabel('MinSamplesLeaf')\n",
        "plt.legend()"
      ],
      "metadata": {
        "colab": {
          "base_uri": "https://localhost:8080/",
          "height": 299
        },
        "outputId": "d680e31b-5dfa-4a86-9056-c6edf83c569c",
        "id": "eLNJnXXPqr19"
      },
      "execution_count": 205,
      "outputs": [
        {
          "output_type": "execute_result",
          "data": {
            "text/plain": [
              "<matplotlib.legend.Legend at 0x7f169b2fa790>"
            ]
          },
          "metadata": {},
          "execution_count": 205
        },
        {
          "output_type": "display_data",
          "data": {
            "text/plain": [
              "<Figure size 432x288 with 1 Axes>"
            ],
            "image/png": "[encoded data removed]"
          },
          "metadata": {
            "needs_background": "light"
          }
        }
      ]
    },
    {
      "cell_type": "markdown",
      "source": [
        "- 리프 노드의 최소 샘플 수가 증가할수록 모델의 성능이 떨어진다.\n",
        "- TestScore가 0.914이고 TrainScore가 0.953인 **min_samples_leaf = 10**를 파라미터로 설정한다. "
      ],
      "metadata": {
        "id": "ojJ7856uqr1_"
      }
    },
    {
      "cell_type": "markdown",
      "source": [
        "### **최종 모델 선정**"
      ],
      "metadata": {
        "id": "-AyWQxODrzdN"
      }
    },
    {
      "cell_type": "code",
      "source": [
        "tree_final = DecisionTreeClassifier(max_depth = 4,\n",
        "                                    min_samples_split = 10,\n",
        "                                    min_samples_leaf = 10,\n",
        "                                    random_state = 1234)\n",
        "\n",
        "tree_final.fit(df_train_x, df_train_y)"
      ],
      "metadata": {
        "id": "E5dPXIsMpYES",
        "colab": {
          "base_uri": "https://localhost:8080/"
        },
        "outputId": "e36f0523-46c3-4a8a-dea6-b976fc3cf432"
      },
      "execution_count": 118,
      "outputs": [
        {
          "output_type": "execute_result",
          "data": {
            "text/plain": [
              "DecisionTreeClassifier(max_depth=4, min_samples_leaf=10, min_samples_split=10,\n",
              "                       random_state=1234)"
            ]
          },
          "metadata": {},
          "execution_count": 118
        }
      ]
    },
    {
      "cell_type": "code",
      "source": [
        "v_feature_name = df_train_x.columns\n",
        "\n",
        "export_graphviz(tree_final, out_file = 'tree_final.dot', class_names = ['음성', '양성'],\n",
        "                feature_names = v_feature_name, impurity = True, filled = True)\n",
        "\n",
        "with open('tree_final.dot') as f :\n",
        "    dot_graph = f.read()\n",
        "display(graphviz.Source(dot_graph))"
      ],
      "metadata": {
        "id": "DXfWkusipYGI",
        "colab": {
          "base_uri": "https://localhost:8080/",
          "height": 597
        },
        "outputId": "5f62cb59-231d-4fe3-854b-171f2343ac4e"
      },
      "execution_count": 207,
      "outputs": [
        {
          "output_type": "display_data",
          "data": {
            "text/plain": [
              "<graphviz.files.Source at 0x7f169b470e10>"
            ],
            "image/svg+xml": "<?xml version=\"1.0\" encoding=\"UTF-8\" standalone=\"no\"?>\n<!DOCTYPE svg PUBLIC \"-//W3C//DTD SVG 1.1//EN\"\n \"http://www.w3.org/Graphics/SVG/1.1/DTD/svg11.dtd\">\n<!-- Generated by graphviz version 2.40.1 (20161225.0304)\n -->\n<!-- Title: Tree Pages: 1 -->\n<svg width=\"725pt\" height=\"433pt\"\n viewBox=\"0.00 0.00 725.00 433.00\" xmlns=\"http://www.w3.org/2000/svg\" xmlns:xlink=\"http://www.w3.org/1999/xlink\">\n<g id=\"graph0\" class=\"graph\" transform=\"scale(1 1) rotate(0) translate(4 429)\">\n<title>Tree</title>\n<polygon fill=\"#ffffff\" stroke=\"transparent\" points=\"-4,4 -4,-429 721,-429 721,4 -4,4\"/>\n<!-- 0 -->\n<g id=\"node1\" class=\"node\">\n<title>0</title>\n<polygon fill=\"#f6d5be\" stroke=\"#000000\" points=\"480,-425 257,-425 257,-342 480,-342 480,-425\"/>\n<text text-anchor=\"middle\" x=\"368.5\" y=\"-409.8\" font-family=\"Helvetica,sans-Serif\" font-size=\"14.00\" fill=\"#000000\">worst_concave_points &lt;= 0.121</text>\n<text text-anchor=\"middle\" x=\"368.5\" y=\"-394.8\" font-family=\"Helvetica,sans-Serif\" font-size=\"14.00\" fill=\"#000000\">gini = 0.48</text>\n<text text-anchor=\"middle\" x=\"368.5\" y=\"-379.8\" font-family=\"Helvetica,sans-Serif\" font-size=\"14.00\" fill=\"#000000\">samples = 192</text>\n<text text-anchor=\"middle\" x=\"368.5\" y=\"-364.8\" font-family=\"Helvetica,sans-Serif\" font-size=\"14.00\" fill=\"#000000\">value = [115, 77]</text>\n<text text-anchor=\"middle\" x=\"368.5\" y=\"-349.8\" font-family=\"Helvetica,sans-Serif\" font-size=\"14.00\" fill=\"#000000\">class = 음성</text>\n</g>\n<!-- 1 -->\n<g id=\"node2\" class=\"node\">\n<title>1</title>\n<polygon fill=\"#4fa8e8\" stroke=\"#000000\" points=\"355,-306 206,-306 206,-223 355,-223 355,-306\"/>\n<text text-anchor=\"middle\" x=\"280.5\" y=\"-290.8\" font-family=\"Helvetica,sans-Serif\" font-size=\"14.00\" fill=\"#000000\">worst_area &lt;= 868.6</text>\n<text text-anchor=\"middle\" x=\"280.5\" y=\"-275.8\" font-family=\"Helvetica,sans-Serif\" font-size=\"14.00\" fill=\"#000000\">gini = 0.18</text>\n<text text-anchor=\"middle\" x=\"280.5\" y=\"-260.8\" font-family=\"Helvetica,sans-Serif\" font-size=\"14.00\" fill=\"#000000\">samples = 80</text>\n<text text-anchor=\"middle\" x=\"280.5\" y=\"-245.8\" font-family=\"Helvetica,sans-Serif\" font-size=\"14.00\" fill=\"#000000\">value = [8, 72]</text>\n<text text-anchor=\"middle\" x=\"280.5\" y=\"-230.8\" font-family=\"Helvetica,sans-Serif\" font-size=\"14.00\" fill=\"#000000\">class = 양성</text>\n</g>\n<!-- 0&#45;&gt;1 -->\n<g id=\"edge1\" class=\"edge\">\n<title>0&#45;&gt;1</title>\n<path fill=\"none\" stroke=\"#000000\" d=\"M337.7219,-341.8796C331.1949,-333.0534 324.2401,-323.6485 317.5092,-314.5466\"/>\n<polygon fill=\"#000000\" stroke=\"#000000\" points=\"320.1695,-312.2574 311.4095,-306.2981 314.5412,-316.4195 320.1695,-312.2574\"/>\n<text text-anchor=\"middle\" x=\"307.7068\" y=\"-327.3224\" font-family=\"Helvetica,sans-Serif\" font-size=\"14.00\" fill=\"#000000\">True</text>\n</g>\n<!-- 6 -->\n<g id=\"node7\" class=\"node\">\n<title>6</title>\n<polygon fill=\"#e68742\" stroke=\"#000000\" points=\"540.5,-306 372.5,-306 372.5,-223 540.5,-223 540.5,-306\"/>\n<text text-anchor=\"middle\" x=\"456.5\" y=\"-290.8\" font-family=\"Helvetica,sans-Serif\" font-size=\"14.00\" fill=\"#000000\">worst_radius &lt;= 15.455</text>\n<text text-anchor=\"middle\" x=\"456.5\" y=\"-275.8\" font-family=\"Helvetica,sans-Serif\" font-size=\"14.00\" fill=\"#000000\">gini = 0.085</text>\n<text text-anchor=\"middle\" x=\"456.5\" y=\"-260.8\" font-family=\"Helvetica,sans-Serif\" font-size=\"14.00\" fill=\"#000000\">samples = 112</text>\n<text text-anchor=\"middle\" x=\"456.5\" y=\"-245.8\" font-family=\"Helvetica,sans-Serif\" font-size=\"14.00\" fill=\"#000000\">value = [107, 5]</text>\n<text text-anchor=\"middle\" x=\"456.5\" y=\"-230.8\" font-family=\"Helvetica,sans-Serif\" font-size=\"14.00\" fill=\"#000000\">class = 음성</text>\n</g>\n<!-- 0&#45;&gt;6 -->\n<g id=\"edge6\" class=\"edge\">\n<title>0&#45;&gt;6</title>\n<path fill=\"none\" stroke=\"#000000\" d=\"M399.2781,-341.8796C405.8051,-333.0534 412.7599,-323.6485 419.4908,-314.5466\"/>\n<polygon fill=\"#000000\" stroke=\"#000000\" points=\"422.4588,-316.4195 425.5905,-306.2981 416.8305,-312.2574 422.4588,-316.4195\"/>\n<text text-anchor=\"middle\" x=\"429.2932\" y=\"-327.3224\" font-family=\"Helvetica,sans-Serif\" font-size=\"14.00\" fill=\"#000000\">False</text>\n</g>\n<!-- 2 -->\n<g id=\"node3\" class=\"node\">\n<title>2</title>\n<polygon fill=\"#3c9ee5\" stroke=\"#000000\" points=\"224.5,-187 6.5,-187 6.5,-104 224.5,-104 224.5,-187\"/>\n<text text-anchor=\"middle\" x=\"115.5\" y=\"-171.8\" font-family=\"Helvetica,sans-Serif\" font-size=\"14.00\" fill=\"#000000\">concave_points_error &lt;= 0.012</text>\n<text text-anchor=\"middle\" x=\"115.5\" y=\"-156.8\" font-family=\"Helvetica,sans-Serif\" font-size=\"14.00\" fill=\"#000000\">gini = 0.028</text>\n<text text-anchor=\"middle\" x=\"115.5\" y=\"-141.8\" font-family=\"Helvetica,sans-Serif\" font-size=\"14.00\" fill=\"#000000\">samples = 70</text>\n<text text-anchor=\"middle\" x=\"115.5\" y=\"-126.8\" font-family=\"Helvetica,sans-Serif\" font-size=\"14.00\" fill=\"#000000\">value = [1, 69]</text>\n<text text-anchor=\"middle\" x=\"115.5\" y=\"-111.8\" font-family=\"Helvetica,sans-Serif\" font-size=\"14.00\" fill=\"#000000\">class = 양성</text>\n</g>\n<!-- 1&#45;&gt;2 -->\n<g id=\"edge2\" class=\"edge\">\n<title>1&#45;&gt;2</title>\n<path fill=\"none\" stroke=\"#000000\" d=\"M222.791,-222.8796C209.477,-213.2774 195.2134,-202.9903 181.5741,-193.1534\"/>\n<polygon fill=\"#000000\" stroke=\"#000000\" points=\"183.3345,-190.1077 173.1764,-187.0969 179.2398,-195.7852 183.3345,-190.1077\"/>\n</g>\n<!-- 5 -->\n<g id=\"node6\" class=\"node\">\n<title>5</title>\n<polygon fill=\"#f0b78e\" stroke=\"#000000\" points=\"346.5,-179.5 242.5,-179.5 242.5,-111.5 346.5,-111.5 346.5,-179.5\"/>\n<text text-anchor=\"middle\" x=\"294.5\" y=\"-164.3\" font-family=\"Helvetica,sans-Serif\" font-size=\"14.00\" fill=\"#000000\">gini = 0.42</text>\n<text text-anchor=\"middle\" x=\"294.5\" y=\"-149.3\" font-family=\"Helvetica,sans-Serif\" font-size=\"14.00\" fill=\"#000000\">samples = 10</text>\n<text text-anchor=\"middle\" x=\"294.5\" y=\"-134.3\" font-family=\"Helvetica,sans-Serif\" font-size=\"14.00\" fill=\"#000000\">value = [7, 3]</text>\n<text text-anchor=\"middle\" x=\"294.5\" y=\"-119.3\" font-family=\"Helvetica,sans-Serif\" font-size=\"14.00\" fill=\"#000000\">class = 음성</text>\n</g>\n<!-- 1&#45;&gt;5 -->\n<g id=\"edge5\" class=\"edge\">\n<title>1&#45;&gt;5</title>\n<path fill=\"none\" stroke=\"#000000\" d=\"M285.3965,-222.8796C286.6514,-212.2134 288.0056,-200.7021 289.2763,-189.9015\"/>\n<polygon fill=\"#000000\" stroke=\"#000000\" points=\"292.7705,-190.1554 290.4629,-179.8149 285.8184,-189.3375 292.7705,-190.1554\"/>\n</g>\n<!-- 3 -->\n<g id=\"node4\" class=\"node\">\n<title>3</title>\n<polygon fill=\"#399de5\" stroke=\"#000000\" points=\"107,-68 0,-68 0,0 107,0 107,-68\"/>\n<text text-anchor=\"middle\" x=\"53.5\" y=\"-52.8\" font-family=\"Helvetica,sans-Serif\" font-size=\"14.00\" fill=\"#000000\">gini = 0.0</text>\n<text text-anchor=\"middle\" x=\"53.5\" y=\"-37.8\" font-family=\"Helvetica,sans-Serif\" font-size=\"14.00\" fill=\"#000000\">samples = 60</text>\n<text text-anchor=\"middle\" x=\"53.5\" y=\"-22.8\" font-family=\"Helvetica,sans-Serif\" font-size=\"14.00\" fill=\"#000000\">value = [0, 60]</text>\n<text text-anchor=\"middle\" x=\"53.5\" y=\"-7.8\" font-family=\"Helvetica,sans-Serif\" font-size=\"14.00\" fill=\"#000000\">class = 양성</text>\n</g>\n<!-- 2&#45;&gt;3 -->\n<g id=\"edge3\" class=\"edge\">\n<title>2&#45;&gt;3</title>\n<path fill=\"none\" stroke=\"#000000\" d=\"M92.4135,-103.9815C87.5585,-95.2504 82.426,-86.0202 77.5371,-77.2281\"/>\n<polygon fill=\"#000000\" stroke=\"#000000\" points=\"80.4712,-75.3025 72.5524,-68.2637 74.3533,-78.7043 80.4712,-75.3025\"/>\n</g>\n<!-- 4 -->\n<g id=\"node5\" class=\"node\">\n<title>4</title>\n<polygon fill=\"#4fa8e8\" stroke=\"#000000\" points=\"229.5,-68 125.5,-68 125.5,0 229.5,0 229.5,-68\"/>\n<text text-anchor=\"middle\" x=\"177.5\" y=\"-52.8\" font-family=\"Helvetica,sans-Serif\" font-size=\"14.00\" fill=\"#000000\">gini = 0.18</text>\n<text text-anchor=\"middle\" x=\"177.5\" y=\"-37.8\" font-family=\"Helvetica,sans-Serif\" font-size=\"14.00\" fill=\"#000000\">samples = 10</text>\n<text text-anchor=\"middle\" x=\"177.5\" y=\"-22.8\" font-family=\"Helvetica,sans-Serif\" font-size=\"14.00\" fill=\"#000000\">value = [1, 9]</text>\n<text text-anchor=\"middle\" x=\"177.5\" y=\"-7.8\" font-family=\"Helvetica,sans-Serif\" font-size=\"14.00\" fill=\"#000000\">class = 양성</text>\n</g>\n<!-- 2&#45;&gt;4 -->\n<g id=\"edge4\" class=\"edge\">\n<title>2&#45;&gt;4</title>\n<path fill=\"none\" stroke=\"#000000\" d=\"M138.5865,-103.9815C143.4415,-95.2504 148.574,-86.0202 153.4629,-77.2281\"/>\n<polygon fill=\"#000000\" stroke=\"#000000\" points=\"156.6467,-78.7043 158.4476,-68.2637 150.5288,-75.3025 156.6467,-78.7043\"/>\n</g>\n<!-- 7 -->\n<g id=\"node8\" class=\"node\">\n<title>7</title>\n<polygon fill=\"#f4c9aa\" stroke=\"#000000\" points=\"495.5,-179.5 391.5,-179.5 391.5,-111.5 495.5,-111.5 495.5,-179.5\"/>\n<text text-anchor=\"middle\" x=\"443.5\" y=\"-164.3\" font-family=\"Helvetica,sans-Serif\" font-size=\"14.00\" fill=\"#000000\">gini = 0.463</text>\n<text text-anchor=\"middle\" x=\"443.5\" y=\"-149.3\" font-family=\"Helvetica,sans-Serif\" font-size=\"14.00\" fill=\"#000000\">samples = 11</text>\n<text text-anchor=\"middle\" x=\"443.5\" y=\"-134.3\" font-family=\"Helvetica,sans-Serif\" font-size=\"14.00\" fill=\"#000000\">value = [7, 4]</text>\n<text text-anchor=\"middle\" x=\"443.5\" y=\"-119.3\" font-family=\"Helvetica,sans-Serif\" font-size=\"14.00\" fill=\"#000000\">class = 음성</text>\n</g>\n<!-- 6&#45;&gt;7 -->\n<g id=\"edge7\" class=\"edge\">\n<title>6&#45;&gt;7</title>\n<path fill=\"none\" stroke=\"#000000\" d=\"M451.9532,-222.8796C450.788,-212.2134 449.5305,-200.7021 448.3506,-189.9015\"/>\n<polygon fill=\"#000000\" stroke=\"#000000\" points=\"451.8141,-189.3757 447.2487,-179.8149 444.8555,-190.1359 451.8141,-189.3757\"/>\n</g>\n<!-- 8 -->\n<g id=\"node9\" class=\"node\">\n<title>8</title>\n<polygon fill=\"#e5823b\" stroke=\"#000000\" points=\"689.5,-187 513.5,-187 513.5,-104 689.5,-104 689.5,-187\"/>\n<text text-anchor=\"middle\" x=\"601.5\" y=\"-171.8\" font-family=\"Helvetica,sans-Serif\" font-size=\"14.00\" fill=\"#000000\">perimeter_error &lt;= 2.163</text>\n<text text-anchor=\"middle\" x=\"601.5\" y=\"-156.8\" font-family=\"Helvetica,sans-Serif\" font-size=\"14.00\" fill=\"#000000\">gini = 0.02</text>\n<text text-anchor=\"middle\" x=\"601.5\" y=\"-141.8\" font-family=\"Helvetica,sans-Serif\" font-size=\"14.00\" fill=\"#000000\">samples = 101</text>\n<text text-anchor=\"middle\" x=\"601.5\" y=\"-126.8\" font-family=\"Helvetica,sans-Serif\" font-size=\"14.00\" fill=\"#000000\">value = [100, 1]</text>\n<text text-anchor=\"middle\" x=\"601.5\" y=\"-111.8\" font-family=\"Helvetica,sans-Serif\" font-size=\"14.00\" fill=\"#000000\">class = 음성</text>\n</g>\n<!-- 6&#45;&gt;8 -->\n<g id=\"edge8\" class=\"edge\">\n<title>6&#45;&gt;8</title>\n<path fill=\"none\" stroke=\"#000000\" d=\"M507.214,-222.8796C518.627,-213.513 530.8341,-203.4948 542.5515,-193.8784\"/>\n<polygon fill=\"#000000\" stroke=\"#000000\" points=\"545.0599,-196.3476 550.5696,-187.2981 540.6191,-190.9366 545.0599,-196.3476\"/>\n</g>\n<!-- 9 -->\n<g id=\"node10\" class=\"node\">\n<title>9</title>\n<polygon fill=\"#e88f4f\" stroke=\"#000000\" points=\"591.5,-68 487.5,-68 487.5,0 591.5,0 591.5,-68\"/>\n<text text-anchor=\"middle\" x=\"539.5\" y=\"-52.8\" font-family=\"Helvetica,sans-Serif\" font-size=\"14.00\" fill=\"#000000\">gini = 0.18</text>\n<text text-anchor=\"middle\" x=\"539.5\" y=\"-37.8\" font-family=\"Helvetica,sans-Serif\" font-size=\"14.00\" fill=\"#000000\">samples = 10</text>\n<text text-anchor=\"middle\" x=\"539.5\" y=\"-22.8\" font-family=\"Helvetica,sans-Serif\" font-size=\"14.00\" fill=\"#000000\">value = [9, 1]</text>\n<text text-anchor=\"middle\" x=\"539.5\" y=\"-7.8\" font-family=\"Helvetica,sans-Serif\" font-size=\"14.00\" fill=\"#000000\">class = 음성</text>\n</g>\n<!-- 8&#45;&gt;9 -->\n<g id=\"edge9\" class=\"edge\">\n<title>8&#45;&gt;9</title>\n<path fill=\"none\" stroke=\"#000000\" d=\"M578.4135,-103.9815C573.5585,-95.2504 568.426,-86.0202 563.5371,-77.2281\"/>\n<polygon fill=\"#000000\" stroke=\"#000000\" points=\"566.4712,-75.3025 558.5524,-68.2637 560.3533,-78.7043 566.4712,-75.3025\"/>\n</g>\n<!-- 10 -->\n<g id=\"node11\" class=\"node\">\n<title>10</title>\n<polygon fill=\"#e58139\" stroke=\"#000000\" points=\"717,-68 610,-68 610,0 717,0 717,-68\"/>\n<text text-anchor=\"middle\" x=\"663.5\" y=\"-52.8\" font-family=\"Helvetica,sans-Serif\" font-size=\"14.00\" fill=\"#000000\">gini = 0.0</text>\n<text text-anchor=\"middle\" x=\"663.5\" y=\"-37.8\" font-family=\"Helvetica,sans-Serif\" font-size=\"14.00\" fill=\"#000000\">samples = 91</text>\n<text text-anchor=\"middle\" x=\"663.5\" y=\"-22.8\" font-family=\"Helvetica,sans-Serif\" font-size=\"14.00\" fill=\"#000000\">value = [91, 0]</text>\n<text text-anchor=\"middle\" x=\"663.5\" y=\"-7.8\" font-family=\"Helvetica,sans-Serif\" font-size=\"14.00\" fill=\"#000000\">class = 음성</text>\n</g>\n<!-- 8&#45;&gt;10 -->\n<g id=\"edge10\" class=\"edge\">\n<title>8&#45;&gt;10</title>\n<path fill=\"none\" stroke=\"#000000\" d=\"M624.5865,-103.9815C629.4415,-95.2504 634.574,-86.0202 639.4629,-77.2281\"/>\n<polygon fill=\"#000000\" stroke=\"#000000\" points=\"642.6467,-78.7043 644.4476,-68.2637 636.5288,-75.3025 642.6467,-78.7043\"/>\n</g>\n</g>\n</svg>\n"
          },
          "metadata": {}
        }
      ]
    },
    {
      "cell_type": "markdown",
      "source": [
        "- 트리 분리에 가장 큰 영향을 주는 변수는 worst_crave_points, worst_area, worst_radius 등이다.\n",
        "- worst_concave_points <= 0.121 & worst_area <= 868.6 & concave_points_error <= 0.012인 경우 P(Y=양성) = 1\n",
        "- worst_concave_points > 0.121 & worst_radius > 15.455 & perimeter_error > 2.163 인 경우 P(Y=음성) = 1"
      ],
      "metadata": {
        "id": "-_wdlTbgsqs7"
      }
    },
    {
      "cell_type": "markdown",
      "source": [
        "### **최종 모델 평가**"
      ],
      "metadata": {
        "id": "tepZtKics31t"
      }
    },
    {
      "cell_type": "code",
      "source": [
        "y_pred = tree_final.predict(df_test_x)\n",
        "print('Accuracy : {0:.3f}'.format(tree_final.score(df_test_x, df_test_y)))\n",
        "print('Confusion Matrix : \\n{}'.format(confusion_matrix(df_test_y, y_pred)))"
      ],
      "metadata": {
        "id": "8kbjTkwXpYIF",
        "colab": {
          "base_uri": "https://localhost:8080/"
        },
        "outputId": "f9f92865-2d6f-4a70-a649-d91969f96428"
      },
      "execution_count": 124,
      "outputs": [
        {
          "output_type": "stream",
          "name": "stdout",
          "text": [
            "Accuracy : 0.914\n",
            "Confusion Matrix : \n",
            "[[94  3]\n",
            " [ 8 23]]\n"
          ]
        }
      ]
    },
    {
      "cell_type": "markdown",
      "source": [
        "분류의 정확도는 약 91.4%이며, 모델이 분류기로서의 역할을 잘 수행한다고 할 수 있다."
      ],
      "metadata": {
        "id": "JFegTobwG5-u"
      }
    },
    {
      "cell_type": "code",
      "source": [
        "print(classification_report(df_test_y, y_pred, digits = 3))"
      ],
      "metadata": {
        "id": "y0xEfJ6gpYJy",
        "colab": {
          "base_uri": "https://localhost:8080/"
        },
        "outputId": "b7ad9a6e-65a3-46e3-dc58-74acba37df80"
      },
      "execution_count": 125,
      "outputs": [
        {
          "output_type": "stream",
          "name": "stdout",
          "text": [
            "              precision    recall  f1-score   support\n",
            "\n",
            "           0      0.922     0.969     0.945        97\n",
            "           1      0.885     0.742     0.807        31\n",
            "\n",
            "    accuracy                          0.914       128\n",
            "   macro avg      0.903     0.856     0.876       128\n",
            "weighted avg      0.913     0.914     0.911       128\n",
            "\n"
          ]
        }
      ]
    },
    {
      "cell_type": "markdown",
      "source": [
        "- 1(양성)에 대한 precision이 0.885이다. 양성이라고 예측한 데이터 중 실제 양성에 해당하는 비율이 높으므로 잘 분류되었다고 볼 수 있다.\n",
        "- 1(양성)에 대한 recall이 0.742이다. 실제 양성 중 양성으로 예측된 비율이 높으므로 잘 분류되었다고 볼 수 있다.\n",
        "- 1(양성)에 대한 f1 score가 0.807이다. 모델의 전체적인 분류 성능이 좋은 것으로 판단된다."
      ],
      "metadata": {
        "id": "2KijheWPtl_w"
      }
    },
    {
      "cell_type": "markdown",
      "source": [
        "### **설명변수의 중요도 확인**"
      ],
      "metadata": {
        "id": "vYIuxhHqwqZ-"
      }
    },
    {
      "cell_type": "code",
      "source": [
        "df_importance = pd.DataFrame()\n",
        "df_importance['Feature'] = v_feature_name\n",
        "df_importance['Importance'] = tree_final.feature_importances_\n",
        "\n",
        "df_importance.sort_values('Importance', ascending = False, inplace = True)\n",
        "df_importance.round(3).head(5)"
      ],
      "metadata": {
        "id": "htyEFlWcpYLa",
        "colab": {
          "base_uri": "https://localhost:8080/",
          "height": 206
        },
        "outputId": "53628b80-8832-45ee-c0db-f6b71d45cf94"
      },
      "execution_count": 208,
      "outputs": [
        {
          "output_type": "execute_result",
          "data": {
            "text/plain": [
              "                 Feature  Importance\n",
              "27  worst_concave_points       0.861\n",
              "23            worst_area       0.104\n",
              "20          worst_radius       0.031\n",
              "12       perimeter_error       0.002\n",
              "17  concave_points_error       0.002"
            ],
            "text/html": [
              "\n",
              "  <div id=\"df-753cc08c-b6e1-4f04-bb52-77c11624ba25\">\n",
              "    <div class=\"colab-df-container\">\n",
              "      <div>\n",
              "<style scoped>\n",
              "    .dataframe tbody tr th:only-of-type {\n",
              "        vertical-align: middle;\n",
              "    }\n",
              "\n",
              "    .dataframe tbody tr th {\n",
              "        vertical-align: top;\n",
              "    }\n",
              "\n",
              "    .dataframe thead th {\n",
              "        text-align: right;\n",
              "    }\n",
              "</style>\n",
              "<table border=\"1\" class=\"dataframe\">\n",
              "  <thead>\n",
              "    <tr style=\"text-align: right;\">\n",
              "      <th></th>\n",
              "      <th>Feature</th>\n",
              "      <th>Importance</th>\n",
              "    </tr>\n",
              "  </thead>\n",
              "  <tbody>\n",
              "    <tr>\n",
              "      <th>27</th>\n",
              "      <td>worst_concave_points</td>\n",
              "      <td>0.861</td>\n",
              "    </tr>\n",
              "    <tr>\n",
              "      <th>23</th>\n",
              "      <td>worst_area</td>\n",
              "      <td>0.104</td>\n",
              "    </tr>\n",
              "    <tr>\n",
              "      <th>20</th>\n",
              "      <td>worst_radius</td>\n",
              "      <td>0.031</td>\n",
              "    </tr>\n",
              "    <tr>\n",
              "      <th>12</th>\n",
              "      <td>perimeter_error</td>\n",
              "      <td>0.002</td>\n",
              "    </tr>\n",
              "    <tr>\n",
              "      <th>17</th>\n",
              "      <td>concave_points_error</td>\n",
              "      <td>0.002</td>\n",
              "    </tr>\n",
              "  </tbody>\n",
              "</table>\n",
              "</div>\n",
              "      <button class=\"colab-df-convert\" onclick=\"convertToInteractive('df-753cc08c-b6e1-4f04-bb52-77c11624ba25')\"\n",
              "              title=\"Convert this dataframe to an interactive table.\"\n",
              "              style=\"display:none;\">\n",
              "        \n",
              "  <svg xmlns=\"http://www.w3.org/2000/svg\" height=\"24px\"viewBox=\"0 0 24 24\"\n",
              "       width=\"24px\">\n",
              "    <path d=\"M0 0h24v24H0V0z\" fill=\"none\"/>\n",
              "    <path d=\"M18.56 5.44l.94 2.06.94-2.06 2.06-.94-2.06-.94-.94-2.06-.94 2.06-2.06.94zm-11 1L8.5 8.5l.94-2.06 2.06-.94-2.06-.94L8.5 2.5l-.94 2.06-2.06.94zm10 10l.94 2.06.94-2.06 2.06-.94-2.06-.94-.94-2.06-.94 2.06-2.06.94z\"/><path d=\"M17.41 7.96l-1.37-1.37c-.4-.4-.92-.59-1.43-.59-.52 0-1.04.2-1.43.59L10.3 9.45l-7.72 7.72c-.78.78-.78 2.05 0 2.83L4 21.41c.39.39.9.59 1.41.59.51 0 1.02-.2 1.41-.59l7.78-7.78 2.81-2.81c.8-.78.8-2.07 0-2.86zM5.41 20L4 18.59l7.72-7.72 1.47 1.35L5.41 20z\"/>\n",
              "  </svg>\n",
              "      </button>\n",
              "      \n",
              "  <style>\n",
              "    .colab-df-container {\n",
              "      display:flex;\n",
              "      flex-wrap:wrap;\n",
              "      gap: 12px;\n",
              "    }\n",
              "\n",
              "    .colab-df-convert {\n",
              "      background-color: #E8F0FE;\n",
              "      border: none;\n",
              "      border-radius: 50%;\n",
              "      cursor: pointer;\n",
              "      display: none;\n",
              "      fill: #1967D2;\n",
              "      height: 32px;\n",
              "      padding: 0 0 0 0;\n",
              "      width: 32px;\n",
              "    }\n",
              "\n",
              "    .colab-df-convert:hover {\n",
              "      background-color: #E2EBFA;\n",
              "      box-shadow: 0px 1px 2px rgba(60, 64, 67, 0.3), 0px 1px 3px 1px rgba(60, 64, 67, 0.15);\n",
              "      fill: #174EA6;\n",
              "    }\n",
              "\n",
              "    [theme=dark] .colab-df-convert {\n",
              "      background-color: #3B4455;\n",
              "      fill: #D2E3FC;\n",
              "    }\n",
              "\n",
              "    [theme=dark] .colab-df-convert:hover {\n",
              "      background-color: #434B5C;\n",
              "      box-shadow: 0px 1px 3px 1px rgba(0, 0, 0, 0.15);\n",
              "      filter: drop-shadow(0px 1px 2px rgba(0, 0, 0, 0.3));\n",
              "      fill: #FFFFFF;\n",
              "    }\n",
              "  </style>\n",
              "\n",
              "      <script>\n",
              "        const buttonEl =\n",
              "          document.querySelector('#df-753cc08c-b6e1-4f04-bb52-77c11624ba25 button.colab-df-convert');\n",
              "        buttonEl.style.display =\n",
              "          google.colab.kernel.accessAllowed ? 'block' : 'none';\n",
              "\n",
              "        async function convertToInteractive(key) {\n",
              "          const element = document.querySelector('#df-753cc08c-b6e1-4f04-bb52-77c11624ba25');\n",
              "          const dataTable =\n",
              "            await google.colab.kernel.invokeFunction('convertToInteractive',\n",
              "                                                     [key], {});\n",
              "          if (!dataTable) return;\n",
              "\n",
              "          const docLinkHtml = 'Like what you see? Visit the ' +\n",
              "            '<a target=\"_blank\" href=https://colab.research.google.com/notebooks/data_table.ipynb>data table notebook</a>'\n",
              "            + ' to learn more about interactive tables.';\n",
              "          element.innerHTML = '';\n",
              "          dataTable['output_type'] = 'display_data';\n",
              "          await google.colab.output.renderOutput(dataTable, element);\n",
              "          const docLink = document.createElement('div');\n",
              "          docLink.innerHTML = docLinkHtml;\n",
              "          element.appendChild(docLink);\n",
              "        }\n",
              "      </script>\n",
              "    </div>\n",
              "  </div>\n",
              "  "
            ]
          },
          "metadata": {},
          "execution_count": 208
        }
      ]
    },
    {
      "cell_type": "code",
      "source": [
        "df_importance.sort_values('Importance', ascending = True, inplace = True)\n",
        "coordinates = range(len(df_importance))\n",
        "\n",
        "plt.barh(y = coordinates, width = df_importance['Importance'])\n",
        "plt.yticks(coordinates, df_importance['Feature'])\n",
        "plt.xlabel('설명변수 중요도')\n",
        "plt.ylabel('설명변수')"
      ],
      "metadata": {
        "id": "WtiEG7-_pYM_",
        "colab": {
          "base_uri": "https://localhost:8080/",
          "height": 787
        },
        "outputId": "4f326e1c-3366-4b7c-e3cd-feff410c48b6"
      },
      "execution_count": 128,
      "outputs": [
        {
          "output_type": "execute_result",
          "data": {
            "text/plain": [
              "Text(0, 0.5, '설명변수')"
            ]
          },
          "metadata": {},
          "execution_count": 128
        },
        {
          "output_type": "stream",
          "name": "stderr",
          "text": [
            "/usr/local/lib/python3.7/dist-packages/matplotlib/backends/backend_agg.py:214: RuntimeWarning: Glyph 49444 missing from current font.\n",
            "  font.set_text(s, 0.0, flags=flags)\n",
            "/usr/local/lib/python3.7/dist-packages/matplotlib/backends/backend_agg.py:214: RuntimeWarning: Glyph 47749 missing from current font.\n",
            "  font.set_text(s, 0.0, flags=flags)\n",
            "/usr/local/lib/python3.7/dist-packages/matplotlib/backends/backend_agg.py:214: RuntimeWarning: Glyph 48320 missing from current font.\n",
            "  font.set_text(s, 0.0, flags=flags)\n",
            "/usr/local/lib/python3.7/dist-packages/matplotlib/backends/backend_agg.py:214: RuntimeWarning: Glyph 49688 missing from current font.\n",
            "  font.set_text(s, 0.0, flags=flags)\n",
            "/usr/local/lib/python3.7/dist-packages/matplotlib/backends/backend_agg.py:214: RuntimeWarning: Glyph 51473 missing from current font.\n",
            "  font.set_text(s, 0.0, flags=flags)\n",
            "/usr/local/lib/python3.7/dist-packages/matplotlib/backends/backend_agg.py:214: RuntimeWarning: Glyph 50836 missing from current font.\n",
            "  font.set_text(s, 0.0, flags=flags)\n",
            "/usr/local/lib/python3.7/dist-packages/matplotlib/backends/backend_agg.py:214: RuntimeWarning: Glyph 46020 missing from current font.\n",
            "  font.set_text(s, 0.0, flags=flags)\n",
            "/usr/local/lib/python3.7/dist-packages/matplotlib/backends/backend_agg.py:183: RuntimeWarning: Glyph 49444 missing from current font.\n",
            "  font.set_text(s, 0, flags=flags)\n",
            "/usr/local/lib/python3.7/dist-packages/matplotlib/backends/backend_agg.py:183: RuntimeWarning: Glyph 47749 missing from current font.\n",
            "  font.set_text(s, 0, flags=flags)\n",
            "/usr/local/lib/python3.7/dist-packages/matplotlib/backends/backend_agg.py:183: RuntimeWarning: Glyph 48320 missing from current font.\n",
            "  font.set_text(s, 0, flags=flags)\n",
            "/usr/local/lib/python3.7/dist-packages/matplotlib/backends/backend_agg.py:183: RuntimeWarning: Glyph 49688 missing from current font.\n",
            "  font.set_text(s, 0, flags=flags)\n",
            "/usr/local/lib/python3.7/dist-packages/matplotlib/backends/backend_agg.py:183: RuntimeWarning: Glyph 51473 missing from current font.\n",
            "  font.set_text(s, 0, flags=flags)\n",
            "/usr/local/lib/python3.7/dist-packages/matplotlib/backends/backend_agg.py:183: RuntimeWarning: Glyph 50836 missing from current font.\n",
            "  font.set_text(s, 0, flags=flags)\n",
            "/usr/local/lib/python3.7/dist-packages/matplotlib/backends/backend_agg.py:183: RuntimeWarning: Glyph 46020 missing from current font.\n",
            "  font.set_text(s, 0, flags=flags)\n"
          ]
        },
        {
          "output_type": "display_data",
          "data": {
            "text/plain": [
              "<Figure size 432x288 with 1 Axes>"
            ],
            "image/png": "[encoded data removed]"
          },
          "metadata": {
            "needs_background": "light"
          }
        }
      ]
    },
    {
      "cell_type": "markdown",
      "source": [
        "트리를 생성할 때 worst_concave_points, worst_area, worst_radius 순으로 중요하게 고려된다는 것을 확인할 수 있다."
      ],
      "metadata": {
        "id": "iqjHaCxoxkmd"
      }
    },
    {
      "cell_type": "markdown",
      "source": [
        "# **Big Data 분석 일일 과제물 - 랜덤 포레스트 (분류)**"
      ],
      "metadata": {
        "id": "iq7qkcqIyqag"
      }
    },
    {
      "cell_type": "code",
      "source": [
        "import pandas as pd\n",
        "\n",
        "import matplotlib.pyplot as plt\n",
        "import matplotlib\n",
        "\n",
        "from sklearn.tree import export_graphviz\n",
        "import graphviz\n",
        "\n",
        "from sklearn.model_selection import train_test_split\n",
        "from sklearn.ensemble import RandomForestClassifier\n",
        "from sklearn.model_selection import GridSearchCV\n",
        "\n",
        "from sklearn.metrics import accuracy_score, f1_score\n",
        "from sklearn.metrics import confusion_matrix, classification_report\n",
        "from imblearn.over_sampling import SMOTE"
      ],
      "metadata": {
        "id": "-jJwqGFkyqai"
      },
      "execution_count": 209,
      "outputs": []
    },
    {
      "cell_type": "markdown",
      "source": [
        "### **데이터 구성하기**"
      ],
      "metadata": {
        "id": "bjj97dQ_yqai"
      }
    },
    {
      "cell_type": "code",
      "source": [
        "df_raw = pd.read_csv('/content/mydrive/MyDrive/유방암.csv', encoding = 'euc-kr')\n",
        "\n",
        "print(df_raw.shape)\n",
        "df_raw.head()"
      ],
      "metadata": {
        "colab": {
          "base_uri": "https://localhost:8080/",
          "height": 318
        },
        "outputId": "534609fa-2cd2-49b6-e1e5-93be612b83a1",
        "id": "O9EsRsBPyqai"
      },
      "execution_count": 210,
      "outputs": [
        {
          "output_type": "stream",
          "name": "stdout",
          "text": [
            "(320, 31)\n"
          ]
        },
        {
          "output_type": "execute_result",
          "data": {
            "text/plain": [
              "  diagnosis  mean_radius  mean_texture  mean_perimeter  mean_area  \\\n",
              "0        음성        15.12         16.68           98.78      716.6   \n",
              "1        양성        10.80          9.71           68.77      357.6   \n",
              "2        음성        18.31         18.58          118.60     1041.0   \n",
              "3        양성        14.92         14.93           96.45      686.9   \n",
              "4        양성        12.89         13.12           81.89      515.9   \n",
              "\n",
              "   mean_smoothness  mean_compactness  mean_concavity  mean_concave_points  \\\n",
              "0          0.08876           0.09588         0.07550              0.04079   \n",
              "1          0.09594           0.05736         0.02531              0.01698   \n",
              "2          0.08588           0.08468         0.08169              0.05814   \n",
              "3          0.08098           0.08549         0.05539              0.03221   \n",
              "4          0.06955           0.03729         0.02260              0.01171   \n",
              "\n",
              "   mean_symmetry  ...  worst_radius  worst_texture  worst_perimeter  \\\n",
              "0         0.1594  ...         17.77          20.24           117.70   \n",
              "1         0.1381  ...         11.60          12.02            73.66   \n",
              "2         0.1621  ...         21.31          26.36           139.20   \n",
              "3         0.1687  ...         17.18          18.22           112.00   \n",
              "4         0.1337  ...         13.62          15.54            87.40   \n",
              "\n",
              "   worst_area  worst_smoothness  worst_compactness  worst_concavity  \\\n",
              "0       989.5           0.14910             0.3331           0.3327   \n",
              "1       414.0           0.14360             0.1257           0.1047   \n",
              "2      1410.0           0.12340             0.2445           0.3538   \n",
              "3       906.6           0.10650             0.2791           0.3151   \n",
              "4       577.0           0.09616             0.1147           0.1186   \n",
              "\n",
              "   worst_concave_points  worst_symmetry  worst_fractal_dimension  \n",
              "0               0.12520          0.3415                  0.09740  \n",
              "1               0.04603          0.2090                  0.07699  \n",
              "2               0.15710          0.3206                  0.06938  \n",
              "3               0.11470          0.2688                  0.08273  \n",
              "4               0.05366          0.2309                  0.06915  \n",
              "\n",
              "[5 rows x 31 columns]"
            ],
            "text/html": [
              "\n",
              "  <div id=\"df-652e53a9-bf31-4fdc-b86b-597bb92f4fc5\">\n",
              "    <div class=\"colab-df-container\">\n",
              "      <div>\n",
              "<style scoped>\n",
              "    .dataframe tbody tr th:only-of-type {\n",
              "        vertical-align: middle;\n",
              "    }\n",
              "\n",
              "    .dataframe tbody tr th {\n",
              "        vertical-align: top;\n",
              "    }\n",
              "\n",
              "    .dataframe thead th {\n",
              "        text-align: right;\n",
              "    }\n",
              "</style>\n",
              "<table border=\"1\" class=\"dataframe\">\n",
              "  <thead>\n",
              "    <tr style=\"text-align: right;\">\n",
              "      <th></th>\n",
              "      <th>diagnosis</th>\n",
              "      <th>mean_radius</th>\n",
              "      <th>mean_texture</th>\n",
              "      <th>mean_perimeter</th>\n",
              "      <th>mean_area</th>\n",
              "      <th>mean_smoothness</th>\n",
              "      <th>mean_compactness</th>\n",
              "      <th>mean_concavity</th>\n",
              "      <th>mean_concave_points</th>\n",
              "      <th>mean_symmetry</th>\n",
              "      <th>...</th>\n",
              "      <th>worst_radius</th>\n",
              "      <th>worst_texture</th>\n",
              "      <th>worst_perimeter</th>\n",
              "      <th>worst_area</th>\n",
              "      <th>worst_smoothness</th>\n",
              "      <th>worst_compactness</th>\n",
              "      <th>worst_concavity</th>\n",
              "      <th>worst_concave_points</th>\n",
              "      <th>worst_symmetry</th>\n",
              "      <th>worst_fractal_dimension</th>\n",
              "    </tr>\n",
              "  </thead>\n",
              "  <tbody>\n",
              "    <tr>\n",
              "      <th>0</th>\n",
              "      <td>음성</td>\n",
              "      <td>15.12</td>\n",
              "      <td>16.68</td>\n",
              "      <td>98.78</td>\n",
              "      <td>716.6</td>\n",
              "      <td>0.08876</td>\n",
              "      <td>0.09588</td>\n",
              "      <td>0.07550</td>\n",
              "      <td>0.04079</td>\n",
              "      <td>0.1594</td>\n",
              "      <td>...</td>\n",
              "      <td>17.77</td>\n",
              "      <td>20.24</td>\n",
              "      <td>117.70</td>\n",
              "      <td>989.5</td>\n",
              "      <td>0.14910</td>\n",
              "      <td>0.3331</td>\n",
              "      <td>0.3327</td>\n",
              "      <td>0.12520</td>\n",
              "      <td>0.3415</td>\n",
              "      <td>0.09740</td>\n",
              "    </tr>\n",
              "    <tr>\n",
              "      <th>1</th>\n",
              "      <td>양성</td>\n",
              "      <td>10.80</td>\n",
              "      <td>9.71</td>\n",
              "      <td>68.77</td>\n",
              "      <td>357.6</td>\n",
              "      <td>0.09594</td>\n",
              "      <td>0.05736</td>\n",
              "      <td>0.02531</td>\n",
              "      <td>0.01698</td>\n",
              "      <td>0.1381</td>\n",
              "      <td>...</td>\n",
              "      <td>11.60</td>\n",
              "      <td>12.02</td>\n",
              "      <td>73.66</td>\n",
              "      <td>414.0</td>\n",
              "      <td>0.14360</td>\n",
              "      <td>0.1257</td>\n",
              "      <td>0.1047</td>\n",
              "      <td>0.04603</td>\n",
              "      <td>0.2090</td>\n",
              "      <td>0.07699</td>\n",
              "    </tr>\n",
              "    <tr>\n",
              "      <th>2</th>\n",
              "      <td>음성</td>\n",
              "      <td>18.31</td>\n",
              "      <td>18.58</td>\n",
              "      <td>118.60</td>\n",
              "      <td>1041.0</td>\n",
              "      <td>0.08588</td>\n",
              "      <td>0.08468</td>\n",
              "      <td>0.08169</td>\n",
              "      <td>0.05814</td>\n",
              "      <td>0.1621</td>\n",
              "      <td>...</td>\n",
              "      <td>21.31</td>\n",
              "      <td>26.36</td>\n",
              "      <td>139.20</td>\n",
              "      <td>1410.0</td>\n",
              "      <td>0.12340</td>\n",
              "      <td>0.2445</td>\n",
              "      <td>0.3538</td>\n",
              "      <td>0.15710</td>\n",
              "      <td>0.3206</td>\n",
              "      <td>0.06938</td>\n",
              "    </tr>\n",
              "    <tr>\n",
              "      <th>3</th>\n",
              "      <td>양성</td>\n",
              "      <td>14.92</td>\n",
              "      <td>14.93</td>\n",
              "      <td>96.45</td>\n",
              "      <td>686.9</td>\n",
              "      <td>0.08098</td>\n",
              "      <td>0.08549</td>\n",
              "      <td>0.05539</td>\n",
              "      <td>0.03221</td>\n",
              "      <td>0.1687</td>\n",
              "      <td>...</td>\n",
              "      <td>17.18</td>\n",
              "      <td>18.22</td>\n",
              "      <td>112.00</td>\n",
              "      <td>906.6</td>\n",
              "      <td>0.10650</td>\n",
              "      <td>0.2791</td>\n",
              "      <td>0.3151</td>\n",
              "      <td>0.11470</td>\n",
              "      <td>0.2688</td>\n",
              "      <td>0.08273</td>\n",
              "    </tr>\n",
              "    <tr>\n",
              "      <th>4</th>\n",
              "      <td>양성</td>\n",
              "      <td>12.89</td>\n",
              "      <td>13.12</td>\n",
              "      <td>81.89</td>\n",
              "      <td>515.9</td>\n",
              "      <td>0.06955</td>\n",
              "      <td>0.03729</td>\n",
              "      <td>0.02260</td>\n",
              "      <td>0.01171</td>\n",
              "      <td>0.1337</td>\n",
              "      <td>...</td>\n",
              "      <td>13.62</td>\n",
              "      <td>15.54</td>\n",
              "      <td>87.40</td>\n",
              "      <td>577.0</td>\n",
              "      <td>0.09616</td>\n",
              "      <td>0.1147</td>\n",
              "      <td>0.1186</td>\n",
              "      <td>0.05366</td>\n",
              "      <td>0.2309</td>\n",
              "      <td>0.06915</td>\n",
              "    </tr>\n",
              "  </tbody>\n",
              "</table>\n",
              "<p>5 rows × 31 columns</p>\n",
              "</div>\n",
              "      <button class=\"colab-df-convert\" onclick=\"convertToInteractive('df-652e53a9-bf31-4fdc-b86b-597bb92f4fc5')\"\n",
              "              title=\"Convert this dataframe to an interactive table.\"\n",
              "              style=\"display:none;\">\n",
              "        \n",
              "  <svg xmlns=\"http://www.w3.org/2000/svg\" height=\"24px\"viewBox=\"0 0 24 24\"\n",
              "       width=\"24px\">\n",
              "    <path d=\"M0 0h24v24H0V0z\" fill=\"none\"/>\n",
              "    <path d=\"M18.56 5.44l.94 2.06.94-2.06 2.06-.94-2.06-.94-.94-2.06-.94 2.06-2.06.94zm-11 1L8.5 8.5l.94-2.06 2.06-.94-2.06-.94L8.5 2.5l-.94 2.06-2.06.94zm10 10l.94 2.06.94-2.06 2.06-.94-2.06-.94-.94-2.06-.94 2.06-2.06.94z\"/><path d=\"M17.41 7.96l-1.37-1.37c-.4-.4-.92-.59-1.43-.59-.52 0-1.04.2-1.43.59L10.3 9.45l-7.72 7.72c-.78.78-.78 2.05 0 2.83L4 21.41c.39.39.9.59 1.41.59.51 0 1.02-.2 1.41-.59l7.78-7.78 2.81-2.81c.8-.78.8-2.07 0-2.86zM5.41 20L4 18.59l7.72-7.72 1.47 1.35L5.41 20z\"/>\n",
              "  </svg>\n",
              "      </button>\n",
              "      \n",
              "  <style>\n",
              "    .colab-df-container {\n",
              "      display:flex;\n",
              "      flex-wrap:wrap;\n",
              "      gap: 12px;\n",
              "    }\n",
              "\n",
              "    .colab-df-convert {\n",
              "      background-color: #E8F0FE;\n",
              "      border: none;\n",
              "      border-radius: 50%;\n",
              "      cursor: pointer;\n",
              "      display: none;\n",
              "      fill: #1967D2;\n",
              "      height: 32px;\n",
              "      padding: 0 0 0 0;\n",
              "      width: 32px;\n",
              "    }\n",
              "\n",
              "    .colab-df-convert:hover {\n",
              "      background-color: #E2EBFA;\n",
              "      box-shadow: 0px 1px 2px rgba(60, 64, 67, 0.3), 0px 1px 3px 1px rgba(60, 64, 67, 0.15);\n",
              "      fill: #174EA6;\n",
              "    }\n",
              "\n",
              "    [theme=dark] .colab-df-convert {\n",
              "      background-color: #3B4455;\n",
              "      fill: #D2E3FC;\n",
              "    }\n",
              "\n",
              "    [theme=dark] .colab-df-convert:hover {\n",
              "      background-color: #434B5C;\n",
              "      box-shadow: 0px 1px 3px 1px rgba(0, 0, 0, 0.15);\n",
              "      filter: drop-shadow(0px 1px 2px rgba(0, 0, 0, 0.3));\n",
              "      fill: #FFFFFF;\n",
              "    }\n",
              "  </style>\n",
              "\n",
              "      <script>\n",
              "        const buttonEl =\n",
              "          document.querySelector('#df-652e53a9-bf31-4fdc-b86b-597bb92f4fc5 button.colab-df-convert');\n",
              "        buttonEl.style.display =\n",
              "          google.colab.kernel.accessAllowed ? 'block' : 'none';\n",
              "\n",
              "        async function convertToInteractive(key) {\n",
              "          const element = document.querySelector('#df-652e53a9-bf31-4fdc-b86b-597bb92f4fc5');\n",
              "          const dataTable =\n",
              "            await google.colab.kernel.invokeFunction('convertToInteractive',\n",
              "                                                     [key], {});\n",
              "          if (!dataTable) return;\n",
              "\n",
              "          const docLinkHtml = 'Like what you see? Visit the ' +\n",
              "            '<a target=\"_blank\" href=https://colab.research.google.com/notebooks/data_table.ipynb>data table notebook</a>'\n",
              "            + ' to learn more about interactive tables.';\n",
              "          element.innerHTML = '';\n",
              "          dataTable['output_type'] = 'display_data';\n",
              "          await google.colab.output.renderOutput(dataTable, element);\n",
              "          const docLink = document.createElement('div');\n",
              "          docLink.innerHTML = docLinkHtml;\n",
              "          element.appendChild(docLink);\n",
              "        }\n",
              "      </script>\n",
              "    </div>\n",
              "  </div>\n",
              "  "
            ]
          },
          "metadata": {},
          "execution_count": 210
        }
      ]
    },
    {
      "cell_type": "code",
      "source": [
        "df_raw.isnull().sum()"
      ],
      "metadata": {
        "colab": {
          "base_uri": "https://localhost:8080/"
        },
        "outputId": "77e35e1e-e614-4c67-8c96-91a2a9e01250",
        "id": "Y1_ojtvZyqak"
      },
      "execution_count": 211,
      "outputs": [
        {
          "output_type": "execute_result",
          "data": {
            "text/plain": [
              "diagnosis                  0\n",
              "mean_radius                0\n",
              "mean_texture               0\n",
              "mean_perimeter             0\n",
              "mean_area                  0\n",
              "mean_smoothness            0\n",
              "mean_compactness           0\n",
              "mean_concavity             0\n",
              "mean_concave_points        0\n",
              "mean_symmetry              0\n",
              "mean_fractal_dimension     0\n",
              "radius_error               0\n",
              "texture_error              0\n",
              "perimeter_error            0\n",
              "area_error                 0\n",
              "smoothness_error           0\n",
              "compactness_error          0\n",
              "concavity_error            0\n",
              "concave_points_error       0\n",
              "symmetry_error             0\n",
              "fractal_dimension_error    0\n",
              "worst_radius               0\n",
              "worst_texture              0\n",
              "worst_perimeter            0\n",
              "worst_area                 0\n",
              "worst_smoothness           0\n",
              "worst_compactness          0\n",
              "worst_concavity            0\n",
              "worst_concave_points       0\n",
              "worst_symmetry             0\n",
              "worst_fractal_dimension    0\n",
              "dtype: int64"
            ]
          },
          "metadata": {},
          "execution_count": 211
        }
      ]
    },
    {
      "cell_type": "code",
      "source": [
        "df_raw.loc[df_raw['diagnosis'] == '양성', 'diagnosis'] = 1\n",
        "df_raw.loc[df_raw['diagnosis'] == '음성', 'diagnosis'] = 0"
      ],
      "metadata": {
        "id": "uIKiJ84Ayqai"
      },
      "execution_count": 212,
      "outputs": []
    },
    {
      "cell_type": "code",
      "source": [
        "df_raw['diagnosis'] = df_raw['diagnosis'].astype(int)"
      ],
      "metadata": {
        "id": "JcbErYp2yqaj"
      },
      "execution_count": 213,
      "outputs": []
    },
    {
      "cell_type": "code",
      "source": [
        "print(df_raw.shape)\n",
        "df_raw.head()"
      ],
      "metadata": {
        "colab": {
          "base_uri": "https://localhost:8080/",
          "height": 318
        },
        "outputId": "c878a99e-9a15-43db-9a3e-a70cf32df771",
        "id": "EkYzVNtdyqaj"
      },
      "execution_count": 214,
      "outputs": [
        {
          "output_type": "stream",
          "name": "stdout",
          "text": [
            "(320, 31)\n"
          ]
        },
        {
          "output_type": "execute_result",
          "data": {
            "text/plain": [
              "   diagnosis  mean_radius  mean_texture  mean_perimeter  mean_area  \\\n",
              "0          0        15.12         16.68           98.78      716.6   \n",
              "1          1        10.80          9.71           68.77      357.6   \n",
              "2          0        18.31         18.58          118.60     1041.0   \n",
              "3          1        14.92         14.93           96.45      686.9   \n",
              "4          1        12.89         13.12           81.89      515.9   \n",
              "\n",
              "   mean_smoothness  mean_compactness  mean_concavity  mean_concave_points  \\\n",
              "0          0.08876           0.09588         0.07550              0.04079   \n",
              "1          0.09594           0.05736         0.02531              0.01698   \n",
              "2          0.08588           0.08468         0.08169              0.05814   \n",
              "3          0.08098           0.08549         0.05539              0.03221   \n",
              "4          0.06955           0.03729         0.02260              0.01171   \n",
              "\n",
              "   mean_symmetry  ...  worst_radius  worst_texture  worst_perimeter  \\\n",
              "0         0.1594  ...         17.77          20.24           117.70   \n",
              "1         0.1381  ...         11.60          12.02            73.66   \n",
              "2         0.1621  ...         21.31          26.36           139.20   \n",
              "3         0.1687  ...         17.18          18.22           112.00   \n",
              "4         0.1337  ...         13.62          15.54            87.40   \n",
              "\n",
              "   worst_area  worst_smoothness  worst_compactness  worst_concavity  \\\n",
              "0       989.5           0.14910             0.3331           0.3327   \n",
              "1       414.0           0.14360             0.1257           0.1047   \n",
              "2      1410.0           0.12340             0.2445           0.3538   \n",
              "3       906.6           0.10650             0.2791           0.3151   \n",
              "4       577.0           0.09616             0.1147           0.1186   \n",
              "\n",
              "   worst_concave_points  worst_symmetry  worst_fractal_dimension  \n",
              "0               0.12520          0.3415                  0.09740  \n",
              "1               0.04603          0.2090                  0.07699  \n",
              "2               0.15710          0.3206                  0.06938  \n",
              "3               0.11470          0.2688                  0.08273  \n",
              "4               0.05366          0.2309                  0.06915  \n",
              "\n",
              "[5 rows x 31 columns]"
            ],
            "text/html": [
              "\n",
              "  <div id=\"df-2796d416-98df-4253-9d14-4ae706006d23\">\n",
              "    <div class=\"colab-df-container\">\n",
              "      <div>\n",
              "<style scoped>\n",
              "    .dataframe tbody tr th:only-of-type {\n",
              "        vertical-align: middle;\n",
              "    }\n",
              "\n",
              "    .dataframe tbody tr th {\n",
              "        vertical-align: top;\n",
              "    }\n",
              "\n",
              "    .dataframe thead th {\n",
              "        text-align: right;\n",
              "    }\n",
              "</style>\n",
              "<table border=\"1\" class=\"dataframe\">\n",
              "  <thead>\n",
              "    <tr style=\"text-align: right;\">\n",
              "      <th></th>\n",
              "      <th>diagnosis</th>\n",
              "      <th>mean_radius</th>\n",
              "      <th>mean_texture</th>\n",
              "      <th>mean_perimeter</th>\n",
              "      <th>mean_area</th>\n",
              "      <th>mean_smoothness</th>\n",
              "      <th>mean_compactness</th>\n",
              "      <th>mean_concavity</th>\n",
              "      <th>mean_concave_points</th>\n",
              "      <th>mean_symmetry</th>\n",
              "      <th>...</th>\n",
              "      <th>worst_radius</th>\n",
              "      <th>worst_texture</th>\n",
              "      <th>worst_perimeter</th>\n",
              "      <th>worst_area</th>\n",
              "      <th>worst_smoothness</th>\n",
              "      <th>worst_compactness</th>\n",
              "      <th>worst_concavity</th>\n",
              "      <th>worst_concave_points</th>\n",
              "      <th>worst_symmetry</th>\n",
              "      <th>worst_fractal_dimension</th>\n",
              "    </tr>\n",
              "  </thead>\n",
              "  <tbody>\n",
              "    <tr>\n",
              "      <th>0</th>\n",
              "      <td>0</td>\n",
              "      <td>15.12</td>\n",
              "      <td>16.68</td>\n",
              "      <td>98.78</td>\n",
              "      <td>716.6</td>\n",
              "      <td>0.08876</td>\n",
              "      <td>0.09588</td>\n",
              "      <td>0.07550</td>\n",
              "      <td>0.04079</td>\n",
              "      <td>0.1594</td>\n",
              "      <td>...</td>\n",
              "      <td>17.77</td>\n",
              "      <td>20.24</td>\n",
              "      <td>117.70</td>\n",
              "      <td>989.5</td>\n",
              "      <td>0.14910</td>\n",
              "      <td>0.3331</td>\n",
              "      <td>0.3327</td>\n",
              "      <td>0.12520</td>\n",
              "      <td>0.3415</td>\n",
              "      <td>0.09740</td>\n",
              "    </tr>\n",
              "    <tr>\n",
              "      <th>1</th>\n",
              "      <td>1</td>\n",
              "      <td>10.80</td>\n",
              "      <td>9.71</td>\n",
              "      <td>68.77</td>\n",
              "      <td>357.6</td>\n",
              "      <td>0.09594</td>\n",
              "      <td>0.05736</td>\n",
              "      <td>0.02531</td>\n",
              "      <td>0.01698</td>\n",
              "      <td>0.1381</td>\n",
              "      <td>...</td>\n",
              "      <td>11.60</td>\n",
              "      <td>12.02</td>\n",
              "      <td>73.66</td>\n",
              "      <td>414.0</td>\n",
              "      <td>0.14360</td>\n",
              "      <td>0.1257</td>\n",
              "      <td>0.1047</td>\n",
              "      <td>0.04603</td>\n",
              "      <td>0.2090</td>\n",
              "      <td>0.07699</td>\n",
              "    </tr>\n",
              "    <tr>\n",
              "      <th>2</th>\n",
              "      <td>0</td>\n",
              "      <td>18.31</td>\n",
              "      <td>18.58</td>\n",
              "      <td>118.60</td>\n",
              "      <td>1041.0</td>\n",
              "      <td>0.08588</td>\n",
              "      <td>0.08468</td>\n",
              "      <td>0.08169</td>\n",
              "      <td>0.05814</td>\n",
              "      <td>0.1621</td>\n",
              "      <td>...</td>\n",
              "      <td>21.31</td>\n",
              "      <td>26.36</td>\n",
              "      <td>139.20</td>\n",
              "      <td>1410.0</td>\n",
              "      <td>0.12340</td>\n",
              "      <td>0.2445</td>\n",
              "      <td>0.3538</td>\n",
              "      <td>0.15710</td>\n",
              "      <td>0.3206</td>\n",
              "      <td>0.06938</td>\n",
              "    </tr>\n",
              "    <tr>\n",
              "      <th>3</th>\n",
              "      <td>1</td>\n",
              "      <td>14.92</td>\n",
              "      <td>14.93</td>\n",
              "      <td>96.45</td>\n",
              "      <td>686.9</td>\n",
              "      <td>0.08098</td>\n",
              "      <td>0.08549</td>\n",
              "      <td>0.05539</td>\n",
              "      <td>0.03221</td>\n",
              "      <td>0.1687</td>\n",
              "      <td>...</td>\n",
              "      <td>17.18</td>\n",
              "      <td>18.22</td>\n",
              "      <td>112.00</td>\n",
              "      <td>906.6</td>\n",
              "      <td>0.10650</td>\n",
              "      <td>0.2791</td>\n",
              "      <td>0.3151</td>\n",
              "      <td>0.11470</td>\n",
              "      <td>0.2688</td>\n",
              "      <td>0.08273</td>\n",
              "    </tr>\n",
              "    <tr>\n",
              "      <th>4</th>\n",
              "      <td>1</td>\n",
              "      <td>12.89</td>\n",
              "      <td>13.12</td>\n",
              "      <td>81.89</td>\n",
              "      <td>515.9</td>\n",
              "      <td>0.06955</td>\n",
              "      <td>0.03729</td>\n",
              "      <td>0.02260</td>\n",
              "      <td>0.01171</td>\n",
              "      <td>0.1337</td>\n",
              "      <td>...</td>\n",
              "      <td>13.62</td>\n",
              "      <td>15.54</td>\n",
              "      <td>87.40</td>\n",
              "      <td>577.0</td>\n",
              "      <td>0.09616</td>\n",
              "      <td>0.1147</td>\n",
              "      <td>0.1186</td>\n",
              "      <td>0.05366</td>\n",
              "      <td>0.2309</td>\n",
              "      <td>0.06915</td>\n",
              "    </tr>\n",
              "  </tbody>\n",
              "</table>\n",
              "<p>5 rows × 31 columns</p>\n",
              "</div>\n",
              "      <button class=\"colab-df-convert\" onclick=\"convertToInteractive('df-2796d416-98df-4253-9d14-4ae706006d23')\"\n",
              "              title=\"Convert this dataframe to an interactive table.\"\n",
              "              style=\"display:none;\">\n",
              "        \n",
              "  <svg xmlns=\"http://www.w3.org/2000/svg\" height=\"24px\"viewBox=\"0 0 24 24\"\n",
              "       width=\"24px\">\n",
              "    <path d=\"M0 0h24v24H0V0z\" fill=\"none\"/>\n",
              "    <path d=\"M18.56 5.44l.94 2.06.94-2.06 2.06-.94-2.06-.94-.94-2.06-.94 2.06-2.06.94zm-11 1L8.5 8.5l.94-2.06 2.06-.94-2.06-.94L8.5 2.5l-.94 2.06-2.06.94zm10 10l.94 2.06.94-2.06 2.06-.94-2.06-.94-.94-2.06-.94 2.06-2.06.94z\"/><path d=\"M17.41 7.96l-1.37-1.37c-.4-.4-.92-.59-1.43-.59-.52 0-1.04.2-1.43.59L10.3 9.45l-7.72 7.72c-.78.78-.78 2.05 0 2.83L4 21.41c.39.39.9.59 1.41.59.51 0 1.02-.2 1.41-.59l7.78-7.78 2.81-2.81c.8-.78.8-2.07 0-2.86zM5.41 20L4 18.59l7.72-7.72 1.47 1.35L5.41 20z\"/>\n",
              "  </svg>\n",
              "      </button>\n",
              "      \n",
              "  <style>\n",
              "    .colab-df-container {\n",
              "      display:flex;\n",
              "      flex-wrap:wrap;\n",
              "      gap: 12px;\n",
              "    }\n",
              "\n",
              "    .colab-df-convert {\n",
              "      background-color: #E8F0FE;\n",
              "      border: none;\n",
              "      border-radius: 50%;\n",
              "      cursor: pointer;\n",
              "      display: none;\n",
              "      fill: #1967D2;\n",
              "      height: 32px;\n",
              "      padding: 0 0 0 0;\n",
              "      width: 32px;\n",
              "    }\n",
              "\n",
              "    .colab-df-convert:hover {\n",
              "      background-color: #E2EBFA;\n",
              "      box-shadow: 0px 1px 2px rgba(60, 64, 67, 0.3), 0px 1px 3px 1px rgba(60, 64, 67, 0.15);\n",
              "      fill: #174EA6;\n",
              "    }\n",
              "\n",
              "    [theme=dark] .colab-df-convert {\n",
              "      background-color: #3B4455;\n",
              "      fill: #D2E3FC;\n",
              "    }\n",
              "\n",
              "    [theme=dark] .colab-df-convert:hover {\n",
              "      background-color: #434B5C;\n",
              "      box-shadow: 0px 1px 3px 1px rgba(0, 0, 0, 0.15);\n",
              "      filter: drop-shadow(0px 1px 2px rgba(0, 0, 0, 0.3));\n",
              "      fill: #FFFFFF;\n",
              "    }\n",
              "  </style>\n",
              "\n",
              "      <script>\n",
              "        const buttonEl =\n",
              "          document.querySelector('#df-2796d416-98df-4253-9d14-4ae706006d23 button.colab-df-convert');\n",
              "        buttonEl.style.display =\n",
              "          google.colab.kernel.accessAllowed ? 'block' : 'none';\n",
              "\n",
              "        async function convertToInteractive(key) {\n",
              "          const element = document.querySelector('#df-2796d416-98df-4253-9d14-4ae706006d23');\n",
              "          const dataTable =\n",
              "            await google.colab.kernel.invokeFunction('convertToInteractive',\n",
              "                                                     [key], {});\n",
              "          if (!dataTable) return;\n",
              "\n",
              "          const docLinkHtml = 'Like what you see? Visit the ' +\n",
              "            '<a target=\"_blank\" href=https://colab.research.google.com/notebooks/data_table.ipynb>data table notebook</a>'\n",
              "            + ' to learn more about interactive tables.';\n",
              "          element.innerHTML = '';\n",
              "          dataTable['output_type'] = 'display_data';\n",
              "          await google.colab.output.renderOutput(dataTable, element);\n",
              "          const docLink = document.createElement('div');\n",
              "          docLink.innerHTML = docLinkHtml;\n",
              "          element.appendChild(docLink);\n",
              "        }\n",
              "      </script>\n",
              "    </div>\n",
              "  </div>\n",
              "  "
            ]
          },
          "metadata": {},
          "execution_count": 214
        }
      ]
    },
    {
      "cell_type": "code",
      "source": [
        "df_raw.info()"
      ],
      "metadata": {
        "colab": {
          "base_uri": "https://localhost:8080/"
        },
        "outputId": "e8fa1e61-cc2f-43b2-8e25-6cfc0e350c9c",
        "id": "qHgMGeA1yqaj"
      },
      "execution_count": 215,
      "outputs": [
        {
          "output_type": "stream",
          "name": "stdout",
          "text": [
            "<class 'pandas.core.frame.DataFrame'>\n",
            "RangeIndex: 320 entries, 0 to 319\n",
            "Data columns (total 31 columns):\n",
            " #   Column                   Non-Null Count  Dtype  \n",
            "---  ------                   --------------  -----  \n",
            " 0   diagnosis                320 non-null    int64  \n",
            " 1   mean_radius              320 non-null    float64\n",
            " 2   mean_texture             320 non-null    float64\n",
            " 3   mean_perimeter           320 non-null    float64\n",
            " 4   mean_area                320 non-null    float64\n",
            " 5   mean_smoothness          320 non-null    float64\n",
            " 6   mean_compactness         320 non-null    float64\n",
            " 7   mean_concavity           320 non-null    float64\n",
            " 8   mean_concave_points      320 non-null    float64\n",
            " 9   mean_symmetry            320 non-null    float64\n",
            " 10  mean_fractal_dimension   320 non-null    float64\n",
            " 11  radius_error             320 non-null    float64\n",
            " 12  texture_error            320 non-null    float64\n",
            " 13  perimeter_error          320 non-null    float64\n",
            " 14  area_error               320 non-null    float64\n",
            " 15  smoothness_error         320 non-null    float64\n",
            " 16  compactness_error        320 non-null    float64\n",
            " 17  concavity_error          320 non-null    float64\n",
            " 18  concave_points_error     320 non-null    float64\n",
            " 19  symmetry_error           320 non-null    float64\n",
            " 20  fractal_dimension_error  320 non-null    float64\n",
            " 21  worst_radius             320 non-null    float64\n",
            " 22  worst_texture            320 non-null    float64\n",
            " 23  worst_perimeter          320 non-null    float64\n",
            " 24  worst_area               320 non-null    float64\n",
            " 25  worst_smoothness         320 non-null    float64\n",
            " 26  worst_compactness        320 non-null    float64\n",
            " 27  worst_concavity          320 non-null    float64\n",
            " 28  worst_concave_points     320 non-null    float64\n",
            " 29  worst_symmetry           320 non-null    float64\n",
            " 30  worst_fractal_dimension  320 non-null    float64\n",
            "dtypes: float64(30), int64(1)\n",
            "memory usage: 77.6 KB\n"
          ]
        }
      ]
    },
    {
      "cell_type": "code",
      "source": [
        "sm = SMOTE(sampling_strategy = 'auto')\n",
        "x_resampled, y_resampled = sm.fit_resample(df_train_x, df_train_y)\n",
        "\n",
        "print('diagnosis의 전체 자료 개수 : {}'.format(len(df_raw['diagnosis'])))\n",
        "print('Over-Sampling 후 1 : {}'.format(sum(y_resampled == 1)))\n",
        "print('Over-Sampling 후 0 : {}'.format(sum(y_resampled == 0)))"
      ],
      "metadata": {
        "colab": {
          "base_uri": "https://localhost:8080/"
        },
        "outputId": "e52af2c7-cd14-4b7a-9a5d-18c97ece4bec",
        "id": "DKUn13WCIspT"
      },
      "execution_count": 223,
      "outputs": [
        {
          "output_type": "stream",
          "name": "stdout",
          "text": [
            "diagnosis의 전체 자료 개수 : 320\n",
            "Over-Sampling 후 1 : 115\n",
            "Over-Sampling 후 0 : 115\n"
          ]
        }
      ]
    },
    {
      "cell_type": "code",
      "source": [
        "df_resampled = pd.concat([x_resampled, y_resampled], axis = 1)\n",
        "\n",
        "print(df_resampled.shape)\n",
        "df_resampled.head()"
      ],
      "metadata": {
        "outputId": "a8a5bcf7-fc3a-4f0f-d0c1-88a98670f4dd",
        "colab": {
          "base_uri": "https://localhost:8080/",
          "height": 318
        },
        "id": "Lp5q6bHBIsp7"
      },
      "execution_count": 224,
      "outputs": [
        {
          "output_type": "stream",
          "name": "stdout",
          "text": [
            "(230, 31)\n"
          ]
        },
        {
          "output_type": "execute_result",
          "data": {
            "text/plain": [
              "   mean_radius  mean_texture  mean_perimeter  mean_area  mean_smoothness  \\\n",
              "0       13.150         15.34           85.31      538.9          0.09384   \n",
              "1       15.750         19.22          107.10      758.6          0.12430   \n",
              "2       20.640         17.35          134.80     1335.0          0.09446   \n",
              "3       15.710         13.93          102.00      761.7          0.09462   \n",
              "4        9.667         18.49           61.49      289.1          0.08946   \n",
              "\n",
              "   mean_compactness  mean_concavity  mean_concave_points  mean_symmetry  \\\n",
              "0           0.08498         0.09293              0.03483         0.1822   \n",
              "1           0.23640         0.29140              0.12420         0.2375   \n",
              "2           0.10760         0.15270              0.08941         0.1571   \n",
              "3           0.09462         0.07135              0.05933         0.1816   \n",
              "4           0.06258         0.02948              0.01514         0.2238   \n",
              "\n",
              "   mean_fractal_dimension  ...  worst_texture  worst_perimeter  worst_area  \\\n",
              "0                 0.06207  ...          20.50            97.67       677.3   \n",
              "1                 0.07603  ...          24.17           119.40       915.3   \n",
              "2                 0.05478  ...          23.17           166.80      1946.0   \n",
              "3                 0.05723  ...          19.25           114.30       922.8   \n",
              "4                 0.06413  ...          25.62            70.88       385.2   \n",
              "\n",
              "   worst_smoothness  worst_compactness  worst_concavity  worst_concave_points  \\\n",
              "0            0.1478             0.2256           0.3009               0.09722   \n",
              "1            0.1550             0.5046           0.6872               0.21350   \n",
              "2            0.1562             0.3055           0.4159               0.21120   \n",
              "3            0.1223             0.1949           0.1709               0.13740   \n",
              "4            0.1234             0.1542           0.1277               0.06560   \n",
              "\n",
              "   worst_symmetry  worst_fractal_dimension  diagnosis  \n",
              "0          0.3849                  0.08633          1  \n",
              "1          0.4245                  0.10500          0  \n",
              "2          0.2689                  0.07055          0  \n",
              "3          0.2723                  0.07071          1  \n",
              "4          0.3174                  0.08524          1  \n",
              "\n",
              "[5 rows x 31 columns]"
            ],
            "text/html": [
              "\n",
              "  <div id=\"df-4fafd78d-3711-463b-94c9-4e1a98ae75cc\">\n",
              "    <div class=\"colab-df-container\">\n",
              "      <div>\n",
              "<style scoped>\n",
              "    .dataframe tbody tr th:only-of-type {\n",
              "        vertical-align: middle;\n",
              "    }\n",
              "\n",
              "    .dataframe tbody tr th {\n",
              "        vertical-align: top;\n",
              "    }\n",
              "\n",
              "    .dataframe thead th {\n",
              "        text-align: right;\n",
              "    }\n",
              "</style>\n",
              "<table border=\"1\" class=\"dataframe\">\n",
              "  <thead>\n",
              "    <tr style=\"text-align: right;\">\n",
              "      <th></th>\n",
              "      <th>mean_radius</th>\n",
              "      <th>mean_texture</th>\n",
              "      <th>mean_perimeter</th>\n",
              "      <th>mean_area</th>\n",
              "      <th>mean_smoothness</th>\n",
              "      <th>mean_compactness</th>\n",
              "      <th>mean_concavity</th>\n",
              "      <th>mean_concave_points</th>\n",
              "      <th>mean_symmetry</th>\n",
              "      <th>mean_fractal_dimension</th>\n",
              "      <th>...</th>\n",
              "      <th>worst_texture</th>\n",
              "      <th>worst_perimeter</th>\n",
              "      <th>worst_area</th>\n",
              "      <th>worst_smoothness</th>\n",
              "      <th>worst_compactness</th>\n",
              "      <th>worst_concavity</th>\n",
              "      <th>worst_concave_points</th>\n",
              "      <th>worst_symmetry</th>\n",
              "      <th>worst_fractal_dimension</th>\n",
              "      <th>diagnosis</th>\n",
              "    </tr>\n",
              "  </thead>\n",
              "  <tbody>\n",
              "    <tr>\n",
              "      <th>0</th>\n",
              "      <td>13.150</td>\n",
              "      <td>15.34</td>\n",
              "      <td>85.31</td>\n",
              "      <td>538.9</td>\n",
              "      <td>0.09384</td>\n",
              "      <td>0.08498</td>\n",
              "      <td>0.09293</td>\n",
              "      <td>0.03483</td>\n",
              "      <td>0.1822</td>\n",
              "      <td>0.06207</td>\n",
              "      <td>...</td>\n",
              "      <td>20.50</td>\n",
              "      <td>97.67</td>\n",
              "      <td>677.3</td>\n",
              "      <td>0.1478</td>\n",
              "      <td>0.2256</td>\n",
              "      <td>0.3009</td>\n",
              "      <td>0.09722</td>\n",
              "      <td>0.3849</td>\n",
              "      <td>0.08633</td>\n",
              "      <td>1</td>\n",
              "    </tr>\n",
              "    <tr>\n",
              "      <th>1</th>\n",
              "      <td>15.750</td>\n",
              "      <td>19.22</td>\n",
              "      <td>107.10</td>\n",
              "      <td>758.6</td>\n",
              "      <td>0.12430</td>\n",
              "      <td>0.23640</td>\n",
              "      <td>0.29140</td>\n",
              "      <td>0.12420</td>\n",
              "      <td>0.2375</td>\n",
              "      <td>0.07603</td>\n",
              "      <td>...</td>\n",
              "      <td>24.17</td>\n",
              "      <td>119.40</td>\n",
              "      <td>915.3</td>\n",
              "      <td>0.1550</td>\n",
              "      <td>0.5046</td>\n",
              "      <td>0.6872</td>\n",
              "      <td>0.21350</td>\n",
              "      <td>0.4245</td>\n",
              "      <td>0.10500</td>\n",
              "      <td>0</td>\n",
              "    </tr>\n",
              "    <tr>\n",
              "      <th>2</th>\n",
              "      <td>20.640</td>\n",
              "      <td>17.35</td>\n",
              "      <td>134.80</td>\n",
              "      <td>1335.0</td>\n",
              "      <td>0.09446</td>\n",
              "      <td>0.10760</td>\n",
              "      <td>0.15270</td>\n",
              "      <td>0.08941</td>\n",
              "      <td>0.1571</td>\n",
              "      <td>0.05478</td>\n",
              "      <td>...</td>\n",
              "      <td>23.17</td>\n",
              "      <td>166.80</td>\n",
              "      <td>1946.0</td>\n",
              "      <td>0.1562</td>\n",
              "      <td>0.3055</td>\n",
              "      <td>0.4159</td>\n",
              "      <td>0.21120</td>\n",
              "      <td>0.2689</td>\n",
              "      <td>0.07055</td>\n",
              "      <td>0</td>\n",
              "    </tr>\n",
              "    <tr>\n",
              "      <th>3</th>\n",
              "      <td>15.710</td>\n",
              "      <td>13.93</td>\n",
              "      <td>102.00</td>\n",
              "      <td>761.7</td>\n",
              "      <td>0.09462</td>\n",
              "      <td>0.09462</td>\n",
              "      <td>0.07135</td>\n",
              "      <td>0.05933</td>\n",
              "      <td>0.1816</td>\n",
              "      <td>0.05723</td>\n",
              "      <td>...</td>\n",
              "      <td>19.25</td>\n",
              "      <td>114.30</td>\n",
              "      <td>922.8</td>\n",
              "      <td>0.1223</td>\n",
              "      <td>0.1949</td>\n",
              "      <td>0.1709</td>\n",
              "      <td>0.13740</td>\n",
              "      <td>0.2723</td>\n",
              "      <td>0.07071</td>\n",
              "      <td>1</td>\n",
              "    </tr>\n",
              "    <tr>\n",
              "      <th>4</th>\n",
              "      <td>9.667</td>\n",
              "      <td>18.49</td>\n",
              "      <td>61.49</td>\n",
              "      <td>289.1</td>\n",
              "      <td>0.08946</td>\n",
              "      <td>0.06258</td>\n",
              "      <td>0.02948</td>\n",
              "      <td>0.01514</td>\n",
              "      <td>0.2238</td>\n",
              "      <td>0.06413</td>\n",
              "      <td>...</td>\n",
              "      <td>25.62</td>\n",
              "      <td>70.88</td>\n",
              "      <td>385.2</td>\n",
              "      <td>0.1234</td>\n",
              "      <td>0.1542</td>\n",
              "      <td>0.1277</td>\n",
              "      <td>0.06560</td>\n",
              "      <td>0.3174</td>\n",
              "      <td>0.08524</td>\n",
              "      <td>1</td>\n",
              "    </tr>\n",
              "  </tbody>\n",
              "</table>\n",
              "<p>5 rows × 31 columns</p>\n",
              "</div>\n",
              "      <button class=\"colab-df-convert\" onclick=\"convertToInteractive('df-4fafd78d-3711-463b-94c9-4e1a98ae75cc')\"\n",
              "              title=\"Convert this dataframe to an interactive table.\"\n",
              "              style=\"display:none;\">\n",
              "        \n",
              "  <svg xmlns=\"http://www.w3.org/2000/svg\" height=\"24px\"viewBox=\"0 0 24 24\"\n",
              "       width=\"24px\">\n",
              "    <path d=\"M0 0h24v24H0V0z\" fill=\"none\"/>\n",
              "    <path d=\"M18.56 5.44l.94 2.06.94-2.06 2.06-.94-2.06-.94-.94-2.06-.94 2.06-2.06.94zm-11 1L8.5 8.5l.94-2.06 2.06-.94-2.06-.94L8.5 2.5l-.94 2.06-2.06.94zm10 10l.94 2.06.94-2.06 2.06-.94-2.06-.94-.94-2.06-.94 2.06-2.06.94z\"/><path d=\"M17.41 7.96l-1.37-1.37c-.4-.4-.92-.59-1.43-.59-.52 0-1.04.2-1.43.59L10.3 9.45l-7.72 7.72c-.78.78-.78 2.05 0 2.83L4 21.41c.39.39.9.59 1.41.59.51 0 1.02-.2 1.41-.59l7.78-7.78 2.81-2.81c.8-.78.8-2.07 0-2.86zM5.41 20L4 18.59l7.72-7.72 1.47 1.35L5.41 20z\"/>\n",
              "  </svg>\n",
              "      </button>\n",
              "      \n",
              "  <style>\n",
              "    .colab-df-container {\n",
              "      display:flex;\n",
              "      flex-wrap:wrap;\n",
              "      gap: 12px;\n",
              "    }\n",
              "\n",
              "    .colab-df-convert {\n",
              "      background-color: #E8F0FE;\n",
              "      border: none;\n",
              "      border-radius: 50%;\n",
              "      cursor: pointer;\n",
              "      display: none;\n",
              "      fill: #1967D2;\n",
              "      height: 32px;\n",
              "      padding: 0 0 0 0;\n",
              "      width: 32px;\n",
              "    }\n",
              "\n",
              "    .colab-df-convert:hover {\n",
              "      background-color: #E2EBFA;\n",
              "      box-shadow: 0px 1px 2px rgba(60, 64, 67, 0.3), 0px 1px 3px 1px rgba(60, 64, 67, 0.15);\n",
              "      fill: #174EA6;\n",
              "    }\n",
              "\n",
              "    [theme=dark] .colab-df-convert {\n",
              "      background-color: #3B4455;\n",
              "      fill: #D2E3FC;\n",
              "    }\n",
              "\n",
              "    [theme=dark] .colab-df-convert:hover {\n",
              "      background-color: #434B5C;\n",
              "      box-shadow: 0px 1px 3px 1px rgba(0, 0, 0, 0.15);\n",
              "      filter: drop-shadow(0px 1px 2px rgba(0, 0, 0, 0.3));\n",
              "      fill: #FFFFFF;\n",
              "    }\n",
              "  </style>\n",
              "\n",
              "      <script>\n",
              "        const buttonEl =\n",
              "          document.querySelector('#df-4fafd78d-3711-463b-94c9-4e1a98ae75cc button.colab-df-convert');\n",
              "        buttonEl.style.display =\n",
              "          google.colab.kernel.accessAllowed ? 'block' : 'none';\n",
              "\n",
              "        async function convertToInteractive(key) {\n",
              "          const element = document.querySelector('#df-4fafd78d-3711-463b-94c9-4e1a98ae75cc');\n",
              "          const dataTable =\n",
              "            await google.colab.kernel.invokeFunction('convertToInteractive',\n",
              "                                                     [key], {});\n",
              "          if (!dataTable) return;\n",
              "\n",
              "          const docLinkHtml = 'Like what you see? Visit the ' +\n",
              "            '<a target=\"_blank\" href=https://colab.research.google.com/notebooks/data_table.ipynb>data table notebook</a>'\n",
              "            + ' to learn more about interactive tables.';\n",
              "          element.innerHTML = '';\n",
              "          dataTable['output_type'] = 'display_data';\n",
              "          await google.colab.output.renderOutput(dataTable, element);\n",
              "          const docLink = document.createElement('div');\n",
              "          docLink.innerHTML = docLinkHtml;\n",
              "          element.appendChild(docLink);\n",
              "        }\n",
              "      </script>\n",
              "    </div>\n",
              "  </div>\n",
              "  "
            ]
          },
          "metadata": {},
          "execution_count": 224
        }
      ]
    },
    {
      "cell_type": "markdown",
      "source": [
        "### **데이터 구성하기 : 데이터 분할하기**"
      ],
      "metadata": {
        "id": "6kKZZvHGyqam"
      }
    },
    {
      "cell_type": "code",
      "source": [
        "df_raw_x = df_resampled.drop('diagnosis',axis = 1)\n",
        "df_raw_y = df_resampled['diagnosis']"
      ],
      "metadata": {
        "id": "Sm14vVCQyqam"
      },
      "execution_count": 226,
      "outputs": []
    },
    {
      "cell_type": "code",
      "source": [
        "print(df_raw_x.shape)\n",
        "df_raw_x.head()"
      ],
      "metadata": {
        "colab": {
          "base_uri": "https://localhost:8080/",
          "height": 318
        },
        "outputId": "fd1dbde0-b965-4c17-de9c-c7ec0cb68bd8",
        "id": "N9U0pGqEyqam"
      },
      "execution_count": 227,
      "outputs": [
        {
          "output_type": "stream",
          "name": "stdout",
          "text": [
            "(230, 30)\n"
          ]
        },
        {
          "output_type": "execute_result",
          "data": {
            "text/plain": [
              "   mean_radius  mean_texture  mean_perimeter  mean_area  mean_smoothness  \\\n",
              "0       13.150         15.34           85.31      538.9          0.09384   \n",
              "1       15.750         19.22          107.10      758.6          0.12430   \n",
              "2       20.640         17.35          134.80     1335.0          0.09446   \n",
              "3       15.710         13.93          102.00      761.7          0.09462   \n",
              "4        9.667         18.49           61.49      289.1          0.08946   \n",
              "\n",
              "   mean_compactness  mean_concavity  mean_concave_points  mean_symmetry  \\\n",
              "0           0.08498         0.09293              0.03483         0.1822   \n",
              "1           0.23640         0.29140              0.12420         0.2375   \n",
              "2           0.10760         0.15270              0.08941         0.1571   \n",
              "3           0.09462         0.07135              0.05933         0.1816   \n",
              "4           0.06258         0.02948              0.01514         0.2238   \n",
              "\n",
              "   mean_fractal_dimension  ...  worst_radius  worst_texture  worst_perimeter  \\\n",
              "0                 0.06207  ...         14.77          20.50            97.67   \n",
              "1                 0.07603  ...         17.36          24.17           119.40   \n",
              "2                 0.05478  ...         25.37          23.17           166.80   \n",
              "3                 0.05723  ...         17.50          19.25           114.30   \n",
              "4                 0.06413  ...         11.14          25.62            70.88   \n",
              "\n",
              "   worst_area  worst_smoothness  worst_compactness  worst_concavity  \\\n",
              "0       677.3            0.1478             0.2256           0.3009   \n",
              "1       915.3            0.1550             0.5046           0.6872   \n",
              "2      1946.0            0.1562             0.3055           0.4159   \n",
              "3       922.8            0.1223             0.1949           0.1709   \n",
              "4       385.2            0.1234             0.1542           0.1277   \n",
              "\n",
              "   worst_concave_points  worst_symmetry  worst_fractal_dimension  \n",
              "0               0.09722          0.3849                  0.08633  \n",
              "1               0.21350          0.4245                  0.10500  \n",
              "2               0.21120          0.2689                  0.07055  \n",
              "3               0.13740          0.2723                  0.07071  \n",
              "4               0.06560          0.3174                  0.08524  \n",
              "\n",
              "[5 rows x 30 columns]"
            ],
            "text/html": [
              "\n",
              "  <div id=\"df-e2bb9747-6194-4990-9c3b-a416dcbba4ee\">\n",
              "    <div class=\"colab-df-container\">\n",
              "      <div>\n",
              "<style scoped>\n",
              "    .dataframe tbody tr th:only-of-type {\n",
              "        vertical-align: middle;\n",
              "    }\n",
              "\n",
              "    .dataframe tbody tr th {\n",
              "        vertical-align: top;\n",
              "    }\n",
              "\n",
              "    .dataframe thead th {\n",
              "        text-align: right;\n",
              "    }\n",
              "</style>\n",
              "<table border=\"1\" class=\"dataframe\">\n",
              "  <thead>\n",
              "    <tr style=\"text-align: right;\">\n",
              "      <th></th>\n",
              "      <th>mean_radius</th>\n",
              "      <th>mean_texture</th>\n",
              "      <th>mean_perimeter</th>\n",
              "      <th>mean_area</th>\n",
              "      <th>mean_smoothness</th>\n",
              "      <th>mean_compactness</th>\n",
              "      <th>mean_concavity</th>\n",
              "      <th>mean_concave_points</th>\n",
              "      <th>mean_symmetry</th>\n",
              "      <th>mean_fractal_dimension</th>\n",
              "      <th>...</th>\n",
              "      <th>worst_radius</th>\n",
              "      <th>worst_texture</th>\n",
              "      <th>worst_perimeter</th>\n",
              "      <th>worst_area</th>\n",
              "      <th>worst_smoothness</th>\n",
              "      <th>worst_compactness</th>\n",
              "      <th>worst_concavity</th>\n",
              "      <th>worst_concave_points</th>\n",
              "      <th>worst_symmetry</th>\n",
              "      <th>worst_fractal_dimension</th>\n",
              "    </tr>\n",
              "  </thead>\n",
              "  <tbody>\n",
              "    <tr>\n",
              "      <th>0</th>\n",
              "      <td>13.150</td>\n",
              "      <td>15.34</td>\n",
              "      <td>85.31</td>\n",
              "      <td>538.9</td>\n",
              "      <td>0.09384</td>\n",
              "      <td>0.08498</td>\n",
              "      <td>0.09293</td>\n",
              "      <td>0.03483</td>\n",
              "      <td>0.1822</td>\n",
              "      <td>0.06207</td>\n",
              "      <td>...</td>\n",
              "      <td>14.77</td>\n",
              "      <td>20.50</td>\n",
              "      <td>97.67</td>\n",
              "      <td>677.3</td>\n",
              "      <td>0.1478</td>\n",
              "      <td>0.2256</td>\n",
              "      <td>0.3009</td>\n",
              "      <td>0.09722</td>\n",
              "      <td>0.3849</td>\n",
              "      <td>0.08633</td>\n",
              "    </tr>\n",
              "    <tr>\n",
              "      <th>1</th>\n",
              "      <td>15.750</td>\n",
              "      <td>19.22</td>\n",
              "      <td>107.10</td>\n",
              "      <td>758.6</td>\n",
              "      <td>0.12430</td>\n",
              "      <td>0.23640</td>\n",
              "      <td>0.29140</td>\n",
              "      <td>0.12420</td>\n",
              "      <td>0.2375</td>\n",
              "      <td>0.07603</td>\n",
              "      <td>...</td>\n",
              "      <td>17.36</td>\n",
              "      <td>24.17</td>\n",
              "      <td>119.40</td>\n",
              "      <td>915.3</td>\n",
              "      <td>0.1550</td>\n",
              "      <td>0.5046</td>\n",
              "      <td>0.6872</td>\n",
              "      <td>0.21350</td>\n",
              "      <td>0.4245</td>\n",
              "      <td>0.10500</td>\n",
              "    </tr>\n",
              "    <tr>\n",
              "      <th>2</th>\n",
              "      <td>20.640</td>\n",
              "      <td>17.35</td>\n",
              "      <td>134.80</td>\n",
              "      <td>1335.0</td>\n",
              "      <td>0.09446</td>\n",
              "      <td>0.10760</td>\n",
              "      <td>0.15270</td>\n",
              "      <td>0.08941</td>\n",
              "      <td>0.1571</td>\n",
              "      <td>0.05478</td>\n",
              "      <td>...</td>\n",
              "      <td>25.37</td>\n",
              "      <td>23.17</td>\n",
              "      <td>166.80</td>\n",
              "      <td>1946.0</td>\n",
              "      <td>0.1562</td>\n",
              "      <td>0.3055</td>\n",
              "      <td>0.4159</td>\n",
              "      <td>0.21120</td>\n",
              "      <td>0.2689</td>\n",
              "      <td>0.07055</td>\n",
              "    </tr>\n",
              "    <tr>\n",
              "      <th>3</th>\n",
              "      <td>15.710</td>\n",
              "      <td>13.93</td>\n",
              "      <td>102.00</td>\n",
              "      <td>761.7</td>\n",
              "      <td>0.09462</td>\n",
              "      <td>0.09462</td>\n",
              "      <td>0.07135</td>\n",
              "      <td>0.05933</td>\n",
              "      <td>0.1816</td>\n",
              "      <td>0.05723</td>\n",
              "      <td>...</td>\n",
              "      <td>17.50</td>\n",
              "      <td>19.25</td>\n",
              "      <td>114.30</td>\n",
              "      <td>922.8</td>\n",
              "      <td>0.1223</td>\n",
              "      <td>0.1949</td>\n",
              "      <td>0.1709</td>\n",
              "      <td>0.13740</td>\n",
              "      <td>0.2723</td>\n",
              "      <td>0.07071</td>\n",
              "    </tr>\n",
              "    <tr>\n",
              "      <th>4</th>\n",
              "      <td>9.667</td>\n",
              "      <td>18.49</td>\n",
              "      <td>61.49</td>\n",
              "      <td>289.1</td>\n",
              "      <td>0.08946</td>\n",
              "      <td>0.06258</td>\n",
              "      <td>0.02948</td>\n",
              "      <td>0.01514</td>\n",
              "      <td>0.2238</td>\n",
              "      <td>0.06413</td>\n",
              "      <td>...</td>\n",
              "      <td>11.14</td>\n",
              "      <td>25.62</td>\n",
              "      <td>70.88</td>\n",
              "      <td>385.2</td>\n",
              "      <td>0.1234</td>\n",
              "      <td>0.1542</td>\n",
              "      <td>0.1277</td>\n",
              "      <td>0.06560</td>\n",
              "      <td>0.3174</td>\n",
              "      <td>0.08524</td>\n",
              "    </tr>\n",
              "  </tbody>\n",
              "</table>\n",
              "<p>5 rows × 30 columns</p>\n",
              "</div>\n",
              "      <button class=\"colab-df-convert\" onclick=\"convertToInteractive('df-e2bb9747-6194-4990-9c3b-a416dcbba4ee')\"\n",
              "              title=\"Convert this dataframe to an interactive table.\"\n",
              "              style=\"display:none;\">\n",
              "        \n",
              "  <svg xmlns=\"http://www.w3.org/2000/svg\" height=\"24px\"viewBox=\"0 0 24 24\"\n",
              "       width=\"24px\">\n",
              "    <path d=\"M0 0h24v24H0V0z\" fill=\"none\"/>\n",
              "    <path d=\"M18.56 5.44l.94 2.06.94-2.06 2.06-.94-2.06-.94-.94-2.06-.94 2.06-2.06.94zm-11 1L8.5 8.5l.94-2.06 2.06-.94-2.06-.94L8.5 2.5l-.94 2.06-2.06.94zm10 10l.94 2.06.94-2.06 2.06-.94-2.06-.94-.94-2.06-.94 2.06-2.06.94z\"/><path d=\"M17.41 7.96l-1.37-1.37c-.4-.4-.92-.59-1.43-.59-.52 0-1.04.2-1.43.59L10.3 9.45l-7.72 7.72c-.78.78-.78 2.05 0 2.83L4 21.41c.39.39.9.59 1.41.59.51 0 1.02-.2 1.41-.59l7.78-7.78 2.81-2.81c.8-.78.8-2.07 0-2.86zM5.41 20L4 18.59l7.72-7.72 1.47 1.35L5.41 20z\"/>\n",
              "  </svg>\n",
              "      </button>\n",
              "      \n",
              "  <style>\n",
              "    .colab-df-container {\n",
              "      display:flex;\n",
              "      flex-wrap:wrap;\n",
              "      gap: 12px;\n",
              "    }\n",
              "\n",
              "    .colab-df-convert {\n",
              "      background-color: #E8F0FE;\n",
              "      border: none;\n",
              "      border-radius: 50%;\n",
              "      cursor: pointer;\n",
              "      display: none;\n",
              "      fill: #1967D2;\n",
              "      height: 32px;\n",
              "      padding: 0 0 0 0;\n",
              "      width: 32px;\n",
              "    }\n",
              "\n",
              "    .colab-df-convert:hover {\n",
              "      background-color: #E2EBFA;\n",
              "      box-shadow: 0px 1px 2px rgba(60, 64, 67, 0.3), 0px 1px 3px 1px rgba(60, 64, 67, 0.15);\n",
              "      fill: #174EA6;\n",
              "    }\n",
              "\n",
              "    [theme=dark] .colab-df-convert {\n",
              "      background-color: #3B4455;\n",
              "      fill: #D2E3FC;\n",
              "    }\n",
              "\n",
              "    [theme=dark] .colab-df-convert:hover {\n",
              "      background-color: #434B5C;\n",
              "      box-shadow: 0px 1px 3px 1px rgba(0, 0, 0, 0.15);\n",
              "      filter: drop-shadow(0px 1px 2px rgba(0, 0, 0, 0.3));\n",
              "      fill: #FFFFFF;\n",
              "    }\n",
              "  </style>\n",
              "\n",
              "      <script>\n",
              "        const buttonEl =\n",
              "          document.querySelector('#df-e2bb9747-6194-4990-9c3b-a416dcbba4ee button.colab-df-convert');\n",
              "        buttonEl.style.display =\n",
              "          google.colab.kernel.accessAllowed ? 'block' : 'none';\n",
              "\n",
              "        async function convertToInteractive(key) {\n",
              "          const element = document.querySelector('#df-e2bb9747-6194-4990-9c3b-a416dcbba4ee');\n",
              "          const dataTable =\n",
              "            await google.colab.kernel.invokeFunction('convertToInteractive',\n",
              "                                                     [key], {});\n",
              "          if (!dataTable) return;\n",
              "\n",
              "          const docLinkHtml = 'Like what you see? Visit the ' +\n",
              "            '<a target=\"_blank\" href=https://colab.research.google.com/notebooks/data_table.ipynb>data table notebook</a>'\n",
              "            + ' to learn more about interactive tables.';\n",
              "          element.innerHTML = '';\n",
              "          dataTable['output_type'] = 'display_data';\n",
              "          await google.colab.output.renderOutput(dataTable, element);\n",
              "          const docLink = document.createElement('div');\n",
              "          docLink.innerHTML = docLinkHtml;\n",
              "          element.appendChild(docLink);\n",
              "        }\n",
              "      </script>\n",
              "    </div>\n",
              "  </div>\n",
              "  "
            ]
          },
          "metadata": {},
          "execution_count": 227
        }
      ]
    },
    {
      "cell_type": "code",
      "source": [
        "df_train_x, df_test_x, df_train_y, df_test_y = train_test_split(df_raw_x, \n",
        "                                                                df_raw_y, \n",
        "                                                                test_size = 0.4, \n",
        "                                                                random_state = 1234)\n",
        "\n",
        "print('df_train_x size : {}'.format(df_train_x.shape))\n",
        "print('df_test_x size : {}'.format(df_test_x.shape))\n",
        "print('df_train_y size : {}'.format(df_train_y.shape))\n",
        "print('df_test_y size : {}'.format(df_test_y.shape))"
      ],
      "metadata": {
        "colab": {
          "base_uri": "https://localhost:8080/"
        },
        "outputId": "7d5bf4f4-0f66-43f7-9f1c-8404cf262eba",
        "id": "qf-T6XoYyqan"
      },
      "execution_count": 229,
      "outputs": [
        {
          "output_type": "stream",
          "name": "stdout",
          "text": [
            "df_train_x size : (138, 30)\n",
            "df_test_x size : (92, 30)\n",
            "df_train_y size : (138,)\n",
            "df_test_y size : (92,)\n"
          ]
        }
      ]
    },
    {
      "cell_type": "markdown",
      "source": [
        "### **모델 생성하기**"
      ],
      "metadata": {
        "id": "rpL8lscDyqan"
      }
    },
    {
      "cell_type": "code",
      "source": [
        "rf_uncustomized = RandomForestClassifier(random_state = 1234)\n",
        "rf_uncustomized.fit(df_train_x, df_train_y)\n",
        "\n",
        "print('Accuracy on training set : {:.3f}'.format(rf_uncustomized.score(df_train_x, df_train_y)))\n",
        "print('Accuracy on test set : {:.3f}'.format(rf_uncustomized.score(df_test_x, df_test_y)))"
      ],
      "metadata": {
        "colab": {
          "base_uri": "https://localhost:8080/"
        },
        "outputId": "58947db5-273e-4270-a315-8809f8aea8a0",
        "id": "KhIyApAoyqan"
      },
      "execution_count": 230,
      "outputs": [
        {
          "output_type": "stream",
          "name": "stdout",
          "text": [
            "Accuracy on training set : 1.000\n",
            "Accuracy on test set : 0.989\n"
          ]
        }
      ]
    },
    {
      "cell_type": "markdown",
      "source": [
        "만들어진 의사결정나무 모델은 train과 test 데이터에 대해 각각 100%, 98.9%의 설명력을 갖는다. train 데이터에 있어서 과대적합되는 현상이 일어난 것으로 보인다."
      ],
      "metadata": {
        "id": "m59PJeRXyqao"
      }
    },
    {
      "cell_type": "markdown",
      "source": [
        "### **모델 파라미터 설정하기 : n_estimators**"
      ],
      "metadata": {
        "id": "BPOIZvdN0OlJ"
      }
    },
    {
      "cell_type": "code",
      "source": [
        "train_accuracy = []; test_accuracy = []\n",
        "para_n_tree = [n_tree * 10 for n_tree in range(1,16)]\n",
        "\n",
        "for v_n_estimators in para_n_tree :\n",
        "    rf = RandomForestClassifier(random_state = 1234,\n",
        "                                n_estimators = v_n_estimators)\n",
        "    rf.fit(df_train_x, df_train_y)\n",
        "    train_accuracy.append(rf.score(df_train_x, df_train_y))\n",
        "    test_accuracy.append(rf.score(df_test_x, df_test_y))\n",
        "\n",
        "df_accuracy_n = pd.DataFrame()\n",
        "df_accuracy_n['n_estimators'] = para_n_tree\n",
        "df_accuracy_n['TrainAccuracy'] = train_accuracy\n",
        "df_accuracy_n['TestAccuracy'] = test_accuracy"
      ],
      "metadata": {
        "id": "x0xhtOIF0Olu"
      },
      "execution_count": 231,
      "outputs": []
    },
    {
      "cell_type": "code",
      "source": [
        "df_accuracy_n.round(3)"
      ],
      "metadata": {
        "colab": {
          "base_uri": "https://localhost:8080/",
          "height": 520
        },
        "outputId": "f8bc2a42-5769-443b-b3c3-1e0a92d18a19",
        "id": "3TcfoeDA0Olv"
      },
      "execution_count": 232,
      "outputs": [
        {
          "output_type": "execute_result",
          "data": {
            "text/plain": [
              "    n_estimators  TrainAccuracy  TestAccuracy\n",
              "0             10            1.0         0.989\n",
              "1             20            1.0         0.989\n",
              "2             30            1.0         0.989\n",
              "3             40            1.0         0.989\n",
              "4             50            1.0         0.989\n",
              "5             60            1.0         0.989\n",
              "6             70            1.0         0.989\n",
              "7             80            1.0         0.989\n",
              "8             90            1.0         0.989\n",
              "9            100            1.0         0.989\n",
              "10           110            1.0         0.989\n",
              "11           120            1.0         0.989\n",
              "12           130            1.0         0.989\n",
              "13           140            1.0         0.989\n",
              "14           150            1.0         0.989"
            ],
            "text/html": [
              "\n",
              "  <div id=\"df-2d12d315-30e0-4e29-8eb1-29cd8b162ba3\">\n",
              "    <div class=\"colab-df-container\">\n",
              "      <div>\n",
              "<style scoped>\n",
              "    .dataframe tbody tr th:only-of-type {\n",
              "        vertical-align: middle;\n",
              "    }\n",
              "\n",
              "    .dataframe tbody tr th {\n",
              "        vertical-align: top;\n",
              "    }\n",
              "\n",
              "    .dataframe thead th {\n",
              "        text-align: right;\n",
              "    }\n",
              "</style>\n",
              "<table border=\"1\" class=\"dataframe\">\n",
              "  <thead>\n",
              "    <tr style=\"text-align: right;\">\n",
              "      <th></th>\n",
              "      <th>n_estimators</th>\n",
              "      <th>TrainAccuracy</th>\n",
              "      <th>TestAccuracy</th>\n",
              "    </tr>\n",
              "  </thead>\n",
              "  <tbody>\n",
              "    <tr>\n",
              "      <th>0</th>\n",
              "      <td>10</td>\n",
              "      <td>1.0</td>\n",
              "      <td>0.989</td>\n",
              "    </tr>\n",
              "    <tr>\n",
              "      <th>1</th>\n",
              "      <td>20</td>\n",
              "      <td>1.0</td>\n",
              "      <td>0.989</td>\n",
              "    </tr>\n",
              "    <tr>\n",
              "      <th>2</th>\n",
              "      <td>30</td>\n",
              "      <td>1.0</td>\n",
              "      <td>0.989</td>\n",
              "    </tr>\n",
              "    <tr>\n",
              "      <th>3</th>\n",
              "      <td>40</td>\n",
              "      <td>1.0</td>\n",
              "      <td>0.989</td>\n",
              "    </tr>\n",
              "    <tr>\n",
              "      <th>4</th>\n",
              "      <td>50</td>\n",
              "      <td>1.0</td>\n",
              "      <td>0.989</td>\n",
              "    </tr>\n",
              "    <tr>\n",
              "      <th>5</th>\n",
              "      <td>60</td>\n",
              "      <td>1.0</td>\n",
              "      <td>0.989</td>\n",
              "    </tr>\n",
              "    <tr>\n",
              "      <th>6</th>\n",
              "      <td>70</td>\n",
              "      <td>1.0</td>\n",
              "      <td>0.989</td>\n",
              "    </tr>\n",
              "    <tr>\n",
              "      <th>7</th>\n",
              "      <td>80</td>\n",
              "      <td>1.0</td>\n",
              "      <td>0.989</td>\n",
              "    </tr>\n",
              "    <tr>\n",
              "      <th>8</th>\n",
              "      <td>90</td>\n",
              "      <td>1.0</td>\n",
              "      <td>0.989</td>\n",
              "    </tr>\n",
              "    <tr>\n",
              "      <th>9</th>\n",
              "      <td>100</td>\n",
              "      <td>1.0</td>\n",
              "      <td>0.989</td>\n",
              "    </tr>\n",
              "    <tr>\n",
              "      <th>10</th>\n",
              "      <td>110</td>\n",
              "      <td>1.0</td>\n",
              "      <td>0.989</td>\n",
              "    </tr>\n",
              "    <tr>\n",
              "      <th>11</th>\n",
              "      <td>120</td>\n",
              "      <td>1.0</td>\n",
              "      <td>0.989</td>\n",
              "    </tr>\n",
              "    <tr>\n",
              "      <th>12</th>\n",
              "      <td>130</td>\n",
              "      <td>1.0</td>\n",
              "      <td>0.989</td>\n",
              "    </tr>\n",
              "    <tr>\n",
              "      <th>13</th>\n",
              "      <td>140</td>\n",
              "      <td>1.0</td>\n",
              "      <td>0.989</td>\n",
              "    </tr>\n",
              "    <tr>\n",
              "      <th>14</th>\n",
              "      <td>150</td>\n",
              "      <td>1.0</td>\n",
              "      <td>0.989</td>\n",
              "    </tr>\n",
              "  </tbody>\n",
              "</table>\n",
              "</div>\n",
              "      <button class=\"colab-df-convert\" onclick=\"convertToInteractive('df-2d12d315-30e0-4e29-8eb1-29cd8b162ba3')\"\n",
              "              title=\"Convert this dataframe to an interactive table.\"\n",
              "              style=\"display:none;\">\n",
              "        \n",
              "  <svg xmlns=\"http://www.w3.org/2000/svg\" height=\"24px\"viewBox=\"0 0 24 24\"\n",
              "       width=\"24px\">\n",
              "    <path d=\"M0 0h24v24H0V0z\" fill=\"none\"/>\n",
              "    <path d=\"M18.56 5.44l.94 2.06.94-2.06 2.06-.94-2.06-.94-.94-2.06-.94 2.06-2.06.94zm-11 1L8.5 8.5l.94-2.06 2.06-.94-2.06-.94L8.5 2.5l-.94 2.06-2.06.94zm10 10l.94 2.06.94-2.06 2.06-.94-2.06-.94-.94-2.06-.94 2.06-2.06.94z\"/><path d=\"M17.41 7.96l-1.37-1.37c-.4-.4-.92-.59-1.43-.59-.52 0-1.04.2-1.43.59L10.3 9.45l-7.72 7.72c-.78.78-.78 2.05 0 2.83L4 21.41c.39.39.9.59 1.41.59.51 0 1.02-.2 1.41-.59l7.78-7.78 2.81-2.81c.8-.78.8-2.07 0-2.86zM5.41 20L4 18.59l7.72-7.72 1.47 1.35L5.41 20z\"/>\n",
              "  </svg>\n",
              "      </button>\n",
              "      \n",
              "  <style>\n",
              "    .colab-df-container {\n",
              "      display:flex;\n",
              "      flex-wrap:wrap;\n",
              "      gap: 12px;\n",
              "    }\n",
              "\n",
              "    .colab-df-convert {\n",
              "      background-color: #E8F0FE;\n",
              "      border: none;\n",
              "      border-radius: 50%;\n",
              "      cursor: pointer;\n",
              "      display: none;\n",
              "      fill: #1967D2;\n",
              "      height: 32px;\n",
              "      padding: 0 0 0 0;\n",
              "      width: 32px;\n",
              "    }\n",
              "\n",
              "    .colab-df-convert:hover {\n",
              "      background-color: #E2EBFA;\n",
              "      box-shadow: 0px 1px 2px rgba(60, 64, 67, 0.3), 0px 1px 3px 1px rgba(60, 64, 67, 0.15);\n",
              "      fill: #174EA6;\n",
              "    }\n",
              "\n",
              "    [theme=dark] .colab-df-convert {\n",
              "      background-color: #3B4455;\n",
              "      fill: #D2E3FC;\n",
              "    }\n",
              "\n",
              "    [theme=dark] .colab-df-convert:hover {\n",
              "      background-color: #434B5C;\n",
              "      box-shadow: 0px 1px 3px 1px rgba(0, 0, 0, 0.15);\n",
              "      filter: drop-shadow(0px 1px 2px rgba(0, 0, 0, 0.3));\n",
              "      fill: #FFFFFF;\n",
              "    }\n",
              "  </style>\n",
              "\n",
              "      <script>\n",
              "        const buttonEl =\n",
              "          document.querySelector('#df-2d12d315-30e0-4e29-8eb1-29cd8b162ba3 button.colab-df-convert');\n",
              "        buttonEl.style.display =\n",
              "          google.colab.kernel.accessAllowed ? 'block' : 'none';\n",
              "\n",
              "        async function convertToInteractive(key) {\n",
              "          const element = document.querySelector('#df-2d12d315-30e0-4e29-8eb1-29cd8b162ba3');\n",
              "          const dataTable =\n",
              "            await google.colab.kernel.invokeFunction('convertToInteractive',\n",
              "                                                     [key], {});\n",
              "          if (!dataTable) return;\n",
              "\n",
              "          const docLinkHtml = 'Like what you see? Visit the ' +\n",
              "            '<a target=\"_blank\" href=https://colab.research.google.com/notebooks/data_table.ipynb>data table notebook</a>'\n",
              "            + ' to learn more about interactive tables.';\n",
              "          element.innerHTML = '';\n",
              "          dataTable['output_type'] = 'display_data';\n",
              "          await google.colab.output.renderOutput(dataTable, element);\n",
              "          const docLink = document.createElement('div');\n",
              "          docLink.innerHTML = docLinkHtml;\n",
              "          element.appendChild(docLink);\n",
              "        }\n",
              "      </script>\n",
              "    </div>\n",
              "  </div>\n",
              "  "
            ]
          },
          "metadata": {},
          "execution_count": 232
        }
      ]
    },
    {
      "cell_type": "code",
      "source": [
        "plt.plot(para_n_tree, train_accuracy, linestyle = '-', label = 'Train Accuracy')\n",
        "plt.plot(para_n_tree, test_accuracy, linestyle = '-', label = 'Test Accuracy')\n",
        "plt.ylabel('Accuracy'); plt.xlabel('n_estimators')\n",
        "plt.legend()"
      ],
      "metadata": {
        "colab": {
          "base_uri": "https://localhost:8080/",
          "height": 298
        },
        "outputId": "17f2988c-1b91-438a-c6c9-187f7c67d229",
        "id": "MUMru8mq0Olw"
      },
      "execution_count": 233,
      "outputs": [
        {
          "output_type": "execute_result",
          "data": {
            "text/plain": [
              "<matplotlib.legend.Legend at 0x7f169bb91590>"
            ]
          },
          "metadata": {},
          "execution_count": 233
        },
        {
          "output_type": "display_data",
          "data": {
            "text/plain": [
              "<Figure size 432x288 with 1 Axes>"
            ],
            "image/png": "[encoded data removed]"
          },
          "metadata": {
            "needs_background": "light"
          }
        }
      ]
    },
    {
      "cell_type": "markdown",
      "source": [
        "- train과 test 데이터에 대해 과대적합이 발생하는 것으로 보인다.\n",
        "- TestScore가 0.989이고 TrainScore가 1.000인 **n_estimators = 10**를 파라미터로 설정한다. "
      ],
      "metadata": {
        "id": "z-3pRGRD0Olx"
      }
    },
    {
      "cell_type": "code",
      "source": [
        "## oob error 변화 확인하기\n",
        "\n",
        "oob_error = []\n",
        "\n",
        "for v_n_estimator in range(1,151) :\n",
        "    rf = RandomForestClassifier(n_estimators = v_n_estimator, oob_score = True, random_state = 1234)\n",
        "    rf.fit(df_train_x, df_train_y)\n",
        "    oob_error.append(1 - rf.oob_score_)"
      ],
      "metadata": {
        "colab": {
          "base_uri": "https://localhost:8080/"
        },
        "id": "QUrdd2JYP0Vi",
        "outputId": "7b6b562d-ca9d-4e46-f208-9f35f22a0771"
      },
      "execution_count": 265,
      "outputs": [
        {
          "output_type": "stream",
          "name": "stderr",
          "text": [
            "/usr/local/lib/python3.7/dist-packages/sklearn/ensemble/_forest.py:564: UserWarning: Some inputs do not have OOB scores. This probably means too few trees were used to compute any reliable OOB estimates.\n",
            "  UserWarning,\n",
            "/usr/local/lib/python3.7/dist-packages/sklearn/ensemble/_forest.py:564: UserWarning: Some inputs do not have OOB scores. This probably means too few trees were used to compute any reliable OOB estimates.\n",
            "  UserWarning,\n",
            "/usr/local/lib/python3.7/dist-packages/sklearn/ensemble/_forest.py:564: UserWarning: Some inputs do not have OOB scores. This probably means too few trees were used to compute any reliable OOB estimates.\n",
            "  UserWarning,\n",
            "/usr/local/lib/python3.7/dist-packages/sklearn/ensemble/_forest.py:564: UserWarning: Some inputs do not have OOB scores. This probably means too few trees were used to compute any reliable OOB estimates.\n",
            "  UserWarning,\n",
            "/usr/local/lib/python3.7/dist-packages/sklearn/ensemble/_forest.py:564: UserWarning: Some inputs do not have OOB scores. This probably means too few trees were used to compute any reliable OOB estimates.\n",
            "  UserWarning,\n",
            "/usr/local/lib/python3.7/dist-packages/sklearn/ensemble/_forest.py:564: UserWarning: Some inputs do not have OOB scores. This probably means too few trees were used to compute any reliable OOB estimates.\n",
            "  UserWarning,\n",
            "/usr/local/lib/python3.7/dist-packages/sklearn/ensemble/_forest.py:564: UserWarning: Some inputs do not have OOB scores. This probably means too few trees were used to compute any reliable OOB estimates.\n",
            "  UserWarning,\n",
            "/usr/local/lib/python3.7/dist-packages/sklearn/ensemble/_forest.py:564: UserWarning: Some inputs do not have OOB scores. This probably means too few trees were used to compute any reliable OOB estimates.\n",
            "  UserWarning,\n",
            "/usr/local/lib/python3.7/dist-packages/sklearn/ensemble/_forest.py:564: UserWarning: Some inputs do not have OOB scores. This probably means too few trees were used to compute any reliable OOB estimates.\n",
            "  UserWarning,\n",
            "/usr/local/lib/python3.7/dist-packages/sklearn/ensemble/_forest.py:564: UserWarning: Some inputs do not have OOB scores. This probably means too few trees were used to compute any reliable OOB estimates.\n",
            "  UserWarning,\n",
            "/usr/local/lib/python3.7/dist-packages/sklearn/ensemble/_forest.py:564: UserWarning: Some inputs do not have OOB scores. This probably means too few trees were used to compute any reliable OOB estimates.\n",
            "  UserWarning,\n"
          ]
        }
      ]
    },
    {
      "cell_type": "code",
      "source": [
        "plt.plot(range(1,151), oob_error)\n",
        "plt.ylabel('oob error')\n",
        "plt.xlabel('n_estimators')"
      ],
      "metadata": {
        "colab": {
          "base_uri": "https://localhost:8080/",
          "height": 299
        },
        "id": "qyp5OM_mQUWD",
        "outputId": "b5a5dc3a-e000-477c-f5a9-38a50b2da47b"
      },
      "execution_count": 267,
      "outputs": [
        {
          "output_type": "execute_result",
          "data": {
            "text/plain": [
              "Text(0.5, 0, 'n_estimators')"
            ]
          },
          "metadata": {},
          "execution_count": 267
        },
        {
          "output_type": "display_data",
          "data": {
            "text/plain": [
              "<Figure size 432x288 with 1 Axes>"
            ],
            "image/png": "[encoded data removed]"
          },
          "metadata": {
            "needs_background": "light"
          }
        }
      ]
    },
    {
      "cell_type": "markdown",
      "source": [
        "생성하려는 결정 트리의 수가 증가할수록 OOB Error가 감소하여 모델의 정확도 또한 증가한다."
      ],
      "metadata": {
        "id": "tAH3I8J_Q8Vf"
      }
    },
    {
      "cell_type": "markdown",
      "source": [
        "### **모델 파라미터 설정하기 : max_depth**"
      ],
      "metadata": {
        "id": "ApCYwQyiyqao"
      }
    },
    {
      "cell_type": "code",
      "source": [
        "train_accuracy = []; test_accuracy = []\n",
        "para_depth = [depth for depth in range(1,11)]\n",
        "\n",
        "for v_max_depth in para_depth :\n",
        "    rf = RandomForestClassifier(random_state = 1234,\n",
        "                                  n_estimators = 10,\n",
        "                                  max_depth = v_max_depth)\n",
        "    rf.fit(df_train_x, df_train_y)\n",
        "    train_accuracy.append(rf.score(df_train_x, df_train_y))\n",
        "    test_accuracy.append(rf.score(df_test_x, df_test_y))\n",
        "\n",
        "df_accuracy_depth = pd.DataFrame()\n",
        "df_accuracy_depth['Depth'] = para_depth\n",
        "df_accuracy_depth['TrainScore'] = train_accuracy\n",
        "df_accuracy_depth['TestScore'] = test_accuracy"
      ],
      "metadata": {
        "id": "dQNfCVGSyqao"
      },
      "execution_count": 234,
      "outputs": []
    },
    {
      "cell_type": "code",
      "source": [
        "df_accuracy_depth.round(3)"
      ],
      "metadata": {
        "colab": {
          "base_uri": "https://localhost:8080/",
          "height": 363
        },
        "outputId": "d1c1cfcb-8d7a-44b5-80a8-aa1e924a696c",
        "id": "FEvloCsyyqao"
      },
      "execution_count": 235,
      "outputs": [
        {
          "output_type": "execute_result",
          "data": {
            "text/plain": [
              "   Depth  TrainScore  TestScore\n",
              "0      1       0.949      0.978\n",
              "1      2       0.978      0.978\n",
              "2      3       0.986      0.989\n",
              "3      4       0.993      0.989\n",
              "4      5       1.000      0.989\n",
              "5      6       1.000      0.989\n",
              "6      7       1.000      0.989\n",
              "7      8       1.000      0.989\n",
              "8      9       1.000      0.989\n",
              "9     10       1.000      0.989"
            ],
            "text/html": [
              "\n",
              "  <div id=\"df-0718f85b-3aa1-4f2a-98b6-9c682a4fe127\">\n",
              "    <div class=\"colab-df-container\">\n",
              "      <div>\n",
              "<style scoped>\n",
              "    .dataframe tbody tr th:only-of-type {\n",
              "        vertical-align: middle;\n",
              "    }\n",
              "\n",
              "    .dataframe tbody tr th {\n",
              "        vertical-align: top;\n",
              "    }\n",
              "\n",
              "    .dataframe thead th {\n",
              "        text-align: right;\n",
              "    }\n",
              "</style>\n",
              "<table border=\"1\" class=\"dataframe\">\n",
              "  <thead>\n",
              "    <tr style=\"text-align: right;\">\n",
              "      <th></th>\n",
              "      <th>Depth</th>\n",
              "      <th>TrainScore</th>\n",
              "      <th>TestScore</th>\n",
              "    </tr>\n",
              "  </thead>\n",
              "  <tbody>\n",
              "    <tr>\n",
              "      <th>0</th>\n",
              "      <td>1</td>\n",
              "      <td>0.949</td>\n",
              "      <td>0.978</td>\n",
              "    </tr>\n",
              "    <tr>\n",
              "      <th>1</th>\n",
              "      <td>2</td>\n",
              "      <td>0.978</td>\n",
              "      <td>0.978</td>\n",
              "    </tr>\n",
              "    <tr>\n",
              "      <th>2</th>\n",
              "      <td>3</td>\n",
              "      <td>0.986</td>\n",
              "      <td>0.989</td>\n",
              "    </tr>\n",
              "    <tr>\n",
              "      <th>3</th>\n",
              "      <td>4</td>\n",
              "      <td>0.993</td>\n",
              "      <td>0.989</td>\n",
              "    </tr>\n",
              "    <tr>\n",
              "      <th>4</th>\n",
              "      <td>5</td>\n",
              "      <td>1.000</td>\n",
              "      <td>0.989</td>\n",
              "    </tr>\n",
              "    <tr>\n",
              "      <th>5</th>\n",
              "      <td>6</td>\n",
              "      <td>1.000</td>\n",
              "      <td>0.989</td>\n",
              "    </tr>\n",
              "    <tr>\n",
              "      <th>6</th>\n",
              "      <td>7</td>\n",
              "      <td>1.000</td>\n",
              "      <td>0.989</td>\n",
              "    </tr>\n",
              "    <tr>\n",
              "      <th>7</th>\n",
              "      <td>8</td>\n",
              "      <td>1.000</td>\n",
              "      <td>0.989</td>\n",
              "    </tr>\n",
              "    <tr>\n",
              "      <th>8</th>\n",
              "      <td>9</td>\n",
              "      <td>1.000</td>\n",
              "      <td>0.989</td>\n",
              "    </tr>\n",
              "    <tr>\n",
              "      <th>9</th>\n",
              "      <td>10</td>\n",
              "      <td>1.000</td>\n",
              "      <td>0.989</td>\n",
              "    </tr>\n",
              "  </tbody>\n",
              "</table>\n",
              "</div>\n",
              "      <button class=\"colab-df-convert\" onclick=\"convertToInteractive('df-0718f85b-3aa1-4f2a-98b6-9c682a4fe127')\"\n",
              "              title=\"Convert this dataframe to an interactive table.\"\n",
              "              style=\"display:none;\">\n",
              "        \n",
              "  <svg xmlns=\"http://www.w3.org/2000/svg\" height=\"24px\"viewBox=\"0 0 24 24\"\n",
              "       width=\"24px\">\n",
              "    <path d=\"M0 0h24v24H0V0z\" fill=\"none\"/>\n",
              "    <path d=\"M18.56 5.44l.94 2.06.94-2.06 2.06-.94-2.06-.94-.94-2.06-.94 2.06-2.06.94zm-11 1L8.5 8.5l.94-2.06 2.06-.94-2.06-.94L8.5 2.5l-.94 2.06-2.06.94zm10 10l.94 2.06.94-2.06 2.06-.94-2.06-.94-.94-2.06-.94 2.06-2.06.94z\"/><path d=\"M17.41 7.96l-1.37-1.37c-.4-.4-.92-.59-1.43-.59-.52 0-1.04.2-1.43.59L10.3 9.45l-7.72 7.72c-.78.78-.78 2.05 0 2.83L4 21.41c.39.39.9.59 1.41.59.51 0 1.02-.2 1.41-.59l7.78-7.78 2.81-2.81c.8-.78.8-2.07 0-2.86zM5.41 20L4 18.59l7.72-7.72 1.47 1.35L5.41 20z\"/>\n",
              "  </svg>\n",
              "      </button>\n",
              "      \n",
              "  <style>\n",
              "    .colab-df-container {\n",
              "      display:flex;\n",
              "      flex-wrap:wrap;\n",
              "      gap: 12px;\n",
              "    }\n",
              "\n",
              "    .colab-df-convert {\n",
              "      background-color: #E8F0FE;\n",
              "      border: none;\n",
              "      border-radius: 50%;\n",
              "      cursor: pointer;\n",
              "      display: none;\n",
              "      fill: #1967D2;\n",
              "      height: 32px;\n",
              "      padding: 0 0 0 0;\n",
              "      width: 32px;\n",
              "    }\n",
              "\n",
              "    .colab-df-convert:hover {\n",
              "      background-color: #E2EBFA;\n",
              "      box-shadow: 0px 1px 2px rgba(60, 64, 67, 0.3), 0px 1px 3px 1px rgba(60, 64, 67, 0.15);\n",
              "      fill: #174EA6;\n",
              "    }\n",
              "\n",
              "    [theme=dark] .colab-df-convert {\n",
              "      background-color: #3B4455;\n",
              "      fill: #D2E3FC;\n",
              "    }\n",
              "\n",
              "    [theme=dark] .colab-df-convert:hover {\n",
              "      background-color: #434B5C;\n",
              "      box-shadow: 0px 1px 3px 1px rgba(0, 0, 0, 0.15);\n",
              "      filter: drop-shadow(0px 1px 2px rgba(0, 0, 0, 0.3));\n",
              "      fill: #FFFFFF;\n",
              "    }\n",
              "  </style>\n",
              "\n",
              "      <script>\n",
              "        const buttonEl =\n",
              "          document.querySelector('#df-0718f85b-3aa1-4f2a-98b6-9c682a4fe127 button.colab-df-convert');\n",
              "        buttonEl.style.display =\n",
              "          google.colab.kernel.accessAllowed ? 'block' : 'none';\n",
              "\n",
              "        async function convertToInteractive(key) {\n",
              "          const element = document.querySelector('#df-0718f85b-3aa1-4f2a-98b6-9c682a4fe127');\n",
              "          const dataTable =\n",
              "            await google.colab.kernel.invokeFunction('convertToInteractive',\n",
              "                                                     [key], {});\n",
              "          if (!dataTable) return;\n",
              "\n",
              "          const docLinkHtml = 'Like what you see? Visit the ' +\n",
              "            '<a target=\"_blank\" href=https://colab.research.google.com/notebooks/data_table.ipynb>data table notebook</a>'\n",
              "            + ' to learn more about interactive tables.';\n",
              "          element.innerHTML = '';\n",
              "          dataTable['output_type'] = 'display_data';\n",
              "          await google.colab.output.renderOutput(dataTable, element);\n",
              "          const docLink = document.createElement('div');\n",
              "          docLink.innerHTML = docLinkHtml;\n",
              "          element.appendChild(docLink);\n",
              "        }\n",
              "      </script>\n",
              "    </div>\n",
              "  </div>\n",
              "  "
            ]
          },
          "metadata": {},
          "execution_count": 235
        }
      ]
    },
    {
      "cell_type": "code",
      "source": [
        "plt.plot(para_depth, train_accuracy, linestyle = '-', label = 'Train Accuracy')\n",
        "plt.plot(para_depth, test_accuracy, linestyle = '-', label = 'Test Accuracy')\n",
        "plt.ylabel('Accuracy'); plt.xlabel('MaxDepth')\n",
        "plt.legend()"
      ],
      "metadata": {
        "colab": {
          "base_uri": "https://localhost:8080/",
          "height": 297
        },
        "outputId": "94d03463-0f96-4046-afa7-6ae0433e58a6",
        "id": "iU3mdl3xyqao"
      },
      "execution_count": 236,
      "outputs": [
        {
          "output_type": "execute_result",
          "data": {
            "text/plain": [
              "<matplotlib.legend.Legend at 0x7f169b3c2450>"
            ]
          },
          "metadata": {},
          "execution_count": 236
        },
        {
          "output_type": "display_data",
          "data": {
            "text/plain": [
              "<Figure size 432x288 with 1 Axes>"
            ],
            "image/png": "[encoded data removed]"
          },
          "metadata": {
            "needs_background": "light"
          }
        }
      ]
    },
    {
      "cell_type": "markdown",
      "source": [
        "- 모델의 최대 깊이가 증가하면서 train 데이터에 대해 모델의 성능이 향상된다.\n",
        "- test 데이터에 대해서는 모델의 성능이 감소하였다가 증가한 후 상태를 유지한다.\n",
        "- TestScore가 0.989이고 TrainScore가 0.986인 **max_depth = 3**를 파라미터로 설정한다. "
      ],
      "metadata": {
        "id": "whegepiUyqap"
      }
    },
    {
      "cell_type": "markdown",
      "source": [
        "### **모델 파라미터 설정하기 : min_samples_split**"
      ],
      "metadata": {
        "id": "zy83NFh9yqap"
      }
    },
    {
      "cell_type": "code",
      "source": [
        "train_accuracy = []; test_accuracy = []\n",
        "para_split = [n_split * 10 for n_split in range(1,11)]\n",
        "\n",
        "for v_min_samples_split in para_split :\n",
        "    rf = RandomForestClassifier(random_state = 1234,\n",
        "                                n_estimators = 10,\n",
        "                                max_depth = 3,\n",
        "                                min_samples_split = v_min_samples_split)\n",
        "    rf.fit(df_train_x, df_train_y)\n",
        "    train_accuracy.append(rf.score(df_train_x, df_train_y))\n",
        "    test_accuracy.append(rf.score(df_test_x, df_test_y))\n",
        "\n",
        "df_accuracy_split = pd.DataFrame()\n",
        "df_accuracy_split['MinSampleSplit'] = para_split\n",
        "df_accuracy_split['TrainAccuracy'] = train_accuracy\n",
        "df_accuracy_split['TestAccuracy'] = test_accuracy"
      ],
      "metadata": {
        "id": "evbkHyRmyqap"
      },
      "execution_count": 252,
      "outputs": []
    },
    {
      "cell_type": "code",
      "source": [
        "df_accuracy_split.round(3)"
      ],
      "metadata": {
        "colab": {
          "base_uri": "https://localhost:8080/",
          "height": 363
        },
        "outputId": "b8c2fc90-14f1-47f8-c4f1-c72c8c74aff6",
        "id": "lB2THEntyqap"
      },
      "execution_count": 253,
      "outputs": [
        {
          "output_type": "execute_result",
          "data": {
            "text/plain": [
              "   MinSampleSplit  TrainAccuracy  TestAccuracy\n",
              "0              10          0.986         0.989\n",
              "1              20          0.978         0.978\n",
              "2              30          0.978         0.978\n",
              "3              40          0.964         0.978\n",
              "4              50          0.942         0.967\n",
              "5              60          0.949         0.978\n",
              "6              70          0.949         0.978\n",
              "7              80          0.949         0.978\n",
              "8              90          0.913         0.924\n",
              "9             100          0.522         0.467"
            ],
            "text/html": [
              "\n",
              "  <div id=\"df-13a4d4b9-ff53-465e-b4bb-55b4b733c3f1\">\n",
              "    <div class=\"colab-df-container\">\n",
              "      <div>\n",
              "<style scoped>\n",
              "    .dataframe tbody tr th:only-of-type {\n",
              "        vertical-align: middle;\n",
              "    }\n",
              "\n",
              "    .dataframe tbody tr th {\n",
              "        vertical-align: top;\n",
              "    }\n",
              "\n",
              "    .dataframe thead th {\n",
              "        text-align: right;\n",
              "    }\n",
              "</style>\n",
              "<table border=\"1\" class=\"dataframe\">\n",
              "  <thead>\n",
              "    <tr style=\"text-align: right;\">\n",
              "      <th></th>\n",
              "      <th>MinSampleSplit</th>\n",
              "      <th>TrainAccuracy</th>\n",
              "      <th>TestAccuracy</th>\n",
              "    </tr>\n",
              "  </thead>\n",
              "  <tbody>\n",
              "    <tr>\n",
              "      <th>0</th>\n",
              "      <td>10</td>\n",
              "      <td>0.986</td>\n",
              "      <td>0.989</td>\n",
              "    </tr>\n",
              "    <tr>\n",
              "      <th>1</th>\n",
              "      <td>20</td>\n",
              "      <td>0.978</td>\n",
              "      <td>0.978</td>\n",
              "    </tr>\n",
              "    <tr>\n",
              "      <th>2</th>\n",
              "      <td>30</td>\n",
              "      <td>0.978</td>\n",
              "      <td>0.978</td>\n",
              "    </tr>\n",
              "    <tr>\n",
              "      <th>3</th>\n",
              "      <td>40</td>\n",
              "      <td>0.964</td>\n",
              "      <td>0.978</td>\n",
              "    </tr>\n",
              "    <tr>\n",
              "      <th>4</th>\n",
              "      <td>50</td>\n",
              "      <td>0.942</td>\n",
              "      <td>0.967</td>\n",
              "    </tr>\n",
              "    <tr>\n",
              "      <th>5</th>\n",
              "      <td>60</td>\n",
              "      <td>0.949</td>\n",
              "      <td>0.978</td>\n",
              "    </tr>\n",
              "    <tr>\n",
              "      <th>6</th>\n",
              "      <td>70</td>\n",
              "      <td>0.949</td>\n",
              "      <td>0.978</td>\n",
              "    </tr>\n",
              "    <tr>\n",
              "      <th>7</th>\n",
              "      <td>80</td>\n",
              "      <td>0.949</td>\n",
              "      <td>0.978</td>\n",
              "    </tr>\n",
              "    <tr>\n",
              "      <th>8</th>\n",
              "      <td>90</td>\n",
              "      <td>0.913</td>\n",
              "      <td>0.924</td>\n",
              "    </tr>\n",
              "    <tr>\n",
              "      <th>9</th>\n",
              "      <td>100</td>\n",
              "      <td>0.522</td>\n",
              "      <td>0.467</td>\n",
              "    </tr>\n",
              "  </tbody>\n",
              "</table>\n",
              "</div>\n",
              "      <button class=\"colab-df-convert\" onclick=\"convertToInteractive('df-13a4d4b9-ff53-465e-b4bb-55b4b733c3f1')\"\n",
              "              title=\"Convert this dataframe to an interactive table.\"\n",
              "              style=\"display:none;\">\n",
              "        \n",
              "  <svg xmlns=\"http://www.w3.org/2000/svg\" height=\"24px\"viewBox=\"0 0 24 24\"\n",
              "       width=\"24px\">\n",
              "    <path d=\"M0 0h24v24H0V0z\" fill=\"none\"/>\n",
              "    <path d=\"M18.56 5.44l.94 2.06.94-2.06 2.06-.94-2.06-.94-.94-2.06-.94 2.06-2.06.94zm-11 1L8.5 8.5l.94-2.06 2.06-.94-2.06-.94L8.5 2.5l-.94 2.06-2.06.94zm10 10l.94 2.06.94-2.06 2.06-.94-2.06-.94-.94-2.06-.94 2.06-2.06.94z\"/><path d=\"M17.41 7.96l-1.37-1.37c-.4-.4-.92-.59-1.43-.59-.52 0-1.04.2-1.43.59L10.3 9.45l-7.72 7.72c-.78.78-.78 2.05 0 2.83L4 21.41c.39.39.9.59 1.41.59.51 0 1.02-.2 1.41-.59l7.78-7.78 2.81-2.81c.8-.78.8-2.07 0-2.86zM5.41 20L4 18.59l7.72-7.72 1.47 1.35L5.41 20z\"/>\n",
              "  </svg>\n",
              "      </button>\n",
              "      \n",
              "  <style>\n",
              "    .colab-df-container {\n",
              "      display:flex;\n",
              "      flex-wrap:wrap;\n",
              "      gap: 12px;\n",
              "    }\n",
              "\n",
              "    .colab-df-convert {\n",
              "      background-color: #E8F0FE;\n",
              "      border: none;\n",
              "      border-radius: 50%;\n",
              "      cursor: pointer;\n",
              "      display: none;\n",
              "      fill: #1967D2;\n",
              "      height: 32px;\n",
              "      padding: 0 0 0 0;\n",
              "      width: 32px;\n",
              "    }\n",
              "\n",
              "    .colab-df-convert:hover {\n",
              "      background-color: #E2EBFA;\n",
              "      box-shadow: 0px 1px 2px rgba(60, 64, 67, 0.3), 0px 1px 3px 1px rgba(60, 64, 67, 0.15);\n",
              "      fill: #174EA6;\n",
              "    }\n",
              "\n",
              "    [theme=dark] .colab-df-convert {\n",
              "      background-color: #3B4455;\n",
              "      fill: #D2E3FC;\n",
              "    }\n",
              "\n",
              "    [theme=dark] .colab-df-convert:hover {\n",
              "      background-color: #434B5C;\n",
              "      box-shadow: 0px 1px 3px 1px rgba(0, 0, 0, 0.15);\n",
              "      filter: drop-shadow(0px 1px 2px rgba(0, 0, 0, 0.3));\n",
              "      fill: #FFFFFF;\n",
              "    }\n",
              "  </style>\n",
              "\n",
              "      <script>\n",
              "        const buttonEl =\n",
              "          document.querySelector('#df-13a4d4b9-ff53-465e-b4bb-55b4b733c3f1 button.colab-df-convert');\n",
              "        buttonEl.style.display =\n",
              "          google.colab.kernel.accessAllowed ? 'block' : 'none';\n",
              "\n",
              "        async function convertToInteractive(key) {\n",
              "          const element = document.querySelector('#df-13a4d4b9-ff53-465e-b4bb-55b4b733c3f1');\n",
              "          const dataTable =\n",
              "            await google.colab.kernel.invokeFunction('convertToInteractive',\n",
              "                                                     [key], {});\n",
              "          if (!dataTable) return;\n",
              "\n",
              "          const docLinkHtml = 'Like what you see? Visit the ' +\n",
              "            '<a target=\"_blank\" href=https://colab.research.google.com/notebooks/data_table.ipynb>data table notebook</a>'\n",
              "            + ' to learn more about interactive tables.';\n",
              "          element.innerHTML = '';\n",
              "          dataTable['output_type'] = 'display_data';\n",
              "          await google.colab.output.renderOutput(dataTable, element);\n",
              "          const docLink = document.createElement('div');\n",
              "          docLink.innerHTML = docLinkHtml;\n",
              "          element.appendChild(docLink);\n",
              "        }\n",
              "      </script>\n",
              "    </div>\n",
              "  </div>\n",
              "  "
            ]
          },
          "metadata": {},
          "execution_count": 253
        }
      ]
    },
    {
      "cell_type": "code",
      "source": [
        "plt.plot(para_split, train_accuracy, linestyle = '-', label = 'Train Accuracy')\n",
        "plt.plot(para_split, test_accuracy, linestyle = '-', label = 'Test Accuracy')\n",
        "plt.ylabel('Accuracy'); plt.xlabel('MinSamplesSplit')\n",
        "plt.legend()"
      ],
      "metadata": {
        "colab": {
          "base_uri": "https://localhost:8080/",
          "height": 297
        },
        "outputId": "2abd4cc3-6894-4f03-f8fe-e5892db9771d",
        "id": "n9Bhn8OGyqaq"
      },
      "execution_count": 254,
      "outputs": [
        {
          "output_type": "execute_result",
          "data": {
            "text/plain": [
              "<matplotlib.legend.Legend at 0x7f169b593690>"
            ]
          },
          "metadata": {},
          "execution_count": 254
        },
        {
          "output_type": "display_data",
          "data": {
            "text/plain": [
              "<Figure size 432x288 with 1 Axes>"
            ],
            "image/png": "[encoded data removed]"
          },
          "metadata": {
            "needs_background": "light"
          }
        }
      ]
    },
    {
      "cell_type": "markdown",
      "source": [
        "- 분리 노드의 최소 샘플 수가 증가할수록 모델의 성능에 변화가 없다가 80에서 급격하게 감소한다.\n",
        "- TestScore가 0.989이고 TrainScore가 0.986인 **min_samples_split = 10**를 파라미터로 설정한다. "
      ],
      "metadata": {
        "id": "EA-9rNRoyqaq"
      }
    },
    {
      "cell_type": "markdown",
      "source": [
        "### **모델 파라미터 설정하기 : min_samples_leaf**"
      ],
      "metadata": {
        "id": "hrI-37Ifyqaq"
      }
    },
    {
      "cell_type": "code",
      "source": [
        "train_accuracy = []; test_accuracy = []\n",
        "para_leaf = [n_leaf * 10 for n_leaf in range(1,11)]\n",
        "\n",
        "for v_min_samples_leaf in para_leaf :\n",
        "    rf = RandomForestClassifier(random_state = 1234,\n",
        "                                n_estimators = 10,\n",
        "                                max_depth = 3,\n",
        "                                min_samples_split = 10,\n",
        "                                min_samples_leaf = v_min_samples_leaf)\n",
        "    rf.fit(df_train_x, df_train_y)\n",
        "    train_accuracy.append(rf.score(df_train_x, df_train_y))\n",
        "    test_accuracy.append(rf.score(df_test_x, df_test_y))\n",
        "\n",
        "df_accuracy_leaf = pd.DataFrame()\n",
        "df_accuracy_leaf['MinSampleLeaf'] = para_leaf\n",
        "df_accuracy_leaf['TrainAccuracy'] = train_accuracy\n",
        "df_accuracy_leaf['TestAccuracy'] = test_accuracy"
      ],
      "metadata": {
        "id": "xRoTcx4Vyqaq"
      },
      "execution_count": 255,
      "outputs": []
    },
    {
      "cell_type": "code",
      "source": [
        "df_accuracy_leaf.round(3)"
      ],
      "metadata": {
        "colab": {
          "base_uri": "https://localhost:8080/",
          "height": 363
        },
        "outputId": "c985b4d3-218a-400d-8c1d-705a86eefd58",
        "id": "yvJkJtPAyqar"
      },
      "execution_count": 256,
      "outputs": [
        {
          "output_type": "execute_result",
          "data": {
            "text/plain": [
              "   MinSampleLeaf  TrainAccuracy  TestAccuracy\n",
              "0             10          0.957         0.978\n",
              "1             20          0.957         0.978\n",
              "2             30          0.949         0.978\n",
              "3             40          0.935         0.978\n",
              "4             50          0.522         0.467\n",
              "5             60          0.522         0.467\n",
              "6             70          0.522         0.467\n",
              "7             80          0.522         0.467\n",
              "8             90          0.522         0.467\n",
              "9            100          0.522         0.467"
            ],
            "text/html": [
              "\n",
              "  <div id=\"df-3c6bee86-4751-44a3-b613-552520da42eb\">\n",
              "    <div class=\"colab-df-container\">\n",
              "      <div>\n",
              "<style scoped>\n",
              "    .dataframe tbody tr th:only-of-type {\n",
              "        vertical-align: middle;\n",
              "    }\n",
              "\n",
              "    .dataframe tbody tr th {\n",
              "        vertical-align: top;\n",
              "    }\n",
              "\n",
              "    .dataframe thead th {\n",
              "        text-align: right;\n",
              "    }\n",
              "</style>\n",
              "<table border=\"1\" class=\"dataframe\">\n",
              "  <thead>\n",
              "    <tr style=\"text-align: right;\">\n",
              "      <th></th>\n",
              "      <th>MinSampleLeaf</th>\n",
              "      <th>TrainAccuracy</th>\n",
              "      <th>TestAccuracy</th>\n",
              "    </tr>\n",
              "  </thead>\n",
              "  <tbody>\n",
              "    <tr>\n",
              "      <th>0</th>\n",
              "      <td>10</td>\n",
              "      <td>0.957</td>\n",
              "      <td>0.978</td>\n",
              "    </tr>\n",
              "    <tr>\n",
              "      <th>1</th>\n",
              "      <td>20</td>\n",
              "      <td>0.957</td>\n",
              "      <td>0.978</td>\n",
              "    </tr>\n",
              "    <tr>\n",
              "      <th>2</th>\n",
              "      <td>30</td>\n",
              "      <td>0.949</td>\n",
              "      <td>0.978</td>\n",
              "    </tr>\n",
              "    <tr>\n",
              "      <th>3</th>\n",
              "      <td>40</td>\n",
              "      <td>0.935</td>\n",
              "      <td>0.978</td>\n",
              "    </tr>\n",
              "    <tr>\n",
              "      <th>4</th>\n",
              "      <td>50</td>\n",
              "      <td>0.522</td>\n",
              "      <td>0.467</td>\n",
              "    </tr>\n",
              "    <tr>\n",
              "      <th>5</th>\n",
              "      <td>60</td>\n",
              "      <td>0.522</td>\n",
              "      <td>0.467</td>\n",
              "    </tr>\n",
              "    <tr>\n",
              "      <th>6</th>\n",
              "      <td>70</td>\n",
              "      <td>0.522</td>\n",
              "      <td>0.467</td>\n",
              "    </tr>\n",
              "    <tr>\n",
              "      <th>7</th>\n",
              "      <td>80</td>\n",
              "      <td>0.522</td>\n",
              "      <td>0.467</td>\n",
              "    </tr>\n",
              "    <tr>\n",
              "      <th>8</th>\n",
              "      <td>90</td>\n",
              "      <td>0.522</td>\n",
              "      <td>0.467</td>\n",
              "    </tr>\n",
              "    <tr>\n",
              "      <th>9</th>\n",
              "      <td>100</td>\n",
              "      <td>0.522</td>\n",
              "      <td>0.467</td>\n",
              "    </tr>\n",
              "  </tbody>\n",
              "</table>\n",
              "</div>\n",
              "      <button class=\"colab-df-convert\" onclick=\"convertToInteractive('df-3c6bee86-4751-44a3-b613-552520da42eb')\"\n",
              "              title=\"Convert this dataframe to an interactive table.\"\n",
              "              style=\"display:none;\">\n",
              "        \n",
              "  <svg xmlns=\"http://www.w3.org/2000/svg\" height=\"24px\"viewBox=\"0 0 24 24\"\n",
              "       width=\"24px\">\n",
              "    <path d=\"M0 0h24v24H0V0z\" fill=\"none\"/>\n",
              "    <path d=\"M18.56 5.44l.94 2.06.94-2.06 2.06-.94-2.06-.94-.94-2.06-.94 2.06-2.06.94zm-11 1L8.5 8.5l.94-2.06 2.06-.94-2.06-.94L8.5 2.5l-.94 2.06-2.06.94zm10 10l.94 2.06.94-2.06 2.06-.94-2.06-.94-.94-2.06-.94 2.06-2.06.94z\"/><path d=\"M17.41 7.96l-1.37-1.37c-.4-.4-.92-.59-1.43-.59-.52 0-1.04.2-1.43.59L10.3 9.45l-7.72 7.72c-.78.78-.78 2.05 0 2.83L4 21.41c.39.39.9.59 1.41.59.51 0 1.02-.2 1.41-.59l7.78-7.78 2.81-2.81c.8-.78.8-2.07 0-2.86zM5.41 20L4 18.59l7.72-7.72 1.47 1.35L5.41 20z\"/>\n",
              "  </svg>\n",
              "      </button>\n",
              "      \n",
              "  <style>\n",
              "    .colab-df-container {\n",
              "      display:flex;\n",
              "      flex-wrap:wrap;\n",
              "      gap: 12px;\n",
              "    }\n",
              "\n",
              "    .colab-df-convert {\n",
              "      background-color: #E8F0FE;\n",
              "      border: none;\n",
              "      border-radius: 50%;\n",
              "      cursor: pointer;\n",
              "      display: none;\n",
              "      fill: #1967D2;\n",
              "      height: 32px;\n",
              "      padding: 0 0 0 0;\n",
              "      width: 32px;\n",
              "    }\n",
              "\n",
              "    .colab-df-convert:hover {\n",
              "      background-color: #E2EBFA;\n",
              "      box-shadow: 0px 1px 2px rgba(60, 64, 67, 0.3), 0px 1px 3px 1px rgba(60, 64, 67, 0.15);\n",
              "      fill: #174EA6;\n",
              "    }\n",
              "\n",
              "    [theme=dark] .colab-df-convert {\n",
              "      background-color: #3B4455;\n",
              "      fill: #D2E3FC;\n",
              "    }\n",
              "\n",
              "    [theme=dark] .colab-df-convert:hover {\n",
              "      background-color: #434B5C;\n",
              "      box-shadow: 0px 1px 3px 1px rgba(0, 0, 0, 0.15);\n",
              "      filter: drop-shadow(0px 1px 2px rgba(0, 0, 0, 0.3));\n",
              "      fill: #FFFFFF;\n",
              "    }\n",
              "  </style>\n",
              "\n",
              "      <script>\n",
              "        const buttonEl =\n",
              "          document.querySelector('#df-3c6bee86-4751-44a3-b613-552520da42eb button.colab-df-convert');\n",
              "        buttonEl.style.display =\n",
              "          google.colab.kernel.accessAllowed ? 'block' : 'none';\n",
              "\n",
              "        async function convertToInteractive(key) {\n",
              "          const element = document.querySelector('#df-3c6bee86-4751-44a3-b613-552520da42eb');\n",
              "          const dataTable =\n",
              "            await google.colab.kernel.invokeFunction('convertToInteractive',\n",
              "                                                     [key], {});\n",
              "          if (!dataTable) return;\n",
              "\n",
              "          const docLinkHtml = 'Like what you see? Visit the ' +\n",
              "            '<a target=\"_blank\" href=https://colab.research.google.com/notebooks/data_table.ipynb>data table notebook</a>'\n",
              "            + ' to learn more about interactive tables.';\n",
              "          element.innerHTML = '';\n",
              "          dataTable['output_type'] = 'display_data';\n",
              "          await google.colab.output.renderOutput(dataTable, element);\n",
              "          const docLink = document.createElement('div');\n",
              "          docLink.innerHTML = docLinkHtml;\n",
              "          element.appendChild(docLink);\n",
              "        }\n",
              "      </script>\n",
              "    </div>\n",
              "  </div>\n",
              "  "
            ]
          },
          "metadata": {},
          "execution_count": 256
        }
      ]
    },
    {
      "cell_type": "code",
      "source": [
        "plt.plot(para_leaf, train_accuracy, linestyle = '-', label = 'Train Accuracy')\n",
        "plt.plot(para_leaf, test_accuracy, linestyle = '-', label = 'Test Accuracy')\n",
        "plt.ylabel('Accuracy'); plt.xlabel('MinSamplesLeaf')\n",
        "plt.legend()"
      ],
      "metadata": {
        "colab": {
          "base_uri": "https://localhost:8080/",
          "height": 300
        },
        "outputId": "fd24b436-db4a-4a13-b043-a684b51645cf",
        "id": "Oe_XKDblyqar"
      },
      "execution_count": 257,
      "outputs": [
        {
          "output_type": "execute_result",
          "data": {
            "text/plain": [
              "<matplotlib.legend.Legend at 0x7f169b194490>"
            ]
          },
          "metadata": {},
          "execution_count": 257
        },
        {
          "output_type": "display_data",
          "data": {
            "text/plain": [
              "<Figure size 432x288 with 1 Axes>"
            ],
            "image/png": "[encoded data removed]"
          },
          "metadata": {
            "needs_background": "light"
          }
        }
      ]
    },
    {
      "cell_type": "markdown",
      "source": [
        "- 리프 노드의 최소 샘플 수가 증가할수록 모델 성능에 변화가 없다가, 60이 되면서 모델 성능이 급격하게 떨어진다.\n",
        "- TestScore가 0.978이고 TrainScore가 0.935인 **min_samples_leaf = 40**를 파라미터로 설정한다. "
      ],
      "metadata": {
        "id": "xp27c9gRyqas"
      }
    },
    {
      "cell_type": "markdown",
      "source": [
        "### **최종 모델 선정**"
      ],
      "metadata": {
        "id": "Q75SRsxXyqas"
      }
    },
    {
      "cell_type": "code",
      "source": [
        "rf_final = RandomForestClassifier(n_estimators = 10,\n",
        "                                  max_depth = 3,\n",
        "                                  min_samples_split = 10,\n",
        "                                  min_samples_leaf = 40,\n",
        "                                  random_state = 1234)\n",
        "\n",
        "rf_final.fit(df_train_x, df_train_y)"
      ],
      "metadata": {
        "colab": {
          "base_uri": "https://localhost:8080/"
        },
        "outputId": "b9847491-bb2a-48ec-8b54-2c6f534665ea",
        "id": "WuuWK2tfyqas"
      },
      "execution_count": 262,
      "outputs": [
        {
          "output_type": "execute_result",
          "data": {
            "text/plain": [
              "RandomForestClassifier(max_depth=3, min_samples_leaf=40, min_samples_split=10,\n",
              "                       n_estimators=10, random_state=1234)"
            ]
          },
          "metadata": {},
          "execution_count": 262
        }
      ]
    },
    {
      "cell_type": "markdown",
      "source": [
        "### **최종 모델 평가**"
      ],
      "metadata": {
        "id": "jl-hwu05yqat"
      }
    },
    {
      "cell_type": "code",
      "source": [
        "y_pred = rf_final.predict(df_test_x)\n",
        "print('Accuracy : {0:.3f}'.format(rf_final.score(df_test_x, df_test_y)))\n",
        "print('Confusion Matrix : \\n{}'.format(confusion_matrix(df_test_y, y_pred)))"
      ],
      "metadata": {
        "colab": {
          "base_uri": "https://localhost:8080/"
        },
        "outputId": "a7f8de79-f6b6-417f-8d0b-96fe3a544c18",
        "id": "TJlPfsXOyqau"
      },
      "execution_count": 263,
      "outputs": [
        {
          "output_type": "stream",
          "name": "stdout",
          "text": [
            "Accuracy : 0.978\n",
            "Confusion Matrix : \n",
            "[[49  0]\n",
            " [ 2 41]]\n"
          ]
        }
      ]
    },
    {
      "cell_type": "markdown",
      "source": [
        "해당 모델은 약 97.8%의 정확도를 보여준다."
      ],
      "metadata": {
        "id": "Edd0R2KzN167"
      }
    },
    {
      "cell_type": "code",
      "source": [
        "print(classification_report(df_test_y, y_pred, digits = 3))"
      ],
      "metadata": {
        "colab": {
          "base_uri": "https://localhost:8080/"
        },
        "outputId": "8cf89ee3-e45a-4896-ca85-4da6fe66713c",
        "id": "nJLfxCEAyqau"
      },
      "execution_count": 264,
      "outputs": [
        {
          "output_type": "stream",
          "name": "stdout",
          "text": [
            "              precision    recall  f1-score   support\n",
            "\n",
            "           0      0.961     1.000     0.980        49\n",
            "           1      1.000     0.953     0.976        43\n",
            "\n",
            "    accuracy                          0.978        92\n",
            "   macro avg      0.980     0.977     0.978        92\n",
            "weighted avg      0.979     0.978     0.978        92\n",
            "\n"
          ]
        }
      ]
    },
    {
      "cell_type": "markdown",
      "source": [
        "- 1에 대한 precision이 각각 0.676이다. 양성이라고 예측한 데이터 중 실제 양성에 해당하는 비율이 다소 낮은 것으로 파악된다.\n",
        "- 1에 대한 recall이 각각 0.742이다. 실제 양성 중 양성으로 분류된 데이터의 개수가 양호한 것으로 보인다.\n",
        "- 1에 대한 f1 score가 각각 0.708이다. 모델의 전체적인 분류 성능이 양호한 것으로 해석된다."
      ],
      "metadata": {
        "id": "uca6dFAhyqau"
      }
    },
    {
      "cell_type": "markdown",
      "source": [
        "### **설명변수의 중요도 확인**"
      ],
      "metadata": {
        "id": "cXEH36tQyqau"
      }
    },
    {
      "cell_type": "code",
      "source": [
        "df_importance = pd.DataFrame()\n",
        "df_importance['Feature'] = v_feature_name\n",
        "df_importance['Importance'] = rf_final.feature_importances_\n",
        "\n",
        "df_importance.sort_values('Importance', ascending = False, inplace = True)\n",
        "df_importance.round(3).head(5)"
      ],
      "metadata": {
        "colab": {
          "base_uri": "https://localhost:8080/",
          "height": 206
        },
        "outputId": "8c40e20a-56ab-489d-ce5c-6d89781a778d",
        "id": "stwCx91uyqau"
      },
      "execution_count": 268,
      "outputs": [
        {
          "output_type": "execute_result",
          "data": {
            "text/plain": [
              "                Feature  Importance\n",
              "22      worst_perimeter         0.2\n",
              "7   mean_concave_points         0.2\n",
              "0           mean_radius         0.1\n",
              "5      mean_compactness         0.1\n",
              "6        mean_concavity         0.1"
            ],
            "text/html": [
              "\n",
              "  <div id=\"df-48c79c77-3680-47f2-b20d-8467bbb81a9a\">\n",
              "    <div class=\"colab-df-container\">\n",
              "      <div>\n",
              "<style scoped>\n",
              "    .dataframe tbody tr th:only-of-type {\n",
              "        vertical-align: middle;\n",
              "    }\n",
              "\n",
              "    .dataframe tbody tr th {\n",
              "        vertical-align: top;\n",
              "    }\n",
              "\n",
              "    .dataframe thead th {\n",
              "        text-align: right;\n",
              "    }\n",
              "</style>\n",
              "<table border=\"1\" class=\"dataframe\">\n",
              "  <thead>\n",
              "    <tr style=\"text-align: right;\">\n",
              "      <th></th>\n",
              "      <th>Feature</th>\n",
              "      <th>Importance</th>\n",
              "    </tr>\n",
              "  </thead>\n",
              "  <tbody>\n",
              "    <tr>\n",
              "      <th>22</th>\n",
              "      <td>worst_perimeter</td>\n",
              "      <td>0.2</td>\n",
              "    </tr>\n",
              "    <tr>\n",
              "      <th>7</th>\n",
              "      <td>mean_concave_points</td>\n",
              "      <td>0.2</td>\n",
              "    </tr>\n",
              "    <tr>\n",
              "      <th>0</th>\n",
              "      <td>mean_radius</td>\n",
              "      <td>0.1</td>\n",
              "    </tr>\n",
              "    <tr>\n",
              "      <th>5</th>\n",
              "      <td>mean_compactness</td>\n",
              "      <td>0.1</td>\n",
              "    </tr>\n",
              "    <tr>\n",
              "      <th>6</th>\n",
              "      <td>mean_concavity</td>\n",
              "      <td>0.1</td>\n",
              "    </tr>\n",
              "  </tbody>\n",
              "</table>\n",
              "</div>\n",
              "      <button class=\"colab-df-convert\" onclick=\"convertToInteractive('df-48c79c77-3680-47f2-b20d-8467bbb81a9a')\"\n",
              "              title=\"Convert this dataframe to an interactive table.\"\n",
              "              style=\"display:none;\">\n",
              "        \n",
              "  <svg xmlns=\"http://www.w3.org/2000/svg\" height=\"24px\"viewBox=\"0 0 24 24\"\n",
              "       width=\"24px\">\n",
              "    <path d=\"M0 0h24v24H0V0z\" fill=\"none\"/>\n",
              "    <path d=\"M18.56 5.44l.94 2.06.94-2.06 2.06-.94-2.06-.94-.94-2.06-.94 2.06-2.06.94zm-11 1L8.5 8.5l.94-2.06 2.06-.94-2.06-.94L8.5 2.5l-.94 2.06-2.06.94zm10 10l.94 2.06.94-2.06 2.06-.94-2.06-.94-.94-2.06-.94 2.06-2.06.94z\"/><path d=\"M17.41 7.96l-1.37-1.37c-.4-.4-.92-.59-1.43-.59-.52 0-1.04.2-1.43.59L10.3 9.45l-7.72 7.72c-.78.78-.78 2.05 0 2.83L4 21.41c.39.39.9.59 1.41.59.51 0 1.02-.2 1.41-.59l7.78-7.78 2.81-2.81c.8-.78.8-2.07 0-2.86zM5.41 20L4 18.59l7.72-7.72 1.47 1.35L5.41 20z\"/>\n",
              "  </svg>\n",
              "      </button>\n",
              "      \n",
              "  <style>\n",
              "    .colab-df-container {\n",
              "      display:flex;\n",
              "      flex-wrap:wrap;\n",
              "      gap: 12px;\n",
              "    }\n",
              "\n",
              "    .colab-df-convert {\n",
              "      background-color: #E8F0FE;\n",
              "      border: none;\n",
              "      border-radius: 50%;\n",
              "      cursor: pointer;\n",
              "      display: none;\n",
              "      fill: #1967D2;\n",
              "      height: 32px;\n",
              "      padding: 0 0 0 0;\n",
              "      width: 32px;\n",
              "    }\n",
              "\n",
              "    .colab-df-convert:hover {\n",
              "      background-color: #E2EBFA;\n",
              "      box-shadow: 0px 1px 2px rgba(60, 64, 67, 0.3), 0px 1px 3px 1px rgba(60, 64, 67, 0.15);\n",
              "      fill: #174EA6;\n",
              "    }\n",
              "\n",
              "    [theme=dark] .colab-df-convert {\n",
              "      background-color: #3B4455;\n",
              "      fill: #D2E3FC;\n",
              "    }\n",
              "\n",
              "    [theme=dark] .colab-df-convert:hover {\n",
              "      background-color: #434B5C;\n",
              "      box-shadow: 0px 1px 3px 1px rgba(0, 0, 0, 0.15);\n",
              "      filter: drop-shadow(0px 1px 2px rgba(0, 0, 0, 0.3));\n",
              "      fill: #FFFFFF;\n",
              "    }\n",
              "  </style>\n",
              "\n",
              "      <script>\n",
              "        const buttonEl =\n",
              "          document.querySelector('#df-48c79c77-3680-47f2-b20d-8467bbb81a9a button.colab-df-convert');\n",
              "        buttonEl.style.display =\n",
              "          google.colab.kernel.accessAllowed ? 'block' : 'none';\n",
              "\n",
              "        async function convertToInteractive(key) {\n",
              "          const element = document.querySelector('#df-48c79c77-3680-47f2-b20d-8467bbb81a9a');\n",
              "          const dataTable =\n",
              "            await google.colab.kernel.invokeFunction('convertToInteractive',\n",
              "                                                     [key], {});\n",
              "          if (!dataTable) return;\n",
              "\n",
              "          const docLinkHtml = 'Like what you see? Visit the ' +\n",
              "            '<a target=\"_blank\" href=https://colab.research.google.com/notebooks/data_table.ipynb>data table notebook</a>'\n",
              "            + ' to learn more about interactive tables.';\n",
              "          element.innerHTML = '';\n",
              "          dataTable['output_type'] = 'display_data';\n",
              "          await google.colab.output.renderOutput(dataTable, element);\n",
              "          const docLink = document.createElement('div');\n",
              "          docLink.innerHTML = docLinkHtml;\n",
              "          element.appendChild(docLink);\n",
              "        }\n",
              "      </script>\n",
              "    </div>\n",
              "  </div>\n",
              "  "
            ]
          },
          "metadata": {},
          "execution_count": 268
        }
      ]
    },
    {
      "cell_type": "code",
      "source": [
        "df_importance.sort_values('Importance', ascending = True, inplace = True)\n",
        "coordinates = range(len(df_importance))\n",
        "\n",
        "plt.barh(y = coordinates, width = df_importance['Importance'])\n",
        "plt.yticks(coordinates, df_importance['Feature'])\n",
        "plt.xlabel('설명변수 중요도')\n",
        "plt.ylabel('설명변수')"
      ],
      "metadata": {
        "colab": {
          "base_uri": "https://localhost:8080/",
          "height": 787
        },
        "outputId": "e27deaa1-6b78-4e6f-e4e3-335e27182ffc",
        "id": "c4cYiAZmyqav"
      },
      "execution_count": 167,
      "outputs": [
        {
          "output_type": "execute_result",
          "data": {
            "text/plain": [
              "Text(0, 0.5, '설명변수')"
            ]
          },
          "metadata": {},
          "execution_count": 167
        },
        {
          "output_type": "stream",
          "name": "stderr",
          "text": [
            "/usr/local/lib/python3.7/dist-packages/matplotlib/backends/backend_agg.py:214: RuntimeWarning: Glyph 49444 missing from current font.\n",
            "  font.set_text(s, 0.0, flags=flags)\n",
            "/usr/local/lib/python3.7/dist-packages/matplotlib/backends/backend_agg.py:214: RuntimeWarning: Glyph 47749 missing from current font.\n",
            "  font.set_text(s, 0.0, flags=flags)\n",
            "/usr/local/lib/python3.7/dist-packages/matplotlib/backends/backend_agg.py:214: RuntimeWarning: Glyph 48320 missing from current font.\n",
            "  font.set_text(s, 0.0, flags=flags)\n",
            "/usr/local/lib/python3.7/dist-packages/matplotlib/backends/backend_agg.py:214: RuntimeWarning: Glyph 49688 missing from current font.\n",
            "  font.set_text(s, 0.0, flags=flags)\n",
            "/usr/local/lib/python3.7/dist-packages/matplotlib/backends/backend_agg.py:214: RuntimeWarning: Glyph 51473 missing from current font.\n",
            "  font.set_text(s, 0.0, flags=flags)\n",
            "/usr/local/lib/python3.7/dist-packages/matplotlib/backends/backend_agg.py:214: RuntimeWarning: Glyph 50836 missing from current font.\n",
            "  font.set_text(s, 0.0, flags=flags)\n",
            "/usr/local/lib/python3.7/dist-packages/matplotlib/backends/backend_agg.py:214: RuntimeWarning: Glyph 46020 missing from current font.\n",
            "  font.set_text(s, 0.0, flags=flags)\n",
            "/usr/local/lib/python3.7/dist-packages/matplotlib/backends/backend_agg.py:183: RuntimeWarning: Glyph 49444 missing from current font.\n",
            "  font.set_text(s, 0, flags=flags)\n",
            "/usr/local/lib/python3.7/dist-packages/matplotlib/backends/backend_agg.py:183: RuntimeWarning: Glyph 47749 missing from current font.\n",
            "  font.set_text(s, 0, flags=flags)\n",
            "/usr/local/lib/python3.7/dist-packages/matplotlib/backends/backend_agg.py:183: RuntimeWarning: Glyph 48320 missing from current font.\n",
            "  font.set_text(s, 0, flags=flags)\n",
            "/usr/local/lib/python3.7/dist-packages/matplotlib/backends/backend_agg.py:183: RuntimeWarning: Glyph 49688 missing from current font.\n",
            "  font.set_text(s, 0, flags=flags)\n",
            "/usr/local/lib/python3.7/dist-packages/matplotlib/backends/backend_agg.py:183: RuntimeWarning: Glyph 51473 missing from current font.\n",
            "  font.set_text(s, 0, flags=flags)\n",
            "/usr/local/lib/python3.7/dist-packages/matplotlib/backends/backend_agg.py:183: RuntimeWarning: Glyph 50836 missing from current font.\n",
            "  font.set_text(s, 0, flags=flags)\n",
            "/usr/local/lib/python3.7/dist-packages/matplotlib/backends/backend_agg.py:183: RuntimeWarning: Glyph 46020 missing from current font.\n",
            "  font.set_text(s, 0, flags=flags)\n"
          ]
        },
        {
          "output_type": "display_data",
          "data": {
            "text/plain": [
              "<Figure size 432x288 with 1 Axes>"
            ],
            "image/png": "[encoded data removed]"
          },
          "metadata": {
            "needs_background": "light"
          }
        }
      ]
    },
    {
      "cell_type": "markdown",
      "source": [
        "트리를 생성할 때 worst_concave_points가 중요하게 고려된다는 것을 확인할 수 있다."
      ],
      "metadata": {
        "id": "6aq32S31yqav"
      }
    }
  ]
}