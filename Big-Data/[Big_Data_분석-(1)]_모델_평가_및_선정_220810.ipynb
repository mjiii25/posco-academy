{
  "nbformat": 4,
  "nbformat_minor": 0,
  "metadata": {
    "colab": {
      "name": "[BIg Data 분석-(1)] 모델 평가 및 선정 - 220810.ipynb",
      "provenance": [],
      "collapsed_sections": []
    },
    "kernelspec": {
      "name": "python3",
      "display_name": "Python 3"
    },
    "language_info": {
      "name": "python"
    }
  },
  "cells": [
    {
      "cell_type": "code",
      "source": [
        "from google.colab import drive\n",
        "drive.mount('/content/drive')"
      ],
      "metadata": {
        "colab": {
          "base_uri": "https://localhost:8080/"
        },
        "id": "byYGBkbZA5ST",
        "outputId": "593d48e4-5dc8-4ee7-bad5-b9f7ba618599"
      },
      "execution_count": 1,
      "outputs": [
        {
          "output_type": "stream",
          "name": "stdout",
          "text": [
            "Drive already mounted at /content/drive; to attempt to forcibly remount, call drive.mount(\"/content/drive\", force_remount=True).\n"
          ]
        }
      ]
    },
    {
      "cell_type": "code",
      "execution_count": 2,
      "metadata": {
        "colab": {
          "base_uri": "https://localhost:8080/"
        },
        "id": "aKuMj2t67es8",
        "outputId": "291a5e05-9680-474d-9c30-14271cee2a91"
      },
      "outputs": [
        {
          "output_type": "stream",
          "name": "stderr",
          "text": [
            "/usr/local/lib/python3.7/dist-packages/statsmodels/tools/_testing.py:19: FutureWarning: pandas.util.testing is deprecated. Use the functions in the public API at pandas.testing instead.\n",
            "  import pandas.util.testing as tm\n"
          ]
        }
      ],
      "source": [
        "# 데이터 구성:Series, DataFrame\n",
        "import pandas as pd\n",
        "import numpy as np\n",
        " \n",
        "# 데이터 시각화\n",
        "import matplotlib.pyplot as plt\n",
        "import matplotlib\n",
        " \n",
        "# 데이터 분할:train, test\n",
        "from sklearn.model_selection import train_test_split\n",
        " \n",
        "# 회귀분석\n",
        "import statsmodels.formula.api as smf\n",
        " \n",
        "# Decision Tree\n",
        "from sklearn.tree import DecisionTreeRegressor\n",
        " \n",
        "# Random Forest\n",
        "from sklearn.ensemble import RandomForestRegressor\n",
        " \n",
        "# Gradient Boosting\n",
        "from sklearn.ensemble import GradientBoostingRegressor\n",
        " \n",
        "# 평가 함수\n",
        "from sklearn.metrics import mean_squared_error\n",
        "from sklearn.metrics import mean_absolute_error\n"
      ]
    },
    {
      "cell_type": "code",
      "source": [
        "# !sudo apt-get install -y fonts-nanum\n",
        "# !sudo fc-cache -fv\n",
        "# !rm ~/.cache/matplotlib -rf"
      ],
      "metadata": {
        "id": "8m0i6hLMJK0E"
      },
      "execution_count": 3,
      "outputs": []
    },
    {
      "cell_type": "code",
      "source": [
        "# matplotlib.rc('font', family = 'Malgun Gothic')\n",
        "# matplotlib('axes', unicode_minus = False)"
      ],
      "metadata": {
        "id": "2Nm7rwh3IwKc"
      },
      "execution_count": 4,
      "outputs": []
    },
    {
      "cell_type": "code",
      "source": [
        "# RMSE:root mean squared error 함수\n",
        "def root_mean_squared_error(y_true, y_pred):\n",
        "    return np.sqrt(mean_squared_error(y_true, y_pred))\n",
        " \n",
        "# MAPE:mean absolute percentage error 함수\n",
        "def mean_absolute_percentage_error(y_true, y_pred):\n",
        "    return np.mean(np.abs((y_true - y_pred) / y_true)) * 100"
      ],
      "metadata": {
        "id": "oSQ76aI6_EDl"
      },
      "execution_count": 7,
      "outputs": []
    },
    {
      "cell_type": "markdown",
      "source": [
        "### 연습 (187쪽)"
      ],
      "metadata": {
        "id": "tYF3Vn_1-3OO"
      }
    },
    {
      "cell_type": "code",
      "source": [
        "df_raw = pd.read_csv('/content/drive/MyDrive/체질검사.csv')"
      ],
      "metadata": {
        "id": "B1PoeB3e-7M6"
      },
      "execution_count": 5,
      "outputs": []
    },
    {
      "cell_type": "code",
      "source": [
        "df_raw_y = df_raw['FAT']\n",
        "df_raw_x = df_raw.drop('FAT', axis = 1, inplace = False)"
      ],
      "metadata": {
        "id": "fa3LatCnC9ub"
      },
      "execution_count": 6,
      "outputs": []
    },
    {
      "cell_type": "code",
      "source": [
        "df_train_x, df_test_x, df_train_y, df_test_y = train_test_split(df_raw_x, df_raw_y, test_size = 0.3, random_state = 1234)"
      ],
      "metadata": {
        "id": "5bhpJfuuCm_k"
      },
      "execution_count": 8,
      "outputs": []
    },
    {
      "cell_type": "code",
      "source": [
        "print(df_train_x.shape)\n",
        "print(df_train_y.shape)\n",
        "print(df_test_x.shape)\n",
        "print(df_test_y.shape)"
      ],
      "metadata": {
        "colab": {
          "base_uri": "https://localhost:8080/"
        },
        "id": "_aDVhKu2D_E5",
        "outputId": "309f3489-918e-4161-d25f-28e353b017e7"
      },
      "execution_count": 9,
      "outputs": [
        {
          "output_type": "stream",
          "name": "stdout",
          "text": [
            "(176, 13)\n",
            "(176,)\n",
            "(76, 13)\n",
            "(76,)\n"
          ]
        }
      ]
    },
    {
      "cell_type": "markdown",
      "source": [
        "**예측 모델 생성**"
      ],
      "metadata": {
        "id": "WRMd76x1CQCS"
      }
    },
    {
      "cell_type": "code",
      "source": [
        "# 회귀 모델\n",
        "lr_model = smf.ols(formula = \"FAT ~ NECK + ABDOMEN + HIP + FOREARM + WRIST\", data = df_raw)\n",
        "lr_result = lr_model.fit()\n",
        "print(lr_result.summary())\n",
        " \n",
        "# Decision Tree\n",
        "dt_model = DecisionTreeRegressor(random_state=1234, min_samples_leaf = 8, min_samples_split = 20, max_depth = 4)\n",
        "dt_model.fit(df_train_x, df_train_y)\n",
        " \n",
        "# Random Forest\n",
        "rf_model = RandomForestRegressor(random_state=1234, n_estimators = 100, min_samples_leaf = 6,\n",
        "                                 min_samples_split = 14, max_depth = 4)\n",
        "rf_model.fit(df_train_x, df_train_y)\n",
        " \n",
        "# Gradient Boosting\n",
        "gb_model = GradientBoostingRegressor(random_state=1234, n_estimators = 30, min_samples_leaf = 11, \n",
        "                                     min_samples_split = 22, max_depth = 4, learning_rate = 0.1)\n",
        "gb_model.fit(df_train_x, df_train_y)"
      ],
      "metadata": {
        "colab": {
          "base_uri": "https://localhost:8080/"
        },
        "id": "zZWaW3mECKZA",
        "outputId": "37b078ec-4272-4aa8-a0b6-ff221d7336f6"
      },
      "execution_count": 10,
      "outputs": [
        {
          "output_type": "stream",
          "name": "stdout",
          "text": [
            "                            OLS Regression Results                            \n",
            "==============================================================================\n",
            "Dep. Variable:                    FAT   R-squared:                       0.731\n",
            "Model:                            OLS   Adj. R-squared:                  0.726\n",
            "Method:                 Least Squares   F-statistic:                     133.8\n",
            "Date:                Wed, 10 Aug 2022   Prob (F-statistic):           4.38e-68\n",
            "Time:                        05:12:45   Log-Likelihood:                -726.92\n",
            "No. Observations:                 252   AIC:                             1466.\n",
            "Df Residuals:                     246   BIC:                             1487.\n",
            "Df Model:                           5                                         \n",
            "Covariance Type:            nonrobust                                         \n",
            "==============================================================================\n",
            "                 coef    std err          t      P>|t|      [0.025      0.975]\n",
            "------------------------------------------------------------------------------\n",
            "Intercept      2.7037      6.231      0.434      0.665      -9.568      14.976\n",
            "NECK          -0.6012      0.215     -2.798      0.006      -1.024      -0.178\n",
            "ABDOMEN        0.9743      0.056     17.301      0.000       0.863       1.085\n",
            "HIP           -0.3316      0.083     -3.977      0.000      -0.496      -0.167\n",
            "FOREARM        0.4095      0.182      2.249      0.025       0.051       0.768\n",
            "WRIST         -1.6180      0.462     -3.503      0.001      -2.528      -0.708\n",
            "==============================================================================\n",
            "Omnibus:                        3.695   Durbin-Watson:                   2.128\n",
            "Prob(Omnibus):                  0.158   Jarque-Bera (JB):                2.745\n",
            "Skew:                           0.107   Prob(JB):                        0.254\n",
            "Kurtosis:                       2.536   Cond. No.                     3.30e+03\n",
            "==============================================================================\n",
            "\n",
            "Warnings:\n",
            "[1] Standard Errors assume that the covariance matrix of the errors is correctly specified.\n",
            "[2] The condition number is large, 3.3e+03. This might indicate that there are\n",
            "strong multicollinearity or other numerical problems.\n"
          ]
        },
        {
          "output_type": "execute_result",
          "data": {
            "text/plain": [
              "GradientBoostingRegressor(max_depth=4, min_samples_leaf=11,\n",
              "                          min_samples_split=22, n_estimators=30,\n",
              "                          random_state=1234)"
            ]
          },
          "metadata": {},
          "execution_count": 10
        }
      ]
    },
    {
      "cell_type": "code",
      "source": [
        "# 예측 및 평가\n",
        "\n",
        "# models = ['회귀분석', '의사결정나무', '랜덤 포레스트', '그래디언트 부스팅']\n",
        "models = ['Regression', 'Decision Tree', 'Random Forest', 'Gradient Boosting']\n",
        "mse, rmse, mae, mape = [], [], [], []"
      ],
      "metadata": {
        "id": "tPOmDmaxEfNV"
      },
      "execution_count": 11,
      "outputs": []
    },
    {
      "cell_type": "code",
      "source": [
        "# 예측\n",
        "\n",
        "lr_y_pred = lr_result.predict(df_test_x)\n",
        "\n",
        "mse.append(mean_squared_error(df_test_y, lr_y_pred))\n",
        "rmse.append(root_mean_squared_error(df_test_y, lr_y_pred))\n",
        "mae.append(mean_absolute_error(df_test_y, lr_y_pred))\n",
        "mape.append(mean_absolute_percentage_error(df_test_y, lr_y_pred))\n",
        "\n",
        "\n",
        "dt_y_pred = dt_model.predict(df_test_x)\n",
        "\n",
        "mse.append(mean_squared_error(df_test_y, dt_y_pred))\n",
        "rmse.append(root_mean_squared_error(df_test_y, dt_y_pred))\n",
        "mae.append(mean_absolute_error(df_test_y, dt_y_pred))\n",
        "mape.append(mean_absolute_percentage_error(df_test_y, dt_y_pred))\n",
        "\n",
        "\n",
        "rf_y_pred = rf_model.predict(df_test_x)\n",
        "\n",
        "mse.append(mean_squared_error(df_test_y, rf_y_pred))\n",
        "rmse.append(root_mean_squared_error(df_test_y, rf_y_pred))\n",
        "mae.append(mean_absolute_error(df_test_y, rf_y_pred))\n",
        "mape.append(mean_absolute_percentage_error(df_test_y, rf_y_pred))\n",
        "\n",
        "\n",
        "gb_y_pred = gb_model.predict(df_test_x)\n",
        "\n",
        "mse.append(mean_squared_error(df_test_y, gb_y_pred))\n",
        "rmse.append(root_mean_squared_error(df_test_y, gb_y_pred))\n",
        "mae.append(mean_absolute_error(df_test_y, gb_y_pred))\n",
        "mape.append(mean_absolute_percentage_error(df_test_y, gb_y_pred))"
      ],
      "metadata": {
        "id": "kJPJtlb1EvT4"
      },
      "execution_count": 12,
      "outputs": []
    },
    {
      "cell_type": "code",
      "source": [
        "# 시각화\n",
        "\n",
        "fig, ax = plt.subplots(2,2, figsize = (13,10))\n",
        "ax[0, 0].bar(models, mse)\n",
        "ax[0, 0].set_title(\"mse\").set_fontsize(15)\n",
        " \n",
        "ax[0, 1].bar(models, rmse)\n",
        "ax[0, 1].set_title(\"rmse\").set_fontsize(15)\n",
        " \n",
        "ax[1, 0].bar(models, mae)\n",
        "ax[1, 0].set_title(\"mae\").set_fontsize(15)\n",
        " \n",
        "ax[1, 1].bar(models, mape)\n",
        "ax[1, 1].set_title(\"mape\").set_fontsize(15)\n"
      ],
      "metadata": {
        "colab": {
          "base_uri": "https://localhost:8080/",
          "height": 609
        },
        "id": "ZbfXTfOXD6u6",
        "outputId": "bf66c89f-28d4-4aeb-c32d-3ca05159813a"
      },
      "execution_count": 13,
      "outputs": [
        {
          "output_type": "display_data",
          "data": {
            "text/plain": [
              "<Figure size 936x720 with 4 Axes>"
            ],
            "image/png": "[encoded data removed]"
          },
          "metadata": {
            "needs_background": "light"
          }
        }
      ]
    },
    {
      "cell_type": "code",
      "source": [
        ""
      ],
      "metadata": {
        "id": "46vSimAVKJ9I"
      },
      "execution_count": null,
      "outputs": []
    }
  ]
}
